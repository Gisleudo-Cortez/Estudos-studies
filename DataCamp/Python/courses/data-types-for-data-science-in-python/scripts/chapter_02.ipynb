{
 "cells": [
  {
   "cell_type": "code",
   "execution_count": 1,
   "metadata": {
    "editable": true,
    "slideshow": {
     "slide_type": ""
    },
    "tags": []
   },
   "outputs": [],
   "source": [
    "# run this to shorten the data import from the files\n",
    "import os\n",
    "cwd = os.path.dirname(os.getcwd())+'/'\n",
    "path_data = os.path.join(os.path.dirname(os.getcwd()), 'datasets/')\n"
   ]
  },
  {
   "cell_type": "code",
   "execution_count": 13,
   "metadata": {},
   "outputs": [],
   "source": [
    "squirrels = [('Marcus Garvey Park', ('Black', 'Cinnamon', 'Cleaning', None)),\n",
    " ('Highbridge Park',\n",
    "  ('Gray',\n",
    "   'Cinnamon',\n",
    "   'Running, Eating',\n",
    "   'Runs From, watches us in short tree')),\n",
    " ('Madison Square Park', ('Gray', None, 'Foraging', 'Indifferent')),\n",
    " ('City Hall Park', ('Gray', 'Cinnamon', 'Eating', 'Approaches')),\n",
    " ('J. Hood Wright Park', ('Gray', 'White', 'Running', 'Indifferent')),\n",
    " ('Seward Park', ('Gray', 'Cinnamon', 'Eating', 'Indifferent')),\n",
    " ('Union Square Park', ('Gray', 'Black', 'Climbing', None)),\n",
    " ('Tompkins Square Park', ('Gray', 'Gray', 'Lounging', 'Approaches'))]"
   ]
  },
  {
   "cell_type": "code",
   "execution_count": 14,
   "metadata": {},
   "outputs": [
    {
     "name": "stdout",
     "output_type": "stream",
     "text": [
      "City Hall Park: ('Gray', 'Cinnamon', 'Eating', 'Approaches')\n",
      "Highbridge Park: ('Gray', 'Cinnamon', 'Running, Eating', 'Runs From, watches us in short tree')\n",
      "J. Hood Wright Park: ('Gray', 'White', 'Running', 'Indifferent')\n",
      "Madison Square Park: ('Gray', None, 'Foraging', 'Indifferent')\n",
      "Marcus Garvey Park: ('Black', 'Cinnamon', 'Cleaning', None)\n",
      "Seward Park: ('Gray', 'Cinnamon', 'Eating', 'Indifferent')\n",
      "Tompkins Square Park: ('Gray', 'Gray', 'Lounging', 'Approaches')\n",
      "Union Square Park: ('Gray', 'Black', 'Climbing', None)\n"
     ]
    },
    {
     "data": {
      "text/plain": [
       "'\\nBrilliant work! Now you know how to build up dictionaries and use them in loops.\\n'"
      ]
     },
     "execution_count": 14,
     "metadata": {},
     "output_type": "execute_result"
    }
   ],
   "source": [
    "# exercise 01\n",
    "\n",
    "\"\"\"\n",
    "Creating and looping through dictionaries\n",
    "\n",
    "You'll often encounter the need to loop over some array type data, like in Chapter 1, and provide it some structure so you can find the data you desire quickly.\n",
    "\n",
    "You start that by creating an empty dictionary and assigning part of your array data as the key and the rest as the value.\n",
    "\n",
    "Previously, you used sorted() to organize your data in a list. Dictionaries can also be sorted. By default, using sorted() on a dictionary will sort by the keys of the dictionary.\n",
    "\n",
    "The goal of this exercise is to get familiar with building dictionaries via looping over some data source, and then looping over the dictionary to use that data.\n",
    "\"\"\"\n",
    "\n",
    "# Instructions\n",
    "\n",
    "\"\"\"\n",
    "\n",
    "    Create an empty dictionary called squirrels_by_park.\n",
    "    Loop over squirrels, unpacking it into the variables park and squirrel_details.\n",
    "    Inside the loop, add each squirrel_details to the squirrels_by_park dictionary using the park as the key.\n",
    "    Sort the squirrel_details dictionary keys in ascending order, print each park and its value using an F string..\n",
    "\n",
    "\"\"\"\n",
    "\n",
    "# solution\n",
    "\n",
    "# Create an empty dictionary: squirrels_by_park\n",
    "squirrels_by_park = {}\n",
    "\n",
    "# Loop over the squirrels list and unpack each tuple\n",
    "for park, squirrels_details in squirrels:\n",
    "    # Add each squirrel_details to the squirrels_by_park dictionary \n",
    "    squirrels_by_park[park] = squirrels_details\n",
    "    \n",
    "# Sort the squirrels_by_park dict alphabetically by park\n",
    "for park in sorted(squirrels_by_park):\n",
    "    # Print each park and its value in squirrels_by_park\n",
    "    print(f'{park}: {squirrels_by_park[park]}')\n",
    "\n",
    "#----------------------------------#\n",
    "\n",
    "# Conclusion\n",
    "\n",
    "\"\"\"\n",
    "Brilliant work! Now you know how to build up dictionaries and use them in loops.\n",
    "\"\"\""
   ]
  },
  {
   "cell_type": "code",
   "execution_count": 15,
   "metadata": {
    "tags": []
   },
   "outputs": [
    {
     "name": "stdout",
     "output_type": "stream",
     "text": [
      "('Gray', 'Black', 'Climbing', None)\n",
      "<class 'NoneType'>\n",
      "Not Found\n"
     ]
    },
    {
     "data": {
      "text/plain": [
       "'\\nGreat work. Notice the difference in output between the three print statements. The squirrels_by_park dictionary does not have the Fort Tryon Park and Central Park keys.\\n'"
      ]
     },
     "execution_count": 15,
     "metadata": {},
     "output_type": "execute_result"
    }
   ],
   "source": [
    "# exercise 02\n",
    "\n",
    "\"\"\"\n",
    "Safely finding by key\n",
    "\n",
    "As demonstrated in the video, if you attempt to access a key that isn't present in a dictionary, you'll get a KeyError. One option to handle this type of error is to use a try: except: block. You can learn more about error handling in Python Data Science Toolbox (Part 1).\n",
    "\n",
    "Python provides a faster, more versatile tool to help with this problem in the form of the .get() method. The .get() method allows you to supply the name of a key, and optionally, what you'd like to have returned if the key is not found.\n",
    "\n",
    "You'll be using same squirrels_by_park dictionary, which is keyed by the park name and the value is a tuple with the main color, highlights, action, and reaction to humans, and will gain practice using the .get() method.\n",
    "\"\"\"\n",
    "\n",
    "# Instructions\n",
    "\n",
    "\"\"\"\n",
    "\n",
    "    Safely print 'Union Square Park' from the squirrels_by_park dictionary .\n",
    "    Safely print the type of 'Fort Tryon Park' from the squirrels_by_park dictionary.\n",
    "    Safely print 'Central Park' from the squirrels_by_park dictionary or 'Not Found'.\n",
    "\n",
    "\"\"\"\n",
    "\n",
    "# solution\n",
    "\n",
    "# Safely print 'Union Square Park' from the squirrels_by_park dictionary\n",
    "print(squirrels_by_park.get('Union Square Park'))\n",
    "\n",
    "# Safely print the type of 'Fort Tryon Park' from the squirrels_by_park dictionary\n",
    "print(type(squirrels_by_park.get('Fort Tryon Park')))\n",
    "\n",
    "# Safely print 'Central Park' from the squirrels_by_park dictionary or 'Not Found'\n",
    "print(squirrels_by_park.get('Central Park', \"Not Found\"))\n",
    "\n",
    "#----------------------------------#\n",
    "\n",
    "# Conclusion\n",
    "\n",
    "\"\"\"\n",
    "Great work. Notice the difference in output between the three print statements. The squirrels_by_park dictionary does not have the Fort Tryon Park and Central Park keys.\n",
    "\"\"\""
   ]
  },
  {
   "cell_type": "code",
   "execution_count": 16,
   "metadata": {},
   "outputs": [],
   "source": [
    "squirrels_madison = [{'primary_fur_color': 'Gray',\n",
    "  'highlights_in_fur_color': None,\n",
    "  'activities': 'Sitting',\n",
    "  'interactions_with_humans': 'Indifferent'},\n",
    " {'primary_fur_color': 'Gray',\n",
    "  'highlights_in_fur_color': 'Cinnamon',\n",
    "  'activities': 'Foraging',\n",
    "  'interactions_with_humans': 'Indifferent'},\n",
    " {'primary_fur_color': 'Gray',\n",
    "  'highlights_in_fur_color': None,\n",
    "  'activities': 'Climbing, Foraging',\n",
    "  'interactions_with_humans': 'Indifferent'}]"
   ]
  },
  {
   "cell_type": "code",
   "execution_count": 30,
   "metadata": {},
   "outputs": [],
   "source": [
    "squirrels_by_park = {'Union Square Park': [{'primary_fur_color': 'Gray',\n",
    "   'highlights_in_fur_color': None,\n",
    "   'activities': 'Eating, Foraging',\n",
    "   'interactions_with_humans': None},\n",
    "  {'primary_fur_color': 'Gray',\n",
    "   'highlights_in_fur_color': 'Cinnamon',\n",
    "   'activities': 'Climbing, Eating',\n",
    "   'interactions_with_humans': None},\n",
    "  {'primary_fur_color': 'Cinnamon',\n",
    "   'highlights_in_fur_color': None,\n",
    "   'activities': 'Foraging',\n",
    "   'interactions_with_humans': 'Indifferent'},\n",
    "  {'primary_fur_color': 'Gray',\n",
    "   'highlights_in_fur_color': None,\n",
    "   'activities': 'Running, Digging',\n",
    "   'interactions_with_humans': 'Runs From'},\n",
    "  {'primary_fur_color': 'Gray',\n",
    "   'highlights_in_fur_color': None,\n",
    "   'activities': 'Digging',\n",
    "   'interactions_with_humans': 'Indifferent'},\n",
    "  {'primary_fur_color': 'Gray',\n",
    "   'highlights_in_fur_color': 'Black',\n",
    "   'activities': 'Climbing',\n",
    "   'interactions_with_humans': None},\n",
    "  {'primary_fur_color': 'Gray',\n",
    "   'highlights_in_fur_color': None,\n",
    "   'activities': 'Eating, Foraging',\n",
    "   'interactions_with_humans': None}],\n",
    " 'Madison Square Park': [{'primary_fur_color': 'Gray',\n",
    "   'highlights_in_fur_color': None,\n",
    "   'activities': 'Sitting',\n",
    "   'interactions_with_humans': 'Indifferent'},\n",
    "  {'primary_fur_color': 'Gray',\n",
    "   'highlights_in_fur_color': 'Cinnamon',\n",
    "   'activities': 'Foraging',\n",
    "   'interactions_with_humans': 'Indifferent'},\n",
    "  {'primary_fur_color': 'Gray',\n",
    "   'highlights_in_fur_color': None,\n",
    "   'activities': 'Climbing, Foraging',\n",
    "   'interactions_with_humans': 'Indifferent'}]}"
   ]
  },
  {
   "cell_type": "code",
   "execution_count": 32,
   "metadata": {
    "tags": []
   },
   "outputs": [
    {
     "name": "stdout",
     "output_type": "stream",
     "text": [
      "Union Square Park ['Gray', 'Gray', 'Cinnamon', 'Gray', 'Gray', 'Gray', 'Gray']\n",
      "Madison Square Park ['Gray', 'Gray', 'Gray']\n"
     ]
    },
    {
     "data": {
      "text/plain": [
       "'\\nGreat work! Mastering updating dictionaries will prepare you well for working with even more complex data types in Python.\\n'"
      ]
     },
     "execution_count": 32,
     "metadata": {},
     "output_type": "execute_result"
    }
   ],
   "source": [
    "# exercise 03\n",
    "\n",
    "\"\"\"\n",
    "Adding and extending dictionaries\n",
    "\n",
    "If you have a dictionary and you want to add data to it, you can simply create a new key and assign the data you desire to it. It's important to remember that if it's a nested dictionary, then all the keys in the data path must exist, and each key in the path must be assigned individually.\n",
    "\n",
    "You can also use the .update() method to update a dictionary with a list of keys and values from another dictionary, tuples or keyword arguments.\n",
    "\n",
    "The squirrels_by_park dictionary is already loaded for you, which is keyed by the park name and the value is a tuple with the main color, highlights, action, and reaction to humans.\n",
    "\"\"\"\n",
    "\n",
    "# Instructions\n",
    "\n",
    "\"\"\"\n",
    "\n",
    "    Assign the squirrels_madison list as the value to the 'Madison Square Park' key of the squirrels_by_park dictionary.\n",
    "    Update the 'Union Square Park' key in the squirrels_by_park dictionary with the data in the squirrels_union tuple.\n",
    "    Loop over the squirrels_by_park dictionary.\n",
    "        Print the park_name and a list of all primary_fur_colors for squirrels safely in that park using a list comprehension; return 'N/A' if the key isn't found.\n",
    "\n",
    "\"\"\"\n",
    "\n",
    "# solution\n",
    "\n",
    "# Assign squirrels_madison as the value to the 'Madison Square Park' key\n",
    "squirrels_by_park[\"Madison Square Park\"] = squirrels_madison\n",
    "\n",
    "# Update squirrels_by_park with the squirrels_union tuple\n",
    "squirrels_by_park.update([squirrels_union])\n",
    "\n",
    "# Loop over the park_name in the squirrels_by_park dictionary \n",
    "for park_name in squirrels_by_park:\n",
    "    # Safely print a list of the primary_fur_color for each squirrel in park_name\n",
    "    print(park_name, [squirrel.get('primary_fur_color', 'N/A') for squirrel in squirrels_by_park[park_name]])  \n",
    "\n",
    "#----------------------------------#\n",
    "\n",
    "# Conclusion\n",
    "\n",
    "\"\"\"\n",
    "Great work! Mastering updating dictionaries will prepare you well for working with even more complex data types in Python.\n",
    "\"\"\""
   ]
  },
  {
   "cell_type": "code",
   "execution_count": 33,
   "metadata": {
    "tags": []
   },
   "outputs": [
    {
     "name": "stdout",
     "output_type": "stream",
     "text": [
      "{}\n"
     ]
    },
    {
     "data": {
      "text/plain": [
       "'\\nGreat work! As expected, only the data from the Tompkins Square Park is retained.\\n'"
      ]
     },
     "execution_count": 33,
     "metadata": {},
     "output_type": "execute_result"
    }
   ],
   "source": [
    "# exercise 04\n",
    "\n",
    "\"\"\"\n",
    "Popping and deleting from dictionaries\n",
    "\n",
    "Often, you will want to remove keys and value from a dictionary. You can do so using the del Python instruction. It's important to remember that del will throw a KeyError if the key you are trying to delete does not exist. You can not use it with the .get() method to safely delete items; however, it can be used with try: catch:.\n",
    "\n",
    "If you want to save that deleted data into another variable for further processing, the .pop() dictionary method will do just that. You can supply a default value for .pop() much like you did for .get() to safely deal with missing keys. It's also typical to use .pop() instead of del since it is a safe method.\n",
    "\"\"\"\n",
    "\n",
    "# Instructions\n",
    "\n",
    "\"\"\"\n",
    "\n",
    "    Remove \"Madison Square Park\" from squirrels_by_park and store it as squirrels_madison.\n",
    "    Safely remove \"City Hall Park\" from squirrels_by_park with a empty dictionary as the default and store it as squirrels_city_hall. To do this, pass in an empty dictionary {} as a second argument to .pop().\n",
    "    Delete \"Union Square Park\" from squirrels_by_park.\n",
    "    Print squirrels_by_park.\n",
    "\n",
    "\"\"\"\n",
    "\n",
    "# solution\n",
    "\n",
    "# Remove \"Madison Square Park\" from squirrels_by_park\n",
    "squirrels_madison = squirrels_by_park.pop(\"Madison Square Park\")\n",
    "\n",
    "# Safely remove \"City Hall Park\" from squirrels_by_park with an empty dictionary as the default\n",
    "squirrels_city_hall = squirrels_by_park.pop(\"City Hall Park\", {})\n",
    "\n",
    "# Delete \"Union Square Park\" from squirrels_by_park\n",
    "del squirrels_by_park[\"Union Square Park\"]\n",
    "\n",
    "# Print squirrels_by_park\n",
    "print(squirrels_by_park)\n",
    "\n",
    "#----------------------------------#\n",
    "\n",
    "# Conclusion\n",
    "\n",
    "\"\"\"\n",
    "Great work! As expected, only the data from the Tompkins Square Park is retained.\n",
    "\"\"\""
   ]
  },
  {
   "cell_type": "code",
   "execution_count": 35,
   "metadata": {},
   "outputs": [],
   "source": [
    "squirrels_by_park = {'Madison Square Park': [{'primary_fur_color': 'Gray',\n",
    "   'highlights_in_fur_color': None,\n",
    "   'activities': 'Foraging',\n",
    "   'interactions_with_humans': 'Indifferent'},\n",
    "  {'primary_fur_color': 'Gray',\n",
    "   'highlights_in_fur_color': None,\n",
    "   'activities': 'Sitting',\n",
    "   'interactions_with_humans': 'Indifferent'}],\n",
    " 'Union Square Park': [{'primary_fur_color': 'Gray',\n",
    "   'highlights_in_fur_color': None,\n",
    "   'activities': 'Eating, Foraging',\n",
    "   'interactions_with_humans': None},\n",
    "  {'primary_fur_color': 'Cinnamon',\n",
    "   'highlights_in_fur_color': None,\n",
    "   'activities': 'Foraging',\n",
    "   'interactions_with_humans': None},\n",
    "  {'primary_fur_color': 'Gray',\n",
    "   'highlights_in_fur_color': None,\n",
    "   'activities': 'Eating, Foraging',\n",
    "   'interactions_with_humans': None},\n",
    "  {'primary_fur_color': 'Gray',\n",
    "   'highlights_in_fur_color': None,\n",
    "   'activities': 'Digging',\n",
    "   'interactions_with_humans': 'Indifferent'}]}"
   ]
  },
  {
   "cell_type": "code",
   "execution_count": 36,
   "metadata": {
    "tags": []
   },
   "outputs": [
    {
     "name": "stdout",
     "output_type": "stream",
     "text": [
      "primary_fur_color Gray\n",
      "highlights_in_fur_color None\n",
      "activities Foraging\n",
      "interactions_with_humans Indifferent\n",
      "-------------\n",
      "primary_fur_color Cinnamon\n",
      "highlights_in_fur_color None\n",
      "activities Foraging\n",
      "interactions_with_humans None\n"
     ]
    },
    {
     "data": {
      "text/plain": [
       "\"\\nNicely done. Using the .items() method to iterate over dictionaries is something you'll be doing _very_ frequently in Python.\\n\""
      ]
     },
     "execution_count": 36,
     "metadata": {},
     "output_type": "execute_result"
    }
   ],
   "source": [
    "# exercise 05\n",
    "\n",
    "\"\"\"\n",
    "Working with dictionaries more pythonically\n",
    "\n",
    "So far, you've worked a lot with the keys of a dictionary to access data, but in Python, the preferred manner for iterating over items in a dictionary is with the .items() method.\n",
    "\n",
    "This returns each key and value from the dictionary as a tuple, which you can unpack in a for loop. You'll now get practice doing this.\n",
    "\n",
    "We've loaded a squirrels_by_park dictionary, and the Madison Square Park key contains a list of dictionaries.\n",
    "\"\"\"\n",
    "\n",
    "# Instructions\n",
    "\n",
    "\"\"\"\n",
    "\n",
    "    Iterate over the first record in squirrels_by_park[\"Madison Square Park\"], unpacking its items into field and value.\n",
    "        Print each field and value.\n",
    "    Repeat the process for the second record in squirrels_by_park[\"Union Square Park\"].\n",
    "\n",
    "\"\"\"\n",
    "\n",
    "# solution\n",
    "\n",
    "# Iterate over the first squirrel entry in the Madison Square Park list\n",
    "for field, value in squirrels_by_park[\"Madison Square Park\"][0].items():\n",
    "    # Print field and value\n",
    "    print(field, value)\n",
    "\n",
    "print('-' * 13)\n",
    "\n",
    "# Iterate over the second squirrel entry in the Union Square Park list\n",
    "for field, value in squirrels_by_park[\"Union Square Park\"][1].items():\n",
    "    # Print field and value\n",
    "    print(field, value)\n",
    "\n",
    "\n",
    "#----------------------------------#\n",
    "\n",
    "# Conclusion\n",
    "\n",
    "\"\"\"\n",
    "Nicely done. Using the .items() method to iterate over dictionaries is something you'll be doing _very_ frequently in Python.\n",
    "\"\"\""
   ]
  },
  {
   "cell_type": "code",
   "execution_count": 37,
   "metadata": {
    "tags": []
   },
   "outputs": [
    {
     "name": "stdout",
     "output_type": "stream",
     "text": [
      "Central Park missing\n"
     ]
    },
    {
     "data": {
      "text/plain": [
       "\"\\nSuperb! If you explore squirrels_by_park in the IPython Shell, you'll see that it does not contain Central Park.\\n\""
      ]
     },
     "execution_count": 37,
     "metadata": {},
     "output_type": "execute_result"
    }
   ],
   "source": [
    "# exercise 06\n",
    "\n",
    "\"\"\"\n",
    "Checking dictionaries for data\n",
    "\n",
    "You can check to see if a key exists in a dictionary by using the in expression.\n",
    "\n",
    "For example, you can check to see if 'cookies' is a key in the recipes dictionary by using if 'cookies' in recipes: this allows you to safely react to data being present in the dictionary.\n",
    "\n",
    "We've loaded a squirrels_by_park dictionary with park names for the keys and a list of dictionaries of the squirrels.\n",
    "\"\"\"\n",
    "\n",
    "# Instructions\n",
    "\n",
    "\"\"\"\n",
    "\n",
    "    Check to see if Tompkins Square Park is in the squirrels_by_park dictionary, and print 'Found Tompkins Square Park' if it is present.\n",
    "    Check to see if Central Park is in squirrels_by_park. Then, print 'Found Central Park' if found and 'Central Park missing' if not found.\n",
    "\n",
    "\"\"\"\n",
    "\n",
    "# solution\n",
    "\n",
    "# Check to see if Tompkins Square Park is in squirrels_by_park\n",
    "if \"Tompkins Square Park\" in squirrels_by_park:\n",
    "    # Print 'Found Tompkins Square Park'\n",
    "    print('Found Tompkins Square Park')\n",
    "    \n",
    "# Check to see if Central Park is in squirrels_by_park\n",
    "if \"Central Park\" in squirrels_by_park:\n",
    "    # Print 'Found Central Park' if found\n",
    "    print('Found Central Park')\n",
    "else:\n",
    "    # Print 'Central Park missing' if not found\n",
    "    print('Central Park missing')\n",
    "\n",
    "#----------------------------------#\n",
    "\n",
    "# Conclusion\n",
    "\n",
    "\"\"\"\n",
    "Superb! If you explore squirrels_by_park in the IPython Shell, you'll see that it does not contain Central Park.\n",
    "\"\"\""
   ]
  },
  {
   "cell_type": "code",
   "execution_count": 40,
   "metadata": {},
   "outputs": [],
   "source": [
    "squirrels_by_park = {'J. Hood Wright Park': {'primary_fur_color': 'Gray',\n",
    "  'highlights_in_fur_color': 'Cinnamon',\n",
    "  'activities': 'Running',\n",
    "  'interactions_with_humans': 'Indifferent'},\n",
    " 'Stuyvesant Square Park': {'primary_fur_color': 'Gray',\n",
    "  'highlights_in_fur_color': 'Cinnamon',\n",
    "  'activities': 'Foraging',\n",
    "  'interactions_with_humans': 'Indifferent'},\n",
    " 'Highbridge Park': {'primary_fur_color': 'Gray',\n",
    "  'highlights_in_fur_color': 'White',\n",
    "  'activities': 'Climbing',\n",
    "  'interactions_with_humans': None},\n",
    " 'Tompkins Square Park': {'primary_fur_color': 'Gray',\n",
    "  'highlights_in_fur_color': 'Gray',\n",
    "  'activities': 'Foraging',\n",
    "  'interactions_with_humans': None},\n",
    " 'Union Square Park': {'primary_fur_color': 'Gray',\n",
    "  'activities': 'Eating, Foraging',\n",
    "  'interactions_with_humans': None},\n",
    " 'City Hall Park': {'primary_fur_color': 'Gray',\n",
    "  'highlights_in_fur_color': 'White',\n",
    "  'activities': 'Eating, Foraging',\n",
    "  'interactions_with_humans': 'Indifferent'},\n",
    " 'Msgr. McGolrick Park': {'primary_fur_color': 'Gray',\n",
    "  'highlights_in_fur_color': 'Cinnamon',\n",
    "  'activities': 'Running',\n",
    "  'interactions_with_humans': 'Indifferent'},\n",
    " 'John V. Lindsay East River Park': {'primary_fur_color': 'Gray',\n",
    "  'highlights_in_fur_color': 'Gray',\n",
    "  'activities': 'Running, Chasing, Eating',\n",
    "  'interactions_with_humans': None}}"
   ]
  },
  {
   "cell_type": "code",
   "execution_count": 41,
   "metadata": {
    "tags": []
   },
   "outputs": [
    {
     "name": "stdout",
     "output_type": "stream",
     "text": [
      "dict_keys(['J. Hood Wright Park', 'Stuyvesant Square Park', 'Highbridge Park', 'Tompkins Square Park', 'Union Square Park', 'City Hall Park', 'Msgr. McGolrick Park', 'John V. Lindsay East River Park'])\n",
      "dict_keys(['primary_fur_color', 'activities', 'interactions_with_humans'])\n",
      "J. Hood Wright Park Cinnamon\n",
      "Stuyvesant Square Park Cinnamon\n",
      "Highbridge Park White\n",
      "Tompkins Square Park Gray\n",
      "Union Square Park N/A\n",
      "City Hall Park White\n",
      "Msgr. McGolrick Park Cinnamon\n",
      "John V. Lindsay East River Park Gray\n"
     ]
    },
    {
     "data": {
      "text/plain": [
       "'\\nExcellent work! Dealing with nested dictionaries can be tricky. People see a lot of squirrels with cinnamon highlights in New York!\\n'"
      ]
     },
     "execution_count": 41,
     "metadata": {},
     "output_type": "execute_result"
    }
   ],
   "source": [
    "# exercise 07\n",
    "\n",
    "\"\"\"\n",
    "Dealing with nested dictionaries\n",
    "\n",
    "A dictionary can contain another dictionary as the value of a key, and this is a very common way to deal with repeating data structures such as yearly, monthly or weekly data. All the same rules apply when creating or accessing the dictionary.\n",
    "\n",
    "For example, if you had a dictionary that had a ranking of my cookie consumption by year and type of cookie. It might look like cookies = {'2017': {'chocolate chip': 483, 'peanut butter': 115}, '2016': {'chocolate chip': 9513, 'peanut butter': 6792}}. I could access how many chocolate chip cookies I ate in 2016 using cookies['2016']['chocolate chip'].\n",
    "\n",
    "When exploring a new dictionary, it can be helpful to use the .keys() method to get an idea of what data might be available within the dictionary. You can also iterate over a dictionary and it will return each key in the dictionary for you to use inside the loop.\n",
    "\n",
    "We've loaded a squirrels_by_park dictionary with park names for the keys and a nested dictionary of one squirrels data.\n",
    "\"\"\"\n",
    "\n",
    "# Instructions\n",
    "\n",
    "\"\"\"\n",
    "\n",
    "    Print the keys of the squirrels_by_park dictionary, NOTE: They are park_names.\n",
    "    Print the keys of the squirrels_by_park dictionary for the park_name Union Square Park.\n",
    "    Loop over the squirrels_by_park dictionary.\n",
    "        Inside the loop, safely print the park_name and the highlights_in_fur_color. Print 'N/A' if the highlightsinfur_color is not found or None.\n",
    "\n",
    "\"\"\"\n",
    "\n",
    "# solution\n",
    "\n",
    "# Print a list of keys from the squirrels_by_park dictionary\n",
    "print(squirrels_by_park.keys())\n",
    "\n",
    "# Print the keys from the squirrels_by_park dictionary for 'Union Square Park'\n",
    "print(squirrels_by_park['Union Square Park'].keys())\n",
    "\n",
    "# Loop over the dictionary\n",
    "for park_name in squirrels_by_park:\n",
    "    # Safely print the park_name and the highlights_in_fur_color or 'N/A'\n",
    "    print(park_name, squirrels_by_park[park_name].get('highlights_in_fur_color', 'N/A'))\n",
    "\n",
    "#----------------------------------#\n",
    "\n",
    "# Conclusion\n",
    "\n",
    "\"\"\"\n",
    "Excellent work! Dealing with nested dictionaries can be tricky. People see a lot of squirrels with cinnamon highlights in New York!\n",
    "\"\"\""
   ]
  },
  {
   "cell_type": "code",
   "execution_count": 43,
   "metadata": {},
   "outputs": [],
   "source": [
    "squirrels_by_park = {'Tompkins Square Park': [{'primary_fur_color': 'Gray',\n",
    "   'highlights_in_fur_color': 'Gray',\n",
    "   'activities': 'Foraging',\n",
    "   'interactions_with_humans': 'Approaches'},\n",
    "  {'primary_fur_color': 'Gray',\n",
    "   'highlights_in_fur_color': 'Gray',\n",
    "   'activities': 'Climbing (down tree)',\n",
    "   'interactions_with_humans': 'Indifferent'},\n",
    "  {'primary_fur_color': 'Gray',\n",
    "   'highlights_in_fur_color': 'Gray',\n",
    "   'interactions_with_humans': 'Indifferent'},\n",
    "  {'primary_fur_color': 'Gray',\n",
    "   'highlights_in_fur_color': 'Gray',\n",
    "   'activities': 'Foraging',\n",
    "   'interactions_with_humans': 'Indifferent'}],\n",
    " 'Union Square Park': [{'primary_fur_color': 'Gray',\n",
    "   'highlights_in_fur_color': None,\n",
    "   'activities': 'Eating, Foraging',\n",
    "   'interactions_with_humans': None},\n",
    "  {'primary_fur_color': 'Cinnamon',\n",
    "   'highlights_in_fur_color': None,\n",
    "   'activities': 'Foraging',\n",
    "   'interactions_with_humans': None},\n",
    "  {'primary_fur_color': 'Gray',\n",
    "   'highlights_in_fur_color': None,\n",
    "   'activities': 'Eating, Foraging',\n",
    "   'interactions_with_humans': None},\n",
    "  {'primary_fur_color': 'Gray',\n",
    "   'highlights_in_fur_color': None,\n",
    "   'activities': 'Digging',\n",
    "   'interactions_with_humans': 'Indifferent'}]}"
   ]
  },
  {
   "cell_type": "code",
   "execution_count": 44,
   "metadata": {
    "tags": []
   },
   "outputs": [
    {
     "name": "stdout",
     "output_type": "stream",
     "text": [
      "Foraging\n",
      "Climbing (down tree)\n",
      "None\n",
      "Foraging\n",
      "[{'primary_fur_color': 'Cinnamon', 'highlights_in_fur_color': None, 'activities': 'Foraging', 'interactions_with_humans': None}]\n"
     ]
    },
    {
     "data": {
      "text/plain": [
       "'\\nFantastic work! Knowing how to get work with mixed data types in nested dictionaries is a powerful skill for handling messy data.\\n'"
      ]
     },
     "execution_count": 44,
     "metadata": {},
     "output_type": "execute_result"
    }
   ],
   "source": [
    "# exercise 08\n",
    "\n",
    "\"\"\"\n",
    "Dealing with nested mixed types\n",
    "\n",
    "Previously, we used the in expression so see if data is in a dictionary such as if 'cookies' in recipes_dict. However, what if we want to find data in a dictionary key that is a list of dictionaries? In that scenario, we can use a for loop to loop over the items in the nested list and operate on them. Additionally, we can leverage list comprehensions to effectively filter nested lists of dictionaries. For example: [cookie for cookie in recipes[\"cookies\"] if \"chocolate chip\" in cookie[\"name\"]] would return a list of cookies in recipes list that have chocolate chip in the name key of the cookie.\n",
    "\n",
    "We've loaded a squirrels_by_park dictionary with park names for the keys and a list of dictionaries of the squirrels.\n",
    "\"\"\"\n",
    "\n",
    "# Instructions\n",
    "\n",
    "\"\"\"\n",
    "\n",
    "    Use a for loop to iterate over the squirrels found in the Tompkins Square Park key of squirrels_by_park:\n",
    "        Safely print each activities of each squirrel.\n",
    "    Print the list of 'Cinnamon' primary_fur_color squirrels found in Union Square Park using a list comprehension.\n",
    "\n",
    "\"\"\"\n",
    "\n",
    "# solution\n",
    "\n",
    "# Use a for loop to iterate over the squirrels in Tompkins Square Park:\n",
    "for squirrel in squirrels_by_park[\"Tompkins Square Park\"]:\n",
    "\t# Safely print the activities of each squirrel or None\n",
    "    print(squirrel.get(\"activities\"))\n",
    "    \n",
    "# Print the list of 'Cinnamon' primary_fur_color squirrels in Union Square Park\n",
    "print([squirrel for squirrel in squirrels_by_park[\"Union Square Park\"] if \"Cinnamon\" in squirrel[\"primary_fur_color\"]])\n",
    "\n",
    "#----------------------------------#\n",
    "\n",
    "# Conclusion\n",
    "\n",
    "\"\"\"\n",
    "Fantastic work! Knowing how to get work with mixed data types in nested dictionaries is a powerful skill for handling messy data.\n",
    "\"\"\""
   ]
  }
 ],
 "metadata": {
  "kernelspec": {
   "display_name": "Python 3 (ipykernel)",
   "language": "python",
   "name": "python3"
  },
  "language_info": {
   "codemirror_mode": {
    "name": "ipython",
    "version": 3
   },
   "file_extension": ".py",
   "mimetype": "text/x-python",
   "name": "python",
   "nbconvert_exporter": "python",
   "pygments_lexer": "ipython3",
   "version": "3.11.6"
  }
 },
 "nbformat": 4,
 "nbformat_minor": 4
}
