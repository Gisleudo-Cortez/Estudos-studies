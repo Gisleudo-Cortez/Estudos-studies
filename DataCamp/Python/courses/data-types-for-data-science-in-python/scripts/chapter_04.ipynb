{
 "cells": [
  {
   "cell_type": "code",
   "execution_count": 1,
   "metadata": {
    "editable": true,
    "slideshow": {
     "slide_type": ""
    },
    "tags": []
   },
   "outputs": [],
   "source": [
    "# run this to shorten the data import from the files\n",
    "import os\n",
    "cwd = os.path.dirname(os.getcwd())+'/'\n",
    "path_data = os.path.join(os.path.dirname(os.getcwd()), 'datasets/')\n"
   ]
  },
  {
   "cell_type": "code",
   "execution_count": 16,
   "metadata": {},
   "outputs": [],
   "source": [
    "penguins = [{'Species': 'Gentoo',\n",
    "  'Flipper Length (mm)': 230.0,\n",
    "  'Body Mass (g)': 5500.0,\n",
    "  'Sex': 'MALE'},\n",
    " {'Species': 'Chinstrap',\n",
    "  'Flipper Length (mm)': 201.0,\n",
    "  'Body Mass (g)': 4300.0,\n",
    "  'Sex': 'MALE'},\n",
    " {'Species': 'Adlie',\n",
    "  'Flipper Length (mm)': 180.0,\n",
    "  'Body Mass (g)': 3800.0,\n",
    "  'Sex': 'MALE'},\n",
    " {'Species': 'Gentoo',\n",
    "  'Flipper Length (mm)': 229.0,\n",
    "  'Body Mass (g)': 5800.0,\n",
    "  'Sex': 'MALE'},\n",
    " {'Species': 'Chinstrap',\n",
    "  'Flipper Length (mm)': 210.0,\n",
    "  'Body Mass (g)': 4100.0,\n",
    "  'Sex': 'MALE'},\n",
    " {'Species': 'Adlie',\n",
    "  'Flipper Length (mm)': 200.0,\n",
    "  'Body Mass (g)': 3975.0,\n",
    "  'Sex': 'MALE'},\n",
    " {'Species': 'Gentoo',\n",
    "  'Flipper Length (mm)': 225.0,\n",
    "  'Body Mass (g)': 5400.0,\n",
    "  'Sex': 'MALE'},\n",
    " {'Species': 'Chinstrap',\n",
    "  'Flipper Length (mm)': 210.0,\n",
    "  'Body Mass (g)': 4800.0,\n",
    "  'Sex': 'MALE'},\n",
    " {'Species': 'Chinstrap',\n",
    "  'Flipper Length (mm)': 193.0,\n",
    "  'Body Mass (g)': 3800.0,\n",
    "  'Sex': 'FEMALE'},\n",
    " {'Species': 'Adlie',\n",
    "  'Flipper Length (mm)': 176.0,\n",
    "  'Body Mass (g)': 3450.0,\n",
    "  'Sex': 'FEMALE'},\n",
    " {'Species': 'Chinstrap',\n",
    "  'Flipper Length (mm)': 210.0,\n",
    "  'Body Mass (g)': 3950.0,\n",
    "  'Sex': 'MALE'},\n",
    " {'Species': 'Gentoo',\n",
    "  'Flipper Length (mm)': 219.0,\n",
    "  'Body Mass (g)': 5250.0,\n",
    "  'Sex': 'MALE'},\n",
    " {'Species': 'Gentoo',\n",
    "  'Flipper Length (mm)': 210.0,\n",
    "  'Body Mass (g)': 4300.0,\n",
    "  'Sex': 'FEMALE'},\n",
    " {'Species': 'Gentoo',\n",
    "  'Flipper Length (mm)': 216.0,\n",
    "  'Body Mass (g)': 4925.0,\n",
    "  'Sex': 'MALE'},\n",
    " {'Species': 'Adlie',\n",
    "  'Flipper Length (mm)': 187.0,\n",
    "  'Body Mass (g)': 3550.0,\n",
    "  'Sex': 'FEMALE'},\n",
    " {'Species': 'Adlie',\n",
    "  'Flipper Length (mm)': 192.0,\n",
    "  'Body Mass (g)': 3950.0,\n",
    "  'Sex': 'MALE'},\n",
    " {'Species': 'Chinstrap',\n",
    "  'Flipper Length (mm)': 193.0,\n",
    "  'Body Mass (g)': 3800.0,\n",
    "  'Sex': 'MALE'},\n",
    " {'Species': 'Chinstrap',\n",
    "  'Flipper Length (mm)': 201.0,\n",
    "  'Body Mass (g)': 4050.0,\n",
    "  'Sex': 'MALE'},\n",
    " {'Species': 'Adlie',\n",
    "  'Flipper Length (mm)': 190.0,\n",
    "  'Body Mass (g)': 3650.0,\n",
    "  'Sex': 'MALE'},\n",
    " {'Species': 'Adlie',\n",
    "  'Flipper Length (mm)': 181.0,\n",
    "  'Body Mass (g)': 3175.0,\n",
    "  'Sex': 'FEMALE'}]"
   ]
  },
  {
   "cell_type": "code",
   "execution_count": 17,
   "metadata": {},
   "outputs": [
    {
     "name": "stdout",
     "output_type": "stream",
     "text": [
      "Counter({'MALE': 15, 'FEMALE': 5})\n"
     ]
    },
    {
     "data": {
      "text/plain": [
       "\"\\nCongratulations! Now let's look at how to use Counter to find the most common elements.\\n\""
      ]
     },
     "execution_count": 17,
     "metadata": {},
     "output_type": "execute_result"
    }
   ],
   "source": [
    "# exercise 01\n",
    "\n",
    "\"\"\"\n",
    "Using Counter on lists\n",
    "\n",
    "Counter is a powerful tool for counting, validating, and learning more about the elements within a dataset that is found in the collections module. You pass an iterable (list, set, tuple) or a dictionary to the Counter. You can also use the Counter object similarly to a dictionary with key/value assignment, for example counter[key] = value.\n",
    "\n",
    "A common usage for Counter is checking data for consistency prior to using it, so let's do just that.\n",
    "\"\"\"\n",
    "\n",
    "# Instructions\n",
    "\n",
    "\"\"\"\n",
    "\n",
    "    Import the Counter object from collections.\n",
    "    Create a Counter of the penguins list called penguins_sex_counts; use a list comprehension to return the Sex of each penguin to the Counter.\n",
    "    Print the penguins_sex_counts.\n",
    "\n",
    "\"\"\"\n",
    "\n",
    "# solution\n",
    "\n",
    "# Import the Counter object\n",
    "from collections import Counter\n",
    "\n",
    "# Create a Counter of the penguins sex using a list comp\n",
    "penguins_sex_counts = Counter([penguin['Sex'] for penguin in penguins])\n",
    "\n",
    "# Print the penguins_sex_counts\n",
    "print(penguins_sex_counts)\n",
    "\n",
    "#----------------------------------#\n",
    "\n",
    "# Conclusion\n",
    "\n",
    "\"\"\"\n",
    "Congratulations! Now let's look at how to use Counter to find the most common elements.\n",
    "\"\"\""
   ]
  },
  {
   "cell_type": "code",
   "execution_count": 18,
   "metadata": {
    "tags": []
   },
   "outputs": [
    {
     "name": "stdout",
     "output_type": "stream",
     "text": [
      "[('Chinstrap', 7), ('Adlie', 7), ('Gentoo', 6)]\n"
     ]
    },
    {
     "data": {
      "text/plain": [
       "\"\\nExcellent! Now that we've got a good understanding of Counter, let's take a look at default dictionaries.\\n\""
      ]
     },
     "execution_count": 18,
     "metadata": {},
     "output_type": "execute_result"
    }
   ],
   "source": [
    "# exercise 02\n",
    "\n",
    "\"\"\"\n",
    "Finding most common elements\n",
    "\n",
    "Another powerful usage of Counter is finding the most common elements in a list. This can be done with the .most_common() method.\n",
    "\n",
    "Practice using this now to find the most common species in a penguins list.\n",
    "\"\"\"\n",
    "\n",
    "# Instructions\n",
    "\n",
    "\"\"\"\n",
    "\n",
    "    Import the Counter object from collections.\n",
    "    Create a Counter of the penguins list called penguins_species_counts; use a list comprehension to return the Species of each penguin to the Counter.\n",
    "    Print the three most common species counts.\n",
    "\n",
    "\"\"\"\n",
    "\n",
    "# solution\n",
    "\n",
    "# Import the Counter object\n",
    "from collections import Counter\n",
    "\n",
    "# Create a Counter of the penguins list: penguins_species_counts\n",
    "penguins_species_counts = Counter([penguin[\"Species\"] for penguin in penguins])\n",
    "\n",
    "# Find the 3 most common species counts\n",
    "print(penguins_species_counts.most_common(3))\n",
    "\n",
    "#----------------------------------#\n",
    "\n",
    "# Conclusion\n",
    "\n",
    "\"\"\"\n",
    "Excellent! Now that we've got a good understanding of Counter, let's take a look at default dictionaries.\n",
    "\"\"\""
   ]
  },
  {
   "cell_type": "code",
   "execution_count": 19,
   "metadata": {},
   "outputs": [],
   "source": [
    "weight_log = [('Chinstrap', 'FEMALE', 3800.0),\n",
    " ('Adlie', 'FEMALE', 3450.0),\n",
    " ('Gentoo', 'FEMALE', 4300.0),\n",
    " ('Adlie', 'FEMALE', 3550.0),\n",
    " ('Adlie', 'FEMALE', 3175.0)]"
   ]
  },
  {
   "cell_type": "code",
   "execution_count": 20,
   "metadata": {
    "tags": []
   },
   "outputs": [
    {
     "name": "stdout",
     "output_type": "stream",
     "text": [
      "[('FEMALE', 3450.0), ('FEMALE', 3550.0), ('FEMALE', 3175.0)]\n"
     ]
    },
    {
     "data": {
      "text/plain": [
       "\"\\nNicely done! In the next exercise, you'll practice creating a defaultdict and see how useful it can be.\\n\""
      ]
     },
     "execution_count": 20,
     "metadata": {},
     "output_type": "execute_result"
    }
   ],
   "source": [
    "# exercise 03\n",
    "\n",
    "\"\"\"\n",
    "Creating dictionaries of an unknown structure\n",
    "\n",
    "Occasionally, you'll need a structure to hold nested data, and you may not be certain that the keys will all actually exist. This can be an issue if you're trying to append items to a list for that key. You might remember the NYC data that we explored in the video. In order to solve the problem with a regular dictionary, you'll need to test that the key exists in the dictionary, and if not, add it with an empty list.\n",
    "\n",
    "You'll be working with a list of entries that contains species, flipper length, body mass, and sex of the female penguins in our study. You're going to solve this same type of problem with a much easier solution in the next exercise.\n",
    "\"\"\"\n",
    "\n",
    "# Instructions\n",
    "\n",
    "\"\"\"\n",
    "\n",
    "    Create an empty dictionary called female_penguin_weights.\n",
    "    Iterate over weight_log, unpacking it into the variables species, sex, and body_mass.\n",
    "    Check to see if the species already exists in the female_penguin_weights dictionary. If it does not exist, create an empty list for the species key. Then, append a tuple consisting of sex and body_mass to the species key of the female_penguin_weights dictionary for all entries in the weight_log.\n",
    "    Print the female_penguin_weights for 'Adlie'.\n",
    "\n",
    "\"\"\"\n",
    "\n",
    "# solution\n",
    "\n",
    "# Create an empty dictionary: female_penguin_weights\n",
    "female_penguin_weights = {}\n",
    "\n",
    "# Iterate over the weight_log entries\n",
    "for species, sex, body_mass in weight_log:\n",
    "    # Check to see if species is already in the dictionary\n",
    "    if species not in female_penguin_weights:\n",
    "        # Create an empty list for any missing species\n",
    "        female_penguin_weights[species] = []\n",
    "    # Append the sex and body_mass as a tuple to the species keys list\n",
    "    female_penguin_weights[species].append((sex, body_mass))\n",
    "    \n",
    "# Print the weights for 'Adlie'\n",
    "print(female_penguin_weights[\"Adlie\"])\n",
    "\n",
    "#----------------------------------#\n",
    "\n",
    "# Conclusion\n",
    "\n",
    "\"\"\"\n",
    "Nicely done! In the next exercise, you'll practice creating a defaultdict and see how useful it can be.\n",
    "\"\"\""
   ]
  },
  {
   "cell_type": "code",
   "execution_count": 21,
   "metadata": {},
   "outputs": [],
   "source": [
    "weight_log = [('Gentoo', 'MALE', 5500.0),\n",
    " ('Chinstrap', 'MALE', 4300.0),\n",
    " ('Adlie', 'MALE', 3800.0),\n",
    " ('Gentoo', 'MALE', 5800.0),\n",
    " ('Chinstrap', 'MALE', 4100.0),\n",
    " ('Adlie', 'MALE', 3975.0),\n",
    " ('Gentoo', 'MALE', 5400.0),\n",
    " ('Chinstrap', 'MALE', 4800.0),\n",
    " ('Chinstrap', 'MALE', 3950.0),\n",
    " ('Gentoo', 'MALE', 5250.0),\n",
    " ('Gentoo', 'MALE', 4925.0),\n",
    " ('Adlie', 'MALE', 3950.0),\n",
    " ('Chinstrap', 'MALE', 3800.0),\n",
    " ('Chinstrap', 'MALE', 4050.0),\n",
    " ('Adlie', 'MALE', 3650.0)]"
   ]
  },
  {
   "cell_type": "code",
   "execution_count": 22,
   "metadata": {
    "tags": []
   },
   "outputs": [
    {
     "name": "stdout",
     "output_type": "stream",
     "text": [
      "[('Gentoo', [5500.0, 5800.0, 5400.0, 5250.0, 4925.0]), ('Chinstrap', [4300.0, 4100.0, 4800.0, 3950.0, 3800.0, 4050.0])]\n"
     ]
    },
    {
     "data": {
      "text/plain": [
       "\"\\nGood work! Safely working with dictionaries using defaultdict is a powerful tool for daily use. Now we'll explore maintaining dictionary order.\\n\""
      ]
     },
     "execution_count": 22,
     "metadata": {},
     "output_type": "execute_result"
    }
   ],
   "source": [
    "# exercise 04\n",
    "\n",
    "\"\"\"\n",
    "Safely appending to a key's value list\n",
    "\n",
    "Often when working with dictionaries, you will need to initialize a data type before you can use it. A prime example of this is a list, which has to be initialized on each key before you can append to that list.\n",
    "\n",
    "A defaultdict allows you to define what each uninitialized key will contain. When establishing a defaultdict, you pass it the type you want it to be, such as a list, tuple, set, int, string, dictionary or any other valid type object.\n",
    "\n",
    "You'll be working with the same weight log as last exercise, but with the male penguins in our study.\n",
    "\"\"\"\n",
    "\n",
    "# Instructions\n",
    "\n",
    "\"\"\"\n",
    "\n",
    "    Import defaultdict from collections.\n",
    "    Create a defaultdict with a default type of list called male_penguin_weights.\n",
    "    Iterate over the list weight_log, unpacking it into the variables species, sex, and body_mass, as you did in the previous exercise. Use species as the key of the male_penguin_weights dictionary and append body_mass to its value.\n",
    "    Print the first 2 items of the male_penguin_weights dictionary. You can use the .items() method for this. Remember to make it a list.\n",
    "\n",
    "\"\"\"\n",
    "\n",
    "# solution\n",
    "\n",
    "# Import defaultdict\n",
    "from collections import defaultdict\n",
    "\n",
    "# Create a defaultdict with a default type of list: male_penguin_weights\n",
    "male_penguin_weights = defaultdict(list)\n",
    "\n",
    "# Iterate over the weight_log entries\n",
    "for species, sex, body_mass in weight_log:\n",
    "    # Use the species as the key, and append the body_mass to it\n",
    "    male_penguin_weights[species].append(body_mass)\n",
    "    \n",
    "# Print the first 2 items of the male_penguin_weights dictionary\n",
    "print(list(male_penguin_weights.items())[:2])\n",
    "\n",
    "#----------------------------------#\n",
    "\n",
    "# Conclusion\n",
    "\n",
    "\"\"\"\n",
    "Good work! Safely working with dictionaries using defaultdict is a powerful tool for daily use. Now we'll explore maintaining dictionary order.\n",
    "\"\"\""
   ]
  },
  {
   "cell_type": "code",
   "execution_count": 23,
   "metadata": {
    "tags": []
   },
   "outputs": [
    {
     "name": "stdout",
     "output_type": "stream",
     "text": [
      "[SpeciesDetails(species='Gentoo', sex='MALE', body_mass=5500.0), SpeciesDetails(species='Chinstrap', sex='MALE', body_mass=4300.0), SpeciesDetails(species='Adlie', sex='MALE', body_mass=3800.0), SpeciesDetails(species='Gentoo', sex='MALE', body_mass=5800.0), SpeciesDetails(species='Chinstrap', sex='MALE', body_mass=4100.0)]\n"
     ]
    },
    {
     "data": {
      "text/plain": [
       "\"\\nNamedtuples are great for making an easy-to-use datatype. Let's look at how we can use them to make our code easier to read and reason about.\\n\""
      ]
     },
     "execution_count": 23,
     "metadata": {},
     "output_type": "execute_result"
    }
   ],
   "source": [
    "# exercise 05\n",
    "\n",
    "\"\"\"\n",
    "Creating namedtuples for storing data\n",
    "\n",
    "Often times when working with data, you will use a dictionary just so you can use key names to make reading the code and accessing the data easier to understand. Python has another container called a namedtuple that is a tuple, but has names for each position of the tuple. You create one by passing a name for the tuple type and a list of field names.\n",
    "\n",
    "For example, Cookie = namedtuple(\"Cookie\", ['name', 'quantity']) will create a container, and you can create new ones of the type using Cookie('chocolate chip', 1) where you can access the name using the name attribute, and then get the quantity using the quantity attribute.\n",
    "\n",
    "In this exercise, you're going to restructure the penguin weight log data you've been working with into namedtuples for more descriptive code.\n",
    "\"\"\"\n",
    "\n",
    "# Instructions\n",
    "\n",
    "\"\"\"\n",
    "\n",
    "    Import namedtuple from collections.\n",
    "    Create a namedtuple called SpeciesDetails with a type name of SpeciesDetails and fields of 'species', 'sex', and 'body_mass'.\n",
    "    Create a list called labeled_entries.\n",
    "    Iterate over the weight_log list, unpacking it into species, sex, and body_mass, and create a new SpeciesDetails namedtuple instance for each entry and append it to labeled_entries.\n",
    "\n",
    "\"\"\"\n",
    "\n",
    "# solution\n",
    "\n",
    "# Import namedtuple from collections\n",
    "from collections import namedtuple\n",
    "\n",
    "# Create the namedtuple: SpeciesDetails\n",
    "SpeciesDetails = namedtuple(\"SpeciesDetails\", ['species', 'sex', 'body_mass'])\n",
    "\n",
    "# Create the empty list: labeled_entries\n",
    "labeled_entries = []\n",
    "\n",
    "# Iterate over the weight_log entries\n",
    "for species, sex, body_mass in weight_log:\n",
    "    # Append a new SpeciesDetails namedtuple instance for each entry to labeled_entries\n",
    "    labeled_entries.append(SpeciesDetails(species, sex, body_mass))\n",
    "    \n",
    "print(labeled_entries[:5])\n",
    "\n",
    "#----------------------------------#\n",
    "\n",
    "# Conclusion\n",
    "\n",
    "\"\"\"\n",
    "Namedtuples are great for making an easy-to-use datatype. Let's look at how we can use them to make our code easier to read and reason about.\n",
    "\"\"\""
   ]
  },
  {
   "cell_type": "code",
   "execution_count": 24,
   "metadata": {
    "tags": []
   },
   "outputs": [
    {
     "name": "stdout",
     "output_type": "stream",
     "text": [
      "MALE:4300.0\n",
      "MALE:4100.0\n",
      "MALE:4800.0\n",
      "MALE:3950.0\n",
      "MALE:3800.0\n",
      "MALE:4050.0\n"
     ]
    },
    {
     "data": {
      "text/plain": [
       "'\\nCongratulations! Using namedtuples can really make the intent of your code clear.\\n'"
      ]
     },
     "execution_count": 24,
     "metadata": {},
     "output_type": "execute_result"
    }
   ],
   "source": [
    "# exercise 06\n",
    "\n",
    "\"\"\"\n",
    "Leveraging attributes on namedtuples\n",
    "\n",
    "Once you have a namedtuple, you can write more expressive code that is easier to understand. Remember, you can access the elements in the tuple by their name as an attribute. For example, you can access the species of the namedtuples in the previous exercise using the .species attribute.\n",
    "\n",
    "Here, you'll use the tuples you made in the previous exercise to see how this works.\n",
    "\"\"\"\n",
    "\n",
    "# Instructions\n",
    "\n",
    "\"\"\"\n",
    "Iterate over the first twenty entryss in the labeled_entries list:\n",
    "\n",
    "    If it is a Chinstrap species:\n",
    "        Print the entry's sex and body_mass separated by a :.\n",
    "\"\"\"\n",
    "\n",
    "# solution\n",
    "\n",
    "# Iterate over the first twenty entries in labeled_entries\n",
    "for entry in labeled_entries[:20]:\n",
    "    # if the entry's species equals Chinstrap\n",
    "    if entry.species == \"Chinstrap\":\n",
    "      # Print each entry's sex and body_mass seperated by a colon\n",
    "      print(f'{entry.sex}:{entry.body_mass}')\n",
    "\n",
    "#----------------------------------#\n",
    "\n",
    "# Conclusion\n",
    "\n",
    "\"\"\"\n",
    "Congratulations! Using namedtuples can really make the intent of your code clear.\n",
    "\"\"\""
   ]
  },
  {
   "cell_type": "code",
   "execution_count": 25,
   "metadata": {
    "tags": []
   },
   "outputs": [
    {
     "data": {
      "text/plain": [
       "\"\\nGreat work, now that we've defined our dataclass, let's put it to use.\\n\""
      ]
     },
     "execution_count": 25,
     "metadata": {},
     "output_type": "execute_result"
    }
   ],
   "source": [
    "# exercise 07\n",
    "\n",
    "\"\"\"\n",
    "Creating a dataclass\n",
    "\n",
    "Dataclasses can provide even richer ways of storing and working with data. Previously we used a namedtuple on weight log entries to make a nice easy to use data structure. In this code, we're going to use a dataclass to do the same thing, but add a custom property to return the body mass to flipper length ratio. Dataclasses start with a collection of fields and their types. Then you define any properties, which are functions on the dataclass that operate on itself to return additional information about the data. For example, a person dataclass might have a property that calculates someone's current age based on their birthday and the current date.\n",
    "\"\"\"\n",
    "\n",
    "# Instructions\n",
    "\n",
    "\"\"\"\n",
    "\n",
    "    Import dataclass from dataclasses.\n",
    "    Add the species (string), sex (string), body_mass (int), and flipper_length (int) fields to the dataclass.\n",
    "    Add a property (mass_to_flipper_length_ratio) that returns the body_mass divided by the flipper_length.\n",
    "\n",
    "\"\"\"\n",
    "\n",
    "# solution\n",
    "\n",
    "# Import dataclass\n",
    "from dataclasses import dataclass\n",
    "\n",
    "@dataclass\n",
    "class WeightEntry:\n",
    "    # Define the fields on the class\n",
    "    species: str\n",
    "    body_mass: int\n",
    "    flipper_length: int\n",
    "    sex: str\n",
    "        \n",
    "    # Define a property that returns the body_mass / flipper_length\n",
    "    @property\n",
    "    def mass_to_flipper_length_ratio(self):\n",
    "        return self.body_mass / self.flipper_length\n",
    "\n",
    "#----------------------------------#\n",
    "\n",
    "# Conclusion\n",
    "\n",
    "\"\"\"\n",
    "Great work, now that we've defined our dataclass, let's put it to use.\n",
    "\"\"\""
   ]
  },
  {
   "cell_type": "code",
   "execution_count": 28,
   "metadata": {},
   "outputs": [],
   "source": [
    "weight_log = [('Gentoo', 'MALE', 5500.0, 230.0),\n",
    " ('Gentoo', 'MALE', 5800.0, 229.0),\n",
    " ('Gentoo', 'MALE', 5400.0, 225.0),\n",
    " ('Gentoo', 'MALE', 5250.0, 219.0),\n",
    " ('Gentoo', 'FEMALE', 4300.0, 210.0),\n",
    " ('Gentoo', 'MALE', 4925.0, 216.0)]"
   ]
  },
  {
   "cell_type": "code",
   "execution_count": 33,
   "metadata": {
    "tags": []
   },
   "outputs": [
    {
     "name": "stdout",
     "output_type": "stream",
     "text": [
      "[0.04181818181818182, 0.03948275862068965, 0.041666666666666664, 0.04171428571428572, 0.04883720930232558]\n"
     ]
    },
    {
     "data": {
      "text/plain": [
       "'\\nAwesome work! Dataclasses are like a more powerful version of a namedtuple and I believe they are a little easier to read.\\n'"
      ]
     },
     "execution_count": 33,
     "metadata": {},
     "output_type": "execute_result"
    }
   ],
   "source": [
    "# exercise 08\n",
    "\n",
    "\"\"\"\n",
    "Using dataclasses\n",
    "\n",
    "Let's put our WeightEntry dataclass we created in the prior exercise to use. We'll create an instance of the WeightEntry for each entry in the weight_log and then use the mass_to_flipper_length_ratio property we added to perform the calculation. Here is a reminder of our WeightEntry dataclass.\n",
    "\n",
    "@dataclass\n",
    "class WeightEntry:\n",
    "    # Define the fields on the class\n",
    "    species: str\n",
    "    flipper_length: int\n",
    "    body_mass: int\n",
    "    sex: str\n",
    "\n",
    "    @property\n",
    "    def mass_to_flipper_length_ratio(self):\n",
    "        return self.body_mass / self.flipper_length\n",
    "\n",
    "\"\"\"\n",
    "\n",
    "# Instructions\n",
    "\n",
    "\"\"\"\n",
    "\n",
    "    Create an empty list called labeled_entries.\n",
    "    Iterate over the weight_log entries using tuple expansion to break out species, sex, flipper_length, body_mass.\n",
    "        Append a new WeightEntry dataclass instance for each entry to labeled_entries. \n",
    "    Print a list of the first 5 mass_to_flipper_length_ratio values using a list comprehension.\n",
    "\n",
    "\"\"\"\n",
    "\n",
    "# solution\n",
    "\n",
    "# Create the empty list: labeled_entries\n",
    "labeled_entries = []\n",
    "\n",
    "# Iterate over the weight_log entries\n",
    "for species, sex, flipper_length, body_mass in weight_log:\n",
    "    # Append a new WeightEntry instance to labeled_entries\n",
    "    labeled_entries.append(WeightEntry(species, body_mass, flipper_length, sex))\n",
    "    \n",
    "# Print a list of the first 5 mass_to_flipper_length_ratio values\n",
    "print([entry.mass_to_flipper_length_ratio for entry in labeled_entries[:5]])\n",
    "\n",
    "#----------------------------------#\n",
    "\n",
    "# Conclusion\n",
    "\n",
    "\"\"\"\n",
    "Awesome work! Dataclasses are like a more powerful version of a namedtuple and I believe they are a little easier to read.\n",
    "\"\"\""
   ]
  }
 ],
 "metadata": {
  "kernelspec": {
   "display_name": "Python 3 (ipykernel)",
   "language": "python",
   "name": "python3"
  },
  "language_info": {
   "codemirror_mode": {
    "name": "ipython",
    "version": 3
   },
   "file_extension": ".py",
   "mimetype": "text/x-python",
   "name": "python",
   "nbconvert_exporter": "python",
   "pygments_lexer": "ipython3",
   "version": "3.11.6"
  }
 },
 "nbformat": 4,
 "nbformat_minor": 4
}
