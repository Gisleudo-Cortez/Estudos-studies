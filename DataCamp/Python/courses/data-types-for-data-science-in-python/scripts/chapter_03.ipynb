{
 "cells": [
  {
   "cell_type": "code",
   "execution_count": 1,
   "metadata": {
    "editable": true,
    "slideshow": {
     "slide_type": ""
    },
    "tags": []
   },
   "outputs": [],
   "source": [
    "# run this to shorten the data import from the files\n",
    "import os\n",
    "cwd = os.path.dirname(os.getcwd())+'/'\n",
    "path_data = os.path.join(os.path.dirname(os.getcwd()), 'datasets/')\n"
   ]
  },
  {
   "cell_type": "markdown",
   "metadata": {},
   "source": [
    "# Choosing when to use integers and floats\n",
    "\n",
    "Both floats and integers can be interchangeably used in a lot of circumstances. Let's categorize a few good patterns around when to use one vs. the other.\n",
    "\n",
    "![Numeric_Types](/home/nero/Documents/Estudos/DataCamp/Python/courses/data-types-for-data-science-in-python/Numeric_types.png)\n",
    "\n",
    "**Congratulations, you've really got a good mind for numeric types.**"
   ]
  },
  {
   "cell_type": "code",
   "execution_count": 15,
   "metadata": {},
   "outputs": [
    {
     "name": "stdout",
     "output_type": "stream",
     "text": [
      "0.0001\n",
      "1e-05\n",
      "1e-07\n",
      "0.000010\n",
      "0.000000\n",
      "0.0000001\n"
     ]
    },
    {
     "data": {
      "text/plain": [
       "'\\nAwesome! Notice how the output trims it a bit much by default, but that we still have total control over it via the precision.\\n'"
      ]
     },
     "execution_count": 15,
     "metadata": {},
     "output_type": "execute_result"
    }
   ],
   "source": [
    "# exercise 01\n",
    "\n",
    "\"\"\"\n",
    "Printing floats\n",
    "\n",
    "Scientific notation is a powerful tool for representing numbers, but it can be confusing to handle when trying to print float values. However, we can use the f strings we learned about previously to make sure we get them printed properly every time by using a format specifier. For example, if we wanted to format a variable in an f string as a float, we can use the f format specifier, such as: print(f\"{some_variable:f}\"). It also takes an operation precision on the float format specifier, for example, print(f\"{some_variable:.4f}\") would print four decimal places of precision.\n",
    "\"\"\"\n",
    "\n",
    "# Instructions\n",
    "\n",
    "\"\"\"\n",
    "\n",
    "\n",
    "    Print float1, float2, and float3 notice where the jump to scientific notation occurs.\n",
    "    Print float2 and float3 using the default float format specifier, and notice what happened to float3.\n",
    "    Print float3 with the float format specifier and a precision of 7.\n",
    "\n",
    "\"\"\"\n",
    "\n",
    "# solution\n",
    "\n",
    "float1, float2, float3 = 0.0001, 0.00001, 0.0000001\n",
    "\n",
    "# Print floats 1, 2, and 3\n",
    "print(float1)\n",
    "print(float2)\n",
    "print(float3)\n",
    "\n",
    "# Print floats 2 and 3 using the f string formatter\n",
    "print(f\"{float2:f}\")\n",
    "print(f\"{float3:f}\")\n",
    "\n",
    "# Print float 3 with a 7 f string precision\n",
    "print(f\"{float3:.7f}\")\n",
    "\n",
    "#----------------------------------#\n",
    "\n",
    "# Conclusion\n",
    "\n",
    "\"\"\"\n",
    "Awesome! Notice how the output trims it a bit much by default, but that we still have total control over it via the precision.\n",
    "\"\"\""
   ]
  },
  {
   "cell_type": "code",
   "execution_count": 16,
   "metadata": {
    "tags": []
   },
   "outputs": [
    {
     "name": "stdout",
     "output_type": "stream",
     "text": [
      "2.0\n",
      "0.5\n",
      "2\n",
      "0\n",
      "<class 'float'>\n",
      "<class 'int'>\n"
     ]
    },
    {
     "data": {
      "text/plain": [
       "'\\nGreat work! Missing the difference between / and // can cause some issues especially when working with legacy Python 2 code.\\n'"
      ]
     },
     "execution_count": 16,
     "metadata": {},
     "output_type": "execute_result"
    }
   ],
   "source": [
    "# exercise 02\n",
    "\n",
    "\"\"\"\n",
    "Division with integers and floats\n",
    "\n",
    "Python supports two different division operators: / and //. In Python 3, / will consistently return a float result, and // is floor division and will consistently return an integer result. Floor division is the same as doing math.floor(numerator/divisor), which returns the highest integer less than or equal to the result of the division operation. You can learn more about math.floor in the Python Docs.\n",
    "\"\"\"\n",
    "\n",
    "# Instructions\n",
    "\n",
    "\"\"\"\n",
    "\n",
    "\n",
    "    Print the result of 2/1 and 1/2.\n",
    "    Print the floored division result of 2//1 and 1//2.\n",
    "    Print the type of 2/1 and 2//1.\n",
    "\n",
    "\"\"\"\n",
    "\n",
    "# solution\n",
    "\n",
    "# Print the result of 2/1 and 1/2\n",
    "print(2/1)\n",
    "print(1/2)\n",
    "\n",
    "# Print the floored division result of 2//1 and 1//2\n",
    "print(2//1)\n",
    "print(1//2)\n",
    "\n",
    "# Print the type of 2/1 and 2//1\n",
    "print(type(2/1))\n",
    "print(type(2//1))\n",
    "\n",
    "#----------------------------------#\n",
    "\n",
    "# Conclusion\n",
    "\n",
    "\"\"\"\n",
    "Great work! Missing the difference between / and // can cause some issues especially when working with legacy Python 2 code.\n",
    "\"\"\""
   ]
  },
  {
   "cell_type": "code",
   "execution_count": 17,
   "metadata": {
    "tags": []
   },
   "outputs": [
    {
     "name": "stdout",
     "output_type": "stream",
     "text": [
      "False\n",
      "True\n"
     ]
    },
    {
     "data": {
      "text/plain": [
       "'\\nGreat work! Notice how an empty list is falsey, but a list with an item in it is truthy.\\n'"
      ]
     },
     "execution_count": 17,
     "metadata": {},
     "output_type": "execute_result"
    }
   ],
   "source": [
    "# exercise 03\n",
    "\n",
    "\"\"\"\n",
    "More than just true and false\n",
    "\n",
    "Python has two boolean values available for you to use: True and False. Most commonly these boolean values are used to indicate that something is on or off, yes or no, or similar states. Additionally, many python types return \"truthy\" or \"falsey\" values depending on their condition when evaluated using the bool() function.\n",
    "\"\"\"\n",
    "\n",
    "# Instructions\n",
    "\n",
    "\"\"\"\n",
    "\n",
    "\n",
    "    Create an empty list called my_list\n",
    "    Print the truthiness of my_list.\n",
    "    Append the string 'cookies' to my_list\n",
    "    Print the truthiness of my_list.\n",
    "\n",
    "\"\"\"\n",
    "\n",
    "# solution\n",
    "\n",
    "# Create an empty list\n",
    "my_list = []\n",
    "\n",
    "# Check the truthiness of my_list\n",
    "print(bool(my_list))\n",
    "\n",
    "# Append the string 'cookies' to my_list\n",
    "my_list.append('cookies')\n",
    "\n",
    "# Check the truthiness of my_list\n",
    "print(bool(my_list))\n",
    "\n",
    "#----------------------------------#\n",
    "\n",
    "# Conclusion\n",
    "\n",
    "\"\"\"\n",
    "Great work! Notice how an empty list is falsey, but a list with an item in it is truthy.\n",
    "\"\"\""
   ]
  },
  {
   "cell_type": "code",
   "execution_count": 18,
   "metadata": {},
   "outputs": [],
   "source": [
    "penguins = [{'species': 'Adlie',\n",
    "  'flipper_length': 190.0,\n",
    "  'body_mass': 3050.0,\n",
    "  'sex': 'FEMALE'},\n",
    " {'species': 'Adlie',\n",
    "  'flipper_length': 184.0,\n",
    "  'body_mass': 3325.0,\n",
    "  'sex': 'FEMALE'},\n",
    " {'species': 'Gentoo',\n",
    "  'flipper_length': 209.0,\n",
    "  'body_mass': 4800.0,\n",
    "  'sex': 'FEMALE'},\n",
    " {'species': 'Adlie',\n",
    "  'flipper_length': 193.0,\n",
    "  'body_mass': 4200.0,\n",
    "  'sex': 'MALE'},\n",
    " {'species': 'Gentoo',\n",
    "  'flipper_length': 210.0,\n",
    "  'body_mass': 4400.0,\n",
    "  'sex': 'FEMALE'},\n",
    " {'species': 'Gentoo',\n",
    "  'flipper_length': 213.0,\n",
    "  'body_mass': 4650.0,\n",
    "  'sex': 'FEMALE'},\n",
    " {'species': 'Chinstrap',\n",
    "  'flipper_length': 193.0,\n",
    "  'body_mass': 3600.0,\n",
    "  'sex': 'FEMALE'},\n",
    " {'species': 'Adlie',\n",
    "  'flipper_length': 193.0,\n",
    "  'body_mass': 3800.0,\n",
    "  'sex': 'MALE'},\n",
    " {'species': 'Chinstrap',\n",
    "  'flipper_length': 199.0,\n",
    "  'body_mass': 3900.0,\n",
    "  'sex': 'FEMALE'},\n",
    " {'species': 'Chinstrap',\n",
    "  'flipper_length': 195.0,\n",
    "  'body_mass': 3650.0,\n",
    "  'sex': 'FEMALE'},\n",
    " {'species': 'Adlie',\n",
    "  'flipper_length': 185.0,\n",
    "  'body_mass': 3700.0,\n",
    "  'sex': 'FEMALE'},\n",
    " {'species': 'Gentoo',\n",
    "  'flipper_length': 208.0,\n",
    "  'body_mass': 4575.0,\n",
    "  'sex': 'FEMALE'},\n",
    " {'species': 'Adlie',\n",
    "  'flipper_length': 196.0,\n",
    "  'body_mass': 4350.0,\n",
    "  'sex': 'MALE'},\n",
    " {'species': 'Adlie',\n",
    "  'flipper_length': 191.0,\n",
    "  'body_mass': 3700.0,\n",
    "  'sex': 'FEMALE'},\n",
    " {'species': 'Chinstrap',\n",
    "  'flipper_length': 195.0,\n",
    "  'body_mass': 3300.0,\n",
    "  'sex': 'FEMALE'},\n",
    " {'species': 'Adlie',\n",
    "  'flipper_length': 195.0,\n",
    "  'body_mass': 3450.0,\n",
    "  'sex': 'FEMALE'},\n",
    " {'species': 'Gentoo',\n",
    "  'flipper_length': 217.0,\n",
    "  'body_mass': 4875.0,\n",
    "  'sex': '.'},\n",
    " {'species': 'Gentoo',\n",
    "  'flipper_length': 212.0,\n",
    "  'body_mass': 4875.0,\n",
    "  'sex': 'FEMALE'},\n",
    " {'species': 'Adlie',\n",
    "  'flipper_length': 205.0,\n",
    "  'body_mass': 4300.0,\n",
    "  'sex': 'MALE'},\n",
    " {'species': 'Gentoo',\n",
    "  'flipper_length': 220.0,\n",
    "  'body_mass': 6000.0,\n",
    "  'sex': 'MALE'}]"
   ]
  },
  {
   "cell_type": "code",
   "execution_count": 19,
   "metadata": {
    "tags": []
   },
   "outputs": [
    {
     "name": "stdout",
     "output_type": "stream",
     "text": [
      "Adlie - FEMALE\n",
      "Gentoo - FEMALE\n",
      "Adlie - MALE\n",
      "Gentoo - FEMALE\n",
      "Gentoo - FEMALE\n",
      "Chinstrap - FEMALE\n",
      "Adlie - MALE\n",
      "Chinstrap - FEMALE\n",
      "Chinstrap - FEMALE\n",
      "Adlie - FEMALE\n",
      "Gentoo - FEMALE\n",
      "Adlie - MALE\n",
      "Adlie - FEMALE\n",
      "Adlie - FEMALE\n",
      "Gentoo - .\n",
      "Gentoo - FEMALE\n",
      "Adlie - MALE\n",
      "Gentoo - MALE\n"
     ]
    },
    {
     "data": {
      "text/plain": [
       "\"\\nFantastic! You'll be using comparisions a lot through out your career.\\n\""
      ]
     },
     "execution_count": 19,
     "metadata": {},
     "output_type": "execute_result"
    }
   ],
   "source": [
    "# exercise 04\n",
    "\n",
    "\"\"\"\n",
    "Comparisons\n",
    "\n",
    "Booleans and their truthiness are most often used in comparisions, and we use comparisions without even thinking about their underlying data type. To perform a comparision, we can use a comparision operator. Python supports the following comparision operators:\n",
    "\n",
    "    == equal to\n",
    "    != not equal to\n",
    "    > greater than\n",
    "    < less than\n",
    "    >= greater than or equal to\n",
    "    <= less than or equal to For this exercise, we'll be using a subset of the Palmer Archipelago (Antarctica) penguin data set, named penguins, as a list of dictionaries with the keys of species, flipper_length, body_mass and sex.\n",
    "\n",
    "\"\"\"\n",
    "\n",
    "# Instructions\n",
    "\n",
    "\"\"\"\n",
    "\n",
    "\n",
    "    Use a for loop to iterate over the penguins list.\n",
    "    Check the penguin entry for a body_mass of more than 3300 grams.\n",
    "    Print the species and sex of the penguin if true.\n",
    "\n",
    "\"\"\"\n",
    "\n",
    "# solution\n",
    "\n",
    "# Use a for loop to iterate over the penguins list\n",
    "for penguin in penguins:\n",
    "  # Check the penguin entry for a body mass of more than 3300 grams\n",
    "  if penguin[\"body_mass\"] > 3300:\n",
    "  \t# Print the species and sex of the penguin if true\n",
    "    print(f\"{penguin['species']} - {penguin['sex']}\")\n",
    "\n",
    "#----------------------------------#\n",
    "\n",
    "# Conclusion\n",
    "\n",
    "\"\"\"\n",
    "Fantastic! You'll be using comparisions a lot through out your career.\n",
    "\"\"\""
   ]
  },
  {
   "cell_type": "code",
   "execution_count": 20,
   "metadata": {},
   "outputs": [],
   "source": [
    "penguin_305_details = {'species': 'Adlie',\n",
    " 'flipper_length': 190.0,\n",
    " 'body_mass': 3050.0,\n",
    " 'tracked': True,\n",
    " 'sex': 'FEMALE'}"
   ]
  },
  {
   "cell_type": "code",
   "execution_count": 21,
   "metadata": {
    "tags": []
   },
   "outputs": [
    {
     "name": "stdout",
     "output_type": "stream",
     "text": [
      "FEMALE: False\n",
      "True: True\n"
     ]
    },
    {
     "data": {
      "text/plain": [
       "'\\nAwesome! Remembering this lesson can help you avoid a fairly common problem with your code.\\n'"
      ]
     },
     "execution_count": 21,
     "metadata": {},
     "output_type": "execute_result"
    }
   ],
   "source": [
    "# exercise 05\n",
    "\n",
    "\"\"\"\n",
    "Truthy, True, Falsey, and False\n",
    "\n",
    "While comparisons check for truthiness, something being truthy is not the same as it being True. The inverse of that statement is also true about falsey values and them not being False. So we need to be vigilent when we are checking is something is True or False vs truthy or falsey. In Python, we have the is operator to check if two things are identical. This time we'll be using a penguin details record dictionary which has the same keys as the prior exercise (species, flipper_length, body_mass, sex) with the tracked key that has a boolean value.\n",
    "\n",
    "We loaded a dictionary, penguin_305_details, with all the details of a singular penguin's data.\n",
    "\"\"\"\n",
    "\n",
    "# Instructions\n",
    "\n",
    "\"\"\"\n",
    "\n",
    "    Check the truthiness of penguin_305_details sex key.\n",
    "        If true, check if sex is True and store it as sex_is_true.\n",
    "        Print the sex key and sex_is_true.\n",
    "    Check the truthiness of penguin_305_details tracked key.\n",
    "        If true, check if tracked is True and store it as tracked_is_true.\n",
    "        Print the tracked key and tracked_is_true.\n",
    "\n",
    "\"\"\"\n",
    "\n",
    "# solution\n",
    "\n",
    "# Check the truthiness of penguin_305_details sex key\n",
    "if penguin_305_details[\"sex\"]:\n",
    "\t# If true, check if sex is True and store it as sex_is_true\n",
    "    sex_is_true = penguin_305_details[\"sex\"] is True\n",
    "    # Print the sex key's value and sex_is_true\n",
    "    print(f\"{penguin_305_details['sex']}: {sex_is_true}\")\n",
    "\n",
    "# Check the truthiness of penguin_305_details tracked key\n",
    "if penguin_305_details[\"tracked\"]:\n",
    "\t# If true, check if tracked is True and store it as tracked_is_true\n",
    "    tracked_is_true = penguin_305_details[\"tracked\"] is True\n",
    "    # Print the tracked key and tracked_is_true\n",
    "    print(f\"{penguin_305_details['tracked']}: {tracked_is_true}\")\n",
    "\n",
    "#----------------------------------#\n",
    "\n",
    "# Conclusion\n",
    "\n",
    "\"\"\"\n",
    "Awesome! Remembering this lesson can help you avoid a fairly common problem with your code.\n",
    "\"\"\""
   ]
  },
  {
   "cell_type": "code",
   "execution_count": 22,
   "metadata": {
    "tags": []
   },
   "outputs": [
    {
     "name": "stdout",
     "output_type": "stream",
     "text": [
      "{'Chinstrap'}\n"
     ]
    },
    {
     "data": {
      "text/plain": [
       "\"\\nExcellent work, now that you can find the differences it's time to do the opposite.\\n\""
      ]
     },
     "execution_count": 22,
     "metadata": {},
     "output_type": "execute_result"
    }
   ],
   "source": [
    "# exercise 06\n",
    "\n",
    "\"\"\"\n",
    "Determining set differences\n",
    "\n",
    "Another way of comparing sets is to use the difference() method. It returns all the items found in one set but not another. It's important to remember the set you call the method on will be the one from which the items are returned. Unlike tuples, you can add() items to a set. A set will only add items that do not exist in the set.\n",
    "\n",
    "In this exercise, you'll explore what species had male subjects in our sample, but didn't have female subjects. The set male_penguin_species has been pre-loaded into your workspace.\n",
    "\"\"\"\n",
    "\n",
    "# Instructions\n",
    "\n",
    "\"\"\"\n",
    "\n",
    "    Use a list comprehension to iterate over each penguin in penguins saved as female_species_list:\n",
    "        If the the sex of the penguin is 'FEMALE', return the species value.\n",
    "    Create a set using the female_species_list as female_penguin_species.\n",
    "    Find the difference between female_penguin_species and male_penguin_species. Store the result as differences.\n",
    "    Print the differences. This has been done for you, so hit 'Submit Answer' to see the result!\n",
    "\n",
    "\"\"\"\n",
    "\n",
    "# solution\n",
    "\n",
    "male_penguin_species = {\"Adlie\", \"Gentoo\"}\n",
    "\n",
    "# Use a list comprehension to iterate over each penguin in penguins saved as female_species_list\n",
    "# If the the sex of the penguin is 'FEMALE', return the species value\n",
    "female_species_list = [penguin[\"species\"] for penguin in penguins if penguin[\"sex\"] == 'FEMALE']\n",
    "\n",
    "# Create a set using the female_species_list as female_penguin_species\n",
    "female_penguin_species = set(female_species_list)\n",
    "\n",
    "# Find the difference between female_penguin_species and male_penguin_species. Store the result as differences\n",
    "differences = female_penguin_species.difference(male_penguin_species)\n",
    "\n",
    "# Print the differences\n",
    "print(differences)\n",
    "\n",
    "#----------------------------------#\n",
    "\n",
    "# Conclusion\n",
    "\n",
    "\"\"\"\n",
    "Excellent work, now that you can find the differences it's time to do the opposite.\n",
    "\"\"\""
   ]
  },
  {
   "cell_type": "code",
   "execution_count": 23,
   "metadata": {
    "tags": []
   },
   "outputs": [
    {
     "name": "stdout",
     "output_type": "stream",
     "text": [
      "3\n",
      "2\n"
     ]
    },
    {
     "data": {
      "text/plain": [
       "'\\nWonderful work! As you can see from the output of len(overlapping_species), there are 2 overlapping species between the two sets.\\n'"
      ]
     },
     "execution_count": 23,
     "metadata": {},
     "output_type": "execute_result"
    }
   ],
   "source": [
    "# exercise 07\n",
    "\n",
    "\"\"\"\n",
    "Finding all the data and the overlapping data between sets\n",
    "\n",
    "Sets have several methods to combine, compare, and study them all based on mathematical set theory. The .union() method returns a set of all the elements found in the set you used the method on plus any sets passed as arguments to the method. You can also look for overlapping data in sets by using the .intersection() method on a set and passing another set as an argument. It will return an empty set if nothing matches.\n",
    "\n",
    "Your job in this exercise is to find the union and intersection in the species from male and female penguins. For this purpose, two sets have been pre-loaded into your workspace: female_penguin_species and male_penguin_species.\n",
    "\"\"\"\n",
    "\n",
    "# Instructions\n",
    "\n",
    "\"\"\"\n",
    "\n",
    "    Combine all the species in female_penguin_species and male_penguin_species by computing their union. Store the result as all_species.\n",
    "    Print the number of species in all_species. You can use the len() function to compute the number of species in all_species.\n",
    "    Find all the species that occur in both female_penguin_species and male_penguin_species by computing their intersection. Store the result as overlapping_species.\n",
    "    Print the number of species in overlapping_species.\n",
    "\n",
    "\"\"\"\n",
    "\n",
    "# solution\n",
    "\n",
    "# Find the union: all_species\n",
    "all_species = female_penguin_species.union(male_penguin_species)\n",
    "\n",
    "# Print the count of names in all_species\n",
    "print(len(all_species))\n",
    "\n",
    "# Find the intersection: overlapping_species\n",
    "overlapping_species = female_penguin_species.intersection(male_penguin_species)\n",
    "\n",
    "# Print the count of species in overlapping_species\n",
    "print(len(overlapping_species))\n",
    "\n",
    "#----------------------------------#\n",
    "\n",
    "# Conclusion\n",
    "\n",
    "\"\"\"\n",
    "Wonderful work! As you can see from the output of len(overlapping_species), there are 2 overlapping species between the two sets.\n",
    "\"\"\""
   ]
  }
 ],
 "metadata": {
  "kernelspec": {
   "display_name": "Python 3 (ipykernel)",
   "language": "python",
   "name": "python3"
  },
  "language_info": {
   "codemirror_mode": {
    "name": "ipython",
    "version": 3
   },
   "file_extension": ".py",
   "mimetype": "text/x-python",
   "name": "python",
   "nbconvert_exporter": "python",
   "pygments_lexer": "ipython3",
   "version": "3.11.6"
  }
 },
 "nbformat": 4,
 "nbformat_minor": 4
}
