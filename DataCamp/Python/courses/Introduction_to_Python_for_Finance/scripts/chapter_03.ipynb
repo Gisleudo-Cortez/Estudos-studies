{
 "cells": [
  {
   "cell_type": "code",
   "execution_count": 2,
   "metadata": {
    "tags": []
   },
   "outputs": [],
   "source": [
    "# run this to shorten the data import from the files\n",
    "path_data = ''\n"
   ]
  },
  {
   "cell_type": "code",
   "execution_count": 3,
   "metadata": {},
   "outputs": [
    {
     "name": "stdout",
     "output_type": "stream",
     "text": [
      "[170.12  93.29  55.28 145.3  171.81  59.5  100.5 ]\n",
      "[ 9.2   5.31  2.41  5.91 15.42  2.51  6.79]\n"
     ]
    },
    {
     "data": {
      "text/plain": [
       "'\\nNice job! In the next exercise you will see how easy it is to perform mathematical operations on arrays.\\n'"
      ]
     },
     "execution_count": 3,
     "metadata": {},
     "output_type": "execute_result"
    }
   ],
   "source": [
    "# exercise 01\n",
    "\n",
    "\"\"\"\n",
    "Create an array\n",
    "\n",
    "You can use the NumPy package to create arrays. NumPy arrays are optimized for numerical analyses and contain only a single data type. To convert a list to an array, you can use the array() function from NumPy.\n",
    "\n",
    "import numpy as np\n",
    "\n",
    "a_list = [1, 2, 3, 4]\n",
    "a_list\n",
    "\n",
    "[1, 2, 3, 4]\n",
    "\n",
    "an_array = np.array(a_list)\n",
    "an_array\n",
    "\n",
    "array([1, 2, 3, 4])\n",
    "\n",
    "\"\"\"\n",
    "\n",
    "# Instructions\n",
    "\n",
    "\"\"\"\n",
    "\n",
    "    Import numpy using the alias np.\n",
    "    Create prices_array and earnings_array arrays from the lists prices and earnings, respectively.\n",
    "\n",
    "\"\"\"\n",
    "\n",
    "# solution\n",
    "\n",
    "# Import numpy as np\n",
    "import numpy as np\n",
    "\n",
    "# Lists\n",
    "prices = [170.12, 93.29, 55.28, 145.30, 171.81, 59.50, 100.50]\n",
    "earnings = [9.2, 5.31, 2.41, 5.91, 15.42, 2.51, 6.79]\n",
    "\n",
    "# NumPy arrays\n",
    "prices_array = np.array(prices)\n",
    "earnings_array = np.array(earnings)\n",
    "\n",
    "# Print the arrays\n",
    "print(prices_array)\n",
    "print(earnings_array)\n",
    "\n",
    "#----------------------------------#\n",
    "\n",
    "# Conclusion\n",
    "\n",
    "\"\"\"\n",
    "Nice job! In the next exercise you will see how easy it is to perform mathematical operations on arrays.\n",
    "\"\"\""
   ]
  },
  {
   "cell_type": "code",
   "execution_count": 4,
   "metadata": {
    "tags": []
   },
   "outputs": [
    {
     "name": "stdout",
     "output_type": "stream",
     "text": [
      "[18.49130435 17.56873823 22.93775934 24.58544839 11.14202335 23.70517928\n",
      " 14.8011782 ]\n"
     ]
    },
    {
     "data": {
      "text/plain": [
       "\"\\nNice! It's time to subset NumPy arrays.\\n\""
      ]
     },
     "execution_count": 4,
     "metadata": {},
     "output_type": "execute_result"
    }
   ],
   "source": [
    "# exercise 02\n",
    "\n",
    "\"\"\"\n",
    "Elementwise operations on arrays\n",
    "\n",
    "Arrays allow for efficient numerical manipulation of its elements. Let's explore element-wise mathematical operations by calculating price to earnings ratio using two arrays, prices_array and earnings_array from the previous exercise.\n",
    "\n",
    "This price to earnings ratio, or PE ratio, is a financial indicator of the dollar amount an investor can expect to invest in a company in order to receive one dollar of that company’s earnings.\n",
    "\n",
    "prices_array and earnings_array are available in your workspace.\n",
    "\"\"\"\n",
    "\n",
    "# Instructions\n",
    "\n",
    "\"\"\"\n",
    "\n",
    "    Import numpy as np.\n",
    "    Create pe_array by dividing prices_array by earnings_array.\n",
    "\n",
    "\"\"\"\n",
    "\n",
    "# solution\n",
    "\n",
    "# Import numpy as np\n",
    "import numpy as np\n",
    "\n",
    "# Create PE ratio array\n",
    "pe_array = np.array(prices_array/earnings_array)\n",
    "\n",
    "# Print pe_array\n",
    "print(pe_array)\n",
    "\n",
    "#----------------------------------#\n",
    "\n",
    "# Conclusion\n",
    "\n",
    "\"\"\"\n",
    "Nice! It's time to subset NumPy arrays.\n",
    "\"\"\""
   ]
  },
  {
   "cell_type": "code",
   "execution_count": 14,
   "metadata": {
    "tags": []
   },
   "outputs": [
    {
     "name": "stdout",
     "output_type": "stream",
     "text": [
      "[170.12  93.29  55.28]\n",
      "[171.81  59.5  100.5 ]\n",
      "[170.12 145.3  100.5 ]\n"
     ]
    },
    {
     "data": {
      "text/plain": [
       "\"\\nGreat job! It's time to learn about 2-D NumPy arrays.\\n\""
      ]
     },
     "execution_count": 14,
     "metadata": {},
     "output_type": "execute_result"
    }
   ],
   "source": [
    "# exercise 03\n",
    "\n",
    "\"\"\"\n",
    "Subsetting elements from an array\n",
    "\n",
    "Subsetting arrays is similar to subsetting lists. In this exercise, you will practice just that.\n",
    "\n",
    "numpy is imported as np and prices_array is available in your workspace.\n",
    "\"\"\"\n",
    "\n",
    "# Instructions\n",
    "\n",
    "\"\"\"\n",
    "Subset the first three elements from prices_array.\n",
    "---\n",
    "Subset the last three elements from the prices_array using negative index slicing.\n",
    "---\n",
    "Subset every third element from the prices_array using step slicing.\n",
    "\"\"\"\n",
    "\n",
    "# solution\n",
    "\n",
    "# Subset the first three elements\n",
    "prices_subset_1 = prices_array[:3]\n",
    "print(prices_subset_1)\n",
    "\n",
    "#----------------------------------#\n",
    "\n",
    "# Subset last three elements \n",
    "prices_subset_2 = prices_array[-3:]\n",
    "print(prices_subset_2)\n",
    "\n",
    "#----------------------------------#\n",
    "\n",
    "# Subset every third element\n",
    "prices_subset_3 = prices_array[0:7:3]\n",
    "print(prices_subset_3)\n",
    "\n",
    "#----------------------------------#\n",
    "\n",
    "# Conclusion\n",
    "\n",
    "\"\"\"\n",
    "Great job! It's time to learn about 2-D NumPy arrays.\n",
    "\"\"\""
   ]
  },
  {
   "cell_type": "code",
   "execution_count": 16,
   "metadata": {
    "tags": []
   },
   "outputs": [
    {
     "name": "stdout",
     "output_type": "stream",
     "text": [
      "[[170.12  93.29  55.28 145.3  171.81  59.5  100.5 ]\n",
      " [  9.2    5.31   2.41   5.91  15.42   2.51   6.79]]\n",
      "(2, 7)\n",
      "14\n",
      "[[170.12   9.2 ]\n",
      " [ 93.29   5.31]\n",
      " [ 55.28   2.41]\n",
      " [145.3    5.91]\n",
      " [171.81  15.42]\n",
      " [ 59.5    2.51]\n",
      " [100.5    6.79]]\n",
      "(7, 2)\n",
      "14\n"
     ]
    },
    {
     "data": {
      "text/plain": [
       "\"\\nNice! Did you notice that transposing changes only the shape of the array, but not it's size?\\n\""
      ]
     },
     "execution_count": 16,
     "metadata": {},
     "output_type": "execute_result"
    }
   ],
   "source": [
    "# exercise 04\n",
    "\n",
    "\"\"\"\n",
    "Creating a 2D array\n",
    "\n",
    "Multi-dimensional arrays can be useful for several tasks. In finance, for example, a 2D array may be used to store the prices and earnings for various companies. Let's create this 2D array, stock_array, from a list of prices and earnings.\n",
    "\n",
    "numpy is imported as np and the two lists prices and earnings are available in your workspace.\n",
    "\"\"\"\n",
    "\n",
    "# Instructions\n",
    "\n",
    "\"\"\"\n",
    "\n",
    "    Create a two dimensional array of prices and earnings (in that order) and assign it to stock_array.\n",
    "    Print the shape of stock_array.\n",
    "---\n",
    "\n",
    "    Transpose stock_array and assign the result to stock_array_transposed.\n",
    "    Print the size of stock_array_transposed.\n",
    "\n",
    "\"\"\"\n",
    "# solution\n",
    "\n",
    "# Create a 2D array of prices and earnings\n",
    "stock_array = np.array([prices,earnings])\n",
    "print(stock_array)\n",
    "\n",
    "# Print the shape of stock_array\n",
    "print(stock_array.shape)\n",
    "\n",
    "# Print the size of stock_array\n",
    "print(stock_array.size)\n",
    "\n",
    "#----------------------------------#\n",
    "\n",
    "\n",
    "# Transpose stock_array\n",
    "stock_array_transposed = np.transpose(stock_array)\n",
    "print(stock_array_transposed)\n",
    "\n",
    "# Print the shape of stock_array\n",
    "print(stock_array_transposed.shape)\n",
    "\n",
    "# Print the size of stock_array\n",
    "print(stock_array_transposed.size)\n",
    "\n",
    "#----------------------------------#\n",
    "\n",
    "# Conclusion\n",
    "\n",
    "\"\"\"\n",
    "Nice! Did you notice that transposing changes only the shape of the array, but not it's size?\n",
    "\"\"\""
   ]
  },
  {
   "cell_type": "code",
   "execution_count": 17,
   "metadata": {
    "tags": []
   },
   "outputs": [
    {
     "name": "stdout",
     "output_type": "stream",
     "text": [
      "[170.12  93.29  55.28 145.3  171.81  59.5  100.5 ]\n",
      "[ 9.2   5.31  2.41  5.91 15.42  2.51  6.79]\n",
      "[170.12   9.2 ]\n"
     ]
    },
    {
     "data": {
      "text/plain": [
       "\"\\nNice job! It's time to calculate summary stats of arrays.\\n\""
      ]
     },
     "execution_count": 17,
     "metadata": {},
     "output_type": "execute_result"
    }
   ],
   "source": [
    "# exercise 05\n",
    "\n",
    "\"\"\"\n",
    "Subsetting 2D arrays\n",
    "\n",
    "Subsetting 2D arrays is similar to subsetting nested lists. In a 2D array, the indexing or slicing must be specific to the dimension of the array:\n",
    "\n",
    "array[row_index, column_index]\n",
    "\n",
    "numpy is imported as np and the 2D array stock_array_transposed (from the previous exercise) is available in your workspace.\n",
    "\"\"\"\n",
    "\n",
    "# Instructions\n",
    "\n",
    "\"\"\"\n",
    "Extract the first column from stock_array_transposed and assign it to prices.\n",
    "---\n",
    "Extract the second column from stock_array_transposed and assign it to earnings.\n",
    "---\n",
    "Subset the price and earning of the first company (row 0) from stock_array_transposed and assign it to company_1.\n",
    "\"\"\"\n",
    "\n",
    "# solution\n",
    "\n",
    "# Subset prices from stock_array_transposed\n",
    "prices = stock_array_transposed[:, 0]\n",
    "print(prices)\n",
    "\n",
    "#----------------------------------#\n",
    "\n",
    "# Subset earnings from stock_array_transposed\n",
    "earnings = stock_array_transposed[:,1]\n",
    "print(earnings)\n",
    "\n",
    "#----------------------------------#\n",
    "\n",
    "# Subset the price and earning for first company\n",
    "company_1 = stock_array_transposed[0,0:]\n",
    "print(company_1)\n",
    "\n",
    "#----------------------------------#\n",
    "\n",
    "# Conclusion\n",
    "\n",
    "\"\"\"\n",
    "Nice job! It's time to calculate summary stats of arrays.\n",
    "\"\"\""
   ]
  },
  {
   "cell_type": "code",
   "execution_count": 18,
   "metadata": {
    "tags": []
   },
   "outputs": [
    {
     "name": "stdout",
     "output_type": "stream",
     "text": [
      "113.6857142857143\n",
      "45.51277932221513\n"
     ]
    },
    {
     "data": {
      "text/plain": [
       "'\\nExcellent! In the next exercise, you will generate a sequence of numbers.\\n'"
      ]
     },
     "execution_count": 18,
     "metadata": {},
     "output_type": "execute_result"
    }
   ],
   "source": [
    "# exercise 06\n",
    "\n",
    "\"\"\"\n",
    "Calculating array stats\n",
    "\n",
    "Not only can you perform elementwise calculations on NumPy arrays, you can also calculate summary stats such as mean and standard deviation of arrays using functions from NumPy.\n",
    "\n",
    "numpy is imported as np and the array prices (from the previous exercise) is available in your workspace.\n",
    "\"\"\"\n",
    "\n",
    "# Instructions\n",
    "\n",
    "\"\"\"\n",
    "Calculate the mean of prices.\n",
    "---\n",
    "Calculate the standard deviation of prices.\n",
    "\"\"\"\n",
    "\n",
    "# solution\n",
    "\n",
    "# Calculate the mean \n",
    "prices_mean = np.mean(prices)\n",
    "print(prices_mean)\n",
    "\n",
    "#----------------------------------#\n",
    "\n",
    "# Calculate the standard deviation \n",
    "prices_std = np.std(prices)\n",
    "print(prices_std)\n",
    "\n",
    "#----------------------------------#\n",
    "\n",
    "# Conclusion\n",
    "\n",
    "\"\"\"\n",
    "Excellent! In the next exercise, you will generate a sequence of numbers.\n",
    "\"\"\""
   ]
  },
  {
   "cell_type": "code",
   "execution_count": 19,
   "metadata": {
    "tags": []
   },
   "outputs": [
    {
     "name": "stdout",
     "output_type": "stream",
     "text": [
      "[1 2 3 4 5 6 7]\n",
      "[1 3 5 7]\n"
     ]
    },
    {
     "data": {
      "text/plain": [
       "'\\nGreat job! Using arange() can be much faster than typing each individual element.\\n'"
      ]
     },
     "execution_count": 19,
     "metadata": {},
     "output_type": "execute_result"
    }
   ],
   "source": [
    "# exercise 07\n",
    "\n",
    "\"\"\"\n",
    "Generating a sequence of numbers\n",
    "\n",
    "You may want to create an array of a range of numbers (e.g., 1 to 10) without having to type in every single number. The NumPy function arange() is an efficient way to create numeric arrays of a range of numbers. The arguments for arange() include the start, stop, and step interval as shown below:\n",
    "\n",
    "np.arange(start, stop, step)\n",
    "\n",
    "numpy is imported as np.\n",
    "\"\"\"\n",
    "\n",
    "# Instructions\n",
    "\n",
    "\"\"\"\n",
    "\n",
    "    Create an array company_ids containing the numbers 1 through 7 (inclusive).\n",
    "    Create an array company_ids_odd containing only the odd numbers from 1 through 7 (inclusive).\n",
    "\n",
    "\"\"\"\n",
    "\n",
    "# solution\n",
    "\n",
    "# Create and print company IDs\n",
    "company_ids = np.arange(1, 8, 1)\n",
    "print(company_ids)\n",
    "\n",
    "# Use array slicing to select specific company IDs\n",
    "company_ids_odd = np.arange(1, 8, 2)\n",
    "print(company_ids_odd)\n",
    "\n",
    "#----------------------------------#\n",
    "\n",
    "# Conclusion\n",
    "\n",
    "\"\"\"\n",
    "Great job! Using arange() can be much faster than typing each individual element.\n",
    "\"\"\""
   ]
  },
  {
   "cell_type": "code",
   "execution_count": 20,
   "metadata": {
    "tags": []
   },
   "outputs": [
    {
     "name": "stdout",
     "output_type": "stream",
     "text": [
      "[ True False False  True  True False False]\n",
      "[170.12 145.3  171.81]\n"
     ]
    },
    {
     "data": {
      "text/plain": [
       "'\\nGreat work! In the next exercise, you will use boolean arrays to find the companies in the health care sector.\\n'"
      ]
     },
     "execution_count": 20,
     "metadata": {},
     "output_type": "execute_result"
    }
   ],
   "source": [
    "# exercise 08\n",
    "\n",
    "\"\"\"\n",
    "Who's above average?\n",
    "\n",
    "Boolean arrays can be a very powerful way to subset arrays. In this exercise, you will identify the prices that are greater than average from a list of prices.\n",
    "\n",
    "numpy is imported as np and the array prices is available in your workspace.\n",
    "\"\"\"\n",
    "\n",
    "# Instructions\n",
    "\n",
    "\"\"\"\n",
    "\n",
    "    Find elements in prices that are greater than price_mean and assign the boolean result to boolean_array.\n",
    "    Subset prices using boolean_array and assign the result to above_avg.\n",
    "\n",
    "\"\"\"\n",
    "\n",
    "# solution\n",
    "\n",
    "# Find the mean\n",
    "price_mean = np.mean(prices)\n",
    "\n",
    "# Create boolean array\n",
    "boolean_array = (prices > price_mean)\n",
    "print(boolean_array)\n",
    "\n",
    "# Select prices that are greater than average\n",
    "above_avg = prices[boolean_array]\n",
    "print(above_avg)\n",
    "\n",
    "#----------------------------------#\n",
    "\n",
    "# Conclusion\n",
    "\n",
    "\"\"\"\n",
    "Great work! In the next exercise, you will use boolean arrays to find the companies in the health care sector.\n",
    "\"\"\""
   ]
  },
  {
   "cell_type": "code",
   "execution_count": 21,
   "metadata": {
    "tags": []
   },
   "outputs": [
    {
     "name": "stdout",
     "output_type": "stream",
     "text": [
      "[False  True  True False  True]\n",
      "['Abbvie Inc' 'Abbott Laboratories' 'Allergan Plc']\n"
     ]
    },
    {
     "data": {
      "text/plain": [
       "'\\nWell done! In the next chapter you will learn about visualization.\\n'"
      ]
     },
     "execution_count": 21,
     "metadata": {},
     "output_type": "execute_result"
    }
   ],
   "source": [
    "# exercise 09\n",
    "\n",
    "\"\"\"\n",
    "Who's in health care?\n",
    "\n",
    "In this exercise, you are provided the names of companies with their associated sector, and your goal is to find all companies that are associated with health care sector.\n",
    "\n",
    "numpy is imported as np and the arrays names and sectors are available in your workspace.\n",
    "\"\"\"\n",
    "\n",
    "# Instructions\n",
    "\n",
    "\"\"\"\n",
    "\n",
    "    Find elements in sectors that are equivalent to 'Health Care' and assign the result to boolean_array.\n",
    "    Subset names using boolean_array and assign the result to health_care.\n",
    "\n",
    "\"\"\"\n",
    "sectors = np.array(['Information Technology', 'Health Care', 'Health Care',\n",
    "       'Information Technologies', 'Health Care'])\n",
    "names = np.array(['Apple Inc', 'Abbvie Inc', 'Abbott Laboratories',\n",
    "       'Accenture Technologies', 'Allergan Plc'])\n",
    "# solution\n",
    "\n",
    "# Create boolean array\n",
    "boolean_array = (sectors == 'Health Care')\n",
    "print(boolean_array)\n",
    "\n",
    "# Print only health care companies\n",
    "health_care = names[boolean_array]\n",
    "print(health_care)\n",
    "\n",
    "#----------------------------------#\n",
    "\n",
    "# Conclusion\n",
    "\n",
    "\"\"\"\n",
    "Well done! In the next chapter you will learn about visualization.\n",
    "\"\"\""
   ]
  }
 ],
 "metadata": {
  "kernelspec": {
   "display_name": "Python 3 (ipykernel)",
   "language": "python",
   "name": "python3"
  },
  "language_info": {
   "codemirror_mode": {
    "name": "ipython",
    "version": 3
   },
   "file_extension": ".py",
   "mimetype": "text/x-python",
   "name": "python",
   "nbconvert_exporter": "python",
   "pygments_lexer": "ipython3",
   "version": "3.11.3"
  }
 },
 "nbformat": 4,
 "nbformat_minor": 4
}
