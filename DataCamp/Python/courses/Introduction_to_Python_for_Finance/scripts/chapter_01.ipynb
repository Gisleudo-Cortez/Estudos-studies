{
 "cells": [
  {
   "cell_type": "code",
   "execution_count": 15,
   "metadata": {
    "tags": []
   },
   "outputs": [],
   "source": [
    "# run this to shorten the data import from the files\n",
    "path_data = '/home/nero/Documents/Estudos/DataCamp/Python/courses/Introduction_to_Python_for_Finance/datasets/'\n"
   ]
  },
  {
   "cell_type": "code",
   "execution_count": 1,
   "metadata": {},
   "outputs": [
    {
     "name": "stdout",
     "output_type": "stream",
     "text": [
      "4.0\n",
      "4\n"
     ]
    },
    {
     "data": {
      "text/plain": [
       "'\\nGreat! Submitting your answers allows us to check your code against the solution.\\n'"
      ]
     },
     "execution_count": 1,
     "metadata": {},
     "output_type": "execute_result"
    }
   ],
   "source": [
    "# exercise 01\n",
    "\n",
    "\"\"\"\n",
    "Run code vs. submit answer\n",
    "\n",
    "On the right, you'll see the area where you can write and execute Python scripts and the IPython console. In this exercise, you will practice submitting code. The output of this code will be shown in the IPython Shell. The IPython Shell can also be used interactively to type and execute commands. The code entered directly in IPython shell is not checked for correctness, so it is a great place to experiment.\n",
    "\n",
    "You can submit your script to check for correctness by hitting Submit Answer. Note that you can also use Take Hint or Show Answer if you're stuck.\n",
    "\"\"\"\n",
    "\n",
    "# Instructions\n",
    "\n",
    "\"\"\"\n",
    "\n",
    "    Hit the Run Code button and observe that the code in your script is executed in the IPython Shell.\n",
    "    Next, hit the Submit Answer to execute the code and check it against the solution.\n",
    "\n",
    "\"\"\"\n",
    "\n",
    "# solution\n",
    "\n",
    "\n",
    "# Example 1, do not modify!\n",
    "print(8 / 2)\n",
    "\n",
    "# Example 2, do not modify!\n",
    "print(2**2)\n",
    "\n",
    "#----------------------------------#\n",
    "\n",
    "# Conclusion\n",
    "\n",
    "\"\"\"\n",
    "Great! Submitting your answers allows us to check your code against the solution.\n",
    "\"\"\""
   ]
  },
  {
   "cell_type": "code",
   "execution_count": 2,
   "metadata": {
    "tags": []
   },
   "outputs": [
    {
     "name": "stdout",
     "output_type": "stream",
     "text": [
      "20\n"
     ]
    },
    {
     "data": {
      "text/plain": [
       "'\\nNice job! You just wrote your first Python program!\\n'"
      ]
     },
     "execution_count": 2,
     "metadata": {},
     "output_type": "execute_result"
    }
   ],
   "source": [
    "# exercise 02\n",
    "\n",
    "\"\"\"\n",
    "Printing output\n",
    "\n",
    "The print() function in a Python script explicitly prints the output. It is time to write your first line of Python code with and without the print() function to observe how it impacts the output of a script.\n",
    "\"\"\"\n",
    "\n",
    "# Instructions\n",
    "\n",
    "\"\"\"\n",
    "Write a command that adds 10 and 2.\n",
    "---\n",
    "\n",
    "    Write a command that multiplies 10 and 2.\n",
    "    Print this output explicitly.\n",
    "\n",
    "\"\"\"\n",
    "\n",
    "# solution\n",
    "\n",
    "10+2\n",
    "# Multiplication, with print output\n",
    "print(10*2)\n",
    "\n",
    "#----------------------------------#\n",
    "\n",
    "# Conclusion\n",
    "\n",
    "\"\"\"\n",
    "Nice job! You just wrote your first Python program!\n",
    "\"\"\""
   ]
  },
  {
   "cell_type": "code",
   "execution_count": 4,
   "metadata": {
    "tags": []
   },
   "outputs": [
    {
     "name": "stdout",
     "output_type": "stream",
     "text": [
      "497.04\n",
      "165.68\n"
     ]
    },
    {
     "data": {
      "text/plain": [
       "\"\\nNice! Let's discuss data types in Python.\\n\""
      ]
     },
     "execution_count": 4,
     "metadata": {},
     "output_type": "execute_result"
    }
   ],
   "source": [
    "# exercise 03\n",
    "\n",
    "\"\"\"\n",
    "Finding the average revenue\n",
    "\n",
    "Variables can be used to store information and efficiently recover and manipulate stored values.\n",
    "\n",
    "The revenue of three companies have been stored in three variables: revenue_1, revenue_2, and revenue_3.\n",
    "Let's calculate the total revenue and the average revenue of these companies.\n",
    "\"\"\"\n",
    "\n",
    "# Instructions\n",
    "\n",
    "\"\"\"\n",
    "Create a new variable, total that represents the sum of revenue_1, revenue_2 and revenue_3.\n",
    "---\n",
    "Find the average of total.\n",
    "\"\"\"\n",
    "\n",
    "# solution\n",
    "revenue_1 , revenue_2 , revenue_3 = (229.23, 177.86, 89.95)\n",
    "\n",
    "# Print the total revenue\n",
    "total = revenue_1 + revenue_2 + revenue_3\n",
    "print(total)\n",
    "\n",
    "# Print the average revenue\n",
    "average = total/3\n",
    "print(average)\n",
    "\n",
    "#----------------------------------#\n",
    "\n",
    "# Conclusion\n",
    "\n",
    "\"\"\"\n",
    "Nice! Let's discuss data types in Python.\n",
    "\"\"\""
   ]
  },
  {
   "cell_type": "code",
   "execution_count": 5,
   "metadata": {
    "tags": []
   },
   "outputs": [
    {
     "name": "stdout",
     "output_type": "stream",
     "text": [
      "Apple\n",
      "2017\n",
      "229.23\n"
     ]
    },
    {
     "data": {
      "text/plain": [
       "\"\\nGreat work! Now let's determine the data types of these variables using a built-in command.\\n\""
      ]
     },
     "execution_count": 5,
     "metadata": {},
     "output_type": "execute_result"
    }
   ],
   "source": [
    "# exercise 04\n",
    "\n",
    "\"\"\"\n",
    "Creating variables\n",
    "\n",
    "Variables in Python hold a value that may consist of varying data types. Variable names can contain letters, underscores, and numbers.\n",
    "\n",
    "Let's create three types of Python variables that might be useful in finance.\n",
    "\"\"\"\n",
    "\n",
    "# Instructions\n",
    "\n",
    "\"\"\"\n",
    "Assign the string 'Apple' to the variable company_1.\n",
    "---\n",
    "Assign the integer 2017 to the variable year_1.\n",
    "---\n",
    "Assign the float 229.23 to the variable revenue_1.\n",
    "\"\"\"\n",
    "\n",
    "# solution\n",
    "\n",
    "# Create company_1\n",
    "company_1 = \"Apple\"\n",
    "print(company_1)\n",
    "\n",
    "#----------------------------------#\n",
    "\n",
    "# Create year_1\n",
    "year_1 = 2017\n",
    "print(year_1)\n",
    "\n",
    "#----------------------------------#\n",
    "\n",
    "# Create revenue_1\n",
    "revenue_1 = 229.23\n",
    "print(revenue_1)\n",
    "\n",
    "#----------------------------------#\n",
    "\n",
    "# Conclusion\n",
    "\n",
    "\"\"\"\n",
    "Great work! Now let's determine the data types of these variables using a built-in command.\n",
    "\"\"\""
   ]
  },
  {
   "cell_type": "code",
   "execution_count": 6,
   "metadata": {
    "tags": []
   },
   "outputs": [
    {
     "name": "stdout",
     "output_type": "stream",
     "text": [
      "<class 'str'>\n",
      "<class 'int'>\n",
      "<class 'float'>\n"
     ]
    },
    {
     "data": {
      "text/plain": [
       "'\\nWonderful! You will now use comparison operators in Python.\\n'"
      ]
     },
     "execution_count": 6,
     "metadata": {},
     "output_type": "execute_result"
    }
   ],
   "source": [
    "# exercise 05\n",
    "\n",
    "\"\"\"\n",
    "Determining types\n",
    "\n",
    "Python has a built-in command type() that can determine the type of a variable or literal value. Let's determine the data types of the variables you created in the last exercise.\n",
    "\"\"\"\n",
    "\n",
    "# Instructions\n",
    "\n",
    "\"\"\"\n",
    "Print the data types associated with the variables company_1, year_1 and revenue_1.\n",
    "\"\"\"\n",
    "\n",
    "# solution\n",
    "\n",
    "# Type of company_1\n",
    "print(type(company_1))\n",
    "\n",
    "# Type of year_1\n",
    "print(type(year_1))\n",
    "\n",
    "# Type of revenue_1\n",
    "print(type(revenue_1))\n",
    "\n",
    "#----------------------------------#\n",
    "\n",
    "# Conclusion\n",
    "\n",
    "\"\"\"\n",
    "Wonderful! You will now use comparison operators in Python.\n",
    "\"\"\""
   ]
  },
  {
   "cell_type": "code",
   "execution_count": 7,
   "metadata": {
    "tags": []
   },
   "outputs": [
    {
     "name": "stdout",
     "output_type": "stream",
     "text": [
      "False\n",
      "True\n"
     ]
    },
    {
     "data": {
      "text/plain": [
       "'\\nGreat, Boolean comparisons are useful for filtering datasets in Python!\\n'"
      ]
     },
     "execution_count": 7,
     "metadata": {},
     "output_type": "execute_result"
    }
   ],
   "source": [
    "# exercise 06\n",
    "\n",
    "\"\"\"\n",
    "Booleans in Python\n",
    "\n",
    "Booleans are used to represent True or False statements in Python. Boolean comparisons include:\n",
    "operators \tdescriptions\n",
    "> \tgreater than\n",
    ">= \tgreater than or equal\n",
    "< \tless than\n",
    "<= \tless than or equal\n",
    "== \tequal\n",
    "!= \tdoes not equal\n",
    "\n",
    "Let's use boolean comparison operations to assess the revenues of three companies.\n",
    "\"\"\"\n",
    "\n",
    "# Instructions\n",
    "\n",
    "\"\"\"\n",
    "The name of company 1 is provided as company_1. Determine if the variable test_company is equivalent to company_1.\n",
    "---\n",
    "The revenue of company 1 and company 2 are provided as revenue_1 and revenue_2, respectively. Using a comparison operator, determine if revenue_1 is greater than revenue_2.\n",
    "\"\"\"\n",
    "\n",
    "# solution\n",
    "\n",
    "# Test equality\n",
    "test_company = 'apple'\n",
    "print(company_1 == test_company)\n",
    "\n",
    "#----------------------------------#\n",
    "\n",
    "# Compare revenue_1 and revenue_2\n",
    "print(revenue_1 > revenue_2)\n",
    "\n",
    "#----------------------------------#\n",
    "\n",
    "# Conclusion\n",
    "\n",
    "\"\"\"\n",
    "Great, Boolean comparisons are useful for filtering datasets in Python!\n",
    "\"\"\""
   ]
  },
  {
   "cell_type": "code",
   "execution_count": 8,
   "metadata": {
    "tags": []
   },
   "outputs": [
    {
     "name": "stdout",
     "output_type": "stream",
     "text": [
      "The revenue of Apple in 2017 was $229.23 billion.\n"
     ]
    },
    {
     "data": {
      "text/plain": [
       "'\\nNice job! Strings and integers/floats cannot be directly combined in Python.\\n'"
      ]
     },
     "execution_count": 8,
     "metadata": {},
     "output_type": "execute_result"
    }
   ],
   "source": [
    "# exercise 07\n",
    "\n",
    "\"\"\"\n",
    "Combining data types\n",
    "\n",
    "Different types of data types have different properties. For example, strings and floats cannot be mathematically combined. To convert a variable x to an integer, you can use the command int(x). Similarly, to convert a variable y to a string, you can use the command str(y).\n",
    "\n",
    "It's time for you to change some data types to complete and print a statement.\n",
    "\n",
    "The variables company_1, year_1, and revenue_1 are available in your workspace.\n",
    "\"\"\"\n",
    "\n",
    "# Instructions\n",
    "\n",
    "\"\"\"\n",
    "\n",
    "    Convert the data type of variables year_1, and revenue_1 to string.\n",
    "    Use these new variables to create and print the following sentence: \"The revenue of Apple in 2017 was $229.23 billion.\"\n",
    "\n",
    "\"\"\"\n",
    "\n",
    "# solution\n",
    "\n",
    "# Update data types\n",
    "year_1_str = str(year_1)\n",
    "revenue_1_str = str(revenue_1)\n",
    "\n",
    "# Create a complete sentence combining only the string data types\n",
    "sentence = 'The revenue of ' + company_1 + ' in ' + year_1_str + ' was $' + revenue_1_str + ' billion.'\n",
    "\n",
    "# Print sentence\n",
    "print(sentence)\n",
    "\n",
    "#----------------------------------#\n",
    "\n",
    "# Conclusion\n",
    "\n",
    "\"\"\"\n",
    "Nice job! Strings and integers/floats cannot be directly combined in Python.\n",
    "\"\"\""
   ]
  }
 ],
 "metadata": {
  "kernelspec": {
   "display_name": "Python 3 (ipykernel)",
   "language": "python",
   "name": "python3"
  },
  "language_info": {
   "codemirror_mode": {
    "name": "ipython",
    "version": 3
   },
   "file_extension": ".py",
   "mimetype": "text/x-python",
   "name": "python",
   "nbconvert_exporter": "python",
   "pygments_lexer": "ipython3",
   "version": "3.11.3"
  }
 },
 "nbformat": 4,
 "nbformat_minor": 4
}
