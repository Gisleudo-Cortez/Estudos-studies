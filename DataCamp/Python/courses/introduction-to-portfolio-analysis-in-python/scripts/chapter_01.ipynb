{
 "cells": [
  {
   "cell_type": "code",
   "execution_count": 1,
   "metadata": {
    "editable": true,
    "slideshow": {
     "slide_type": ""
    },
    "tags": []
   },
   "outputs": [],
   "source": [
    "# run this to shorten the data import from the files\n",
    "import os\n",
    "cwd = os.path.dirname(os.getcwd())+'/'\n",
    "path_data = os.path.join(os.path.dirname(os.getcwd()), 'datasets/')\n"
   ]
  },
  {
   "cell_type": "markdown",
   "metadata": {},
   "source": [
    "# Why invest in portfolios\n",
    "\n",
    "As an investor you can choose to invest in a single stock, or in a portfolio of stocks. What are valid reasons for choosing to invest in a portfolio of stocks?\n",
    "\n",
    "## Possible Answers\n",
    "\n",
    "\n",
    "    A portfolio will always generate a higher return versus a single stock investment.\n",
    "    \n",
    "    \n",
    "    A portfolio is always less risky compared to a single stock.\n",
    "    \n",
    "    \n",
    "    A portfolio, if selected properly, is less vulnerable to extreme highs and lows, and provides the benefits of diversification. {Answer}\n",
    "\n",
    "**When combining stocks that balance each other out in terms of risk, you can protect your investment against large peaks and troughs. That is called diversification and typically happens in well selected portfolios.**"
   ]
  },
  {
   "cell_type": "code",
   "execution_count": 13,
   "metadata": {},
   "outputs": [
    {
     "data": {
      "text/html": [
       "<div>\n",
       "<style scoped>\n",
       "    .dataframe tbody tr th:only-of-type {\n",
       "        vertical-align: middle;\n",
       "    }\n",
       "\n",
       "    .dataframe tbody tr th {\n",
       "        vertical-align: top;\n",
       "    }\n",
       "\n",
       "    .dataframe thead th {\n",
       "        text-align: right;\n",
       "    }\n",
       "</style>\n",
       "<table border=\"1\" class=\"dataframe\">\n",
       "  <thead>\n",
       "    <tr style=\"text-align: right;\">\n",
       "      <th></th>\n",
       "      <th>GE</th>\n",
       "      <th>JPM</th>\n",
       "      <th>MSFT</th>\n",
       "      <th>PG</th>\n",
       "      <th>portfolio</th>\n",
       "    </tr>\n",
       "    <tr>\n",
       "      <th>date</th>\n",
       "      <th></th>\n",
       "      <th></th>\n",
       "      <th></th>\n",
       "      <th></th>\n",
       "      <th></th>\n",
       "    </tr>\n",
       "  </thead>\n",
       "  <tbody>\n",
       "    <tr>\n",
       "      <th>2015-01-02</th>\n",
       "      <td>1.000000</td>\n",
       "      <td>1.000000</td>\n",
       "      <td>1.000000</td>\n",
       "      <td>1.000000</td>\n",
       "      <td>1.000000</td>\n",
       "    </tr>\n",
       "    <tr>\n",
       "      <th>2015-01-05</th>\n",
       "      <td>0.963288</td>\n",
       "      <td>0.937910</td>\n",
       "      <td>0.981394</td>\n",
       "      <td>0.990491</td>\n",
       "      <td>0.968271</td>\n",
       "    </tr>\n",
       "    <tr>\n",
       "      <th>2015-01-06</th>\n",
       "      <td>0.920990</td>\n",
       "      <td>0.887662</td>\n",
       "      <td>0.952524</td>\n",
       "      <td>0.981424</td>\n",
       "      <td>0.935499</td>\n",
       "    </tr>\n",
       "    <tr>\n",
       "      <th>2015-01-07</th>\n",
       "      <td>0.921788</td>\n",
       "      <td>0.890542</td>\n",
       "      <td>0.977331</td>\n",
       "      <td>0.991818</td>\n",
       "      <td>0.945125</td>\n",
       "    </tr>\n",
       "    <tr>\n",
       "      <th>2015-01-08</th>\n",
       "      <td>0.944932</td>\n",
       "      <td>0.932789</td>\n",
       "      <td>1.035500</td>\n",
       "      <td>1.014595</td>\n",
       "      <td>0.981714</td>\n",
       "    </tr>\n",
       "  </tbody>\n",
       "</table>\n",
       "</div>"
      ],
      "text/plain": [
       "                  GE       JPM      MSFT        PG  portfolio\n",
       "date                                                         \n",
       "2015-01-02  1.000000  1.000000  1.000000  1.000000   1.000000\n",
       "2015-01-05  0.963288  0.937910  0.981394  0.990491   0.968271\n",
       "2015-01-06  0.920990  0.887662  0.952524  0.981424   0.935499\n",
       "2015-01-07  0.921788  0.890542  0.977331  0.991818   0.945125\n",
       "2015-01-08  0.944932  0.932789  1.035500  1.014595   0.981714"
      ]
     },
     "execution_count": 13,
     "metadata": {},
     "output_type": "execute_result"
    }
   ],
   "source": [
    "import pandas as pd\n",
    "stock_returns = pd.read_csv(path_data+'stock_returns.csv', parse_dates=['date'], index_col='date')\n",
    "stock_returns.head()"
   ]
  },
  {
   "cell_type": "code",
   "execution_count": 16,
   "metadata": {},
   "outputs": [],
   "source": [
    "import matplotlib.pyplot as plt\n",
    "import matplotlib\n",
    "\n",
    "def plot_pct_returns(df):\n",
    "    fig, ax = plt.subplots()\n",
    "    ax.plot(df.index, df.MSFT, marker='', color='green', linewidth=2, label=\"MSFT\")\n",
    "    ax.plot(df.index, df.portfolio, linewidth=2, linestyle='dashed', color='skyblue', label='portfolio')\n",
    "    ax.plot(df.index, df.PG, marker='', color='pink', linewidth=2, label=\"PG\")\n",
    "    ax.plot(df.index, df.JPM, color='yellow', linewidth=2, label='JPM')\n",
    "    ax.plot(df.index, df.GE, color='red', linewidth=2, label='GE')\n",
    "    ax.xaxis.set_major_locator(matplotlib.dates.YearLocator())\n",
    "    #ax.xaxis.set_minor_locator(matplotlib.dates.MonthLocator((1,4,7,10)))\n",
    "    ax.xaxis.set_major_formatter(matplotlib.dates.DateFormatter(\"\\n%Y\"))\n",
    "    #ax.xaxis.set_minor_formatter(matplotlib.dates.DateFormatter(\"%b\"))\n",
    "    plt.setp(ax.get_xticklabels(), rotation=0, ha=\"center\")\n",
    "    plt.legend()\n",
    "    plt.show()"
   ]
  },
  {
   "cell_type": "code",
   "execution_count": 17,
   "metadata": {},
   "outputs": [
    {
     "data": {
      "image/png": "[encoded data removed]",
      "text/plain": [
       "<Figure size 640x480 with 1 Axes>"
      ]
     },
     "metadata": {},
     "output_type": "display_data"
    },
    {
     "data": {
      "text/plain": [
       "'\\nCorrect: all the weights of the stocks in the portfolio are equal, hence we are looking at an equal weighted portfolio.\\n'"
      ]
     },
     "execution_count": 17,
     "metadata": {},
     "output_type": "execute_result"
    }
   ],
   "source": [
    "# exercise 01\n",
    "\n",
    "\"\"\"\n",
    "The effect of diversification\n",
    "\n",
    "In this exercise you're going to compare performance of four individual stocks, to a portfolio of the same four stocks. You'll see that 2 out of the four stocks will under-perform over a time period of roughly four years, and two will perform quite well.\n",
    "\n",
    "The stocks you're going to investigate are General Electric, JP Morgan, Microsoft and Proctor & Gamble.\n",
    "\n",
    "Let's play a little game: pick one stock to invest in, then, let's see how it would have performed over time. There's a 50-50 chance that you'll pick a winning stock, versus a losing stock. Let's look at the data and see whether your stock is one of strong performers.\n",
    "\n",
    "Available is a data set called stock_returns containing the cumulative returns of these four stocks over time, plus a portfolio of these stocks.\n",
    "\"\"\"\n",
    "\n",
    "# Instructions\n",
    "\n",
    "\"\"\"\n",
    "\n",
    "    Inspect the data stored under stock_returns. Check for which time period we have data on the stocks in the dataset by using the commands .head() and .tail().\n",
    "---\n",
    "\n",
    "    For the moment of truth: plot the cumulative returns of the stocks using the function plot_pct_returns(). Did you pick a winning stock?\n",
    "---\n",
    "Question\n",
    "\n",
    "The portfolio returns in your dataset are from a portfolio containing these four stocks: General Electric, JP Morgan, Microsoft and Proctor & Gamble. The weights that were used to calculate the portfolio returns over time are [0.25, 0.25, 0,25, 0,25]. What kind of portfolio is this?\n",
    "Possible answers:\n",
    "    \n",
    "    A market capitalization (market-cap) weighted portfolio\n",
    "    \n",
    "    An equal weighted portfolio {Answer}\n",
    "    \n",
    "    A random portfolio\n",
    "    \n",
    "    I don't have enough information to answer this\n",
    "\"\"\"\n",
    "\n",
    "# solution\n",
    "\n",
    "# Check beginning and end of dataset\n",
    "stock_returns.head()\n",
    "stock_returns.tail()\n",
    "\n",
    "# Plot percentage returns\n",
    "plot_pct_returns(stock_returns)\n",
    "\n",
    "#----------------------------------#\n",
    "\n",
    "# Conclusion\n",
    "\n",
    "\"\"\"\n",
    "Correct: all the weights of the stocks in the portfolio are equal, hence we are looking at an equal weighted portfolio.\n",
    "\"\"\""
   ]
  },
  {
   "cell_type": "code",
   "execution_count": 19,
   "metadata": {
    "tags": []
   },
   "outputs": [
    {
     "data": {
      "text/plain": [
       "'\\nCorrect! After 50% loss you would need to double the amount of money you have remaining to return to your initial investment value.\\n'"
      ]
     },
     "execution_count": 19,
     "metadata": {},
     "output_type": "execute_result"
    }
   ],
   "source": [
    "# exercise 02\n",
    "\n",
    "\"\"\"\n",
    "Portfolio losses and gaining it back\n",
    "\n",
    "First, let's develop our intuition for returns. Did you know that when your portfolio copes with losses, it takes a lot of time to get back to the original level of wealth? Because we are dealing with percentage increases and decreases, these changes are not linear in magnitude. Suppose you invest $1000 on day 1 in a portfolio, and it loses 50% in that first day. So that means on day 2, you start with a portfolio value of $500.\n",
    "\n",
    "So after a loss of 50%, what should the percentage return on day 2 be to get back to the initial investment value of $1000? Use the console to check your answer.\n",
    "\"\"\"\n",
    "\n",
    "# Instructions\n",
    "\n",
    "\"\"\"\n",
    "Possible answers:\n",
    "    \n",
    "    50%\n",
    "    \n",
    "    75%\n",
    "    \n",
    "    100% {Answer}\n",
    "    \n",
    "    200%\n",
    "\"\"\"\n",
    "\n",
    "# solution\n",
    "\n",
    "\n",
    "#----------------------------------#\n",
    "\n",
    "# Conclusion\n",
    "\n",
    "\"\"\"\n",
    "Correct! After 50% loss you would need to double the amount of money you have remaining to return to your initial investment value.\n",
    "\"\"\""
   ]
  },
  {
   "cell_type": "code",
   "execution_count": 20,
   "metadata": {},
   "outputs": [
    {
     "data": {
      "text/html": [
       "<div>\n",
       "<style scoped>\n",
       "    .dataframe tbody tr th:only-of-type {\n",
       "        vertical-align: middle;\n",
       "    }\n",
       "\n",
       "    .dataframe tbody tr th {\n",
       "        vertical-align: top;\n",
       "    }\n",
       "\n",
       "    .dataframe thead th {\n",
       "        text-align: right;\n",
       "    }\n",
       "</style>\n",
       "<table border=\"1\" class=\"dataframe\">\n",
       "  <thead>\n",
       "    <tr style=\"text-align: right;\">\n",
       "      <th></th>\n",
       "      <th>GE</th>\n",
       "      <th>JPM</th>\n",
       "      <th>MSFT</th>\n",
       "      <th>PG</th>\n",
       "    </tr>\n",
       "    <tr>\n",
       "      <th>date</th>\n",
       "      <th></th>\n",
       "      <th></th>\n",
       "      <th></th>\n",
       "      <th></th>\n",
       "    </tr>\n",
       "  </thead>\n",
       "  <tbody>\n",
       "    <tr>\n",
       "      <th>2015-01-02</th>\n",
       "      <td>25.06</td>\n",
       "      <td>62.49</td>\n",
       "      <td>46.760</td>\n",
       "      <td>90.44</td>\n",
       "    </tr>\n",
       "    <tr>\n",
       "      <th>2015-01-05</th>\n",
       "      <td>24.60</td>\n",
       "      <td>60.55</td>\n",
       "      <td>46.325</td>\n",
       "      <td>90.01</td>\n",
       "    </tr>\n",
       "    <tr>\n",
       "      <th>2015-01-06</th>\n",
       "      <td>24.07</td>\n",
       "      <td>58.98</td>\n",
       "      <td>45.650</td>\n",
       "      <td>89.60</td>\n",
       "    </tr>\n",
       "    <tr>\n",
       "      <th>2015-01-07</th>\n",
       "      <td>24.08</td>\n",
       "      <td>59.07</td>\n",
       "      <td>46.230</td>\n",
       "      <td>90.07</td>\n",
       "    </tr>\n",
       "    <tr>\n",
       "      <th>2015-01-08</th>\n",
       "      <td>24.37</td>\n",
       "      <td>60.39</td>\n",
       "      <td>47.590</td>\n",
       "      <td>91.10</td>\n",
       "    </tr>\n",
       "  </tbody>\n",
       "</table>\n",
       "</div>"
      ],
      "text/plain": [
       "               GE    JPM    MSFT     PG\n",
       "date                                   \n",
       "2015-01-02  25.06  62.49  46.760  90.44\n",
       "2015-01-05  24.60  60.55  46.325  90.01\n",
       "2015-01-06  24.07  58.98  45.650  89.60\n",
       "2015-01-07  24.08  59.07  46.230  90.07\n",
       "2015-01-08  24.37  60.39  47.590  91.10"
      ]
     },
     "execution_count": 20,
     "metadata": {},
     "output_type": "execute_result"
    }
   ],
   "source": [
    "data = pd.read_csv(path_data+'small_portfolio.csv', parse_dates=['date'], index_col='date')\n",
    "data.head()"
   ]
  },
  {
   "cell_type": "code",
   "execution_count": 23,
   "metadata": {
    "tags": []
   },
   "outputs": [
    {
     "name": "stdout",
     "output_type": "stream",
     "text": [
      "-1.6782226618545438e-05\n"
     ]
    },
    {
     "data": {
      "text/plain": [
       "\"\\nGreat work! You see that with just a few lines of code you can easily calculate portfolio performance. In the next chapter, you'll discover alternative measures of performance, apart from the geometric mean, that you can use to indicate a portfolio's performance over a given period of time, and even compare performance over different lengths of time.\\n\""
      ]
     },
     "execution_count": 23,
     "metadata": {},
     "output_type": "execute_result"
    }
   ],
   "source": [
    "# exercise 03\n",
    "\n",
    "\"\"\"\n",
    "Calculate mean returns\n",
    "\n",
    "In this exercise, you're going to calculate performance for a four stock portfolio over the period January 2015 through March 2019. The portfolio consists of Proctor & Gamble, Microsoft, JP Morgan and General Electric stocks. You'll discover that multiplying the mean return of each stock with its portfolio weight, is a very quick and straightforward way to calculate portfolio performance over a given period of time.\n",
    "\n",
    "The four columns in the DataFrame data contain the prices of these four stocks mentioned above. Have a look at data by inspecting it in the console.\n",
    "\"\"\"\n",
    "\n",
    "# Instructions\n",
    "\n",
    "\"\"\"\n",
    "\n",
    "    \n",
    "    Calculate the percentage returns of the stocks in the DataFrame data by comparing today's price with yesterday's price.\n",
    "    \n",
    "    Calculate the mean returns of each stock in the new returns DataFrame.\n",
    "    \n",
    "    Assign the weights of the stocks to the weights array. The weights are 0.5, 0.2, 0.2 and 0.1.\n",
    "    \n",
    "    Multiply the percentage returns with the weights, and take the total sum, to calculate the total portfolio performance and print the results.\n",
    "\n",
    "\"\"\"\n",
    "import numpy as np\n",
    "# solution\n",
    "\n",
    "# Calculate percentage returns\n",
    "returns = data.pct_change()\n",
    "\n",
    "# Calculate individual mean returns \n",
    "meanDailyReturns = returns.mean()\n",
    "\n",
    "# Define weights for the portfolio\n",
    "weights = np.array([0.5, 0.2, 0.2, 0.1])\n",
    "\n",
    "# Calculate expected portfolio performance\n",
    "portReturn = np.sum(weights*meanDailyReturns)\n",
    "\n",
    "# Print the portfolio return\n",
    "print(portReturn)\n",
    "\n",
    "#----------------------------------#\n",
    "\n",
    "# Conclusion\n",
    "\n",
    "\"\"\"\n",
    "Great work! You see that with just a few lines of code you can easily calculate portfolio performance. In the next chapter, you'll discover alternative measures of performance, apart from the geometric mean, that you can use to indicate a portfolio's performance over a given period of time, and even compare performance over different lengths of time.\n",
    "\"\"\""
   ]
  },
  {
   "cell_type": "code",
   "execution_count": 25,
   "metadata": {
    "tags": []
   },
   "outputs": [
    {
     "data": {
      "image/png": "[encoded data removed]",
      "text/plain": [
       "<Figure size 640x480 with 1 Axes>"
      ]
     },
     "metadata": {},
     "output_type": "display_data"
    },
    {
     "data": {
      "text/plain": [
       "\"\\nGreat work! Now you've seen how to calculate mean performance over time, as well as cumulative performance over time. The plot you've created allows you to investigate when the portfolio was performing well, and when things weren't going so well. In the next, you'll create some more intuition about performance.\\n\""
      ]
     },
     "execution_count": 25,
     "metadata": {},
     "output_type": "execute_result"
    }
   ],
   "source": [
    "# exercise 04\n",
    "\n",
    "\"\"\"\n",
    "Portfolio cumulative returns\n",
    "\n",
    "In the previous exercise, you've calculated the mean performance over a period of time. This gives you one performance number for that entire period. But what if you would want to plot the development of the performance over time? For that, you will need the cumulative performance, not the mean performance. Just like with interest in your bank account, the cumulative performance gives you the compounded return at each date in your dataset. It tells you; \"up until today, this is what the total return has been since the start of my data.\"\n",
    "\n",
    "Remember because of the compounding effect, you need to use cumprod() for this calculation. NumPy has already been imported as np and available are the daily returns data from the previous exercise under returns. Let's give it a try!\n",
    "\"\"\"\n",
    "\n",
    "# Instructions\n",
    "\n",
    "\"\"\"\n",
    "\n",
    "    Calculate the daily portfolio returns and assign it to a new column called ['Portfolio'] in the returns dataset. Use dot multiplication to multiply the returns data with the portfolio weights.\n",
    "---\n",
    "\n",
    "    Transform the daily returns dataset to a cumulative returns dataset by using the cumprod() function. Inspect what the data looks like by looking at the tail of the dataset.\n",
    "---\n",
    "\n",
    "    Plot the daily_cum_ret.index, which contains the dates, against the cumulative portfolio returns data, stored under daily_cum_ret.Portfolio. Inspect the plot. Do you know how to interpret this plot?\n",
    "\n",
    "\"\"\"\n",
    "\n",
    "# solution\n",
    "\n",
    "# Create portfolio returns column\n",
    "returns['Portfolio']= returns.dot(weights)\n",
    "\n",
    "# Calculate cumulative returns\n",
    "daily_cum_ret=(1+returns).cumprod()\n",
    "\n",
    "# Plot the portfolio cumulative returns only\n",
    "fig, ax = plt.subplots()\n",
    "ax.plot(daily_cum_ret.index, daily_cum_ret.Portfolio, color='purple', label=\"portfolio\")\n",
    "ax.xaxis.set_major_locator(matplotlib.dates.YearLocator())\n",
    "plt.legend()\n",
    "plt.show()\n",
    "\n",
    "#----------------------------------#\n",
    "\n",
    "# Conclusion\n",
    "\n",
    "\"\"\"\n",
    "Great work! Now you've seen how to calculate mean performance over time, as well as cumulative performance over time. The plot you've created allows you to investigate when the portfolio was performing well, and when things weren't going so well. In the next, you'll create some more intuition about performance.\n",
    "\"\"\""
   ]
  },
  {
   "cell_type": "code",
   "execution_count": 28,
   "metadata": {
    "tags": []
   },
   "outputs": [
    {
     "name": "stdout",
     "output_type": "stream",
     "text": [
      "2.55%\n",
      "            GE       JPM      MSFT        PG\n",
      "GE    0.045987  0.022828  0.016285  0.010101\n",
      "JPM   0.022828  0.046660  0.024135  0.010812\n",
      "MSFT  0.016285  0.024135  0.054054  0.014144\n",
      "PG    0.010101  0.010812  0.014144  0.020645\n"
     ]
    },
    {
     "data": {
      "text/plain": [
       "'\\nCorrect: the variances of the stocks are in the diagonal of the covariance matrix. The variance tell us how much the returns of individual stocks deviate from their mean. Microsoft seems to have relatively the highest variance of them all.\\n'"
      ]
     },
     "execution_count": 28,
     "metadata": {},
     "output_type": "execute_result"
    }
   ],
   "source": [
    "# exercise 05\n",
    "\n",
    "\"\"\"\n",
    "Portfolio variance\n",
    "\n",
    "Your turn! It's time to calculate the risk of our 4-stock portfolio. Let's start with the pricing data, available under data. You'll have to calculate daily percentage returns and assign weights to your portfolio. You'll then continue by calculating the covariance matrix, and use the following formula: Portfolio variance = Weights transposed x (Covariance matrix x Weights) to get the final portfolio variance.\n",
    "\n",
    "As calculating portfolio variance is an important part of portfolio analysis, make sure you take your time to understand each step, and go back to the slides if you need to. Good luck!\n",
    "\"\"\"\n",
    "\n",
    "# Instructions\n",
    "\n",
    "\"\"\"\n",
    "\n",
    "    Calculate the daily returns from the price data and create a NumPy array with the following portfolio weights: 0.05, 0.4, 0.3, 0.25.\n",
    "---\n",
    "\n",
    "    Create the covariance matrix from the daily_returns data. The multiplication with 250 is to account for 250 trading days in a year. Inspect the covariance matrix and make sure you understand the elements within it.\n",
    "---\n",
    "\n",
    "    Using the NumPy dot product function, apply the formula: Portfolio variance = Weights transposed x (Covariance matrix x Weights) on the weights and cov_matrix to calculate the portfolio variance. Print the portfolio variance.\n",
    "---\n",
    "Question\n",
    "\n",
    "Looking at our covariance matrix cov_matrix, which stock in our portfolio has the highest risk? Print it in the console if you need to have another look at it.\n",
    "Possible answers:\n",
    "\n",
    "    JP Morgan is the riskiest stock, since it is a financial company\n",
    "\n",
    "    JP Morgan is the riskiest, since it has relatively high correlations with the the stocks.\n",
    "\n",
    "    Microsoft is the riskiest, since it's variance is 5.4%, which is the highest of all the stocks in the portfolio {Answer}\n",
    "\n",
    "    I can't say based on the information in the covariance matrix.\n",
    "\"\"\"\n",
    "\n",
    "# solution\n",
    "\n",
    "# Get percentage daily returns\n",
    "daily_returns = data.pct_change()\n",
    "\n",
    "# Assign portfolio weights\n",
    "weights = np.array([0.05, 0.4, 0.3, 0.25])\n",
    "\n",
    "# Calculate the covariance matrix \n",
    "cov_matrix = (daily_returns.cov())*250\n",
    "\n",
    "# Calculate the portfolio variance\n",
    "port_variance = np.dot(weights.T, np.dot(cov_matrix, weights))\n",
    "\n",
    "# Print the result\n",
    "print(str(np.round(port_variance, 4) * 100) + '%')\n",
    "print(cov_matrix)\n",
    "\n",
    "#----------------------------------#\n",
    "\n",
    "# Conclusion\n",
    "\n",
    "\"\"\"\n",
    "Correct: the variances of the stocks are in the diagonal of the covariance matrix. The variance tell us how much the returns of individual stocks deviate from their mean. Microsoft seems to have relatively the highest variance of them all.\n",
    "\"\"\""
   ]
  },
  {
   "cell_type": "code",
   "execution_count": 29,
   "metadata": {
    "tags": []
   },
   "outputs": [
    {
     "name": "stdout",
     "output_type": "stream",
     "text": [
      "15.959999999999999%\n"
     ]
    },
    {
     "data": {
      "text/plain": [
       "\"\\nGood job! The standard deviation tells you how much the portfolio's return can deviate from the mean historical return. If a portfolio has a 12% average rate of return and a standard deviation of 4%, its return will range from 8-16%. The mean historic return of this particular portfolio is actually close to zero. With an average standard deviation of roughly 16%, this means you're getting a bad deal here! Now that you've learned how to calculate basic risk and return of a portfolio, you're ready to dive deeper into the world of portfolio analysis in the next chapters.\\n\""
      ]
     },
     "execution_count": 29,
     "metadata": {},
     "output_type": "execute_result"
    }
   ],
   "source": [
    "# exercise 06\n",
    "\n",
    "\"\"\"\n",
    "Standard deviation versus variance\n",
    "\n",
    "Let's talk about the difference between variance and standard deviation. From the video you already know that the standard deviation\n",
    "\n",
    "is simply the square root of the variance. Both measures are used in practice to calculate market or stock volatility. Why should you use one or the other?\n",
    "\n",
    "In the variance calculation we square the weights and the variances. Because of this squaring, the variance is no longer in the same unit of measurement as the original data. Taking the root of the variance means the standard deviation is restored to the original unit of measure and therefore much easier to interpret.\n",
    "\n",
    "Let's calculate the standard deviation. Available are the weights and the cov_matrix from the previous exercise.\n",
    "\"\"\"\n",
    "\n",
    "# Instructions\n",
    "\n",
    "\"\"\"\n",
    "\n",
    "    Re-create the calculation of the portfolio variance using weights and the cov_matrix. This time, take the square root of the whole calculation, to obtain the standard deviation instead.\n",
    "    \n",
    "    Print the standard deviation, the same way we did for the portfolio variance.\n",
    "\n",
    "\"\"\"\n",
    "\n",
    "# solution\n",
    "\n",
    "# Calculate the standard deviation by taking the square root\n",
    "port_standard_dev = np.sqrt(np.dot(weights.T, np.dot(cov_matrix, weights)))\n",
    "\n",
    "# Print the results \n",
    "print(str(np.round(port_standard_dev, 4) * 100) + '%')\n",
    "\n",
    "#----------------------------------#\n",
    "\n",
    "# Conclusion\n",
    "\n",
    "\"\"\"\n",
    "Good job! The standard deviation tells you how much the portfolio's return can deviate from the mean historical return. If a portfolio has a 12% average rate of return and a standard deviation of 4%, its return will range from 8-16%. The mean historic return of this particular portfolio is actually close to zero. With an average standard deviation of roughly 16%, this means you're getting a bad deal here! Now that you've learned how to calculate basic risk and return of a portfolio, you're ready to dive deeper into the world of portfolio analysis in the next chapters.\n",
    "\"\"\""
   ]
  }
 ],
 "metadata": {
  "kernelspec": {
   "display_name": "Python 3 (ipykernel)",
   "language": "python",
   "name": "python3"
  },
  "language_info": {
   "codemirror_mode": {
    "name": "ipython",
    "version": 3
   },
   "file_extension": ".py",
   "mimetype": "text/x-python",
   "name": "python",
   "nbconvert_exporter": "python",
   "pygments_lexer": "ipython3",
   "version": "3.11.6"
  }
 },
 "nbformat": 4,
 "nbformat_minor": 4
}
