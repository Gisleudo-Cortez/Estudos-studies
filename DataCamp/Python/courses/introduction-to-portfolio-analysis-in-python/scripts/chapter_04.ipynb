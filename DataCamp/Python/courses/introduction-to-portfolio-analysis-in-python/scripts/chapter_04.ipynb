{
 "cells": [
  {
   "cell_type": "code",
   "execution_count": 20,
   "metadata": {
    "editable": true,
    "slideshow": {
     "slide_type": ""
    },
    "tags": []
   },
   "outputs": [],
   "source": [
    "# run this to shorten the data import from the files\n",
    "import os\n",
    "cwd = os.path.dirname(os.getcwd())+'/'\n",
    "path_data = os.path.join(os.path.dirname(os.getcwd()), 'datasets/')\n"
   ]
  },
  {
   "cell_type": "markdown",
   "metadata": {},
   "source": [
    "# Understanding the efficient frontier\n",
    "\n",
    "How do the portfolios that lie below and on the right of the efficient frontier (EF), differ from the portfolios on the efficient frontier? Would you want to invest in any of those?\n",
    "\n",
    "### Possible Answers\n",
    "\n",
    "\n",
    "    No I wouldn't want to invest in anything apart from portfolios on the efficient frontier because other portfolios have less expected return.\n",
    "    \n",
    "    \n",
    "    No I wouldn't want to invest in anything apart from portfolios on the efficient frontier because other portfolios are sub-optimal. {Answer}\n",
    "    \n",
    "    \n",
    "    No I wouldn't want to invest in anything apart from portfolios on the efficient frontier because other portfolios are more risky.\n",
    "    \n",
    "    \n",
    "    Yes I would invest in portfolios other than those on the EF, it just depends on the risk-return trade-off I prefer, so those are good options as well.\n",
    "\n",
    "**Portfolios that lie below the EF are sub-optimal because they do not provide enough return for the level of risk. Portfolios that cluster to the right of the EF are sub-optimal because they have a higher level of risk for the defined rate of return.**"
   ]
  },
  {
   "cell_type": "code",
   "execution_count": 21,
   "metadata": {},
   "outputs": [
    {
     "data": {
      "text/html": [
       "<div>\n",
       "<style scoped>\n",
       "    .dataframe tbody tr th:only-of-type {\n",
       "        vertical-align: middle;\n",
       "    }\n",
       "\n",
       "    .dataframe tbody tr th {\n",
       "        vertical-align: top;\n",
       "    }\n",
       "\n",
       "    .dataframe thead th {\n",
       "        text-align: right;\n",
       "    }\n",
       "</style>\n",
       "<table border=\"1\" class=\"dataframe\">\n",
       "  <thead>\n",
       "    <tr style=\"text-align: right;\">\n",
       "      <th></th>\n",
       "      <th>GE</th>\n",
       "      <th>JPM</th>\n",
       "      <th>MSFT</th>\n",
       "      <th>PG</th>\n",
       "    </tr>\n",
       "    <tr>\n",
       "      <th>date</th>\n",
       "      <th></th>\n",
       "      <th></th>\n",
       "      <th></th>\n",
       "      <th></th>\n",
       "    </tr>\n",
       "  </thead>\n",
       "  <tbody>\n",
       "    <tr>\n",
       "      <th>2015-01-02</th>\n",
       "      <td>25.06</td>\n",
       "      <td>62.49</td>\n",
       "      <td>46.760</td>\n",
       "      <td>90.44</td>\n",
       "    </tr>\n",
       "    <tr>\n",
       "      <th>2015-01-05</th>\n",
       "      <td>24.60</td>\n",
       "      <td>60.55</td>\n",
       "      <td>46.325</td>\n",
       "      <td>90.01</td>\n",
       "    </tr>\n",
       "    <tr>\n",
       "      <th>2015-01-06</th>\n",
       "      <td>24.07</td>\n",
       "      <td>58.98</td>\n",
       "      <td>45.650</td>\n",
       "      <td>89.60</td>\n",
       "    </tr>\n",
       "    <tr>\n",
       "      <th>2015-01-07</th>\n",
       "      <td>24.08</td>\n",
       "      <td>59.07</td>\n",
       "      <td>46.230</td>\n",
       "      <td>90.07</td>\n",
       "    </tr>\n",
       "    <tr>\n",
       "      <th>2015-01-08</th>\n",
       "      <td>24.37</td>\n",
       "      <td>60.39</td>\n",
       "      <td>47.590</td>\n",
       "      <td>91.10</td>\n",
       "    </tr>\n",
       "  </tbody>\n",
       "</table>\n",
       "</div>"
      ],
      "text/plain": [
       "               GE    JPM    MSFT     PG\n",
       "date                                   \n",
       "2015-01-02  25.06  62.49  46.760  90.44\n",
       "2015-01-05  24.60  60.55  46.325  90.01\n",
       "2015-01-06  24.07  58.98  45.650  89.60\n",
       "2015-01-07  24.08  59.07  46.230  90.07\n",
       "2015-01-08  24.37  60.39  47.590  91.10"
      ]
     },
     "execution_count": 21,
     "metadata": {},
     "output_type": "execute_result"
    }
   ],
   "source": [
    "import pandas as pd\n",
    "\n",
    "stock_prices = pd.read_csv(path_data+'small_portfolio.csv', parse_dates=['date'], index_col='date')\n",
    "stock_prices.head()"
   ]
  },
  {
   "cell_type": "code",
   "execution_count": 22,
   "metadata": {},
   "outputs": [
    {
     "name": "stdout",
     "output_type": "stream",
     "text": [
      "GE     -0.175812\n",
      "JPM     0.185643\n",
      "MSFT    0.223083\n",
      "PG     -0.045684\n",
      "dtype: float64             GE       JPM      MSFT        PG\n",
      "GE    0.046355  0.023011  0.016415  0.010182\n",
      "JPM   0.023011  0.047033  0.024328  0.010899\n",
      "MSFT  0.016415  0.024328  0.054486  0.014257\n",
      "PG    0.010182  0.010899  0.014257  0.020810\n"
     ]
    },
    {
     "data": {
      "text/plain": [
       "\"\\nGood work! You've taken the first few important steps in portfolio optimization. Now that you have calculated the efficient frontier with your given measures of expected risk and return, you can select an optimal portfolio from that frontier, that fits your risk and return appetite. That might be the portfolio with the Maximum Sharpe ratio, or even the portfolio with the lowest level of risk.\\n\""
      ]
     },
     "execution_count": 22,
     "metadata": {},
     "output_type": "execute_result"
    }
   ],
   "source": [
    "# exercise 01\n",
    "\n",
    "\"\"\"\n",
    "Calculating expected risk and returns\n",
    "\n",
    "For this exercise, you're going to start with the raw price data. What you'll need for portfolio optimization, is the expected risk and return from this data.\n",
    "\n",
    "With PyPortfolioOpt, you can calculate the expected risk and return in just one line of code, so that makes it very easy for you. The library you need is called pypfopt in short. FYI, you'll see in the next exercise that PyPortfolioOpt gives you the same output if you were to calculate it by hand. Let's give it a try!\n",
    "\"\"\"\n",
    "\n",
    "# Instructions\n",
    "\n",
    "\"\"\"\n",
    "\n",
    "    Import the risk_models and expected_returns functions from the PyPortfolioOpt library as well the EfficientFrontier function from the efficientfrontier package.\n",
    "---\n",
    "\n",
    "    Calculate the expected returns from the stock_prices data.\n",
    "---\n",
    "\n",
    "    Calculate the covariance matrix from the stock_prices.\n",
    "---\n",
    "\n",
    "    Get the efficient frontier by inputting mu and Sigma, and print mu and Sigma to see what these inputs for the EF look like.\n",
    "\n",
    "\"\"\"\n",
    "\n",
    "# solution\n",
    "\n",
    "# Import the packages \n",
    "from pypfopt import risk_models\n",
    "from pypfopt import expected_returns\n",
    "from pypfopt.efficient_frontier import EfficientFrontier\n",
    "\n",
    "# Calculate expected returns mu \n",
    "mu = expected_returns.mean_historical_return(stock_prices)\n",
    "\n",
    "# Calculate the covariance matrix S\n",
    "Sigma = risk_models.sample_cov(stock_prices)\n",
    "\n",
    "# Obtain the efficient frontier\n",
    "ef = EfficientFrontier(mu, Sigma)\n",
    "print (mu, Sigma)\n",
    "\n",
    "#----------------------------------#\n",
    "\n",
    "# Conclusion\n",
    "\n",
    "\"\"\"\n",
    "Good work! You've taken the first few important steps in portfolio optimization. Now that you have calculated the efficient frontier with your given measures of expected risk and return, you can select an optimal portfolio from that frontier, that fits your risk and return appetite. That might be the portfolio with the Maximum Sharpe ratio, or even the portfolio with the lowest level of risk.\n",
    "\"\"\""
   ]
  },
  {
   "cell_type": "code",
   "execution_count": 23,
   "metadata": {
    "tags": []
   },
   "outputs": [
    {
     "name": "stdout",
     "output_type": "stream",
     "text": [
      "            GE       JPM      MSFT        PG\n",
      "GE    0.046355  0.023011  0.016415  0.010182\n",
      "JPM   0.023011  0.047033  0.024328  0.010899\n",
      "MSFT  0.016415  0.024328  0.054486  0.014257\n",
      "PG    0.010182  0.010899  0.014257  0.020810             GE       JPM      MSFT        PG\n",
      "GE    0.046355  0.023011  0.016415  0.010182\n",
      "JPM   0.023011  0.047033  0.024328  0.010899\n",
      "MSFT  0.016415  0.024328  0.054486  0.014257\n",
      "PG    0.010182  0.010899  0.014257  0.020810\n"
     ]
    },
    {
     "data": {
      "text/plain": [
       "\"\\nGood job! What did you notice? They are exactly the same, aren't they! This exercise is just to show you that under the hood, thePyPortfolioOpt functions use the same calculations that you are already familiar with, and that these aren't black-box type of calculations. In fact,PyPortfolioOpt can be used to make your portfolio analysis easier, and to skip a few manual steps when you are calculating things. Let's now move on to explore more functionality of PyPortfolioOpt.\\n\""
      ]
     },
     "execution_count": 23,
     "metadata": {},
     "output_type": "execute_result"
    }
   ],
   "source": [
    "# exercise 02\n",
    "\n",
    "\"\"\"\n",
    "PyPortfolioOpt risk functions\n",
    "\n",
    "The objective of the Markowitz portfolio optimization problem is to minimize the portfolio variance, given a bunch of constraints. Do you remember how you calculate this from chapter 2? Portfolio variance = weights transposed * covariance matrix * weights. WithPyPortfolioOpt we call the covariance matrix sigma, to denote that this is a sample covariance 'SUM'.\n",
    "\n",
    "In this exercise you will see that thePyPortfolioOpt functions to calculate sigma, gives the exact same result if you were to calculate the covariance by hand. The same goes for the expected return calculations, you can also verifyPyPortfolioOpt gives the same output as calculating annualized daily returns by hand. Available are the stock_prices. Let's explore this a bit further…\n",
    "\"\"\"\n",
    "\n",
    "# Instructions\n",
    "\n",
    "\"\"\"\n",
    "\n",
    "    Transform the stock prices data stock_prices to a returns series, by using the function pct_change()\n",
    "---\n",
    "\n",
    "    Obtain the covariance matrix of the returns, and annualize it by multiplying it with 252 trading days.\n",
    "---\n",
    "\n",
    "    Repeat the covariance calculation and assign it to Sigma, but this time use thePyPortfolioOpt function sample_cov() from the risk_models module. Remember to input the price data, not the returns data here.\n",
    "---\n",
    "\n",
    "    Print your manually calculated covariance matrix, and Sigma, and compare the results. What do you see?\n",
    "\n",
    "\"\"\"\n",
    "\n",
    "# solution\n",
    "\n",
    "# Get the returns from the stock price data\n",
    "returns=stock_prices.pct_change()\n",
    "\n",
    "# Calculate the annualized covariance matrix \n",
    "covMatrix = returns.cov()*252\n",
    "\n",
    "# Calculate the covariance matrix Sigma from a`PyPortfolioOpt` function\n",
    "Sigma = risk_models.sample_cov(stock_prices)\n",
    "\n",
    "# Print both covariance matrices\n",
    "print (covMatrix, Sigma)\n",
    "\n",
    "#----------------------------------#\n",
    "\n",
    "# Conclusion\n",
    "\n",
    "\"\"\"\n",
    "Good job! What did you notice? They are exactly the same, aren't they! This exercise is just to show you that under the hood, thePyPortfolioOpt functions use the same calculations that you are already familiar with, and that these aren't black-box type of calculations. In fact,PyPortfolioOpt can be used to make your portfolio analysis easier, and to skip a few manual steps when you are calculating things. Let's now move on to explore more functionality of PyPortfolioOpt.\n",
    "\"\"\""
   ]
  },
  {
   "cell_type": "code",
   "execution_count": 24,
   "metadata": {
    "tags": []
   },
   "outputs": [
    {
     "name": "stdout",
     "output_type": "stream",
     "text": [
      "OrderedDict([('GE', 0.0), ('JPM', 0.4926529085352374), ('MSFT', 0.4900890447252645), ('PG', 0.0172580467394981)])\n",
      "Expected annual return: 20.0%\n",
      "Annual volatility: 19.2%\n",
      "Sharpe Ratio: 0.94\n"
     ]
    },
    {
     "name": "stderr",
     "output_type": "stream",
     "text": [
      "/home/nero/Documents/Estudos/estudos/lib/python3.11/site-packages/cvxpy/reductions/solvers/solving_chain.py:336: FutureWarning: \n",
      "    Your problem is being solved with the ECOS solver by default. Starting in \n",
      "    CVXPY 1.5.0, Clarabel will be used as the default solver instead. To continue \n",
      "    using ECOS, specify the ECOS solver explicitly using the ``solver=cp.ECOS`` \n",
      "    argument to the ``problem.solve`` method.\n",
      "    \n",
      "  warnings.warn(ECOS_DEPRECATION_MSG, FutureWarning)\n"
     ]
    },
    {
     "data": {
      "text/plain": [
       "\"\\nFantastic! You've now completed your first portfolio optimization problem! By setting the target return of 0.2, mind you this is 20%, you get a mix of three stocks with positive weights in the portfolio. You'll see in a following exercise that this is in fact different from the portfolio that optimizes to obtain the maximum Sharpe ratio. Also notice how you can easily use PyPortfolioOpt for rather complex optimization problems. It has many different options to tweak, and you'll learn more about those options in the following lessons.\\n\""
      ]
     },
     "execution_count": 24,
     "metadata": {},
     "output_type": "execute_result"
    }
   ],
   "source": [
    "# exercise 03\n",
    "\n",
    "\"\"\"\n",
    "Optimal portfolio performance\n",
    "\n",
    "Let's now continue with the efficient frontier ef that you calculated in a previous exercise for the small portfolio. You still need to select an optimal portfolio from that efficient frontier ef, and check its performance. Let's use the efficient_return option. This function selects the portfolio with the minimized risk given a target return. A portfolio manager is often asked to manage a portfolio under certain risk and return constraints, so this is a very useful function for that.\n",
    "\n",
    "mu and Sigma are already calculated for you and ef is also available.\n",
    "\"\"\"\n",
    "\n",
    "# Instructions\n",
    "\n",
    "\"\"\"\n",
    "\n",
    "    Obtain an efficient return portfolio, with a target return of 0.2. Store the weights of that portfolio under weights, then print and inspect the weights. Are there any stocks with zero weight?\n",
    "    \n",
    "    Obtain the performance report for your efficient return portfolio.\n",
    "\n",
    "\"\"\"\n",
    "\n",
    "# solution\n",
    "\n",
    "# Get the minimum risk portfolio for a target return \n",
    "weights = ef.efficient_return(0.2)\n",
    "print (weights)\n",
    "\n",
    "# Show portfolio performance \n",
    "ef.portfolio_performance(verbose=True)\n",
    "\n",
    "#----------------------------------#\n",
    "\n",
    "# Conclusion\n",
    "\n",
    "\"\"\"\n",
    "Fantastic! You've now completed your first portfolio optimization problem! By setting the target return of 0.2, mind you this is 20%, you get a mix of three stocks with positive weights in the portfolio. You'll see in a following exercise that this is in fact different from the portfolio that optimizes to obtain the maximum Sharpe ratio. Also notice how you can easily use PyPortfolioOpt for rather complex optimization problems. It has many different options to tweak, and you'll learn more about those options in the following lessons.\n",
    "\"\"\""
   ]
  },
  {
   "cell_type": "code",
   "execution_count": 25,
   "metadata": {
    "tags": []
   },
   "outputs": [
    {
     "name": "stdout",
     "output_type": "stream",
     "text": [
      "OrderedDict([('GE', 0.0), ('JPM', 0.4251955192429592), ('MSFT', 0.5748044807570409), ('PG', 0.0)]) OrderedDict([('GE', 0.0), ('JPM', 0.4252), ('MSFT', 0.5748), ('PG', 0.0)])\n"
     ]
    },
    {
     "data": {
      "text/plain": [
       "\"\\nThat's correct! Looking closely at some of the stocks in the portfolio, two have negative historic performance, and by adding them they don't actually lower the risk of the portfolio. That means that when we optimize for risk and return, apparently it is optimal not to invest in those.\\n\""
      ]
     },
     "execution_count": 25,
     "metadata": {},
     "output_type": "execute_result"
    }
   ],
   "source": [
    "# exercise 04\n",
    "\n",
    "\"\"\"\n",
    "Portfolio optimization: Max Sharpe\n",
    "\n",
    "In this exercise, you're going to calculate the portfolio that gives the Maximum Sharpe ratio. Often, this is the portfolio the investor wants to invest in, as it provides the highest possible return to risk ratio.PyPortfolioOpt makes it very easy to calculate this portfolio from a set of historical price data.\n",
    "\n",
    "Available for you are the mean historic return for a small portfolio of stocks under mu and a covariance matrix belonging to our portfolio under Sigma. You'll need these as inputs to calculate the Efficient Frontier and Maximum Sharpe portfolio. Let's try it!\n",
    "\"\"\"\n",
    "\n",
    "# Instructions\n",
    "\n",
    "\"\"\"\n",
    "\n",
    "    Use the console to print the expected returns mu and covariance matrix Sigma to make sure you know what the inputs look like. Then, define the efficient frontier using mu, and Sigma in the script.\n",
    "---\n",
    "\n",
    "    Determine the raw weights using the Maximum Sharpe optimizer, then get the clean weights for the best interpretation of the portfolio weights. Check what is printed for raw_weights_maxsharpe and cleaned_weights_maxsharpe in the console.\n",
    "---\n",
    "Question\n",
    "\n",
    "Why are some of the weights in the Maximum Sharpe portfolio zero?\n",
    "Possible answers:\n",
    "    \n",
    "    The Maximum Sharpe portfolio tries to minimize the number of stocks you invest in, hence some of the weights are zero.\n",
    "    \n",
    "    The Maximum Sharpe portfolio maximizes risk, and therefore doesn't invest in all stocks.\n",
    "    \n",
    "    Some of the expected returns of the stocks are negative. That does not necessarily exclude them from the Maximum Sharpe portfolio, but in this case, those negative stocks just lower returns without lowering the risk of the portfolio. That's why they are not part of the optimal risk-return portfolio. {Answer}\n",
    "    \n",
    "    The Maximum Sharpe portfolio minimizes risk, hence it doesn't invest in all stocks.\n",
    "\"\"\"\n",
    "\n",
    "# solution\n",
    "\n",
    "# Define the efficient frontier\n",
    "ef = EfficientFrontier(mu, Sigma)\n",
    "\n",
    "# Calculate weights for the maximum Sharpe ratio portfolio\n",
    "raw_weights_maxsharpe = ef.max_sharpe()\n",
    "cleaned_weights_maxsharpe = ef.clean_weights()\n",
    "print (raw_weights_maxsharpe, cleaned_weights_maxsharpe)\n",
    "\n",
    "#----------------------------------#\n",
    "\n",
    "# Conclusion\n",
    "\n",
    "\"\"\"\n",
    "That's correct! Looking closely at some of the stocks in the portfolio, two have negative historic performance, and by adding them they don't actually lower the risk of the portfolio. That means that when we optimize for risk and return, apparently it is optimal not to invest in those.\n",
    "\"\"\""
   ]
  },
  {
   "cell_type": "code",
   "execution_count": 26,
   "metadata": {
    "tags": []
   },
   "outputs": [
    {
     "name": "stdout",
     "output_type": "stream",
     "text": [
      "OrderedDict([('GE', 0.0), ('JPM', 0.4252), ('MSFT', 0.5748), ('PG', 0.0)])\n",
      "Expected annual return: 20.7%\n",
      "Annual volatility: 19.6%\n",
      "Sharpe Ratio: 0.96\n",
      "OrderedDict([('GE', 0.15732), ('JPM', 0.11714), ('MSFT', 0.04704), ('PG', 0.6785)])\n",
      "Expected annual return: -2.6%\n",
      "Annual volatility: 13.3%\n",
      "Sharpe Ratio: -0.35\n"
     ]
    },
    {
     "data": {
      "text/plain": [
       "\"\\nGood work! With a few minor adjustments you can easily change the optimizer to obtain a different type of portfolio. Now let's discuss how these portfolios differ.\\n\""
      ]
     },
     "execution_count": 26,
     "metadata": {},
     "output_type": "execute_result"
    }
   ],
   "source": [
    "# exercise 05\n",
    "\n",
    "\"\"\"\n",
    "Minimum volatility optimization\n",
    "\n",
    "In this exercise, you're going to compare the minimum volatility and the Maximum Sharpe portfolios. As a portfolio manager you often want to understand how your chosen portfolio measures up to the minimum volatility portfolio. WithPyPortfolioOpt you can compare the two quickly, without having to write two different constrained optimization problems, which can be quite complex. Available for you is the efficient frontier from the previous exercise under ef. Let's give it a try!\n",
    "\"\"\"\n",
    "\n",
    "# Instructions\n",
    "\n",
    "\"\"\"\n",
    "Inspect the Maximum Sharpe portfolio from the previous exercise by using portfolio_performance() numbers from ef.\n",
    "\n",
    "---\n",
    "\n",
    "Change the optimizer into the min vol optimizer, run the code again and inspect the weights and the performance numbers.\n",
    "\"\"\"\n",
    "\n",
    "# solution\n",
    "\n",
    "# Calculate weights for the maximum Sharpe ratio portfolio\n",
    "ef = EfficientFrontier(mu, Sigma)\n",
    "raw_weights_maxsharpe = ef.max_sharpe()\n",
    "cleaned_weights_maxsharpe = ef.clean_weights()\n",
    "\n",
    "# Show portfolio performance \n",
    "print(cleaned_weights_maxsharpe)\n",
    "ef.portfolio_performance(verbose=True)\n",
    "\n",
    "#----------------------------------#\n",
    "\n",
    "# Calculate weights for the minimum volatility portfolio\n",
    "ef = EfficientFrontier(mu, Sigma)\n",
    "raw_weights_minvol = ef.min_volatility()\n",
    "cleaned_weights_minvol = ef.clean_weights()\n",
    "\n",
    "# Show portfolio performance\n",
    "print(cleaned_weights_minvol)\n",
    "ef.portfolio_performance(verbose=True)\n",
    "\n",
    "#----------------------------------#\n",
    "\n",
    "# Conclusion\n",
    "\n",
    "\"\"\"\n",
    "Good work! With a few minor adjustments you can easily change the optimizer to obtain a different type of portfolio. Now let's discuss how these portfolios differ.\n",
    "\"\"\""
   ]
  },
  {
   "cell_type": "code",
   "execution_count": 27,
   "metadata": {
    "tags": []
   },
   "outputs": [
    {
     "name": "stdout",
     "output_type": "stream",
     "text": [
      "OrderedDict([('GE', 0.15732), ('JPM', 0.11714), ('MSFT', 0.04704), ('PG', 0.6785)])\n",
      "OrderedDict([('GE', 0.0), ('JPM', 0.4252), ('MSFT', 0.5748), ('PG', 0.0)])\n"
     ]
    },
    {
     "data": {
      "text/plain": [
       "'\\nIndeed, the minimum volatility portfolio spreads the risk more by investing in all the stocks, although some have a negative performance, this leads to an overall lower performance, but also to lower risk.\\n'"
      ]
     },
     "execution_count": 27,
     "metadata": {},
     "output_type": "execute_result"
    }
   ],
   "source": [
    "# exercise 06\n",
    "\n",
    "\"\"\"\n",
    "Comparing max Sharpe to min vol\n",
    "\n",
    "In this exercise let's have a closer look at the weights and performance of the Maximum Sharpe and minimum volatility portfolios, and compare them. This exercise will help you understand the characteristics of these two different portfolios. Available are cleaned_weights_minvol, cleaned_weights_maxsharpe, perf_min_volatility, and perf_max_sharpe.\n",
    "\"\"\"\n",
    "\n",
    "# Instructions\n",
    "\n",
    "\"\"\"\n",
    "\n",
    "    Print and inspect the items cleaned_weights_minvol, cleaned_weights_maxsharpe, perf_min_volatility, and perf_max_sharpe.\n",
    "---\n",
    "Question\n",
    "\n",
    "Which statement correctly describes the difference between the maximum Sharpe portfolio and the minimum volatility portfolio you calculated in the previous exercises?\n",
    "Possible answers:\n",
    "    \n",
    "    The minimum volatility portfolio has a higher performance and lower risk compared to maximum Sharpe, since all stocks have a positive weight in the portfolio.\n",
    "    \n",
    "    The min vol portfolio has a lower performance but lower risk, since all stocks have a positive weight in the min vol portfolio and some stocks have a negative expected return. {Answer}\n",
    "    \n",
    "    The minimum volatility portfolio is not on the efficient frontier, and the maximum Sharpe is.\n",
    "    \n",
    "    The maximum Sharpe is not in the efficient frontier, and the minimum portfolio is.\n",
    "\"\"\"\n",
    "\n",
    "# solution\n",
    "\n",
    "# Print min vol and max sharpe results\n",
    "print(cleaned_weights_minvol,cleaned_weights_maxsharpe, sep=\"\\n\")\n",
    "\"\"\"perf_min_volatility,perf_max_sharpe\"\"\"\n",
    "#----------------------------------#\n",
    "\n",
    "# Conclusion\n",
    "\n",
    "\"\"\"\n",
    "Indeed, the minimum volatility portfolio spreads the risk more by investing in all the stocks, although some have a negative performance, this leads to an overall lower performance, but also to lower risk.\n",
    "\"\"\""
   ]
  },
  {
   "cell_type": "code",
   "execution_count": 28,
   "metadata": {
    "tags": []
   },
   "outputs": [
    {
     "name": "stdout",
     "output_type": "stream",
     "text": [
      "Expected annual return: 27.1%\n",
      "Annual volatility: 24.4%\n",
      "Sharpe Ratio: 1.03\n"
     ]
    },
    {
     "data": {
      "text/plain": [
       "\"\\nGreat job! In this setting you used observations from more recent data to weigh more heavily in your decision, which is especially interesting if you're managing a trend following portfolio. Also, you see that creating more complicated portfolio constructions is very easy withPyPortfolioOpt, allowing you to test and compare different set-ups with a few minor changes.\\n\""
      ]
     },
     "execution_count": 28,
     "metadata": {},
     "output_type": "execute_result"
    }
   ],
   "source": [
    "# exercise 07\n",
    "\n",
    "\"\"\"\n",
    "Exponentially weighted returns and risk\n",
    "\n",
    "In this exercise, you're going to perform portfolio optimization with a slightly different way of estimating risk and returns; you're going to give more weight to recent data in the optimization.\n",
    "\n",
    "This is a smart way to deal with stock data that is typically non-stationary, i.e., when the distribution changes over time. Implementation can be quickly done by changing the risk model you use to calculate Sigma, and the returns calculation you use to get mu. The stock prices dataset is available as stock_prices. Let's try!\n",
    "\"\"\"\n",
    "\n",
    "# Instructions\n",
    "\n",
    "\"\"\"\n",
    "\n",
    "    \n",
    "    Use the exponential weighted covariance matrix from risk_models and exponential weighted historical returns function from expected_returns to calculate Sigma and mu. Set the span to 180 and the frequency (i.e. the trading days) to 252.\n",
    "    \n",
    "    Calculate the efficient frontier with the new mu and Sigma.\n",
    "    \n",
    "    Calculate the weights for the maximum Sharpe ratio portfolio.\n",
    "    \n",
    "    Get the performance report.\n",
    "\n",
    "\n",
    "\"\"\"\n",
    "\n",
    "# solution\n",
    "\n",
    "# Define exponentially weightedSigma and mu using stock_prices\n",
    "Sigma = risk_models.exp_cov(stock_prices, span=180, frequency=252)\n",
    "mu = expected_returns.ema_historical_return(stock_prices, frequency=252, span=180)\n",
    "\n",
    "# Calculate the efficient frontier\n",
    "ef_2 = EfficientFrontier(mu, Sigma)\n",
    "\n",
    "# Calculate weights for the maximum sharpe ratio optimization\n",
    "raw_weights_maxsharpe = ef_2.max_sharpe()\n",
    "\n",
    "# Show portfolio performance \n",
    "ef_2.portfolio_performance(verbose=True)\n",
    "\n",
    "#----------------------------------#\n",
    "\n",
    "# Conclusion\n",
    "\n",
    "\"\"\"\n",
    "Great job! In this setting you used observations from more recent data to weigh more heavily in your decision, which is especially interesting if you're managing a trend following portfolio. Also, you see that creating more complicated portfolio constructions is very easy withPyPortfolioOpt, allowing you to test and compare different set-ups with a few minor changes.\n",
    "\"\"\""
   ]
  },
  {
   "cell_type": "code",
   "execution_count": 29,
   "metadata": {},
   "outputs": [],
   "source": [
    "cleaned_weights_maxsharpe_EW = ef_2.clean_weights()"
   ]
  },
  {
   "cell_type": "code",
   "execution_count": 30,
   "metadata": {
    "tags": []
   },
   "outputs": [
    {
     "name": "stdout",
     "output_type": "stream",
     "text": [
      "OrderedDict([('GE', 0.0), ('JPM', 0.4252), ('MSFT', 0.5748), ('PG', 0.0)])\n",
      "OrderedDict([('GE', 0.0), ('JPM', 0.13076), ('MSFT', 0.86924), ('PG', 0.0)])\n",
      "Expected annual return: -2.6%\n",
      "Annual volatility: 13.3%\n",
      "Sharpe Ratio: -0.35\n",
      "Expected annual return: 27.1%\n",
      "Annual volatility: 24.4%\n",
      "Sharpe Ratio: 1.03\n"
     ]
    },
    {
     "data": {
      "text/plain": [
       "'\\nCorrect! Since the span is relatively long, and the trends are persistent, this means that the more recent data is pretty similar to the full dataset. In that sense, you are not getting a very large gain by using the exponentially weighted approach when your data is predictable and has persistent trends.\\n'"
      ]
     },
     "execution_count": 30,
     "metadata": {},
     "output_type": "execute_result"
    }
   ],
   "source": [
    "# exercise 08\n",
    "\n",
    "\"\"\"\n",
    "Comparing approaches\n",
    "\n",
    "In this exercise, you're going to investigate whether the maximum Sharpe portfolios differ when you are using the normal historic expected risk and returns, and when using the exponentially weighted risk and returns. You saw during the video that the exponentially weighted volatility follows the real volatility much closer, but do you actually see a big difference in the portfolio weights when using one, or the other? That's what you'll find out.\n",
    "\n",
    "The exponentially weighted risk and return have been calculated using a span of 252 trading days, so it looks back through a maximum period of a year. Available for you are: cleaned_weights_maxsharpe, perf_max_sharpe, cleaned_weights_maxsharpe_EW, perf_max_sharpe_EW. The _EW part stands for exponentially weighted.\n",
    "\"\"\"\n",
    "\n",
    "# Instructions\n",
    "\n",
    "\"\"\"\n",
    "\n",
    "    Print and inspect the weights of both the normal maximum Sharpe portfolio, and then the weights of the exponentially weighted portfolio.\n",
    "---\n",
    "\n",
    "    Have a close look at the performance of both the normal portfolio, and the exponentially weighted portfolio by printing both performance reports with the verbose option.\n",
    "---\n",
    "Question\n",
    "\n",
    "What could be a reason why the two portfolios are actually not that different to each other?\n",
    "Possible answers:\n",
    "    \n",
    "    The span of 252 is pretty long relative the the full dataset, which means both are calculated with largely the same data input.\n",
    "    \n",
    "    The trends in the data are relatively persistent: that's why weights for example GE and PG are zero for both portfolios, and both portfolios only invest in JPM and MSFT.\n",
    "    \n",
    "    All of the above. {Answer}\n",
    "\"\"\"\n",
    "\n",
    "# solution\n",
    "\n",
    "# Print the weights of both portfolios types\n",
    "print(cleaned_weights_maxsharpe, cleaned_weights_maxsharpe_EW, sep=\"\\n\")\n",
    "\n",
    "#----------------------------------#\n",
    "\n",
    "# Print the performance of both portfolios types\n",
    "perf_max_sharpe = ef.portfolio_performance(verbose=True)\n",
    "perf_max_sharpe_EW = ef_2.portfolio_performance(verbose=True)\n",
    "\n",
    "#----------------------------------#\n",
    "\n",
    "# Conclusion\n",
    "\n",
    "\"\"\"\n",
    "Correct! Since the span is relatively long, and the trends are persistent, this means that the more recent data is pretty similar to the full dataset. In that sense, you are not getting a very large gain by using the exponentially weighted approach when your data is predictable and has persistent trends.\n",
    "\"\"\""
   ]
  },
  {
   "cell_type": "code",
   "execution_count": 34,
   "metadata": {
    "tags": []
   },
   "outputs": [
    {
     "name": "stdout",
     "output_type": "stream",
     "text": [
      "Expected annual return: 30.3%\n",
      "Annual volatility: 18.5%\n",
      "Sharpe Ratio: 1.53\n",
      "(0.3031986388390256, 0.18517397942259814, 1.529365193328371)\n",
      "Expected annual return: 12.8%\n",
      "Annual volatility: 17.0%\n",
      "Sharpe Ratio: 0.63\n",
      "(0.1281477626078149, 0.1703552408267825, 0.6348367216819572)\n"
     ]
    },
    {
     "data": {
      "text/plain": [
       "\"\\nGreat work! Interesting isn't it, that by playing around with the span, you get two completely different type of portfolios, each with a very different Sharpe ratio. If your data is very volatile and changes rapidly, working with a short span might give you better predictive power of the expected return, with a faster moving investment strategy. However, if your data is rather slow moving as is the case with this data, the short span does not help you in better predicting expected risk and returns. Let's now recap what we've learned in this course\\n\""
      ]
     },
     "execution_count": 34,
     "metadata": {},
     "output_type": "execute_result"
    }
   ],
   "source": [
    "# exercise 09\n",
    "\n",
    "\"\"\"\n",
    "Changing the span\n",
    "\n",
    "At the last exercise you discovered that the span of the exponentially weighted risk and return can have an impact on what the optimal portfolio looks like. In fact, the span has a very big influence! By setting the span, you can either use data for say only the most recent days, or use data from the most recent years. In the limit, when the span is as long as the full sample, it will be equal to using the normal historic mean.\n",
    "\n",
    "Now let's get a feel for how a short and long span changes your optimal portfolio. Available is the stock_prices data.\n",
    "\"\"\"\n",
    "\n",
    "# Instructions\n",
    "\n",
    "\"\"\"\n",
    "\n",
    "    Set a really long span of 2 years of trading days, assuming that one year has 252 days.\n",
    "\n",
    "---\n",
    "\n",
    "    Change the span to 10 days, and see how that changes your optimal portfolio.\n",
    "\n",
    "\"\"\"\n",
    "\n",
    "# solution\n",
    "\n",
    "# Calculate expected returns and sample covariance\n",
    "mu_ema = expected_returns.ema_historical_return(stock_prices, span=504 ,frequency=252)\n",
    "Sigma_ew = risk_models.exp_cov(stock_prices, span=504, frequency=252)\n",
    "ef_2 = EfficientFrontier(mu_ema, Sigma_ew)\n",
    "\n",
    "# Calculate weights for the maximum Sharpe ratio portfolio\n",
    "weights = ef_2.max_sharpe()\n",
    "cleaned_weights_maxsharpe_EW = ef_2.clean_weights()\n",
    "perf_max_sharpe_EW = ef_2.portfolio_performance(verbose=True)\n",
    "print(perf_max_sharpe_EW)\n",
    "#----------------------------------#\n",
    "\n",
    "# Calculate expected returns and sample covariance\n",
    "mu_ema = expected_returns.ema_historical_return(stock_prices, span=10 ,frequency=252)\n",
    "Sigma_ew = risk_models.exp_cov(stock_prices, span=10, frequency=252)\n",
    "ef_2 = EfficientFrontier(mu_ema, Sigma_ew)\n",
    "\n",
    "# Calculate weights for the maximum Sharpe ratio portfolio\n",
    "weights = ef_2.max_sharpe()\n",
    "cleaned_weights_maxsharpe_EW = ef_2.clean_weights()\n",
    "perf_max_sharpe_EW = ef_2.portfolio_performance(verbose=True)\n",
    "print(perf_max_sharpe_EW)\n",
    "#----------------------------------#\n",
    "\n",
    "# Conclusion\n",
    "\n",
    "\"\"\"\n",
    "Great work! Interesting isn't it, that by playing around with the span, you get two completely different type of portfolios, each with a very different Sharpe ratio. If your data is very volatile and changes rapidly, working with a short span might give you better predictive power of the expected return, with a faster moving investment strategy. However, if your data is rather slow moving as is the case with this data, the short span does not help you in better predicting expected risk and returns. Let's now recap what we've learned in this course\n",
    "\"\"\""
   ]
  }
 ],
 "metadata": {
  "kernelspec": {
   "display_name": "Python 3 (ipykernel)",
   "language": "python",
   "name": "python3"
  },
  "language_info": {
   "codemirror_mode": {
    "name": "ipython",
    "version": 3
   },
   "file_extension": ".py",
   "mimetype": "text/x-python",
   "name": "python",
   "nbconvert_exporter": "python",
   "pygments_lexer": "ipython3",
   "version": "3.11.7"
  }
 },
 "nbformat": 4,
 "nbformat_minor": 4
}
