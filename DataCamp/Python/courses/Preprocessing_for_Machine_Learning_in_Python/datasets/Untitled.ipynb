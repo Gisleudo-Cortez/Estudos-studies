{
 "cells": [
  {
   "cell_type": "code",
   "execution_count": 1,
   "id": "f3d84ff4-d404-4362-b907-334fef8d69f1",
   "metadata": {
    "execution": {
     "iopub.execute_input": "2023-05-26T12:04:48.568408Z",
     "iopub.status.busy": "2023-05-26T12:04:48.568189Z",
     "iopub.status.idle": "2023-05-26T12:04:48.986962Z",
     "shell.execute_reply": "2023-05-26T12:04:48.986266Z",
     "shell.execute_reply.started": "2023-05-26T12:04:48.568389Z"
    },
    "tags": []
   },
   "outputs": [],
   "source": [
    "import pandas as pd\n",
    "path_data = '/home/nero/Documents/Estudos/DataCamp/Python/Preprocessing_for_Machine_Learning_in_Python/datasets/'\n",
    "data = pd.read_clipboard()\n",
    "data.head()\n",
    "data.to_csv(path_data + 'running_times_5k.csv')"
   ]
  },
  {
   "cell_type": "code",
   "execution_count": null,
   "id": "c885624e-8dca-4736-ac33-36b8f620ccd3",
   "metadata": {},
   "outputs": [],
   "source": []
  }
 ],
 "metadata": {
  "kernelspec": {
   "display_name": "Python 3 (ipykernel)",
   "language": "python",
   "name": "python3"
  },
  "language_info": {
   "codemirror_mode": {
    "name": "ipython",
    "version": 3
   },
   "file_extension": ".py",
   "mimetype": "text/x-python",
   "name": "python",
   "nbconvert_exporter": "python",
   "pygments_lexer": "ipython3",
   "version": "3.11.3"
  }
 },
 "nbformat": 4,
 "nbformat_minor": 5
}
