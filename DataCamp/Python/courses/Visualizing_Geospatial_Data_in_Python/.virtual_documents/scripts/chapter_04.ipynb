# run this to shorten the data import from the files
path_data = '/home/nero/Documents/Estudos/DataCamp/Python/Visualizing_Geospatial_Data_in_Python/datasets/'

import pandas as pd
import geopandas as gpd
import matplotlib.pyplot as plt


# loading datasets
data_path = path_data + 'building_permits_2017.csv'
permits = pd.read_csv(data_path)

data_path = path_data + 'council_districts.geojson'

council_districts = gpd.read_file(data_path)

display(permits.head(1), council_districts.head(1))


# exercise 01

"""
Finding counts from a spatial join

You will be using a dataset of the building permits issued in Nashville during 2017. This DataFrame, called permits, has been pre-loaded for you, along with the council_districts GeoDataFrame.
"""

# Instructions

"""

    Create a Point geometry column in permits from lat and lng.
    Create permits_geo, a GeoDataFrame, using permits, the crs from council_districts, and the geometry from permits.
    Use a spatial join to find permits issued within each council district. Print the first 2 rows.
    Create permit_counts to show the count of permits within each district, using groupby() and .size(). Print permit_counts.

"""

# solution

from shapely.geometry import Point

# Create a shapely Point from lat and lng
permits['geometry'] = permits.apply(lambda x: Point((x.lng , x.lat)), axis = 1)

# Build a GeoDataFrame: permits_geo
permits_geo = gpd.GeoDataFrame(permits, crs = council_districts.crs, geometry = permits.geometry)

# Spatial join of permits_geo and council_districts
permits_by_district = gpd.sjoin(permits_geo, council_districts, predicate = 'within')
print(permits_by_district.head(2))

# Create permit_counts
permit_counts = permits_by_district.groupby(['district']).size()
print(permit_counts)

#----------------------------------#

# Conclusion

"""
Great! Now you have a count of building permits issued for each council district. Next you'll get the area of each council_district.
"""


# exercise 02

"""
Council district areas and permit counts

In order to create a normalized value for the building permits issued in each council district, you will need to find the area of each council district. Remember that you can leverage the area attribute of a GeoSeries to do this. You will need to convert permit_counts to a DataFrame so you can merge it with the council_districts data. Both permit_counts and council_districts are available for you.
"""

# Instructions

"""
Get the area of each council district and store it in a new column, area, in the council_districts GeoDataFrame. Print the first two rows.
---
Next convert permit_counts to a DataFrame with the .to_frame() method, and print the first two rows.
---
Reset the index using the inplace = True argument and set the columns attribute to a list with the names district and bldg_permits. Print the first two rows again to see what permits_df looks like now.
---
Create a new GeoDataFrame called districts_and_permits by merging council_districts and permits_df on the district column. Take a look at the first two rows.
---
"""

# solution

# Create an area column in council_districts
council_districts['area'] = council_districts.area
print(council_districts.head(2))

#----------------------------------#

# Convert permit_counts to a DataFrame
permits_df = permit_counts.to_frame()
print(permits_df.head(2))

#----------------------------------#

# Reset index and column names
permits_df.reset_index(inplace=True)
permits_df.columns = ['district', 'bldg_permits']
print(permits_df.head(2))

#----------------------------------#

# Merge council_districts and permits_df: 
districts_and_permits = pd.merge(council_districts, permits_df, on = 'district')
print(districts_and_permits.head(2))

#----------------------------------#

# Conclusion

"""
That's great work! You have created a column with the area in the council_districts Geo DataFrame and built a DataFrame from the permit_counts. You have merged all the information into a single GeoDataFrame. Next you will calculate the permits by area for each council district.
"""


# exercise 03

"""
Calculating a normalized metric

Now you are ready to divide the number of building permits issued for projects in each council district by the area of that district to get a normalized value for the permits issued. First you will verify that the districts_and_permits is still a GeoDataFrame.
"""

# Instructions

"""

    Print the type() of districts_and_permits.
    Add one more column to districts_and_permits. Use a lambda expression and the pandas apply() method to divide the number of building permits issued for projects in each council district by the area of that district to get a normalized value for the permits issued.
    Print the first five rows of districts_and_permits.

"""

# solution

# Print the type of districts_and_permits
print(type(districts_and_permits))

# Create permit_density column in districts_and_permits
districts_and_permits['permit_density'] = districts_and_permits.apply(lambda row: row.bldg_permits / row.area, axis = 1)

# Print the head of districts_and_permits
print(districts_and_permits.head())

#----------------------------------#

# Conclusion

"""
Excellent! Now that you have created a normalized value to look at building permits in each council district, let's go learn how to plot a choropleth.
"""


# exercise 04

"""
Geopandas choropleths

First you will plot a choropleth of the building permit density for each council district using the default colormap. Then you will polish it by changing the colormap and adding labels and a title.
"""

# Instructions

"""
Import matplotlib.pyplot, pandas, and geopandas with the customary aliases.
---
Plot districts_and_permits, using the permit_density column you just created and the default colormap. Be sure to call plt.show().
---
Create a more polished choropleth of permit_density. Use the BuGn colormap, outline the polygons in black, create axis labels (longitude and latitude), and a title('2017 Building Project Density by Council District'). Show the plot.
---
"""

# solution

# Import packages
import matplotlib.pyplot as plt
import pandas as pd
import geopandas as gpd

#----------------------------------#

# Simple plot of building permit_density
districts_and_permits.plot(column = 'permit_density', legend = True);
plt.show();

#----------------------------------#

# Polished choropleth of building permit_density
districts_and_permits.plot(column = 'permit_density', cmap = 'BuGn', edgecolor = 'black', legend = True)
plt.xlabel('longitude')
plt.ylabel('latitude')
plt.xticks(rotation = 'vertical')
plt.title('2017 Building Project Density by Council District')
plt.show();

#----------------------------------#

# Conclusion

"""
Very nice! You can see that most development has happened close to the city center! The scale for permit density is hard to interpret. We'll fix that next.
"""


# exercise 05

"""
Area in km squared, geometry in decimal degrees

In this exercise, you'll start again with the council_districts GeoDataFrame and the permits DataFrame. You will change the council_districts to use the EPSG 3857 coordinate reference system before creating a column for area. Once the area column has been created, you will change the CRS back to EPSG 4326 so that the geometry is in decimal degrees.
"""

# Instructions

"""

    Change the coordinate reference system for the council_districts to EPSG 3857, and print the crs and first two rows again.
    Create a column called area. Divide the area of each polygon by sqm_to_sqkm to get the area in kilometers squared.
    Change the coordinate reference system for the council_districts back to EPSG 4326. Print the crs and first two rows.

"""

# solution

# Change council_districts crs to epsg 3857
council_districts = council_districts.to_crs(epsg = 3857)
print(council_districts.crs)
print(council_districts.head())

# Create area in square km
sqm_to_sqkm = 10**6
council_districts['area'] = council_districts.area / sqm_to_sqkm

# Change council_districts crs back to epsg 4326
council_districts = council_districts.to_crs(epsg = 4326)
print(council_districts.crs)
print(council_districts.head())

#----------------------------------#

# Conclusion

"""
Good! The council_districts have area in kilometers squared and geometry measures in decimal degrees. Let's go join it to the permits.
"""


# exercise 06

"""
Spatially joining and getting counts

You will continue preparing your dataset for plotting a geopandas choropleth by creating a GeoDataFrame of the building permits spatially joined to the council districts. After that, you will be able to get counts of the building permits issued in each council district.
"""

# Instructions

"""

    Create permits_geo from permits, the council_districts.crs, and the geometry in permits.
    Spatially join permits_geo and the council_districts to get building permits within each council district. Call this permits_by_district.
    Count permits in each district, permit_counts, by chaining groupby() and size() methods.
    Create counts_df from permit_counts. Reset the index, and name the columns district and bldg_permits.

"""

# solution

# Create permits_geo
permits_geo = gpd.GeoDataFrame(permits, crs = council_districts.crs, geometry = permits.geometry)

# Spatially join permits_geo and council_districts
permits_by_district = gpd.sjoin(permits_geo, council_districts, predicate = 'within')
print(permits_by_district.head(2))

# Count permits in each district
permit_counts = permits_by_district.groupby('district').size()

# Convert permit_counts to a df with 2 columns: district and bldg_permits
counts_df = permit_counts.to_frame()
counts_df = counts_df.reset_index()
counts_df.columns = ['district', 'bldg_permits']
print(counts_df.head(2))

#----------------------------------#

# Conclusion

"""
You have done all the work to get the area units in km squared, latitude and longitude in decimal degrees, and a count of building permits issued for each council district all in the same dataset. All that's left is to calculate a normalized value and plot the choropleth!
"""


# exercise 07

"""
Building a polished Geopandas choropleth

After merging the counts_df with permits_by_district, you will create a column with normalized permit_density by dividing the count of permits in each council district by the area of that council district. Then you will plot your final geopandas choropleth of the building projects in each council district.
"""

# Instructions

"""

    Merge permits_by_district and counts_df on district to create districts_and_permits.
    Using apply() and a lambda expression, calculate a new column in districts_and_permits called permit_density. Divide counts by areas.
    Plot a choropleth of the districts_and_permits, using permit_density with the OrRd colormap, and black outlines.
    Add axis labels (longitude and latitude) and the title provided. Show your plot.

"""

# solution

# Merge permits_by_district and counts_df
districts_and_permits = pd.merge(permits_by_district, counts_df, on = 'district')

# Create permit_density column
districts_and_permits['permit_density'] = districts_and_permits.apply(lambda row: row.bldg_permits / row.area, axis = 1)
print(districts_and_permits.head(2))

# Create choropleth plot
districts_and_permits.plot(column = 'permit_density', cmap = 'OrRd', edgecolor = 'black', legend = True, kind = 'geo')

# Add axis labels and title
plt.xlabel('longitude')
plt.ylabel('latitude')
plt.title('2017 Building Project Density by Council District')
plt.show()

#----------------------------------#

# Conclusion

"""
That's terrific! You can see the relative density of permitted building projects for the council districts.
"""


# load module
import folium


# decrease data size due to map visualisation lag

districts_and_permits = districts_and_permits.iloc[:35,:]


# exercise 08

"""
Folium choropleth

In this exercise, you will construct a folium choropleth to show the density of permitted construction projects in different Nashville council districts. You will be using a single data source, the districts_and_permits GeoDataFrame, which has been pre-loaded for you.
"""

# Instructions

"""
Create a map object m using the nashville point for location and a zoom_start of 10.
---

    Use districts_and_permits: geometry for polygons, district & permit_density to color. Use Reds and 0.5 opacity for the fill; Set line_opacity to 1.0.
    Set key_on to feature.properties.district. Use the title provided.

---
Next create and add a folium LayerControl(). Display the map.
---
"""

# solution

# Center point for Nashville
nashville = [36.1636,-86.7823]

# Create map
m = folium.Map(location=nashville, zoom_start=10, popup=None)

#----------------------------------#

folium.Choropleth(
    geo_data=districts_and_permits,
    name='geometry',
    data=districts_and_permits,
    columns=['district', 'permit_density'],
    key_on='feature.properties.district',
    fill_color='Reds',
    fill_opacity=0.5,
    line_opacity=1.0,
    legend_name='2017 Permitted Building Projects per km squared'
).add_to(m)

#----------------------------------#

# Create LayerControl and add it to the map            
folium.LayerControl().add_to(m)

# Display the map
display(m)   

#----------------------------------#

# Conclusion

"""
Nice work. In the final exercise, you will add markers and popups.
"""


# exercise 09

"""
Folium choropleth with markers and popups

Now you will add a marker to the center of each council district that shows the district number along with the count of building permits issued in 2017 for that district. The map you created in the last exercise is available as m.
"""

# Instructions

"""

    Find the centroid for each council district and store it in a new column, center in the districts_and_permits GeoDataFrame.
    Iterate through districts_and_permits and add a marker at each district's center. Remember to reverse the coordinate pair.
    Create popups within your for loop to display the district number and the count of permits issued.
    Add the markers to your map with .add_to() and display it.

"""

# solution

# Create center column for the centroid of each district
districts_and_permits['center'] = districts_and_permits.geometry.centroid

# Build markers and popups
for row in districts_and_permits.iterrows():
    row_values = row[1] 
    center_point = row_values['center']
    location = [center_point.y, center_point.x]
    popup = ('Council District: ' + str(row_values['district']) + 
             ';  ' + 'permits issued: ' + str(row_values['bldg_permits']))
    marker = folium.Marker(location = location, popup = popup)
    marker.add_to(m)
    
# Display the map
display(m)

#----------------------------------#

# Conclusion

"""
Well done! Your choropleth of building permits by Council Districts is very informative! Not only can we see the relative density of project work amongst districts, we can also see which district is which and what the total count of projects was for that district.
"""
