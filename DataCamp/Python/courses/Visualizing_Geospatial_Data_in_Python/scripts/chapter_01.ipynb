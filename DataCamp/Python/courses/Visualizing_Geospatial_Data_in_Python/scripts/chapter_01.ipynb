{
 "cells": [
  {
   "cell_type": "code",
   "execution_count": 5,
   "metadata": {
    "execution": {
     "iopub.execute_input": "2023-05-19T10:41:19.107917Z",
     "iopub.status.busy": "2023-05-19T10:41:19.106929Z",
     "iopub.status.idle": "2023-05-19T10:41:19.111545Z",
     "shell.execute_reply": "2023-05-19T10:41:19.110726Z",
     "shell.execute_reply.started": "2023-05-19T10:41:19.107885Z"
    },
    "tags": []
   },
   "outputs": [],
   "source": [
    "# run this to shorten the data import from the files\n",
    "path_data = '/home/nero/Documents/Estudos/DataCamp/Python/courses/Visualizing_Geospatial_Data_in_Python/datasets/'\n",
    "\n",
    "import pandas as pd"
   ]
  },
  {
   "cell_type": "code",
   "execution_count": 6,
   "metadata": {
    "execution": {
     "iopub.execute_input": "2023-05-19T10:55:04.353044Z",
     "iopub.status.busy": "2023-05-19T10:55:04.352242Z",
     "iopub.status.idle": "2023-05-19T10:55:04.360981Z",
     "shell.execute_reply": "2023-05-19T10:55:04.360222Z",
     "shell.execute_reply.started": "2023-05-19T10:55:04.352987Z"
    },
    "tags": []
   },
   "outputs": [],
   "source": [
    "# load father_son dataset\n",
    "data_path = path_data + 'father_son.csv'\n",
    "father_son = pd.read_csv(data_path).drop(columns = ['Unnamed: 0'])"
   ]
  },
  {
   "cell_type": "code",
   "execution_count": null,
   "metadata": {
    "execution": {
     "iopub.execute_input": "2023-05-19T10:55:07.318748Z",
     "iopub.status.busy": "2023-05-19T10:55:07.318354Z",
     "iopub.status.idle": "2023-05-19T10:55:09.125198Z",
     "shell.execute_reply": "2023-05-19T10:55:09.121507Z",
     "shell.execute_reply.started": "2023-05-19T10:55:07.318714Z"
    }
   },
   "outputs": [
    {
     "ename": "",
     "evalue": "",
     "output_type": "error",
     "traceback": [
      "\u001b[1;31mRunning cells with 'estudos' requires the ipykernel package.\n",
      "\u001b[1;31mRun the following command to install 'ipykernel' into the Python environment. \n",
      "\u001b[1;31mCommand: '/home/nero/Documents/Estudos/estudos/bin/python -m pip install ipykernel -U --force-reinstall'"
     ]
    }
   ],
   "source": [
    "# exercise 01\n",
    "\n",
    "\"\"\"\n",
    "Styling a scatterplot\n",
    "\n",
    "In this exercise, you'll be using plt.scatter() to plot the father and son height data from the video. The father_son DataFrame has been pre-loaded for you. In each scatterplot, plot father_son.fheight as x-axis and father_son.sheight as y-axis.\n",
    "\"\"\"\n",
    "\n",
    "# Instructions\n",
    "\n",
    "\"\"\"\n",
    "\n",
    "    Import the pyplot module from matplotlib with the usual alias.\n",
    "    Create a scatterplot of father and son heights with a square marker (encoded as s) that is 'darkred'. Show your plot.\n",
    "---\n",
    "Edit the code to change the markers for your scatterplot of father heights versus son heights. Make the markers 'yellow' with a 'darkblue' edgecolor.\n",
    "---\n",
    "\n",
    "    Add gridlines and axes labels ('father height (inches)' and 'son height (inches)') to your scatterplot.\n",
    "    Give the plot a title of 'Son Height as a Function of Father Height'.\n",
    "\n",
    "\"\"\"\n",
    "\n",
    "# solution\n",
    "\n",
    "# Import matplotlib.pyplot\n",
    "import matplotlib.pyplot as plt\n",
    "\n",
    "# Scatterplot 1 - father heights vs. son heights with darkred square markers\n",
    "plt.scatter(father_son.fheight, father_son.sheight, c = 'darkred', marker = 's')\n",
    "\n",
    "# Show your plot\n",
    "plt.show()\n",
    "\n",
    "#----------------------------------#\n",
    "\n",
    "# Import matplotlib.pyplot\n",
    "import matplotlib.pyplot as plt\n",
    "\n",
    "# Scatterplot 2 - yellow markers with darkblue borders\n",
    "plt.scatter(father_son.fheight, father_son.sheight, c = 'yellow', edgecolor = 'darkblue')\n",
    "\n",
    "# Show the plot\n",
    "plt.show()\n",
    "\n",
    "#----------------------------------#\n",
    "\n",
    "# Import matplotlib.pyplot\n",
    "import matplotlib.pyplot as plt\n",
    "\n",
    "# Scatterplot 3\n",
    "plt.scatter(father_son.fheight, father_son.sheight,  c = 'yellow', edgecolor = 'darkblue')\n",
    "plt.grid()\n",
    "plt.xlabel('father height (inches)')\n",
    "plt.ylabel('son height (inches)')\n",
    "plt.title('Son Height as a Function of Father Height')\n",
    "\n",
    "# Show your plot\n",
    "plt.show()\n",
    "\n",
    "#----------------------------------#\n",
    "\n",
    "# Conclusion\n",
    "\n",
    "\"\"\"\n",
    "Great! You have shown how additional arguments can be given to control the look of your scatterplots.\n",
    "\"\"\""
   ]
  },
  {
   "cell_type": "code",
   "execution_count": null,
   "metadata": {
    "execution": {
     "iopub.execute_input": "2023-05-19T11:00:06.017870Z",
     "iopub.status.busy": "2023-05-19T11:00:06.016885Z",
     "iopub.status.idle": "2023-05-19T11:00:06.026701Z",
     "shell.execute_reply": "2023-05-19T11:00:06.025311Z",
     "shell.execute_reply.started": "2023-05-19T11:00:06.017829Z"
    },
    "tags": []
   },
   "outputs": [
    {
     "ename": "",
     "evalue": "",
     "output_type": "error",
     "traceback": [
      "\u001b[1;31mRunning cells with 'estudos' requires the ipykernel package.\n",
      "\u001b[1;31mRun the following command to install 'ipykernel' into the Python environment. \n",
      "\u001b[1;31mCommand: '/home/nero/Documents/Estudos/estudos/bin/python -m pip install ipykernel -U --force-reinstall'"
     ]
    }
   ],
   "source": [
    "# loadin df\n",
    "data_path = path_data + 'df.csv'\n",
    "df = pd.read_csv(data_path)"
   ]
  },
  {
   "cell_type": "code",
   "execution_count": null,
   "metadata": {
    "execution": {
     "iopub.execute_input": "2023-05-19T11:00:08.274939Z",
     "iopub.status.busy": "2023-05-19T11:00:08.274463Z",
     "iopub.status.idle": "2023-05-19T11:00:08.292057Z",
     "shell.execute_reply": "2023-05-19T11:00:08.291311Z",
     "shell.execute_reply.started": "2023-05-19T11:00:08.274896Z"
    },
    "tags": []
   },
   "outputs": [
    {
     "ename": "",
     "evalue": "",
     "output_type": "error",
     "traceback": [
      "\u001b[1;31mRunning cells with 'estudos' requires the ipykernel package.\n",
      "\u001b[1;31mRun the following command to install 'ipykernel' into the Python environment. \n",
      "\u001b[1;31mCommand: '/home/nero/Documents/Estudos/estudos/bin/python -m pip install ipykernel -U --force-reinstall'"
     ]
    }
   ],
   "source": [
    "# exercise 02\n",
    "\n",
    "\"\"\"\n",
    "Extracting longitude and latitude\n",
    "\n",
    "A DataFrame named df has been pre-loaded for you. Complete the code to extract longitude and latitude to new, separate columns.\n",
    "\"\"\"\n",
    "\n",
    "# Instructions\n",
    "\n",
    "\"\"\"\n",
    "\n",
    "    Print the first few rows with print() and df.head().\n",
    "    Use a list comprehension to extract latitude to a new column called lat.\n",
    "    Use a list comprehension to extract longitude to a new column called lng.\n",
    "    Print the first few rows with print() and df.head() again to confirm the new columns.\n",
    "\n",
    "\"\"\"\n",
    "\n",
    "# solution\n",
    "\n",
    "# print the first few rows of df \n",
    "print(df.head())\n",
    "\n",
    "# extract latitude to a new column: lat\n",
    "df['lat'] = [loc[0] for loc in df.Location]\n",
    "\n",
    "# extract longitude to a new column: lng\n",
    "df['lng'] = [loc[1] for loc in df.Location]\n",
    "\n",
    "# print the first few rows of df again\n",
    "print(df.head())\n",
    "\n",
    "#----------------------------------#\n",
    "\n",
    "# Conclusion\n",
    "\n",
    "\"\"\"\n",
    "Nicely done. Now you can pass longitude and latitude more easily to the x and y arguments of a scatterplot.\n",
    "\"\"\""
   ]
  },
  {
   "cell_type": "code",
   "execution_count": null,
   "metadata": {
    "execution": {
     "iopub.execute_input": "2023-05-19T11:04:23.484588Z",
     "iopub.status.busy": "2023-05-19T11:04:23.483087Z",
     "iopub.status.idle": "2023-05-19T11:04:23.495290Z",
     "shell.execute_reply": "2023-05-19T11:04:23.493078Z",
     "shell.execute_reply.started": "2023-05-19T11:04:23.484489Z"
    },
    "tags": []
   },
   "outputs": [
    {
     "ename": "",
     "evalue": "",
     "output_type": "error",
     "traceback": [
      "\u001b[1;31mRunning cells with 'estudos' requires the ipykernel package.\n",
      "\u001b[1;31mRun the following command to install 'ipykernel' into the Python environment. \n",
      "\u001b[1;31mCommand: '/home/nero/Documents/Estudos/estudos/bin/python -m pip install ipykernel -U --force-reinstall'"
     ]
    }
   ],
   "source": [
    "# load chickens_path\n",
    "chickens_path = path_data + 'chickens.csv'"
   ]
  },
  {
   "cell_type": "code",
   "execution_count": null,
   "metadata": {
    "execution": {
     "iopub.execute_input": "2023-05-19T11:04:25.246700Z",
     "iopub.status.busy": "2023-05-19T11:04:25.244981Z",
     "iopub.status.idle": "2023-05-19T11:04:25.697829Z",
     "shell.execute_reply": "2023-05-19T11:04:25.691710Z",
     "shell.execute_reply.started": "2023-05-19T11:04:25.246642Z"
    },
    "tags": []
   },
   "outputs": [
    {
     "ename": "",
     "evalue": "",
     "output_type": "error",
     "traceback": [
      "\u001b[1;31mRunning cells with 'estudos' requires the ipykernel package.\n",
      "\u001b[1;31mRun the following command to install 'ipykernel' into the Python environment. \n",
      "\u001b[1;31mCommand: '/home/nero/Documents/Estudos/estudos/bin/python -m pip install ipykernel -U --force-reinstall'"
     ]
    }
   ],
   "source": [
    "# exercise 03\n",
    "\n",
    "\"\"\"\n",
    "Plotting chicken locations\n",
    "\n",
    "Now you will create a scatterplot that shows where the Nashville chickens are!\n",
    "\"\"\"\n",
    "\n",
    "# Instructions\n",
    "\n",
    "\"\"\"\n",
    "\n",
    "    The path to the chicken dataset is in the variable chickens_path. Use the read_csv function of pandas to load it into a DataFrame called chickens.\n",
    "    Use the .head() function to look at the first few rows.\n",
    "    Next add the x and y arguments to plt.scatter() to plot the locations of the Nashville chickens. Use the default marker and color options.\n",
    "    Show the plot using plt.show().\n",
    "\n",
    "\"\"\"\n",
    "\n",
    "# solution\n",
    "\n",
    "# Import pandas and matplotlib.pyplot using their customary aliases\n",
    "import pandas as pd\n",
    "import matplotlib.pyplot as plt\n",
    "\n",
    "# Load the dataset\n",
    "chickens = pd.read_csv(chickens_path)\n",
    "\n",
    "# Look at the first few rows of the chickens DataFrame\n",
    "print(chickens.head())\n",
    "\n",
    "# Plot the locations of all Nashville chicken permits\n",
    "plt.scatter(x = chickens.lng, y = chickens.lat)\n",
    "\n",
    "# Show the plot\n",
    "plt.show()\n",
    "\n",
    "#----------------------------------#\n",
    "\n",
    "# Conclusion\n",
    "\n",
    "\"\"\"\n",
    "We can see the relative location of the Nashville chickens using longitude for the x-axis and latitude for the y-axis. Next, now you'll up your game by plotting the locations on an actual map!\n",
    "\"\"\""
   ]
  },
  {
   "cell_type": "code",
   "execution_count": null,
   "metadata": {
    "tags": []
   },
   "outputs": [
    {
     "ename": "",
     "evalue": "",
     "output_type": "error",
     "traceback": [
      "\u001b[1;31mRunning cells with 'estudos' requires the ipykernel package.\n",
      "\u001b[1;31mRun the following command to install 'ipykernel' into the Python environment. \n",
      "\u001b[1;31mCommand: '/home/nero/Documents/Estudos/estudos/bin/python -m pip install ipykernel -U --force-reinstall'"
     ]
    }
   ],
   "source": [
    "# exercise 04\n",
    "\n",
    "\"\"\"\n",
    "Creating a GeoDataFrame & examining the geometry\n",
    "\n",
    "Let's see where service districts are in Nashville. The path to the service district shapefile has been stored in the variable shapefile_path.\n",
    "\"\"\"\n",
    "\n",
    "# Instructions\n",
    "\n",
    "\"\"\"\n",
    "\n",
    "    Import geopandas with its common alias gpd.\n",
    "    Read in the service district shapefile using geopandas and look at the first 5 rows using the head() method.\n",
    "    Print the geometry field in the first row (rowname is '0') to see the data contained in that field. You will pass service_district.loc[0, 'geometry'] to the print() function to do this.\n",
    "\n",
    "\"\"\"\n",
    "\n",
    "# solution\n",
    "\n",
    "# Import geopandas\n",
    "import geopandas as gpd \n",
    "\n",
    "# Read in the services district shapefile and look at the first few rows.\n",
    "service_district = gpd.read_file(shapefile_path)\n",
    "print(service_district.head())\n",
    "\n",
    "# Print the contents of the service districts geometry in the first row\n",
    "print(service_district.loc[0, 'geometry'])\n",
    "\n",
    "#----------------------------------#\n",
    "\n",
    "# Conclusion\n",
    "\n",
    "\"\"\"\n",
    "\n",
    "\"\"\""
   ]
  },
  {
   "cell_type": "code",
   "execution_count": null,
   "metadata": {
    "tags": []
   },
   "outputs": [
    {
     "ename": "",
     "evalue": "",
     "output_type": "error",
     "traceback": [
      "\u001b[1;31mRunning cells with 'estudos' requires the ipykernel package.\n",
      "\u001b[1;31mRun the following command to install 'ipykernel' into the Python environment. \n",
      "\u001b[1;31mCommand: '/home/nero/Documents/Estudos/estudos/bin/python -m pip install ipykernel -U --force-reinstall'"
     ]
    }
   ],
   "source": [
    "# exercise 05\n",
    "\n",
    "\"\"\"\n",
    "Plotting shapefile polygons\n",
    "\n",
    "The next step is to show the map of polygons. We have imported matplotlib.pyplot as plt and geopandas as gpd, and a GeoDataFrame of the service districts called service_district has been pre-loaded for you.\n",
    "\"\"\"\n",
    "\n",
    "# Instructions\n",
    "\n",
    "\"\"\"\n",
    "\n",
    "    First plot the service districts without additional arguments by calling .plot() on the GeoDataFrame.\n",
    "    Take a look at it with plt.show(). This has been done for you.\n",
    "    Now use the .plot() method again, but this time add column='name' to color the shapes according to their names and legend=True to see those names. Remember to show the plot.\n",
    "\n",
    "\"\"\"\n",
    "\n",
    "# solution\n",
    "\n",
    "# Import packages\n",
    "import geopandas as gpd\n",
    "import matplotlib.pyplot as plt\n",
    "\n",
    "# Plot the Service Districts without any additional arguments\n",
    "service_district.plot()\n",
    "plt.show()\n",
    "\n",
    "# Plot the Service Districts, color them according to name, and show a legend\n",
    "service_district.plot(column = 'name', legend = True)\n",
    "plt.show()\n",
    "\n",
    "#----------------------------------#\n",
    "\n",
    "# Conclusion\n",
    "\n",
    "\"\"\"\n",
    "Notice how easy it is to add style to the plot. Now you have a map of service districts that you can plot with the chicken data.\n",
    "\"\"\""
   ]
  },
  {
   "cell_type": "code",
   "execution_count": null,
   "metadata": {
    "tags": []
   },
   "outputs": [
    {
     "ename": "",
     "evalue": "",
     "output_type": "error",
     "traceback": [
      "\u001b[1;31mRunning cells with 'estudos' requires the ipykernel package.\n",
      "\u001b[1;31mRun the following command to install 'ipykernel' into the Python environment. \n",
      "\u001b[1;31mCommand: '/home/nero/Documents/Estudos/estudos/bin/python -m pip install ipykernel -U --force-reinstall'"
     ]
    }
   ],
   "source": [
    "# exercise 06\n",
    "\n",
    "\"\"\"\n",
    "Plotting points over polygons - part 1\n",
    "\n",
    "Make a basic plot of the service districts with the chicken locations. The packages needed have already been imported for you. The chickens DataFrame and service_district GeoDataFrame has been pre-loaded for you.\n",
    "\"\"\"\n",
    "\n",
    "# Instructions\n",
    "\n",
    "\"\"\"\n",
    "\n",
    "    Plot the shapefile for the service districts, using the name column to color the polygons.\n",
    "    Add chicken locations, using the lat and lng columns from the chickens DataFrame, and make them black.\n",
    "    Show your plot.\n",
    "\n",
    "\"\"\"\n",
    "\n",
    "# solution\n",
    "\n",
    "# Plot the service district shapefile\n",
    "service_district.plot(column='name')\n",
    "\n",
    "# Add the chicken locations\n",
    "plt.scatter(x=chickens.lng, y=chickens.lat, c = 'black')\n",
    "\n",
    "# Show the plot\n",
    "plt.show()\n",
    "\n",
    "#----------------------------------#\n",
    "\n",
    "# Conclusion\n",
    "\n",
    "\"\"\"\n",
    "Wow! It looks like most of the chickens are in the urban services district! Next, you'll add the finishing touches.\n",
    "\"\"\""
   ]
  },
  {
   "cell_type": "code",
   "execution_count": null,
   "metadata": {
    "tags": []
   },
   "outputs": [
    {
     "ename": "",
     "evalue": "",
     "output_type": "error",
     "traceback": [
      "\u001b[1;31mRunning cells with 'estudos' requires the ipykernel package.\n",
      "\u001b[1;31mRun the following command to install 'ipykernel' into the Python environment. \n",
      "\u001b[1;31mCommand: '/home/nero/Documents/Estudos/estudos/bin/python -m pip install ipykernel -U --force-reinstall'"
     ]
    }
   ],
   "source": [
    "# exercise 07\n",
    "\n",
    "\"\"\"\n",
    "Plotting points over polygons - part 2\n",
    "\n",
    "We have loaded the usual libraries as pd, plt, and gpd, the chickens dataset as chickens, and the service districts as service_district. Plot the service districts and chicken permits together to see what story your visualization tells.\n",
    "\"\"\"\n",
    "\n",
    "# Instructions\n",
    "\n",
    "\"\"\"\n",
    "\n",
    "    Start by plotting the GeoDataFrame with the service districts. Use the name column for your legend color.\n",
    "    Next plot latitude and longitude from the chicken data to create a scatterplot. Specify 'black' for the marker color and give them a 'white' outline.\n",
    "    Give the plot a title: 'Nashville Chicken Permits' and label the x-axis as 'longitude' and the y-axis as 'latitude'.\n",
    "    Add grid lines and show your plot.\n",
    "\n",
    "\"\"\"\n",
    "\n",
    "# solution\n",
    "\n",
    "# Plot the service district shapefile\n",
    "service_district.plot(column='name', legend=True)\n",
    "\n",
    "# Add the chicken locations\n",
    "plt.scatter(x=chickens.lng, y=chickens.lat, c='black', edgecolor = 'white')\n",
    "\n",
    "\n",
    "# Add labels and title\n",
    "plt.title('Nashville Chicken Permits')\n",
    "plt.xlabel('longitude')\n",
    "plt.ylabel('latitude')\n",
    "\n",
    "# Add grid lines and show the plot\n",
    "plt.grid()\n",
    "plt.show()\n",
    "\n",
    "#----------------------------------#\n",
    "\n",
    "# Conclusion\n",
    "\n",
    "\"\"\"\n",
    "That's excellent work! Congratulations on building your first 2-layer map in Python.\n",
    "\"\"\""
   ]
  }
 ],
 "metadata": {
  "kernelspec": {
   "display_name": "Python 3 (ipykernel)",
   "language": "python",
   "name": "python3"
  },
  "language_info": {
   "codemirror_mode": {
    "name": "ipython",
    "version": 3
   },
   "file_extension": ".py",
   "mimetype": "text/x-python",
   "name": "python",
   "nbconvert_exporter": "python",
   "pygments_lexer": "ipython3",
   "version": "3.11.6"
  }
 },
 "nbformat": 4,
 "nbformat_minor": 4
}
