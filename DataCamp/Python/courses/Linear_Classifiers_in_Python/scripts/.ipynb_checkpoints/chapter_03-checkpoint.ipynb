{
 "cells": [
  {
   "cell_type": "code",
   "execution_count": 6,
   "metadata": {
    "execution": {
     "iopub.execute_input": "2023-06-02T12:20:39.707015Z",
     "iopub.status.busy": "2023-06-02T12:20:39.706622Z",
     "iopub.status.idle": "2023-06-02T12:20:39.712608Z",
     "shell.execute_reply": "2023-06-02T12:20:39.711507Z",
     "shell.execute_reply.started": "2023-06-02T12:20:39.706981Z"
    },
    "tags": []
   },
   "outputs": [],
   "source": [
    "# run this to shorten the data import from the files\n",
    "path_data = '/home/nero/Documents/Estudos/DataCamp/Python/Linear_Classifiers_in_Python/datasets/'\n",
    "import pandas as pd\n",
    "import numpy as np\n",
    "from sklearn.linear_model import LinearRegression, LogisticRegression\n",
    "import matplotlib.pyplot as plt"
   ]
  },
  {
   "cell_type": "code",
   "execution_count": 12,
   "metadata": {
    "execution": {
     "iopub.execute_input": "2023-06-02T12:24:59.653797Z",
     "iopub.status.busy": "2023-06-02T12:24:59.652507Z",
     "iopub.status.idle": "2023-06-02T12:24:59.675558Z",
     "shell.execute_reply": "2023-06-02T12:24:59.674886Z",
     "shell.execute_reply.started": "2023-06-02T12:24:59.653746Z"
    },
    "tags": []
   },
   "outputs": [],
   "source": [
    "# load digits data\n",
    "from sklearn import datasets\n",
    "from sklearn.model_selection import train_test_split\n",
    "\n",
    "digits = datasets.load_digits()\n",
    "X_train, X_valid, y_train, y_valid = train_test_split(digits.data, digits.target)\n",
    "\n",
    "C_values = [0.001, 0.01, 0.1, 1, 10, 100, 1000]"
   ]
  },
  {
   "cell_type": "code",
   "execution_count": 13,
   "metadata": {
    "execution": {
     "iopub.execute_input": "2023-06-02T12:25:01.495289Z",
     "iopub.status.busy": "2023-06-02T12:25:01.494971Z",
     "iopub.status.idle": "2023-06-02T12:25:21.189616Z",
     "shell.execute_reply": "2023-06-02T12:25:21.188950Z",
     "shell.execute_reply.started": "2023-06-02T12:25:01.495263Z"
    },
    "tags": []
   },
   "outputs": [
    {
     "data": {
      "image/png": "[encoded data removed]",
      "text/plain": [
       "<Figure size 640x480 with 1 Axes>"
      ]
     },
     "metadata": {},
     "output_type": "display_data"
    },
    {
     "data": {
      "text/plain": [
       "\"\\nCongrats! As you can see, too much regularization (small C) doesn't work well - due to underfitting - and too little regularization (large C) doesn't work well either - due to overfitting.\\n\""
      ]
     },
     "execution_count": 13,
     "metadata": {},
     "output_type": "execute_result"
    }
   ],
   "source": [
    "# exercise 01\n",
    "\n",
    "\"\"\"\n",
    "Regularized logistic regression\n",
    "\n",
    "In Chapter 1, you used logistic regression on the handwritten digits data set. Here, we'll explore the effect of L2 regularization.\n",
    "\n",
    "The handwritten digits dataset is already loaded, split, and stored in the variables X_train, y_train, X_valid, and y_valid. The variables train_errs and valid_errs are already initialized as empty lists.\n",
    "\"\"\"\n",
    "\n",
    "# Instructions\n",
    "\n",
    "\"\"\"\n",
    "\n",
    "    Loop over the different values of C_value, creating and fitting a LogisticRegression model each time.\n",
    "    Save the error on the training set and the validation set for each model.\n",
    "    Create a plot of the training and testing error as a function of the regularization parameter, C.\n",
    "    Looking at the plot, what's the best value of C?\n",
    "\n",
    "\"\"\"\n",
    "\n",
    "# solution\n",
    "\n",
    "# Train and validaton errors initialized as empty list\n",
    "train_errs = list()\n",
    "valid_errs = list()\n",
    "\n",
    "# Loop over values of C_value\n",
    "for C_value in [0.001, 0.01, 0.1, 1, 10, 100, 1000]:\n",
    "    # Create LogisticRegression object and fit\n",
    "    lr = LogisticRegression(C = C_value, max_iter = 10000, n_jobs = -1)\n",
    "    lr.fit(X_train, y_train)\n",
    "    \n",
    "    # Evaluate error rates and append to lists\n",
    "    train_errs.append( 1.0 - lr.score(X_train, y_train) )\n",
    "    valid_errs.append( 1.0 - lr.score(X_valid, y_valid) )\n",
    "    \n",
    "# Plot results\n",
    "plt.semilogx(C_values, train_errs, C_values, valid_errs)\n",
    "plt.legend((\"train\", \"validation\"))\n",
    "plt.show()\n",
    "\n",
    "#----------------------------------#\n",
    "\n",
    "# Conclusion\n",
    "\n",
    "\"\"\"\n",
    "Congrats! As you can see, too much regularization (small C) doesn't work well - due to underfitting - and too little regularization (large C) doesn't work well either - due to overfitting.\n",
    "\"\"\""
   ]
  },
  {
   "cell_type": "code",
   "execution_count": 14,
   "metadata": {
    "execution": {
     "iopub.execute_input": "2023-06-02T12:27:35.416022Z",
     "iopub.status.busy": "2023-06-02T12:27:35.415584Z",
     "iopub.status.idle": "2023-06-02T12:27:35.421405Z",
     "shell.execute_reply": "2023-06-02T12:27:35.420208Z",
     "shell.execute_reply.started": "2023-06-02T12:27:35.415986Z"
    },
    "tags": []
   },
   "outputs": [],
   "source": [
    "from sklearn.model_selection import GridSearchCV"
   ]
  },
  {
   "cell_type": "code",
   "execution_count": 15,
   "metadata": {
    "execution": {
     "iopub.execute_input": "2023-06-02T12:28:47.980411Z",
     "iopub.status.busy": "2023-06-02T12:28:47.980022Z",
     "iopub.status.idle": "2023-06-02T12:28:53.012466Z",
     "shell.execute_reply": "2023-06-02T12:28:53.011730Z",
     "shell.execute_reply.started": "2023-06-02T12:28:47.980382Z"
    },
    "tags": []
   },
   "outputs": [
    {
     "name": "stdout",
     "output_type": "stream",
     "text": [
      "Best CV params {'C': 0.1}\n",
      "Total number of features: 640\n",
      "Number of selected features: 254\n"
     ]
    },
    {
     "data": {
      "text/plain": [
       "'\\nGreat job! As you can see, a whole lot of features were discarded here.\\n'"
      ]
     },
     "execution_count": 15,
     "metadata": {},
     "output_type": "execute_result"
    }
   ],
   "source": [
    "# exercise 02\n",
    "\n",
    "\"\"\"\n",
    "Logistic regression and feature selection\n",
    "\n",
    "In this exercise we'll perform feature selection on the movie review sentiment data set using L1 regularization. The features and targets are already loaded for you in X_train and y_train.\n",
    "\n",
    "We'll search for the best value of C using scikit-learn's GridSearchCV(), which was covered in the prerequisite course.\n",
    "\"\"\"\n",
    "\n",
    "# Instructions\n",
    "\n",
    "\"\"\"\n",
    "\n",
    "    Instantiate a logistic regression object that uses L1 regularization.\n",
    "    Find the value of C that minimizes cross-validation error.\n",
    "    Print out the number of selected features for this value of C.\n",
    "\n",
    "\"\"\"\n",
    "\n",
    "# solution\n",
    "\n",
    "# Specify L1 regularization\n",
    "lr = LogisticRegression(solver='liblinear', penalty = 'l1')\n",
    "\n",
    "# Instantiate the GridSearchCV object and run the search\n",
    "searcher = GridSearchCV(lr, {'C':[0.001, 0.01, 0.1, 1, 10]})\n",
    "searcher.fit(X_train, y_train)\n",
    "\n",
    "# Report the best parameters\n",
    "print(\"Best CV params\", searcher.best_params_)\n",
    "\n",
    "# Find the number of nonzero coefficients (selected features)\n",
    "best_lr = searcher.best_estimator_\n",
    "coefs = best_lr.coef_\n",
    "print(\"Total number of features:\", coefs.size)\n",
    "print(\"Number of selected features:\", np.count_nonzero(coefs))\n",
    "\n",
    "#----------------------------------#\n",
    "\n",
    "# Conclusion\n",
    "\n",
    "\"\"\"\n",
    "Great job! As you can see, a whole lot of features were discarded here.\n",
    "\"\"\""
   ]
  },
  {
   "cell_type": "code",
   "execution_count": 18,
   "metadata": {
    "execution": {
     "iopub.execute_input": "2023-06-02T12:43:35.750432Z",
     "iopub.status.busy": "2023-06-02T12:43:35.750189Z",
     "iopub.status.idle": "2023-06-02T12:43:35.767635Z",
     "shell.execute_reply": "2023-06-02T12:43:35.766892Z",
     "shell.execute_reply.started": "2023-06-02T12:43:35.750410Z"
    },
    "tags": []
   },
   "outputs": [],
   "source": [
    "inds_ascending = pd.read_csv(path_data + 'inds_asc.csv').dropna().values\n",
    "inds_descending = pd.read_csv(path_data + 'inds_dsc.csv').dropna().values\n",
    "vocab = pd.read_csv(path_data + 'vocab.csv').dropna().values"
   ]
  },
  {
   "cell_type": "code",
   "execution_count": 24,
   "metadata": {
    "execution": {
     "iopub.execute_input": "2023-06-02T12:44:15.972735Z",
     "iopub.status.busy": "2023-06-02T12:44:15.972358Z",
     "iopub.status.idle": "2023-06-02T12:44:15.980777Z",
     "shell.execute_reply": "2023-06-02T12:44:15.979929Z",
     "shell.execute_reply.started": "2023-06-02T12:44:15.972709Z"
    },
    "tags": []
   },
   "outputs": [
    {
     "name": "stdout",
     "output_type": "stream",
     "text": [
      "Most positive words: favorite, superb, noir, knowing, excellent, \n",
      "\n",
      "Most negative words: worst, disappointing, waste, boring, lame, \n",
      "\n"
     ]
    },
    {
     "data": {
      "text/plain": [
       "\"\\nYou got it! The answers sort of make sense, don't they?\\n\""
      ]
     },
     "execution_count": 24,
     "metadata": {},
     "output_type": "execute_result"
    }
   ],
   "source": [
    "# exercise 03\n",
    "\n",
    "\"\"\"\n",
    "Identifying the most positive and negative words\n",
    "\n",
    "In this exercise we'll try to interpret the coefficients of a logistic regression fit on the movie review sentiment dataset. The model object is already instantiated and fit for you in the variable lr.\n",
    "\n",
    "In addition, the words corresponding to the different features are loaded into the variable vocab. For example, since vocab[100] is \"think\", that means feature 100 corresponds to the number of times the word \"think\" appeared in that movie review.\n",
    "\"\"\"\n",
    "\n",
    "# Instructions\n",
    "\n",
    "\"\"\"\n",
    "\n",
    "    Find the words corresponding to the 5 largest coefficients.\n",
    "    Find the words corresponding to the 5 smallest coefficients.\n",
    "\n",
    "\"\"\"\n",
    "\n",
    "# solution\n",
    "\n",
    "# Get the indices of the sorted cofficients\n",
    "##inds_ascending = np.argsort(lr.coef_.flatten()) \n",
    "##inds_descending = inds_ascending[::-1]\n",
    "\n",
    "# Print the most positive words\n",
    "print(\"Most positive words: \", end=\"\")\n",
    "for i in range(5):\n",
    "    print(vocab[inds_descending[i][0]][0], end=\", \")\n",
    "print(\"\\n\")\n",
    "\n",
    "# Print most negative words\n",
    "print(\"Most negative words: \", end=\"\")\n",
    "for i in range(5):\n",
    "    print(vocab[inds_ascending[i][0]][0], end=\", \")\n",
    "print(\"\\n\")\n",
    "\n",
    "#----------------------------------#\n",
    "\n",
    "# Conclusion\n",
    "\n",
    "\"\"\"\n",
    "You got it! The answers sort of make sense, don't they?\n",
    "\"\"\""
   ]
  },
  {
   "cell_type": "code",
   "execution_count": 25,
   "metadata": {
    "execution": {
     "iopub.execute_input": "2023-06-02T12:52:53.369911Z",
     "iopub.status.busy": "2023-06-02T12:52:53.369158Z",
     "iopub.status.idle": "2023-06-02T12:52:53.375357Z",
     "shell.execute_reply": "2023-06-02T12:52:53.374568Z",
     "shell.execute_reply.started": "2023-06-02T12:52:53.369883Z"
    },
    "tags": []
   },
   "outputs": [],
   "source": [
    "def make_meshgrid(x, y, h=.02, lims=None):\n",
    "    \"\"\"Create a mesh of points to plot in\n",
    "\n",
    "    Parameters\n",
    "    ----------\n",
    "    x: data to base x-axis meshgrid on\n",
    "    y: data to base y-axis meshgrid on\n",
    "    h: stepsize for meshgrid, optional\n",
    "\n",
    "    Returns\n",
    "    -------\n",
    "    xx, yy : ndarray\n",
    "    \"\"\"\n",
    "\n",
    "    if lims is None:\n",
    "        x_min, x_max = x.min() - 1, x.max() + 1\n",
    "        y_min, y_max = y.min() - 1, y.max() + 1\n",
    "    else:\n",
    "        x_min, x_max, y_min, y_max = lims\n",
    "    xx, yy = np.meshgrid(np.arange(x_min, x_max, h),\n",
    "                         np.arange(y_min, y_max, h))\n",
    "    return xx, yy"
   ]
  },
  {
   "cell_type": "code",
   "execution_count": 26,
   "metadata": {
    "execution": {
     "iopub.execute_input": "2023-06-02T12:53:04.215306Z",
     "iopub.status.busy": "2023-06-02T12:53:04.214379Z",
     "iopub.status.idle": "2023-06-02T12:53:04.224541Z",
     "shell.execute_reply": "2023-06-02T12:53:04.223531Z",
     "shell.execute_reply.started": "2023-06-02T12:53:04.215257Z"
    },
    "tags": []
   },
   "outputs": [],
   "source": [
    "def plot_contours(ax, clf, xx, yy, proba=False, **params):\n",
    "    \"\"\"Plot the decision boundaries for a classifier.\n",
    "\n",
    "    Parameters\n",
    "    ----------\n",
    "    ax: matplotlib axes object\n",
    "    clf: a classifier\n",
    "    xx: meshgrid ndarray\n",
    "    yy: meshgrid ndarray\n",
    "    params: dictionary of params to pass to contourf, optional\n",
    "    \"\"\"\n",
    "    if proba:\n",
    "        Z = clf.predict_proba(np.c_[xx.ravel(), yy.ravel()])[:,-1]\n",
    "        Z = Z.reshape(xx.shape)\n",
    "        out = ax.imshow(Z,extent=(np.min(xx), np.max(xx), np.min(yy), np.max(yy)), origin='lower', vmin=0, vmax=1, **params)\n",
    "        ax.contour(xx, yy, Z, levels=[0.5])\n",
    "    else:\n",
    "        Z = clf.predict(np.c_[xx.ravel(), yy.ravel()])\n",
    "        Z = Z.reshape(xx.shape)\n",
    "        out = ax.contourf(xx, yy, Z, **params)\n",
    "    return out"
   ]
  },
  {
   "cell_type": "code",
   "execution_count": 32,
   "metadata": {
    "execution": {
     "iopub.execute_input": "2023-06-02T12:56:42.900875Z",
     "iopub.status.busy": "2023-06-02T12:56:42.900584Z",
     "iopub.status.idle": "2023-06-02T12:56:42.910132Z",
     "shell.execute_reply": "2023-06-02T12:56:42.909515Z",
     "shell.execute_reply.started": "2023-06-02T12:56:42.900849Z"
    },
    "tags": []
   },
   "outputs": [],
   "source": [
    "def plot_classifier(X, y, clf, ax=None, ticks=False, proba=False, lims=None): # assumes classifier \"clf\" is already fit\n",
    "    X0, X1 = X[:, 0], X[:, 1]\n",
    "    xx, yy = make_meshgrid(X0, X1, lims=lims)\n",
    "\n",
    "    if ax is None:\n",
    "        plt.figure()\n",
    "        ax = plt.gca()\n",
    "        show = True\n",
    "    else:\n",
    "        show = False\n",
    "\n",
    "    # can abstract some of this into a higher-level function for learners to call\n",
    "    cs = plot_contours(ax, clf, xx, yy, cmap=plt.cm.coolwarm, alpha=0.8, proba=proba)\n",
    "    if proba:\n",
    "        cbar = plt.colorbar(cs)\n",
    "        cbar.ax.set_ylabel('probability of red \\u0394 class', fontsize=20, rotation=270, labelpad=30)\n",
    "        cbar.ax.tick_params(labelsize=14)\n",
    "    #ax.scatter(X0, X1, c=y, cmap=plt.cm.coolwarm, s=30, edgecolors='k', linewidth=1)\n",
    "    labels = np.unique(y)\n",
    "    if len(labels) == 2:\n",
    "        # Modify the scatter plot function calls\n",
    "        ax.scatter(X0[y==labels[0]], X1[y==labels[0]], cmap=plt.cm.coolwarm, s=60, c='b', marker='o', edgecolors='k', label='Class 0')\n",
    "        ax.scatter(X0[y==labels[1]], X1[y==labels[1]], cmap=plt.cm.coolwarm, s=60, c='r', marker='^', edgecolors='k', label='Class 1')\n",
    "\n",
    "    else:\n",
    "        ax.scatter(X0, X1, c=y, cmap=plt.cm.coolwarm, s=50, edgecolors='k', linewidth=1)\n",
    "\n",
    "    ax.set_xlim(xx.min(), xx.max())\n",
    "    ax.set_ylim(yy.min(), yy.max())\n",
    "#     ax.set_xlabel(data.feature_names[0])\n",
    "#     ax.set_ylabel(data.feature_names[1])\n",
    "    if ticks:\n",
    "        ax.set_xticks(())\n",
    "        ax.set_yticks(())\n",
    "#     ax.set_title(title)\n",
    "    if show:\n",
    "        plt.show()\n",
    "    else:\n",
    "        return ax"
   ]
  },
  {
   "cell_type": "code",
   "execution_count": 28,
   "metadata": {
    "execution": {
     "iopub.execute_input": "2023-06-02T12:53:33.330280Z",
     "iopub.status.busy": "2023-06-02T12:53:33.329598Z",
     "iopub.status.idle": "2023-06-02T12:53:33.339158Z",
     "shell.execute_reply": "2023-06-02T12:53:33.336891Z",
     "shell.execute_reply.started": "2023-06-02T12:53:33.330254Z"
    },
    "tags": []
   },
   "outputs": [],
   "source": [
    "X = np.array([[ 1.78862847,  0.43650985],\n",
    "       [ 0.09649747, -1.8634927 ],\n",
    "       [-0.2773882 , -0.35475898],\n",
    "       [-3.08274148,  2.37299932],\n",
    "       [-3.04381817,  2.52278197],\n",
    "       [-1.31386475,  0.88462238],\n",
    "       [-2.11868196,  4.70957306],\n",
    "       [-2.94996636,  2.59532259],\n",
    "       [-3.54535995,  1.45352268],\n",
    "       [ 0.98236743, -1.10106763],\n",
    "       [-1.18504653, -0.2056499 ],\n",
    "       [-1.51385164,  3.23671627],\n",
    "       [-4.02378514,  2.2870068 ],\n",
    "       [ 0.62524497, -0.16051336],\n",
    "       [-3.76883635,  2.76996928],\n",
    "       [ 0.74505627,  1.97611078],\n",
    "       [-1.24412333, -0.62641691],\n",
    "       [-0.80376609, -2.41908317],\n",
    "       [-0.92379202, -1.02387576],\n",
    "       [ 1.12397796, -0.13191423]])\n",
    "\n",
    "y = np.array([-1, -1, -1,  1,  1, -1,  1,  1,  1, -1, -1,  1,  1, -1,  1, -1, -1,\n",
    "       -1, -1, -1])\n",
    "\n",
    "model = LinearRegression()"
   ]
  },
  {
   "cell_type": "code",
   "execution_count": 33,
   "metadata": {
    "execution": {
     "iopub.execute_input": "2023-06-02T12:56:46.992942Z",
     "iopub.status.busy": "2023-06-02T12:56:46.992247Z",
     "iopub.status.idle": "2023-06-02T12:56:47.742304Z",
     "shell.execute_reply": "2023-06-02T12:56:47.740295Z",
     "shell.execute_reply.started": "2023-06-02T12:56:46.992902Z"
    },
    "tags": []
   },
   "outputs": [
    {
     "name": "stderr",
     "output_type": "stream",
     "text": [
      "/tmp/ipykernel_2105373/810198082.py:22: UserWarning: No data for colormapping provided via 'c'. Parameters 'cmap' will be ignored\n",
      "  ax.scatter(X0[y==labels[0]], X1[y==labels[0]], cmap=plt.cm.coolwarm, s=60, c='b', marker='o', edgecolors='k', label='Class 0')\n",
      "/tmp/ipykernel_2105373/810198082.py:23: UserWarning: No data for colormapping provided via 'c'. Parameters 'cmap' will be ignored\n",
      "  ax.scatter(X0[y==labels[1]], X1[y==labels[1]], cmap=plt.cm.coolwarm, s=60, c='r', marker='^', edgecolors='k', label='Class 1')\n"
     ]
    },
    {
     "data": {
      "image/png": "[encoded data removed]",
      "text/plain": [
       "<Figure size 640x480 with 2 Axes>"
      ]
     },
     "metadata": {},
     "output_type": "display_data"
    },
    {
     "name": "stdout",
     "output_type": "stream",
     "text": [
      "Maximum predicted probability 0.9973143426717812\n"
     ]
    },
    {
     "name": "stderr",
     "output_type": "stream",
     "text": [
      "/tmp/ipykernel_2105373/810198082.py:22: UserWarning: No data for colormapping provided via 'c'. Parameters 'cmap' will be ignored\n",
      "  ax.scatter(X0[y==labels[0]], X1[y==labels[0]], cmap=plt.cm.coolwarm, s=60, c='b', marker='o', edgecolors='k', label='Class 0')\n",
      "/tmp/ipykernel_2105373/810198082.py:23: UserWarning: No data for colormapping provided via 'c'. Parameters 'cmap' will be ignored\n",
      "  ax.scatter(X0[y==labels[1]], X1[y==labels[1]], cmap=plt.cm.coolwarm, s=60, c='r', marker='^', edgecolors='k', label='Class 1')\n"
     ]
    },
    {
     "data": {
      "image/png": "[encoded data removed]",
      "text/plain": [
       "<Figure size 640x480 with 2 Axes>"
      ]
     },
     "metadata": {},
     "output_type": "display_data"
    },
    {
     "name": "stdout",
     "output_type": "stream",
     "text": [
      "Maximum predicted probability 0.9352061679007128\n"
     ]
    },
    {
     "data": {
      "text/plain": [
       "\"\\nYou got it! As you probably noticed, smaller values of C lead to less confident predictions. That's because smaller C means more regularization, which in turn means smaller coefficients, which means raw model outputs closer to zero and, thus, probabilities closer to 0.5 after the raw model output is squashed through the sigmoid function. That's quite a chain of events!\\n\""
      ]
     },
     "execution_count": 33,
     "metadata": {},
     "output_type": "execute_result"
    }
   ],
   "source": [
    "# exercise 04\n",
    "\n",
    "\"\"\"\n",
    "Regularization and probabilities\n",
    "\n",
    "In this exercise, you will observe the effects of changing the regularization strength on the predicted probabilities.\n",
    "\n",
    "A 2D binary classification dataset is already loaded into the environment as X and y.\n",
    "\"\"\"\n",
    "\n",
    "# Instructions\n",
    "\n",
    "\"\"\"\n",
    "\n",
    "    Compute the maximum predicted probability.\n",
    "    Run the provided code and take a look at the plot.\n",
    "\n",
    "    Create a model with C=0.1 and examine how the plot and probabilities change.\n",
    "\n",
    "\"\"\"\n",
    "\n",
    "# solution\n",
    "\n",
    "# Set the regularization strength\n",
    "model = LogisticRegression(C=1)\n",
    "\n",
    "# Fit and plot\n",
    "model.fit(X,y)\n",
    "plot_classifier(X,y,model,proba=True)\n",
    "\n",
    "# Predict probabilities on training points\n",
    "prob = model.predict_proba(X)\n",
    "print(\"Maximum predicted probability\", prob.max())\n",
    "\n",
    "#----------------------------------#\n",
    "\n",
    "# Set the regularization strength\n",
    "model = LogisticRegression(C=0.1)\n",
    "\n",
    "# Fit and plot\n",
    "model.fit(X,y)\n",
    "plot_classifier(X,y,model,proba=True)\n",
    "\n",
    "# Predict probabilities on training points\n",
    "prob = model.predict_proba(X)\n",
    "print(\"Maximum predicted probability\", np.max(prob))\n",
    "\n",
    "#----------------------------------#\n",
    "\n",
    "# Conclusion\n",
    "\n",
    "\"\"\"\n",
    "You got it! As you probably noticed, smaller values of C lead to less confident predictions. That's because smaller C means more regularization, which in turn means smaller coefficients, which means raw model outputs closer to zero and, thus, probabilities closer to 0.5 after the raw model output is squashed through the sigmoid function. That's quite a chain of events!\n",
    "\"\"\""
   ]
  },
  {
   "cell_type": "code",
   "execution_count": 34,
   "metadata": {
    "execution": {
     "iopub.execute_input": "2023-06-02T12:58:23.428473Z",
     "iopub.status.busy": "2023-06-02T12:58:23.427957Z",
     "iopub.status.idle": "2023-06-02T12:58:23.433809Z",
     "shell.execute_reply": "2023-06-02T12:58:23.432900Z",
     "shell.execute_reply.started": "2023-06-02T12:58:23.428446Z"
    },
    "tags": []
   },
   "outputs": [],
   "source": [
    "def show_digit(i, lr=None):\n",
    "    plt.imshow(np.reshape(X[i], (8,8)), cmap='gray', vmin = 0, vmax = 16, interpolation=None)\n",
    "    plt.xticks(())\n",
    "    plt.yticks(())\n",
    "    if lr is None:\n",
    "        plt.title(\"class label = %d\" % y[i])\n",
    "    else:\n",
    "        pred = lr.predict(X[i][None])\n",
    "        pred_prob = lr.predict_proba(X[i][None])[0,pred]\n",
    "        plt.title(\"label=%d, prediction=%d, proba=%.2f\" % (y[i], pred, pred_prob))\n",
    "    plt.show()"
   ]
  },
  {
   "cell_type": "code",
   "execution_count": 35,
   "metadata": {
    "execution": {
     "iopub.execute_input": "2023-06-02T13:01:36.131165Z",
     "iopub.status.busy": "2023-06-02T13:01:36.130923Z",
     "iopub.status.idle": "2023-06-02T13:01:36.142674Z",
     "shell.execute_reply": "2023-06-02T13:01:36.142183Z",
     "shell.execute_reply.started": "2023-06-02T13:01:36.131149Z"
    },
    "tags": []
   },
   "outputs": [],
   "source": [
    "# load digits data\n",
    "from sklearn import datasets\n",
    "from sklearn.model_selection import train_test_split\n",
    "\n",
    "digits = datasets.load_digits()\n",
    "\n",
    "X = digits.data\n",
    "y = digits.target"
   ]
  },
  {
   "cell_type": "code",
   "execution_count": 37,
   "metadata": {
    "execution": {
     "iopub.execute_input": "2023-06-02T13:02:01.815956Z",
     "iopub.status.busy": "2023-06-02T13:02:01.815453Z",
     "iopub.status.idle": "2023-06-02T13:02:08.664279Z",
     "shell.execute_reply": "2023-06-02T13:02:08.663231Z",
     "shell.execute_reply.started": "2023-06-02T13:02:01.815929Z"
    },
    "tags": []
   },
   "outputs": [
    {
     "data": {
      "image/png": "[encoded data removed]",
      "text/plain": [
       "<Figure size 640x480 with 1 Axes>"
      ]
     },
     "metadata": {},
     "output_type": "display_data"
    },
    {
     "data": {
      "image/png": "[encoded data removed]",
      "text/plain": [
       "<Figure size 640x480 with 1 Axes>"
      ]
     },
     "metadata": {},
     "output_type": "display_data"
    },
    {
     "data": {
      "text/plain": [
       "'\\nGreat job! As you can see, the least confident example looks like a weird 9, and the most confident example looks like a very typical 5.\\n'"
      ]
     },
     "execution_count": 37,
     "metadata": {},
     "output_type": "execute_result"
    }
   ],
   "source": [
    "# exercise 05\n",
    "\n",
    "\"\"\"\n",
    "Visualizing easy and difficult examples\n",
    "\n",
    "In this exercise, you'll visualize the examples that the logistic regression model is most and least confident about by looking at the largest and smallest predicted probabilities.\n",
    "\n",
    "The handwritten digits dataset is already loaded into the variables X and y. The show_digit function takes in an integer index and plots the corresponding image, with some extra information displayed above the image.\n",
    "\"\"\"\n",
    "\n",
    "# Instructions\n",
    "\n",
    "\"\"\"\n",
    "\n",
    "    Fill in the first blank with the index of the digit that the model is most confident about.\n",
    "    Fill in the second blank with the index of the digit that the model is least confident about.\n",
    "    Observe the images: do you agree that the first one is less ambiguous than the second?\n",
    "\n",
    "\"\"\"\n",
    "\n",
    "# solution\n",
    "\n",
    "lr = LogisticRegression(max_iter = 10000, n_jobs = -1)\n",
    "lr.fit(X,y)\n",
    "\n",
    "# Get predicted probabilities\n",
    "proba = lr.predict_proba(X)\n",
    "\n",
    "# Sort the example indices by their maximum probability\n",
    "proba_inds = np.argsort(np.max(proba,axis=1))\n",
    "\n",
    "# Show the most confident (least ambiguous) digit\n",
    "show_digit(proba_inds[-1], lr)\n",
    "\n",
    "# Show the least confident (most ambiguous) digit\n",
    "show_digit(proba_inds[0], lr)\n",
    "\n",
    "#----------------------------------#\n",
    "\n",
    "# Conclusion\n",
    "\n",
    "\"\"\"\n",
    "Great job! As you can see, the least confident example looks like a weird 9, and the most confident example looks like a very typical 5.\n",
    "\"\"\""
   ]
  },
  {
   "cell_type": "code",
   "execution_count": 38,
   "metadata": {
    "execution": {
     "iopub.execute_input": "2023-06-02T13:12:08.592346Z",
     "iopub.status.busy": "2023-06-02T13:12:08.591808Z",
     "iopub.status.idle": "2023-06-02T13:12:08.603930Z",
     "shell.execute_reply": "2023-06-02T13:12:08.603463Z",
     "shell.execute_reply.started": "2023-06-02T13:12:08.592322Z"
    },
    "tags": []
   },
   "outputs": [],
   "source": [
    "# load digits data\n",
    "from sklearn import datasets\n",
    "from sklearn.model_selection import train_test_split\n",
    "\n",
    "digits = datasets.load_digits()\n",
    "\n",
    "X_train, X_test, y_train, y_test = train_test_split(digits.data, digits.target)"
   ]
  },
  {
   "cell_type": "code",
   "execution_count": 41,
   "metadata": {
    "execution": {
     "iopub.execute_input": "2023-06-02T13:13:11.204507Z",
     "iopub.status.busy": "2023-06-02T13:13:11.203632Z",
     "iopub.status.idle": "2023-06-02T13:13:17.553202Z",
     "shell.execute_reply": "2023-06-02T13:13:17.550994Z",
     "shell.execute_reply.started": "2023-06-02T13:13:11.204409Z"
    },
    "tags": []
   },
   "outputs": [
    {
     "name": "stdout",
     "output_type": "stream",
     "text": [
      "OVR training accuracy: 0.9970304380103935\n",
      "OVR test accuracy    : 0.9755555555555555\n",
      "Softmax training accuracy: 1.0\n",
      "Softmax test accuracy    : 0.9644444444444444\n"
     ]
    },
    {
     "data": {
      "text/plain": [
       "'\\nNice work! As you can see, the accuracies of the two methods are fairly similar on this data set.\\n'"
      ]
     },
     "execution_count": 41,
     "metadata": {},
     "output_type": "execute_result"
    }
   ],
   "source": [
    "# exercise 06\n",
    "\n",
    "\"\"\"\n",
    "Fitting multi-class logistic regression\n",
    "\n",
    "In this exercise, you'll fit the two types of multi-class logistic regression, one-vs-rest and softmax/multinomial, on the handwritten digits data set and compare the results. The handwritten digits dataset is already loaded and split into X_train, y_train, X_test, and y_test.\n",
    "\"\"\"\n",
    "\n",
    "# Instructions\n",
    "\n",
    "\"\"\"\n",
    "\n",
    "    Fit a one-vs-rest logistic regression classifier by setting the multi_class parameter and report the results.\n",
    "    Fit a multinomial logistic regression classifier by setting the multi_class parameter and report the results.\n",
    "\n",
    "\"\"\"\n",
    "\n",
    "# solution\n",
    "\n",
    "# Fit one-vs-rest logistic regression classifier\n",
    "lr_ovr = LogisticRegression(multi_class = 'ovr', max_iter = 10000, n_jobs = -1)\n",
    "lr_ovr.fit(X_train, y_train)\n",
    "\n",
    "print(\"OVR training accuracy:\", lr_ovr.score(X_train, y_train))\n",
    "print(\"OVR test accuracy    :\", lr_ovr.score(X_test, y_test))\n",
    "\n",
    "# Fit softmax classifier\n",
    "lr_mn = LogisticRegression(multi_class = 'multinomial', max_iter = 10000, n_jobs = -1)\n",
    "lr_mn.fit(X_train, y_train)\n",
    "\n",
    "print(\"Softmax training accuracy:\", lr_mn.score(X_train, y_train))\n",
    "print(\"Softmax test accuracy    :\", lr_mn.score(X_test, y_test))\n",
    "\n",
    "#----------------------------------#\n",
    "\n",
    "# Conclusion\n",
    "\n",
    "\"\"\"\n",
    "Nice work! As you can see, the accuracies of the two methods are fairly similar on this data set.\n",
    "\"\"\""
   ]
  },
  {
   "cell_type": "code",
   "execution_count": null,
   "metadata": {
    "tags": []
   },
   "outputs": [],
   "source": [
    "# exercise 07\n",
    "\n",
    "\"\"\"\n",
    "Visualizing multi-class logistic regression\n",
    "\n",
    "In this exercise we'll continue with the two types of multi-class logistic regression, but on a toy 2D data set specifically designed to break the one-vs-rest scheme.\n",
    "\n",
    "The data set is loaded into X_train and y_train. The two logistic regression objects,lr_mn and lr_ovr, are already instantiated (with C=100), fit, and plotted.\n",
    "\n",
    "Notice that lr_ovr never predicts the dark blue class… yikes! Let's explore why this happens by plotting one of the binary classifiers that it's using behind the scenes.\n",
    "\"\"\"\n",
    "\n",
    "# Instructions\n",
    "\n",
    "\"\"\"\n",
    "\n",
    "    Create a new logistic regression object (also with C=100) to be used for binary classification.\n",
    "    Visualize this binary classifier with plot_classifier… does it look reasonable?\n",
    "\n",
    "\"\"\"\n",
    "\n",
    "# solution\n",
    "\n",
    "# Print training accuracies\n",
    "print(\"Softmax     training accuracy:\", lr_mn.score(X_train, y_train))\n",
    "print(\"One-vs-rest training accuracy:\", lr_ovr.score(X_train, y_train))\n",
    "\n",
    "# Create the binary classifier (class 1 vs. rest)\n",
    "lr_class_1 = LogisticRegression(C = 100)\n",
    "lr_class_1.fit(X_train, y_train==1)\n",
    "\n",
    "# Plot the binary classifier (class 1 vs. rest)\n",
    "plot_classifier(X_train, y_train==1, lr_class_1)\n",
    "\n",
    "#----------------------------------#\n",
    "\n",
    "# Conclusion\n",
    "\n",
    "\"\"\"\n",
    "Nice work! As you can see, the binary classifier incorrectly labels almost all points in class 1 (shown as red triangles in the final plot)! Thus, this classifier is not a very effective component of the one-vs-rest classifier. In general, though, one-vs-rest often works well.\n",
    "\"\"\""
   ]
  },
  {
   "cell_type": "code",
   "execution_count": null,
   "metadata": {
    "tags": []
   },
   "outputs": [],
   "source": [
    "# exercise 08\n",
    "\n",
    "\"\"\"\n",
    "One-vs-rest SVM\n",
    "\n",
    "As motivation for the next and final chapter on support vector machines, we'll repeat the previous exercise with a non-linear SVM. Once again, the data is loaded into X_train, y_train, X_test, and y_test .\n",
    "\n",
    "Instead of using LinearSVC, we'll now use scikit-learn's SVC object, which is a non-linear \"kernel\" SVM (much more on what this means in Chapter 4!). Again, your task is to create a plot of the binary classifier for class 1 vs. rest.\n",
    "\"\"\"\n",
    "\n",
    "# Instructions\n",
    "\n",
    "\"\"\"\n",
    "\n",
    "    Fit an SVC called svm_class_1 to predict class 1 vs. other classes.\n",
    "    Plot this classifier.\n",
    "\n",
    "\"\"\"\n",
    "\n",
    "# solution\n",
    "\n",
    "# We'll use SVC instead of LinearSVC from now on\n",
    "from sklearn.svm import SVC\n",
    "\n",
    "# Create/plot the binary classifier (class 1 vs. rest)\n",
    "svm_class_1 = SVC()\n",
    "svm_class_1.fit(X_train, y_train == 1)\n",
    "plot_classifier(X_train, y_train == 1, svm_class_1)\n",
    "\n",
    "#----------------------------------#\n",
    "\n",
    "# Conclusion\n",
    "\n",
    "\"\"\"\n",
    "Cool, eh?! The non-linear SVM works fine with one-vs-rest on this dataset because it learns to \"surround\" class 1.\n",
    "\"\"\""
   ]
  }
 ],
 "metadata": {
  "kernelspec": {
   "display_name": "Python 3 (ipykernel)",
   "language": "python",
   "name": "python3"
  },
  "language_info": {
   "codemirror_mode": {
    "name": "ipython",
    "version": 3
   },
   "file_extension": ".py",
   "mimetype": "text/x-python",
   "name": "python",
   "nbconvert_exporter": "python",
   "pygments_lexer": "ipython3",
   "version": "3.11.3"
  }
 },
 "nbformat": 4,
 "nbformat_minor": 4
}
