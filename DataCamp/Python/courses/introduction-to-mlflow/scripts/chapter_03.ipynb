{
 "cells": [
  {
   "cell_type": "code",
   "execution_count": 1,
   "metadata": {
    "editable": true,
    "slideshow": {
     "slide_type": ""
    },
    "tags": []
   },
   "outputs": [],
   "source": [
    "# run this to shorten the data import from the files\n",
    "import os\n",
    "cwd = os.path.dirname(os.getcwd())+'/'\n",
    "path_data = os.path.join(os.path.dirname(os.getcwd()), 'datasets/')\n"
   ]
  },
  {
   "cell_type": "code",
   "execution_count": 2,
   "metadata": {},
   "outputs": [
    {
     "data": {
      "text/plain": [
       "'\\n\\n'"
      ]
     },
     "execution_count": 2,
     "metadata": {},
     "output_type": "execute_result"
    }
   ],
   "source": [
    "# exercise 01\n",
    "\n",
    "\"\"\"\n",
    "Create a Model\n",
    "\n",
    "The MLflow Model Registry provides a centralized storage location for MLflow Models. The Registry enables collaboration and provides a way to manage a model's lifecycle.\n",
    "\n",
    "In this exercise, you will use the mlflow client module to create a new Model named \"Insurance\". This will create an area in the MLflow Model Registry where you can register versioned models at a later time.\n",
    "\"\"\"\n",
    "\n",
    "# Instructions\n",
    "\n",
    "\"\"\"\n",
    "\n",
    "    Import the mlflow client module.\n",
    "\n",
    "    Create an instance of the mlflow client class named client.\n",
    "\n",
    "    Create a new model named \"Insurance\".\n",
    "\n",
    "\"\"\"\n",
    "\n",
    "# solution\n",
    "\n",
    "# Import MLflow Client from MLflow module\n",
    "from mlflow import MlflowClient\n",
    "\n",
    "# Create an instance of MLflow Client Class named client\n",
    "client = MlflowClient()\n",
    "\n",
    "# Create new model\n",
    "client.create_registered_model(\"Insurance\")\n",
    "\n",
    "#----------------------------------#\n",
    "\n",
    "# Conclusion\n",
    "\n",
    "\"\"\"\n",
    "Great job! A Model creates a place in the MLflow Model Registry where you can register MLflow Models for lifecycle management and collaboration.\n",
    "\"\"\""
   ]
  },
  {
   "cell_type": "code",
   "execution_count": 13,
   "metadata": {
    "tags": []
   },
   "outputs": [
    {
     "data": {
      "text/plain": [
       "'\\n\\n'"
      ]
     },
     "execution_count": 13,
     "metadata": {},
     "output_type": "execute_result"
    }
   ],
   "source": [
    "# exercise 02\n",
    "\n",
    "\"\"\"\n",
    "Searching Models\n",
    "\n",
    "As the MLFlow Model Registry grows and you collaborate with other users, you need to be able to search the Model Registry for models that fit certain criteria.\n",
    "\n",
    "In this exercise, you will create two filter strings to search the MLflow Model Registry for Models. The first filter string searches for all \"Insurance\" Models and the second filter string searches Non-\"Insurance\" Models.\n",
    "\n",
    "Models have already been created by other collaborators using the same MLflow Model Registry and an instance of the MLflow Client module will already be set as client.\n",
    "\n",
    "client = mlflow.MlflowClient()\n",
    "\n",
    "The MLflow Client module will be imported.\n",
    "\"\"\"\n",
    "\n",
    "# Instructions\n",
    "\n",
    "\"\"\"\n",
    "\n",
    "    Create a filter string that finds all models with a name prefix 'Insurance'.\n",
    "\n",
    "    Search the Model Registry using the insurance_filter_string.\n",
    "\n",
    "    Create a filter that finds models that are not equal to the name 'Insurance'.\n",
    "\n",
    "    Search the Registry with not_insurance_filter_string filter string variable.\n",
    "\n",
    "\"\"\"\n",
    "\n",
    "# solution\n",
    "\n",
    "# Insurance filter string\n",
    "insurance_filter_string = \"name LIKE 'Insurance%'\"\n",
    "\n",
    "# Search for Insurance models\n",
    "print(client.search_registered_models(filter_string=insurance_filter_string))\n",
    "\n",
    "# Not Insurance filter string\n",
    "not_insurance_filter_string = \"name != 'Insurance%'\"\n",
    "\n",
    "# Search for non Insurance models\n",
    "print(client.search_registered_models(filter_string=not_insurance_filter_string))\n",
    "\n",
    "#----------------------------------#\n",
    "\n",
    "# Conclusion\n",
    "\n",
    "\"\"\"\n",
    "Super! The search_registered_models() function is useful when searching for Models of a desired criteria.\n",
    "\"\"\""
   ]
  },
  {
   "cell_type": "code",
   "execution_count": 4,
   "metadata": {
    "tags": []
   },
   "outputs": [
    {
     "data": {
      "text/plain": [
       "'\\n\\n'"
      ]
     },
     "execution_count": 4,
     "metadata": {},
     "output_type": "execute_result"
    }
   ],
   "source": [
    "# exercise 03\n",
    "\n",
    "\"\"\"\n",
    "Registering existing models\n",
    "\n",
    "In this exercise, you will take two existing MLflow Models and register them to the MLflow Model Registry to begin managing the lifecycle of both models. Each of these models was trained using the \"Insurance\" data at a previous date to predict if an insurance claim was for a male or female.\n",
    "\n",
    "The first model can be found in the local directory \"model_2022\" and was never logged to MLflow Tracking. The second model was logged to MLflow Tracking under the artifact URI of \"model_2023\". Its run_id attribute has been saved as a variable named \"run_id\".\n",
    "\n",
    "The mlflow module will be imported.\n",
    "\"\"\"\n",
    "\n",
    "# Instructions\n",
    "\n",
    "\"\"\"\n",
    "\n",
    "    Register the first model in directory model_2022 as a model named \"Insurance\".\n",
    " \n",
    "    Register the second model to \"Insurance\" using an f-string literal for run_id and the artifact URI.\n",
    "\n",
    "\"\"\"\n",
    "\n",
    "# solution\n",
    "\n",
    "# Register the first model\n",
    "mlflow.register_model(\"model_2022\", \"Insurance\")\n",
    "\n",
    "# Register the second model\n",
    "mlflow.register_model(f\"runs:/{run_id}/model_2023\", \"Insurance\")\n",
    "\n",
    "#----------------------------------#\n",
    "\n",
    "# Conclusion\n",
    "\n",
    "\"\"\"\n",
    "Yes! Using the register_model() function can be used to register any existing MLflow Models to the Model Registry.\n",
    "\"\"\""
   ]
  },
  {
   "cell_type": "code",
   "execution_count": 5,
   "metadata": {
    "tags": []
   },
   "outputs": [
    {
     "data": {
      "text/plain": [
       "'\\n\\n'"
      ]
     },
     "execution_count": 5,
     "metadata": {},
     "output_type": "execute_result"
    }
   ],
   "source": [
    "# exercise 04\n",
    "\n",
    "\"\"\"\n",
    "Registering new models\n",
    "\n",
    "The MLflow Model Registry can also register models during a training run. This is helpful because it enables logging and registering a model under the same function.\n",
    "\n",
    "In this exercise, you will use the scikit-learn flavor to register a model to the Model Registry during a training run when the model is logged to MLflow Tracking. You will then search the Model Registry to ensure the model was registered.\n",
    "\n",
    "This model will be registered alongside existing registered models that were trained on the \"Insurance\" training data. The model has already been trained and set to the variable lr. When searching the Model Registry, an instance of MLflowClient() has been set to client and the filter string has already been created as insurance_filter_string.\n",
    "\"\"\"\n",
    "\n",
    "# Instructions\n",
    "\n",
    "\"\"\"\n",
    "   \n",
    "    Register the lr model to \"Insurance\" using the scikit-learn flavor.\n",
    "   \n",
    "    Search the Model Registry with client to ensure that the model was registered.\n",
    "\n",
    "\"\"\"\n",
    "\n",
    "# solution\n",
    "\n",
    "# Log the model using scikit-learn flavor\n",
    "mlflow.sklearn.log_model(lr, \"model\", registered_model_name=\"Insurance\")\n",
    "insurance_filter_string = \"name = 'Insurance'\"\n",
    "\n",
    "# Search for Insurance models\n",
    "print(client.search_registered_models(filter_string=insurance_filter_string))\n",
    "\n",
    "#----------------------------------#\n",
    "\n",
    "# Conclusion\n",
    "\n",
    "\"\"\"\n",
    "Perfect! Using the model flavor to register models to the Model Registry is simple becuase it allows for logging and registering models using the same function.\n",
    "\"\"\""
   ]
  },
  {
   "cell_type": "markdown",
   "metadata": {},
   "source": [
    "# Model stages in Model Registry\n",
    "\n",
    "Model Stages are a more defined way to manage the lifecycle of models and are used to represent the different software environments used during software development.\n",
    "\n",
    "MLflow Model Registry provides predefined stages to transition model versions. Which of the following are included as predefined stages?\n",
    "\n",
    "### Possible Answers\n",
    "\n",
    "    Testing\n",
    "\n",
    "\n",
    "    Staging{Answer}\n",
    "\n",
    "\n",
    "    Development\n",
    "\n",
    "\n",
    "    Archived{Answer}\n",
    "\n",
    "\n",
    "    Production{Answer}"
   ]
  },
  {
   "cell_type": "code",
   "execution_count": 6,
   "metadata": {
    "tags": []
   },
   "outputs": [
    {
     "data": {
      "text/plain": [
       "'\\n\\n'"
      ]
     },
     "execution_count": 6,
     "metadata": {},
     "output_type": "execute_result"
    }
   ],
   "source": [
    "# exercise 05\n",
    "\n",
    "\"\"\"\n",
    "Transitioning model stages\n",
    "\n",
    "Once models are registered to the Model Registry, each model version is eligible for a stage assignment. Stages are used to manage the model lifecycle and are used to represent different development environments.\n",
    "\n",
    "In this exercise, using the mlflow client Class as client, you will take your \"Insurance\" models and transition each model according to the stage in your development lifecycle. First, you will transition your most stable model for production use. Then you will transition to a model that needs testing and evaluation. Finally, you will archive a model that is no longer needed.\n",
    "\n",
    "The mlflow client module will be imported.\n",
    "\"\"\"\n",
    "\n",
    "# Instructions\n",
    "\n",
    "\"\"\"\n",
    "\n",
    "\n",
    "    Transition Model version 2 to the model stage that is only for the most stable models.\n",
    "\n",
    "\n",
    "    Transition Model version 3 to the stage used for testing and evaluations.\n",
    "\n",
    "\n",
    "    Set Model version 1 to be archived so users know it is retired.\n",
    "\n",
    "\"\"\"\n",
    "\n",
    "# solution\n",
    "\n",
    "# Transition version 2 of Insurance model to stable stage\n",
    "client.transition_model_version_stage(name=\"Insurance\", version=2,\n",
    "        stage=\"Production\"\n",
    "    )\n",
    "\n",
    "#----------------------------------#\n",
    "\n",
    "# Transition version 3 of Insurance model to testing stage\n",
    "client.transition_model_version_stage(name=\"Insurance\", version=3,\n",
    "        stage=\"Staging\"\n",
    "    )\n",
    "\n",
    "#----------------------------------#\n",
    "\n",
    "# Transition version 1 of Insurance model to archive stage\n",
    "client.transition_model_version_stage(name=\"Insurance\", version=1,\n",
    "        stage=\"Archived\"\n",
    "    )\n",
    "\n",
    "\n",
    "#----------------------------------#\n",
    "\n",
    "# Conclusion\n",
    "\n",
    "\"\"\"\n",
    "Transitioning models through stages is a great way to represent the models lifecycle to development envrionment.\n",
    "\"\"\""
   ]
  },
  {
   "cell_type": "markdown",
   "metadata": {},
   "source": [
    "# Serving models from the Model Registry\n",
    "\n",
    "The MLflow Model Registry not only provides a centralized location for collaboration and for managing the lifecycle of models, but it also provides a way to easily deploy models based on specific versions and stages.\n",
    "\n",
    "MLflow provides the serve command as part of the MLflow command line to serve models as an API for model inference. Which of the following serve commands is used to serve the production version of our \"Insurance\" model from the Model Registry?\n",
    "\n",
    "### Possible Answers\n",
    "\n",
    "\n",
    "    mlflow models serve -m \"modelRegistry:/Insurance/Production\"\n",
    "    \n",
    "    \n",
    "    mlflow models serve -m \"models:/Insurance/Prod\"\n",
    "    \n",
    "    \n",
    "    mlflow models serve -m \"models:/Insurance/Production\" {Answer}\n",
    "    \n",
    "    \n",
    "    mlflow serve -m \"models:/Insurance/Production\""
   ]
  },
  {
   "cell_type": "code",
   "execution_count": 7,
   "metadata": {
    "tags": []
   },
   "outputs": [
    {
     "data": {
      "text/plain": [
       "'\\n\\n'"
      ]
     },
     "execution_count": 7,
     "metadata": {},
     "output_type": "execute_result"
    }
   ],
   "source": [
    "# exercise 06\n",
    "\n",
    "\"\"\"\n",
    "Loading models from the Model Registry\n",
    "\n",
    "In this exercise, you will use the scikit-learn flavor to deploy the most stable \"Insurance\" model from the MLflow Model Registry and then use test data to get a prediction from the model.\n",
    "\n",
    "The model uses LogisticRegression to predict whether an insurance claim is for a male or female, which is labeled as 1 or 0. You'll load the model and then make predictions using a test set called X_test.\n",
    "\n",
    "The MLflow module will be imported.\n",
    "\"\"\"\n",
    "\n",
    "# Instructions\n",
    "\n",
    "\"\"\"\n",
    "\n",
    "    With the scikit-learn flavor, load the \"Production\" version of the \"Insurance\" model using the convention for fetching models from the Registry as the model URI.\n",
    "\n",
    "    Using the loaded model, run a prediction on the test data from train_test_split used during training the model.\n",
    "\n",
    "\"\"\"\n",
    "\n",
    "# solution\n",
    "\n",
    "# Load the Production stage of Insurance model using scikit-learn flavor\n",
    "model = mlflow.sklearn.load_model(\"models:/Insurance/Production\")\n",
    "\n",
    "# Run prediction on our test data\n",
    "model.predict(X_test)\n",
    "\n",
    "#----------------------------------#\n",
    "\n",
    "# Conclusion\n",
    "\n",
    "\"\"\"\n",
    "Great! Using the load_model() function from the model flavor is a simple way to deploy models programmatically from the MLflow Model Registry.\n",
    "\"\"\""
   ]
  }
 ],
 "metadata": {
  "kernelspec": {
   "display_name": "Python 3 (ipykernel)",
   "language": "python",
   "name": "python3"
  },
  "language_info": {
   "codemirror_mode": {
    "name": "ipython",
    "version": 3
   },
   "file_extension": ".py",
   "mimetype": "text/x-python",
   "name": "python",
   "nbconvert_exporter": "python",
   "pygments_lexer": "ipython3",
   "version": "3.12.3"
  }
 },
 "nbformat": 4,
 "nbformat_minor": 4
}
