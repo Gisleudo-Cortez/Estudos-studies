{
 "cells": [
  {
   "cell_type": "code",
   "execution_count": 1,
   "metadata": {
    "editable": true,
    "slideshow": {
     "slide_type": ""
    },
    "tags": []
   },
   "outputs": [],
   "source": [
    "# run this to shorten the data import from the files\n",
    "import os\n",
    "cwd = os.path.dirname(os.getcwd())+'/'\n",
    "path_data = os.path.join(os.path.dirname(os.getcwd()), 'datasets/')\n"
   ]
  },
  {
   "cell_type": "markdown",
   "metadata": {},
   "source": [
    "# MLproject file layout\n",
    "\n",
    "A MLproject file is a yaml file that describes machine learning code, dependencies, and configurations so that it can be easily shared, reproduced, and executed across different environments. It enables users to manage their machine learning projects in a reproducible way.\n",
    "\n",
    "What key properties make up a MLproject file in order to describe an MLflow Project?\n",
    "\n",
    "### Possible Answers\n",
    "\n",
    "    name{Answer}\n",
    "\n",
    "\n",
    "    flavor\n",
    "\n",
    "\n",
    "    entry_points{Answer}\n",
    "\n",
    "\n",
    "    python_env{Answer}"
   ]
  },
  {
   "cell_type": "code",
   "execution_count": 2,
   "metadata": {},
   "outputs": [
    {
     "data": {
      "text/plain": [
       "'\\n\\n'"
      ]
     },
     "execution_count": 2,
     "metadata": {},
     "output_type": "execute_result"
    }
   ],
   "source": [
    "# exercise 01\n",
    "\n",
    "\"\"\"\n",
    "Creating an MLproject\n",
    "\n",
    "An MLproject file is a yaml file that stores the configuration of an MLflow Project. The file defines information such as name of the Project, Python environment and entry points to be executed as part of a workflow.\n",
    "\n",
    "In this exercise, you will create an MLproject file to describe an MLflow Project. You will define the name of the Project, the Python environment, and also create an entry point.\n",
    "\"\"\"\n",
    "\n",
    "# Instructions\n",
    "\n",
    "\"\"\"\n",
    "\n",
    "    Set the name of the Project to insurance_model.\n",
    "\n",
    "    Set the Python environment to use a file called python_env.yaml.\n",
    "\n",
    "    Create an entry point called main.\n",
    "\n",
    "    Create a command for the main entry point that uses python3.9 to execute train_model.py.\n",
    "\n",
    "\"\"\"\n",
    "\n",
    "# solution\n",
    "\n",
    "\"\"\"\n",
    "# Set name of the Project\n",
    "name: insurance_model\n",
    "\n",
    "# Set the environment\n",
    "python_env: python_env.yaml\n",
    "\n",
    "entry_points:\n",
    " \t# Create an entry point\n",
    "  \tmain:\n",
    "  \t\t# Create a command\n",
    "    \tcommand: 'python3.9 train_model.py'\n",
    "\"\"\"\n",
    "\n",
    "#----------------------------------#\n",
    "\n",
    "# Conclusion\n",
    "\n",
    "\"\"\"\n",
    "Perfect! Creating an MLproject file will allow for the Project to be reproduced when executed on a different machine or environment.\n",
    "\"\"\""
   ]
  },
  {
   "cell_type": "code",
   "execution_count": 3,
   "metadata": {
    "tags": []
   },
   "outputs": [
    {
     "data": {
      "text/plain": [
       "'\\n\\n'"
      ]
     },
     "execution_count": 3,
     "metadata": {},
     "output_type": "execute_result"
    }
   ],
   "source": [
    "# exercise 02\n",
    "\n",
    "\"\"\"\n",
    "MLflow run command\n",
    "\n",
    "The MLflow run command is a command line interface for running MLflow Projects. The run command accepts arguments for entry point, experiment name and URI containing the MLproject that describes the Project.\n",
    "\n",
    "You can test each run command in the IPython Shell by placing a ! at the beginning of the command.\n",
    "\n",
    "Which of the following run commands is used to run an MLflow Project where the MLproject file is in the current working directory, uses an experiment called \"Insurance\", and uses an entry point \"main\"?\n",
    "\"\"\"\n",
    "\n",
    "# Instructions\n",
    "\n",
    "\"\"\"\n",
    "Possible answers:\n",
    "    \n",
    "    mlflow run --entry-point main --exp-name \"Insurance\" --env-manager local ./\n",
    "    \n",
    "    mlflow run --entry-point main --experiment-name \"Insurance\" -d --env-manager local ./\n",
    "    \n",
    "    mlflow run --entry-point main --experiment-name \"Insurance\" --env-manager local ./ {Answer}\n",
    "    \n",
    "    mlflow run -p main --entry-point \"Insurance\" --env-manager local ./\n",
    "\"\"\"\n",
    "\n",
    "# solution\n",
    "\n",
    "\n",
    "\n",
    "#----------------------------------#\n",
    "\n",
    "# Conclusion\n",
    "\n",
    "\"\"\"\n",
    "Yes! This command will run our main entry point which trains our Insurance model.\n",
    "\"\"\""
   ]
  },
  {
   "cell_type": "code",
   "execution_count": 4,
   "metadata": {
    "tags": []
   },
   "outputs": [
    {
     "data": {
      "text/plain": [
       "'\\n\\n'"
      ]
     },
     "execution_count": 4,
     "metadata": {},
     "output_type": "execute_result"
    }
   ],
   "source": [
    "# exercise 03\n",
    "\n",
    "\"\"\"\n",
    "MLflow projects module\n",
    "\n",
    "MLflow Projects can also be run programmatically with Python using the mlflow projects module.\n",
    "\n",
    "In this exercise you will run an MLflow Project using the projects module to train a model for your \"Insurance\" Project. You will define the entry point from your MLproject file to execute the training code. You will also define the experiment name of \"Insurance\" so that the model is properly logged to the correct experiment in MLflow Tracking.\n",
    "\n",
    "You may read the contents of the MLproject file by executing print(MLproject) in the IPython shell.\n",
    "\"\"\"\n",
    "\n",
    "# Instructions\n",
    "\n",
    "\"\"\"\n",
    "\n",
    "    Call the run() function from the mlflow projects module.\n",
    "\n",
    "    Set the URI for the MLproject file to the current working directory.\n",
    "\n",
    "    Set the entry point to \"main\" according to the MLproject file.\n",
    "\n",
    "    Set the experiment name to \"Insurance\".\n",
    "\n",
    "\"\"\"\n",
    "\n",
    "# solution\n",
    "\n",
    "import mlflow\n",
    "\n",
    "# Set the run function from the MLflow Projects module\n",
    "mlflow.projects.run(\n",
    "  \t# Set the URI as the current working directory\n",
    "    uri='./',\n",
    "    # Set the entry point to main\n",
    "    entry_point='main',\n",
    "    # Set the experiment name as Insurance\n",
    "    experiment_name='Insurance',\n",
    "    env_manager=\"local\",\n",
    "    synchronous=True,\n",
    ")\n",
    "\n",
    "#----------------------------------#\n",
    "\n",
    "# Conclusion\n",
    "\n",
    "\"\"\"\n",
    "Awesome! Using mlflow projects module is a great way to run MLflow Projects using Python.\n",
    "\"\"\""
   ]
  },
  {
   "cell_type": "code",
   "execution_count": 5,
   "metadata": {
    "tags": []
   },
   "outputs": [
    {
     "data": {
      "text/plain": [
       "'\\n\\n'"
      ]
     },
     "execution_count": 5,
     "metadata": {},
     "output_type": "execute_result"
    }
   ],
   "source": [
    "# exercise 04\n",
    "\n",
    "\"\"\"\n",
    "Adding parameters to MLproject\n",
    "\n",
    "Defining parameters in MLflow Projects allows you to make your ML code reproducible. Parameters also simplify running training experiments with different settings without having to change code.\n",
    "\n",
    "In this exercise, you are going to add parameters to your MLproject file for the main entry point. This entry point is used to run the train_model.py script which trains a Logistic Regression model from Insurance data.\n",
    "\n",
    "The script accepts two parameters, n_jobs and fit_intercept, which are hyperparameters used to train the model. You will begin by adding the n_jobs parameter in the MLproject file. You will then add the fit_intercept parameter. Finally, you will add the parameters to the command executed in the main entry point.\n",
    "\"\"\"\n",
    "\n",
    "# Instructions\n",
    "\n",
    "\"\"\"\n",
    "\n",
    "    Create a parameter called n_jobs as a type int and a default value of 1.\n",
    "\n",
    "    Create a second parameter called fit_intercept as a type bool with a default value set to True.\n",
    "\n",
    "    Pass both parameters into the command ensuring that n_jobs is the first followed by fit_intercept.\n",
    "\n",
    "\"\"\"\n",
    "\n",
    "# solution\n",
    "\n",
    "\"\"\"\n",
    "name: insurance_model\n",
    "python_env: python_env.yaml\n",
    "entry_points:\n",
    "  main:\n",
    "    parameters:\n",
    "      # Create parameter for number of jobs as n_jobs\n",
    "      n_jobs:\n",
    "        type: int\n",
    "        default: 1\n",
    "      # Create parameter for fit_intercept\n",
    "      fit_intercept:\n",
    "        type: bool\n",
    "        default: True\n",
    "    # Add parameters to be passed into the command\n",
    "    command: \"python3.9 train_model.py {n_jobs} {fit_intercept}\"\n",
    "\"\"\"\n",
    "\n",
    "#----------------------------------#\n",
    "\n",
    "# Conclusion\n",
    "\n",
    "\"\"\"\n",
    "Great! Parameters must be defined within a MLproject file before the Project can be run.\n",
    "\"\"\""
   ]
  },
  {
   "cell_type": "code",
   "execution_count": 6,
   "metadata": {
    "tags": []
   },
   "outputs": [
    {
     "data": {
      "text/plain": [
       "'\\n\\n'"
      ]
     },
     "execution_count": 6,
     "metadata": {},
     "output_type": "execute_result"
    }
   ],
   "source": [
    "# exercise 05\n",
    "\n",
    "\"\"\"\n",
    "Adding parameters to project run\n",
    "\n",
    "Parameters can be used to configure the behavior of a model by being passed as variables to the model during training. This allows you to train the model several times using different parameters without modifying the training code itself.\n",
    "\n",
    "In this exercise, you will use the mlflow projects module to run a Project used to train a Logistic Regression model for your Insurance experiment. You will create code using the mlflow projects module that will run your project. You will then add parameters that will be passed as hyperparameters to the model during training.\n",
    "\"\"\"\n",
    "\n",
    "# Instructions\n",
    "\n",
    "\"\"\"\n",
    "\n",
    "    Call mlflow.projects.run() function from the mlflow projects module.\n",
    "\n",
    "    Create the parameters dictionary and set n_jobs to 2 and fit_intercept to False.\n",
    "\n",
    "\"\"\"\n",
    "\n",
    "# solution\n",
    "\n",
    "import mlflow\n",
    "\n",
    "# Set the run function from the MLflow Projects module\n",
    "mlflow.projects.run(\n",
    "    uri='./',\n",
    "    entry_point='main',\n",
    "    experiment_name='Insurance',\n",
    "  \tenv_manager='local',\n",
    "  \t# Set parameters for n_jobs and fit_intercept\n",
    "  \tparameters={\n",
    "        'n_jobs_param': 2, \n",
    "        'fit_intercept_param': False\n",
    "    }\n",
    ")\n",
    "\n",
    "\n",
    "#----------------------------------#\n",
    "\n",
    "# Conclusion\n",
    "\n",
    "\"\"\"\n",
    "Excellent work! Passing parameters into the MLflow Projects module is a great way to tune hyperparameters.\n",
    "\"\"\""
   ]
  },
  {
   "cell_type": "code",
   "execution_count": 7,
   "metadata": {
    "tags": []
   },
   "outputs": [
    {
     "data": {
      "text/plain": [
       "'\\n\\n'"
      ]
     },
     "execution_count": 7,
     "metadata": {},
     "output_type": "execute_result"
    }
   ],
   "source": [
    "# exercise 06\n",
    "\n",
    "\"\"\"\n",
    "Creating an MLproject for the ML Lifecycle: Model Engineering\n",
    "\n",
    "The MLproject file can include more than one entry point. This means that you can use a single MLproject file to execute multiple entry points, making it possible to execute a workflow of multiple steps using a single MLproject file.\n",
    "\n",
    "In this exercise you are going to build the beginning of an MLproject file that contains the model_engineering entry point. This entry point will execute a python script that accepts parameters used as hyperparameter values for fit_intercept and n_jobs to a Logistic Regression model. This model is used to predict sex of person from an insurance claim.\n",
    "\"\"\"\n",
    "\n",
    "# Instructions\n",
    "\n",
    "\"\"\"\n",
    "\n",
    "    Create an entry point for the Model Engineering step of the ML lifecycle called model_engineering.\n",
    "\n",
    "    Set the first entry point parameter to n_jobs and and second to fit_intercept.\n",
    "\n",
    "    Place the parameters within the command.\n",
    "\n",
    "\"\"\"\n",
    "\n",
    "# solution\n",
    "\n",
    "\"\"\"\n",
    "name: insurance_model\n",
    "python_env: python_env.yaml\n",
    "entry_points:\n",
    "  # Set the entry point\n",
    "  model_engineering:\n",
    "    parameters: \n",
    "      # Set n_jobs \n",
    "      n_jobs:\n",
    "        type: int\n",
    "        default: 1\n",
    "      # Set fit_intercept\n",
    "      fit_intercept:\n",
    "        type: bool\n",
    "        default: True\n",
    "    # Pass the parameters to the command\n",
    "    command: \"python3.9 train_model.py {n_jobs} {fit_intercept}\"\n",
    "\"\"\"\n",
    "\n",
    "#----------------------------------#\n",
    "\n",
    "# Conclusion\n",
    "\n",
    "\"\"\"\n",
    "The model_engineering entry point is going to handle building a model. Lets now create the part of the MLproject file responsible for Model Evaluation.\n",
    "\"\"\""
   ]
  },
  {
   "cell_type": "code",
   "execution_count": 8,
   "metadata": {
    "tags": []
   },
   "outputs": [
    {
     "data": {
      "text/plain": [
       "'\\n\\n'"
      ]
     },
     "execution_count": 8,
     "metadata": {},
     "output_type": "execute_result"
    }
   ],
   "source": [
    "# exercise 07\n",
    "\n",
    "\"\"\"\n",
    "Creating an MLproject for the ML Lifecycle: Model Evaluation\n",
    "\n",
    "In this exercise, you will continue creating your MLproject file to manage steps of the ML lifecycle. You will create another entry point called model_evaluation. This step in the workflow accepts the run_id output from the model_engineering step and runs model evaluation using training data from our Insurance dataset.\n",
    "\n",
    "You can print the current MLproject file using the IPython Shell and executing print(MLproject).\n",
    "\"\"\"\n",
    "\n",
    "# Instructions\n",
    "\n",
    "\"\"\"\n",
    "\n",
    "    Create an entry point called model_evaluation.\n",
    "\n",
    "    Set parameters for run_id.\n",
    "\n",
    "    Place the parameter within the command.\n",
    "\n",
    "\"\"\"\n",
    "\n",
    "# solution\n",
    "\n",
    "\"\"\"\n",
    "  # Set the model_evaluation entry point\n",
    "  model_evaluation:\n",
    "    parameters:\n",
    "      # Set run_id parameter\n",
    "      run_id:\n",
    "        type: str \n",
    "        default: None\n",
    "    # Set the parameters in the command\n",
    "    command: \"python3.9 evaluate.py {run_id}\"\n",
    "\"\"\"\n",
    "\n",
    "\n",
    "#----------------------------------#\n",
    "\n",
    "# Conclusion\n",
    "\n",
    "\"\"\"\n",
    "This entry point will help evaluate our model. We are now ready to execute our multi-step workflow for managing the Model Engineering and Model Evaluation steps of the ML lifecycle.\n",
    "\"\"\""
   ]
  },
  {
   "cell_type": "code",
   "execution_count": 9,
   "metadata": {
    "tags": []
   },
   "outputs": [
    {
     "data": {
      "text/plain": [
       "'\\n\\n'"
      ]
     },
     "execution_count": 9,
     "metadata": {},
     "output_type": "execute_result"
    }
   ],
   "source": [
    "# exercise 08\n",
    "\n",
    "\"\"\"\n",
    "Creating a multi-step workflow: Model Engineering\n",
    "\n",
    "The MLflow Projects module can be used as a way to run a multi-step workflow. All steps can be coordinated though a single Python program that passes results from previous steps to the following.\n",
    "\n",
    "In this exercise, you will begin creating a multi-step workflow to manage the Model Engineering and Model Evaluation steps of the ML lifecycle. You will use the run() method from the MLflow Projects module for the model_engineering entry point and pass parameters used as hyperparameters for model training. You will also capture the output of the run_id and set it to a variable so that it can be passed to the model_evaluation step of the workflow as a parameter.\n",
    "\n",
    "The MLproject created in the previous step is available in the IPython Shell using print(MLproject). The MLflow module is imported.\n",
    "\"\"\"\n",
    "\n",
    "# Instructions\n",
    "\n",
    "\"\"\"\n",
    "\n",
    "    Assign the run() method from MLflow Projects module to a variable called model_engineering.\n",
    "\n",
    "    Set the entry point argument to \"model_engineering\".\n",
    "\n",
    "    Set parameters for training the model. \"n_jobs\" to 2 and \"fit_intercept\" to False.\n",
    "\n",
    "    Set the run_id attribute of model_engineering to a variable called model_engineering_run_id.\n",
    "\n",
    "\"\"\"\n",
    "\n",
    "# solution\n",
    "\n",
    "# Set run method to model_engineering\n",
    "model_engineering = mlflow.projects.run(\n",
    "    uri='./',\n",
    "    # Set entry point to model_engineering\n",
    "    entry_point='model_engineering',\n",
    "    experiment_name='Insurance',\n",
    "    # Set the parameters for n_jobs and fit_intercept\n",
    "    parameters={\n",
    "        'n_jobs_param': 2, \n",
    "        'fit_intercept_param': False\n",
    "    },\n",
    "    env_manager='local'\n",
    ")\n",
    "\n",
    "# Set Run ID of model training to be passed to Model Evaluation step\n",
    "model_engineering_run_id = model_engineering.run_id\n",
    "print(model_engineering_run_id)\n",
    "\n",
    "#----------------------------------#\n",
    "\n",
    "# Conclusion\n",
    "\n",
    "\"\"\"\n",
    "Excellent! The model_engineering_run_id can now be passed to the Model Evaluation step of our workflow.\n",
    "\"\"\""
   ]
  },
  {
   "cell_type": "code",
   "execution_count": 10,
   "metadata": {
    "tags": []
   },
   "outputs": [
    {
     "data": {
      "text/plain": [
       "'\\n\\n'"
      ]
     },
     "execution_count": 10,
     "metadata": {},
     "output_type": "execute_result"
    }
   ],
   "source": [
    "# exercise 09\n",
    "\n",
    "\"\"\"\n",
    "Creating a multi-step workflow: Model Evaluation\n",
    "\n",
    "In this exercise, you will create the Model Evaluation step of our multi-step workflow used to manage part of the ML lifecycle. You will use the run() method from the MLflow Projects module and set the entry point to model_evaluation. You will then take the model_engineering_run_id as a parameter that was generated as an output in the previous exercise and pass it to the command.\n",
    "\n",
    "The MLproject created in the previous step is available in the IPython Shell using print(MLproject).\n",
    "\n",
    "The mlflow module is imported.\n",
    "\"\"\"\n",
    "\n",
    "# Instructions\n",
    "\n",
    "\"\"\"\n",
    "\n",
    "    Assign the run() method from MLflow Projects module to model_evaluation.\n",
    "\n",
    "    Set the entry point argument to \"model_evaluation\".\n",
    "\n",
    "    Set a parameter called \"run_id\" with a value of model_engineering_run_id.\n",
    "\n",
    "\"\"\"\n",
    "\n",
    "# solution\n",
    "\n",
    "# Set the MLflow Projects run method\n",
    "model_evaluation = mlflow.projects.run(\n",
    "    uri=\"./\",\n",
    "    # Set the entry point to model_evaluation\n",
    "    entry_point=\"model_evaluation\",\n",
    "  \t# Set the parameter run_id to the run_id output of previous step\n",
    "    parameters={\n",
    "        \"run_id\": model_engineering_run_id,\n",
    "    },\n",
    "    env_manager=\"local\"\n",
    ")\n",
    "\n",
    "print(model_evaluation.get_status())\n",
    "\n",
    "#----------------------------------#\n",
    "\n",
    "# Conclusion\n",
    "\n",
    "\"\"\"\n",
    "Great! MLflow Projects has just been utilized to execute a workflow that manages several stages of the ML lifecycle.\n",
    "\"\"\""
   ]
  }
 ],
 "metadata": {
  "kernelspec": {
   "display_name": "Python 3 (ipykernel)",
   "language": "python",
   "name": "python3"
  },
  "language_info": {
   "codemirror_mode": {
    "name": "ipython",
    "version": 3
   },
   "file_extension": ".py",
   "mimetype": "text/x-python",
   "name": "python",
   "nbconvert_exporter": "python",
   "pygments_lexer": "ipython3",
   "version": "3.12.3"
  }
 },
 "nbformat": 4,
 "nbformat_minor": 4
}
