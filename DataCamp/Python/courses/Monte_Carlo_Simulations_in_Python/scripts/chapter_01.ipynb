{
 "cells": [
  {
   "cell_type": "code",
   "execution_count": 15,
   "metadata": {
    "tags": []
   },
   "outputs": [],
   "source": [
    "# run this to shorten the data import from the files\n",
    "path_data = '/home/nero/Documents/Estudos/DataCamp/Python/courses/Monte_Carlo_Simulations_in_Python/datasets/'\n",
    "import pandas as pd\n"
   ]
  },
  {
   "cell_type": "code",
   "execution_count": 1,
   "metadata": {},
   "outputs": [
    {
     "name": "stdout",
     "output_type": "stream",
     "text": [
      "14.97280817309578\n"
     ]
    },
    {
     "data": {
      "text/plain": [
       "\"\\nCongratulations! You've forecasted inflation using a deterministic simulation. You get exact and deterministic results from deterministic simulations. In the next exercise, you'll use a Monte Carlo simulation to take some randomness into consideration!!\\n\""
      ]
     },
     "execution_count": 1,
     "metadata": {},
     "output_type": "execute_result"
    }
   ],
   "source": [
    "# exercise 01\n",
    "\n",
    "\"\"\"\n",
    "Deterministic simulation\n",
    "\n",
    "The year 2022 saw record high inflation. There are many ways to think about what inflation in the future will be. In this exercise, you'll attempt to estimate future inflation using a deterministic model.\n",
    "\n",
    "Recall that deterministic models do not include any randomness and allow you to calculate the outcome of a future event exactly. In the next exercise, you'll use a Monte Carlo simulation, which is stochastic. Throughout these exercises, consider which simulation—deterministic or stochastic—is more appropriate for estimating inflation.\n",
    "\n",
    "For this example, assume the inflation rate was 8.6% in 2022 and that there is a steady increase of 2% for inflation in each year following. Using these assumptions, what will the inflation rate be in 2050?\n",
    "\"\"\"\n",
    "\n",
    "# Instructions\n",
    "\n",
    "\"\"\"\n",
    "Using the deterministic_inflation() function defined in the editor, estimate inflation in 2050.\n",
    "\"\"\"\n",
    "\n",
    "# solution\n",
    "\n",
    "def deterministic_inflation(year, yearly_increase_percent):\n",
    "    inflation_rate = 8.6\n",
    "    inflation_rate = inflation_rate*((100+yearly_increase_percent)/100)**(year-2022)\n",
    "    return(inflation_rate)\n",
    "\n",
    "# Print the deterministic simulation results\n",
    "print(deterministic_inflation(2050,2))\n",
    "\n",
    "#----------------------------------#\n",
    "\n",
    "# Conclusion\n",
    "\n",
    "\"\"\"\n",
    "Congratulations! You've forecasted inflation using a deterministic simulation. You get exact and deterministic results from deterministic simulations. In the next exercise, you'll use a Monte Carlo simulation to take some randomness into consideration!!\n",
    "\"\"\""
   ]
  },
  {
   "cell_type": "code",
   "execution_count": 2,
   "metadata": {
    "tags": []
   },
   "outputs": [
    {
     "name": "stdout",
     "output_type": "stream",
     "text": [
      "14.972808173095785\n",
      "19.676178011340454\n"
     ]
    },
    {
     "data": {
      "text/plain": [
       "\"\\nCongratulations on successfully running the simulation. You saw a difference in inflation of 5% by varying the seed, due to the stochastic nature of Monte Carlo simulations. What if you ran the inflation many times and took the average? In the next exercise, you'll see the Law of Large Numbers in action!\\n\""
      ]
     },
     "execution_count": 2,
     "metadata": {},
     "output_type": "execute_result"
    }
   ],
   "source": [
    "# exercise 02\n",
    "\n",
    "\"\"\"\n",
    "Stochastic nature of Monte Carlo simulation\n",
    "\n",
    "In the previous exercise, you modeled information deterministically. You'll now attempt to estimate future inflation with a stochastic model, using a Monte Carlo simulation.\n",
    "\n",
    "Recall that stochastic models simulate randomness in variables by using sampling. This randomness means that each simulation will likely arrive at a different expected outcome, even if the inputs are the same. We saw this in the video by running Monte Carlo simulations with different seeds.\n",
    "\n",
    "In this exercise, assume 8.6% inflation in 2022 and a stochastic increase of 1%, 2%, or 3% each year over the previous year (with equal probabilities of 1%, 2%, or 3%) for the following years. What will the inflation rate look like in 2050 under these assumptions?\n",
    "\n",
    "The random package has already been imported for you as random.\n",
    "\"\"\"\n",
    "\n",
    "# Instructions\n",
    "\n",
    "\"\"\"\n",
    "\n",
    "\n",
    "    Use random.randint() to generate a random integer that represents the three possibilities for the yearly_increase in inflation each year: 1, 2, or 3 percent.\n",
    "---\n",
    "\n",
    "\n",
    "    Using monte_carlo_inflation(), simulate the inflation rate for the year 2050 with a seed of 1234.\n",
    "    Using monte_carlo_inflation(), simulate the inflation rate for the year 2050 with a seed of 34228.\n",
    "\n",
    "\"\"\"\n",
    "\n",
    "# solution\n",
    "\n",
    "import random\n",
    "def monte_carlo_inflation(year, seed):\n",
    "    random.seed(seed)\n",
    "    inflation_rate = 8.6\n",
    "    yearly_increase = random.randint(1, 3)\n",
    "    for i in range(year - 2022):\n",
    "        inflation_rate = inflation_rate*((100 + yearly_increase)/100)\n",
    "    return(inflation_rate)\n",
    "  \n",
    "# Simulate the inflation rate for the year 2050 with a seed of 1234\n",
    "print(monte_carlo_inflation(2050,1234))\n",
    "\n",
    "# Simulate the inflation rate for the year 2050 with a seed of 34228\n",
    "print(monte_carlo_inflation(2050,34228))\n",
    "\n",
    "#----------------------------------#\n",
    "\n",
    "# Conclusion\n",
    "\n",
    "\"\"\"\n",
    "Congratulations on successfully running the simulation. You saw a difference in inflation of 5% by varying the seed, due to the stochastic nature of Monte Carlo simulations. What if you ran the inflation many times and took the average? In the next exercise, you'll see the Law of Large Numbers in action!\n",
    "\"\"\""
   ]
  },
  {
   "cell_type": "code",
   "execution_count": 4,
   "metadata": {
    "tags": []
   },
   "outputs": [
    {
     "name": "stdout",
     "output_type": "stream",
     "text": [
      "16.543733699069502\n",
      "16.540441340182735\n"
     ]
    },
    {
     "data": {
      "text/plain": [
       "'\\nWell done! With a large number of simulations, you can see the average inflation rate is now quite consistent. Contrary to what you saw in the last exercise, on average, the difference between the two simulations is now less than 1%!\\n'"
      ]
     },
     "execution_count": 4,
     "metadata": {},
     "output_type": "execute_result"
    }
   ],
   "source": [
    "# exercise 03\n",
    "\n",
    "\"\"\"\n",
    "The Law of Large Numbers\n",
    "\n",
    "You learned in the previous exercise that due to the stochastic nature of Monte Carlo simulations, each simulation result can be very different. In this exercise, you'll leverage the Law of Large Numbers to simulate inflation in 2050 based on the average of a large number of simulations.\n",
    "\n",
    "The monte_carlo_inflation() function you wrote in the previous exercise is available for use. As a reminder, this is the function code:\n",
    "\n",
    "def monte_carlo_inflation(year, seed):\n",
    "    random.seed(seed)\n",
    "    inflation_rate = 8.6\n",
    "    yearly_increase = random.randint(1, 3)\n",
    "    for i in range(year - 2022):\n",
    "        inflation_rate = inflation_rate * ((100 + yearly_increase)/100)\n",
    "    return(inflation_rate)\n",
    "\n",
    "The numpy and random packages have been imported for you.\n",
    "\"\"\"\n",
    "\n",
    "# Instructions\n",
    "\n",
    "\"\"\"\n",
    "\n",
    "\n",
    "    Calculate the average of 1,000 simulations where a seed between 0 and 20,000 is randomly chosen each time.\n",
    "    Calculate the average of 10,000 simulations where a seed between 0 and 20,000 is randomly chosen each time.\n",
    "\n",
    "\"\"\"\n",
    "\n",
    "# solution\n",
    "import numpy as np\n",
    "# Calculate the average of 1,000 simulation results with a seed between 0 and 20000\n",
    "rates_1 = []\n",
    "for i in range(1000):\n",
    "    seed = random.randint(0, 20000)\n",
    "    rates_1.append(monte_carlo_inflation(2050, seed))\n",
    "print(np.mean(rates_1))\n",
    "\n",
    "# Calculate the average of 10,000 simulation results with a seed between 0 and 20000\n",
    "rates_2 = []\n",
    "for i in range(10000):\n",
    "    seed = random.randint(0, 20000)\n",
    "    rates_2.append(monte_carlo_inflation(2050, seed))\n",
    "print(np.mean(rates_2))\n",
    "\n",
    "#----------------------------------#\n",
    "\n",
    "# Conclusion\n",
    "\n",
    "\"\"\"\n",
    "Well done! With a large number of simulations, you can see the average inflation rate is now quite consistent. Contrary to what you saw in the last exercise, on average, the difference between the two simulations is now less than 1%!\n",
    "\"\"\""
   ]
  },
  {
   "cell_type": "code",
   "execution_count": 5,
   "metadata": {
    "tags": []
   },
   "outputs": [
    {
     "name": "stdout",
     "output_type": "stream",
     "text": [
      "98.74893333333334 97.80000000000001 99.72222222222223\n"
     ]
    },
    {
     "data": {
      "text/plain": [
       "'\\nGreat! You have succeeded in simulating the results and you can see that the mean value lies around the middle of the 95% confidence interval!\\n'"
      ]
     },
     "execution_count": 5,
     "metadata": {},
     "output_type": "execute_result"
    }
   ],
   "source": [
    "# exercise 04\n",
    "\n",
    "\"\"\"\n",
    "Sampling with replacement\n",
    "\n",
    "Bootstrapping is great for calculating confidence intervals for means; you'll now practice doing just that!\n",
    "\n",
    "nba_weights contains the weights of a group of NBA players in kilograms:\n",
    "\n",
    "nba_weights = [96.7, 101.1, 97.9, 98.1, 98.1, \n",
    "               100.3, 101.0, 98.0, 97.4]\n",
    "\n",
    "You are interested in calculating the 95% confidence interval of the mean weight of NBA players using this list.\n",
    "\n",
    "The following have been imported for you: random, and numpy as np.\n",
    "\"\"\"\n",
    "\n",
    "# Instructions\n",
    "\n",
    "\"\"\"\n",
    "\n",
    "\n",
    "    Use random.choices() to sample nine heights from the list 1,000 times, with replacement.\n",
    "    Calculate the mean and 95% confidence interval for your simulation results, assigning the lower end of the confidence interval to lower and the upper end to upper.\n",
    "\n",
    "\"\"\"\n",
    "\n",
    "# solution\n",
    "\n",
    "nba_weights = [96.7, 101.1, 97.9, 98.1, 98.1, \n",
    "               100.3, 101.0, 98.0, 97.4]\n",
    "\n",
    "simu_weights = []\n",
    "\n",
    "# Sample nine values from nba_weights with replacement 1000 times\n",
    "for i in range(1000):\n",
    "    bootstrap_sample = random.choices(nba_weights, k=9)\n",
    "    simu_weights.append(np.mean(bootstrap_sample))\n",
    "\n",
    "# Calculate the mean and 95% confidence interval of the mean for your results\n",
    "mean_weight = np.mean(simu_weights)\n",
    "upper = np.quantile(simu_weights, 0.975)\n",
    "lower = np.quantile(simu_weights, 0.025)\n",
    "print(mean_weight, lower, upper)\n",
    "\n",
    "#----------------------------------#\n",
    "\n",
    "# Conclusion\n",
    "\n",
    "\"\"\"\n",
    "Great! You have succeeded in simulating the results and you can see that the mean value lies around the middle of the 95% confidence interval!\n",
    "\"\"\""
   ]
  },
  {
   "cell_type": "code",
   "execution_count": 6,
   "metadata": {
    "tags": []
   },
   "outputs": [
    {
     "name": "stderr",
     "output_type": "stream",
     "text": [
      "/home/nero/Documents/Estudos/estudos/lib/python3.11/site-packages/seaborn/axisgrid.py:118: UserWarning: The figure layout has changed to tight\n",
      "  self._figure.tight_layout(*args, **kwargs)\n"
     ]
    },
    {
     "data": {
      "image/png": "[encoded data removed]",
      "text/plain": [
       "<Figure size 500x500 with 1 Axes>"
      ]
     },
     "metadata": {},
     "output_type": "display_data"
    },
    {
     "data": {
      "text/plain": [
       "'\\nGreat! You can see that the mean value lies around the middle of the 95% confidence interval as well as the overall distribution of the simulated data!\\n'"
      ]
     },
     "execution_count": 6,
     "metadata": {},
     "output_type": "execute_result"
    }
   ],
   "source": [
    "# exercise 05\n",
    "\n",
    "\"\"\"\n",
    "Visualization of resampling results\n",
    "\n",
    "Now you'll visualize the results of your simulation from the previous exercise! You'll continue working with nba_weights, which contains the weights of a group of NBA players in kilograms:\n",
    "\n",
    "nba_weights = [96.7, 101.1, 97.9, 98.1, 98.1, \n",
    "               100.3, 101.0, 98.0, 97.4]\n",
    "\n",
    "Here is your simulation code from the previous exercise:\n",
    "\n",
    "simu_weights = []\n",
    "for i in range(1000):\n",
    "    bootstrap_sample = random.choices(nba_weights, k=9)\n",
    "    simu_weights.append(np.mean(bootstrap_sample))\n",
    "mean_weight = np.mean(simu_weights)\n",
    "upper = np.quantile(simu_weights, 0.975)\n",
    "lower = np.quantile(simu_weights, 0.025)\n",
    "print(mean_weight, lower, upper)\n",
    "\n",
    "The simu_weights list you generated in the last exercise is loaded for you. Similarly, mean_weight, lower and upper are already defined as the mean and 2.5% and 97.5% quantile values for your confidence interval.\n",
    "\n",
    "The following packages have already been loaded for you: random, numpy as np, seaborn as sns, and matplotlib.pyplot as plt.\n",
    "\"\"\"\n",
    "\n",
    "# Instructions\n",
    "\n",
    "\"\"\"\n",
    "\n",
    "\n",
    "    Use sns.displot() to plot the distribution of the simulated weights.\n",
    "    Use plt.axvline() to plot two vertical lines for the 95% confidence interval (plot lower followed by upper) in red, and the mean in green.\n",
    "\n",
    "\"\"\"\n",
    "\n",
    "# solution\n",
    "\n",
    "import seaborn as sns\n",
    "import matplotlib.pyplot as plt\n",
    "\n",
    "# Plot the distribution of the simulated weights\n",
    "sns.displot(simu_weights)\n",
    "\n",
    "# Plot vertical lines for the 95% confidence intervals and mean\n",
    "plt.axvline(lower, color=\"red\")\n",
    "plt.axvline(upper, color=\"red\")\n",
    "plt.axvline(mean_weight, color=\"green\")\n",
    "plt.show()\n",
    "\n",
    "#----------------------------------#\n",
    "\n",
    "# Conclusion\n",
    "\n",
    "\"\"\"\n",
    "Great! You can see that the mean value lies around the middle of the 95% confidence interval as well as the overall distribution of the simulated data!\n",
    "\"\"\""
   ]
  },
  {
   "cell_type": "code",
   "execution_count": 10,
   "metadata": {
    "tags": []
   },
   "outputs": [
    {
     "name": "stdout",
     "output_type": "stream",
     "text": [
      "13.630769230769246 -8.048076923076948 7.846923076923084\n"
     ]
    },
    {
     "data": {
      "text/plain": [
       "\"\\nPermutating perfection! You can see that the mean difference lies outside the 95% confidence interval, suggesting that given these two lists of samples, the NBA players' mean weight is significantly different from the average US adult males'!\\n\""
      ]
     },
     "execution_count": 10,
     "metadata": {},
     "output_type": "execute_result"
    }
   ],
   "source": [
    "# exercise 06\n",
    "\n",
    "\"\"\"\n",
    "Permutation practice\n",
    "\n",
    "Are NBA players heavier than US adult males? You are now interested in calculating the 95% confidence interval of the mean difference (in kilograms) between NBA players and US adult males. You'll use the two lists provided.\n",
    "\n",
    "Permutation is great when testing for difference, so that's the resampling method you'll use here!\n",
    "\n",
    "nba_weights = [96.7, 101.1, 97.9, 98.1, 98.1, 100.3, 101.0, 98.0, 97.4, 100.5, 100.3, 100.2, 100.6]\n",
    "us_adult_weights = [75.1, 100.1, 95.2, 81.0, 72.0, 63.5, 80.0, 97.1, 94.3, 80.3, 93.5, 85.8, 95.1]\n",
    "\n",
    "Note that each of the above lists has 13 weights listed.\n",
    "\n",
    "The following have been imported for you: random, numpy as np, seaborn as sns, and matplotlib.pyplot as plt.\n",
    "\"\"\"\n",
    "\n",
    "# Instructions\n",
    "\n",
    "\"\"\"\n",
    "\n",
    "\n",
    "    Define all_weights as a list which contains the values from both nba_weights and us_adult_weights.\n",
    "    Perform the permutation on all_weights using np.random.permutation().\n",
    "    Assign the first 13 permutated samples to perm_nba and the remaining 13 to perm_adult.\n",
    "\n",
    "\"\"\"\n",
    "\n",
    "# solution\n",
    "nba_weights = [96.7, 101.1, 97.9, 98.1, 98.1, 100.3, 101.0, 98.0, 97.4, 100.5, 100.3, 100.2, 100.6]\n",
    "us_adult_weights = [75.1, 100.1, 95.2, 81.0, 72.0, 63.5, 80.0, 97.1, 94.3, 80.3, 93.5, 85.8, 95.1]\n",
    "# Define all_weights\n",
    "all_weights = nba_weights + us_adult_weights\n",
    "simu_diff = []\n",
    "\n",
    "for i in range(1000):\n",
    "\t# Perform the permutation on all_weights\n",
    "    perm_sample = np.random.permutation(all_weights)\n",
    "    # Assign the permutated samples to perm_nba and perm_adult\n",
    "    perm_nba, perm_adult = perm_sample[:13], perm_sample[13:]\n",
    "    perm_diff = np.mean(perm_nba) - np.mean(perm_adult)\n",
    "    simu_diff.append(perm_diff)\n",
    "mean_diff = np.mean(nba_weights) - np.mean(us_adult_weights) \n",
    "upper = np.quantile(simu_diff, 0.975)\n",
    "lower = np.quantile(simu_diff, 0.025)\n",
    "print(mean_diff, lower, upper)\n",
    "\n",
    "#----------------------------------#\n",
    "\n",
    "# Conclusion\n",
    "\n",
    "\"\"\"\n",
    "Permutating perfection! You can see that the mean difference lies outside the 95% confidence interval, suggesting that given these two lists of samples, the NBA players' mean weight is significantly different from the average US adult males'!\n",
    "\"\"\""
   ]
  },
  {
   "cell_type": "code",
   "execution_count": 17,
   "metadata": {
    "tags": []
   },
   "outputs": [
    {
     "data": {
      "image/png": "[encoded data removed]",
      "text/plain": [
       "<Figure size 640x480 with 1 Axes>"
      ]
     },
     "metadata": {},
     "output_type": "display_data"
    },
    {
     "data": {
      "text/plain": [
       "'\\nGreat work! This is an example of sampling from correlated inputs in simple distributions. What about more complicated probability distributions? Can we sample from them? What if we are interested in more than one variable? Great questions—we are going to learn how to do these things in the next chapter!\\n'"
      ]
     },
     "execution_count": 17,
     "metadata": {},
     "output_type": "execute_result"
    }
   ],
   "source": [
    "# exercise 07\n",
    "\n",
    "\"\"\"\n",
    "Paired dice simulation\n",
    "\n",
    "Similar to the example in the lesson, you will roll two dice from two bags, and each bag contains three biased dice.\n",
    "\n",
    "bag1 = [[1, 2, 3, 6, 6, 6], [1, 2, 3, 4, 4, 6], [1, 2, 3, 3, 3, 5]]\n",
    "bag2 = [[2, 2, 3, 4, 5, 6], [3, 3, 3, 4, 4, 5], [1, 1, 2, 4, 5, 5]]\n",
    "\n",
    "The difference is that the dice in the two bags are paired: if you pick the second die in bag1, you will also pick the second die in bag2. In each trial:\n",
    "\n",
    "    You pick one pair of dice from the two bags randomly and roll them\n",
    "    Success occurs if the points on dice1 and dice2 add up to eight; otherwise, failure\n",
    "\n",
    "Your task is to complete the for-loop in the roll_paired_biased_dice() function and to use this function to calculate the probabilities of success for each unique combination of points on dice1 and dice2.\n",
    "\n",
    "The following have been imported for you: random, numpy as np, pandas as pd, seaborn as sns and matplotlib.pyplot as plt.\n",
    "\"\"\"\n",
    "\n",
    "# Instructions\n",
    "\n",
    "\"\"\"\n",
    "\n",
    "\n",
    "    Use random.randint() to obtain the dice indices (each a number from 0 to 5).\n",
    "    Use bag_index followed by the correct dice_index to sample a pair of dice from bag1 and bag2.\n",
    "---\n",
    "\n",
    "\n",
    "    Run the simulation 10,000 times, assigning the results DataFrame to df_results so that it can be plotted; use a seed of 1231.\n",
    "\n",
    "\"\"\"\n",
    "\n",
    "# solution\n",
    "\n",
    "import pandas as pd\n",
    "\n",
    "bag1 = [[1, 2, 3, 6, 6, 6], [1, 2, 3, 4, 4, 6], [1, 2, 3, 3, 3, 5]]\n",
    "bag2 = [[2, 2, 3, 4, 5, 6], [3, 3, 3, 4, 4, 5], [1, 1, 2, 4, 5, 5]]\n",
    "\n",
    "def roll_paired_biased_dice(n, seed=1231):\n",
    "    results = {}\n",
    "    random.seed(seed)\n",
    "    for i in range(n):\n",
    "        bag_index = random.randint(0, 1)\n",
    "        dice_index1 = random.randint(0, 5)\n",
    "        dice_index2 = random.randint(0, 5)\n",
    "        point1 = bag1[bag_index][dice_index1]\n",
    "        point2 = bag2[bag_index][dice_index2]\n",
    "        key = \"%s_%s\" % (point1, point2)\n",
    "        if point1 + point2 == 8: \n",
    "            if key not in results:\n",
    "                results[key] = 1\n",
    "            else:\n",
    "                results[key] += 1\n",
    "    return(pd.DataFrame.from_dict({\"dice1_dice2\":results.keys(),\n",
    "\t\t\"probability_of_success\":np.array(list(results.values()))*100.0/n}))\n",
    "\n",
    "# Run the simulation 10,000 times and assign the result to df_results\n",
    "df_results = roll_paired_biased_dice(10000)\n",
    "sns.barplot(x=\"dice1_dice2\", y=\"probability_of_success\", data=df_results)\n",
    "plt.show()\n",
    "\n",
    "#----------------------------------#\n",
    "\n",
    "# Conclusion\n",
    "\n",
    "\"\"\"\n",
    "Great work! This is an example of sampling from correlated inputs in simple distributions. What about more complicated probability distributions? Can we sample from them? What if we are interested in more than one variable? Great questions—we are going to learn how to do these things in the next chapter!\n",
    "\"\"\""
   ]
  }
 ],
 "metadata": {
  "kernelspec": {
   "display_name": "Python 3 (ipykernel)",
   "language": "python",
   "name": "python3"
  },
  "language_info": {
   "codemirror_mode": {
    "name": "ipython",
    "version": 3
   },
   "file_extension": ".py",
   "mimetype": "text/x-python",
   "name": "python",
   "nbconvert_exporter": "python",
   "pygments_lexer": "ipython3",
   "version": "3.11.5"
  }
 },
 "nbformat": 4,
 "nbformat_minor": 4
}
