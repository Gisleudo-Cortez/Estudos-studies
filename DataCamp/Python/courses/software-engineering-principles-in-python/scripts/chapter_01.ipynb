{
 "cells": [
  {
   "cell_type": "code",
   "execution_count": 1,
   "metadata": {
    "editable": true,
    "slideshow": {
     "slide_type": ""
    },
    "tags": []
   },
   "outputs": [],
   "source": [
    "# run this to shorten the data import from the files\n",
    "import os\n",
    "cwd = os.path.dirname(os.getcwd())+'/'\n",
    "path_data = os.path.join(os.path.dirname(os.getcwd()), 'datasets/')\n"
   ]
  },
  {
   "cell_type": "code",
   "execution_count": 2,
   "metadata": {},
   "outputs": [
    {
     "name": "stdout",
     "output_type": "stream",
     "text": [
      "[0 3 5 6 7 8 9]\n"
     ]
    },
    {
     "data": {
      "text/plain": [
       "\"\\nFantastic! Thanks to numpy's use of modularity you were able to solve the exercise using concise & readable code.\\n\""
      ]
     },
     "execution_count": 2,
     "metadata": {},
     "output_type": "execute_result"
    }
   ],
   "source": [
    "# exercise 01\n",
    "\n",
    "\"\"\"\n",
    "Python modularity in the wild\n",
    "\n",
    "In the slides, we covered 3 ways that you can write modular code with Python: packages, classes, and methods. For reference, you can see the example code we reviewed below.\n",
    "\n",
    "# Import the pandas PACKAGE\n",
    "import pandas as pd\n",
    "\n",
    "# Create some example data\n",
    "data = {'x': [1, 2, 3, 4], \n",
    "        'y': [20.1, 62.5, 34.8, 42.7]}\n",
    "\n",
    "# Create a dataframe CLASS object\n",
    "df = pd.DataFrame(data)\n",
    "\n",
    "# Use the plot METHOD\n",
    "df.plot('x', 'y')\n",
    "\n",
    "In this exercise, you'll utilize a class & a method from the popular package numpy.\n",
    "\"\"\"\n",
    "\n",
    "# Instructions\n",
    "\n",
    "\"\"\"\n",
    "\n",
    "    Complete the import statement to load the numpy package.\n",
    "    Use numpy's array class to define arr.\n",
    "    Use arr's sort method to sort the numpy array.\n",
    "\n",
    "\"\"\"\n",
    "\n",
    "# solution\n",
    "\n",
    "# import the numpy package\n",
    "import numpy as np\n",
    "\n",
    "# create an array class object\n",
    "arr = np.array([8, 6, 7, 5, 3, 0, 9])\n",
    "\n",
    "# use the sort method\n",
    "arr.sort()\n",
    "\n",
    "# print the sorted array\n",
    "print(arr)\n",
    "\n",
    "\n",
    "#----------------------------------#\n",
    "\n",
    "# Conclusion\n",
    "\n",
    "\"\"\"\n",
    "Fantastic! Thanks to numpy's use of modularity you were able to solve the exercise using concise & readable code.\n",
    "\"\"\""
   ]
  },
  {
   "cell_type": "code",
   "execution_count": 19,
   "metadata": {},
   "outputs": [],
   "source": [
    "words = np.genfromtxt(path_data+'words.csv', dtype=str)"
   ]
  },
  {
   "cell_type": "code",
   "execution_count": 20,
   "metadata": {
    "tags": []
   },
   "outputs": [
    {
     "name": "stdout",
     "output_type": "stream",
     "text": [
      "Help on function most_common in module collections:\n",
      "\n",
      "most_common(self, n=None)\n",
      "    List the n most common elements and their counts from the most\n",
      "    common to the least.  If n is None, then list all element counts.\n",
      "    \n",
      "    >>> Counter('abracadabra').most_common(3)\n",
      "    [('a', 5), ('b', 2), ('r', 2)]\n",
      "\n",
      "[('@DataCamp', 299), ('to', 263), ('the', 251), ('in', 164), ('RT', 158)]\n"
     ]
    },
    {
     "data": {
      "text/plain": [
       "'\\nGreat work! Good documentation lets users like you and me easily figure out how to use new functions.\\n'"
      ]
     },
     "execution_count": 20,
     "metadata": {},
     "output_type": "execute_result"
    }
   ],
   "source": [
    "# exercise 02\n",
    "\n",
    "\"\"\"\n",
    "Leveraging documentation\n",
    "\n",
    "When writing code for Data Science, it's inevitable that you'll need to install and use someone else's code. You'll quickly learn that using someone else's code is much more pleasant when they use good software engineering practices. In particular, good documentation makes the right way to call a function obvious. In this exercise you'll use python's help() method to view a function's documentation so you can determine how to correctly call a new method.\n",
    "\n",
    "The list words has been loaded in your session.\n",
    "\"\"\"\n",
    "\n",
    "# Instructions\n",
    "\n",
    "\"\"\"\n",
    "\n",
    "    View the documentation of the Counter.most_common method using the help() function. Note, you need to run the import statement before completing this step.\n",
    "---\n",
    "\n",
    "    Correctly call Counter.most_common() by reading its documentation.\n",
    "    Print the results stored in top_5_words.\n",
    "\n",
    "\"\"\"\n",
    "\n",
    "# solution\n",
    "\n",
    "# load the Counter function into our environment\n",
    "from collections import Counter\n",
    "\n",
    "# View the documentation for Counter.most_common\n",
    "help(Counter.most_common)\n",
    "\n",
    "# use Counter to find the top 5 most common words\n",
    "top_5_words = Counter(words).most_common(n=5)\n",
    "\n",
    "# display the top 5 most common words\n",
    "print(top_5_words)\n",
    "\n",
    "\n",
    "#----------------------------------#\n",
    "\n",
    "# Conclusion\n",
    "\n",
    "\"\"\"\n",
    "Great work! Good documentation lets users like you and me easily figure out how to use new functions.\n",
    "\"\"\""
   ]
  },
  {
   "cell_type": "code",
   "execution_count": 26,
   "metadata": {
    "tags": []
   },
   "outputs": [
    {
     "name": "stdout",
     "output_type": "stream",
     "text": [
      "nay_pep8.py:1:1: E265 block comment should start with '# '\n",
      "nay_pep8.py:2:6: E225 missing whitespace around operator\n",
      "nay_pep8.py:4:2: E131 continuation line unaligned for hanging indent\n",
      "nay_pep8.py:5:6: E131 continuation line unaligned for hanging indent\n",
      "nay_pep8.py:6:1: E122 continuation line missing indentation or outdented\n",
      "nay_pep8.py:7:1: E265 block comment should start with '# '\n",
      "nay_pep8.py:8:1: E402 module level import not at top of file\n",
      "nay_pep8.py:9:1: E265 block comment should start with '# '\n",
      "nay_pep8.py:10:1: E302 expected 2 blank lines, found 0\n",
      "nay_pep8.py:10:18: E231 missing whitespace after ','\n",
      "nay_pep8.py:11:2: E111 indentation is not a multiple of 4\n",
      "nay_pep8.py:12:2: E111 indentation is not a multiple of 4\n",
      "nay_pep8.py:14:1: E265 block comment should start with '# '\n",
      "nay_pep8.py:15:1: E305 expected 2 blank lines after class or function definition, found 1\n",
      "nay_pep8.py:16:11: E111 indentation is not a multiple of 4\n",
      "nay_pep8.py:16:11: E117 over-indented\n",
      "nay_pep8.py:16:17: E225 missing whitespace around operator\n",
      "nay_pep8.py:16:32: E222 multiple spaces after operator\n",
      "nay_pep8.py:16:32: E251 unexpected spaces around keyword / parameter equals\n",
      "nay_pep8.py:16:38: E231 missing whitespace after ','\n",
      "nay_pep8.py:16:44: E221 multiple spaces before operator\n",
      "nay_pep8.py:16:44: E251 unexpected spaces around keyword / parameter equals\n",
      "nay_pep8.py:16:47: E251 unexpected spaces around keyword / parameter equals\n",
      "nay_pep8.py:17:11: E111 indentation is not a multiple of 4\n",
      "nay_pep8.py:17:17: E201 whitespace after '('\n",
      "nay_pep8.py:17:25: E202 whitespace before ')'\n",
      "nay_pep8.py:17:27: W292 no newline at end of file\n",
      "{'E265': \"block comment should start with '# '\", 'E131': 'continuation line unaligned for hanging indent', 'E122': 'continuation line missing indentation or outdented', 'E225': 'missing whitespace around operator', 'E402': 'module level import not at top of file', 'E302': 'expected 2 blank lines, found 0', 'E231': \"missing whitespace after ','\", 'E111': 'indentation is not a multiple of 4', 'E305': 'expected 2 blank lines after class or function definition, found 1', 'E117': 'over-indented', 'E251': 'unexpected spaces around keyword / parameter equals', 'E222': 'multiple spaces after operator', 'E221': 'multiple spaces before operator', 'W292': 'no newline at end of file', 'E201': \"whitespace after '('\", 'E202': \"whitespace before ')'\"}\n"
     ]
    },
    {
     "data": {
      "text/plain": [
       "'\\nGreat job! Checks like these can be invaluable to catching lines of code that can be improved from a readability standpoint.\\n'"
      ]
     },
     "execution_count": 26,
     "metadata": {},
     "output_type": "execute_result"
    }
   ],
   "source": [
    "# exercise 03\n",
    "\n",
    "\"\"\"\n",
    "Using pycodestyle\n",
    "\n",
    "We saw earlier that pycodestyle can be run from the command line to check a file for PEP 8 compliance. Sometimes it's useful to run this kind of check from a Python script.\n",
    "\n",
    "In this exercise, you'll use pycodestyle's StyleGuide class to check multiple files for PEP 8 compliance. Both files accomplish the same task, but they differ greatly in formatting and readability. You can view the contents of the files by following their links below.\n",
    "\"\"\"\n",
    "\n",
    "# Instructions\n",
    "\n",
    "\"\"\"\n",
    "\n",
    "    Import the pycodestyle package.\n",
    "    Create an instance of StyleGuide named style_checker.\n",
    "    There are two files that we'll be checking; they're named 'nay_pep8.py' and 'yay_pep8.py'. Pass a list containing these file names to our style_checker's check_files method.\n",
    "    print() the results of our style check to the console. Make sure to read the output!\n",
    "\n",
    "\"\"\"\n",
    "\n",
    "# solution\n",
    "\n",
    "# Import needed package\n",
    "import pycodestyle\n",
    "\n",
    "# Create a StyleGuide instance\n",
    "style_checker = pycodestyle.StyleGuide()\n",
    "\n",
    "# Run PEP 8 check on multiple files\n",
    "result = style_checker.check_files(['nay_pep8.py', 'yay_pep8.py'])\n",
    "\n",
    "# Print result of PEP 8 style check\n",
    "print(result.messages)\n",
    "\n",
    "\n",
    "#----------------------------------#\n",
    "\n",
    "# Conclusion\n",
    "\n",
    "\"\"\"\n",
    "Great job! Checks like these can be invaluable to catching lines of code that can be improved from a readability standpoint.\n",
    "\"\"\""
   ]
  },
  {
   "cell_type": "code",
   "execution_count": 27,
   "metadata": {
    "tags": []
   },
   "outputs": [
    {
     "name": "stdout",
     "output_type": "stream",
     "text": [
      "[8, 3, 4]\n"
     ]
    },
    {
     "data": {
      "text/plain": [
       "'\\nNice work! Having readable, PEP 8 approved, code allows you to collaborate much easier with other Data Scientists.\\n'"
      ]
     },
     "execution_count": 27,
     "metadata": {},
     "output_type": "execute_result"
    }
   ],
   "source": [
    "# exercise 04\n",
    "\n",
    "\"\"\"\n",
    "Conforming to PEP 8\n",
    "\n",
    "As we've covered, there are tools available to check if your code conforms to the PEP 8 guidelines. One possible way to stay compliant is to use an IDE that warns you when you accidentally stray from the style guide. Another way to check code is to use the pycodestyle package.\n",
    "\n",
    "The results below show the output of running pycodestyle check against the code shown in your editor. The leading number in each line shows how many occurrences there were of that particular violation.\n",
    "\n",
    "my_script.py:2:2:  E225 missing whitespace around operator\n",
    "my_script.py:2:7:  E231 missing whitespace after ','\n",
    "my_script.py:2:9:  E231 missing whitespace after ','\n",
    "my_script.py:5:7:  E201 whitespace after '('\n",
    "my_script.py:5:11: E202 whitespace before ')'\n",
    "\n",
    "\"\"\"\n",
    "\n",
    "# Instructions\n",
    "\n",
    "\"\"\"\n",
    "\n",
    "    Leverage the output of pycodestyle to edit the code to be compliant with PEP 8.\n",
    "\n",
    "\"\"\"\n",
    "\n",
    "# solution\n",
    "\n",
    "# Assign data to x\n",
    "x = [8, 3, 4]\n",
    "\n",
    "# Print the data\n",
    "print(x)\n",
    "\n",
    "\n",
    "#----------------------------------#\n",
    "\n",
    "# Conclusion\n",
    "\n",
    "\"\"\"\n",
    "Nice work! Having readable, PEP 8 approved, code allows you to collaborate much easier with other Data Scientists.\n",
    "\"\"\""
   ]
  },
  {
   "cell_type": "code",
   "execution_count": 28,
   "metadata": {
    "tags": []
   },
   "outputs": [
    {
     "name": "stdout",
     "output_type": "stream",
     "text": [
      "Please help me\n",
      "PLEASE EUREKA!!\n"
     ]
    },
    {
     "data": {
      "text/plain": [
       "\"\\nGREAT JOB!! Nicely formatted comments can provide a lot value to help collaborators easily read the documentation you've left for them.\\n\""
      ]
     },
     "execution_count": 28,
     "metadata": {},
     "output_type": "execute_result"
    }
   ],
   "source": [
    "# exercise 05\n",
    "\n",
    "\"\"\"\n",
    "PEP 8 in documentation\n",
    "\n",
    "So far we've focused on how PEP 8 affects functional pieces of code. There are also rules to help make comments and documentation more readable. In this exercise, you'll be fixing various types of comments to be PEP 8 compliant.\n",
    "\n",
    "The result of a pycodestyle style check on the code can be seen below.\n",
    "\n",
    "my_script.py:2:15: E261 at least two spaces before inline comment\n",
    "my_script.py:5:16: E262 inline comment should start with '# '\n",
    "my_script.py:11:1: E265 block comment should start with '# '\n",
    "my_script.py:13:2: E114 indentation is not a multiple of four (comment)\n",
    "my_script.py:13:2: E116 unexpected indentation (comment)\n",
    "\n",
    "\"\"\"\n",
    "\n",
    "# Instructions\n",
    "\n",
    "\"\"\"\n",
    "\n",
    "    Leverage the output of pycodestyle to edit the code's comments to be compliant with PEP 8.\n",
    "\n",
    "\"\"\"\n",
    "\n",
    "# solution\n",
    "\n",
    "def print_phrase(phrase, polite=True, shout=False):\n",
    "    if polite:  # It's generally polite to say please\n",
    "        phrase = 'Please ' + phrase\n",
    "\n",
    "    if shout:  # All caps looks like a written shout\n",
    "        phrase = phrase.upper() + '!!'\n",
    "\n",
    "    print(phrase)\n",
    "\n",
    "\n",
    "# Politely ask for help\n",
    "print_phrase('help me', polite=True)\n",
    "# Shout about a discovery\n",
    "print_phrase('eureka', shout=True)\n",
    "\n",
    "\n",
    "#----------------------------------#\n",
    "\n",
    "# Conclusion\n",
    "\n",
    "\"\"\"\n",
    "GREAT JOB!! Nicely formatted comments can provide a lot value to help collaborators easily read the documentation you've left for them.\n",
    "\"\"\""
   ]
  }
 ],
 "metadata": {
  "kernelspec": {
   "display_name": "Python 3 (ipykernel)",
   "language": "python",
   "name": "python3"
  },
  "language_info": {
   "codemirror_mode": {
    "name": "ipython",
    "version": 3
   },
   "file_extension": ".py",
   "mimetype": "text/x-python",
   "name": "python",
   "nbconvert_exporter": "python",
   "pygments_lexer": "ipython3",
   "version": "3.11.6"
  }
 },
 "nbformat": 4,
 "nbformat_minor": 4
}
