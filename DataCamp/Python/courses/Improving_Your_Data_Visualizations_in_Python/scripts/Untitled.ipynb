{
 "cells": [
  {
   "cell_type": "code",
   "execution_count": 6,
   "id": "f2212c10-7443-4256-96c1-d508d447c43c",
   "metadata": {
    "execution": {
     "iopub.execute_input": "2023-05-17T12:24:55.960328Z",
     "iopub.status.busy": "2023-05-17T12:24:55.959626Z",
     "iopub.status.idle": "2023-05-17T12:24:55.967372Z",
     "shell.execute_reply": "2023-05-17T12:24:55.966439Z",
     "shell.execute_reply.started": "2023-05-17T12:24:55.960289Z"
    },
    "tags": []
   },
   "outputs": [
    {
     "name": "stdout",
     "output_type": "stream",
     "text": [
      "0      0\n",
      "1      1\n",
      "2      2\n",
      "3      3\n",
      "4      4\n",
      "5      5\n",
      "6      6\n",
      "7      7\n",
      "8      8\n",
      "9      9\n",
      "10    10\n",
      "11    11\n",
      "12    12\n",
      "13    13\n",
      "14    14\n",
      "15    15\n",
      "16    16\n",
      "17    17\n",
      "18    18\n",
      "19    19\n",
      "20    20\n",
      "21    21\n",
      "22    22\n",
      "23    23\n",
      "24    24\n",
      "dtype: int64\n"
     ]
    }
   ],
   "source": [
    "import pandas as pd\n",
    "\n",
    "# Assuming your Series is named 'series_data'\n",
    "series_data = pd.Series([310, 311, 312, 313, 314, 315, 316, 317, 318, 319, 320, 321, 322, 323, 324, 325, 326, 327, 328, 329, 330, 331, 332, 333, 334])\n",
    "\n",
    "# Define the mapping function\n",
    "def map_values(value):\n",
    "    return value - 310\n",
    "\n",
    "# Map the values using the defined function\n",
    "series_mapped = series_data.map(map_values)\n",
    "\n",
    "# Display the mapped Series\n",
    "print(series_mapped)\n"
   ]
  },
  {
   "cell_type": "code",
   "execution_count": null,
   "id": "2b6299bd-87f4-4d12-8a5c-56f8ce0ccd1c",
   "metadata": {},
   "outputs": [],
   "source": [
    "\n",
    "                          city  year pollutant    value\n",
    "0                   Cincinnati  2012        CO    1.195\n",
    "1                   Cincinnati  2012       NO2   43.000\n",
    "2                   Cincinnati  2012        O3    0.040\n",
    "3                   Cincinnati  2012       SO2  102.350\n",
    "4                   Cincinnati  2013        CO    1.320"
   ]
  }
 ],
 "metadata": {
  "kernelspec": {
   "display_name": "Python 3 (ipykernel)",
   "language": "python",
   "name": "python3"
  },
  "language_info": {
   "codemirror_mode": {
    "name": "ipython",
    "version": 3
   },
   "file_extension": ".py",
   "mimetype": "text/x-python",
   "name": "python",
   "nbconvert_exporter": "python",
   "pygments_lexer": "ipython3",
   "version": "3.11.3"
  }
 },
 "nbformat": 4,
 "nbformat_minor": 5
}
