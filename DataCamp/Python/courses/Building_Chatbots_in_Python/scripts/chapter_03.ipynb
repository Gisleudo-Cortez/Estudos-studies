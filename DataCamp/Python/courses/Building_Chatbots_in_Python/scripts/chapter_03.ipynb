{
 "cells": [
  {
   "cell_type": "code",
   "execution_count": 1,
   "metadata": {
    "tags": []
   },
   "outputs": [],
   "source": [
    "# run this to shorten the data import from the files\n",
    "import os\n",
    "cwd = os.path.dirname(os.getcwd())+'/'\n",
    "path_data = os.path.join(os.path.dirname(os.getcwd()), 'datasets/')\n"
   ]
  },
  {
   "cell_type": "code",
   "execution_count": 27,
   "metadata": {},
   "outputs": [],
   "source": [
    "import sqlite3\n",
    "\n",
    "conn = sqlite3.connect(path_data+'hotels.db')\n",
    "c = conn.cursor()\n"
   ]
  },
  {
   "cell_type": "code",
   "execution_count": 29,
   "metadata": {},
   "outputs": [
    {
     "name": "stdout",
     "output_type": "stream",
     "text": [
      "[('Hotel California',)]\n"
     ]
    },
    {
     "data": {
      "text/plain": [
       "\"\\nGreat work! You've got the basics of SQL down.\\n\""
      ]
     },
     "execution_count": 29,
     "metadata": {},
     "output_type": "execute_result"
    }
   ],
   "source": [
    "# exercise 01\n",
    "\n",
    "\"\"\"\n",
    "SQL basics\n",
    "\n",
    "Time to begin writing queries for your first hotel booking chatbot! The database has been loaded as \"hotels.db\" and a cursor, which has access to the database, has already been defined for you as cursor.\n",
    "\n",
    "Three queries are provided below. Your job is to identify which query returns ONLY the \"Hotel California\".\n",
    "\n",
    "You can test each query below by calling the cursor's .execute() method and passing the query in as a string. Then, you can print the results by calling the cursor's .fetchall() method, which takes no arguments.\n",
    "\"\"\"\n",
    "\n",
    "# Instructions\n",
    "\n",
    "\"\"\"\n",
    "\n",
    "\"\"\"\n",
    "\n",
    "# solution\n",
    "\n",
    "c.execute(\"SELECT name FROM hotels WHERE price = 'mid' AND area = 'north'\")\n",
    "print(c.fetchall())\n",
    "\n",
    "#----------------------------------#\n",
    "\n",
    "# Conclusion\n",
    "\n",
    "\"\"\"\n",
    "Great work! You've got the basics of SQL down.\n",
    "\"\"\""
   ]
  },
  {
   "cell_type": "code",
   "execution_count": 30,
   "metadata": {
    "tags": []
   },
   "outputs": [
    {
     "name": "stdout",
     "output_type": "stream",
     "text": [
      "[('Grand Hotel', 'hi', 'south', 5)]\n"
     ]
    },
    {
     "data": {
      "text/plain": [
       "'\\nNice! According to our database, the Grand Hotel is the only high-end hotel in the south.\\n'"
      ]
     },
     "execution_count": 30,
     "metadata": {},
     "output_type": "execute_result"
    }
   ],
   "source": [
    "# exercise 02\n",
    "\n",
    "\"\"\"\n",
    "SQL statements in Python\n",
    "\n",
    "It's time to begin writing SQL queries! In this exercise, your job is to run a query against the hotels database to find all the expensive hotels in the south. The connection to the database has been created for you, along with a cursor c.\n",
    "\n",
    "As Alan described in the video, you should be careful about SQL injection. Here, you'll pass parameters the safe way: As an extra tuple argument to the .execute() method. This ensures malicious code can't be injected into your query.\n",
    "\"\"\"\n",
    "\n",
    "# Instructions\n",
    "\n",
    "\"\"\"\n",
    "\n",
    "    Define a tuple t of strings \"south\" and \"hi\" for the area and price.\n",
    "    Execute the query using the cursor's .execute() method. You're looking for all of the fields for all hotels where the area is \"south\" and the price is \"hi\".\n",
    "    Print the results using the cursor's .fetchall() method.\n",
    "\n",
    "\"\"\"\n",
    "\n",
    "# solution\n",
    "\n",
    "# Import sqlite3\n",
    "import sqlite3\n",
    "\n",
    "# Open connection to DB\n",
    "#conn = sqlite3.connect('hotels.db')\n",
    "\n",
    "# Create a cursor\n",
    "#c = conn.cursor()\n",
    "\n",
    "# Define area and price\n",
    "area, price = \"south\", \"hi\"\n",
    "t = (area, price)\n",
    "\n",
    "# Execute the query\n",
    "c.execute('SELECT * FROM hotels WHERE area=? AND price=?', t)\n",
    "\n",
    "# Print the results\n",
    "print(c.fetchall())\n",
    "\n",
    "#----------------------------------#\n",
    "\n",
    "# Conclusion\n",
    "\n",
    "\"\"\"\n",
    "Nice! According to our database, the Grand Hotel is the only high-end hotel in the south.\n",
    "\"\"\""
   ]
  },
  {
   "cell_type": "code",
   "execution_count": 32,
   "metadata": {
    "tags": []
   },
   "outputs": [
    {
     "data": {
      "text/plain": [
       "\"\\nSuper! You've now got a function that can find matching hotels for any area and price range combination. You'll practice using it in the next exercise!\\n\""
      ]
     },
     "execution_count": 32,
     "metadata": {},
     "output_type": "execute_result"
    }
   ],
   "source": [
    "# exercise 03\n",
    "\n",
    "\"\"\"\n",
    "Creating queries from parameters\n",
    "\n",
    "Now you're going to implement a more powerful function for querying the hotels database. The goal is for that function to take arguments that can later be specified by other parts of your code.\n",
    "\n",
    "More specifically, your job is to define a find_hotels() function which takes a single argument - a dictionary of column names and values - and returns a list of matching hotels from the database.\n",
    "\"\"\"\n",
    "\n",
    "# Instructions\n",
    "\n",
    "\"\"\"\n",
    "\n",
    "    A filters list has been created for you. Join this list together with the strings \" WHERE \" and \" and \".\n",
    "    Create a tuple of the values of the params dictionary.\n",
    "    Create a connection and cursor to \"hotels.db\" and then execute the query, just as in the previous exercise.\n",
    "    Return the results of the query.\n",
    "\n",
    "\"\"\"\n",
    "\n",
    "# solution\n",
    "\n",
    "# Define find_hotels()\n",
    "def find_hotels(params):\n",
    "    # Create the base query\n",
    "    query = 'SELECT * FROM hotels'\n",
    "    # Add filter clauses for each of the parameters\n",
    "    if len(params) > 0:\n",
    "        filters = [\"{}=?\".format(k) for k in params]\n",
    "        query += \" WHERE \" + \" and \".join(filters)\n",
    "    # Create the tuple of values\n",
    "    t = tuple(params.values())\n",
    "    \n",
    "    # Open connection to DB\n",
    "    conn = sqlite3.connect(path_data+'hotels.db')\n",
    "    # Create a cursor\n",
    "    c = conn.cursor()\n",
    "    # Execute the query\n",
    "    c.execute(query, t)\n",
    "    # Return the results\n",
    "    return c.fetchall()\n",
    "\n",
    "#----------------------------------#\n",
    "\n",
    "# Conclusion\n",
    "\n",
    "\"\"\"\n",
    "Super! You've now got a function that can find matching hotels for any area and price range combination. You'll practice using it in the next exercise!\n",
    "\"\"\""
   ]
  },
  {
   "cell_type": "code",
   "execution_count": 33,
   "metadata": {
    "tags": []
   },
   "outputs": [
    {
     "name": "stdout",
     "output_type": "stream",
     "text": [
      "[('Cozy Cottage', 'lo', 'south', 2)]\n"
     ]
    },
    {
     "data": {
      "text/plain": [
       "'\\nNicely done!\\n'"
      ]
     },
     "execution_count": 33,
     "metadata": {},
     "output_type": "execute_result"
    }
   ],
   "source": [
    "# exercise 04\n",
    "\n",
    "\"\"\"\n",
    "Using your custom function to find hotels\n",
    "\n",
    "Here, you'll see your find_hotels() function in action! Recall that it accepts a single argument, params, which is a dictionary of column names and values.\n",
    "\"\"\"\n",
    "\n",
    "# Instructions\n",
    "\n",
    "\"\"\"\n",
    "\n",
    "    Create the params dictionary with the column names (keys) \"area\" and \"price\", with corresponding values \"south\" and \"lo\".\n",
    "    Use the find_hotels() function along with your params dictionary to find all inexpensive hotels in the South.\n",
    "\n",
    "\"\"\"\n",
    "\n",
    "# solution\n",
    "\n",
    "# Create the dictionary of column names and values\n",
    "params = {'area':'south', 'price':'lo'}\n",
    "\n",
    "# Find the hotels that match the parameters\n",
    "print(find_hotels(params))\n",
    "\n",
    "#----------------------------------#\n",
    "\n",
    "# Conclusion\n",
    "\n",
    "\"\"\"\n",
    "Nicely done!\n",
    "\"\"\""
   ]
  },
  {
   "cell_type": "code",
   "execution_count": null,
   "metadata": {
    "tags": []
   },
   "outputs": [
    {
     "data": {
      "text/plain": [
       "'\\n\\n'"
      ]
     },
     "execution_count": 6,
     "metadata": {},
     "output_type": "execute_result"
    }
   ],
   "source": [
    "# exercise 05\n",
    "\n",
    "\"\"\"\n",
    "Creating SQL from natural language\n",
    "\n",
    "Now you'll write a respond() function that can handle messages like \"I want an expensive hotel in the south of town\" and respond appropriately according to the number of matching results in a database. This is an important functionality for any database-backed chatbot.\n",
    "\n",
    "Your find_hotels() function from the previous exercises has already been defined for you, along with a Rasa NLU interpreter object, which can handle hotel queries, and a list of responses, which you can explore in the Shell.\n",
    "\"\"\"\n",
    "\n",
    "# Instructions\n",
    "\n",
    "\"\"\"\n",
    "\n",
    "    Use the .parse() method of interpreter to extract the \"entities\" in the message.\n",
    "    Find matching hotels using the params dictionary and find_hotels() function.\n",
    "    Use the min() function to choose the right index for the response to send. In this case, n is the number of results.\n",
    "    Select the appropriate response from the responses list and insert the names of hotels using the .format() method.\n",
    "---\n",
    "Excellent! You've built a chatbot that can interpret the results of your hotel DB queries. Now, call the respond() function with the message \"I want an expensive hotel in the south of town\". Place it inside a call to print() so that you can see the response of your bot in the shell.\n",
    "\"\"\"\n",
    "\n",
    "# solution\n",
    "\n",
    "# Define respond()\n",
    "def respond(message):\n",
    "    # Extract the entities\n",
    "    entities = interpreter.parse(message)[\"entities\"]\n",
    "    # Initialize an empty params dictionary\n",
    "    params = {}\n",
    "    # Fill the dictionary with entities\n",
    "    for ent in entities:\n",
    "        params[ent[\"entity\"]] = str(ent[\"value\"])\n",
    "\n",
    "    # Find hotels that match the dictionary\n",
    "    results = find_hotels(params)\n",
    "    # Get the names of the hotels and index of the response\n",
    "    names = [r[0] for r in results]\n",
    "    n = min(len(results),3)\n",
    "    # Select the nth element of the responses array\n",
    "    return responses[n].format(*names)\n",
    "\n",
    "# Test the respond() function\n",
    "print(respond('I want an expensive hotel in the south of town'))\n",
    "\n",
    "#----------------------------------#\n",
    "\n",
    "# Conclusion\n",
    "\n",
    "\"\"\"\n",
    "Great work!\n",
    "\"\"\""
   ]
  },
  {
   "cell_type": "code",
   "execution_count": 34,
   "metadata": {
    "tags": []
   },
   "outputs": [
    {
     "name": "stdout",
     "output_type": "stream",
     "text": [
      "    USER: I want an expensive hotel\n",
      "    BOT: Grand Hotel is one option, but I know others too :)\n",
      "    USER: in the north of town\n",
      "    BOT: Ben's BnB is a great hotel!\n"
     ]
    },
    {
     "data": {
      "text/plain": [
       "'\\nGreat! Your chatbot can now help users even when they split their preferences over a few messages.\\n'"
      ]
     },
     "execution_count": 34,
     "metadata": {},
     "output_type": "execute_result"
    }
   ],
   "source": [
    "# exercise 06\n",
    "\n",
    "\"\"\"\n",
    "Refining your search\n",
    "\n",
    "Now you'll write a bot that allows users to add filters incrementally, just in case they don't specify all of their preferences in one message.\n",
    "\n",
    "To do this, initialize an empty dictionary params outside of your respond() function (as opposed to inside the function, like in the previous exercise). Your respond() function will take in this dictionary as an argument.\n",
    "\"\"\"\n",
    "\n",
    "# Instructions\n",
    "\n",
    "\"\"\"\n",
    "\n",
    "    Define a respond() function that accepts two arguments - a message and a dictionary of params - and returns two results - the message to send to the user and the updated params dictionary.\n",
    "    Extract \"entities\" from the message using the .parse() method of the interpreter, exactly like you did in the previous exercise.\n",
    "    Find the hotels that match params using your find_hotels() function.\n",
    "    Initialize the params dictionary outside the respond() function and hit 'Submit Answer' to pass the messages to the bot.\n",
    "\n",
    "\"\"\"\n",
    "\n",
    "# solution\n",
    "\n",
    "# Define a respond function, taking the message and existing params as input\n",
    "\"\"\"def respond(message, params):\n",
    "    # Extract the entities\n",
    "    entities = interpreter.parse(message)['entities']\n",
    "    # Fill the dictionary with entities\n",
    "    for ent in entities:\n",
    "        params[ent[\"entity\"]] = str(ent[\"value\"])\n",
    "\n",
    "    # Find the hotels\n",
    "    results = find_hotels(params)\n",
    "    names = [r[0] for r in results]\n",
    "    n = min(len(results), 3)\n",
    "    # Return the appropriate response\n",
    "    return responses[n].format(*names), params\n",
    "\n",
    "# Initialize params dictionary\n",
    "params = {}\n",
    "\n",
    "# Pass the messages to the bot\n",
    "for message in [\"I want an expensive hotel\", \"in the north of town\"]:\n",
    "    print(\"USER: {}\".format(message))\n",
    "    response, params = respond(message, params)\n",
    "    print(\"BOT: {}\".format(response))\"\"\"\n",
    "\n",
    "print(\"\"\"    USER: I want an expensive hotel\n",
    "    BOT: Grand Hotel is one option, but I know others too :)\n",
    "    USER: in the north of town\n",
    "    BOT: Ben's BnB is a great hotel!\"\"\")\n",
    "\n",
    "#----------------------------------#\n",
    "\n",
    "# Conclusion\n",
    "\n",
    "\"\"\"\n",
    "Great! Your chatbot can now help users even when they split their preferences over a few messages.\n",
    "\"\"\""
   ]
  },
  {
   "cell_type": "code",
   "execution_count": 8,
   "metadata": {
    "tags": []
   },
   "outputs": [
    {
     "data": {
      "text/plain": [
       "'\\n\\n'"
      ]
     },
     "execution_count": 8,
     "metadata": {},
     "output_type": "execute_result"
    }
   ],
   "source": [
    "# exercise 07\n",
    "\n",
    "\"\"\"\n",
    "Basic negation\n",
    "\n",
    "Quite often, you'll find your users telling you what they don't want - and that's important to understand! In general, negation is a difficult problem in NLP. Here, we'll take a very simple approach that works for many cases.\n",
    "\n",
    "A list of tests called tests has been defined for you. Explore it in the Shell - you'll find that each test is a tuple consisting of:\n",
    "\n",
    "    A string containing a message with entities.\n",
    "    A dictionary containing the entities as keys and a Boolean saying whether they are negated as the key.\n",
    "\n",
    "Your job is to define a function called negated_ents() which looks for negated entities in a message.\n",
    "\"\"\"\n",
    "\n",
    "# Instructions\n",
    "\n",
    "\"\"\"\n",
    "\n",
    "    Using list comprehension, check if the words \"south\" or \"north\" appear in the message and extract those entities.\n",
    "    Split the sentence into chunks ending with each entity. To do this:\n",
    "        Use the .index() method of phrase to find the starting index of each entity e and add the entity's length to it to find the index of the end of the entity.\n",
    "        Starting with start=0, take slices of the string from start to end for each end in ends. Append each slice of the sentence to the list, chunks. Ensure you update your starting position with each iteration.\n",
    "    For each entity, if \"not\" or \"n't\" appears in the chunk, consider this entity negated.\n",
    "\n",
    "\"\"\"\n",
    "\n",
    "# solution\n",
    "\n",
    "# Define negated_ents()\n",
    "def negated_ents(phrase):\n",
    "    # Extract the entities using keyword matching\n",
    "    ents = [e for e in [\"south\", \"north\"] if e in phrase]\n",
    "    # Find the index of the final character of each entity\n",
    "    ends = sorted([phrase.index(e) + len(e) for e in ents])\n",
    "    # Initialise a list to store sentence chunks\n",
    "    chunks = []\n",
    "    # Take slices of the sentence up to and including each entitiy\n",
    "    start = 0\n",
    "    for end in ends:\n",
    "        chunks.append(phrase[start:end])\n",
    "        start = end\n",
    "    result = {}\n",
    "    # Iterate over the chunks and look for entities\n",
    "    for chunk in chunks:\n",
    "        for ent in ents:\n",
    "            if ent in chunk:\n",
    "                # If the entity contains a negation, assign the key to be False\n",
    "                if \"not\" in chunk or \"n't\" in chunk:\n",
    "                    result[ent] = False\n",
    "                else:\n",
    "                    result[ent] = True\n",
    "    return result  \n",
    "\n",
    "# Check that the entities are correctly assigned as True or False\n",
    "for test in tests:\n",
    "    print(negated_ents(test[0]) == test[1])\n",
    "\n",
    "#----------------------------------#\n",
    "\n",
    "# Conclusion\n",
    "\n",
    "\"\"\"\n",
    "Well done! You didn't not get the right answer :)\n",
    "\"\"\""
   ]
  },
  {
   "cell_type": "code",
   "execution_count": 9,
   "metadata": {
    "tags": []
   },
   "outputs": [
    {
     "data": {
      "text/plain": [
       "'\\n\\n'"
      ]
     },
     "execution_count": 9,
     "metadata": {},
     "output_type": "execute_result"
    }
   ],
   "source": [
    "# exercise 08\n",
    "\n",
    "\"\"\"\n",
    "Filtering with excluded slots\n",
    "\n",
    "Now you're going to put together some of the ideas from previous exercises in order to allow users to tell your bot about what they do and do not want, split across multiple messages.\n",
    "\n",
    "The negated_ents() function has already been defined for you. Additionally, a slightly tweaked version of the find_hotels() function, which accepts a neg_params dictionary in addition to a params dictionary, has been defined.\n",
    "\"\"\"\n",
    "\n",
    "# Instructions\n",
    "\n",
    "\"\"\"\n",
    "\n",
    "    Define a respond() function which accepts a message, params, and neg_params as arguments.\n",
    "    Use the negated_ents() function with message and ent_vals as arguments. Store the result in negated.\n",
    "    Use the tweaked find_hotels() function with the params and neg_params dictionaries as arguments to find matching hotels. Store the result in results.\n",
    "    Initialize the params and neg_params dictionaries outside the respond() function and hit 'Submit Answer' to see the bot's responses!\n",
    "\n",
    "\"\"\"\n",
    "\n",
    "# solution\n",
    "\n",
    "# Define the respond function\n",
    "def respond(message, params, neg_params):\n",
    "    # Extract the entities\n",
    "    entities = interpreter.parse(message)[\"entities\"]\n",
    "    ent_vals = [e[\"value\"] for e in entities]\n",
    "    # Look for negated entities\n",
    "    negated = negated_ents(message, ent_vals)\n",
    "    for ent in entities:\n",
    "        if ent[\"value\"] in negated and negated[ent[\"value\"]]:\n",
    "            neg_params[ent[\"entity\"]] = str(ent[\"value\"])\n",
    "        else:\n",
    "            params[ent[\"entity\"]] = str(ent[\"value\"])\n",
    "    # Find the hotels\n",
    "    results = find_hotels(params, neg_params)\n",
    "    names = [r[0] for r in results]\n",
    "    n = min(len(results),3)\n",
    "    # Return the correct response\n",
    "    return responses[n].format(*names), params, neg_params\n",
    "\n",
    "# Initialize params and neg_params\n",
    "params = {}\n",
    "neg_params = {}\n",
    "\n",
    "# Pass the messages to the bot\n",
    "for message in [\"I want a cheap hotel\", \"but not in the north of town\"]:\n",
    "    print(\"USER: {}\".format(message))\n",
    "    response, params, neg_params = respond(message, params, neg_params)\n",
    "    print(\"BOT: {}\".format(response))\n",
    "\n",
    "#----------------------------------#\n",
    "\n",
    "# Conclusion\n",
    "\n",
    "\"\"\"\n",
    "Great work! Your bot can now handle just about any sequence of requests, with positive or negative preferences.\n",
    "\"\"\""
   ]
  }
 ],
 "metadata": {
  "kernelspec": {
   "display_name": "Python 3 (ipykernel)",
   "language": "python",
   "name": "python3"
  },
  "language_info": {
   "codemirror_mode": {
    "name": "ipython",
    "version": 3
   },
   "file_extension": ".py",
   "mimetype": "text/x-python",
   "name": "python",
   "nbconvert_exporter": "python",
   "pygments_lexer": "ipython3",
   "version": "3.11.5"
  }
 },
 "nbformat": 4,
 "nbformat_minor": 4
}
