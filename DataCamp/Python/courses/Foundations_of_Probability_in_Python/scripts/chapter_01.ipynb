{
 "cells": [
  {
   "cell_type": "code",
   "execution_count": 2,
   "metadata": {
    "tags": []
   },
   "outputs": [],
   "source": [
    "# run this to shorten the data import from the files\n",
    "path_data = '/home/nero/Documents/Estudos/DataCamp/Python/courses/Foundations_of_Probability_in_Python/datasets/'\n",
    "import numpy as np\n"
   ]
  },
  {
   "cell_type": "code",
   "execution_count": 17,
   "metadata": {},
   "outputs": [
    {
     "name": "stdout",
     "output_type": "stream",
     "text": [
      "[0]\n",
      "4\n",
      "2\n"
     ]
    },
    {
     "data": {
      "text/plain": [
       "'\\nAwesome! Doing more than one coin flip will give you some ideas about regularities in random data. Keep simulating.\\n'"
      ]
     },
     "execution_count": 17,
     "metadata": {},
     "output_type": "execute_result"
    }
   ],
   "source": [
    "# exercise 01\n",
    "\n",
    "\"\"\"\n",
    "Flipping coins\n",
    "\n",
    "This exercise requires the bernoulli object from the scipy.stats library to simulate the two possible outcomes from a coin flip, 1 (\"heads\") or 0 (\"tails\"), and the numpy library (loaded as np) to set the random generator seed.\n",
    "\n",
    "You'll use the bernoulli.rvs() function to simulate coin flips using the size argument.\n",
    "\n",
    "You will set the random seed so you can reproduce the results for the random experiment in each exercise.\n",
    "\n",
    "From each experiment, you will get the values of each coin flip. You can add the coin flips to get the number of heads after flipping 10 coins using the sum() function.\n",
    "\"\"\"\n",
    "\n",
    "# Instructions\n",
    "\n",
    "\"\"\"\n",
    "Import bernoulli from scipy.stats, set the seed with np.random.seed(). Simulate 1 flip, with a 35% chance of heads.\n",
    "\n",
    "Use bernoulli.rvs() and sum() to get the number of heads after 10 coin flips with 35% chance of getting heads.\n",
    "\n",
    "Using bernoulli.rvs() and sum(), try to get the number of heads after 5 flips with a 50% chance of getting heads.\n",
    "\"\"\"\n",
    "\n",
    "# solution\n",
    "\n",
    "# Import the bernoulli object from scipy.stats\n",
    "from scipy.stats import bernoulli\n",
    "\n",
    "# Set the random seed to reproduce the results\n",
    "np.random.seed(42)\n",
    "\n",
    "# Simulate one coin flip with 35% chance of getting heads\n",
    "coin_flip = bernoulli.rvs(p=0.35, size=1)\n",
    "print(coin_flip)\n",
    "\n",
    "#----------------------------------#\n",
    "\n",
    "# Simulate ten coin flips and get the number of heads\n",
    "ten_coin_flips = bernoulli.rvs(p=0.35, size=10)\n",
    "coin_flips_sum = sum(ten_coin_flips)\n",
    "print(coin_flips_sum)\n",
    "\n",
    "#----------------------------------#\n",
    "\n",
    "# Simulate ten coin flips and get the number of heads\n",
    "five_coin_flips = bernoulli.rvs(p=0.5, size=5)\n",
    "coin_flips_sum = sum(five_coin_flips)\n",
    "print(coin_flips_sum)\n",
    "\n",
    "#----------------------------------#\n",
    "\n",
    "# Conclusion\n",
    "\n",
    "\"\"\"\n",
    "Awesome! Doing more than one coin flip will give you some ideas about regularities in random data. Keep simulating.\n",
    "\"\"\""
   ]
  },
  {
   "cell_type": "code",
   "execution_count": 18,
   "metadata": {
    "tags": []
   },
   "outputs": [
    {
     "name": "stdout",
     "output_type": "stream",
     "text": [
      "[3 6 4 4 2 2 1 5 4 4 1 6 5 2 2 2 3 4 3 3]\n"
     ]
    },
    {
     "data": {
      "text/plain": [
       "\"\\nGreat job! Some probability distributions are the result of doing a random experiment many times. The binomial distribution is one example. Let's take a closer look at the binomial distribution and how probability is accumulated.\\n\""
      ]
     },
     "execution_count": 18,
     "metadata": {},
     "output_type": "execute_result"
    }
   ],
   "source": [
    "# exercise 02\n",
    "\n",
    "\"\"\"\n",
    "Using binom to flip even more coins\n",
    "\n",
    "Previously, you simulated 10 coin flips with a 35% chance of getting heads using bernoulli.rvs().\n",
    "\n",
    "This exercise loads the binom object from scipy.stats so you can use binom.rvs() to simulate 20 trials of 10 coin flips with a 35% chance of getting heads on each coin flip.\n",
    "\"\"\"\n",
    "\n",
    "# Instructions\n",
    "\n",
    "\"\"\"\n",
    "\n",
    "    Use the binom.rvs() function to simulate 20 trials of 10 coin flips with a 35% chance of getting heads.\n",
    "\n",
    "\"\"\"\n",
    "\n",
    "# solution\n",
    "\n",
    "# Set the random seed to reproduce the results\n",
    "np.random.seed(42)\n",
    "\n",
    "from scipy.stats import binom\n",
    "\n",
    "# Simulate 20 trials of 10 coin flips \n",
    "draws = binom.rvs(n=10, p=0.35, size=20)\n",
    "print(draws)\n",
    "\n",
    "#----------------------------------#\n",
    "\n",
    "# Conclusion\n",
    "\n",
    "\"\"\"\n",
    "Great job! Some probability distributions are the result of doing a random experiment many times. The binomial distribution is one example. Let's take a closer look at the binomial distribution and how probability is accumulated.\n",
    "\"\"\""
   ]
  },
  {
   "cell_type": "code",
   "execution_count": 19,
   "metadata": {
    "tags": []
   },
   "outputs": [
    {
     "name": "stdout",
     "output_type": "stream",
     "text": [
      "0.37160171437460954\n",
      "0.36416968008711675\n",
      "0.921572251649031\n"
     ]
    },
    {
     "data": {
      "text/plain": [
       "'\\nWell done! Many situations can be modeled with \"yes\" or \"no\" responses. Now you know how to test the quality of components from a supplier. Can you think of other situations that can be modeled with the binomial distribution?\\n'"
      ]
     },
     "execution_count": 19,
     "metadata": {},
     "output_type": "execute_result"
    }
   ],
   "source": [
    "# exercise 03\n",
    "\n",
    "\"\"\"\n",
    "Predicting the probability of defects\n",
    "\n",
    "Any situation with exactly two possible outcomes can be modeled with binomial random variables. For example, you could model if someone likes or dislikes a product, or if they voted or not.\n",
    "\n",
    "Let's model whether or not a component from a supplier comes with a defect. From the thousands of components that we got from a supplier, we are going to take a sample of 50, selected randomly. The agreed and accepted defect rate is 2%.\n",
    "\n",
    "We import the binom object from scipy.stats.\n",
    "\n",
    "Recall that:\n",
    "\n",
    "    binom.pmf() calculates the probability of having exactly k heads out of n coin flips.\n",
    "    binom.cdf() calculates the probability of having k heads or less out of n coin flips.\n",
    "    binom.sf() calculates the probability of having more than k heads out of n coin flips.\n",
    "\n",
    "\"\"\"\n",
    "\n",
    "# Instructions\n",
    "\n",
    "\"\"\"\n",
    "Question\n",
    "\n",
    "Let's answer a simple question before we start calculating probabilities:\n",
    "\n",
    "    What is the probability of getting more than 20 heads from a fair coin after 30 coin flips?\n",
    "(binom.sf(20,30,0.5))\n",
    "---\n",
    "Let's get started with our model for defective components.\n",
    "\n",
    "First, calculate the probability of getting exactly 1 defective component.\n",
    "---\n",
    "Next, calculate the probability of not getting any defective components.\n",
    "---\n",
    "Now calculate the probability of getting 2 or fewer defective components out of 50.\n",
    "\"\"\"\n",
    "\n",
    "# solution\n",
    "\n",
    "# Probability of getting exactly 1 defective component\n",
    "prob_one_defect = binom.pmf(k=1, n=50, p=0.02)\n",
    "print(prob_one_defect)\n",
    "\n",
    "#----------------------------------#\n",
    "\n",
    "# Probability of not getting any defective components\n",
    "prob_no_defects = binom.pmf(k=0, n=50, p=0.02)\n",
    "print(prob_no_defects)\n",
    "\n",
    "#----------------------------------#\n",
    "\n",
    "# Probability of getting 2 or less defective components\n",
    "prob_two_or_less_defects = binom.cdf(k=2, n=50, p=0.02)\n",
    "print(prob_two_or_less_defects)\n",
    "\n",
    "#----------------------------------#\n",
    "\n",
    "# Conclusion\n",
    "\n",
    "\"\"\"\n",
    "Well done! Many situations can be modeled with \"yes\" or \"no\" responses. Now you know how to test the quality of components from a supplier. Can you think of other situations that can be modeled with the binomial distribution?\n",
    "\"\"\""
   ]
  },
  {
   "cell_type": "code",
   "execution_count": 20,
   "metadata": {
    "tags": []
   },
   "outputs": [
    {
     "name": "stdout",
     "output_type": "stream",
     "text": [
      "0.2785857790625\n",
      "0.8939090951171875\n",
      "0.8939090951171875\n"
     ]
    },
    {
     "data": {
      "text/plain": [
       "\"\\nYou're picking up some great skills here. Many problems require you to calculate complements or to change the success case to make the calculations easier.\\n\""
      ]
     },
     "execution_count": 20,
     "metadata": {},
     "output_type": "execute_result"
    }
   ],
   "source": [
    "# exercise 04\n",
    "\n",
    "\"\"\"\n",
    "Predicting employment status\n",
    "\n",
    "Consider a survey about employment that contains the question \"Are you employed?\" It is known that 65% of respondents will answer \"yes.\" Eight survey responses have been collected.\n",
    "\n",
    "We load the binom object from scipy.stats with the following code: from scipy.stats import binom\n",
    "\n",
    "Answer the following questions using pmf(), cdf(), and sf().\n",
    "\"\"\"\n",
    "\n",
    "# Instructions\n",
    "\n",
    "\"\"\"\n",
    "Calculate the probability of getting exactly 5 yes responses.\n",
    "---\n",
    "Calculate the probability of getting 3 or fewer no responses.\n",
    "---\n",
    "Calculate the probability of getting more than 3 yes responses using binom.sf().\n",
    "\"\"\"\n",
    "\n",
    "# solution\n",
    "\n",
    "# Calculate the probability of getting exactly 5 yes responses\n",
    "prob_five_yes = binom.pmf(k=5, n=8, p=0.65)\n",
    "print(prob_five_yes)\n",
    "\n",
    "#----------------------------------#\n",
    "\n",
    "# Calculate the probability of getting 3 or less no responses\n",
    "prob_three_or_less_no = 1-binom.cdf(k=3, n=8, p=0.65)\n",
    "print(prob_three_or_less_no)\n",
    "\n",
    "#----------------------------------#\n",
    "\n",
    "# Calculate the probability of getting more than 3 yes responses\n",
    "prob_more_than_three_yes = binom.sf(k=3, n=8, p=0.65)\n",
    "print(prob_more_than_three_yes)\n",
    "\n",
    "#----------------------------------#\n",
    "\n",
    "# Conclusion\n",
    "\n",
    "\"\"\"\n",
    "You're picking up some great skills here. Many problems require you to calculate complements or to change the success case to make the calculations easier.\n",
    "\"\"\""
   ]
  },
  {
   "cell_type": "code",
   "execution_count": 21,
   "metadata": {
    "tags": []
   },
   "outputs": [
    {
     "name": "stdout",
     "output_type": "stream",
     "text": [
      "0.066060288\n",
      "0.08564172800000006\n",
      "0.4781506560000002\n",
      "0.4362265599999997\n"
     ]
    },
    {
     "data": {
      "text/plain": [
       "'\\nGreat work!! You can see that binom.sf(k=7, n=9, p=0.2) can be described as solving 8 or more burglaries or as solving more than 7. You can also see that the survival function calculates probabilities for more than the k value provided and that the cdf calculates probabilities for values equal to k or less. You can use these techniques to calculate probabilities for many types of events (be creative!). You just need to identify if you need a particular probability or cumulative probabilites to determine the function that best suits your needs.\\n'"
      ]
     },
     "execution_count": 21,
     "metadata": {},
     "output_type": "execute_result"
    }
   ],
   "source": [
    "# exercise 05\n",
    "\n",
    "\"\"\"\n",
    "Predicting burglary conviction rate\n",
    "\n",
    "There are many situations that can be modeled with only two outcomes: success or failure. This exercise presents a situation that can be modeled with a binomial distribution and gives you the opportunity to calculate probabilities using binom.pmf(), binom.cdf(), and binom.sf().\n",
    "\n",
    "The binom object from scipy.stats has been loaded for your convenience.\n",
    "\n",
    "Imagine that in your town there are many crimes, including burglaries, but only 20% of them get solved. Last week, there were 9 burglaries. Answer the following questions.\n",
    "\"\"\"\n",
    "\n",
    "# Instructions\n",
    "\n",
    "\"\"\"\n",
    "What is the probability of solving exactly 4 of the 9 total burglaries?\n",
    "---\n",
    "What is the probability of solving more than 3 of the 9 burglaries?\n",
    "---\n",
    "What is the probability of solving exactly 2 or 3 of the 9 burglaries?\n",
    "---\n",
    "What is the probability of solving 1 or fewer or more than 7 of the 9 burglaries?\n",
    "\"\"\"\n",
    "\n",
    "# solution\n",
    "\n",
    "# What is the probability of solving 4 burglaries?\n",
    "four_solved = binom.pmf(k=4, n=9, p=0.2)\n",
    "print(four_solved)\n",
    "\n",
    "#----------------------------------#\n",
    "\n",
    "# What is the probability of solving more than 3 burglaries?\n",
    "more_than_three_solved = binom.sf(k=3, n=9, p=0.2)\n",
    "print(more_than_three_solved)\n",
    "\n",
    "#----------------------------------#\n",
    "\n",
    "# What is the probability of solving 2 or 3 burglaries?\n",
    "two_or_three_solved = binom.pmf(k=2, n=9, p=0.2) + binom.pmf(k=3, n=9, p=0.2)\n",
    "print(two_or_three_solved)\n",
    "\n",
    "#----------------------------------#\n",
    "\n",
    "# What is the probability of solving 1 or fewer or more than 7 burglaries?\n",
    "tail_probabilities = binom.cdf(k=1,n=9,p=0.2) + binom.sf(k=7,n=9,p=0.2)\n",
    "print(tail_probabilities)\n",
    "\n",
    "#----------------------------------#\n",
    "\n",
    "# Conclusion\n",
    "\n",
    "\"\"\"\n",
    "Great work!! You can see that binom.sf(k=7, n=9, p=0.2) can be described as solving 8 or more burglaries or as solving more than 7. You can also see that the survival function calculates probabilities for more than the k value provided and that the cdf calculates probabilities for values equal to k or less. You can use these techniques to calculate probabilities for many types of events (be creative!). You just need to identify if you need a particular probability or cumulative probabilites to determine the function that best suits your needs.\n",
    "\"\"\""
   ]
  },
  {
   "cell_type": "code",
   "execution_count": 23,
   "metadata": {
    "tags": []
   },
   "outputs": [
    {
     "name": "stdout",
     "output_type": "stream",
     "text": [
      "0.51\n",
      "0.511\n",
      "0.502\n"
     ]
    },
    {
     "data": {
      "text/plain": [
       "'\\nWell done! You can generate a sample with different characteristics and measure the sample mean. Notice how the sample mean converges to the expected value of 0.5.\\n'"
      ]
     },
     "execution_count": 23,
     "metadata": {},
     "output_type": "execute_result"
    }
   ],
   "source": [
    "# exercise 06\n",
    "\n",
    "\"\"\"\n",
    "Calculating the sample mean\n",
    "\n",
    "Simulation involves generating samples and then measuring. In this exercise, we'll generate some samples and calculate the sample mean with the describe() method. See what you observe about the sample mean as the number of samples increases.\n",
    "\n",
    "We've preloaded the binom object and the describe() method from scipy.stats for you, so you can calculate some values.\n",
    "\"\"\"\n",
    "\n",
    "# Instructions\n",
    "\n",
    "\"\"\"\n",
    "Generate a sample of 100 fair coin flips using .rvs() and calculate the sample mean using describe().\n",
    "---\n",
    "Generate a sample of 1,000 fair coin flips and calculate the sample mean.\n",
    "---\n",
    "Generate a sample of 2,000 fair coin flips and calculate the sample mean.\n",
    "\"\"\"\n",
    "\n",
    "# solution\n",
    "\n",
    "from scipy.stats import describe\n",
    "\n",
    "# Sample mean from a generated sample of 100 fair coin flips\n",
    "sample_of_100_flips = binom.rvs(n=1, p=0.5, size=100)\n",
    "sample_mean_100_flips = describe(sample_of_100_flips).mean\n",
    "print(sample_mean_100_flips)\n",
    "\n",
    "#----------------------------------#\n",
    "\n",
    "# Sample mean from a generated sample of 1,000 fair coin flips\n",
    "sample_mean_1000_flips = describe(binom.rvs(n=1, p=0.5, size=1000)).mean\n",
    "print(sample_mean_1000_flips)\n",
    "\n",
    "#----------------------------------#\n",
    "\n",
    "# Sample mean from a generated sample of 2,000 fair coin flips\n",
    "sample_mean_2000_flips = describe(binom.rvs(n=1, p=0.5, size=2000)).mean\n",
    "print(sample_mean_2000_flips)\n",
    "\n",
    "#----------------------------------#\n",
    "\n",
    "# Conclusion\n",
    "\n",
    "\"\"\"\n",
    "Well done! You can generate a sample with different characteristics and measure the sample mean. Notice how the sample mean converges to the expected value of 0.5.\n",
    "\"\"\""
   ]
  },
  {
   "cell_type": "code",
   "execution_count": 27,
   "metadata": {
    "tags": []
   },
   "outputs": [
    {
     "name": "stdout",
     "output_type": "stream",
     "text": [
      "3.0425 2.0697286143071536 3.0 2.0999999999999996 (3.0, 2.0999999999999996)\n"
     ]
    },
    {
     "data": {
      "text/plain": [
       "'\\nLooks good!! Now you can use the expected value and variance of a binomial distribution to determine the most likely outcome and see how spread out the data is from the expected value.\\n'"
      ]
     },
     "execution_count": 27,
     "metadata": {},
     "output_type": "execute_result"
    }
   ],
   "source": [
    "# exercise 07\n",
    "\n",
    "\"\"\"\n",
    "Checking the result\n",
    "\n",
    "Now try generating some samples and calculating the expected value and variance yourself, then using the method provided by binom to check if the sample values match the theoretical values.\n",
    "\n",
    "The binom object and describe() method from scipy.stats are already loaded, so you can make the calculations.\n",
    "\"\"\"\n",
    "\n",
    "# Instructions\n",
    "\n",
    "\"\"\"\n",
    "\n",
    "    Calculate the sample mean and variance of the sample variable.\n",
    "    Calculate the expected value using n=10 and p=0.3, and calculate the variance using mean, and 1 - p.\n",
    "    Use a binom method to get the expected value and variance for 10 coin flips with p=0.3.\n",
    "\n",
    "\"\"\"\n",
    "\n",
    "# solution\n",
    "\n",
    "sample = binom.rvs(n=10, p=0.3, size=2000)\n",
    "\n",
    "# Calculate the sample mean and variance from the sample variable\n",
    "sample_describe = describe(sample)\n",
    "\n",
    "# Calculate the sample mean using the values of n and p\n",
    "mean = 10*0.3\n",
    "\n",
    "# Calculate the sample variance using the value of 1-p\n",
    "variance = mean*(1-0.3)\n",
    "\n",
    "# Calculate the sample mean and variance for 10 coin flips with p=0.3\n",
    "binom_stats = binom.stats(n=10, p=0.3)\n",
    "\n",
    "print(sample_describe.mean, sample_describe.variance, mean, variance, binom_stats)\n",
    "\n",
    "#----------------------------------#\n",
    "\n",
    "# Conclusion\n",
    "\n",
    "\"\"\"\n",
    "Looks good!! Now you can use the expected value and variance of a binomial distribution to determine the most likely outcome and see how spread out the data is from the expected value.\n",
    "\"\"\""
   ]
  },
  {
   "cell_type": "code",
   "execution_count": 28,
   "metadata": {
    "tags": []
   },
   "outputs": [
    {
     "name": "stdout",
     "output_type": "stream",
     "text": [
      "Mean 2.513\n",
      "Variance 1.8658444444444446\n",
      "(2.5, 1.875)\n"
     ]
    },
    {
     "data": {
      "text/plain": [
       "'\\nThat was awesome! Simulated data is very important for modeling random phenomena. You can always check if your data follows the intended distribution. Repeating experiments and taking means will give you insight about probability and will introduce you to statistics as you find regularities. scipy.stats offers many functions to generate simulated data and describe it. Experiment some more, always checking your simulation results against the expected results.\\n'"
      ]
     },
     "execution_count": 28,
     "metadata": {},
     "output_type": "execute_result"
    }
   ],
   "source": [
    "# exercise 08\n",
    "\n",
    "\"\"\"\n",
    "Calculating the mean and variance of a sample\n",
    "\n",
    "Now that you're familiar with working with coin flips using the binom object and calculating the mean and variance, let's try simulating a larger number of coin flips and calculating the sample mean and variance. Comparing this with the theoretical mean and variance will allow you to check if your simulated data follows the distribution you want.\n",
    "\n",
    "We've preloaded the binom object and the describe() method from scipy.stats for you, as well as creating an empty list called averages to store the mean of the sample variable and a variable called variances to store the variance of the sample variable.\n",
    "\"\"\"\n",
    "\n",
    "# Instructions\n",
    "\n",
    "\"\"\"\n",
    "\n",
    "    Inside a loop, create a sample variable with 10 trials of 10 coin flips with 25% probability of getting heads.\n",
    "---\n",
    "\n",
    "    Using the describe() function, calculate the mean of the provided averages array.\n",
    "    Using the describe() function, calculate the mean of the provided variances array.\n",
    "---\n",
    "\n",
    "    Using the binom.stats() function, calculate the theoretical mean and variance using 10 coin flips and a 25% probability of getting heads and compare your results from the previous exercise to the expected values for the mean and variance.\n",
    "\n",
    "\"\"\"\n",
    "\n",
    "# solution\n",
    "\n",
    "averages = []\n",
    "variances = []\n",
    "\n",
    "for i in range(0, 1500):\n",
    "\t# 10 draws of 10 coin flips with 25% probability of heads\n",
    "    sample = binom.rvs(n=10, p=0.25, size=10)\n",
    "\t# Mean and variance of the values in the sample variable\n",
    "    averages.append(describe(sample).mean)\n",
    "    variances.append(describe(sample).variance)\n",
    "  \n",
    "# Calculate the mean of the averages variable\n",
    "print(\"Mean {}\".format(describe(averages).mean))\n",
    "\n",
    "# Calculate the mean of the variances variable\n",
    "print(\"Variance {}\".format(describe(variances).mean))\n",
    "\n",
    "# Calculate the mean and variance\n",
    "print(binom.stats(n=10, p=0.25))\n",
    "\n",
    "#----------------------------------#\n",
    "\n",
    "# Conclusion\n",
    "\n",
    "\"\"\"\n",
    "That was awesome! Simulated data is very important for modeling random phenomena. You can always check if your data follows the intended distribution. Repeating experiments and taking means will give you insight about probability and will introduce you to statistics as you find regularities. scipy.stats offers many functions to generate simulated data and describe it. Experiment some more, always checking your simulation results against the expected results.\n",
    "\"\"\""
   ]
  }
 ],
 "metadata": {
  "kernelspec": {
   "display_name": "Python 3 (ipykernel)",
   "language": "python",
   "name": "python3"
  },
  "language_info": {
   "codemirror_mode": {
    "name": "ipython",
    "version": 3
   },
   "file_extension": ".py",
   "mimetype": "text/x-python",
   "name": "python",
   "nbconvert_exporter": "python",
   "pygments_lexer": "ipython3",
   "version": "3.11.5"
  }
 },
 "nbformat": 4,
 "nbformat_minor": 4
}
