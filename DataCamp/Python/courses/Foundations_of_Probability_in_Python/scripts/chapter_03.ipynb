{
 "cells": [
  {
   "cell_type": "code",
   "execution_count": 1,
   "metadata": {
    "tags": []
   },
   "outputs": [],
   "source": [
    "# run this to shorten the data import from the files\n",
    "path_data = ''\n"
   ]
  },
  {
   "cell_type": "code",
   "execution_count": 4,
   "metadata": {},
   "outputs": [
    {
     "name": "stderr",
     "output_type": "stream",
     "text": [
      "/home/nero/Documents/Estudos/estudos/lib/python3.11/site-packages/seaborn/axisgrid.py:118: UserWarning: The figure layout has changed to tight\n",
      "  self._figure.tight_layout(*args, **kwargs)\n"
     ]
    },
    {
     "data": {
      "image/png": "[encoded data removed]",
      "text/plain": [
       "<Figure size 500x500 with 1 Axes>"
      ]
     },
     "metadata": {},
     "output_type": "display_data"
    },
    {
     "data": {
      "text/plain": [
       "\"\\nExcellent!! You can see how the samples form a bell-shaped probability density plot. Now you can plot any normal distribution in Python. Let's move on to another exercise!\\n\""
      ]
     },
     "execution_count": 4,
     "metadata": {},
     "output_type": "execute_result"
    }
   ],
   "source": [
    "# exercise 01\n",
    "\n",
    "\"\"\"\n",
    "Plotting normal distributions\n",
    "\n",
    "A certain restaurant chain has been collecting data about customer spending. The data shows that the spending is approximately normally distributed, with a mean of $3.15 and a standard deviation of $1.50 per customer.\n",
    "\"\"\"\n",
    "\n",
    "# Instructions\n",
    "\n",
    "\"\"\"\n",
    "\n",
    "    Import norm from scipy.stats, matplotlib.pyplot as plt, and seaborn as sns.\n",
    "    Generate a normal distribution sample with mean 3.15 and standard deviation 1.5.\n",
    "    Plot the sample generated.\n",
    "\n",
    "\"\"\"\n",
    "\n",
    "# solution\n",
    "\n",
    "# Import norm, matplotlib.pyplot, and seaborn\n",
    "from scipy.stats import norm\n",
    "import matplotlib.pyplot as plt\n",
    "import seaborn as sns\n",
    "\n",
    "# Create the sample using norm.rvs()\n",
    "sample = norm.rvs(loc=3.15, scale=1.5, size=10000, random_state=13)\n",
    "\n",
    "# Plot the sample\n",
    "sns.displot(sample, kde=True)\n",
    "plt.show()\n",
    "\n",
    "#----------------------------------#\n",
    "\n",
    "# Conclusion\n",
    "\n",
    "\"\"\"\n",
    "Excellent!! You can see how the samples form a bell-shaped probability density plot. Now you can plot any normal distribution in Python. Let's move on to another exercise!\n",
    "\"\"\""
   ]
  },
  {
   "cell_type": "code",
   "execution_count": 5,
   "metadata": {
    "tags": []
   },
   "outputs": [
    {
     "name": "stdout",
     "output_type": "stream",
     "text": [
      "0.46017216272297107\n",
      "0.10872571321259111\n",
      "0.4950149249061543\n",
      "0.5049850750938457\n"
     ]
    },
    {
     "data": {
      "text/plain": [
       "\"\\nNice job! These are the most common kinds of calculations with normal distributions. You can use these techniques to calculate probabilities and gain insight into various datasets. Let's take a look at another example.\\n\""
      ]
     },
     "execution_count": 5,
     "metadata": {},
     "output_type": "execute_result"
    }
   ],
   "source": [
    "# exercise 02\n",
    "\n",
    "\"\"\"\n",
    "Restaurant spending example\n",
    "\n",
    "Let's go back to the example of the restaurant chain that has been collecting data about customer spending. Recall that the data shows that the spending is approximately normally distributed, with a mean of 3.15 and a standard deviation of 1.5 per customer, as pictured in the plot.\n",
    "\n",
    "Spending distribution\n",
    "\n",
    "We can use the already imported norm object from scipy.stats to answer several questions about customer spending at this restaurant chain.\n",
    "\"\"\"\n",
    "\n",
    "# Instructions\n",
    "\n",
    "\"\"\"\n",
    "What is the probability that a customer will spend $3 or less?\n",
    "---\n",
    "What is the probability that a customer will spend more than $5?\n",
    "---\n",
    "What is the probability that a customer will spend more than $2.15 and $4.15 or less?\n",
    "---\n",
    "What is the probability that a customer will spend $2.15 or less or more than $4.15?\n",
    "\"\"\"\n",
    "\n",
    "# solution\n",
    "\n",
    "# Probability of spending $3 or less\n",
    "spending = norm.cdf(3, loc=3.15, scale=1.5)\n",
    "print(spending)\n",
    "\n",
    "#----------------------------------#\n",
    "\n",
    "# Probability of spending more than $5\n",
    "spending = norm.sf(5, loc=3.15, scale=1.5)\n",
    "print(spending)\n",
    "\n",
    "#----------------------------------#\n",
    "\n",
    "# Probability of spending more than $2.15 and $4.15 or less\n",
    "spending_4 = norm.cdf(4.15, loc=3.15, scale=1.5)\n",
    "spending_2 = norm.cdf(2.15, loc=3.15, scale=1.5)\n",
    "print(spending_4 - spending_2)\n",
    "\n",
    "#----------------------------------#\n",
    "\n",
    "# Probability of spending $2.15 or less or more than $4.15\n",
    "spending_2 = norm.cdf(2.15, loc=3.15, scale=1.5)\n",
    "spending_over_4 = norm.sf(4.15, loc=3.15, scale=1.5) \n",
    "print(spending_2 + spending_over_4)\n",
    "\n",
    "#----------------------------------#\n",
    "\n",
    "# Conclusion\n",
    "\n",
    "\"\"\"\n",
    "Nice job! These are the most common kinds of calculations with normal distributions. You can use these techniques to calculate probabilities and gain insight into various datasets. Let's take a look at another example.\n",
    "\"\"\""
   ]
  },
  {
   "cell_type": "code",
   "execution_count": 6,
   "metadata": {
    "tags": []
   },
   "outputs": [
    {
     "name": "stdout",
     "output_type": "stream",
     "text": [
      "0.09121121972586788\n",
      "0.9087887802741321\n",
      "0.4087887802741321\n"
     ]
    },
    {
     "data": {
      "text/plain": [
       "\"\\nGood job! You've accomplished a lot. Now you can calculate probabilities for intervals and tail probabilities to model many different situations and make better decisions.\\n\""
      ]
     },
     "execution_count": 6,
     "metadata": {},
     "output_type": "execute_result"
    }
   ],
   "source": [
    "# exercise 03\n",
    "\n",
    "\"\"\"\n",
    "Smartphone battery example\n",
    "\n",
    "One of the most important things to consider when buying a smartphone is how long the battery will last.\n",
    "\n",
    "Suppose the period of time between charges can be modeled with a normal distribution with a mean of 5 hours and a standard deviation of 1.5 hours.\n",
    "\n",
    "A friend wants to buy a smartphone and is asking you the following questions.\n",
    "\n",
    "norm is already imported from scipy.stats.\n",
    "\"\"\"\n",
    "\n",
    "# Instructions\n",
    "\n",
    "\"\"\"\n",
    "What is the probability that the battery will last less than 3 hours?\n",
    "---\n",
    "What is the probability that the battery will last more than 3 hours?\n",
    "---\n",
    "What is the probability that the battery will last between 5 and 7 hours?\n",
    "\"\"\"\n",
    "\n",
    "# solution\n",
    "\n",
    "# Probability that battery will last less than 3 hours\n",
    "less_than_3h = norm.cdf(3, loc=5, scale=1.5)\n",
    "print(less_than_3h)\n",
    "\n",
    "#----------------------------------#\n",
    "\n",
    "# Probability that battery will last more than 3 hours\n",
    "more_than_3h = norm.sf(3, loc=5, scale=1.5)\n",
    "print(more_than_3h)\n",
    "\n",
    "#----------------------------------#\n",
    "\n",
    "# Probability that battery will last between 5 and 7 hours\n",
    "P_less_than_7h = norm.cdf(7, loc=5, scale=1.5)\n",
    "P_less_than_5h = norm.cdf(5, loc=5, scale=1.5)\n",
    "print(P_less_than_7h - P_less_than_5h)\n",
    "\n",
    "#----------------------------------#\n",
    "\n",
    "# Conclusion\n",
    "\n",
    "\"\"\"\n",
    "Good job! You've accomplished a lot. Now you can calculate probabilities for intervals and tail probabilities to model many different situations and make better decisions.\n",
    "\"\"\""
   ]
  },
  {
   "cell_type": "code",
   "execution_count": 7,
   "metadata": {
    "tags": []
   },
   "outputs": [
    {
     "name": "stdout",
     "output_type": "stream",
     "text": [
      "(61.51939740876586, 68.48060259123413)\n",
      "79.30539149616337\n",
      "0.2266273523768682 0.011135489479616392\n",
      "0.012224472655044696 0.12654895447355774\n"
     ]
    },
    {
     "data": {
      "text/plain": [
       "\"\\nGreat work! You can apply what you've learned here to answer all kinds of questions about normally distributed data. Now let's move on to the Poisson distribution.\\n\""
      ]
     },
     "execution_count": 7,
     "metadata": {},
     "output_type": "execute_result"
    }
   ],
   "source": [
    "# exercise 04\n",
    "\n",
    "\"\"\"\n",
    "Adults' heights example\n",
    "\n",
    "The heights of adults aged between 18 and 35 years are normally distributed. For males, the mean height is 70 inches with a standard deviation of 4. Adult females have a mean height of 65 inches with a standard deviation of 3.5. You can see how the heights are distributed in this plot:\n",
    "\n",
    "Adults heights distribution for male and female\n",
    "\n",
    "Using the previous information, complete the following exercises.\n",
    "\n",
    "For your convenience, norm has been imported from the library scipy.stats.\n",
    "\"\"\"\n",
    "\n",
    "# Instructions\n",
    "\n",
    "\"\"\"\n",
    "Print the range of female heights one standard deviation from the mean.\n",
    "---\n",
    "Print the value where the tallest males fall with 0.01 probability.\n",
    "---\n",
    "Print the probability of being taller than 73 inches for a male and for a female.\n",
    "---\n",
    "Print the probability of being shorter than 61 inches for a male and for a female.\n",
    "\"\"\"\n",
    "\n",
    "# solution\n",
    "\n",
    "# Values one standard deviation from mean height for females\n",
    "interval = norm.interval(0.68, loc=65, scale=3.5)\n",
    "print(interval)\n",
    "\n",
    "#----------------------------------#\n",
    "\n",
    "# Value where the tallest males fall with 0.01 probability\n",
    "tallest = norm.ppf(0.99, loc=70, scale=4)\n",
    "print(tallest)\n",
    "\n",
    "#----------------------------------#\n",
    "\n",
    "# Probability of being taller than 73 inches for males and females\n",
    "P_taller_male = norm.sf(73, loc=70, scale=4)\n",
    "P_taller_female = norm.sf(73, loc=65, scale=3.5)\n",
    "print(P_taller_male, P_taller_female)\n",
    "\n",
    "#----------------------------------#\n",
    "\n",
    "# Probability of being shorter than 61 inches for males and females\n",
    "P_shorter_male = norm.cdf(61, loc=70, scale=4)\n",
    "P_shorter_female = norm.cdf(61, loc=65, scale=3.5)\n",
    "print(P_shorter_male, P_shorter_female)\n",
    "\n",
    "#----------------------------------#\n",
    "\n",
    "# Conclusion\n",
    "\n",
    "\"\"\"\n",
    "Great work! You can apply what you've learned here to answer all kinds of questions about normally distributed data. Now let's move on to the Poisson distribution.\n",
    "\"\"\""
   ]
  },
  {
   "cell_type": "code",
   "execution_count": 8,
   "metadata": {
    "tags": []
   },
   "outputs": [
    {
     "name": "stdout",
     "output_type": "stream",
     "text": [
      "0.2642411176571153\n"
     ]
    },
    {
     "data": {
      "text/plain": [
       "\"\\nYou're doing great, keep it up! In almost 1 out of 4 cases one customer will have to wait in line. There's a 0.26 probability that the bank will need another ATM to handle the traffic. Let's move on to another exercise.\\n\""
      ]
     },
     "execution_count": 8,
     "metadata": {},
     "output_type": "execute_result"
    }
   ],
   "source": [
    "# exercise 05\n",
    "\n",
    "\"\"\"\n",
    "ATM example\n",
    "\n",
    "If you know how many specific events occurred per unit of measure, you can assume that the distribution of the random variable follows a Poisson distribution to study the phenomenon.\n",
    "\n",
    "Consider an ATM (automatic teller machine) at a very busy shopping mall. The bank wants to avoid making customers wait in line to use the ATM. It has been observed that the average number of customers making withdrawals between 10:00 a.m. and 10:05 a.m. on any given day is 1.\n",
    "\n",
    "As a data analyst at the bank, you are asked what the probability is that the bank will need to install another ATM to handle the load.\n",
    "\n",
    "To answer the question, you need to calculate the probability of getting more than one customer during that time period.\n",
    "\"\"\"\n",
    "\n",
    "# Instructions\n",
    "\n",
    "\"\"\"\n",
    "\n",
    "    Import poisson from scipy.stats.\n",
    "    Calculate the probability of having more than one customer visiting the ATM in this 5-minute period.\n",
    "\n",
    "\"\"\"\n",
    "\n",
    "# solution\n",
    "\n",
    "# Import poisson from scipy.stats\n",
    "from scipy.stats import poisson\n",
    "\n",
    "# Probability of more than 1 customer\n",
    "probability = poisson.sf(k=1, mu=1)\n",
    "\n",
    "# Print the result\n",
    "print(probability)\n",
    "\n",
    "#----------------------------------#\n",
    "\n",
    "# Conclusion\n",
    "\n",
    "\"\"\"\n",
    "You're doing great, keep it up! In almost 1 out of 4 cases one customer will have to wait in line. There's a 0.26 probability that the bank will need another ATM to handle the traffic. Let's move on to another exercise.\n",
    "\"\"\""
   ]
  },
  {
   "cell_type": "code",
   "execution_count": 9,
   "metadata": {
    "tags": []
   },
   "outputs": [
    {
     "name": "stdout",
     "output_type": "stream",
     "text": [
      "0.03608940886309672\n",
      "0.12631293102083851\n",
      "0.14287653950145296\n",
      "3.0\n"
     ]
    },
    {
     "data": {
      "text/plain": [
       "\"\\nVery good!! You've now done the most important probability calculations with the Poisson distribution. There's a 0.75 probability of there being 3 accidents on any given day. This makes sense intuitively, because the mean is 2. If you have a problem that can be modeled with a Poisson variable, you can calculate some interesting probabilities. With practice, you'll master these techniques. Let's take a look at another example.\\n\""
      ]
     },
     "execution_count": 9,
     "metadata": {},
     "output_type": "execute_result"
    }
   ],
   "source": [
    "# exercise 06\n",
    "\n",
    "\"\"\"\n",
    "Highway accidents example\n",
    "\n",
    "On a certain turn on a very busy highway, there are 2 accidents per day. Let's assume the number of accidents per day can be modeled as a Poisson random variable and is distributed as in the following plot:\n",
    "\n",
    "Probability mass function\n",
    "\n",
    "For your convenience, the poisson object has already been imported from the scipy.stats library.\n",
    "\n",
    "Aiming to improve road safety, the transportation agency of the regional government has assigned you the following tasks.\n",
    "\"\"\"\n",
    "\n",
    "# Instructions\n",
    "\n",
    "\"\"\"\n",
    "Determine and print the probability of there being 5 accidents on any day.\n",
    "---\n",
    "Determine and print the probability of having 4 or 5 accidents on any day.\n",
    "---\n",
    "Determine and print the probability of having more than 3 accidents on any day.\n",
    "---\n",
    "Determine and print the number of accidents that is likely to happen with 0.75 probability.\n",
    "\"\"\"\n",
    "\n",
    "# solution\n",
    "\n",
    "# Import the poisson object\n",
    "from scipy.stats import poisson\n",
    "\n",
    "# Probability of 5 accidents any day\n",
    "P_five_accidents = poisson.pmf(k=5, mu=2)\n",
    "\n",
    "# Print the result\n",
    "print(P_five_accidents)\n",
    "\n",
    "#----------------------------------#\n",
    "\n",
    "# Import the poisson object\n",
    "from scipy.stats import poisson\n",
    "\n",
    "# Probability of having 4 or 5 accidents on any day\n",
    "P_less_than_6 = poisson.cdf(k=5, mu=2)\n",
    "P_less_than_4 = poisson.cdf(k=3, mu=2)\n",
    "\n",
    "# Print the result\n",
    "print(P_less_than_6 - P_less_than_4)\n",
    "\n",
    "#----------------------------------#\n",
    "\n",
    "# Import the poisson object\n",
    "from scipy.stats import poisson\n",
    "\n",
    "# Probability of more than 3 accidents any day\n",
    "P_more_than_3 = poisson.sf(k=3, mu=2)\n",
    "\n",
    "# Print the result\n",
    "print(P_more_than_3)\n",
    "\n",
    "#----------------------------------#\n",
    "\n",
    "# Import the poisson object\n",
    "from scipy.stats import poisson\n",
    "\n",
    "# Number of accidents with 0.75 probability\n",
    "accidents = poisson.ppf(q=0.75, mu=2)\n",
    "\n",
    "# Print the result\n",
    "print(accidents)\n",
    "\n",
    "#----------------------------------#\n",
    "\n",
    "# Conclusion\n",
    "\n",
    "\"\"\"\n",
    "Very good!! You've now done the most important probability calculations with the Poisson distribution. There's a 0.75 probability of there being 3 accidents on any given day. This makes sense intuitively, because the mean is 2. If you have a problem that can be modeled with a Poisson variable, you can calculate some interesting probabilities. With practice, you'll master these techniques. Let's take a look at another example.\n",
    "\"\"\""
   ]
  },
  {
   "cell_type": "code",
   "execution_count": 10,
   "metadata": {
    "tags": []
   },
   "outputs": [
    {
     "name": "stderr",
     "output_type": "stream",
     "text": [
      "/home/nero/Documents/Estudos/estudos/lib/python3.11/site-packages/seaborn/axisgrid.py:118: UserWarning: The figure layout has changed to tight\n",
      "  self._figure.tight_layout(*args, **kwargs)\n"
     ]
    },
    {
     "data": {
      "image/png": "[encoded data removed]",
      "text/plain": [
       "<Figure size 500x500 with 1 Axes>"
      ]
     },
     "metadata": {},
     "output_type": "display_data"
    },
    {
     "data": {
      "text/plain": [
       "\"\\nExcellent! If you want to simulate Poisson random variables, you already know how to generate a sample and plot it. You're building up your toolbox! Let's move on.\\n\""
      ]
     },
     "execution_count": 10,
     "metadata": {},
     "output_type": "execute_result"
    }
   ],
   "source": [
    "# exercise 07\n",
    "\n",
    "\"\"\"\n",
    "Generating and plotting Poisson distributions\n",
    "\n",
    "In the previous exercise, you calculated some probabilities. Now let's plot that distribution.\n",
    "\n",
    "Recall that on a certain highway turn, there are 2 accidents per day on average. Assuming the number of accidents per day can be modeled as a Poisson random variable, let's plot the distribution.\n",
    "\"\"\"\n",
    "\n",
    "# Instructions\n",
    "\n",
    "\"\"\"\n",
    "\n",
    "    Import poisson from scipy.stats, matplotlib.pyplot as plt, and seaborn as sns.\n",
    "    Generate a Poisson distribution sample with size=10000 and mu=2.\n",
    "    Plot the sample generated.\n",
    "\n",
    "\"\"\"\n",
    "\n",
    "# solution\n",
    "\n",
    "# Import poisson, matplotlib.pyplot, and seaborn\n",
    "from scipy.stats import poisson\n",
    "import matplotlib.pyplot as plt\n",
    "import seaborn as sns\n",
    "\n",
    "# Create the sample\n",
    "sample = poisson.rvs(mu=2, size=10000, random_state=13)\n",
    "\n",
    "# Plot the sample\n",
    "sns.displot(sample, kde=False)\n",
    "plt.show()\n",
    "\n",
    "#----------------------------------#\n",
    "\n",
    "# Conclusion\n",
    "\n",
    "\"\"\"\n",
    "Excellent! If you want to simulate Poisson random variables, you already know how to generate a sample and plot it. You're building up your toolbox! Let's move on.\n",
    "\"\"\""
   ]
  },
  {
   "cell_type": "code",
   "execution_count": 12,
   "metadata": {
    "tags": []
   },
   "outputs": [
    {
     "name": "stdout",
     "output_type": "stream",
     "text": [
      "0.031119146037000004\n",
      "0.12669313451096792\n",
      "0.4920343187252892\n",
      "68.0\n"
     ]
    },
    {
     "data": {
      "text/plain": [
       "\"\\nImpressive! The grizzly bear has to do a lot of work to catch a salmon -- it has a 0.9 probability of catching one in 68 attempts. In many situations we have to try until we succeed. Can you think of any cases you could model with a geometric distribution? Let's keep practicing with a case in sports!\\n\""
      ]
     },
     "execution_count": 12,
     "metadata": {},
     "output_type": "execute_result"
    }
   ],
   "source": [
    "# exercise 08\n",
    "\n",
    "\"\"\"\n",
    "Catching salmon example\n",
    "\n",
    "Every fall the salmon run occurs -- this is the time when salmon swim back upriver from the ocean to spawn. While swimming back to the upper river (usually to the place where they were spawned), the fish may encounter grizzly bears. Some of these bears can eat 18 salmon in 3 hours, and they have a 0.0333 probability of success in their attempts to catch a fish.\n",
    "\n",
    "Grizzly bears catching salmons\n",
    "\n",
    "We can model a grizzly bear catching salmon with a geometric distribution.\n",
    "\n",
    "For the following exercises, the geom object from scipy.stats has already been loaded for your convenience.\n",
    "\"\"\"\n",
    "\n",
    "# Instructions\n",
    "\n",
    "\"\"\"\n",
    "Calculate and print the probability that the bear will catch a salmon on its third attempt, after failing two times.\n",
    "---\n",
    "Calculate and print the probability that the bear will get a salmon in less than 5 attempts.\n",
    "---\n",
    "Calculate and print the probability that the bear will get a salmon in less than 21 attempts.\n",
    "---\n",
    "Calculate and print how many attempts the bear has to make to have a 0.9 probability of catching a salmon.\n",
    "\"\"\"\n",
    "\n",
    "# solution\n",
    "\n",
    "from scipy.stats import geom\n",
    "\n",
    "# Getting a salmon on the third attempt\n",
    "probability = geom.pmf(k=3, p=0.0333)\n",
    "\n",
    "# Print the result\n",
    "print(probability)\n",
    "\n",
    "#----------------------------------#\n",
    "\n",
    "# Probability of getting a salmon in less than 5 attempts\n",
    "probability = geom.cdf(k=4, p=0.0333)\n",
    "\n",
    "# Print the result\n",
    "print(probability)\n",
    "\n",
    "#----------------------------------#\n",
    "\n",
    "# Probability of getting a salmon in less than 21 attempts\n",
    "probability = geom.cdf(k=20, p=0.0333)\n",
    "\n",
    "# Print the result\n",
    "print(probability)\n",
    "\n",
    "#----------------------------------#\n",
    "\n",
    "# Attempts for 0.9 probability of catching a salmon\n",
    "attempts = geom.ppf(q=0.9, p=0.0333)\n",
    "\n",
    "# Print the result\n",
    "print(attempts)\n",
    "\n",
    "#----------------------------------#\n",
    "\n",
    "# Conclusion\n",
    "\n",
    "\"\"\"\n",
    "Impressive! The grizzly bear has to do a lot of work to catch a salmon -- it has a 0.9 probability of catching one in 68 attempts. In many situations we have to try until we succeed. Can you think of any cases you could model with a geometric distribution? Let's keep practicing with a case in sports!\n",
    "\"\"\""
   ]
  },
  {
   "cell_type": "code",
   "execution_count": 13,
   "metadata": {
    "tags": []
   },
   "outputs": [
    {
     "name": "stdout",
     "output_type": "stream",
     "text": [
      "0.21\n"
     ]
    },
    {
     "data": {
      "text/plain": [
       "\"\\nNice work! In 1 out of 5 cases the player will miss with the first throw and score with the second. Do you have any other questions you might want to answer about the performance of the player in terms of probability? Let's move on and plot the distribution!\\n\""
      ]
     },
     "execution_count": 13,
     "metadata": {},
     "output_type": "execute_result"
    }
   ],
   "source": [
    "# exercise 09\n",
    "\n",
    "\"\"\"\n",
    "Free throws example\n",
    "\n",
    "Suppose you know that a basketball player has a 0.3 probability of scoring a free throw. What is the probability of them missing with the first throw and scoring with the second?\n",
    "\"\"\"\n",
    "\n",
    "# Instructions\n",
    "\n",
    "\"\"\"\n",
    "\n",
    "    Import geom from scipy.stats.\n",
    "    Use the probability mass function (pmf()) with p=0.3 and specify the appropriate k value.\n",
    "\n",
    "\"\"\"\n",
    "\n",
    "# solution\n",
    "\n",
    "# Import geom from scipy.stats\n",
    "from scipy.stats import geom\n",
    "\n",
    "# Probability of missing first and scoring on second throw\n",
    "probability = geom.pmf(k=2, p=0.3)\n",
    "\n",
    "# Print the result\n",
    "print(probability)\n",
    "\n",
    "#----------------------------------#\n",
    "\n",
    "# Conclusion\n",
    "\n",
    "\"\"\"\n",
    "Nice work! In 1 out of 5 cases the player will miss with the first throw and score with the second. Do you have any other questions you might want to answer about the performance of the player in terms of probability? Let's move on and plot the distribution!\n",
    "\"\"\""
   ]
  },
  {
   "cell_type": "code",
   "execution_count": 14,
   "metadata": {
    "tags": []
   },
   "outputs": [
    {
     "name": "stderr",
     "output_type": "stream",
     "text": [
      "/home/nero/Documents/Estudos/estudos/lib/python3.11/site-packages/seaborn/axisgrid.py:118: UserWarning: The figure layout has changed to tight\n",
      "  self._figure.tight_layout(*args, **kwargs)\n"
     ]
    },
    {
     "data": {
      "image/png": "[encoded data removed]",
      "text/plain": [
       "<Figure size 500x500 with 1 Axes>"
      ]
     },
     "metadata": {},
     "output_type": "display_data"
    },
    {
     "data": {
      "text/plain": [
       "\"\\nGood job! Now you know how to simulate a random variable and generate samples to study random phenomena. The geometric distribution is a particular case of the binomial distribution, with failures until you succeed. You're now ready to move on to the last chapter.\\n\""
      ]
     },
     "execution_count": 14,
     "metadata": {},
     "output_type": "execute_result"
    }
   ],
   "source": [
    "# exercise 10\n",
    "\n",
    "\"\"\"\n",
    "Generating and plotting geometric distributions\n",
    "\n",
    "In sports it is common for players to make multiple attempts to score points for themselves or their teams. Each single attempt can have two possible outcomes, scoring or not scoring. Those situations can be modeled with geometric distributions. With scipy.stats you can generate samples using the rvs() function for each distribution.\n",
    "\n",
    "Consider the previous example of a basketball player who scores free throws with a probability of 0.3. Generate a sample, and plot it.\n",
    "\n",
    "numpy has been imported for you with the standard alias np.\n",
    "\"\"\"\n",
    "\n",
    "# Instructions\n",
    "\n",
    "\"\"\"\n",
    "\n",
    "    Import geom from scipy.stats, matplotlib.pyplot as plt, and seaborn as sns.\n",
    "    Generate a sample with size=10000 from a geometric distribution with a probability of success of 0.3.\n",
    "    Plot the sample generated.\n",
    "\n",
    "\"\"\"\n",
    "import numpy as np\n",
    "# solution\n",
    "\n",
    "# Import geom, matplotlib.pyplot, and seaborn\n",
    "from scipy.stats import geom\n",
    "import matplotlib.pyplot as plt\n",
    "import seaborn as sns\n",
    "\n",
    "# Create the sample\n",
    "sample = geom.rvs(p=0.3, size=10000, random_state=13)\n",
    "\n",
    "# Plot the sample\n",
    "sns.displot(sample, bins = np.linspace(0,20,21), kde=False)\n",
    "plt.show()\n",
    "\n",
    "#----------------------------------#\n",
    "\n",
    "# Conclusion\n",
    "\n",
    "\"\"\"\n",
    "Good job! Now you know how to simulate a random variable and generate samples to study random phenomena. The geometric distribution is a particular case of the binomial distribution, with failures until you succeed. You're now ready to move on to the last chapter.\n",
    "\"\"\""
   ]
  }
 ],
 "metadata": {
  "kernelspec": {
   "display_name": "Python 3 (ipykernel)",
   "language": "python",
   "name": "python3"
  },
  "language_info": {
   "codemirror_mode": {
    "name": "ipython",
    "version": 3
   },
   "file_extension": ".py",
   "mimetype": "text/x-python",
   "name": "python",
   "nbconvert_exporter": "python",
   "pygments_lexer": "ipython3",
   "version": "3.11.5"
  }
 },
 "nbformat": 4,
 "nbformat_minor": 4
}
