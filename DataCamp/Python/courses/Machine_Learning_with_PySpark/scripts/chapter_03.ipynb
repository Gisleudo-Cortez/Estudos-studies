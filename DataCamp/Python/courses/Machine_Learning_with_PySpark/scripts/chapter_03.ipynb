{
 "cells": [
  {
   "cell_type": "code",
   "execution_count": 1,
   "metadata": {
    "tags": []
   },
   "outputs": [
    {
     "name": "stderr",
     "output_type": "stream",
     "text": [
      "23/07/13 07:49:13 WARN Utils: Your hostname, nero resolves to a loopback address: 127.0.1.1; using 192.168.1.14 instead (on interface wlp2s0)\n",
      "23/07/13 07:49:13 WARN Utils: Set SPARK_LOCAL_IP if you need to bind to another address\n",
      "Setting default log level to \"WARN\".\n",
      "To adjust logging level use sc.setLogLevel(newLevel). For SparkR, use setLogLevel(newLevel).\n",
      "23/07/13 07:49:14 WARN NativeCodeLoader: Unable to load native-hadoop library for your platform... using builtin-java classes where applicable\n",
      "23/07/13 07:49:17 WARN Utils: Service 'SparkUI' could not bind on port 4040. Attempting port 4041.\n"
     ]
    }
   ],
   "source": [
    "# run this to shorten the data import from the files\n",
    "path_data = '/home/nero/Documents/Estudos/DataCamp/Python/Machine_Learning_with_PySpark/datasets/'\n",
    "\n",
    "# start spark session\n",
    "\n",
    "from pyspark.sql import SparkSession\n",
    "\n",
    "spark = SparkSession.builder.master('local[*]').appName('chapter_02').getOrCreate()"
   ]
  },
  {
   "cell_type": "code",
   "execution_count": 2,
   "metadata": {},
   "outputs": [
    {
     "name": "stderr",
     "output_type": "stream",
     "text": [
      "                                                                                \r"
     ]
    },
    {
     "data": {
      "text/plain": [
       "[Table(name='flights', catalog=None, namespace=[], description=None, tableType='TEMPORARY', isTemporary=True),\n",
       " Table(name='sms', catalog=None, namespace=[], description=None, tableType='TEMPORARY', isTemporary=True)]"
      ]
     },
     "execution_count": 2,
     "metadata": {},
     "output_type": "execute_result"
    }
   ],
   "source": [
    "flights = spark.read.csv(path_data + 'clean_flights.csv',\n",
    "                         sep=',',\n",
    "                         header=True,\n",
    "                         inferSchema=True,\n",
    "                         nullValue='NA')\n",
    "\n",
    "from pyspark.sql.types import StructType, StructField, IntegerType, StringType\n",
    "\n",
    "# Specify column names and types\n",
    "schema = StructType([\n",
    "    StructField(\"id\", IntegerType()),\n",
    "    StructField(\"text\", StringType()),\n",
    "    StructField(\"label\", IntegerType())\n",
    "])\n",
    "\n",
    "# Load data from a delimited file\n",
    "sms = spark.read.csv(path_data+'sms.csv', sep=';', header=False, schema=schema)\n",
    "\n",
    "sms.createOrReplaceTempView('sms')\n",
    "flights.createOrReplaceTempView('flights')\n",
    "\n",
    "spark.catalog.listTables()"
   ]
  },
  {
   "cell_type": "code",
   "execution_count": 3,
   "metadata": {},
   "outputs": [
    {
     "name": "stdout",
     "output_type": "stream",
     "text": [
      "+---+---+---+-------+---+----+------+--------+-----+\n",
      "|mon|dom|dow|carrier|org|mile|depart|duration|delay|\n",
      "+---+---+---+-------+---+----+------+--------+-----+\n",
      "|  0| 22|  2|     UA|ORD| 316| 16.33|      82|   30|\n",
      "|  2| 20|  4|     UA|SFO| 337|  6.17|      82|   -8|\n",
      "|  9| 13|  1|     AA|ORD|1236| 10.33|     195|   -5|\n",
      "|  5|  2|  1|     UA|SFO| 550|  7.98|     102|    2|\n",
      "|  7|  2|  6|     AA|ORD| 733| 10.83|     135|   54|\n",
      "+---+---+---+-------+---+----+------+--------+-----+\n",
      "only showing top 5 rows\n",
      "\n"
     ]
    }
   ],
   "source": [
    "flights.show(5)"
   ]
  },
  {
   "cell_type": "code",
   "execution_count": 4,
   "metadata": {},
   "outputs": [
    {
     "name": "stderr",
     "output_type": "stream",
     "text": [
      "                                                                                \r"
     ]
    },
    {
     "name": "stdout",
     "output_type": "stream",
     "text": [
      "+---+---+---+-------+---+----+------+--------+-----+-------+\n",
      "|mon|dom|dow|carrier|org|mile|depart|duration|delay|org_idx|\n",
      "+---+---+---+-------+---+----+------+--------+-----+-------+\n",
      "|  0| 22|  2|     UA|ORD| 316| 16.33|      82|   30|    0.0|\n",
      "|  2| 20|  4|     UA|SFO| 337|  6.17|      82|   -8|    1.0|\n",
      "|  9| 13|  1|     AA|ORD|1236| 10.33|     195|   -5|    0.0|\n",
      "|  5|  2|  1|     UA|SFO| 550|  7.98|     102|    2|    1.0|\n",
      "|  7|  2|  6|     AA|ORD| 733| 10.83|     135|   54|    0.0|\n",
      "+---+---+---+-------+---+----+------+--------+-----+-------+\n",
      "only showing top 5 rows\n",
      "\n"
     ]
    }
   ],
   "source": [
    "# create org_index\n",
    "\n",
    "from pyspark.ml.feature import StringIndexer\n",
    "\n",
    "indexer = StringIndexer(inputCol='org', outputCol='org_idx')\n",
    "\n",
    "indexer_model = indexer.fit(flights)\n",
    "\n",
    "flights = indexer_model.transform(flights)\n",
    "\n",
    "flights.show(5)"
   ]
  },
  {
   "cell_type": "code",
   "execution_count": 5,
   "metadata": {},
   "outputs": [
    {
     "name": "stderr",
     "output_type": "stream",
     "text": [
      "[Stage 10:>                                                         (0 + 1) / 1]\r"
     ]
    },
    {
     "name": "stdout",
     "output_type": "stream",
     "text": [
      "+---+-------+-------------+\n",
      "|org|org_idx|    org_dummy|\n",
      "+---+-------+-------------+\n",
      "|ORD|    0.0|(7,[0],[1.0])|\n",
      "|SFO|    1.0|(7,[1],[1.0])|\n",
      "|JFK|    2.0|(7,[2],[1.0])|\n",
      "|LGA|    3.0|(7,[3],[1.0])|\n",
      "|SMF|    4.0|(7,[4],[1.0])|\n",
      "|SJC|    5.0|(7,[5],[1.0])|\n",
      "|TUS|    6.0|(7,[6],[1.0])|\n",
      "|OGG|    7.0|    (7,[],[])|\n",
      "+---+-------+-------------+\n",
      "\n"
     ]
    },
    {
     "name": "stderr",
     "output_type": "stream",
     "text": [
      "                                                                                \r"
     ]
    },
    {
     "data": {
      "text/plain": [
       "'\\nExcellent! Note that one of the category levels, OGG, does not get a dummy variable.\\n'"
      ]
     },
     "execution_count": 5,
     "metadata": {},
     "output_type": "execute_result"
    }
   ],
   "source": [
    "# exercise 01\n",
    "\n",
    "\"\"\"\n",
    "Encoding flight origin\n",
    "\n",
    "The org column in the flights data is a categorical variable giving the airport from which a flight departs.\n",
    "\n",
    "    ORD — O'Hare International Airport (Chicago)\n",
    "    SFO — San Francisco International Airport\n",
    "    JFK — John F Kennedy International Airport (New York)\n",
    "    LGA — La Guardia Airport (New York)\n",
    "    SMF — Sacramento\n",
    "    SJC — San Jose\n",
    "    OGG — Kahului (Hawaii)\n",
    "\n",
    "Obviously this is only a small subset of airports. Nevertheless, since this is a categorical variable, it needs to be one-hot encoded before it can be used in a regression model.\n",
    "\n",
    "The data are in a variable called flights. You have already used a string indexer to create a column of indexed values corresponding to the strings in org.\n",
    "\n",
    "You might find it useful to revise the slides from the lessons in the Slides panel next to the IPython Shell.\n",
    "\"\"\"\n",
    "\n",
    "# Instructions\n",
    "\n",
    "\"\"\"\n",
    "\n",
    "    Import the one-hot encoder class.\n",
    "    Create a one-hot encoder instance, naming the input column org_idx and the output column org_dummy.\n",
    "    Apply the one-hot encoder to the flights data.\n",
    "    Generate a summary of the mapping from categorical values to binary encoded dummy variables. Include only unique values and order by org_idx.\n",
    "\n",
    "\"\"\"\n",
    "\n",
    "# solution\n",
    "\n",
    "# Import the one hot encoder class\n",
    "from pyspark.ml.feature import OneHotEncoder\n",
    "\n",
    "# Create an instance of the one hot encoder\n",
    "onehot = OneHotEncoder(inputCols=['org_idx'], outputCols=['org_dummy'])\n",
    "\n",
    "# Apply the one hot encoder to the flights data\n",
    "onehot = onehot.fit(flights)\n",
    "flights_onehot = onehot.transform(flights)\n",
    "\n",
    "# Check the results\n",
    "flights_onehot.select('org', 'org_idx', 'org_dummy').distinct().sort('org_idx').show()\n",
    "\n",
    "#----------------------------------#\n",
    "\n",
    "# Conclusion\n",
    "\n",
    "\"\"\"\n",
    "Excellent! Note that one of the category levels, OGG, does not get a dummy variable.\n",
    "\"\"\""
   ]
  },
  {
   "cell_type": "code",
   "execution_count": 6,
   "metadata": {},
   "outputs": [
    {
     "name": "stdout",
     "output_type": "stream",
     "text": [
      "+---+---+---+-------+---+----+------+--------+-----+-------+\n",
      "|mon|dom|dow|carrier|org|mile|depart|duration|delay|org_idx|\n",
      "+---+---+---+-------+---+----+------+--------+-----+-------+\n",
      "|  0| 22|  2|     UA|ORD| 316| 16.33|      82|   30|    0.0|\n",
      "|  2| 20|  4|     UA|SFO| 337|  6.17|      82|   -8|    1.0|\n",
      "|  9| 13|  1|     AA|ORD|1236| 10.33|     195|   -5|    0.0|\n",
      "|  5|  2|  1|     UA|SFO| 550|  7.98|     102|    2|    1.0|\n",
      "|  7|  2|  6|     AA|ORD| 733| 10.83|     135|   54|    0.0|\n",
      "+---+---+---+-------+---+----+------+--------+-----+-------+\n",
      "only showing top 5 rows\n",
      "\n",
      "+---+---+---+-------+---+----+------+--------+-----+-------+-------+\n",
      "|mon|dom|dow|carrier|org|mile|depart|duration|delay|org_idx|     km|\n",
      "+---+---+---+-------+---+----+------+--------+-----+-------+-------+\n",
      "|  0| 22|  2|     UA|ORD| 316| 16.33|      82|   30|    0.0| 508.55|\n",
      "|  2| 20|  4|     UA|SFO| 337|  6.17|      82|   -8|    1.0| 542.35|\n",
      "|  9| 13|  1|     AA|ORD|1236| 10.33|     195|   -5|    0.0|1989.15|\n",
      "|  5|  2|  1|     UA|SFO| 550|  7.98|     102|    2|    1.0| 885.14|\n",
      "|  7|  2|  6|     AA|ORD| 733| 10.83|     135|   54|    0.0|1179.65|\n",
      "+---+---+---+-------+---+----+------+--------+-----+-------+-------+\n",
      "only showing top 5 rows\n",
      "\n"
     ]
    }
   ],
   "source": [
    "flights.show(5)\n",
    "from pyspark.sql.functions import round\n",
    "flights = flights.withColumn('km', round(flights.mile * 1.609344, 2) )\n",
    "flights.show(5)"
   ]
  },
  {
   "cell_type": "code",
   "execution_count": 7,
   "metadata": {},
   "outputs": [],
   "source": [
    "flights = flights.drop('mile')"
   ]
  },
  {
   "cell_type": "code",
   "execution_count": 8,
   "metadata": {},
   "outputs": [
    {
     "name": "stdout",
     "output_type": "stream",
     "text": [
      "+---+---+---+-------+---+------+--------+-----+-------+------+\n",
      "|mon|dom|dow|carrier|org|depart|duration|delay|org_idx|    km|\n",
      "+---+---+---+-------+---+------+--------+-----+-------+------+\n",
      "|  0| 22|  2|     UA|ORD| 16.33|      82|   30|    0.0|508.55|\n",
      "|  2| 20|  4|     UA|SFO|  6.17|      82|   -8|    1.0|542.35|\n",
      "+---+---+---+-------+---+------+--------+-----+-------+------+\n",
      "only showing top 2 rows\n",
      "\n"
     ]
    }
   ],
   "source": [
    "flights.show(2)"
   ]
  },
  {
   "cell_type": "code",
   "execution_count": 9,
   "metadata": {},
   "outputs": [
    {
     "name": "stdout",
     "output_type": "stream",
     "text": [
      "+---+---+---+-------+---+------+--------+-----+-------+-------+---------+\n",
      "|mon|dom|dow|carrier|org|depart|duration|delay|org_idx|     km| features|\n",
      "+---+---+---+-------+---+------+--------+-----+-------+-------+---------+\n",
      "|  0| 22|  2|     UA|ORD| 16.33|      82|   30|    0.0| 508.55| [508.55]|\n",
      "|  2| 20|  4|     UA|SFO|  6.17|      82|   -8|    1.0| 542.35| [542.35]|\n",
      "|  9| 13|  1|     AA|ORD| 10.33|     195|   -5|    0.0|1989.15|[1989.15]|\n",
      "|  5|  2|  1|     UA|SFO|  7.98|     102|    2|    1.0| 885.14| [885.14]|\n",
      "|  7|  2|  6|     AA|ORD| 10.83|     135|   54|    0.0|1179.65|[1179.65]|\n",
      "+---+---+---+-------+---+------+--------+-----+-------+-------+---------+\n",
      "only showing top 5 rows\n",
      "\n"
     ]
    }
   ],
   "source": [
    "from pyspark.ml.feature import VectorAssembler\n",
    "\n",
    "assembler = VectorAssembler(inputCols = ['km'], outputCol='features')\n",
    "\n",
    "flights = assembler.transform(flights)\n",
    "\n",
    "flights.show(5)"
   ]
  },
  {
   "cell_type": "code",
   "execution_count": 10,
   "metadata": {},
   "outputs": [
    {
     "name": "stdout",
     "output_type": "stream",
     "text": [
      "+---+---+---+-------+---+------+--------+-----+-------+-------+---------+-------------+\n",
      "|mon|dom|dow|carrier|org|depart|duration|delay|org_idx|     km| features|    org_dummy|\n",
      "+---+---+---+-------+---+------+--------+-----+-------+-------+---------+-------------+\n",
      "|  0| 22|  2|     UA|ORD| 16.33|      82|   30|    0.0| 508.55| [508.55]|(7,[0],[1.0])|\n",
      "|  2| 20|  4|     UA|SFO|  6.17|      82|   -8|    1.0| 542.35| [542.35]|(7,[1],[1.0])|\n",
      "|  9| 13|  1|     AA|ORD| 10.33|     195|   -5|    0.0|1989.15|[1989.15]|(7,[0],[1.0])|\n",
      "|  5|  2|  1|     UA|SFO|  7.98|     102|    2|    1.0| 885.14| [885.14]|(7,[1],[1.0])|\n",
      "|  7|  2|  6|     AA|ORD| 10.83|     135|   54|    0.0|1179.65|[1179.65]|(7,[0],[1.0])|\n",
      "+---+---+---+-------+---+------+--------+-----+-------+-------+---------+-------------+\n",
      "only showing top 5 rows\n",
      "\n"
     ]
    }
   ],
   "source": [
    "# Create an instance of the one hot encoder\n",
    "onehot = OneHotEncoder(inputCols=['org_idx'], outputCols=['org_dummy'])\n",
    "\n",
    "# Apply the one hot encoder to the flights data\n",
    "onehot = onehot.fit(flights)\n",
    "flights = onehot.transform(flights)\n",
    "\n",
    "flights.show(5)"
   ]
  },
  {
   "cell_type": "code",
   "execution_count": 11,
   "metadata": {},
   "outputs": [],
   "source": [
    "flights_train, flights_test = flights.randomSplit([0.8, 0.2], seed=43)"
   ]
  },
  {
   "cell_type": "code",
   "execution_count": 12,
   "metadata": {
    "tags": []
   },
   "outputs": [
    {
     "name": "stderr",
     "output_type": "stream",
     "text": [
      "23/07/13 07:49:49 WARN Instrumentation: [2177ec93] regParam is zero, which might cause numerical instability and overfitting.\n",
      "                                                                                \r"
     ]
    },
    {
     "name": "stdout",
     "output_type": "stream",
     "text": [
      "+--------+------------------+\n",
      "|duration|prediction        |\n",
      "+--------+------------------+\n",
      "|230     |238.3539368954673 |\n",
      "|250     |213.06697799844466|\n",
      "|170     |133.31492829911446|\n",
      "|251     |245.0409226204015 |\n",
      "|155     |141.70312187002145|\n",
      "+--------+------------------+\n",
      "only showing top 5 rows\n",
      "\n"
     ]
    },
    {
     "name": "stderr",
     "output_type": "stream",
     "text": [
      "[Stage 21:>                                                         (0 + 1) / 1]\r"
     ]
    },
    {
     "name": "stdout",
     "output_type": "stream",
     "text": [
      "16.98634272885328\n"
     ]
    },
    {
     "name": "stderr",
     "output_type": "stream",
     "text": [
      "                                                                                \r"
     ]
    },
    {
     "data": {
      "text/plain": [
       "\"\\nYou've built a simple regression model. Let's make sense of the coefficients!\\n\""
      ]
     },
     "execution_count": 12,
     "metadata": {},
     "output_type": "execute_result"
    }
   ],
   "source": [
    "# exercise 02\n",
    "\n",
    "\"\"\"\n",
    "Flight duration model: Just distance\n",
    "\n",
    "In this exercise you'll build a regression model to predict flight duration (the duration column).\n",
    "\n",
    "For the moment you'll keep the model simple, including only the distance of the flight (the km column) as a predictor.\n",
    "\n",
    "The data are in flights. The first few records are displayed in the terminal. These data have also been split into training and testing sets and are available as flights_train and flights_test.\n",
    "\"\"\"\n",
    "\n",
    "# Instructions\n",
    "\n",
    "\"\"\"\n",
    "\n",
    "    Create a linear regression object. Specify the name of the label column. Fit it to the training data.\n",
    "    Make predictions on the testing data.\n",
    "    Create a regression evaluator object and use it to evaluate RMSE on the testing data.\n",
    "\n",
    "\"\"\"\n",
    "\n",
    "# solution\n",
    "\n",
    "from pyspark.ml.regression import LinearRegression\n",
    "from pyspark.ml.evaluation import RegressionEvaluator\n",
    "\n",
    "# Create a regression object and train on training data\n",
    "regression = LinearRegression(labelCol='duration').fit(flights_train)\n",
    "\n",
    "# Create predictions for the testing data and take a look at the predictions\n",
    "predictions = regression.transform(flights_test)\n",
    "predictions.select('duration', 'prediction').show(5, False)\n",
    "\n",
    "# Calculate the RMSE\n",
    "print(RegressionEvaluator(labelCol='duration').evaluate(predictions))\n",
    "\n",
    "#----------------------------------#\n",
    "\n",
    "# Conclusion\n",
    "\n",
    "\"\"\"\n",
    "You've built a simple regression model. Let's make sense of the coefficients!\n",
    "\"\"\""
   ]
  },
  {
   "cell_type": "code",
   "execution_count": 13,
   "metadata": {
    "tags": []
   },
   "outputs": [
    {
     "name": "stdout",
     "output_type": "stream",
     "text": [
      "44.2017029215891\n",
      "[0.0755420890751709]\n",
      "0.0755420890751709\n",
      "794.2592101245018\n"
     ]
    },
    {
     "data": {
      "text/plain": [
       "'\\nThe average speed of a commercial jet is around 850 km/hour. But you got that already from the data!\\n'"
      ]
     },
     "execution_count": 13,
     "metadata": {},
     "output_type": "execute_result"
    }
   ],
   "source": [
    "# exercise 03\n",
    "\n",
    "\"\"\"\n",
    "Interpreting the coefficients\n",
    "\n",
    "The linear regression model for flight duration as a function of distance takes the form:\n",
    "duration = a + b * distance\n",
    "\n",
    "where\n",
    "\n",
    "a   — intercept (component of duration which does not depend on distance) and\n",
    "\n",
    "b    — coefficient (rate at which duration increases as a function of distance; also called the slope).\n",
    "\n",
    "By looking at the coefficients of your model you will be able to infer\n",
    "\n",
    "    how much of the average flight duration is actually spent on the ground and\n",
    "    what the average speed is during a flight.\n",
    "\n",
    "The linear regression model is available as regression.\n",
    "\"\"\"\n",
    "\n",
    "# Instructions\n",
    "\n",
    "\"\"\"\n",
    "\n",
    "    What's the intercept?\n",
    "    What are the coefficients? This is a vector.\n",
    "    Extract the element from the vector which corresponds to the slope for distance.\n",
    "    Find the average speed in km per hour.\n",
    "\n",
    "\"\"\"\n",
    "\n",
    "# solution\n",
    "\n",
    "# Intercept (average minutes on ground)\n",
    "inter = regression.intercept\n",
    "print(inter)\n",
    "\n",
    "# Coefficients\n",
    "coefs = regression.coefficients\n",
    "print(coefs)\n",
    "\n",
    "# Average minutes per km\n",
    "minutes_per_km = regression.coefficients[0]\n",
    "print(minutes_per_km)\n",
    "\n",
    "# Average speed in km per hour\n",
    "avg_speed = 60 / minutes_per_km\n",
    "print(avg_speed)\n",
    "\n",
    "#----------------------------------#\n",
    "\n",
    "# Conclusion\n",
    "\n",
    "\"\"\"\n",
    "The average speed of a commercial jet is around 850 km/hour. But you got that already from the data!\n",
    "\"\"\""
   ]
  },
  {
   "cell_type": "code",
   "execution_count": 14,
   "metadata": {},
   "outputs": [],
   "source": [
    "flights = flights.drop('features')"
   ]
  },
  {
   "cell_type": "code",
   "execution_count": 15,
   "metadata": {},
   "outputs": [
    {
     "name": "stdout",
     "output_type": "stream",
     "text": [
      "+---+---+---+-------+---+------+--------+-----+-------+-------+-------------+--------------------+\n",
      "|mon|dom|dow|carrier|org|depart|duration|delay|org_idx|     km|    org_dummy|            features|\n",
      "+---+---+---+-------+---+------+--------+-----+-------+-------+-------------+--------------------+\n",
      "|  0| 22|  2|     UA|ORD| 16.33|      82|   30|    0.0| 508.55|(7,[0],[1.0])|(8,[0,1],[508.55,...|\n",
      "|  2| 20|  4|     UA|SFO|  6.17|      82|   -8|    1.0| 542.35|(7,[1],[1.0])|(8,[0,2],[542.35,...|\n",
      "|  9| 13|  1|     AA|ORD| 10.33|     195|   -5|    0.0|1989.15|(7,[0],[1.0])|(8,[0,1],[1989.15...|\n",
      "|  5|  2|  1|     UA|SFO|  7.98|     102|    2|    1.0| 885.14|(7,[1],[1.0])|(8,[0,2],[885.14,...|\n",
      "|  7|  2|  6|     AA|ORD| 10.83|     135|   54|    0.0|1179.65|(7,[0],[1.0])|(8,[0,1],[1179.65...|\n",
      "+---+---+---+-------+---+------+--------+-----+-------+-------+-------------+--------------------+\n",
      "only showing top 5 rows\n",
      "\n"
     ]
    }
   ],
   "source": [
    "assembler = VectorAssembler(inputCols = ['km', 'org_dummy'], outputCol='features')\n",
    "\n",
    "flights = assembler.transform(flights)\n",
    "flights.show(5)"
   ]
  },
  {
   "cell_type": "code",
   "execution_count": 16,
   "metadata": {},
   "outputs": [
    {
     "name": "stdout",
     "output_type": "stream",
     "text": [
      "+--------------------+\n",
      "|            features|\n",
      "+--------------------+\n",
      "|(8,[0,1],[508.55,...|\n",
      "|(8,[0,2],[542.35,...|\n",
      "|(8,[0,1],[1989.15...|\n",
      "|(8,[0,2],[885.14,...|\n",
      "|(8,[0,1],[1179.65...|\n",
      "+--------------------+\n",
      "only showing top 5 rows\n",
      "\n"
     ]
    }
   ],
   "source": [
    "flights.select('features').show(5)"
   ]
  },
  {
   "cell_type": "code",
   "execution_count": 17,
   "metadata": {},
   "outputs": [],
   "source": [
    "flights_train, flights_test = flights.randomSplit([0.8, 0.2], seed=43)"
   ]
  },
  {
   "cell_type": "code",
   "execution_count": 18,
   "metadata": {
    "tags": []
   },
   "outputs": [
    {
     "name": "stderr",
     "output_type": "stream",
     "text": [
      "23/07/13 07:49:59 WARN Instrumentation: [6c5f3a25] regParam is zero, which might cause numerical instability and overfitting.\n",
      "[Stage 26:>                                                         (0 + 1) / 1]\r"
     ]
    },
    {
     "name": "stdout",
     "output_type": "stream",
     "text": [
      "11.138902990617611\n"
     ]
    },
    {
     "name": "stderr",
     "output_type": "stream",
     "text": [
      "                                                                                \r"
     ]
    },
    {
     "data": {
      "text/plain": [
       "\"\\nLooking good! Let's try to make sense of the coefficients.\\n\""
      ]
     },
     "execution_count": 18,
     "metadata": {},
     "output_type": "execute_result"
    }
   ],
   "source": [
    "# exercise 04\n",
    "\n",
    "\"\"\"\n",
    "Flight duration model: Adding origin airport\n",
    "\n",
    "Some airports are busier than others. Some airports are bigger than others too. Flights departing from large or busy airports are likely to spend more time taxiing or waiting for their takeoff slot. So it stands to reason that the duration of a flight might depend not only on the distance being covered but also the airport from which the flight departs.\n",
    "\n",
    "You are going to make the regression model a little more sophisticated by including the departure airport as a predictor.\n",
    "\n",
    "These data have been split into training and testing sets and are available as flights_train and flights_test. The origin airport, stored in the org column, has been indexed into org_idx, which in turn has been one-hot encoded into org_dummy. The first few records are displayed in the terminal.\n",
    "\"\"\"\n",
    "\n",
    "# Instructions\n",
    "\n",
    "\"\"\"\n",
    "\n",
    "    Fit a linear regression model to the training data.\n",
    "    Make predictions for the testing data.\n",
    "    Calculate the RMSE for predictions on the testing data.\n",
    "\n",
    "\"\"\"\n",
    "\n",
    "# solution\n",
    "\n",
    "from pyspark.ml.regression import LinearRegression\n",
    "from pyspark.ml.evaluation import RegressionEvaluator\n",
    "\n",
    "# Create a regression object and train on training data\n",
    "regression = LinearRegression(labelCol='duration').fit(flights_train)\n",
    "\n",
    "# Create predictions for the testing data\n",
    "predictions = regression.transform(flights_test)\n",
    "\n",
    "# Calculate the RMSE on testing data\n",
    "print(RegressionEvaluator(labelCol='duration').evaluate(predictions))\n",
    "\n",
    "#----------------------------------#\n",
    "\n",
    "# Conclusion\n",
    "\n",
    "\"\"\"\n",
    "Looking good! Let's try to make sense of the coefficients.\n",
    "\"\"\""
   ]
  },
  {
   "cell_type": "code",
   "execution_count": 19,
   "metadata": {
    "tags": []
   },
   "outputs": [
    {
     "name": "stdout",
     "output_type": "stream",
     "text": [
      "808.2526745460777\n",
      "15.363012686519335\n",
      "68.24811794897823\n",
      "62.586065423434526\n"
     ]
    },
    {
     "data": {
      "text/plain": [
       "\"\\nYou're going to spend over an hour on the ground at JFK or LGA but only around 15 minutes at OGG.\\n\""
      ]
     },
     "execution_count": 19,
     "metadata": {},
     "output_type": "execute_result"
    }
   ],
   "source": [
    "# exercise 05\n",
    "\n",
    "\"\"\"\n",
    "Interpreting coefficients\n",
    "\n",
    "Remember that origin airport, org, has eight possible values (ORD, SFO, JFK, LGA, SMF, SJC, TUS and OGG) which have been one-hot encoded to seven dummy variables in org_dummy.\n",
    "\n",
    "The values for km and org_dummy have been assembled into features, which has eight columns with sparse representation. Column indices in features are as follows:\n",
    "\n",
    "    0 — km\n",
    "    1 — ORD\n",
    "    2 — SFO\n",
    "    3 — JFK\n",
    "    4 — LGA\n",
    "    5 — SMF\n",
    "    6 — SJC and\n",
    "    7 — TUS.\n",
    "\n",
    "Note that OGG does not appear in this list because it is the reference level for the origin airport category.\n",
    "\n",
    "In this exercise you'll be using the intercept and coefficients attributes to interpret the model.\n",
    "\n",
    "The coefficients attribute is a list, where the first element indicates how flight duration changes with flight distance.\n",
    "\"\"\"\n",
    "\n",
    "# Instructions\n",
    "\n",
    "\"\"\"\n",
    "\n",
    "    Find the average speed in km per hour. This will be different to the value that you got earlier because your model is now more sophisticated.\n",
    "    What's the average time on the ground at OGG?\n",
    "    What's the average time on the ground at JFK?\n",
    "    What's the average time on the ground at LGA?\n",
    "\n",
    "\"\"\"\n",
    "\n",
    "# solution\n",
    "\n",
    "# Average speed in km per hour\n",
    "avg_speed_hour = 60 / regression.coefficients[0]\n",
    "print(avg_speed_hour)\n",
    "\n",
    "# Average minutes on ground at OGG\n",
    "inter = regression.intercept\n",
    "print(inter)\n",
    "\n",
    "# Average minutes on ground at JFK\n",
    "avg_ground_jfk = inter + regression.coefficients[3]\n",
    "print(avg_ground_jfk)\n",
    "\n",
    "# Average minutes on ground at LGA\n",
    "avg_ground_lga = inter + regression.coefficients[4]\n",
    "print(avg_ground_lga)\n",
    "\n",
    "#----------------------------------#\n",
    "\n",
    "# Conclusion\n",
    "\n",
    "\"\"\"\n",
    "You're going to spend over an hour on the ground at JFK or LGA but only around 15 minutes at OGG.\n",
    "\"\"\""
   ]
  },
  {
   "cell_type": "code",
   "execution_count": 26,
   "metadata": {},
   "outputs": [
    {
     "name": "stdout",
     "output_type": "stream",
     "text": [
      "+---+---+---+-------+---+------+--------+-----+-------+-------+-------------+--------------------+\n",
      "|mon|dom|dow|carrier|org|depart|duration|delay|org_idx|     km|    org_dummy|            features|\n",
      "+---+---+---+-------+---+------+--------+-----+-------+-------+-------------+--------------------+\n",
      "|  0| 22|  2|     UA|ORD| 16.33|      82|   30|    0.0| 508.55|(7,[0],[1.0])|(8,[0,1],[508.55,...|\n",
      "|  2| 20|  4|     UA|SFO|  6.17|      82|   -8|    1.0| 542.35|(7,[1],[1.0])|(8,[0,2],[542.35,...|\n",
      "|  9| 13|  1|     AA|ORD| 10.33|     195|   -5|    0.0|1989.15|(7,[0],[1.0])|(8,[0,1],[1989.15...|\n",
      "|  5|  2|  1|     UA|SFO|  7.98|     102|    2|    1.0| 885.14|(7,[1],[1.0])|(8,[0,2],[885.14,...|\n",
      "|  7|  2|  6|     AA|ORD| 10.83|     135|   54|    0.0|1179.65|(7,[0],[1.0])|(8,[0,1],[1179.65...|\n",
      "|  1| 16|  6|     UA|ORD|   8.0|     232|   -7|    0.0|2317.46|(7,[0],[1.0])|(8,[0,1],[2317.46...|\n",
      "|  1| 22|  5|     UA|SJC|  7.98|     250|  -13|    5.0|2943.49|(7,[5],[1.0])|(8,[0,6],[2943.49...|\n",
      "| 11|  8|  1|     OO|SFO|  7.77|      60|   88|    1.0| 254.28|(7,[1],[1.0])|(8,[0,2],[254.28,...|\n",
      "|  4| 26|  1|     AA|SFO| 13.25|     210|  -10|    1.0|2356.08|(7,[1],[1.0])|(8,[0,2],[2356.08...|\n",
      "|  4| 25|  0|     AA|ORD| 13.75|     160|   31|    0.0|1573.94|(7,[0],[1.0])|(8,[0,1],[1573.94...|\n",
      "|  8| 30|  2|     UA|ORD| 13.28|     151|   16|    0.0|1157.12|(7,[0],[1.0])|(8,[0,1],[1157.12...|\n",
      "|  3| 16|  3|     UA|ORD|   9.0|     264|    3|    0.0|2808.31|(7,[0],[1.0])|(8,[0,1],[2808.31...|\n",
      "|  0|  3|  4|     AA|LGA| 17.08|     190|   32|    3.0|1765.45|(7,[3],[1.0])|(8,[0,4],[1765.45...|\n",
      "|  5|  9|  1|     UA|SFO|  12.7|     158|   20|    1.0|1556.24|(7,[1],[1.0])|(8,[0,2],[1556.24...|\n",
      "|  3| 10|  4|     B6|ORD| 17.58|     265|  155|    0.0|2792.21|(7,[0],[1.0])|(8,[0,1],[2792.21...|\n",
      "| 11| 15|  1|     AA|ORD|  6.75|     160|   23|    0.0|1290.69|(7,[0],[1.0])|(8,[0,1],[1290.69...|\n",
      "|  8| 18|  4|     UA|SJC|  6.33|     160|   17|    5.0|1525.66|(7,[5],[1.0])|(8,[0,6],[1525.66...|\n",
      "|  2| 14|  5|     B6|JFK|  6.17|     166|    0|    2.0|1519.22|(7,[2],[1.0])|(8,[0,3],[1519.22...|\n",
      "|  7| 21|  4|     OO|ORD|  19.0|     110|   21|    0.0| 976.87|(7,[0],[1.0])|(8,[0,1],[976.87,...|\n",
      "| 11|  6|  6|     OO|SFO|  8.75|      82|   40|    1.0| 508.55|(7,[1],[1.0])|(8,[0,2],[508.55,...|\n",
      "+---+---+---+-------+---+------+--------+-----+-------+-------+-------------+--------------------+\n",
      "only showing top 20 rows\n",
      "\n"
     ]
    }
   ],
   "source": [
    "flights.show()"
   ]
  },
  {
   "cell_type": "code",
   "execution_count": 33,
   "metadata": {
    "tags": []
   },
   "outputs": [
    {
     "name": "stdout",
     "output_type": "stream",
     "text": [
      "+------+-------------+\n",
      "|depart|depart_bucket|\n",
      "+------+-------------+\n",
      "| 16.33|          5.0|\n",
      "|  6.17|          2.0|\n",
      "| 10.33|          3.0|\n",
      "|  7.98|          2.0|\n",
      "| 10.83|          3.0|\n",
      "+------+-------------+\n",
      "only showing top 5 rows\n",
      "\n",
      "+------+-------------+-------------+\n",
      "|depart|depart_bucket| depart_dummy|\n",
      "+------+-------------+-------------+\n",
      "| 16.33|          5.0|(7,[5],[1.0])|\n",
      "|  6.17|          2.0|(7,[2],[1.0])|\n",
      "| 10.33|          3.0|(7,[3],[1.0])|\n",
      "|  7.98|          2.0|(7,[2],[1.0])|\n",
      "| 10.83|          3.0|(7,[3],[1.0])|\n",
      "+------+-------------+-------------+\n",
      "only showing top 5 rows\n",
      "\n"
     ]
    },
    {
     "data": {
      "text/plain": [
       "'\\nNow you can add departure time to your regression model.\\n'"
      ]
     },
     "execution_count": 33,
     "metadata": {},
     "output_type": "execute_result"
    }
   ],
   "source": [
    "# exercise 06\n",
    "\n",
    "\"\"\"\n",
    "Bucketing departure time\n",
    "\n",
    "Time of day data are a challenge with regression models. They are also a great candidate for bucketing.\n",
    "\n",
    "In this lesson you will convert the flight departure times from numeric values between 0 (corresponding to 00:00) and 24 (corresponding to 24:00) to binned values. You'll then take those binned values and one-hot encode them.\n",
    "\"\"\"\n",
    "\n",
    "# Instructions\n",
    "\n",
    "\"\"\"\n",
    "\n",
    "    Create a bucketizer object with bin boundaries at 0, 3, 6, …, 24 which correspond to times 0:00, 03:00, 06:00, …, 24:00. Specify input column as depart and output column as depart_bucket.\n",
    "    Bucket the departure times in the flights data. Show the first five values for depart and depart_bucket.\n",
    "    Create a one-hot encoder object. Specify output column as depart_dummy.\n",
    "    Train the encoder on the data and then use it to convert the bucketed departure times to dummy variables. Show the first five values for depart, depart_bucket and depart_dummy.\n",
    "\n",
    "\"\"\"\n",
    "\n",
    "# solution\n",
    "\n",
    "from pyspark.ml.feature import Bucketizer, OneHotEncoder\n",
    "\n",
    "# Create buckets at 3 hour intervals through the day\n",
    "buckets = Bucketizer(splits=[0,3,6,9,12,15,18,21,24], inputCol='depart', outputCol='depart_bucket')\n",
    "\n",
    "# Bucket the departure times\n",
    "bucketed = buckets.transform(flights)\n",
    "bucketed.select('depart','depart_bucket').show(5)\n",
    "\n",
    "# Create a one-hot encoder\n",
    "onehot = OneHotEncoder(inputCols=['depart_bucket'], outputCols=['depart_dummy'])\n",
    "\n",
    "# One-hot encode the bucketed departure times\n",
    "flights_onehot = onehot.fit(bucketed).transform(bucketed)\n",
    "flights_onehot.select('depart','depart_bucket','depart_dummy').show(5)\n",
    "\n",
    "#----------------------------------#\n",
    "\n",
    "# Conclusion\n",
    "\n",
    "\"\"\"\n",
    "Now you can add departure time to your regression model.\n",
    "\"\"\""
   ]
  },
  {
   "cell_type": "code",
   "execution_count": 34,
   "metadata": {},
   "outputs": [
    {
     "name": "stdout",
     "output_type": "stream",
     "text": [
      "+---+---+---+-------+---+------+--------+-----+-------+-------+-------------+--------------------+-------------+-------------+\n",
      "|mon|dom|dow|carrier|org|depart|duration|delay|org_idx|     km|    org_dummy|            features|depart_bucket| depart_dummy|\n",
      "+---+---+---+-------+---+------+--------+-----+-------+-------+-------------+--------------------+-------------+-------------+\n",
      "|  0| 22|  2|     UA|ORD| 16.33|      82|   30|    0.0| 508.55|(7,[0],[1.0])|(8,[0,1],[508.55,...|          5.0|(7,[5],[1.0])|\n",
      "|  2| 20|  4|     UA|SFO|  6.17|      82|   -8|    1.0| 542.35|(7,[1],[1.0])|(8,[0,2],[542.35,...|          2.0|(7,[2],[1.0])|\n",
      "|  9| 13|  1|     AA|ORD| 10.33|     195|   -5|    0.0|1989.15|(7,[0],[1.0])|(8,[0,1],[1989.15...|          3.0|(7,[3],[1.0])|\n",
      "|  5|  2|  1|     UA|SFO|  7.98|     102|    2|    1.0| 885.14|(7,[1],[1.0])|(8,[0,2],[885.14,...|          2.0|(7,[2],[1.0])|\n",
      "|  7|  2|  6|     AA|ORD| 10.83|     135|   54|    0.0|1179.65|(7,[0],[1.0])|(8,[0,1],[1179.65...|          3.0|(7,[3],[1.0])|\n",
      "+---+---+---+-------+---+------+--------+-----+-------+-------+-------------+--------------------+-------------+-------------+\n",
      "only showing top 5 rows\n",
      "\n"
     ]
    }
   ],
   "source": [
    "flights_onehot.show(5)"
   ]
  },
  {
   "cell_type": "code",
   "execution_count": 35,
   "metadata": {},
   "outputs": [],
   "source": [
    "flights_onehot = flights_onehot.drop('features')"
   ]
  },
  {
   "cell_type": "code",
   "execution_count": 36,
   "metadata": {},
   "outputs": [],
   "source": [
    "assembler = VectorAssembler(inputCols=['km','org_dummy','depart_dummy'], outputCol='features')\n",
    "\n",
    "flights_onehot = assembler.transform(flights_onehot)"
   ]
  },
  {
   "cell_type": "code",
   "execution_count": 37,
   "metadata": {},
   "outputs": [],
   "source": [
    "flights_train, flights_test = flights_onehot.randomSplit([0.80,0.20])"
   ]
  },
  {
   "cell_type": "code",
   "execution_count": 42,
   "metadata": {},
   "outputs": [
    {
     "name": "stderr",
     "output_type": "stream",
     "text": [
      "23/07/13 08:22:13 WARN Instrumentation: [b26ea8d2] regParam is zero, which might cause numerical instability and overfitting.\n",
      "                                                                                \r"
     ]
    }
   ],
   "source": [
    "regression = LinearRegression(labelCol='duration')\n",
    "\n",
    "regression = regression.fit(flights_train)"
   ]
  },
  {
   "cell_type": "code",
   "execution_count": 43,
   "metadata": {},
   "outputs": [],
   "source": [
    "predictions = regression.transform(flights_test)"
   ]
  },
  {
   "cell_type": "code",
   "execution_count": 44,
   "metadata": {},
   "outputs": [
    {
     "data": {
      "text/plain": [
       "DenseVector([0.0744, 27.3947, 20.4508, 51.7473, 45.7651, 15.2181, 17.6185, 17.487, -14.0193, 1.2458, 3.9721, 7.0535, 4.6997, 8.9605, 8.6856])"
      ]
     },
     "execution_count": 44,
     "metadata": {},
     "output_type": "execute_result"
    }
   ],
   "source": [
    "regression.coefficients"
   ]
  },
  {
   "cell_type": "code",
   "execution_count": 45,
   "metadata": {
    "tags": []
   },
   "outputs": [
    {
     "name": "stderr",
     "output_type": "stream",
     "text": [
      "[Stage 39:>                                                         (0 + 1) / 1]\r"
     ]
    },
    {
     "name": "stdout",
     "output_type": "stream",
     "text": [
      "The test RMSE is 10.638596453806654\n",
      "0.07435557535744923\n",
      "-13.94499015852287\n",
      "53.06749009982143\n"
     ]
    },
    {
     "name": "stderr",
     "output_type": "stream",
     "text": [
      "                                                                                \r"
     ]
    },
    {
     "data": {
      "text/plain": [
       "'\\nAdding departure time resulted in a smaller RMSE. Nice!\\n'"
      ]
     },
     "execution_count": 45,
     "metadata": {},
     "output_type": "execute_result"
    }
   ],
   "source": [
    "# exercise 07\n",
    "\n",
    "\"\"\"\n",
    "Flight duration model: Adding departure time\n",
    "\n",
    "In the previous exercise the departure time was bucketed and converted to dummy variables. Now you're going to include those dummy variables in a regression model for flight duration.\n",
    "\n",
    "The data are in flights. The km, org_dummy and depart_dummy columns have been assembled into features, where km is index 0, org_dummy runs from index 1 to 7 and depart_dummy from index 8 to 14.\n",
    "\n",
    "The data have been split into training and testing sets and a linear regression model, regression, has been built on the training data. Predictions have been made on the testing data and are available as predictions.\n",
    "\"\"\"\n",
    "\n",
    "# Instructions\n",
    "\n",
    "\"\"\"\n",
    "\n",
    "    Find the RMSE for predictions on the testing data.\n",
    "    Find the average time spent on the ground for flights departing from OGG between 21:00 and 24:00.\n",
    "    Find the average time spent on the ground for flights departing from OGG between 03:00 and 06:00.\n",
    "    Find the average time spent on the ground for flights departing from JFK between 03:00 and 06:00.\n",
    "\n",
    "\"\"\"\n",
    "\n",
    "# solution\n",
    "\n",
    "# Find the RMSE on testing data\n",
    "from pyspark.ml.evaluation import RegressionEvaluator\n",
    "rmse = RegressionEvaluator(labelCol='duration').evaluate(predictions)\n",
    "print(\"The test RMSE is\", rmse)\n",
    "\n",
    "# Average minutes on ground at OGG for flights departing between 21:00 and 24:00\n",
    "avg_eve_ogg = regression.coefficients[0]\n",
    "print(avg_eve_ogg)\n",
    "\n",
    "# Average minutes on ground at OGG for flights departing between 03:00 and 06:00\n",
    "avg_night_ogg = regression.coefficients[0] + regression.coefficients[8]\n",
    "print(avg_night_ogg)\n",
    "\n",
    "# Average minutes on ground at JFK for flights departing between 03:00 and 06:00\n",
    "avg_night_jfk = regression.coefficients[0] + regression.coefficients[3] + regression.coefficients[9]\n",
    "print(avg_night_jfk)\n",
    "\n",
    "#----------------------------------#\n",
    "\n",
    "# Conclusion\n",
    "\n",
    "\"\"\"\n",
    "Adding departure time resulted in a smaller RMSE. Nice!\n",
    "\"\"\""
   ]
  },
  {
   "cell_type": "code",
   "execution_count": 48,
   "metadata": {},
   "outputs": [],
   "source": [
    "flights_onehot = flights_onehot.drop('features')"
   ]
  },
  {
   "cell_type": "code",
   "execution_count": 49,
   "metadata": {},
   "outputs": [
    {
     "name": "stdout",
     "output_type": "stream",
     "text": [
      "+---+---+---+-------+---+------+--------+-----+-------+-------+-------------+-------------+-------------+\n",
      "|mon|dom|dow|carrier|org|depart|duration|delay|org_idx|     km|    org_dummy|depart_bucket| depart_dummy|\n",
      "+---+---+---+-------+---+------+--------+-----+-------+-------+-------------+-------------+-------------+\n",
      "|  0| 22|  2|     UA|ORD| 16.33|      82|   30|    0.0| 508.55|(7,[0],[1.0])|          5.0|(7,[5],[1.0])|\n",
      "|  2| 20|  4|     UA|SFO|  6.17|      82|   -8|    1.0| 542.35|(7,[1],[1.0])|          2.0|(7,[2],[1.0])|\n",
      "|  9| 13|  1|     AA|ORD| 10.33|     195|   -5|    0.0|1989.15|(7,[0],[1.0])|          3.0|(7,[3],[1.0])|\n",
      "|  5|  2|  1|     UA|SFO|  7.98|     102|    2|    1.0| 885.14|(7,[1],[1.0])|          2.0|(7,[2],[1.0])|\n",
      "|  7|  2|  6|     AA|ORD| 10.83|     135|   54|    0.0|1179.65|(7,[0],[1.0])|          3.0|(7,[3],[1.0])|\n",
      "+---+---+---+-------+---+------+--------+-----+-------+-------+-------------+-------------+-------------+\n",
      "only showing top 5 rows\n",
      "\n"
     ]
    }
   ],
   "source": [
    "flights_onehot.show(5)"
   ]
  },
  {
   "cell_type": "code",
   "execution_count": 50,
   "metadata": {},
   "outputs": [],
   "source": [
    "# Create a one-hot encoder\n",
    "onehot = OneHotEncoder(inputCols=['dow','mon'], outputCols=['dow_dummy','mon_dummy'])\n",
    "\n",
    "# One-hot encode the bucketed departure times\n",
    "flights_onehot = onehot.fit(flights_onehot).transform(flights_onehot)"
   ]
  },
  {
   "cell_type": "code",
   "execution_count": 51,
   "metadata": {},
   "outputs": [
    {
     "name": "stdout",
     "output_type": "stream",
     "text": [
      "+---+---+---+-------+---+------+--------+-----+-------+-------+-------------+-------------+-------------+-------------+--------------+\n",
      "|mon|dom|dow|carrier|org|depart|duration|delay|org_idx|     km|    org_dummy|depart_bucket| depart_dummy|    dow_dummy|     mon_dummy|\n",
      "+---+---+---+-------+---+------+--------+-----+-------+-------+-------------+-------------+-------------+-------------+--------------+\n",
      "|  0| 22|  2|     UA|ORD| 16.33|      82|   30|    0.0| 508.55|(7,[0],[1.0])|          5.0|(7,[5],[1.0])|(6,[2],[1.0])|(11,[0],[1.0])|\n",
      "|  2| 20|  4|     UA|SFO|  6.17|      82|   -8|    1.0| 542.35|(7,[1],[1.0])|          2.0|(7,[2],[1.0])|(6,[4],[1.0])|(11,[2],[1.0])|\n",
      "|  9| 13|  1|     AA|ORD| 10.33|     195|   -5|    0.0|1989.15|(7,[0],[1.0])|          3.0|(7,[3],[1.0])|(6,[1],[1.0])|(11,[9],[1.0])|\n",
      "|  5|  2|  1|     UA|SFO|  7.98|     102|    2|    1.0| 885.14|(7,[1],[1.0])|          2.0|(7,[2],[1.0])|(6,[1],[1.0])|(11,[5],[1.0])|\n",
      "|  7|  2|  6|     AA|ORD| 10.83|     135|   54|    0.0|1179.65|(7,[0],[1.0])|          3.0|(7,[3],[1.0])|    (6,[],[])|(11,[7],[1.0])|\n",
      "+---+---+---+-------+---+------+--------+-----+-------+-------+-------------+-------------+-------------+-------------+--------------+\n",
      "only showing top 5 rows\n",
      "\n"
     ]
    }
   ],
   "source": [
    "flights_onehot.show(5)"
   ]
  },
  {
   "cell_type": "code",
   "execution_count": 52,
   "metadata": {},
   "outputs": [],
   "source": [
    "assembler = VectorAssembler(inputCols=['km','org_dummy','depart_dummy','dow_dummy','mon_dummy'], outputCol='features')\n",
    "\n",
    "flights_onehot = assembler.transform(flights_onehot)"
   ]
  },
  {
   "cell_type": "code",
   "execution_count": 53,
   "metadata": {},
   "outputs": [
    {
     "name": "stdout",
     "output_type": "stream",
     "text": [
      "+---+---+---+-------+---+------+--------+-----+-------+-------+-------------+-------------+-------------+-------------+--------------+--------------------+\n",
      "|mon|dom|dow|carrier|org|depart|duration|delay|org_idx|     km|    org_dummy|depart_bucket| depart_dummy|    dow_dummy|     mon_dummy|            features|\n",
      "+---+---+---+-------+---+------+--------+-----+-------+-------+-------------+-------------+-------------+-------------+--------------+--------------------+\n",
      "|  0| 22|  2|     UA|ORD| 16.33|      82|   30|    0.0| 508.55|(7,[0],[1.0])|          5.0|(7,[5],[1.0])|(6,[2],[1.0])|(11,[0],[1.0])|(32,[0,1,13,17,21...|\n",
      "|  2| 20|  4|     UA|SFO|  6.17|      82|   -8|    1.0| 542.35|(7,[1],[1.0])|          2.0|(7,[2],[1.0])|(6,[4],[1.0])|(11,[2],[1.0])|(32,[0,2,10,19,23...|\n",
      "|  9| 13|  1|     AA|ORD| 10.33|     195|   -5|    0.0|1989.15|(7,[0],[1.0])|          3.0|(7,[3],[1.0])|(6,[1],[1.0])|(11,[9],[1.0])|(32,[0,1,11,16,30...|\n",
      "|  5|  2|  1|     UA|SFO|  7.98|     102|    2|    1.0| 885.14|(7,[1],[1.0])|          2.0|(7,[2],[1.0])|(6,[1],[1.0])|(11,[5],[1.0])|(32,[0,2,10,16,26...|\n",
      "|  7|  2|  6|     AA|ORD| 10.83|     135|   54|    0.0|1179.65|(7,[0],[1.0])|          3.0|(7,[3],[1.0])|    (6,[],[])|(11,[7],[1.0])|(32,[0,1,11,28],[...|\n",
      "+---+---+---+-------+---+------+--------+-----+-------+-------+-------------+-------------+-------------+-------------+--------------+--------------------+\n",
      "only showing top 5 rows\n",
      "\n"
     ]
    }
   ],
   "source": [
    "flights_onehot.show(5)"
   ]
  },
  {
   "cell_type": "code",
   "execution_count": 54,
   "metadata": {},
   "outputs": [],
   "source": [
    "flights_train, flights_test = flights_onehot.randomSplit([0.80,0.20])"
   ]
  },
  {
   "cell_type": "code",
   "execution_count": 55,
   "metadata": {
    "tags": []
   },
   "outputs": [
    {
     "name": "stderr",
     "output_type": "stream",
     "text": [
      "23/07/13 08:47:38 WARN Instrumentation: [548137fc] regParam is zero, which might cause numerical instability and overfitting.\n",
      "[Stage 47:>                                                         (0 + 1) / 1]\r"
     ]
    },
    {
     "name": "stdout",
     "output_type": "stream",
     "text": [
      "The test RMSE is 10.531195157372931\n",
      "[0.07436477656392289,27.487645693808908,20.397230206228524,51.889234255668,45.69223770081051,15.214310615202088,17.787236632574448,17.71180184102375,-13.75337236247439,0.4432479539468115,3.9509532780266183,6.810040136120186,4.479654429457599,8.773909520174302,8.603673311933496,0.598327932613395,0.25441407278610223,-0.06710802173014885,0.26964590860408594,0.34668367949430823,0.26819413632390743,-1.9268450265648842,-2.3515887174090317,-2.0684396127203004,-3.3670319518999987,-4.326856752875204,-4.279151249251972,-4.459499352574625,-4.566245777112856,-4.015301382600413,-2.8936400167693166,-0.9144867119445865]\n"
     ]
    },
    {
     "name": "stderr",
     "output_type": "stream",
     "text": [
      "                                                                                \r"
     ]
    },
    {
     "data": {
      "text/plain": [
       "'\\nWith all those non-zero coefficients the model is a little hard to interpret!\\n'"
      ]
     },
     "execution_count": 55,
     "metadata": {},
     "output_type": "execute_result"
    }
   ],
   "source": [
    "# exercise 08\n",
    "\n",
    "\"\"\"\n",
    "Flight duration model: More features!\n",
    "\n",
    "Let's add more features to our model. This will not necessarily result in a better model. Adding some features might improve the model. Adding other features might make it worse.\n",
    "\n",
    "More features will always make the model more complicated and difficult to interpret.\n",
    "\n",
    "These are the features you'll include in the next model:\n",
    "\n",
    "    km\n",
    "    org (origin airport, one-hot encoded, 8 levels)\n",
    "    depart (departure time, binned in 3 hour intervals, one-hot encoded, 8 levels)\n",
    "    dow (departure day of week, one-hot encoded, 7 levels) and\n",
    "    mon (departure month, one-hot encoded, 12 levels).\n",
    "\n",
    "These have been assembled into the features column, which is a sparse representation of 32 columns (remember one-hot encoding produces a number of columns which is one fewer than the number of levels).\n",
    "\n",
    "The data are available as flights, randomly split into flights_train and flights_test.\n",
    "\n",
    "This exercise is based on a small subset of the flights data.\n",
    "\"\"\"\n",
    "\n",
    "# Instructions\n",
    "\n",
    "\"\"\"\n",
    "\n",
    "    Fit a linear regression model to the training data.\n",
    "    Generate predictions for the testing data.\n",
    "    Calculate the RMSE on the testing data.\n",
    "    Look at the model coefficients. Are any of them zero?\n",
    "\n",
    "\"\"\"\n",
    "\n",
    "# solution\n",
    "\n",
    "from pyspark.ml.regression import LinearRegression\n",
    "from pyspark.ml.evaluation import RegressionEvaluator\n",
    "\n",
    "# Fit linear regression model to training data\n",
    "regression = LinearRegression(labelCol='duration').fit(flights_train)\n",
    "\n",
    "# Make predictions on testing data\n",
    "predictions = regression.transform(flights_test)\n",
    "\n",
    "# Calculate the RMSE on testing data\n",
    "rmse = RegressionEvaluator(labelCol='duration').evaluate(predictions)\n",
    "print(\"The test RMSE is\", rmse)\n",
    "\n",
    "# Look at the model coefficients\n",
    "coeffs = regression.coefficients\n",
    "print(coeffs)\n",
    "\n",
    "#----------------------------------#\n",
    "\n",
    "# Conclusion\n",
    "\n",
    "\"\"\"\n",
    "With all those non-zero coefficients the model is a little hard to interpret!\n",
    "\"\"\""
   ]
  },
  {
   "cell_type": "code",
   "execution_count": 56,
   "metadata": {
    "tags": []
   },
   "outputs": [
    {
     "name": "stderr",
     "output_type": "stream",
     "text": [
      "[Stage 50:>                                                         (0 + 1) / 1]\r"
     ]
    },
    {
     "name": "stdout",
     "output_type": "stream",
     "text": [
      "The test RMSE is 11.55135177997585\n",
      "[0.07348072701992543,5.5614246214444645,0.0,28.99534168833446,21.626473969350062,-2.3354953526285382,0.0,0.0,0.0,0.0,0.0,0.0,0.0,1.204932714816671,1.152275265236853,0.0,0.0,0.0,0.0,0.0,0.0,0.0,0.0,0.0,0.0,0.0,0.0,0.0,0.0,0.0,0.0,0.0]\n",
      "Number of coefficients equal to 0: 25\n"
     ]
    },
    {
     "name": "stderr",
     "output_type": "stream",
     "text": [
      "                                                                                \r"
     ]
    },
    {
     "data": {
      "text/plain": [
       "'\\nRegularization produced a far simpler model with similar test performance.\\n'"
      ]
     },
     "execution_count": 56,
     "metadata": {},
     "output_type": "execute_result"
    }
   ],
   "source": [
    "# exercise 09\n",
    "\n",
    "\"\"\"\n",
    "Flight duration model: Regularization!\n",
    "\n",
    "In the previous exercise you added more predictors to the flight duration model. The model performed well on testing data, but with so many coefficients it was difficult to interpret.\n",
    "\n",
    "In this exercise you'll use Lasso regression (regularized with a L1 penalty) to create a more parsimonious model. Many of the coefficients in the resulting model will be set to zero. This means that only a subset of the predictors actually contribute to the model. Despite the simpler model, it still produces a good RMSE on the testing data.\n",
    "\n",
    "You'll use a specific value for the regularization strength. Later you'll learn how to find the best value using cross validation.\n",
    "\n",
    "The data (same as previous exercise) are available as flights, randomly split into flights_train and flights_test.\n",
    "\n",
    "There are two parameters for this model, λ (regParam) and α (elasticNetParam), where α determines the type of regularization and λ gives the strength of regularization.\n",
    "\"\"\"\n",
    "\n",
    "# Instructions\n",
    "\n",
    "\"\"\"\n",
    "\n",
    "    Fit a linear regression model to the training data. Set the regularization strength to 1.\n",
    "    Calculate the RMSE on the testing data.\n",
    "    Look at the model coefficients.\n",
    "    How many of the coefficients are equal to zero?\n",
    "\n",
    "\"\"\"\n",
    "\n",
    "# solution\n",
    "\n",
    "from pyspark.ml.regression import LinearRegression\n",
    "from pyspark.ml.evaluation import RegressionEvaluator\n",
    "\n",
    "# Fit Lasso model (λ = 1, α = 1) to training data\n",
    "regression = LinearRegression(labelCol='duration', regParam=1, elasticNetParam=1).fit(flights_train)\n",
    "\n",
    "# Calculate the RMSE on testing data\n",
    "rmse = RegressionEvaluator(labelCol='duration').evaluate(regression.transform(flights_test))\n",
    "print(\"The test RMSE is\", rmse)\n",
    "\n",
    "# Look at the model coefficients\n",
    "coeffs = regression.coefficients\n",
    "print(coeffs)\n",
    "\n",
    "# Number of zero coefficients\n",
    "zero_coeff = sum([1 for beta in regression.coefficients if beta == 0])\n",
    "print(\"Number of coefficients equal to 0:\", zero_coeff)\n",
    "\n",
    "\n",
    "#----------------------------------#\n",
    "\n",
    "# Conclusion\n",
    "\n",
    "\"\"\"\n",
    "Regularization produced a far simpler model with similar test performance.\n",
    "\"\"\""
   ]
  },
  {
   "cell_type": "code",
   "execution_count": 58,
   "metadata": {},
   "outputs": [
    {
     "name": "stderr",
     "output_type": "stream",
     "text": [
      "                                                                                \r"
     ]
    }
   ],
   "source": [
    "data = flights_onehot.toPandas()\n",
    "\n",
    "data.to_csv(path_data + 'flights_onehot.csv')"
   ]
  },
  {
   "cell_type": "code",
   "execution_count": 59,
   "metadata": {},
   "outputs": [],
   "source": [
    "spark.stop()"
   ]
  }
 ],
 "metadata": {
  "kernelspec": {
   "display_name": "Python 3 (ipykernel)",
   "language": "python",
   "name": "python3"
  },
  "language_info": {
   "codemirror_mode": {
    "name": "ipython",
    "version": 3
   },
   "file_extension": ".py",
   "mimetype": "text/x-python",
   "name": "python",
   "nbconvert_exporter": "python",
   "pygments_lexer": "ipython3",
   "version": "3.11.3"
  }
 },
 "nbformat": 4,
 "nbformat_minor": 4
}
