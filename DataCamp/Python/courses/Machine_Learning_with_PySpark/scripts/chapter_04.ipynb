{
 "cells": [
  {
   "cell_type": "code",
   "execution_count": 47,
   "metadata": {
    "tags": []
   },
   "outputs": [
    {
     "name": "stderr",
     "output_type": "stream",
     "text": [
      "23/07/14 07:58:38 WARN Utils: Service 'SparkUI' could not bind on port 4040. Attempting port 4041.\n"
     ]
    }
   ],
   "source": [
    "# run this to shorten the data import from the files\n",
    "path_data = '/home/nero/Documents/Estudos/DataCamp/Python/Machine_Learning_with_PySpark/datasets/'\n",
    "\n",
    "# start spark session\n",
    "\n",
    "from pyspark.sql import SparkSession\n",
    "\n",
    "spark = SparkSession.builder.master('local[*]').appName('chapter_04').getOrCreate()"
   ]
  },
  {
   "cell_type": "code",
   "execution_count": 48,
   "metadata": {},
   "outputs": [
    {
     "name": "stderr",
     "output_type": "stream",
     "text": [
      "                                                                                \r"
     ]
    },
    {
     "data": {
      "text/plain": [
       "[Table(name='flights', catalog=None, namespace=[], description=None, tableType='TEMPORARY', isTemporary=True),\n",
       " Table(name='sms', catalog=None, namespace=[], description=None, tableType='TEMPORARY', isTemporary=True)]"
      ]
     },
     "execution_count": 48,
     "metadata": {},
     "output_type": "execute_result"
    }
   ],
   "source": [
    "flights = spark.read.csv(path_data + 'clean_flights.csv',\n",
    "                         sep=',',\n",
    "                         header=True,\n",
    "                         inferSchema=True,\n",
    "                         nullValue='NA')\n",
    "\n",
    "from pyspark.sql.types import StructType, StructField, IntegerType, StringType\n",
    "\n",
    "# Specify column names and types\n",
    "schema = StructType([\n",
    "    StructField(\"id\", IntegerType()),\n",
    "    StructField(\"text\", StringType()),\n",
    "    StructField(\"label\", IntegerType())\n",
    "])\n",
    "\n",
    "# Load data from a delimited file\n",
    "sms = spark.read.csv(path_data+'sms.csv', sep=';', header=False, schema=schema)\n",
    "\n",
    "sms.createOrReplaceTempView('sms')\n",
    "flights.createOrReplaceTempView('flights')\n",
    "\n",
    "spark.catalog.listTables()"
   ]
  },
  {
   "cell_type": "code",
   "execution_count": 49,
   "metadata": {},
   "outputs": [],
   "source": [
    "from pyspark.ml.regression import LinearRegression\n",
    "from pyspark.ml.feature import OneHotEncoder, VectorAssembler, StringIndexer"
   ]
  },
  {
   "cell_type": "code",
   "execution_count": 50,
   "metadata": {},
   "outputs": [
    {
     "data": {
      "text/plain": [
       "'\\nExcellent! The stages are now ready for you to build a pipeline.\\n'"
      ]
     },
     "execution_count": 50,
     "metadata": {},
     "output_type": "execute_result"
    }
   ],
   "source": [
    "# exercise 01\n",
    "\n",
    "\"\"\"\n",
    "Flight duration model: Pipeline stages\n",
    "\n",
    "You're going to create the stages for the flights duration model pipeline. You will use these in the next exercise to build a pipeline and to create a regression model.\n",
    "\n",
    "The StringIndexer, OneHotEncoder, VectorAssembler and LinearRegression classes are already imported.\n",
    "\"\"\"\n",
    "\n",
    "# Instructions\n",
    "\n",
    "\"\"\"\n",
    "\n",
    "    Create an indexer to convert the 'org' column into an indexed column called 'org_idx'.\n",
    "    Create a one-hot encoder to convert the 'org_idx' and 'dow' columns into dummy variable columns called 'org_dummy' and 'dow_dummy'.\n",
    "    Create an assembler which will combine the 'km' column with the two dummy variable columns. The output column should be called 'features'.\n",
    "    Create a linear regression object to predict flight duration.\n",
    "\n",
    "You might find it useful to revisit the slides from the lessons in the Slides panel next to the IPython Shell.\n",
    "\"\"\"\n",
    "\n",
    "# solution\n",
    "\n",
    "# Convert categorical strings to index values\n",
    "indexer = StringIndexer(inputCol='org', outputCol='org_idx')\n",
    "\n",
    "# One-hot encode index values\n",
    "onehot = OneHotEncoder(\n",
    "    inputCols=['org_idx','dow'],\n",
    "    outputCols=['org_dummy','dow_dummy']\n",
    ")\n",
    "\n",
    "# Assemble predictors into a single column\n",
    "assembler = VectorAssembler(inputCols=['km','org_dummy','dow_dummy'], outputCol='features')\n",
    "\n",
    "# A linear regression object\n",
    "regression = LinearRegression(labelCol='duration')\n",
    "\n",
    "#----------------------------------#\n",
    "\n",
    "# Conclusion\n",
    "\n",
    "\"\"\"\n",
    "Excellent! The stages are now ready for you to build a pipeline.\n",
    "\"\"\""
   ]
  },
  {
   "cell_type": "code",
   "execution_count": 51,
   "metadata": {},
   "outputs": [],
   "source": [
    "flights = flights.withColumn('km', flights.mile * 1.609344).drop('mile')"
   ]
  },
  {
   "cell_type": "code",
   "execution_count": 52,
   "metadata": {},
   "outputs": [],
   "source": [
    "from pyspark.sql.functions import round\n",
    "flights = flights.withColumn('km', round(flights.km, 2))"
   ]
  },
  {
   "cell_type": "code",
   "execution_count": 53,
   "metadata": {},
   "outputs": [
    {
     "name": "stdout",
     "output_type": "stream",
     "text": [
      "+---+---+---+-------+---+------+--------+-----+-------+\n",
      "|mon|dom|dow|carrier|org|depart|duration|delay|     km|\n",
      "+---+---+---+-------+---+------+--------+-----+-------+\n",
      "|  0| 22|  2|     UA|ORD| 16.33|      82|   30| 508.55|\n",
      "|  2| 20|  4|     UA|SFO|  6.17|      82|   -8| 542.35|\n",
      "|  9| 13|  1|     AA|ORD| 10.33|     195|   -5|1989.15|\n",
      "|  5|  2|  1|     UA|SFO|  7.98|     102|    2| 885.14|\n",
      "|  7|  2|  6|     AA|ORD| 10.83|     135|   54|1179.65|\n",
      "+---+---+---+-------+---+------+--------+-----+-------+\n",
      "only showing top 5 rows\n",
      "\n"
     ]
    }
   ],
   "source": [
    "flights.show(5)"
   ]
  },
  {
   "cell_type": "code",
   "execution_count": 54,
   "metadata": {},
   "outputs": [],
   "source": [
    "flights_train , flights_test = flights.randomSplit([0.80,0.20])"
   ]
  },
  {
   "cell_type": "code",
   "execution_count": 55,
   "metadata": {
    "tags": []
   },
   "outputs": [
    {
     "name": "stderr",
     "output_type": "stream",
     "text": [
      "23/07/14 07:58:48 WARN Instrumentation: [b55dccd7] regParam is zero, which might cause numerical instability and overfitting.\n",
      "                                                                                \r"
     ]
    },
    {
     "data": {
      "text/plain": [
       "'\\nFantastic! A pipeline makes your code easier to read and maintain.\\n'"
      ]
     },
     "execution_count": 55,
     "metadata": {},
     "output_type": "execute_result"
    }
   ],
   "source": [
    "# exercise 02\n",
    "\n",
    "\"\"\"\n",
    "Flight duration model: Pipeline model\n",
    "\n",
    "You're now ready to put those stages together in a pipeline.\n",
    "\n",
    "You'll construct the pipeline and then train the pipeline on the training data. This will apply each of the individual stages in the pipeline to the training data in turn. None of the stages will be exposed to the testing data at all: there will be no leakage!\n",
    "\n",
    "Once the entire pipeline has been trained it will then be used to make predictions on the testing data.\n",
    "\n",
    "The data are available as flights, which has been randomly split into flights_train and flights_test.\n",
    "\"\"\"\n",
    "\n",
    "# Instructions\n",
    "\n",
    "\"\"\"\n",
    "\n",
    "    Import the class for creating a pipeline.\n",
    "    Create a pipeline object and specify the indexer, onehot, assembler and regression stages, in this order.\n",
    "    Train the pipeline on the training data.\n",
    "    Make predictions on the testing data.\n",
    "\n",
    "\"\"\"\n",
    "\n",
    "# solution\n",
    "\n",
    "# Import class for creating a pipeline\n",
    "from pyspark.ml import Pipeline\n",
    "\n",
    "# Construct a pipeline\n",
    "pipeline = Pipeline(stages=[indexer, onehot, assembler, regression])\n",
    "\n",
    "# Train the pipeline on the training data\n",
    "pipeline = pipeline.fit(flights_train)\n",
    "\n",
    "# Make predictions on the testing data\n",
    "predictions = pipeline.transform(flights_test)\n",
    "\n",
    "#----------------------------------#\n",
    "\n",
    "# Conclusion\n",
    "\n",
    "\"\"\"\n",
    "Fantastic! A pipeline makes your code easier to read and maintain.\n",
    "\"\"\""
   ]
  },
  {
   "cell_type": "code",
   "execution_count": 56,
   "metadata": {},
   "outputs": [],
   "source": [
    "from pyspark.ml.classification import LogisticRegression"
   ]
  },
  {
   "cell_type": "code",
   "execution_count": 57,
   "metadata": {
    "tags": []
   },
   "outputs": [
    {
     "data": {
      "text/plain": [
       "\"\\nGreat job! Isn't that a lot simpler than applying each stage separately?\\n\""
      ]
     },
     "execution_count": 57,
     "metadata": {},
     "output_type": "execute_result"
    }
   ],
   "source": [
    "# exercise 03\n",
    "\n",
    "\"\"\"\n",
    "SMS spam pipeline\n",
    "\n",
    "You haven't looked at the SMS data for quite a while. Last time we did the following:\n",
    "\n",
    "    split the text into tokens\n",
    "    removed stop words\n",
    "    applied the hashing trick\n",
    "    converted the data from counts to IDF and\n",
    "    trained a logistic regression model.\n",
    "\n",
    "Each of these steps was done independently. This seems like a great application for a pipeline!\n",
    "\n",
    "The Pipeline and LogisticRegression classes have already been imported into the session, so you don't need to worry about that!\n",
    "\"\"\"\n",
    "\n",
    "# Instructions\n",
    "\n",
    "\"\"\"\n",
    "\n",
    "    Create an object for splitting text into tokens.\n",
    "    Create an object to remove stop words. Rather than explicitly giving the input column name, use the getOutputCol() method on the previous object.\n",
    "    Create objects for applying the hashing trick and transforming the data into a TF-IDF. Use the getOutputCol() method again.\n",
    "    Create a pipeline which wraps all of the above steps as well as an object to create a Logistic Regression model.\n",
    "\n",
    "\"\"\"\n",
    "\n",
    "# solution\n",
    "\n",
    "from pyspark.ml.feature import Tokenizer, StopWordsRemover, HashingTF, IDF\n",
    "\n",
    "# Break text into tokens at non-word characters\n",
    "tokenizer = Tokenizer(inputCol='text', outputCol='words')\n",
    "\n",
    "# Remove stop words\n",
    "remover = StopWordsRemover(inputCol=tokenizer.getOutputCol(), outputCol='terms')\n",
    "\n",
    "# Apply the hashing trick and transform to TF-IDF\n",
    "hasher = HashingTF(inputCol=remover.getOutputCol(), outputCol=\"hash\")\n",
    "idf = IDF(inputCol=hasher.getOutputCol(), outputCol=\"features\")\n",
    "\n",
    "# Create a logistic regression object and add everything to a pipeline\n",
    "logistic = LogisticRegression()\n",
    "pipeline = Pipeline(stages=[tokenizer, remover, hasher, idf, logistic])\n",
    "\n",
    "#----------------------------------#\n",
    "\n",
    "# Conclusion\n",
    "\n",
    "\"\"\"\n",
    "Great job! Isn't that a lot simpler than applying each stage separately?\n",
    "\"\"\""
   ]
  },
  {
   "cell_type": "code",
   "execution_count": 58,
   "metadata": {},
   "outputs": [
    {
     "name": "stdout",
     "output_type": "stream",
     "text": [
      "+---+---+---+-------+---+------+--------+-----+-------+\n",
      "|mon|dom|dow|carrier|org|depart|duration|delay|     km|\n",
      "+---+---+---+-------+---+------+--------+-----+-------+\n",
      "|  0| 22|  2|     UA|ORD| 16.33|      82|   30| 508.55|\n",
      "|  2| 20|  4|     UA|SFO|  6.17|      82|   -8| 542.35|\n",
      "|  9| 13|  1|     AA|ORD| 10.33|     195|   -5|1989.15|\n",
      "|  5|  2|  1|     UA|SFO|  7.98|     102|    2| 885.14|\n",
      "|  7|  2|  6|     AA|ORD| 10.83|     135|   54|1179.65|\n",
      "|  1| 16|  6|     UA|ORD|   8.0|     232|   -7|2317.46|\n",
      "|  1| 22|  5|     UA|SJC|  7.98|     250|  -13|2943.49|\n",
      "| 11|  8|  1|     OO|SFO|  7.77|      60|   88| 254.28|\n",
      "|  4| 26|  1|     AA|SFO| 13.25|     210|  -10|2356.08|\n",
      "|  4| 25|  0|     AA|ORD| 13.75|     160|   31|1573.94|\n",
      "|  8| 30|  2|     UA|ORD| 13.28|     151|   16|1157.12|\n",
      "|  3| 16|  3|     UA|ORD|   9.0|     264|    3|2808.31|\n",
      "|  0|  3|  4|     AA|LGA| 17.08|     190|   32|1765.45|\n",
      "|  5|  9|  1|     UA|SFO|  12.7|     158|   20|1556.24|\n",
      "|  3| 10|  4|     B6|ORD| 17.58|     265|  155|2792.21|\n",
      "| 11| 15|  1|     AA|ORD|  6.75|     160|   23|1290.69|\n",
      "|  8| 18|  4|     UA|SJC|  6.33|     160|   17|1525.66|\n",
      "|  2| 14|  5|     B6|JFK|  6.17|     166|    0|1519.22|\n",
      "|  7| 21|  4|     OO|ORD|  19.0|     110|   21| 976.87|\n",
      "| 11|  6|  6|     OO|SFO|  8.75|      82|   40| 508.55|\n",
      "+---+---+---+-------+---+------+--------+-----+-------+\n",
      "only showing top 20 rows\n",
      "\n"
     ]
    }
   ],
   "source": [
    "flights.show()"
   ]
  },
  {
   "cell_type": "code",
   "execution_count": 59,
   "metadata": {},
   "outputs": [],
   "source": [
    "assembler = VectorAssembler(inputCols=['km'], outputCol='features')\n",
    "data = assembler.transform(flights)\n",
    "flights_train, flights_test = data.randomSplit([0.80,0.20])"
   ]
  },
  {
   "cell_type": "code",
   "execution_count": 60,
   "metadata": {},
   "outputs": [],
   "source": [
    "from pyspark.ml.tuning import CrossValidator, ParamGridBuilder\n",
    "from pyspark.ml.evaluation import RegressionEvaluator"
   ]
  },
  {
   "cell_type": "code",
   "execution_count": 61,
   "metadata": {
    "tags": []
   },
   "outputs": [
    {
     "name": "stderr",
     "output_type": "stream",
     "text": [
      "23/07/14 07:58:55 WARN Instrumentation: [d6aeb831] regParam is zero, which might cause numerical instability and overfitting.\n",
      "23/07/14 07:58:57 WARN Instrumentation: [431a4cbc] regParam is zero, which might cause numerical instability and overfitting.\n",
      "23/07/14 07:58:59 WARN Instrumentation: [b0a4c754] regParam is zero, which might cause numerical instability and overfitting.\n",
      "23/07/14 07:59:00 WARN Instrumentation: [75423e05] regParam is zero, which might cause numerical instability and overfitting.\n",
      "23/07/14 07:59:01 WARN Instrumentation: [b8e526e3] regParam is zero, which might cause numerical instability and overfitting.\n",
      "23/07/14 07:59:03 WARN Instrumentation: [09f8dce6] regParam is zero, which might cause numerical instability and overfitting.\n"
     ]
    },
    {
     "data": {
      "text/plain": [
       "\"\\nGreat! Now let's cross validate a model pipeline.\\n\""
      ]
     },
     "execution_count": 61,
     "metadata": {},
     "output_type": "execute_result"
    }
   ],
   "source": [
    "# exercise 04\n",
    "\n",
    "\"\"\"\n",
    "Cross validating simple flight duration model\n",
    "\n",
    "You've already built a few models for predicting flight duration and evaluated them with a simple train/test split. However, cross-validation provides a much better way to evaluate model performance.\n",
    "\n",
    "In this exercise you're going to train a simple model for flight duration using cross-validation. Travel time is usually strongly correlated with distance, so using the km column alone should give a decent model.\n",
    "\n",
    "The data have been randomly split into flights_train and flights_test.\n",
    "\n",
    "The following classes have already been imported: LinearRegression, RegressionEvaluator, ParamGridBuilder and CrossValidator.\n",
    "\"\"\"\n",
    "\n",
    "# Instructions\n",
    "\n",
    "\"\"\"\n",
    "\n",
    "    Create an empty parameter grid.\n",
    "    Create objects for building and evaluating a linear regression model. The model should predict the \"duration\" field.\n",
    "    Create a cross-validator object. Provide values for the estimator, estimatorParamMaps and evaluator arguments. Choose 5-fold cross validation.\n",
    "    Train and test the model across multiple folds of the training data.\n",
    "\n",
    "\"\"\"\n",
    "\n",
    "# solution\n",
    "\n",
    "# Create an empty parameter grid\n",
    "params = ParamGridBuilder().build()\n",
    "\n",
    "# Create objects for building and evaluating a regression model\n",
    "regression = LinearRegression(labelCol='duration')\n",
    "evaluator = RegressionEvaluator(labelCol='duration')\n",
    "\n",
    "# Create a cross validator\n",
    "cv = CrossValidator(estimator=regression, estimatorParamMaps=params, evaluator=evaluator, numFolds=5)\n",
    "\n",
    "# Train and test model on multiple folds of the training data\n",
    "cv = cv.fit(flights_train)\n",
    "\n",
    "# NOTE: Since cross-valdiation builds multiple models, the fit() method can take a little while to complete.\n",
    "\n",
    "#----------------------------------#\n",
    "\n",
    "# Conclusion\n",
    "\n",
    "\"\"\"\n",
    "Great! Now let's cross validate a model pipeline.\n",
    "\"\"\""
   ]
  },
  {
   "cell_type": "code",
   "execution_count": 62,
   "metadata": {},
   "outputs": [
    {
     "data": {
      "text/plain": [
       "[17.001812810108934]"
      ]
     },
     "execution_count": 62,
     "metadata": {},
     "output_type": "execute_result"
    }
   ],
   "source": [
    "cv.avgMetrics"
   ]
  },
  {
   "cell_type": "code",
   "execution_count": 63,
   "metadata": {
    "tags": []
   },
   "outputs": [
    {
     "data": {
      "text/plain": [
       "'\\nWrapping operations in a pipeline makes cross validating the entire workflow easy!\\n'"
      ]
     },
     "execution_count": 63,
     "metadata": {},
     "output_type": "execute_result"
    }
   ],
   "source": [
    "# exercise 05\n",
    "\n",
    "\"\"\"\n",
    "Cross validating flight duration model pipeline\n",
    "\n",
    "The cross-validated model that you just built was simple, using km alone to predict duration.\n",
    "\n",
    "Another important predictor of flight duration is the origin airport. Flights generally take longer to get into the air from busy airports. Let's see if adding this predictor improves the model!\n",
    "\n",
    "In this exercise you'll add the org field to the model. However, since org is categorical, there's more work to be done before it can be included: it must first be transformed to an index and then one-hot encoded before being assembled with km and used to build the regression model. We'll wrap these operations up in a pipeline.\n",
    "\n",
    "The following objects have already been created:\n",
    "\n",
    "    params — an empty parameter grid\n",
    "    evaluator — a regression evaluator\n",
    "    regression — a LinearRegression object with labelCol='duration'.\n",
    "\n",
    "The StringIndexer, OneHotEncoder, VectorAssembler and CrossValidator classes have already been imported.\n",
    "\"\"\"\n",
    "\n",
    "# Instructions\n",
    "\n",
    "\"\"\"\n",
    "\n",
    "    Create a string indexer. Specify the input and output fields as org and org_idx.\n",
    "    Create a one-hot encoder. Name the output field org_dummy.\n",
    "    Assemble the km and org_dummy fields into a single field called features.\n",
    "    Create a pipeline using the following operations: string indexer, one-hot encoder, assembler and linear regression. Use this to create a cross-validator.\n",
    "\n",
    "\"\"\"\n",
    "regression = LinearRegression(labelCol='duration')\n",
    "# solution\n",
    "\n",
    "# Create an indexer for the org field\n",
    "indexer = StringIndexer(inputCol='org', outputCol='org_idx')\n",
    "\n",
    "# Create an one-hot encoder for the indexed org field\n",
    "onehot = OneHotEncoder(inputCols=['org_idx'], outputCols=['org_dummy'])\n",
    "\n",
    "# Assemble the km and one-hot encoded fields\n",
    "assembler = VectorAssembler(inputCols=['org_dummy','km'], outputCol='features')\n",
    "\n",
    "# Create a pipeline and cross-validator.\n",
    "pipeline = Pipeline(stages=[indexer, onehot, assembler, regression])\n",
    "cv = CrossValidator(estimator=pipeline,\n",
    "          estimatorParamMaps=params,\n",
    "          evaluator=evaluator)\n",
    "\n",
    "#----------------------------------#\n",
    "\n",
    "# Conclusion\n",
    "\n",
    "\"\"\"\n",
    "Wrapping operations in a pipeline makes cross validating the entire workflow easy!\n",
    "\"\"\""
   ]
  },
  {
   "cell_type": "code",
   "execution_count": 64,
   "metadata": {
    "tags": []
   },
   "outputs": [
    {
     "name": "stdout",
     "output_type": "stream",
     "text": [
      "Number of models to be tested:  12\n"
     ]
    },
    {
     "data": {
      "text/plain": [
       "'\\nNice! Multiple models are built effortlessly using grid search.\\n'"
      ]
     },
     "execution_count": 64,
     "metadata": {},
     "output_type": "execute_result"
    }
   ],
   "source": [
    "# exercise 06\n",
    "\n",
    "\"\"\"\n",
    "Optimizing flights linear regression\n",
    "\n",
    "Up until now you've been using the default hyper-parameters when building your models. In this exercise you'll use cross validation to choose an optimal (or close to optimal) set of model hyper-parameters.\n",
    "\n",
    "The following have already been created:\n",
    "\n",
    "    regression — a LinearRegression object\n",
    "    pipeline — a pipeline with string indexer, one-hot encoder, vector assembler and linear regression and\n",
    "    evaluator — a RegressionEvaluator object.\n",
    "\n",
    "\"\"\"\n",
    "\n",
    "# Instructions\n",
    "\n",
    "\"\"\"\n",
    "\n",
    "    Create a parameter grid builder.\n",
    "    Add grids for with regression.regParam (values 0.01, 0.1, 1.0, and 10.0) and regression.elasticNetParam (values 0.0, 0.5, and 1.0).\n",
    "    Build the grid.\n",
    "    Create a cross validator, specifying five folds.\n",
    "\n",
    "\"\"\"\n",
    "\n",
    "# solution\n",
    "\n",
    "# Create parameter grid\n",
    "params = ParamGridBuilder()\n",
    "\n",
    "# Add grids for two parameters\n",
    "params = params.addGrid(regression.regParam, [0.01,0.1,1.0,10.0]) \\\n",
    "               .addGrid(regression.elasticNetParam, [0.0,0.5,1.0])\n",
    "\n",
    "# Build the parameter grid\n",
    "params = params.build()\n",
    "print('Number of models to be tested: ', len(params))\n",
    "\n",
    "# Create cross-validator\n",
    "cv = CrossValidator(estimator=pipeline, estimatorParamMaps=params, evaluator=evaluator, numFolds=5)\n",
    "\n",
    "#----------------------------------#\n",
    "\n",
    "# Conclusion\n",
    "\n",
    "\"\"\"\n",
    "Nice! Multiple models are built effortlessly using grid search.\n",
    "\"\"\""
   ]
  },
  {
   "cell_type": "code",
   "execution_count": 65,
   "metadata": {},
   "outputs": [],
   "source": [
    "flights_train, flights_test = flights.randomSplit([0.80,0.20])"
   ]
  },
  {
   "cell_type": "code",
   "execution_count": 66,
   "metadata": {},
   "outputs": [],
   "source": [
    "cv = cv.fit(flights_train)"
   ]
  },
  {
   "cell_type": "code",
   "execution_count": 67,
   "metadata": {
    "tags": []
   },
   "outputs": [
    {
     "name": "stdout",
     "output_type": "stream",
     "text": [
      "[StringIndexerModel: uid=StringIndexer_9e236fd88b7b, handleInvalid=error, OneHotEncoderModel: uid=OneHotEncoder_09ecf555e94c, dropLast=true, handleInvalid=error, numInputCols=1, numOutputCols=1, VectorAssembler_617a265e6ee9, LinearRegressionModel: uid=LinearRegression_a567419c0ebc, numFeatures=8]\n",
      "RMSE = 11.159192651672685\n"
     ]
    },
    {
     "data": {
      "text/plain": [
       "'\\nThe best model performs pretty well on the testing data!\\n'"
      ]
     },
     "execution_count": 67,
     "metadata": {},
     "output_type": "execute_result"
    }
   ],
   "source": [
    "# exercise 07\n",
    "\n",
    "\"\"\"\n",
    "Dissecting the best flight duration model\n",
    "\n",
    "You just set up a CrossValidator to find good parameters for the linear regression model predicting flight duration.\n",
    "\n",
    "The model pipeline has multiple stages (objects of type StringIndexer, OneHotEncoder, VectorAssembler and LinearRegression), which operate in sequence. The stages are available as the stages attribute on the pipeline object. They are represented by a list and the stages are executed in the sequence in which they appear in the list.\n",
    "\n",
    "Now you're going to take a closer look at the pipeline, split out the stages and use it to make predictions on the testing data.\n",
    "\n",
    "The following objects have already been created:\n",
    "\n",
    "    cv — a trained CrossValidatorModel object and\n",
    "    evaluator — a RegressionEvaluator object.\n",
    "\n",
    "The flights data have been randomly split into flights_train and flights_test.\n",
    "\"\"\"\n",
    "\n",
    "# Instructions\n",
    "\n",
    "\"\"\"\n",
    "\n",
    "    Retrieve the best model.\n",
    "    Look at the stages in the best model.\n",
    "    Isolate the linear regression stage and extract its parameters.\n",
    "    Use the best model to generate predictions on the testing data and calculate the RMSE.\n",
    "\n",
    "\"\"\"\n",
    "\n",
    "# solution\n",
    "\n",
    "# Get the best model from cross validation\n",
    "best_model = cv.bestModel\n",
    "\n",
    "# Look at the stages in the best model\n",
    "print(best_model.stages)\n",
    "\n",
    "# Get the parameters for the LinearRegression object in the best model\n",
    "best_model.stages[3].extractParamMap()\n",
    "\n",
    "# Generate predictions on testing data using the best model then calculate RMSE\n",
    "predictions = best_model.transform(flights_test)\n",
    "print(\"RMSE =\", evaluator.evaluate(predictions))\n",
    "\n",
    "#----------------------------------#\n",
    "\n",
    "# Conclusion\n",
    "\n",
    "\"\"\"\n",
    "The best model performs pretty well on the testing data!\n",
    "\"\"\""
   ]
  },
  {
   "cell_type": "code",
   "execution_count": 68,
   "metadata": {
    "tags": []
   },
   "outputs": [
    {
     "data": {
      "text/plain": [
       "'\\nUsing cross-validation on a pipeline makes it possible to optimise each stage in the workflow.\\n'"
      ]
     },
     "execution_count": 68,
     "metadata": {},
     "output_type": "execute_result"
    }
   ],
   "source": [
    "# exercise 08\n",
    "\n",
    "\"\"\"\n",
    "SMS spam optimised\n",
    "\n",
    "The pipeline you built earlier for the SMS spam model used the default parameters for all of the elements in the pipeline. It's very unlikely that these parameters will give a particularly good model though. In this exercise you're going to run the pipeline for a selection of parameter values. We're going to do this in a systematic way: the values for each of the parameters will be laid out on a grid and then pipeline will systematically run across each point in the grid.\n",
    "\n",
    "In this exercise you'll set up a parameter grid which can be used with cross validation to choose a good set of parameters for the SMS spam classifier.\n",
    "\n",
    "The following are already defined:\n",
    "\n",
    "    hasher — a HashingTF object and\n",
    "    logistic — a LogisticRegression object.\n",
    "\n",
    "\"\"\"\n",
    "\n",
    "# Instructions\n",
    "\n",
    "\"\"\"\n",
    "\n",
    "    Create a parameter grid builder object.\n",
    "    Add grid points for numFeatures and binary parameters to the HashingTF object, giving values 1024, 4096 and 16384, and True and False, respectively.\n",
    "    Add grid points for regParam and elasticNetParam parameters to the LogisticRegression object, giving values of 0.01, 0.1, 1.0 and 10.0, and 0.0, 0.5, and 1.0 respectively.\n",
    "    Build the parameter grid.\n",
    "\n",
    "\"\"\"\n",
    "\n",
    "# solution\n",
    "\n",
    "# Create parameter grid\n",
    "params = ParamGridBuilder()\n",
    "\n",
    "# Add grid for hashing trick parameters\n",
    "params = params.addGrid(hasher.numFeatures, [1024,4096,16384]) \\\n",
    "               .addGrid(hasher.binary, [True, False])\n",
    "\n",
    "# Add grid for logistic regression parameters\n",
    "params = params.addGrid(logistic.regParam, [0.01, 0.1, 1.0, 10.0]) \\\n",
    "               .addGrid(logistic.elasticNetParam, [0.0,0.5,1.0])\n",
    "\n",
    "# Build parameter grid\n",
    "params = params.build()\n",
    "\n",
    "#----------------------------------#\n",
    "\n",
    "# Conclusion\n",
    "\n",
    "\"\"\"\n",
    "Using cross-validation on a pipeline makes it possible to optimise each stage in the workflow.\n",
    "\"\"\""
   ]
  },
  {
   "cell_type": "code",
   "execution_count": 72,
   "metadata": {},
   "outputs": [],
   "source": [
    "assembler = VectorAssembler(inputCols=['mon','depart','duration'], outputCol='features')\n",
    "data = assembler.transform(flights)"
   ]
  },
  {
   "cell_type": "code",
   "execution_count": 75,
   "metadata": {},
   "outputs": [
    {
     "name": "stdout",
     "output_type": "stream",
     "text": [
      "+---+---+---+-------+---+------+--------+-----+-------+-----------------+\n",
      "|mon|dom|dow|carrier|org|depart|duration|delay|     km|         features|\n",
      "+---+---+---+-------+---+------+--------+-----+-------+-----------------+\n",
      "|  0| 22|  2|     UA|ORD| 16.33|      82|   30| 508.55| [0.0,16.33,82.0]|\n",
      "|  2| 20|  4|     UA|SFO|  6.17|      82|   -8| 542.35|  [2.0,6.17,82.0]|\n",
      "|  9| 13|  1|     AA|ORD| 10.33|     195|   -5|1989.15|[9.0,10.33,195.0]|\n",
      "|  5|  2|  1|     UA|SFO|  7.98|     102|    2| 885.14| [5.0,7.98,102.0]|\n",
      "|  7|  2|  6|     AA|ORD| 10.83|     135|   54|1179.65|[7.0,10.83,135.0]|\n",
      "+---+---+---+-------+---+------+--------+-----+-------+-----------------+\n",
      "only showing top 5 rows\n",
      "\n"
     ]
    }
   ],
   "source": [
    "data.show(5)"
   ]
  },
  {
   "cell_type": "code",
   "execution_count": 74,
   "metadata": {},
   "outputs": [],
   "source": [
    "import pyspark.sql.functions as F\n",
    "\n",
    "def modify_label(df):\n",
    "    df = df.withColumn('label', F.when(df.delay >= 15, 1).otherwise(0))\n",
    "    return df"
   ]
  },
  {
   "cell_type": "code",
   "execution_count": 77,
   "metadata": {},
   "outputs": [],
   "source": [
    "data = modify_label(data)"
   ]
  },
  {
   "cell_type": "code",
   "execution_count": 78,
   "metadata": {},
   "outputs": [
    {
     "name": "stdout",
     "output_type": "stream",
     "text": [
      "+---+---+---+-------+---+------+--------+-----+-------+-----------------+-----+\n",
      "|mon|dom|dow|carrier|org|depart|duration|delay|     km|         features|label|\n",
      "+---+---+---+-------+---+------+--------+-----+-------+-----------------+-----+\n",
      "|  0| 22|  2|     UA|ORD| 16.33|      82|   30| 508.55| [0.0,16.33,82.0]|    1|\n",
      "|  2| 20|  4|     UA|SFO|  6.17|      82|   -8| 542.35|  [2.0,6.17,82.0]|    0|\n",
      "|  9| 13|  1|     AA|ORD| 10.33|     195|   -5|1989.15|[9.0,10.33,195.0]|    0|\n",
      "|  5|  2|  1|     UA|SFO|  7.98|     102|    2| 885.14| [5.0,7.98,102.0]|    0|\n",
      "|  7|  2|  6|     AA|ORD| 10.83|     135|   54|1179.65|[7.0,10.83,135.0]|    1|\n",
      "+---+---+---+-------+---+------+--------+-----+-------+-----------------+-----+\n",
      "only showing top 5 rows\n",
      "\n"
     ]
    }
   ],
   "source": [
    "data.show(5)"
   ]
  },
  {
   "cell_type": "code",
   "execution_count": 79,
   "metadata": {},
   "outputs": [],
   "source": [
    "flights_train, flights_test = data.randomSplit([0.80,0.20])"
   ]
  },
  {
   "cell_type": "code",
   "execution_count": 80,
   "metadata": {
    "tags": []
   },
   "outputs": [
    {
     "name": "stderr",
     "output_type": "stream",
     "text": [
      "                                                                                \r"
     ]
    },
    {
     "name": "stdout",
     "output_type": "stream",
     "text": [
      "0.6082295234958037\n"
     ]
    },
    {
     "name": "stderr",
     "output_type": "stream",
     "text": [
      "                                                                                \r"
     ]
    },
    {
     "name": "stdout",
     "output_type": "stream",
     "text": [
      "0.6831926357282928\n",
      "20\n",
      "(3,[0,1,2],[0.3350362153702097,0.3220376711165534,0.34292611351323676])\n"
     ]
    },
    {
     "data": {
      "text/plain": [
       "'\\nGood job! A Gradient-Boosted Tree almost always provides better performance than a plain Decision Tree.\\n'"
      ]
     },
     "execution_count": 80,
     "metadata": {},
     "output_type": "execute_result"
    }
   ],
   "source": [
    "# exercise 09\n",
    "\n",
    "\"\"\"\n",
    "Delayed flights with Gradient-Boosted Trees\n",
    "\n",
    "You've previously built a classifier for flights likely to be delayed using a Decision Tree. In this exercise you'll compare a Decision Tree model to a Gradient-Boosted Trees model.\n",
    "\n",
    "The flights data have been randomly split into flights_train and flights_test.\n",
    "\"\"\"\n",
    "\n",
    "# Instructions\n",
    "\n",
    "\"\"\"\n",
    "\n",
    "    Import the classes required to create Decision Tree and Gradient-Boosted Tree classifiers.\n",
    "    Create Decision Tree and Gradient-Boosted Tree classifiers. Train on the training data.\n",
    "    Create an evaluator and calculate AUC on testing data for both classifiers. Which model performs better?\n",
    "    For the Gradient-Boosted Tree classifier print the number of trees and the relative importance of features.\n",
    "\n",
    "\"\"\"\n",
    "\n",
    "# solution\n",
    "\n",
    "# Import the classes required\n",
    "from pyspark.ml.classification import DecisionTreeClassifier, GBTClassifier\n",
    "from pyspark.ml.evaluation import BinaryClassificationEvaluator\n",
    "\n",
    "# Create model objects and train on training data\n",
    "tree = DecisionTreeClassifier().fit(flights_train)\n",
    "gbt = GBTClassifier().fit(flights_train)\n",
    "\n",
    "# Compare AUC on testing data\n",
    "evaluator = BinaryClassificationEvaluator()\n",
    "print(evaluator.evaluate(tree.transform(flights_test)))\n",
    "print(evaluator.evaluate(gbt.transform(flights_test)))\n",
    "\n",
    "# Find the number of trees and the relative importance of features\n",
    "print(gbt.getNumTrees)\n",
    "print(gbt.featureImportances)\n",
    "\n",
    "#----------------------------------#\n",
    "\n",
    "# Conclusion\n",
    "\n",
    "\"\"\"\n",
    "Good job! A Gradient-Boosted Tree almost always provides better performance than a plain Decision Tree.\n",
    "\"\"\""
   ]
  },
  {
   "cell_type": "code",
   "execution_count": null,
   "metadata": {
    "tags": []
   },
   "outputs": [
    {
     "data": {
      "text/plain": [
       "'\\n\\n'"
      ]
     },
     "execution_count": 9,
     "metadata": {},
     "output_type": "execute_result"
    }
   ],
   "source": [
    "# exercise 10\n",
    "\n",
    "\"\"\"\n",
    "Delayed flights with a Random Forest\n",
    "\n",
    "In this exercise you'll bring together cross validation and ensemble methods. You'll be training a Random Forest classifier to predict delayed flights, using cross validation to choose the best values for model parameters.\n",
    "\n",
    "You'll find good values for the following parameters:\n",
    "\n",
    "    featureSubsetStrategy — the number of features to consider for splitting at each node and\n",
    "    maxDepth — the maximum number of splits along any branch.\n",
    "\n",
    "Unfortunately building this model takes too long, so we won't be running the .fit() method on the pipeline.\n",
    "\"\"\"\n",
    "\n",
    "# Instructions\n",
    "\n",
    "\"\"\"\n",
    "\n",
    "    Create a random forest classifier object.\n",
    "    Create a parameter grid builder object. Add grid points for the featureSubsetStrategy and maxDepth parameters.\n",
    "    Create binary classification evaluator.\n",
    "    Create a cross-validator object, specifying the estimator, parameter grid and evaluator. Choose 5-fold cross validation.\n",
    "\n",
    "\"\"\"\n",
    "\n",
    "# solution\n",
    "\n",
    "# Create a random forest classifier\n",
    "forest = RandomForestClassifier()\n",
    "\n",
    "# Create a parameter grid\n",
    "params = ParamGridBuilder() \\\n",
    "            .addGrid(forest.featureSubsetStrategy, ['all', 'onethird', 'sqrt', 'log2']) \\\n",
    "            .addGrid(forest.maxDepth, [2, 5, 10]) \\\n",
    "            .build()\n",
    "\n",
    "# Create a binary classification evaluator\n",
    "evaluator = BinaryClassificationEvaluator()\n",
    "\n",
    "# Create a cross-validator\n",
    "cv = CrossValidator(estimator = forest, estimatorParamMaps = params , evaluator = evaluator, numFolds = 5)\n",
    "\n",
    "#----------------------------------#\n",
    "\n",
    "# Conclusion\n",
    "\n",
    "\"\"\"\n",
    "Excellent! A grid search can be used to optimize all of the parameters in a model pipeline.\n",
    "\"\"\""
   ]
  },
  {
   "cell_type": "code",
   "execution_count": null,
   "metadata": {},
   "outputs": [],
   "source": [
    "# exercise 11\n",
    "\n",
    "\"\"\"\n",
    "Evaluating Random Forest\n",
    "\n",
    "In this final exercise you'll be evaluating the results of cross-validation on a Random Forest model.\n",
    "\n",
    "The following have already been created:\n",
    "\n",
    "    cv - a cross-validator which has already been fit to the training data\n",
    "    evaluator — a BinaryClassificationEvaluator object and\n",
    "    flights_test — the testing data.\n",
    "\n",
    "\"\"\"\n",
    "\n",
    "# Instructions\n",
    "\n",
    "\"\"\"\n",
    "\n",
    "    Print a list of average AUC metrics across all models in the parameter grid.\n",
    "    Display the average AUC for the best model. This will be the largest AUC in the list.\n",
    "    Print an explanation of the maxDepth and featureSubsetStrategy parameters for the best model.\n",
    "    Display the AUC for the best model predictions on the testing data.\n",
    "\n",
    "\"\"\"\n",
    "\n",
    "# solution\n",
    "\n",
    "# Average AUC for each parameter combination in grid\n",
    "print(cv.avgMetrics)\n",
    "\n",
    "# Average AUC for the best model\n",
    "print(cv.bestModel.evaluate(flights_test))\n",
    "\n",
    "# What's the optimal parameter value for maxDepth?\n",
    "print(cv.bestModel.explainParam('maxDepth'))\n",
    "# What's the optimal parameter value for featureSubsetStrategy?\n",
    "print(cv.bestModel.explainParam('featureSubsetStrategy'))\n",
    "\n",
    "# AUC for best model on testing data\n",
    "print(evaluator.evaluate(cv.transform(flights_test)))\n",
    "\n",
    "#----------------------------------#\n",
    "\n",
    "# Conclusion\n",
    "\n",
    "\"\"\"\n",
    "Fantastic! Optimized Random Forest > Random Forest > Decision Tree\n",
    "\"\"\""
   ]
  },
  {
   "cell_type": "code",
   "execution_count": 81,
   "metadata": {},
   "outputs": [],
   "source": [
    "spark.stop()"
   ]
  }
 ],
 "metadata": {
  "kernelspec": {
   "display_name": "Python 3 (ipykernel)",
   "language": "python",
   "name": "python3"
  },
  "language_info": {
   "codemirror_mode": {
    "name": "ipython",
    "version": 3
   },
   "file_extension": ".py",
   "mimetype": "text/x-python",
   "name": "python",
   "nbconvert_exporter": "python",
   "pygments_lexer": "ipython3",
   "version": "3.11.3"
  }
 },
 "nbformat": 4,
 "nbformat_minor": 4
}
