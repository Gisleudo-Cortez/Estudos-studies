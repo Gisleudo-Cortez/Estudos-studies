{
 "cells": [
  {
   "cell_type": "code",
   "execution_count": 1,
   "metadata": {
    "editable": true,
    "slideshow": {
     "slide_type": ""
    },
    "tags": []
   },
   "outputs": [],
   "source": [
    "# run this to shorten the data import from the files\n",
    "import os\n",
    "cwd = os.path.dirname(os.getcwd())+'/'\n",
    "path_data = os.path.join(os.path.dirname(os.getcwd()), 'datasets/')\n"
   ]
  },
  {
   "cell_type": "markdown",
   "metadata": {},
   "source": [
    "# Categorizing Testing Strategies for ML Pipeline Readiness and Staleness\n",
    "\n",
    "As an ML engineer, you have been tasked with ensuring the reliability of your machine learning pipeline. You understand that this requires you to monitor not only the readiness of the pipeline but also its potential staleness over time. The readiness of the pipeline is critical to ensure that individual components and the overall system are functioning as expected. On the other hand, staleness occurs when a model's performance decreases due to changes in data or the environment, causing inaccurate predictions. To tackle these challenges, you need to apply various testing strategies and keep a close eye on the pipeline's performance.\n",
    "\n",
    "![Answer](images/ch_04-01.png)"
   ]
  },
  {
   "cell_type": "markdown",
   "metadata": {},
   "source": [
    "# Addressing Model Staleness in Machine Learning Pipelines\n",
    "\n",
    "Model reliability in machine learning involves not only performance but also factors such as data and environment, latency, and speed of the model. Three important types of tests for model reliability are unit tests, integration tests, and smoke tests. Model staleness occurs when a model's performance decreases over time due to changes in data or the environment.\n",
    "\n",
    "Question: Which of the following actions can help address model staleness? (Select all that apply)\n",
    "\n",
    "### Possible Answers\n",
    "\n",
    "    Re-training the model on new data{Answer}\n",
    "\n",
    "\n",
    "    Updating the data pipeline to account for changes in the environment{Answer}\n",
    "\n",
    "\n",
    "    Running unit tests on individual components of the ML pipeline\n",
    "\n",
    "\n",
    "    Changing the model architecture to adapt to new patterns in the data{Answer}\n",
    "\n",
    "\n",
    "    Ensuring the speed and latency of the model are within acceptable limits"
   ]
  },
  {
   "cell_type": "markdown",
   "metadata": {},
   "source": [
    "# Picking the right test\n",
    "\n",
    "A team is developing a machine learning model to predict customer churn for a subscription-based business. They have built a baseline model and want to improve its reliability.\n",
    "\n",
    "What testing routine can the team use to identify the most important features in the model?\n",
    "\n",
    "### Possible Answers\n",
    "\n",
    "\n",
    "    Model staleness test\n",
    "    \n",
    "    \n",
    "    Integration test\n",
    "    \n",
    "    \n",
    "    Permutation importance test {answer}\n",
    "    \n",
    "    \n",
    "    Smoke test"
   ]
  },
  {
   "cell_type": "markdown",
   "metadata": {},
   "source": [
    "# Consistency check\n",
    "\n",
    "A team is developing a machine learning model to predict housing prices based on various features. They want to ensure that the data they are using to train the model is consistent and reliable.\n",
    "\n",
    "Which of the following testing routines can the team use to check whether the data they are using to train the model is consistent and follows a specified format?\n",
    "\n",
    "### Possible Answers\n",
    "\n",
    "\n",
    "    Expectation testing {Answer}\n",
    "    \n",
    "    \n",
    "    Bias testing\n",
    "    \n",
    "    \n",
    "    Unit testing\n",
    "    \n",
    "    \n",
    "    Smoke testing"
   ]
  },
  {
   "cell_type": "markdown",
   "metadata": {},
   "source": [
    "# Predicting customer lifetime value\n",
    "\n",
    "Many businesses take time building models to predict customer lifetime value (CLV) for a subscription-based business. They do this because it helps them forecast demand, revenue, and plenty of other reasons. This model has to be relatively accurate and they want to ensure that the model is not unfairly treating certain groups of customers.\n",
    "\n",
    "Question: Which of the following testing routines can the team use to check whether the model is treating all customers fairly, regardless of their background or characteristics?\n",
    "\n",
    "### Possible Answers\n",
    "\n",
    "\n",
    "    Feature importance testing\n",
    "    \n",
    "    \n",
    "    Null hypothesis testing\n",
    "    \n",
    "    \n",
    "    Model stability testing\n",
    "    \n",
    "    \n",
    "    Bias testing {Answer}\n",
    "\n",
    "\n",
    "**Bias testing is an important testing routine for ensuring that a machine learning model is treating all customers fairly and consistently, regardless of their background or characteristics. By identifying and mitigating potential sources of bias in the model, you can build more ethical and reliable models.**"
   ]
  },
  {
   "cell_type": "markdown",
   "metadata": {},
   "source": [
    "# Classifying fairness\n",
    "\n",
    "This exercise is focused on the concepts of individual and group fairness in machine learning models. In the exercise, you will be presented with six different examples, and you need to drag and drop them into the appropriate categories, either \"Individual Fairness\" or \"Group Fairness\".\n",
    "\n",
    "![Answer](images/ch_04-02.png)"
   ]
  },
  {
   "cell_type": "markdown",
   "metadata": {},
   "source": [
    "# Testing machine learning pipelines\n",
    "\n",
    "As a skilled machine learning engineer, you've become well-versed in the best practices for testing models and MLOps pipelines. You understand the importance of writing tests for models, data, and the code that produces your models. Now, it's time to put your knowledge into action and demonstrate your expertise in applying these best practices to improve your ML pipeline!\n",
    "\n",
    "![Answer](images/ch_04-03.png)"
   ]
  }
 ],
 "metadata": {
  "kernelspec": {
   "display_name": "Python 3 (ipykernel)",
   "language": "python",
   "name": "python3"
  },
  "language_info": {
   "codemirror_mode": {
    "name": "ipython",
    "version": 3
   },
   "file_extension": ".py",
   "mimetype": "text/x-python",
   "name": "python",
   "nbconvert_exporter": "python",
   "pygments_lexer": "ipython3",
   "version": "3.11.6"
  }
 },
 "nbformat": 4,
 "nbformat_minor": 4
}
