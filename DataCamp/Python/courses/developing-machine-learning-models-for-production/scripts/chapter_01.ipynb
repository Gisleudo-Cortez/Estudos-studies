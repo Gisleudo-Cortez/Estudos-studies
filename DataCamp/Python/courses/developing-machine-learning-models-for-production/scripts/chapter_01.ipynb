{
 "cells": [
  {
   "cell_type": "code",
   "execution_count": 1,
   "metadata": {
    "editable": true,
    "slideshow": {
     "slide_type": ""
    },
    "tags": []
   },
   "outputs": [],
   "source": [
    "# run this to shorten the data import from the files\n",
    "import os\n",
    "cwd = os.path.dirname(os.getcwd())+'/'\n",
    "path_data = os.path.join(os.path.dirname(os.getcwd()), 'datasets/')\n"
   ]
  },
  {
   "cell_type": "markdown",
   "metadata": {},
   "source": [
    "# What is a key aspect of MLOps?\n",
    "\n",
    "Imagine you're part of a team implementing machine learning solutions in your organization. As a member of this team, which key aspects of MLOps should you be familiar with to ensure the success of your machine learning pipeline? 🚀\n",
    "\n",
    "### Possible Answers\n",
    "\n",
    "Continuous experimentation with machine learning models{Answer}\n",
    "\n",
    "\n",
    "Regular model maintenance and updates{Answer}\n",
    "\n",
    "\n",
    "Model evaluation and selection process{Answer}"
   ]
  },
  {
   "cell_type": "markdown",
   "metadata": {},
   "source": [
    "# What is technical debt?\n",
    "\n",
    "Imagine you're a software developer working on a tight deadline. In the heat of the moment, you might end up generating something called \"technical debt.\" Which of these would fall under the category of \"technical debt\"\n",
    "\n",
    "### Possible Answers\n",
    "\n",
    "\n",
    "    Picking the perfect machine learning model for a project\n",
    "    \n",
    "    \n",
    "    Constantly trying out various machine learning models\n",
    "    \n",
    "    \n",
    "    Deploying models in a safe, scalable environment\n",
    "    \n",
    "    \n",
    "    Hasty code with insufficient testing or validation {Answer}"
   ]
  },
  {
   "cell_type": "markdown",
   "metadata": {},
   "source": [
    "# Version control\n",
    "\n",
    "In the context of machine learning projects, which option is NOT a benefit of using a version control system?\n",
    "\n",
    "### Possible Answers\n",
    "\n",
    "\n",
    "    Rolling back changes when needed\n",
    "    \n",
    "    \n",
    "    Reducing the need for clear documentation {Answer}\n",
    "    \n",
    "    \n",
    "    Pinpointing the origin of bugs and errors\n",
    "    \n",
    "    \n",
    "    Collaborating on a codebase in parallel\n",
    "    \n",
    "    "
   ]
  },
  {
   "cell_type": "markdown",
   "metadata": {},
   "source": [
    "# Code organization\n",
    "\n",
    "What makes a machine learning repository well-organized and easy to navigate?\n",
    "\n",
    "### Possible Answers\n",
    "\n",
    "\n",
    "    Separating raw, processed, and interim data into distinct folders\n",
    "    \n",
    "    \n",
    "    Clearly labeling and organizing data\n",
    "    \n",
    "    \n",
    "    Grouping models, notebooks, and source code logically\n",
    "    \n",
    "    \n",
    "    All of the above {Answer}\n",
    "    \n",
    "    \n",
    "    None of the above"
   ]
  },
  {
   "cell_type": "markdown",
   "metadata": {},
   "source": [
    "# Why document labeling methods?\n",
    "\n",
    "You have been tasked with writing up documentation for your model training process. As part of this documentation, you realize that the data you originally started with doesn't have proper labels attached to it and you have no way of knowing how it came to be this way because there is no documentation. Frankly, you're lucky to even have noticed it!\n",
    "\n",
    "To remedy this, you put together a team of people with deep knowledge of the subject to create a properly attributed response variable for a supervised task. You figure it will be important to document this process because then others will know how the labels were created and can critique them if needed.\n",
    "\n",
    "You spend the time to write up how you came to the labels, but you have a sense that there is another reason you wrote all of this up. What is another reason to document data labeling methods for a supervised task?\n",
    "\n",
    "### Possible Answers\n",
    "\n",
    "\n",
    "    It allows others to assess the quality of the machine learning model by comparing it against other performance metrics.\n",
    "    \n",
    "    \n",
    "    It allows others to more effectively improve on the methods, allowing for speedy model iteration. {Answer}\n",
    "    \n",
    "    \n",
    "    It ensures consistency in production by making sure training labeling methods match with real-time ground truth labels."
   ]
  },
  {
   "cell_type": "markdown",
   "metadata": {},
   "source": [
    "# MLOps best practices\n",
    "\n",
    "You have a great grasp on the ways of reducing technical debt in your machine learning pipelines by writing effective documentation and writing maintainable code. The difficult part is knowing when to use a specific best practice and being able to use enough best practices to cover the many ways of reducing technical debt, including writing maintainable code and proper documentation.\n",
    "\n",
    "In this exercise, you will categorize each best practice into the bucket it best belongs to so that when you need to put them into practice, you will know if you are addressing each major area with at least one best practice. It's time to put this knowledge to the test!\n",
    "\n",
    "![Answer](images/ch_01-01.png)"
   ]
  }
 ],
 "metadata": {
  "kernelspec": {
   "display_name": "Python 3 (ipykernel)",
   "language": "python",
   "name": "python3"
  },
  "language_info": {
   "codemirror_mode": {
    "name": "ipython",
    "version": 3
   },
   "file_extension": ".py",
   "mimetype": "text/x-python",
   "name": "python",
   "nbconvert_exporter": "python",
   "pygments_lexer": "ipython3",
   "version": "3.11.6"
  }
 },
 "nbformat": 4,
 "nbformat_minor": 4
}
