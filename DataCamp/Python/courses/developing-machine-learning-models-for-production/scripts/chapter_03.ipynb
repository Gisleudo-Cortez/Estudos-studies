{
 "cells": [
  {
   "cell_type": "code",
   "execution_count": 1,
   "metadata": {
    "editable": true,
    "slideshow": {
     "slide_type": ""
    },
    "tags": []
   },
   "outputs": [],
   "source": [
    "# run this to shorten the data import from the files\n",
    "import os\n",
    "cwd = os.path.dirname(os.getcwd())+'/'\n",
    "path_data = os.path.join(os.path.dirname(os.getcwd()), 'datasets/')\n"
   ]
  },
  {
   "cell_type": "markdown",
   "metadata": {},
   "source": [
    "# Goal of serialization and containerization\n",
    "\n",
    "What is the main goal of serializing and containerizing ML models for production?\n",
    "\n",
    "### Possible Answers\n",
    "\n",
    "\n",
    "    To optimize performance and deployment in production {Answer}\n",
    "    \n",
    "    \n",
    "    To make the model more accurate\n",
    "    \n",
    "    \n",
    "    To make the model more interpretable\n",
    "    \n",
    "    \n",
    "    To reduce the size of the model"
   ]
  },
  {
   "cell_type": "markdown",
   "metadata": {},
   "source": [
    "# Model packaging order\n",
    "\n",
    "As we move into more advanced topics in MLOps, it's important to understand the process of packaging an ML model for deployment in a production environment. This involves a series of critical steps that must be followed in a specific order to ensure the model is deployed successfully. In this exercise, we'll test your knowledge of these steps to see if you're ready to take on the challenges of deploying models in a production environment!\n",
    "\n",
    "![Answer](images/ch_03-01.png)"
   ]
  },
  {
   "cell_type": "markdown",
   "metadata": {},
   "source": [
    "# Scaling\n",
    "\n",
    "What is a key challenge of scaling ML models in production environments?\n",
    "\n",
    "### Possible Answers\n",
    "\n",
    "\n",
    "    Model accuracy decreases with increased scale\n",
    "    \n",
    "    \n",
    "    Model complexity decreases with increased scale\n",
    "    \n",
    "    \n",
    "    Deployment velocity is not impacted by scaling\n",
    "    \n",
    "    \n",
    "    Compute constraints limit the number of predictions that can be made {Answer}"
   ]
  },
  {
   "cell_type": "markdown",
   "metadata": {},
   "source": [
    "# Model complexity\n",
    "\n",
    "In this interactive exercise, you will categorize various techniques and strategies used to balance model complexity and scalability in machine learning pipelines. This is an important aspect of the machine learning process, as it ensures that the models you create are both effective and efficient.\n",
    "\n",
    "![Answer](images/ch_03-02.png)"
   ]
  },
  {
   "cell_type": "markdown",
   "metadata": {},
   "source": [
    "# Categorizing scaling techniques\n",
    "\n",
    "Imagine you are the head engineer of a rapidly growing tech startup that's experiencing a sudden surge in user traffic. Your team's mission is to ensure the company's infrastructure can handle this rapid growth without collapsing. To do so, you need to choose the most appropriate scaling strategy for each component of your system. In this exercise, you will be reviewing and categorizing various items based on the best scaling strategy they fit into.\n",
    "\n",
    "As a master engineer, it's time to put your knowledge of scaling strategies to the test! You'll analyze a list of items and identify which scaling strategy - horizontal, vertical, or auto-scaling - is the best fit for each. By mastering these strategies, you'll help your startup maintain stability and performance amidst an explosive growth in user traffic.\n",
    "\n",
    "![Answer](images/ch_03-03.png)"
   ]
  },
  {
   "cell_type": "markdown",
   "metadata": {},
   "source": [
    "# Benefits of continuous delivery\n",
    "\n",
    "What is a main benefit of implementing Continuous Delivery (CD) in ML pipelines?\n",
    "\n",
    "### Possible Answers\n",
    "\n",
    "\n",
    "    To make sure unit tests are written for all new model versions\n",
    "    \n",
    "    \n",
    "    To reduce the time required to bring new models to production {Answer}\n",
    "    \n",
    "    \n",
    "    To ensure that the model is always in a working state\n",
    "    \n",
    "    \n",
    "    To ensure that the model remains accurate and up-to-date"
   ]
  },
  {
   "cell_type": "markdown",
   "metadata": {},
   "source": [
    "# CI/CD steps\n",
    "\n",
    "Imagine you are part of a team of data scientists and developers working for a company that has developed an AI-powered recommendation system for personalized content. The system is already deployed in production and helps users find relevant articles, videos, and other media based on their preferences and browsing history. To maintain the system's effectiveness and relevance, your team must continuously update the machine learning models used in the recommendation system.\n",
    "\n",
    "The company is using a Continuous Integration and Continuous Deployment (CI/CD) process to streamline the development, training, and deployment of the models. Your task is to follow the steps involved in the CI/CD cycle, keeping in mind that the model is already in production, and ensure that the model stays up-to-date and optimized for performance.\n",
    "\n",
    "![Answer](images/ch_03-04.png)"
   ]
  },
  {
   "cell_type": "markdown",
   "metadata": {},
   "source": [
    "# Putting ML models into production\n",
    "\n",
    "You know several best practices when considering putting models into production in your MLOps lifecycle. You can deploy automation tools to put models into the hands of your users faster. You can maximize model scalability and efficiency by effectively packaging environments and models.\n",
    "\n",
    "To be the most effective, you will need to recall these best practices and know how specifically they are helping your ML pipeline. It's time to put this knowledge to the test!\n",
    "\n",
    "![Answer](images/ch_03-05.png)"
   ]
  }
 ],
 "metadata": {
  "kernelspec": {
   "display_name": "Python 3 (ipykernel)",
   "language": "python",
   "name": "python3"
  },
  "language_info": {
   "codemirror_mode": {
    "name": "ipython",
    "version": 3
   },
   "file_extension": ".py",
   "mimetype": "text/x-python",
   "name": "python",
   "nbconvert_exporter": "python",
   "pygments_lexer": "ipython3",
   "version": "3.11.6"
  }
 },
 "nbformat": 4,
 "nbformat_minor": 4
}
