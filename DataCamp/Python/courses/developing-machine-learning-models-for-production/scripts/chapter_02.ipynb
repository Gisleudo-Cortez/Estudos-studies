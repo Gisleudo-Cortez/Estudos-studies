{
 "cells": [
  {
   "cell_type": "code",
   "execution_count": 1,
   "metadata": {
    "editable": true,
    "slideshow": {
     "slide_type": ""
    },
    "tags": []
   },
   "outputs": [],
   "source": [
    "# run this to shorten the data import from the files\n",
    "import os\n",
    "cwd = os.path.dirname(os.getcwd())+'/'\n",
    "path_data = os.path.join(os.path.dirname(os.getcwd()), 'datasets/')\n"
   ]
  },
  {
   "cell_type": "markdown",
   "metadata": {},
   "source": [
    "# ML reproducibility\n",
    "\n",
    "What are the benefits of reproducibility in ML research and development? Select all options that apply.\n",
    "\n",
    "### Possible Answers\n",
    "\n",
    "    Helps ensure the accuracy and reliability of machine learning models{Answer}\n",
    "\n",
    "\n",
    "    Enhanced bias reporting\n",
    "\n",
    "\n",
    "    Allows for the validation of research findings and the ability to replicate results{Answer}\n",
    "\n",
    "\n",
    "    Enhances the integrity of the research process and the results it produces{Answer}"
   ]
  },
  {
   "cell_type": "markdown",
   "metadata": {},
   "source": [
    "# Identifying Key Aspects for Reproducibility and Reliability\n",
    "\n",
    "Which of the following is a crucial aspect of ensuring reproducibility in machine learning experiments and also serves as a best practice for maintaining reliability in the research process?\n",
    "\n",
    "### Possible Answers\n",
    "\n",
    "\n",
    "    Aggregating data from multiple sources\n",
    "    \n",
    "    \n",
    "    Constructing new features\n",
    "    \n",
    "    \n",
    "    Tracking code versions and input data {Answer}\n",
    "    \n",
    "    \n",
    "    Reducing overfitting in models"
   ]
  },
  {
   "cell_type": "markdown",
   "metadata": {},
   "source": [
    "# Sorting Reliability Elements\n",
    "\n",
    "When thinking about reliability and reproducibility, there are many tools, best practices, and benefits, but they can also get confusing! In this exercise, we ask you to think about several elements of MLOps and how they fit into the broader picture.\n",
    "\n",
    "![Answer](images/ch_02-01.png)"
   ]
  },
  {
   "cell_type": "markdown",
   "metadata": {},
   "source": [
    "# Sorting Aspects of Reproducibility and Documentation Practices\n",
    "\n",
    "In this exercise, we will explore the importance of reproducibility in machine learning and the role of documentation in ensuring reliable results. We'll focus on two categories: aspects of reproducibility and documentation practices. Let's see if you can sort these items into their respective buckets!\n",
    "\n",
    "![Answer](images/ch_02-02.png)"
   ]
  },
  {
   "cell_type": "markdown",
   "metadata": {},
   "source": [
    "# Classifying Feature Engineering Goals & Techniques\n",
    "\n",
    "In this exercise, you will be introduced to some essential data preparation techniques and the primary goals of feature engineering. You will need to sort the provided items into the correct categories, either as a data preparation technique or as a feature engineering goal. Understanding these concepts will help you improve your machine learning models and make better use of your data.\n",
    "\n",
    "![Answer](images/ch_02-03.png)"
   ]
  },
  {
   "cell_type": "markdown",
   "metadata": {},
   "source": [
    "# Identifying Data Manipulation and Transformation Techniques\n",
    "\n",
    "Which of the following is NOT an example of feature engineering?\n",
    "\n",
    "### Possible Answers\n",
    "\n",
    "\n",
    "    Using Pandas to aggregate data from multiple sources\n",
    "    \n",
    "    \n",
    "    Using scikit-learn to construct new features\n",
    "    \n",
    "    \n",
    "    Using Numpy to apply feature transformations\n",
    "    \n",
    "    \n",
    "    Using MLflow to track data versions {Answer}"
   ]
  },
  {
   "cell_type": "markdown",
   "metadata": {},
   "source": [
    "# Feature selection\n",
    "\n",
    "What is an example of a feature selection technique that is used in machine learning?\n",
    "\n",
    "### Possible Answers\n",
    "\n",
    "\n",
    "    Combining existing features\n",
    "    \n",
    "    \n",
    "    Identifying redundant and irrelevant features {Answer}\n",
    "    \n",
    "    \n",
    "    Generating features from large datasets\n",
    "    \n",
    "    \n",
    "    Enhancing model accuracy and predictive power"
   ]
  },
  {
   "cell_type": "markdown",
   "metadata": {},
   "source": [
    "# Model store\n",
    "\n",
    "How does a model store assist in the implementation of an advanced pipeline with multiple machine learning models?\n",
    "\n",
    "### Possible Answers\n",
    "\n",
    "\n",
    "    Streamlines the combination of multiple model versions\n",
    "    \n",
    "    \n",
    "    Facilitates the storage and management of models {Answer}\n",
    "    \n",
    "    \n",
    "    Disseminates model documentation across teams\n",
    "    \n",
    "    \n",
    "    Optimizes model selection for various experiments"
   ]
  },
  {
   "cell_type": "markdown",
   "metadata": {},
   "source": [
    "# Versioning training data\n",
    "\n",
    "Which of the following is NOT a primary reason for versioning training data, given that it serves to track alterations in training data across experiments?\n",
    "\n",
    "### Possible Answers\n",
    "\n",
    "\n",
    "    Ensuring experimental reproducibility and traceability\n",
    "    \n",
    "    \n",
    "    Facilitating rollback to previous data iterations\n",
    "    \n",
    "    \n",
    "    Fostering team collaboration and experimentation\n",
    "    \n",
    "    \n",
    "    Synchronizing model versions for compatibility {Answer}"
   ]
  },
  {
   "cell_type": "markdown",
   "metadata": {},
   "source": [
    "# Ensuring reproducibility\n",
    "\n",
    "You know how to ensure reproducibility in your MLOps lifecycle in multiple ways. You can deploy services to store, maintain, and report on features. You can design effective machine learning experiments and manipulate your machine learning features to maximize model efficiency and reduce latency in production.\n",
    "\n",
    "To be the most effective, you will need to be able to recall the best reproducibility practices. It's time to put this knowledge to the test!\n",
    "\n",
    "![Answer](images/ch_02-04.png)"
   ]
  }
 ],
 "metadata": {
  "kernelspec": {
   "display_name": "Python 3 (ipykernel)",
   "language": "python",
   "name": "python3"
  },
  "language_info": {
   "codemirror_mode": {
    "name": "ipython",
    "version": 3
   },
   "file_extension": ".py",
   "mimetype": "text/x-python",
   "name": "python",
   "nbconvert_exporter": "python",
   "pygments_lexer": "ipython3",
   "version": "3.11.6"
  }
 },
 "nbformat": 4,
 "nbformat_minor": 4
}
