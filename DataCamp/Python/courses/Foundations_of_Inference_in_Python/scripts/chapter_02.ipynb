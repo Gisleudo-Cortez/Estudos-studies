{
 "cells": [
  {
   "cell_type": "code",
   "execution_count": 1,
   "metadata": {
    "tags": []
   },
   "outputs": [],
   "source": [
    "# run this to shorten the data import from the files\n",
    "import os\n",
    "path_data = os.path.join(os.path.dirname(os.getcwd()), 'datasets/')\n"
   ]
  },
  {
   "cell_type": "code",
   "execution_count": 2,
   "metadata": {},
   "outputs": [
    {
     "data": {
      "text/html": [
       "<div>\n",
       "<style scoped>\n",
       "    .dataframe tbody tr th:only-of-type {\n",
       "        vertical-align: middle;\n",
       "    }\n",
       "\n",
       "    .dataframe tbody tr th {\n",
       "        vertical-align: top;\n",
       "    }\n",
       "\n",
       "    .dataframe thead th {\n",
       "        text-align: right;\n",
       "    }\n",
       "</style>\n",
       "<table border=\"1\" class=\"dataframe\">\n",
       "  <thead>\n",
       "    <tr style=\"text-align: right;\">\n",
       "      <th></th>\n",
       "      <th>Title</th>\n",
       "      <th>Gender</th>\n",
       "      <th>Ethnicity</th>\n",
       "      <th>Annual Salary</th>\n",
       "      <th>Years of Employment</th>\n",
       "    </tr>\n",
       "  </thead>\n",
       "  <tbody>\n",
       "    <tr>\n",
       "      <th>0</th>\n",
       "      <td>Fire Specialist</td>\n",
       "      <td>F</td>\n",
       "      <td>Hispanic or Latino</td>\n",
       "      <td>79799.98</td>\n",
       "      <td>11</td>\n",
       "    </tr>\n",
       "    <tr>\n",
       "      <th>1</th>\n",
       "      <td>Fire Specialist</td>\n",
       "      <td>M</td>\n",
       "      <td>Hispanic or Latino</td>\n",
       "      <td>79799.98</td>\n",
       "      <td>11</td>\n",
       "    </tr>\n",
       "    <tr>\n",
       "      <th>2</th>\n",
       "      <td>Fire Specialist</td>\n",
       "      <td>M</td>\n",
       "      <td>Hispanic or Latino</td>\n",
       "      <td>83785.26</td>\n",
       "      <td>15</td>\n",
       "    </tr>\n",
       "    <tr>\n",
       "      <th>3</th>\n",
       "      <td>Fire Specialist</td>\n",
       "      <td>M</td>\n",
       "      <td>Hispanic or Latino</td>\n",
       "      <td>79799.98</td>\n",
       "      <td>12</td>\n",
       "    </tr>\n",
       "    <tr>\n",
       "      <th>4</th>\n",
       "      <td>Fire Specialist</td>\n",
       "      <td>M</td>\n",
       "      <td>Hispanic or Latino</td>\n",
       "      <td>96991.96</td>\n",
       "      <td>24</td>\n",
       "    </tr>\n",
       "  </tbody>\n",
       "</table>\n",
       "</div>"
      ],
      "text/plain": [
       "             Title Gender           Ethnicity  Annual Salary  \\\n",
       "0  Fire Specialist      F  Hispanic or Latino       79799.98   \n",
       "1  Fire Specialist      M  Hispanic or Latino       79799.98   \n",
       "2  Fire Specialist      M  Hispanic or Latino       83785.26   \n",
       "3  Fire Specialist      M  Hispanic or Latino       79799.98   \n",
       "4  Fire Specialist      M  Hispanic or Latino       96991.96   \n",
       "\n",
       "   Years of Employment  \n",
       "0                   11  \n",
       "1                   11  \n",
       "2                   15  \n",
       "3                   12  \n",
       "4                   24  "
      ]
     },
     "execution_count": 2,
     "metadata": {},
     "output_type": "execute_result"
    }
   ],
   "source": [
    "import pandas as pd\n",
    "import matplotlib.pyplot as plt\n",
    "import scipy.stats as stats\n",
    "import numpy as np\n",
    "\n",
    "salary_df=pd.read_csv(path_data+'salary_df.csv')\n",
    "salary_df.head()"
   ]
  },
  {
   "cell_type": "code",
   "execution_count": 3,
   "metadata": {},
   "outputs": [
    {
     "data": {
      "image/png": "[encoded data removed]",
      "text/plain": [
       "<Figure size 640x480 with 1 Axes>"
      ]
     },
     "metadata": {},
     "output_type": "display_data"
    },
    {
     "name": "stdout",
     "output_type": "stream",
     "text": [
      "[ True  True  True False False]\n",
      "[15. 10.  5.]\n"
     ]
    },
    {
     "data": {
      "text/plain": [
       "'\\nMoving from point estimates to hypothesis tests is a big and important step! Notice how the test concludes that the Years of Employment may be normally distributed when assessed at the 2.5% significance level or below, but not below that. A typical bar for statistical significance is to be significant at 5%. Therefore, we can conclude that Years of Employment for these employees is indeed approximately normally distributed.\\n'"
      ]
     },
     "execution_count": 3,
     "metadata": {},
     "output_type": "execute_result"
    }
   ],
   "source": [
    "# exercise 01\n",
    "\n",
    "\"\"\"\n",
    "Testing for normality\n",
    "\n",
    "A powerful suite of statistical tools, which includes several common hypothesis tests, depends on the assumption that the underlying data is normally distributed. While a histogram can hint at whether the data is approximately normally distributed, various hypothesis tests allow us to test this assumption directly. Moreover, histograms can be very sensitive to the number of bins, especially when the sample sizes are small.\n",
    "\n",
    "In this exercise you'll work with salary data from employees for the City of Austin in salary_df. In particular you will be working with Hispanic firefighters. You'll analyze if their years of employment are approximately normally distributed using the Anderson-Darling hypothesis test.\n",
    "\"\"\"\n",
    "\n",
    "# Instructions\n",
    "\n",
    "\"\"\"\n",
    "\n",
    "    Plot a histogram showing the Years of Employment for the employees.\n",
    "    Conduct an Anderson-Darling test for normality to see if Years of Employment is approximately normally distributed.\n",
    "    Find which critical_values the test statistic is greater than.\n",
    "    Print the significance_level(s) at which the null hypothesis would be rejected.\n",
    "\n",
    "\"\"\"\n",
    "\n",
    "# solution\n",
    "\n",
    "# Plot a histogram of the employees' \"Years of Employment\"\n",
    "salary_df['Years of Employment'].plot(kind=\"hist\")\n",
    "plt.show()\n",
    "\n",
    "# Conduct an Anderson-Darling test using the years of employment from salary_df\n",
    "result = stats.anderson(salary_df['Years of Employment'])\n",
    "\n",
    "# Print which critical values the test statistic is greater than the critical values\n",
    "print(result.statistic > result.critical_values)\n",
    "\n",
    "# Print the significance levels at which the null hypothesis is rejected\n",
    "print(result.significance_level[result.statistic > result.critical_values])\n",
    "\n",
    "#----------------------------------#\n",
    "\n",
    "# Conclusion\n",
    "\n",
    "\"\"\"\n",
    "Moving from point estimates to hypothesis tests is a big and important step! Notice how the test concludes that the Years of Employment may be normally distributed when assessed at the 2.5% significance level or below, but not below that. A typical bar for statistical significance is to be significant at 5%. Therefore, we can conclude that Years of Employment for these employees is indeed approximately normally distributed.\n",
    "\"\"\""
   ]
  },
  {
   "cell_type": "code",
   "execution_count": 4,
   "metadata": {},
   "outputs": [],
   "source": [
    "salaries = np.genfromtxt(path_data+'salaries.csv', delimiter=',')\n",
    "preds = np.genfromtxt(path_data+'preds.csv', delimiter=',')"
   ]
  },
  {
   "cell_type": "code",
   "execution_count": 5,
   "metadata": {
    "tags": []
   },
   "outputs": [
    {
     "data": {
      "image/png": "[encoded data removed]",
      "text/plain": [
       "<Figure size 640x480 with 1 Axes>"
      ]
     },
     "metadata": {},
     "output_type": "display_data"
    },
    {
     "name": "stdout",
     "output_type": "stream",
     "text": [
      "[15.  10.   5.   2.5  1. ]\n"
     ]
    },
    {
     "data": {
      "text/plain": [
       "'\\nUsing a normality test to assess the distribution of error terms is an important skill. Notice how the null hypothesis of normal distribution is rejected at all significance levels. Therefore, you can conclude that the errors are not normally distributed, and there is room for improvement in the model. In particular, notice in your histogram how there are many errors between $0 and $5,000. This indicates that many salaries are about $5,000 higher than what was predicted.\\n'"
      ]
     },
     "execution_count": 5,
     "metadata": {},
     "output_type": "execute_result"
    }
   ],
   "source": [
    "# exercise 02\n",
    "\n",
    "\"\"\"\n",
    "Distribution of errors\n",
    "\n",
    "Almost no real-world process can be predicted perfectly. A desirable outcome is that the error is normally distributed. This means that some actual values will be above your prediction, and some will fall below it. That is, the errors (i.e. the difference between the actual values and predictions) will seem to \"float\" randomly around zero.\n",
    "\n",
    "In this exercise, you will analyze results from a pre-built linear model which predicts a police officer's salary. You will then look at the error and see if it is approximately normally distributed. The predictions are a list of values stored in preds, and the actual salaries are a list of values stored in salaries.\n",
    "\"\"\"\n",
    "\n",
    "# Instructions\n",
    "\n",
    "\"\"\"\n",
    "\n",
    "    Compute the error as the actual salaries minus the predicted salaries.\n",
    "    Plot the errors in a histogram.\n",
    "    Conduct an Anderson-Darling test of normality for the errors.\n",
    "    Find and print the significance_level(s) at which the null hypothesis would be rejected.\n",
    "\n",
    "\"\"\"\n",
    "\n",
    "# solution\n",
    "\n",
    "# Compute the error as actual minus predicted salary\n",
    "error = salaries - preds\n",
    "\n",
    "# Plot the errors as a histogram\n",
    "plt.hist(error)\n",
    "plt.show()\n",
    "\n",
    "# Conduct an Anderson-Darling test using the years of experience\n",
    "result = stats.anderson(error)\n",
    "\n",
    "# Find where the result is significant\n",
    "print(result.significance_level[result.statistic > result.critical_values])\n",
    "\n",
    "#----------------------------------#\n",
    "\n",
    "# Conclusion\n",
    "\n",
    "\"\"\"\n",
    "Using a normality test to assess the distribution of error terms is an important skill. Notice how the null hypothesis of normal distribution is rejected at all significance levels. Therefore, you can conclude that the errors are not normally distributed, and there is room for improvement in the model. In particular, notice in your histogram how there are many errors between $0 and $5,000. This indicates that many salaries are about $5,000 higher than what was predicted.\n",
    "\"\"\""
   ]
  },
  {
   "cell_type": "code",
   "execution_count": 6,
   "metadata": {},
   "outputs": [
    {
     "data": {
      "text/html": [
       "<div>\n",
       "<style scoped>\n",
       "    .dataframe tbody tr th:only-of-type {\n",
       "        vertical-align: middle;\n",
       "    }\n",
       "\n",
       "    .dataframe tbody tr th {\n",
       "        vertical-align: top;\n",
       "    }\n",
       "\n",
       "    .dataframe thead th {\n",
       "        text-align: right;\n",
       "    }\n",
       "</style>\n",
       "<table border=\"1\" class=\"dataframe\">\n",
       "  <thead>\n",
       "    <tr style=\"text-align: right;\">\n",
       "      <th></th>\n",
       "      <th>Title</th>\n",
       "      <th>Gender</th>\n",
       "      <th>Ethnicity</th>\n",
       "      <th>Annual Salary</th>\n",
       "      <th>Years of Employment</th>\n",
       "    </tr>\n",
       "  </thead>\n",
       "  <tbody>\n",
       "    <tr>\n",
       "      <th>11</th>\n",
       "      <td>Fire Specialist</td>\n",
       "      <td>M</td>\n",
       "      <td>Hispanic or Latino</td>\n",
       "      <td>72383.48</td>\n",
       "      <td>6</td>\n",
       "    </tr>\n",
       "    <tr>\n",
       "      <th>14</th>\n",
       "      <td>Fire Specialist</td>\n",
       "      <td>M</td>\n",
       "      <td>Hispanic or Latino</td>\n",
       "      <td>75999.56</td>\n",
       "      <td>7</td>\n",
       "    </tr>\n",
       "    <tr>\n",
       "      <th>19</th>\n",
       "      <td>Fire Specialist</td>\n",
       "      <td>M</td>\n",
       "      <td>Hispanic or Latino</td>\n",
       "      <td>75999.56</td>\n",
       "      <td>7</td>\n",
       "    </tr>\n",
       "    <tr>\n",
       "      <th>34</th>\n",
       "      <td>Fire Specialist</td>\n",
       "      <td>M</td>\n",
       "      <td>Hispanic or Latino</td>\n",
       "      <td>75999.04</td>\n",
       "      <td>7</td>\n",
       "    </tr>\n",
       "  </tbody>\n",
       "</table>\n",
       "</div>"
      ],
      "text/plain": [
       "              Title Gender           Ethnicity  Annual Salary  \\\n",
       "11  Fire Specialist      M  Hispanic or Latino       72383.48   \n",
       "14  Fire Specialist      M  Hispanic or Latino       75999.56   \n",
       "19  Fire Specialist      M  Hispanic or Latino       75999.56   \n",
       "34  Fire Specialist      M  Hispanic or Latino       75999.04   \n",
       "\n",
       "    Years of Employment  \n",
       "11                    6  \n",
       "14                    7  \n",
       "19                    7  \n",
       "34                    7  "
      ]
     },
     "execution_count": 6,
     "metadata": {},
     "output_type": "execute_result"
    }
   ],
   "source": [
    "salary_df[salary_df['Years of Employment'] <= 10]"
   ]
  },
  {
   "cell_type": "code",
   "execution_count": 7,
   "metadata": {
    "tags": []
   },
   "outputs": [
    {
     "name": "stdout",
     "output_type": "stream",
     "text": [
      "0.11763652155343629\n"
     ]
    },
    {
     "data": {
      "text/plain": [
       "'\\nSince the sample of Hispanic firefighters in this dataset is relatively small, working with a model helps you avoid the noise inherent in small data sets. Note how you were able to make a precise estimate of the percent of these firefighters with less than ten years experience, even though the number of firefighters in the data set with this little experience is only four!\\n'"
      ]
     },
     "execution_count": 7,
     "metadata": {},
     "output_type": "execute_result"
    }
   ],
   "source": [
    "# exercise 03\n",
    "\n",
    "\"\"\"\n",
    "Fitting a normal distribution\n",
    "\n",
    "When working with relatively small data sets you often don't have enough data to make principled inference. However, if you suspect the data follows a normal distribution, it may be reasonable to fit a normal distribution and work with this, rather than with the raw data. In this exercise you will work the same data on Hispanic firefighters which you previously showed was normally distributed at the 5% level. You will fit a normal distribution to it, and use this to find the percentage of these employees we would generally expect to have less than 10 years of experience.\n",
    "\n",
    "This DataFrame has been loaded for you in salary_df. The packages pandas as pd, NumPy as np, Matplotlib as plt, and the stats package from SciPy have all been loaded for you.\n",
    "\"\"\"\n",
    "\n",
    "# Instructions\n",
    "\n",
    "\"\"\"\n",
    "\n",
    "    Fit a normal distribution to the Years of Employment column and save the resulting mean and standard deviation.\n",
    "    Use this mean and standard deviation in a normal CDF to estimate the percentage of employees with less than ten years of experience.\n",
    "    Print out this percentage.\n",
    "\n",
    "\"\"\"\n",
    "\n",
    "# solution\n",
    "\n",
    "# Fit a normal distribution to the data\n",
    "mu, std = stats.norm.fit(salary_df['Years of Employment'])\n",
    "\n",
    "# Compute the percentage of employees with less than 10 years experience\n",
    "percent = stats.norm.cdf(10, loc=mu, scale=std)\n",
    "\n",
    "# Print out this percentage\n",
    "print(percent)\n",
    "\n",
    "#----------------------------------#\n",
    "\n",
    "# Conclusion\n",
    "\n",
    "\"\"\"\n",
    "Since the sample of Hispanic firefighters in this dataset is relatively small, working with a model helps you avoid the noise inherent in small data sets. Note how you were able to make a precise estimate of the percent of these firefighters with less than ten years experience, even though the number of firefighters in the data set with this little experience is only four!\n",
    "\"\"\""
   ]
  },
  {
   "cell_type": "code",
   "execution_count": 8,
   "metadata": {},
   "outputs": [],
   "source": [
    "dates = pd.read_csv(path_data+'dates.csv', parse_dates=[0], date_format=\"%Y-%m-%d\").values\n",
    "houston_rents = np.genfromtxt(path_data+'houston_rents.csv', delimiter=',')\n",
    "lasvegas_rents = np.genfromtxt(path_data+'lasvegas_rents.csv', delimiter=',')"
   ]
  },
  {
   "cell_type": "code",
   "execution_count": 9,
   "metadata": {
    "tags": []
   },
   "outputs": [
    {
     "data": {
      "image/png": "[encoded data removed]",
      "text/plain": [
       "<Figure size 640x480 with 1 Axes>"
      ]
     },
     "metadata": {},
     "output_type": "display_data"
    },
    {
     "name": "stdout",
     "output_type": "stream",
     "text": [
      "True\n",
      "0.4821621973882167\n"
     ]
    },
    {
     "data": {
      "text/plain": [
       "'\\nMaking the connections between graphs, correlation coefficients, and their associated p-values is very powerful. Notice how the graphs seem to suggest some sort of positive correlation, and the strong correlation coefficient and extremely low p-value cement this fact. You can feel confident claiming that there is a strong relationship in rent prices between these two cities.\\n'"
      ]
     },
     "execution_count": 9,
     "metadata": {},
     "output_type": "execute_result"
    }
   ],
   "source": [
    "# exercise 04\n",
    "\n",
    "\"\"\"\n",
    "Testing for correlation\n",
    "\n",
    "You want to understand if rent prices in Las Vegas and Houston are correlated or not. If you see prices rising in Las Vegas, is it reasonable to assume they are also rising in Houston? A NumPy array of rents has been loaded for Las Vegas (lasvegas_rents) and Houston (houston_rents), as well as the dates associated with each measurement.\n",
    "\n",
    "The packages pandas as pd, NumPy as np, Matplotlib as plt, and the stats package from SciPy have all been loaded for you.\n",
    "\"\"\"\n",
    "\n",
    "# Instructions\n",
    "\n",
    "\"\"\"\n",
    "\n",
    "    Create a line graph with two lines, one for houston_rents and one for lasvegas_rents, using the dates on the x-axis.\n",
    "    Compute the Pearson correlation coefficient and its associated p-value.\n",
    "    Determine and print out a Boolean that tells you whether the p-value is significant at the 5% level.\n",
    "    Print out R-squared.\n",
    "\n",
    "\"\"\"\n",
    "\n",
    "# solution\n",
    "\n",
    "# Create a line graph showing the rents for both San Francisco and Las Vegas\n",
    "plt.plot(dates, houston_rents, label='Houston')\n",
    "plt.plot(dates, lasvegas_rents, label='Las Vegas')\n",
    "plt.show()\n",
    "\n",
    "# Compute the Pearson correlation coefficient R, as well as the p-value\n",
    "r, p_value = stats.pearsonr(houston_rents, lasvegas_rents)\n",
    "\n",
    "# Print if the p-value is less than alpha = 5%\n",
    "print(p_value < 0.05)\n",
    "\n",
    "# Print out R-squared\n",
    "print(r**2)\n",
    "\n",
    "#----------------------------------#\n",
    "\n",
    "# Conclusion\n",
    "\n",
    "\"\"\"\n",
    "Making the connections between graphs, correlation coefficients, and their associated p-values is very powerful. Notice how the graphs seem to suggest some sort of positive correlation, and the strong correlation coefficient and extremely low p-value cement this fact. You can feel confident claiming that there is a strong relationship in rent prices between these two cities.\n",
    "\"\"\""
   ]
  },
  {
   "cell_type": "code",
   "execution_count": 10,
   "metadata": {},
   "outputs": [
    {
     "data": {
      "text/plain": [
       "array([0.   , 1.578, 1.578, 1.58 , 1.582, 1.586, 1.588, 1.59 , 1.594,\n",
       "       1.594, 1.594, 1.592, 1.59 , 1.592, 1.592, 1.59 , 1.588, 1.588,\n",
       "       1.588, 1.59 , 1.588, 1.59 , 1.588, 1.592, 1.594, 1.598, 1.602,\n",
       "       1.608, 1.616, 1.622, 1.628, 1.634, 1.64 , 1.648, 1.656, 1.662,\n",
       "       1.672, 1.676, 1.682, 1.68 , 1.68 , 1.678, 1.682, 1.688, 1.696,\n",
       "       1.708, 1.72 , 1.738, 1.76 , 1.78 , 1.8  , 1.816, 1.834, 1.85 ,\n",
       "       1.862, 1.87 , 1.878, 1.888, 1.9  , 1.908, 1.914, 1.92 , 1.93 ,\n",
       "       1.948, 1.962, 1.978, 1.99 , 2.004, 2.018, 2.026, 2.032, 2.038,\n",
       "       2.042, 2.048, 2.056, 2.064])"
      ]
     },
     "execution_count": 10,
     "metadata": {},
     "output_type": "execute_result"
    }
   ],
   "source": [
    "la_rents = np.genfromtxt(path_data+'la_rents.csv', delimiter=',')\n",
    "\n",
    "la_rents"
   ]
  },
  {
   "cell_type": "code",
   "execution_count": 11,
   "metadata": {
    "tags": []
   },
   "outputs": [
    {
     "name": "stdout",
     "output_type": "stream",
     "text": [
      "True\n"
     ]
    },
    {
     "data": {
      "text/plain": [
       "'\\nExcellent! You may be tempted to perform a t-test to compare mean rent prices in each city. However, as t-test has the assumption of independence, which autocorrelation directly violates. Thus any results from a t-test would be invalid.\\n'"
      ]
     },
     "execution_count": 11,
     "metadata": {},
     "output_type": "execute_result"
    }
   ],
   "source": [
    "# exercise 05\n",
    "\n",
    "\"\"\"\n",
    "Autocorrelation\n",
    "\n",
    "Do rent prices tend to show a similar pattern when compared year-over-year? If you take the rent prices in Los Angeles and compare them to rent prices one year in the past, will you see a significant relationship? In other words, do rent prices in Los Angeles demonstrate autocorrelation?\n",
    "\n",
    "A NumPy array of rents has been loaded for Los Angeles (la_rents), as well as the dates associated with each measurement, have been loaded for you. The packages pandas as pd, NumPy as np, Matplotlib as plt, and the stats package from SciPy have all been loaded as well.\n",
    "\"\"\"\n",
    "\n",
    "# Instructions\n",
    "\n",
    "\"\"\"\n",
    "\n",
    "    Select all but the first twelve rents (to exclude the first year) from la_rents.\n",
    "    Select all but the last twelve rents (to exclude the last year) from la_rents.\n",
    "    Compute the Pearson correlation coefficient R between these two lists.\n",
    "    Check if the p-value is significant at the 5% level.\n",
    "---\n",
    "Question\n",
    "\n",
    "Autocorrelation is a powerful tool as it helps you understand to what the extent the past can explain the future. Notice how there is a very strong relationship between the rent prices one year in the past versus the present. This tells you that rents year-over-year tend to follow very similar patterns.\n",
    "\n",
    "Given what you have just seen, would it be appropriate to conduct a t-test comparing the mean rent prices in each city?\n",
    "[No, since the data is autocorrelated, the assumption of independence in a t-test would be violated.]\n",
    "\"\"\"\n",
    "\n",
    "# solution\n",
    "\n",
    "# Select all but the first twelve rents\n",
    "la_rents_initial = la_rents[12:]\n",
    "\n",
    "# Select all but the last twelve rents (12 month lag)\n",
    "la_rents_lag = la_rents[:-12]\n",
    "\n",
    "# Compute the correlation between the initial values and the lagged values\n",
    "r, p_value = stats.pearsonr(la_rents_initial, la_rents_lag)\n",
    "\n",
    "# Check if the p-value is significant at the 5% level\n",
    "print(p_value < 0.05)\n",
    "\n",
    "#----------------------------------#\n",
    "\n",
    "# Conclusion\n",
    "\n",
    "\"\"\"\n",
    "Excellent! You may be tempted to perform a t-test to compare mean rent prices in each city. However, as t-test has the assumption of independence, which autocorrelation directly violates. Thus any results from a t-test would be invalid.\n",
    "\"\"\""
   ]
  },
  {
   "cell_type": "code",
   "execution_count": 12,
   "metadata": {
    "tags": []
   },
   "outputs": [
    {
     "name": "stdout",
     "output_type": "stream",
     "text": [
      "0.4821621973882167\n"
     ]
    },
    {
     "data": {
      "text/plain": [
       "'\\nR-squared gives us a precise measurement of the percentage of explained variance. Here we see that 48% of the variance of rent prices in Houston can be explained by knowing the rent prices in Las Vegas. An interesting question would be, what explains the remaining 52% of the variation?\\n'"
      ]
     },
     "execution_count": 12,
     "metadata": {},
     "output_type": "execute_result"
    }
   ],
   "source": [
    "# exercise 06\n",
    "\n",
    "\"\"\"\n",
    "Explained variance\n",
    "\n",
    "You saw that rent prices between Houston and Las Vegas are correlated. However, to what extent can the price change in one city explain the price change in another city? By computing R-squared you are able to precisely quantify this.\n",
    "\n",
    "A NumPy array of rents has been loaded for Las Vegas (lasvegas_rents) and Houston (houston_rents), as well as the dates associated with each measurement. The packages pandas as pd, NumPy as np, Matplotlib as plt, and the stats package from SciPy have all been loaded for you.\n",
    "\"\"\"\n",
    "\n",
    "# Instructions\n",
    "\n",
    "\"\"\"\n",
    "\n",
    "    Compute the Pearson correlation coefficient between houston_rents and lasvegas_rents.\n",
    "    Print the square of the correlation coefficient.\n",
    "\n",
    "\"\"\"\n",
    "\n",
    "# solution\n",
    "\n",
    "# Compute the correlation between Houston and Las Vegas\n",
    "r, p_value = stats.pearsonr(houston_rents, lasvegas_rents)\n",
    "\n",
    "# Print R-squared\n",
    "print(r**2)\n",
    "\n",
    "#----------------------------------#\n",
    "\n",
    "# Conclusion\n",
    "\n",
    "\"\"\"\n",
    "R-squared gives us a precise measurement of the percentage of explained variance. Here we see that 48% of the variance of rent prices in Houston can be explained by knowing the rent prices in Las Vegas. An interesting question would be, what explains the remaining 52% of the variation?\n",
    "\"\"\""
   ]
  },
  {
   "cell_type": "code",
   "execution_count": 13,
   "metadata": {},
   "outputs": [
    {
     "data": {
      "text/html": [
       "<div>\n",
       "<style scoped>\n",
       "    .dataframe tbody tr th:only-of-type {\n",
       "        vertical-align: middle;\n",
       "    }\n",
       "\n",
       "    .dataframe tbody tr th {\n",
       "        vertical-align: top;\n",
       "    }\n",
       "\n",
       "    .dataframe thead th {\n",
       "        text-align: right;\n",
       "    }\n",
       "</style>\n",
       "<table border=\"1\" class=\"dataframe\">\n",
       "  <thead>\n",
       "    <tr style=\"text-align: right;\">\n",
       "      <th></th>\n",
       "      <th>market</th>\n",
       "      <th>funding_total_usd</th>\n",
       "      <th>status</th>\n",
       "      <th>country_code</th>\n",
       "      <th>funding_rounds</th>\n",
       "      <th>seed</th>\n",
       "      <th>venture</th>\n",
       "      <th>equity_crowdfunding</th>\n",
       "      <th>private_equity</th>\n",
       "    </tr>\n",
       "  </thead>\n",
       "  <tbody>\n",
       "    <tr>\n",
       "      <th>0</th>\n",
       "      <td>Games</td>\n",
       "      <td>4000000</td>\n",
       "      <td>operating</td>\n",
       "      <td>USA</td>\n",
       "      <td>2</td>\n",
       "      <td>0</td>\n",
       "      <td>4000000</td>\n",
       "      <td>0</td>\n",
       "      <td>0</td>\n",
       "    </tr>\n",
       "    <tr>\n",
       "      <th>1</th>\n",
       "      <td>Software</td>\n",
       "      <td>7000000</td>\n",
       "      <td>NaN</td>\n",
       "      <td>USA</td>\n",
       "      <td>1</td>\n",
       "      <td>0</td>\n",
       "      <td>7000000</td>\n",
       "      <td>0</td>\n",
       "      <td>0</td>\n",
       "    </tr>\n",
       "    <tr>\n",
       "      <th>2</th>\n",
       "      <td>Advertising</td>\n",
       "      <td>4912393</td>\n",
       "      <td>closed</td>\n",
       "      <td>ARG</td>\n",
       "      <td>1</td>\n",
       "      <td>0</td>\n",
       "      <td>0</td>\n",
       "      <td>0</td>\n",
       "      <td>0</td>\n",
       "    </tr>\n",
       "    <tr>\n",
       "      <th>3</th>\n",
       "      <td>Curated Web</td>\n",
       "      <td>2000000</td>\n",
       "      <td>operating</td>\n",
       "      <td>NaN</td>\n",
       "      <td>1</td>\n",
       "      <td>0</td>\n",
       "      <td>2000000</td>\n",
       "      <td>0</td>\n",
       "      <td>0</td>\n",
       "    </tr>\n",
       "    <tr>\n",
       "      <th>4</th>\n",
       "      <td>Games</td>\n",
       "      <td>41250</td>\n",
       "      <td>operating</td>\n",
       "      <td>HKG</td>\n",
       "      <td>1</td>\n",
       "      <td>41250</td>\n",
       "      <td>0</td>\n",
       "      <td>0</td>\n",
       "      <td>0</td>\n",
       "    </tr>\n",
       "  </tbody>\n",
       "</table>\n",
       "</div>"
      ],
      "text/plain": [
       "        market  funding_total_usd     status country_code  funding_rounds  \\\n",
       "0        Games            4000000  operating          USA               2   \n",
       "1     Software            7000000        NaN          USA               1   \n",
       "2  Advertising            4912393     closed          ARG               1   \n",
       "3  Curated Web            2000000  operating          NaN               1   \n",
       "4        Games              41250  operating          HKG               1   \n",
       "\n",
       "    seed  venture  equity_crowdfunding  private_equity  \n",
       "0      0  4000000                    0               0  \n",
       "1      0  7000000                    0               0  \n",
       "2      0        0                    0               0  \n",
       "3      0  2000000                    0               0  \n",
       "4  41250        0                    0               0  "
      ]
     },
     "execution_count": 13,
     "metadata": {},
     "output_type": "execute_result"
    }
   ],
   "source": [
    "investments_df = pd.read_csv(path_data+'investments_VC.csv')\n",
    "investments_df.head()"
   ]
  },
  {
   "cell_type": "code",
   "execution_count": 14,
   "metadata": {
    "tags": []
   },
   "outputs": [
    {
     "name": "stdout",
     "output_type": "stream",
     "text": [
      "False 0.10608810895774416\n",
      "True 0.003769504493494368\n",
      "True 0.0014358847125619865\n"
     ]
    },
    {
     "data": {
      "text/plain": [
       "'\\nChecking the required conditions for hypothesis tests is often overlooked, great job being thorough! Notice how two of the three industry pairs had very low p-values, so you can feel confident that their variance is equal. One pair (enterprise and biotech) had a larger p-value around 0.1. This indicates that there may be a little larger difference in variation than we would generally like. However, for our purposes this difference is small enough that we can proced with our ANOVA test.\\n'"
      ]
     },
     "execution_count": 14,
     "metadata": {},
     "output_type": "execute_result"
    }
   ],
   "source": [
    "# exercise 07\n",
    "\n",
    "\"\"\"\n",
    "Equal variance\n",
    "\n",
    "Different industries have different levels of investment from venture capitalists (VCs). However, if you look at a sample of VC investments and see slightly different average investment amounts, is it reasonable to assume this difference is statistically significant? This is a perfect situation for ANOVA. However, a key condition for ANOVA is equal variance between all groups of samples. In this exercise you'll test for that using the Levene test of equal variance.\n",
    "\n",
    "A pandas DataFrame of investments of three industries (Biotechnology, Enterprise Software and Health Care) has been loaded for you in investments_df. The packages pandas as pd, NumPy as np, Matplotlib as plt, and the stats package from SciPy have all been loaded as well.\n",
    "\"\"\"\n",
    "\n",
    "# Instructions\n",
    "\n",
    "\"\"\"\n",
    "\n",
    "    Select the funding for each market individually from investments_df using the column names given.\n",
    "    Conduct Levene tests for equal variance between each pair of industries, in the following order: (i) Biotechnology and Enterprise Software, (ii) Biotechnology and Health Care, and (iii) Enterprise Software and Health Care, corresponding to statistic1, statistic2, and statistic3, respectively.\n",
    "    In each case, return a Boolean that indicates whether the null hypothesis of equal variance is rejected.\n",
    "\n",
    "\"\"\"\n",
    "\n",
    "# solution\n",
    "\n",
    "# Select each industry separately\n",
    "biotech_df = investments_df[investments_df['market'] == 'Biotechnology']\n",
    "enterprise_df = investments_df[investments_df['market'] == 'Enterprise Software']\n",
    "health_df = investments_df[investments_df['market'] == 'Health Care']\n",
    "\n",
    "# Conduct Levene tests for equal variance between funding_total_usd for all pairs of industries\n",
    "statistic_1, p_value_1 = stats.levene(biotech_df['funding_total_usd'], enterprise_df['funding_total_usd'])\n",
    "statistic_2, p_value_2 = stats.levene(biotech_df['funding_total_usd'], health_df['funding_total_usd'])\n",
    "statistic_3, p_value_3 = stats.levene(enterprise_df['funding_total_usd'], health_df['funding_total_usd'])\n",
    "\n",
    "# Print if the p-value is significant at the 5% level\n",
    "print(p_value_1 < 0.05, p_value_1)\n",
    "print(p_value_2 < 0.05, p_value_2)\n",
    "print(p_value_3 < 0.05, p_value_3)\n",
    "\n",
    "#----------------------------------#\n",
    "\n",
    "# Conclusion\n",
    "\n",
    "\"\"\"\n",
    "Checking the required conditions for hypothesis tests is often overlooked, great job being thorough! Notice how two of the three industry pairs had very low p-values, so you can feel confident that their variance is equal. One pair (enterprise and biotech) had a larger p-value around 0.1. This indicates that there may be a little larger difference in variation than we would generally like. However, for our purposes this difference is small enough that we can proced with our ANOVA test.\n",
    "\"\"\""
   ]
  },
  {
   "cell_type": "code",
   "execution_count": 16,
   "metadata": {},
   "outputs": [],
   "source": [
    "ecommerce_df = investments_df[investments_df['market'] == 'E-Commerce']"
   ]
  },
  {
   "cell_type": "code",
   "execution_count": 17,
   "metadata": {
    "tags": []
   },
   "outputs": [
    {
     "data": {
      "image/png": "[encoded data removed]",
      "text/plain": [
       "<Figure size 640x480 with 1 Axes>"
      ]
     },
     "metadata": {},
     "output_type": "display_data"
    },
    {
     "data": {
      "image/png": "[encoded data removed]",
      "text/plain": [
       "<Figure size 640x480 with 1 Axes>"
      ]
     },
     "metadata": {},
     "output_type": "display_data"
    },
    {
     "data": {
      "text/plain": [
       "'\\nNotice how the raw data was not remotely normal, and was heavily right-skewed. As discussed in the video, one common fix is to apply a log-transformation. The log-transformation changed things drastically! Now all three appear at least approximately normal. If very high levels of precision were required, you could do an Anderson test for normality like you did in an earlier lesson. For the purposes of our analysis, a visual inspection is enough.\\n'"
      ]
     },
     "execution_count": 17,
     "metadata": {},
     "output_type": "execute_result"
    }
   ],
   "source": [
    "# exercise 08\n",
    "\n",
    "\"\"\"\n",
    "Normality of groups\n",
    "\n",
    "Now that you've established equal variance, the next condition to check for is normality of the funding in each industry.\n",
    "\n",
    "In this exercise, you'll visualize and compare data with and without normality. Although these visualizations can be created with plt.hist(), for this exercise, you'll practice using the .plot() argument on a DataFrame, with the arguments kind and alpha.\n",
    "\n",
    "The three DataFrames you created (biotech_df, enterprise_df and ecommerce_df) have been loaded for you. The packages pandas as pd, NumPy as np, Matplotlib as plt, and the stats package from SciPy have all been loaded as well.\n",
    "\"\"\"\n",
    "\n",
    "# Instructions\n",
    "\n",
    "\"\"\"\n",
    "\n",
    "    Plot a histogram with 33% transparency for each industry's funding_total_usd in the following order: Biotechnology, then Enterprise Software, and then E-commerce.\n",
    "---\n",
    "\n",
    "    Make a histogram of the log-transform each industry's funding.\n",
    "\n",
    "\"\"\"\n",
    "\n",
    "# solution\n",
    "\n",
    "# Plot a histogram of the funding for each industry\n",
    "biotech_df['funding_total_usd'].plot(kind='hist', alpha=0.33)\n",
    "enterprise_df['funding_total_usd'].plot(kind='hist', alpha=0.33)\n",
    "ecommerce_df['funding_total_usd'].plot(kind='hist', alpha=0.33)\n",
    "plt.show()\n",
    "\n",
    "#----------------------------------#\n",
    "\n",
    "# Plot a histogram of the log funding for each industry\n",
    "np.log(biotech_df['funding_total_usd']).plot(kind='hist', color='blue', alpha=0.33)\n",
    "np.log(enterprise_df['funding_total_usd']).plot(kind='hist', color='green', alpha=0.33)\n",
    "np.log(ecommerce_df['funding_total_usd']).plot(kind='hist', color='red', alpha=0.33)\n",
    "plt.show()\n",
    "\n",
    "#----------------------------------#\n",
    "\n",
    "# Conclusion\n",
    "\n",
    "\"\"\"\n",
    "Notice how the raw data was not remotely normal, and was heavily right-skewed. As discussed in the video, one common fix is to apply a log-transformation. The log-transformation changed things drastically! Now all three appear at least approximately normal. If very high levels of precision were required, you could do an Anderson test for normality like you did in an earlier lesson. For the purposes of our analysis, a visual inspection is enough.\n",
    "\"\"\""
   ]
  },
  {
   "cell_type": "code",
   "execution_count": 18,
   "metadata": {
    "tags": []
   },
   "outputs": [
    {
     "name": "stdout",
     "output_type": "stream",
     "text": [
      "True\n"
     ]
    },
    {
     "data": {
      "text/plain": [
       "\"\\nJust by visual inspection, each market's mean funding was fairly close. It may be hard to know if those differences are due to true differences, or are just an artifact of working with a sample. By using a ANOVA test and properly checking all conditions you can be quite sure that the conclusion to reject the null and claim that differences are indeed due to the markets is sound. Great work!\\n\""
      ]
     },
     "execution_count": 18,
     "metadata": {},
     "output_type": "execute_result"
    }
   ],
   "source": [
    "# exercise 09\n",
    "\n",
    "\"\"\"\n",
    "ANOVA\n",
    "\n",
    "Now that you've established equal variance using a Levene test and assessed visually the approximate normality of the log-transformed salaries, it's time to conduct an ANOVA test! Recall that the purpose of the ANOVA test is to determine if biotech, enterprise software and health care companies had equal average funding. Since these three groups satisfy the conditions of an ANOVA test, you know the conclusions from that test will be valid.\n",
    "\n",
    "The DataFrames you created (biotech_df, enterprise_df and health_df) have been loaded for you. The packages pandas as pd, NumPy as np, Matplotlib as plt, and the stats package from SciPy have all been loaded as well. The log-transforms of the funding values that you computed in a previous exercise are provided for you.\n",
    "\"\"\"\n",
    "\n",
    "# Instructions\n",
    "\n",
    "\"\"\"\n",
    "\n",
    "    Conduct a one-way ANOVA test using each of the three log-transformed fundings in the following order of arguments: Biotechnology, Enterprise Software, Health Care.\n",
    "    Print out if the p-value is significant at 5%.\n",
    "\n",
    "\"\"\"\n",
    "\n",
    "# solution\n",
    "\n",
    "biotech_log_funding = np.log(biotech_df['funding_total_usd'])\n",
    "enterprise_log_funding = np.log(enterprise_df['funding_total_usd'])\n",
    "health_log_funding = np.log(health_df['funding_total_usd'])\n",
    "\n",
    "# Conduct a one-way ANOVA test to compare the log-funding\n",
    "s, p_value = stats.f_oneway(biotech_log_funding,enterprise_log_funding,health_log_funding)\n",
    "\n",
    "# Print if the p-value is significant at 5%\n",
    "print(p_value < 0.05)\n",
    "\n",
    "#----------------------------------#\n",
    "\n",
    "# Conclusion\n",
    "\n",
    "\"\"\"\n",
    "Just by visual inspection, each market's mean funding was fairly close. It may be hard to know if those differences are due to true differences, or are just an artifact of working with a sample. By using a ANOVA test and properly checking all conditions you can be quite sure that the conclusion to reject the null and claim that differences are indeed due to the markets is sound. Great work!\n",
    "\"\"\""
   ]
  },
  {
   "cell_type": "code",
   "execution_count": 19,
   "metadata": {},
   "outputs": [
    {
     "data": {
      "text/html": [
       "<div>\n",
       "<style scoped>\n",
       "    .dataframe tbody tr th:only-of-type {\n",
       "        vertical-align: middle;\n",
       "    }\n",
       "\n",
       "    .dataframe tbody tr th {\n",
       "        vertical-align: top;\n",
       "    }\n",
       "\n",
       "    .dataframe thead th {\n",
       "        text-align: right;\n",
       "    }\n",
       "</style>\n",
       "<table border=\"1\" class=\"dataframe\">\n",
       "  <thead>\n",
       "    <tr style=\"text-align: right;\">\n",
       "      <th></th>\n",
       "      <th>University</th>\n",
       "      <th>thew_rank</th>\n",
       "      <th>arw_rank</th>\n",
       "      <th>cw_rank</th>\n",
       "      <th>thew_score</th>\n",
       "      <th>arw_score</th>\n",
       "      <th>cw_score</th>\n",
       "    </tr>\n",
       "  </thead>\n",
       "  <tbody>\n",
       "    <tr>\n",
       "      <th>0</th>\n",
       "      <td>Harvard University</td>\n",
       "      <td>1</td>\n",
       "      <td>1</td>\n",
       "      <td>1</td>\n",
       "      <td>96.1</td>\n",
       "      <td>100.0</td>\n",
       "      <td>100.00</td>\n",
       "    </tr>\n",
       "    <tr>\n",
       "      <th>1</th>\n",
       "      <td>Stanford University</td>\n",
       "      <td>4</td>\n",
       "      <td>3</td>\n",
       "      <td>3</td>\n",
       "      <td>94.3</td>\n",
       "      <td>73.4</td>\n",
       "      <td>89.50</td>\n",
       "    </tr>\n",
       "    <tr>\n",
       "      <th>2</th>\n",
       "      <td>University of Cambridge</td>\n",
       "      <td>6</td>\n",
       "      <td>2</td>\n",
       "      <td>4</td>\n",
       "      <td>91.2</td>\n",
       "      <td>73.6</td>\n",
       "      <td>86.17</td>\n",
       "    </tr>\n",
       "    <tr>\n",
       "      <th>3</th>\n",
       "      <td>California Institute of Technology</td>\n",
       "      <td>2</td>\n",
       "      <td>6</td>\n",
       "      <td>5</td>\n",
       "      <td>96.0</td>\n",
       "      <td>67.1</td>\n",
       "      <td>85.21</td>\n",
       "    </tr>\n",
       "    <tr>\n",
       "      <th>4</th>\n",
       "      <td>Princeton University</td>\n",
       "      <td>5</td>\n",
       "      <td>8</td>\n",
       "      <td>6</td>\n",
       "      <td>94.2</td>\n",
       "      <td>60.9</td>\n",
       "      <td>82.50</td>\n",
       "    </tr>\n",
       "  </tbody>\n",
       "</table>\n",
       "</div>"
      ],
      "text/plain": [
       "                           University  thew_rank  arw_rank  cw_rank  \\\n",
       "0                  Harvard University          1         1        1   \n",
       "1                 Stanford University          4         3        3   \n",
       "2             University of Cambridge          6         2        4   \n",
       "3  California Institute of Technology          2         6        5   \n",
       "4                Princeton University          5         8        6   \n",
       "\n",
       "   thew_score  arw_score  cw_score  \n",
       "0        96.1      100.0    100.00  \n",
       "1        94.3       73.4     89.50  \n",
       "2        91.2       73.6     86.17  \n",
       "3        96.0       67.1     85.21  \n",
       "4        94.2       60.9     82.50  "
      ]
     },
     "execution_count": 19,
     "metadata": {},
     "output_type": "execute_result"
    }
   ],
   "source": [
    "rankings_df = pd.read_csv(path_data+'university_rankings.csv')\n",
    "rankings_df.head()"
   ]
  },
  {
   "cell_type": "code",
   "execution_count": 20,
   "metadata": {
    "tags": []
   },
   "outputs": [
    {
     "name": "stdout",
     "output_type": "stream",
     "text": [
      "(0.6512525427983284, 0.6623882222760947, 0.7196922583826684)\n"
     ]
    },
    {
     "data": {
      "text/plain": [
       "\"\\nNotice how ARW and CW have the largest value of tau, indicating the highest level of agreement. This is also reflected in them having a lower p-value. However, this is a two-tailed test, so if these two had a very high level of _disagreement_, the p-value would also be very low. Thus examining tau itself is important! Also, note that while you may have been tempted to use Pearson's R to measure correlation, since the data was ranked, inference based on Pearson's R likely would have been invalid! In this case, Kendall's tau is the right tool for the job!\\n\""
      ]
     },
     "execution_count": 20,
     "metadata": {},
     "output_type": "execute_result"
    }
   ],
   "source": [
    "# exercise 10\n",
    "\n",
    "\"\"\"\n",
    "Comparing rankings\n",
    "\n",
    "A number of organizations rank universities on factors such as research, teaching, and student satisfaction, among other factors. Three such organizations include the Times Higher Education World (THEW) University Ranking, the Academic Ranking (ARW) of World Universities, and the Center for World (CW) University Rankings. However, it's common for these organizations to give different ranks for the same university. How can you quantitatively measure the agreement or disagreement between rankings? One approach is to use a non-parametric rank correlation coefficient such as Kendall's tau.\n",
    "\n",
    "A DataFrame with three different these three sets of rankings in rankings_df. The packages pandas as pd, NumPy as np, and the stats package from SciPy have all been loaded for you.\n",
    "\"\"\"\n",
    "\n",
    "# Instructions\n",
    "\n",
    "\"\"\"\n",
    "\n",
    "    Compute Kendall's tau rank correlation coefficient between columns thew_rank and arw_rank.\n",
    "    Compute Kendall's tau between the thew_rank and cw_rank columns.\n",
    "    Compute Kendall's tau between the arw_rank and cw_rank columns.\n",
    "---\n",
    "Question\n",
    "\n",
    "Which two organizations had the highest degree of agreement? Use the console to examine the output (tau_thew_arw, tau_thew_cw and tau_arw_cw, as well as p_value_thew_arw, p_value_thew_cw and p_value_arw_cw).\n",
    "[tau_arw_cw]\n",
    "\n",
    "\"\"\"\n",
    "\n",
    "# solution\n",
    "\n",
    "# Compute Kendall's tau between the THEW and ARW rankings\n",
    "tau_thew_arw, p_value_thew_arw = stats.kendalltau(rankings_df['thew_rank'], rankings_df['arw_rank'])\n",
    "\n",
    "# Compute Kendall's tau between the THEW and CW rankings\n",
    "tau_thew_cw, p_value_thew_cw = stats.kendalltau(rankings_df['thew_rank'], rankings_df['cw_rank'])\n",
    "\n",
    "# Compute Kendall's tau between the ARW and CW rankings\n",
    "tau_arw_cw, p_value_arw_cw = stats.kendalltau(rankings_df['arw_rank'], rankings_df['cw_rank'])\n",
    "\n",
    "print((tau_thew_arw, tau_thew_cw, tau_arw_cw))\n",
    "\n",
    "#----------------------------------#\n",
    "\n",
    "# Conclusion\n",
    "\n",
    "\"\"\"\n",
    "Notice how ARW and CW have the largest value of tau, indicating the highest level of agreement. This is also reflected in them having a lower p-value. However, this is a two-tailed test, so if these two had a very high level of _disagreement_, the p-value would also be very low. Thus examining tau itself is important! Also, note that while you may have been tempted to use Pearson's R to measure correlation, since the data was ranked, inference based on Pearson's R likely would have been invalid! In this case, Kendall's tau is the right tool for the job!\n",
    "\"\"\""
   ]
  },
  {
   "cell_type": "code",
   "execution_count": 22,
   "metadata": {},
   "outputs": [
    {
     "data": {
      "image/png": "[encoded data removed]",
      "text/plain": [
       "<Figure size 640x480 with 1 Axes>"
      ]
     },
     "metadata": {},
     "output_type": "display_data"
    },
    {
     "name": "stdout",
     "output_type": "stream",
     "text": [
      "True\n"
     ]
    },
    {
     "data": {
      "text/plain": [
       "'\\nWorking with medians rather than means can be important if your data is skewed, such as you have here. While the means may or may not be equal, the means may not be representative of the center of your data. So making inference on them may not fully describe your data. In this case the data is most certainly not symmetric, as you saw far more universities with a ranking near 50 and a tail leading out to 100. When you see a skewed distribution, this tells you that the mean is likely not an ideal measure of central tendency. Great job starting off by inspecting your data!\\n'"
      ]
     },
     "execution_count": 22,
     "metadata": {},
     "output_type": "execute_result"
    }
   ],
   "source": [
    "# exercise 11\n",
    "\n",
    "\"\"\"\n",
    "Comparing medians\n",
    "\n",
    "Parametric tests tend to compare means, while non-parametric tests tend to compare medians. This is because if your data is skewed, the mean may not be a good measure of central tendency, and you should work with the median instead.\n",
    "\n",
    "Each of the university ranking organizations you just looked at also included a \"total score\" for each university. You'll start by determining if the scores are approximately normal by using a histogram. If they are not, you will perform a Mood's median test to compare their medians. In this exercise you'll work with the CW and ARW university rankings.\n",
    "\n",
    "Again, while there are multiple ways to create histograms, you'll practice using the .hist() method as before.\n",
    "\n",
    "A DataFrame with three different these three sets of rankings in rankings_df. The packages pandas as pd, NumPy as np, Matplotlib.pyplot as plt, and the stats package from SciPy have all been loaded for you.\n",
    "\"\"\"\n",
    "\n",
    "# Instructions\n",
    "\n",
    "\"\"\"\n",
    "\n",
    "    Plot a histogram of the cw_score column.\n",
    "---\n",
    "\n",
    "    Plot a histogram of the arw_score column.\n",
    "---\n",
    "\n",
    "    Conduct a Mood's median test to test if the median scores for ARW and CW are equal.\n",
    "    Print out a Boolean value that indicates whether the p-value is less than the significance level of 5%.\n",
    "\n",
    "\"\"\"\n",
    "\n",
    "# solution\n",
    "\n",
    "# Plot a histogram of the CW total score\n",
    "rankings_df['cw_score'].hist()\n",
    "\n",
    "# Plot a histogram of the ARW total score\n",
    "rankings_df['arw_score'].hist()\n",
    "plt.show()\n",
    "\n",
    "# Conduct a Mood's median test comparing cw_score and arw_score\n",
    "s, p_value, med, table = stats.median_test(rankings_df['cw_score'], rankings_df['arw_score'])\n",
    "\n",
    "# Check if the p-value is significant at 5%\n",
    "print(p_value < 0.05)\n",
    "\n",
    "#----------------------------------#\n",
    "\n",
    "# Conclusion\n",
    "\n",
    "\"\"\"\n",
    "Working with medians rather than means can be important if your data is skewed, such as you have here. While the means may or may not be equal, the means may not be representative of the center of your data. So making inference on them may not fully describe your data. In this case the data is most certainly not symmetric, as you saw far more universities with a ranking near 50 and a tail leading out to 100. When you see a skewed distribution, this tells you that the mean is likely not an ideal measure of central tendency. Great job starting off by inspecting your data!\n",
    "\"\"\""
   ]
  }
 ],
 "metadata": {
  "kernelspec": {
   "display_name": "Python 3 (ipykernel)",
   "language": "python",
   "name": "python3"
  },
  "language_info": {
   "codemirror_mode": {
    "name": "ipython",
    "version": 3
   },
   "file_extension": ".py",
   "mimetype": "text/x-python",
   "name": "python",
   "nbconvert_exporter": "python",
   "pygments_lexer": "ipython3",
   "version": "3.11.6"
  }
 },
 "nbformat": 4,
 "nbformat_minor": 4
}
