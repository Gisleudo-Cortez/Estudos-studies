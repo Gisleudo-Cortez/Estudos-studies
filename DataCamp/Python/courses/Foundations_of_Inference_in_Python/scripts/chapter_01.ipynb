{
 "cells": [
  {
   "cell_type": "code",
   "execution_count": 1,
   "metadata": {
    "tags": []
   },
   "outputs": [],
   "source": [
    "# run this to shorten the data import from the files\n",
    "import os\n",
    "cwd = os.getcwd()+'/'\n",
    "path_data = os.path.join(os.path.dirname(os.getcwd()), 'datasets/')\n"
   ]
  },
  {
   "cell_type": "code",
   "execution_count": 2,
   "metadata": {},
   "outputs": [
    {
     "data": {
      "text/html": [
       "<div>\n",
       "<style scoped>\n",
       "    .dataframe tbody tr th:only-of-type {\n",
       "        vertical-align: middle;\n",
       "    }\n",
       "\n",
       "    .dataframe tbody tr th {\n",
       "        vertical-align: top;\n",
       "    }\n",
       "\n",
       "    .dataframe thead th {\n",
       "        text-align: right;\n",
       "    }\n",
       "</style>\n",
       "<table border=\"1\" class=\"dataframe\">\n",
       "  <thead>\n",
       "    <tr style=\"text-align: right;\">\n",
       "      <th></th>\n",
       "      <th>Date</th>\n",
       "      <th>Open_BTC</th>\n",
       "      <th>High_BTC</th>\n",
       "      <th>Low_BTC</th>\n",
       "      <th>Close_BTC</th>\n",
       "      <th>Close_SP500</th>\n",
       "      <th>Open_SP500</th>\n",
       "      <th>High_SP500</th>\n",
       "      <th>Low_SP500</th>\n",
       "    </tr>\n",
       "  </thead>\n",
       "  <tbody>\n",
       "    <tr>\n",
       "      <th>0</th>\n",
       "      <td>2017-08-07</td>\n",
       "      <td>3212.780029</td>\n",
       "      <td>3397.679932</td>\n",
       "      <td>3180.889893</td>\n",
       "      <td>3378.939941</td>\n",
       "      <td>2480.91</td>\n",
       "      <td>2477.14</td>\n",
       "      <td>2480.95</td>\n",
       "      <td>2475.88</td>\n",
       "    </tr>\n",
       "    <tr>\n",
       "      <th>1</th>\n",
       "      <td>2017-08-08</td>\n",
       "      <td>3370.219971</td>\n",
       "      <td>3484.850098</td>\n",
       "      <td>3345.830078</td>\n",
       "      <td>3419.939941</td>\n",
       "      <td>2474.92</td>\n",
       "      <td>2478.35</td>\n",
       "      <td>2490.87</td>\n",
       "      <td>2470.32</td>\n",
       "    </tr>\n",
       "    <tr>\n",
       "      <th>2</th>\n",
       "      <td>2017-08-09</td>\n",
       "      <td>3420.399902</td>\n",
       "      <td>3422.760010</td>\n",
       "      <td>3247.669922</td>\n",
       "      <td>3342.469971</td>\n",
       "      <td>2474.02</td>\n",
       "      <td>2465.35</td>\n",
       "      <td>2474.41</td>\n",
       "      <td>2462.08</td>\n",
       "    </tr>\n",
       "    <tr>\n",
       "      <th>3</th>\n",
       "      <td>2017-08-10</td>\n",
       "      <td>3341.840088</td>\n",
       "      <td>3453.449951</td>\n",
       "      <td>3319.469971</td>\n",
       "      <td>3381.280029</td>\n",
       "      <td>2438.21</td>\n",
       "      <td>2465.38</td>\n",
       "      <td>2465.38</td>\n",
       "      <td>2437.75</td>\n",
       "    </tr>\n",
       "    <tr>\n",
       "      <th>4</th>\n",
       "      <td>2017-08-11</td>\n",
       "      <td>3373.820068</td>\n",
       "      <td>3679.719971</td>\n",
       "      <td>3372.120117</td>\n",
       "      <td>3650.620117</td>\n",
       "      <td>2441.32</td>\n",
       "      <td>2441.04</td>\n",
       "      <td>2448.09</td>\n",
       "      <td>2437.85</td>\n",
       "    </tr>\n",
       "  </tbody>\n",
       "</table>\n",
       "</div>"
      ],
      "text/plain": [
       "         Date     Open_BTC     High_BTC      Low_BTC    Close_BTC  \\\n",
       "0  2017-08-07  3212.780029  3397.679932  3180.889893  3378.939941   \n",
       "1  2017-08-08  3370.219971  3484.850098  3345.830078  3419.939941   \n",
       "2  2017-08-09  3420.399902  3422.760010  3247.669922  3342.469971   \n",
       "3  2017-08-10  3341.840088  3453.449951  3319.469971  3381.280029   \n",
       "4  2017-08-11  3373.820068  3679.719971  3372.120117  3650.620117   \n",
       "\n",
       "   Close_SP500  Open_SP500  High_SP500  Low_SP500  \n",
       "0      2480.91     2477.14     2480.95    2475.88  \n",
       "1      2474.92     2478.35     2490.87    2470.32  \n",
       "2      2474.02     2465.35     2474.41    2462.08  \n",
       "3      2438.21     2465.38     2465.38    2437.75  \n",
       "4      2441.32     2441.04     2448.09    2437.85  "
      ]
     },
     "execution_count": 2,
     "metadata": {},
     "output_type": "execute_result"
    }
   ],
   "source": [
    "import pandas as pd\n",
    "import numpy as np\n",
    "\n",
    "btc_sp_df = pd.read_csv(path_data+'btc_sp.csv')\n",
    "btc_sp_df.head()"
   ]
  },
  {
   "cell_type": "code",
   "execution_count": 3,
   "metadata": {},
   "outputs": [
    {
     "name": "stdout",
     "output_type": "stream",
     "text": [
      "SP500:  -0.1166077516259294 \n",
      " BTC:  -0.6353641889533487\n"
     ]
    },
    {
     "data": {
      "text/plain": [
       "\"\\nYou're off to a great start! Notice how the SP500 and BTC had different percent increases over the 90 day period. However, the exact value you get depends heavily on exactly which 90 days you're looking at. In other words, your point estimate depends on your sample.\\n\""
      ]
     },
     "execution_count": 3,
     "metadata": {},
     "output_type": "execute_result"
    }
   ],
   "source": [
    "# exercise 01\n",
    "\n",
    "\"\"\"\n",
    "Sampling and point estimates\n",
    "\n",
    "You have access to a small trading history of Bitcoin (BTC) and the S&P 500 (SP500). You decide to choose ninety consecutive days to analyze the percent growth of each asset over the same time period.\n",
    "\n",
    "You'll start by selecting an initial row number. To ensure that you get a sample of 90 consecutive rows, you'll need to select this starting row number from a range of values from zero to the length of btc_sp_df, excluding the last 90 rows. Your goal is to use this sample to better understand the growth of both assets in general.\n",
    "\n",
    "The trading data has been loaded into btc_sp_df, as have the packages pandas as pd and NumPy as np.\n",
    "\"\"\"\n",
    "\n",
    "# Instructions\n",
    "\n",
    "\"\"\"\n",
    "\n",
    "    Use np.random.choice() to select an initial_row_number from a range of values that begins with zero and ends with the length of btc_sp_df, excluding the last 90 rows.\n",
    "    Select rows from initial_row_number to initial_row_number + 90 using .iloc.\n",
    "---\n",
    "\n",
    "    Compute the percentage increase of SP500 over this 90-day period using the Close_SP500 column of your sample_df.\n",
    "    Similarly, compute the percentage increase of BTC over this 90-day period using the Close_BTC column of your sample_df.\n",
    "\n",
    "\"\"\"\n",
    "\n",
    "# solution\n",
    "\n",
    "# Select a random starting row number, not including the last 90 rows\n",
    "initial_row_number = np.random.choice(range(btc_sp_df.shape[0] - 90))\n",
    "\n",
    "# Use initial_row_number to select the next 90 rows from that row number\n",
    "sample_df = btc_sp_df.iloc[initial_row_number:(initial_row_number + 90)]\n",
    "\n",
    "# Use sample_df to compute the percent increase in Close_SP500\n",
    "sp500_pct_change = (sample_df.iloc[0]['Close_SP500'] - sample_df.iloc[-1]['Close_SP500']) / sample_df.iloc[0]['Close_SP500']\n",
    "\n",
    "# Use sample_df to compute the percent increase in Close_BTC\n",
    "btc_pct_change = (sample_df.iloc[0]['Close_BTC'] - sample_df.iloc[-1]['Close_BTC']) / sample_df.iloc[0]['Close_BTC']\n",
    "\n",
    "print('SP500: ', sp500_pct_change, '\\n', 'BTC: ', btc_pct_change)\n",
    "\n",
    "#----------------------------------#\n",
    "\n",
    "# Conclusion\n",
    "\n",
    "\"\"\"\n",
    "You're off to a great start! Notice how the SP500 and BTC had different percent increases over the 90 day period. However, the exact value you get depends heavily on exactly which 90 days you're looking at. In other words, your point estimate depends on your sample.\n",
    "\"\"\""
   ]
  },
  {
   "cell_type": "code",
   "execution_count": 4,
   "metadata": {
    "tags": []
   },
   "outputs": [
    {
     "name": "stdout",
     "output_type": "stream",
     "text": [
      "0.1428212208185958\n",
      "-0.5267592127553563\n",
      "0.33208287135964093\n",
      "0.13287231416162978\n",
      "0.04716740458593408\n",
      "-0.9090120064188275\n",
      "-2.001963836832239\n",
      "0.28091807406542924\n",
      "-0.40775429867775476\n",
      "-0.7061472182923967\n"
     ]
    },
    {
     "data": {
      "text/plain": [
       "'\\nGreat job refraining from making a conclusion at the first sight of a point estimate! You saw how closer analysis often reveals a single point estimate to be unreliable.\\n'"
      ]
     },
     "execution_count": 4,
     "metadata": {},
     "output_type": "execute_result"
    }
   ],
   "source": [
    "# exercise 02\n",
    "\n",
    "\"\"\"\n",
    "Repeated sampling, point estimates and inference\n",
    "\n",
    "In the previous exercise, you used a single sample of ninety days to make your conclusion. However, what if you had a different ninety days. Would your conclusions be different?\n",
    "\n",
    "One way to assess this is by taking repeated samples. By repeatedly sampling from your data and computing your point estimate you can see how it changes.\n",
    "\n",
    "The same data btc_sp_df has been loaded for you, as have the packages Pandas as pd and NumPy as np.\n",
    "\"\"\"\n",
    "\n",
    "# Instructions\n",
    "\n",
    "\"\"\"\n",
    "\n",
    "    Write a for loop that runs ten times.\n",
    "    Inside the loop, select a random starting row number, avoiding the last 90 row numbers.\n",
    "    Select the ninety rows after the starting row.\n",
    "    Using your sample_df, compute the percent change of BTC closing price using the Close_BTC column.\n",
    "---\n",
    "Question\n",
    "\n",
    "Moving from just a single point estimate to repeated point estimates gives you a clearer picture of how reliable your point estimate is for inference. Notice how much variation there is in the change in BTC, depending on the days selected. This suggests that a single point estimate isn't great for inference.\n",
    "\n",
    "Based on what you observed, which of the following conclusions are supported by your analysis?\n",
    "[The change in BTC prices cannot be easily modeled using one or multiple point estimates, so further analysis would be needed before purchasing BTC.]\n",
    "\"\"\"\n",
    "\n",
    "# solution\n",
    "\n",
    "# Write a for loop which repeats the sampling ten times\n",
    "for i in range(10):\n",
    "    # Select a random starting row number\n",
    "    initial_row_number = np.random.choice(range(btc_sp_df.shape[0] - 90))\n",
    "    # Select the next 90 rows after the starting row\n",
    "    sample_df = btc_sp_df.iloc[initial_row_number:initial_row_number + 90]\n",
    "    # Compute the percent change in closing price of BTC and print it\n",
    "    btc_pct_change = (sample_df.iloc[0]['Close_BTC'] - sample_df.iloc[-1]['Close_BTC']) / sample_df.iloc[0]['Close_BTC']\n",
    "    print(btc_pct_change)\n",
    "\n",
    "#----------------------------------#\n",
    "\n",
    "# Conclusion\n",
    "\n",
    "\"\"\"\n",
    "Great job refraining from making a conclusion at the first sight of a point estimate! You saw how closer analysis often reveals a single point estimate to be unreliable.\n",
    "\"\"\""
   ]
  },
  {
   "cell_type": "code",
   "execution_count": 15,
   "metadata": {},
   "outputs": [
    {
     "data": {
      "text/plain": [
       "array([0.        , 0.29628122, 0.09562326, 0.44833387, 0.47600012])"
      ]
     },
     "execution_count": 15,
     "metadata": {},
     "output_type": "execute_result"
    }
   ],
   "source": [
    "import matplotlib.pyplot as plt\n",
    "\n",
    "btc_pct_change_list = np.genfromtxt(path_data+'btc_pct_change_list.csv', delimiter=',')\n",
    "btc_pct_change_list[:5]"
   ]
  },
  {
   "cell_type": "code",
   "execution_count": 16,
   "metadata": {
    "tags": []
   },
   "outputs": [
    {
     "data": {
      "image/png": "[encoded data removed]",
      "text/plain": [
       "<Figure size 640x480 with 1 Axes>"
      ]
     },
     "metadata": {},
     "output_type": "display_data"
    },
    {
     "data": {
      "text/plain": [
       "'\\nVisualizing your data is a great complement to computing summary statistics! Notice that although a percent change in BTC around zero was the most common, it was far from the only outcome. The long tail to the left indicates that periods with a large drop happen often enough to not just be dismissed as outliers.\\n'"
      ]
     },
     "execution_count": 16,
     "metadata": {},
     "output_type": "execute_result"
    }
   ],
   "source": [
    "# exercise 03\n",
    "\n",
    "\"\"\"\n",
    "Visualizing samples\n",
    "\n",
    "You saw that a single sample can give an unreliable point estimate. To investigate this you decide to take 100 samples of 90 consecutive days of BTC trading data. For each of these 100 samples you compute the percent change in BTC over that time period. You then want to plot this data as a histogram to understand the sampling distribution.\n",
    "\n",
    "Although these visualizations can be created with plt.hist(), for this exercise, you'll practice using the .plot() argument on a DataFrame, with the arguments bins and density.\n",
    "\n",
    "The 100 samples of percent change has already been loaded for you in btc_pct_change_list. This is a list of length 100 with each entry being the percent change in BTC for one of the 100 samples chosen. Matplotlib has also been imported as plt.\n",
    "\"\"\"\n",
    "\n",
    "# Instructions\n",
    "\n",
    "\"\"\"\n",
    "\n",
    "    Plot a histogram of BTC percent change with 15 bins with the y-values displaying the density, rather than the count.\n",
    "    Set the x-axis label to \"BTC 90-day percent change\".\n",
    "    Set the y-axis label to \"Percent of samples\".\n",
    "    Set the title to \"Sampling distribution of BTC 90-day change\".\n",
    "\n",
    "\"\"\"\n",
    "\n",
    "# solution\n",
    "\n",
    "# Plot a histogram of percent changes\n",
    "plt.hist(btc_pct_change_list, bins=15, density=True)\n",
    "# Set the x-axis label\n",
    "plt.xlabel('BTC 90-day percent change')\n",
    "# Set the y-axis label\n",
    "plt.ylabel('Percent of samples')\n",
    "# Set the title\n",
    "plt.title('Sampling distribution of BTC 90-day change')\n",
    "\n",
    "plt.show()\n",
    "\n",
    "#----------------------------------#\n",
    "\n",
    "# Conclusion\n",
    "\n",
    "\"\"\"\n",
    "Visualizing your data is a great complement to computing summary statistics! Notice that although a percent change in BTC around zero was the most common, it was far from the only outcome. The long tail to the left indicates that periods with a large drop happen often enough to not just be dismissed as outliers.\n",
    "\"\"\""
   ]
  },
  {
   "cell_type": "code",
   "execution_count": 17,
   "metadata": {
    "tags": []
   },
   "outputs": [
    {
     "data": {
      "image/png": "[encoded data removed]",
      "text/plain": [
       "<Figure size 640x480 with 1 Axes>"
      ]
     },
     "metadata": {},
     "output_type": "display_data"
    },
    {
     "data": {
      "text/plain": [
       "\"\\nFeeling comfortable constructing and analyzing sampling distributions is an important skill in sound inference. Notice how the sampling distribution is approximately normal, indicating that a confidence interval is a valid choice for estimating the closing price of the SP500. You'll do that next!\\n\""
      ]
     },
     "execution_count": 17,
     "metadata": {},
     "output_type": "execute_result"
    }
   ],
   "source": [
    "# exercise 04\n",
    "\n",
    "\"\"\"\n",
    "Normal sampling distributions\n",
    "\n",
    "You'd like to estimate a realistic mean closing price for the S&P 500 over a subset of its trading history. This seems like a natural application of a confidence interval, since you have a sample statistic and want to use it to estimate a population statistic. However, your first step should be to check if the sampling distribution is approximately normal. In this exercise, you'll do exactly that. In the next exercise, you'll use this result to create your confidence interval.\n",
    "\n",
    "The same data btc_sp_df has been loaded for you, as have the packages pandas as pd, NumPy as np and Matplotlib as plt.\n",
    "\"\"\"\n",
    "\n",
    "# Instructions\n",
    "\n",
    "\"\"\"\n",
    "\n",
    "    Define a variable num_samples as the desired number of samples (200), and define an empty list sample_means to store the mean from each of the 200 samples.\n",
    "    Write a for loop which will repeat the sampling process num_samples times.\n",
    "    Select 500 random S&P500 closing prices from the Close_SP500 column of btc_sp_df.\n",
    "    Compute the mean of each of these samples and store them in sample_means.\n",
    "\n",
    "\"\"\"\n",
    "\n",
    "# solution\n",
    "\n",
    "# Define the number of samples to take and store the sample means\n",
    "num_samples = 200\n",
    "sample_means = []\n",
    "\n",
    "# Write a for loop which repeats the sampling num_samples times\n",
    "for i in range(num_samples):\n",
    "  # Select 500 random Close_SP500 prices \n",
    "  sp500_sample = np.random.choice(btc_sp_df['Close_SP500'], size=500)\n",
    "  # Compute mean closing price and save it to sample_means\n",
    "  sample_means.append(sp500_sample.mean())\n",
    "    \n",
    "plt.hist(sample_means)\n",
    "plt.show()\n",
    "\n",
    "#----------------------------------#\n",
    "\n",
    "# Conclusion\n",
    "\n",
    "\"\"\"\n",
    "Feeling comfortable constructing and analyzing sampling distributions is an important skill in sound inference. Notice how the sampling distribution is approximately normal, indicating that a confidence interval is a valid choice for estimating the closing price of the SP500. You'll do that next!\n",
    "\"\"\""
   ]
  },
  {
   "cell_type": "code",
   "execution_count": 20,
   "metadata": {
    "tags": []
   },
   "outputs": [
    {
     "name": "stdout",
     "output_type": "stream",
     "text": [
      "(3285.8570535838658, 3404.214346416135)\n"
     ]
    },
    {
     "data": {
      "text/plain": [
       "'\\nMoving from point estimates to confidence intervals opens up a new world of statistical tools! You now are gaining the ability to make inference based on more than just a single number. Notice how your confidence interval is relatively narrow, since the sample size was large enough to give you a reasonable estimate of the mean.\\n'"
      ]
     },
     "execution_count": 20,
     "metadata": {},
     "output_type": "execute_result"
    }
   ],
   "source": [
    "# exercise 05\n",
    "\n",
    "\"\"\"\n",
    "Calculating confidence intervals\n",
    "\n",
    "Now that you've demonstrated that the sampling distribution for the closing price of the S&P 500 is approximately normally distributed, you'll compute a confidence interval! You want to estimate the mean closing price of the S&P 500, and calculating a confidence interval will do just that for you.\n",
    "\n",
    "The same data btc_sp_df has been loaded for you, as have the packages pandas as pd, NumPy as np and scipy.stats as stats.\n",
    "\"\"\"\n",
    "\n",
    "# Instructions\n",
    "\n",
    "\"\"\"\n",
    "\n",
    "    Select a random sample of 500 days from the column Close_SP500.\n",
    "    Calculate the mean of this random sample.\n",
    "    Calculate the standard error of this random sample as the standard deviation divided by the square root of the sample size.\n",
    "    Calculate a 95% confidence interval using the values you just calculated.\n",
    "\n",
    "\"\"\"\n",
    "\n",
    "# solution\n",
    "\n",
    "import scipy.stats as stats\n",
    "\n",
    "# Select a sample of 500 random days\n",
    "sample_closing = np.random.choice(btc_sp_df['Close_SP500'], size=500)\n",
    "\n",
    "# Calculate the mean of the sample\n",
    "sample_mean = sample_closing.mean()\n",
    "\n",
    "# Calculate the standard error of the sample\n",
    "sample_se = sample_closing.std() / np.sqrt(sample_closing.shape[0])\n",
    "\n",
    "# Calculate a 95% confidence interval using this data\n",
    "interval = stats.norm.interval(confidence=0.95,\n",
    "                   loc=sample_mean,\n",
    "                   scale=sample_se)\n",
    "\n",
    "print(interval)\n",
    "#----------------------------------#\n",
    "\n",
    "# Conclusion\n",
    "\n",
    "\"\"\"\n",
    "Moving from point estimates to confidence intervals opens up a new world of statistical tools! You now are gaining the ability to make inference based on more than just a single number. Notice how your confidence interval is relatively narrow, since the sample size was large enough to give you a reasonable estimate of the mean.\n",
    "\"\"\""
   ]
  },
  {
   "cell_type": "code",
   "execution_count": 23,
   "metadata": {
    "tags": []
   },
   "outputs": [
    {
     "name": "stdout",
     "output_type": "stream",
     "text": [
      "(3275.8524645417383, 3398.6140954582615) (2719.898053221996, 2744.858786778004)\n"
     ]
    },
    {
     "data": {
      "text/plain": [
       "'\\nUnderstanding the concepts underlying confidence intervals really equips you to understand large data sets! While your samples may be randomly chosen, their corresponding mean and standard error are vastly different. This causes us to get completely different confidence intervals! Keeping this in mind when choosing your sample is extremely important, and will help you produce reliable, repeatable analysis.\\n'"
      ]
     },
     "execution_count": 23,
     "metadata": {},
     "output_type": "execute_result"
    }
   ],
   "source": [
    "# exercise 06\n",
    "\n",
    "\"\"\"\n",
    "Drawing conclusions from samples\n",
    "\n",
    "You've seen how random sampling can be used to choose a sample of data which is (hopefully!) representative of the population you are studying. You've also seen how bias in sampling procedure can result in conclusions that are suspect at best, and completely wrong at worst.\n",
    "\n",
    "In this exercise you'll analyze the average closing price of the S&P 500. If you take two different samples of trading days and compute confidence intervals for each, should you expect to see the same result? It's time for you to dive in and see!\n",
    "\"\"\"\n",
    "\n",
    "# Instructions\n",
    "\n",
    "\"\"\"\n",
    "\n",
    "    Randomly select 500 rows from btc_sp_df.\n",
    "    Use stats.norm.interval() to create a 95% confidence interval for Close_SP500 column of your sampled DataFrame.\n",
    "---\n",
    "\n",
    "    Select the first 500 rows from btc_sp_df.\n",
    "    Compute the 95% confidence interval again using first_500_df.\n",
    "---\n",
    "Question\n",
    "\n",
    "Notice that the sample_ci and first_500_ci values in the console are different. How is this possible?\n",
    "[The two samples are different, and thus the mean and standard error of the trading days are also different.]\n",
    "\"\"\"\n",
    "\n",
    "# solution\n",
    "\n",
    "# Sample 1: Select a random sample of 500 rows\n",
    "sample_df = btc_sp_df.sample(n=500)\n",
    "\n",
    "a = sample_ci = stats.norm.interval(confidence=0.95, \n",
    "\tloc=sample_df['Close_SP500'].mean(), \n",
    "\tscale=sample_df['Close_SP500'].std()/np.sqrt(500))\n",
    "\n",
    "# Sample 2: Select the first 500 rows\n",
    "first_500_df = btc_sp_df.iloc[:500]\n",
    "\n",
    "# Compute a 95% confidence interval for the closing price of SP500\n",
    "b = first_500_ci = stats.norm.interval(confidence=0.95, \n",
    "\tloc=first_500_df['Close_SP500'].mean(), \n",
    "\tscale=first_500_df['Close_SP500'].std()/np.sqrt(500))\n",
    "\n",
    "print(a,b)\n",
    "\n",
    "#----------------------------------#\n",
    "\n",
    "# Conclusion\n",
    "\n",
    "\"\"\"\n",
    "Understanding the concepts underlying confidence intervals really equips you to understand large data sets! While your samples may be randomly chosen, their corresponding mean and standard error are vastly different. This causes us to get completely different confidence intervals! Keeping this in mind when choosing your sample is extremely important, and will help you produce reliable, repeatable analysis.\n",
    "\"\"\""
   ]
  }
 ],
 "metadata": {
  "kernelspec": {
   "display_name": "Python 3 (ipykernel)",
   "language": "python",
   "name": "python3"
  },
  "language_info": {
   "codemirror_mode": {
    "name": "ipython",
    "version": 3
   },
   "file_extension": ".py",
   "mimetype": "text/x-python",
   "name": "python",
   "nbconvert_exporter": "python",
   "pygments_lexer": "ipython3",
   "version": "3.11.6"
  }
 },
 "nbformat": 4,
 "nbformat_minor": 4
}
