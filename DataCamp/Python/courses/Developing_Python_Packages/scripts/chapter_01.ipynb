{
 "cells": [
  {
   "cell_type": "code",
   "execution_count": 15,
   "metadata": {
    "tags": []
   },
   "outputs": [],
   "source": [
    "# run this to shorten the data import from the files\n",
    "path_data = ''\n"
   ]
  },
  {
   "cell_type": "code",
   "execution_count": null,
   "metadata": {},
   "outputs": [
    {
     "data": {
      "text/plain": [
       "'/home/nero/Documents/Estudos/DataCamp'"
      ]
     },
     "execution_count": 15,
     "metadata": {},
     "output_type": "execute_result"
    }
   ],
   "source": [
    "# exercise 01\n",
    "\n",
    "\"\"\"\n",
    "From script to package\n",
    "\n",
    "One common way to begin writing a package is to start with code you have already written as a script. At the time you first write this code, you may not realize how useful it might be in other places.\n",
    "\n",
    "If you did the prerequisite course, in one exercise you wrote a script to count the number of times cats were mentioned in the book Alice in Wonderland.\n",
    "\n",
    "In this exercise, you'll copy from that script to make a generalized function you can use on any text file for any words. This will be the first function in a new library.\n",
    "\"\"\"\n",
    "\n",
    "# Instructions\n",
    "\n",
    "\"\"\"\n",
    "\n",
    "    Create a new directory called textanalysis for your package. Click File > New Folder in the IDE.\n",
    "    Create __init__.py and textanalysis.py modules inside textanalysis. Click the new textanalysis folder, then click File > New File in the IDE to create new files inside it.\n",
    "    Copy the code from myscript.py into textanalysis.py.\n",
    "    Modify textanalysis.py to create the function count_words(filepath, words_list) which opens the text file filepath, and returns the number of times the words in words_list appear.\n",
    "\n",
    "\"\"\"\n",
    "\n",
    "# solution\n",
    "\n",
    "# Open the text file\n",
    "with open('alice.txt') as file:\n",
    "    text = file.read()\n",
    "\n",
    "n = 0\n",
    "for word in text.split():\n",
    "    # Count the number of times the words in the list appear\n",
    "    if word.lower() in ['cat', 'cats']:\n",
    "        n += 1\n",
    "\n",
    "print('Lewis Carroll uses the word \"cat\" {} times'.format(n))\n",
    "\n",
    "\n",
    "#----------------------------------#\n",
    "\n",
    "# Conclusion\n",
    "\n",
    "\"\"\"\n",
    "Well done. Generalizing functions that you already have is a common way of starting a library. This means you can use the same code in other projects without having to copy and paste it across.\n",
    "\"\"\""
   ]
  },
  {
   "cell_type": "code",
   "execution_count": 1,
   "metadata": {
    "tags": []
   },
   "outputs": [
    {
     "data": {
      "text/plain": [
       "'\\n\\n'"
      ]
     },
     "execution_count": 1,
     "metadata": {},
     "output_type": "execute_result"
    }
   ],
   "source": [
    "# exercise 02\n",
    "\n",
    "\"\"\"\n",
    "Putting your package to work\n",
    "\n",
    "Now you have wrapped your word-counting function into a package, you can reuse it easily in other projects.\n",
    "\n",
    "In the initial script, you were analyzing the book Alice in Wonderland. In this new project, you will use the same function to analyze hotel reviews from TripAdvisor.\n",
    "\n",
    "The count_words() function has been imported for you at the top of this script. We'll talk more about importing from your packages in a later lesson.\n",
    "\"\"\"\n",
    "\n",
    "# Instructions\n",
    "\n",
    "\"\"\"\n",
    "\n",
    "    Use your new package to count the number of times the positive words 'good' or 'great' appear in the file 'hotel-reviews.txt'.\n",
    "    Use the package to count the number of times the negative words 'bad' or 'awful' appear.\n",
    "\n",
    "\"\"\"\n",
    "\n",
    "# solution\n",
    "\n",
    "\n",
    "\n",
    "#----------------------------------#\n",
    "\n",
    "# Conclusion\n",
    "\n",
    "\"\"\"\n",
    "Fantastic! Now you can use this function without having to rewrite it. This allows you to spend more time building bigger, better, and more complex scripts, or to spend more time analyzing the results.\n",
    "\"\"\""
   ]
  },
  {
   "cell_type": "code",
   "execution_count": 2,
   "metadata": {
    "tags": []
   },
   "outputs": [
    {
     "data": {
      "text/plain": [
       "'\\n\\n'"
      ]
     },
     "execution_count": 2,
     "metadata": {},
     "output_type": "execute_result"
    }
   ],
   "source": [
    "# exercise 03\n",
    "\n",
    "\"\"\"\n",
    "Writing function documentation with pyment\n",
    "\n",
    "Using documentation templates helps you stick to one of the standard styles.\n",
    "\n",
    "In this exercise, you'll use pyment to create NumPy style documentation for a function.\n",
    "\"\"\"\n",
    "\n",
    "# Instructions\n",
    "\n",
    "\"\"\"\n",
    "In the terminal at the bottom of the screen, use pyment to create NumPy style documentation for the file impyrial/length/core.py.\n",
    "\"\"\"\n",
    "\n",
    "# solution\n",
    "\n",
    "\n",
    "\n",
    "#----------------------------------#\n",
    "\n",
    "# Conclusion\n",
    "\n",
    "\"\"\"\n",
    "Great work! Using pyment to generate templates means you are more likely to keep to the correct style. Now all you need to do is fill in the template.\n",
    "\"\"\""
   ]
  },
  {
   "cell_type": "code",
   "execution_count": 3,
   "metadata": {
    "tags": []
   },
   "outputs": [
    {
     "data": {
      "text/plain": [
       "'\\n\\n'"
      ]
     },
     "execution_count": 3,
     "metadata": {},
     "output_type": "execute_result"
    }
   ],
   "source": [
    "# exercise 04\n",
    "\n",
    "\"\"\"\n",
    "Writing function documentation with pyment II\n",
    "\n",
    "Documentation helps your users learn how to use your functions, and can even help remind you how to use them.\n",
    "\n",
    "In this exercise, you'll fill out your NumPy style documentation template to make some beautiful documentation.\n",
    "\"\"\"\n",
    "\n",
    "# Instructions\n",
    "\n",
    "\"\"\"\n",
    "\n",
    "    In the text editor, complete the documentation for the inches_to_feet() function. The short description for this function should read \"Convert lengths between inches and feet.\"\n",
    "    Complete the x parameter documentation with type numpy.ndarray and description \"Lengths in feet.\"\n",
    "    Complete the reverse parameter documentation with type bool, optional and the description \"If true this function converts from feet to inches instead of the default behavior of inches to feet. (Default value = False)\".\n",
    "    Set the return type to numpy.ndarray.\n",
    "\n",
    "\"\"\"\n",
    "\n",
    "# solution\n",
    "\n",
    "\n",
    "\n",
    "#----------------------------------#\n",
    "\n",
    "# Conclusion\n",
    "\n",
    "\"\"\"\n",
    "Great work! Sticking to a documentation style makes your documentation easier to read!\n",
    "\"\"\""
   ]
  },
  {
   "cell_type": "code",
   "execution_count": 4,
   "metadata": {
    "tags": []
   },
   "outputs": [
    {
     "data": {
      "text/plain": [
       "'\\n\\n'"
      ]
     },
     "execution_count": 4,
     "metadata": {},
     "output_type": "execute_result"
    }
   ],
   "source": [
    "# exercise 05\n",
    "\n",
    "\"\"\"\n",
    "Package and module documentation\n",
    "\n",
    "Package and module level documentation helps your users navigate your package.\n",
    "\n",
    "In this exercise, you will write documentation for the impyrial package. Pay attention to this documentation, you're going to be working on this package throughout this course, and it's worth knowing what its different parts do.\n",
    "\"\"\"\n",
    "\n",
    "# Instructions\n",
    "\n",
    "\"\"\"\n",
    "\n",
    "    Add the following package level documentation to impyrial:\n",
    "\n",
    "impyrial\n",
    "========\n",
    "A package for converting between imperial \n",
    "measurements of length and weight.\n",
    "\n",
    "    Add the following subpackage level documentation to impyrial.length:\n",
    "\n",
    "impyrial.length\n",
    "===============\n",
    "Length conversion between imperial units.\n",
    "\n",
    "    Add the following module documentation to impyrial.length.core:\n",
    "\n",
    "Conversions between inches and \n",
    "larger imperial length units\n",
    "\n",
    "\"\"\"\n",
    "\n",
    "# solution\n",
    "\n",
    "\n",
    "\n",
    "#----------------------------------#\n",
    "\n",
    "# Conclusion\n",
    "\n",
    "\"\"\"\n",
    "Excellent! As a package developer, you might find writing package and subpackage documentation is useful to help you decide how to organize your package. When you have to explain it, you are forced to think it through more carefully.\n",
    "\"\"\""
   ]
  },
  {
   "cell_type": "code",
   "execution_count": 5,
   "metadata": {
    "tags": []
   },
   "outputs": [
    {
     "data": {
      "text/plain": [
       "'\\n\\n'"
      ]
     },
     "execution_count": 5,
     "metadata": {},
     "output_type": "execute_result"
    }
   ],
   "source": [
    "# exercise 06\n",
    "\n",
    "\"\"\"\n",
    "Sibling imports\n",
    "\n",
    "The module you documented in the last exercise, impyrial, is growing and you have separated the private functions (the ones you don't really want your users to use) from your public functions. The private functions are in the core.py module and the public ones are in the api.py module.\n",
    "\n",
    "However, you need to use the private functions to make the public functions work. In this exercise, you will import them into the api.py module to get your package modules working together.\n",
    "\"\"\"\n",
    "\n",
    "# Instructions\n",
    "\n",
    "\"\"\"\n",
    "\n",
    "    Import the functions inches_to_feet() and inches_to_yards(), and the variable UNITS from the impyrial/length/core.py module into impyrial/length/api.py. Use an absolute import.\n",
    "    Import the function convert_unit() function in impyrial/length/api.py into the example_script.py script. You'll need to import this using the full filepath to the api module.\n",
    "    Run the example script to check your imports work.\n",
    "\n",
    "\"\"\"\n",
    "\n",
    "# solution\n",
    "\n",
    "\n",
    "\n",
    "#----------------------------------#\n",
    "\n",
    "# Conclusion\n",
    "\n",
    "\"\"\"\n",
    "Great work! You've got the core module and the api module working together nicely. Have a look at the absolute import in the api module again. What would the equivalent relative import have been? Which import type do you prefer here?\n",
    "\"\"\""
   ]
  },
  {
   "cell_type": "code",
   "execution_count": 6,
   "metadata": {
    "tags": []
   },
   "outputs": [
    {
     "data": {
      "text/plain": [
       "'\\n\\n'"
      ]
     },
     "execution_count": 6,
     "metadata": {},
     "output_type": "execute_result"
    }
   ],
   "source": [
    "# exercise 07\n",
    "\n",
    "\"\"\"\n",
    "Importing from parents\n",
    "\n",
    "In this exercise, you will be importing a function from the utils.py module at the top of your package. A utils module is usually used for small, often unrelated, pieces of code each of which which aren't enough to justify their own module.\n",
    "\n",
    "You'll import a function for checking the units passed to the convert_units() function. You'll use this checking function in another subpackage later. That's why we don't just put this function in one of the modules in the length subpackage\n",
    "\"\"\"\n",
    "\n",
    "# Instructions\n",
    "\n",
    "\"\"\"\n",
    "\n",
    "    Import the function check_units() from the impyrial/utils.py module into impyrial/length/api.py. Use an absolute import.\n",
    "    Run example_script.py to make sure the check_units() function is working.\n",
    "\n",
    "\"\"\"\n",
    "\n",
    "# solution\n",
    "\n",
    "\n",
    "\n",
    "#----------------------------------#\n",
    "\n",
    "# Conclusion\n",
    "\n",
    "\"\"\"\n",
    "Cool! Here, the relative import would have been a little complicated since you are importing from a file in the directory above.\n",
    "\"\"\""
   ]
  },
  {
   "cell_type": "code",
   "execution_count": 7,
   "metadata": {
    "tags": []
   },
   "outputs": [
    {
     "data": {
      "text/plain": [
       "'\\n\\n'"
      ]
     },
     "execution_count": 7,
     "metadata": {},
     "output_type": "execute_result"
    }
   ],
   "source": [
    "# exercise 08\n",
    "\n",
    "\"\"\"\n",
    "Exposing functions to users\n",
    "\n",
    "Now that your impyrial package has some useful code and is properly organized, it is time to use import structures to expose the functions to users.\n",
    "\n",
    "Currently, the only function you want to make easily available to users is the convert_unit() function inside the module imperial/length/api.py.\n",
    "\n",
    "In this exercise, you'll write import statements so that the package can be imported and used like this:\n",
    "\n",
    "import impyrial\n",
    "\n",
    "result = impyrial.length.convert_unit(6, 'ft', 'yd')\n",
    "\n",
    "\"\"\"\n",
    "\n",
    "# Instructions\n",
    "\n",
    "\"\"\"\n",
    "\n",
    "    In the __init__.py file within impyrial/length, import the convert_unit() function from the api.py module. Use a relative import.\n",
    "    Navigate to the __init__.py file in the top level of the impyrial package and import the length subpackage. Use a relative import.\n",
    "    Run example_script.py to verify that the package imports are correct.\n",
    "\n",
    "\"\"\"\n",
    "\n",
    "# solution\n",
    "\n",
    "\n",
    "\n",
    "#----------------------------------#\n",
    "\n",
    "# Conclusion\n",
    "\n",
    "\"\"\"\n",
    "What important progress, you've now got a fully functional package! The first import statement imported convert_unit() into length, and the second one imported length into impyrial. Now users can access key functions of the package easily. In the next chapter you'll build a version you could publish! \n",
    "\"\"\""
   ]
  },
  {
   "cell_type": "code",
   "execution_count": 8,
   "metadata": {
    "tags": []
   },
   "outputs": [
    {
     "data": {
      "text/plain": [
       "'\\n\\n'"
      ]
     },
     "execution_count": 8,
     "metadata": {},
     "output_type": "execute_result"
    }
   ],
   "source": [
    "# exercise 09\n",
    "\n",
    "\"\"\"\n",
    "\n",
    "\"\"\"\n",
    "\n",
    "# Instructions\n",
    "\n",
    "\"\"\"\n",
    "\n",
    "\"\"\"\n",
    "\n",
    "# solution\n",
    "\n",
    "\n",
    "\n",
    "#----------------------------------#\n",
    "\n",
    "# Conclusion\n",
    "\n",
    "\"\"\"\n",
    "\n",
    "\"\"\""
   ]
  },
  {
   "cell_type": "code",
   "execution_count": 9,
   "metadata": {
    "tags": []
   },
   "outputs": [
    {
     "data": {
      "text/plain": [
       "'\\n\\n'"
      ]
     },
     "execution_count": 9,
     "metadata": {},
     "output_type": "execute_result"
    }
   ],
   "source": [
    "# exercise 10\n",
    "\n",
    "\"\"\"\n",
    "\n",
    "\"\"\"\n",
    "\n",
    "# Instructions\n",
    "\n",
    "\"\"\"\n",
    "\n",
    "\"\"\"\n",
    "\n",
    "# solution\n",
    "\n",
    "\n",
    "\n",
    "#----------------------------------#\n",
    "\n",
    "# Conclusion\n",
    "\n",
    "\"\"\"\n",
    "\n",
    "\"\"\""
   ]
  },
  {
   "cell_type": "code",
   "execution_count": null,
   "metadata": {},
   "outputs": [],
   "source": [
    "# exercise 11\n",
    "\n",
    "\"\"\"\n",
    "\n",
    "\"\"\"\n",
    "\n",
    "# Instructions\n",
    "\n",
    "\"\"\"\n",
    "\n",
    "\"\"\"\n",
    "\n",
    "# solution\n",
    "\n",
    "\n",
    "\n",
    "#----------------------------------#\n",
    "\n",
    "# Conclusion\n",
    "\n",
    "\"\"\"\n",
    "\n",
    "\"\"\""
   ]
  }
 ],
 "metadata": {
  "kernelspec": {
   "display_name": "Python 3 (ipykernel)",
   "language": "python",
   "name": "python3"
  },
  "language_info": {
   "codemirror_mode": {
    "name": "ipython",
    "version": 3
   },
   "file_extension": ".py",
   "mimetype": "text/x-python",
   "name": "python",
   "nbconvert_exporter": "python",
   "pygments_lexer": "ipython3",
   "version": "3.11.3"
  }
 },
 "nbformat": 4,
 "nbformat_minor": 4
}
