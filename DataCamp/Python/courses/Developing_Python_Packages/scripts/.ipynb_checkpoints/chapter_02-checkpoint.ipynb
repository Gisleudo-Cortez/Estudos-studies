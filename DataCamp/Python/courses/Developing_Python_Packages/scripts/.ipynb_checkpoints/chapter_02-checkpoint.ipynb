{
 "cells": [
  {
   "cell_type": "code",
   "execution_count": 15,
   "metadata": {
    "tags": []
   },
   "outputs": [],
   "source": [
    "# run this to shorten the data import from the files\n",
    "path_data = ''\n"
   ]
  },
  {
   "cell_type": "code",
   "execution_count": null,
   "metadata": {},
   "outputs": [
    {
     "data": {
      "text/plain": [
       "'/home/nero/Documents/Estudos/DataCamp'"
      ]
     },
     "execution_count": 15,
     "metadata": {},
     "output_type": "execute_result"
    }
   ],
   "source": [
    "# exercise 01\n",
    "\n",
    "\"\"\"\n",
    "Adding the setup script\n",
    "\n",
    "The final step before you can install your package is to write the setup.py file.\n",
    "\n",
    "In this exercise, you'll write this file, including all the metadata for your package.\n",
    "\n",
    "P.S. If you look into the impyrial source code, you'll see a new subpackage has been added to convert weights.\n",
    "\"\"\"\n",
    "\n",
    "# Instructions\n",
    "\n",
    "\"\"\"\n",
    "\n",
    "    Import the setup() and find_packages() functions from setuptools.\n",
    "    Fill out the metadata, including your name. Give it the version number 0.1.0 and the description \"A package for converting imperial lengths and weights.\"\n",
    "    Use the find_packages() function to include the package and its subpackages.\n",
    "\n",
    "\"\"\"\n",
    "\n",
    "# solution\n",
    "\n",
    "\n",
    "\n",
    "#----------------------------------#\n",
    "\n",
    "# Conclusion\n",
    "\n",
    "\"\"\"\n",
    "Great work! This package is ready for you to install now!\n",
    "\"\"\""
   ]
  },
  {
   "cell_type": "code",
   "execution_count": 1,
   "metadata": {
    "tags": []
   },
   "outputs": [
    {
     "data": {
      "text/plain": [
       "'\\n\\n'"
      ]
     },
     "execution_count": 1,
     "metadata": {},
     "output_type": "execute_result"
    }
   ],
   "source": [
    "# exercise 02\n",
    "\n",
    "\"\"\"\n",
    "Installing your package locally\n",
    "\n",
    "Great work on writing the setup script. Now its time to install your new package.\n",
    "\"\"\"\n",
    "\n",
    "# Instructions\n",
    "\n",
    "\"\"\"\n",
    "Using the terminal, install the package in editable mode using pip.\n",
    "\"\"\"\n",
    "\n",
    "# solution\n",
    "\n",
    "pip install -e impyrial\n",
    "\n",
    "#----------------------------------#\n",
    "\n",
    "# Conclusion\n",
    "\n",
    "\"\"\"\n",
    "Neat! Now you can import and use your package code from anywhere on your computer.\n",
    "\"\"\""
   ]
  },
  {
   "cell_type": "code",
   "execution_count": 2,
   "metadata": {
    "tags": []
   },
   "outputs": [
    {
     "data": {
      "text/plain": [
       "'\\n\\n'"
      ]
     },
     "execution_count": 2,
     "metadata": {},
     "output_type": "execute_result"
    }
   ],
   "source": [
    "# exercise 03\n",
    "\n",
    "\"\"\"\n",
    "Utilizing editable installs\n",
    "\n",
    "The great part about installing your package in editable mode is that you don't need to reinstall it when you make changes to it.\n",
    "\n",
    "In this exercise, you have found a bug in the impyrial.weight subpackage. You should fix it and check that your installed version of the package reflects this change.\n",
    "\"\"\"\n",
    "\n",
    "# Instructions\n",
    "\n",
    "\"\"\"\n",
    "\n",
    "    Run example_script.py to check what 2 lb (2 pounds weight) is in ounces. The real answer should be 32.\n",
    "    Fix the bug in the impyrial/weight/core.py file. The OUNCES_PER_POUND variable should be 16.0.\n",
    "    Run the example script again to ensure that your bug is fixed.\n",
    "\n",
    "\"\"\"\n",
    "\n",
    "# solution\n",
    "\n",
    "\n",
    "\n",
    "#----------------------------------#\n",
    "\n",
    "# Conclusion\n",
    "\n",
    "\"\"\"\n",
    "Great work! You can see how useful editable installs are!\n",
    "\"\"\""
   ]
  },
  {
   "cell_type": "code",
   "execution_count": 3,
   "metadata": {
    "tags": []
   },
   "outputs": [
    {
     "data": {
      "text/plain": [
       "'\\n\\n'"
      ]
     },
     "execution_count": 3,
     "metadata": {},
     "output_type": "execute_result"
    }
   ],
   "source": [
    "# exercise 04\n",
    "\n",
    "\"\"\"\n",
    "User dependencies\n",
    "\n",
    "Inside any package you develop, you will probably use other packages. This stops you having to rewrite code which has already been optimized for speed and ease of use, like NumPy.\n",
    "\n",
    "The users of your package will need to have these other packages installed, and have one of the correct versions. If they don't, then your package won't actually work.\n",
    "\n",
    "In this exercise, you will modify the setup.py file so that these packages are installed when your package is installed using pip.\n",
    "\"\"\"\n",
    "\n",
    "# Instructions\n",
    "\n",
    "\"\"\"\n",
    "\n",
    "    Add numpy version 1.10 or above as a dependency.\n",
    "    Add any version of pandas as a dependency.\n",
    "\n",
    "\"\"\"\n",
    "\n",
    "# solution\n",
    "\n",
    "from setuptools import setup, find_packages\n",
    "\n",
    "# Add install requirements\n",
    "setup(\n",
    "    author=\"<your-name>\",\n",
    "    description=\"A package for converting imperial lengths and weights.\",\n",
    "    name=\"impyrial\",\n",
    "    packages=find_packages(include=[\"impyrial\", \"impyrial.*\"]),\n",
    "    version=\"0.1.0\",\n",
    "    install_requires=['numpy>=1.10',\n",
    "    'pandas'],\n",
    ")\n",
    "\n",
    "\n",
    "#----------------------------------#\n",
    "\n",
    "# Conclusion\n",
    "\n",
    "\"\"\"\n",
    "What dependable coding! Remember that you should always remove unused package dependencies and allow as many versions of the dependent packages as possible. If you don't do this your users might not be able to install your package alongside their other packages.\n",
    "\"\"\""
   ]
  },
  {
   "cell_type": "code",
   "execution_count": 4,
   "metadata": {
    "tags": []
   },
   "outputs": [
    {
     "data": {
      "text/plain": [
       "'\\n\\n'"
      ]
     },
     "execution_count": 4,
     "metadata": {},
     "output_type": "execute_result"
    }
   ],
   "source": [
    "# exercise 05\n",
    "\n",
    "\"\"\"\n",
    "Development dependencies\n",
    "\n",
    "You need to include a requirements file which includes all of the versions of packages used during development. This means any bugs can be reproduced, and ensures you and anyone else working on your package have the exact same versions of other packages.\n",
    "\n",
    "This is different to the install_requires parameter which tries to allow as many dependency versions as possible. The install_requires is for users and the requirements.txt is for developers.\n",
    "\"\"\"\n",
    "\n",
    "# Instructions\n",
    "\n",
    "\"\"\"\n",
    "Use pip to save the packages installed into a file called requirements.txt in the top level of impyrial.\n",
    "\"\"\"\n",
    "\n",
    "# solution\n",
    "\n",
    "pip freeze > requirements.txt\n",
    "\n",
    "#----------------------------------#\n",
    "\n",
    "# Conclusion\n",
    "\n",
    "\"\"\"\n",
    "Fantastic! Now this Python environment is reproducible. This is important for your collaborators, or even just a future version of yourself working from a different computer.\n",
    "\"\"\""
   ]
  },
  {
   "cell_type": "code",
   "execution_count": 5,
   "metadata": {
    "tags": []
   },
   "outputs": [
    {
     "data": {
      "text/plain": [
       "'\\n\\n'"
      ]
     },
     "execution_count": 5,
     "metadata": {},
     "output_type": "execute_result"
    }
   ],
   "source": [
    "# exercise 06\n",
    "\n",
    "\"\"\"\n",
    "Writing a README\n",
    "\n",
    "Its time to write the front page of your impyrial package. This is the page your users will see when they find your package on GitHub or PyPI.\n",
    "\n",
    "This is the impression your package will make on people, so you should try to make it look good! Including a brief description, the package features, and some examples of usage is a good place to start.\n",
    "\"\"\"\n",
    "\n",
    "# Instructions\n",
    "\n",
    "\"\"\"\n",
    "\n",
    "    Add a title at the top of the file for impyrial.\n",
    "    In the second sentence of the description, turn the word \"DataCamp\" into a link to https://www.datacamp.com.\n",
    "    Add backticks so that the usage example will display as code.\n",
    "\n",
    "\"\"\"\n",
    "\n",
    "# solution\n",
    "\n",
    "# impyrial\n",
    "\n",
    "A package for converting between imperial unit lengths and weights.\n",
    "\n",
    "This package was created for the [DataCamp](https://www.datacamp.com) course \"Developing Python Packages\".\n",
    "\n",
    "### Features\n",
    "\n",
    "- Convert lengths between miles, yards, feet and inches.\n",
    "- Convert weights between hundredweight, stone, pounds and ounces.\n",
    "\n",
    "### Usage\n",
    "\n",
    "```\n",
    "import impyrial\n",
    "\n",
    "# Convert 500 miles to feet\n",
    "impyrial.length.convert_unit(500, from_unit='yd', to_unit='ft')  # returns 1500.0\n",
    "\n",
    "# Convert 100 ounces to pounds\n",
    "impyrial.weight.convert_unit(100, from_unit='oz', to_unit='lb')  # returns 6.25\n",
    "```\n",
    "\n",
    "#----------------------------------#\n",
    "\n",
    "# Conclusion\n",
    "\n",
    "\"\"\"\n",
    "Great work! This is the first part of your package that anyone will see, and it's always good to make a strong first impression. To see what this looks like when rendered, you can use the button in the top right of the IDE. It should look something like this: \n",
    "\"\"\""
   ]
  },
  {
   "cell_type": "markdown",
   "metadata": {},
   "source": [
    "# impyrial\n",
    "\n",
    "A package for converting between imperial unit lengths and weights.\n",
    "\n",
    "This package was created for the [DataCamp](https://www.datacamp.com) course \"Developing Python Packages\".\n",
    "\n",
    "### Features\n",
    "\n",
    "- Convert lengths between miles, yards, feet and inches.\n",
    "- Convert weights between hundredweight, stone, pounds and ounces.\n",
    "\n",
    "### Usage\n",
    "\n",
    "```\n",
    "import impyrial\n",
    "\n",
    "# Convert 500 miles to feet\n",
    "impyrial.length.convert_unit(500, from_unit='yd', to_unit='ft')  # returns 1500.0\n",
    "\n",
    "# Convert 100 ounces to pounds\n",
    "impyrial.weight.convert_unit(100, from_unit='oz', to_unit='lb')  # returns 6.25\n",
    "```"
   ]
  },
  {
   "cell_type": "code",
   "execution_count": 6,
   "metadata": {
    "tags": []
   },
   "outputs": [
    {
     "data": {
      "text/plain": [
       "'\\n\\n'"
      ]
     },
     "execution_count": 6,
     "metadata": {},
     "output_type": "execute_result"
    }
   ],
   "source": [
    "# exercise 07\n",
    "\n",
    "\"\"\"\n",
    "MANIFEST - Including extra files with your package\n",
    "\n",
    "The MANIFEST.in file lists all the extra files (those other than your package source code) which should be included when your package is sent out. This is really important so that your license is always included with your software.\n",
    "\n",
    "In this exercise, you'll write your MANIFEST.in file for impyrial.\n",
    "\n",
    "P.S. We have added a license to your directory which is the MIT License. This is a common and very open license which allows anyone to use this package in any way they like.\n",
    "\"\"\"\n",
    "\n",
    "# Instructions\n",
    "\n",
    "\"\"\"\n",
    "\n",
    "    Create a MANIFEST.in file in the topmost package directory.\n",
    "    Add the README.md and LICENSE files to MANIFEST.in so they are included with your source code.\n",
    "\n",
    "\"\"\"\n",
    "\n",
    "# solution\n",
    "include LICENSE\n",
    "iclide README.md\n",
    "\n",
    "\n",
    "#----------------------------------#\n",
    "\n",
    "# Conclusion\n",
    "\n",
    "\"\"\"\n",
    "Well done! Now your license will be included along with your package distributions - which you'll learn more about in the next lesson. This means these copies of your code will always include your license too.\n",
    "\"\"\""
   ]
  },
  {
   "cell_type": "code",
   "execution_count": 7,
   "metadata": {
    "tags": []
   },
   "outputs": [
    {
     "data": {
      "text/plain": [
       "'\\n\\n'"
      ]
     },
     "execution_count": 7,
     "metadata": {},
     "output_type": "execute_result"
    }
   ],
   "source": [
    "# exercise 08\n",
    "\n",
    "\"\"\"\n",
    "Building a distribution\n",
    "\n",
    "It's time to get your package out there! It's not a finished product yet, and when building packages, you always find there is so much more you'd like to add or change. But this package has been developed enough that it could be useful to someone, and the sooner you release it, the sooner you can get feedback or find collaborators!\n",
    "\n",
    "In this exercise, you will build the two types of distributions, wheel and source distributions, for your impyrial package. The only thing left after this step will be to upload it.\n",
    "\"\"\"\n",
    "\n",
    "# Instructions\n",
    "\n",
    "\"\"\"\n",
    "In the terminal, run setup.py with the appropriate arguments to build source and wheel distributions.\n",
    "\"\"\"\n",
    "\n",
    "# solution\n",
    "\n",
    "python setup.py sdist bdist_wheel\n",
    "\n",
    "#----------------------------------#\n",
    "\n",
    "# Conclusion\n",
    "\n",
    "\"\"\"\n",
    "Great work. You'll see the source and wheel distributions have been created and are now in the dist folder. You are only one command away from publishing this package!\n",
    "\"\"\""
   ]
  },
  {
   "cell_type": "code",
   "execution_count": 8,
   "metadata": {
    "tags": []
   },
   "outputs": [
    {
     "data": {
      "text/plain": [
       "'\\n\\n'"
      ]
     },
     "execution_count": 8,
     "metadata": {},
     "output_type": "execute_result"
    }
   ],
   "source": [
    "# exercise 09\n",
    "\n",
    "\"\"\"\n",
    "Uploading distributions\n",
    "\n",
    "Your distributions are ready to go, the only step is to upload them now so that anyone can access them.\n",
    "\n",
    "Normally, you would need to register for an account on PyPI to be able to upload a package. In this exercise, you will be using the exact commands you normally would, but your distribution won't actually be uploaded.\n",
    "\"\"\"\n",
    "\n",
    "# Instructions\n",
    "\n",
    "\"\"\"\n",
    "Use twine to upload your distributions.\n",
    "\"\"\"\n",
    "\n",
    "# solution\n",
    "\n",
    "twine upload dist/*\n",
    "\n",
    "#----------------------------------#\n",
    "\n",
    "# Conclusion\n",
    "\n",
    "\"\"\"\n",
    "Congratulations! This was the final step to get your package online. In the next chapters, you'll learn how to bring this package up to a higher quality and make further releases.\n",
    "\"\"\""
   ]
  },
  {
   "cell_type": "code",
   "execution_count": 9,
   "metadata": {
    "tags": []
   },
   "outputs": [
    {
     "data": {
      "text/plain": [
       "'\\n\\n'"
      ]
     },
     "execution_count": 9,
     "metadata": {},
     "output_type": "execute_result"
    }
   ],
   "source": [
    "# exercise 10\n",
    "\n",
    "\"\"\"\n",
    "\n",
    "\"\"\"\n",
    "\n",
    "# Instructions\n",
    "\n",
    "\"\"\"\n",
    "\n",
    "\"\"\"\n",
    "\n",
    "# solution\n",
    "\n",
    "\n",
    "\n",
    "#----------------------------------#\n",
    "\n",
    "# Conclusion\n",
    "\n",
    "\"\"\"\n",
    "\n",
    "\"\"\""
   ]
  },
  {
   "cell_type": "code",
   "execution_count": null,
   "metadata": {},
   "outputs": [],
   "source": [
    "# exercise 11\n",
    "\n",
    "\"\"\"\n",
    "\n",
    "\"\"\"\n",
    "\n",
    "# Instructions\n",
    "\n",
    "\"\"\"\n",
    "\n",
    "\"\"\"\n",
    "\n",
    "# solution\n",
    "\n",
    "\n",
    "\n",
    "#----------------------------------#\n",
    "\n",
    "# Conclusion\n",
    "\n",
    "\"\"\"\n",
    "\n",
    "\"\"\""
   ]
  }
 ],
 "metadata": {
  "kernelspec": {
   "display_name": "Python 3 (ipykernel)",
   "language": "python",
   "name": "python3"
  },
  "language_info": {
   "codemirror_mode": {
    "name": "ipython",
    "version": 3
   },
   "file_extension": ".py",
   "mimetype": "text/x-python",
   "name": "python",
   "nbconvert_exporter": "python",
   "pygments_lexer": "ipython3",
   "version": "3.11.3"
  }
 },
 "nbformat": 4,
 "nbformat_minor": 4
}
