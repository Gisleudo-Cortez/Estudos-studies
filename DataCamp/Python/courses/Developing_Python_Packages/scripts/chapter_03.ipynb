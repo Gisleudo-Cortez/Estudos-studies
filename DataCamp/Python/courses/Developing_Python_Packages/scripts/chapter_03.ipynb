{
 "cells": [
  {
   "cell_type": "code",
   "execution_count": 15,
   "metadata": {
    "tags": []
   },
   "outputs": [],
   "source": [
    "# run this to shorten the data import from the files\n",
    "path_data = ''\n"
   ]
  },
  {
   "cell_type": "code",
   "execution_count": null,
   "metadata": {},
   "outputs": [
    {
     "data": {
      "text/plain": [
       "'/home/nero/Documents/Estudos/DataCamp'"
      ]
     },
     "execution_count": 15,
     "metadata": {},
     "output_type": "execute_result"
    }
   ],
   "source": [
    "# exercise 01\n",
    "\n",
    "\"\"\"\n",
    "Creating the test directory\n",
    "\n",
    "To get started writing tests for your code, the first thing you need to do is create a test directory inside your package. Matching the structure of this directory to that of your source code directory makes it easier for users and automated tools to examine and run these tests.\n",
    "\"\"\"\n",
    "\n",
    "# Instructions\n",
    "\n",
    "\"\"\"\n",
    "\n",
    "    Create a new directory in the top level of impyrial called tests. You can do this from the terminal using mkdir, or using the IDE menus.\n",
    "    Add an empty test module inside tests for the impyrial/length/core.py module. Remember to use the naming convention described in the video.\n",
    "    Inside the new test module, import the inches_to_feet() and the inches_to_yards() functions from impyrial/length/core.py using an absolute import.\n",
    "\n",
    "\"\"\"\n",
    "\n",
    "# solution\n",
    "\n",
    "from impyrial.length.core import inches_to_feet, inches_to_yards\n",
    "\n",
    "#----------------------------------#\n",
    "\n",
    "# Conclusion\n",
    "\n",
    "\"\"\"\n",
    "Great work! Laying out your tests directory so that it mirrors your source directory makes it easier to track errors when they occur.\n",
    "\"\"\""
   ]
  },
  {
   "cell_type": "code",
   "execution_count": 1,
   "metadata": {
    "tags": []
   },
   "outputs": [
    {
     "data": {
      "text/plain": [
       "'\\n\\n'"
      ]
     },
     "execution_count": 1,
     "metadata": {},
     "output_type": "execute_result"
    }
   ],
   "source": [
    "# exercise 02\n",
    "\n",
    "\"\"\"\n",
    "Writing some basic tests\n",
    "\n",
    "If you have written a full suite of tests for your code, it means you can develop and modify it more freely. If you make some changes that break your code, you'll be able to find this out right away. It also signals to users that your code is more likely to be error free, and can be trusted to do its job.\n",
    "\n",
    "The tests you write will check that your functions give the expected outputs for given inputs. In this case you will be writing numeric tests to make sure that the correct answer is returned when converting a number of inches to feet and vice versa.\n",
    "\n",
    "In this exercise, you'll write a test for one of your functions inside impyrial.\n",
    "\"\"\"\n",
    "\n",
    "# Instructions\n",
    "\n",
    "\"\"\"\n",
    "\n",
    "    Define a function which takes no arguments to test the inches_to_feet() function.\n",
    "    Inside the test function, check that 12 inches is converted to 1.0 feet.\n",
    "    Check that 2.5 feet is converted to 30.0 inches when using option reverse=True in inches_to_feet().\n",
    "\n",
    "\"\"\"\n",
    "\n",
    "# solution\n",
    "\n",
    "from impyrial.length.core import inches_to_feet, inches_to_yards\n",
    "\n",
    "# Define tests for inches_to_feet function\n",
    "def test_inches_to_feet():\n",
    "\t# Check that 12 inches is converted to 1.0 foot\n",
    "    assert inches_to_feet(12) == 1.0 \n",
    "    # Check that 2.5 feet is converted to 30.0 inches\n",
    "    assert inches_to_feet(2.5, reverse=True) == 30.0\n",
    "\n",
    "\n",
    "#----------------------------------#\n",
    "\n",
    "# Conclusion\n",
    "\n",
    "\"\"\"\n",
    "Congratulations! You've just written your first test. Note that you actually used multiple assert statements inside the test function so you could test the conversion from inches to feet and from feet to inches. In practice, you might have written a few more assert statements to check if negative numbers were properly converted too.\n",
    "\"\"\""
   ]
  },
  {
   "cell_type": "code",
   "execution_count": 2,
   "metadata": {
    "tags": []
   },
   "outputs": [
    {
     "data": {
      "text/plain": [
       "'\\n\\n'"
      ]
     },
     "execution_count": 2,
     "metadata": {},
     "output_type": "execute_result"
    }
   ],
   "source": [
    "# exercise 03\n",
    "\n",
    "\"\"\"\n",
    "Running your tests\n",
    "\n",
    "One of your collaborators has just made some changes to your code which has introduced an error. This can happen in the wild, but if you have written tests you will easily be able to find out where this error has come from.\n",
    "\n",
    "In the exercise, you will use pytest to search for that error in your package and fix it.\n",
    "\"\"\"\n",
    "\n",
    "# Instructions\n",
    "\n",
    "\"\"\"\n",
    "\n",
    "    Run pytest from the terminal to run all the package tests. You should see a test failure.\n",
    "    Try to work out where the failure is coming from. (Remember that the error you corrected in Chapter 2 came from a wrong global variable.)\n",
    "    Rerun pytest. All the tests should run successfully.\n",
    "\n",
    "\"\"\"\n",
    "\n",
    "# solution\n",
    "\n",
    "\n",
    "\n",
    "#----------------------------------#\n",
    "\n",
    "# Conclusion\n",
    "\n",
    "\"\"\"\n",
    "You aced this test! See how useful pytest is for tracking down small errors. As your package grows bigger and bigger these tests become even more useful, since it gets harder and harder to track down errors by searching manually.\n",
    "\"\"\""
   ]
  },
  {
   "cell_type": "code",
   "execution_count": 3,
   "metadata": {
    "tags": []
   },
   "outputs": [
    {
     "data": {
      "text/plain": [
       "'\\n\\n'"
      ]
     },
     "execution_count": 3,
     "metadata": {},
     "output_type": "execute_result"
    }
   ],
   "source": [
    "# exercise 04\n",
    "\n",
    "\"\"\"\n",
    "Setting up tox\n",
    "\n",
    "Before your next release, you are going to need to figure out which versions of Python your package will work with.\n",
    "\n",
    "An easy way to find this out is to use tox to run all of your tests using different versions of Python.\n",
    "\n",
    "It is also important to keep testing your package with these different Python versions as you develop it further.\n",
    "\"\"\"\n",
    "\n",
    "# Instructions\n",
    "\n",
    "\"\"\"\n",
    "\n",
    "    Edit the tox.ini file to test Python versions 2.7 and 3.6.\n",
    "    Add pytest as a dependency of the test environment.\n",
    "    Edit the file so tox runs pytest.\n",
    "\n",
    "\"\"\"\n",
    "\n",
    "# solution\n",
    "\n",
    "[tox]\n",
    "envlist = py27, py36\n",
    "\n",
    "[testenv]\n",
    "deps = pytest\n",
    "commands =\n",
    "\tpytest\n",
    "\n",
    "\n",
    "#----------------------------------#\n",
    "\n",
    "# Conclusion\n",
    "\n",
    "\"\"\"\n",
    "Great work! Now you will be able to test your library using different versions of Python very easily.\n",
    "\"\"\""
   ]
  },
  {
   "cell_type": "code",
   "execution_count": 4,
   "metadata": {
    "tags": []
   },
   "outputs": [
    {
     "data": {
      "text/plain": [
       "'\\n\\n'"
      ]
     },
     "execution_count": 4,
     "metadata": {},
     "output_type": "execute_result"
    }
   ],
   "source": [
    "# exercise 05\n",
    "\n",
    "\"\"\"\n",
    "Running tox\n",
    "\n",
    "Now it's time to directly test which versions of Python will function with your package. This is important information for your users so they can know whether or not they can actually install it.\n",
    "\"\"\"\n",
    "\n",
    "# Instructions\n",
    "\n",
    "\"\"\"\n",
    "\n",
    "    Run tox from the terminal.\n",
    "    In setup.py, update the required Python version based on the tox results. Remember to remove the #.\n",
    "\n",
    "\"\"\"\n",
    "\n",
    "# solution\n",
    "\n",
    "from setuptools import setup, find_packages\n",
    "\n",
    "# Add install requirements\n",
    "setup(\n",
    "    author=\"<your-name>\",\n",
    "    description=\"A package for converting imperial lengths and weights.\",\n",
    "    name=\"impyrial\",\n",
    "    packages=find_packages(include=[\"impyrial\", \"impyrial.*\"]),\n",
    "    version=\"0.1.0\",\n",
    "    install_requires=['numpy>=1.10', 'pandas'],\n",
    "    python_requires=\"==3.6.*\",\n",
    ")\n",
    "\n",
    "\n",
    "#----------------------------------#\n",
    "\n",
    "# Conclusion\n",
    "\n",
    "\"\"\"\n",
    "Great work! If you look back at the tox output, you can see that your package won't run with Python 2.7 because of the f-strings used inside utils.py. Ideally, it would have been better to rewrite that code so it will work with both Python 3.6 and 2.7.\n",
    "\"\"\""
   ]
  },
  {
   "cell_type": "code",
   "execution_count": 5,
   "metadata": {
    "tags": []
   },
   "outputs": [
    {
     "data": {
      "text/plain": [
       "'\\n\\n'"
      ]
     },
     "execution_count": 5,
     "metadata": {},
     "output_type": "execute_result"
    }
   ],
   "source": [
    "# exercise 06\n",
    "\n",
    "\"\"\"\n",
    "Using flake8 to tidy up a file\n",
    "\n",
    "You have just written a module for calculating the absolute value of a given number. It's passing all your tests, but you are concerned that it does not conform to proper style guidelines. Sticking to style guidelines means your users, collaborators, and you, will be able to read and understand your code more easily.\n",
    "\n",
    "As the Zen of Python states,\n",
    "\n",
    "    Readability counts.\n",
    "\n",
    "In this exercise, you will use flake8 to point out style violations and fix them.\n",
    "\"\"\"\n",
    "\n",
    "# Instructions\n",
    "\n",
    "\"\"\"\n",
    "\n",
    "    Using the terminal, run flake8 on the absolute.py module.\n",
    "    Use the feedback from flake8 to bring the code into line with PEP8.\n",
    "\n",
    "\"\"\"\n",
    "\n",
    "# solution\n",
    "\n",
    "\"\"\"Main module.\"\"\"\n",
    "\n",
    "\n",
    "def absolute_value(num):\n",
    "    \"\"\"Return the absolute value of the number\"\"\"\n",
    "    if num >= 0:\n",
    "        return num\n",
    "    else:\n",
    "        return -num\n",
    "\n",
    "\n",
    "#----------------------------------#\n",
    "\n",
    "# Conclusion\n",
    "\n",
    "\"\"\"\n",
    "Great work, that is one absolutely stylish piece of code! Remember that style is important; it will make your code more readable and user-friendly.\n",
    "\"\"\""
   ]
  },
  {
   "cell_type": "code",
   "execution_count": 6,
   "metadata": {
    "tags": []
   },
   "outputs": [
    {
     "data": {
      "text/plain": [
       "'\\n\\n'"
      ]
     },
     "execution_count": 6,
     "metadata": {},
     "output_type": "execute_result"
    }
   ],
   "source": [
    "# exercise 07\n",
    "\n",
    "\"\"\"\n",
    "Ignoring specific errors\n",
    "\n",
    "Occasionally you may find that applying the PEP8 guidelines makes your code harder to read, or harder to use.\n",
    "\n",
    "From the Zen of Python,\n",
    "\n",
    "    Special cases aren't special enough to break the rules.\n",
    "\n",
    "    Although practicality beats purity.\n",
    "\n",
    "In these practical cases, you will make deliberate decisions to break the rules and filter out these flake8 violations.\n",
    "\"\"\"\n",
    "\n",
    "# Instructions\n",
    "\n",
    "\"\"\"\n",
    "\n",
    "    Using the terminal, run flake8 on the pythagoras.py module.\n",
    "    Identify the violation code caused by using the variable name l.\n",
    "    Add a noqa comment to this line to filter out this message only.\n",
    "    Run flake8 again.\n",
    "\n",
    "\"\"\"\n",
    "\n",
    "# solution\n",
    "\n",
    "import numpy as np\n",
    "\n",
    "\n",
    "def calculate_hypotenuse(side1, side2):\n",
    "    \"\"\"Calculate the length of the hypotenuse.\"\"\"\n",
    "    l = np.sqrt( side1**2 + side2**2 )  # noqa: E741\n",
    "    return l\n",
    "\n",
    "\n",
    "#----------------------------------#\n",
    "\n",
    "# Conclusion\n",
    "\n",
    "\"\"\"\n",
    "No quality assurance is needed when your answers are so good! Remember, you shouldn't take these style violations lightly. In this case, it may have been better to use a descriptive variable name like length instead of l, but that won't always be the case.\n",
    "\"\"\""
   ]
  },
  {
   "cell_type": "code",
   "execution_count": 7,
   "metadata": {
    "tags": []
   },
   "outputs": [
    {
     "data": {
      "text/plain": [
       "'\\n\\n'"
      ]
     },
     "execution_count": 7,
     "metadata": {},
     "output_type": "execute_result"
    }
   ],
   "source": [
    "# exercise 08\n",
    "\n",
    "\"\"\"\n",
    "Configuring flake8\n",
    "\n",
    "In the top-level __init__.py file, you imported the length and weight subpackages to expose them to users. However, these imports aren't used, so flake8 will keep notifying you about them.\n",
    "\n",
    "You also might have some style violations in your tests directory, which you would like to ignore.\n",
    "\n",
    "In this exercise, you will configure flake8 to ignore these violations.\n",
    "\"\"\"\n",
    "\n",
    "# Instructions\n",
    "\n",
    "\"\"\"\n",
    "\n",
    "    Run flake8 on the whole package.\n",
    "    Modify the config to ignore unused imports (F401) violations in the impyrial/__init__.py file. Make sure to uncomment the sample lines.\n",
    "    Modify the config to ignore all violations in tests/*. Make sure to uncomment the sample lines.\n",
    "    Run flake8 again to see the difference.\n",
    "\n",
    "\"\"\"\n",
    "\n",
    "# solution\n",
    "\n",
    "[flake8]\n",
    "\n",
    " Ignore F401 violations in the main __init__.py file\n",
    " per-file-ignores =\n",
    "     impyrial/__init__.py : F401\n",
    "        \n",
    " Ignore all violations in the tests directoory\n",
    " exclude = tests/*\n",
    "\n",
    "\n",
    "#----------------------------------#\n",
    "\n",
    "# Conclusion\n",
    "\n",
    "\"\"\"\n",
    "Perfect! Adding these settings to the config means that flake8 won't notify you of any style deviations you have decided upon. It will also help you and your package co-authors be consistent with each other.\n",
    "\"\"\""
   ]
  }
 ],
 "metadata": {
  "kernelspec": {
   "display_name": "Python 3 (ipykernel)",
   "language": "python",
   "name": "python3"
  },
  "language_info": {
   "codemirror_mode": {
    "name": "ipython",
    "version": 3
   },
   "file_extension": ".py",
   "mimetype": "text/x-python",
   "name": "python",
   "nbconvert_exporter": "python",
   "pygments_lexer": "ipython3",
   "version": "3.11.3"
  }
 },
 "nbformat": 4,
 "nbformat_minor": 4
}
