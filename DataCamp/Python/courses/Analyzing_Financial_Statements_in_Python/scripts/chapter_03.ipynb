{
 "cells": [
  {
   "cell_type": "code",
   "execution_count": 1,
   "metadata": {
    "tags": []
   },
   "outputs": [],
   "source": [
    "# run this to shorten the data import from the files\n",
    "path_data = '/home/nero/Documents/Estudos/DataCamp/Python/courses/Analyzing_Financial_Statements_in_Python/datasets/'\n"
   ]
  },
  {
   "cell_type": "code",
   "execution_count": 2,
   "metadata": {},
   "outputs": [
    {
     "name": "stdout",
     "output_type": "stream",
     "text": [
      "1400\n"
     ]
    },
    {
     "data": {
      "text/plain": [
       "'\\nWell done! When computing net cash flow, you should always consider the material effect a transaction would have on the cash balance. Transactions that increase the cash balance will be a cash inflow and vice-versa.\\n'"
      ]
     },
     "execution_count": 2,
     "metadata": {},
     "output_type": "execute_result"
    }
   ],
   "source": [
    "# exercise 01\n",
    "\n",
    "\"\"\"\n",
    "Compute net cash flow\n",
    "\n",
    "In the last video, you saw what cash outflows and inflows are. In this exercise, you'll put that knowledge to the test. You'll add and subtract transactions to the net income to compute net cash flow. The exercise has one transaction from each part of the cash flow statement: cash flow from operating, investing, and financing activities.\n",
    "\"\"\"\n",
    "\n",
    "# Instructions\n",
    "\n",
    "\"\"\"\n",
    "\n",
    "    Correctly add and subtract the net cash inflows and outflows from the net income, filling in the blanks with + or -.\n",
    "\n",
    "\"\"\"\n",
    "\n",
    "# solution\n",
    "\n",
    "net_profit = 1000\n",
    "\n",
    "decrease_in_accounts_recievable = 20\n",
    "\n",
    "sale_of_property = 430\n",
    "\n",
    "dividends_paid = 50\n",
    "\n",
    "# Fill in the blanks\n",
    "net_cash_flow = net_profit + decrease_in_accounts_recievable + sale_of_property - dividends_paid\n",
    "print(net_cash_flow)\n",
    "\n",
    "#----------------------------------#\n",
    "\n",
    "# Conclusion\n",
    "\n",
    "\"\"\"\n",
    "Well done! When computing net cash flow, you should always consider the material effect a transaction would have on the cash balance. Transactions that increase the cash balance will be a cash inflow and vice-versa.\n",
    "\"\"\""
   ]
  },
  {
   "cell_type": "code",
   "execution_count": 9,
   "metadata": {},
   "outputs": [
    {
     "data": {
      "text/html": [
       "<div>\n",
       "<style scoped>\n",
       "    .dataframe tbody tr th:only-of-type {\n",
       "        vertical-align: middle;\n",
       "    }\n",
       "\n",
       "    .dataframe tbody tr th {\n",
       "        vertical-align: top;\n",
       "    }\n",
       "\n",
       "    .dataframe thead th {\n",
       "        text-align: right;\n",
       "    }\n",
       "</style>\n",
       "<table border=\"1\" class=\"dataframe\">\n",
       "  <thead>\n",
       "    <tr style=\"text-align: right;\">\n",
       "      <th></th>\n",
       "      <th>Year</th>\n",
       "      <th>company</th>\n",
       "      <th>Ebit</th>\n",
       "      <th>Total Revenue</th>\n",
       "      <th>Net Income</th>\n",
       "      <th>Cost Of Revenue</th>\n",
       "    </tr>\n",
       "  </thead>\n",
       "  <tbody>\n",
       "    <tr>\n",
       "      <th>0</th>\n",
       "      <td>2019</td>\n",
       "      <td>AAPL</td>\n",
       "      <td>63930000000</td>\n",
       "      <td>260174000000</td>\n",
       "      <td>55256000000</td>\n",
       "      <td>161782000000</td>\n",
       "    </tr>\n",
       "    <tr>\n",
       "      <th>1</th>\n",
       "      <td>2020</td>\n",
       "      <td>AAPL</td>\n",
       "      <td>66288000000</td>\n",
       "      <td>274515000000</td>\n",
       "      <td>57411000000</td>\n",
       "      <td>169559000000</td>\n",
       "    </tr>\n",
       "    <tr>\n",
       "      <th>2</th>\n",
       "      <td>2021</td>\n",
       "      <td>AAPL</td>\n",
       "      <td>108949000000</td>\n",
       "      <td>365817000000</td>\n",
       "      <td>94680000000</td>\n",
       "      <td>212981000000</td>\n",
       "    </tr>\n",
       "    <tr>\n",
       "      <th>3</th>\n",
       "      <td>2022</td>\n",
       "      <td>AAPL</td>\n",
       "      <td>119437000000</td>\n",
       "      <td>394328000000</td>\n",
       "      <td>99803000000</td>\n",
       "      <td>223546000000</td>\n",
       "    </tr>\n",
       "    <tr>\n",
       "      <th>4</th>\n",
       "      <td>2019</td>\n",
       "      <td>MSFT</td>\n",
       "      <td>42959000000</td>\n",
       "      <td>125843000000</td>\n",
       "      <td>39240000000</td>\n",
       "      <td>42910000000</td>\n",
       "    </tr>\n",
       "  </tbody>\n",
       "</table>\n",
       "</div>"
      ],
      "text/plain": [
       "   Year company          Ebit  Total Revenue   Net Income  Cost Of Revenue\n",
       "0  2019    AAPL   63930000000   260174000000  55256000000     161782000000\n",
       "1  2020    AAPL   66288000000   274515000000  57411000000     169559000000\n",
       "2  2021    AAPL  108949000000   365817000000  94680000000     212981000000\n",
       "3  2022    AAPL  119437000000   394328000000  99803000000     223546000000\n",
       "4  2019    MSFT   42959000000   125843000000  39240000000      42910000000"
      ]
     },
     "metadata": {},
     "output_type": "display_data"
    },
    {
     "data": {
      "text/html": [
       "<div>\n",
       "<style scoped>\n",
       "    .dataframe tbody tr th:only-of-type {\n",
       "        vertical-align: middle;\n",
       "    }\n",
       "\n",
       "    .dataframe tbody tr th {\n",
       "        vertical-align: top;\n",
       "    }\n",
       "\n",
       "    .dataframe thead th {\n",
       "        text-align: right;\n",
       "    }\n",
       "</style>\n",
       "<table border=\"1\" class=\"dataframe\">\n",
       "  <thead>\n",
       "    <tr style=\"text-align: right;\">\n",
       "      <th></th>\n",
       "      <th>Year</th>\n",
       "      <th>company</th>\n",
       "      <th>Cash</th>\n",
       "      <th>Total Assets</th>\n",
       "      <th>Total Current Liabilities</th>\n",
       "    </tr>\n",
       "  </thead>\n",
       "  <tbody>\n",
       "    <tr>\n",
       "      <th>0</th>\n",
       "      <td>2019</td>\n",
       "      <td>AAPL</td>\n",
       "      <td>48844000000</td>\n",
       "      <td>338516000000</td>\n",
       "      <td>105718000000</td>\n",
       "    </tr>\n",
       "    <tr>\n",
       "      <th>1</th>\n",
       "      <td>2020</td>\n",
       "      <td>AAPL</td>\n",
       "      <td>38016000000</td>\n",
       "      <td>323888000000</td>\n",
       "      <td>105392000000</td>\n",
       "    </tr>\n",
       "    <tr>\n",
       "      <th>2</th>\n",
       "      <td>2021</td>\n",
       "      <td>AAPL</td>\n",
       "      <td>34940000000</td>\n",
       "      <td>351002000000</td>\n",
       "      <td>125481000000</td>\n",
       "    </tr>\n",
       "    <tr>\n",
       "      <th>3</th>\n",
       "      <td>2022</td>\n",
       "      <td>AAPL</td>\n",
       "      <td>23646000000</td>\n",
       "      <td>352755000000</td>\n",
       "      <td>153982000000</td>\n",
       "    </tr>\n",
       "    <tr>\n",
       "      <th>4</th>\n",
       "      <td>2019</td>\n",
       "      <td>MSFT</td>\n",
       "      <td>11356000000</td>\n",
       "      <td>286556000000</td>\n",
       "      <td>69420000000</td>\n",
       "    </tr>\n",
       "  </tbody>\n",
       "</table>\n",
       "</div>"
      ],
      "text/plain": [
       "   Year company         Cash  Total Assets  Total Current Liabilities\n",
       "0  2019    AAPL  48844000000  338516000000               105718000000\n",
       "1  2020    AAPL  38016000000  323888000000               105392000000\n",
       "2  2021    AAPL  34940000000  351002000000               125481000000\n",
       "3  2022    AAPL  23646000000  352755000000               153982000000\n",
       "4  2019    MSFT  11356000000  286556000000                69420000000"
      ]
     },
     "metadata": {},
     "output_type": "display_data"
    }
   ],
   "source": [
    "import pandas as pd\n",
    "\n",
    "income_statement = pd.read_csv(path_data+'ch3_income_statment.csv').drop(columns=['Unnamed: 0'])\n",
    "balance_sheet = pd.read_csv(path_data + 'ch3_balance_sheet.csv').drop(columns=['Unnamed: 0'])\n",
    "\n",
    "display(income_statement.head(), balance_sheet.head())"
   ]
  },
  {
   "cell_type": "code",
   "execution_count": 13,
   "metadata": {
    "tags": []
   },
   "outputs": [
    {
     "data": {
      "text/plain": [
       "\"\\nWell done; you're able to merge information from different financial statements to compute ratios that need information from different statements.\\n\""
      ]
     },
     "execution_count": 13,
     "metadata": {},
     "output_type": "execute_result"
    }
   ],
   "source": [
    "# exercise 02\n",
    "\n",
    "\"\"\"\n",
    "Merging financial statements\n",
    "\n",
    "You just learned to read JSON data into Python and compute two ratios from the cash flow statement. Computing the cash flow to net income ratio and operating cash flow ratio not only needs information from a company's cash flow statement, but also the income statement and balance sheet.\n",
    "\n",
    "In this exercise, you'll practice loading JSON data into Python using pandas and merging it with the income statement and balance sheet data.\n",
    "\n",
    "pandas has already been loaded for you as pd. The datasets with balance sheet and income statement information are called balance_sheet and income_statement, respectively. These have also been loaded for you.\n",
    "\"\"\"\n",
    "\n",
    "# Instructions\n",
    "\n",
    "\"\"\"\n",
    "\n",
    "    Begin by reading cash_flow_tech.json as a pandas DataFrame.\n",
    "    Merge the income statement with the balance sheet data, calling the result merged_income_statement_balance_sheet; use \"Year\" and \"company\" as columns to join on.\n",
    "    Merge cash flow data with merged_income_statement_balance_sheet.\n",
    "\n",
    "\"\"\"\n",
    "\n",
    "# solution\n",
    "\n",
    "# Read cash flow data\n",
    "cash_flow = pd.read_json(path_data+'cash_flow_tech.json')\n",
    "\n",
    "# Merge income statement data with balance sheet data\n",
    "merged_income_statement_balance_sheet = pd.merge(income_statement, balance_sheet, on=['Year','company'])\n",
    "\n",
    "# Now merge it with cash flow data\n",
    "merged_all = pd.merge(cash_flow, merged_income_statement_balance_sheet, on=['Year','company'])\n",
    "\n",
    "#----------------------------------#\n",
    "\n",
    "# Conclusion\n",
    "\n",
    "\"\"\"\n",
    "Well done; you're able to merge information from different financial statements to compute ratios that need information from different statements.\n",
    "\"\"\""
   ]
  },
  {
   "cell_type": "code",
   "execution_count": 15,
   "metadata": {},
   "outputs": [],
   "source": [
    "merged_dat = pd.read_csv(path_data+'ch3_merged_dat.csv').drop(columns=['Unnamed: 0'])"
   ]
  },
  {
   "cell_type": "code",
   "execution_count": 16,
   "metadata": {
    "tags": []
   },
   "outputs": [
    {
     "name": "stdout",
     "output_type": "stream",
     "text": [
      "Index(['Year', 'company', 'Ebit', 'Total Revenue', 'Net Income',\n",
      "       'Cost Of Revenue', 'Cash', 'Total Assets', 'Total Current Liabilities',\n",
      "       'Total Cash From Financing Activities',\n",
      "       'Total Cash From Operating Activities', 'cash_flow_to_net_income',\n",
      "       'operating_cash_flow'],\n",
      "      dtype='object')\n",
      "      cash_flow_to_net_income  operating_cash_flow\n",
      "Year                                              \n",
      "2018                 1.807245             1.002117\n",
      "2019                 1.003005             0.810029\n",
      "2020                -2.488864             0.897151\n",
      "2021                 1.455250             0.970223\n",
      "2022                 1.194117             0.745067\n"
     ]
    },
    {
     "data": {
      "text/plain": [
       "'\\nGreat job! These ratios are widely used to check if the business is making satisfactory cash flows. The ideal value of both ratios is greater than one, but the economy was turbulent post-2019 which could explain why it is lower than one in those periods. Note that the cash flow ratios can be negative if there are negative cash flows.\\n'"
      ]
     },
     "execution_count": 16,
     "metadata": {},
     "output_type": "execute_result"
    }
   ],
   "source": [
    "# exercise 03\n",
    "\n",
    "\"\"\"\n",
    "Compute cash flow statement ratios\n",
    "\n",
    "In this exercise, you'll compute the operating cash flow ratio and cash flow to net income ratio.\n",
    "\n",
    "Recall that the operating cash flow ratio tells us how many times a company can pay off its short-term obligations from the cash it generates from the core of its business.\n",
    "\n",
    "The cash flow to net income ratio gives us an idea of the proportion of cash flows earned from operating activities.\n",
    "\n",
    "The pandas DataFrame merged_dat has already been loaded for you. It contains information from the cash flow statement, income statement, and balance sheet. pandas has been loaded as pd.\n",
    "\"\"\"\n",
    "\n",
    "# Instructions\n",
    "\n",
    "\"\"\"\n",
    "\n",
    "    Check the columns of merged_dat to determine which columns you'll need to calculate the operating cash flow ratio and cash flow to net income ratio.\n",
    "---\n",
    "\n",
    "    Compute cash flow to net income ratio and add it as a column to merged_dat.\n",
    "    Compute the operating cash flow ratio and add it as a column to merged_dat.\n",
    "---\n",
    "\n",
    "    Use pivot_table to compute the average cash flow to net income and operating cash flow ratio per Year.\n",
    "\n",
    "\"\"\"\n",
    "\n",
    "# solution\n",
    "\n",
    "print(merged_dat.columns)\n",
    "merged_dat[\"cash_flow_to_net_income\"] = merged_dat[\"Total Cash From Operating Activities\"] / merged_dat[\"Net Income\"]\n",
    "merged_dat[\"operating_cash_flow\"] = merged_dat[\"Total Cash From Operating Activities\"] / merged_dat[\"Total Current Liabilities\"]\n",
    "\n",
    "# Compute the average ratios\n",
    "average_ratios = merged_dat.pivot_table(index=\"Year\", values = [\"cash_flow_to_net_income\", \"operating_cash_flow\"])\n",
    "\n",
    "print(average_ratios)\n",
    "\n",
    "#----------------------------------#\n",
    "\n",
    "# Conclusion\n",
    "\n",
    "\"\"\"\n",
    "Great job! These ratios are widely used to check if the business is making satisfactory cash flows. The ideal value of both ratios is greater than one, but the economy was turbulent post-2019 which could explain why it is lower than one in those periods. Note that the cash flow ratios can be negative if there are negative cash flows.\n",
    "\"\"\""
   ]
  },
  {
   "cell_type": "code",
   "execution_count": 3,
   "metadata": {
    "tags": []
   },
   "outputs": [
    {
     "data": {
      "text/plain": [
       "'\\n\\n'"
      ]
     },
     "execution_count": 3,
     "metadata": {},
     "output_type": "execute_result"
    }
   ],
   "source": [
    "# exercise 04\n",
    "\n",
    "\"\"\"\n",
    "Imputing and filling in missing values using averages\n",
    "\n",
    "When you want to do your analysis, you will likely use your own data. Datasets often have some missing values. In this exercise, you'll practice imputing these missing values. Imputing missing values is important as you do not want missing values to be an obstacle in our analysis.\n",
    "\n",
    "pandas has been loaded with the alias pd and NumPy has been loaded with the alias np. A pandas DataFrame called dataset has been loaded for you. It has the column \"Total Current Liabilities\", which has some missing values in it.\n",
    "\"\"\"\n",
    "\n",
    "# Instructions\n",
    "\n",
    "\"\"\"\n",
    "\n",
    "    Impute the missing values in \"Total Current Liabilities\" by \"company\" using the average non-missing value.\n",
    "    Impute the missing values in \"Total Current Liabilities\" by \"comp_type\" using the average non-missing value.\n",
    "---\n",
    "\n",
    "    Fill the missing values in \"Total Current Liabilities\" by \"company\" using its average non-missing value.\n",
    "    Fill the missing values in \"Total Current Liabilities\" by \"comp_type\" using its average non-missing value.\n",
    "\n",
    "\"\"\"\n",
    "\n",
    "# solution\n",
    "\n",
    "impute_by_company = dataset.groupby(\"company\")[\"Total Current Liabilities\"].transform(\"mean\")\n",
    "impute_by_comp_type = dataset.groupby(\"comp_type\")[\"Total Current Liabilities\"].transform(\"mean\")\n",
    "\n",
    "# Fill in the missing values with imputation\n",
    "dataset[\"current_liab_avg_comp\"] = dataset['Total Current Liabilities'].fillna(impute_by_company)\n",
    "\n",
    "# Fill in the missing values with imputation\n",
    "dataset[\"current_liab_avg_comp_type\"] = dataset['Total Current Liabilities'].fillna(impute_by_comp_type)\n",
    "\n",
    "print(dataset)\n",
    "\n",
    "#----------------------------------#\n",
    "\n",
    "# Conclusion\n",
    "\n",
    "\"\"\"\n",
    "Well done! Imputing and filling in missing values is a very common task while analyzing data from the wild.\n",
    "\"\"\""
   ]
  },
  {
   "cell_type": "code",
   "execution_count": 4,
   "metadata": {
    "tags": []
   },
   "outputs": [
    {
     "data": {
      "text/plain": [
       "'\\n\\n'"
      ]
     },
     "execution_count": 4,
     "metadata": {},
     "output_type": "execute_result"
    }
   ],
   "source": [
    "# exercise 05\n",
    "\n",
    "\"\"\"\n",
    "Imputing missing values with percentiles\n",
    "\n",
    "In this exercise, you'll continue to practice imputing missing values. Unlike the previous exercise, however, you will use percentiles in place of averages to compute the imputations. Using percentiles is a great way to get conservative imputations. Imputing missing values in a column using percentiles involves the following underlying steps:\n",
    "\n",
    "    Remove the missing values from the column of interest.\n",
    "    Then compute the, say 70th percentile of the numbers from the column you just removed missing values from.\n",
    "    70th percentile worst value depends on the column you compute the percentile from:\n",
    "        For instance, having a large amount of assets is considered to be a good thing, so a low amount of assets is worse. The 70th percentile worst value of assets is actually just the 30th percentile of assets.\n",
    "        Analogously, high amounts of liabilities is considered bad. So a 70th worst value of liabilities is simply its 70th percentile.\n",
    "\n",
    "pandas has been loaded with the alias pd and NumPy has been loaded with the alias np. A pandas DataFrame called dataset has been loaded for you. It has the column \"Total Current Liabilities\", which has some missing values.\n",
    "\"\"\"\n",
    "\n",
    "# Instructions\n",
    "\n",
    "\"\"\"\n",
    "mpute the missing values in \"Total Current Liabilities\" by \"company\" using the 70th percentile non-missing value.\n",
    "Impute the missing values in \"Total Current Liabilities\" by \"comp_type\" using the 70th percentile non-missing value\n",
    "---\n",
    "\n",
    "    Fill the missing values in \"Total Current Liabilities\" by \"company\" using the 70th percentile non-missing value.\n",
    "    Fill the missing values in \"Total Current Liabilities\" by \"comp_type\" using the 70th percentile non-missing value.\n",
    "\n",
    "\"\"\"\n",
    "\n",
    "# solution\n",
    "\n",
    "# Impute missing value with average non-missing values of company\n",
    "impute_by_company = dataset.groupby(\"company\")[\"Total Current Liabilities\"].transform(lambda x: np.nanquantile(x, 0.7))\n",
    "\n",
    "# Impute missing value with average non-missing values of industry\n",
    "impute_by_comp_type = dataset.groupby(\"comp_type\")[\"Total Current Liabilities\"].transform(lambda x: np.nanquantile(x, 0.7))\n",
    "\n",
    "# Fill in the missing values using imputation\n",
    "dataset[\"current_liab_quant_comp\"] = dataset['Total Current Liabilities'].fillna(impute_by_company)\n",
    "\n",
    "# Fill in the missing values using imputation\n",
    "dataset[\"current_liab_quant_comp_type\"] = dataset['Total Current Liabilities'].fillna(impute_by_comp_type)\n",
    "\n",
    "print(dataset)\n",
    "\n",
    "#----------------------------------#\n",
    "\n",
    "# Conclusion\n",
    "\n",
    "\"\"\"\n",
    "Well done! Now you know how to fill in missing values with conservative estimates. Note that a 70th percentile is not always 'conservative' or the 70th percentile worst estimate per se. For instance, if you were to estimate the 70th 'worst' percentile of current assets, you would put 0.3 instead of 0.7 in the np.nanquantile.\n",
    "\"\"\""
   ]
  },
  {
   "cell_type": "code",
   "execution_count": 5,
   "metadata": {
    "tags": []
   },
   "outputs": [
    {
     "data": {
      "text/plain": [
       "'\\n\\n'"
      ]
     },
     "execution_count": 5,
     "metadata": {},
     "output_type": "execute_result"
    }
   ],
   "source": [
    "# exercise 06\n",
    "\n",
    "\"\"\"\n",
    "Merging financial statements and filling missing values\n",
    "\n",
    "You just learned about cash flow to net income and operating cash flow ratio. Recall that net income is not entirely earned in cash, and the cash flow to net income ratio tells us the rate of net income earned in cash. The operating cash flow ratio tells us whether the company has enough cash to meet its short-term commitments.\n",
    "\n",
    "In this exercise, you'll compute both of these ratios for Apple and Microsoft and then plot them. A side-by-side plot of ratios of companies in the same industry helps visualize their differences.\n",
    "\n",
    "You will usually get only some of the necessary information from different financial statements in any one DataFrame. You will likely get it from different sources and have to merge them. In addition, data from the wild often has missing values. This exercise involves filling in NaNs and merging DataFrames.\n",
    "\n",
    "A pandas DataFrame dataset has been loaded for you. It contains information about Microsoft and Apple's income statements and balance sheets. Another pandas DataFrame cash_flow_statement has also been loaded for you. This has some of Apple and Microsoft's cash flow information.\n",
    "\"\"\"\n",
    "\n",
    "# Instructions\n",
    "\n",
    "\"\"\"\n",
    "\n",
    "\n",
    "    Check the columns of dataset and cash_flow_statement, and see which columns they should be merged on.\n",
    "---\n",
    "\n",
    "    Merge dataset and cash_flow_statement on the keywords \"Year\" and \"company\".\n",
    "    The column Total Current Liabilities has NaN values; fill them with the average Total Current Liabilities of all companies.\n",
    "---\n",
    "\n",
    "\n",
    "    Compute the operating cash flow ratio.\n",
    "\n",
    "\"\"\"\n",
    "\n",
    "# solution\n",
    "\n",
    "# Merge dataset with cash_flow_statement\n",
    "merged_dat = pd.merge(dataset, cash_flow_statement, on=[\"Year\", \"company\"])\n",
    "\n",
    "# Fill in the NaN values in Total Current Liabilities with the mean\n",
    "merged_dat[\"Total Current Liabilities\"] = merged_dat[\"Total Current Liabilities\"].fillna(merged_dat[\"Total Current Liabilities\"].mean())\n",
    "\n",
    "# Compute operating cash flow ratio\n",
    "merged_dat[\"operating_cash_flow\"] = merged_dat['Total Cash From Operating Activities'] / merged_dat['Total Current Liabilities']\n",
    "\n",
    "print(merged_dat[[\"Year\", \"company\", \"operating_cash_flow\"]])\n",
    "\n",
    "#----------------------------------#\n",
    "\n",
    "# Conclusion\n",
    "\n",
    "\"\"\"\n",
    "Well done! Now you're well equipped to handle datasets from the wild! Cash flow ratios help us understand whether a business is actually earning cash. The operating cash flow ratio of Apple and Microsoft is strong. Given that they are some of the top tech companies - it is no surprise.\n",
    "\"\"\""
   ]
  },
  {
   "cell_type": "code",
   "execution_count": 6,
   "metadata": {
    "tags": []
   },
   "outputs": [
    {
     "data": {
      "text/plain": [
       "'\\n\\n'"
      ]
     },
     "execution_count": 6,
     "metadata": {},
     "output_type": "execute_result"
    }
   ],
   "source": [
    "# exercise 07\n",
    "\n",
    "\"\"\"\n",
    "Plotting cash flow ratios\n",
    "\n",
    "Sometimes, you might want to plot several line plots in one image. However, having too many lines in one plot will make it challenging to read. Making separate facets for every line is more elegant: the figure will look neat and more interpretable.\n",
    "\n",
    "A pandas DataFrame plot_df has already been loaded for you. It has the columns \"Year\", \"company\",\"cash_flow_to_net_income\" and \"operating_cash_flow\". Seaborn has been loaded with the alias sns.\n",
    "\"\"\"\n",
    "\n",
    "# Instructions\n",
    "\n",
    "\"\"\"\n",
    "\n",
    "    Melt plot_dfto prepare it for plotting.\n",
    "    Use sns.relplot() to make a line plot of the cash flow to net income and operating cash flow ratio of Apple and Microsoft over time, with hue over the dimension of \"Ratio\".\n",
    "\n",
    "\"\"\"\n",
    "\n",
    "# solution\n",
    "\n",
    "# Melt the DataFrame to prepare for plotting\n",
    "melt_data = plot_df.melt(id_vars=['Year','company'], var_name=\"Ratio\", value_vars=[\"cash_flow_to_net_income\", \"operating_cash_flow\"])\n",
    "\n",
    "# Plot your melted DataFrame\n",
    "sns.relplot(data=melt_data, x='Year', y='value', col='company', kind='line', hue='Ratio')\n",
    "\n",
    "plt.show()\n",
    "\n",
    "#----------------------------------#\n",
    "\n",
    "# Conclusion\n",
    "\n",
    "\"\"\"\n",
    "Great job! This looks like a neat graph :). We can see that both Apple and Microsoft are similar in these ratios. Don't be misled by the huge jumps in the graphs. Always look at the scale of the y-axis, which in this case is very small, so even little changes look big.\n",
    "\"\"\""
   ]
  }
 ],
 "metadata": {
  "kernelspec": {
   "display_name": "Python 3 (ipykernel)",
   "language": "python",
   "name": "python3"
  },
  "language_info": {
   "codemirror_mode": {
    "name": "ipython",
    "version": 3
   },
   "file_extension": ".py",
   "mimetype": "text/x-python",
   "name": "python",
   "nbconvert_exporter": "python",
   "pygments_lexer": "ipython3",
   "version": "3.11.3"
  }
 },
 "nbformat": 4,
 "nbformat_minor": 4
}
