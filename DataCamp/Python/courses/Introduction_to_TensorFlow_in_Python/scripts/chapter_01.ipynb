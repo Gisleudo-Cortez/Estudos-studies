{
 "cells": [
  {
   "cell_type": "code",
   "execution_count": 1,
   "metadata": {
    "tags": []
   },
   "outputs": [],
   "source": [
    "# run this to shorten the data import from the files\n",
    "path_data = '/home/nero/Documents/Estudos/DataCamp/Python/Introduction_to_TensorFlow_in_Python/datasets/'\n",
    "import pandas as pd"
   ]
  },
  {
   "cell_type": "code",
   "execution_count": 6,
   "metadata": {},
   "outputs": [
    {
     "data": {
      "text/plain": [
       "array([[2.0000e+00, 1.0000e+00, 2.4000e+01, 3.9130e+03],\n",
       "       [2.0000e+00, 2.0000e+00, 2.6000e+01, 2.6820e+03],\n",
       "       [2.0000e+00, 2.0000e+00, 3.4000e+01, 2.9239e+04],\n",
       "       [2.0000e+00, 1.0000e+00, 3.7000e+01, 4.6990e+04],\n",
       "       [2.0000e+00, 1.0000e+00, 5.7000e+01, 8.6170e+03]])"
      ]
     },
     "execution_count": 6,
     "metadata": {},
     "output_type": "execute_result"
    }
   ],
   "source": [
    "credit_numpy = pd.read_csv(path_data + 'credit_numpy.csv').drop('Unnamed: 0', axis = 1).values\n",
    "credit_numpy[:5]"
   ]
  },
  {
   "cell_type": "code",
   "execution_count": 9,
   "metadata": {},
   "outputs": [
    {
     "name": "stdout",
     "output_type": "stream",
     "text": [
      "\n",
      " The datatype is: <dtype: 'float64'>\n",
      "\n",
      " The shape is: (30000, 4)\n"
     ]
    },
    {
     "data": {
      "text/plain": [
       "\"\\nExcellent! You now understand how constants are used in tensorflow. In the following exercise, you'll practice defining variables.\\n\""
      ]
     },
     "execution_count": 9,
     "metadata": {},
     "output_type": "execute_result"
    }
   ],
   "source": [
    "# exercise 01\n",
    "\n",
    "\"\"\"\n",
    "Defining data as constants\n",
    "\n",
    "Throughout this course, we will use tensorflow version 2.6.0 and will exclusively import the submodules needed to complete each exercise. This will usually be done for you, but you will do it in this exercise by importing constant from tensorflow.\n",
    "\n",
    "After you have imported constant, you will use it to transform a numpy array, credit_numpy, into a tensorflow constant, credit_constant. This array contains feature columns from a dataset on credit card holders and is previewed in the image below. We will return to this dataset in later chapters.\n",
    "\n",
    "Note that tensorflow 2 allows you to use data as either a numpy array or a tensorflow constant object. Using a constant will ensure that any operations performed with that object are done in tensorflow. \n",
    "\"\"\"\n",
    "\n",
    "# Instructions\n",
    "\n",
    "\"\"\"\n",
    "\n",
    "    Import the constant submodule from the tensorflow module.\n",
    "    Convert the credit_numpy array into a constant object in tensorflow. Do not set the data type.\n",
    "\n",
    "\"\"\"\n",
    "\n",
    "# solution\n",
    "\n",
    "# Import constant from TensorFlow\n",
    "from tensorflow import constant\n",
    "\n",
    "# Convert the credit_numpy array into a tensorflow constant\n",
    "credit_constant = constant(credit_numpy)\n",
    "\n",
    "# Print constant datatype\n",
    "print('\\n The datatype is:', credit_constant.dtype)\n",
    "\n",
    "# Print constant shape\n",
    "print('\\n The shape is:', credit_constant.shape)\n",
    "\n",
    "#----------------------------------#\n",
    "\n",
    "# Conclusion\n",
    "\n",
    "\"\"\"\n",
    "Excellent! You now understand how constants are used in tensorflow. In the following exercise, you'll practice defining variables.\n",
    "\"\"\""
   ]
  },
  {
   "cell_type": "code",
   "execution_count": 11,
   "metadata": {},
   "outputs": [],
   "source": [
    "from tensorflow import Variable"
   ]
  },
  {
   "cell_type": "code",
   "execution_count": 13,
   "metadata": {
    "tags": []
   },
   "outputs": [
    {
     "name": "stdout",
     "output_type": "stream",
     "text": [
      "\n",
      " A1:  <tf.Variable 'Variable:0' shape=(4,) dtype=int32, numpy=array([1, 2, 3, 4], dtype=int32)>\n",
      "\n",
      " B1:  [1 2 3 4]\n"
     ]
    },
    {
     "data": {
      "text/plain": [
       "\"\\nNice work! Did you notice any differences between the print statements for A1 and B1? In our next exercise, we'll review how to check the properties of a tensor after it is already defined.\\n\""
      ]
     },
     "execution_count": 13,
     "metadata": {},
     "output_type": "execute_result"
    }
   ],
   "source": [
    "# exercise 02\n",
    "\n",
    "\"\"\"\n",
    "Defining variables\n",
    "\n",
    "Unlike a constant, a variable's value can be modified. This will be useful when we want to train a model by updating its parameters.\n",
    "\n",
    "Let's try defining and printing a variable. We'll then convert the variable to a numpy array, print again, and check for differences. Note that Variable(), which is used to create a variable tensor, has been imported from tensorflow and is available to use in the exercise.\n",
    "\"\"\"\n",
    "\n",
    "# Instructions\n",
    "\n",
    "\"\"\"\n",
    "\n",
    "    Define a variable, A1, as the 1-dimensional tensor: [1, 2, 3, 4].\n",
    "    Apply .numpy() to A1 and assign it to B1.\n",
    "\n",
    "\"\"\"\n",
    "\n",
    "# solution\n",
    "\n",
    "# Define the 1-dimensional variable A1\n",
    "A1 = Variable([1, 2, 3, 4])\n",
    "\n",
    "# Print the variable A1\n",
    "print('\\n A1: ', A1)\n",
    "\n",
    "# Convert A1 to a numpy array and assign it to B1\n",
    "B1 = A1.numpy()\n",
    "\n",
    "# Print B1\n",
    "print('\\n B1: ', B1)\n",
    "\n",
    "#----------------------------------#\n",
    "\n",
    "# Conclusion\n",
    "\n",
    "\"\"\"\n",
    "Nice work! Did you notice any differences between the print statements for A1 and B1? In our next exercise, we'll review how to check the properties of a tensor after it is already defined.\n",
    "\"\"\""
   ]
  },
  {
   "cell_type": "code",
   "execution_count": 14,
   "metadata": {},
   "outputs": [],
   "source": [
    "from tensorflow import ones_like, multiply"
   ]
  },
  {
   "cell_type": "code",
   "execution_count": 15,
   "metadata": {
    "tags": []
   },
   "outputs": [
    {
     "name": "stdout",
     "output_type": "stream",
     "text": [
      "\n",
      " C1: [1 2 3 4]\n",
      "\n",
      " C23: [[1 2 3]\n",
      " [1 6 4]]\n"
     ]
    },
    {
     "data": {
      "text/plain": [
       "'\\nExcellent work! Notice how performing element-wise multiplication with tensors of ones leaves the original tensors unchanged.\\n'"
      ]
     },
     "execution_count": 15,
     "metadata": {},
     "output_type": "execute_result"
    }
   ],
   "source": [
    "# exercise 03\n",
    "\n",
    "\"\"\"\n",
    "Performing element-wise multiplication\n",
    "\n",
    "Element-wise multiplication in TensorFlow is performed using two tensors with identical shapes. This is because the operation multiplies elements in corresponding positions in the two tensors. An example of an element-wise multiplication, denoted by the\n",
    "\n",
    "symbol, is shown below:\n",
    "\n",
    "In this exercise, you will perform element-wise multiplication, paying careful attention to the shape of the tensors you multiply. Note that multiply(), constant(), and ones_like() have been imported for you.\n",
    "\"\"\"\n",
    "\n",
    "# Instructions\n",
    "\n",
    "\"\"\"\n",
    "\n",
    "    Define the tensors A1 and A23 as constants.\n",
    "    Set B1 to be a tensor of ones with the same shape as A1.\n",
    "    Set B23 to be a tensor of ones with the same shape as A23.\n",
    "    Set C1 and C23 equal to the element-wise products of A1 and B1, and A23 and B23, respectively.\n",
    "\n",
    "\"\"\"\n",
    "\n",
    "# solution\n",
    "\n",
    "# Define tensors A1 and A23 as constants\n",
    "A1 = constant([1, 2, 3, 4])\n",
    "A23 = constant([[1, 2, 3], [1, 6, 4]])\n",
    "\n",
    "# Define B1 and B23 to have the correct shape\n",
    "B1 = ones_like(4)\n",
    "B23 = ones_like(2,3)\n",
    "\n",
    "# Perform element-wise multiplication\n",
    "C1 = multiply(A1, B1)\n",
    "C23 = multiply(A23, B23)\n",
    "\n",
    "# Print the tensors C1 and C23\n",
    "print('\\n C1: {}'.format(C1.numpy()))\n",
    "print('\\n C23: {}'.format(C23.numpy()))\n",
    "\n",
    "#----------------------------------#\n",
    "\n",
    "# Conclusion\n",
    "\n",
    "\"\"\"\n",
    "Excellent work! Notice how performing element-wise multiplication with tensors of ones leaves the original tensors unchanged.\n",
    "\"\"\""
   ]
  },
  {
   "cell_type": "code",
   "execution_count": 16,
   "metadata": {},
   "outputs": [],
   "source": [
    "from tensorflow import matmul"
   ]
  },
  {
   "cell_type": "code",
   "execution_count": 17,
   "metadata": {
    "tags": []
   },
   "outputs": [
    {
     "name": "stdout",
     "output_type": "stream",
     "text": [
      "[[-1687]\n",
      " [-3218]\n",
      " [-1933]\n",
      " [57850]]\n"
     ]
    },
    {
     "data": {
      "text/plain": [
       "'\\nNice job! Understanding matrix multiplication will make things simpler when we start making predictions with linear models.\\n'"
      ]
     },
     "execution_count": 17,
     "metadata": {},
     "output_type": "execute_result"
    }
   ],
   "source": [
    "# exercise 04\n",
    "\n",
    "\"\"\"\n",
    "Making predictions with matrix multiplication\n",
    "\n",
    "In later chapters, you will learn to train linear regression models. This process will yield a vector of parameters that can be multiplied by the input data to generate predictions. In this exercise, you will use input data, features, and a target vector, bill, which are taken from a credit card dataset we will use later in the course.\n",
    "\n",
    ",\n",
    ",\n",
    "\n",
    "The matrix of input data, features, contains two columns: education level and age. The target vector, bill, is the size of the credit card borrower's bill.\n",
    "\n",
    "Since we have not trained the model, you will enter a guess for the values of the parameter vector, params. You will then use matmul() to perform matrix multiplication of features by params to generate predictions, billpred, which you will compare with bill. Note that we have imported matmul() and constant().\n",
    "\"\"\"\n",
    "\n",
    "# Instructions\n",
    "\n",
    "\"\"\"\n",
    "\n",
    "    Define features, params, and bill as constants.\n",
    "    Compute the predicted value vector, billpred, by multiplying the input data, features, by the parameters, params. Use matrix multiplication, rather than the element-wise product.\n",
    "    Define error as the targets, bill, minus the predicted values, billpred.\n",
    "\n",
    "\"\"\"\n",
    "\n",
    "# solution\n",
    "\n",
    "# Define features, params, and bill as constants\n",
    "features = constant([[2, 24], [2, 26], [2, 57], [1, 37]])\n",
    "params = constant([[1000], [150]])\n",
    "bill = constant([[3913], [2682], [8617], [64400]])\n",
    "\n",
    "# Compute billpred using features and params\n",
    "billpred = matmul(features, params)\n",
    "\n",
    "# Compute and print the error\n",
    "error = bill - billpred\n",
    "print(error.numpy())\n",
    "\n",
    "#----------------------------------#\n",
    "\n",
    "# Conclusion\n",
    "\n",
    "\"\"\"\n",
    "Nice job! Understanding matrix multiplication will make things simpler when we start making predictions with linear models.\n",
    "\"\"\""
   ]
  },
  {
   "cell_type": "code",
   "execution_count": 18,
   "metadata": {},
   "outputs": [],
   "source": [
    "import numpy as np\n",
    "\n",
    "wealth = np.array([[11, 50],\n",
    "       [ 7,  2],\n",
    "       [ 4, 60],\n",
    "       [ 3,  0],\n",
    "       [25, 10]])"
   ]
  },
  {
   "cell_type": "code",
   "execution_count": 19,
   "metadata": {},
   "outputs": [],
   "source": [
    "from tensorflow import reduce_sum"
   ]
  },
  {
   "cell_type": "code",
   "execution_count": 21,
   "metadata": {
    "tags": []
   },
   "outputs": [
    {
     "name": "stdout",
     "output_type": "stream",
     "text": [
      "tf.Tensor([ 50 122], shape=(2,), dtype=int64)\n"
     ]
    },
    {
     "data": {
      "text/plain": [
       "'\\nExcellent work! Understanding how to sum over tensor dimensions will be helpful when preparing datasets and training models.\\n'"
      ]
     },
     "execution_count": 21,
     "metadata": {},
     "output_type": "execute_result"
    }
   ],
   "source": [
    "# exercise 05\n",
    "\n",
    "\"\"\"\n",
    "Summing over tensor dimensions\n",
    "\n",
    "You've been given a matrix, wealth. This contains the value of bond and stock wealth for five individuals in thousands of dollars.\n",
    "\n",
    "wealth =\n",
    "The first column corresponds to bonds and the second corresponds to stocks. Each row gives the bond and stock wealth for a single individual. Use wealth, reduce_sum(), and .numpy() to determine which statements are correct about wealth.\n",
    "\"\"\"\n",
    "\n",
    "# Instructions\n",
    "\n",
    "\"\"\"\n",
    "\n",
    "\"\"\"\n",
    "\n",
    "# solution\n",
    "\n",
    "print(reduce_sum(wealth, [0]))\n",
    "\n",
    "#----------------------------------#\n",
    "\n",
    "# Conclusion\n",
    "\n",
    "\"\"\"\n",
    "Excellent work! Understanding how to sum over tensor dimensions will be helpful when preparing datasets and training models.\n",
    "\"\"\""
   ]
  },
  {
   "cell_type": "code",
   "execution_count": null,
   "metadata": {},
   "outputs": [],
   "source": [
    "gray_tensor = np.\n",
    "array([[187, 189, 190, 192, 195, 198, 198, 198, 200, 200, 201, 205, 206,\n",
    "        203, 206, 206, 206, 207, 209, 207, 205, 205, 208, 208, 206, 207,\n",
    "        206, 206],\n",
    "       [189, 191, 193, 195, 197, 199, 200, 199, 200, 201, 202, 206, 206,\n",
    "        208, 204, 204, 210, 209, 208, 208, 207, 206, 208, 208, 207, 207,\n",
    "        207, 207],\n",
    "       [189, 192, 195, 198, 198, 201, 202, 203, 205, 206, 205, 209, 207,\n",
    "        204, 211, 210, 205, 208, 211, 208, 206, 207, 209, 210, 210, 208,\n",
    "        210, 210],\n",
    "       [191, 192, 195, 197, 199, 199, 204, 201, 203, 208, 206, 207, 209,\n",
    "        207, 213, 208, 209, 211, 221, 205, 204, 239, 182, 212, 213, 212,\n",
    "        209, 209],\n",
    "       [193, 195, 195, 199, 201, 201, 203, 205, 206, 216, 223, 203, 207,\n",
    "        239, 225, 193, 188, 230, 232, 195, 176, 239, 191, 205, 215, 212,\n",
    "        211, 213],\n",
    "       [194, 196, 199, 200, 206, 202, 205, 207, 196, 255, 238, 197, 160,\n",
    "        235, 226, 191, 146, 190, 226, 201, 160, 228, 211, 162, 215, 214,\n",
    "        216, 213],\n",
    "       [195, 198, 201, 202, 202, 203, 232, 215, 197, 246, 230, 215, 153,\n",
    "        235, 221, 205, 162, 181, 224, 210, 166, 202, 209, 163, 190, 213,\n",
    "        211, 213],\n",
    "       [196, 198, 201, 208, 202, 243, 240, 215, 166, 246, 233, 223, 171,\n",
    "        235, 212, 214, 165, 206, 224, 199, 152, 126, 206, 199, 170, 165,\n",
    "        214, 215],\n",
    "       [198, 201, 197, 204, 189, 247, 244, 230, 206, 246, 235, 220, 188,\n",
    "        235, 211, 218, 142, 227, 223, 176, 152,  74, 192, 206, 200, 145,\n",
    "        177, 215],\n",
    "       [200, 203, 206, 206, 236, 254, 254, 233, 215, 205, 242, 219, 185,\n",
    "        234, 230, 223, 131, 201, 209, 156, 141,  83, 175, 220, 196, 157,\n",
    "        185, 222],\n",
    "       [201, 200, 201, 193, 253, 231, 245, 246, 209, 159, 241, 214, 176,\n",
    "        219, 234, 212, 133, 132, 175, 149, 109, 100, 225, 226, 209, 147,\n",
    "        219, 221],\n",
    "       [202, 203, 203, 196, 253, 209, 241, 233, 194, 150, 234, 204, 174,\n",
    "        160, 208, 189, 146, 101, 172, 145,  76, 195, 230, 226, 194, 121,\n",
    "        227, 224],\n",
    "       [204, 203, 210, 245, 251, 222, 207, 198, 152, 112, 207, 171, 163,\n",
    "         97, 163, 154, 122, 105, 175, 169, 175, 227, 226, 206, 154, 147,\n",
    "        219, 225],\n",
    "       [204, 205, 201, 250, 246, 217, 167, 204, 146, 116, 192, 170, 161,\n",
    "         78, 151, 165, 115, 181, 228, 225, 223, 215, 203, 181, 144, 202,\n",
    "        220, 227],\n",
    "       [205, 207, 198, 252, 254, 228, 198, 185, 162, 128, 202, 194, 144,\n",
    "         64, 135, 155, 237, 241, 237, 226, 211, 177, 179, 155, 142, 227,\n",
    "        227, 228],\n",
    "       [210, 211, 208, 255, 252, 240, 219, 187, 168, 148, 187, 202, 151,\n",
    "        103, 192, 246, 253, 244, 233, 221, 199, 179, 157, 154, 116, 234,\n",
    "        228, 231],\n",
    "       [208, 211, 209, 254, 254, 248, 231, 216, 193, 175, 178, 201, 208,\n",
    "        240, 253, 254, 249, 238, 222, 206, 185, 160, 143, 143, 214, 231,\n",
    "        230, 230],\n",
    "       [209, 212, 205, 254, 254, 252, 241, 229, 217, 187, 207, 224, 249,\n",
    "        253, 251, 250, 242, 228, 206, 183, 166, 150, 143, 172, 229, 234,\n",
    "        235, 230],\n",
    "       [208, 211, 206, 254, 254, 255, 249, 238, 231, 211, 213, 230, 250,\n",
    "        254, 252, 246, 233, 217, 188, 164, 150, 143, 120, 235, 231, 230,\n",
    "        231, 231],\n",
    "       [209, 213, 211, 253, 255, 255, 252, 244, 233, 222, 217, 224, 246,\n",
    "        251, 242, 234, 225, 195, 173, 153, 134, 116, 225, 232, 235, 232,\n",
    "        233, 233],\n",
    "       [209, 214, 214, 246, 254, 253, 252, 240, 224, 214, 213, 217, 233,\n",
    "        233, 230, 214, 199, 190, 150, 145, 127, 201, 233, 234, 232, 234,\n",
    "        233, 234],\n",
    "       [211, 215, 215, 243, 254, 254, 245, 232, 221, 208, 213, 218, 225,\n",
    "        223, 206, 195, 169, 157, 132, 126, 170, 238, 234, 235, 234, 234,\n",
    "        234, 234],\n",
    "       [214, 216, 217, 209, 254, 250, 236, 229, 212, 197, 206, 210, 221,\n",
    "        210, 196, 170, 148, 140, 118, 134, 240, 235, 234, 235, 235, 236,\n",
    "        235, 236],\n",
    "       [186, 175, 180, 150, 156, 158, 144, 124, 132, 134, 148, 153, 150,\n",
    "        146, 137, 134, 126, 109, 114, 235, 237, 234, 238, 236, 236, 236,\n",
    "        236, 237],\n",
    "       [145, 135, 137, 134, 122, 136, 112,  95,  94,  90,  93,  65,  60,\n",
    "         66,  61,  66,  58,  66,  80, 164, 247, 235, 236, 237, 239, 237,\n",
    "        237, 235],\n",
    "       [140, 146, 136, 132, 129, 134, 100, 103, 100, 100,  87,  64,  66,\n",
    "         65,  57,  57,  61,  61,  64,  65, 177, 242, 238, 238, 239, 238,\n",
    "        238, 238],\n",
    "       [141, 146, 140, 131, 130, 136,  93,  97, 102,  96,  78,  71,  68,\n",
    "         64,  60,  61,  60,  55,  58,  48, 254, 238, 240, 239, 238, 237,\n",
    "        237, 238],\n",
    "       [146, 143, 137, 138, 129, 113,  94,  98, 101,  87,  75,  70,  68,\n",
    "         63,  60,  58,  56,  57,  63,  81, 237, 237, 240, 240, 239, 240,\n",
    "        240, 240]])\n",
    "\n",
    "color_tensor = np."
   ]
  },
  {
   "cell_type": "code",
   "execution_count": 5,
   "metadata": {
    "tags": []
   },
   "outputs": [
    {
     "data": {
      "text/plain": [
       "'\\n\\n'"
      ]
     },
     "execution_count": 5,
     "metadata": {},
     "output_type": "execute_result"
    }
   ],
   "source": [
    "# exercise 06\n",
    "\n",
    "\"\"\"\n",
    "Reshaping tensors\n",
    "\n",
    "Later in the course, you will classify images of sign language letters using a neural network. In some cases, the network will take 1-dimensional tensors as inputs, but your data will come in the form of images, which will either be either 2- or 3-dimensional tensors, depending on whether they are grayscale or color images.\n",
    "\n",
    "The figure below shows grayscale and color images of the sign language letter A. The two images have been imported for you and converted to the numpy arrays gray_tensor and color_tensor. Reshape these arrays into 1-dimensional vectors using the reshape operation, which has been imported for you from tensorflow. Note that the shape of gray_tensor is 28x28 and the shape of color_tensor is 28x28x3.\n",
    "\"\"\"\n",
    "\n",
    "# Instructions\n",
    "\n",
    "\"\"\"\n",
    "\n",
    "    Reshape gray_tensor from a 28x28 matrix into a 784x1 vector named gray_vector.\n",
    "    Reshape color_tensor from a 28x28x3 tensor into a 2352x1 vector named color_vector.\n",
    "\n",
    "\"\"\"\n",
    "\n",
    "# solution\n",
    "\n",
    "# Reshape the grayscale image tensor into a vector\n",
    "gray_vector = reshape(gray_tensor, (28*28, 1))\n",
    "\n",
    "# Reshape the color image tensor into a vector\n",
    "color_vector = reshape(color_tensor, (28*28*3, 1))\n",
    "\n",
    "#----------------------------------#\n",
    "\n",
    "# Conclusion\n",
    "\n",
    "\"\"\"\n",
    "Excellent work! Notice that there are 3 times as many elements in color_vector as there are in gray_vector, since color_tensor has 3 color channels.\n",
    "\"\"\""
   ]
  },
  {
   "cell_type": "code",
   "execution_count": 22,
   "metadata": {},
   "outputs": [],
   "source": [
    "from tensorflow import GradientTape"
   ]
  },
  {
   "cell_type": "code",
   "execution_count": 34,
   "metadata": {
    "tags": []
   },
   "outputs": [
    {
     "name": "stdout",
     "output_type": "stream",
     "text": [
      "-2.0\n",
      "2.0\n",
      "0.0\n"
     ]
    },
    {
     "data": {
      "text/plain": [
       "'\\nExcellent work! Notice that the slope is positive at x = 1, which means that we can lower the loss by reducing x. The slope is negative at x = -1, which means that we can lower the loss by increasing x. The slope at x = 0 is 0, which means that we cannot lower the loss by either increasing or decreasing x. This is because the loss is minimized at x = 0.\\n'"
      ]
     },
     "execution_count": 34,
     "metadata": {},
     "output_type": "execute_result"
    }
   ],
   "source": [
    "# exercise 07\n",
    "\n",
    "\"\"\"\n",
    "Optimizing with gradients\n",
    "\n",
    "You are given a loss function,\n",
    "\n",
    ", which you want to minimize. You can do this by computing the slope using the GradientTape() operation at different values of x. If the slope is positive, you can decrease the loss by lowering x. If it is negative, you can decrease it by increasing x. This is how gradient descent works.\n",
    "\n",
    "The image shows a plot of y equals x squared. It also shows the gradient at x equals -1, x equals 0, and x equals 1.\n",
    "\n",
    "In practice, you will use a high level tensorflow operation to perform gradient descent automatically. In this exercise, however, you will compute the slope at x values of -1, 1, and 0. The following operations are available: GradientTape(), multiply(), and Variable().\n",
    "\"\"\"\n",
    "\n",
    "# Instructions\n",
    "\n",
    "\"\"\"\n",
    "\n",
    "    Define x as a variable with the initial value x0.\n",
    "    Set the loss function, y, equal to x multiplied by x. Do not make use of operator overloading.\n",
    "    Set the function to return the gradient of y with respect to x.\n",
    "\n",
    "\"\"\"\n",
    "\n",
    "# solution\n",
    "\n",
    "def compute_gradient(x0):\n",
    "  \t# Define x as a variable with an initial value of x0\n",
    "\tx = Variable(x0)\n",
    "\twith GradientTape() as tape:\n",
    "\t\ttape.watch(x)\n",
    "        # Define y using the multiply operation\n",
    "\t\ty = multiply(x,x)\n",
    "    # Return the gradient of y with respect to x\n",
    "\treturn tape.gradient(y, x).numpy(), y\n",
    "\n",
    "# Compute and print gradients at x = -1, 1, and 0\n",
    "print(compute_gradient(-1.0)[0])\n",
    "print(compute_gradient(1.0)[0])\n",
    "print(compute_gradient(0.0)[0])\n",
    "\n",
    "#----------------------------------#\n",
    "\n",
    "# Conclusion\n",
    "\n",
    "\"\"\"\n",
    "Excellent work! Notice that the slope is positive at x = 1, which means that we can lower the loss by reducing x. The slope is negative at x = -1, which means that we can lower the loss by increasing x. The slope at x = 0 is 0, which means that we cannot lower the loss by either increasing or decreasing x. This is because the loss is minimized at x = 0.\n",
    "\"\"\""
   ]
  },
  {
   "cell_type": "code",
   "execution_count": 31,
   "metadata": {},
   "outputs": [
    {
     "data": {
      "image/png": "[encoded data removed]",
      "text/plain": [
       "<Figure size 640x480 with 1 Axes>"
      ]
     },
     "metadata": {},
     "output_type": "display_data"
    }
   ],
   "source": [
    "import matplotlib.pyplot as plt\n",
    "\n",
    "X = np.arange(-2,2.1,0.1)\n",
    "y = []\n",
    "\n",
    "for val in X:\n",
    "   a, b = compute_gradient(val)\n",
    "   y.append(b)\n",
    "\n",
    "plt.plot(X, y)\n",
    "plt.show()"
   ]
  },
  {
   "cell_type": "code",
   "execution_count": 37,
   "metadata": {},
   "outputs": [],
   "source": [
    "model = np.array([[ 1.],\n",
    "       [ 0.],\n",
    "       [-1.]])\n",
    "letter = np.array([[1., 0., 1.],\n",
    "       [1., 1., 0.],\n",
    "       [1., 0., 1.]])\n",
    "\n",
    "from tensorflow import reshape"
   ]
  },
  {
   "cell_type": "code",
   "execution_count": 38,
   "metadata": {
    "tags": []
   },
   "outputs": [
    {
     "name": "stdout",
     "output_type": "stream",
     "text": [
      "1.0\n"
     ]
    },
    {
     "data": {
      "text/plain": [
       "'\\nExcellent work! Your model found that prediction=1.0 and correctly classified the letter as a K. In the coming chapters, you will use data to train a model, model, and then combine this with matrix multiplication, matmul(letter, model), as we have done here, to make predictions about the classes of objects.\\n'"
      ]
     },
     "execution_count": 38,
     "metadata": {},
     "output_type": "execute_result"
    }
   ],
   "source": [
    "# exercise 08\n",
    "\n",
    "\"\"\"\n",
    "Working with image data\n",
    "\n",
    "You are given a black-and-white image of a letter, which has been encoded as a tensor, letter. You want to determine whether the letter is an X or a K. You don't have a trained neural network, but you do have a simple model, model, which can be used to classify letter.\n",
    "\n",
    "The 3x3 tensor, letter, and the 1x3 tensor, model, are available in the Python shell. You can determine whether letter is a K by multiplying letter by model, summing over the result, and then checking if it is equal to 1. As with more complicated models, such as neural networks, model is a collection of weights, arranged in a tensor.\n",
    "\n",
    "Note that the functions reshape(), matmul(), and reduce_sum() have been imported from tensorflow and are available for use.\n",
    "\"\"\"\n",
    "\n",
    "# Instructions\n",
    "\n",
    "\"\"\"\n",
    "\n",
    "    The model, model, is 1x3 tensor, but should be a 3x1. Reshape model.\n",
    "    Perform a matrix multiplication of the 3x3 tensor, letter, by the 3x1 tensor, model.\n",
    "    Sum over the resulting tensor, output, and assign this value to prediction.\n",
    "    Print prediction using the .numpy() method to determine whether letter is K.\n",
    "\n",
    "\"\"\"\n",
    "\n",
    "# solution\n",
    "\n",
    "# Reshape model from a 1x3 to a 3x1 tensor\n",
    "model = reshape(model, (3, 1))\n",
    "\n",
    "# Multiply letter by model\n",
    "output = matmul(letter, model)\n",
    "\n",
    "# Sum over output and print prediction using the numpy method\n",
    "prediction = reduce_sum(output)\n",
    "print(prediction.numpy())\n",
    "\n",
    "#----------------------------------#\n",
    "\n",
    "# Conclusion\n",
    "\n",
    "\"\"\"\n",
    "Excellent work! Your model found that prediction=1.0 and correctly classified the letter as a K. In the coming chapters, you will use data to train a model, model, and then combine this with matrix multiplication, matmul(letter, model), as we have done here, to make predictions about the classes of objects.\n",
    "\"\"\""
   ]
  }
 ],
 "metadata": {
  "kernelspec": {
   "display_name": "Python 3 (ipykernel)",
   "language": "python",
   "name": "python3"
  },
  "language_info": {
   "codemirror_mode": {
    "name": "ipython",
    "version": 3
   },
   "file_extension": ".py",
   "mimetype": "text/x-python",
   "name": "python",
   "nbconvert_exporter": "python",
   "pygments_lexer": "ipython3",
   "version": "3.11.3"
  }
 },
 "nbformat": 4,
 "nbformat_minor": 4
}
