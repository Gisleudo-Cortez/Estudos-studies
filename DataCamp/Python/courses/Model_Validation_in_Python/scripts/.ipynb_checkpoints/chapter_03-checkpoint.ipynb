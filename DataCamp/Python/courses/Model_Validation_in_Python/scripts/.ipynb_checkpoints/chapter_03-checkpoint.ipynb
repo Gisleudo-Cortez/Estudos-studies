{
 "cells": [
  {
   "cell_type": "code",
   "execution_count": 21,
   "metadata": {
    "execution": {
     "iopub.execute_input": "2023-06-14T12:10:32.428637Z",
     "iopub.status.busy": "2023-06-14T12:10:32.428337Z",
     "iopub.status.idle": "2023-06-14T12:10:32.432511Z",
     "shell.execute_reply": "2023-06-14T12:10:32.431764Z",
     "shell.execute_reply.started": "2023-06-14T12:10:32.428612Z"
    },
    "tags": []
   },
   "outputs": [],
   "source": [
    "# run this to shorten the data import from the files\n",
    "path_data = '/home/nero/Documents/Estudos/DataCamp/Python/Model_Validation_in_Python/datasets/'\n",
    "import pandas as pd"
   ]
  },
  {
   "cell_type": "code",
   "execution_count": 22,
   "metadata": {
    "execution": {
     "iopub.execute_input": "2023-06-14T12:10:33.025670Z",
     "iopub.status.busy": "2023-06-14T12:10:33.024273Z",
     "iopub.status.idle": "2023-06-14T12:10:33.040289Z",
     "shell.execute_reply": "2023-06-14T12:10:33.037900Z",
     "shell.execute_reply.started": "2023-06-14T12:10:33.025607Z"
    },
    "tags": []
   },
   "outputs": [],
   "source": [
    "tic_tac_toe = pd.read_csv(path_data + 'tic-tac-toe.csv')"
   ]
  },
  {
   "cell_type": "code",
   "execution_count": 23,
   "metadata": {
    "execution": {
     "iopub.execute_input": "2023-06-14T12:10:33.589295Z",
     "iopub.status.busy": "2023-06-14T12:10:33.588673Z",
     "iopub.status.idle": "2023-06-14T12:10:33.612073Z",
     "shell.execute_reply": "2023-06-14T12:10:33.611103Z",
     "shell.execute_reply.started": "2023-06-14T12:10:33.589255Z"
    },
    "tags": []
   },
   "outputs": [
    {
     "name": "stdout",
     "output_type": "stream",
     "text": [
      "40\n",
      "Class\n",
      "positive    134\n",
      "negative     66\n",
      "Name: count, dtype: int64\n",
      "Class\n",
      "positive    123\n",
      "negative     77\n",
      "Name: count, dtype: int64\n"
     ]
    },
    {
     "data": {
      "text/plain": [
       "'\\nWell done! Notice that there are a varying number of positive observations for both sample test sets. Sometimes creating a single test holdout sample is not enough to achieve the high levels of model validation you want. You need to use something more robust.\\n'"
      ]
     },
     "execution_count": 23,
     "metadata": {},
     "output_type": "execute_result"
    }
   ],
   "source": [
    "# exercise 01\n",
    "\n",
    "\"\"\"\n",
    "Two samples\n",
    "\n",
    "After building several classification models based on thetic_tac_toe dataset, you realize that some models do not generalize as well as others. You have created training and testing splits just as you have been taught, so you are curious why your validation process is not working.\n",
    "\n",
    "After trying a different training, test split, you noticed differing accuracies for your machine learning model. Before getting too frustrated with the varying results, you have decided to see what else could be going on.\n",
    "\"\"\"\n",
    "\n",
    "# Instructions\n",
    "\n",
    "\"\"\"\n",
    "\n",
    "    Create samples sample1 and sample2 with 200 observations that could act as possible testing datasets.\n",
    "---\n",
    "\n",
    "    Use the list comprehension statement to find out how many observations these samples have in common.\n",
    "---\n",
    "\n",
    "    Use the Series.value_counts() method to print the values in both samples for column Class.\n",
    "\n",
    "\"\"\"\n",
    "\n",
    "# solution\n",
    "\n",
    "# Create two different samples of 200 observations \n",
    "sample1 = tic_tac_toe.sample(200, random_state=1111)\n",
    "sample2 = tic_tac_toe.sample(200, random_state=1171)\n",
    "\n",
    "# Print the number of common observations \n",
    "print(len([index for index in sample1.index if index in sample2.index]))\n",
    "\n",
    "# Print the number of observations in the Class column for both samples \n",
    "print(sample1['Class'].value_counts())\n",
    "print(sample2['Class'].value_counts())\n",
    "\n",
    "#----------------------------------#\n",
    "\n",
    "# Conclusion\n",
    "\n",
    "\"\"\"\n",
    "Well done! Notice that there are a varying number of positive observations for both sample test sets. Sometimes creating a single test holdout sample is not enough to achieve the high levels of model validation you want. You need to use something more robust.\n",
    "\"\"\""
   ]
  },
  {
   "cell_type": "code",
   "execution_count": 24,
   "metadata": {
    "execution": {
     "iopub.execute_input": "2023-06-14T12:10:34.614911Z",
     "iopub.status.busy": "2023-06-14T12:10:34.614207Z",
     "iopub.status.idle": "2023-06-14T12:10:34.623767Z",
     "shell.execute_reply": "2023-06-14T12:10:34.621135Z",
     "shell.execute_reply.started": "2023-06-14T12:10:34.614828Z"
    },
    "tags": []
   },
   "outputs": [],
   "source": [
    "import numpy as np"
   ]
  },
  {
   "cell_type": "code",
   "execution_count": 25,
   "metadata": {
    "execution": {
     "iopub.execute_input": "2023-06-14T12:10:35.405905Z",
     "iopub.status.busy": "2023-06-14T12:10:35.404945Z",
     "iopub.status.idle": "2023-06-14T12:10:35.414859Z",
     "shell.execute_reply": "2023-06-14T12:10:35.412861Z",
     "shell.execute_reply.started": "2023-06-14T12:10:35.405840Z"
    },
    "tags": []
   },
   "outputs": [],
   "source": [
    "X = np.array(range(85))\n",
    "y = np.array([0] * 20 + [1] * 20)"
   ]
  },
  {
   "cell_type": "code",
   "execution_count": 26,
   "metadata": {
    "execution": {
     "iopub.execute_input": "2023-06-14T12:10:36.310867Z",
     "iopub.status.busy": "2023-06-14T12:10:36.309273Z",
     "iopub.status.idle": "2023-06-14T12:10:36.329573Z",
     "shell.execute_reply": "2023-06-14T12:10:36.327056Z",
     "shell.execute_reply.started": "2023-06-14T12:10:36.310818Z"
    },
    "tags": []
   },
   "outputs": [
    {
     "name": "stdout",
     "output_type": "stream",
     "text": [
      "Number of training indices: 68\n",
      "Number of validation indices: 17\n",
      "Number of training indices: 68\n",
      "Number of validation indices: 17\n",
      "Number of training indices: 68\n",
      "Number of validation indices: 17\n",
      "Number of training indices: 68\n",
      "Number of validation indices: 17\n",
      "Number of training indices: 68\n",
      "Number of validation indices: 17\n"
     ]
    },
    {
     "data": {
      "text/plain": [
       "'\\nGood job! This dataset has 85 rows. You have created five splits - each containing 68 training and 17 validation indices. You can use these indices to complete 5-fold cross-validation.\\n'"
      ]
     },
     "execution_count": 26,
     "metadata": {},
     "output_type": "execute_result"
    }
   ],
   "source": [
    "# exercise 02\n",
    "\n",
    "\"\"\"\n",
    "scikit-learn's KFold()\n",
    "\n",
    "You just finished running a colleagues code that creates a random forest model and calculates an out-of-sample accuracy. You noticed that your colleague's code did not have a random state, and the errors you found were completely different than the errors your colleague reported.\n",
    "\n",
    "To get a better estimate for how accurate this random forest model will be on new data, you have decided to generate some indices to use for KFold cross-validation.\n",
    "\"\"\"\n",
    "\n",
    "# Instructions\n",
    "\n",
    "\"\"\"\n",
    "\n",
    "    Call the KFold() method to split data using five splits, shuffling, and a random state of 1111.\n",
    "    Use the split() method of KFold on X.\n",
    "    Print the number of indices in both the train and validation indices lists.\n",
    "\n",
    "\"\"\"\n",
    "\n",
    "# solution\n",
    "\n",
    "from sklearn.model_selection import KFold\n",
    "\n",
    "# Use KFold\n",
    "kf = KFold(n_splits = 5, shuffle = True, random_state = 1111)\n",
    "\n",
    "# Create splits\n",
    "splits = kf.split(X)\n",
    "\n",
    "# Print the number of indices\n",
    "for train_index, val_index in splits:\n",
    "    print(\"Number of training indices: %s\" % len(train_index))\n",
    "    print(\"Number of validation indices: %s\" % len(val_index))\n",
    "\n",
    "#----------------------------------#\n",
    "\n",
    "# Conclusion\n",
    "\n",
    "\"\"\"\n",
    "Good job! This dataset has 85 rows. You have created five splits - each containing 68 training and 17 validation indices. You can use these indices to complete 5-fold cross-validation.\n",
    "\"\"\""
   ]
  },
  {
   "cell_type": "code",
   "execution_count": 27,
   "metadata": {
    "execution": {
     "iopub.execute_input": "2023-06-14T12:10:37.407214Z",
     "iopub.status.busy": "2023-06-14T12:10:37.406692Z",
     "iopub.status.idle": "2023-06-14T12:10:37.413397Z",
     "shell.execute_reply": "2023-06-14T12:10:37.412024Z",
     "shell.execute_reply.started": "2023-06-14T12:10:37.407171Z"
    },
    "tags": []
   },
   "outputs": [],
   "source": [
    "from sklearn.model_selection import train_test_split"
   ]
  },
  {
   "cell_type": "code",
   "execution_count": 45,
   "metadata": {
    "execution": {
     "iopub.execute_input": "2023-06-14T12:28:41.423441Z",
     "iopub.status.busy": "2023-06-14T12:28:41.423156Z",
     "iopub.status.idle": "2023-06-14T12:28:41.670954Z",
     "shell.execute_reply": "2023-06-14T12:28:41.670035Z",
     "shell.execute_reply.started": "2023-06-14T12:28:41.423417Z"
    },
    "tags": []
   },
   "outputs": [
    {
     "data": {
      "text/html": [
       "<div>\n",
       "<style scoped>\n",
       "    .dataframe tbody tr th:only-of-type {\n",
       "        vertical-align: middle;\n",
       "    }\n",
       "\n",
       "    .dataframe tbody tr th {\n",
       "        vertical-align: top;\n",
       "    }\n",
       "\n",
       "    .dataframe thead th {\n",
       "        text-align: right;\n",
       "    }\n",
       "</style>\n",
       "<table border=\"1\" class=\"dataframe\">\n",
       "  <thead>\n",
       "    <tr style=\"text-align: right;\">\n",
       "      <th></th>\n",
       "      <th>competitorname</th>\n",
       "      <th>chocolate</th>\n",
       "      <th>fruity</th>\n",
       "      <th>caramel</th>\n",
       "      <th>peanutyalmondy</th>\n",
       "      <th>nougat</th>\n",
       "      <th>crispedricewafer</th>\n",
       "      <th>hard</th>\n",
       "      <th>bar</th>\n",
       "      <th>pluribus</th>\n",
       "      <th>sugarpercent</th>\n",
       "      <th>pricepercent</th>\n",
       "      <th>winpercent</th>\n",
       "    </tr>\n",
       "  </thead>\n",
       "  <tbody>\n",
       "    <tr>\n",
       "      <th>0</th>\n",
       "      <td>100 Grand</td>\n",
       "      <td>1</td>\n",
       "      <td>0</td>\n",
       "      <td>1</td>\n",
       "      <td>0</td>\n",
       "      <td>0</td>\n",
       "      <td>1</td>\n",
       "      <td>0</td>\n",
       "      <td>1</td>\n",
       "      <td>0</td>\n",
       "      <td>0.732</td>\n",
       "      <td>0.860</td>\n",
       "      <td>66.971725</td>\n",
       "    </tr>\n",
       "    <tr>\n",
       "      <th>1</th>\n",
       "      <td>3 Musketeers</td>\n",
       "      <td>1</td>\n",
       "      <td>0</td>\n",
       "      <td>0</td>\n",
       "      <td>0</td>\n",
       "      <td>1</td>\n",
       "      <td>0</td>\n",
       "      <td>0</td>\n",
       "      <td>1</td>\n",
       "      <td>0</td>\n",
       "      <td>0.604</td>\n",
       "      <td>0.511</td>\n",
       "      <td>67.602936</td>\n",
       "    </tr>\n",
       "    <tr>\n",
       "      <th>2</th>\n",
       "      <td>One dime</td>\n",
       "      <td>0</td>\n",
       "      <td>0</td>\n",
       "      <td>0</td>\n",
       "      <td>0</td>\n",
       "      <td>0</td>\n",
       "      <td>0</td>\n",
       "      <td>0</td>\n",
       "      <td>0</td>\n",
       "      <td>0</td>\n",
       "      <td>0.011</td>\n",
       "      <td>0.116</td>\n",
       "      <td>32.261086</td>\n",
       "    </tr>\n",
       "    <tr>\n",
       "      <th>3</th>\n",
       "      <td>One quarter</td>\n",
       "      <td>0</td>\n",
       "      <td>0</td>\n",
       "      <td>0</td>\n",
       "      <td>0</td>\n",
       "      <td>0</td>\n",
       "      <td>0</td>\n",
       "      <td>0</td>\n",
       "      <td>0</td>\n",
       "      <td>0</td>\n",
       "      <td>0.011</td>\n",
       "      <td>0.511</td>\n",
       "      <td>46.116505</td>\n",
       "    </tr>\n",
       "    <tr>\n",
       "      <th>4</th>\n",
       "      <td>Air Heads</td>\n",
       "      <td>0</td>\n",
       "      <td>1</td>\n",
       "      <td>0</td>\n",
       "      <td>0</td>\n",
       "      <td>0</td>\n",
       "      <td>0</td>\n",
       "      <td>0</td>\n",
       "      <td>0</td>\n",
       "      <td>0</td>\n",
       "      <td>0.906</td>\n",
       "      <td>0.511</td>\n",
       "      <td>52.341465</td>\n",
       "    </tr>\n",
       "  </tbody>\n",
       "</table>\n",
       "</div>"
      ],
      "text/plain": [
       "  competitorname  chocolate  fruity  caramel  peanutyalmondy  nougat   \n",
       "0      100 Grand          1       0        1               0       0  \\\n",
       "1   3 Musketeers          1       0        0               0       1   \n",
       "2       One dime          0       0        0               0       0   \n",
       "3    One quarter          0       0        0               0       0   \n",
       "4      Air Heads          0       1        0               0       0   \n",
       "\n",
       "   crispedricewafer  hard  bar  pluribus  sugarpercent  pricepercent   \n",
       "0                 1     0    1         0         0.732         0.860  \\\n",
       "1                 0     0    1         0         0.604         0.511   \n",
       "2                 0     0    0         0         0.011         0.116   \n",
       "3                 0     0    0         0         0.011         0.511   \n",
       "4                 0     0    0         0         0.906         0.511   \n",
       "\n",
       "   winpercent  \n",
       "0   66.971725  \n",
       "1   67.602936  \n",
       "2   32.261086  \n",
       "3   46.116505  \n",
       "4   52.341465  "
      ]
     },
     "execution_count": 45,
     "metadata": {},
     "output_type": "execute_result"
    }
   ],
   "source": [
    "candy_df = pd.read_csv(path_data + 'candy-data.csv')\n",
    "candy_df.head()"
   ]
  },
  {
   "cell_type": "code",
   "execution_count": 49,
   "metadata": {
    "execution": {
     "iopub.execute_input": "2023-06-14T12:29:57.227277Z",
     "iopub.status.busy": "2023-06-14T12:29:57.227024Z",
     "iopub.status.idle": "2023-06-14T12:29:57.231520Z",
     "shell.execute_reply": "2023-06-14T12:29:57.230936Z",
     "shell.execute_reply.started": "2023-06-14T12:29:57.227255Z"
    },
    "tags": []
   },
   "outputs": [],
   "source": [
    "X = candy_df.drop(['competitorname','winpercent'], axis = 1).values\n",
    "y = candy_df['winpercent'].values\n",
    "\n",
    "splits = kf.split(X)"
   ]
  },
  {
   "cell_type": "code",
   "execution_count": 50,
   "metadata": {
    "execution": {
     "iopub.execute_input": "2023-06-14T12:29:59.324723Z",
     "iopub.status.busy": "2023-06-14T12:29:59.324493Z",
     "iopub.status.idle": "2023-06-14T12:29:59.627414Z",
     "shell.execute_reply": "2023-06-14T12:29:59.624397Z",
     "shell.execute_reply.started": "2023-06-14T12:29:59.324703Z"
    },
    "tags": []
   },
   "outputs": [
    {
     "name": "stdout",
     "output_type": "stream",
     "text": [
      "Split accuracy: 150.99298148707666\n",
      "Split accuracy: 171.22206240542593\n",
      "Split accuracy: 131.72569156195593\n",
      "Split accuracy: 80.61940183841385\n",
      "Split accuracy: 221.63020627476214\n"
     ]
    },
    {
     "data": {
      "text/plain": [
       "'\\nNice work! KFold() is a great method for accessing individual indices when completing cross-validation. One drawback is needing a for loop to work through the indices though. In the next lesson, you will look at an automated method for cross-validation using sklearn.\\n'"
      ]
     },
     "execution_count": 50,
     "metadata": {},
     "output_type": "execute_result"
    }
   ],
   "source": [
    "# exercise 03\n",
    "\n",
    "\"\"\"\n",
    "Using KFold indices\n",
    "\n",
    "You have already created splits, which contains indices for the candy-data dataset to complete 5-fold cross-validation. To get a better estimate for how well a colleague's random forest model will perform on a new data, you want to run this model on the five different training and validation indices you just created.\n",
    "\n",
    "In this exercise, you will use these indices to check the accuracy of this model using the five different splits. A for loop has been provided to assist with this process.\n",
    "\"\"\"\n",
    "\n",
    "# Instructions\n",
    "\n",
    "\"\"\"\n",
    "\n",
    "    Use train_index and val_index to call the correct indices of X and y when creating training and validation data.\n",
    "    Fit rfc using the training dataset\n",
    "    Use rfc to create predictions for validation dataset and print the validation accuracy\n",
    "\n",
    "\"\"\"\n",
    "\n",
    "# solution\n",
    "\n",
    "from sklearn.ensemble import RandomForestRegressor\n",
    "from sklearn.metrics import mean_squared_error\n",
    "\n",
    "rfc = RandomForestRegressor(n_estimators=25, random_state=1111)\n",
    "\n",
    "# Access the training and validation indices of splits\n",
    "for train_index, val_index in splits:\n",
    "    # Setup the training and validation data\n",
    "    X_train, y_train = X[train_index], y[train_index]\n",
    "    X_val, y_val = X[val_index], y[val_index]\n",
    "    # Fit the random forest model\n",
    "    rfc.fit(X_train, y_train)\n",
    "    # Make predictions, and print the accuracy\n",
    "    predictions = rfc.predict(X_val)\n",
    "    print(\"Split accuracy: \" + str(mean_squared_error(y_val, predictions)))\n",
    "\n",
    "#----------------------------------#\n",
    "\n",
    "# Conclusion\n",
    "\n",
    "\"\"\"\n",
    "Nice work! KFold() is a great method for accessing individual indices when completing cross-validation. One drawback is needing a for loop to work through the indices though. In the next lesson, you will look at an automated method for cross-validation using sklearn.\n",
    "\"\"\""
   ]
  },
  {
   "cell_type": "code",
   "execution_count": 51,
   "metadata": {
    "execution": {
     "iopub.execute_input": "2023-06-14T12:30:02.598519Z",
     "iopub.status.busy": "2023-06-14T12:30:02.597565Z",
     "iopub.status.idle": "2023-06-14T12:30:02.609298Z",
     "shell.execute_reply": "2023-06-14T12:30:02.608559Z",
     "shell.execute_reply.started": "2023-06-14T12:30:02.598444Z"
    },
    "tags": []
   },
   "outputs": [
    {
     "data": {
      "text/plain": [
       "'\\nWell done! It is easy to see how all of the methods can get mixed up, but it is important to know the names of the methods you need. You can always review the scikit-learn documentation should you need any help\\n'"
      ]
     },
     "execution_count": 51,
     "metadata": {},
     "output_type": "execute_result"
    }
   ],
   "source": [
    "# exercise 04\n",
    "\n",
    "\"\"\"\n",
    "scikit-learn's methods\n",
    "\n",
    "You have decided to build a regression model to predict the number of new employees your company will successfully hire next month. You open up a new Python script to get started, but you quickly realize that sklearn has a lot of different modules. Let's make sure you understand the names of the modules, the methods, and which module contains which method.\n",
    "\n",
    "Follow the instructions below to load in all of the necessary methods for completing cross-validation using sklearn. You will use modules:\n",
    "\n",
    "    metrics\n",
    "    model_selection\n",
    "    ensemble\n",
    "\n",
    "\"\"\"\n",
    "\n",
    "# Instructions\n",
    "\n",
    "\"\"\"\n",
    "\n",
    "    Load the method for calculating the scores of cross-validation.\n",
    "    Load the random forest regression method.\n",
    "    Load the mean square error metric.\n",
    "    Load the method for creating a scorer to use with cross-validation.\n",
    "\n",
    "\"\"\"\n",
    "\n",
    "# solution\n",
    "\n",
    "# Instruction 1: Load the cross-validation method\n",
    "from sklearn.model_selection import cross_val_score\n",
    "\n",
    "# Instruction 2: Load the random forest regression model\n",
    "from sklearn.ensemble import RandomForestRegressor\n",
    "\n",
    "# Instruction 3: Load the mean squared error method\n",
    "# Instruction 4: Load the function for creating a scorer\n",
    "from sklearn.metrics import mean_squared_error, make_scorer\n",
    "\n",
    "#----------------------------------#\n",
    "\n",
    "# Conclusion\n",
    "\n",
    "\"\"\"\n",
    "Well done! It is easy to see how all of the methods can get mixed up, but it is important to know the names of the methods you need. You can always review the scikit-learn documentation should you need any help\n",
    "\"\"\""
   ]
  },
  {
   "cell_type": "code",
   "execution_count": 52,
   "metadata": {
    "execution": {
     "iopub.execute_input": "2023-06-14T12:30:05.855198Z",
     "iopub.status.busy": "2023-06-14T12:30:05.854735Z",
     "iopub.status.idle": "2023-06-14T12:30:06.212056Z",
     "shell.execute_reply": "2023-06-14T12:30:06.211353Z",
     "shell.execute_reply.started": "2023-06-14T12:30:05.855171Z"
    },
    "tags": []
   },
   "outputs": [
    {
     "name": "stdout",
     "output_type": "stream",
     "text": [
      "131.30323056938693\n"
     ]
    },
    {
     "data": {
      "text/plain": [
       "'\\nNice! You now have a baseline score to build on. If you decide to build additional models or try new techniques, you should try to get an error lower than 155.56. Lower errors indicate that your popularity predictions are improving.\\n'"
      ]
     },
     "execution_count": 52,
     "metadata": {},
     "output_type": "execute_result"
    }
   ],
   "source": [
    "# exercise 05\n",
    "\n",
    "\"\"\"\n",
    "Implement cross_val_score()\n",
    "\n",
    "Your company has created several new candies to sell, but they are not sure if they should release all five of them. To predict the popularity of these new candies, you have been asked to build a regression model using the candy dataset. Remember that the response value is a head-to-head win-percentage against other candies.\n",
    "\n",
    "Before you begin trying different regression models, you have decided to run cross-validation on a simple random forest model to get a baseline error to compare with any future results.\n",
    "\"\"\"\n",
    "\n",
    "# Instructions\n",
    "\n",
    "\"\"\"\n",
    "\n",
    "    Fill in cross_val_score().\n",
    "        Use X_train for the training data, and y_train for the response.\n",
    "        Use rfc as the model, 10-fold cross-validation, and mse for the scoring function.\n",
    "    Print the mean of the cv results.\n",
    "\n",
    "\"\"\"\n",
    "\n",
    "# solution\n",
    "\n",
    "rfc = RandomForestRegressor(n_estimators=25, random_state=1111)\n",
    "mse = make_scorer(mean_squared_error)\n",
    "\n",
    "# Set up cross_val_score\n",
    "cv = cross_val_score(estimator=rfc,\n",
    "                     X=X_train,\n",
    "                     y=y_train,\n",
    "                     cv=10,\n",
    "                     scoring=mse)\n",
    "\n",
    "# Print the mean error\n",
    "print(cv.mean())\n",
    "\n",
    "#----------------------------------#\n",
    "\n",
    "# Conclusion\n",
    "\n",
    "\"\"\"\n",
    "Nice! You now have a baseline score to build on. If you decide to build additional models or try new techniques, you should try to get an error lower than 155.56. Lower errors indicate that your popularity predictions are improving.\n",
    "\"\"\""
   ]
  },
  {
   "cell_type": "code",
   "execution_count": 53,
   "metadata": {
    "execution": {
     "iopub.execute_input": "2023-06-14T12:36:48.112885Z",
     "iopub.status.busy": "2023-06-14T12:36:48.111749Z",
     "iopub.status.idle": "2023-06-14T12:36:49.803673Z",
     "shell.execute_reply": "2023-06-14T12:36:49.803035Z",
     "shell.execute_reply.started": "2023-06-14T12:36:48.112834Z"
    },
    "tags": []
   },
   "outputs": [
    {
     "name": "stdout",
     "output_type": "stream",
     "text": [
      "The mean of the errors is: 9.52044832324183.\n",
      "The standard deviation of the errors is: 7.349020637882744.\n"
     ]
    },
    {
     "data": {
      "text/plain": [
       "'\\nVery good! You have come along way with model validation techniques. The final chapter will wrap up model validation by discussing how to select the best model and give an introduction to parameter tuning.\\n'"
      ]
     },
     "execution_count": 53,
     "metadata": {},
     "output_type": "execute_result"
    }
   ],
   "source": [
    "# exercise 06\n",
    "\n",
    "\"\"\"\n",
    "Leave-one-out-cross-validation\n",
    "\n",
    "Let's assume your favorite candy is not in the candy dataset, and that you are interested in the popularity of this candy. Using 5-fold cross-validation will train on only 80% of the data at a time. The candy dataset only has 85 rows though, and leaving out 20% of the data could hinder our model. However, using leave-one-out-cross-validation allows us to make the most out of our limited dataset and will give you the best estimate for your favorite candy's popularity!\n",
    "\n",
    "In this exercise, you will use cross_val_score() to perform LOOCV.\n",
    "\"\"\"\n",
    "\n",
    "# Instructions\n",
    "\n",
    "\"\"\"\n",
    "\n",
    "    Create a scorer using mean_absolute_error for cross_val_score() to use.\n",
    "    Fill out cross_val_score() so that the model rfr, the newly defined mae_scorer, and LOOCV are used.\n",
    "    Print the mean and the standard deviation of scores using numpy (loaded as np).\n",
    "\n",
    "\"\"\"\n",
    "\n",
    "# solution\n",
    "\n",
    "from sklearn.metrics import mean_absolute_error, make_scorer\n",
    "\n",
    "# Create scorer\n",
    "mae_scorer = make_scorer(mean_absolute_error)\n",
    "\n",
    "rfr = RandomForestRegressor(n_estimators=15, random_state=1111)\n",
    "\n",
    "# Implement LOOCV\n",
    "scores = cross_val_score(rfr, X=X, y=y, cv=X.shape[0], scoring=mae_scorer)\n",
    "\n",
    "# Print the mean and standard deviation\n",
    "print(\"The mean of the errors is: %s.\" % np.mean(scores))\n",
    "print(\"The standard deviation of the errors is: %s.\" % np.std(scores))\n",
    "\n",
    "#----------------------------------#\n",
    "\n",
    "# Conclusion\n",
    "\n",
    "\"\"\"\n",
    "Very good! You have come along way with model validation techniques. The final chapter will wrap up model validation by discussing how to select the best model and give an introduction to parameter tuning.\n",
    "\"\"\""
   ]
  }
 ],
 "metadata": {
  "kernelspec": {
   "display_name": "Python 3 (ipykernel)",
   "language": "python",
   "name": "python3"
  },
  "language_info": {
   "codemirror_mode": {
    "name": "ipython",
    "version": 3
   },
   "file_extension": ".py",
   "mimetype": "text/x-python",
   "name": "python",
   "nbconvert_exporter": "python",
   "pygments_lexer": "ipython3",
   "version": "3.11.3"
  }
 },
 "nbformat": 4,
 "nbformat_minor": 4
}
