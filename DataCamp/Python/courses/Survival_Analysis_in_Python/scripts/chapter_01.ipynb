{
 "cells": [
  {
   "cell_type": "code",
   "execution_count": 3,
   "metadata": {
    "tags": []
   },
   "outputs": [],
   "source": [
    "# run this to shorten the data import from the files\n",
    "path_data = '/home/nero/Documents/Estudos/DataCamp/Python/courses/Survival_Analysis_in_Python/datasets/'\n",
    "import pandas as pd\n",
    "import numpy as np"
   ]
  },
  {
   "cell_type": "code",
   "execution_count": 2,
   "metadata": {},
   "outputs": [
    {
     "data": {
      "text/plain": [
       "\"\\nThat's right! Both DataFrames can be used for survival analysis because they contain information about survival duration and survival outcome.\\n\""
      ]
     },
     "execution_count": 2,
     "metadata": {},
     "output_type": "execute_result"
    }
   ],
   "source": [
    "# exercise 01\n",
    "\n",
    "\"\"\"\n",
    "Choose the right data for survival analysis\n",
    "\n",
    "Let's say you're working on estimating the rate at which a new strain of virus spreads in a population. It's always good practice to explore the data you have available before deciding whether to use a statistical model. Look out for any model assumptions and requirements for the data.\n",
    "\n",
    "Three datasets have been loaded for you, called\n",
    "\n",
    "    virus_record_a\n",
    "    virus_record_b\n",
    "    virus_record_c\n",
    "\n",
    "Inspect each DataFrame in the console. Which of the DataFrames would be suitable for survival analysis?\n",
    "\n",
    "pandas and numpy are loaded as pd and np, respectively.\n",
    "\"\"\"\n",
    "\n",
    "# Instructions\n",
    "\n",
    "\"\"\"\n",
    "Virus record C and A\n",
    "\"\"\"\n",
    "\n",
    "# solution\n",
    "\n",
    "\"\"\"\n",
    "virus_record_a:\n",
    "\n",
    "    name age exposed_date diagnosed_date virus_positive\n",
    "    Sam  35   2003-06-12     2003-06-22              1\n",
    "  Holly  60   2003-02-26     2003-03-01              1\n",
    "   Yana  26   2003-04-02     2003-04-12              1\n",
    "    Ben  43   2003-06-01     2003-06-05              0\n",
    "  Freda  51   2003-04-18     2003-04-29              0\n",
    "\n",
    "virus_record_b:\n",
    "\n",
    "\n",
    "  city virus_positive_count population_count\n",
    "    A                 3422           171100\n",
    "    B                  490            24500\n",
    "    C                 3842           128000\n",
    "    D                  987            96500\n",
    "    E                 7833           156660\n",
    "\n",
    "virus_record_c:\n",
    "\n",
    "    name age days_since_expose virus_positive\n",
    "    Sam  35                11              1\n",
    "  Holly  60                 4              1\n",
    "   Yana  26                11              1\n",
    "    Ben  43                 5              0\n",
    "  Freda  51                12              0\n",
    "\"\"\"\n",
    "\n",
    "#----------------------------------#\n",
    "\n",
    "# Conclusion\n",
    "\n",
    "\"\"\"\n",
    "That's right! Both DataFrames can be used for survival analysis because they contain information about survival duration and survival outcome.\n",
    "\"\"\""
   ]
  },
  {
   "cell_type": "code",
   "execution_count": 1,
   "metadata": {
    "tags": []
   },
   "outputs": [
    {
     "data": {
      "text/plain": [
       "'\\n\\n'"
      ]
     },
     "execution_count": 1,
     "metadata": {},
     "output_type": "execute_result"
    }
   ],
   "source": [
    "# exercise 02\n",
    "\n",
    "\"\"\"\n",
    "Identify the censorship type\n",
    "\n",
    "You are a teacher who's interested in measuring how long it takes for students to completely finish an exam. Unfortunately, a student cheated and started early. You don't know how much earlier he started, but you observed that he finished the exam before class ended.\n",
    "\n",
    "The scenario is captured in this diagram:\n",
    "\n",
    "censorship type diagram for exercise\n",
    "\n",
    "What type of censorship is this?\n",
    "\"\"\"\n",
    "\n",
    "# Instructions\n",
    "\n",
    "\"\"\"\n",
    "Possible Answers\n",
    "\n",
    "    There is no censorship issue. You observed that the student finished the exam.\n",
    "    \n",
    "    \n",
    "    (This is right-censored. The actual duration is longer than what you observed.)(Answer)\n",
    "    \n",
    "    \n",
    "    This is left-censored. The start time of the exam is unknown.\n",
    "    \n",
    "    \n",
    "    This is interval-censored. Only an interval of the event was observed.\n",
    "\"\"\"\n",
    "\n",
    "# solution\n",
    "\n",
    "\n",
    "\n",
    "#----------------------------------#\n",
    "\n",
    "# Conclusion\n",
    "\n",
    "\"\"\"\n",
    "This is correct! A common misconception about censorship is that if the left-side of the duration is unknown, the data is left-censored. This is not always true.\n",
    "\"\"\""
   ]
  },
  {
   "cell_type": "code",
   "execution_count": 8,
   "metadata": {},
   "outputs": [
    {
     "data": {
      "text/html": [
       "<div>\n",
       "<style scoped>\n",
       "    .dataframe tbody tr th:only-of-type {\n",
       "        vertical-align: middle;\n",
       "    }\n",
       "\n",
       "    .dataframe tbody tr th {\n",
       "        vertical-align: top;\n",
       "    }\n",
       "\n",
       "    .dataframe thead th {\n",
       "        text-align: right;\n",
       "    }\n",
       "</style>\n",
       "<table border=\"1\" class=\"dataframe\">\n",
       "  <thead>\n",
       "    <tr style=\"text-align: right;\">\n",
       "      <th></th>\n",
       "      <th>birth_date</th>\n",
       "      <th>death_date</th>\n",
       "    </tr>\n",
       "  </thead>\n",
       "  <tbody>\n",
       "    <tr>\n",
       "      <th>0</th>\n",
       "      <td>1977-12-26</td>\n",
       "      <td>1991-04-25</td>\n",
       "    </tr>\n",
       "    <tr>\n",
       "      <th>1</th>\n",
       "      <td>1976-03-05</td>\n",
       "      <td>1989-12-19</td>\n",
       "    </tr>\n",
       "    <tr>\n",
       "      <th>2</th>\n",
       "      <td>1981-03-04</td>\n",
       "      <td>2003-10-03</td>\n",
       "    </tr>\n",
       "    <tr>\n",
       "      <th>3</th>\n",
       "      <td>1997-02-26</td>\n",
       "      <td>2019-06-30</td>\n",
       "    </tr>\n",
       "    <tr>\n",
       "      <th>4</th>\n",
       "      <td>1978-05-06</td>\n",
       "      <td>1992-02-06</td>\n",
       "    </tr>\n",
       "  </tbody>\n",
       "</table>\n",
       "</div>"
      ],
      "text/plain": [
       "   birth_date  death_date\n",
       "0  1977-12-26  1991-04-25\n",
       "1  1976-03-05  1989-12-19\n",
       "2  1981-03-04  2003-10-03\n",
       "3  1997-02-26  2019-06-30\n",
       "4  1978-05-06  1992-02-06"
      ]
     },
     "execution_count": 8,
     "metadata": {},
     "output_type": "execute_result"
    }
   ],
   "source": [
    "dolphin_df = pd.read_csv(path_data+'dolphin_df.csv')\n",
    "dolphin_df.head()\n"
   ]
  },
  {
   "cell_type": "code",
   "execution_count": 9,
   "metadata": {
    "tags": []
   },
   "outputs": [
    {
     "name": "stdout",
     "output_type": "stream",
     "text": [
      "0.8566666666666667\n"
     ]
    },
    {
     "data": {
      "text/plain": [
       "'\\nGreat job! You often have to preprocess time-to-event data to create the censorship column based on context. The average you just printed is the proportion of censored data in the DataFrame.\\n'"
      ]
     },
     "execution_count": 9,
     "metadata": {},
     "output_type": "execute_result"
    }
   ],
   "source": [
    "# exercise 03\n",
    "\n",
    "\"\"\"\n",
    "Preprocess censored data\n",
    "\n",
    "You are a marine-biologist studying the lifespan of spinner dolphins. You have access to historical data detailing their birth and death dates. Some tagged dolphins migrated to a different part of the water and the lab lost track of them. Some dolphins are migrants from a different pod, and their exact birth dates are unknown. Some dolphins are still alive!\n",
    "\n",
    "    If the birth date is NaN, the dolphin is a migrant.\n",
    "    If the death date is NaN, the dolphin either ran away or is alive.\n",
    "\n",
    "The DataFrame is called dolphin_df. To create a new column called observed to flag if a dolphin's lifetime is censored, fill out the function check_observed with appropriate values and use .apply() to apply the function to dolphin_df.\n",
    "\n",
    "pandas and numpy are loaded as pd and np, respectively.\n",
    "\"\"\"\n",
    "\n",
    "# Instructions\n",
    "\n",
    "\"\"\"\n",
    "\n",
    "    Create a function check_observed to return 0 if the data point is censored, and 1 otherwise.\n",
    "    Create a censorship flag column called observed using the function check_observed.\n",
    "    Print the average value of the observed column in the console.\n",
    "\n",
    "\"\"\"\n",
    "\n",
    "# solution\n",
    "\n",
    "# Create a function to return 1 if observed 0 otherwise\n",
    "def check_observed(row):\n",
    "    if pd.isna(row['birth_date']):\n",
    "        flag = 0\n",
    "    elif pd.isna(row['death_date']):\n",
    "        flag = 0\n",
    "    else:\n",
    "        flag = 1\n",
    "    return flag\n",
    "  \n",
    "# Create a censorship flag column\n",
    "dolphin_df['observed'] = dolphin_df.apply(check_observed, axis=1)\n",
    "\n",
    "# Print average of observed\n",
    "print(np.average(dolphin_df['observed']))\n",
    "\n",
    "#----------------------------------#\n",
    "\n",
    "# Conclusion\n",
    "\n",
    "\"\"\"\n",
    "Great job! You often have to preprocess time-to-event data to create the censorship column based on context. The average you just printed is the proportion of censored data in the DataFrame.\n",
    "\"\"\""
   ]
  },
  {
   "cell_type": "code",
   "execution_count": 10,
   "metadata": {},
   "outputs": [
    {
     "data": {
      "text/html": [
       "<div>\n",
       "<style scoped>\n",
       "    .dataframe tbody tr th:only-of-type {\n",
       "        vertical-align: middle;\n",
       "    }\n",
       "\n",
       "    .dataframe tbody tr th {\n",
       "        vertical-align: top;\n",
       "    }\n",
       "\n",
       "    .dataframe thead th {\n",
       "        text-align: right;\n",
       "    }\n",
       "</style>\n",
       "<table border=\"1\" class=\"dataframe\">\n",
       "  <thead>\n",
       "    <tr style=\"text-align: right;\">\n",
       "      <th></th>\n",
       "      <th>ctryname</th>\n",
       "      <th>cowcode2</th>\n",
       "      <th>politycode</th>\n",
       "      <th>un_region_name</th>\n",
       "      <th>un_continent_name</th>\n",
       "      <th>ehead</th>\n",
       "      <th>leaderspellreg</th>\n",
       "      <th>democracy</th>\n",
       "      <th>regime</th>\n",
       "      <th>start_year</th>\n",
       "      <th>duration</th>\n",
       "      <th>observed</th>\n",
       "    </tr>\n",
       "  </thead>\n",
       "  <tbody>\n",
       "    <tr>\n",
       "      <th>0</th>\n",
       "      <td>Afghanistan</td>\n",
       "      <td>700</td>\n",
       "      <td>700.0</td>\n",
       "      <td>Southern Asia</td>\n",
       "      <td>Asia</td>\n",
       "      <td>Mohammad Zahir Shah</td>\n",
       "      <td>Mohammad Zahir Shah.Afghanistan.1946.1952.Mona...</td>\n",
       "      <td>Non-democracy</td>\n",
       "      <td>Monarchy</td>\n",
       "      <td>1946</td>\n",
       "      <td>7</td>\n",
       "      <td>1</td>\n",
       "    </tr>\n",
       "    <tr>\n",
       "      <th>1</th>\n",
       "      <td>Afghanistan</td>\n",
       "      <td>700</td>\n",
       "      <td>700.0</td>\n",
       "      <td>Southern Asia</td>\n",
       "      <td>Asia</td>\n",
       "      <td>Sardar Mohammad Daoud</td>\n",
       "      <td>Sardar Mohammad Daoud.Afghanistan.1953.1962.Ci...</td>\n",
       "      <td>Non-democracy</td>\n",
       "      <td>Civilian Dict</td>\n",
       "      <td>1953</td>\n",
       "      <td>10</td>\n",
       "      <td>1</td>\n",
       "    </tr>\n",
       "    <tr>\n",
       "      <th>2</th>\n",
       "      <td>Afghanistan</td>\n",
       "      <td>700</td>\n",
       "      <td>700.0</td>\n",
       "      <td>Southern Asia</td>\n",
       "      <td>Asia</td>\n",
       "      <td>Mohammad Zahir Shah</td>\n",
       "      <td>Mohammad Zahir Shah.Afghanistan.1963.1972.Mona...</td>\n",
       "      <td>Non-democracy</td>\n",
       "      <td>Monarchy</td>\n",
       "      <td>1963</td>\n",
       "      <td>10</td>\n",
       "      <td>1</td>\n",
       "    </tr>\n",
       "    <tr>\n",
       "      <th>3</th>\n",
       "      <td>Afghanistan</td>\n",
       "      <td>700</td>\n",
       "      <td>700.0</td>\n",
       "      <td>Southern Asia</td>\n",
       "      <td>Asia</td>\n",
       "      <td>Sardar Mohammad Daoud</td>\n",
       "      <td>Sardar Mohammad Daoud.Afghanistan.1973.1977.Ci...</td>\n",
       "      <td>Non-democracy</td>\n",
       "      <td>Civilian Dict</td>\n",
       "      <td>1973</td>\n",
       "      <td>5</td>\n",
       "      <td>0</td>\n",
       "    </tr>\n",
       "    <tr>\n",
       "      <th>4</th>\n",
       "      <td>Afghanistan</td>\n",
       "      <td>700</td>\n",
       "      <td>700.0</td>\n",
       "      <td>Southern Asia</td>\n",
       "      <td>Asia</td>\n",
       "      <td>Nur Mohammad Taraki</td>\n",
       "      <td>Nur Mohammad Taraki.Afghanistan.1978.1978.Civi...</td>\n",
       "      <td>Non-democracy</td>\n",
       "      <td>Civilian Dict</td>\n",
       "      <td>1978</td>\n",
       "      <td>1</td>\n",
       "      <td>0</td>\n",
       "    </tr>\n",
       "  </tbody>\n",
       "</table>\n",
       "</div>"
      ],
      "text/plain": [
       "      ctryname  cowcode2  politycode un_region_name un_continent_name  \\\n",
       "0  Afghanistan       700       700.0  Southern Asia              Asia   \n",
       "1  Afghanistan       700       700.0  Southern Asia              Asia   \n",
       "2  Afghanistan       700       700.0  Southern Asia              Asia   \n",
       "3  Afghanistan       700       700.0  Southern Asia              Asia   \n",
       "4  Afghanistan       700       700.0  Southern Asia              Asia   \n",
       "\n",
       "                   ehead                                     leaderspellreg  \\\n",
       "0    Mohammad Zahir Shah  Mohammad Zahir Shah.Afghanistan.1946.1952.Mona...   \n",
       "1  Sardar Mohammad Daoud  Sardar Mohammad Daoud.Afghanistan.1953.1962.Ci...   \n",
       "2    Mohammad Zahir Shah  Mohammad Zahir Shah.Afghanistan.1963.1972.Mona...   \n",
       "3  Sardar Mohammad Daoud  Sardar Mohammad Daoud.Afghanistan.1973.1977.Ci...   \n",
       "4    Nur Mohammad Taraki  Nur Mohammad Taraki.Afghanistan.1978.1978.Civi...   \n",
       "\n",
       "       democracy         regime  start_year  duration  observed  \n",
       "0  Non-democracy       Monarchy        1946         7         1  \n",
       "1  Non-democracy  Civilian Dict        1953        10         1  \n",
       "2  Non-democracy       Monarchy        1963        10         1  \n",
       "3  Non-democracy  Civilian Dict        1973         5         0  \n",
       "4  Non-democracy  Civilian Dict        1978         1         0  "
      ]
     },
     "execution_count": 10,
     "metadata": {},
     "output_type": "execute_result"
    }
   ],
   "source": [
    "regime_durations = pd.read_csv(path_data+'dd.csv')\n",
    "regime_durations.head()"
   ]
  },
  {
   "cell_type": "code",
   "execution_count": 11,
   "metadata": {
    "tags": []
   },
   "outputs": [
    {
     "name": "stdout",
     "output_type": "stream",
     "text": [
      "      ctryname  cowcode2  politycode un_region_name un_continent_name  \\\n",
      "0  Afghanistan       700       700.0  Southern Asia              Asia   \n",
      "\n",
      "                 ehead                                     leaderspellreg  \\\n",
      "0  Mohammad Zahir Shah  Mohammad Zahir Shah.Afghanistan.1946.1952.Mona...   \n",
      "\n",
      "       democracy    regime  start_year  duration  observed  \n",
      "0  Non-democracy  Monarchy        1946         7         1  \n",
      "340\n"
     ]
    },
    {
     "data": {
      "text/plain": [
       "'\\nCorrect! Given 340 regime durations (about 18% of your data) are censored, you may use survival analysis to handle the data.\\n'"
      ]
     },
     "execution_count": 11,
     "metadata": {},
     "output_type": "execute_result"
    }
   ],
   "source": [
    "# exercise 04\n",
    "\n",
    "\"\"\"\n",
    "First look at censored data\n",
    "\n",
    "You are the lead data scientist at the national government of a small country named Data Land. You are helping write the law on how long presidencies should last. Because your country relies on data for every decision, you seek wisdom from a DataFrame of 1808 regimes across 202 countries, called regime_durations. How long do regimes tend to last? The fate of your country lies between the rows and in your hands…\n",
    "\n",
    "Your goal is to calculate the average duration. Because you are using a time-to-event dataset, you will need to inspect the data to check for censorship.\n",
    "\n",
    "The pandas package is loaded as pd. The durations DataFrame is loaded and stored as regime_durations. You can use the console to view the DataFrame's column names.\n",
    "\"\"\"\n",
    "\n",
    "# Instructions\n",
    "\n",
    "\"\"\"\n",
    "\n",
    "    Print the first row of the DataFrame to identify the correct column that indicates censorship.\n",
    "    Count the number of censored data points in regime_durations and store the result as count.\n",
    "    Print count in the console.\n",
    "---\n",
    "Question\n",
    "\n",
    "Considering the number of rows with censored data, can you use survival analysis for regime_durations?\n",
    "(Yes)\n",
    "\"\"\"\n",
    "\n",
    "# solution\n",
    "\n",
    "# Print first row\n",
    "print(regime_durations.head(1))\n",
    "\n",
    "# Count censored data\n",
    "count = len(regime_durations[regime_durations['observed'] == 0])\n",
    "\n",
    "# Print the count to console\n",
    "print(count)\n",
    "\n",
    "#----------------------------------#\n",
    "\n",
    "# Conclusion\n",
    "\n",
    "\"\"\"\n",
    "Correct! Given 340 regime durations (about 18% of your data) are censored, you may use survival analysis to handle the data.\n",
    "\"\"\""
   ]
  },
  {
   "cell_type": "code",
   "execution_count": 12,
   "metadata": {},
   "outputs": [],
   "source": [
    "import matplotlib.pyplot as plt\n",
    "import lifelines"
   ]
  },
  {
   "cell_type": "code",
   "execution_count": 13,
   "metadata": {},
   "outputs": [
    {
     "data": {
      "text/plain": [
       "<lifelines.KaplanMeierFitter:\"KM_estimate\", fitted with 432 total observations, 318 right-censored observations>"
      ]
     },
     "execution_count": 13,
     "metadata": {},
     "output_type": "execute_result"
    }
   ],
   "source": [
    "prison = pd.read_csv(path_data+'rossi.csv')\n",
    "\n",
    "prison_kmf = lifelines.KaplanMeierFitter()\n",
    "\n",
    "prison_kmf.fit(prison['week'], prison['arrest'])"
   ]
  },
  {
   "cell_type": "code",
   "execution_count": 14,
   "metadata": {
    "tags": []
   },
   "outputs": [
    {
     "data": {
      "image/png": "[encoded data removed]",
      "text/plain": [
       "<Figure size 640x480 with 1 Axes>"
      ]
     },
     "metadata": {},
     "output_type": "display_data"
    },
    {
     "data": {
      "text/plain": [
       "'\\nGreat job! Libraries like lifelines make it easy to plot survival curves for quick inference. In future chapters, you will learn different types of survival functions and different ways to visualize them!\\n'"
      ]
     },
     "execution_count": 14,
     "metadata": {},
     "output_type": "execute_result"
    }
   ],
   "source": [
    "# exercise 05\n",
    "\n",
    "\"\"\"\n",
    "Draw a survival curve\n",
    "\n",
    "You are a sociologist studying how convicts behave after their release. The DataFrame prison contains the information from 432 convicts who were released from Maryland state prisons in the 1970s and who were followed up with one year after release. There are two main columns of interest:\n",
    "\n",
    "    week: the number of weeks elapsed since release\n",
    "    arrest: whether the convict has been re-arrested within one year after release\n",
    "\n",
    "A Kaplan Meier survival function has been fitted for you and the model object is called prison_kmf. Can you visualize the survival curve of prison_kmf?\n",
    "\n",
    "The matplotlib.pyplot library is imported as plt and the lifelines module has also been imported for you.\n",
    "\"\"\"\n",
    "\n",
    "# Instructions\n",
    "\n",
    "\"\"\"\n",
    "\n",
    "    Plot the survival curve of prison_kmf.\n",
    "    Display the survival curve plot.\n",
    "---\n",
    "Question\n",
    "\n",
    "Use the survival curve you plotted to infer the probability that an ex-convict is re-arrested within 30 weeks.\n",
    "(14%) == 1 - porb_of_not_being_arrested where porb_of_not_being_arrested = 86%  \n",
    "\"\"\"\n",
    "\n",
    "# solution\n",
    "\n",
    "# Plot the survival function\n",
    "prison_kmf.plot_survival_function()\n",
    "\n",
    "# Show the plot\n",
    "plt.show()\n",
    "\n",
    "#----------------------------------#\n",
    "\n",
    "# Conclusion\n",
    "\n",
    "\"\"\"\n",
    "Great job! Libraries like lifelines make it easy to plot survival curves for quick inference. In future chapters, you will learn different types of survival functions and different ways to visualize them!\n",
    "\"\"\""
   ]
  },
  {
   "cell_type": "code",
   "execution_count": 15,
   "metadata": {
    "tags": []
   },
   "outputs": [
    {
     "data": {
      "image/png": "[encoded data removed]",
      "text/plain": [
       "<Figure size 640x480 with 1 Axes>"
      ]
     },
     "metadata": {},
     "output_type": "display_data"
    },
    {
     "data": {
      "text/plain": [
       "'\\nApproximately 50% of regimes last shorter than 4 years, and the other regimes last 4 years or longer.\\n'"
      ]
     },
     "execution_count": 15,
     "metadata": {},
     "output_type": "execute_result"
    }
   ],
   "source": [
    "# exercise 06\n",
    "\n",
    "\"\"\"\n",
    "Long live democracy!\n",
    "\n",
    "Earlier in the chapter, we explored and confirmed the data censorship issue for the regime durations dataset. Now, it is time to build your first survival curve for estimating average duration.\n",
    "\n",
    "Your job is to estimate a survival function and plot a survival curve to show the survival probabilities. To estimate the survival function, you will create an instance of the KaplanMeierFitter object and fit it to the appropriate data columns. The parameter names have been provided for you as you will learn more about fitting survival functions in later chapters.\n",
    "\n",
    "The pandas package is loaded as pd, the matplotlib.pyplot module is loaded as plt, and the KaplanMeierFitter class is imported from lifelines. The durations DataFrame is loaded and stored as regime_durations.\n",
    "\"\"\"\n",
    "\n",
    "# Instructions\n",
    "\n",
    "\"\"\"\n",
    "\n",
    "    Instantiate a KaplanMeierFitter object called kmf.\n",
    "---\n",
    "\n",
    "    Fill in appropriate column names to fit the Kaplan Meier model kmf to the data.\n",
    "---\n",
    "\n",
    "    Plot the results of your Kaplan Meier model using `.plotsurvivalfunction()``.\n",
    "---\n",
    "Question\n",
    "\n",
    "What is the approximate median duration from all the regimes based on the survival curve?\n",
    "(4)\n",
    "\"\"\"\n",
    "\n",
    "# solution\n",
    "\n",
    "# Instantiate a KaplanMeierFitter object kmf\n",
    "kmf = lifelines.KaplanMeierFitter()\n",
    "\n",
    "# Fit the KaplanMeierFitter object to the data\n",
    "kmf.fit(durations=regime_durations['duration'], \n",
    "        event_observed=regime_durations['observed'])\n",
    "\n",
    "# Visualize and show the survival curve\n",
    "kmf.plot_survival_function()\n",
    "plt.show()\n",
    "\n",
    "#----------------------------------#\n",
    "\n",
    "# Conclusion\n",
    "\n",
    "\"\"\"\n",
    "Approximately 50% of regimes last shorter than 4 years, and the other regimes last 4 years or longer.\n",
    "\"\"\""
   ]
  }
 ],
 "metadata": {
  "kernelspec": {
   "display_name": "Python 3 (ipykernel)",
   "language": "python",
   "name": "python3"
  },
  "language_info": {
   "codemirror_mode": {
    "name": "ipython",
    "version": 3
   },
   "file_extension": ".py",
   "mimetype": "text/x-python",
   "name": "python",
   "nbconvert_exporter": "python",
   "pygments_lexer": "ipython3",
   "version": "3.11.5"
  }
 },
 "nbformat": 4,
 "nbformat_minor": 4
}
