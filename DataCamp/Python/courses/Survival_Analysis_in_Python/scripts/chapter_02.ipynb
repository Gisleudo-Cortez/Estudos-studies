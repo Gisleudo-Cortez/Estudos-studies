{
 "cells": [
  {
   "cell_type": "code",
   "execution_count": 1,
   "metadata": {
    "tags": []
   },
   "outputs": [],
   "source": [
    "# run this to shorten the data import from the files\n",
    "path_data = '/home/nero/Documents/Estudos/DataCamp/Python/courses/Survival_Analysis_in_Python/datasets/'\n",
    "import pandas as pd\n",
    "import numpy as np\n",
    "import matplotlib.pyplot as plt"
   ]
  },
  {
   "cell_type": "code",
   "execution_count": 21,
   "metadata": {},
   "outputs": [
    {
     "data": {
      "text/html": [
       "<div>\n",
       "<style scoped>\n",
       "    .dataframe tbody tr th:only-of-type {\n",
       "        vertical-align: middle;\n",
       "    }\n",
       "\n",
       "    .dataframe tbody tr th {\n",
       "        vertical-align: top;\n",
       "    }\n",
       "\n",
       "    .dataframe thead th {\n",
       "        text-align: right;\n",
       "    }\n",
       "</style>\n",
       "<table border=\"1\" class=\"dataframe\">\n",
       "  <thead>\n",
       "    <tr style=\"text-align: right;\">\n",
       "      <th></th>\n",
       "      <th>survival</th>\n",
       "      <th>observed</th>\n",
       "      <th>age</th>\n",
       "      <th>pericardialeffusion</th>\n",
       "      <th>name</th>\n",
       "    </tr>\n",
       "  </thead>\n",
       "  <tbody>\n",
       "    <tr>\n",
       "      <th>0</th>\n",
       "      <td>52.0</td>\n",
       "      <td>1.0</td>\n",
       "      <td>62.000</td>\n",
       "      <td>1.0</td>\n",
       "      <td>name</td>\n",
       "    </tr>\n",
       "    <tr>\n",
       "      <th>1</th>\n",
       "      <td>24.0</td>\n",
       "      <td>1.0</td>\n",
       "      <td>55.000</td>\n",
       "      <td>1.0</td>\n",
       "      <td>name</td>\n",
       "    </tr>\n",
       "    <tr>\n",
       "      <th>2</th>\n",
       "      <td>0.5</td>\n",
       "      <td>0.0</td>\n",
       "      <td>69.000</td>\n",
       "      <td>1.0</td>\n",
       "      <td>name</td>\n",
       "    </tr>\n",
       "    <tr>\n",
       "      <th>3</th>\n",
       "      <td>0.5</td>\n",
       "      <td>0.0</td>\n",
       "      <td>62.529</td>\n",
       "      <td>1.0</td>\n",
       "      <td>name</td>\n",
       "    </tr>\n",
       "    <tr>\n",
       "      <th>4</th>\n",
       "      <td>1.0</td>\n",
       "      <td>0.0</td>\n",
       "      <td>66.000</td>\n",
       "      <td>1.0</td>\n",
       "      <td>name</td>\n",
       "    </tr>\n",
       "  </tbody>\n",
       "</table>\n",
       "</div>"
      ],
      "text/plain": [
       "   survival  observed     age  pericardialeffusion  name\n",
       "0      52.0       1.0  62.000                  1.0  name\n",
       "1      24.0       1.0  55.000                  1.0  name\n",
       "2       0.5       0.0  69.000                  1.0  name\n",
       "3       0.5       0.0  62.529                  1.0  name\n",
       "4       1.0       0.0  66.000                  1.0  name"
      ]
     },
     "execution_count": 21,
     "metadata": {},
     "output_type": "execute_result"
    }
   ],
   "source": [
    "df = pd.read_csv(path_data+'pericardial.csv')\n",
    "df.head()"
   ]
  },
  {
   "cell_type": "code",
   "execution_count": 22,
   "metadata": {},
   "outputs": [
    {
     "data": {
      "text/html": [
       "<div>\n",
       "<style scoped>\n",
       "    .dataframe tbody tr th:only-of-type {\n",
       "        vertical-align: middle;\n",
       "    }\n",
       "\n",
       "    .dataframe tbody tr th {\n",
       "        vertical-align: top;\n",
       "    }\n",
       "\n",
       "    .dataframe thead th {\n",
       "        text-align: right;\n",
       "    }\n",
       "</style>\n",
       "<table border=\"1\" class=\"dataframe\">\n",
       "  <thead>\n",
       "    <tr style=\"text-align: right;\">\n",
       "      <th></th>\n",
       "      <th>survival</th>\n",
       "      <th>observed</th>\n",
       "      <th>age</th>\n",
       "      <th>pericardialeffusion</th>\n",
       "      <th>name</th>\n",
       "    </tr>\n",
       "  </thead>\n",
       "  <tbody>\n",
       "    <tr>\n",
       "      <th>0</th>\n",
       "      <td>52.0</td>\n",
       "      <td>1.0</td>\n",
       "      <td>62.0</td>\n",
       "      <td>1.0</td>\n",
       "      <td>name</td>\n",
       "    </tr>\n",
       "  </tbody>\n",
       "</table>\n",
       "</div>"
      ],
      "text/plain": [
       "   survival  observed   age  pericardialeffusion  name\n",
       "0      52.0       1.0  62.0                  1.0  name"
      ]
     },
     "metadata": {},
     "output_type": "display_data"
    },
    {
     "data": {
      "text/html": [
       "<div>\n",
       "<style scoped>\n",
       "    .dataframe tbody tr th:only-of-type {\n",
       "        vertical-align: middle;\n",
       "    }\n",
       "\n",
       "    .dataframe tbody tr th {\n",
       "        vertical-align: top;\n",
       "    }\n",
       "\n",
       "    .dataframe thead th {\n",
       "        text-align: right;\n",
       "    }\n",
       "</style>\n",
       "<table border=\"1\" class=\"dataframe\">\n",
       "  <thead>\n",
       "    <tr style=\"text-align: right;\">\n",
       "      <th></th>\n",
       "      <th>survival</th>\n",
       "      <th>observed</th>\n",
       "      <th>age</th>\n",
       "      <th>pericardialeffusion</th>\n",
       "      <th>name</th>\n",
       "    </tr>\n",
       "  </thead>\n",
       "  <tbody>\n",
       "    <tr>\n",
       "      <th>24</th>\n",
       "      <td>11.0</td>\n",
       "      <td>1.0</td>\n",
       "      <td>71.0</td>\n",
       "      <td>0.0</td>\n",
       "      <td>name</td>\n",
       "    </tr>\n",
       "  </tbody>\n",
       "</table>\n",
       "</div>"
      ],
      "text/plain": [
       "    survival  observed   age  pericardialeffusion  name\n",
       "24      11.0       1.0  71.0                  0.0  name"
      ]
     },
     "metadata": {},
     "output_type": "display_data"
    }
   ],
   "source": [
    "none_pericardial_effusion = df[df['pericardialeffusion'] == 0]\n",
    "has_pericardial_effusion = df[df['pericardialeffusion'] == 1]\n",
    "\n",
    "display(has_pericardial_effusion.head(1), none_pericardial_effusion.head(1))"
   ]
  },
  {
   "cell_type": "code",
   "execution_count": 24,
   "metadata": {},
   "outputs": [
    {
     "name": "stdout",
     "output_type": "stream",
     "text": [
      "   survival  observed   age  pericardialeffusion  name\n",
      "0      52.0       1.0  62.0                  1.0  name\n",
      "The median survival duration (months) of patients with pericardial effusion:  27.0\n",
      "The median survival duration (months) of patients without pericardial effusion:  31.0\n"
     ]
    },
    {
     "data": {
      "text/plain": [
       "\"\\nGood job! There are many survival distribution properties we can check for by directly calling them after fitting the model. Read more about what's available in the lifelines documentation.\\n\""
      ]
     },
     "execution_count": 24,
     "metadata": {},
     "output_type": "execute_result"
    }
   ],
   "source": [
    "# exercise 01\n",
    "\n",
    "\"\"\"\n",
    "Heart disease patient survival\n",
    "\n",
    "You're a data scientist at a clinical research organization that studies heart diseases. You wonder if pericardial effusion, fluid build-up around the heart, affects heart attack patients' survival outcomes. In this exercise, you will explore how to use two statistical methods to compare survival distributions from patients with and without pericardial effusion.\n",
    "\n",
    "The data is split up into two DataFrames:\n",
    "\n",
    "    has_pericardial_effusion: patients with pericardial effusion\n",
    "    none_pericardial_effusion: patients without pericardial effusion\n",
    "\n",
    "The pandas package is loaded as pd and the KaplanMeierFitter class is imported from lifelines.\n",
    "\"\"\"\n",
    "\n",
    "# Instructions\n",
    "\n",
    "\"\"\"\n",
    "Use .head() to print the first row of the DataFrame has_pericardial_effusion. Pay attention to the column names.\n",
    "---\n",
    "\n",
    "    Instantiate KaplanMeierFitter objects called kmf_has_pe for patients with pericardial effusion and kmf_no_pe for patients without pericardial effusion.\n",
    "    Fit the Kaplan-Meier estimators to patients with and without pericardial effusion.\n",
    "---\n",
    "\n",
    "    Print out each group's median survival time.\n",
    "---\n",
    "Question\n",
    "\n",
    "Based on your previous step, which group of patients tends to have a longer survival time?\n",
    "(none_pericardial_effusion)\n",
    "\"\"\"\n",
    "\n",
    "# solution\n",
    "\n",
    "from lifelines import KaplanMeierFitter\n",
    "\n",
    "# Print first row\n",
    "print(has_pericardial_effusion.head(1))\n",
    "\n",
    "#----------------------------------#\n",
    "\n",
    "# Instantiate Kaplan Meier object for patients with and without pericardial effusion\n",
    "kmf_has_pe = KaplanMeierFitter()\n",
    "kmf_no_pe = KaplanMeierFitter()\n",
    "\n",
    "# Fit Kaplan Meier estimators to each DataFrame\n",
    "kmf_has_pe.fit(durations=has_pericardial_effusion['survival'], \n",
    "               event_observed=has_pericardial_effusion['observed'])\n",
    "kmf_no_pe.fit(durations=none_pericardial_effusion['survival'], \n",
    "              event_observed=none_pericardial_effusion['observed'])\n",
    "\n",
    "# Print out the median survival duration of each group\n",
    "print(\"The median survival duration (months) of patients with pericardial effusion: \", kmf_has_pe.median_survival_time_)\n",
    "print(\"The median survival duration (months) of patients without pericardial effusion: \", kmf_no_pe.median_survival_time_)\n",
    "\n",
    "#----------------------------------#\n",
    "\n",
    "# Conclusion\n",
    "\n",
    "\"\"\"\n",
    "Good job! There are many survival distribution properties we can check for by directly calling them after fitting the model. Read more about what's available in the lifelines documentation.\n",
    "\"\"\""
   ]
  },
  {
   "cell_type": "code",
   "execution_count": 25,
   "metadata": {
    "tags": []
   },
   "outputs": [
    {
     "data": {
      "text/plain": [
       "\"\\nThat's right! There are many ways to plot the survival function from the Kaplan-Meier estimator!\\n\""
      ]
     },
     "execution_count": 25,
     "metadata": {},
     "output_type": "execute_result"
    }
   ],
   "source": [
    "# exercise 02\n",
    "\n",
    "\"\"\"\n",
    "Plotting the survival curve\n",
    "\n",
    "You learned that there are different ways to plot the survival function from the Kaplan-Meier estimator. A survival function on the term lengths of Canadian senators has been fitted for you using KaplanMeierFitter and the instance is called senator_kmf. Try plotting senator_kmf in the console. After each plot, you may run plt.clf() to clear the figure.\n",
    "\n",
    "Select the correct ways to plot the survival function.\n",
    "\n",
    "    A. senator_kmf.plot_survival_function()\n",
    "    B. senator_kmf.plot_survival_distribution()\n",
    "    C. senator_kmf.survival_function_.plot()\n",
    "    D. plt.plot(senator_kmf)\n",
    "    E. senator_kmf.plot()\n",
    "\n",
    "\"\"\"\n",
    "\n",
    "# Instructions\n",
    "\n",
    "\"\"\"\n",
    "Answer = (A,C,E)\n",
    "\"\"\"\n",
    "\n",
    "# solution\n",
    "\n",
    "\n",
    "\n",
    "#----------------------------------#\n",
    "\n",
    "# Conclusion\n",
    "\n",
    "\"\"\"\n",
    "That's right! There are many ways to plot the survival function from the Kaplan-Meier estimator!\n",
    "\"\"\""
   ]
  },
  {
   "cell_type": "code",
   "execution_count": 27,
   "metadata": {},
   "outputs": [
    {
     "data": {
      "text/html": [
       "<div>\n",
       "<style scoped>\n",
       "    .dataframe tbody tr th:only-of-type {\n",
       "        vertical-align: middle;\n",
       "    }\n",
       "\n",
       "    .dataframe tbody tr th {\n",
       "        vertical-align: top;\n",
       "    }\n",
       "\n",
       "    .dataframe thead th {\n",
       "        text-align: right;\n",
       "    }\n",
       "</style>\n",
       "<table border=\"1\" class=\"dataframe\">\n",
       "  <thead>\n",
       "    <tr style=\"text-align: right;\">\n",
       "      <th></th>\n",
       "      <th>age</th>\n",
       "      <th>time_0</th>\n",
       "      <th>time_1</th>\n",
       "      <th>censor</th>\n",
       "    </tr>\n",
       "  </thead>\n",
       "  <tbody>\n",
       "    <tr>\n",
       "      <th>0</th>\n",
       "      <td>43</td>\n",
       "      <td>9</td>\n",
       "      <td>56</td>\n",
       "      <td>1</td>\n",
       "    </tr>\n",
       "    <tr>\n",
       "      <th>1</th>\n",
       "      <td>43</td>\n",
       "      <td>56</td>\n",
       "      <td>88</td>\n",
       "      <td>1</td>\n",
       "    </tr>\n",
       "    <tr>\n",
       "      <th>2</th>\n",
       "      <td>43</td>\n",
       "      <td>0</td>\n",
       "      <td>6</td>\n",
       "      <td>1</td>\n",
       "    </tr>\n",
       "    <tr>\n",
       "      <th>3</th>\n",
       "      <td>43</td>\n",
       "      <td>6</td>\n",
       "      <td>9</td>\n",
       "      <td>1</td>\n",
       "    </tr>\n",
       "    <tr>\n",
       "      <th>4</th>\n",
       "      <td>43</td>\n",
       "      <td>0</td>\n",
       "      <td>42</td>\n",
       "      <td>1</td>\n",
       "    </tr>\n",
       "  </tbody>\n",
       "</table>\n",
       "</div>"
      ],
      "text/plain": [
       "   age  time_0  time_1  censor\n",
       "0   43       9      56       1\n",
       "1   43      56      88       1\n",
       "2   43       0       6       1\n",
       "3   43       6       9       1\n",
       "4   43       0      42       1"
      ]
     },
     "execution_count": 27,
     "metadata": {},
     "output_type": "execute_result"
    }
   ],
   "source": [
    "recur = pd.read_csv(path_data+'recur.csv')\n",
    "recur.head()"
   ]
  },
  {
   "cell_type": "code",
   "execution_count": 28,
   "metadata": {
    "tags": []
   },
   "outputs": [
    {
     "data": {
      "image/png": "[encoded data removed]",
      "text/plain": [
       "<Figure size 640x480 with 1 Axes>"
      ]
     },
     "metadata": {},
     "output_type": "display_data"
    },
    {
     "data": {
      "text/plain": [
       "'\\nCongratulations! The confidence interval band depends on the size of the sample, and as long as the last observation is not censored, the curve will drop to 0.\\n'"
      ]
     },
     "execution_count": 28,
     "metadata": {},
     "output_type": "execute_result"
    }
   ],
   "source": [
    "# exercise 03\n",
    "\n",
    "\"\"\"\n",
    "Patient soreness treatment\n",
    "\n",
    "You are studying a treatment for muscle soreness recurrence in patients. You want to use the Kaplan-Meier estimator to visualize the rate at which patients receiving the treatment encounter soreness episodes.\n",
    "\n",
    "The DataFrame is called recur and contains columns\n",
    "\n",
    "    age: the age of the patient;\n",
    "    time_0: the time that the patient received the treatment;\n",
    "    time_1: the last time of an event, or the last time you measured a censored patient;\n",
    "    censor: whether the event is censored;\n",
    "\n",
    "The pandas package is loaded as pd, the KaplanMeierFitter class is imported from lifelines, and the pyplot module has been import from matplotlib as plt.\n",
    "\"\"\"\n",
    "\n",
    "# Instructions\n",
    "\n",
    "\"\"\"\n",
    "\n",
    "    Create a new column for the duration of the observation and call it duration.\n",
    "---\n",
    "\n",
    "    Instantiate a KaplanMeierFitter called kmf and fit recur to the class.\n",
    "---\n",
    "\n",
    "    Plot the survival function of kmf with its confidence interval.\n",
    "    Display the figure of the survival function plot.\n",
    "---\n",
    "Question\n",
    "\n",
    "Based on the survival curve you just plotted, select the pair of statements that are both true.\n",
    "\n",
    "    A. The confidence interval gets wider because there are fewer patients at risk.\n",
    "    B. The confidence interval gets wider because fewer patients experience soreness.\n",
    "    C. Soreness is more likely to occur to at-risk patients within the first 50 hours of treatment than after 50 hours.\n",
    "    D. Because the survival curve ends at 0, all patients have experienced soreness by the end of the study.\n",
    "(A,C)\n",
    "\"\"\"\n",
    "\n",
    "# solution\n",
    "\n",
    "# Calculate duration\n",
    "recur['duration'] = recur['time_1'] - recur['time_0']\n",
    "\n",
    "# Instantiate and fit KaplanMeierFitter\n",
    "kmf = KaplanMeierFitter()\n",
    "kmf.fit(recur['duration'], recur['censor'])\n",
    "\n",
    "# Plot survival function with CI\n",
    "kmf.plot_survival_function()\n",
    "\n",
    "# Display figure\n",
    "plt.show()\n",
    "\n",
    "#----------------------------------#\n",
    "\n",
    "# Conclusion\n",
    "\n",
    "\"\"\"\n",
    "Congratulations! The confidence interval band depends on the size of the sample, and as long as the last observation is not censored, the curve will drop to 0.\n",
    "\"\"\""
   ]
  },
  {
   "cell_type": "code",
   "execution_count": 59,
   "metadata": {},
   "outputs": [],
   "source": [
    "x = pd.read_csv(path_data+'x_data.csv')\n",
    "y = pd.read_csv(path_data+'y_data.csv')\n",
    "\n",
    "df = pd.concat([x,y], axis=1)\n",
    "\n"
   ]
  },
  {
   "cell_type": "code",
   "execution_count": 57,
   "metadata": {},
   "outputs": [],
   "source": [
    "bc_df = pd.read_csv(path_data+'bc_df.csv')\n"
   ]
  },
  {
   "cell_type": "code",
   "execution_count": 62,
   "metadata": {
    "tags": []
   },
   "outputs": [
    {
     "data": {
      "image/png": "[encoded data removed]",
      "text/plain": [
       "<Figure size 640x480 with 1 Axes>"
      ]
     },
     "metadata": {},
     "output_type": "display_data"
    },
    {
     "data": {
      "text/plain": [
       "'\\nGreat job! Notice that without confidence intervals, there is a big gap between the survival curves. The confidence intervals show that the observed gap might not be due to real differences in their survival functions.\\n'"
      ]
     },
     "execution_count": 62,
     "metadata": {},
     "output_type": "execute_result"
    }
   ],
   "source": [
    "# exercise 04\n",
    "\n",
    "\"\"\"\n",
    "Senators' terms in office\n",
    "\n",
    "You want to compare if senators from Quebec tend to serve a different term length than those from British Columbia. One simple method is to plot their Kaplan-Meier survival functions on the same graph.\n",
    "\n",
    "The DataFrame containing British Columbia senator term durations information is called bc_df. It contains columns\n",
    "\n",
    "    name: the name the of senator\n",
    "    diff_days: the duration of the senator in office\n",
    "    observed: whether the end of the term is observed (1 or 0)\n",
    "\n",
    "The survival curve of Quebec senators has been plotted on a pyplot object called senator_fig, and a KaplanMeierFitter instance called kmf has been created.\n",
    "\n",
    "Additionally, the pandas package is loaded as pd, the KaplanMeierFitter class is imported from lifelines, and the pyplot module has been import from matplotlib as plt.\n",
    "\"\"\"\n",
    "\n",
    "# Instructions\n",
    "\n",
    "\"\"\"\n",
    "\n",
    "    Fit the KaplanMeierFitter instance kmf to British Columbia senators' term durations.\n",
    "    Plot the British Columbia senators' survival curve on the same figure as that of Quebec senators.\n",
    "    Display the figure.\n",
    "\n",
    "\"\"\"\n",
    "\n",
    "# solution\n",
    "\n",
    "senator_fig, ax = plt.subplots()\n",
    "\n",
    "ax.plot(x, y)\n",
    "ax.legend('Quebec')\n",
    "\n",
    "# Fit Kaplan-Meier estimator\n",
    "kmf.fit(bc_df['diff_days'], bc_df['observed'], label='British Columbia')\n",
    "\n",
    "# Plot survival function on senator_fig\n",
    "kmf.plot(ax=ax)\n",
    "\n",
    "# Display the figure\n",
    "plt.show()\n",
    "\n",
    "#----------------------------------#\n",
    "\n",
    "# Conclusion\n",
    "\n",
    "\"\"\"\n",
    "Great job! Notice that without confidence intervals, there is a big gap between the survival curves. The confidence intervals show that the observed gap might not be due to real differences in their survival functions.\n",
    "\"\"\""
   ]
  },
  {
   "cell_type": "code",
   "execution_count": 64,
   "metadata": {},
   "outputs": [],
   "source": [
    "recur = pd.read_csv(path_data+'recur_new.csv')"
   ]
  },
  {
   "cell_type": "code",
   "execution_count": 65,
   "metadata": {
    "tags": []
   },
   "outputs": [
    {
     "data": {
      "image/png": "[encoded data removed]",
      "text/plain": [
       "<Figure size 640x480 with 1 Axes>"
      ]
     },
     "metadata": {},
     "output_type": "display_data"
    },
    {
     "data": {
      "text/plain": [
       "\"\\nThat's correct! Because the confidence intervals overlap, we need more formal hypothesis testing or regression-based methods to make a conclusion.\\n\""
      ]
     },
     "execution_count": 65,
     "metadata": {},
     "output_type": "execute_result"
    }
   ],
   "source": [
    "# exercise 05\n",
    "\n",
    "\"\"\"\n",
    "Comparing patient soreness treatments\n",
    "\n",
    "There is an experiment for a new soreness treatment, and you want to compare patients that received the new treatment versus the old one. You will fit a Kaplan-Meier estimator to each set of patient data and visualize their survival curves side-by-side.\n",
    "\n",
    "The DataFrame is called recur and contains columns\n",
    "\n",
    "    age: the age of the patient;\n",
    "    treat: the treatment that the patient received (0 if new, 1 if old);\n",
    "    duration: the duration post treatment in hours;\n",
    "    censor: whether the event is censored;\n",
    "\n",
    "The pandas package is loaded as pd, the KaplanMeierFitter class is imported from lifelines, and the pyplot module has been import from matplotlib as plt.\n",
    "\n",
    "Additionally, a KaplanMeierFitter instance called kmf and a subplot figure called ax have been created for you.\n",
    "\"\"\"\n",
    "\n",
    "# Instructions\n",
    "\n",
    "\"\"\"\n",
    "\n",
    "    Create a Boolean mask for patients that received the new treatment.\n",
    "---\n",
    "\n",
    "    Fit the KaplanMeierFitter instance kmf to patients that received the new treatment. Plot the survival function on the figure ax.\n",
    "---\n",
    "\n",
    "    Fit the KaplanMeierFitter instance kmf to patients that received the old treatment. Plot the survival function on the figure ax.\n",
    "    Display the figure.\n",
    "---\n",
    "Question\n",
    "\n",
    "Are there differences in likelihood to experience soreness 100 hours after treatment among at-risk patients?\n",
    "(Not enough to tell)\n",
    "\"\"\"\n",
    "\n",
    "# solution\n",
    "\n",
    "ax = plt.subplot(111)\n",
    "\n",
    "# Mask for new treatment\n",
    "new = (recur['treat'] == 0)\n",
    "\n",
    "# Fit to new treatment and plot survival function\n",
    "kmf.fit(recur[new]['duration'], recur[new]['censor'], label='New treatment')\n",
    "kmf.plot_survival_function(ax=ax)\n",
    "\n",
    "# Fit to old treatment and plot survival function\n",
    "kmf.fit(recur[~new]['duration'], recur[~new]['censor'], label='Old treatment')\n",
    "kmf.plot_survival_function(ax=ax)\n",
    "\n",
    "# Display figure\n",
    "plt.show()\n",
    "\n",
    "#----------------------------------#\n",
    "\n",
    "# Conclusion\n",
    "\n",
    "\"\"\"\n",
    "That's correct! Because the confidence intervals overlap, we need more formal hypothesis testing or regression-based methods to make a conclusion.\n",
    "\"\"\""
   ]
  },
  {
   "cell_type": "code",
   "execution_count": 66,
   "metadata": {
    "tags": []
   },
   "outputs": [
    {
     "data": {
      "image/png": "[encoded data removed]",
      "text/plain": [
       "<Figure size 640x480 with 1 Axes>"
      ]
     },
     "metadata": {},
     "output_type": "display_data"
    },
    {
     "data": {
      "text/plain": [
       "'\\nGreat job! Notice that the survival curves look very similar, so you will need to do some formal hypothesis testing to look into this further.\\n'"
      ]
     },
     "execution_count": 66,
     "metadata": {},
     "output_type": "execute_result"
    }
   ],
   "source": [
    "# exercise 06\n",
    "\n",
    "\"\"\"\n",
    "Plotting and comparing survival curves\n",
    "\n",
    "Back at the heart clinic, you want to present some visualizations that showcase the differences in patient survival times to the Head of Research. You will plot the survival curves of patients with and without pericardial effusion side-by-side.\n",
    "\n",
    "A KaplanMeierFitter object kmf is instantiated. DataFrames for patients with and without pericardial effusion are loaded and stored as has_pericardial_effusion and none_pericardial_effusion, respectively.\n",
    "\n",
    "The KaplanMeierFitter class is imported for you. Additionally, the pandas package is loaded as pd, and the matplotlib.pyplot module is loaded as plt.\n",
    "\"\"\"\n",
    "\n",
    "# Instructions\n",
    "\n",
    "\"\"\"\n",
    "\n",
    "    Fit the estimator kmf to patients with pericardial effusion.\n",
    "    Plot the survival function from kmf and assign the plot object to a new variable surv_plot.\n",
    "---\n",
    "\n",
    "    Fit the estimator kmf to patients without pericardial effusion.\n",
    "    Plot the new survival function on surv_plot and show the plot.\n",
    "\n",
    "\"\"\"\n",
    "\n",
    "# solution\n",
    "\n",
    "# Fit kmf to patients with pericardial effusion\n",
    "kmf.fit(has_pericardial_effusion['survival'], has_pericardial_effusion['observed'], label='has_pericardial_effusion')\n",
    "\n",
    "# Create a plot of the survival function\n",
    "surv_plot = kmf.plot()\n",
    "\n",
    "# Fit kmf to patients without pericardial effusion\n",
    "kmf.fit(none_pericardial_effusion['survival'], none_pericardial_effusion['observed'], label='no_pericardial_effusion')\n",
    "\n",
    "# Plot new survival function and show plot\n",
    "kmf.plot(ax=surv_plot)\n",
    "plt.show()\n",
    "\n",
    "#----------------------------------#\n",
    "\n",
    "# Conclusion\n",
    "\n",
    "\"\"\"\n",
    "Great job! Notice that the survival curves look very similar, so you will need to do some formal hypothesis testing to look into this further.\n",
    "\"\"\""
   ]
  },
  {
   "cell_type": "code",
   "execution_count": 67,
   "metadata": {
    "tags": []
   },
   "outputs": [
    {
     "name": "stdout",
     "output_type": "stream",
     "text": [
      "0.890495240509155\n"
     ]
    },
    {
     "data": {
      "text/plain": [
       "\"\\nThat's correct! Even though the average survival duration for patients with pericardial effusion is shorter, you cannot reject the null hypothesis that the two groups have the same survival curves based on the data.\\n\""
      ]
     },
     "execution_count": 67,
     "metadata": {},
     "output_type": "execute_result"
    }
   ],
   "source": [
    "# exercise 07\n",
    "\n",
    "\"\"\"\n",
    "Log-rank test\n",
    "\n",
    "After comparing the median survival times of patients with and without pericardial effusion, you also inspected their survival curves visually. To your surprise, the curves actually seem quite similar to each other. Before you finalize your conclusion, it's important to scientifically test this hypothesis. You will use the log-rank test and inspect the p-value to make a decision.\n",
    "\n",
    "The pandas package is loaded as pd. DataFrames for patients with and without pericardial effusion are loaded and stored as has_pericardial_effusion and none_pericardial_effusion, respectively.\n",
    "\"\"\"\n",
    "\n",
    "# Instructions\n",
    "\n",
    "\"\"\"\n",
    "\n",
    "    Import the logrank_test function from lifelines.statistics.\n",
    "    Run the log-rank test with the appropriate columns from your data to compare patients with and without pericardial effusion.\n",
    "---\n",
    "\n",
    "    Print out the p-value of patient_results.\n",
    "---\n",
    "Question\n",
    "\n",
    "The null hypothesis is that patients with and without pericardial effusion have the same survival curves. Given this null hypothesis and the p-value you just calculated, what can you conclude?\n",
    "(fail to reject the null hypotesis)\n",
    "\"\"\"\n",
    "\n",
    "# solution\n",
    "\n",
    "# Import logrank_test\n",
    "from lifelines.statistics import logrank_test\n",
    "\n",
    "# Run log-rank test to compare patients with and without pericardial effusion\n",
    "patient_results = logrank_test(durations_A = has_pericardial_effusion['survival'], \n",
    "                               durations_B = none_pericardial_effusion['survival'], \n",
    "                               event_observed_A = has_pericardial_effusion['observed'], \n",
    "                               event_observed_B = none_pericardial_effusion['observed'])\n",
    "\n",
    "# Print out the p-value of log-rank test results\n",
    "print(patient_results.p_value)\n",
    "\n",
    "#----------------------------------#\n",
    "\n",
    "# Conclusion\n",
    "\n",
    "\"\"\"\n",
    "That's correct! Even though the average survival duration for patients with pericardial effusion is shorter, you cannot reject the null hypothesis that the two groups have the same survival curves based on the data.\n",
    "\"\"\""
   ]
  }
 ],
 "metadata": {
  "kernelspec": {
   "display_name": "Python 3 (ipykernel)",
   "language": "python",
   "name": "python3"
  },
  "language_info": {
   "codemirror_mode": {
    "name": "ipython",
    "version": 3
   },
   "file_extension": ".py",
   "mimetype": "text/x-python",
   "name": "python",
   "nbconvert_exporter": "python",
   "pygments_lexer": "ipython3",
   "version": "3.11.5"
  }
 },
 "nbformat": 4,
 "nbformat_minor": 4
}
