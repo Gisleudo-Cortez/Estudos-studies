{
 "cells": [
  {
   "cell_type": "code",
   "execution_count": 53,
   "metadata": {
    "tags": []
   },
   "outputs": [],
   "source": [
    "# run this to shorten the data import from the files\n",
    "import os\n",
    "path_data = os.path.join(os.path.dirname(os.getcwd()), 'datasets/')\n"
   ]
  },
  {
   "cell_type": "code",
   "execution_count": 54,
   "metadata": {},
   "outputs": [
    {
     "data": {
      "text/plain": [
       "'\\nCorrect! The bar is higher for males, meaning that there are more males in the database. The line is higher for females, indicating that females are more likely to donate.\\n'"
      ]
     },
     "execution_count": 54,
     "metadata": {},
     "output_type": "execute_result"
    }
   ],
   "source": [
    "# exercise 01\n",
    "\n",
    "\"\"\"\n",
    "Interpretation of predictor insight graphs\n",
    "\n",
    "Consider the predictor insight graph that indicates the relationship between the target incidence and the gender (M - male, F - female) of the candidate donor. The bars indicate the size of the groups, the line indicates the percentage targets.\n",
    "\n",
    "\n",
    "\"\"\"\n",
    "\n",
    "# Instructions\n",
    "\n",
    "\"\"\"\n",
    "Females are more likely to donate, and there are more females than males in the database.\n",
    "\n",
    "\n",
    "Females are less likely to donate, but there are more females than males in the database.\n",
    "\n",
    "\n",
    "Females are more likely to donate, but there are less females than males in the database. (Answer)\n",
    "\n",
    "\n",
    "Females are less likely to donate, and there are less females than males in the database.\n",
    "\"\"\"\n",
    "\n",
    "# solution\n",
    "\n",
    "\n",
    "\n",
    "#----------------------------------#\n",
    "\n",
    "# Conclusion\n",
    "\n",
    "\"\"\"\n",
    "Correct! The bar is higher for males, meaning that there are more males in the database. The line is higher for females, indicating that females are more likely to donate.\n",
    "\"\"\""
   ]
  },
  {
   "cell_type": "code",
   "execution_count": 55,
   "metadata": {},
   "outputs": [
    {
     "data": {
      "text/html": [
       "<div>\n",
       "<style scoped>\n",
       "    .dataframe tbody tr th:only-of-type {\n",
       "        vertical-align: middle;\n",
       "    }\n",
       "\n",
       "    .dataframe tbody tr th {\n",
       "        vertical-align: top;\n",
       "    }\n",
       "\n",
       "    .dataframe thead th {\n",
       "        text-align: right;\n",
       "    }\n",
       "</style>\n",
       "<table border=\"1\" class=\"dataframe\">\n",
       "  <thead>\n",
       "    <tr style=\"text-align: right;\">\n",
       "      <th></th>\n",
       "      <th>Country</th>\n",
       "      <th>Size</th>\n",
       "      <th>Incidence</th>\n",
       "    </tr>\n",
       "  </thead>\n",
       "  <tbody>\n",
       "    <tr>\n",
       "      <th>0</th>\n",
       "      <td>India</td>\n",
       "      <td>49849</td>\n",
       "      <td>0.05</td>\n",
       "    </tr>\n",
       "    <tr>\n",
       "      <th>1</th>\n",
       "      <td>UK</td>\n",
       "      <td>10057</td>\n",
       "      <td>0.05</td>\n",
       "    </tr>\n",
       "    <tr>\n",
       "      <th>2</th>\n",
       "      <td>USA</td>\n",
       "      <td>40094</td>\n",
       "      <td>0.05</td>\n",
       "    </tr>\n",
       "  </tbody>\n",
       "</table>\n",
       "</div>"
      ],
      "text/plain": [
       "  Country   Size  Incidence\n",
       "0   India  49849       0.05\n",
       "1      UK  10057       0.05\n",
       "2     USA  40094       0.05"
      ]
     },
     "execution_count": 55,
     "metadata": {},
     "output_type": "execute_result"
    }
   ],
   "source": [
    "import pandas as pd\n",
    "\n",
    "pig_table = pd.read_csv(path_data+'pig_table.csv')\n",
    "pig_table.head()"
   ]
  },
  {
   "cell_type": "code",
   "execution_count": 56,
   "metadata": {
    "tags": []
   },
   "outputs": [
    {
     "name": "stdout",
     "output_type": "stream",
     "text": [
      "  Country   Size  Incidence\n",
      "0   India  49849       0.05\n",
      "1      UK  10057       0.05\n",
      "2     USA  40094       0.05\n",
      "1    10057\n",
      "Name: Size, dtype: int64\n",
      "2    0.05\n",
      "Name: Incidence, dtype: float64\n",
      "0    0.05\n",
      "Name: Incidence, dtype: float64\n"
     ]
    },
    {
     "data": {
      "text/plain": [
       "'\\nWell done! The target incidence of USA and India donors is the same, indicating that country is not a good variable to predict donations.\\n'"
      ]
     },
     "execution_count": 56,
     "metadata": {},
     "output_type": "execute_result"
    }
   ],
   "source": [
    "# exercise 02\n",
    "\n",
    "\"\"\"\n",
    "Retrieving information from the predictor insight table\n",
    "\n",
    "The predictor insight graph table contains all the information needed to construct the predictor insight graph. For each value the predictor takes, it has the number of observations with this value and the target incidence within this group. The predictor insight graph table of the predictor Country is loaded as a pandas object pig_table. You can access elements using indexing. For instance, to retrieve the target incidence of donors living in the UK, you can use:\n",
    "\n",
    "pig_table[\"Incidence\"][pig_table[\"Country\"]==\"UK\"]\n",
    "\n",
    "\"\"\"\n",
    "\n",
    "# Instructions\n",
    "\n",
    "\"\"\"\n",
    "\n",
    "    Print the number of UK donors.\n",
    "    Print the target incidence of USA donors.\n",
    "    Print the target incidence of India donors.\n",
    "\n",
    "\"\"\"\n",
    "\n",
    "# solution\n",
    "\n",
    "# Inspect the predictor insight graph table of Country\n",
    "print(pig_table)\n",
    "\n",
    "# Print the number of UK donors\n",
    "print(pig_table[\"Size\"][pig_table[\"Country\"]==\"UK\"])\n",
    "\n",
    "# Check the target incidence of USA and India donors\n",
    "print(pig_table[\"Incidence\"][pig_table[\"Country\"]==\"USA\"])\n",
    "print(pig_table[\"Incidence\"][pig_table[\"Country\"]==\"India\"])\n",
    "\n",
    "#----------------------------------#\n",
    "\n",
    "# Conclusion\n",
    "\n",
    "\"\"\"\n",
    "Well done! The target incidence of USA and India donors is the same, indicating that country is not a good variable to predict donations.\n",
    "\"\"\""
   ]
  },
  {
   "cell_type": "code",
   "execution_count": 57,
   "metadata": {},
   "outputs": [
    {
     "data": {
      "text/html": [
       "<div>\n",
       "<style scoped>\n",
       "    .dataframe tbody tr th:only-of-type {\n",
       "        vertical-align: middle;\n",
       "    }\n",
       "\n",
       "    .dataframe tbody tr th {\n",
       "        vertical-align: top;\n",
       "    }\n",
       "\n",
       "    .dataframe thead th {\n",
       "        text-align: right;\n",
       "    }\n",
       "</style>\n",
       "<table border=\"1\" class=\"dataframe\">\n",
       "  <thead>\n",
       "    <tr style=\"text-align: right;\">\n",
       "      <th></th>\n",
       "      <th>Unnamed: 0</th>\n",
       "      <th>target</th>\n",
       "      <th>time_since_last_donation</th>\n",
       "    </tr>\n",
       "  </thead>\n",
       "  <tbody>\n",
       "    <tr>\n",
       "      <th>0</th>\n",
       "      <td>0</td>\n",
       "      <td>1</td>\n",
       "      <td>808</td>\n",
       "    </tr>\n",
       "    <tr>\n",
       "      <th>1</th>\n",
       "      <td>1</td>\n",
       "      <td>1</td>\n",
       "      <td>977</td>\n",
       "    </tr>\n",
       "    <tr>\n",
       "      <th>2</th>\n",
       "      <td>2</td>\n",
       "      <td>1</td>\n",
       "      <td>641</td>\n",
       "    </tr>\n",
       "    <tr>\n",
       "      <th>3</th>\n",
       "      <td>3</td>\n",
       "      <td>1</td>\n",
       "      <td>368</td>\n",
       "    </tr>\n",
       "    <tr>\n",
       "      <th>4</th>\n",
       "      <td>4</td>\n",
       "      <td>1</td>\n",
       "      <td>536</td>\n",
       "    </tr>\n",
       "  </tbody>\n",
       "</table>\n",
       "</div>"
      ],
      "text/plain": [
       "   Unnamed: 0  target  time_since_last_donation\n",
       "0           0       1                       808\n",
       "1           1       1                       977\n",
       "2           2       1                       641\n",
       "3           3       1                       368\n",
       "4           4       1                       536"
      ]
     },
     "execution_count": 57,
     "metadata": {},
     "output_type": "execute_result"
    }
   ],
   "source": [
    "basetable = pd.read_csv(path_data+'basetable_ch4.csv')\n",
    "basetable.head()"
   ]
  },
  {
   "cell_type": "code",
   "execution_count": 58,
   "metadata": {
    "tags": []
   },
   "outputs": [
    {
     "name": "stdout",
     "output_type": "stream",
     "text": [
      "time_since_last_donation\n",
      "32      25\n",
      "33      13\n",
      "34      17\n",
      "35      18\n",
      "36      20\n",
      "        ..\n",
      "2203     1\n",
      "2232     1\n",
      "2254     1\n",
      "2305     1\n",
      "2518     1\n",
      "Length: 1864, dtype: int64\n",
      "bins_recency\n",
      "(31.999, 319.0]     10058\n",
      "(319.0, 462.0]       9953\n",
      "(462.0, 574.0]       9999\n",
      "(574.0, 657.0]      10070\n",
      "(657.0, 738.0]      10002\n",
      "(738.0, 833.0]       9994\n",
      "(833.0, 933.0]       9962\n",
      "(933.0, 1050.0]     10009\n",
      "(1050.0, 1209.0]    10004\n",
      "(1209.0, 2518.0]     9949\n",
      "dtype: int64\n"
     ]
    },
    {
     "data": {
      "text/plain": [
       "'\\nGreat job! The variable is binned in 10 bins that have each about 10 000 observations in it!\\n'"
      ]
     },
     "execution_count": 58,
     "metadata": {},
     "output_type": "execute_result"
    }
   ],
   "source": [
    "# exercise 03\n",
    "\n",
    "\"\"\"\n",
    "Discretization of a certain variable\n",
    "\n",
    "In order to make predictor insight graphs for continuous variables, you first need to discretize them. In Python, you can discretize pandas columns using the qcut method.\n",
    "\n",
    "To check whether the variable was nicely discretized, you can verify that the bins have equal size using the groupby method:\n",
    "\n",
    "print(basetable.groupby(\"discretized_variable\").size()\n",
    "\n",
    "\"\"\"\n",
    "\n",
    "# Instructions\n",
    "\n",
    "\"\"\"\n",
    "\n",
    "    Use the method qcut to discretize the variable time_since_last_donation in 10 groups. Assing this variable to a new column called \"bins_recency\".\n",
    "    Use the method groupby to verify that the bins have about equal size.\n",
    "\n",
    "\"\"\"\n",
    "\n",
    "# solution\n",
    "print(basetable.groupby(\"time_since_last_donation\").size())\n",
    "# Discretize the variable time_since_last_donation in 10 bins\n",
    "basetable[\"bins_recency\"] = pd.qcut(basetable['time_since_last_donation'],10)\n",
    "\n",
    "# Print the group sizes of the discretized variable\n",
    "print(basetable.groupby(\"bins_recency\").size())\n",
    "\n",
    "#----------------------------------#\n",
    "\n",
    "# Conclusion\n",
    "\n",
    "\"\"\"\n",
    "Great job! The variable is binned in 10 bins that have each about 10 000 observations in it!\n",
    "\"\"\""
   ]
  },
  {
   "cell_type": "code",
   "execution_count": 59,
   "metadata": {},
   "outputs": [
    {
     "data": {
      "text/html": [
       "<div>\n",
       "<style scoped>\n",
       "    .dataframe tbody tr th:only-of-type {\n",
       "        vertical-align: middle;\n",
       "    }\n",
       "\n",
       "    .dataframe tbody tr th {\n",
       "        vertical-align: top;\n",
       "    }\n",
       "\n",
       "    .dataframe thead th {\n",
       "        text-align: right;\n",
       "    }\n",
       "</style>\n",
       "<table border=\"1\" class=\"dataframe\">\n",
       "  <thead>\n",
       "    <tr style=\"text-align: right;\">\n",
       "      <th></th>\n",
       "      <th>target</th>\n",
       "      <th>gender_F</th>\n",
       "      <th>gender_M</th>\n",
       "      <th>income_average</th>\n",
       "      <th>income_low</th>\n",
       "      <th>income_high</th>\n",
       "      <th>country_USA</th>\n",
       "      <th>country_India</th>\n",
       "      <th>country_UK</th>\n",
       "      <th>age</th>\n",
       "      <th>time_since_last_gift</th>\n",
       "      <th>time_since_first_gift</th>\n",
       "      <th>max_gift</th>\n",
       "      <th>min_gift</th>\n",
       "      <th>mean_gift</th>\n",
       "      <th>median_gift</th>\n",
       "    </tr>\n",
       "  </thead>\n",
       "  <tbody>\n",
       "    <tr>\n",
       "      <th>0</th>\n",
       "      <td>0</td>\n",
       "      <td>0</td>\n",
       "      <td>0</td>\n",
       "      <td>1</td>\n",
       "      <td>0</td>\n",
       "      <td>0</td>\n",
       "      <td>0</td>\n",
       "      <td>1</td>\n",
       "      <td>0</td>\n",
       "      <td>74</td>\n",
       "      <td>803</td>\n",
       "      <td>2121</td>\n",
       "      <td>102.0</td>\n",
       "      <td>46.0</td>\n",
       "      <td>75.714286</td>\n",
       "      <td>77.0</td>\n",
       "    </tr>\n",
       "    <tr>\n",
       "      <th>1</th>\n",
       "      <td>0</td>\n",
       "      <td>0</td>\n",
       "      <td>0</td>\n",
       "      <td>1</td>\n",
       "      <td>0</td>\n",
       "      <td>0</td>\n",
       "      <td>1</td>\n",
       "      <td>0</td>\n",
       "      <td>0</td>\n",
       "      <td>50</td>\n",
       "      <td>685</td>\n",
       "      <td>685</td>\n",
       "      <td>69.0</td>\n",
       "      <td>69.0</td>\n",
       "      <td>69.000000</td>\n",
       "      <td>69.0</td>\n",
       "    </tr>\n",
       "    <tr>\n",
       "      <th>2</th>\n",
       "      <td>0</td>\n",
       "      <td>0</td>\n",
       "      <td>0</td>\n",
       "      <td>1</td>\n",
       "      <td>0</td>\n",
       "      <td>0</td>\n",
       "      <td>1</td>\n",
       "      <td>0</td>\n",
       "      <td>0</td>\n",
       "      <td>48</td>\n",
       "      <td>550</td>\n",
       "      <td>2617</td>\n",
       "      <td>109.0</td>\n",
       "      <td>49.0</td>\n",
       "      <td>74.250000</td>\n",
       "      <td>69.5</td>\n",
       "    </tr>\n",
       "    <tr>\n",
       "      <th>3</th>\n",
       "      <td>0</td>\n",
       "      <td>0</td>\n",
       "      <td>0</td>\n",
       "      <td>1</td>\n",
       "      <td>0</td>\n",
       "      <td>0</td>\n",
       "      <td>1</td>\n",
       "      <td>0</td>\n",
       "      <td>0</td>\n",
       "      <td>29</td>\n",
       "      <td>1125</td>\n",
       "      <td>2216</td>\n",
       "      <td>105.0</td>\n",
       "      <td>97.0</td>\n",
       "      <td>101.000000</td>\n",
       "      <td>101.0</td>\n",
       "    </tr>\n",
       "    <tr>\n",
       "      <th>4</th>\n",
       "      <td>1</td>\n",
       "      <td>1</td>\n",
       "      <td>1</td>\n",
       "      <td>1</td>\n",
       "      <td>0</td>\n",
       "      <td>0</td>\n",
       "      <td>0</td>\n",
       "      <td>1</td>\n",
       "      <td>0</td>\n",
       "      <td>74</td>\n",
       "      <td>635</td>\n",
       "      <td>2637</td>\n",
       "      <td>126.0</td>\n",
       "      <td>75.0</td>\n",
       "      <td>101.636364</td>\n",
       "      <td>101.0</td>\n",
       "    </tr>\n",
       "  </tbody>\n",
       "</table>\n",
       "</div>"
      ],
      "text/plain": [
       "   target  gender_F  gender_M  income_average  income_low  income_high  \\\n",
       "0       0         0         0               1           0            0   \n",
       "1       0         0         0               1           0            0   \n",
       "2       0         0         0               1           0            0   \n",
       "3       0         0         0               1           0            0   \n",
       "4       1         1         1               1           0            0   \n",
       "\n",
       "   country_USA  country_India  country_UK  age  time_since_last_gift  \\\n",
       "0            0              1           0   74                   803   \n",
       "1            1              0           0   50                   685   \n",
       "2            1              0           0   48                   550   \n",
       "3            1              0           0   29                  1125   \n",
       "4            0              1           0   74                   635   \n",
       "\n",
       "   time_since_first_gift  max_gift  min_gift   mean_gift  median_gift  \n",
       "0                   2121     102.0      46.0   75.714286         77.0  \n",
       "1                    685      69.0      69.0   69.000000         69.0  \n",
       "2                   2617     109.0      49.0   74.250000         69.5  \n",
       "3                   2216     105.0      97.0  101.000000        101.0  \n",
       "4                   2637     126.0      75.0  101.636364        101.0  "
      ]
     },
     "execution_count": 59,
     "metadata": {},
     "output_type": "execute_result"
    }
   ],
   "source": [
    "basetable = pd.read_csv(path_data+'basetable_ch4-02.csv')\n",
    "basetable.head()"
   ]
  },
  {
   "cell_type": "code",
   "execution_count": 60,
   "metadata": {
    "tags": []
   },
   "outputs": [
    {
     "name": "stdout",
     "output_type": "stream",
     "text": [
      "Index(['target', 'gender_F', 'gender_M', 'income_average', 'income_low',\n",
      "       'income_high', 'country_USA', 'country_India', 'country_UK', 'age',\n",
      "       'time_since_last_gift', 'time_since_first_gift', 'max_gift', 'min_gift',\n",
      "       'mean_gift', 'median_gift'],\n",
      "      dtype='object')\n",
      "Index(['target', 'gender_F', 'gender_M', 'income_average', 'income_low',\n",
      "       'income_high', 'country_USA', 'country_India', 'country_UK', 'age',\n",
      "       'time_since_last_gift', 'time_since_first_gift', 'max_gift', 'min_gift',\n",
      "       'mean_gift', 'median_gift', 'disc_age', 'disc_time_since_last_gift',\n",
      "       'disc_time_since_first_gift', 'disc_max_gift', 'disc_min_gift',\n",
      "       'disc_mean_gift', 'disc_median_gift'],\n",
      "      dtype='object')\n"
     ]
    },
    {
     "data": {
      "text/plain": [
       "'\\nWell done!\\n'"
      ]
     },
     "execution_count": 60,
     "metadata": {},
     "output_type": "execute_result"
    }
   ],
   "source": [
    "# exercise 04\n",
    "\n",
    "\"\"\"\n",
    "Discretizing all variables\n",
    "\n",
    "Instead of discretizing the continuous variables one by one, it is easier to discretize them automatically. To get a list of all the columns in Python, you can use\n",
    "\n",
    "variables  = basetable.columns\n",
    "\n",
    "Only variables that are continuous should be discretized. You can verify whether variables should be discretized by checking whether they have more than a predefined number of different values.\n",
    "\"\"\"\n",
    "\n",
    "# Instructions\n",
    "\n",
    "\"\"\"\n",
    "\n",
    "    Make a list variables containing all the column names of the basetable.\n",
    "    Create a loop that checks all the variables in the list variables.\n",
    "    Complete the ifstatement such that only variables with more than 5 different values are discretized.\n",
    "    Group the continuous variables in 10 bins using the qcut method.\n",
    "\n",
    "\"\"\"\n",
    "\n",
    "# solution\n",
    "\n",
    "# Print the columns in the original basetable\n",
    "print(basetable.columns)\n",
    "\n",
    "# Get all the variable names except \"target\"\n",
    "variables = list(basetable.columns)\n",
    "variables.remove(\"target\")\n",
    "\n",
    "# Loop through all the variables and discretize in 10 bins if there are more than 5 different values\n",
    "for variable in variables:\n",
    "    if len(basetable.groupby(variable))>5:\n",
    "        new_variable = \"disc_\" + variable\n",
    "        basetable[new_variable] = pd.qcut(basetable[variable], 10)\n",
    "        \n",
    "# Print the columns in the new basetable\n",
    "print(basetable.columns)\n",
    "\n",
    "#----------------------------------#\n",
    "\n",
    "# Conclusion\n",
    "\n",
    "\"\"\"\n",
    "Well done!\n",
    "\"\"\""
   ]
  },
  {
   "cell_type": "code",
   "execution_count": 61,
   "metadata": {},
   "outputs": [],
   "source": [
    "basetable = pd.read_csv(path_data+'basetable_ex2_4.csv')"
   ]
  },
  {
   "cell_type": "code",
   "execution_count": 62,
   "metadata": {
    "tags": []
   },
   "outputs": [
    {
     "name": "stdout",
     "output_type": "stream",
     "text": [
      "disc_number_gift\n",
      "(0, 5]      13808\n",
      "(5, 10]     10220\n",
      "(10, 20]      972\n",
      "dtype: int64\n"
     ]
    },
    {
     "data": {
      "text/plain": [
       "\"\\nExcellent! Notice that the bins aren't approximately equally sized anymore.\\n\""
      ]
     },
     "execution_count": 62,
     "metadata": {},
     "output_type": "execute_result"
    }
   ],
   "source": [
    "# exercise 05\n",
    "\n",
    "\"\"\"\n",
    "Making clean cuts\n",
    "\n",
    "The qcut method divides the variable in n_bins equal bins. In some cases, however, it is nice to choose your own bins. The method cut in python allows you to choose your own bins.\n",
    "\"\"\"\n",
    "\n",
    "# Instructions\n",
    "\n",
    "\"\"\"\n",
    "\n",
    "    Discretize the variable number_gift in three bins with borders 0 and 5, 5 and 10, 10 and 20 and assign this variable to a new column called disc_number_gift.\n",
    "    Count the number of observations in each group.\n",
    "\n",
    "\"\"\"\n",
    "\n",
    "# solution\n",
    "\n",
    "# Discretize the variable \n",
    "basetable[\"disc_number_gift\"] = pd.cut(basetable['number_gift'],[0, 5, 10, 20])\n",
    "\n",
    "# Count the number of observations per group\n",
    "print(basetable.groupby(\"disc_number_gift\").size())\n",
    "\n",
    "#----------------------------------#\n",
    "\n",
    "# Conclusion\n",
    "\n",
    "\"\"\"\n",
    "Excellent! Notice that the bins aren't approximately equally sized anymore.\n",
    "\"\"\""
   ]
  },
  {
   "cell_type": "code",
   "execution_count": 63,
   "metadata": {},
   "outputs": [],
   "source": [
    "def reverse_one_hot(df):\n",
    "    return df.idxmax(axis=1)\n"
   ]
  },
  {
   "cell_type": "code",
   "execution_count": 64,
   "metadata": {},
   "outputs": [],
   "source": [
    "basetable = pd.read_csv(path_data+'basetable_ch4-02.csv')\n",
    "\n",
    "basetable['income'] = reverse_one_hot(basetable[['income_high', 'income_average', 'income_low']])"
   ]
  },
  {
   "cell_type": "code",
   "execution_count": 65,
   "metadata": {
    "tags": []
   },
   "outputs": [
    {
     "name": "stdout",
     "output_type": "stream",
     "text": [
      "           income  Incidence\n",
      "0  income_average   0.049064\n",
      "1     income_high   0.061402\n",
      "2      income_low   0.042356\n"
     ]
    },
    {
     "data": {
      "text/plain": [
       "\"\\nGreat job! You can observe that the higher a donor's income, the more likely he is to donate for the campaign.\\n\""
      ]
     },
     "execution_count": 65,
     "metadata": {},
     "output_type": "execute_result"
    }
   ],
   "source": [
    "# exercise 06\n",
    "\n",
    "\"\"\"\n",
    "Calculating average incidences\n",
    "\n",
    "The most important column in the predictor insight graph table is the target incidence column. This column shows the average target value for each group.\n",
    "\"\"\"\n",
    "\n",
    "# Instructions\n",
    "\n",
    "\"\"\"\n",
    "\n",
    "    Create a DataFrame basetable_income that only contains the variables target and income.\n",
    "    Group this DataFrame by income.\n",
    "    Calculate the average target incidence for each group in income.\n",
    "\n",
    "\"\"\"\n",
    "\n",
    "# solution\n",
    "\n",
    "# Select the income and target columns\n",
    "basetable_income = basetable[[\"target\",\"income\"]]\n",
    "\n",
    "# Group basetable_income by income\n",
    "groups = basetable_income.groupby(\"income\")\n",
    "\n",
    "# Calculate the target incidence and print the result\n",
    "incidence = groups[\"target\"].agg(Incidence = 'mean').reset_index()\n",
    "print(incidence)\n",
    "\n",
    "#----------------------------------#\n",
    "\n",
    "# Conclusion\n",
    "\n",
    "\"\"\"\n",
    "Great job! You can observe that the higher a donor's income, the more likely he is to donate for the campaign.\n",
    "\"\"\""
   ]
  },
  {
   "cell_type": "code",
   "execution_count": 66,
   "metadata": {},
   "outputs": [],
   "source": [
    "def create_pig_table(df, target, variable):\n",
    "    # Group by the variable you want to plot\n",
    "    groups = df[[target,variable]].groupby(variable)\n",
    "    # Calculate the size and incidence of each group\n",
    "    pig_table = groups[target].agg({'Incidence' : np.mean,'Size' : np.size}).reset_index()\n",
    "    return pig_table"
   ]
  },
  {
   "cell_type": "code",
   "execution_count": 67,
   "metadata": {},
   "outputs": [
    {
     "data": {
      "text/plain": [
       "gender\n",
       "gender_F    70000\n",
       "Name: count, dtype: int64"
      ]
     },
     "execution_count": 67,
     "metadata": {},
     "output_type": "execute_result"
    }
   ],
   "source": [
    "basetable['gender'] = reverse_one_hot(basetable[['gender_F', 'gender_M']])\n",
    "basetable.gender.value_counts()"
   ]
  },
  {
   "cell_type": "code",
   "execution_count": 68,
   "metadata": {
    "tags": []
   },
   "outputs": [
    {
     "name": "stdout",
     "output_type": "stream",
     "text": [
      "     gender  Incidence   Size\n",
      "0  gender_F   0.049686  70000\n"
     ]
    },
    {
     "data": {
      "text/plain": [
       "'\\nNice! The predictor insight graph table shows that females are more likely to donate than males.\\n'"
      ]
     },
     "execution_count": 68,
     "metadata": {},
     "output_type": "execute_result"
    }
   ],
   "source": [
    "# exercise 07\n",
    "\n",
    "\"\"\"\n",
    "Constructing the predictor insight graph table\n",
    "\n",
    "In the previous exercise you learned how to calculate the incidence column of the predictor insight graph table. In this exercise, you will also add the size of the groups, and wrap everything in a function that returns the predictor insight graph table for a given variable.\n",
    "\"\"\"\n",
    "\n",
    "# Instructions\n",
    "\n",
    "\"\"\"\n",
    "\n",
    "    Group the basetable by variable.\n",
    "    Calculate the predictor insight graph table by calculating the target incidence and group sizes.\n",
    "    Use the function create_pig_table to calculate the predictor insight graph table for the variable \"gender\".\n",
    "\n",
    "\"\"\"\n",
    "\n",
    "# solution\n",
    "\n",
    "# Function that creates predictor insight graph table\n",
    "def create_pig_table(basetable, target, variable):\n",
    "  \n",
    "    # Create groups for each variable\n",
    "    groups = basetable[[target,variable]].groupby(variable)\n",
    "    \n",
    "    # Calculate size and target incidence for each group\n",
    "    pig_table = groups[target].agg(Incidence = 'mean', Size = 'count').reset_index()\n",
    "    \n",
    "    # Return the predictor insight graph table\n",
    "    return pig_table\n",
    "\n",
    "# Calculate the predictor insight graph table for the variable gender\n",
    "pig_table_gender = create_pig_table(basetable, \"target\", 'gender')\n",
    "\n",
    "# Print the result\n",
    "print(pig_table_gender)\n",
    "\n",
    "#----------------------------------#\n",
    "\n",
    "# Conclusion\n",
    "\n",
    "\"\"\"\n",
    "Nice! The predictor insight graph table shows that females are more likely to donate than males.\n",
    "\"\"\""
   ]
  },
  {
   "cell_type": "code",
   "execution_count": 69,
   "metadata": {},
   "outputs": [],
   "source": [
    "# Get all the variable names except \"target\"\n",
    "variables = list(basetable.columns)\n",
    "variables.remove(\"target\")\n",
    "\n",
    "# Loop through all the variables and discretize in 10 bins if there are more than 5 different values\n",
    "for variable in variables:\n",
    "    if len(basetable.groupby(variable))>5:\n",
    "        new_variable = \"disc_\" + variable\n",
    "        basetable[new_variable] = pd.qcut(basetable[variable], 10)"
   ]
  },
  {
   "cell_type": "code",
   "execution_count": 70,
   "metadata": {
    "tags": []
   },
   "outputs": [
    {
     "name": "stdout",
     "output_type": "stream",
     "text": [
      "  disc_time_since_last_gift  Incidence  Size\n",
      "0           (31.999, 319.0]   0.088290  7011\n",
      "1            (319.0, 462.0]   0.069393  7018\n",
      "2            (462.0, 574.0]   0.052864  7018\n",
      "3            (574.0, 657.0]   0.065334  7056\n",
      "4            (657.0, 737.0]   0.059402  6919\n",
      "5            (737.0, 833.0]   0.045092  7030\n",
      "6            (833.0, 933.0]   0.036995  6974\n",
      "7           (933.0, 1051.0]   0.031451  6995\n",
      "8          (1051.0, 1209.1]   0.027368  6979\n",
      "9          (1209.1, 2518.0]   0.020429  7000\n"
     ]
    },
    {
     "data": {
      "text/plain": [
       "'\\nGreat job! The predictor insight graph table shows that people who donated recently are more likely to donate again.\\n'"
      ]
     },
     "execution_count": 70,
     "metadata": {},
     "output_type": "execute_result"
    }
   ],
   "source": [
    "# exercise 08\n",
    "\n",
    "\"\"\"\n",
    "Grouping all predictor insight graph tables\n",
    "\n",
    "In the previous exercise, you constructed a function that calculates the predictor insight graph table for a given variable as follows:\n",
    "\n",
    "pig_table = create_pig_table(basetable, \"target\",\"variable\")\n",
    "\n",
    "If you want to calculate the predictor insight graph table for many variables at once, it is a good idea to store them in a dictionary. You can create a new dictionary using dictionary = {}, add elements with a key using dictionary[\"key\"] = value and retrieve elements using the key print(dictionary[\"key\"]).\n",
    "\"\"\"\n",
    "\n",
    "# Instructions\n",
    "\n",
    "\"\"\"\n",
    "\n",
    "    Create an empty dictionary pig_tables.\n",
    "    For each variable, create a predictor insight graph table.\n",
    "    For each variable, add this predictor insight graph table to the dictionary, with as key the name of the variable.\n",
    "    Print the predictor insight graph table of disc_time_since_last_gift.\n",
    "\n",
    "\"\"\"\n",
    "\n",
    "# solution\n",
    "\n",
    "# Create the list of variables for our predictor insight graph tables\n",
    "variables = [\"income\",\"gender\",\"disc_mean_gift\",\"disc_time_since_last_gift\"]\n",
    "\n",
    "# Create an empty dictionary\n",
    "pig_tables = {}\n",
    "\n",
    "# Loop through the variables\n",
    "for variable in variables:\n",
    "  \n",
    "    # Create a predictor insight graph table\n",
    "    pig_table = create_pig_table(basetable, 'target', variable)\n",
    "    \n",
    "    # Add the table to the dictionary\n",
    "    pig_tables[variable] = pig_table\n",
    "\n",
    "# Print the predictor insight graph table of the variable \"disc_time_since_last_gift\"\n",
    "print(pig_tables[\"disc_time_since_last_gift\"])\n",
    "\n",
    "#----------------------------------#\n",
    "\n",
    "# Conclusion\n",
    "\n",
    "\"\"\"\n",
    "Great job! The predictor insight graph table shows that people who donated recently are more likely to donate again.\n",
    "\"\"\""
   ]
  },
  {
   "cell_type": "code",
   "execution_count": 71,
   "metadata": {},
   "outputs": [],
   "source": [
    "pig_table = pd.read_csv(path_data+'pig_table.csv')\n",
    "pig_table.iloc[0,2] = 0.051\n",
    "pig_table.iloc[1,2] = 0.051\n",
    "pig_table.iloc[2,2] = 0.048"
   ]
  },
  {
   "cell_type": "code",
   "execution_count": 72,
   "metadata": {},
   "outputs": [
    {
     "data": {
      "text/html": [
       "<div>\n",
       "<style scoped>\n",
       "    .dataframe tbody tr th:only-of-type {\n",
       "        vertical-align: middle;\n",
       "    }\n",
       "\n",
       "    .dataframe tbody tr th {\n",
       "        vertical-align: top;\n",
       "    }\n",
       "\n",
       "    .dataframe thead th {\n",
       "        text-align: right;\n",
       "    }\n",
       "</style>\n",
       "<table border=\"1\" class=\"dataframe\">\n",
       "  <thead>\n",
       "    <tr style=\"text-align: right;\">\n",
       "      <th></th>\n",
       "      <th>Country</th>\n",
       "      <th>Size</th>\n",
       "      <th>Incidence</th>\n",
       "    </tr>\n",
       "  </thead>\n",
       "  <tbody>\n",
       "    <tr>\n",
       "      <th>0</th>\n",
       "      <td>India</td>\n",
       "      <td>49849</td>\n",
       "      <td>0.051</td>\n",
       "    </tr>\n",
       "    <tr>\n",
       "      <th>1</th>\n",
       "      <td>UK</td>\n",
       "      <td>10057</td>\n",
       "      <td>0.051</td>\n",
       "    </tr>\n",
       "    <tr>\n",
       "      <th>2</th>\n",
       "      <td>USA</td>\n",
       "      <td>40094</td>\n",
       "      <td>0.048</td>\n",
       "    </tr>\n",
       "  </tbody>\n",
       "</table>\n",
       "</div>"
      ],
      "text/plain": [
       "  Country   Size  Incidence\n",
       "0   India  49849      0.051\n",
       "1      UK  10057      0.051\n",
       "2     USA  40094      0.048"
      ]
     },
     "execution_count": 72,
     "metadata": {},
     "output_type": "execute_result"
    }
   ],
   "source": [
    "pig_table"
   ]
  },
  {
   "cell_type": "code",
   "execution_count": 73,
   "metadata": {
    "tags": []
   },
   "outputs": [
    {
     "data": {
      "image/png": "[encoded data removed]",
      "text/plain": [
       "<Figure size 640x480 with 1 Axes>"
      ]
     },
     "metadata": {},
     "output_type": "display_data"
    },
    {
     "data": {
      "text/plain": [
       "'\\nGreat work!\\n'"
      ]
     },
     "execution_count": 73,
     "metadata": {},
     "output_type": "execute_result"
    }
   ],
   "source": [
    "# exercise 09\n",
    "\n",
    "\"\"\"\n",
    "Plotting the incidences\n",
    "\n",
    "The most important element of the predictor insight graph are the incidence values. For each group in the population with respect to a given variable, the incidence values reflect the percentage of targets in that group. In this exercise, you will write a python function that plots the incidence values of a variable, given the predictor insight graph table.\n",
    "\"\"\"\n",
    "\n",
    "# Instructions\n",
    "\n",
    "\"\"\"\n",
    "\n",
    "    Select the right column in the predictor insight graph table and plot this column.\n",
    "---\n",
    "\n",
    "    The predictor insight graph table is given in pig_table. Use the function plot_incidence to show the predictor insight graph of the variable \"country\".\n",
    "\n",
    "\"\"\"\n",
    "\n",
    "# solution\n",
    "import matplotlib.pyplot as plt\n",
    "import numpy as np\n",
    "# The function to plot a predictor insight graph.\n",
    "def plot_incidence(pig_table, variable):\n",
    "    \n",
    "    # Plot the incidence line\n",
    "    pig_table[\"Incidence\"].plot()\n",
    "    \n",
    "    # Formatting the predictor insight graph\n",
    "    plt.xticks(np.arange(len(pig_table)), pig_table[variable])\n",
    "    plt.xlim([-0.5, len(pig_table) - 0.5])\n",
    "    plt.ylim([0, max(pig_table[\"Incidence\"]*2)])\n",
    "    plt.ylabel(\"Incidence\", rotation=0, rotation_mode=\"anchor\", ha=\"right\")\n",
    "    plt.xlabel(variable)\n",
    "    \n",
    "    # Show the graph\n",
    "    plt.show()\n",
    "\n",
    "# Apply the function for the variable \"country\".\n",
    "plot_incidence(pig_table, \"Country\")\n",
    "\n",
    "#----------------------------------#\n",
    "\n",
    "# Conclusion\n",
    "\n",
    "\"\"\"\n",
    "Great work!\n",
    "\"\"\""
   ]
  },
  {
   "cell_type": "code",
   "execution_count": 74,
   "metadata": {
    "tags": []
   },
   "outputs": [
    {
     "data": {
      "image/png": "[encoded data removed]",
      "text/plain": [
       "<Figure size 640x480 with 2 Axes>"
      ]
     },
     "metadata": {},
     "output_type": "display_data"
    },
    {
     "data": {
      "text/plain": [
       "'\\nGreat work!\\n'"
      ]
     },
     "execution_count": 74,
     "metadata": {},
     "output_type": "execute_result"
    }
   ],
   "source": [
    "# exercise 10\n",
    "\n",
    "\"\"\"\n",
    "Plotting the group sizes\n",
    "\n",
    "The predictor insight graph gives information about predictive variables. Each variable divides the population in several groups. The predictor insight graph has a line that shows the average target incidence for each group, and a bar that shows the group sizes. In this exercise, you will learn how to write and apply a function that plots a predictor insight graph, given a predictor insight graph table.\n",
    "\"\"\"\n",
    "\n",
    "# Instructions\n",
    "\n",
    "\"\"\"\n",
    "\n",
    "    Plot the bars that show the Size of each group.\n",
    "    Plot the incidence line that shows the average target incidence of each group.\n",
    "---\n",
    "\n",
    "\"\"\"\n",
    "\n",
    "# solution\n",
    "\n",
    "# The function to plot a predictor insight graph\n",
    "def plot_pig(pig_table, variable):\n",
    "    \n",
    "    # Plot formatting\n",
    "    plt.ylabel(\"Size\", rotation=0, rotation_mode=\"anchor\", ha=\"right\")\n",
    "    \n",
    "    # Plot the bars with sizes \n",
    "    pig_table[\"Size\"].plot(kind=\"bar\", width=0.5, color=\"lightgray\", edgecolor=\"none\") \n",
    "    \n",
    "    # Plot the incidence line on secondary axis\n",
    "    pig_table[\"Incidence\"].plot(secondary_y=True)\n",
    "    \n",
    "    # Plot formatting\n",
    "    plt.xticks(np.arange(len(pig_table)), pig_table[variable], rotation=50)\n",
    "    plt.xlim([-0.5, len(pig_table) - 0.5])\n",
    "    plt.ylabel(\"Incidence\", rotation=0, rotation_mode=\"anchor\", ha=\"left\")\n",
    "    \n",
    "    # Show the graph\n",
    "    plt.show()\n",
    "    \n",
    "# Apply the function for the variable \"country\"\n",
    "plot_pig(pig_table, \"Country\")\n",
    "\n",
    "#----------------------------------#\n",
    "\n",
    "# Conclusion\n",
    "\n",
    "\"\"\"\n",
    "Great work!\n",
    "\"\"\""
   ]
  },
  {
   "cell_type": "code",
   "execution_count": 75,
   "metadata": {},
   "outputs": [
    {
     "data": {
      "image/png": "[encoded data removed]",
      "text/plain": [
       "<Figure size 640x480 with 2 Axes>"
      ]
     },
     "metadata": {},
     "output_type": "display_data"
    },
    {
     "data": {
      "image/png": "[encoded data removed]",
      "text/plain": [
       "<Figure size 640x480 with 2 Axes>"
      ]
     },
     "metadata": {},
     "output_type": "display_data"
    },
    {
     "data": {
      "image/png": "[encoded data removed]",
      "text/plain": [
       "<Figure size 640x480 with 2 Axes>"
      ]
     },
     "metadata": {},
     "output_type": "display_data"
    },
    {
     "data": {
      "image/png": "[encoded data removed]",
      "text/plain": [
       "<Figure size 640x480 with 2 Axes>"
      ]
     },
     "metadata": {},
     "output_type": "display_data"
    },
    {
     "data": {
      "text/plain": [
       "'\\nExcellent job!\\n'"
      ]
     },
     "execution_count": 75,
     "metadata": {},
     "output_type": "execute_result"
    }
   ],
   "source": [
    "# exercise 11\n",
    "\n",
    "\"\"\"\n",
    "Putting it all together\n",
    "\n",
    "In the previous exercises, you defined a function create_pig_table that, given a basetable and a predictor, creates a predictor insight graph table for this predictor:\n",
    "\n",
    "pig_table = create_pig_table(basetable,target,variable)\n",
    "\n",
    "Next, you wrote a function plot_pig that plots the predictor insight graph based on this predictor insight graph table\n",
    "\n",
    "plot_pig(pig_table, variable)\n",
    "\n",
    "Often, you want to make many predictor insight graphs at once. In this exercise, you will learn how to automatically do this using a for loop.\n",
    "\"\"\"\n",
    "\n",
    "# Instructions\n",
    "\n",
    "\"\"\"\n",
    "\n",
    "    For each variable in variables, create a predictor insight graph table. The basetable is loaded in basetable.\n",
    "    For each variable in variables, plot the predictor insight graph.\n",
    "\n",
    "\"\"\"\n",
    "\n",
    "# solution\n",
    "\n",
    "# Variables you want to make predictor insight graph tables for\n",
    "variables = [\"income\",\"gender\",\"disc_mean_gift\",\"disc_time_since_last_gift\"]\n",
    "\n",
    "# Loop through the variables\n",
    "for variable in variables: \n",
    "    \n",
    "    # Create the predictor insight graph table\n",
    "    pig_table = create_pig_table(basetable, \"target\", variable)\n",
    "    \n",
    "    # Plot the predictor insight graph\n",
    "    plot_pig(pig_table, variable)\n",
    "\n",
    "#----------------------------------#\n",
    "\n",
    "# Conclusion\n",
    "\n",
    "\"\"\"\n",
    "Excellent job!\n",
    "\"\"\""
   ]
  }
 ],
 "metadata": {
  "kernelspec": {
   "display_name": "Python 3 (ipykernel)",
   "language": "python",
   "name": "python3"
  },
  "language_info": {
   "codemirror_mode": {
    "name": "ipython",
    "version": 3
   },
   "file_extension": ".py",
   "mimetype": "text/x-python",
   "name": "python",
   "nbconvert_exporter": "python",
   "pygments_lexer": "ipython3",
   "version": "3.11.5"
  }
 },
 "nbformat": 4,
 "nbformat_minor": 4
}
