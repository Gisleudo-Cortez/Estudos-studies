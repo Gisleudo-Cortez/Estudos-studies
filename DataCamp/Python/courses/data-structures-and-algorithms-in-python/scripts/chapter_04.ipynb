{
 "cells": [
  {
   "cell_type": "code",
   "execution_count": 1,
   "metadata": {
    "editable": true,
    "slideshow": {
     "slide_type": ""
    },
    "tags": []
   },
   "outputs": [],
   "source": [
    "# run this to shorten the data import from the files\n",
    "import os\n",
    "cwd = os.path.dirname(os.getcwd())+'/'\n",
    "path_data = os.path.join(os.path.dirname(os.getcwd()), 'datasets/')\n"
   ]
  },
  {
   "cell_type": "markdown",
   "metadata": {},
   "source": [
    "# Sorting numbers using bubble sort\n",
    "\n",
    "Given the following list of numbers, what sequence will you follow to order them using bubble sort?\n",
    "\n",
    "![Number_List](/home/nero/Documents/Estudos/DataCamp/Python/courses/data-structures-and-algorithms-in-python/bubble_sort_exercise.png)\n",
    "\n",
    "    12,3,1,11,5\n",
    "\n",
    "    3,12,1,11,5\n",
    "\n",
    "    3,1,12,11,5\n",
    "\n",
    "    3,1,11,12,5\n",
    "\n",
    "    3,1,11,5,12\n",
    "\n",
    "    1,3,11,5,12\n",
    "\n",
    "    1,3,5,11,12\n"
   ]
  },
  {
   "cell_type": "code",
   "execution_count": 13,
   "metadata": {},
   "outputs": [
    {
     "name": "stdout",
     "output_type": "stream",
     "text": [
      "[1, 2, 4, 5, 7, 9]\n"
     ]
    },
    {
     "data": {
      "text/plain": [
       "'\\nCongratulations! You fixed the problem so that the numbers are sorted. Remember that it is an algorithm of O(n^2).\\n'"
      ]
     },
     "execution_count": 13,
     "metadata": {},
     "output_type": "execute_result"
    }
   ],
   "source": [
    "# exercise 01\n",
    "\n",
    "\"\"\"\n",
    "Correcting a bug in the bubble sort algorithm\n",
    "\n",
    "You have been given a program that sorts a list of numbers using the bubble sort algorithm. While testing it, you realize that the code is not correct. Could you correct the algorithm so that it works correctly?\n",
    "\"\"\"\n",
    "\n",
    "# Instructions\n",
    "\n",
    "\"\"\"\n",
    "\n",
    "    Correct the mistake in the assignment of the is_sorted variable.\n",
    "    Correct the mistake when checking the adjacent values.\n",
    "    Correct the mistake when updating the value for the list_length variable.\n",
    "\n",
    "\"\"\"\n",
    "\n",
    "# solution\n",
    "\n",
    "def bubble_sort(my_list):\n",
    "  list_length = len(my_list)\n",
    "  # Correct the mistake\n",
    "  is_sorted = False\n",
    "  while not is_sorted:\n",
    "    is_sorted = True\n",
    "    for i in range(list_length-1):\n",
    "      # Correct the mistake\n",
    "      if my_list[i] > my_list[i+1]:\n",
    "        my_list[i] , my_list[i+1] = my_list[i+1] , my_list[i]\n",
    "        is_sorted = False\n",
    "    # Correct the mistake\n",
    "    list_length -= 1\n",
    "  return my_list\n",
    "\n",
    "print(bubble_sort([5, 7, 9, 1, 4, 2]))\n",
    "\n",
    "#----------------------------------#\n",
    "\n",
    "# Conclusion\n",
    "\n",
    "\"\"\"\n",
    "Congratulations! You fixed the problem so that the numbers are sorted. Remember that it is an algorithm of O(n^2).\n",
    "\"\"\""
   ]
  },
  {
   "cell_type": "code",
   "execution_count": 14,
   "metadata": {
    "tags": []
   },
   "outputs": [
    {
     "name": "stdout",
     "output_type": "stream",
     "text": [
      "[2, 4, 6, 7, 8, 9]\n"
     ]
    },
    {
     "data": {
      "text/plain": [
       "'\\nWell done! You really know how selection sort works! Remember that this algorithm has a complexity of O(n^2).\\n'"
      ]
     },
     "execution_count": 14,
     "metadata": {},
     "output_type": "execute_result"
    }
   ],
   "source": [
    "# exercise 02\n",
    "\n",
    "\"\"\"\n",
    "Coding selection sort\n",
    "\n",
    "In the last video, you studied the selection sort algorithm.\n",
    "\n",
    "In this exercise, you will need to implement it by completing the selection_sort() function.\n",
    "\"\"\"\n",
    "\n",
    "# Instructions\n",
    "\n",
    "\"\"\"\n",
    "\n",
    "    Set lowest to the element of the list located at index i.\n",
    "    Iterate again over the list starting on the next position of the i variable.\n",
    "    Compare whether the element of the list located at index j is smaller than lowest.\n",
    "\n",
    "\"\"\"\n",
    "\n",
    "# solution\n",
    "\n",
    "def selection_sort(my_list):\n",
    "  list_length = len(my_list)\n",
    "  for i in range(list_length - 1):\n",
    "    # Set lowest to the element of the list located at index i\n",
    "    lowest = my_list[i]\n",
    "    index = i\n",
    "    # Iterate again over the list starting on the next position of the i variable\n",
    "    for j in range(i+1, list_length):\n",
    "      # Compare whether the element of the list located at index j is smaller than lowest\n",
    "      if my_list[j] < lowest:\n",
    "        index = j\n",
    "        lowest = my_list[j]\n",
    "    my_list[i] , my_list[index] = my_list[index] , my_list[i]\n",
    "  return my_list\n",
    "\n",
    "my_list = [6, 2, 9, 7, 4, 8] \n",
    "selection_sort(my_list)\n",
    "print(my_list)\n",
    "\n",
    "#----------------------------------#\n",
    "\n",
    "# Conclusion\n",
    "\n",
    "\"\"\"\n",
    "Well done! You really know how selection sort works! Remember that this algorithm has a complexity of O(n^2).\n",
    "\"\"\""
   ]
  },
  {
   "cell_type": "markdown",
   "metadata": {},
   "source": [
    "# Sorting cards using insertion sort\n",
    "\n",
    "You are playing cards with a Spanish deck of cards, where each card has a number. You are given the following cards:\n",
    "\n",
    "![Spanish_cards](/home/nero/Documents/Estudos/DataCamp/Python/courses/data-structures-and-algorithms-in-python/Spanish_cards.png)\n",
    "\n",
    "You like having them ordered in your hands, and you realize that insertion sort is a good way of sorting them.\n",
    "\n",
    "What sequence will you follow if you sort them in ascending order using insertion sort?\n",
    "\n",
    "\n",
    "    Order the cards using insertion sort so that they end in ascending order.\n",
    "\n",
    "    12,3,1,11,5\n",
    "\n",
    "    3,12,1,11,5\n",
    "\n",
    "    1,3,12,11,5\n",
    "\n",
    "    1,3,11,12,5\n",
    "\n",
    "    1,3,5,11,12"
   ]
  },
  {
   "cell_type": "markdown",
   "metadata": {},
   "source": [
    "# Merge sort: true or false?\n",
    "\n",
    "In the video, you learned the merge sort algorithm.\n",
    "\n",
    "Practice your understanding of merge sort in this exercise: can you correctly classify the statements shown?\n",
    "\n",
    "\n",
    "    Classify the statements on the right as true or false.\n",
    "\n",
    "![Answer](/home/nero/Documents/Estudos/DataCamp/Python/courses/data-structures-and-algorithms-in-python/answer.png)\n",
    "\n",
    "**Recall that merge sort has a better time complexity than bubble sort, selection sort, and insertion sort.**"
   ]
  },
  {
   "cell_type": "code",
   "execution_count": 15,
   "metadata": {
    "tags": []
   },
   "outputs": [
    {
     "name": "stdout",
     "output_type": "stream",
     "text": [
      "[1, 4, 20, 22, 30, 35, 40, 50, 90]\n"
     ]
    },
    {
     "data": {
      "text/plain": [
       "'\\nCongratulations! You fixed the problem! Remember that merge sort is an algorithm of O(n log n) complexity.\\n'"
      ]
     },
     "execution_count": 15,
     "metadata": {},
     "output_type": "execute_result"
    }
   ],
   "source": [
    "# exercise 03\n",
    "\n",
    "\"\"\"\n",
    "Correcting a bug in the merge sort algorithm\n",
    "\n",
    "You have been given a program that sorts a list of numbers using the merge sort algorithm. While testing the merge_sort() function, you realize that the code is not correct. Can you correct the algorithm so that it works correctly?\n",
    "\"\"\"\n",
    "\n",
    "# Instructions\n",
    "\n",
    "\"\"\"\n",
    "\n",
    "    Correct the mistake when assigning the left half.\n",
    "    Correct the mistake when assigning the right half.\n",
    "    Correct the mistake when updating the pointer for the left half.\n",
    "    Correct the mistake when updating the pointer for the right half.\n",
    "\n",
    "\"\"\"\n",
    "\n",
    "# solution\n",
    "\n",
    "def merge_sort(my_list):\n",
    "    if len(my_list) > 1: \n",
    "        mid = len(my_list)//2\n",
    "        left_half = my_list[:mid]\n",
    "        right_half = my_list[mid:]\n",
    "        \n",
    "        merge_sort(left_half)\n",
    "        merge_sort(right_half)\n",
    " \n",
    "        i = j = k = 0\n",
    " \n",
    "        while i < len(left_half) and j < len(right_half):\n",
    "            if left_half[i] < right_half[j]:\n",
    "        \t\t# Correct mistake when assigning left half\n",
    "                my_list[k] = left_half[i]                \n",
    "                i += 1\n",
    "            else:\n",
    "                # Correct mistake when assigning right half\n",
    "                my_list[k] = right_half[j]\n",
    "                j += 1\n",
    "            k += 1\n",
    "            \n",
    "        while i < len(left_half):\n",
    "            my_list[k] = left_half[i]\n",
    "            # Correct mistake when updating pointer for left half\n",
    "            i += 1\n",
    "            k += 1\n",
    " \n",
    "        while j < len(right_half):\n",
    "            my_list[k] = right_half[j]\n",
    "            # Correct mistake when updating pointer for right half\n",
    "            j += 1\n",
    "            k += 1\n",
    "\n",
    "my_list = [35,22,90,4,50,20,30,40,1]\n",
    "merge_sort(my_list)\n",
    "print(my_list)\n",
    "\n",
    "#----------------------------------#\n",
    "\n",
    "# Conclusion\n",
    "\n",
    "\"\"\"\n",
    "Congratulations! You fixed the problem! Remember that merge sort is an algorithm of O(n log n) complexity.\n",
    "\"\"\""
   ]
  },
  {
   "cell_type": "markdown",
   "metadata": {},
   "source": [
    "# Sorting numbers using quicksort\n",
    "\n",
    "In this video, you learned that the quicksort algorithm is a very efficient algorithm for sorting.\n",
    "\n",
    "Given the following list of numbers, what sequence will be followed to order them using quicksort?\n",
    "\n",
    "![Quick_sort](/home/nero/Documents/Estudos/DataCamp/Python/courses/data-structures-and-algorithms-in-python/quicksort_exercise.png)\n",
    "\n",
    "Recall the algorithm: \n",
    "\n",
    "![Quick_sort_gif](/home/nero/Documents/Estudos/DataCamp/Python/courses/data-structures-and-algorithms-in-python/quicksort_helper.gif)\n",
    "\n",
    "\n",
    "    Order the numbers using quicksort so that they end in ascending order.\n",
    "\n",
    "    8,14,9,1,5,4,3\n",
    "\n",
    "    8,3,9,1,5,4,14\n",
    "\n",
    "    8,3,4,1,5,9,14\n",
    "\n",
    "    5,3,4,1,8,9,14\n",
    "\n",
    "    1,3,4,5,8,9,14\n",
    "\n",
    "**Recall that quicksort is a very efficient algorithm for sorting and many programming languages implement it.**"
   ]
  },
  {
   "cell_type": "code",
   "execution_count": 18,
   "metadata": {
    "tags": []
   },
   "outputs": [
    {
     "name": "stdout",
     "output_type": "stream",
     "text": [
      "[2, 6, 7, 9]\n"
     ]
    },
    {
     "data": {
      "text/plain": [
       "'\\n\\n'"
      ]
     },
     "execution_count": 18,
     "metadata": {},
     "output_type": "execute_result"
    }
   ],
   "source": [
    "# exercise 04\n",
    "\n",
    "\"\"\"\n",
    "Implementing the quicksort algorithm\n",
    "\n",
    "In this exercise, you will implement the quicksort algorithm to sort a list of numbers.\n",
    "\n",
    "In the first step, you will implement the partition() function, which returns the index of the pivot after having processed the list of numbers so that all the elements that are to the left of the pivot are less than the pivot and all the elements that are to the right of the pivot are greater than the pivot.\n",
    "\n",
    "In the second step, you will implement the quicksort() function, which will call the partition() function.\n",
    "\"\"\"\n",
    "\n",
    "# Instructions\n",
    "\n",
    "\"\"\"\n",
    "\n",
    "    Iterate until the value pointed by left_pointer is greater than pivot or left_pointer is greater than last_index.\n",
    "    Swap the values for the elements located at the left_pointer and right_pointer.\n",
    "---\n",
    "\n",
    "    Call the partition() function with the appropriate parameters.\n",
    "    Call quicksort() on the elements to the left of the partition.\n",
    "\n",
    "\"\"\"\n",
    "\n",
    "# solution\n",
    "\n",
    "def partition(my_list, first_index, last_index):\n",
    "  pivot = my_list[first_index]\n",
    "  left_pointer = first_index + 1\n",
    "  right_pointer = last_index\n",
    " \n",
    "  while True:\n",
    "    # Iterate until the value pointed by left_pointer is greater than pivot or left_pointer is greater than last_index\n",
    "    while pivot < my_list[left_pointer] and last_index > my_list[left_pointer]:\n",
    "      left_pointer += 1\n",
    "    \n",
    "    while my_list[right_pointer] > pivot and right_pointer >= first_index:\n",
    "      right_pointer -= 1 \n",
    "    if left_pointer >= right_pointer:\n",
    "        break\n",
    "    # Swap the values for the elements located at the left_pointer and right_pointer\n",
    "    my_list[left_pointer], my_list[right_pointer] = my_list[right_pointer], my_list[left_pointer]\n",
    "   \n",
    "  my_list[first_index], my_list[right_pointer] = my_list[right_pointer], my_list[first_index]\n",
    "  return right_pointer\n",
    "\n",
    "#----------------------------------#\n",
    "\n",
    "def quicksort(my_list, first_index, last_index):\n",
    "  if first_index < last_index:\n",
    "    # Call the partition() function with the appropriate parameters\n",
    "    partition_index = partition(my_list, first_index, last_index)\n",
    "    # Call quicksort() on the elements to the left of the partition\n",
    "    quicksort(my_list, first_index , partition_index)\n",
    "    quicksort(my_list, partition_index + 1, last_index)\n",
    "    \n",
    "my_list = [6, 2, 9, 7] \n",
    "quicksort(my_list, 0, len(my_list) - 1)\n",
    "print(my_list)\n",
    "\n",
    "#----------------------------------#\n",
    "\n",
    "# Conclusion\n",
    "\n",
    "\"\"\"\n",
    "\n",
    "\"\"\""
   ]
  }
 ],
 "metadata": {
  "kernelspec": {
   "display_name": "Python 3 (ipykernel)",
   "language": "python",
   "name": "python3"
  },
  "language_info": {
   "codemirror_mode": {
    "name": "ipython",
    "version": 3
   },
   "file_extension": ".py",
   "mimetype": "text/x-python",
   "name": "python",
   "nbconvert_exporter": "python",
   "pygments_lexer": "ipython3",
   "version": "3.11.6"
  }
 },
 "nbformat": 4,
 "nbformat_minor": 4
}
