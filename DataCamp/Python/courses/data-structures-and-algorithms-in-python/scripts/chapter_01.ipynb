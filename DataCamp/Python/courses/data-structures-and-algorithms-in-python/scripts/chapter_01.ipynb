{
 "cells": [
  {
   "cell_type": "code",
   "execution_count": 1,
   "metadata": {
    "editable": true,
    "slideshow": {
     "slide_type": ""
    },
    "tags": []
   },
   "outputs": [],
   "source": [
    "# run this to shorten the data import from the files\n",
    "import os\n",
    "cwd = os.path.dirname(os.getcwd())+'/'\n",
    "path_data = os.path.join(os.path.dirname(os.getcwd()), 'datasets/')\n"
   ]
  },
  {
   "cell_type": "code",
   "execution_count": 13,
   "metadata": {},
   "outputs": [
    {
     "data": {
      "text/plain": [
       "'\\nCongratulations on implementing both the Node() and LinkedList() classes! These will be the building blocks for inserting and removing nodes in the following exercises.\\n'"
      ]
     },
     "execution_count": 13,
     "metadata": {},
     "output_type": "execute_result"
    }
   ],
   "source": [
    "# exercise 01\n",
    "\n",
    "\"\"\"\n",
    "Implementing a linked list\n",
    "\n",
    "In the video, you learned how to create singly linked lists by implementing the Node() class and the LinkedList() class.\n",
    "\n",
    "In this exercise, you will practice implementing both of these classes. In the first step, we will implement the Node() class, and in the second step the LinkedList() class. Are you ready?\n",
    "\"\"\"\n",
    "\n",
    "# Instructions\n",
    "\n",
    "\"\"\"\n",
    "\n",
    "    Store the value for the node in self.value.\n",
    "---\n",
    "    Instantiate the node without a next value.\n",
    "---\n",
    "    Instantiate your LinkedList() without a head and tail.\n",
    "\n",
    "\"\"\"\n",
    "\n",
    "# solution\n",
    "\n",
    "class Node:\n",
    "  def __init__(self, data):\n",
    "    # Store the value for the node\n",
    "    self.value = data\n",
    "\n",
    "#----------------------------------#\n",
    "\n",
    "class Node:\n",
    "  def __init__(self, data):\n",
    "    self.value = data\n",
    "    # Leave the node initially without a next value\n",
    "    self.next = None\n",
    "\n",
    "#----------------------------------#\n",
    "\n",
    "class LinkedList:\n",
    "  def __init__(self):\n",
    "    # Set the head and the tail with null values\n",
    "    self.head = None\n",
    "    self.tail = None\n",
    "\n",
    "#----------------------------------#\n",
    "\n",
    "# Conclusion\n",
    "\n",
    "\"\"\"\n",
    "Congratulations on implementing both the Node() and LinkedList() classes! These will be the building blocks for inserting and removing nodes in the following exercises.\n",
    "\"\"\""
   ]
  },
  {
   "cell_type": "code",
   "execution_count": 14,
   "metadata": {
    "tags": []
   },
   "outputs": [
    {
     "data": {
      "text/plain": [
       "'\\nCongratulations! You are now equipped to remove a node from a linked list. You will do it in the next exercise!\\n'"
      ]
     },
     "execution_count": 14,
     "metadata": {},
     "output_type": "execute_result"
    }
   ],
   "source": [
    "# exercise 02\n",
    "\n",
    "\"\"\"\n",
    "Inserting a node at the beginning of a linked list\n",
    "\n",
    "In the previous exercise, you learned how to implement a Node() and LinkedList() class.\n",
    "\n",
    "In this exercise, you will prepare the code for the insert_at_beginning() method to add a new node at the beginning of a linked list.\n",
    "\n",
    "Recall the Node() class:\n",
    "\n",
    "class Node:\n",
    "  def __init__(self, data):\n",
    "    self.data = data\n",
    "    self.next = None\n",
    "\n",
    "\"\"\"\n",
    "\n",
    "# Instructions\n",
    "\n",
    "\"\"\"\n",
    "\n",
    "    Create the new node.\n",
    "    Check whether the linked list has a head node.\n",
    "    If the linked list has a head node, point the next node of the new node to the head.\n",
    "\n",
    "\"\"\"\n",
    "\n",
    "# solution\n",
    "\n",
    "def insert_at_beginning(self, data):\n",
    "    # Create the new node\n",
    "    new_node = Node(data)\n",
    "    # Check whether the linked list has a head node\n",
    "    if self.head:\n",
    "      # Point the next node of the new node to the head\n",
    "      new_node.next = self.head\n",
    "      self.head = new_node\n",
    "    else:\n",
    "      self.tail = new_node      \n",
    "      self.head = new_node\n",
    "\n",
    "#----------------------------------#\n",
    "\n",
    "# Conclusion\n",
    "\n",
    "\"\"\"\n",
    "Congratulations! You are now equipped to remove a node from a linked list. You will do it in the next exercise!\n",
    "\"\"\""
   ]
  },
  {
   "cell_type": "code",
   "execution_count": 15,
   "metadata": {
    "tags": []
   },
   "outputs": [
    {
     "data": {
      "text/plain": [
       "'\\nCongratulations! You know how to remove a node at the beginning of a linked list. Nodes can also be removed from the end of linked lists.\\n'"
      ]
     },
     "execution_count": 15,
     "metadata": {},
     "output_type": "execute_result"
    }
   ],
   "source": [
    "# exercise 03\n",
    "\n",
    "\"\"\"\n",
    "Removing the first node from a linked list\n",
    "\n",
    "In the previous exercise, you learned how to insert a node at the beginning of a linked list.\n",
    "\n",
    "In this exercise, you will prepare the code for the remove_at_beginning() method. To do it, you will need to point the head of the linked list to the next node of the head.\n",
    "\n",
    "Recall the Node() class:\n",
    "\n",
    "class Node:\n",
    "  def __init__(self, data):\n",
    "    self.data = data\n",
    "    self.next = None\n",
    "\n",
    "\"\"\"\n",
    "\n",
    "# Instructions\n",
    "\n",
    "\"\"\"\n",
    "\n",
    "    In the remove_at_beginning() method, point the head to the next node of the head.\n",
    "\n",
    "\"\"\"\n",
    "\n",
    "# solution\n",
    "\n",
    "class LinkedList:\n",
    "  def __init__(self):\n",
    "    self.head = None\n",
    "    self.tail = None\n",
    "    \n",
    "  def remove_at_beginning(self):\n",
    "    # The \"next\" node of the head becomes the new head node\n",
    "    self.head = self.head.next\n",
    "\n",
    "#----------------------------------#\n",
    "\n",
    "# Conclusion\n",
    "\n",
    "\"\"\"\n",
    "Congratulations! You know how to remove a node at the beginning of a linked list. Nodes can also be removed from the end of linked lists.\n",
    "\"\"\""
   ]
  },
  {
   "cell_type": "markdown",
   "metadata": {},
   "source": [
    "# Big O Notation: true or false?\n",
    "\n",
    "In the video, you learned all about using mathematical expressions to describe the complexity of an algorithm.\n",
    "\n",
    "Practice your understanding of Big O notation in this exercise: can you correctly classify the statements shown?\n",
    "\n",
    "\n",
    "*    Classify the statements on the right as true or false.\n",
    "\n",
    "![Image](/home/nero/Documents/Estudos/DataCamp/Python/courses/data-structures-and-algorithms-in-python/ch01_01.png)\n",
    "\n",
    "**Congratulations! Remember that Big O notation measures how the increase in the input size increases the time taken to execute an algorithm.**"
   ]
  },
  {
   "cell_type": "code",
   "execution_count": 16,
   "metadata": {
    "tags": []
   },
   "outputs": [
    {
     "name": "stdout",
     "output_type": "stream",
     "text": [
      "green\n",
      "yellow\n",
      "blue\n",
      "pink\n"
     ]
    },
    {
     "data": {
      "text/plain": [
       "'\\nPerfect! The algorithm contains one iterator that, in the worst-case visits all the nodes of the linked list. This amounts to a complexity of O(n) for the whole algorithm.\\n'"
      ]
     },
     "execution_count": 16,
     "metadata": {},
     "output_type": "execute_result"
    }
   ],
   "source": [
    "# exercise 04\n",
    "\n",
    "\"\"\"\n",
    "Practicing with Big O Notation\n",
    "\n",
    "In this exercise, you will keep practicing your understanding of Big O notation.\n",
    "\n",
    "In the first step, you will create an algorithm that prints all the elements of the following list:\n",
    "\n",
    "colors = ['green', 'yellow', 'blue', 'pink']\n",
    "\n",
    "The algorithm will have an O(n) complexity.\n",
    "\n",
    "In the second and third steps, you will calculate the complexity of two algorithms.\n",
    "\"\"\"\n",
    "\n",
    "# Instructions\n",
    "\n",
    "\"\"\"\n",
    "\n",
    "    Iterate over the elements of the list.\n",
    "    Inside the loop, print the current element of the list.\n",
    "---\n",
    "Question\n",
    "\n",
    "The following algorithm shows you how to add a node at the beginning of a singly linked list using the Node() class and the insert_at_beginning() method. What is the complexity of this algorithm?\n",
    "\n",
    " def insert_at_beginning(self,data):\n",
    "    new_node = Node(data)\n",
    "    if self.head:\n",
    "      new_node.next = self.head\n",
    "      self.head = new_node\n",
    "    else:\n",
    "      self.tail = new_node      \n",
    "      self.head = new_node\n",
    "Answer [O(1)]\n",
    "---\n",
    "Question\n",
    "\n",
    "The following algorithm searches for a given value within a linked list. What is its complexity?\n",
    "\n",
    "This method uses the Node() class and search() method.\n",
    "\n",
    "def search(self, data):\n",
    "    current_node = self.head\n",
    "    while current_node:\n",
    "        if current_node.data == data:\n",
    "            return True\n",
    "        else:\n",
    "            current_node = current_node.next\n",
    "    return False\n",
    "Answer [O(n)]\n",
    "\"\"\"\n",
    "\n",
    "# solution\n",
    "\n",
    "colors = ['green', 'yellow', 'blue', 'pink']\n",
    "\n",
    "def linear(colors):\n",
    "  # Iterate the elements of the list\n",
    "  for c in colors:\n",
    "    # Print the current element of the list\n",
    "    print(c)\t\n",
    "\n",
    "linear(colors)\n",
    "\n",
    "#----------------------------------#\n",
    "\n",
    "# Conclusion\n",
    "\n",
    "\"\"\"\n",
    "Perfect! The algorithm contains one iterator that, in the worst-case visits all the nodes of the linked list. This amounts to a complexity of O(n) for the whole algorithm.\n",
    "\"\"\""
   ]
  },
  {
   "cell_type": "code",
   "execution_count": 17,
   "metadata": {
    "tags": []
   },
   "outputs": [
    {
     "data": {
      "text/plain": [
       "\"\\nCongratulations! You successfully implemented a stack with a singly linked list. Let's continue with the pop() function.\\n\""
      ]
     },
     "execution_count": 17,
     "metadata": {},
     "output_type": "execute_result"
    }
   ],
   "source": [
    "# exercise 05\n",
    "\n",
    "\"\"\"\n",
    "Implementing a Stack with the push method\n",
    "\n",
    "In the last video, you learned how to implement stacks in Python. As you saw, stacks follow the LIFO principle; the last element inserted is the first element to come out.\n",
    "\n",
    "In this exercise, you will follow two steps to implement a stack with the push() operation using a singly linked list. You will also define a new attribute called size to track the number of items in the stack. You will start coding the class to build a Stack(), and after that, you will implement the push() operation.\n",
    "\n",
    "To program this, you will use the Node() class that has the following code:\n",
    "\n",
    "class Node:\n",
    "  def __init__(self, data):\n",
    "    self.data = data\n",
    "    self.next = None\n",
    "\n",
    "\"\"\"\n",
    "\n",
    "# Instructions\n",
    "\n",
    "\"\"\"\n",
    "\n",
    "    Assign no value to the top node and set self.size with zero elements.\n",
    "---\n",
    "\n",
    "    Create a Node() using the data argument.\n",
    "    Set the created node to the top node.\n",
    "    Increase by one the size of the stack.\n",
    "\n",
    "\"\"\"\n",
    "\n",
    "# solution\n",
    "\n",
    "class Stack:\n",
    "  def __init__(self):\n",
    "    self.top = None\n",
    "    self.size = 0\n",
    "    \n",
    "  def push(self, data):\n",
    "    # Create a node with the data\n",
    "    new_node = Node(data)\n",
    "    if self.top:\n",
    "      new_node.next = self.top\n",
    "    # Set the created node to the top node\n",
    "    self.top = new_node\n",
    "    # Increase the size of the stack by one\n",
    "    self.size += 1\n",
    "\n",
    "#----------------------------------#\n",
    "\n",
    "# Conclusion\n",
    "\n",
    "\"\"\"\n",
    "Congratulations! You successfully implemented a stack with a singly linked list. Let's continue with the pop() function.\n",
    "\"\"\""
   ]
  },
  {
   "cell_type": "code",
   "execution_count": 18,
   "metadata": {
    "tags": []
   },
   "outputs": [
    {
     "data": {
      "text/plain": [
       "'\\nGreat! Hopefully, you can see that pushing an element onto a stack and popping an element from a stack using singly linked lists is super fast!\\n'"
      ]
     },
     "execution_count": 18,
     "metadata": {},
     "output_type": "execute_result"
    }
   ],
   "source": [
    "# exercise 06\n",
    "\n",
    "\"\"\"\n",
    "Implementing the pop method for a stack\n",
    "\n",
    "In this exercise, you will implement the pop() operation for a stack. pop() will be used to remove an element from the top of the stack. Again, we will consider the size attribute to know the number of elements in the stack.\n",
    "\n",
    "Recall the Node() class:\n",
    "\n",
    "class Node:\n",
    "  def __init__(self, data):\n",
    "    self.data = data\n",
    "    self.next = None\n",
    "\n",
    "\"\"\"\n",
    "\n",
    "# Instructions\n",
    "\n",
    "\"\"\"\n",
    "\n",
    "    Check if there is a top element in the stack.\n",
    "    Decrement the size of the stack by one if there isn't a top element.\n",
    "    Update the new value for the top node.\n",
    "---\n",
    "Question\n",
    "\n",
    "The following code shows you how to push() an element onto a stack and pop() an element from a stack using singly linked lists. Can you calculate the complexity of both methods using Big O Notation?\n",
    "\n",
    "  def push(self, data):\n",
    "    new_node = Node(data)\n",
    "    if self.top:\n",
    "      new_node.next = self.top\n",
    "    self.top = new_node\n",
    "\n",
    "  def pop(self):\n",
    "    if self.top is None:\n",
    "      return None\n",
    "    else:\n",
    "      popped_node = self.top\n",
    "      self.top = self.top.next\n",
    "      popped_node.next = None\n",
    "      return popped_node.data \n",
    "Answer [O(1)]\n",
    "\"\"\"\n",
    "\n",
    "# solution\n",
    "\n",
    "class Stack:\n",
    "  def __init__(self):\n",
    "    self.top = None\n",
    "    self.size = 0\n",
    "    \n",
    "  def pop(self):\n",
    "    # Check if there is a top element\n",
    "    if self.top is None:\n",
    "      return None\n",
    "    else:\n",
    "      popped_node = self.top\n",
    "      # Decrement the size of the stack\n",
    "      self.size -= 1\n",
    "      # Update the new value for the top node\n",
    "      self.top = self.top.next\n",
    "      popped_node.next = None\n",
    "      return popped_node.data \n",
    "\n",
    "#----------------------------------#\n",
    "\n",
    "# Conclusion\n",
    "\n",
    "\"\"\"\n",
    "Great! Hopefully, you can see that pushing an element onto a stack and popping an element from a stack using singly linked lists is super fast!\n",
    "\"\"\""
   ]
  },
  {
   "cell_type": "code",
   "execution_count": 19,
   "metadata": {
    "tags": []
   },
   "outputs": [
    {
     "data": {
      "text/plain": [
       "\"\\nCongratulations on successfully using a LifoQueue! As you can see, it takes care of the functionality of this data structure so that we don't have to create the structure ourselves.\\n\""
      ]
     },
     "execution_count": 19,
     "metadata": {},
     "output_type": "execute_result"
    }
   ],
   "source": [
    "# exercise 07\n",
    "\n",
    "\"\"\"\n",
    "Using Python's LifoQueue\n",
    "\n",
    "In this exercise, you will work with Python's LifoQueue(). You will create a stack called my_book_stack to add books and remove them from it.\n",
    "\"\"\"\n",
    "\n",
    "# Instructions\n",
    "\n",
    "\"\"\"\n",
    "\n",
    "    Import the module that contains Python's LifoQueue().\n",
    "    Create an infinite LifoQueue().\n",
    "    Add an element to the stack.\n",
    "    Remove an element from the stack.\n",
    "\n",
    "\"\"\"\n",
    "\n",
    "# solution\n",
    "\n",
    "# Import the module to work with Python's LifoQueue\n",
    "import queue\n",
    "\n",
    "# Create an infinite LifoQueue\n",
    "my_book_stack = queue.LifoQueue(maxsize=0)\n",
    "\n",
    "# Add an element to the stack\n",
    "my_book_stack.put(\"Don Quixote\")\n",
    "\n",
    "# Remove an element from the stack\n",
    "my_book_stack.get()\n",
    "\n",
    "#----------------------------------#\n",
    "\n",
    "# Conclusion\n",
    "\n",
    "\"\"\"\n",
    "Congratulations on successfully using a LifoQueue! As you can see, it takes care of the functionality of this data structure so that we don't have to create the structure ourselves.\n",
    "\"\"\""
   ]
  }
 ],
 "metadata": {
  "kernelspec": {
   "display_name": "Python 3 (ipykernel)",
   "language": "python",
   "name": "python3"
  },
  "language_info": {
   "codemirror_mode": {
    "name": "ipython",
    "version": 3
   },
   "file_extension": ".py",
   "mimetype": "text/x-python",
   "name": "python",
   "nbconvert_exporter": "python",
   "pygments_lexer": "ipython3",
   "version": "3.11.6"
  }
 },
 "nbformat": 4,
 "nbformat_minor": 4
}
