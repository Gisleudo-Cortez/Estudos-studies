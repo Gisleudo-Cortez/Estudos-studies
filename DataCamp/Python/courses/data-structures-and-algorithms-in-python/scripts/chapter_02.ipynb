{
 "cells": [
  {
   "cell_type": "code",
   "execution_count": 1,
   "metadata": {
    "editable": true,
    "slideshow": {
     "slide_type": ""
    },
    "tags": []
   },
   "outputs": [],
   "source": [
    "# run this to shorten the data import from the files\n",
    "import os\n",
    "cwd = os.path.dirname(os.getcwd())+'/'\n",
    "path_data = os.path.join(os.path.dirname(os.getcwd()), 'datasets/')\n"
   ]
  },
  {
   "cell_type": "code",
   "execution_count": 2,
   "metadata": {},
   "outputs": [],
   "source": [
    "# Create base Queue Class\n",
    "\n",
    "class Queue:\n",
    "    def __init__(self):\n",
    "        self.head = None\n",
    "        self.tail = None\n",
    "    def enqueue(self,data):\n",
    "        new_node = Node(data)\n",
    "        if self.head == None:\n",
    "            self.head = new_node\n",
    "            self.tail = new_node\n",
    "        else:\n",
    "            self.tail.next = new_node\n",
    "            self.tail = new_node\n",
    "    def dequeue(self):\n",
    "        if self.head:\n",
    "            current_node = self.head\n",
    "            self.head = current_node.next\n",
    "            current_node.next = None\n",
    "        if self.head == None:\n",
    "            self.tail = None\n",
    "    def has_elements(self):\n",
    "        return self.head != None\n",
    "\n",
    "class Node:\n",
    "    def __init__(self,data):\n",
    "        self.data = data\n",
    "        self.next = None"
   ]
  },
  {
   "cell_type": "code",
   "execution_count": 3,
   "metadata": {},
   "outputs": [
    {
     "name": "stdout",
     "output_type": "stream",
     "text": [
      "Printing None\n",
      "Printing None\n",
      "Printing None\n"
     ]
    },
    {
     "data": {
      "text/plain": [
       "'\\nGreat! You can see that enqueuing an element into a queue and dequeuing an element from a queue using singly linked lists is super fast!\\n'"
      ]
     },
     "execution_count": 3,
     "metadata": {},
     "output_type": "execute_result"
    }
   ],
   "source": [
    "# exercise 01\n",
    "\n",
    "\"\"\"\n",
    "Implementing a queue for printer tasks\n",
    "\n",
    "In the last video, you learned that queues can have multiple applications, such as managing the tasks for a printer.\n",
    "\n",
    "In this exercise, you will implement a class called PrinterTasks(), which will represent a simplified queue for a printer. To do this, you will be provided with the Queue() class that includes the following methods:\n",
    "\n",
    "    enqueue(data): adds an element to the queue\n",
    "    dequeue(): removes an element from the queue\n",
    "    has_elements(): checks if the queue has elements. This is the code:\n",
    "\n",
    "    def has_elements(self):\n",
    "      return self.head != None\n",
    "\n",
    "You will start coding the PrinterTasks() class with its add_document() and print_documents() methods. After that, you will simulate the execution of a program that uses the PrinterTasks() class.\n",
    "\"\"\"\n",
    "\n",
    "# Instructions\n",
    "\n",
    "\"\"\"\n",
    "\n",
    "    Complete the add_document() function to add a document to the queue.\n",
    "    Complete the print_documents() function to iterate over the queue while it has elements, and remove each document in the queue.\n",
    "---\n",
    "\n",
    "    Add some documents to print.\n",
    "    Print all the documents in the queue.\n",
    "---\n",
    "Question\n",
    "\n",
    "The following code shows you how to enqueue() an element into a queue and dequeue() an element from a queue using singly linked lists. Can you calculate the complexity of both methods using Big O Notation?\n",
    "\n",
    "  def enqueue(self,data):\n",
    "    new_node = Node(data)\n",
    "    if self.head == None:\n",
    "      self.head = new_node\n",
    "      self.tail = new_node\n",
    "    else:\n",
    "      self.tail.next = new_node\n",
    "      self.tail = new_node \n",
    "\n",
    "  def dequeue(self):\n",
    "    if self.head:\n",
    "      current_node = self.head\n",
    "      self.head = current_node.next\n",
    "      current_node.next = None\n",
    "\n",
    "      if self.head == None:\n",
    "        self.tail = None\n",
    "Answer [O(n)]\n",
    "\"\"\"\n",
    "\n",
    "# solution\n",
    "\n",
    "class PrinterTasks:\n",
    "  def __init__(self):\n",
    "    self.queue = Queue()\n",
    "      \n",
    "  def add_document(self, document):\n",
    "    # Add the document to the queue\n",
    "    self.queue.enqueue(document)\n",
    "      \n",
    "  def print_documents(self):\n",
    "    # Iterate over the queue while it has elements\n",
    "    while self.queue.has_elements():\n",
    "      # Remove the document from the queue\n",
    "      print(\"Printing\", self.queue.dequeue())\n",
    "\n",
    "#----------------------------------#\n",
    "\n",
    "printer_tasks = PrinterTasks()\n",
    "# Add some documents to print\n",
    "printer_tasks.add_document(\"Document 1\")\n",
    "printer_tasks.add_document(\"Document 2\")\n",
    "printer_tasks.add_document(\"Document 3\")\n",
    "# Print all the documents in the queue\n",
    "printer_tasks.print_documents()\n",
    "\n",
    "#----------------------------------#\n",
    "\n",
    "# Conclusion\n",
    "\n",
    "\"\"\"\n",
    "Great! You can see that enqueuing an element into a queue and dequeuing an element from a queue using singly linked lists is super fast!\n",
    "\"\"\""
   ]
  },
  {
   "cell_type": "code",
   "execution_count": 4,
   "metadata": {
    "tags": []
   },
   "outputs": [
    {
     "data": {
      "text/plain": [
       "\"\\nWell done! As you can see, SimpleQueue() takes care of the functionality of this data structure so that we don't have to create the structure ourselves!\\n\""
      ]
     },
     "execution_count": 4,
     "metadata": {},
     "output_type": "execute_result"
    }
   ],
   "source": [
    "# exercise 02\n",
    "\n",
    "\"\"\"\n",
    "Using Python's SimpleQueue\n",
    "\n",
    "In this exercise, you will work with Python's SimpleQueue(). You will create a queue called my_orders_queue to add the orders of a restaurant and remove them from it when required.\n",
    "\"\"\"\n",
    "\n",
    "# Instructions\n",
    "\n",
    "\"\"\"\n",
    "\n",
    "    Create the queue.\n",
    "    Add an element to the queue.\n",
    "    Remove an element from the queue.\n",
    "\n",
    "\"\"\"\n",
    "\n",
    "# solution\n",
    "\n",
    "import queue\n",
    "\n",
    "# Create the queue\n",
    "my_orders_queue = queue.SimpleQueue()\n",
    "\n",
    "# Add an element to the queue\n",
    "my_orders_queue.put(\"samosas\")\n",
    "\n",
    "# Remove an element from the queue\n",
    "my_orders_queue.get()\n",
    "\n",
    "#----------------------------------#\n",
    "\n",
    "# Conclusion\n",
    "\n",
    "\"\"\"\n",
    "Well done! As you can see, SimpleQueue() takes care of the functionality of this data structure so that we don't have to create the structure ourselves!\n",
    "\"\"\""
   ]
  },
  {
   "cell_type": "code",
   "execution_count": 5,
   "metadata": {},
   "outputs": [],
   "source": [
    "my_menu = {\n",
    "  'lasagna': 14.75,\n",
    "  'moussaka': 21.15,\n",
    "  'sushi': 16.05,\n",
    "  'paella': 21,\n",
    "  'samosas': 14\n",
    "}"
   ]
  },
  {
   "cell_type": "code",
   "execution_count": 6,
   "metadata": {
    "tags": []
   },
   "outputs": [
    {
     "name": "stdout",
     "output_type": "stream",
     "text": [
      "The price of the lasagna is 14.75.\n",
      "The price of the moussaka is 21.15.\n",
      "The price of the sushi is 16.05.\n",
      "The price of the paella is 21.\n",
      "The price of the samosas is 14.\n"
     ]
    },
    {
     "data": {
      "text/plain": [
       "'\\nWell done! You fixed the problem, and now the menu is printing correctly!\\n'"
      ]
     },
     "execution_count": 6,
     "metadata": {},
     "output_type": "execute_result"
    }
   ],
   "source": [
    "# exercise 03\n",
    "\n",
    "\"\"\"\n",
    "Correcting bugs in a dictionary\n",
    "\n",
    "You have been given a program that is supposed to iterate over the dishes of a menu, printing the name and its value.\n",
    "\n",
    "The dishes of the menu are stored in the following dictionary:\n",
    "\n",
    "my_menu = {\n",
    "  'lasagna': 14.75,\n",
    "  'moussaka': 21.15,\n",
    "  'sushi': 16.05,\n",
    "  'paella': 21,\n",
    "  'samosas': 14\n",
    "}\n",
    "\n",
    "Testing the program, you realize that it is not correct.\n",
    "\"\"\"\n",
    "\n",
    "# Instructions\n",
    "\n",
    "\"\"\"\n",
    "\n",
    "    Correct the mistake in the for loop.\n",
    "    Correct the mistake in the print() function.\n",
    "\n",
    "\"\"\"\n",
    "\n",
    "# solution\n",
    "\n",
    "# Correct the mistake\n",
    "for key, value in my_menu.items():\n",
    "  # Correct the mistake\n",
    "  print(f\"The price of the {key} is {value}.\")\n",
    "\n",
    "#----------------------------------#\n",
    "\n",
    "# Conclusion\n",
    "\n",
    "\"\"\"\n",
    "Well done! You fixed the problem, and now the menu is printing correctly!\n",
    "\"\"\""
   ]
  },
  {
   "cell_type": "code",
   "execution_count": 7,
   "metadata": {},
   "outputs": [],
   "source": [
    "my_menu = {\n",
    "  'sushi' : {\n",
    "    'price' : 19.25,\n",
    "    'best_served' : 'cold'\n",
    "  },\n",
    "  'paella' : {\n",
    "    'price' : 15,\n",
    "    'best_served' : 'hot'\n",
    "  },\n",
    "  'samosa' : {\n",
    "    'price' : 14,\n",
    "    'best_served' : 'hot'\n",
    "  },\n",
    "  'gazpacho' : {\n",
    "    'price' : 8,\n",
    "    'best_served' : 'cold'\n",
    "  }\n",
    "}"
   ]
  },
  {
   "cell_type": "code",
   "execution_count": 8,
   "metadata": {
    "tags": []
   },
   "outputs": [
    {
     "name": "stdout",
     "output_type": "stream",
     "text": [
      "Sushi is best served cold.\n",
      "Paella is best served hot.\n",
      "Samosa is best served hot.\n",
      "Gazpacho is best served cold.\n"
     ]
    },
    {
     "data": {
      "text/plain": [
       "'\\nAmazing! You now know how to work with hash tables!\\n'"
      ]
     },
     "execution_count": 8,
     "metadata": {},
     "output_type": "execute_result"
    }
   ],
   "source": [
    "# exercise 04\n",
    "\n",
    "\"\"\"\n",
    "Iterating over a nested dictionary\n",
    "\n",
    "You are writing a program that iterates over the following nested dictionary to determine if the dishes need to be served cold or hot.\n",
    "\n",
    "my_menu = {\n",
    "  'sushi' : {\n",
    "    'price' : 19.25,\n",
    "    'best_served' : 'cold'\n",
    "  },\n",
    "  'paella' : {\n",
    "    'price' : 15,\n",
    "    'best_served' : 'hot'\n",
    "  },\n",
    "  'samosa' : {\n",
    "    'price' : 14,\n",
    "    'best_served' : 'hot'\n",
    "  },\n",
    "  'gazpacho' : {\n",
    "    'price' : 8,\n",
    "    'best_served' : 'cold'\n",
    "  }\n",
    "}\n",
    "\n",
    "Can you complete the program so that it outputs the following?\n",
    "\n",
    "Sushi is best served cold.\n",
    "Paella is best served hot.\n",
    "Samosa is best served hot.\n",
    "Gazpacho is best served cold.\n",
    "\n",
    "\"\"\"\n",
    "\n",
    "# Instructions\n",
    "\n",
    "\"\"\"\n",
    "\n",
    "    Iterate over the elements of the menu.\n",
    "    Print whether the dish must be served cold or hot.\n",
    "\n",
    "\"\"\"\n",
    "\n",
    "# solution\n",
    "\n",
    "# Iterate the elements of the menu\n",
    "for dish, values in my_menu.items():\n",
    "  # Print whether the dish must be served cold or hot\n",
    "  print(f\"{dish.title()} is best served {values['best_served']}.\")\n",
    "\n",
    "#----------------------------------#\n",
    "\n",
    "# Conclusion\n",
    "\n",
    "\"\"\"\n",
    "Amazing! You now know how to work with hash tables!\n",
    "\"\"\""
   ]
  },
  {
   "cell_type": "code",
   "execution_count": 9,
   "metadata": {
    "tags": []
   },
   "outputs": [
    {
     "data": {
      "text/plain": [
       "\"\\nCongratulations! You fixed the problem so that the binary tree is correctly created. Let's continue with building graphs!\\n\""
      ]
     },
     "execution_count": 9,
     "metadata": {},
     "output_type": "execute_result"
    }
   ],
   "source": [
    "# exercise 05\n",
    "\n",
    "\"\"\"\n",
    "Correcting bugs in a tree implementation\n",
    "\n",
    "You have been given a program that is supposed to create the following binary tree:\n",
    "\n",
    "Graphical representation of a tree.\n",
    "[\"A\"]\n",
    "[\"B\", \"C\"]\n",
    "\n",
    "Testing it, you realize that the program is not correct. Could you correct it so that it works correctly?\n",
    "\"\"\"\n",
    "\n",
    "# Instructions\n",
    "\n",
    "\"\"\"\n",
    "\n",
    "    Correct the mistakes in the init() method.\n",
    "    Correct the mistake in the creation of the root_node.\n",
    "\n",
    "\"\"\"\n",
    "\n",
    "# solution\n",
    "\n",
    "class TreeNode:\n",
    "  \n",
    "  def __init__(self, data, left=None, right=None):\n",
    "    # Correct the mistakes\n",
    "    self.data = data\n",
    "    self.left_child = left\n",
    "    self.right_child = right\n",
    "\n",
    "node1 = TreeNode(\"B\")\n",
    "node2 = TreeNode(\"C\")\n",
    "# Correct the mistake\n",
    "root_node = TreeNode(\"A\", node1, node2)\n",
    "\n",
    "#----------------------------------#\n",
    "\n",
    "# Conclusion\n",
    "\n",
    "\"\"\"\n",
    "Congratulations! You fixed the problem so that the binary tree is correctly created. Let's continue with building graphs!\n",
    "\"\"\""
   ]
  },
  {
   "cell_type": "code",
   "execution_count": 10,
   "metadata": {
    "tags": []
   },
   "outputs": [
    {
     "data": {
      "text/plain": [
       "'\\nGreat! You correctly created a weighted graph!\\n'"
      ]
     },
     "execution_count": 10,
     "metadata": {},
     "output_type": "execute_result"
    }
   ],
   "source": [
    "# exercise 06\n",
    "\n",
    "\"\"\"\n",
    "Building a weighted graph\n",
    "\n",
    "In the last video, you learned how to implement a graph in Python.\n",
    "\n",
    "class Graph:\n",
    "  def __init__(self):\n",
    "    self.vertices = {}\n",
    "\n",
    "  def add_vertex(self, vertex):\n",
    "    self.vertices[vertex] = []\n",
    "\n",
    "  def add_edge(self, source, target):\n",
    "    self.vertices[source].append(target)\n",
    "\n",
    "This exercise has two steps. In the first one, you will modify this code so that it can be used to create a weighted graph. To do this, you can use a hash table to represent the adjacent vertices with their weights. In the second step, you will build the following weighted graph:\n",
    "\n",
    "Representation of a weighted graph.\n",
    "\"\"\"\n",
    "\n",
    "# Instructions\n",
    "\n",
    "\"\"\"\n",
    "\n",
    "    Set the data for the vertex.\n",
    "    Set the weight.\n",
    "---\n",
    "\n",
    "    Create the vertices for the cities.\n",
    "    Create the adjacent vertices for the cities.\n",
    "\n",
    "\"\"\"\n",
    "\n",
    "# solution\n",
    "\n",
    "class WeightedGraph:\n",
    "  def __init__(self):\n",
    "    self.vertices = {}\n",
    "  \n",
    "  def add_vertex(self, vertex):\n",
    "    # Set the data for the vertex\n",
    "    self.vertices[vertex] = []\n",
    "    \n",
    "  def add_edge(self, source, target, weight):\n",
    "    # Set the weight\n",
    "    self.vertices[source].append([target, weight])\n",
    "\n",
    "#----------------------------------#\n",
    "\n",
    "my_graph = WeightedGraph()\n",
    "\n",
    "# Create the vertices\n",
    "my_graph.add_vertex('Paris')\n",
    "my_graph.add_vertex('Toulouse')\n",
    "my_graph.add_vertex('Biarritz')\n",
    "\n",
    "# Create the edges\n",
    "my_graph.add_edge('Paris', 'Toulouse', 678)\n",
    "my_graph.add_edge('Toulouse', 'Biarritz', 312)\n",
    "my_graph.add_edge('Biarritz', 'Paris', 783)\n",
    "\n",
    "#----------------------------------#\n",
    "\n",
    "# Conclusion\n",
    "\n",
    "\"\"\"\n",
    "Great! You correctly created a weighted graph!\n",
    "\"\"\""
   ]
  },
  {
   "cell_type": "code",
   "execution_count": 11,
   "metadata": {
    "tags": []
   },
   "outputs": [
    {
     "name": "stdout",
     "output_type": "stream",
     "text": [
      "8\n"
     ]
    },
    {
     "data": {
      "text/plain": [
       "'\\nGreat! You figured it out! You can see that dynamic programming can be very useful because the solutions of the subproblems are saved, avoiding recalculating them if needed later!\\n'"
      ]
     },
     "execution_count": 11,
     "metadata": {},
     "output_type": "execute_result"
    }
   ],
   "source": [
    "# exercise 07\n",
    "\n",
    "\"\"\"\n",
    "Fibonacci sequence\n",
    "\n",
    "In this exercise, you will implement the Fibonacci sequence, which is ubiquitous in nature. The sequence looks like this: \"0, 1, 1, 2, 3, 5, 8…\". You will create a recursive implementation of an algorithm that generates the sequence.\n",
    "\n",
    "The first numbers are 0 and 1, and the rest are the sum of the two preceding numbers.\n",
    "\n",
    "We can define this sequence recursively as: fib(n) = fib(n-1) + fib(n-2), fib(0) = 0 with and fib(1)=1, being n the nth position in the sequence.\n",
    "\n",
    "In the first step, you will code Fibonacci using recursion. In the second step, you will improve it by using dynamic programming, saving the solutions of the subproblems in the cache variable.\n",
    "\"\"\"\n",
    "\n",
    "# Instructions\n",
    "\n",
    "\"\"\"\n",
    "\n",
    "    Define the base case.\n",
    "    Call the fibonacci() function recursively.\n",
    "---\n",
    "    Check if the value exists in cache.\n",
    "    Save the result in cache to avoid recalculating it later.\n",
    "\n",
    "\"\"\"\n",
    "\n",
    "# solution\n",
    "\n",
    "\n",
    "\n",
    "def fibonacci(n): \n",
    "    cache = [None]*(100)\n",
    "    if n <= 1:\n",
    "        return n\n",
    "    \n",
    "    # Check if the value exists\n",
    "    if not cache[n]:\n",
    "        # Save the result in cache\n",
    "        cache[n] = fibonacci(n-1) + fibonacci(n-2)\n",
    "    \n",
    "    return cache[n]\n",
    "    \n",
    "\n",
    "print(fibonacci(6))\n",
    "\n",
    "#----------------------------------#\n",
    "\n",
    "# Conclusion\n",
    "\n",
    "\"\"\"\n",
    "Great! You figured it out! You can see that dynamic programming can be very useful because the solutions of the subproblems are saved, avoiding recalculating them if needed later!\n",
    "\"\"\""
   ]
  },
  {
   "cell_type": "code",
   "execution_count": 17,
   "metadata": {
    "tags": []
   },
   "outputs": [
    {
     "data": {
      "text/plain": [
       "'\\nGreat! You made it to the end. As you can see, we can use recursion to solve problems that seem very difficult at first!\\n'"
      ]
     },
     "execution_count": 17,
     "metadata": {},
     "output_type": "execute_result"
    }
   ],
   "source": [
    "# exercise 08\n",
    "\n",
    "\"\"\"\n",
    "Towers of Hanoi\n",
    "\n",
    "In this exercise, you will implement the Towers of Hanoi puzzle with a recursive algorithm. The aim of this game is to transfer all the disks from one of the three rods to another, following these rules:\n",
    "\n",
    "    You can only move one disk at a time.\n",
    "    You can only take the upper disk from one of the stacks and place it on top of another stack.\n",
    "    You cannot put a larger disk on top of a smaller one.\n",
    "\n",
    "Picture of the game Tower of Hanoi\n",
    "\n",
    "The algorithm shown is an implementation of this game with four disks and three rods called 'A', 'B' and 'C'. The code contains two mistakes. In fact, if you execute it, it crashes the console because it exceeds the maximum recursion depth. Can you find the bugs and fix them?\n",
    "\"\"\"\n",
    "\n",
    "# Instructions\n",
    "\n",
    "\"\"\"\n",
    "\n",
    "    Correct the base case.\n",
    "    Correct the calls to the hanoi() function.\n",
    "\n",
    "\"\"\"\n",
    "\n",
    "# solution\n",
    "\n",
    "def hanoi(num_disks, from_rod, to_rod, aux_rod):\n",
    "  # Correct the base case\n",
    "  if num_disks <= 1:\n",
    "    # Correct the calls to the hanoi function\n",
    "    hanoi(num_disks, from_rod, to_rod, aux_rod)\n",
    "    print(\"Moving disk\", num_disks, \"from rod\", from_rod,\"to rod\",to_rod)\n",
    "    hanoi(num_disks, from_rod, to_rod, aux_rod)   \n",
    "\n",
    "num_disks = 4\n",
    "source_rod = 'A'\n",
    "auxiliar_rod = 'B'\n",
    "target_rod = 'C'\n",
    "\n",
    "hanoi(num_disks, source_rod, target_rod, auxiliar_rod)\n",
    "\n",
    "#----------------------------------#\n",
    "\n",
    "# Conclusion\n",
    "\n",
    "\"\"\"\n",
    "Great! You made it to the end. As you can see, we can use recursion to solve problems that seem very difficult at first!\n",
    "\"\"\""
   ]
  }
 ],
 "metadata": {
  "kernelspec": {
   "display_name": "Python 3 (ipykernel)",
   "language": "python",
   "name": "python3"
  },
  "language_info": {
   "codemirror_mode": {
    "name": "ipython",
    "version": 3
   },
   "file_extension": ".py",
   "mimetype": "text/x-python",
   "name": "python",
   "nbconvert_exporter": "python",
   "pygments_lexer": "ipython3",
   "version": "3.11.6"
  }
 },
 "nbformat": 4,
 "nbformat_minor": 4
}
