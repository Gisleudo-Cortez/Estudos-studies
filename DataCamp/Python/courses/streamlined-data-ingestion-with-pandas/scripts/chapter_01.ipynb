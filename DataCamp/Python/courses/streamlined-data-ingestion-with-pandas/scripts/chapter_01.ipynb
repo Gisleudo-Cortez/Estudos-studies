{
 "cells": [
  {
   "cell_type": "code",
   "execution_count": 1,
   "metadata": {
    "editable": true,
    "slideshow": {
     "slide_type": ""
    },
    "tags": []
   },
   "outputs": [],
   "source": [
    "# run this to shorten the data import from the files\n",
    "import os\n",
    "cwd = os.path.dirname(os.getcwd())+'/'\n",
    "path_data = os.path.join(os.path.dirname(os.getcwd()), 'datasets/')\n"
   ]
  },
  {
   "cell_type": "code",
   "execution_count": 3,
   "metadata": {},
   "outputs": [
    {
     "name": "stdout",
     "output_type": "stream",
     "text": [
      "   STATEFIPS STATE  zipcode  agi_stub      N1  mars1  MARS2  MARS4   PREP  \\\n",
      "0         50    VT        0         1  111580  85090  14170  10740  45360   \n",
      "1         50    VT        0         2   82760  51960  18820  11310  35600   \n",
      "2         50    VT        0         3   46270  19540  22650   3620  24140   \n",
      "3         50    VT        0         4   30070   5830  22190    960  16060   \n",
      "4         50    VT        0         5   39530   3900  33800    590  22500   \n",
      "\n",
      "       N2  ...  N10300  A10300  N85530  A85530  N85300  A85300  N11901  \\\n",
      "0  130630  ...   53660   50699       0       0       0       0   10820   \n",
      "1  132950  ...   74340  221146       0       0       0       0   12820   \n",
      "2   91870  ...   44860  266097       0       0       0       0   10810   \n",
      "3   71610  ...   29580  264678       0       0       0       0    7320   \n",
      "4  103710  ...   39170  731963      40      24       0       0   12500   \n",
      "\n",
      "   A11901  N11902  A11902  \n",
      "0    9734   88260  138337  \n",
      "1   20029   68760  151729  \n",
      "2   24499   34600   90583  \n",
      "3   21573   21300   67045  \n",
      "4   67761   23320  103034  \n",
      "\n",
      "[5 rows x 147 columns]\n"
     ]
    },
    {
     "data": {
      "text/plain": [
       "\"\\nNice work! read_csv() has lots of parameters for customizing imports, but many CSVs can be loaded as dataframes just by passing the file path. It even works with URLs that end in '.csv'.\\n\""
      ]
     },
     "execution_count": 3,
     "metadata": {},
     "output_type": "execute_result"
    }
   ],
   "source": [
    "# exercise 01\n",
    "\n",
    "\"\"\"\n",
    "Get data from CSVs\n",
    "\n",
    "In this exercise, you'll create a dataframe from a CSV file. The United States makes available CSV files containing tax data by ZIP or postal code, allowing us to analyze income information in different parts of the country. We'll focus on a subset of the data, vt_tax_data_2016.csv, which has select tax statistics by ZIP code in Vermont in 2016.\n",
    "\n",
    "To load the data, you'll need to import the pandas library, then read vt_tax_data_2016.csv and assign the resulting dataframe to a variable. Then we'll have a look at the data.\n",
    "\"\"\"\n",
    "\n",
    "# Instructions\n",
    "\n",
    "\"\"\"\n",
    "\n",
    "    Import the pandas library as pd.\n",
    "    Use read_csv() to load vt_tax_data_2016.csv and assign it to the variable data.\n",
    "    View the first few lines of the dataframe with the head() method. This code has been written for you.\n",
    "\n",
    "\"\"\"\n",
    "\n",
    "# solution\n",
    "\n",
    "# Import pandas as pd\n",
    "import pandas as pd\n",
    "\n",
    "# Read the CSV and assign it to the variable data\n",
    "data = pd.read_csv(path_data+'vt_tax_data_2016.csv')\n",
    "\n",
    "# View the first few lines of data\n",
    "print(data.head())\n",
    "\n",
    "#----------------------------------#\n",
    "\n",
    "# Conclusion\n",
    "\n",
    "\"\"\"\n",
    "Nice work! read_csv() has lots of parameters for customizing imports, but many CSVs can be loaded as dataframes just by passing the file path. It even works with URLs that end in '.csv'.\n",
    "\"\"\""
   ]
  },
  {
   "cell_type": "code",
   "execution_count": 5,
   "metadata": {
    "tags": []
   },
   "outputs": [
    {
     "data": {
      "image/png": "[encoded data removed]",
      "text/plain": [
       "<Figure size 640x480 with 1 Axes>"
      ]
     },
     "metadata": {},
     "output_type": "display_data"
    },
    {
     "data": {
      "text/plain": [
       "'\\nWell done! When in doubt about the separator being used, you can always examine the file in a spreedsheet program, text editor, or with Python itself.\\n'"
      ]
     },
     "execution_count": 5,
     "metadata": {},
     "output_type": "execute_result"
    }
   ],
   "source": [
    "# exercise 02\n",
    "\n",
    "\"\"\"\n",
    "Get data from other flat files\n",
    "\n",
    "While CSVs are the most common kind of flat file, you will sometimes find files that use different delimiters. read_csv() can load all of these with the help of the sep keyword argument. By default, pandas assumes that the separator is a comma, which is why we do not need to specify sep for CSVs.\n",
    "\n",
    "The version of Vermont tax data here is a tab-separated values file (TSV), so you will need to use sep to pass in the correct delimiter when reading the file. Remember that tabs are represented as \\t. Once the file has been loaded, the remaining code groups the N1 field, which contains income range categories, to create a chart of tax returns by income category.\n",
    "\"\"\"\n",
    "\n",
    "# Instructions\n",
    "\n",
    "\"\"\"\n",
    "Import pandas with the alias pd.\n",
    "\n",
    "Load vt_tax_data_2016.tsv, making sure to set the correct delimiter with the sep keyword argument.\n",
    "\"\"\"\n",
    "\n",
    "# solution\n",
    "\n",
    "# Import pandas with the alias pd\n",
    "import pandas as pd\n",
    "import matplotlib.pyplot as plt\n",
    "# Load TSV using the sep keyword argument to set delimiter\n",
    "#data = pd.read_csv('vt_tax_data_2016.tsv', sep='\\t')\n",
    "\n",
    "# Plot the total number of tax returns by income group\n",
    "counts = data.groupby(\"agi_stub\").N1.sum()\n",
    "counts.plot.bar()\n",
    "plt.show()\n",
    "\n",
    "#----------------------------------#\n",
    "\n",
    "# Conclusion\n",
    "\n",
    "\"\"\"\n",
    "Well done! When in doubt about the separator being used, you can always examine the file in a spreedsheet program, text editor, or with Python itself.\n",
    "\"\"\""
   ]
  },
  {
   "cell_type": "code",
   "execution_count": 6,
   "metadata": {
    "tags": []
   },
   "outputs": [
    {
     "name": "stdout",
     "output_type": "stream",
     "text": [
      "          zipcode   mars1  MARS2  NUMDEP\n",
      "agi_stub                                \n",
      "1         1439444  170320  28480   52490\n",
      "2         1439444  104000  37690   64660\n",
      "3         1439444   39160  45390   47330\n",
      "4         1439444   11670  44410   37760\n",
      "5         1439444    7820  67750   60730\n",
      "6         1439444    1210  16340   16300\n"
     ]
    },
    {
     "data": {
      "text/plain": [
       "\"\\nThere is a saying that rows are cheap, but columns are expensive. Limiting datasets to only variables of interest makes them more manageable and streamlines pipelines, but make sure you aren't losing confounding data in the process.\\n\""
      ]
     },
     "execution_count": 6,
     "metadata": {},
     "output_type": "execute_result"
    }
   ],
   "source": [
    "# exercise 03\n",
    "\n",
    "\"\"\"\n",
    "Import a subset of columns\n",
    "\n",
    "The Vermont tax data contains 147 columns describing household composition, income sources, and taxes paid by ZIP code and income group. Most analyses don't need all these columns. In this exercise, you will create a dataframe with fewer variables using read_csv()s usecols argument.\n",
    "\n",
    "Let's focus on household composition to see if there are differences by geography and income level. To do this, we'll need columns on income group, ZIP code, tax return filing status (e.g., single or married), and dependents. The data uses codes for variable names, so the specific columns needed are in the instructions.\n",
    "\n",
    "pandas has already been imported as pd.\n",
    "\"\"\"\n",
    "\n",
    "# Instructions\n",
    "\n",
    "\"\"\"\n",
    "\n",
    "    Create a list of columns to use: zipcode, agi_stub (income group), mars1 (number of single households), MARS2 (number of households filing as married), and NUMDEP (number of dependents).\n",
    "    Create a dataframe from vt_tax_data_2016.csv that uses only the selected columns.\n",
    "\n",
    "\"\"\"\n",
    "\n",
    "# solution\n",
    "\n",
    "# Create list of columns to use\n",
    "cols = ['zipcode','agi_stub','mars1','MARS2','NUMDEP']\n",
    "\n",
    "# Create dataframe from csv using only selected columns\n",
    "data = pd.read_csv(path_data+\"vt_tax_data_2016.csv\", usecols=cols)\n",
    "\n",
    "# View counts of dependents and tax returns by income level\n",
    "print(data.groupby(\"agi_stub\").sum())\n",
    "\n",
    "#----------------------------------#\n",
    "\n",
    "# Conclusion\n",
    "\n",
    "\"\"\"\n",
    "There is a saying that rows are cheap, but columns are expensive. Limiting datasets to only variables of interest makes them more manageable and streamlines pipelines, but make sure you aren't losing confounding data in the process.\n",
    "\"\"\""
   ]
  },
  {
   "cell_type": "code",
   "execution_count": 7,
   "metadata": {},
   "outputs": [],
   "source": [
    "vt_data_first500 = pd.read_csv(path_data+'vt_tax_data_2016.csv', nrows=500)"
   ]
  },
  {
   "cell_type": "code",
   "execution_count": 9,
   "metadata": {
    "tags": []
   },
   "outputs": [
    {
     "name": "stdout",
     "output_type": "stream",
     "text": [
      "   STATEFIPS STATE  zipcode  agi_stub      N1  mars1  MARS2  MARS4   PREP  \\\n",
      "0         50    VT        0         1  111580  85090  14170  10740  45360   \n",
      "1         50    VT        0         2   82760  51960  18820  11310  35600   \n",
      "2         50    VT        0         3   46270  19540  22650   3620  24140   \n",
      "3         50    VT        0         4   30070   5830  22190    960  16060   \n",
      "4         50    VT        0         5   39530   3900  33800    590  22500   \n",
      "\n",
      "       N2  ...  N10300  A10300  N85530  A85530  N85300  A85300  N11901  \\\n",
      "0  130630  ...   53660   50699       0       0       0       0   10820   \n",
      "1  132950  ...   74340  221146       0       0       0       0   12820   \n",
      "2   91870  ...   44860  266097       0       0       0       0   10810   \n",
      "3   71610  ...   29580  264678       0       0       0       0    7320   \n",
      "4  103710  ...   39170  731963      40      24       0       0   12500   \n",
      "\n",
      "   A11901  N11902  A11902  \n",
      "0    9734   88260  138337  \n",
      "1   20029   68760  151729  \n",
      "2   24499   34600   90583  \n",
      "3   21573   21300   67045  \n",
      "4   67761   23320  103034  \n",
      "\n",
      "[5 rows x 147 columns]\n",
      "   STATEFIPS STATE  zipcode  agi_stub   N1  mars1  MARS2  MARS4  PREP   N2  \\\n",
      "0         50    VT     5356         2  180    120     40      0    90  250   \n",
      "1         50    VT     5356         3   80     50     40      0    40  150   \n",
      "2         50    VT     5356         4   50      0     40      0    40  110   \n",
      "3         50    VT     5356         5   80     20     50      0    60  170   \n",
      "4         50    VT     5356         6    0      0      0      0     0    0   \n",
      "\n",
      "   ...  N10300  A10300  N85530  A85530  N85300  A85300  N11901  A11901  \\\n",
      "0  ...     170     497       0       0       0       0      50      76   \n",
      "1  ...      80     460       0       0       0       0      40     142   \n",
      "2  ...      50     471       0       0       0       0       0       0   \n",
      "3  ...      80    2229       0       0       0       0      30     531   \n",
      "4  ...       0       0       0       0       0       0       0       0   \n",
      "\n",
      "   N11902  A11902  \n",
      "0     130     212  \n",
      "1      50     148  \n",
      "2      30      87  \n",
      "3      30     246  \n",
      "4       0       0  \n",
      "\n",
      "[5 rows x 147 columns]\n"
     ]
    },
    {
     "data": {
      "text/plain": [
       "\"\\nNicely done! The techniques you used here can also be employed to explore data before committing to loading all of it, to skip rows you know don't contain useful data, or to relabel all columns in a dataset.\\n\""
      ]
     },
     "execution_count": 9,
     "metadata": {},
     "output_type": "execute_result"
    }
   ],
   "source": [
    "# exercise 04\n",
    "\n",
    "\"\"\"\n",
    "Import a file in chunks\n",
    "\n",
    "When working with large files, it can be easier to load and process the data in pieces. Let's practice this workflow on the Vermont tax data.\n",
    "\n",
    "The first 500 rows have been loaded as vt_data_first500. You'll get the next 500 rows. To do this, you'll employ several keyword arguments: nrows and skiprows to get the correct records, header to tell pandas the data does not have column names, and names to supply the missing column names. You'll also want to use the list() function to get column names from vt_data_first500 to reuse.\n",
    "\n",
    "pandas has been imported as pd.\n",
    "\"\"\"\n",
    "\n",
    "# Instructions\n",
    "\n",
    "\"\"\"\n",
    "\n",
    "    Use nrows and skiprows to make a dataframe, vt_data_next500, with the next 500 rows.\n",
    "    Set the header argument so that pandas knows there is no header row.\n",
    "    Name the columns in vt_data_next500 by supplying a list of vt_data_first500's columns to the names argument.\n",
    "\n",
    "\"\"\"\n",
    "\n",
    "# solution\n",
    "\n",
    "# Create dataframe of next 500 rows with labeled columns\n",
    "vt_data_next500 = pd.read_csv(path_data+\"vt_tax_data_2016.csv\", \n",
    "                       \t\t  skiprows=500,\n",
    "                       \t\t  nrows=500,\n",
    "                       \t\t  header=None,\n",
    "                       \t\t  names=vt_data_first500.columns)\n",
    "\n",
    "# View the Vermont dataframes to confirm they're different\n",
    "print(vt_data_first500.head())\n",
    "print(vt_data_next500.head())\n",
    "\n",
    "#----------------------------------#\n",
    "\n",
    "# Conclusion\n",
    "\n",
    "\"\"\"\n",
    "Nicely done! The techniques you used here can also be employed to explore data before committing to loading all of it, to skip rows you know don't contain useful data, or to relabel all columns in a dataset.\n",
    "\"\"\""
   ]
  },
  {
   "cell_type": "code",
   "execution_count": 11,
   "metadata": {
    "tags": []
   },
   "outputs": [
    {
     "name": "stdout",
     "output_type": "stream",
     "text": [
      "STATEFIPS     int64\n",
      "STATE        object\n",
      "zipcode       int64\n",
      "agi_stub      int64\n",
      "N1            int64\n",
      "              ...  \n",
      "A85300        int64\n",
      "N11901        int64\n",
      "A11901        int64\n",
      "N11902        int64\n",
      "A11902        int64\n",
      "Length: 147, dtype: object\n",
      "STATEFIPS       int64\n",
      "STATE          object\n",
      "zipcode        object\n",
      "agi_stub     category\n",
      "N1              int64\n",
      "dtype: object\n"
     ]
    },
    {
     "data": {
      "text/plain": [
       "'\\nNice work! Setting data types at import requires becoming familiar with the data first, but it can save effort later on. A common workflow is to load the data and explore it, then write code that sets data types at import to share with colleagues or other audiences.\\n'"
      ]
     },
     "execution_count": 11,
     "metadata": {},
     "output_type": "execute_result"
    }
   ],
   "source": [
    "# exercise 05\n",
    "\n",
    "\"\"\"\n",
    "Specify data types\n",
    "\n",
    "When loading a flat file, pandas infers the best data type for each column. Sometimes its guesses are off, particularly for numbers that represent groups or qualities instead of quantities.\n",
    "\n",
    "Looking at the data dictionary for vt_tax_data_2016.csv reveals two such columns. The agi_stub column contains numbers that correspond to income categories, and zipcode has 5-digit values that should be strings -- treating them as integers means we lose leading 0s, which are meaningful. Let's specify the correct data types with the dtype argument.\n",
    "\n",
    "pandas has been imported for you as pd.\n",
    "\"\"\"\n",
    "\n",
    "# Instructions\n",
    "\n",
    "\"\"\"\n",
    "Load vt_tax_data_2016.csv with no arguments and view the dataframe's dtypes attribute. Note the data types of zipcode and agi_stub.\n",
    "---\n",
    "\n",
    "    Create a dictionary, data_types, specifying that agi_stub is \"category\" data and zipcode is string data.\n",
    "    Reload the CSV with the dtype argument and the dictionary to set the correct column data types.\n",
    "    View the dataframe's dtypes attribute.\n",
    "\n",
    "\"\"\"\n",
    "\n",
    "# solution\n",
    "\n",
    "# Load csv with no additional arguments\n",
    "data = pd.read_csv(path_data+\"vt_tax_data_2016.csv\")\n",
    "\n",
    "# Print the data types\n",
    "print(data.dtypes)\n",
    "\n",
    "#----------------------------------#\n",
    "\n",
    "# Create dict specifying data types for agi_stub and zipcode\n",
    "data_types = {'agi_stub':'category',\n",
    "\t\t\t  'zipcode':'str'}\n",
    "\n",
    "# Load csv using dtype to set correct data types\n",
    "data = pd.read_csv(path_data+\"vt_tax_data_2016.csv\", dtype=data_types)\n",
    "\n",
    "# Print data types of resulting frame\n",
    "print(data.dtypes.head())\n",
    "\n",
    "#----------------------------------#\n",
    "\n",
    "# Conclusion\n",
    "\n",
    "\"\"\"\n",
    "Nice work! Setting data types at import requires becoming familiar with the data first, but it can save effort later on. A common workflow is to load the data and explore it, then write code that sets data types at import to share with colleagues or other audiences.\n",
    "\"\"\""
   ]
  },
  {
   "cell_type": "code",
   "execution_count": 12,
   "metadata": {
    "tags": []
   },
   "outputs": [
    {
     "name": "stdout",
     "output_type": "stream",
     "text": [
      "   STATEFIPS STATE  zipcode  agi_stub      N1  mars1  MARS2  MARS4   PREP  \\\n",
      "0         50    VT      NaN         1  111580  85090  14170  10740  45360   \n",
      "1         50    VT      NaN         2   82760  51960  18820  11310  35600   \n",
      "2         50    VT      NaN         3   46270  19540  22650   3620  24140   \n",
      "3         50    VT      NaN         4   30070   5830  22190    960  16060   \n",
      "4         50    VT      NaN         5   39530   3900  33800    590  22500   \n",
      "5         50    VT      NaN         6    9620    600   8150      0   7040   \n",
      "\n",
      "       N2  ...  N10300  A10300  N85530  A85530  N85300  A85300  N11901  \\\n",
      "0  130630  ...   53660   50699       0       0       0       0   10820   \n",
      "1  132950  ...   74340  221146       0       0       0       0   12820   \n",
      "2   91870  ...   44860  266097       0       0       0       0   10810   \n",
      "3   71610  ...   29580  264678       0       0       0       0    7320   \n",
      "4  103710  ...   39170  731963      40      24       0       0   12500   \n",
      "5   26430  ...    9600  894432    3350    4939    4990   20428    3900   \n",
      "\n",
      "   A11901  N11902  A11902  \n",
      "0    9734   88260  138337  \n",
      "1   20029   68760  151729  \n",
      "2   24499   34600   90583  \n",
      "3   21573   21300   67045  \n",
      "4   67761   23320  103034  \n",
      "5   93123    2870   39425  \n",
      "\n",
      "[6 rows x 147 columns]\n"
     ]
    },
    {
     "data": {
      "text/plain": [
       "\"\\nNow that NA values are marked as such, it's possible to use NA-specific functions to do things like count missing values, as we did here, or drop records with missing values.\\n\""
      ]
     },
     "execution_count": 12,
     "metadata": {},
     "output_type": "execute_result"
    }
   ],
   "source": [
    "# exercise 06\n",
    "\n",
    "\"\"\"\n",
    "Set custom NA values\n",
    "\n",
    "Part of data exploration and cleaning consists of checking for missing or NA values and deciding how to account for them. This is easier when missing values are treated as their own data type. and there are pandas functions that specifically target such NA values. pandas automatically treats some values as missing, but we can pass additional NA indicators with the na_values argument. Here, you'll do this to ensure that invalid ZIP codes in the Vermont tax data are coded as NA.\n",
    "\n",
    "pandas has been imported as pd.\n",
    "\"\"\"\n",
    "\n",
    "# Instructions\n",
    "\n",
    "\"\"\"\n",
    "\n",
    "    Create a dictionary, null_values, specifying that 0s in the zipcode column should be considered NA values.\n",
    "    Load vt_tax_data_2016.csv, using the na_values argument and the dictionary to make sure invalid ZIP codes are treated as missing.\n",
    "\n",
    "\"\"\"\n",
    "\n",
    "# solution\n",
    "\n",
    "# Create dict specifying that 0s in zipcode are NA values\n",
    "null_values = {'zipcode':0}\n",
    "\n",
    "# Load csv using na_values keyword argument\n",
    "data = pd.read_csv(path_data+\"vt_tax_data_2016.csv\", \n",
    "                   na_values=null_values)\n",
    "\n",
    "# View rows with NA ZIP codes\n",
    "print(data[data.zipcode.isna()])\n",
    "\n",
    "#----------------------------------#\n",
    "\n",
    "# Conclusion\n",
    "\n",
    "\"\"\"\n",
    "Now that NA values are marked as such, it's possible to use NA-specific functions to do things like count missing values, as we did here, or drop records with missing values.\n",
    "\"\"\""
   ]
  },
  {
   "cell_type": "code",
   "execution_count": 6,
   "metadata": {
    "tags": []
   },
   "outputs": [
    {
     "data": {
      "text/plain": [
       "'\\n\\n'"
      ]
     },
     "execution_count": 6,
     "metadata": {},
     "output_type": "execute_result"
    }
   ],
   "source": [
    "# exercise 07\n",
    "\n",
    "\"\"\"\n",
    "Skip bad data\n",
    "\n",
    "In this exercise you'll use read_csv() parameters to handle files with bad data, like records with more values than columns. By default, trying to import such files triggers a specific error, pandas.errors.ParserError.\n",
    "\n",
    "Some lines in the Vermont tax data here are corrupted. In order to load the good lines, we need to tell pandas to skip errors. We also want pandas to warn us when it skips a line so we know the scope of data issues.\n",
    "\n",
    "pandas has been imported as pd. The exercise code will try to read the file. If there is a pandas.errors.ParserError, the code in the except block will run.\n",
    "\"\"\"\n",
    "\n",
    "# Instructions\n",
    "\n",
    "\"\"\"\n",
    "Try to import the file vt_tax_data_2016_corrupt.csv without any keyword arguments.\n",
    "---\n",
    "Import vt_tax_data_2016_corrupt.csv with the error_bad_lines parameter set to skip bad records.\n",
    "---\n",
    "Update the import with the warn_bad_lines parameter set to issue a warning whenever a bad record is skipped.\n",
    "\"\"\"\n",
    "\n",
    "# solution\n",
    "\n",
    "try:\n",
    "  # Import the CSV without any keyword arguments\n",
    "  data = pd.read_csv('vt_tax_data_2016_corrupt.csv')\n",
    "  \n",
    "  # View first 5 records\n",
    "  print(data.head())\n",
    "  \n",
    "except pd.errors.ParserError:\n",
    "    print(\"Your data contained rows that could not be parsed.\")\n",
    "\n",
    "#----------------------------------#\n",
    "\n",
    "try:\n",
    "  # Import CSV with error_bad_lines set to skip bad records\n",
    "  data = pd.read_csv(\"vt_tax_data_2016_corrupt.csv\", \n",
    "                     error_bad_lines=False)\n",
    "  \n",
    "  # View first 5 records\n",
    "  print(data.head())\n",
    "  \n",
    "except pd.errors.ParserError:\n",
    "    print(\"Your data contained rows that could not be parsed.\")\n",
    "\n",
    "#----------------------------------#\n",
    "\n",
    "try:\n",
    "  # Set warn_bad_lines to issue warnings about bad records\n",
    "  data = pd.read_csv(\"vt_tax_data_2016_corrupt.csv\", \n",
    "                     error_bad_lines=False, \n",
    "                     warn_bad_lines=True)\n",
    "  \n",
    "  # View first 5 records\n",
    "  print(data.head())\n",
    "  \n",
    "except pd.errors.ParserError:\n",
    "    print(\"Your data contained rows that could not be parsed.\")\n",
    "\n",
    "#----------------------------------#\n",
    "\n",
    "# Conclusion\n",
    "\n",
    "\"\"\"\n",
    "Well done! Flat files are just the beginning when it comes to data ingestion. In the next chapters, you'll learn how to automate data imports from other sources, plus more ways to fine-tune imports. A note about this exercise: the exercise console doesn't usually display warnings, so this exercise uses a slightly modified version of read_csv() that prints warnings, just like you would see if you ran the code in a local environment.\n",
    "\"\"\""
   ]
  }
 ],
 "metadata": {
  "kernelspec": {
   "display_name": "Python 3 (ipykernel)",
   "language": "python",
   "name": "python3"
  },
  "language_info": {
   "codemirror_mode": {
    "name": "ipython",
    "version": 3
   },
   "file_extension": ".py",
   "mimetype": "text/x-python",
   "name": "python",
   "nbconvert_exporter": "python",
   "pygments_lexer": "ipython3",
   "version": "3.11.7"
  }
 },
 "nbformat": 4,
 "nbformat_minor": 4
}
