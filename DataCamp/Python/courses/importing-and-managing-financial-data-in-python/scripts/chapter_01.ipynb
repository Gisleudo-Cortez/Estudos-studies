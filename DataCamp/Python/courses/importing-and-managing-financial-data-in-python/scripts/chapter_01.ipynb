{
 "cells": [
  {
   "cell_type": "code",
   "execution_count": 1,
   "metadata": {
    "editable": true,
    "slideshow": {
     "slide_type": ""
    },
    "tags": []
   },
   "outputs": [],
   "source": [
    "# run this to shorten the data import from the files\n",
    "import os\n",
    "cwd = os.path.dirname(os.getcwd())+'/'\n",
    "path_data = os.path.join(os.path.dirname(os.getcwd()), 'datasets/')\n"
   ]
  },
  {
   "cell_type": "code",
   "execution_count": 13,
   "metadata": {},
   "outputs": [
    {
     "name": "stdout",
     "output_type": "stream",
     "text": [
      "  Stock Symbol           Company Name  Last Sale  Market Capitalization  \\\n",
      "0         AAPL             Apple Inc.     141.05           7.400000e+11   \n",
      "1        GOOGL          Alphabet Inc.     840.18           5.810000e+11   \n",
      "2         GOOG          Alphabet Inc.     823.56           5.690000e+11   \n",
      "3         MSFT  Microsoft Corporation      64.95           5.020000e+11   \n",
      "4         AMZN       Amazon.com, Inc.     884.67           4.220000e+11   \n",
      "5           FB         Facebook, Inc.     139.39           4.030000e+11   \n",
      "6        CMCSA    Comcast Corporation      37.14           1.760000e+11   \n",
      "7         INTC      Intel Corporation      35.25           1.660000e+11   \n",
      "8         CSCO    Cisco Systems, Inc.      32.42           1.620000e+11   \n",
      "9         AMGN             Amgen Inc.     161.61           1.190000e+11   \n",
      "\n",
      "  IPO Year             Sector  \\\n",
      "0     1980         Technology   \n",
      "1      NAN         Technology   \n",
      "2     2004         Technology   \n",
      "3     1986         Technology   \n",
      "4     1997  Consumer Services   \n",
      "5     2012         Technology   \n",
      "6      NAN  Consumer Services   \n",
      "7      NAN         Technology   \n",
      "8     1990         Technology   \n",
      "9     1983        Health Care   \n",
      "\n",
      "                                            Industry Last Update  \n",
      "0                             Computer Manufacturing     4/26/17  \n",
      "1    Computer Software: Programming, Data Processing     4/24/17  \n",
      "2    Computer Software: Programming, Data Processing     4/23/17  \n",
      "3            Computer Software: Prepackaged Software     4/26/17  \n",
      "4                     Catalog/Specialty Distribution     4/24/17  \n",
      "5    Computer Software: Programming, Data Processing     4/26/17  \n",
      "6                                Television Services     4/26/17  \n",
      "7                                     Semiconductors     4/23/17  \n",
      "8                  Computer Communications Equipment     4/23/17  \n",
      "9  Biotechnology: Biological Products (No Diagnos...     4/24/17  \n",
      "<class 'pandas.core.frame.DataFrame'>\n",
      "RangeIndex: 1115 entries, 0 to 1114\n",
      "Data columns (total 8 columns):\n",
      " #   Column                 Non-Null Count  Dtype  \n",
      "---  ------                 --------------  -----  \n",
      " 0   Stock Symbol           1115 non-null   object \n",
      " 1   Company Name           1115 non-null   object \n",
      " 2   Last Sale              1115 non-null   float64\n",
      " 3   Market Capitalization  1115 non-null   float64\n",
      " 4   IPO Year               1115 non-null   object \n",
      " 5   Sector                 1115 non-null   object \n",
      " 6   Industry               1115 non-null   object \n",
      " 7   Last Update            1115 non-null   object \n",
      "dtypes: float64(2), object(6)\n",
      "memory usage: 69.8+ KB\n"
     ]
    },
    {
     "data": {
      "text/plain": [
       "'\\nGreat! Note that a symbol other than np.nan is used to indicate missing values, and all columns are of type object or float64.\\n'"
      ]
     },
     "execution_count": 13,
     "metadata": {},
     "output_type": "execute_result"
    }
   ],
   "source": [
    "# exercise 01\n",
    "\n",
    "\"\"\"\n",
    "Import stock listing info from the NASDAQ\n",
    "\n",
    "In this video, you learned how to use the pd.read_csv() function to import data from a csv file containing companies listed on the AmEx Stock Exchange into a pandas DataFrame. You can apply this same knowledge to import listing information in csv files from other stock exchanges.\n",
    "\n",
    "The next step is to ensure that the contents of the DataFrame accurately reflect the meaning of your data. Two essential methods to understand your data are .head(), which displays the first five rows of your data by default, and .info(), which summarizes elements of a DataFrame such as content, data types, and missing values.\n",
    "\n",
    "In this exercise, you will read the file nasdaq-listings.csv with data on companies listed on the NASDAQ and then diagnose issues with the imported data. You will fix these issues in the next exercise.\n",
    "\"\"\"\n",
    "\n",
    "# Instructions\n",
    "\n",
    "\"\"\"\n",
    "\n",
    "    Load pandas as pd.\n",
    "    Use pd.read_csv() to load the file nasdaq-listings.csv into the variable nasdaq.\n",
    "    Use .head() to display the first 10 rows of the data. Which data type would you expect pandas to assign to each column? What symbol is used to represent a missing value?\n",
    "    Use .info() to identify dtype mismatches in the DataFrame summary. Specifically, are there any columns that should have a more appropriate type?\n",
    "\n",
    "\"\"\"\n",
    "\n",
    "# solution\n",
    "\n",
    "# Import pandas library\n",
    "import pandas as pd\n",
    "\n",
    "# Import the data\n",
    "nasdaq = pd.read_csv(path_data+'nasdaq-listings.csv')\n",
    "\n",
    "# Display first 10 rows\n",
    "print(nasdaq.head(10))\n",
    "\n",
    "# Inspect nasdaq\n",
    "nasdaq.info()\n",
    "\n",
    "#----------------------------------#\n",
    "\n",
    "# Conclusion\n",
    "\n",
    "\"\"\"\n",
    "Great! Note that a symbol other than np.nan is used to indicate missing values, and all columns are of type object or float64.\n",
    "\"\"\""
   ]
  },
  {
   "cell_type": "code",
   "execution_count": 3,
   "metadata": {
    "tags": []
   },
   "outputs": [
    {
     "data": {
      "text/plain": [
       "'\\n\\n'"
      ]
     },
     "execution_count": 3,
     "metadata": {},
     "output_type": "execute_result"
    }
   ],
   "source": [
    "# exercise 02\n",
    "\n",
    "\"\"\"\n",
    "How to fix the data import?\n",
    "\n",
    "Two optional arguments that you can add to .read_csv() to better represent the data from an external file are:\n",
    "\n",
    "    na_values: Converts a given string to np.nan, defaults to None\n",
    "    parse_dates: Reads the data in a list of given columns as dtype datetime64, defaults to False\n",
    "\n",
    "Which of the following steps should you take to make sure that the data imported from nasdaq-listings.csv are accurately represented?\n",
    "\n",
    "The nasdaq DataFrame that you created in the previous exercise is available in your workspace.\n",
    "\"\"\"\n",
    "\n",
    "# Instructions\n",
    "\n",
    "\"\"\"\n",
    "Possible answers:\n",
    "    \n",
    "    Add the argument na_values=['NAN'] to pd.read_csv().\n",
    "    \n",
    "    Add the argument na_values=[0] to pd.read_csv().\n",
    "    \n",
    "    Add parse_dates=['Last Update'] to pd.read_csv().\n",
    "    \n",
    "    Both (1) and (3). {Answer}\n",
    "\"\"\"\n",
    "\n",
    "# solution\n",
    "\n",
    "\n",
    "\n",
    "#----------------------------------#\n",
    "\n",
    "# Conclusion\n",
    "\n",
    "\"\"\"\n",
    "\n",
    "\"\"\""
   ]
  },
  {
   "cell_type": "code",
   "execution_count": 15,
   "metadata": {
    "tags": []
   },
   "outputs": [
    {
     "name": "stdout",
     "output_type": "stream",
     "text": [
      "  Stock Symbol           Company Name  Last Sale  Market Capitalization  \\\n",
      "0         AAPL             Apple Inc.     141.05           7.400000e+11   \n",
      "1        GOOGL          Alphabet Inc.     840.18           5.810000e+11   \n",
      "2         GOOG          Alphabet Inc.     823.56           5.690000e+11   \n",
      "3         MSFT  Microsoft Corporation      64.95           5.020000e+11   \n",
      "4         AMZN       Amazon.com, Inc.     884.67           4.220000e+11   \n",
      "\n",
      "   IPO Year             Sector  \\\n",
      "0    1980.0         Technology   \n",
      "1       NaN         Technology   \n",
      "2    2004.0         Technology   \n",
      "3    1986.0         Technology   \n",
      "4    1997.0  Consumer Services   \n",
      "\n",
      "                                          Industry Last Update  \n",
      "0                           Computer Manufacturing     4/26/17  \n",
      "1  Computer Software: Programming, Data Processing     4/24/17  \n",
      "2  Computer Software: Programming, Data Processing     4/23/17  \n",
      "3          Computer Software: Prepackaged Software     4/26/17  \n",
      "4                   Catalog/Specialty Distribution     4/24/17  \n",
      "<class 'pandas.core.frame.DataFrame'>\n",
      "RangeIndex: 1115 entries, 0 to 1114\n",
      "Data columns (total 8 columns):\n",
      " #   Column                 Non-Null Count  Dtype  \n",
      "---  ------                 --------------  -----  \n",
      " 0   Stock Symbol           1115 non-null   object \n",
      " 1   Company Name           1115 non-null   object \n",
      " 2   Last Sale              1115 non-null   float64\n",
      " 3   Market Capitalization  1115 non-null   float64\n",
      " 4   IPO Year               593 non-null    float64\n",
      " 5   Sector                 1036 non-null   object \n",
      " 6   Industry               1036 non-null   object \n",
      " 7   Last Update            1115 non-null   object \n",
      "dtypes: float64(3), object(5)\n",
      "memory usage: 69.8+ KB\n"
     ]
    },
    {
     "data": {
      "text/plain": [
       "'\\nGreat job! The data looks just right.\\n'"
      ]
     },
     "execution_count": 15,
     "metadata": {},
     "output_type": "execute_result"
    }
   ],
   "source": [
    "# exercise 03\n",
    "\n",
    "\"\"\"\n",
    "Read data using .read_csv() with adequate parsing arguments\n",
    "\n",
    "You have successfully identified the issues you must address when importing the given csv file.\n",
    "\n",
    "In this exercise, you will once again load the NASDAQ data into a pandas DataFrame, but with a more robust function. pandas has been imported as pd.\n",
    "\"\"\"\n",
    "\n",
    "# Instructions\n",
    "\n",
    "\"\"\"\n",
    "\n",
    "    Read the file nasdaq-listings.csv into nasdaq with pd.read_csv(), adding the arguments na_values and parse_dates equal to the appropriate values. You should use 'NAN' for missing values, and parse dates in the Last Update column.\n",
    "    Display and inspect the result using .head() and .info() to verify that the data has been imported correctly.\n",
    "\n",
    "\"\"\"\n",
    "\n",
    "# solution\n",
    "\n",
    "# Import the data\n",
    "nasdaq = pd.read_csv(path_data+'nasdaq-listings.csv', na_values='NAN', parse_dates=['Last Update'], date_format=\"%Y-%m-%d\")\n",
    "\n",
    "# Display the head of the data\n",
    "print(nasdaq.head())\n",
    "\n",
    "# Inspect the data\n",
    "nasdaq.info()\n",
    "\n",
    "#----------------------------------#\n",
    "\n",
    "# Conclusion\n",
    "\n",
    "\"\"\"\n",
    "Great job! The data looks just right.\n",
    "\"\"\""
   ]
  },
  {
   "cell_type": "code",
   "execution_count": 16,
   "metadata": {
    "tags": []
   },
   "outputs": [
    {
     "name": "stdout",
     "output_type": "stream",
     "text": [
      "  Stock Symbol            Company Name  Last Sale  Market Capitalization  \\\n",
      "0          DDD  3D Systems Corporation      14.48           1.647165e+09   \n",
      "1          MMM              3M Company     188.65           1.127366e+11   \n",
      "2         WBAI         500.com Limited      13.96           5.793129e+08   \n",
      "3         WUBA             58.com Inc.      36.11           5.225238e+09   \n",
      "4          AHC   A.H. Belo Corporation       6.20           1.347351e+08   \n",
      "\n",
      "   IPO Year             Sector  \\\n",
      "0       NaN         Technology   \n",
      "1       NaN        Health Care   \n",
      "2    2013.0  Consumer Services   \n",
      "3    2013.0         Technology   \n",
      "4       NaN  Consumer Services   \n",
      "\n",
      "                                          Industry  \n",
      "0          Computer Software: Prepackaged Software  \n",
      "1                       Medical/Dental Instruments  \n",
      "2            Services-Misc. Amusement & Recreation  \n",
      "3  Computer Software: Programming, Data Processing  \n",
      "4                             Newspapers/Magazines  \n",
      "<class 'pandas.core.frame.DataFrame'>\n",
      "RangeIndex: 3147 entries, 0 to 3146\n",
      "Data columns (total 7 columns):\n",
      " #   Column                 Non-Null Count  Dtype  \n",
      "---  ------                 --------------  -----  \n",
      " 0   Stock Symbol           3147 non-null   object \n",
      " 1   Company Name           3147 non-null   object \n",
      " 2   Last Sale              3079 non-null   float64\n",
      " 3   Market Capitalization  3147 non-null   float64\n",
      " 4   IPO Year               1361 non-null   float64\n",
      " 5   Sector                 2177 non-null   object \n",
      " 6   Industry               2177 non-null   object \n",
      "dtypes: float64(3), object(4)\n",
      "memory usage: 172.2+ KB\n"
     ]
    },
    {
     "name": "stderr",
     "output_type": "stream",
     "text": [
      "/home/nero/Documents/Estudos/estudos/lib/python3.11/site-packages/openpyxl/worksheet/_reader.py:329: UserWarning: Unknown extension is not supported and will be removed\n",
      "  warn(msg)\n"
     ]
    },
    {
     "data": {
      "text/plain": [
       "'\\nNice work! The nyse DataFrame contains 3147 entries.\\n'"
      ]
     },
     "execution_count": 16,
     "metadata": {},
     "output_type": "execute_result"
    }
   ],
   "source": [
    "# exercise 04\n",
    "\n",
    "\"\"\"\n",
    "Load listing info from a single sheet\n",
    "\n",
    "As you just learned, you can import data from a sheet of an Excel file with the pd.read_excel() function by assigning the optional sheet_name argument to an integer indicating its position or a string containing its name.\n",
    "\n",
    "pandas.read_excel(file, sheet_name=0, na_values=None, ...)\n",
    "\n",
    "Here, you will practice by importing NYSE data from a new file, listings.xlsx. pandas has been imported as pd.\n",
    "\"\"\"\n",
    "\n",
    "# Instructions\n",
    "\n",
    "\"\"\"\n",
    "\n",
    "    Read only the 'nyse' worksheet of 'listings.xlsx' where the symbol 'n/a' represents missing values. Assign the result to nyse.\n",
    "    Display and inspect nyse with .head() and .info().\n",
    "\n",
    "\"\"\"\n",
    "\n",
    "# solution\n",
    "\n",
    "# Import the data\n",
    "nyse = pd.read_excel(path_data+'listings.xlsx', na_values='n/a', sheet_name='nyse')\n",
    "\n",
    "# Display the head of the data\n",
    "print(nyse.head())\n",
    "\n",
    "# Inspect the data\n",
    "nyse.info()\n",
    "\n",
    "#----------------------------------#\n",
    "\n",
    "# Conclusion\n",
    "\n",
    "\"\"\"\n",
    "Nice work! The nyse DataFrame contains 3147 entries.\n",
    "\"\"\""
   ]
  },
  {
   "cell_type": "code",
   "execution_count": 19,
   "metadata": {
    "tags": []
   },
   "outputs": [
    {
     "name": "stderr",
     "output_type": "stream",
     "text": [
      "/home/nero/Documents/Estudos/estudos/lib/python3.11/site-packages/openpyxl/worksheet/_reader.py:329: UserWarning: Unknown extension is not supported and will be removed\n",
      "  warn(msg)\n",
      "/home/nero/Documents/Estudos/estudos/lib/python3.11/site-packages/openpyxl/worksheet/_reader.py:329: UserWarning: Unknown extension is not supported and will be removed\n",
      "  warn(msg)\n"
     ]
    },
    {
     "name": "stdout",
     "output_type": "stream",
     "text": [
      "<class 'pandas.core.frame.DataFrame'>\n",
      "RangeIndex: 3167 entries, 0 to 3166\n",
      "Data columns (total 7 columns):\n",
      " #   Column                 Non-Null Count  Dtype  \n",
      "---  ------                 --------------  -----  \n",
      " 0   Stock Symbol           3167 non-null   object \n",
      " 1   Company Name           3167 non-null   object \n",
      " 2   Last Sale              3165 non-null   float64\n",
      " 3   Market Capitalization  3167 non-null   float64\n",
      " 4   IPO Year               1386 non-null   float64\n",
      " 5   Sector                 2767 non-null   object \n",
      " 6   Industry               2767 non-null   object \n",
      "dtypes: float64(3), object(4)\n",
      "memory usage: 173.3+ KB\n"
     ]
    },
    {
     "name": "stderr",
     "output_type": "stream",
     "text": [
      "/home/nero/Documents/Estudos/estudos/lib/python3.11/site-packages/openpyxl/worksheet/_reader.py:329: UserWarning: Unknown extension is not supported and will be removed\n",
      "  warn(msg)\n"
     ]
    },
    {
     "data": {
      "text/plain": [
       "'\\nGreat job! The other sheet names are amex and nyse.\\n'"
      ]
     },
     "execution_count": 19,
     "metadata": {},
     "output_type": "execute_result"
    }
   ],
   "source": [
    "# exercise 05\n",
    "\n",
    "\"\"\"\n",
    "Load listing data from two sheets\n",
    "\n",
    "The import process is just as intuitive when using the sheet_names attribute of a pd.ExcelFile() object.\n",
    "\n",
    "Passing in a list as the sheet_name argument of pd.read_excel(), whether you assign the list to a variable holding the sheet_names attribute of a pd.ExcelFile() object or type the list out yourself, constructs a dictionary. In this dictionary, the keys are the names of the sheets, and the values are the DataFrames containing the data from the corresponding sheet. You can extract values from a dictionary by providing a particular key in brackets.\n",
    "\n",
    "In this exercise, you will retrieve the list of stock exchanges from listings.xlsx and then use this list to read the data for all three exchanges into a dictionary. pandas has been imported as pd.\n",
    "\"\"\"\n",
    "\n",
    "# Instructions\n",
    "\n",
    "\"\"\"\n",
    "\n",
    "    Create a pd.ExcelFile() object using the file 'listings.xlsx' and assign to xls.\n",
    "    Save the sheet_names attribute of xls as exchanges.\n",
    "    Using exchanges to specify sheet names and n/a to specify missing values in pd.read_excel(), read the data from all sheets in xls, and assign to a dictionary listings.\n",
    "    Inspect only the 'nasdaq' data in this new dictionary with .info().\n",
    "\n",
    "\"\"\"\n",
    "\n",
    "# solution\n",
    "\n",
    "# Create pd.ExcelFile() object\n",
    "xls = pd.ExcelFile(path_data+'listings.xlsx')\n",
    "\n",
    "# Extract sheet names and store in exchanges\n",
    "exchanges = xls.sheet_names\n",
    "\n",
    "# Create listings dictionary with all sheet data\n",
    "listings = pd.read_excel(xls, sheet_name=exchanges, na_values='n/a')\n",
    "\n",
    "# Inspect NASDAQ listings\n",
    "listings['nasdaq'].info()\n",
    "\n",
    "\n",
    "#----------------------------------#\n",
    "\n",
    "# Conclusion\n",
    "\n",
    "\"\"\"\n",
    "Great job! The other sheet names are amex and nyse.\n",
    "\"\"\""
   ]
  },
  {
   "cell_type": "code",
   "execution_count": 20,
   "metadata": {
    "tags": []
   },
   "outputs": [
    {
     "name": "stdout",
     "output_type": "stream",
     "text": [
      "<class 'pandas.core.frame.DataFrame'>\n",
      "RangeIndex: 3147 entries, 0 to 3146\n",
      "Data columns (total 7 columns):\n",
      " #   Column                 Non-Null Count  Dtype  \n",
      "---  ------                 --------------  -----  \n",
      " 0   Stock Symbol           3147 non-null   object \n",
      " 1   Company Name           3147 non-null   object \n",
      " 2   Last Sale              3079 non-null   float64\n",
      " 3   Market Capitalization  3147 non-null   float64\n",
      " 4   IPO Year               1361 non-null   float64\n",
      " 5   Sector                 2177 non-null   object \n",
      " 6   Industry               2177 non-null   object \n",
      "dtypes: float64(3), object(4)\n",
      "memory usage: 172.2+ KB\n",
      "<class 'pandas.core.frame.DataFrame'>\n",
      "RangeIndex: 3167 entries, 0 to 3166\n",
      "Data columns (total 7 columns):\n",
      " #   Column                 Non-Null Count  Dtype  \n",
      "---  ------                 --------------  -----  \n",
      " 0   Stock Symbol           3167 non-null   object \n",
      " 1   Company Name           3167 non-null   object \n",
      " 2   Last Sale              3165 non-null   float64\n",
      " 3   Market Capitalization  3167 non-null   float64\n",
      " 4   IPO Year               1386 non-null   float64\n",
      " 5   Sector                 2767 non-null   object \n",
      " 6   Industry               2767 non-null   object \n",
      "dtypes: float64(3), object(4)\n",
      "memory usage: 173.3+ KB\n"
     ]
    },
    {
     "name": "stderr",
     "output_type": "stream",
     "text": [
      "/home/nero/Documents/Estudos/estudos/lib/python3.11/site-packages/openpyxl/worksheet/_reader.py:329: UserWarning: Unknown extension is not supported and will be removed\n",
      "  warn(msg)\n",
      "/home/nero/Documents/Estudos/estudos/lib/python3.11/site-packages/openpyxl/worksheet/_reader.py:329: UserWarning: Unknown extension is not supported and will be removed\n",
      "  warn(msg)\n"
     ]
    },
    {
     "data": {
      "text/plain": [
       "'\\nGreat job. Note that concatenating nasdaq and nyse, in that order, would have produced a different result.\\n'"
      ]
     },
     "execution_count": 20,
     "metadata": {},
     "output_type": "execute_result"
    }
   ],
   "source": [
    "# exercise 06\n",
    "\n",
    "\"\"\"\n",
    "Load all listing data and iterate over key-value dictionary pairs\n",
    "\n",
    "You already know that a pd.DataFrame() object is a two-dimensional labeled data structure. As you saw in the video, the pd.concat() function is used to concatenate, or vertically combine, two or more DataFrames. You can also use broadcasting to add new columns to DataFrames.\n",
    "\n",
    "In this exercise, you will practice using this new pandas function with the data from the NYSE and NASDAQ exchanges. pandas has been imported as pd.\n",
    "\"\"\"\n",
    "\n",
    "# Instructions\n",
    "\n",
    "\"\"\"\n",
    "\n",
    "    Import data in listings.xlsx from sheets 'nyse' and 'nasdaq' into the variables nyse and nasdaq. Read 'n/a' to represent missing values.\n",
    "    Inspect the contents of both DataFrames with .info() to find out how many companies are reported.\n",
    "    With broadcasting, create a new reference column called 'Exchange' holding the values 'NYSE' or 'NASDAQ' for each DataFrame.\n",
    "    Use pd.concat() to concatenate the nyse and nasdaq DataFrames, in that order, and assign to combined_listings.\n",
    "\n",
    "\"\"\"\n",
    "\n",
    "# solution\n",
    "\n",
    "# Import the NYSE and NASDAQ listings\n",
    "nyse = pd.read_excel(path_data+'listings.xlsx', sheet_name='nyse', na_values='n/a')\n",
    "nasdaq = pd.read_excel(path_data+'listings.xlsx', sheet_name='nasdaq', na_values='n/a')\n",
    "\n",
    "# Inspect nyse and nasdaq\n",
    "nyse.info()\n",
    "nasdaq.info()\n",
    "\n",
    "# Add Exchange reference columns\n",
    "nyse['Exchange'] = 'NYSE'\n",
    "nasdaq['Exchange'] = 'NASDAQ'\n",
    "\n",
    "# Concatenate DataFrames  \n",
    "combined_listings = pd.concat([nyse, nasdaq]) \n",
    "\n",
    "#----------------------------------#\n",
    "\n",
    "# Conclusion\n",
    "\n",
    "\"\"\"\n",
    "Great job. Note that concatenating nasdaq and nyse, in that order, would have produced a different result.\n",
    "\"\"\""
   ]
  },
  {
   "cell_type": "code",
   "execution_count": 22,
   "metadata": {
    "tags": []
   },
   "outputs": [
    {
     "name": "stdout",
     "output_type": "stream",
     "text": [
      "<class 'pandas.core.frame.DataFrame'>\n",
      "Index: 6314 entries, 0 to 3166\n",
      "Data columns (total 8 columns):\n",
      " #   Column                 Non-Null Count  Dtype  \n",
      "---  ------                 --------------  -----  \n",
      " 0   Stock Symbol           6314 non-null   object \n",
      " 1   Company Name           6314 non-null   object \n",
      " 2   Last Sale              6244 non-null   float64\n",
      " 3   Market Capitalization  6314 non-null   float64\n",
      " 4   IPO Year               2747 non-null   float64\n",
      " 5   Sector                 4944 non-null   object \n",
      " 6   Industry               4944 non-null   object \n",
      " 7   Exchange               6314 non-null   object \n",
      "dtypes: float64(3), object(5)\n",
      "memory usage: 444.0+ KB\n"
     ]
    },
    {
     "data": {
      "text/plain": [
       "'\\nCorrect! According to combined_listings.info(), there are 6314 entries total.\\n'"
      ]
     },
     "execution_count": 22,
     "metadata": {},
     "output_type": "execute_result"
    }
   ],
   "source": [
    "# exercise 07\n",
    "\n",
    "\"\"\"\n",
    "How many companies are listed on the NYSE and NASDAQ?\n",
    "\n",
    "Before moving on, let's step back to examine the size of our data. Based on the previous exercise, how many companies are listed altogether on the NYSE and NASDAQ exchanges?\n",
    "\n",
    "The nyse, nasdaq, and combined_listings DataFrames have been loaded into your workspace.\n",
    "\"\"\"\n",
    "\n",
    "# Instructions\n",
    "\n",
    "\"\"\"\n",
    "Possible answers\n",
    "    \n",
    "    3,167\n",
    "    \n",
    "    3,147\n",
    "    \n",
    "    6,314 {Answer}\n",
    "None of the above\n",
    "\"\"\"\n",
    "\n",
    "# solution\n",
    "\n",
    "combined_listings.info()\n",
    "\n",
    "#----------------------------------#\n",
    "\n",
    "# Conclusion\n",
    "\n",
    "\"\"\"\n",
    "Correct! According to combined_listings.info(), there are 6314 entries total.\n",
    "\"\"\""
   ]
  },
  {
   "cell_type": "code",
   "execution_count": 23,
   "metadata": {
    "tags": []
   },
   "outputs": [
    {
     "name": "stdout",
     "output_type": "stream",
     "text": [
      "<class 'pandas.core.frame.DataFrame'>\n",
      "Index: 6674 entries, 0 to 3146\n",
      "Data columns (total 8 columns):\n",
      " #   Column                 Non-Null Count  Dtype  \n",
      "---  ------                 --------------  -----  \n",
      " 0   Stock Symbol           6674 non-null   object \n",
      " 1   Company Name           6674 non-null   object \n",
      " 2   Last Sale              6590 non-null   float64\n",
      " 3   Market Capitalization  6674 non-null   float64\n",
      " 4   IPO Year               2852 non-null   float64\n",
      " 5   Sector                 5182 non-null   object \n",
      " 6   Industry               5182 non-null   object \n",
      " 7   Exchange               6674 non-null   object \n",
      "dtypes: float64(3), object(5)\n",
      "memory usage: 469.3+ KB\n"
     ]
    },
    {
     "name": "stderr",
     "output_type": "stream",
     "text": [
      "/home/nero/Documents/Estudos/estudos/lib/python3.11/site-packages/openpyxl/worksheet/_reader.py:329: UserWarning: Unknown extension is not supported and will be removed\n",
      "  warn(msg)\n",
      "/home/nero/Documents/Estudos/estudos/lib/python3.11/site-packages/openpyxl/worksheet/_reader.py:329: UserWarning: Unknown extension is not supported and will be removed\n",
      "  warn(msg)\n",
      "/home/nero/Documents/Estudos/estudos/lib/python3.11/site-packages/openpyxl/worksheet/_reader.py:329: UserWarning: Unknown extension is not supported and will be removed\n",
      "  warn(msg)\n"
     ]
    },
    {
     "data": {
      "text/plain": [
       "\"\\nAs you would expect, listing_data has 6674 entries, which is the sum of the number of rows in the 'nasdaq', 'nyse', and 'amex' worksheets.\\n\""
      ]
     },
     "execution_count": 23,
     "metadata": {},
     "output_type": "execute_result"
    }
   ],
   "source": [
    "# exercise 08\n",
    "\n",
    "\"\"\"\n",
    "Automate the loading and combining of data from multiple Excel worksheets\n",
    "\n",
    "You are now ready to automate the import process of listing information from all three exchanges in the Excel file listings.xlsx by implementing a for loop. Let's look at what you'll do:\n",
    "\n",
    "    Retrieve the sheet names of a pd.ExcelFile() object using its sheet_names attribute.\n",
    "    Create an empty list.\n",
    "    Write a for loop that iterates through these sheet names to read the data from the corresponding sheet name in the Excel file into a variable. Add a reference column, if desired. Append the contents of this variable to the list with each iteration.\n",
    "    Concatenate the DataFrames in the list.\n",
    "\n",
    "As always, refer to the previous exercises in this chapter or the pandas documentation if you need any help. pandas has been imported as pd.\n",
    "\"\"\"\n",
    "\n",
    "# Instructions\n",
    "\n",
    "\"\"\"\n",
    "\n",
    "    Create the pd.ExcelFile() object using the file listings.xlsx and assign to the variable xls.\n",
    "    Retrieve the sheet names from the .sheet_names attribute of xls and assign to exchanges.\n",
    "    Create an empty list and assign to the variable listings.\n",
    "    Iterate over exchanges using a for loop with exchange as iterator variable. In each iteration:\n",
    "        Use pd.read_excel() with xls as the the data source, exchange as the sheet_name argument, and 'n/a' as na_values to address missing values. Assign the result to listing.\n",
    "        Create a new column in listing called 'Exchange' with the value exchange (the iterator variable).\n",
    "        Append the resulting listing DataFrame to listings.\n",
    "    Use pd.concat() to concatenate the contents of listings and assign to listing_data.\n",
    "    Inspect the contents of listing_data using .info().\n",
    "\n",
    "\"\"\"\n",
    "\n",
    "# solution\n",
    "\n",
    "# Create the pd.ExcelFile() object\n",
    "xls = pd.ExcelFile(path_data+'listings.xlsx')\n",
    "\n",
    "# Extract the sheet names from xls\n",
    "exchanges = xls.sheet_names\n",
    "\n",
    "# Create an empty list: listings\n",
    "listings = []\n",
    "\n",
    "# Import the data\n",
    "for exchange in exchanges:\n",
    "    listing = pd.read_excel(xls, sheet_name=exchange, na_values='n/a')\n",
    "    listing['Exchange'] = exchange\n",
    "    listings.append(listing)\n",
    "\n",
    "# Concatenate the listings: listing_data\n",
    "listing_data = pd.concat(listings)\n",
    "\n",
    "# Inspect the results\n",
    "listing_data.info()\n",
    "\n",
    "#----------------------------------#\n",
    "\n",
    "# Conclusion\n",
    "\n",
    "\"\"\"\n",
    "As you would expect, listing_data has 6674 entries, which is the sum of the number of rows in the 'nasdaq', 'nyse', and 'amex' worksheets.\n",
    "\"\"\""
   ]
  }
 ],
 "metadata": {
  "kernelspec": {
   "display_name": "Python 3 (ipykernel)",
   "language": "python",
   "name": "python3"
  },
  "language_info": {
   "codemirror_mode": {
    "name": "ipython",
    "version": 3
   },
   "file_extension": ".py",
   "mimetype": "text/x-python",
   "name": "python",
   "nbconvert_exporter": "python",
   "pygments_lexer": "ipython3",
   "version": "3.11.6"
  }
 },
 "nbformat": 4,
 "nbformat_minor": 4
}
