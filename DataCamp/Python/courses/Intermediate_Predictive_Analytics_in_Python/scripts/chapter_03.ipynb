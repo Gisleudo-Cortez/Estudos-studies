{
 "cells": [
  {
   "cell_type": "code",
   "execution_count": 5,
   "metadata": {
    "tags": []
   },
   "outputs": [],
   "source": [
    "# run this to shorten the data import from the files\n",
    "import os\n",
    "path_data = os.path.join(os.path.dirname(os.getcwd()), 'datasets/')\n"
   ]
  },
  {
   "cell_type": "code",
   "execution_count": 6,
   "metadata": {},
   "outputs": [
    {
     "data": {
      "text/html": [
       "<div>\n",
       "<style scoped>\n",
       "    .dataframe tbody tr th:only-of-type {\n",
       "        vertical-align: middle;\n",
       "    }\n",
       "\n",
       "    .dataframe tbody tr th {\n",
       "        vertical-align: top;\n",
       "    }\n",
       "\n",
       "    .dataframe thead th {\n",
       "        text-align: right;\n",
       "    }\n",
       "</style>\n",
       "<table border=\"1\" class=\"dataframe\">\n",
       "  <thead>\n",
       "    <tr style=\"text-align: right;\">\n",
       "      <th></th>\n",
       "      <th>donor_id</th>\n",
       "      <th>gender</th>\n",
       "    </tr>\n",
       "  </thead>\n",
       "  <tbody>\n",
       "    <tr>\n",
       "      <th>0</th>\n",
       "      <td>32768</td>\n",
       "      <td>F</td>\n",
       "    </tr>\n",
       "    <tr>\n",
       "      <th>1</th>\n",
       "      <td>65543</td>\n",
       "      <td>M</td>\n",
       "    </tr>\n",
       "    <tr>\n",
       "      <th>2</th>\n",
       "      <td>65546</td>\n",
       "      <td>F</td>\n",
       "    </tr>\n",
       "    <tr>\n",
       "      <th>3</th>\n",
       "      <td>32778</td>\n",
       "      <td>M</td>\n",
       "    </tr>\n",
       "    <tr>\n",
       "      <th>4</th>\n",
       "      <td>32780</td>\n",
       "      <td>F</td>\n",
       "    </tr>\n",
       "  </tbody>\n",
       "</table>\n",
       "</div>"
      ],
      "text/plain": [
       "   donor_id gender\n",
       "0     32768      F\n",
       "1     65543      M\n",
       "2     65546      F\n",
       "3     32778      M\n",
       "4     32780      F"
      ]
     },
     "execution_count": 6,
     "metadata": {},
     "output_type": "execute_result"
    }
   ],
   "source": [
    "import pandas as pd\n",
    "\n",
    "basetable = pd.read_csv(path_data+'basetable_gender.csv')\n",
    "basetable.head()"
   ]
  },
  {
   "cell_type": "code",
   "execution_count": 7,
   "metadata": {},
   "outputs": [
    {
     "name": "stdout",
     "output_type": "stream",
     "text": [
      "   donor_id  M\n",
      "0     32768  0\n",
      "1     65543  1\n",
      "2     65546  0\n",
      "3     32778  1\n",
      "4     32780  0\n"
     ]
    },
    {
     "data": {
      "text/plain": [
       "'\\nWell done! As gender only has two values and avoiding multicollinearity means that one dummy variable is dropped, only one column is added to the basetable.\\n'"
      ]
     },
     "execution_count": 7,
     "metadata": {},
     "output_type": "execute_result"
    }
   ],
   "source": [
    "# exercise 01\n",
    "\n",
    "\"\"\"\n",
    "Creating a dummy from a two-category variable\n",
    "\n",
    "Given is a basetable with one predictive variable \"gender\". Make sure that \"gender\" can be used as a predictive variable in a logistic regression model by creating dummy variables for it.\n",
    "\"\"\"\n",
    "\n",
    "# Instructions\n",
    "\n",
    "\"\"\"\n",
    "\n",
    "    Create a pandas dataframe dummies_gender that has the dummy variables for \"gender\". Make sure to avoid multicollinearity.\n",
    "    Add these dummies to the original basetable.\n",
    "    Remove the original variable \"gender\" from the basetable.\n",
    "\n",
    "\"\"\"\n",
    "\n",
    "# solution\n",
    "\n",
    "# Create the dummy variable\n",
    "dummies_gender = pd.get_dummies(basetable[\"gender\"], drop_first=True, dtype=int)\n",
    "\n",
    "# Add the dummy variable to the basetable\n",
    "basetable = pd.concat([basetable, dummies_gender], axis=1)\n",
    "\n",
    "# Delete the original variable from the basetable\n",
    "del basetable[\"gender\"]\n",
    "print(basetable.head())\n",
    "\n",
    "#----------------------------------#\n",
    "\n",
    "# Conclusion\n",
    "\n",
    "\"\"\"\n",
    "Well done! As gender only has two values and avoiding multicollinearity means that one dummy variable is dropped, only one column is added to the basetable.\n",
    "\"\"\""
   ]
  },
  {
   "cell_type": "code",
   "execution_count": 22,
   "metadata": {},
   "outputs": [
    {
     "data": {
      "text/html": [
       "<div>\n",
       "<style scoped>\n",
       "    .dataframe tbody tr th:only-of-type {\n",
       "        vertical-align: middle;\n",
       "    }\n",
       "\n",
       "    .dataframe tbody tr th {\n",
       "        vertical-align: top;\n",
       "    }\n",
       "\n",
       "    .dataframe thead th {\n",
       "        text-align: right;\n",
       "    }\n",
       "</style>\n",
       "<table border=\"1\" class=\"dataframe\">\n",
       "  <thead>\n",
       "    <tr style=\"text-align: right;\">\n",
       "      <th></th>\n",
       "      <th>donor_id</th>\n",
       "      <th>country</th>\n",
       "    </tr>\n",
       "  </thead>\n",
       "  <tbody>\n",
       "    <tr>\n",
       "      <th>0</th>\n",
       "      <td>32768</td>\n",
       "      <td>India</td>\n",
       "    </tr>\n",
       "    <tr>\n",
       "      <th>1</th>\n",
       "      <td>32768</td>\n",
       "      <td>UK</td>\n",
       "    </tr>\n",
       "    <tr>\n",
       "      <th>2</th>\n",
       "      <td>98305</td>\n",
       "      <td>USA</td>\n",
       "    </tr>\n",
       "    <tr>\n",
       "      <th>3</th>\n",
       "      <td>98305</td>\n",
       "      <td>UK</td>\n",
       "    </tr>\n",
       "    <tr>\n",
       "      <th>4</th>\n",
       "      <td>98305</td>\n",
       "      <td>UK</td>\n",
       "    </tr>\n",
       "  </tbody>\n",
       "</table>\n",
       "</div>"
      ],
      "text/plain": [
       "   donor_id country\n",
       "0     32768   India\n",
       "1     32768      UK\n",
       "2     98305     USA\n",
       "3     98305      UK\n",
       "4     98305      UK"
      ]
     },
     "execution_count": 22,
     "metadata": {},
     "output_type": "execute_result"
    }
   ],
   "source": [
    "basetable = pd.read_csv(path_data+'living_places.csv', usecols=['donor_id', 'living_place'])\n",
    "basetable.rename(columns={'living_place':'country'}, inplace=True)\n",
    "basetable.head()"
   ]
  },
  {
   "cell_type": "code",
   "execution_count": 23,
   "metadata": {
    "tags": []
   },
   "outputs": [
    {
     "name": "stdout",
     "output_type": "stream",
     "text": [
      "   donor_id  India  UK  USA\n",
      "0     32768      1   0    0\n",
      "1     32768      0   1    0\n",
      "2     98305      0   0    1\n",
      "3     98305      0   1    0\n",
      "4     98305      0   1    0\n"
     ]
    },
    {
     "data": {
      "text/plain": [
       "'\\nNice job! The country dummy variables can now be used in a predictive model.\\n'"
      ]
     },
     "execution_count": 23,
     "metadata": {},
     "output_type": "execute_result"
    }
   ],
   "source": [
    "# exercise 02\n",
    "\n",
    "\"\"\"\n",
    "Creating dummies from a many-categories variable\n",
    "\n",
    "Given is a basetable with one predictive variable \"country\". Make sure that \"country\" can be used as a predictive variable in a logistic regression model by creating dummy variables for it.\n",
    "\"\"\"\n",
    "\n",
    "# Instructions\n",
    "\n",
    "\"\"\"\n",
    "\n",
    "    Create a pandas dataframe dummies_country that has the dummy variables for \"country\". Make sure you avoid multicollinearity.\n",
    "    Add these dummies to the original basetable.\n",
    "    Remove the original variable \"country\" from the basetable.\n",
    "\n",
    "\"\"\"\n",
    "\n",
    "# solution\n",
    "\n",
    "# Create the dummy variable\n",
    "dummies_country = pd.get_dummies(basetable[\"country\"], drop_first=True, dtype=int)\n",
    "\n",
    "# Add the dummy variable to the basetable\n",
    "basetable = pd.concat([basetable, dummies_country], axis=1)\n",
    "\n",
    "# Delete the original variable from the basetable\n",
    "del basetable[\"country\"]\n",
    "print(basetable.head())\n",
    "\n",
    "#----------------------------------#\n",
    "\n",
    "# Conclusion\n",
    "\n",
    "\"\"\"\n",
    "Nice job! The country dummy variables can now be used in a predictive model.\n",
    "\"\"\""
   ]
  },
  {
   "cell_type": "code",
   "execution_count": 24,
   "metadata": {
    "tags": []
   },
   "outputs": [
    {
     "data": {
      "text/plain": [
       "'\\nIndeed! Someone who did not donate in the last year, has maximum donation value 0.\\n'"
      ]
     },
     "execution_count": 24,
     "metadata": {},
     "output_type": "execute_result"
    }
   ],
   "source": [
    "# exercise 03\n",
    "\n",
    "\"\"\"\n",
    "How to replace missing values\n",
    "\n",
    "Given is a basetable with a predictive variable max_donation that has the maximum donation someone has given over the last year. Some donors did not make a donation last year and hence have missing values for this value.\n",
    "\n",
    "What is the best strategy to replace missing values in this variable?\n",
    "\"\"\"\n",
    "\n",
    "# Instructions\n",
    "\n",
    "\"\"\"\n",
    "Replace missing values in max_donation by 0. (Answer)\n",
    "\n",
    "\n",
    "Replace missing values in max_donation by the median value of max_donation.\n",
    "\n",
    "\n",
    "Replace missing values in max_donation by the mean value of max_donation.\n",
    "\n",
    "\n",
    "Replace missing values in max_donation by the maximum value of max_donation.\n",
    "\"\"\"\n",
    "\n",
    "# solution\n",
    "\n",
    "\n",
    "\n",
    "#----------------------------------#\n",
    "\n",
    "# Conclusion\n",
    "\n",
    "\"\"\"\n",
    "Indeed! Someone who did not donate in the last year, has maximum donation value 0.\n",
    "\"\"\""
   ]
  },
  {
   "cell_type": "code",
   "execution_count": 25,
   "metadata": {},
   "outputs": [
    {
     "data": {
      "text/html": [
       "<div>\n",
       "<style scoped>\n",
       "    .dataframe tbody tr th:only-of-type {\n",
       "        vertical-align: middle;\n",
       "    }\n",
       "\n",
       "    .dataframe tbody tr th {\n",
       "        vertical-align: top;\n",
       "    }\n",
       "\n",
       "    .dataframe thead th {\n",
       "        text-align: right;\n",
       "    }\n",
       "</style>\n",
       "<table border=\"1\" class=\"dataframe\">\n",
       "  <thead>\n",
       "    <tr style=\"text-align: right;\">\n",
       "      <th></th>\n",
       "      <th>donor_id</th>\n",
       "      <th>total_donations</th>\n",
       "    </tr>\n",
       "  </thead>\n",
       "  <tbody>\n",
       "    <tr>\n",
       "      <th>0</th>\n",
       "      <td>98305</td>\n",
       "      <td>947.0</td>\n",
       "    </tr>\n",
       "    <tr>\n",
       "      <th>1</th>\n",
       "      <td>1</td>\n",
       "      <td>600.0</td>\n",
       "    </tr>\n",
       "    <tr>\n",
       "      <th>2</th>\n",
       "      <td>65539</td>\n",
       "      <td>995.0</td>\n",
       "    </tr>\n",
       "    <tr>\n",
       "      <th>3</th>\n",
       "      <td>98308</td>\n",
       "      <td>141.0</td>\n",
       "    </tr>\n",
       "    <tr>\n",
       "      <th>4</th>\n",
       "      <td>98309</td>\n",
       "      <td>35.0</td>\n",
       "    </tr>\n",
       "  </tbody>\n",
       "</table>\n",
       "</div>"
      ],
      "text/plain": [
       "   donor_id  total_donations\n",
       "0     98305            947.0\n",
       "1         1            600.0\n",
       "2     65539            995.0\n",
       "3     98308            141.0\n",
       "4     98309             35.0"
      ]
     },
     "execution_count": 25,
     "metadata": {},
     "output_type": "execute_result"
    }
   ],
   "source": [
    "basetable = pd.read_csv(path_data+'basetable_ch03.csv')\n",
    "basetable.head()"
   ]
  },
  {
   "cell_type": "code",
   "execution_count": 26,
   "metadata": {
    "tags": []
   },
   "outputs": [
    {
     "name": "stdout",
     "output_type": "stream",
     "text": [
      "0.09\n"
     ]
    },
    {
     "data": {
      "text/plain": [
       "'\\nGreat! There are about 9% donors in the basetable that never donated before.\\n'"
      ]
     },
     "execution_count": 26,
     "metadata": {},
     "output_type": "execute_result"
    }
   ],
   "source": [
    "# exercise 04\n",
    "\n",
    "\"\"\"\n",
    "Creating a missing value dummy\n",
    "\n",
    "Given a basetable that has a predictive variable \"total_donations\" that has the total number of donations a donor ever made. This variable can have missing values, indicating that this donor never made a donation before. This is important information on its own, so it is appropriate to create a variable \"no_donations\" that indicates whether \"total_donations\" is missing.\n",
    "\"\"\"\n",
    "\n",
    "# Instructions\n",
    "\n",
    "\"\"\"\n",
    "\n",
    "    Create a new column \"no_donations\" in basetable that has value 1 if total_donations is missing and 0 otherwise.\n",
    "    Calculate the number of missing values in total_donations and assign it to number_na.\n",
    "    Print the percentage of missing values.\n",
    "\n",
    "\"\"\"\n",
    "\n",
    "# solution\n",
    "\n",
    "# Create dummy indicating missing values\n",
    "basetable[\"no_donations\"] = pd.Series([1 if b else 0 for b in basetable[\"total_donations\"].isna()])\n",
    "\n",
    "# Calculate number of missing values\n",
    "number_na = sum(basetable[\"no_donations\"] == 1)\n",
    "\n",
    "# Calculate percentage of missing values\n",
    "print(round(number_na / len(basetable), 2))\n",
    "\n",
    "#----------------------------------#\n",
    "\n",
    "# Conclusion\n",
    "\n",
    "\"\"\"\n",
    "Great! There are about 9% donors in the basetable that never donated before.\n",
    "\"\"\""
   ]
  },
  {
   "cell_type": "code",
   "execution_count": 29,
   "metadata": {},
   "outputs": [
    {
     "data": {
      "text/html": [
       "<div>\n",
       "<style scoped>\n",
       "    .dataframe tbody tr th:only-of-type {\n",
       "        vertical-align: middle;\n",
       "    }\n",
       "\n",
       "    .dataframe tbody tr th {\n",
       "        vertical-align: top;\n",
       "    }\n",
       "\n",
       "    .dataframe thead th {\n",
       "        text-align: right;\n",
       "    }\n",
       "</style>\n",
       "<table border=\"1\" class=\"dataframe\">\n",
       "  <thead>\n",
       "    <tr style=\"text-align: right;\">\n",
       "      <th></th>\n",
       "      <th>donor_id</th>\n",
       "      <th>age</th>\n",
       "    </tr>\n",
       "  </thead>\n",
       "  <tbody>\n",
       "    <tr>\n",
       "      <th>0</th>\n",
       "      <td>32768</td>\n",
       "      <td>NaN</td>\n",
       "    </tr>\n",
       "    <tr>\n",
       "      <th>1</th>\n",
       "      <td>65543</td>\n",
       "      <td>73.0</td>\n",
       "    </tr>\n",
       "    <tr>\n",
       "      <th>2</th>\n",
       "      <td>65546</td>\n",
       "      <td>90.0</td>\n",
       "    </tr>\n",
       "    <tr>\n",
       "      <th>3</th>\n",
       "      <td>32778</td>\n",
       "      <td>NaN</td>\n",
       "    </tr>\n",
       "    <tr>\n",
       "      <th>4</th>\n",
       "      <td>32780</td>\n",
       "      <td>66.0</td>\n",
       "    </tr>\n",
       "  </tbody>\n",
       "</table>\n",
       "</div>"
      ],
      "text/plain": [
       "   donor_id   age\n",
       "0     32768   NaN\n",
       "1     65543  73.0\n",
       "2     65546  90.0\n",
       "3     32778   NaN\n",
       "4     32780  66.0"
      ]
     },
     "execution_count": 29,
     "metadata": {},
     "output_type": "execute_result"
    }
   ],
   "source": [
    "basetable = pd.read_csv(path_data+'basetable_na.csv')\n",
    "basetable.head()"
   ]
  },
  {
   "cell_type": "code",
   "execution_count": 30,
   "metadata": {
    "tags": []
   },
   "outputs": [
    {
     "name": "stdout",
     "output_type": "stream",
     "text": [
      "58.0\n",
      "58.0\n"
     ]
    },
    {
     "data": {
      "text/plain": [
       "'\\nWell done! The median does not change after replace missing values by the median. This is an indication that replacing missing values by the median will not affect the predictive model a lot.\\n'"
      ]
     },
     "execution_count": 30,
     "metadata": {},
     "output_type": "execute_result"
    }
   ],
   "source": [
    "# exercise 05\n",
    "\n",
    "\"\"\"\n",
    "Replace missing values with the median value\n",
    "\n",
    "Given is a basetable that has a predictive variable age of the donors that has missing values in it. It is a good idea to replace these missing values by the median age of the donors.\n",
    "\"\"\"\n",
    "\n",
    "# Instructions\n",
    "\n",
    "\"\"\"\n",
    "\n",
    "    Calculate the median age of all donors and assign this value to median_age.\n",
    "    Replace missing values in age by median_age.\n",
    "    Calculate the median age of all donors after the replacement is done.\n",
    "\n",
    "\"\"\"\n",
    "\n",
    "# solution\n",
    "\n",
    "# Calculate the median of age\n",
    "median_age = basetable[\"age\"].median()\n",
    "print(median_age)\n",
    "\n",
    "# Replace missing values by the median\n",
    "basetable[\"age\"] = basetable[\"age\"].fillna(median_age)\n",
    "\n",
    "# Calculate the median of age after replacement\n",
    "median_age = basetable[\"age\"].median()\n",
    "print(median_age)\n",
    "\n",
    "#----------------------------------#\n",
    "\n",
    "# Conclusion\n",
    "\n",
    "\"\"\"\n",
    "Well done! The median does not change after replace missing values by the median. This is an indication that replacing missing values by the median will not affect the predictive model a lot.\n",
    "\"\"\""
   ]
  },
  {
   "cell_type": "code",
   "execution_count": 12,
   "metadata": {
    "tags": []
   },
   "outputs": [
    {
     "data": {
      "text/plain": [
       "'\\n\\n'"
      ]
     },
     "execution_count": 12,
     "metadata": {},
     "output_type": "execute_result"
    }
   ],
   "source": [
    "# exercise 06\n",
    "\n",
    "\"\"\"\n",
    "Replace missing values with a fixed value\n",
    "\n",
    "Given a basetable that has a predictive variable \"total_donations\", indicate the total amount of donations made by each donor in the population. If a value is missing for this predictive variable, it means that this is a new donor that did not make any donations yet. In this case, logical reasoning can be used to know by which value we should replace missing values.\n",
    "\"\"\"\n",
    "\n",
    "# Instructions\n",
    "\n",
    "\"\"\"\n",
    "\n",
    "    Assign the replacement value for missing values to replacement.\n",
    "    Replace missing values in the column total_donations by this replacement.\n",
    "\n",
    "\"\"\"\n",
    "\n",
    "# solution\n",
    "\n",
    "# Missing values replacement\n",
    "replacement = 0\n",
    "\n",
    "# Replace missing values by the appropriate value\n",
    "basetable[\"total_donations\"] = basetable[\"total_donations\"].fillna(replacement)\n",
    "\n",
    "#----------------------------------#\n",
    "\n",
    "# Conclusion\n",
    "\n",
    "\"\"\"\n",
    "Nice! Donors that did not make any donation yet, have a total donation amount of 0.\n",
    "\"\"\""
   ]
  },
  {
   "cell_type": "code",
   "execution_count": 31,
   "metadata": {},
   "outputs": [
    {
     "data": {
      "text/html": [
       "<div>\n",
       "<style scoped>\n",
       "    .dataframe tbody tr th:only-of-type {\n",
       "        vertical-align: middle;\n",
       "    }\n",
       "\n",
       "    .dataframe tbody tr th {\n",
       "        vertical-align: top;\n",
       "    }\n",
       "\n",
       "    .dataframe thead th {\n",
       "        text-align: right;\n",
       "    }\n",
       "</style>\n",
       "<table border=\"1\" class=\"dataframe\">\n",
       "  <thead>\n",
       "    <tr style=\"text-align: right;\">\n",
       "      <th></th>\n",
       "      <th>donor_id</th>\n",
       "      <th>sum_donations</th>\n",
       "    </tr>\n",
       "  </thead>\n",
       "  <tbody>\n",
       "    <tr>\n",
       "      <th>0</th>\n",
       "      <td>65538</td>\n",
       "      <td>886</td>\n",
       "    </tr>\n",
       "    <tr>\n",
       "      <th>1</th>\n",
       "      <td>2</td>\n",
       "      <td>464</td>\n",
       "    </tr>\n",
       "    <tr>\n",
       "      <th>2</th>\n",
       "      <td>7</td>\n",
       "      <td>408</td>\n",
       "    </tr>\n",
       "    <tr>\n",
       "      <th>3</th>\n",
       "      <td>32776</td>\n",
       "      <td>880</td>\n",
       "    </tr>\n",
       "    <tr>\n",
       "      <th>4</th>\n",
       "      <td>98313</td>\n",
       "      <td>310</td>\n",
       "    </tr>\n",
       "  </tbody>\n",
       "</table>\n",
       "</div>"
      ],
      "text/plain": [
       "   donor_id  sum_donations\n",
       "0     65538            886\n",
       "1         2            464\n",
       "2         7            408\n",
       "3     32776            880\n",
       "4     98313            310"
      ]
     },
     "execution_count": 31,
     "metadata": {},
     "output_type": "execute_result"
    }
   ],
   "source": [
    "basetable = pd.read_csv(path_data+'basetable_ch03-sum_donations.csv')\n",
    "basetable.head()"
   ]
  },
  {
   "cell_type": "code",
   "execution_count": 32,
   "metadata": {
    "tags": []
   },
   "outputs": [
    {
     "name": "stdout",
     "output_type": "stream",
     "text": [
      "50\n",
      "999\n",
      "953\n"
     ]
    },
    {
     "data": {
      "text/plain": [
       "'\\nWell done. After winsorization, the maximum sum of donations drops from 999 to 953.\\n'"
      ]
     },
     "execution_count": 32,
     "metadata": {},
     "output_type": "execute_result"
    }
   ],
   "source": [
    "# exercise 07\n",
    "\n",
    "\"\"\"\n",
    "Handle outliers with winsorization\n",
    "\n",
    "Given is a basetable with two variables: \"sum\\_donations\" and \"donor\\_id\". \"sum_donations can contain outliers when donors have donated exceptional amounts. Therefore, you want to winsorize this variable such that the 5% highest amounts are replaced by the upper 5% percentile value.\n",
    "\"\"\"\n",
    "\n",
    "# Instructions\n",
    "\n",
    "\"\"\"\n",
    "\n",
    "    Print the minimum value of sum_donations and verify that it is at least 0. Then print the maximum value of sum_donations.\n",
    "    Fill out the appropriate lower limit percentile. As all values higher than 0 are realistic and occur often, it is not necessary to replace values lower than the lower limit percentile value.\n",
    "    Create a new variable \"sum_donations_winsorized\" that is a winsorized version of the \"sum_donations\" variable.\n",
    "    Print the maximum value of sum_donations_winsorized.\n",
    "\n",
    "\"\"\"\n",
    "\n",
    "# solution\n",
    "\n",
    "from scipy.stats.mstats import winsorize\n",
    "\n",
    "# Check minimum sum of donations\n",
    "print(basetable[\"sum_donations\"].min())\n",
    "print(basetable[\"sum_donations\"].max())\n",
    "\n",
    "# Fill out the lower limit\n",
    "lower_limit = 0.0\n",
    "\n",
    "# Winsorize the variable sum_donations\n",
    "basetable[\"sum_donations_winsorized\"] = winsorize(basetable[\"sum_donations\"], limits=[lower_limit, 0.05])\n",
    "\n",
    "# Check maximum sum of donations after winsorization\n",
    "print(basetable[\"sum_donations_winsorized\"].max())\n",
    "\n",
    "#----------------------------------#\n",
    "\n",
    "# Conclusion\n",
    "\n",
    "\"\"\"\n",
    "Well done. After winsorization, the maximum sum of donations drops from 999 to 953.\n",
    "\"\"\""
   ]
  },
  {
   "cell_type": "code",
   "execution_count": 34,
   "metadata": {},
   "outputs": [
    {
     "data": {
      "text/html": [
       "<div>\n",
       "<style scoped>\n",
       "    .dataframe tbody tr th:only-of-type {\n",
       "        vertical-align: middle;\n",
       "    }\n",
       "\n",
       "    .dataframe tbody tr th {\n",
       "        vertical-align: top;\n",
       "    }\n",
       "\n",
       "    .dataframe thead th {\n",
       "        text-align: right;\n",
       "    }\n",
       "</style>\n",
       "<table border=\"1\" class=\"dataframe\">\n",
       "  <thead>\n",
       "    <tr style=\"text-align: right;\">\n",
       "      <th></th>\n",
       "      <th>target</th>\n",
       "      <th>age</th>\n",
       "      <th>gender_F</th>\n",
       "      <th>donations_2017</th>\n",
       "      <th>donations_2017_min_2016</th>\n",
       "    </tr>\n",
       "  </thead>\n",
       "  <tbody>\n",
       "    <tr>\n",
       "      <th>0</th>\n",
       "      <td>1</td>\n",
       "      <td>42</td>\n",
       "      <td>0</td>\n",
       "      <td>10</td>\n",
       "      <td>7</td>\n",
       "    </tr>\n",
       "    <tr>\n",
       "      <th>1</th>\n",
       "      <td>1</td>\n",
       "      <td>73</td>\n",
       "      <td>0</td>\n",
       "      <td>4</td>\n",
       "      <td>1</td>\n",
       "    </tr>\n",
       "    <tr>\n",
       "      <th>2</th>\n",
       "      <td>1</td>\n",
       "      <td>37</td>\n",
       "      <td>0</td>\n",
       "      <td>6</td>\n",
       "      <td>3</td>\n",
       "    </tr>\n",
       "    <tr>\n",
       "      <th>3</th>\n",
       "      <td>1</td>\n",
       "      <td>75</td>\n",
       "      <td>0</td>\n",
       "      <td>2</td>\n",
       "      <td>-4</td>\n",
       "    </tr>\n",
       "    <tr>\n",
       "      <th>4</th>\n",
       "      <td>1</td>\n",
       "      <td>32</td>\n",
       "      <td>1</td>\n",
       "      <td>9</td>\n",
       "      <td>5</td>\n",
       "    </tr>\n",
       "  </tbody>\n",
       "</table>\n",
       "</div>"
      ],
      "text/plain": [
       "   target  age  gender_F  donations_2017  donations_2017_min_2016\n",
       "0       1   42         0              10                        7\n",
       "1       1   73         0               4                        1\n",
       "2       1   37         0               6                        3\n",
       "3       1   75         0               2                       -4\n",
       "4       1   32         1               9                        5"
      ]
     },
     "execution_count": 34,
     "metadata": {},
     "output_type": "execute_result"
    }
   ],
   "source": [
    "basetable = pd.read_csv(path_data+'basetable_evo.csv').drop('Unnamed: 0', axis=1)\n",
    "basetable.head()"
   ]
  },
  {
   "cell_type": "code",
   "execution_count": 35,
   "metadata": {
    "tags": []
   },
   "outputs": [
    {
     "name": "stdout",
     "output_type": "stream",
     "text": [
      "110\n",
      "105.79396715064479\n"
     ]
    },
    {
     "data": {
      "text/plain": [
       "'\\nGreat! The unrealistic value 140 is now replaced by 94.\\n'"
      ]
     },
     "execution_count": 35,
     "metadata": {},
     "output_type": "execute_result"
    }
   ],
   "source": [
    "# exercise 08\n",
    "\n",
    "\"\"\"\n",
    "Handle outliers with standard deviation\n",
    "\n",
    "Given a basetable that has one variable \"age\". The age is manually filled out in an online form by the donor and is therefore prone to typing errors and can have outliers. Replace all values that are lower than the mean age minus 3 times the standard deviation of age by this value, and replace all values that are higher than the mean age plus 3 times the standard deviation of age by this value.\n",
    "\"\"\"\n",
    "\n",
    "# Instructions\n",
    "\n",
    "\"\"\"\n",
    "\n",
    "    Print the maximum value of \"age\".\n",
    "    Calculate the mean and standard deviation of \"age\".\n",
    "    Calculate the lower and upper limits using the standard deviation rule of thumb.\n",
    "    Add a variable \"age_mod\" to the basetable with outliers replaced, and print the new maximum value of \"age _mod\".\n",
    "\n",
    "\"\"\"\n",
    "\n",
    "# solution (Using diferent table)\n",
    "\n",
    "# Show the maximum age \n",
    "print(basetable[\"age\"].max())\n",
    "\n",
    "# Calculate mean and standard deviation of age\n",
    "mean_age = basetable[\"age\"].mean()\n",
    "std_age = basetable[\"age\"].std()\n",
    "\n",
    "# Calculate the lower and upper limits\n",
    "lower_limit = mean_age - 3 * std_age\n",
    "upper_limit = mean_age + 3 * std_age\n",
    "\n",
    "# Add a variable age_no_outliers to the basetable with outliers replaced\n",
    "basetable[\"age_mod\"] = (pd.Series([min(max(lower_limit, a), upper_limit) \n",
    "                             for a in basetable[\"age\"]]))\n",
    "print(basetable[\"age_mod\"].max())\n",
    "\n",
    "#----------------------------------#\n",
    "\n",
    "# Conclusion\n",
    "\n",
    "\"\"\"\n",
    "Great! The unrealistic value 140 is now replaced by 94.\n",
    "\"\"\""
   ]
  },
  {
   "cell_type": "code",
   "execution_count": 36,
   "metadata": {},
   "outputs": [
    {
     "data": {
      "text/html": [
       "<div>\n",
       "<style scoped>\n",
       "    .dataframe tbody tr th:only-of-type {\n",
       "        vertical-align: middle;\n",
       "    }\n",
       "\n",
       "    .dataframe tbody tr th {\n",
       "        vertical-align: top;\n",
       "    }\n",
       "\n",
       "    .dataframe thead th {\n",
       "        text-align: right;\n",
       "    }\n",
       "</style>\n",
       "<table border=\"1\" class=\"dataframe\">\n",
       "  <thead>\n",
       "    <tr style=\"text-align: right;\">\n",
       "      <th></th>\n",
       "      <th>donor_id</th>\n",
       "      <th>donations</th>\n",
       "    </tr>\n",
       "  </thead>\n",
       "  <tbody>\n",
       "    <tr>\n",
       "      <th>0</th>\n",
       "      <td>1</td>\n",
       "      <td>100</td>\n",
       "    </tr>\n",
       "    <tr>\n",
       "      <th>1</th>\n",
       "      <td>2</td>\n",
       "      <td>1100</td>\n",
       "    </tr>\n",
       "    <tr>\n",
       "      <th>2</th>\n",
       "      <td>3</td>\n",
       "      <td>10000</td>\n",
       "    </tr>\n",
       "    <tr>\n",
       "      <th>3</th>\n",
       "      <td>4</td>\n",
       "      <td>11000</td>\n",
       "    </tr>\n",
       "  </tbody>\n",
       "</table>\n",
       "</div>"
      ],
      "text/plain": [
       "   donor_id  donations\n",
       "0         1        100\n",
       "1         2       1100\n",
       "2         3      10000\n",
       "3         4      11000"
      ]
     },
     "execution_count": 36,
     "metadata": {},
     "output_type": "execute_result"
    }
   ],
   "source": [
    "\"\"\"\n",
    "   donor_id  donations\n",
    "0         1        100\n",
    "1         2       1100\n",
    "2         3      10000\n",
    "3         4      11000\"\"\"\n",
    "\n",
    "basetable = pd.read_clipboard()\n",
    "basetable.head()"
   ]
  },
  {
   "cell_type": "code",
   "execution_count": 38,
   "metadata": {
    "tags": []
   },
   "outputs": [
    {
     "name": "stdout",
     "output_type": "stream",
     "text": [
      "   donor_id  donations  donations_log  donations_sqrt\n",
      "0         1        100       4.605170       10.000000\n",
      "1         2       1100       7.003065       33.166248\n",
      "2         3      10000       9.210340      100.000000\n",
      "3         4      11000       9.305651      104.880885\n"
     ]
    },
    {
     "data": {
      "text/plain": [
       "\"\\nGreat! Observe that the differences in the column 'donations_sqrt' are smaller than in the column 'donations_log'. It depends on the situation which one to use, one option could be to add both to the predictive model and let the variable selection algorithm decide which one to use.\\n\""
      ]
     },
     "execution_count": 38,
     "metadata": {},
     "output_type": "execute_result"
    }
   ],
   "source": [
    "# exercise 09\n",
    "\n",
    "\"\"\"\n",
    "Square root transformation\n",
    "\n",
    "In the video you learned that the logarithmic function can be used to flatten out differences between values. An alternative for the logarithmic function is the square root: this function will also flatten out differences between values but the effect is slightly weaker.\n",
    "\n",
    "Given is a very small basetable with population 4 donors and the predictive variable \"donations\" that has the total amount of donations last year. In this exercise you will add the logarithmic and square root transformation to this basetable and compare the effect of both transformations.\n",
    "\"\"\"\n",
    "\n",
    "# Instructions\n",
    "\n",
    "\"\"\"\n",
    "\n",
    "    Add the log transformation of the variable \"donations\" to the basetable.\n",
    "    Add the square root transformation of the variable \"donations\" to the basetable.\n",
    "    Print the basetable with these added features.\n",
    "\n",
    "\"\"\"\n",
    "\n",
    "# solution\n",
    "import numpy as np\n",
    "# Add the log transformation of the variable \"donations\"\n",
    "basetable[\"donations_log\"] = np.log(basetable[\"donations\"])\n",
    "\n",
    "# Add the square root transformation of the variable \"donations\"\n",
    "basetable[\"donations_sqrt\"] = np.sqrt(basetable[\"donations\"])\n",
    "\n",
    "# Compare the transformations\n",
    "print(basetable)\n",
    "\n",
    "#----------------------------------#\n",
    "\n",
    "# Conclusion\n",
    "\n",
    "\"\"\"\n",
    "Great! Observe that the differences in the column 'donations_sqrt' are smaller than in the column 'donations_log'. It depends on the situation which one to use, one option could be to add both to the predictive model and let the variable selection algorithm decide which one to use.\n",
    "\"\"\""
   ]
  },
  {
   "cell_type": "code",
   "execution_count": 39,
   "metadata": {},
   "outputs": [
    {
     "data": {
      "text/html": [
       "<div>\n",
       "<style scoped>\n",
       "    .dataframe tbody tr th:only-of-type {\n",
       "        vertical-align: middle;\n",
       "    }\n",
       "\n",
       "    .dataframe tbody tr th {\n",
       "        vertical-align: top;\n",
       "    }\n",
       "\n",
       "    .dataframe thead th {\n",
       "        text-align: right;\n",
       "    }\n",
       "</style>\n",
       "<table border=\"1\" class=\"dataframe\">\n",
       "  <thead>\n",
       "    <tr style=\"text-align: right;\">\n",
       "      <th></th>\n",
       "      <th>id</th>\n",
       "      <th>target</th>\n",
       "      <th>country_Spain</th>\n",
       "      <th>country_France</th>\n",
       "      <th>age</th>\n",
       "    </tr>\n",
       "  </thead>\n",
       "  <tbody>\n",
       "    <tr>\n",
       "      <th>0</th>\n",
       "      <td>1416</td>\n",
       "      <td>0</td>\n",
       "      <td>1</td>\n",
       "      <td>0</td>\n",
       "      <td>25.0</td>\n",
       "    </tr>\n",
       "    <tr>\n",
       "      <th>1</th>\n",
       "      <td>1046</td>\n",
       "      <td>0</td>\n",
       "      <td>1</td>\n",
       "      <td>0</td>\n",
       "      <td>44.0</td>\n",
       "    </tr>\n",
       "    <tr>\n",
       "      <th>2</th>\n",
       "      <td>8912</td>\n",
       "      <td>0</td>\n",
       "      <td>0</td>\n",
       "      <td>1</td>\n",
       "      <td>59.0</td>\n",
       "    </tr>\n",
       "    <tr>\n",
       "      <th>3</th>\n",
       "      <td>3531</td>\n",
       "      <td>0</td>\n",
       "      <td>1</td>\n",
       "      <td>0</td>\n",
       "      <td>57.0</td>\n",
       "    </tr>\n",
       "    <tr>\n",
       "      <th>4</th>\n",
       "      <td>7009</td>\n",
       "      <td>0</td>\n",
       "      <td>0</td>\n",
       "      <td>1</td>\n",
       "      <td>43.0</td>\n",
       "    </tr>\n",
       "  </tbody>\n",
       "</table>\n",
       "</div>"
      ],
      "text/plain": [
       "     id  target  country_Spain  country_France   age\n",
       "0  1416       0              1               0  25.0\n",
       "1  1046       0              1               0  44.0\n",
       "2  8912       0              0               1  59.0\n",
       "3  3531       0              1               0  57.0\n",
       "4  7009       0              0               1  43.0"
      ]
     },
     "execution_count": 39,
     "metadata": {},
     "output_type": "execute_result"
    }
   ],
   "source": [
    "basetable = pd.read_csv(path_data+'basetable_interactions.csv')\n",
    "basetable.head()"
   ]
  },
  {
   "cell_type": "code",
   "execution_count": 45,
   "metadata": {},
   "outputs": [],
   "source": [
    "from sklearn import linear_model\n",
    "from sklearn.metrics import roc_auc_score\n",
    "\n",
    "def auc(variables, basetable):\n",
    "    train = basetable[:7500]\n",
    "    test = basetable[7500:]\n",
    "    # Create training data\n",
    "    X = train[variables]\n",
    "    Y = train[\"target\"]\n",
    "    # Fit model\n",
    "    logreg = linear_model.LogisticRegression()\n",
    "    logreg.fit(X, Y)\n",
    "    predictions = logreg.predict_proba(test[variables])[:,1]\n",
    "    auc_regular = roc_auc_score(test[\"target\"], predictions)\n",
    "    return(auc_regular)\n"
   ]
  },
  {
   "cell_type": "code",
   "execution_count": 46,
   "metadata": {
    "tags": []
   },
   "outputs": [
    {
     "name": "stdout",
     "output_type": "stream",
     "text": [
      "0.5119930184229574\n",
      "0.4986671180952825\n",
      "0.5122868361858952\n",
      "0.5182935609156217\n"
     ]
    },
    {
     "data": {
      "text/plain": [
       "'\\nWell done! In this exercise you can observe that in some cases, adding interactions can improve the predictive power of your model.\\n'"
      ]
     },
     "execution_count": 46,
     "metadata": {},
     "output_type": "execute_result"
    }
   ],
   "source": [
    "# exercise 10\n",
    "\n",
    "\"\"\"\n",
    "Adding interactions to the basetable\n",
    "\n",
    "Assume that a non-profit organisation wants to launch a campaign in Spain and France, and wants to know which donors are most likely to donate. Given is a basetable with predictive variables \"age\", \"country_Spain\", \"country_France\" and the target \"target\". For your convenience, a function auc is implemented that returns the AUC on partitioned data, taking two arguments, namely the set of variables considered and the basetable:\n",
    "\n",
    "auc([\"variable_1\",\"variable_2\"], basetable)\n",
    "0.51\n",
    "\n",
    "In this exercise, you will learn how to add interactions to the basetable and verify whether this improves the AUC of the predictive model.\n",
    "\"\"\"\n",
    "\n",
    "# Instructions\n",
    "\n",
    "\"\"\"\n",
    "\n",
    "    Print the AUC of a model using age only and the AUC of a model using country_Spain only.\n",
    "    Print the AUC of a model using age and country_Spain.\n",
    "    Add two interaction terms, namely age with country_Spain and age with country_France to the basetable.\n",
    "    Print the AUC of a model using age, country_Spain and the interaction terms.\n",
    "\n",
    "\"\"\"\n",
    "\n",
    "# solution\n",
    "\n",
    "# Calculate AUC using age only\n",
    "print(auc([\"age\"], basetable))\n",
    "\n",
    "# Calculate AUC using country_Spain only\n",
    "print(auc([\"country_Spain\"], basetable))\n",
    "\n",
    "# Calculate AUC using age and country_Spain\n",
    "print(auc([\"age\", \"country_Spain\"], basetable))\n",
    "\n",
    "# Add interactions country_Spain x age and country_France x age\n",
    "basetable[\"spain_age\"] = basetable[\"country_Spain\"] * basetable[\"age\"]\n",
    "basetable[\"france_age\"] = basetable[\"country_France\"] * basetable[\"age\"]\n",
    "\n",
    "# Calculate AUC using age, country_Spain and interactions\n",
    "print(auc([\"age\", \"country_Spain\", \"spain_age\", \"france_age\"], basetable))\n",
    "\n",
    "#----------------------------------#\n",
    "\n",
    "# Conclusion\n",
    "\n",
    "\"\"\"\n",
    "Well done! In this exercise you can observe that in some cases, adding interactions can improve the predictive power of your model.\n",
    "\"\"\""
   ]
  }
 ],
 "metadata": {
  "kernelspec": {
   "display_name": "Python 3 (ipykernel)",
   "language": "python",
   "name": "python3"
  },
  "language_info": {
   "codemirror_mode": {
    "name": "ipython",
    "version": 3
   },
   "file_extension": ".py",
   "mimetype": "text/x-python",
   "name": "python",
   "nbconvert_exporter": "python",
   "pygments_lexer": "ipython3",
   "version": "3.11.5"
  }
 },
 "nbformat": 4,
 "nbformat_minor": 4
}
