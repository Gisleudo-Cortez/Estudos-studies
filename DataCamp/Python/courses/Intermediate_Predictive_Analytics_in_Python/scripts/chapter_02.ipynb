{
 "cells": [
  {
   "cell_type": "code",
   "execution_count": 79,
   "metadata": {
    "tags": []
   },
   "outputs": [],
   "source": [
    "# run this to shorten the data import from the files\n",
    "import os\n",
    "path_data = os.path.join(os.path.dirname(os.getcwd()), 'datasets/')\n"
   ]
  },
  {
   "cell_type": "code",
   "execution_count": 80,
   "metadata": {},
   "outputs": [
    {
     "data": {
      "text/plain": [
       "'\\nGreat!\\n'"
      ]
     },
     "execution_count": 80,
     "metadata": {},
     "output_type": "execute_result"
    }
   ],
   "source": [
    "# exercise 01\n",
    "\n",
    "\"\"\"\n",
    "Selecting the right value\n",
    "\n",
    "Consider the following timeline that you are using to construct a predictive model. A certain donor in the population has changed his living place several times.\n",
    "\n",
    "    Initial living place: USA\n",
    "    March 2nd 2015: changed living place to Germany\n",
    "    August 15th 2017: changed living place to Belgium\n",
    "    April 26th 2018: changed living place to India\n",
    "\n",
    "\"\"\"\n",
    "\n",
    "# Instructions\n",
    "\n",
    "\"\"\"\n",
    "USA\n",
    "\n",
    "\n",
    "Germany\n",
    "\n",
    "\n",
    "Belgium (Answer)\n",
    "\n",
    "\n",
    "India\n",
    "\"\"\"\n",
    "\n",
    "# solution\n",
    "\n",
    "\n",
    "\n",
    "#----------------------------------#\n",
    "\n",
    "# Conclusion\n",
    "\n",
    "\"\"\"\n",
    "Great!\n",
    "\"\"\""
   ]
  },
  {
   "cell_type": "code",
   "execution_count": 81,
   "metadata": {},
   "outputs": [
    {
     "data": {
      "text/html": [
       "<div>\n",
       "<style scoped>\n",
       "    .dataframe tbody tr th:only-of-type {\n",
       "        vertical-align: middle;\n",
       "    }\n",
       "\n",
       "    .dataframe tbody tr th {\n",
       "        vertical-align: top;\n",
       "    }\n",
       "\n",
       "    .dataframe thead th {\n",
       "        text-align: right;\n",
       "    }\n",
       "</style>\n",
       "<table border=\"1\" class=\"dataframe\">\n",
       "  <thead>\n",
       "    <tr style=\"text-align: right;\">\n",
       "      <th></th>\n",
       "      <th>donor_id</th>\n",
       "      <th>date_of_birth</th>\n",
       "    </tr>\n",
       "  </thead>\n",
       "  <tbody>\n",
       "    <tr>\n",
       "      <th>0</th>\n",
       "      <td>98305</td>\n",
       "      <td>1992-02-12</td>\n",
       "    </tr>\n",
       "    <tr>\n",
       "      <th>1</th>\n",
       "      <td>1</td>\n",
       "      <td>1961-10-02</td>\n",
       "    </tr>\n",
       "    <tr>\n",
       "      <th>2</th>\n",
       "      <td>65539</td>\n",
       "      <td>1996-05-09</td>\n",
       "    </tr>\n",
       "    <tr>\n",
       "      <th>3</th>\n",
       "      <td>98308</td>\n",
       "      <td>1921-07-01</td>\n",
       "    </tr>\n",
       "    <tr>\n",
       "      <th>4</th>\n",
       "      <td>98309</td>\n",
       "      <td>1912-03-15</td>\n",
       "    </tr>\n",
       "  </tbody>\n",
       "</table>\n",
       "</div>"
      ],
      "text/plain": [
       "   donor_id date_of_birth\n",
       "0     98305    1992-02-12\n",
       "1         1    1961-10-02\n",
       "2     65539    1996-05-09\n",
       "3     98308    1921-07-01\n",
       "4     98309    1912-03-15"
      ]
     },
     "execution_count": 81,
     "metadata": {},
     "output_type": "execute_result"
    }
   ],
   "source": [
    "import pandas as pd\n",
    "basetable = pd.read_csv(path_data+'basetable_ch02-01.csv', parse_dates=['date_of_birth'], date_format=\"%Y-%m-%d\")\n",
    "basetable.head()"
   ]
  },
  {
   "cell_type": "code",
   "execution_count": 82,
   "metadata": {},
   "outputs": [],
   "source": [
    "def calculate_age(date_of_birth, reference_date):\n",
    "    age = reference_date.year - date_of_birth.year\n",
    "    if ((date_of_birth.month > reference_date.month) | \n",
    "        ((date_of_birth.month == reference_date.month) &\n",
    "         (date_of_birth.day > reference_date.day))):\n",
    "        age = age - 1\n",
    "    return(age)\n"
   ]
  },
  {
   "cell_type": "code",
   "execution_count": 83,
   "metadata": {
    "tags": []
   },
   "outputs": [
    {
     "name": "stdout",
     "output_type": "stream",
     "text": [
      "62\n"
     ]
    },
    {
     "data": {
      "text/plain": [
       "'\\nWell done. The average age is 62.\\n'"
      ]
     },
     "execution_count": 83,
     "metadata": {},
     "output_type": "execute_result"
    }
   ],
   "source": [
    "# exercise 02\n",
    "\n",
    "\"\"\"\n",
    "Adding age\n",
    "\n",
    "Given is an early stage basetable that contains the donor ID and birth date of candidate donors. In this exercise you will learn to add the age of these donors to the basetable. The method to calculate \"age\" is already implemented for your convenience. Keep in mind the following timeline of the basetable:\n",
    "\n",
    "\n",
    "\"\"\"\n",
    "\n",
    "# Instructions\n",
    "\n",
    "\"\"\"\n",
    "\n",
    "    Fill out the reference date.\n",
    "    Add a column \"age\" to the basetable that is the age of the donor on the reference date. The function calculate_age has been implemented for you. It takes date_of_birth and reference_date as arguments.\n",
    "    Print the mean age of all donors.\n",
    "\n",
    "\"\"\"\n",
    "\n",
    "# solution\n",
    "from datetime import datetime\n",
    "\n",
    "# Reference date\n",
    "reference_date = datetime(2017, 5, 1)\n",
    "\n",
    "# Add age to the basetable\n",
    "basetable[\"age\"] = (pd.Series([calculate_age(date_of_birth, reference_date)\n",
    "                              for date_of_birth in basetable[\"date_of_birth\"]]))\n",
    "\n",
    "# Calculate mean age\n",
    "print(round(basetable[\"age\"].mean()))\n",
    "\n",
    "#----------------------------------#\n",
    "\n",
    "# Conclusion\n",
    "\n",
    "\"\"\"\n",
    "Well done. The average age is 62.\n",
    "\"\"\""
   ]
  },
  {
   "cell_type": "code",
   "execution_count": 84,
   "metadata": {},
   "outputs": [
    {
     "data": {
      "text/html": [
       "<div>\n",
       "<style scoped>\n",
       "    .dataframe tbody tr th:only-of-type {\n",
       "        vertical-align: middle;\n",
       "    }\n",
       "\n",
       "    .dataframe tbody tr th {\n",
       "        vertical-align: top;\n",
       "    }\n",
       "\n",
       "    .dataframe thead th {\n",
       "        text-align: right;\n",
       "    }\n",
       "</style>\n",
       "<table border=\"1\" class=\"dataframe\">\n",
       "  <thead>\n",
       "    <tr style=\"text-align: right;\">\n",
       "      <th></th>\n",
       "      <th>donor_id</th>\n",
       "      <th>segment</th>\n",
       "    </tr>\n",
       "  </thead>\n",
       "  <tbody>\n",
       "    <tr>\n",
       "      <th>0</th>\n",
       "      <td>18728</td>\n",
       "      <td>silver</td>\n",
       "    </tr>\n",
       "    <tr>\n",
       "      <th>1</th>\n",
       "      <td>729</td>\n",
       "      <td>gold</td>\n",
       "    </tr>\n",
       "    <tr>\n",
       "      <th>2</th>\n",
       "      <td>27922</td>\n",
       "      <td>silver</td>\n",
       "    </tr>\n",
       "    <tr>\n",
       "      <th>3</th>\n",
       "      <td>70087</td>\n",
       "      <td>silver</td>\n",
       "    </tr>\n",
       "    <tr>\n",
       "      <th>4</th>\n",
       "      <td>24611</td>\n",
       "      <td>gold</td>\n",
       "    </tr>\n",
       "  </tbody>\n",
       "</table>\n",
       "</div>"
      ],
      "text/plain": [
       "   donor_id segment\n",
       "0     18728  silver\n",
       "1       729    gold\n",
       "2     27922  silver\n",
       "3     70087  silver\n",
       "4     24611    gold"
      ]
     },
     "execution_count": 84,
     "metadata": {},
     "output_type": "execute_result"
    }
   ],
   "source": [
    "segments = pd.read_csv(path_data+'segments.csv')\n",
    "segments.head()"
   ]
  },
  {
   "cell_type": "code",
   "execution_count": 85,
   "metadata": {},
   "outputs": [],
   "source": [
    "basetable = pd.read_csv(path_data+'donor_id.csv')"
   ]
  },
  {
   "cell_type": "code",
   "execution_count": 86,
   "metadata": {
    "tags": []
   },
   "outputs": [
    {
     "name": "stdout",
     "output_type": "stream",
     "text": [
      "9055\n"
     ]
    },
    {
     "data": {
      "text/plain": [
       "'\\nNice! You can observe that there are a high number of missing values. You will learn how to deal with them in the next chapter.\\n'"
      ]
     },
     "execution_count": 86,
     "metadata": {},
     "output_type": "execute_result"
    }
   ],
   "source": [
    "# exercise 03\n",
    "\n",
    "\"\"\"\n",
    "Adding the donor segment\n",
    "\n",
    "Besides age, you also want to add the segment of a donor to the basetable. A selected group of donors that has made many donations in the past is assigned a segment: bronze, silver or gold. Given is an early stage basetable and a pandas dataframe segments that contains the segments for a selected group of the donors in the basetable. In this exercise you will add the segment to the basetable.\n",
    "\n",
    "You can left join two pandas dataframes using the following code:\n",
    "\n",
    "merged_df = pd.merge(df1, df2, on=[\"merge_id\"],how=\"left\")\n",
    "\n",
    "\"\"\"\n",
    "\n",
    "# Instructions\n",
    "\n",
    "\"\"\"\n",
    "\n",
    "    The donor id column is \"donor_id\" both in segments and basetable. Add the segment to the basetable.\n",
    "    Count the number of donors in each segment.\n",
    "    Count the number of donors with no segment assigned.\n",
    "\n",
    "\"\"\"\n",
    "\n",
    "# solution\n",
    "\n",
    "# Add the donor segment to the basetable\n",
    "basetable = pd.merge(basetable, segments, on =[\"donor_id\"], how=\"left\")\n",
    "\n",
    "# Count the number of donors in each segment\n",
    "basetable.groupby(\"segment\").size()\n",
    "\n",
    "# Count the number of donors with no segment assigned\n",
    "print(basetable[\"segment\"].isna().sum())\n",
    "\n",
    "#----------------------------------#\n",
    "\n",
    "# Conclusion\n",
    "\n",
    "\"\"\"\n",
    "Nice! You can observe that there are a high number of missing values. You will learn how to deal with them in the next chapter.\n",
    "\"\"\""
   ]
  },
  {
   "cell_type": "code",
   "execution_count": 87,
   "metadata": {},
   "outputs": [
    {
     "data": {
      "text/html": [
       "<div>\n",
       "<style scoped>\n",
       "    .dataframe tbody tr th:only-of-type {\n",
       "        vertical-align: middle;\n",
       "    }\n",
       "\n",
       "    .dataframe tbody tr th {\n",
       "        vertical-align: top;\n",
       "    }\n",
       "\n",
       "    .dataframe thead th {\n",
       "        text-align: right;\n",
       "    }\n",
       "</style>\n",
       "<table border=\"1\" class=\"dataframe\">\n",
       "  <thead>\n",
       "    <tr style=\"text-align: right;\">\n",
       "      <th></th>\n",
       "      <th>donor_id</th>\n",
       "      <th>start_date</th>\n",
       "      <th>end_date</th>\n",
       "      <th>living_place</th>\n",
       "    </tr>\n",
       "  </thead>\n",
       "  <tbody>\n",
       "    <tr>\n",
       "      <th>0</th>\n",
       "      <td>32768</td>\n",
       "      <td>1989-03-25</td>\n",
       "      <td>2000-07-06</td>\n",
       "      <td>India</td>\n",
       "    </tr>\n",
       "    <tr>\n",
       "      <th>1</th>\n",
       "      <td>32768</td>\n",
       "      <td>2000-07-06</td>\n",
       "      <td>2099-01-01</td>\n",
       "      <td>UK</td>\n",
       "    </tr>\n",
       "    <tr>\n",
       "      <th>2</th>\n",
       "      <td>98305</td>\n",
       "      <td>1954-04-06</td>\n",
       "      <td>1958-08-12</td>\n",
       "      <td>USA</td>\n",
       "    </tr>\n",
       "    <tr>\n",
       "      <th>3</th>\n",
       "      <td>98305</td>\n",
       "      <td>1958-08-12</td>\n",
       "      <td>1972-10-04</td>\n",
       "      <td>UK</td>\n",
       "    </tr>\n",
       "    <tr>\n",
       "      <th>4</th>\n",
       "      <td>98305</td>\n",
       "      <td>1972-10-04</td>\n",
       "      <td>1988-04-18</td>\n",
       "      <td>UK</td>\n",
       "    </tr>\n",
       "  </tbody>\n",
       "</table>\n",
       "</div>"
      ],
      "text/plain": [
       "   donor_id start_date   end_date living_place\n",
       "0     32768 1989-03-25 2000-07-06        India\n",
       "1     32768 2000-07-06 2099-01-01           UK\n",
       "2     98305 1954-04-06 1958-08-12          USA\n",
       "3     98305 1958-08-12 1972-10-04           UK\n",
       "4     98305 1972-10-04 1988-04-18           UK"
      ]
     },
     "execution_count": 87,
     "metadata": {},
     "output_type": "execute_result"
    }
   ],
   "source": [
    "living_places = pd.read_csv(path_data+'living_places.csv', parse_dates=['start_date', 'end_date'], date_format=\"%Y-%m-%d\")\n",
    "living_places.head()"
   ]
  },
  {
   "cell_type": "code",
   "execution_count": 88,
   "metadata": {},
   "outputs": [
    {
     "name": "stdout",
     "output_type": "stream",
     "text": [
      "<class 'pandas.core.frame.DataFrame'>\n",
      "RangeIndex: 28806 entries, 0 to 28805\n",
      "Data columns (total 4 columns):\n",
      " #   Column        Non-Null Count  Dtype         \n",
      "---  ------        --------------  -----         \n",
      " 0   donor_id      28806 non-null  int64         \n",
      " 1   start_date    28806 non-null  datetime64[ns]\n",
      " 2   end_date      28806 non-null  datetime64[ns]\n",
      " 3   living_place  28806 non-null  object        \n",
      "dtypes: datetime64[ns](2), int64(1), object(1)\n",
      "memory usage: 900.3+ KB\n"
     ]
    }
   ],
   "source": [
    "living_places.info()"
   ]
  },
  {
   "cell_type": "code",
   "execution_count": 89,
   "metadata": {
    "tags": []
   },
   "outputs": [
    {
     "data": {
      "text/plain": [
       "'\\nGreat job! This exercise shows that even a static variable like living place should be added compliant with the timeline.\\n'"
      ]
     },
     "execution_count": 89,
     "metadata": {},
     "output_type": "execute_result"
    }
   ],
   "source": [
    "# exercise 04\n",
    "\n",
    "\"\"\"\n",
    "Adding living place\n",
    "\n",
    "Finally, you want to add the living place of the donors to the basetable. The living places of the donors are given in living_places where the living place for each donor is given together with the start and end valid date of that living place. Keep in mind the following timeline that is used to construct the basetable: \n",
    "\"\"\"\n",
    "\n",
    "# Instructions\n",
    "\n",
    "\"\"\"\n",
    "\n",
    "    Fill out the reference date.\n",
    "    Create a new pandas dataframe living_places_reference_date that contains the living places of the donors at the reference date.\n",
    "    Merge this new dataframe with the basetable.\n",
    "\n",
    "\"\"\"\n",
    "\n",
    "# solution\n",
    "\n",
    "# Reference date\n",
    "reference_date = datetime(2017, 5, 1)\n",
    "\n",
    "# Select living place reference date\n",
    "living_places_reference_date = living_places[(living_places[\"end_date\"] <= reference_date) & \n",
    "                                            (living_places[\"start_date\"] > reference_date)]\n",
    "\n",
    "# Add living place to the basetable\n",
    "basetable = pd.merge(basetable, living_places_reference_date[[\"donor_id\", \"living_place\"]], on=\"donor_id\")\n",
    "\n",
    "#----------------------------------#\n",
    "\n",
    "# Conclusion\n",
    "\n",
    "\"\"\"\n",
    "Great job! This exercise shows that even a static variable like living place should be added compliant with the timeline.\n",
    "\"\"\""
   ]
  },
  {
   "cell_type": "code",
   "execution_count": 90,
   "metadata": {
    "tags": []
   },
   "outputs": [
    {
     "data": {
      "text/plain": [
       "'\\nGreat! You should indeed use the last date before May 1st 2017.\\n'"
      ]
     },
     "execution_count": 90,
     "metadata": {},
     "output_type": "execute_result"
    }
   ],
   "source": [
    "# exercise 05\n",
    "\n",
    "\"\"\"\n",
    "Selecting the appropriate date\n",
    "\n",
    "Assume that you want to build a basetable using the following timeline. One of the variables that you would like to add to the basetable is recency, the time since the last donation.\n",
    "\n",
    "Consider a donor that has donated on the following dates.\n",
    "\n",
    "    January 1st 2017\n",
    "    March 23th 2017\n",
    "    April 29th 2017\n",
    "    May 15th 2017\n",
    "\n",
    "Which date should be used to calculate the recency?\n",
    "\"\"\"\n",
    "\n",
    "# Instructions\n",
    "\n",
    "\"\"\"\n",
    "January 1st 2017\n",
    "\n",
    "\n",
    "March 23th 2017\n",
    "\n",
    "\n",
    "April 29th 2017 (Answer)\n",
    "\n",
    "\n",
    "May 15th 2017\n",
    "\"\"\"\n",
    "\n",
    "# solution\n",
    "\n",
    "\n",
    "\n",
    "#----------------------------------#\n",
    "\n",
    "# Conclusion\n",
    "\n",
    "\"\"\"\n",
    "Great! You should indeed use the last date before May 1st 2017.\n",
    "\"\"\""
   ]
  },
  {
   "cell_type": "code",
   "execution_count": 91,
   "metadata": {},
   "outputs": [
    {
     "data": {
      "text/html": [
       "<div>\n",
       "<style scoped>\n",
       "    .dataframe tbody tr th:only-of-type {\n",
       "        vertical-align: middle;\n",
       "    }\n",
       "\n",
       "    .dataframe tbody tr th {\n",
       "        vertical-align: top;\n",
       "    }\n",
       "\n",
       "    .dataframe thead th {\n",
       "        text-align: right;\n",
       "    }\n",
       "</style>\n",
       "<table border=\"1\" class=\"dataframe\">\n",
       "  <thead>\n",
       "    <tr style=\"text-align: right;\">\n",
       "      <th></th>\n",
       "      <th>id</th>\n",
       "      <th>date</th>\n",
       "      <th>amount</th>\n",
       "    </tr>\n",
       "  </thead>\n",
       "  <tbody>\n",
       "    <tr>\n",
       "      <th>0</th>\n",
       "      <td>1</td>\n",
       "      <td>2015-10-16</td>\n",
       "      <td>75.0</td>\n",
       "    </tr>\n",
       "    <tr>\n",
       "      <th>1</th>\n",
       "      <td>1</td>\n",
       "      <td>2014-02-11</td>\n",
       "      <td>111.0</td>\n",
       "    </tr>\n",
       "    <tr>\n",
       "      <th>2</th>\n",
       "      <td>1</td>\n",
       "      <td>2012-03-28</td>\n",
       "      <td>93.0</td>\n",
       "    </tr>\n",
       "    <tr>\n",
       "      <th>3</th>\n",
       "      <td>1</td>\n",
       "      <td>2013-12-13</td>\n",
       "      <td>113.0</td>\n",
       "    </tr>\n",
       "    <tr>\n",
       "      <th>4</th>\n",
       "      <td>1</td>\n",
       "      <td>2012-01-10</td>\n",
       "      <td>93.0</td>\n",
       "    </tr>\n",
       "  </tbody>\n",
       "</table>\n",
       "</div>"
      ],
      "text/plain": [
       "   id       date  amount\n",
       "0   1 2015-10-16    75.0\n",
       "1   1 2014-02-11   111.0\n",
       "2   1 2012-03-28    93.0\n",
       "3   1 2013-12-13   113.0\n",
       "4   1 2012-01-10    93.0"
      ]
     },
     "metadata": {},
     "output_type": "display_data"
    }
   ],
   "source": [
    "gifts = pd.read_csv(path_data+'gifts.csv', index_col=0, parse_dates=['date'], date_format=\"%Y-%m-%d\")\n",
    "display(gifts.head())\n",
    "basetable = pd.read_csv(path_data+'donor_id.csv')"
   ]
  },
  {
   "cell_type": "code",
   "execution_count": 98,
   "metadata": {
    "tags": []
   },
   "outputs": [
    {
     "data": {
      "text/plain": [
       "\"\\nNice! To add an aggregated variable to the basetable, you need to make sure you don't use information that is not available at the start of the target period.\\n\""
      ]
     },
     "execution_count": 98,
     "metadata": {},
     "output_type": "execute_result"
    }
   ],
   "source": [
    "# exercise 06\n",
    "\n",
    "\"\"\"\n",
    "Maximum value last year\n",
    "\n",
    "Next, you would like to add the maximum amount that a donor donated in 2017, but before May 1st, 2017 to the basetable. You have a few objects available to you: basetable contains the donor IDs of the population, and gifts contains gifts made by donors over time. For each donor in the population, add the maximum amount that this donor donated in 2017 to 'basetable`.\n",
    "\"\"\"\n",
    "\n",
    "# Instructions\n",
    "\n",
    "\"\"\"\n",
    "\n",
    "    Fill out the start and end date of the period over which you want to take the maximum.\n",
    "    Select gifts made in 2017 using these start and end dates in the dataframe gifts_2017.\n",
    "    Create a pandas dataframe that has the maximum amount for each donor in gifts_2017.\n",
    "    Add this maximum amount to the basetable.\n",
    "\n",
    "\"\"\"\n",
    "\n",
    "# solution\n",
    "\n",
    "# Start and end date of the aggregation period\n",
    "start_date = datetime(2017, 1, 1)\n",
    "end_date = datetime(2017, 5, 1)\n",
    "\n",
    "# Select gifts made in 2017\n",
    "gifts_2017 = gifts[(gifts[\"date\"] >= start_date) & (gifts[\"date\"] < end_date)]\n",
    "\n",
    "# Maximum gift per donor in 2017\n",
    "gifts_2017_bydonor = gifts_2017.groupby([\"id\"])[\"amount\"].max().reset_index()\n",
    "gifts_2017_bydonor.columns = [\"donor_ID\", \"max_amount\"]\n",
    "\n",
    "# Add maximum amount to the basetable\n",
    "basetable = pd.merge(basetable, gifts_2017_bydonor, left_on='donor_id', right_on='donor_ID')\n",
    "\n",
    "#----------------------------------#\n",
    "\n",
    "# Conclusion\n",
    "\n",
    "\"\"\"\n",
    "Nice! To add an aggregated variable to the basetable, you need to make sure you don't use information that is not available at the start of the target period.\n",
    "\"\"\""
   ]
  },
  {
   "cell_type": "code",
   "execution_count": 103,
   "metadata": {
    "tags": []
   },
   "outputs": [
    {
     "data": {
      "text/plain": [
       "'\\nWell done! The recency should be calculated with the start of the target period as reference date.\\n'"
      ]
     },
     "execution_count": 103,
     "metadata": {},
     "output_type": "execute_result"
    }
   ],
   "source": [
    "# exercise 07\n",
    "\n",
    "\"\"\"\n",
    "Recency of donations\n",
    "\n",
    "Another interesting variable to add to the basetable is the recency, the time since the last donation. Given are two dataframes basetable and gifts, that contain the early stage basetable and the gifts made by donors over time. Add for each donor in the population the recency in days.\n",
    "\n",
    "Keep in mind the following timeline that is used to calculate the basetable:\n",
    "\n",
    "\n",
    "\"\"\"\n",
    "\n",
    "# Instructions\n",
    "\n",
    "\"\"\"\n",
    "\n",
    "    Fill out the reference date.\n",
    "    Create a pandas dataframe gifts_before_reference that contains gifts made before the reference date.\n",
    "    Create a pandas dataframe last_gift that has for each donor in gifts_before_reference the last donation made and add the recency in days to last_gift.\n",
    "    Add this recency to the basetable.\n",
    "\n",
    "\"\"\"\n",
    "\n",
    "# solution\n",
    "\n",
    "# Reference date to calculate the recency\n",
    "reference_date = datetime(2017, 5, 1)\n",
    "\n",
    "# Select gifts made before the reference date\n",
    "gifts_before_reference = gifts[(gifts[\"date\"] < reference_date)]\n",
    "\n",
    "# Latest gift per donor in 2017\n",
    "last_gift = gifts_before_reference.groupby([\"id\"])[\"date\"].max().reset_index()\n",
    "last_gift[\"recency\"] = reference_date - last_gift['date']\n",
    "last_gift.columns = ['donor_id', 'date', 'recency']\n",
    "\n",
    "# Add recency to the basetable\n",
    "basetable = pd.merge(basetable, last_gift[[\"donor_id\", \"recency\"]], how=\"left\")\n",
    "\n",
    "#----------------------------------#\n",
    "\n",
    "# Conclusion\n",
    "\n",
    "\"\"\"\n",
    "Well done! The recency should be calculated with the start of the target period as reference date.\n",
    "\"\"\""
   ]
  },
  {
   "cell_type": "code",
   "execution_count": 94,
   "metadata": {
    "tags": []
   },
   "outputs": [
    {
     "data": {
      "text/plain": [
       "'\\n\\n'"
      ]
     },
     "execution_count": 94,
     "metadata": {},
     "output_type": "execute_result"
    }
   ],
   "source": [
    "# exercise 08\n",
    "\n",
    "\"\"\"\n",
    "Ratio of last month's and last year's average\n",
    "\n",
    "An interesting variable to add to the basetable is the average gift a donor donated last month compared to the average gift a donor donated last year. In this exercise, you will learn how to add this variable to the basetable. The gifts made last month by donors are already selected in gifts_last_month and the gifts made last year are selected in gifts_last_year.\n",
    "\"\"\"\n",
    "\n",
    "# Instructions\n",
    "\n",
    "\"\"\"\n",
    "\n",
    "    Calculate for each donor in gifts_last_month the average donation in the last month.\n",
    "    Calculate for each donor in gifts_last_year the average donation in the last year.\n",
    "    Add the average donation last month and average donation last year to the basetable.\n",
    "    Calculate the ratio of last month's and last year's average donation in the basetable.\n",
    "\n",
    "\n",
    "\"\"\"\n",
    "\n",
    "# solution\n",
    "\n",
    "# Average gift last month for each donor\n",
    "average_gift_last_month = gifts_last_month.groupby(\"id\")[\"amount\"].mean().reset_index()\n",
    "average_gift_last_month.columns = [\"donor_ID\", \"mean_gift_last_month\"]\n",
    "\n",
    "# Average gift last year for each donor\n",
    "average_gift_last_year = gifts_last_year.groupby('id')['amount'].mean().reset_index()\n",
    "average_gift_last_year.columns = [\"donor_ID\", \"mean_gift_last_year\"]\n",
    "\n",
    "# Add average gift last month and year to basetable\n",
    "basetable = pd.merge(basetable, average_gift_last_month, on=\"donor_ID\", how=\"left\")\n",
    "basetable = pd.merge(basetable, average_gift_last_year, on=\"donor_ID\", how=\"left\")\n",
    "\n",
    "# Calculate ratio of last month's and last year's average\n",
    "basetable[\"ratio_month_year\"] = basetable[\"mean_gift_last_month\"] / basetable[\"mean_gift_last_year\"]\n",
    "print(basetable.head())\n",
    "\n",
    "\n",
    "#----------------------------------#\n",
    "\n",
    "# Conclusion\n",
    "\n",
    "\"\"\"\n",
    "Great job! Note that the newly created variable might have missing values if no donations are made last year. You will learn how to deal with this in the next chapter.\n",
    "\"\"\""
   ]
  },
  {
   "cell_type": "code",
   "execution_count": 95,
   "metadata": {
    "tags": []
   },
   "outputs": [
    {
     "data": {
      "text/plain": [
       "'\\n\\n'"
      ]
     },
     "execution_count": 95,
     "metadata": {},
     "output_type": "execute_result"
    }
   ],
   "source": [
    "# exercise 09\n",
    "\n",
    "\"\"\"\n",
    "Absolute difference between two years\n",
    "\n",
    "As an other variable, you might want to add the absolute difference in donations made in the last year (2017) and the number of donations made in the year before that (2016). To add this variable to the basetable, two pandas dataframes gifts_2016 and gifts_2017 with donations made in 2016 and 2017 respectively are constructed for you.\n",
    "\n",
    "Recall that you can count the occurances in a pandas dataframe df for each id in a column id in a pandas dataframe df using the groupby function:\n",
    "\n",
    "df_grouped = df.groupby(\"id\")[\"value\"].count().reset_index()\n",
    "\n",
    "and that you can left join two dataframes df1 and df2 on a given merge_id using the following code:\n",
    "\n",
    "merged_df = pd.merge(df1, df2, on=[\"merge_id\"], how=\"left\")\n",
    "\n",
    "\"\"\"\n",
    "\n",
    "# Instructions\n",
    "\n",
    "\"\"\"\n",
    "\n",
    "    Calculate for each donor in gifts_2016 the number of donations made in 2016.\n",
    "    Calculate for each donor in gifts_2017 the number of donations made in 2017.\n",
    "    Add the number of donations made in 2016 and 2017 to the basetable.\n",
    "    Calculate the difference between the number of donations made in 2017 and 2016 to the basetable.\n",
    "\n",
    "\"\"\"\n",
    "\n",
    "# solution\n",
    "\n",
    "# Number of gifts in 2016 and 2017 for each donor\n",
    "gifts_2016_bydonor = gifts_2016.groupby(\"id\").size().reset_index()\n",
    "gifts_2016_bydonor.columns = [\"donor_ID\", \"donations_2016\"]\n",
    "gifts_2017_bydonor = gifts_2017.groupby(\"id\").size().reset_index()\n",
    "gifts_2017_bydonor.columns = [\"donor_ID\", \"donations_2017\"]\n",
    "\n",
    "# Add number of gifts in 2016 and 2017 to the basetable\n",
    "basetable = pd.merge(basetable, gifts_2016_bydonor, on=\"donor_ID\", how=\"left\")\n",
    "basetable = pd.merge(basetable, gifts_2017_bydonor, on=\"donor_ID\", how=\"left\")\n",
    "\n",
    "# Calculate the number of gifts in 2017 minus number of gifts in 2016\n",
    "basetable.fillna(0)\n",
    "basetable[\"gifts_2017_min_2016\"] = basetable[\"donations_2017\"] - basetable[\"donations_2016\"]\n",
    "print(basetable.head())\n",
    "\n",
    "#----------------------------------#\n",
    "\n",
    "# Conclusion\n",
    "\n",
    "\"\"\"\n",
    "Well done! You can add many more evolutions to the basetable.\n",
    "\"\"\""
   ]
  },
  {
   "cell_type": "code",
   "execution_count": 109,
   "metadata": {},
   "outputs": [
    {
     "data": {
      "text/html": [
       "<div>\n",
       "<style scoped>\n",
       "    .dataframe tbody tr th:only-of-type {\n",
       "        vertical-align: middle;\n",
       "    }\n",
       "\n",
       "    .dataframe tbody tr th {\n",
       "        vertical-align: top;\n",
       "    }\n",
       "\n",
       "    .dataframe thead th {\n",
       "        text-align: right;\n",
       "    }\n",
       "</style>\n",
       "<table border=\"1\" class=\"dataframe\">\n",
       "  <thead>\n",
       "    <tr style=\"text-align: right;\">\n",
       "      <th></th>\n",
       "      <th>target</th>\n",
       "      <th>age</th>\n",
       "      <th>gender_F</th>\n",
       "      <th>donations_2017</th>\n",
       "      <th>donations_2017_min_2016</th>\n",
       "    </tr>\n",
       "  </thead>\n",
       "  <tbody>\n",
       "    <tr>\n",
       "      <th>0</th>\n",
       "      <td>1</td>\n",
       "      <td>42</td>\n",
       "      <td>0</td>\n",
       "      <td>10</td>\n",
       "      <td>7</td>\n",
       "    </tr>\n",
       "    <tr>\n",
       "      <th>1</th>\n",
       "      <td>1</td>\n",
       "      <td>73</td>\n",
       "      <td>0</td>\n",
       "      <td>4</td>\n",
       "      <td>1</td>\n",
       "    </tr>\n",
       "    <tr>\n",
       "      <th>2</th>\n",
       "      <td>1</td>\n",
       "      <td>37</td>\n",
       "      <td>0</td>\n",
       "      <td>6</td>\n",
       "      <td>3</td>\n",
       "    </tr>\n",
       "    <tr>\n",
       "      <th>3</th>\n",
       "      <td>1</td>\n",
       "      <td>75</td>\n",
       "      <td>0</td>\n",
       "      <td>2</td>\n",
       "      <td>-4</td>\n",
       "    </tr>\n",
       "    <tr>\n",
       "      <th>4</th>\n",
       "      <td>1</td>\n",
       "      <td>32</td>\n",
       "      <td>1</td>\n",
       "      <td>9</td>\n",
       "      <td>5</td>\n",
       "    </tr>\n",
       "  </tbody>\n",
       "</table>\n",
       "</div>"
      ],
      "text/plain": [
       "   target  age  gender_F  donations_2017  donations_2017_min_2016\n",
       "0       1   42         0              10                        7\n",
       "1       1   73         0               4                        1\n",
       "2       1   37         0               6                        3\n",
       "3       1   75         0               2                       -4\n",
       "4       1   32         1               9                        5"
      ]
     },
     "execution_count": 109,
     "metadata": {},
     "output_type": "execute_result"
    }
   ],
   "source": [
    "basetable = pd.read_csv(path_data+'basetable_evo.csv').drop('Unnamed: 0', axis=1)\n",
    "basetable.head()"
   ]
  },
  {
   "cell_type": "code",
   "execution_count": 110,
   "metadata": {},
   "outputs": [],
   "source": [
    "from sklearn.linear_model import LogisticRegression\n",
    "\n",
    "logreg = LogisticRegression()"
   ]
  },
  {
   "cell_type": "code",
   "execution_count": 111,
   "metadata": {},
   "outputs": [],
   "source": [
    "y = basetable.target\n",
    "X = basetable[['age', 'gender_F', 'donations_2017']]\n",
    "\n",
    "logreg.fit(X,y)\n",
    "\n",
    "pred_regular = logreg.predict_proba(X)"
   ]
  },
  {
   "cell_type": "code",
   "execution_count": 112,
   "metadata": {},
   "outputs": [],
   "source": [
    "from sklearn.metrics import roc_auc_score\n",
    "\n",
    "auc_regular = roc_auc_score(y, pred_regular[:,1])"
   ]
  },
  {
   "cell_type": "code",
   "execution_count": 114,
   "metadata": {
    "tags": []
   },
   "outputs": [
    {
     "name": "stdout",
     "output_type": "stream",
     "text": [
      "0.6\n",
      "0.7\n"
     ]
    },
    {
     "data": {
      "text/plain": [
       "'\\nGreat! Observe that the AUC using evolution variables is larger in this case!\\n'"
      ]
     },
     "execution_count": 114,
     "metadata": {},
     "output_type": "execute_result"
    }
   ],
   "source": [
    "# exercise 10\n",
    "\n",
    "\"\"\"\n",
    "Performance of evolution variables\n",
    "\n",
    "Given is a basetable that has 3 regular predictive variables, namely \"gender_F\", \"age\", \"donations_2017\", and an evolution variable \"donations_2017_min_2016\" that contains the number of donations made in 2017 minus the number of donations made in 2016.\n",
    "\n",
    "In this exercise you will see the added value of using evolution variables. You will construct two predictive models, one using the regular predictive variables given for you in variables_regular and one replacing \"donations_2017\" by \"donations_2017_min_2016\", these variables are given for you in variables_evolution. The logistic regression model is already initialized for you in logreg. The model using the regular variables has already been implemented, the AUC is in auc_regular.\n",
    "\"\"\"\n",
    "\n",
    "# Instructions\n",
    "\n",
    "\"\"\"\n",
    "\n",
    "    Select the evolution variables in X_evolution and fit the model.\n",
    "    Make predictions using .predict_proba() using this model for all observations in X_evolution and calculate the AUC with roc_auc_score().\n",
    "    Print the AUCs of both models and compare.\n",
    "\n",
    "\"\"\"\n",
    "\n",
    "# solution\n",
    "variables_evolution = ['gender_F', 'age', 'donations_2017_min_2016']\n",
    "# Select the evolution variables and fit the model\n",
    "X_evolution = basetable[variables_evolution]\n",
    "logreg.fit(X_evolution, y)\n",
    "\n",
    "# Make predictions and calculate the AUC\n",
    "predictions_evolution = logreg.predict_proba(X_evolution)[:,1]\n",
    "auc_evolution = roc_auc_score(y, predictions_evolution)\n",
    "\n",
    "# Print the respective AUC values\n",
    "print(round(auc_regular, 2))\n",
    "print(round(auc_evolution, 2))\n",
    "\n",
    "#----------------------------------#\n",
    "\n",
    "# Conclusion\n",
    "\n",
    "\"\"\"\n",
    "Great! Observe that the AUC using evolution variables is larger in this case!\n",
    "\"\"\""
   ]
  },
  {
   "cell_type": "code",
   "execution_count": 117,
   "metadata": {},
   "outputs": [],
   "source": [
    "import matplotlib.pyplot as plt\n",
    "import numpy as np\n",
    "\n",
    "def create_pig_table(df, target, variable):\n",
    "    # Create groups for each variable.\n",
    "    groups = df[[target,variable]].groupby(variable)\n",
    "    # Calculate size and target incidence for each group\n",
    "    pig_table = groups[target].agg(['mean','size']).rename(columns={'mean':'Incidence', 'size':'Size'}).reset_index()\n",
    "    # Return the predictor insight graph table\n",
    "    return pig_table\n",
    "\n",
    "\n",
    "def plot_pig(pig_table,variable):\n",
    "    # Add the label for the size\n",
    "    plt.ylabel(\"Size\", rotation = 0,rotation_mode=\"anchor\", ha = \"right\" )\n",
    "    # Plot the bars with sizes \n",
    "    pig_table[\"Size\"].plot(kind='bar', width = 0.5, color = \"lightgray\", edgecolor = \"none\") \n",
    "    # Plot the incidence line on secondary axis\n",
    "    pig_table[\"Incidence\"].plot(secondary_y = True)\n",
    "    # Add Labels to the horizontal axis\n",
    "    plt.xticks(np.arange(len(pig_table)), pig_table[variable])\n",
    "    # Make sure the groups are nicely centered\n",
    "    plt.xlim([-0.5, len(pig_table)-0.5])\n",
    "    # Add a label to the secondary vertical axis\n",
    "    plt.ylabel(\"Incidence\", rotation = 0, rotation_mode=\"anchor\", ha = \"left\")\n",
    "    # Add a label to the horizontal axis\n",
    "    plt.xlabel(variable)\n",
    "    # Show the graph\n",
    "    plt.show()\n",
    "    plt.close()"
   ]
  },
  {
   "cell_type": "code",
   "execution_count": 118,
   "metadata": {},
   "outputs": [
    {
     "data": {
      "image/png": "[encoded data removed]",
      "text/plain": [
       "<Figure size 640x480 with 2 Axes>"
      ]
     },
     "metadata": {},
     "output_type": "display_data"
    },
    {
     "data": {
      "text/plain": [
       "'\\nNice! Apparently, people that donated more in 2017 are more likely to donate again.\\n'"
      ]
     },
     "execution_count": 118,
     "metadata": {},
     "output_type": "execute_result"
    }
   ],
   "source": [
    "# exercise 11\n",
    "\n",
    "\"\"\"\n",
    "Meaning of evolution\n",
    "\n",
    "In this exercise you will investigate the link between the variable \"donations2017min_2016\" that you added to the basetable in the previous exercises and the target, using a predictor insight graph.\n",
    "\n",
    "For your convenience, the methods to create the predictor insight graph are pre-programmed.\n",
    "\n",
    "To plot the predictor insight graph of a continuous variable variable in a basetable, you can follow these steps:\n",
    "\n",
    "    Discretize the variable in n_bins bins:\n",
    "\n",
    "basetable[\"variable_disc\"] = pd.qcut(basetable[\"variable\"], n_bins)\n",
    "\n",
    "    Construct the predictor insight graph table:\n",
    "\n",
    "pig_table = create_pig_table(basetable, \"target\",\"variable_disc\")\n",
    "\n",
    "    Plot the predictor insight graph based on this table:\n",
    "\n",
    "plot_pig(pig_table,\"variable_disc\")\n",
    "\n",
    "\"\"\"\n",
    "\n",
    "# Instructions\n",
    "\n",
    "\"\"\"\n",
    "\n",
    "    Discretize the evolution variable donations_2017_min_2016 in 5 bins and add it to the basetable.\n",
    "    Create the predictor insight graph table for this variable.\n",
    "    Plot the predictor insight graph of this variable.\n",
    "\n",
    "\n",
    "\"\"\"\n",
    "\n",
    "# solution\n",
    "\n",
    "# Discretize the variable in 5 bins and add to the basetable\n",
    "basetable[\"donations_2017_min_2016_disc\"] = pd.qcut(basetable[\"donations_2017_min_2016\"], 5)\n",
    "\n",
    "# Construct the predictor insight graph table\n",
    "pig_table = create_pig_table(basetable, \"target\", \"donations_2017_min_2016_disc\")\n",
    "\n",
    "# Plot the predictor insight graph\n",
    "plot_pig(pig_table, \"donations_2017_min_2016_disc\")\n",
    "\n",
    "#----------------------------------#\n",
    "\n",
    "# Conclusion\n",
    "\n",
    "\"\"\"\n",
    "Nice! Apparently, people that donated more in 2017 are more likely to donate again.\n",
    "\"\"\""
   ]
  }
 ],
 "metadata": {
  "kernelspec": {
   "display_name": "Python 3 (ipykernel)",
   "language": "python",
   "name": "python3"
  },
  "language_info": {
   "codemirror_mode": {
    "name": "ipython",
    "version": 3
   },
   "file_extension": ".py",
   "mimetype": "text/x-python",
   "name": "python",
   "nbconvert_exporter": "python",
   "pygments_lexer": "ipython3",
   "version": "3.11.5"
  }
 },
 "nbformat": 4,
 "nbformat_minor": 4
}
