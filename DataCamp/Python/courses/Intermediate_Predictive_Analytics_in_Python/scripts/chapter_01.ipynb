{
 "cells": [
  {
   "cell_type": "code",
   "execution_count": 1,
   "metadata": {
    "tags": []
   },
   "outputs": [],
   "source": [
    "# run this to shorten the data import from the files\n",
    "import os\n",
    "path_data = os.path.join(os.path.dirname(os.getcwd()), 'datasets/')\n"
   ]
  },
  {
   "cell_type": "code",
   "execution_count": null,
   "metadata": {},
   "outputs": [
    {
     "data": {
      "text/plain": [
       "'/home/nero/Documents/Estudos/DataCamp'"
      ]
     },
     "execution_count": 15,
     "metadata": {},
     "output_type": "execute_result"
    }
   ],
   "source": [
    "# exercise 01\n",
    "\n",
    "\"\"\"\n",
    "Timeline violations\n",
    "\n",
    "You want to construct a model that predicts which donors are most likely to donate more than 50 Euro in April 2018. To build the predictive model, we reconstruct the timeline one year back in time, so the target period of the basetable is April 2017. Below are the donations of one donor in 2016 and 2017.\n",
    "Donation ID \tDonor ID \tDonation date \tDonation Amount\n",
    "1 \t1 \t2016-04-01 \tEUR 40\n",
    "2 \t1 \t2016-09-21 \tEUR 50\n",
    "3 \t1 \t2016-12-14 \tEUR 20\n",
    "4 \t1 \t2017-01-31 \tEUR 50\n",
    "5 \t1 \t2017-04-22 \tEUR 100\n",
    "6 \t1 \t2017-05-16 \tEUR 50\n",
    "\n",
    "Which donations can be used to construct predictive variables in this basetable?\n",
    "\"\"\"\n",
    "\n",
    "# Instructions\n",
    "\n",
    "\"\"\"\n",
    "All donations.\n",
    "\n",
    "\n",
    "All donations except donations 5 and 6. (Answer)\n",
    "\n",
    "\n",
    "All donations except donation 5.\n",
    "\n",
    "\n",
    "None of the donations.\n",
    "\"\"\"\n",
    "\n",
    "# solution\n",
    "\n",
    "\n",
    "\n",
    "#----------------------------------#\n",
    "\n",
    "# Conclusion\n",
    "\n",
    "\"\"\"\n",
    "Great! Donations 5 and 6 were made during and after the target period and cannot be used as predictive variable.\n",
    "\"\"\""
   ]
  },
  {
   "cell_type": "code",
   "execution_count": 12,
   "metadata": {},
   "outputs": [
    {
     "data": {
      "text/html": [
       "<div>\n",
       "<style scoped>\n",
       "    .dataframe tbody tr th:only-of-type {\n",
       "        vertical-align: middle;\n",
       "    }\n",
       "\n",
       "    .dataframe tbody tr th {\n",
       "        vertical-align: top;\n",
       "    }\n",
       "\n",
       "    .dataframe thead th {\n",
       "        text-align: right;\n",
       "    }\n",
       "</style>\n",
       "<table border=\"1\" class=\"dataframe\">\n",
       "  <thead>\n",
       "    <tr style=\"text-align: right;\">\n",
       "      <th></th>\n",
       "      <th>id</th>\n",
       "      <th>date</th>\n",
       "      <th>amount</th>\n",
       "    </tr>\n",
       "  </thead>\n",
       "  <tbody>\n",
       "    <tr>\n",
       "      <th>0</th>\n",
       "      <td>1</td>\n",
       "      <td>2015-10-16</td>\n",
       "      <td>75.0</td>\n",
       "    </tr>\n",
       "    <tr>\n",
       "      <th>1</th>\n",
       "      <td>1</td>\n",
       "      <td>2014-02-11</td>\n",
       "      <td>111.0</td>\n",
       "    </tr>\n",
       "    <tr>\n",
       "      <th>2</th>\n",
       "      <td>1</td>\n",
       "      <td>2012-03-28</td>\n",
       "      <td>93.0</td>\n",
       "    </tr>\n",
       "    <tr>\n",
       "      <th>3</th>\n",
       "      <td>1</td>\n",
       "      <td>2013-12-13</td>\n",
       "      <td>113.0</td>\n",
       "    </tr>\n",
       "    <tr>\n",
       "      <th>4</th>\n",
       "      <td>1</td>\n",
       "      <td>2012-01-10</td>\n",
       "      <td>93.0</td>\n",
       "    </tr>\n",
       "  </tbody>\n",
       "</table>\n",
       "</div>"
      ],
      "text/plain": [
       "   id       date  amount\n",
       "0   1 2015-10-16    75.0\n",
       "1   1 2014-02-11   111.0\n",
       "2   1 2012-03-28    93.0\n",
       "3   1 2013-12-13   113.0\n",
       "4   1 2012-01-10    93.0"
      ]
     },
     "execution_count": 12,
     "metadata": {},
     "output_type": "execute_result"
    }
   ],
   "source": [
    "import pandas as pd\n",
    "gifts = pd.read_csv(path_data+'gifts.csv', index_col=0, parse_dates=['date'], date_format=\"%Y-%m-%d\")\n",
    "gifts.head()"
   ]
  },
  {
   "cell_type": "code",
   "execution_count": 15,
   "metadata": {
    "tags": []
   },
   "outputs": [
    {
     "name": "stdout",
     "output_type": "stream",
     "text": [
      "145045\n"
     ]
    },
    {
     "data": {
      "text/plain": [
       "'\\nWell done! 145,045 gifts were made before the target period. In later chapters, you will learn how to construct predictive variables from these gifts.\\n'"
      ]
     },
     "execution_count": 15,
     "metadata": {},
     "output_type": "execute_result"
    }
   ],
   "source": [
    "# exercise 02\n",
    "\n",
    "\"\"\"\n",
    "Available data\n",
    "\n",
    "Assume that you want to construct a model that predicts whether someone will donate in a certain year. The timeline to construct the basetable has 2017 as target period, this means that the target is based on donations made in 2017, and that the predictive variables are based on donations made before 2017. All donations are given in a pandas dataframe gifts with three columns: the donor id, the donation date and the amount donated. In this exercise you will learn to construct a new pandas dataframe that excludes donations made in 2017 or later.\n",
    "\"\"\"\n",
    "\n",
    "# Instructions\n",
    "\n",
    "\"\"\"\n",
    "\n",
    "    Enter the start date of the target period.\n",
    "    Construct a pandas dataframe gifts_before_2017 that only contains gifts made before 2017 (exclusive).\n",
    "    Count the donations in gifts_before_2017 and print it to the console.\n",
    "\n",
    "\"\"\"\n",
    "\n",
    "# solution\n",
    "from datetime import datetime\n",
    "\n",
    "# Start of the target is January 1st 2017\n",
    "start_target = datetime(year=2017, month=1, day=1)\n",
    "\n",
    "# Select gifts made before start_target\n",
    "gifts_before_2017 = gifts[gifts['date'] < start_target]\n",
    "\n",
    "# Print the number of donations in gifts_before_2017\n",
    "print(len(gifts_before_2017))\n",
    "\n",
    "#----------------------------------#\n",
    "\n",
    "# Conclusion\n",
    "\n",
    "\"\"\"\n",
    "Well done! 145,045 gifts were made before the target period. In later chapters, you will learn how to construct predictive variables from these gifts.\n",
    "\"\"\""
   ]
  },
  {
   "cell_type": "code",
   "execution_count": 17,
   "metadata": {},
   "outputs": [
    {
     "data": {
      "text/html": [
       "<div>\n",
       "<style scoped>\n",
       "    .dataframe tbody tr th:only-of-type {\n",
       "        vertical-align: middle;\n",
       "    }\n",
       "\n",
       "    .dataframe tbody tr th {\n",
       "        vertical-align: top;\n",
       "    }\n",
       "\n",
       "    .dataframe thead th {\n",
       "        text-align: right;\n",
       "    }\n",
       "</style>\n",
       "<table border=\"1\" class=\"dataframe\">\n",
       "  <thead>\n",
       "    <tr style=\"text-align: right;\">\n",
       "      <th></th>\n",
       "      <th>id</th>\n",
       "      <th>amount_2017</th>\n",
       "      <th>target</th>\n",
       "    </tr>\n",
       "  </thead>\n",
       "  <tbody>\n",
       "    <tr>\n",
       "      <th>0</th>\n",
       "      <td>1</td>\n",
       "      <td>0.0</td>\n",
       "      <td>0</td>\n",
       "    </tr>\n",
       "    <tr>\n",
       "      <th>1</th>\n",
       "      <td>2</td>\n",
       "      <td>0.0</td>\n",
       "      <td>0</td>\n",
       "    </tr>\n",
       "    <tr>\n",
       "      <th>2</th>\n",
       "      <td>3</td>\n",
       "      <td>0.0</td>\n",
       "      <td>0</td>\n",
       "    </tr>\n",
       "    <tr>\n",
       "      <th>3</th>\n",
       "      <td>4</td>\n",
       "      <td>0.0</td>\n",
       "      <td>0</td>\n",
       "    </tr>\n",
       "    <tr>\n",
       "      <th>4</th>\n",
       "      <td>5</td>\n",
       "      <td>0.0</td>\n",
       "      <td>0</td>\n",
       "    </tr>\n",
       "  </tbody>\n",
       "</table>\n",
       "</div>"
      ],
      "text/plain": [
       "   id  amount_2017  target\n",
       "0   1          0.0       0\n",
       "1   2          0.0       0\n",
       "2   3          0.0       0\n",
       "3   4          0.0       0\n",
       "4   5          0.0       0"
      ]
     },
     "execution_count": 17,
     "metadata": {},
     "output_type": "execute_result"
    }
   ],
   "source": [
    "basetable = pd.read_csv(path_data+'basetable_ch01-03.csv')\n",
    "basetable.head()"
   ]
  },
  {
   "cell_type": "code",
   "execution_count": 20,
   "metadata": {
    "tags": []
   },
   "outputs": [
    {
     "name": "stdout",
     "output_type": "stream",
     "text": [
      "1.0\n"
     ]
    },
    {
     "data": {
      "text/plain": [
       "'\\nGreat job! As you can see, the model makes perfect predictions, but is not realistic as target, the amount given, is not available if the gift has not been made yet.\\n'"
      ]
     },
     "execution_count": 20,
     "metadata": {},
     "output_type": "execute_result"
    }
   ],
   "source": [
    "# exercise 03\n",
    "\n",
    "\"\"\"\n",
    "Timeline violation\n",
    "\n",
    "To illustrate the importance of the timeline, consider an example where you violate the timeline and use information from the target period to construct the predictive variables.\n",
    "\n",
    "There are two columns in the pandas dataframe basetable: \"amount_2017\" is the total amount of donations in 2017, and \"target\" is 1 if this amount is larger than 30 and 0 else.\n",
    "\n",
    "Construct a logistic regression model that uses \"amount_2017\" as single predictive variable to predict the target, and calculate the AUC.\n",
    "\"\"\"\n",
    "\n",
    "# Instructions\n",
    "\n",
    "\"\"\"\n",
    "\n",
    "    Create a dataframe X that contains the predictive variable and a dataframe y that contains the target.\n",
    "    Fit the logistic regression model such that y is predicted from X. Construct a logistic regression model that uses amount_2017 as single predictive variable and predicts target.\n",
    "    Make predictions for the objects in X.\n",
    "    Calculate and print the AUC of this model using the function roc_auc_score.\n",
    "\n",
    "\"\"\"\n",
    "\n",
    "# solution\n",
    "from sklearn import linear_model\n",
    "from sklearn.metrics import roc_auc_score\n",
    "\n",
    "# Select the relevant predictors and the target\n",
    "X = basetable[[\"amount_2017\"]]\n",
    "y = basetable[\"target\"].values\n",
    "\n",
    "# Build the logistic regression model\n",
    "logreg = linear_model.LogisticRegression()\n",
    "logreg.fit(X, y)\n",
    "\n",
    "# Make predictions for X\n",
    "predictions = logreg.predict_proba(X)[:,1]\n",
    "\n",
    "# Calculate and print the AUC value\n",
    "auc = roc_auc_score(y, predictions)\n",
    "print(round(auc, 2))\n",
    "\n",
    "#----------------------------------#\n",
    "\n",
    "# Conclusion\n",
    "\n",
    "\"\"\"\n",
    "Great job! As you can see, the model makes perfect predictions, but is not realistic as target, the amount given, is not available if the gift has not been made yet.\n",
    "\"\"\""
   ]
  },
  {
   "cell_type": "code",
   "execution_count": 21,
   "metadata": {
    "tags": []
   },
   "outputs": [
    {
     "data": {
      "text/plain": [
       "'\\nCorrect!\\n'"
      ]
     },
     "execution_count": 21,
     "metadata": {},
     "output_type": "execute_result"
    }
   ],
   "source": [
    "# exercise 04\n",
    "\n",
    "\"\"\"\n",
    "Select the relevant population\n",
    "\n",
    "You want to construct a predictive model that selects donors that are most likely to donate to a campaign in June 2018. You want to give these donors a call on June 1st 2018. For this specific campaign, you want to work with young donors only, i.e. age 18 to 25 (inclusive).\n",
    "\n",
    "To build the model, you construct a basetable with a timeline that is exactly one year earlier than the true timeline.\n",
    "\n",
    "What age should the donors in the population of the basetable have?\n",
    "\"\"\"\n",
    "\n",
    "# Instructions\n",
    "\n",
    "\"\"\"\n",
    "Age 18 to 25 on June 1st 2018\n",
    "\n",
    "\n",
    "Age 18 to 25 on June 1st 2017 (Answer)\n",
    "\"\"\"\n",
    "\n",
    "# solution\n",
    "\n",
    "\n",
    "\n",
    "#----------------------------------#\n",
    "\n",
    "# Conclusion\n",
    "\n",
    "\"\"\"\n",
    "Correct!\n",
    "\"\"\""
   ]
  },
  {
   "cell_type": "code",
   "execution_count": 22,
   "metadata": {
    "tags": []
   },
   "outputs": [
    {
     "name": "stdout",
     "output_type": "stream",
     "text": [
      "23519\n"
     ]
    },
    {
     "data": {
      "text/plain": [
       "'\\nNice work! The population has about 25,000 donors.\\n'"
      ]
     },
     "execution_count": 22,
     "metadata": {},
     "output_type": "execute_result"
    }
   ],
   "source": [
    "# exercise 05\n",
    "\n",
    "\"\"\"\n",
    "A timeline compliant population\n",
    "\n",
    "Assume that you want to construct a basetable for a predictive model that predicts whether donors will donate in 2018. The timeline indicates that the population should contain all donors that donated at least once since January 1st 2013, but made no donations after January 1st 2017. Given is a pandas dataframe gifts with all the donations made since 2010. In this exercise, you will construct a set with the donor ids of all donors in the population.\n",
    "\"\"\"\n",
    "\n",
    "# Instructions\n",
    "\n",
    "\"\"\"\n",
    "\n",
    "    Construct a dataframe gifts_include containing all gifts made in 2013 or later and a dataframe gifts_exclude containing all gifts made in 2017 or later.\n",
    "    Construct a set donors_include containing all donor ids of donors in gifts_include and a set donors_exclude containing all donor ids of donors in gifts_exclude.\n",
    "    Construct the population using the .difference() method on your two sets.\n",
    "\n",
    "\"\"\"\n",
    "\n",
    "# solution\n",
    "\n",
    "# Gifts made in 2013 or later\n",
    "gifts_include = gifts[gifts['date'].dt.year >= 2013]\n",
    "\n",
    "# Gifts made in 2017 or later\n",
    "gifts_exclude = gifts[gifts['date'].dt.year >= 2017]\n",
    "\n",
    "# Set with ids in gifts_include\n",
    "donors_include = set(gifts_include['id'])\n",
    "\n",
    "# Set with ids in gifts_exclude\n",
    "donors_exclude = set(gifts_exclude['id'])\n",
    "\n",
    "# Population\n",
    "population = donors_include.difference(donors_exclude)\n",
    "print(len(population))\n",
    "\n",
    "#----------------------------------#\n",
    "\n",
    "# Conclusion\n",
    "\n",
    "\"\"\"\n",
    "Nice work! The population has about 25,000 donors.\n",
    "\"\"\""
   ]
  },
  {
   "cell_type": "code",
   "execution_count": 25,
   "metadata": {},
   "outputs": [
    {
     "data": {
      "text/html": [
       "<div>\n",
       "<style scoped>\n",
       "    .dataframe tbody tr th:only-of-type {\n",
       "        vertical-align: middle;\n",
       "    }\n",
       "\n",
       "    .dataframe tbody tr th {\n",
       "        vertical-align: top;\n",
       "    }\n",
       "\n",
       "    .dataframe thead th {\n",
       "        text-align: right;\n",
       "    }\n",
       "</style>\n",
       "<table border=\"1\" class=\"dataframe\">\n",
       "  <thead>\n",
       "    <tr style=\"text-align: right;\">\n",
       "      <th></th>\n",
       "      <th>donor_id</th>\n",
       "      <th>address</th>\n",
       "      <th>letter_allowed</th>\n",
       "    </tr>\n",
       "  </thead>\n",
       "  <tbody>\n",
       "    <tr>\n",
       "      <th>0</th>\n",
       "      <td>8595</td>\n",
       "      <td>0</td>\n",
       "      <td>1</td>\n",
       "    </tr>\n",
       "    <tr>\n",
       "      <th>1</th>\n",
       "      <td>1790</td>\n",
       "      <td>1</td>\n",
       "      <td>1</td>\n",
       "    </tr>\n",
       "    <tr>\n",
       "      <th>2</th>\n",
       "      <td>8143</td>\n",
       "      <td>1</td>\n",
       "      <td>0</td>\n",
       "    </tr>\n",
       "    <tr>\n",
       "      <th>3</th>\n",
       "      <td>7545</td>\n",
       "      <td>1</td>\n",
       "      <td>0</td>\n",
       "    </tr>\n",
       "    <tr>\n",
       "      <th>4</th>\n",
       "      <td>423</td>\n",
       "      <td>0</td>\n",
       "      <td>0</td>\n",
       "    </tr>\n",
       "  </tbody>\n",
       "</table>\n",
       "</div>"
      ],
      "text/plain": [
       "   donor_id  address  letter_allowed\n",
       "0      8595        0               1\n",
       "1      1790        1               1\n",
       "2      8143        1               0\n",
       "3      7545        1               0\n",
       "4       423        0               0"
      ]
     },
     "execution_count": 25,
     "metadata": {},
     "output_type": "execute_result"
    }
   ],
   "source": [
    "donors = pd.read_csv(path_data+'donors.csv')\n",
    "donors.head()"
   ]
  },
  {
   "cell_type": "code",
   "execution_count": 26,
   "metadata": {
    "tags": []
   },
   "outputs": [
    {
     "name": "stdout",
     "output_type": "stream",
     "text": [
      "2201\n"
     ]
    },
    {
     "data": {
      "text/plain": [
       "'\\nWell done! The final population has about 2,200 donors.\\n'"
      ]
     },
     "execution_count": 26,
     "metadata": {},
     "output_type": "execute_result"
    }
   ],
   "source": [
    "# exercise 06\n",
    "\n",
    "\"\"\"\n",
    "Removing duplicate objects\n",
    "\n",
    "Assume that you want to construct a predictive model in order to select donors that are most likely to respond on a letter. The population of the basetable should contain donors that have an adress available, and that have privacy settings that allow to send them a letter. All candidate donors are given in a dataframe donors with three columns: the donor_id, a flag address that is 1 if the address is available and 0 otherwise, and a flag letter_allowed that is 1 if one can send this donor a letter and 0 otherwise. In this exercise you will construct a set with the donors that should go in the population.\n",
    "\"\"\"\n",
    "\n",
    "# Instructions\n",
    "\n",
    "\"\"\"\n",
    "\n",
    "    Create a dataframe donors_population only containing observations that have address available and for which a letter is allowed.\n",
    "    Create a list containing the donor ids in donors_population.\n",
    "    Construct the final population and then numbers of donors in it.\n",
    "\n",
    "\"\"\"\n",
    "\n",
    "# solution\n",
    "\n",
    "# Create a dataframe donors_population\n",
    "donors_population = donors[(donors[\"address\"] == 1) & (donors[\"letter_allowed\"] == 1)]\n",
    "\n",
    "# Create a list of donor IDs\n",
    "population_list = list(donors_population[\"donor_id\"])\n",
    "\n",
    "# Select unique donors in population_list\n",
    "population = set(population_list)\n",
    "print(len(population))\n",
    "\n",
    "#----------------------------------#\n",
    "\n",
    "# Conclusion\n",
    "\n",
    "\"\"\"\n",
    "Well done! The final population has about 2,200 donors.\n",
    "\"\"\""
   ]
  },
  {
   "cell_type": "code",
   "execution_count": 40,
   "metadata": {},
   "outputs": [],
   "source": [
    "population = pd.read_csv(path_data+'pop_ch01.csv').values\n",
    "attend_event = pd.read_csv(path_data+'attended_event.csv').values"
   ]
  },
  {
   "cell_type": "code",
   "execution_count": 41,
   "metadata": {},
   "outputs": [
    {
     "data": {
      "text/plain": [
       "array([[98305],\n",
       "       [    1],\n",
       "       [65539],\n",
       "       [98308],\n",
       "       [98309]])"
      ]
     },
     "metadata": {},
     "output_type": "display_data"
    },
    {
     "data": {
      "text/plain": [
       "array([[98308],\n",
       "       [73733],\n",
       "       [65542],\n",
       "       [   10],\n",
       "       [24589]])"
      ]
     },
     "metadata": {},
     "output_type": "display_data"
    }
   ],
   "source": [
    "display(population[:5], attend_event[:5])"
   ]
  },
  {
   "cell_type": "code",
   "execution_count": 42,
   "metadata": {
    "tags": []
   },
   "outputs": [
    {
     "name": "stdout",
     "output_type": "stream",
     "text": [
      "0.23\n"
     ]
    },
    {
     "data": {
      "text/plain": [
       "'\\nGreat job! About 23% of the donors that were invited to the event did attend the event.\\n'"
      ]
     },
     "execution_count": 42,
     "metadata": {},
     "output_type": "execute_result"
    }
   ],
   "source": [
    "# exercise 07\n",
    "\n",
    "\"\"\"\n",
    "Calculate an event target\n",
    "\n",
    "======= You are organising a charity event and want to predict which donors are most likely to attend this event. You organized a similar event in the past, so you can use that information to construct a predictive model. Given is a list population with unique donor ids for this basetable and a list attend_event with donors in the population that attended this past event. In this exercise you will construct a basetable with two columns: the donor_id and the target, which is 1 if the donor attended the event and 0 otherwise.\n",
    "\"\"\"\n",
    "\n",
    "# Instructions\n",
    "\n",
    "\"\"\"\n",
    "\n",
    "    Construct a pandas dataframe basetable that has one row for each donor in population and one column donor_id with the donor's ID.\n",
    "    Add the target as a column to the basetable. The target is 1 if the donor attended the event and 0 otherwise.\n",
    "    Calculate and print the target incidence, i.e. the number of times the target is 1 divided by the number of rows in the basetable.\n",
    "\n",
    "\"\"\"\n",
    "\n",
    "# solution\n",
    "\n",
    "# Basetable with one column: donor_id\n",
    "basetable = pd.DataFrame(population, columns=[\"donor_id\"])\n",
    "\n",
    "# Add target to the basetable\n",
    "basetable[\"target\"] = pd.Series([1 if donor_id in attend_event else 0 for donor_id in basetable[\"donor_id\"]])\n",
    "\n",
    "# Calculate and print the target incidence\n",
    "print(round(basetable[\"target\"].sum() / len(basetable), 2))\n",
    "\n",
    "\n",
    "#----------------------------------#\n",
    "\n",
    "# Conclusion\n",
    "\n",
    "\"\"\"\n",
    "Great job! About 23% of the donors that were invited to the event did attend the event.\n",
    "\"\"\""
   ]
  },
  {
   "cell_type": "code",
   "execution_count": 44,
   "metadata": {},
   "outputs": [
    {
     "data": {
      "text/html": [
       "<div>\n",
       "<style scoped>\n",
       "    .dataframe tbody tr th:only-of-type {\n",
       "        vertical-align: middle;\n",
       "    }\n",
       "\n",
       "    .dataframe tbody tr th {\n",
       "        vertical-align: top;\n",
       "    }\n",
       "\n",
       "    .dataframe thead th {\n",
       "        text-align: right;\n",
       "    }\n",
       "</style>\n",
       "<table border=\"1\" class=\"dataframe\">\n",
       "  <thead>\n",
       "    <tr style=\"text-align: right;\">\n",
       "      <th></th>\n",
       "      <th>id</th>\n",
       "      <th>date</th>\n",
       "      <th>amount</th>\n",
       "    </tr>\n",
       "  </thead>\n",
       "  <tbody>\n",
       "    <tr>\n",
       "      <th>140</th>\n",
       "      <td>22</td>\n",
       "      <td>2017-01-19</td>\n",
       "      <td>128.0</td>\n",
       "    </tr>\n",
       "    <tr>\n",
       "      <th>255</th>\n",
       "      <td>40</td>\n",
       "      <td>2017-01-08</td>\n",
       "      <td>123.0</td>\n",
       "    </tr>\n",
       "    <tr>\n",
       "      <th>386</th>\n",
       "      <td>56</td>\n",
       "      <td>2017-01-28</td>\n",
       "      <td>119.0</td>\n",
       "    </tr>\n",
       "    <tr>\n",
       "      <th>395</th>\n",
       "      <td>56</td>\n",
       "      <td>2017-01-09</td>\n",
       "      <td>82.0</td>\n",
       "    </tr>\n",
       "    <tr>\n",
       "      <th>524</th>\n",
       "      <td>77</td>\n",
       "      <td>2017-01-16</td>\n",
       "      <td>145.0</td>\n",
       "    </tr>\n",
       "  </tbody>\n",
       "</table>\n",
       "</div>"
      ],
      "text/plain": [
       "     id       date  amount\n",
       "140  22 2017-01-19   128.0\n",
       "255  40 2017-01-08   123.0\n",
       "386  56 2017-01-28   119.0\n",
       "395  56 2017-01-09    82.0\n",
       "524  77 2017-01-16   145.0"
      ]
     },
     "execution_count": 44,
     "metadata": {},
     "output_type": "execute_result"
    }
   ],
   "source": [
    "gifts_201701 = gifts[(gifts['date'].dt.year == 2017) & (gifts['date'].dt.month == 1)]\n",
    "gifts_201701.head()"
   ]
  },
  {
   "cell_type": "code",
   "execution_count": 45,
   "metadata": {
    "tags": []
   },
   "outputs": [
    {
     "name": "stdout",
     "output_type": "stream",
     "text": [
      "0.01\n"
     ]
    },
    {
     "data": {
      "text/plain": [
       "'\\nWell done! The target incidence is 0.04, meaning that 4% of the donors in the population donates more than 50 Euros in January 2017.\\n'"
      ]
     },
     "execution_count": 45,
     "metadata": {},
     "output_type": "execute_result"
    }
   ],
   "source": [
    "# exercise 08\n",
    "\n",
    "\"\"\"\n",
    "Calculate an aggregated target\n",
    "\n",
    "Assume you want to construct a predictive model that predicts which donors are most likely to donate more than 50 euro in a certain month.\n",
    "\n",
    "Given is a basetable basetable that already has one row for each donor in the population, the column donor_id represents the donor. The timeline indicates that the target should be 1 if the donor has donated more than 50 euro in January 2017 and 0 else.\n",
    "\n",
    "The pandas dataframe gifts_201701 contains all donations in January 2017. In this exercise you will add the target column to the basetable.\n",
    "\"\"\"\n",
    "\n",
    "# Instructions\n",
    "\n",
    "\"\"\"\n",
    "\n",
    "    Construct gifts_summed, which has for each donor in gifts_201701 the sum of donations.\n",
    "    Derive from gifts_summed a list targets with donors that donated more than 50 Euro in the target period.\n",
    "    Add the target to the basetable.\n",
    "    Calculate and print the target incidence.\n",
    "\n",
    "\"\"\"\n",
    "\n",
    "# solution\n",
    "\n",
    "# Sum of donations for each donor in gifts_201701\n",
    "gifts_summed = gifts_201701.groupby(\"id\")[\"amount\"].sum().reset_index()\n",
    "\n",
    "# List with targets\n",
    "targets = list(gifts_summed[\"id\"][gifts_summed[\"amount\"] > 50])\n",
    "\n",
    "# Add targets to the basetable\n",
    "basetable[\"target\"] = pd.Series([1 if donor_id in targets else 0 for donor_id in basetable[\"donor_id\"]])\n",
    "\n",
    "# Calculate and print the target incidence\n",
    "print(round(basetable[\"target\"].sum() / len(basetable), 2))\n",
    "\n",
    "#----------------------------------#\n",
    "\n",
    "# Conclusion\n",
    "\n",
    "\"\"\"\n",
    "Well done! The target incidence is 0.04, meaning that 4% of the donors in the population donates more than 50 Euros in January 2017.\n",
    "\"\"\""
   ]
  }
 ],
 "metadata": {
  "kernelspec": {
   "display_name": "Python 3 (ipykernel)",
   "language": "python",
   "name": "python3"
  },
  "language_info": {
   "codemirror_mode": {
    "name": "ipython",
    "version": 3
   },
   "file_extension": ".py",
   "mimetype": "text/x-python",
   "name": "python",
   "nbconvert_exporter": "python",
   "pygments_lexer": "ipython3",
   "version": "3.11.5"
  }
 },
 "nbformat": 4,
 "nbformat_minor": 4
}
