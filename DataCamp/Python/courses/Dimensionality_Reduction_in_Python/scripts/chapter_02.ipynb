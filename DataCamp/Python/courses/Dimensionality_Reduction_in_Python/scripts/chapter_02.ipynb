{
 "cells": [
  {
   "cell_type": "code",
   "execution_count": 2,
   "metadata": {
    "execution": {
     "iopub.execute_input": "2023-06-09T11:16:14.873814Z",
     "iopub.status.busy": "2023-06-09T11:16:14.865810Z",
     "iopub.status.idle": "2023-06-09T11:16:14.897367Z",
     "shell.execute_reply": "2023-06-09T11:16:14.895232Z",
     "shell.execute_reply.started": "2023-06-09T11:16:14.873717Z"
    },
    "tags": []
   },
   "outputs": [],
   "source": [
    "# run this to shorten the data import from the files\n",
    "path_data = '/home/nero/Documents/Estudos/DataCamp/Python/Dimensionality_Reduction_in_Python/datasets/'\n",
    "import pandas as pd"
   ]
  },
  {
   "cell_type": "code",
   "execution_count": 5,
   "metadata": {
    "execution": {
     "iopub.execute_input": "2023-06-09T11:23:05.182128Z",
     "iopub.status.busy": "2023-06-09T11:23:05.181655Z",
     "iopub.status.idle": "2023-06-09T11:23:05.313808Z",
     "shell.execute_reply": "2023-06-09T11:23:05.312243Z",
     "shell.execute_reply.started": "2023-06-09T11:23:05.182093Z"
    },
    "tags": []
   },
   "outputs": [],
   "source": [
    "ansur_df_1 = pd.read_csv(path_data + 'ANSUR_II_MALE.csv')\n",
    "ansur_df_2 = pd.read_csv(path_data + 'ANSUR_II_FEMALE.csv')\n",
    "\n",
    "ansur_df = pd.concat([ansur_df_1, ansur_df_2])\n",
    "# Non-numerical columns in the dataset\n",
    "non_numeric = ['Branch', 'Component', 'BMI_class', 'Height_class']\n",
    "\n",
    "# Drop the non-numerical columns from df\n",
    "ansur_df = ansur_df.drop(non_numeric, axis=1)"
   ]
  },
  {
   "cell_type": "code",
   "execution_count": 6,
   "metadata": {
    "execution": {
     "iopub.execute_input": "2023-06-09T11:23:07.255644Z",
     "iopub.status.busy": "2023-06-09T11:23:07.254286Z",
     "iopub.status.idle": "2023-06-09T11:23:07.310478Z",
     "shell.execute_reply": "2023-06-09T11:23:07.309356Z",
     "shell.execute_reply.started": "2023-06-09T11:23:07.255558Z"
    },
    "tags": []
   },
   "outputs": [
    {
     "name": "stdout",
     "output_type": "stream",
     "text": [
      "1821 rows in test set vs. 4247 in training set, 94 Features.\n"
     ]
    },
    {
     "data": {
      "text/plain": [
       "'\\nGood job! You now have one dataset for model training, and one for model testing.\\n'"
      ]
     },
     "execution_count": 6,
     "metadata": {},
     "output_type": "execute_result"
    }
   ],
   "source": [
    "# exercise 01\n",
    "\n",
    "\"\"\"\n",
    "Train - test split\n",
    "\n",
    "In this chapter, you will keep working with the ANSUR dataset. Before you can build a model on your dataset, you should first decide on which feature you want to predict. In this case, you're trying to predict gender.\n",
    "\n",
    "You need to extract the column holding this feature from the dataset and then split the data into a training and test set. The training set will be used to train the model and the test set will be used to check its performance on unseen data.\n",
    "\n",
    "ansur_df has been pre-loaded for you.\n",
    "\"\"\"\n",
    "\n",
    "# Instructions\n",
    "\n",
    "\"\"\"\n",
    "\n",
    "    Import the train_test_split function from sklearn.model_selection.\n",
    "    Assign the 'Gender' column to y.\n",
    "    Remove the 'Gender' column from the DataFrame and assign the result to X.\n",
    "    Set the test size to 30% to perform a 70% train and 30% test data split.\n",
    "\n",
    "\"\"\"\n",
    "\n",
    "# solution\n",
    "\n",
    "# Import train_test_split()\n",
    "from sklearn.model_selection import train_test_split\n",
    "\n",
    "# Select the Gender column as the feature to be predicted (y)\n",
    "y = ansur_df['Gender']\n",
    "\n",
    "# Remove the Gender column to create the training data\n",
    "X = ansur_df.drop('Gender', axis = 1)\n",
    "\n",
    "# Perform a 70% train and 30% test data split\n",
    "X_train, X_test, y_train, y_test = train_test_split(X, y, test_size=0.3)\n",
    "\n",
    "print(f\"{X_test.shape[0]} rows in test set vs. {X_train.shape[0]} in training set, {X_test.shape[1]} Features.\")\n",
    "\n",
    "#----------------------------------#\n",
    "\n",
    "# Conclusion\n",
    "\n",
    "\"\"\"\n",
    "Good job! You now have one dataset for model training, and one for model testing.\n",
    "\"\"\""
   ]
  },
  {
   "cell_type": "code",
   "execution_count": 8,
   "metadata": {
    "execution": {
     "iopub.execute_input": "2023-06-09T11:26:11.242818Z",
     "iopub.status.busy": "2023-06-09T11:26:11.242131Z",
     "iopub.status.idle": "2023-06-09T11:26:13.441828Z",
     "shell.execute_reply": "2023-06-09T11:26:13.440764Z",
     "shell.execute_reply.started": "2023-06-09T11:26:11.242738Z"
    },
    "tags": []
   },
   "outputs": [
    {
     "name": "stdout",
     "output_type": "stream",
     "text": [
      "99.0% accuracy on test set vs. 98.9% on training set\n"
     ]
    },
    {
     "data": {
      "text/plain": [
       "'\\nWell done! Looks like the model overfitted on the training data quite a bit. !diferent from the exercise!\\n'"
      ]
     },
     "execution_count": 8,
     "metadata": {},
     "output_type": "execute_result"
    }
   ],
   "source": [
    "# exercise 02\n",
    "\n",
    "\"\"\"\n",
    "Fitting and testing the model\n",
    "\n",
    "In the previous exercise, you split the dataset into X_train, X_test, y_train, and y_test. These datasets have been pre-loaded for you. You'll now create a support vector machine classifier model (SVC()) and fit that to the training data. You'll then calculate the accuracy on both the test and training set to detect overfitting.\n",
    "\"\"\"\n",
    "\n",
    "# Instructions\n",
    "\n",
    "\"\"\"\n",
    "\n",
    "    Import SVC from sklearn.svm and accuracy_score from sklearn.metrics\n",
    "    Create an instance of the Support Vector Classification class (SVC()).\n",
    "    Fit the model to the training data.\n",
    "    Calculate accuracy scores on both train and test data.\n",
    "\n",
    "\"\"\"\n",
    "\n",
    "# solution\n",
    "\n",
    "# Import SVC from sklearn.svm and accuracy_score from sklearn.metrics\n",
    "from sklearn.svm import SVC\n",
    "from sklearn.metrics import accuracy_score\n",
    "\n",
    "# Create an instance of the Support Vector Classification class\n",
    "svc = SVC()\n",
    "\n",
    "# Fit the model to the training data\n",
    "svc.fit(X_train, y_train)\n",
    "\n",
    "# Calculate accuracy scores on both train and test data\n",
    "accuracy_train = accuracy_score(y_train, svc.predict(X_train))\n",
    "accuracy_test = accuracy_score(y_test, svc.predict(X_test))\n",
    "\n",
    "print(f\"{accuracy_test:.1%} accuracy on test set vs. {accuracy_train:.1%} on training set\")\n",
    "\n",
    "#----------------------------------#\n",
    "\n",
    "# Conclusion\n",
    "\n",
    "\"\"\"\n",
    "Well done! Looks like the model overfitted on the training data quite a bit. !diferent from the exercise!\n",
    "\"\"\""
   ]
  },
  {
   "cell_type": "code",
   "execution_count": 9,
   "metadata": {
    "execution": {
     "iopub.execute_input": "2023-06-09T11:28:40.487671Z",
     "iopub.status.busy": "2023-06-09T11:28:40.487305Z",
     "iopub.status.idle": "2023-06-09T11:28:41.794892Z",
     "shell.execute_reply": "2023-06-09T11:28:41.792276Z",
     "shell.execute_reply.started": "2023-06-09T11:28:40.487643Z"
    },
    "tags": []
   },
   "outputs": [
    {
     "name": "stdout",
     "output_type": "stream",
     "text": [
      "92.8% accuracy on test set vs. 93.6% on training set\n"
     ]
    },
    {
     "data": {
      "text/plain": [
       "'\\nWow, what just happened!? The single feature model outperforms the one trained on all features? This is an example of the curse of dimensionality! The model overfits when we feed it too many features. It overlooks that neck circumference by itself is pretty different for males and females.\\n'"
      ]
     },
     "execution_count": 9,
     "metadata": {},
     "output_type": "execute_result"
    }
   ],
   "source": [
    "# exercise 03\n",
    "\n",
    "\"\"\"\n",
    "Accuracy after dimensionality reduction\n",
    "\n",
    "You'll reduce the overfit with the help of dimensionality reduction. In this case, you'll apply a rather drastic form of dimensionality reduction by only selecting a single column that has some good information to distinguish between genders. You'll repeat the train-test split, model fit and prediction steps to compare the accuracy on test versus training data.\n",
    "\n",
    "All relevant packages and y have been pre-loaded.\n",
    "\"\"\"\n",
    "\n",
    "# Instructions\n",
    "\n",
    "\"\"\"\n",
    "\n",
    "    Select just the neck circumference ('neckcircumferencebase') column from ansur_df.\n",
    "    Split the data, instantiate a classifier and fit the data. This has been done for you.\n",
    "    Once again calculate the accuracy scores on both training and test set.\n",
    "\n",
    "\"\"\"\n",
    "\n",
    "# solution\n",
    "\n",
    "# Assign just the 'neckcircumferencebase' column from ansur_df to X\n",
    "X = ansur_df[['neckcircumferencebase']]\n",
    "\n",
    "# Split the data, instantiate a classifier and fit the data\n",
    "X_train, X_test, y_train, y_test = train_test_split(X, y, test_size=0.3)\n",
    "svc = SVC()\n",
    "svc.fit(X_train, y_train)\n",
    "\n",
    "# Calculate accuracy scores on both train and test data\n",
    "accuracy_train = accuracy_score(y_train, svc.predict(X_train))\n",
    "accuracy_test = accuracy_score(y_test, svc.predict(X_test))\n",
    "\n",
    "print(f\"{accuracy_test:.1%} accuracy on test set vs. {accuracy_train:.1%} on training set\")\n",
    "\n",
    "#----------------------------------#\n",
    "\n",
    "# Conclusion\n",
    "\n",
    "\"\"\"\n",
    "Wow, what just happened!? The single feature model outperforms the one trained on all features? This is an example of the curse of dimensionality! The model overfits when we feed it too many features. It overlooks that neck circumference by itself is pretty different for males and females.\n",
    "\"\"\""
   ]
  },
  {
   "cell_type": "code",
   "execution_count": 16,
   "metadata": {
    "execution": {
     "iopub.execute_input": "2023-06-09T11:46:44.250869Z",
     "iopub.status.busy": "2023-06-09T11:46:44.250393Z",
     "iopub.status.idle": "2023-06-09T11:46:44.264546Z",
     "shell.execute_reply": "2023-06-09T11:46:44.263618Z",
     "shell.execute_reply.started": "2023-06-09T11:46:44.250827Z"
    },
    "tags": []
   },
   "outputs": [],
   "source": [
    "concats = pd.read_csv(path_data + 'heads.csv').drop('Unnamed: 0', axis =1)"
   ]
  },
  {
   "cell_type": "code",
   "execution_count": 24,
   "metadata": {
    "execution": {
     "iopub.execute_input": "2023-06-09T11:49:32.089625Z",
     "iopub.status.busy": "2023-06-09T11:49:32.088895Z",
     "iopub.status.idle": "2023-06-09T11:49:32.094250Z",
     "shell.execute_reply": "2023-06-09T11:49:32.093247Z",
     "shell.execute_reply.started": "2023-06-09T11:49:32.089584Z"
    },
    "tags": []
   },
   "outputs": [],
   "source": [
    "import matplotlib.pyplot as plt"
   ]
  },
  {
   "cell_type": "code",
   "execution_count": 22,
   "metadata": {
    "execution": {
     "iopub.execute_input": "2023-06-09T11:49:11.367752Z",
     "iopub.status.busy": "2023-06-09T11:49:11.366929Z",
     "iopub.status.idle": "2023-06-09T11:49:11.387995Z",
     "shell.execute_reply": "2023-06-09T11:49:11.387126Z",
     "shell.execute_reply.started": "2023-06-09T11:49:11.367699Z"
    },
    "tags": []
   },
   "outputs": [
    {
     "data": {
      "text/html": [
       "<div>\n",
       "<style scoped>\n",
       "    .dataframe tbody tr th:only-of-type {\n",
       "        vertical-align: middle;\n",
       "    }\n",
       "\n",
       "    .dataframe tbody tr th {\n",
       "        vertical-align: top;\n",
       "    }\n",
       "\n",
       "    .dataframe thead th {\n",
       "        text-align: right;\n",
       "    }\n",
       "</style>\n",
       "<table border=\"1\" class=\"dataframe\">\n",
       "  <thead>\n",
       "    <tr style=\"text-align: right;\">\n",
       "      <th></th>\n",
       "      <th>headbreadth</th>\n",
       "      <th>headcircumference</th>\n",
       "      <th>headlength</th>\n",
       "      <th>tragiontopofhead</th>\n",
       "      <th>n_hairs</th>\n",
       "      <th>measurement_error</th>\n",
       "    </tr>\n",
       "  </thead>\n",
       "  <tbody>\n",
       "    <tr>\n",
       "      <th>0</th>\n",
       "      <td>150</td>\n",
       "      <td>583</td>\n",
       "      <td>206</td>\n",
       "      <td>140</td>\n",
       "      <td>100016.243454</td>\n",
       "      <td>0.1</td>\n",
       "    </tr>\n",
       "  </tbody>\n",
       "</table>\n",
       "</div>"
      ],
      "text/plain": [
       "   headbreadth  headcircumference  headlength  tragiontopofhead   \n",
       "0          150                583         206               140  \\\n",
       "\n",
       "         n_hairs  measurement_error  \n",
       "0  100016.243454                0.1  "
      ]
     },
     "execution_count": 22,
     "metadata": {},
     "output_type": "execute_result"
    }
   ],
   "source": [
    "head_df = ansur_df[['headbreadth', 'headcircumference', 'headlength', 'tragiontopofhead']]\n",
    "head_df.loc[: ,['n_hairs','measurement_error']] = concats\n",
    "head_df.head(1)"
   ]
  },
  {
   "cell_type": "code",
   "execution_count": 25,
   "metadata": {
    "execution": {
     "iopub.execute_input": "2023-06-09T11:49:34.087088Z",
     "iopub.status.busy": "2023-06-09T11:49:34.086629Z",
     "iopub.status.idle": "2023-06-09T11:49:34.742723Z",
     "shell.execute_reply": "2023-06-09T11:49:34.741130Z",
     "shell.execute_reply.started": "2023-06-09T11:49:34.087050Z"
    },
    "tags": []
   },
   "outputs": [
    {
     "data": {
      "image/png": "[encoded data removed]",
      "text/plain": [
       "<Figure size 640x480 with 1 Axes>"
      ]
     },
     "metadata": {},
     "output_type": "display_data"
    },
    {
     "data": {
      "image/png": "[encoded data removed]",
      "text/plain": [
       "<Figure size 640x480 with 1 Axes>"
      ]
     },
     "metadata": {},
     "output_type": "display_data"
    },
    {
     "name": "stdout",
     "output_type": "stream",
     "text": [
      "headbreadth          1.678952e-03\n",
      "headcircumference    1.029623e-03\n",
      "headlength           1.867872e-03\n",
      "tragiontopofhead     2.639840e-03\n",
      "n_hairs              1.000842e-08\n",
      "measurement_error    0.000000e+00\n",
      "dtype: float64\n"
     ]
    },
    {
     "data": {
      "text/plain": [
       "\"\\nYou're right! A threshold of 1.0e-03 (0.001) will remove the two low variance features.\\n\""
      ]
     },
     "execution_count": 25,
     "metadata": {},
     "output_type": "execute_result"
    }
   ],
   "source": [
    "# exercise 04\n",
    "\n",
    "\"\"\"\n",
    "Finding a good variance threshold\n",
    "\n",
    "You'll be working on a slightly modified subsample of the ANSUR dataset with just head measurements pre-loaded as head_df.\n",
    "\"\"\"\n",
    "\n",
    "# Instructions\n",
    "\n",
    "\"\"\"\n",
    "\n",
    "    Create a boxplot on head_df.\n",
    "---\n",
    "\n",
    "    Normalize the data by dividing the DataFrame with its mean values.\n",
    "---\n",
    "\n",
    "    Print the variances of the normalized data.\n",
    "---\n",
    "\n",
    "\"\"\"\n",
    "\n",
    "# solution\n",
    "\n",
    "# Create the boxplot\n",
    "head_df.boxplot()\n",
    "\n",
    "plt.show()\n",
    "\n",
    "#----------------------------------#\n",
    "\n",
    "# Normalize the data\n",
    "normalized_df = head_df / head_df.mean()\n",
    "\n",
    "normalized_df.boxplot()\n",
    "plt.show()\n",
    "\n",
    "#----------------------------------#\n",
    "\n",
    "# Normalize the data\n",
    "normalized_df = head_df / head_df.mean()\n",
    "\n",
    "# Print the variances of the normalized data\n",
    "print(normalized_df.var())\n",
    "\n",
    "#----------------------------------#\n",
    "\n",
    "\n",
    "\n",
    "#----------------------------------#\n",
    "\n",
    "# Conclusion\n",
    "\n",
    "\"\"\"\n",
    "You're right! A threshold of 1.0e-03 (0.001) will remove the two low variance features.\n",
    "\"\"\""
   ]
  },
  {
   "cell_type": "code",
   "execution_count": 26,
   "metadata": {
    "execution": {
     "iopub.execute_input": "2023-06-09T11:52:14.782548Z",
     "iopub.status.busy": "2023-06-09T11:52:14.782044Z",
     "iopub.status.idle": "2023-06-09T11:52:15.797656Z",
     "shell.execute_reply": "2023-06-09T11:52:15.794711Z",
     "shell.execute_reply.started": "2023-06-09T11:52:14.782506Z"
    },
    "tags": []
   },
   "outputs": [
    {
     "name": "stdout",
     "output_type": "stream",
     "text": [
      "Dimensionality reduced from 6 to 4.\n"
     ]
    },
    {
     "data": {
      "text/plain": [
       "\"\\nGood job, you've successfully removed the 2 low-variance features.\\n\""
      ]
     },
     "execution_count": 26,
     "metadata": {},
     "output_type": "execute_result"
    }
   ],
   "source": [
    "# exercise 05\n",
    "\n",
    "\"\"\"\n",
    "Features with low variance\n",
    "\n",
    "In the previous exercise you established that 0.001 is a good threshold to filter out low variance features in head_df after normalization. Now use the VarianceThreshold feature selector to remove these features.\n",
    "\"\"\"\n",
    "\n",
    "# Instructions\n",
    "\n",
    "\"\"\"\n",
    "\n",
    "    Create the variance threshold selector with a threshold of 0.001.\n",
    "    Normalize the head_df DataFrame by dividing it by its mean values and fit the selector.\n",
    "    Create a boolean mask from the selector using .get_support().\n",
    "    Create a reduced DataFrame by passing the mask to the .loc[] method.\n",
    "\n",
    "\"\"\"\n",
    "\n",
    "# solution\n",
    "\n",
    "from sklearn.feature_selection import VarianceThreshold\n",
    "\n",
    "# Create a VarianceThreshold feature selector\n",
    "sel = VarianceThreshold(threshold=0.001)\n",
    "\n",
    "# Fit the selector to normalized head_df\n",
    "sel.fit(head_df / head_df.mean())\n",
    "\n",
    "# Create a boolean mask\n",
    "mask = sel.get_support()\n",
    "\n",
    "# Apply the mask to create a reduced DataFrame\n",
    "reduced_df = head_df.loc[:, mask]\n",
    "\n",
    "print(f\"Dimensionality reduced from {head_df.shape[1]} to {reduced_df.shape[1]}.\")\n",
    "\n",
    "#----------------------------------#\n",
    "\n",
    "# Conclusion\n",
    "\n",
    "\"\"\"\n",
    "Good job, you've successfully removed the 2 low-variance features.\n",
    "\"\"\""
   ]
  },
  {
   "cell_type": "code",
   "execution_count": 27,
   "metadata": {
    "execution": {
     "iopub.execute_input": "2023-06-09T11:55:59.511381Z",
     "iopub.status.busy": "2023-06-09T11:55:59.510901Z",
     "iopub.status.idle": "2023-06-09T11:55:59.537481Z",
     "shell.execute_reply": "2023-06-09T11:55:59.536487Z",
     "shell.execute_reply.started": "2023-06-09T11:55:59.511341Z"
    },
    "tags": []
   },
   "outputs": [],
   "source": [
    "school_df = pd.read_csv(path_data + 'Public_Schools2.csv')"
   ]
  },
  {
   "cell_type": "code",
   "execution_count": 30,
   "metadata": {
    "execution": {
     "iopub.execute_input": "2023-06-09T11:56:19.204227Z",
     "iopub.status.busy": "2023-06-09T11:56:19.203502Z",
     "iopub.status.idle": "2023-06-09T11:56:19.216643Z",
     "shell.execute_reply": "2023-06-09T11:56:19.215700Z",
     "shell.execute_reply.started": "2023-06-09T11:56:19.204188Z"
    },
    "tags": []
   },
   "outputs": [
    {
     "name": "stdout",
     "output_type": "stream",
     "text": [
      "x             0.000000\n",
      "y             0.000000\n",
      "objectid_1    0.000000\n",
      "objectid      0.000000\n",
      "bldg_id       0.000000\n",
      "bldg_name     0.000000\n",
      "address       0.000000\n",
      "city          0.000000\n",
      "zipcode       0.000000\n",
      "csp_sch_id    0.000000\n",
      "sch_id        0.000000\n",
      "sch_name      0.000000\n",
      "sch_label     0.000000\n",
      "sch_type      0.000000\n",
      "shared        0.877863\n",
      "complex       0.984733\n",
      "label         0.000000\n",
      "tlt           0.000000\n",
      "pl            0.000000\n",
      "point_x       0.000000\n",
      "point_y       0.000000\n",
      "dtype: float64\n",
      "(131, 21)\n",
      "(131, 19)\n"
     ]
    },
    {
     "data": {
      "text/plain": [
       "'\\nGreat! The number of features went down from 21 to 19.\\n'"
      ]
     },
     "execution_count": 30,
     "metadata": {},
     "output_type": "execute_result"
    }
   ],
   "source": [
    "# exercise 06\n",
    "\n",
    "\"\"\"\n",
    "Removing features with many missing values\n",
    "\n",
    "You'll apply feature selection on the Boston Public Schools dataset which has been pre-loaded as school_df. Calculate the missing value ratio per feature and then create a mask to remove features with many missing values.\n",
    "\"\"\"\n",
    "\n",
    "# Instructions\n",
    "\n",
    "\"\"\"\n",
    "Question\n",
    "\n",
    "In what range lies highest ratio of missing values for a single feature in the dataset?\n",
    "Possible answers:\n",
    "\n",
    "0.9 -- 1.0 (Answer)\n",
    "\n",
    "0.8 -- 0.9\n",
    "\n",
    "0.7 -- 0.8\n",
    "\n",
    "0.6 -- 0.7\n",
    "---\n",
    "\n",
    "    Create a boolean mask on whether each feature has less than 50% missing values.\n",
    "    Apply the mask to school_df to select columns without many missing values.\n",
    "\n",
    "\"\"\"\n",
    "\n",
    "# solution\n",
    "\n",
    "print(school_df.isna().sum()/len(school_df))\n",
    "\n",
    "#----------------------------------#\n",
    "\n",
    "# Create a boolean mask on whether each feature less than 50% missing values.\n",
    "mask = school_df.isna().sum() / len(school_df) < 0.5\n",
    "\n",
    "# Create a reduced dataset by applying the mask\n",
    "reduced_df = school_df.loc[:, mask]\n",
    "\n",
    "print(school_df.shape)\n",
    "print(reduced_df.shape)\n",
    "\n",
    "#----------------------------------#\n",
    "\n",
    "# Conclusion\n",
    "\n",
    "\"\"\"\n",
    "Great! The number of features went down from 21 to 19.\n",
    "\"\"\""
   ]
  },
  {
   "cell_type": "code",
   "execution_count": 34,
   "metadata": {
    "execution": {
     "iopub.execute_input": "2023-06-09T12:05:17.314347Z",
     "iopub.status.busy": "2023-06-09T12:05:17.314013Z",
     "iopub.status.idle": "2023-06-09T12:05:17.545122Z",
     "shell.execute_reply": "2023-06-09T12:05:17.542331Z",
     "shell.execute_reply.started": "2023-06-09T12:05:17.314319Z"
    },
    "tags": []
   },
   "outputs": [
    {
     "data": {
      "text/plain": [
       "0.7021781113157372"
      ]
     },
     "metadata": {},
     "output_type": "display_data"
    },
    {
     "data": {
      "text/plain": [
       "'\\nCorrect! Quite a strong, positive correlation.\\n'"
      ]
     },
     "execution_count": 34,
     "metadata": {},
     "output_type": "execute_result"
    }
   ],
   "source": [
    "# exercise 07\n",
    "\n",
    "\"\"\"\n",
    "Inspecting the correlation matrix\n",
    "\n",
    "A sample of the ANSUR body measurements dataset has been pre-loaded as ansur_df. Use the terminal to create a correlation matrix for this dataset.\n",
    "\n",
    "What is the correlation coefficient between wrist and ankle circumference?\n",
    "\"\"\"\n",
    "\n",
    "# Instructions\n",
    "\n",
    "\"\"\"\n",
    "Possible answers:\n",
    "\n",
    "0.702 (Answer)\n",
    "\n",
    "1.000\n",
    "\n",
    "0.302\n",
    "\n",
    "0.577\n",
    "\"\"\"\n",
    "\n",
    "# solution\n",
    "\n",
    "display(ansur_df.corr(numeric_only=True).loc['wristcircumference','anklecircumference'])\n",
    "\n",
    "#----------------------------------#\n",
    "\n",
    "# Conclusion\n",
    "\n",
    "\"\"\"\n",
    "Correct! Quite a strong, positive correlation.\n",
    "\"\"\""
   ]
  },
  {
   "cell_type": "code",
   "execution_count": 40,
   "metadata": {
    "execution": {
     "iopub.execute_input": "2023-06-09T12:23:49.280223Z",
     "iopub.status.busy": "2023-06-09T12:23:49.279527Z",
     "iopub.status.idle": "2023-06-09T12:23:49.292275Z",
     "shell.execute_reply": "2023-06-09T12:23:49.291158Z",
     "shell.execute_reply.started": "2023-06-09T12:23:49.280192Z"
    },
    "tags": []
   },
   "outputs": [],
   "source": [
    "import seaborn as sns\n",
    "import numpy as np\n",
    "cmap = sns.diverging_palette(h_neg=10,\n",
    "h_pos=240,\n",
    "as_cmap=True)"
   ]
  },
  {
   "cell_type": "code",
   "execution_count": null,
   "metadata": {
    "tags": []
   },
   "outputs": [],
   "source": [
    "# exercise 08\n",
    "\n",
    "\"\"\"\n",
    "Visualizing the correlation matrix\n",
    "\n",
    "Reading the correlation matrix of ansur_df in its raw, numeric format doesn't allow us to get a quick overview. Let's improve this by removing redundant values and visualizing the matrix using seaborn.\n",
    "\n",
    "Seaborn has been pre-loaded as sns, matplotlib.pyplot as plt, NumPy as np and pandas as pd.\n",
    "\"\"\"\n",
    "\n",
    "# Instructions\n",
    "\n",
    "\"\"\"\n",
    "\n",
    "    Create the correlation matrix.\n",
    "    Visualize it using Seaborn's heatmap function.\n",
    "---\n",
    "\n",
    "    Create a boolean mask for the upper triangle of the plot.\n",
    "---\n",
    "\n",
    "    Add the mask to the heatmap.\n",
    "---\n",
    "Question\n",
    "\n",
    "    Which two features have the strongest correlation?\n",
    "(Butt and Croch)\n",
    "\"\"\"\n",
    "\n",
    "# solution\n",
    "\n",
    "# Create the correlation matrix\n",
    "corr = ansur_df.corr(numeric_only = True)\n",
    "\n",
    "# Draw a heatmap of the correlation matrix\n",
    "sns.heatmap(corr,  cmap=cmap, center=0, linewidths=1, annot=True, fmt=\".2f\")\n",
    "plt.show()\n",
    "\n",
    "#----------------------------------#\n",
    "\n",
    "# Create the correlation matrix\n",
    "\n",
    "# Generate a mask for the upper triangle\n",
    "mask = np.triu(np.ones_like(corr, dtype=bool))\n",
    "\n",
    "print(mask)\n",
    "\n",
    "#----------------------------------#\n",
    "\n",
    "# Create the correlation matrix\n",
    "\n",
    "# Generate a mask for the upper triangle \n",
    "mask = np.triu(np.ones_like(corr, dtype=bool))\n",
    "\n",
    "# Add the mask to the heatmap\n",
    "sns.heatmap(corr, mask=mask, cmap=cmap, center=0, linewidths=1, annot=True, fmt=\".2f\")\n",
    "plt.show()\n",
    "\n",
    "#----------------------------------#\n",
    "\n",
    "\n",
    "\n",
    "#----------------------------------#\n",
    "\n",
    "# Conclusion\n",
    "\n",
    "\"\"\"\n",
    "You're right! The buttock and crotch height have a 0.93 correlation coefficient.\n",
    "\"\"\""
   ]
  },
  {
   "cell_type": "code",
   "execution_count": 42,
   "metadata": {
    "execution": {
     "iopub.execute_input": "2023-06-09T12:27:36.111874Z",
     "iopub.status.busy": "2023-06-09T12:27:36.111577Z",
     "iopub.status.idle": "2023-06-09T12:27:36.371379Z",
     "shell.execute_reply": "2023-06-09T12:27:36.370438Z",
     "shell.execute_reply.started": "2023-06-09T12:27:36.111851Z"
    },
    "tags": []
   },
   "outputs": [
    {
     "name": "stdout",
     "output_type": "stream",
     "text": [
      "The reduced_df DataFrame has 76 columns.\n"
     ]
    },
    {
     "data": {
      "text/plain": [
       "\"\\nNice! You've automated the removal of highly correlated features.\\n\""
      ]
     },
     "execution_count": 42,
     "metadata": {},
     "output_type": "execute_result"
    }
   ],
   "source": [
    "# exercise 09\n",
    "\n",
    "\"\"\"\n",
    "Filtering out highly correlated features\n",
    "\n",
    "You're going to automate the removal of highly correlated features in the numeric ANSUR dataset. You'll calculate the correlation matrix and filter out columns that have a correlation coefficient of more than 0.95 or less than -0.95.\n",
    "\n",
    "Since each correlation coefficient occurs twice in the matrix (correlation of A to B equals correlation of B to A) you'll want to ignore half of the correlation matrix so that only one of the two correlated features is removed. Use a mask trick for this purpose.\n",
    "\"\"\"\n",
    "\n",
    "# Instructions\n",
    "\n",
    "\"\"\"\n",
    "\n",
    "    Calculate the correlation matrix of ansur_df and take the absolute value of this matrix.\n",
    "    Create a boolean mask with True values in the upper right triangle and apply it to the correlation matrix.\n",
    "    Set the correlation coefficient threshold to 0.95.\n",
    "    Drop all the columns listed in to_drop from the DataFrame.\n",
    "\n",
    "\"\"\"\n",
    "\n",
    "# solution\n",
    "\n",
    "# Calculate the correlation matrix and take the absolute value\n",
    "corr_df = ansur_df.corr(numeric_only = True).abs()\n",
    "\n",
    "# Create a True/False mask and apply it\n",
    "mask = np.triu(np.ones_like(corr_df, dtype=bool))\n",
    "tri_df = corr_df.mask(mask)\n",
    "\n",
    "# List column names of highly correlated features (r > 0.95)\n",
    "to_drop = [c for c in tri_df.columns if any(tri_df[c] >  0.95)]\n",
    "\n",
    "# Drop the features in the to_drop list\n",
    "reduced_df = ansur_df.drop(to_drop, axis=1)\n",
    "\n",
    "print(f\"The reduced_df DataFrame has {reduced_df.shape[1]} columns.\")\n",
    "\n",
    "#----------------------------------#\n",
    "\n",
    "# Conclusion\n",
    "\n",
    "\"\"\"\n",
    "Nice! You've automated the removal of highly correlated features.\n",
    "\"\"\""
   ]
  },
  {
   "cell_type": "code",
   "execution_count": 43,
   "metadata": {
    "execution": {
     "iopub.execute_input": "2023-06-09T12:30:37.491870Z",
     "iopub.status.busy": "2023-06-09T12:30:37.491451Z",
     "iopub.status.idle": "2023-06-09T12:30:37.920310Z",
     "shell.execute_reply": "2023-06-09T12:30:37.918817Z",
     "shell.execute_reply.started": "2023-06-09T12:30:37.491842Z"
    },
    "tags": []
   },
   "outputs": [],
   "source": [
    "weird_df = pd.read_clipboard()\n",
    "weird_df.to_csv(path_data + 'weird_df.csv')"
   ]
  },
  {
   "cell_type": "code",
   "execution_count": 44,
   "metadata": {
    "execution": {
     "iopub.execute_input": "2023-06-09T12:32:56.620880Z",
     "iopub.status.busy": "2023-06-09T12:32:56.620119Z",
     "iopub.status.idle": "2023-06-09T12:32:57.082518Z",
     "shell.execute_reply": "2023-06-09T12:32:57.080324Z",
     "shell.execute_reply.started": "2023-06-09T12:32:56.620829Z"
    },
    "tags": []
   },
   "outputs": [
    {
     "name": "stdout",
     "output_type": "stream",
     "text": [
      "   pool_drownings  nuclear_energy\n",
      "0             421           728.3\n",
      "1             465           753.9\n",
      "2             494           768.8\n",
      "3             538           780.1\n",
      "4             430           763.7\n"
     ]
    },
    {
     "data": {
      "image/png": "[encoded data removed]",
      "text/plain": [
       "<Figure size 640x480 with 1 Axes>"
      ]
     },
     "metadata": {},
     "output_type": "display_data"
    },
    {
     "name": "stdout",
     "output_type": "stream",
     "text": [
      "                pool_drownings  nuclear_energy\n",
      "pool_drownings        1.000000        0.901179\n",
      "nuclear_energy        0.901179        1.000000\n"
     ]
    },
    {
     "data": {
      "text/plain": [
       "\"\\nYou're right! While the example is silly, you'll be amazed how often people misunderstand correlation versus causation.\\n\""
      ]
     },
     "execution_count": 44,
     "metadata": {},
     "output_type": "execute_result"
    }
   ],
   "source": [
    "# exercise 10\n",
    "\n",
    "\"\"\"\n",
    "Nuclear energy and pool drownings\n",
    "\n",
    "The dataset that has been pre-loaded for you as weird_df contains actual data provided by the US Centers for Disease Control & Prevention and Department of Energy.\n",
    "\n",
    "Let's see if we can find a pattern.\n",
    "\n",
    "Seaborn has been pre-loaded as sns and matplotlib.pyplot as plt.\n",
    "\"\"\"\n",
    "\n",
    "# Instructions\n",
    "\n",
    "\"\"\"\n",
    "\n",
    "    Print the first five lines of weird_df.\n",
    "---\n",
    "\n",
    "    Create a scatterplot with nuclear energy production on the x-axis and the number of pool drownings on the y-axis.\n",
    "---\n",
    "\n",
    "    Print out the correlation matrix of weird_df.\n",
    "---\n",
    "Question\n",
    "\n",
    "    What can you conclude from the strong correlation (r=0.9) between these features?\n",
    "\n",
    "\"\"\"\n",
    "\n",
    "# solution\n",
    "\n",
    "# Print the first five lines of weird_df\n",
    "print(weird_df.head())\n",
    "\n",
    "#----------------------------------#\n",
    "\n",
    "# Put nuclear energy production on the x-axis and the number of pool drownings on the y-axis\n",
    "sns.scatterplot(x='nuclear_energy', y='pool_drownings', data=weird_df)\n",
    "plt.show()\n",
    "\n",
    "#----------------------------------#\n",
    "\n",
    "# Print out the correlation matrix of weird_df\n",
    "print(weird_df.corr())\n",
    "\n",
    "#----------------------------------#\n",
    "\n",
    "\n",
    "\n",
    "#----------------------------------#\n",
    "\n",
    "# Conclusion\n",
    "\n",
    "\"\"\"\n",
    "You're right! While the example is silly, you'll be amazed how often people misunderstand correlation versus causation.\n",
    "\"\"\""
   ]
  },
  {
   "cell_type": "code",
   "execution_count": null,
   "metadata": {},
   "outputs": [],
   "source": [
    "# exercise 11\n",
    "\n",
    "\"\"\"\n",
    "\n",
    "\"\"\"\n",
    "\n",
    "# Instructions\n",
    "\n",
    "\"\"\"\n",
    "\n",
    "\"\"\"\n",
    "\n",
    "# solution\n",
    "\n",
    "\n",
    "\n",
    "#----------------------------------#\n",
    "\n",
    "# Conclusion\n",
    "\n",
    "\"\"\"\n",
    "\n",
    "\"\"\""
   ]
  }
 ],
 "metadata": {
  "kernelspec": {
   "display_name": "Python 3 (ipykernel)",
   "language": "python",
   "name": "python3"
  },
  "language_info": {
   "codemirror_mode": {
    "name": "ipython",
    "version": 3
   },
   "file_extension": ".py",
   "mimetype": "text/x-python",
   "name": "python",
   "nbconvert_exporter": "python",
   "pygments_lexer": "ipython3",
   "version": "3.11.3"
  }
 },
 "nbformat": 4,
 "nbformat_minor": 4
}
