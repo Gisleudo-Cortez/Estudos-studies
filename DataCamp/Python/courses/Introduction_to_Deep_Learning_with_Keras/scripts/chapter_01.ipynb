{
 "cells": [
  {
   "cell_type": "code",
   "execution_count": 1,
   "metadata": {
    "tags": []
   },
   "outputs": [],
   "source": [
    "# run this to shorten the data import from the files\n",
    "path_data = '/home/nero/Documents/Estudos/DataCamp/Python/Introduction_to_Deep_Learning_with_Keras/datasets/'\n",
    "import pandas as pd\n",
    "import numpy as np"
   ]
  },
  {
   "cell_type": "code",
   "execution_count": 3,
   "metadata": {},
   "outputs": [
    {
     "name": "stdout",
     "output_type": "stream",
     "text": [
      "Model: \"sequential_1\"\n",
      "_________________________________________________________________\n",
      " Layer (type)                Output Shape              Param #   \n",
      "=================================================================\n",
      " dense_2 (Dense)             (None, 10)                30        \n",
      "                                                                 \n",
      " dense_3 (Dense)             (None, 1)                 11        \n",
      "                                                                 \n",
      "=================================================================\n",
      "Total params: 41\n",
      "Trainable params: 41\n",
      "Non-trainable params: 0\n",
      "_________________________________________________________________\n"
     ]
    },
    {
     "data": {
      "text/plain": [
       "\"\\nYou've just build your first neural network with Keras, well done!\\n\""
      ]
     },
     "execution_count": 3,
     "metadata": {},
     "output_type": "execute_result"
    }
   ],
   "source": [
    "# exercise 01\n",
    "\n",
    "\"\"\"\n",
    "Hello nets!\n",
    "\n",
    "You're going to build a simple neural network to get a feeling of how quickly it is to accomplish this in Keras.\n",
    "\n",
    "You will build a network that takes two numbers as an input, passes them through a hidden layer of 10 neurons, and finally outputs a single non-constrained number.\n",
    "\n",
    "A non-constrained output can be obtained by avoiding setting an activation function in the output layer. This is useful for problems like regression, when we want our output to be able to take any non-constrained value.\n",
    "\"\"\"\n",
    "\n",
    "# Instructions\n",
    "\n",
    "\"\"\"\n",
    "\n",
    "    Import the Sequential model from tensorflow.keras.models and the Denselayer from tensorflow.keras.layers.\n",
    "    Create an instance of the Sequential model.\n",
    "    Add a 10-neuron hidden Dense layer with an input_shape of two neurons.\n",
    "    Add a final 1-neuron output layer and summarize your model with summary().\n",
    "\n",
    "\"\"\"\n",
    "\n",
    "# solution\n",
    "\n",
    "# Import the Sequential model and Dense layer\n",
    "from tensorflow.keras.models import Sequential\n",
    "from tensorflow.keras.layers import Dense\n",
    "\n",
    "# Create a Sequential model\n",
    "model = Sequential()\n",
    "\n",
    "# Add an input layer and a hidden layer with 10 neurons\n",
    "model.add(Dense(10, input_shape=(2,), activation=\"relu\"))\n",
    "\n",
    "# Add a 1-neuron output layer\n",
    "model.add(Dense(1))\n",
    "\n",
    "# Summarise your model\n",
    "model.summary()\n",
    "\n",
    "#----------------------------------#\n",
    "\n",
    "# Conclusion\n",
    "\n",
    "\"\"\"\n",
    "You've just build your first neural network with Keras, well done!\n",
    "\"\"\""
   ]
  },
  {
   "cell_type": "code",
   "execution_count": 4,
   "metadata": {
    "tags": []
   },
   "outputs": [
    {
     "name": "stdout",
     "output_type": "stream",
     "text": [
      "Model: \"sequential_2\"\n",
      "_________________________________________________________________\n",
      " Layer (type)                Output Shape              Param #   \n",
      "=================================================================\n",
      " dense_4 (Dense)             (None, 5)                 20        \n",
      "                                                                 \n",
      " dense_5 (Dense)             (None, 1)                 6         \n",
      "                                                                 \n",
      "=================================================================\n",
      "Total params: 26\n",
      "Trainable params: 26\n",
      "Non-trainable params: 0\n",
      "_________________________________________________________________\n"
     ]
    },
    {
     "data": {
      "text/plain": [
       "'\\nGreat! You certainly know where those parameters come from!\\n'"
      ]
     },
     "execution_count": 4,
     "metadata": {},
     "output_type": "execute_result"
    }
   ],
   "source": [
    "# exercise 02\n",
    "\n",
    "\"\"\"\n",
    "Counting parameters\n",
    "\n",
    "You've just created a neural network. But you're going to create a new one now, taking some time to think about the weights of each layer. The Keras Dense layer and the Sequential model are already loaded for you to use.\n",
    "\n",
    "This is the network you will be creating:\n",
    "\"\"\"\n",
    "\n",
    "# Instructions\n",
    "\n",
    "\"\"\"\n",
    "\n",
    "    Instantiate a new Sequential() model.\n",
    "    Add a Dense() layer with five neurons and three neurons as input.\n",
    "    Add a final dense layer with one neuron and no activation.\n",
    "---\n",
    "\n",
    "\"\"\"\n",
    "\n",
    "# solution\n",
    "\n",
    "# Instantiate a new Sequential model\n",
    "model = Sequential()\n",
    "\n",
    "# Add a Dense layer with five neurons and three inputs\n",
    "model.add(Dense(5, input_shape=(3,), activation=\"relu\"))\n",
    "\n",
    "# Add a final Dense layer with one neuron and no activation\n",
    "model.add(Dense(1))\n",
    "\n",
    "# Summarize your model\n",
    "model.summary()\n",
    "\n",
    "#----------------------------------#\n",
    "\n",
    "# Conclusion\n",
    "\n",
    "\"\"\"\n",
    "Great! You certainly know where those parameters come from!\n",
    "\"\"\""
   ]
  },
  {
   "cell_type": "code",
   "execution_count": 5,
   "metadata": {
    "tags": []
   },
   "outputs": [
    {
     "data": {
      "text/plain": [
       "\"\\nPerfect! You've shown you can already translate a visual representation of a neural network into Keras code. Let's keep going!\\n\""
      ]
     },
     "execution_count": 5,
     "metadata": {},
     "output_type": "execute_result"
    }
   ],
   "source": [
    "# exercise 03\n",
    "\n",
    "\"\"\"\n",
    "Build as shown!\n",
    "\n",
    "You will take on a final challenge before moving on to the next lesson. Build the network shown in the picture below. Prove your mastered Keras basics in no time!\n",
    "\"\"\"\n",
    "\n",
    "# Instructions\n",
    "\n",
    "\"\"\"\n",
    "\n",
    "    Instantiate a Sequential model.\n",
    "    Build the input and hidden layer.\n",
    "    Add the output layer.\n",
    "\n",
    "\"\"\"\n",
    "\n",
    "# solution\n",
    "\n",
    "from tensorflow.keras.models import Sequential\n",
    "from tensorflow.keras.layers import Dense\n",
    "\n",
    "# Instantiate a Sequential model\n",
    "model = Sequential()\n",
    "\n",
    "# Build the input and hidden layer\n",
    "model.add(Dense(3, input_shape = (2,)))\n",
    "\n",
    "# Add the ouput layer\n",
    "model.add(Dense(1))\n",
    "\n",
    "#----------------------------------#\n",
    "\n",
    "# Conclusion\n",
    "\n",
    "\"\"\"\n",
    "Perfect! You've shown you can already translate a visual representation of a neural network into Keras code. Let's keep going!\n",
    "\"\"\""
   ]
  },
  {
   "cell_type": "code",
   "execution_count": 6,
   "metadata": {
    "tags": []
   },
   "outputs": [
    {
     "data": {
      "text/plain": [
       "\"\\nYou are closer to forecasting the meteor orbit! It's important to note we aren't using an activation function in our output layer since y_positions aren't bounded and they can take any value. Your model is built to perform a regression task.\\n\""
      ]
     },
     "execution_count": 6,
     "metadata": {},
     "output_type": "execute_result"
    }
   ],
   "source": [
    "# exercise 04\n",
    "\n",
    "\"\"\"\n",
    "Specifying a model\n",
    "\n",
    "You will build a simple regression model to predict the orbit of the meteor!\n",
    "\n",
    "Your training data consist of measurements taken at time steps from -10 minutes before the impact region to +10 minutes after. Each time step can be viewed as an X coordinate in our graph, which has an associated position Y for the meteor orbit at that time step.\n",
    "\n",
    "Note that you can view this problem as approximating a quadratic function via the use of neural networks.\n",
    "\n",
    "This data is stored in two numpy arrays: one called time_steps , what we call features, and another called y_positions, with the labels. Go on and build your model! It should be able to predict the y positions for the meteor orbit at future time steps.\n",
    "\n",
    "Keras Sequential model and Dense layers are available for you to use.\n",
    "\"\"\"\n",
    "\n",
    "# Instructions\n",
    "\n",
    "\"\"\"\n",
    "\n",
    "    Instantiate a Sequential model.\n",
    "    Add a Dense layer of 50 neurons with an input shape of 1 neuron.\n",
    "    Add two Dense layers of 50 neurons each and 'relu' activation.\n",
    "    End your model with a Dense layer with a single neuron and no activation.\n",
    "\n",
    "\"\"\"\n",
    "\n",
    "# solution\n",
    "\n",
    "# Instantiate a Sequential model\n",
    "model = Sequential()\n",
    "\n",
    "# Add a Dense layer with 50 neurons and an input of 1 neuron\n",
    "model.add(Dense(50, input_shape=(1,), activation='relu'))\n",
    "\n",
    "# Add two Dense layers with 50 neurons and relu activation\n",
    "model.add(Dense(50,activation='relu'))\n",
    "model.add(Dense(50, activation='relu'))\n",
    "\n",
    "# End your model with a Dense layer and no activation\n",
    "model.add(Dense(1))\n",
    "\n",
    "#----------------------------------#\n",
    "\n",
    "# Conclusion\n",
    "\n",
    "\"\"\"\n",
    "You are closer to forecasting the meteor orbit! It's important to note we aren't using an activation function in our output layer since y_positions aren't bounded and they can take any value. Your model is built to perform a regression task.\n",
    "\"\"\""
   ]
  },
  {
   "cell_type": "code",
   "execution_count": 7,
   "metadata": {},
   "outputs": [],
   "source": [
    "time_steps = pd.read_csv(path_data + 'time_steps.csv').drop('Unnamed: 0', axis=1).values\n",
    "y_positions = pd.read_csv(path_data + 'y_position.csv').drop('Unnamed: 0', axis=1).values"
   ]
  },
  {
   "cell_type": "code",
   "execution_count": 8,
   "metadata": {
    "tags": []
   },
   "outputs": [
    {
     "name": "stdout",
     "output_type": "stream",
     "text": [
      "Training started..., this can take a while:\n",
      "Epoch 1/30\n",
      "63/63 [==============================] - 1s 2ms/step - loss: 1303.9380\n",
      "Epoch 2/30\n",
      "63/63 [==============================] - 0s 3ms/step - loss: 167.6273\n",
      "Epoch 3/30\n",
      "63/63 [==============================] - 0s 3ms/step - loss: 129.5901\n",
      "Epoch 4/30\n",
      "63/63 [==============================] - 0s 3ms/step - loss: 109.2269\n",
      "Epoch 5/30\n",
      "63/63 [==============================] - 0s 3ms/step - loss: 84.1240\n",
      "Epoch 6/30\n",
      "63/63 [==============================] - 0s 3ms/step - loss: 57.1312\n",
      "Epoch 7/30\n",
      "63/63 [==============================] - 0s 3ms/step - loss: 34.0502\n",
      "Epoch 8/30\n",
      "63/63 [==============================] - 0s 3ms/step - loss: 19.3470\n",
      "Epoch 9/30\n",
      "63/63 [==============================] - 0s 3ms/step - loss: 10.6195\n",
      "Epoch 10/30\n",
      "63/63 [==============================] - 0s 3ms/step - loss: 6.1725\n",
      "Epoch 11/30\n",
      "63/63 [==============================] - 0s 3ms/step - loss: 3.8263\n",
      "Epoch 12/30\n",
      "63/63 [==============================] - 0s 3ms/step - loss: 2.5337\n",
      "Epoch 13/30\n",
      "63/63 [==============================] - 0s 3ms/step - loss: 1.7985\n",
      "Epoch 14/30\n",
      "63/63 [==============================] - 0s 3ms/step - loss: 1.5099\n",
      "Epoch 15/30\n",
      "63/63 [==============================] - 0s 3ms/step - loss: 1.1157\n",
      "Epoch 16/30\n",
      "63/63 [==============================] - 0s 3ms/step - loss: 0.8026\n",
      "Epoch 17/30\n",
      "63/63 [==============================] - 0s 3ms/step - loss: 0.6252\n",
      "Epoch 18/30\n",
      "63/63 [==============================] - 0s 3ms/step - loss: 0.5708\n",
      "Epoch 19/30\n",
      "63/63 [==============================] - 0s 3ms/step - loss: 0.3966\n",
      "Epoch 20/30\n",
      "63/63 [==============================] - 0s 3ms/step - loss: 0.3662\n",
      "Epoch 21/30\n",
      "63/63 [==============================] - 0s 2ms/step - loss: 0.3285\n",
      "Epoch 22/30\n",
      "63/63 [==============================] - 0s 2ms/step - loss: 0.2614\n",
      "Epoch 23/30\n",
      "63/63 [==============================] - 0s 3ms/step - loss: 0.2957\n",
      "Epoch 24/30\n",
      "63/63 [==============================] - 0s 2ms/step - loss: 0.1909\n",
      "Epoch 25/30\n",
      "63/63 [==============================] - 0s 2ms/step - loss: 0.1521\n",
      "Epoch 26/30\n",
      "63/63 [==============================] - 0s 3ms/step - loss: 0.1488\n",
      "Epoch 27/30\n",
      "63/63 [==============================] - 0s 2ms/step - loss: 0.1404\n",
      "Epoch 28/30\n",
      "63/63 [==============================] - 0s 2ms/step - loss: 0.1214\n",
      "Epoch 29/30\n",
      "63/63 [==============================] - 0s 2ms/step - loss: 0.1101\n",
      "Epoch 30/30\n",
      "63/63 [==============================] - 0s 2ms/step - loss: 0.0968\n",
      "63/63 [==============================] - 0s 2ms/step - loss: 0.0984\n",
      "Final loss value: 0.09842148423194885\n"
     ]
    },
    {
     "data": {
      "text/plain": [
       "'\\nAmazing! You can check the console to see how the loss function decreased as epochs went by. Your model is now ready to make predictions on unseen data.\\n'"
      ]
     },
     "execution_count": 8,
     "metadata": {},
     "output_type": "execute_result"
    }
   ],
   "source": [
    "# exercise 05\n",
    "\n",
    "\"\"\"\n",
    "Training\n",
    "\n",
    "You're going to train your first model in this course, and for a good cause!\n",
    "\n",
    "Remember that before training your Keras models you need to compile them. This can be done with the .compile() method. The .compile() method takes arguments such as the optimizer, used for weight updating, and the loss function, which is what we want to minimize. Training your model is as easy as calling the .fit() method, passing on the features, labels and a number of epochs to train for.\n",
    "\n",
    "The regression model you built in the previous exercise is loaded for you to use, along with the time_steps and y_positions data. Train it and evaluate it on this very same data, let's see if your model can learn the meteor's trajectory.\n",
    "\"\"\"\n",
    "\n",
    "# Instructions\n",
    "\n",
    "\"\"\"\n",
    "\n",
    "    Compile your model making use of the 'adam' optimizer and 'mse' as your loss function.\n",
    "    Fit your model using the features and labels for 30 epochs.\n",
    "    Evaluate your model with the .evaluate() method, passing the features and labels used during training.\n",
    "\n",
    "\n",
    "\"\"\"\n",
    "\n",
    "# solution\n",
    "\n",
    "# Compile your model\n",
    "model.compile(optimizer = 'adam', loss = 'mse')\n",
    "\n",
    "print(\"Training started..., this can take a while:\")\n",
    "\n",
    "# Fit your model on your data for 30 epochs\n",
    "model.fit(time_steps,y_positions, epochs = 30)\n",
    "\n",
    "# Evaluate your model \n",
    "print(\"Final loss value:\",model.evaluate(time_steps, y_positions))\n",
    "\n",
    "#----------------------------------#\n",
    "\n",
    "# Conclusion\n",
    "\n",
    "\"\"\"\n",
    "Amazing! You can check the console to see how the loss function decreased as epochs went by. Your model is now ready to make predictions on unseen data.\n",
    "\"\"\""
   ]
  },
  {
   "cell_type": "code",
   "execution_count": 9,
   "metadata": {},
   "outputs": [],
   "source": [
    "import matplotlib.pyplot as plt\n",
    "\n",
    "def plot_orbit(model_preds):\n",
    "  axeslim = int(len(model_preds)/2)\n",
    "  plt.plot(np.arange(-axeslim, axeslim + 1),np.arange(-axeslim, axeslim + 1)**2,color=\"mediumslateblue\")\n",
    "  plt.plot(np.arange(-axeslim, axeslim + 1),model_preds,color=\"orange\")\n",
    "  plt.axis([-40, 41, -5, 550])\n",
    "  plt.legend([\"Scientist's Orbit\", 'Your orbit'],loc=\"lower left\")\n",
    "  plt.title(\"Predicted orbit vs Scientist's Orbit\")\n",
    "  plt.show()"
   ]
  },
  {
   "cell_type": "code",
   "execution_count": 10,
   "metadata": {
    "tags": []
   },
   "outputs": [
    {
     "name": "stdout",
     "output_type": "stream",
     "text": [
      "1/1 [==============================] - 0s 132ms/step\n"
     ]
    },
    {
     "data": {
      "image/png": "[encoded data removed]",
      "text/plain": [
       "<Figure size 640x480 with 1 Axes>"
      ]
     },
     "metadata": {},
     "output_type": "display_data"
    },
    {
     "name": "stdout",
     "output_type": "stream",
     "text": [
      "3/3 [==============================] - 0s 2ms/step\n"
     ]
    },
    {
     "data": {
      "image/png": "[encoded data removed]",
      "text/plain": [
       "<Figure size 640x480 with 1 Axes>"
      ]
     },
     "metadata": {},
     "output_type": "display_data"
    },
    {
     "data": {
      "text/plain": [
       "\"\\nYour model fits perfectly to the scientists trajectory for time values between -10 to +10, the region where the meteor crosses the impact region, so we won't be hit! However, it starts to diverge when predicting for new values we haven't trained for. This shows neural networks learn according to the data they are fed with. Data quality and diversity are very important. You've barely scratched the surface of what neural networks can do. Are you prepared for the next chapter?\\n\""
      ]
     },
     "execution_count": 10,
     "metadata": {},
     "output_type": "execute_result"
    }
   ],
   "source": [
    "# exercise 06\n",
    "\n",
    "\"\"\"\n",
    "Predicting the orbit!\n",
    "\n",
    "You've already trained a model that approximates the orbit of the meteor approaching Earth and it's loaded for you to use.\n",
    "\n",
    "Since you trained your model for values between -10 and 10 minutes, your model hasn't yet seen any other values for different time steps. You will now visualize how your model behaves on unseen data.\n",
    "\n",
    "If you want to check the source code of plot_orbit, paste show_code(plot_orbit) into the console.\n",
    "\n",
    "Hurry up, the Earth is running out of time!\n",
    "\n",
    "Remember np.arange(x,y) produces a range of values from x to y-1. That is the [x, y) interval.\n",
    "\"\"\"\n",
    "\n",
    "# Instructions\n",
    "\n",
    "\"\"\"\n",
    "Use the model's .predict() method to predict from -10 to 10 minutes.\n",
    "---\n",
    "Use the model's .predict() method to predict from -40 to 40 minutes.\n",
    "\"\"\"\n",
    "\n",
    "# solution\n",
    "\n",
    "# Predict the twenty minutes orbit\n",
    "twenty_min_orbit = model.predict(np.arange(-10, 11))\n",
    "\n",
    "# Plot the twenty minute orbit \n",
    "plot_orbit(twenty_min_orbit)\n",
    "\n",
    "#----------------------------------#\n",
    "\n",
    "# Predict the eighty minute orbit\n",
    "eighty_min_orbit = model.predict(np.arange(-40, 41))\n",
    "\n",
    "# Plot the eighty minute orbit \n",
    "plot_orbit(eighty_min_orbit)\n",
    "\n",
    "#----------------------------------#\n",
    "\n",
    "# Conclusion\n",
    "\n",
    "\"\"\"\n",
    "Your model fits perfectly to the scientists trajectory for time values between -10 to +10, the region where the meteor crosses the impact region, so we won't be hit! However, it starts to diverge when predicting for new values we haven't trained for. This shows neural networks learn according to the data they are fed with. Data quality and diversity are very important. You've barely scratched the surface of what neural networks can do. Are you prepared for the next chapter?\n",
    "\"\"\""
   ]
  }
 ],
 "metadata": {
  "kernelspec": {
   "display_name": "Python 3 (ipykernel)",
   "language": "python",
   "name": "python3"
  },
  "language_info": {
   "codemirror_mode": {
    "name": "ipython",
    "version": 3
   },
   "file_extension": ".py",
   "mimetype": "text/x-python",
   "name": "python",
   "nbconvert_exporter": "python",
   "pygments_lexer": "ipython3",
   "version": "3.11.3"
  }
 },
 "nbformat": 4,
 "nbformat_minor": 4
}
