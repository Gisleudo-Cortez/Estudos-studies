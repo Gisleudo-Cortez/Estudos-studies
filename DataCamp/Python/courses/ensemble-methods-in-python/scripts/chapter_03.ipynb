{
 "cells": [
  {
   "cell_type": "code",
   "execution_count": 1,
   "metadata": {
    "editable": true,
    "slideshow": {
     "slide_type": ""
    },
    "tags": []
   },
   "outputs": [],
   "source": [
    "# run this to shorten the data import from the files\n",
    "import os\n",
    "cwd = os.path.dirname(os.getcwd())+'/'\n",
    "path_data = os.path.join(os.path.dirname(os.getcwd()), 'datasets/')\n"
   ]
  },
  {
   "cell_type": "code",
   "execution_count": 7,
   "metadata": {},
   "outputs": [
    {
     "data": {
      "text/html": [
       "<div>\n",
       "<style scoped>\n",
       "    .dataframe tbody tr th:only-of-type {\n",
       "        vertical-align: middle;\n",
       "    }\n",
       "\n",
       "    .dataframe tbody tr th {\n",
       "        vertical-align: top;\n",
       "    }\n",
       "\n",
       "    .dataframe thead th {\n",
       "        text-align: right;\n",
       "    }\n",
       "</style>\n",
       "<table border=\"1\" class=\"dataframe\">\n",
       "  <thead>\n",
       "    <tr style=\"text-align: right;\">\n",
       "      <th></th>\n",
       "      <th>budget</th>\n",
       "      <th>genres</th>\n",
       "      <th>homepage</th>\n",
       "      <th>id</th>\n",
       "      <th>keywords</th>\n",
       "      <th>original_language</th>\n",
       "      <th>original_title</th>\n",
       "      <th>overview</th>\n",
       "      <th>popularity</th>\n",
       "      <th>production_companies</th>\n",
       "      <th>production_countries</th>\n",
       "      <th>release_date</th>\n",
       "      <th>revenue</th>\n",
       "      <th>runtime</th>\n",
       "      <th>spoken_languages</th>\n",
       "      <th>status</th>\n",
       "      <th>tagline</th>\n",
       "      <th>title</th>\n",
       "      <th>vote_average</th>\n",
       "      <th>vote_count</th>\n",
       "    </tr>\n",
       "  </thead>\n",
       "  <tbody>\n",
       "    <tr>\n",
       "      <th>0</th>\n",
       "      <td>237000000</td>\n",
       "      <td>[{\"id\": 28, \"name\": \"Action\"}, {\"id\": 12, \"nam...</td>\n",
       "      <td>http://www.avatarmovie.com/</td>\n",
       "      <td>19995</td>\n",
       "      <td>[{\"id\": 1463, \"name\": \"culture clash\"}, {\"id\":...</td>\n",
       "      <td>en</td>\n",
       "      <td>Avatar</td>\n",
       "      <td>In the 22nd century, a paraplegic Marine is di...</td>\n",
       "      <td>150.437577</td>\n",
       "      <td>[{\"name\": \"Ingenious Film Partners\", \"id\": 289...</td>\n",
       "      <td>[{\"iso_3166_1\": \"US\", \"name\": \"United States o...</td>\n",
       "      <td>2009-12-10</td>\n",
       "      <td>2787965087</td>\n",
       "      <td>162.0</td>\n",
       "      <td>[{\"iso_639_1\": \"en\", \"name\": \"English\"}, {\"iso...</td>\n",
       "      <td>Released</td>\n",
       "      <td>Enter the World of Pandora.</td>\n",
       "      <td>Avatar</td>\n",
       "      <td>7.2</td>\n",
       "      <td>11800</td>\n",
       "    </tr>\n",
       "    <tr>\n",
       "      <th>1</th>\n",
       "      <td>300000000</td>\n",
       "      <td>[{\"id\": 12, \"name\": \"Adventure\"}, {\"id\": 14, \"...</td>\n",
       "      <td>http://disney.go.com/disneypictures/pirates/</td>\n",
       "      <td>285</td>\n",
       "      <td>[{\"id\": 270, \"name\": \"ocean\"}, {\"id\": 726, \"na...</td>\n",
       "      <td>en</td>\n",
       "      <td>Pirates of the Caribbean: At World's End</td>\n",
       "      <td>Captain Barbossa, long believed to be dead, ha...</td>\n",
       "      <td>139.082615</td>\n",
       "      <td>[{\"name\": \"Walt Disney Pictures\", \"id\": 2}, {\"...</td>\n",
       "      <td>[{\"iso_3166_1\": \"US\", \"name\": \"United States o...</td>\n",
       "      <td>2007-05-19</td>\n",
       "      <td>961000000</td>\n",
       "      <td>169.0</td>\n",
       "      <td>[{\"iso_639_1\": \"en\", \"name\": \"English\"}]</td>\n",
       "      <td>Released</td>\n",
       "      <td>At the end of the world, the adventure begins.</td>\n",
       "      <td>Pirates of the Caribbean: At World's End</td>\n",
       "      <td>6.9</td>\n",
       "      <td>4500</td>\n",
       "    </tr>\n",
       "    <tr>\n",
       "      <th>2</th>\n",
       "      <td>245000000</td>\n",
       "      <td>[{\"id\": 28, \"name\": \"Action\"}, {\"id\": 12, \"nam...</td>\n",
       "      <td>http://www.sonypictures.com/movies/spectre/</td>\n",
       "      <td>206647</td>\n",
       "      <td>[{\"id\": 470, \"name\": \"spy\"}, {\"id\": 818, \"name...</td>\n",
       "      <td>en</td>\n",
       "      <td>Spectre</td>\n",
       "      <td>A cryptic message from Bond’s past sends him o...</td>\n",
       "      <td>107.376788</td>\n",
       "      <td>[{\"name\": \"Columbia Pictures\", \"id\": 5}, {\"nam...</td>\n",
       "      <td>[{\"iso_3166_1\": \"GB\", \"name\": \"United Kingdom\"...</td>\n",
       "      <td>2015-10-26</td>\n",
       "      <td>880674609</td>\n",
       "      <td>148.0</td>\n",
       "      <td>[{\"iso_639_1\": \"fr\", \"name\": \"Fran\\u00e7ais\"},...</td>\n",
       "      <td>Released</td>\n",
       "      <td>A Plan No One Escapes</td>\n",
       "      <td>Spectre</td>\n",
       "      <td>6.3</td>\n",
       "      <td>4466</td>\n",
       "    </tr>\n",
       "  </tbody>\n",
       "</table>\n",
       "</div>"
      ],
      "text/plain": [
       "      budget                                             genres  \\\n",
       "0  237000000  [{\"id\": 28, \"name\": \"Action\"}, {\"id\": 12, \"nam...   \n",
       "1  300000000  [{\"id\": 12, \"name\": \"Adventure\"}, {\"id\": 14, \"...   \n",
       "2  245000000  [{\"id\": 28, \"name\": \"Action\"}, {\"id\": 12, \"nam...   \n",
       "\n",
       "                                       homepage      id  \\\n",
       "0                   http://www.avatarmovie.com/   19995   \n",
       "1  http://disney.go.com/disneypictures/pirates/     285   \n",
       "2   http://www.sonypictures.com/movies/spectre/  206647   \n",
       "\n",
       "                                            keywords original_language  \\\n",
       "0  [{\"id\": 1463, \"name\": \"culture clash\"}, {\"id\":...                en   \n",
       "1  [{\"id\": 270, \"name\": \"ocean\"}, {\"id\": 726, \"na...                en   \n",
       "2  [{\"id\": 470, \"name\": \"spy\"}, {\"id\": 818, \"name...                en   \n",
       "\n",
       "                             original_title  \\\n",
       "0                                    Avatar   \n",
       "1  Pirates of the Caribbean: At World's End   \n",
       "2                                   Spectre   \n",
       "\n",
       "                                            overview  popularity  \\\n",
       "0  In the 22nd century, a paraplegic Marine is di...  150.437577   \n",
       "1  Captain Barbossa, long believed to be dead, ha...  139.082615   \n",
       "2  A cryptic message from Bond’s past sends him o...  107.376788   \n",
       "\n",
       "                                production_companies  \\\n",
       "0  [{\"name\": \"Ingenious Film Partners\", \"id\": 289...   \n",
       "1  [{\"name\": \"Walt Disney Pictures\", \"id\": 2}, {\"...   \n",
       "2  [{\"name\": \"Columbia Pictures\", \"id\": 5}, {\"nam...   \n",
       "\n",
       "                                production_countries release_date     revenue  \\\n",
       "0  [{\"iso_3166_1\": \"US\", \"name\": \"United States o...   2009-12-10  2787965087   \n",
       "1  [{\"iso_3166_1\": \"US\", \"name\": \"United States o...   2007-05-19   961000000   \n",
       "2  [{\"iso_3166_1\": \"GB\", \"name\": \"United Kingdom\"...   2015-10-26   880674609   \n",
       "\n",
       "   runtime                                   spoken_languages    status  \\\n",
       "0    162.0  [{\"iso_639_1\": \"en\", \"name\": \"English\"}, {\"iso...  Released   \n",
       "1    169.0           [{\"iso_639_1\": \"en\", \"name\": \"English\"}]  Released   \n",
       "2    148.0  [{\"iso_639_1\": \"fr\", \"name\": \"Fran\\u00e7ais\"},...  Released   \n",
       "\n",
       "                                          tagline  \\\n",
       "0                     Enter the World of Pandora.   \n",
       "1  At the end of the world, the adventure begins.   \n",
       "2                           A Plan No One Escapes   \n",
       "\n",
       "                                      title  vote_average  vote_count  \n",
       "0                                    Avatar           7.2       11800  \n",
       "1  Pirates of the Caribbean: At World's End           6.9        4500  \n",
       "2                                   Spectre           6.3        4466  "
      ]
     },
     "execution_count": 7,
     "metadata": {},
     "output_type": "execute_result"
    }
   ],
   "source": [
    "import pandas as pd\n",
    "import numpy as np\n",
    "import matplotlib.pyplot as plt\n",
    "movies = pd.read_csv(path_data+'tmdb_5000_movies.csv')\n",
    "movies.head(3)"
   ]
  },
  {
   "cell_type": "code",
   "execution_count": 10,
   "metadata": {},
   "outputs": [
    {
     "name": "stdout",
     "output_type": "stream",
     "text": [
      "             budget             id   popularity       revenue      runtime  \\\n",
      "count  4.803000e+03    4803.000000  4803.000000  4.803000e+03  4801.000000   \n",
      "mean   2.904504e+07   57165.484281    21.492301  8.226064e+07   106.875859   \n",
      "std    4.072239e+07   88694.614033    31.816650  1.628571e+08    22.611935   \n",
      "min    0.000000e+00       5.000000     0.000000  0.000000e+00     0.000000   \n",
      "25%    7.900000e+05    9014.500000     4.668070  0.000000e+00    94.000000   \n",
      "50%    1.500000e+07   14629.000000    12.921594  1.917000e+07   103.000000   \n",
      "75%    4.000000e+07   58610.500000    28.313505  9.291719e+07   118.000000   \n",
      "max    3.800000e+08  459488.000000   875.581305  2.787965e+09   338.000000   \n",
      "\n",
      "       vote_average    vote_count  log-revenue  \n",
      "count   4803.000000   4803.000000  4803.000000  \n",
      "mean       6.092172    690.217989         -inf  \n",
      "std        1.194612   1234.585891          NaN  \n",
      "min        0.000000      0.000000         -inf  \n",
      "25%        5.600000     54.000000          NaN  \n",
      "50%        6.200000    235.000000    16.768857  \n",
      "75%        6.800000    737.000000    18.347219  \n",
      "max       10.000000  13752.000000    21.748578  \n"
     ]
    },
    {
     "name": "stderr",
     "output_type": "stream",
     "text": [
      "/home/nero/Documents/Estudos/estudos/lib/python3.11/site-packages/pandas/core/arraylike.py:399: RuntimeWarning: divide by zero encountered in log\n",
      "  result = getattr(ufunc, method)(*inputs, **kwargs)\n",
      "/home/nero/Documents/Estudos/estudos/lib/python3.11/site-packages/pandas/core/nanops.py:1016: RuntimeWarning: invalid value encountered in subtract\n",
      "  sqr = _ensure_numeric((avg - values) ** 2)\n",
      "/home/nero/Documents/Estudos/estudos/lib/python3.11/site-packages/numpy/lib/function_base.py:4655: RuntimeWarning: invalid value encountered in subtract\n",
      "  diff_b_a = subtract(b, a)\n"
     ]
    },
    {
     "data": {
      "text/plain": [
       "\"\\nThat's it! It appears that even after the log-transformation, there are many zero values, around 30% to be more precise.\\n\""
      ]
     },
     "execution_count": 10,
     "metadata": {},
     "output_type": "execute_result"
    }
   ],
   "source": [
    "# exercise 01\n",
    "\n",
    "\"\"\"\n",
    "Introducing the movie database\n",
    "\n",
    "Throughout this chapter, you'll be working with the TMDb (The Movie Database). This contains metadata on around 5000 movies.\n",
    "\n",
    "The dataset is loaded and available to you as movies.\n",
    "\n",
    "Your main objective is to predict movie revenue - more specifically, log-revenue, which is the normalized version of the revenue feature.\n",
    "\n",
    "Use the .describe() method to explore this feature. You can also inspect the histogram to the right. What can you conclude?\n",
    "\"\"\"\n",
    "\n",
    "# Instructions\n",
    "\n",
    "\"\"\"\n",
    "Possible answers:\n",
    "    \n",
    "    The average log-revenue is around 16.77.\n",
    "    \n",
    "    There are many zero values.\n",
    "    \n",
    "    There many extreme values.\n",
    "\"\"\"\n",
    "\n",
    "# solution\n",
    "\n",
    "movies['log-revenue'] = np.log(movies.revenue)\n",
    "print(movies.describe())\n",
    "\n",
    "#----------------------------------#\n",
    "\n",
    "# Conclusion\n",
    "\n",
    "\"\"\"\n",
    "That's it! It appears that even after the log-transformation, there are many zero values, around 30% to be more precise.\n",
    "\"\"\""
   ]
  },
  {
   "cell_type": "code",
   "execution_count": 12,
   "metadata": {
    "tags": []
   },
   "outputs": [
    {
     "name": "stdout",
     "output_type": "stream",
     "text": [
      "<class 'pandas.core.frame.DataFrame'>\n",
      "RangeIndex: 4803 entries, 0 to 4802\n",
      "Data columns (total 5 columns):\n",
      " #   Column        Non-Null Count  Dtype  \n",
      "---  ------        --------------  -----  \n",
      " 0   budget        4803 non-null   int64  \n",
      " 1   popularity    4803 non-null   float64\n",
      " 2   runtime       4801 non-null   float64\n",
      " 3   vote_average  4803 non-null   float64\n",
      " 4   vote_count    4803 non-null   int64  \n",
      "dtypes: float64(3), int64(2)\n",
      "memory usage: 187.7 KB\n",
      "None\n",
      "             budget   popularity      runtime  vote_average    vote_count\n",
      "count  4.803000e+03  4803.000000  4801.000000   4803.000000   4803.000000\n",
      "mean   2.904504e+07    21.492301   106.875859      6.092172    690.217989\n",
      "std    4.072239e+07    31.816650    22.611935      1.194612   1234.585891\n",
      "min    0.000000e+00     0.000000     0.000000      0.000000      0.000000\n",
      "25%    7.900000e+05     4.668070    94.000000      5.600000     54.000000\n",
      "50%    1.500000e+07    12.921594   103.000000      6.200000    235.000000\n",
      "75%    4.000000e+07    28.313505   118.000000      6.800000    737.000000\n",
      "max    3.800000e+08   875.581305   338.000000     10.000000  13752.000000\n"
     ]
    },
    {
     "data": {
      "text/plain": [
       "\"\\nCorrect! The only feature with missing values is 'runtime'. But there are only two missing values, so it's not a critical issue. However, all features are on different scales, and therefore need to be normalized.\\n\""
      ]
     },
     "execution_count": 12,
     "metadata": {},
     "output_type": "execute_result"
    }
   ],
   "source": [
    "# exercise 02\n",
    "\n",
    "\"\"\"\n",
    "Exploring movie features\n",
    "\n",
    "In the rest of this chapter, you will use boosting algorithms to build models that predict the log-revenue of movies based on the following features: 'budget', 'popularity', 'runtime', 'vote_average', and 'vote_count'. There are many more features, but these will be of primary interest. Having explored the target in the previous exercise, it's now time to explore these features!\n",
    "\n",
    "The features of interest have been loaded into the features variable. Use the .describe() method to explore it. What do you notice?\n",
    "\"\"\"\n",
    "\n",
    "# Instructions\n",
    "\n",
    "\"\"\"\n",
    "Possible answers\n",
    "    \n",
    "    The only feature with missing values is 'runtime'. {Answer}\n",
    "    \n",
    "    All the features are on the same scale.\n",
    "    \n",
    "    Some of the features contain negative values.\n",
    "\n",
    "\"\"\"\n",
    "\n",
    "# solution\n",
    "\n",
    "print(movies[['budget', 'popularity', 'runtime', 'vote_average','vote_count']].info())\n",
    "print(movies[['budget', 'popularity', 'runtime', 'vote_average','vote_count']].describe())\n",
    "#----------------------------------#\n",
    "\n",
    "# Conclusion\n",
    "\n",
    "\"\"\"\n",
    "Correct! The only feature with missing values is 'runtime'. But there are only two missing values, so it's not a critical issue. However, all features are on different scales, and therefore need to be normalized.\n",
    "\"\"\""
   ]
  },
  {
   "cell_type": "code",
   "execution_count": 16,
   "metadata": {},
   "outputs": [],
   "source": [
    "from sklearn.model_selection import train_test_split as tts\n",
    "from sklearn.metrics import mean_squared_error\n",
    "from sklearn.preprocessing import StandardScaler\n",
    "from sklearn.linear_model import LinearRegression"
   ]
  },
  {
   "cell_type": "code",
   "execution_count": 20,
   "metadata": {},
   "outputs": [],
   "source": [
    "X = movies[['budget', 'popularity', 'runtime', 'vote_average','vote_count']].fillna(0)\n",
    "y = movies['log-revenue'].fillna(0).replace(-np.inf, y.max())\n",
    "\n",
    "X_train, X_test, y_train, y_test = tts(X, y, test_size=0.20, random_state=42)\n",
    "\n",
    "scaler = StandardScaler()\n",
    "scaler.fit(X_train)\n",
    "\n",
    "X_train = scaler.transform(X_train)\n",
    "X_test = scaler.transform(X_test)"
   ]
  },
  {
   "cell_type": "code",
   "execution_count": 21,
   "metadata": {
    "tags": []
   },
   "outputs": [
    {
     "name": "stdout",
     "output_type": "stream",
     "text": [
      "RMSE: 2.561\n"
     ]
    },
    {
     "data": {
      "text/plain": [
       "\"\\nWell done! This simple linear regression model provides a RMSE of around 7.34. Let's try and boost the model now!\\n\""
      ]
     },
     "execution_count": 21,
     "metadata": {},
     "output_type": "execute_result"
    }
   ],
   "source": [
    "# exercise 03\n",
    "\n",
    "\"\"\"\n",
    "Predicting movie revenue\n",
    "\n",
    "Let's begin the challenge of predicting movie revenue by building a simple linear regression to estimate the log-revenue of movies based on the 'budget' feature. The metric you will use here is the RMSE (root mean squared error). To calculate this using scikit-learn, you can use the mean_squared_error() function from the sklearn.metrics module and then take its square root using numpy.\n",
    "\n",
    "The movies dataset has been loaded for you and split into train and test sets. Additionally, the missing values have been replaced with zeros. We also standardized the input feature by using StandardScaler(). Check out DataCamp's courses on cleaning data and feature engineering if you want to learn more about preprocessing for machine learning.\n",
    "\"\"\"\n",
    "\n",
    "# Instructions\n",
    "\n",
    "\"\"\"\n",
    "\n",
    "    \n",
    "    Instantiate the default LinearRegression model.\n",
    "    \n",
    "    Calculate the predictions on the test set.\n",
    "    \n",
    "    Calculate the RMSE. The mean_squared_error() function requires two arguments: y_test, followed by the predictions.\n",
    "\n",
    "\"\"\"\n",
    "\n",
    "# solution\n",
    "\n",
    "# Build and fit linear regression model\n",
    "reg_lm = LinearRegression()\n",
    "reg_lm.fit(X_train, y_train)\n",
    "\n",
    "# Calculate the predictions on the test set\n",
    "pred = reg_lm.predict(X_test)\n",
    "\n",
    "# Evaluate the performance using the RMSE\n",
    "rmse = np.sqrt(mean_squared_error(y_test, pred))\n",
    "print('RMSE: {:.3f}'.format(rmse))\n",
    "\n",
    "#----------------------------------#\n",
    "\n",
    "# Conclusion\n",
    "\n",
    "\"\"\"\n",
    "Well done! This simple linear regression model provides a RMSE of around 7.34. Let's try and boost the model now!\n",
    "\"\"\""
   ]
  },
  {
   "cell_type": "code",
   "execution_count": 3,
   "metadata": {
    "tags": []
   },
   "outputs": [
    {
     "data": {
      "text/plain": [
       "'\\n\\n'"
      ]
     },
     "execution_count": 3,
     "metadata": {},
     "output_type": "execute_result"
    }
   ],
   "source": [
    "# exercise 04\n",
    "\n",
    "\"\"\"\n",
    "Boosting for predicted revenue\n",
    "\n",
    "The initial model got an RMSE of around 7.34. Let's see if we can improve this using an iteration of boosting.\n",
    "\n",
    "You'll build another linear regression, but this time the target values are the errors from the base model, calculated as follows:\n",
    "\n",
    "y_train_error = pred_train - y_train\n",
    "y_test_error = pred_test - y_test\n",
    "\n",
    "For this model you'll use 'popularity' feature instead, hoping that it can provide more informative patterns than with the 'budget' feature alone. This is available to you as X_train_pop and X_test_pop. As in the previous exercise, the input features have been standardized for you.\n",
    "\"\"\"\n",
    "\n",
    "# Instructions\n",
    "\n",
    "\"\"\"\n",
    "\n",
    "    \n",
    "    Fit a linear regression model to the previous errors using X_train_pop and y_train_error.\n",
    "    \n",
    "    Calculate the predicted errors on the test set, X_test_pop.\n",
    "    \n",
    "    Calculate the RMSE, like in the previous exercise, using y_test_error and pred_error.\n",
    "\n",
    "\"\"\"\n",
    "\n",
    "# solution\n",
    "\n",
    "# Fit a linear regression model to the previous errors\n",
    "reg_error = LinearRegression()\n",
    "reg_error.fit(X_train_pop, y_train_error)\n",
    "\n",
    "# Calculate the predicted errors on the test set\n",
    "pred_error = reg_error.predict(X_test_pop)\n",
    "\n",
    "# Evaluate the updated performance\n",
    "rmse_error = np.sqrt(mean_squared_error(y_test_error, pred_error))\n",
    "print('RMSE: {:.3f}'.format(rmse_error))\n",
    "\n",
    "#----------------------------------#\n",
    "\n",
    "# Conclusion\n",
    "\n",
    "\"\"\"\n",
    "Excellent! Fitting a linear regression to try to fix the errors of the previous model provided a lower RMSE of around 7.28. This is boosting in action!\n",
    "\"\"\""
   ]
  },
  {
   "cell_type": "code",
   "execution_count": 27,
   "metadata": {
    "tags": []
   },
   "outputs": [
    {
     "name": "stdout",
     "output_type": "stream",
     "text": [
      "RMSE: 2.632\n"
     ]
    },
    {
     "data": {
      "text/plain": [
       "'\\nGood job! Your first AdaBoost ensemble model produced a RMSE of around 7.18 - better than the custom model!\\n'"
      ]
     },
     "execution_count": 27,
     "metadata": {},
     "output_type": "execute_result"
    }
   ],
   "source": [
    "# exercise 05\n",
    "\n",
    "\"\"\"\n",
    "Your first AdaBoost model\n",
    "\n",
    "In the previous lesson you built models to predict the log-revenue of movies. You started with a simple linear regression and got an RMSE of 7.34. Then, you tried to improve it with an iteration of boosting, getting to a lower RMSE of 7.28.\n",
    "\n",
    "In this exercise, you'll build your first AdaBoost model - an AdaBoostRegressor - in an attempt to improve performance even further.\n",
    "\n",
    "The movies dataset has been loaded and split into train and test sets. Here you'll be using the 'budget' and 'popularity' features, which were already standardized for you using StandardScaler() from sklearn.preprocessing module.\n",
    "\"\"\"\n",
    "\n",
    "# Instructions\n",
    "\n",
    "\"\"\"\n",
    "\n",
    "    \n",
    "    Instantiate the default linear regression model.\n",
    "    \n",
    "    Build and fit an AdaBoostRegressor, using the linear regression as the base model and 12 estimators.\n",
    "    \n",
    "    Calculate the predictions on the test set.\n",
    "\n",
    "\"\"\"\n",
    "\n",
    "# solution\n",
    "from sklearn.ensemble import AdaBoostRegressor\n",
    "# Instantiate the default linear regression model\n",
    "reg_lm = LinearRegression()\n",
    "\n",
    "# Build and fit an AdaBoost regressor\n",
    "reg_ada = AdaBoostRegressor(reg_lm, n_estimators=12, random_state=500)\n",
    "reg_ada.fit(X_train, y_train)\n",
    "\n",
    "# Calculate the predictions on the test set\n",
    "pred = reg_ada.predict(X_test)\n",
    "\n",
    "# Evaluate the performance using the RMSE\n",
    "rmse = np.sqrt(mean_squared_error(y_test, pred))\n",
    "print('RMSE: {:.3f}'.format(rmse))\n",
    "\n",
    "#----------------------------------#\n",
    "\n",
    "# Conclusion\n",
    "\n",
    "\"\"\"\n",
    "Good job! Your first AdaBoost ensemble model produced a RMSE of around 7.18 - better than the custom model!\n",
    "\"\"\""
   ]
  },
  {
   "cell_type": "code",
   "execution_count": 29,
   "metadata": {
    "tags": []
   },
   "outputs": [
    {
     "name": "stdout",
     "output_type": "stream",
     "text": [
      "RMSE: 2.695\n"
     ]
    },
    {
     "data": {
      "text/plain": [
       "'\\nAmazing! Using a decision tree instead of a linear regression as the base estimator reduced the RMSE to around 5.44!\\n'"
      ]
     },
     "execution_count": 29,
     "metadata": {},
     "output_type": "execute_result"
    }
   ],
   "source": [
    "# exercise 06\n",
    "\n",
    "\"\"\"\n",
    "Tree-based AdaBoost regression\n",
    "\n",
    "AdaBoost models are usually built with decision trees as the base estimators. Let's give this a try now and see if model performance improves even further.\n",
    "\n",
    "We'll use twelve estimators as before to have a fair comparison. There's no need to instantiate the decision tree as it is the base estimator by default.\n",
    "\"\"\"\n",
    "\n",
    "# Instructions\n",
    "\n",
    "\"\"\"\n",
    "\n",
    "    Build and fit an AdaBoostRegressor using 12 estimators. You do not have to specify a base estimator.\n",
    "    \n",
    "    Calculate the predictions on the test set.\n",
    "\n",
    "\"\"\"\n",
    "\n",
    "# solution\n",
    "\n",
    "# Build and fit a tree-based AdaBoost regressor\n",
    "reg_ada = AdaBoostRegressor(n_estimators=12, random_state=500)\n",
    "reg_ada.fit(X_train, y_train)\n",
    "\n",
    "# Calculate the predictions on the test set\n",
    "pred = reg_ada.predict(X_test)\n",
    "\n",
    "# Evaluate the performance using the RMSE\n",
    "rmse = np.sqrt(mean_squared_error(y_test, pred))\n",
    "print('RMSE: {:.3f}'.format(rmse))\n",
    "\n",
    "#----------------------------------#\n",
    "\n",
    "# Conclusion\n",
    "\n",
    "\"\"\"\n",
    "Amazing! Using a decision tree instead of a linear regression as the base estimator reduced the RMSE to around 5.44!\n",
    "\"\"\""
   ]
  },
  {
   "cell_type": "code",
   "execution_count": 32,
   "metadata": {
    "tags": []
   },
   "outputs": [
    {
     "name": "stdout",
     "output_type": "stream",
     "text": [
      "RMSE: 2.312\n"
     ]
    },
    {
     "data": {
      "text/plain": [
       "'\\nGood job! Improving our model could get us to a RMSE close to 5.15!\\n'"
      ]
     },
     "execution_count": 32,
     "metadata": {},
     "output_type": "execute_result"
    }
   ],
   "source": [
    "# exercise 07\n",
    "\n",
    "\"\"\"\n",
    "Making the most of AdaBoost\n",
    "\n",
    "As you have seen, for predicting movie revenue, AdaBoost gives the best results with decision trees as the base estimator.\n",
    "\n",
    "In this exercise, you'll specify some parameters to extract even more performance. In particular, you'll use a lower learning rate to have a smoother update of the hyperparameters. Therefore, the number of estimators should increase. Additionally, the following features have been added to the data: 'runtime', 'vote_average', and 'vote_count'.\n",
    "\"\"\"\n",
    "\n",
    "# Instructions\n",
    "\n",
    "\"\"\"\n",
    "\n",
    "    Build an AdaBoostRegressor using 100 estimators and a learning rate of 0.01.\n",
    "\n",
    "    Fit reg_ada to the training set and calculate the predictions on the test set.\n",
    "\n",
    "\"\"\"\n",
    "\n",
    "# solution\n",
    "\n",
    "# Build and fit an AdaBoost regressor\n",
    "reg_ada = AdaBoostRegressor(n_estimators=100, learning_rate=0.01, random_state=500)\n",
    "reg_ada.fit(X_train, y_train)\n",
    "\n",
    "# Calculate the predictions on the test set\n",
    "pred = reg_ada.predict(X_test)\n",
    "\n",
    "# Evaluate the performance using the RMSE\n",
    "rmse = np.sqrt(mean_squared_error(y_test, pred))\n",
    "print('RMSE: {:.3f}'.format(rmse))\n",
    "\n",
    "#----------------------------------#\n",
    "\n",
    "# Conclusion\n",
    "\n",
    "\"\"\"\n",
    "Good job! Improving our model could get us to a RMSE close to 5.15!\n",
    "\"\"\""
   ]
  },
  {
   "cell_type": "code",
   "execution_count": 36,
   "metadata": {
    "tags": []
   },
   "outputs": [
    {
     "name": "stdout",
     "output_type": "stream",
     "text": [
      "<class 'pandas.core.frame.DataFrame'>\n",
      "RangeIndex: 64295 entries, 0 to 64294\n",
      "Data columns (total 5 columns):\n",
      " #   Column                  Non-Null Count  Dtype  \n",
      "---  ------                  --------------  -----  \n",
      " 0   App                     64295 non-null  object \n",
      " 1   Translated_Review       37427 non-null  object \n",
      " 2   Sentiment               37432 non-null  object \n",
      " 3   Sentiment_Polarity      37432 non-null  float64\n",
      " 4   Sentiment_Subjectivity  37432 non-null  float64\n",
      "dtypes: float64(2), object(3)\n",
      "memory usage: 2.5+ MB\n",
      "None                         App Translated_Review Sentiment  Sentiment_Polarity  \\\n",
      "count                 64295             37427     37432        37432.000000   \n",
      "unique                 1074             27994         3                 NaN   \n",
      "top     Angry Birds Classic              Good  Positive                 NaN   \n",
      "freq                    320               247     23998                 NaN   \n",
      "mean                    NaN               NaN       NaN            0.182146   \n",
      "std                     NaN               NaN       NaN            0.351301   \n",
      "min                     NaN               NaN       NaN           -1.000000   \n",
      "25%                     NaN               NaN       NaN            0.000000   \n",
      "50%                     NaN               NaN       NaN            0.150000   \n",
      "75%                     NaN               NaN       NaN            0.400000   \n",
      "max                     NaN               NaN       NaN            1.000000   \n",
      "\n",
      "        Sentiment_Subjectivity  \n",
      "count             37432.000000  \n",
      "unique                     NaN  \n",
      "top                        NaN  \n",
      "freq                       NaN  \n",
      "mean                  0.492704  \n",
      "std                   0.259949  \n",
      "min                   0.000000  \n",
      "25%                   0.357143  \n",
      "50%                   0.514286  \n",
      "75%                   0.650000  \n",
      "max                   1.000000  \n"
     ]
    },
    {
     "data": {
      "image/png": "[encoded data removed]",
      "text/plain": [
       "<Figure size 800x500 with 1 Axes>"
      ]
     },
     "metadata": {},
     "output_type": "display_data"
    },
    {
     "data": {
      "text/plain": [
       "'\\nCorrect! After checking the head of the target and the frequency of values we can see that there are many missing reviews.\\n'"
      ]
     },
     "execution_count": 36,
     "metadata": {},
     "output_type": "execute_result"
    }
   ],
   "source": [
    "# exercise 08\n",
    "\n",
    "\"\"\"\n",
    "Revisiting Google app reviews\n",
    "\n",
    "We're now going to leverage gradient boosting to perform sentiment analysis!\n",
    "\n",
    "Remember the app ratings dataset from the first chapter? We'll now work with a related dataset for user reviews. This dataset contains the first 100 most relevant reviews for each app. Our goal is to build a model based on these reviews that predicts the Sentiment as being 'Positive', 'Neutral', or 'Negative'.\n",
    "\n",
    "The dataset is available to you as reviews, and the target here is the 'Sentiment' column. Explore the data in the IPython Shell, and then select the correct statement from the options below.\n",
    "\"\"\"\n",
    "\n",
    "# Instructions\n",
    "\n",
    "\"\"\"\n",
    "Possible answers:\n",
    "\n",
    "    Most of the reviews are 'Negative'.\n",
    "\n",
    "    There are some reviews with NaN values. {Answer}\n",
    "\n",
    "    The target is balanced.\n",
    "\n",
    "\"\"\"\n",
    "\n",
    "# solution\n",
    "\n",
    "reviews = pd.read_csv(path_data+'googleplaystore_user_reviews.csv')\n",
    "print(reviews.info(), reviews.describe(include='all'))\n",
    "\n",
    "# Count the occurrences of each sentiment\n",
    "sentiment_counts = reviews['Sentiment'].value_counts()\n",
    "\n",
    "# Plot the count using matplotlib\n",
    "plt.figure(figsize=(8, 5))\n",
    "sentiment_counts.plot(kind='bar', color=['green', 'red', 'blue'])\n",
    "plt.title('Sentiment Counts')\n",
    "plt.xlabel('Sentiment')\n",
    "plt.ylabel('Count')\n",
    "plt.show()\n",
    "\n",
    "#----------------------------------#\n",
    "\n",
    "# Conclusion\n",
    "\n",
    "\"\"\"\n",
    "Correct! After checking the head of the target and the frequency of values we can see that there are many missing reviews.\n",
    "\"\"\""
   ]
  },
  {
   "cell_type": "code",
   "execution_count": 8,
   "metadata": {
    "tags": []
   },
   "outputs": [
    {
     "data": {
      "text/plain": [
       "'\\n\\n'"
      ]
     },
     "execution_count": 8,
     "metadata": {},
     "output_type": "execute_result"
    }
   ],
   "source": [
    "# exercise 09\n",
    "\n",
    "\"\"\"\n",
    "Sentiment analysis with GBM\n",
    "\n",
    "Let's now use scikit-learn's GradientBoostingClassifier on the reviews dataset to predict the sentiment of a review given its text.\n",
    "\n",
    "We will not pass the raw text as input for the model. The following pre-processing has been done for you:\n",
    "\n",
    "    Remove reviews with missing values.\n",
    "    Select data from the top 5 apps.\n",
    "    Select a random subsample of 500 reviews.\n",
    "    Remove \"stop words\" from the reviews.\n",
    "    Transform the reviews into a matrix, in which each feature represents the frequency of a word in a review.\n",
    "\n",
    "Do you want a deeper understanding of text mining? Then go check the course Introduction to Natural Language Processing in Python!\n",
    "\"\"\"\n",
    "\n",
    "# Instructions\n",
    "\n",
    "\"\"\"\n",
    "\n",
    "    Build a GradientBoostingClassifier with 100 estimators and a learning rate of 0.1.\n",
    "   \n",
    "    Calculate the predictions on the test set.\n",
    "   \n",
    "    Compute the accuracy to evaluate the model.\n",
    "   \n",
    "    Calculate and print the confusion matrix.\n",
    "\n",
    "\"\"\"\n",
    "\n",
    "# solution\n",
    "\n",
    "# Build and fit a Gradient Boosting classifier\n",
    "clf_gbm = GradientBoostingClassifier(n_estimators=100, learning_rate=0.1, random_state=500)\n",
    "clf_gbm.fit(X_train, y_train)\n",
    "\n",
    "# Calculate the predictions on the test set\n",
    "pred = clf_gbm.predict(X_test)\n",
    "\n",
    "# Evaluate the performance based on the accuracy\n",
    "acc = accuracy_score(y_test, pred)\n",
    "print('Accuracy: {:.3f}'.format(acc))\n",
    "\n",
    "# Get and show the Confusion Matrix\n",
    "cm = confusion_matrix(y_test, pred)\n",
    "print(cm)\n",
    "\n",
    "#----------------------------------#\n",
    "\n",
    "# Conclusion\n",
    "\n",
    "\"\"\"\n",
    "Positive review for you! The gradient boosting classifier was able to predict the sentiment of the reviews with an accuracy of 92%!\n",
    "\"\"\""
   ]
  },
  {
   "cell_type": "code",
   "execution_count": 9,
   "metadata": {
    "tags": []
   },
   "outputs": [
    {
     "data": {
      "text/plain": [
       "'\\n\\n'"
      ]
     },
     "execution_count": 9,
     "metadata": {},
     "output_type": "execute_result"
    }
   ],
   "source": [
    "# exercise 10\n",
    "\n",
    "\"\"\"\n",
    "Movie revenue prediction with CatBoost\n",
    "\n",
    "Let's finish up this chapter on boosting by returning to the movies dataset! In this exercise, you'll build a CatBoostRegressor to predict the log-revenue. Remember that our best model so far is the AdaBoost model with a RMSE of 5.15.\n",
    "\n",
    "Will CatBoost beat AdaBoost? We'll try to use a similar set of parameters to have a fair comparison.\n",
    "\n",
    "Recall that these are the features we have used so far: 'budget', 'popularity', 'runtime', 'vote_average', and 'vote_count'. catboost has been imported for you as cb.\n",
    "\"\"\"\n",
    "\n",
    "# Instructions\n",
    "\n",
    "\"\"\"\n",
    "\n",
    "    Build and fit a CatBoostRegressor using 100 estimators, a learning rate of 0.1, and a max depth of 3.\n",
    "    Calculate the predictions for the test set and print the RMSE.\n",
    "\n",
    "\"\"\"\n",
    "\n",
    "# solution\n",
    "\n",
    "import catboost as cb\n",
    "\n",
    "# Build and fit a CatBoost regressor\n",
    "reg_cat = cb.CatBoostRegressor(n_estimators=100, learning_rate=0.1, max_depth=3, random_state=500)\n",
    "reg_cat.fit(X_train, y_train)\n",
    "\n",
    "# Calculate the predictions on the test set\n",
    "pred = reg_cat.predict(X_test)\n",
    "\n",
    "# Evaluate the performance using the RMSE\n",
    "rmse_cat = np.sqrt(mean_squared_error(y_test, pred))\n",
    "print('RMSE (CatBoost): {:.3f}'.format(rmse_cat))\n",
    "\n",
    "#----------------------------------#\n",
    "\n",
    "# Conclusion\n",
    "\n",
    "\"\"\"\n",
    "Excellent! The CatBoost regressor was able to predict movie revenue with a RMSE of around 5.12, an improvement over the previous 5.15. CatBoost trained faster as well!\n",
    "\"\"\""
   ]
  },
  {
   "cell_type": "code",
   "execution_count": null,
   "metadata": {},
   "outputs": [],
   "source": [
    "# exercise 11\n",
    "\n",
    "\"\"\"\n",
    "Boosting contest: Light vs Extreme\n",
    "\n",
    "While the performance of the CatBoost model is relatively good, let's try two other flavors of boosting and see which performs better: the \"Light\" or the \"Extreme\" approach.\n",
    "\n",
    "CatBoost is highly recommended when there are categorical features. In this case, all features are numeric, therefore one of the other approaches might produce better results.\n",
    "\n",
    "As we are building regressors, we'll use an additional parameter, objective, which specifies the learning function to be used. To apply a squared error, we'll set objective to 'reg:squarederror' for XGBoost and 'mean_squared_error' for LightGBM.\n",
    "\n",
    "In addition, we'll specify the parameter n_jobs for XGBoost to improve its computation runtime.\n",
    "\"\"\"\n",
    "\n",
    "# Instructions\n",
    "\n",
    "\"\"\"\n",
    "\n",
    "    Build an XGBRegressor using the parameters: max_depth = 3, learning_rate = 0.1, n_estimators = 100, and n_jobs=2.\n",
    "    Build an LGBMRegressor using the parameters: max_depth = 3, learning_rate = 0.1, and n_estimators = 100.\n",
    "\n",
    "\"\"\"\n",
    "\n",
    "# solution\n",
    "\n",
    "# Build and fit an XGBoost regressor\n",
    "reg_xgb = xgb.XGBRegressor(n_estimators=100, learning_rate=0.1, max_depth=3, n_jobs=2, objective='reg:squarederror', random_state=500)\n",
    "reg_xgb.fit(X_train, y_train)\n",
    "\n",
    "# Build and fit a LightGBM regressor\n",
    "reg_lgb = lgb.LGBMRegressor(n_estimators=100, learning_rate=0.1, max_depth=3, objective='mean_squared_error', seed=500)\n",
    "reg_lgb.fit(X_train, y_train)\n",
    "\n",
    "# Calculate the predictions and evaluate both regressors\n",
    "pred_xgb = reg_xgb.predict(X_test)\n",
    "rmse_xgb = np.sqrt(mean_squared_error(y_test, pred_xgb))\n",
    "pred_lgb = reg_lgb.predict(X_test)\n",
    "rmse_lgb = np.sqrt(mean_squared_error(y_test, pred_lgb))\n",
    "\n",
    "print('Extreme: {:.3f}, Light: {:.3f}'.format(rmse_xgb, rmse_lgb))\n",
    "\n",
    "#----------------------------------#\n",
    "\n",
    "# Conclusion\n",
    "\n",
    "\"\"\"\n",
    "Pretty tight! While XGBoost got a better score, LightGBM is faster and lighter. CatBoost was a good contestant as well!\n",
    "\"\"\""
   ]
  }
 ],
 "metadata": {
  "kernelspec": {
   "display_name": "Python 3 (ipykernel)",
   "language": "python",
   "name": "python3"
  },
  "language_info": {
   "codemirror_mode": {
    "name": "ipython",
    "version": 3
   },
   "file_extension": ".py",
   "mimetype": "text/x-python",
   "name": "python",
   "nbconvert_exporter": "python",
   "pygments_lexer": "ipython3",
   "version": "3.11.8"
  }
 },
 "nbformat": 4,
 "nbformat_minor": 4
}
