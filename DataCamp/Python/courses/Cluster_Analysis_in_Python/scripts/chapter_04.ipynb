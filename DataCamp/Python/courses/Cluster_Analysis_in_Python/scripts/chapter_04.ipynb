{
 "cells": [
  {
   "cell_type": "code",
   "execution_count": 1,
   "metadata": {
    "execution": {
     "iopub.execute_input": "2023-06-07T13:12:23.584486Z",
     "iopub.status.busy": "2023-06-07T13:12:23.584017Z",
     "iopub.status.idle": "2023-06-07T13:12:25.470093Z",
     "shell.execute_reply": "2023-06-07T13:12:25.469249Z",
     "shell.execute_reply.started": "2023-06-07T13:12:23.584434Z"
    },
    "tags": []
   },
   "outputs": [],
   "source": [
    "# run this to shorten the data import from the files\n",
    "path_data = '/home/nero/Documents/Estudos/DataCamp/Python/Cluster_Analysis_in_Python/datasets/'\n",
    "import pandas as pd\n",
    "import matplotlib.pyplot as plt\n",
    "import seaborn as sns"
   ]
  },
  {
   "cell_type": "code",
   "execution_count": 2,
   "metadata": {
    "execution": {
     "iopub.execute_input": "2023-06-07T13:12:25.472712Z",
     "iopub.status.busy": "2023-06-07T13:12:25.472265Z",
     "iopub.status.idle": "2023-06-07T13:12:25.477446Z",
     "shell.execute_reply": "2023-06-07T13:12:25.476228Z",
     "shell.execute_reply.started": "2023-06-07T13:12:25.472675Z"
    },
    "tags": []
   },
   "outputs": [],
   "source": [
    "r = []\n",
    "g = []\n",
    "b = []"
   ]
  },
  {
   "cell_type": "code",
   "execution_count": 3,
   "metadata": {
    "execution": {
     "iopub.execute_input": "2023-06-07T13:12:25.479304Z",
     "iopub.status.busy": "2023-06-07T13:12:25.478902Z",
     "iopub.status.idle": "2023-06-07T13:12:25.888990Z",
     "shell.execute_reply": "2023-06-07T13:12:25.887467Z",
     "shell.execute_reply.started": "2023-06-07T13:12:25.479267Z"
    }
   },
   "outputs": [
    {
     "name": "stdout",
     "output_type": "stream",
     "text": [
      "(169, 269, 3)\n"
     ]
    },
    {
     "data": {
      "text/plain": [
       "'\\nThat is correct! You have successfully extracted the RGB values of the image into three lists, one for each color channel.\\n'"
      ]
     },
     "execution_count": 3,
     "metadata": {},
     "output_type": "execute_result"
    }
   ],
   "source": [
    "# exercise 01\n",
    "\n",
    "\"\"\"\n",
    "Extract RGB values from image\n",
    "\n",
    "There are broadly three steps to find the dominant colors in an image:\n",
    "\n",
    "    Extract RGB values into three lists.\n",
    "    Perform k-means clustering on scaled RGB values.\n",
    "    Display the colors of cluster centers.\n",
    "\n",
    "To extract RGB values, we use the imread() function of the image class of matplotlib. Empty lists, r, g and b have been initialized.\n",
    "\n",
    "For the purpose of finding dominant colors, we will be using the following image.\n",
    "\"\"\"\n",
    "\n",
    "# Instructions\n",
    "\n",
    "\"\"\"\n",
    "\n",
    "    Import image class of matplotlib.\n",
    "    Read the image using the imread() function and print the dimensions of the resultant matrix.\n",
    "    Store the values for the three colors from all pixels in lists r, g and b.\n",
    "\n",
    "\"\"\"\n",
    "\n",
    "# solution\n",
    "\n",
    "# Import image class of matplotlib\n",
    "import matplotlib.image as img\n",
    "\n",
    "# Read batman image and print dimensions\n",
    "batman_image = img.imread(path_data + 'batman.jpg')\n",
    "print(batman_image.shape)\n",
    "\n",
    "# Store RGB values of all pixels in lists r, g and b\n",
    "for row in batman_image:\n",
    "    for temp_r, temp_g, temp_b in row:\n",
    "        r.append(temp_r)\n",
    "        g.append(temp_g)\n",
    "        b.append(temp_b)\n",
    "\n",
    "#----------------------------------#\n",
    "\n",
    "# Conclusion\n",
    "\n",
    "\"\"\"\n",
    "That is correct! You have successfully extracted the RGB values of the image into three lists, one for each color channel.\n",
    "\"\"\""
   ]
  },
  {
   "cell_type": "code",
   "execution_count": 4,
   "metadata": {
    "execution": {
     "iopub.execute_input": "2023-06-07T13:12:25.891388Z",
     "iopub.status.busy": "2023-06-07T13:12:25.890539Z",
     "iopub.status.idle": "2023-06-07T13:12:27.566053Z",
     "shell.execute_reply": "2023-06-07T13:12:27.565199Z",
     "shell.execute_reply.started": "2023-06-07T13:12:25.891341Z"
    },
    "tags": []
   },
   "outputs": [],
   "source": [
    "batman_df = pd.DataFrame({'r':r, 'g':g,'b':b})\n",
    "\n",
    "from scipy.cluster.vq import whiten, kmeans, vq\n",
    "\n",
    "batman_df[['scaled_red','scaled_blue','scaled_green']] = whiten(batman_df[['r','b','g']])"
   ]
  },
  {
   "cell_type": "code",
   "execution_count": 5,
   "metadata": {
    "execution": {
     "iopub.execute_input": "2023-06-07T13:12:27.567261Z",
     "iopub.status.busy": "2023-06-07T13:12:27.566986Z",
     "iopub.status.idle": "2023-06-07T13:12:30.976727Z",
     "shell.execute_reply": "2023-06-07T13:12:30.976099Z",
     "shell.execute_reply.started": "2023-06-07T13:12:27.567228Z"
    },
    "tags": []
   },
   "outputs": [
    {
     "data": {
      "image/png": "[encoded data removed]",
      "text/plain": [
       "<Figure size 640x480 with 1 Axes>"
      ]
     },
     "metadata": {},
     "output_type": "display_data"
    },
    {
     "data": {
      "text/plain": [
       "'\\nYou are right! Notice that there are three distinct colors present in the image, which is supported by the elbow plot.\\n'"
      ]
     },
     "execution_count": 5,
     "metadata": {},
     "output_type": "execute_result"
    }
   ],
   "source": [
    "# exercise 02\n",
    "\n",
    "\"\"\"\n",
    "How many dominant colors?\n",
    "\n",
    "We have loaded the following image using the imread() function of the image class of matplotlib.\n",
    "\n",
    "The RGB values are stored in a DataFrame, batman_df. The RGB values have been standardized used the whiten() function, stored in columns, scaled_red, scaled_blue and scaled_green.\n",
    "\n",
    "Construct an elbow plot with the DataFrame. How many dominant colors are present?\n",
    "\"\"\"\n",
    "\n",
    "# Instructions\n",
    "\n",
    "\"\"\"\n",
    "\n",
    "    Create a list of distortions based on each value in num_clusters by running the kmeans() function.\n",
    "    Create a DataFrame elbow_plot with the lists: num_clusters and distortions.\n",
    "    Plot the data with seaborn's .lineplot() method with num_clusters on the x-axis and distortions on the y-axis.\n",
    "\n",
    "\"\"\"\n",
    "\n",
    "# solution\n",
    "\n",
    "distortions = []\n",
    "num_clusters = range(1, 7)\n",
    "\n",
    "# Create a list of distortions from the kmeans function\n",
    "for i in num_clusters:\n",
    "    cluster_centers, distortion = kmeans(batman_df[['scaled_red','scaled_blue','scaled_green']],i)\n",
    "    distortions.append(distortion)\n",
    "\n",
    "# Create a DataFrame with two lists, num_clusters and distortions\n",
    "elbow_plot = pd.DataFrame({'num_clusters':num_clusters, 'distortions':distortions})\n",
    "\n",
    "# Create a line plot of num_clusters and distortions\n",
    "sns.lineplot(x='num_clusters', y='distortions', data = elbow_plot)\n",
    "plt.xticks(num_clusters)\n",
    "plt.show()\n",
    "\n",
    "#----------------------------------#\n",
    "\n",
    "# Conclusion\n",
    "\n",
    "\"\"\"\n",
    "You are right! Notice that there are three distinct colors present in the image, which is supported by the elbow plot.\n",
    "\"\"\""
   ]
  },
  {
   "cell_type": "code",
   "execution_count": 6,
   "metadata": {
    "execution": {
     "iopub.execute_input": "2023-06-07T13:12:30.977715Z",
     "iopub.status.busy": "2023-06-07T13:12:30.977385Z",
     "iopub.status.idle": "2023-06-07T13:12:31.297998Z",
     "shell.execute_reply": "2023-06-07T13:12:31.297152Z",
     "shell.execute_reply.started": "2023-06-07T13:12:30.977697Z"
    },
    "tags": []
   },
   "outputs": [],
   "source": [
    "cluster_centers, distortion = kmeans(batman_df[['scaled_red','scaled_blue','scaled_green']],3)"
   ]
  },
  {
   "cell_type": "code",
   "execution_count": 7,
   "metadata": {
    "execution": {
     "iopub.execute_input": "2023-06-07T13:12:31.300925Z",
     "iopub.status.busy": "2023-06-07T13:12:31.300634Z",
     "iopub.status.idle": "2023-06-07T13:12:31.305109Z",
     "shell.execute_reply": "2023-06-07T13:12:31.304079Z",
     "shell.execute_reply.started": "2023-06-07T13:12:31.300899Z"
    },
    "tags": []
   },
   "outputs": [],
   "source": [
    "colors = []"
   ]
  },
  {
   "cell_type": "code",
   "execution_count": 8,
   "metadata": {
    "execution": {
     "iopub.execute_input": "2023-06-07T13:12:31.306867Z",
     "iopub.status.busy": "2023-06-07T13:12:31.306429Z",
     "iopub.status.idle": "2023-06-07T13:12:31.698768Z",
     "shell.execute_reply": "2023-06-07T13:12:31.697150Z",
     "shell.execute_reply.started": "2023-06-07T13:12:31.306826Z"
    },
    "tags": []
   },
   "outputs": [
    {
     "data": {
      "image/png": "[encoded data removed]",
      "text/plain": [
       "<Figure size 640x480 with 1 Axes>"
      ]
     },
     "metadata": {},
     "output_type": "display_data"
    },
    {
     "data": {
      "text/plain": [
       "'\\nThat is correct! Notice the three colors resemble the three that are indicative from visual inspection of the image.\\n'"
      ]
     },
     "execution_count": 8,
     "metadata": {},
     "output_type": "execute_result"
    }
   ],
   "source": [
    "# exercise 03\n",
    "\n",
    "\"\"\"\n",
    "Display dominant colors\n",
    "\n",
    "We have loaded the following image using the imread() function of the image class of matplotlib.\n",
    "\n",
    "To display the dominant colors, convert the colors of the cluster centers to their raw values and then converted them to the range of 0-1, using the following formula: converted_pixel = standardized_pixel * pixel_std / 255\n",
    "\n",
    "The RGB values are stored in a DataFrame, batman_df. The scaled RGB values are stored in columns, scaled_red, scaled_blue and scaled_green. The cluster centers are stored in the variable cluster_centers, which were generated using the kmeans() function with three clusters.\n",
    "\"\"\"\n",
    "\n",
    "# Instructions\n",
    "\n",
    "\"\"\"\n",
    "\n",
    "    Get standard deviations of each color from the DataFrame and store it in r_std, g_std, b_std.\n",
    "    For each cluster center, convert the standardized RGB values to scaled values in the range of 0-1.\n",
    "    Display the colors of the cluster centers.\n",
    "\n",
    "\"\"\"\n",
    "\n",
    "# solution\n",
    "\n",
    "# Get standard deviations of each color\n",
    "r_std, g_std, b_std = batman_df[['r', 'g', 'b']].std()\n",
    "\n",
    "for cluster_center in cluster_centers:\n",
    "    scaled_r, scaled_g, scaled_b = cluster_center\n",
    "    # Convert each standardized value to scaled value\n",
    "    colors.append((\n",
    "        scaled_r * r_std / 255,\n",
    "        scaled_g * g_std / 255,\n",
    "        scaled_b * b_std / 255\n",
    "    ))\n",
    "\n",
    "# Display colors of cluster centers\n",
    "plt.imshow([colors])\n",
    "plt.show()\n",
    "\n",
    "#----------------------------------#\n",
    "\n",
    "# Conclusion\n",
    "\n",
    "\"\"\"\n",
    "That is correct! Notice the three colors resemble the three that are indicative from visual inspection of the image.\n",
    "\"\"\""
   ]
  },
  {
   "cell_type": "code",
   "execution_count": 18,
   "metadata": {
    "execution": {
     "iopub.execute_input": "2023-06-07T13:19:23.926215Z",
     "iopub.status.busy": "2023-06-07T13:19:23.924515Z",
     "iopub.status.idle": "2023-06-07T13:19:23.944342Z",
     "shell.execute_reply": "2023-06-07T13:19:23.943304Z",
     "shell.execute_reply.started": "2023-06-07T13:19:23.926147Z"
    },
    "tags": []
   },
   "outputs": [],
   "source": [
    "stop_words_2 = ['i',\n",
    " 'me',\n",
    " 'my',\n",
    " 'myself',\n",
    " 'we',\n",
    " 'our',\n",
    " 'ours',\n",
    " 'ourselves',\n",
    " 'you',\n",
    " 'youre',\n",
    " 'youve',\n",
    " 'youll',\n",
    " 'youd',\n",
    " 'your',\n",
    " 'yours',\n",
    " 'yourself',\n",
    " 'yourselves',\n",
    " 'he',\n",
    " 'him',\n",
    " 'his',\n",
    " 'himself',\n",
    " 'she',\n",
    " 'shes',\n",
    " 'her',\n",
    " 'hers',\n",
    " 'herself',\n",
    " 'it',\n",
    " 'its',\n",
    " 'its',\n",
    " 'itself',\n",
    " 'they',\n",
    " 'them',\n",
    " 'their',\n",
    " 'theirs',\n",
    " 'themselves',\n",
    " 'what',\n",
    " 'which',\n",
    " 'who',\n",
    " 'whom',\n",
    " 'this',\n",
    " 'that',\n",
    " 'thatll',\n",
    " 'these',\n",
    " 'those',\n",
    " 'am',\n",
    " 'is',\n",
    " 'are',\n",
    " 'was',\n",
    " 'were',\n",
    " 'be',\n",
    " 'been',\n",
    " 'being',\n",
    " 'have',\n",
    " 'has',\n",
    " 'had',\n",
    " 'having',\n",
    " 'do',\n",
    " 'does',\n",
    " 'did',\n",
    " 'doing',\n",
    " 'a',\n",
    " 'an',\n",
    " 'the',\n",
    " 'and',\n",
    " 'but',\n",
    " 'if',\n",
    " 'or',\n",
    " 'because',\n",
    " 'as',\n",
    " 'until',\n",
    " 'while',\n",
    " 'of',\n",
    " 'at',\n",
    " 'by',\n",
    " 'for',\n",
    " 'with',\n",
    " 'about',\n",
    " 'against',\n",
    " 'between',\n",
    " 'into',\n",
    " 'through',\n",
    " 'during',\n",
    " 'before',\n",
    " 'after',\n",
    " 'above',\n",
    " 'below',\n",
    " 'to',\n",
    " 'from',\n",
    " 'up',\n",
    " 'down',\n",
    " 'in',\n",
    " 'out',\n",
    " 'on',\n",
    " 'off',\n",
    " 'over',\n",
    " 'under',\n",
    " 'again',\n",
    " 'further',\n",
    " 'then',\n",
    " 'once',\n",
    " 'here',\n",
    " 'there',\n",
    " 'when',\n",
    " 'where',\n",
    " 'why',\n",
    " 'how',\n",
    " 'all',\n",
    " 'any',\n",
    " 'both',\n",
    " 'each',\n",
    " 'few',\n",
    " 'more',\n",
    " 'most',\n",
    " 'other',\n",
    " 'some',\n",
    " 'such',\n",
    " 'no',\n",
    " 'nor',\n",
    " 'not',\n",
    " 'only',\n",
    " 'own',\n",
    " 'same',\n",
    " 'so',\n",
    " 'than',\n",
    " 'too',\n",
    " 'very',\n",
    " 's',\n",
    " 't',\n",
    " 'can',\n",
    " 'will',\n",
    " 'just',\n",
    " 'don',\n",
    " 'dont',\n",
    " 'should',\n",
    " 'shouldve',\n",
    " 'now',\n",
    " 'd',\n",
    " 'll',\n",
    " 'm',\n",
    " 'o',\n",
    " 're',\n",
    " 've',\n",
    " 'y',\n",
    " 'ain',\n",
    " 'aren',\n",
    " 'arent',\n",
    " 'couldn',\n",
    " 'couldnt',\n",
    " 'didn',\n",
    " 'didnt',\n",
    " 'doesn',\n",
    " 'doesnt',\n",
    " 'hadn',\n",
    " 'hadnt',\n",
    " 'hasn',\n",
    " 'hasnt',\n",
    " 'haven',\n",
    " 'havent',\n",
    " 'isn',\n",
    " 'isnt',\n",
    " 'ma',\n",
    " 'mightn',\n",
    " 'mightnt',\n",
    " 'mustn',\n",
    " 'mustnt',\n",
    " 'needn',\n",
    " 'neednt',\n",
    " 'shan',\n",
    " 'shant',\n",
    " 'shouldn',\n",
    " 'shouldnt',\n",
    " 'wasn',\n",
    " 'wasnt',\n",
    " 'weren',\n",
    " 'werent',\n",
    " 'won',\n",
    " 'wont',\n",
    " 'wouldn',\n",
    " 'wouldnt']"
   ]
  },
  {
   "cell_type": "code",
   "execution_count": 28,
   "metadata": {
    "execution": {
     "iopub.execute_input": "2023-06-07T13:25:00.526379Z",
     "iopub.status.busy": "2023-06-07T13:25:00.526046Z",
     "iopub.status.idle": "2023-06-07T13:25:04.941358Z",
     "shell.execute_reply": "2023-06-07T13:25:04.940473Z",
     "shell.execute_reply.started": "2023-06-07T13:25:00.526351Z"
    },
    "tags": []
   },
   "outputs": [
    {
     "name": "stderr",
     "output_type": "stream",
     "text": [
      "[nltk_data] Downloading package punkt to /home/nero/nltk_data...\n",
      "[nltk_data]   Unzipping tokenizers/punkt.zip.\n"
     ]
    }
   ],
   "source": [
    "from nltk.tokenize import word_tokenize\n",
    "import re\n",
    "\n",
    "import nltk\n",
    "nltk.download('punkt')\n",
    "\n",
    "def remove_noise(text, stop_words = stop_words_2):\n",
    "\n",
    "    tokens = word_tokenize(text)\n",
    "\n",
    "    cleaned_tokens = []\n",
    "\n",
    "    for token in tokens:\n",
    "\n",
    "        token = re.sub('[^A-Za-z0-9]+', '', token)\n",
    "\n",
    "        if len(token) > 1 and token.lower() not in stop_words:\n",
    "            # Get lowercase\n",
    "            cleaned_tokens.append(token.lower())\n",
    "\n",
    "    return cleaned_tokens"
   ]
  },
  {
   "cell_type": "code",
   "execution_count": 22,
   "metadata": {
    "execution": {
     "iopub.execute_input": "2023-06-07T13:22:35.114984Z",
     "iopub.status.busy": "2023-06-07T13:22:35.114233Z",
     "iopub.status.idle": "2023-06-07T13:22:35.166594Z",
     "shell.execute_reply": "2023-06-07T13:22:35.165479Z",
     "shell.execute_reply.started": "2023-06-07T13:22:35.114950Z"
    },
    "tags": []
   },
   "outputs": [],
   "source": [
    "# load plots\n",
    "\n",
    "plots = pd.read_csv(path_data + 'movies_plot.csv')['Plot'].values"
   ]
  },
  {
   "cell_type": "code",
   "execution_count": 29,
   "metadata": {
    "execution": {
     "iopub.execute_input": "2023-06-07T13:25:09.689127Z",
     "iopub.status.busy": "2023-06-07T13:25:09.688801Z",
     "iopub.status.idle": "2023-06-07T13:25:15.973690Z",
     "shell.execute_reply": "2023-06-07T13:25:15.972371Z",
     "shell.execute_reply.started": "2023-06-07T13:25:09.689101Z"
    },
    "tags": []
   },
   "outputs": [
    {
     "data": {
      "text/plain": [
       "'\\nThat is correct! You have successfully created the sparse matrix. Let us now perform clustering on the matrix.\\n'"
      ]
     },
     "execution_count": 29,
     "metadata": {},
     "output_type": "execute_result"
    }
   ],
   "source": [
    "# exercise 04\n",
    "\n",
    "\"\"\"\n",
    "TF-IDF of movie plots\n",
    "\n",
    "Let us use the plots of randomly selected movies to perform document clustering on. Before performing clustering on documents, they need to be cleaned of any unwanted noise (such as special characters and stop words) and converted into a sparse matrix through TF-IDF of the documents.\n",
    "\n",
    "Use the TfidfVectorizer class to perform the TF-IDF of movie plots stored in the list plots. The remove_noise() function is available to use as a tokenizer in the TfidfVectorizer class. The .fit_transform() method fits the data into the TfidfVectorizer objects and then generates the TF-IDF sparse matrix.\n",
    "\n",
    "Note: It takes a few seconds to run the .fit_transform() method.\n",
    "\"\"\"\n",
    "\n",
    "# Instructions\n",
    "\n",
    "\"\"\"\n",
    "\n",
    "    Import TfidfVectorizer class from sklearn.\n",
    "    Initialize the TfidfVectorizer class with minimum and maximum frequencies of 0.1 and 0.75, and 50 maximum features.\n",
    "    Use the fit_transform() method on the initialized TfidfVectorizer class with the list plots.\n",
    "\n",
    "\"\"\"\n",
    "\n",
    "# solution\n",
    "\n",
    "# Import TfidfVectorizer class from sklearn\n",
    "from sklearn.feature_extraction.text import TfidfVectorizer\n",
    "\n",
    "# Initialize TfidfVectorizer\n",
    "tfidf_vectorizer = TfidfVectorizer(max_df=0.75, max_features=50,\n",
    "min_df=0.1, tokenizer=remove_noise)\n",
    "\n",
    "# Use the .fit_transform() method on the list plots\n",
    "tfidf_matrix = tfidf_vectorizer.fit_transform(plots)\n",
    "\n",
    "#----------------------------------#\n",
    "\n",
    "# Conclusion\n",
    "\n",
    "\"\"\"\n",
    "That is correct! You have successfully created the sparse matrix. Let us now perform clustering on the matrix.\n",
    "\"\"\""
   ]
  },
  {
   "cell_type": "code",
   "execution_count": 30,
   "metadata": {
    "execution": {
     "iopub.execute_input": "2023-06-07T13:32:39.046228Z",
     "iopub.status.busy": "2023-06-07T13:32:39.045921Z",
     "iopub.status.idle": "2023-06-07T13:32:39.440873Z",
     "shell.execute_reply": "2023-06-07T13:32:39.439756Z",
     "shell.execute_reply.started": "2023-06-07T13:32:39.046201Z"
    },
    "tags": []
   },
   "outputs": [
    {
     "name": "stdout",
     "output_type": "stream",
     "text": [
      "['one', 'back', 'two']\n",
      "['film', 'life', 'new']\n"
     ]
    },
    {
     "data": {
      "text/plain": [
       "'\\nYou are correct! Notice positive, warm words in the first cluster and words referring to action in the second cluster.\\n'"
      ]
     },
     "execution_count": 30,
     "metadata": {},
     "output_type": "execute_result"
    }
   ],
   "source": [
    "# exercise 05\n",
    "\n",
    "\"\"\"\n",
    "Top terms in movie clusters\n",
    "\n",
    "Now that you have created a sparse matrix, generate cluster centers and print the top three terms in each cluster. Use the .todense() method to convert the sparse matrix, tfidf_matrix to a normal matrix for the kmeans() function to process. Then, use the .get_feature_names() method to get a list of terms in the tfidf_vectorizer object. The zip() function in Python joins two lists.\n",
    "\n",
    "The tfidf_vectorizer object and sparse matrix, tfidf_matrix, from the previous have been retained in this exercise. kmeans has been imported from SciPy.\n",
    "\n",
    "With a higher number of data points, the clusters formed would be defined more clearly. However, this requires some computational power, making it difficult to accomplish in an exercise here.\n",
    "\"\"\"\n",
    "\n",
    "# Instructions\n",
    "\n",
    "\"\"\"\n",
    "\n",
    "    Generate cluster centers through the kmeans() function.\n",
    "    Generate a list of terms from the tfidf_vectorizer object.\n",
    "    Print top 3 terms of each cluster.\n",
    "\n",
    "\"\"\"\n",
    "\n",
    "# solution\n",
    "\n",
    "num_clusters = 2\n",
    "\n",
    "# Generate cluster centers through the kmeans function\n",
    "cluster_centers, distortion = kmeans(tfidf_matrix.todense(),num_clusters)\n",
    "\n",
    "# Generate terms from the tfidf_vectorizer object\n",
    "terms = tfidf_vectorizer.get_feature_names_out()\n",
    "\n",
    "for i in range(num_clusters):\n",
    "    # Sort the terms and print top 3 terms\n",
    "    center_terms = dict(zip(terms, list(cluster_centers[i])))\n",
    "    sorted_terms = sorted(center_terms, key=center_terms.get, reverse=True)\n",
    "    print(sorted_terms[:3])\n",
    "\n",
    "#----------------------------------#\n",
    "\n",
    "# Conclusion\n",
    "\n",
    "\"\"\"\n",
    "You are correct! Notice positive, warm words in the first cluster and words referring to action in the second cluster.\n",
    "\"\"\""
   ]
  },
  {
   "cell_type": "code",
   "execution_count": 32,
   "metadata": {
    "execution": {
     "iopub.execute_input": "2023-06-07T13:43:07.012043Z",
     "iopub.status.busy": "2023-06-07T13:43:07.011336Z",
     "iopub.status.idle": "2023-06-07T13:43:07.075317Z",
     "shell.execute_reply": "2023-06-07T13:43:07.074386Z",
     "shell.execute_reply.started": "2023-06-07T13:43:07.012003Z"
    },
    "tags": []
   },
   "outputs": [],
   "source": [
    "#load and prepare datasets\n",
    "\n",
    "fifa = pd.read_csv(path_data + 'fifa_18_sample_data.csv')\n",
    "\n",
    "scaled_features = ['scaled_pac', 'scaled_dri', 'scaled_sho']\n",
    "\n",
    "fifa[['scaled_pac', 'scaled_dri', 'scaled_sho']] = whiten(fifa[['pac','dri','sho']])\n",
    "\n",
    "cluster_centers , distortion = kmeans(fifa[['scaled_pac', 'scaled_dri', 'scaled_sho']],3)\n",
    "\n",
    "fifa['cluster_labels'], _ = vq(fifa[['scaled_pac', 'scaled_dri', 'scaled_sho']], cluster_centers)"
   ]
  },
  {
   "cell_type": "code",
   "execution_count": 33,
   "metadata": {
    "execution": {
     "iopub.execute_input": "2023-06-07T13:43:12.596072Z",
     "iopub.status.busy": "2023-06-07T13:43:12.594267Z",
     "iopub.status.idle": "2023-06-07T13:43:12.760198Z",
     "shell.execute_reply": "2023-06-07T13:43:12.759238Z",
     "shell.execute_reply.started": "2023-06-07T13:43:12.596026Z"
    },
    "tags": []
   },
   "outputs": [
    {
     "name": "stdout",
     "output_type": "stream",
     "text": [
      "cluster_labels\n",
      "0    484\n",
      "1    335\n",
      "2    181\n",
      "Name: ID, dtype: int64\n",
      "cluster_labels\n",
      "0    75809.917355\n",
      "1    64128.358209\n",
      "2    62193.370166\n",
      "Name: eur_wage, dtype: float64\n"
     ]
    },
    {
     "data": {
      "text/plain": [
       "'\\nYou are correct! In this example, the cluster sizes are not very different, and there are no significant differences that can be seen in the wages. Further analysis is required to validate these clusters.\\n'"
      ]
     },
     "execution_count": 33,
     "metadata": {},
     "output_type": "execute_result"
    }
   ],
   "source": [
    "# exercise 06\n",
    "\n",
    "\"\"\"\n",
    "Basic checks on clusters\n",
    "\n",
    "In the FIFA 18 dataset, we have concentrated on defenders in previous exercises. Let us try to focus on attacking attributes of a player. Pace (pac), Dribbling (dri) and Shooting (sho) are features that are present in attack minded players. In this exercise, k-means clustering has already been applied on the data using the scaled values of these three attributes. Try some basic checks on the clusters so formed.\n",
    "\n",
    "The data is stored in a pandas DataFrame, fifa. The scaled column names are present in a list scaled_features. The cluster labels are stored in the cluster_labels column. Recall the .count() and .mean() methods in pandas help you find the number of observations and mean of observations in a DataFrame.\n",
    "\"\"\"\n",
    "\n",
    "# Instructions\n",
    "\n",
    "\"\"\"\n",
    "\n",
    "    Print the size of the clusters by grouping the column cluster_labels.\n",
    "    Print the mean values of the wages of the players in each cluster. eur_wage is the column name that stores the wages of a player in Euros.\n",
    "\n",
    "\"\"\"\n",
    "\n",
    "# solution\n",
    "\n",
    "# Print the size of the clusters\n",
    "print(fifa.groupby('cluster_labels')['ID'].count())\n",
    "\n",
    "# Print the mean value of wages in each cluster\n",
    "print(fifa.groupby('cluster_labels')['eur_wage'].mean())\n",
    "\n",
    "#----------------------------------#\n",
    "\n",
    "# Conclusion\n",
    "\n",
    "\"\"\"\n",
    "You are correct! In this example, the cluster sizes are not very different, and there are no significant differences that can be seen in the wages. Further analysis is required to validate these clusters.\n",
    "\"\"\""
   ]
  },
  {
   "cell_type": "code",
   "execution_count": 34,
   "metadata": {
    "execution": {
     "iopub.execute_input": "2023-06-07T13:48:35.233334Z",
     "iopub.status.busy": "2023-06-07T13:48:35.233010Z",
     "iopub.status.idle": "2023-06-07T13:48:35.241322Z",
     "shell.execute_reply": "2023-06-07T13:48:35.240328Z",
     "shell.execute_reply.started": "2023-06-07T13:48:35.233306Z"
    },
    "tags": []
   },
   "outputs": [],
   "source": [
    "features = ['pac', 'sho', 'pas', 'dri', 'def', 'phy']\n",
    "scaled_features = ['scaled_pac', 'scaled_sho', 'scaled_pas', 'scaled_dri', 'scaled_def', 'scaled_phy']\n",
    "\n",
    "fifa[scaled_features] = whiten(fifa[features])"
   ]
  },
  {
   "cell_type": "code",
   "execution_count": 35,
   "metadata": {
    "execution": {
     "iopub.execute_input": "2023-06-07T13:48:55.428210Z",
     "iopub.status.busy": "2023-06-07T13:48:55.427763Z",
     "iopub.status.idle": "2023-06-07T13:48:56.247811Z",
     "shell.execute_reply": "2023-06-07T13:48:56.246318Z",
     "shell.execute_reply.started": "2023-06-07T13:48:55.428173Z"
    },
    "tags": []
   },
   "outputs": [
    {
     "name": "stdout",
     "output_type": "stream",
     "text": [
      "                scaled_pac  scaled_sho  scaled_pas  scaled_dri  scaled_def   \n",
      "cluster_labels                                                               \n",
      "0                 5.464781    3.677603    7.185542    6.780258     3.96738  \\\n",
      "1                 6.684923    5.434618    8.456477    8.517224     2.49411   \n",
      "\n",
      "                scaled_phy  \n",
      "cluster_labels              \n",
      "0                 9.208732  \n",
      "1                 8.330840  \n"
     ]
    },
    {
     "data": {
      "image/png": "[encoded data removed]",
      "text/plain": [
       "<Figure size 640x480 with 1 Axes>"
      ]
     },
     "metadata": {},
     "output_type": "display_data"
    },
    {
     "name": "stdout",
     "output_type": "stream",
     "text": [
      "1 ['Cristiano Ronaldo' 'L. Messi' 'Neymar' 'L. Suárez' 'M. Neuer']\n",
      "0 ['Sergio Ramos' 'G. Chiellini' 'L. Bonucci' 'J. Boateng' 'D. Godín']\n"
     ]
    },
    {
     "data": {
      "text/plain": [
       "'\\nThat is correct! The data was sorted before you performed the clustering. Notice the top players in each cluster are representative of the overall characteristics of the cluster - one of the clusters primarily represents attackers, whereas the other represents defenders. Surprisingly, a top goalkeeper Manuel Neuer is seen in the attackers group, but he is known for going out of the box and participating in open play, which are reflected in his FIFA 18 attributes.\\n'"
      ]
     },
     "execution_count": 35,
     "metadata": {},
     "output_type": "execute_result"
    }
   ],
   "source": [
    "# exercise 07\n",
    "\n",
    "\"\"\"\n",
    "FIFA 18: what makes a complete player?\n",
    "\n",
    "The overall level of a player in FIFA 18 is defined by six characteristics: pace (pac), shooting (sho), passing (pas), dribbling (dri), defending (def), physical (phy).\n",
    "\n",
    "Here is a sample card:\n",
    "\n",
    "Eden Hazard Player Card\n",
    "\n",
    "In this exercise, you will use all six characteristics to create clusters. The data for this exercise is stored in a pandas DataFrame, fifa. features is the list of these column names and scaled_features is the list of columns which contains their scaled values. The following have been pre-loaded: kmeans, vq from scipy.cluster.vq, matplotlib.pyplot as plt, seaborn as sns.\n",
    "\n",
    "Before you start the exercise, you may wish to explore scaled_features in the IPython Shell to check out the list of six scaled columns names.\n",
    "\"\"\"\n",
    "\n",
    "# Instructions\n",
    "\n",
    "\"\"\"\n",
    "\n",
    "    Use the kmeans() algorithm to create 2 clusters using the list of columns, scaled_features.\n",
    "---\n",
    "\n",
    "    Assign cluster labels to each row using vq() and print cluster centers of scaled_features using the .mean() method of pandas.\n",
    "---\n",
    "\n",
    "    Plot a bar chart of scaled attributes of each cluster center using the .plot() method of pandas.\n",
    "---\n",
    "\n",
    "    Print the names of first 5 players in each cluster, using the name column.\n",
    "\n",
    "\"\"\"\n",
    "\n",
    "# solution\n",
    "\n",
    "# Create centroids with kmeans for 2 clusters\n",
    "cluster_centers,_ = kmeans(fifa[scaled_features], 2)\n",
    "\n",
    "# Assign cluster labels and print cluster centers\n",
    "fifa['cluster_labels'], _ = vq(fifa[scaled_features], cluster_centers)\n",
    "print(fifa.groupby('cluster_labels')[scaled_features].mean())\n",
    "\n",
    "# Plot cluster centers to visualize clusters\n",
    "fifa.groupby('cluster_labels')[scaled_features].mean().plot(legend=True, kind='bar')\n",
    "plt.show()\n",
    "\n",
    "# Get the name column of first 5 players in each cluster\n",
    "for cluster in fifa['cluster_labels'].unique():\n",
    "    print(cluster, fifa[fifa['cluster_labels'] == cluster]['name'].values[:5])\n",
    "\n",
    "#----------------------------------#\n",
    "\n",
    "# Conclusion\n",
    "\n",
    "\"\"\"\n",
    "That is correct! The data was sorted before you performed the clustering. Notice the top players in each cluster are representative of the overall characteristics of the cluster - one of the clusters primarily represents attackers, whereas the other represents defenders. Surprisingly, a top goalkeeper Manuel Neuer is seen in the attackers group, but he is known for going out of the box and participating in open play, which are reflected in his FIFA 18 attributes.\n",
    "\"\"\""
   ]
  }
 ],
 "metadata": {
  "kernelspec": {
   "display_name": "Python 3 (ipykernel)",
   "language": "python",
   "name": "python3"
  },
  "language_info": {
   "codemirror_mode": {
    "name": "ipython",
    "version": 3
   },
   "file_extension": ".py",
   "mimetype": "text/x-python",
   "name": "python",
   "nbconvert_exporter": "python",
   "pygments_lexer": "ipython3",
   "version": "3.11.3"
  }
 },
 "nbformat": 4,
 "nbformat_minor": 4
}
