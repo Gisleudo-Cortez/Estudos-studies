{
 "cells": [
  {
   "cell_type": "code",
   "execution_count": 1,
   "metadata": {
    "editable": true,
    "slideshow": {
     "slide_type": ""
    },
    "tags": []
   },
   "outputs": [],
   "source": [
    "# run this to shorten the data import from the files\n",
    "import os\n",
    "cwd = os.path.dirname(os.getcwd())+'/'\n",
    "path_data = os.path.join(os.path.dirname(os.getcwd()), 'datasets/')\n"
   ]
  },
  {
   "cell_type": "markdown",
   "metadata": {},
   "source": [
    "# Setting up problems\n",
    "\n",
    "You're testing for a disease and advertising that the test is 99% accurate; that is if you have the disease, you will test positive 99% of the time, and if you don't have the disease, you will test negative 99% of the time. Let's say that 1% of all people have the disease and someone tests positive. What's the probability that the person has the disease? Select the correct set up for this problem.\n",
    "\n",
    "    (.99 * .01) / .01\n",
    "\n",
    "    (.99 * .99) / (.01 * .99)\n",
    "\n",
    "    (.99 * .01) / ((.09 * .99)+(.99 * .01)) {Answer}\n",
    "\n",
    "    ((.01 * .99) + (.99 * .01)) / (.99 * .01)\n",
    "\n",
    "**Correct! If you follow through with this computation, you get the result that our patient has a 50% probability of having the disease, given that they tested positive.**"
   ]
  },
  {
   "cell_type": "code",
   "execution_count": 9,
   "metadata": {},
   "outputs": [
    {
     "name": "stdout",
     "output_type": "stream",
     "text": [
      "prob faulty = 0.5\n",
      "prob real = 0.5\n",
      "\n",
      "prob tails given faulty = 1\n",
      "prob tails given real = 0.5\n",
      "\n",
      "prob of chosing a coin and landing on tails = 0.75\n",
      "prob faulty and tails = 0.6666666666666666\n"
     ]
    },
    {
     "data": {
      "text/plain": [
       "'\\n\\n'"
      ]
     },
     "execution_count": 9,
     "metadata": {},
     "output_type": "execute_result"
    }
   ],
   "source": [
    "# exercise 01\n",
    "\n",
    "\"\"\"\n",
    "Bayes' theorem applied\n",
    "\n",
    "Let's actually solve out a pretty straightforward, yet typical Bayes' theorem interview problem. You have two coins in your hand. Out of the two coins, one is a real coin (heads and tails) and the other is a faulty coin with tails on both sides.\n",
    "\n",
    "You are blindfolded and forced to choose a random coin and then toss it in the air. The coin lands with tails facing upwards. Find the probability that this is the faulty coin.\n",
    "\"\"\"\n",
    "\n",
    "# Instructions\n",
    "\n",
    "\"\"\"\n",
    "\n",
    "\n",
    "    Print the probability of the coin landing tails. P(T)\n",
    "\n",
    "    Print the probability of the coin being faulty. P(F)\n",
    "\n",
    "    Print the probability of the coin being faulty and landing tails. P(F|T)\n",
    "\n",
    "    Print and solve for the probability that the coin is faulty, given it came down on tails.\n",
    "\n",
    "\"\"\"\n",
    "\n",
    "# solution\n",
    "\n",
    "P_F = 1/2 # prob fulty\n",
    "P_R = 1/2 # prob real\n",
    "\n",
    "P_TF = 1 # prob tails given faulty\n",
    "P_TR = 1/2 # prob tails given real\n",
    "\n",
    "# calculating P_T\n",
    "\n",
    "P_T = (P_TF * P_F) + (P_TR * P_R)\n",
    "\n",
    "\n",
    "# prob of being faulty and tails P(F|T)\n",
    "P_FT = (P_TF * P_F)/ P_T\n",
    "\n",
    "# Print values\n",
    "print(f'prob faulty = {P_F}')\n",
    "print(f'prob real = {P_R}', end='\\n\\n')\n",
    "\n",
    "print(f'prob tails given faulty = {P_TF}')\n",
    "print(f'prob tails given real = {P_TR}', end='\\n\\n')\n",
    "\n",
    "print(f'prob of chosing a coin and landing on tails = {P_T}')\n",
    "print(f'prob faulty and tails = {P_FT}')\n",
    "\n",
    "#----------------------------------#\n",
    "\n",
    "# Conclusion\n",
    "\n",
    "\"\"\"\n",
    "\n",
    "\"\"\""
   ]
  },
  {
   "cell_type": "code",
   "execution_count": 18,
   "metadata": {
    "tags": []
   },
   "outputs": [
    {
     "name": "stdout",
     "output_type": "stream",
     "text": [
      "3.6\n",
      "3.592\n"
     ]
    },
    {
     "data": {
      "text/plain": [
       "\"\\nGood job! Notice how the mean of the large sample has gotten closer to the true expected mean value of 3.5 for a rolled die. Which theorem did you say was being demonstrated here? Was it the law of large numbers? If so, you're correct! It's important to distinguish between the law of large numbers and central limit theorem in interviews.\\n\""
      ]
     },
     "execution_count": 18,
     "metadata": {},
     "output_type": "execute_result"
    }
   ],
   "source": [
    "# exercise 02\n",
    "\n",
    "\"\"\"\n",
    "Samples from a rolled die\n",
    "\n",
    "Let's work through generating a simulation using the numpy package. You'll work with the same scenario from the slides, simulating rolls from a standard die numbered 1 through 6, using the randint() function. Take a look at the documentation for this function if you haven't encountered it before.\n",
    "\n",
    "Starting with a small sample and working your way up to a larger sample, examine the outcome means and come to a conclusion about the underlying theorem.\n",
    "\"\"\"\n",
    "\n",
    "# Instructions\n",
    "\n",
    "\"\"\"\n",
    "\n",
    "    Generate a sample of 10 die rolls using the randint() function; assign it to our small variable.\n",
    "    Assign the mean of the sample to small_mean and print the results; notice how close it is to the true mean.\n",
    "    Similarly, create a larger sample of 1000 die rolls and assign the list to our large variable.\n",
    "    Assign the mean of the larger sample to large_mean and print the mean; which theorem is at work here?\n",
    "\n",
    "\"\"\"\n",
    "\n",
    "# solution\n",
    "\n",
    "from numpy.random import randint\n",
    "\n",
    "# Create a sample of 10 die rolls\n",
    "small = randint(1, 7, 10)\n",
    "\n",
    "# Calculate and print the mean of the sample\n",
    "small_mean = small.mean()\n",
    "print(small_mean)\n",
    "\n",
    "# Create a sample of 1000 die rolls\n",
    "large = randint(1, 7, 1000)\n",
    "\n",
    "# Calculate and print the mean of the large sample\n",
    "large_mean = large.mean()\n",
    "print(large_mean)\n",
    "\n",
    "#----------------------------------#\n",
    "\n",
    "# Conclusion\n",
    "\n",
    "\"\"\"\n",
    "Good job! Notice how the mean of the large sample has gotten closer to the true expected mean value of 3.5 for a rolled die. Which theorem did you say was being demonstrated here? Was it the law of large numbers? If so, you're correct! It's important to distinguish between the law of large numbers and central limit theorem in interviews.\n",
    "\"\"\""
   ]
  },
  {
   "cell_type": "code",
   "execution_count": 19,
   "metadata": {
    "tags": []
   },
   "outputs": [
    {
     "data": {
      "image/png": "[encoded data removed]",
      "text/plain": [
       "<Figure size 640x480 with 1 Axes>"
      ]
     },
     "metadata": {},
     "output_type": "display_data"
    },
    {
     "data": {
      "image/png": "[encoded data removed]",
      "text/plain": [
       "<Figure size 640x480 with 1 Axes>"
      ]
     },
     "metadata": {},
     "output_type": "display_data"
    },
    {
     "data": {
      "text/plain": [
       "\"\\nNice! Note how whether we took 100 or 1000 sample means, the distribution was still approximately normal. This will always be the case when we have a large enough sample (typically above 30). That's the central limit theorem at work. Remember why it's so important. It serves as the basis for all statistical experiments that you'll do!\\n\""
      ]
     },
     "execution_count": 19,
     "metadata": {},
     "output_type": "execute_result"
    }
   ],
   "source": [
    "# exercise 03\n",
    "\n",
    "\"\"\"\n",
    "Simulating central limit theorem\n",
    "\n",
    "Now that we have some practice creating a sample, we'll look at simulating the central limit theorem, similar to what you saw in the slides. We'll also continue dealing with a standard die numbered 1 through 6.\n",
    "\n",
    "In order to do this, you'll take a collection of sample means from numpy and examine the distribution of them using the matplotlib package, which has been imported as plt for the rest of the chapter.\n",
    "\"\"\"\n",
    "\n",
    "# Instructions\n",
    "\n",
    "\"\"\"\n",
    "Create a list named means with 1000 sample means from samples of 30 rolled dice by using list comprehension.\n",
    "---\n",
    "Create and show a histogram of the means using the hist() function; examine the shape of the distribution.\n",
    "---\n",
    "Adapt your code to visualize only 100 samples in the means list; did the distribution change at all?\n",
    "\"\"\"\n",
    "\n",
    "# solution\n",
    "\n",
    "from numpy.random import randint\n",
    "import matplotlib.pyplot as plt\n",
    "\n",
    "# Create a list of 1000 sample means of size 30\n",
    "means = [randint(1, 7, 30).mean() for i in range(1000)]\n",
    "\n",
    "# Create and show a histogram of the means\n",
    "plt.hist(means)\n",
    "plt.show()\n",
    "\n",
    "#----------------------------------#\n",
    "\n",
    "# Adapt code for 100 samples of size 30\n",
    "means = [randint(1, 7, 30).mean() for i in range(100)]\n",
    "\n",
    "# Create and show a histogram of the means\n",
    "plt.hist(means)\n",
    "plt.show()\n",
    "\n",
    "#----------------------------------#\n",
    "\n",
    "# Conclusion\n",
    "\n",
    "\"\"\"\n",
    "Nice! Note how whether we took 100 or 1000 sample means, the distribution was still approximately normal. This will always be the case when we have a large enough sample (typically above 30). That's the central limit theorem at work. Remember why it's so important. It serves as the basis for all statistical experiments that you'll do!\n",
    "\"\"\""
   ]
  },
  {
   "cell_type": "code",
   "execution_count": 20,
   "metadata": {
    "tags": []
   },
   "outputs": [
    {
     "data": {
      "image/png": "[encoded data removed]",
      "text/plain": [
       "<Figure size 640x480 with 1 Axes>"
      ]
     },
     "metadata": {},
     "output_type": "display_data"
    },
    {
     "data": {
      "image/png": "[encoded data removed]",
      "text/plain": [
       "<Figure size 640x480 with 1 Axes>"
      ]
     },
     "metadata": {},
     "output_type": "display_data"
    },
    {
     "data": {
      "text/plain": [
       "\"\\nGood job! Notice that heads and tails didn't have the exact same probability with a sample size of just 100. This is no fluke — when sampling, we won't always get perfect results. We can increase our accuracy however, as you saw when you upped the sample size to 1,000 observations. Now let's move forward to some more interesting distributions!\\n\""
      ]
     },
     "execution_count": 20,
     "metadata": {},
     "output_type": "execute_result"
    }
   ],
   "source": [
    "# exercise 04\n",
    "\n",
    "\"\"\"\n",
    "Bernoulli distribution\n",
    "\n",
    "Let's start simple with the Bernoulli distribution. In this exercise, you'll generate sample data for a Bernoulli event and then examine the visualization produced. Before we start, make yourself familiar with the rvs() function within scipy.stats that we'll use for sampling over the next few exercises.\n",
    "\n",
    "Let's stick to the prior example of flipping a fair coin and checking the outcome: heads or tails. Remember that matplotlib is already imported as plt for you.\n",
    "\"\"\"\n",
    "\n",
    "# Instructions\n",
    "\n",
    "\"\"\"\n",
    "Generate a sample using the rvs() function with size set to 100; assign it to the data variable.\n",
    "---\n",
    "Create and display a histogram using the hist() function; examine the shape of the distribution.\n",
    "---\n",
    "Adapt the code to take a sample of 1000 observations this time.\n",
    "\"\"\"\n",
    "\n",
    "# solution\n",
    "\n",
    "# Generate bernoulli data\n",
    "from scipy.stats import bernoulli\n",
    "data = bernoulli.rvs(p=0.5, size=100)\n",
    "\n",
    "# Plot distribution\n",
    "plt.hist(data)\n",
    "plt.show()\n",
    "\n",
    "#----------------------------------#\n",
    "\n",
    "# Generate bernoulli data\n",
    "from scipy.stats import bernoulli\n",
    "data = bernoulli.rvs(p=0.5, size=1000)\n",
    "\n",
    "# Plot distribution\n",
    "plt.hist(data)\n",
    "plt.show()\n",
    "\n",
    "#----------------------------------#\n",
    "\n",
    "# Conclusion\n",
    "\n",
    "\"\"\"\n",
    "Good job! Notice that heads and tails didn't have the exact same probability with a sample size of just 100. This is no fluke — when sampling, we won't always get perfect results. We can increase our accuracy however, as you saw when you upped the sample size to 1,000 observations. Now let's move forward to some more interesting distributions!\n",
    "\"\"\""
   ]
  },
  {
   "cell_type": "code",
   "execution_count": 21,
   "metadata": {
    "tags": []
   },
   "outputs": [
    {
     "data": {
      "image/png": "[encoded data removed]",
      "text/plain": [
       "<Figure size 640x480 with 1 Axes>"
      ]
     },
     "metadata": {},
     "output_type": "display_data"
    },
    {
     "name": "stdout",
     "output_type": "stream",
     "text": [
      "0.6241903615999999\n",
      "0.10737418240000006\n"
     ]
    },
    {
     "data": {
      "text/plain": [
       "'\\nNice job! Notice that we started out simple by just showing the general shape of the distribution, but quickly moved on to actual application. Remember, interviewers like to start out with fundamental concepts before getting incrementally more complex. By mastering the basics, you put yourself in a much better position right off the bat!\\n'"
      ]
     },
     "execution_count": 21,
     "metadata": {},
     "output_type": "execute_result"
    }
   ],
   "source": [
    "# exercise 05\n",
    "\n",
    "\"\"\"\n",
    "Binomial distribution\n",
    "\n",
    "As we touched on in the slides, the binomial distribution is used to model the number of successful outcomes in trials where there is some consistent probability of success.\n",
    "\n",
    "For this exercise, consider a game where you are trying to make a ball in a basket. You are given 10 shots and you know that you have an 80% chance of making a given shot. To simplify things, assume each shot is an independent event.\n",
    "\"\"\"\n",
    "\n",
    "# Instructions\n",
    "\n",
    "\"\"\"\n",
    "\n",
    "    Generate some data for the distribution using the rvs() function with size set to 1000; assign it to the data variable.\n",
    "    Display a matplotlib histogram; examine the shape of the distribution.\n",
    "    Assign the probability of making 8 or less shots to prob1 and print the result.\n",
    "    Assign the probability of making all 10 shots to prob2 and print the result.\n",
    "\n",
    "\"\"\"\n",
    "\n",
    "# solution\n",
    "\n",
    "# Generate binomial data\n",
    "from scipy.stats import binom\n",
    "data = binom.rvs(n=10, p=0.8, size=1000)\n",
    "\n",
    "# Plot the distribution\n",
    "plt.hist(data)\n",
    "plt.show()\n",
    "\n",
    "# Assign and print probability of 8 or less successes\n",
    "prob1 = binom.cdf(k=8, n=10, p=0.8)\n",
    "print(prob1)\n",
    "\n",
    "# Assign and print probability of all 10 successes\n",
    "prob2 = binom.pmf(k=10, n=10, p=0.8)\n",
    "print(prob2)\n",
    "\n",
    "#----------------------------------#\n",
    "\n",
    "# Conclusion\n",
    "\n",
    "\"\"\"\n",
    "Nice job! Notice that we started out simple by just showing the general shape of the distribution, but quickly moved on to actual application. Remember, interviewers like to start out with fundamental concepts before getting incrementally more complex. By mastering the basics, you put yourself in a much better position right off the bat!\n",
    "\"\"\""
   ]
  },
  {
   "cell_type": "code",
   "execution_count": 24,
   "metadata": {
    "tags": []
   },
   "outputs": [
    {
     "data": {
      "image/png": "[encoded data removed]",
      "text/plain": [
       "<Figure size 640x480 with 1 Axes>"
      ]
     },
     "metadata": {},
     "output_type": "display_data"
    },
    {
     "name": "stdout",
     "output_type": "stream",
     "text": [
      "0.02275013194817921\n",
      "0.019\n"
     ]
    },
    {
     "data": {
      "text/plain": [
       "\"\\nAll done! How close is the result from the true distribution vs. our sample distribution? Do these results make since in the context of the 68-95-99.7 rule discussed in the slides? Make sure to keep reviewing and going deeper on the topic of the normal distribution, as it's a favorite among interviewers. Congrats on finishing the first chapter and moving closer to acing your next interview!\\n\""
      ]
     },
     "execution_count": 24,
     "metadata": {},
     "output_type": "execute_result"
    }
   ],
   "source": [
    "# exercise 06\n",
    "\n",
    "\"\"\"\n",
    "Normal distribution\n",
    "\n",
    "On to the most recognizable and useful distribution of the bunch: the normal or Gaussian distribution. In the slides, we briefly touched on the bell-curve shape and how the normal distribution along with the central limit theorem enables us to perform hypothesis tests.\n",
    "\n",
    "Similar to the previous exercises, here you'll start by simulating some data and examining the distribution, then dive a little deeper and examine the probability of certain observations taking place.\n",
    "\"\"\"\n",
    "\n",
    "# Instructions\n",
    "\n",
    "\"\"\"\n",
    "\n",
    "    Generate the data for the distribution by using the rvs() function with size set to 1000; assign it to the data variable.\n",
    "    Display a matplotlib histogram; examine the shape of the distribution.\n",
    "    Given a standardized normal distribution, what is the probability of an observation greater than 2?\n",
    "    Looking at our sample, what is the probability of an observation greater than 2?\n",
    "\n",
    "\n",
    "\"\"\"\n",
    "\n",
    "# solution\n",
    "\n",
    "# Generate normal data\n",
    "from scipy.stats import norm\n",
    "data = norm.rvs(size=1000)\n",
    "\n",
    "# Plot distribution\n",
    "plt.hist(data)\n",
    "plt.show()\n",
    "\n",
    "# Compute and print true probability for greater than 2\n",
    "true_prob = 1 - norm.cdf(2)\n",
    "print(true_prob)\n",
    "\n",
    "# Compute and print sample probability for greater than 2\n",
    "sample_prob = sum(obs > 2 for obs in data) / len(data)\n",
    "print(sample_prob)\n",
    "\n",
    "#----------------------------------#\n",
    "\n",
    "# Conclusion\n",
    "\n",
    "\"\"\"\n",
    "All done! How close is the result from the true distribution vs. our sample distribution? Do these results make since in the context of the 68-95-99.7 rule discussed in the slides? Make sure to keep reviewing and going deeper on the topic of the normal distribution, as it's a favorite among interviewers. Congrats on finishing the first chapter and moving closer to acing your next interview!\n",
    "\"\"\""
   ]
  }
 ],
 "metadata": {
  "kernelspec": {
   "display_name": "Python 3 (ipykernel)",
   "language": "python",
   "name": "python3"
  },
  "language_info": {
   "codemirror_mode": {
    "name": "ipython",
    "version": 3
   },
   "file_extension": ".py",
   "mimetype": "text/x-python",
   "name": "python",
   "nbconvert_exporter": "python",
   "pygments_lexer": "ipython3",
   "version": "3.11.8"
  }
 },
 "nbformat": 4,
 "nbformat_minor": 4
}
