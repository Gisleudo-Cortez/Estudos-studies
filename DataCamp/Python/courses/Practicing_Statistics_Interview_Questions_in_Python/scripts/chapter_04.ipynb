{
 "cells": [
  {
   "cell_type": "code",
   "execution_count": 1,
   "metadata": {
    "editable": true,
    "slideshow": {
     "slide_type": ""
    },
    "tags": []
   },
   "outputs": [],
   "source": [
    "# run this to shorten the data import from the files\n",
    "import os\n",
    "cwd = os.path.dirname(os.getcwd())+'/'\n",
    "path_data = os.path.join(os.path.dirname(os.getcwd()), 'datasets/')\n"
   ]
  },
  {
   "cell_type": "code",
   "execution_count": 3,
   "metadata": {},
   "outputs": [
    {
     "data": {
      "text/html": [
       "<div>\n",
       "<style scoped>\n",
       "    .dataframe tbody tr th:only-of-type {\n",
       "        vertical-align: middle;\n",
       "    }\n",
       "\n",
       "    .dataframe tbody tr th {\n",
       "        vertical-align: top;\n",
       "    }\n",
       "\n",
       "    .dataframe thead th {\n",
       "        text-align: right;\n",
       "    }\n",
       "</style>\n",
       "<table border=\"1\" class=\"dataframe\">\n",
       "  <thead>\n",
       "    <tr style=\"text-align: right;\">\n",
       "      <th></th>\n",
       "      <th>MinTemp</th>\n",
       "      <th>MaxTemp</th>\n",
       "      <th>Humidity9am</th>\n",
       "      <th>Humidity3pm</th>\n",
       "    </tr>\n",
       "  </thead>\n",
       "  <tbody>\n",
       "    <tr>\n",
       "      <th>0</th>\n",
       "      <td>20.8</td>\n",
       "      <td>30.1</td>\n",
       "      <td>83.0</td>\n",
       "      <td>58.0</td>\n",
       "    </tr>\n",
       "    <tr>\n",
       "      <th>1</th>\n",
       "      <td>14.0</td>\n",
       "      <td>19.3</td>\n",
       "      <td>72.0</td>\n",
       "      <td>68.0</td>\n",
       "    </tr>\n",
       "    <tr>\n",
       "      <th>2</th>\n",
       "      <td>23.7</td>\n",
       "      <td>31.2</td>\n",
       "      <td>59.0</td>\n",
       "      <td>60.0</td>\n",
       "    </tr>\n",
       "    <tr>\n",
       "      <th>3</th>\n",
       "      <td>0.1</td>\n",
       "      <td>19.6</td>\n",
       "      <td>70.0</td>\n",
       "      <td>35.0</td>\n",
       "    </tr>\n",
       "    <tr>\n",
       "      <th>4</th>\n",
       "      <td>11.0</td>\n",
       "      <td>19.9</td>\n",
       "      <td>68.0</td>\n",
       "      <td>61.0</td>\n",
       "    </tr>\n",
       "  </tbody>\n",
       "</table>\n",
       "</div>"
      ],
      "text/plain": [
       "   MinTemp  MaxTemp  Humidity9am  Humidity3pm\n",
       "0     20.8     30.1         83.0         58.0\n",
       "1     14.0     19.3         72.0         68.0\n",
       "2     23.7     31.2         59.0         60.0\n",
       "3      0.1     19.6         70.0         35.0\n",
       "4     11.0     19.9         68.0         61.0"
      ]
     },
     "execution_count": 3,
     "metadata": {},
     "output_type": "execute_result"
    }
   ],
   "source": [
    "import pandas as pd\n",
    "\n",
    "weather = pd.read_csv(path_data+'weather_03.csv', usecols=[1,2,3,4])\n",
    "weather.head()"
   ]
  },
  {
   "cell_type": "code",
   "execution_count": 4,
   "metadata": {},
   "outputs": [
    {
     "data": {
      "image/png": "[encoded data removed]",
      "text/plain": [
       "<Figure size 640x480 with 1 Axes>"
      ]
     },
     "metadata": {},
     "output_type": "display_data"
    },
    {
     "name": "stdout",
     "output_type": "stream",
     "text": [
      "[0.79086669]\n"
     ]
    },
    {
     "data": {
      "text/plain": [
       "'\\nYou can see that despite some noise in the plot, we have a decent looking fit here using Humidity9am to predict the dependent variable Humidity3pm with a linear model. Furthermore, take another look at our coefficient. This means that for every 1 unit of humidity in the morning, we can expect about 0.80 units of humidity in the afternoon. More practically, this information tells us that humidity drops about 20% from morning to afternoon!\\n'"
      ]
     },
     "execution_count": 4,
     "metadata": {},
     "output_type": "execute_result"
    }
   ],
   "source": [
    "# exercise 01\n",
    "\n",
    "\"\"\"\n",
    "Linear regression\n",
    "\n",
    "In this exercise, you'll implement a simple linear regression model. Get ready to make predictions, visualize the model fit, and analyze the formula used to generate your fit.\n",
    "\n",
    "By now, you're probably comfortable with the weather dataset that we'll be using. Your dependent variable will be the Humidity3pm feature. All of the standard packages have been imported for you.\n",
    "\"\"\"\n",
    "\n",
    "# Instructions\n",
    "\n",
    "\"\"\"\n",
    "\n",
    "    Assign a LinearRegression() object to the lm variable; fit your model on the next line.\n",
    "---\n",
    "\n",
    "    Assign the predictions from your model to preds using the predict() function; print the list once you have it.\n",
    "---\n",
    "\n",
    "    Visualize the relationship between X and y with the scatter() function, then plot your predictions on top using the plot() function.\n",
    "\n",
    "\"\"\"\n",
    "\n",
    "# solution\n",
    "\n",
    "from sklearn.linear_model import LinearRegression \n",
    "import matplotlib.pyplot as plt\n",
    "import numpy as np\n",
    "X = np.array(weather['Humidity9am']).reshape(-1,1)\n",
    "y = weather['Humidity3pm']\n",
    "\n",
    "# Create and fit your linear regression model\n",
    "lm = LinearRegression()\n",
    "lm.fit(X, y)\n",
    "\n",
    "# Assign and print predictions\n",
    "preds = lm.predict(X)\n",
    "\n",
    "# Plot your fit to visualize your model\n",
    "plt.scatter(X, y)\n",
    "plt.plot(X, preds, color='red')\n",
    "plt.show()\n",
    "\n",
    "# Assign and print coefficient \n",
    "coef = lm.coef_\n",
    "print(coef)\n",
    "\n",
    "#----------------------------------#\n",
    "\n",
    "# Conclusion\n",
    "\n",
    "\"\"\"\n",
    "You can see that despite some noise in the plot, we have a decent looking fit here using Humidity9am to predict the dependent variable Humidity3pm with a linear model. Furthermore, take another look at our coefficient. This means that for every 1 unit of humidity in the morning, we can expect about 0.80 units of humidity in the afternoon. More practically, this information tells us that humidity drops about 20% from morning to afternoon!\n",
    "\"\"\""
   ]
  },
  {
   "cell_type": "code",
   "execution_count": 20,
   "metadata": {},
   "outputs": [],
   "source": [
    "from sklearn.model_selection import train_test_split as tts\n",
    "from sklearn.preprocessing import normalize\n",
    "weather = pd.read_csv(path_data+'weather_full.csv').iloc[:,1:]\n",
    "\n",
    "X_train, X_test, y_train, y_test = tts(weather.iloc[:,6:8], weather.iloc[:,-1], test_size=0.25)\n",
    "\n",
    "X_train = normalize(X_train, norm='l1')\n",
    "X_test = normalize(X_test, norm='l1')"
   ]
  },
  {
   "cell_type": "code",
   "execution_count": 21,
   "metadata": {
    "tags": []
   },
   "outputs": [
    {
     "name": "stdout",
     "output_type": "stream",
     "text": [
      "0.8125\n",
      "[[-1.91231645  1.91237935]]\n"
     ]
    },
    {
     "data": {
      "text/plain": [
       "'\\nSince our features were normalized beforehand, we can look at the magnitude of our coefficients to tell us the importance of each independent variable. Here you can see the the second variable, Humidity3pm was much more important to our outcome than humidity from that morning. This is intuitive since we are trying to predict the rain for tomorrow!\\n'"
      ]
     },
     "execution_count": 21,
     "metadata": {},
     "output_type": "execute_result"
    }
   ],
   "source": [
    "# exercise 02\n",
    "\n",
    "\"\"\"\n",
    "Logistic regression\n",
    "\n",
    "Let's move on to logistic regression. You'll be working with the same weather dataset again, but the goal here is to predict if it's going to rain tomorrow. We've gone ahead and created your train and test sets for you. Your dependent variables are the Humidity9am and Humidity3pm features.\n",
    "\n",
    "It's also worth noting that the dataset has already been normalized in order to ensure that we can interpret the coefficients later on. This is always good to bring up during your interview when talking about regression for inference.\n",
    "(https://en.wikipedia.org/wiki/Normalization_(statistics))\n",
    "\"\"\"\n",
    "\n",
    "# Instructions\n",
    "\n",
    "\"\"\"\n",
    "\n",
    "    Create and fit your logistic regression model using the X_train and y_train variables.\n",
    "---\n",
    "\n",
    "    Print the accuracy of your model using the score() function.\n",
    "---\n",
    "\n",
    "    Let's take a look at the coefficients of our model; what does this tell you?\n",
    "\n",
    "\"\"\"\n",
    "\n",
    "# solution\n",
    "\n",
    "from sklearn.linear_model import LogisticRegression\n",
    "\n",
    "# Create and fit your model\n",
    "clf = LogisticRegression()\n",
    "clf.fit(X_train, y_train)\n",
    "\n",
    "# Compute and print the accuracy\n",
    "acc = clf.score(X_test, y_test)\n",
    "print(acc)\n",
    "\n",
    "# Assign and print the coefficents\n",
    "coefs = clf.coef_\n",
    "print(coefs)\n",
    "\n",
    "#----------------------------------#\n",
    "\n",
    "# Conclusion\n",
    "\n",
    "\"\"\"\n",
    "Since our features were normalized beforehand, we can look at the magnitude of our coefficients to tell us the importance of each independent variable. Here you can see the the second variable, Humidity3pm was much more important to our outcome than humidity from that morning. This is intuitive since we are trying to predict the rain for tomorrow!\n",
    "\"\"\""
   ]
  },
  {
   "cell_type": "code",
   "execution_count": 22,
   "metadata": {
    "tags": []
   },
   "outputs": [
    {
     "name": "stdout",
     "output_type": "stream",
     "text": [
      "0.4466200635307638\n",
      "226.12721831681654\n",
      "11.522404665934568\n"
     ]
    },
    {
     "data": {
      "text/plain": [
       "\"\\nGood job! Note that our R-squared value tells us the percentage of the variance of y that X is responsible for. Which error metric would you recommend for this dataset? If you remember from when you plotted your model fit, there aren't too many outliers, so mean squared error would be a good choice to go with! When interviewing, make sure you have sound reasoning to back up your choice on questions like this.\\n\""
      ]
     },
     "execution_count": 22,
     "metadata": {},
     "output_type": "execute_result"
    }
   ],
   "source": [
    "# exercise 03\n",
    "\n",
    "\"\"\"\n",
    "Regression evaluation\n",
    "\n",
    "Let's revisit the linear regression model that you created with LinearRegression() and then trained with the fit() function a few exercises ago. Evaluate the performance your model, imported here as lm for you to call.\n",
    "\n",
    "The weather data has been imported for you with the X and y variables as well, just like before. Let's get to calculating the R-squared, mean squared error, and mean absolute error values for the model.\n",
    "\"\"\"\n",
    "\n",
    "# Instructions\n",
    "\n",
    "\"\"\"\n",
    "Compute and print the R-squared score of our model using the score() function.\n",
    "---\n",
    "Compute and print mean squared error using the mean_squared_error() function.\n",
    "---\n",
    "Adapt your code to compute and print the mean absolute error this time using the mean_absolute_error() function.\n",
    "\"\"\"\n",
    "\n",
    "# solution\n",
    "\n",
    "# R-squared score\n",
    "r2 = lm.score(X, y)\n",
    "print(r2)\n",
    "\n",
    "#----------------------------------#\n",
    "\n",
    "# Mean squared error\n",
    "from sklearn.metrics import mean_squared_error\n",
    "preds = lm.predict(X)\n",
    "mse = mean_squared_error(y, preds)\n",
    "print(mse)\n",
    "\n",
    "#----------------------------------#\n",
    "\n",
    "# Mean absolute error\n",
    "from sklearn.metrics import mean_absolute_error\n",
    "preds = lm.predict(X)\n",
    "mae = mean_absolute_error(y, preds)\n",
    "print(mae)\n",
    "\n",
    "#----------------------------------#\n",
    "\n",
    "# Conclusion\n",
    "\n",
    "\"\"\"\n",
    "Good job! Note that our R-squared value tells us the percentage of the variance of y that X is responsible for. Which error metric would you recommend for this dataset? If you remember from when you plotted your model fit, there aren't too many outliers, so mean squared error would be a good choice to go with! When interviewing, make sure you have sound reasoning to back up your choice on questions like this.\n",
    "\"\"\""
   ]
  },
  {
   "cell_type": "code",
   "execution_count": 23,
   "metadata": {
    "tags": []
   },
   "outputs": [
    {
     "name": "stdout",
     "output_type": "stream",
     "text": [
      "[[195   0]\n",
      " [ 45   0]]\n",
      "0.0\n",
      "0.0\n"
     ]
    },
    {
     "name": "stderr",
     "output_type": "stream",
     "text": [
      "/home/nero/Documents/Estudos/estudos/lib/python3.11/site-packages/sklearn/metrics/_classification.py:1471: UndefinedMetricWarning: Precision is ill-defined and being set to 0.0 due to no predicted samples. Use `zero_division` parameter to control this behavior.\n",
      "  _warn_prf(average, modifier, msg_start, len(result))\n"
     ]
    },
    {
     "data": {
      "text/plain": [
       "\"\\nGood work! You can see here that the precision of our rain prediction model was quite high, meaning that we didn't make too many Type I errors. However, there were plenty of Type II errors shown in the bottom-left quadrant of the confusion matrix. This is indicated further by the low recall score, meaning that there were plenty of rainy days that we missed out on. Think a little about the context and what method you would choose to optimize for!\\n\""
      ]
     },
     "execution_count": 23,
     "metadata": {},
     "output_type": "execute_result"
    }
   ],
   "source": [
    "# exercise 04\n",
    "\n",
    "\"\"\"\n",
    "Classification evaluation\n",
    "\n",
    "Moving forward with evaluation metrics, this time you'll evaluate our logistic regression model from before with the goal of predicting the binary RainTomorrow feature using humidity.\n",
    "\n",
    "We have gone ahead and imported the model as clf and the same test sets assigned to the X_test and y_test variables. Generate and analyze the confusion matrix and then compute both precision and recall before making a conclusion.\n",
    "\"\"\"\n",
    "\n",
    "# Instructions\n",
    "\n",
    "\"\"\"\n",
    "Generate and print out the confusion matrix for your model; identify the Type I and Type II errors.\n",
    "---\n",
    "Compute and print the precision of your model; can you explain why precision is helpful in this context?\n",
    "---\n",
    "Adapt your code to compute and print the recall of your model; what do you conclude?\n",
    "\"\"\"\n",
    "\n",
    "# solution\n",
    "\n",
    "# Generate and output the confusion matrix\n",
    "from sklearn.metrics import confusion_matrix\n",
    "preds = clf.predict(X_test)\n",
    "matrix = confusion_matrix(y_test, preds)\n",
    "print(matrix)\n",
    "\n",
    "#----------------------------------#\n",
    "\n",
    "# Compute and print the precision\n",
    "from sklearn.metrics import precision_score\n",
    "preds = clf.predict(X_test)\n",
    "precision = precision_score(y_test, preds)\n",
    "print(precision)\n",
    "\n",
    "#----------------------------------#\n",
    "\n",
    "# Compute and print the recall\n",
    "from sklearn.metrics import recall_score\n",
    "preds = clf.predict(X_test)\n",
    "recall = recall_score(y_test, preds)\n",
    "print(recall)\n",
    "\n",
    "#----------------------------------#\n",
    "\n",
    "# Conclusion\n",
    "\n",
    "\"\"\"\n",
    "Good work! You can see here that the precision of our rain prediction model was quite high, meaning that we didn't make too many Type I errors. However, there were plenty of Type II errors shown in the bottom-left quadrant of the confusion matrix. This is indicated further by the low recall score, meaning that there were plenty of rainy days that we missed out on. Think a little about the context and what method you would choose to optimize for!\n",
    "\"\"\""
   ]
  },
  {
   "cell_type": "code",
   "execution_count": 32,
   "metadata": {
    "tags": []
   },
   "outputs": [
    {
     "name": "stdout",
     "output_type": "stream",
     "text": [
      "     Price\n",
      "1      NaN\n",
      "2      NaN\n",
      "5      NaN\n",
      "10     NaN\n",
      "86     NaN\n",
      "115    NaN\n",
      "165    NaN\n",
      "207    NaN\n",
      "   Price\n",
      "0  400.0\n",
      "1    0.0\n",
      "2    0.0\n",
      "3  191.9\n",
      "4  199.0\n",
      "   Price\n",
      "0  400.0\n",
      "1  812.0\n",
      "2  812.0\n",
      "3  191.9\n",
      "4  199.0\n",
      "    Price\n",
      "0  400.00\n",
      "3  191.90\n",
      "4  199.00\n",
      "6  389.00\n",
      "7  522.99\n"
     ]
    },
    {
     "data": {
      "text/plain": [
       "\"\\nNice job! Notice that the observations at index 1 and 2 are gone now. The technique that you decide on should be entirely dependent on the context of the situation. Interviewers may be curious as to how you think about this problem, as it comes up often on the job. Are you quick to throw away information or are you more inclined to patch up any null values? There's usually no one right answer, but be sure to explain your thought process!\\n\""
      ]
     },
     "execution_count": 32,
     "metadata": {},
     "output_type": "execute_result"
    }
   ],
   "source": [
    "# exercise 05\n",
    "\n",
    "\"\"\"\n",
    "Handling null values\n",
    "\n",
    "Let's practice handling null values with our laptops dataset that we worked with previously. You will identify rows with null values, and then try out several techniques to address this problem.\n",
    "\n",
    "Remember that the laptops data and the pandas package have been imported for you already.\n",
    "\"\"\"\n",
    "\n",
    "# Instructions\n",
    "\n",
    "\"\"\"\n",
    "Identify and print the rows with null values by slicing your DataFrame with the isnull() function.\n",
    "---\n",
    "Impute 0 for missing prices using the fillna() function; print the DataFrame head and note index 1 and 2 were null.\n",
    "---\n",
    "Adapt your code to impute the median price instead; once again print the first five rows to confirm.\n",
    "---\n",
    "Drop all the rows with null values using the dropna() function; make sure you pass inplace=True as a parameter.\n",
    "\"\"\"\n",
    "\n",
    "# solution\n",
    "\n",
    "# Identify and print the the rows with null values\n",
    "laptops = pd.read_csv(path_data+'laptops_na.csv', usecols=[3])\n",
    "nulls = laptops[laptops.isnull().any(axis=1)]\n",
    "print(nulls)\n",
    "\n",
    "#----------------------------------#\n",
    "\n",
    "# Impute constant value 0 and print the head\n",
    "laptops = pd.read_csv(path_data+'laptops_na.csv', usecols=[3])\n",
    "laptops.fillna(0, inplace=True)\n",
    "print(laptops.head())\n",
    "\n",
    "#----------------------------------#\n",
    "\n",
    "# Impute median price and print the head\n",
    "laptops = pd.read_csv(path_data+'laptops_na.csv', usecols=[3])\n",
    "laptops.fillna(laptops.median(), inplace=True)\n",
    "print(laptops.head())\n",
    "\n",
    "#----------------------------------#\n",
    "\n",
    "# Drop each row with a null value and print the head\n",
    "laptops = pd.read_csv(path_data+'laptops_na.csv', usecols=[3])\n",
    "laptops.dropna(inplace=True)\n",
    "print(laptops.head())\n",
    "\n",
    "#----------------------------------#\n",
    "\n",
    "# Conclusion\n",
    "\n",
    "\"\"\"\n",
    "Nice job! Notice that the observations at index 1 and 2 are gone now. The technique that you decide on should be entirely dependent on the context of the situation. Interviewers may be curious as to how you think about this problem, as it comes up often on the job. Are you quick to throw away information or are you more inclined to patch up any null values? There's usually no one right answer, but be sure to explain your thought process!\n",
    "\"\"\""
   ]
  },
  {
   "cell_type": "code",
   "execution_count": 33,
   "metadata": {
    "tags": []
   },
   "outputs": [
    {
     "name": "stdout",
     "output_type": "stream",
     "text": [
      "-1653.739411931298 to 3653.2920365160157\n",
      "    Company             Product    Price\n",
      "65     Asus   ROG G703VI-E5062T   3890.0\n",
      "224    Asus  Rog GL753VD-GC082T  11369.9\n",
      "262    Asus          ROG G701VO   3975.0\n"
     ]
    },
    {
     "data": {
      "text/plain": [
       "\"\\nGood job! In this scenario, dropping the outliers was likely the right move since the values were unthinkable for laptops prices. This implies that there was some mistake in data entry or data collection. With that being said, this won't always be the best path forward. It's important to understand why you got the outliers that you did and if they provide valuable information before you throw them out.\\n\""
      ]
     },
     "execution_count": 33,
     "metadata": {},
     "output_type": "execute_result"
    }
   ],
   "source": [
    "# exercise 06\n",
    "\n",
    "\"\"\"\n",
    "Identifying outliers\n",
    "\n",
    "Let's keep at it with our laptops dataset and tackle some outliers hiding away. In this exercise, we'll stick to the first technique we discussed in the slides using standard deviations to identify extreme values, since this method is more common in practice.\n",
    "\n",
    "You'll compute the descriptive statistics and outlier boundaries, and then identify the rows with them before dropping them from the dataset. You'll be working primarily with the Price column here.\n",
    "\"\"\"\n",
    "\n",
    "# Instructions\n",
    "\n",
    "\"\"\"\n",
    "\n",
    "    Calculate the mean and standard deviation of the Price column.\n",
    "---\n",
    "\n",
    "    Compute and print the upper and lower boundaries for acceptable values.\n",
    "---\n",
    "\n",
    "    Identify the rows with outliers; print outliers when you have it.\n",
    "---\n",
    "\n",
    "    Drop the rows from our DataFrame; would you recommend this?\n",
    "\n",
    "\"\"\"\n",
    "\n",
    "# solution\n",
    "laptops = pd.read_csv(path_data+'laptops_na.csv', usecols=[1,2,3])\n",
    "# Calculate the mean and std\n",
    "mean, std = laptops['Price'].mean(), laptops['Price'].std()\n",
    "\n",
    "# Compute and print the upper and lower threshold\n",
    "cut_off = 3 * std\n",
    "lower, upper = mean - cut_off, mean + cut_off\n",
    "print(lower, 'to', upper)\n",
    "\n",
    "# Identify and print rows with outliers\n",
    "outliers = laptops[(laptops['Price'] > upper) | \n",
    "                   (laptops['Price'] < lower)]\n",
    "print(outliers)\n",
    "\n",
    "# Drop the rows from the dataset\n",
    "laptops = laptops[(laptops['Price'] <= upper) | \n",
    "                  (laptops['Price'] >= lower)]\n",
    "\n",
    "#----------------------------------#\n",
    "\n",
    "# Conclusion\n",
    "\n",
    "\"\"\"\n",
    "Good job! In this scenario, dropping the outliers was likely the right move since the values were unthinkable for laptops prices. This implies that there was some mistake in data entry or data collection. With that being said, this won't always be the best path forward. It's important to understand why you got the outliers that you did and if they provide valuable information before you throw them out.\n",
    "\"\"\""
   ]
  },
  {
   "cell_type": "markdown",
   "metadata": {},
   "source": [
    "# Test and training error\n",
    "\n",
    "In terms of the bias-variance tradeoff, which of the following is substantially more harmful to the test error than the training error?\n",
    "\n",
    "### Possible Answers\n",
    "\n",
    "\n",
    "    Bias\n",
    "    \n",
    "    \n",
    "    Variance {Answer}\n",
    "    \n",
    "    \n",
    "    Loss\n",
    "    \n",
    "    \n",
    "    Cost\n",
    "    \n",
    "**Correct! High variance results in overfitting to your training set. You'll see strong performance at first, until you apply your model to your test set, where it will fail to generalize and likely struggle.**"
   ]
  },
  {
   "cell_type": "code",
   "execution_count": 36,
   "metadata": {},
   "outputs": [],
   "source": [
    "preds2 = np.array([15.53525167, 15.53534977, 15.55148697, 15.72947344, 15.82907861,17.73832012, 19.20364572, 21.4816421 , 22.37381179, 24.95534003,\n",
    "       28.91800842, 28.68313221, 28.2327866 , 26.5900021 , 27.16358955,\n",
    "       31.52913078, 28.14037689, 22.11067535, 29.29889768])\n",
    "\n",
    "X = np.array([ 8.6, 14.2, 15.1, 17.5, 16.2,  5.8, 20.3,  2.5, 15.4, 22.2, 30.4,\n",
    "       11. , 21.7, 25.5, 13.4, 25.2, 10.6, 26.7, 20.5])\n",
    "\n",
    "y = np.array([11.5, 17. , 22.5, 24.3, 27.4, 18.8, 32. ,  8.6, 30.9, 30.7, 29.3,\n",
    "       17.8, 25.6, 33.9, 19.2, 25.3, 15. , 21.7, 23.1])\n",
    "\n",
    "preds = np.array([12.45724842, 14.82960776, 16.8425187 , 18.28031224, 18.56787094,\n",
    "       20.29322318, 20.8683406 , 21.51534769, 21.73101672, 22.30613413,\n",
    "       23.24069993, 25.25361088, 25.39739023, 26.26006635, 26.61951473,\n",
    "       28.77620503, 28.99187406, 29.85455018, 32.51446822])"
   ]
  },
  {
   "cell_type": "code",
   "execution_count": 37,
   "metadata": {
    "tags": []
   },
   "outputs": [
    {
     "data": {
      "image/png": "[encoded data removed]",
      "text/plain": [
       "<Figure size 640x480 with 1 Axes>"
      ]
     },
     "metadata": {},
     "output_type": "display_data"
    },
    {
     "data": {
      "text/plain": [
       "\"\\nGreat job! This plot does an excellent job of showing both high-bias and high-variance models. Your original simple linear regression fit (the straight blue line) has higher bias, while the higher-order polynomial model is much more flexible to new observations and therefore has higher variance. In most cases, you'll find that the best result comes somewhere in between these examples - hence the tradeoff!\\n\""
      ]
     },
     "execution_count": 37,
     "metadata": {},
     "output_type": "execute_result"
    }
   ],
   "source": [
    "# exercise 07\n",
    "\n",
    "\"\"\"\n",
    "Visualizing the tradeoff\n",
    "\n",
    "We know that the bias-variance tradeoff serves as the basis for dealing with issues like overfitting and underfitting in machine learning.\n",
    "\n",
    "In this final exercise, you'll revisit our weather dataset one last time by visualizing the difference between high bias and high variance models using the already imported preds and preds2 variables.\n",
    "\n",
    "As a reminder, we are using the Temp9am feature to predict our dependent variable, the Temp3pm feature. The usual packages have been imported.\n",
    "\"\"\"\n",
    "\n",
    "# Instructions\n",
    "\n",
    "\"\"\"\n",
    "\n",
    "    Visualize the relationship between the imported X and y variables using the scatter() function.\n",
    "---\n",
    "\n",
    "    Add the simple linear regression predictions saved as preds to your scatter plot; this is the model you created earlier in the chapter.\n",
    "---\n",
    "\n",
    "    Similarly, add the higher-complexity predictions saved as preds2 to your scatter plot; observe the difference between the two fits.\n",
    "\n",
    "\"\"\"\n",
    "\n",
    "# solution\n",
    "\n",
    "# Use X and y to create a scatterplot\n",
    "plt.scatter(X, y)\n",
    "\n",
    "# Add your model predictions to the scatter plot \n",
    "plt.plot(np.sort(X), preds)\n",
    "\n",
    "# Add the higher-complexity model predictions as well\n",
    "plt.plot(np.sort(X), preds2)\n",
    "plt.show()\n",
    "\n",
    "#----------------------------------#\n",
    "\n",
    "# Conclusion\n",
    "\n",
    "\"\"\"\n",
    "Great job! This plot does an excellent job of showing both high-bias and high-variance models. Your original simple linear regression fit (the straight blue line) has higher bias, while the higher-order polynomial model is much more flexible to new observations and therefore has higher variance. In most cases, you'll find that the best result comes somewhere in between these examples - hence the tradeoff!\n",
    "\"\"\""
   ]
  }
 ],
 "metadata": {
  "kernelspec": {
   "display_name": "Python 3 (ipykernel)",
   "language": "python",
   "name": "python3"
  },
  "language_info": {
   "codemirror_mode": {
    "name": "ipython",
    "version": 3
   },
   "file_extension": ".py",
   "mimetype": "text/x-python",
   "name": "python",
   "nbconvert_exporter": "python",
   "pygments_lexer": "ipython3",
   "version": "3.11.8"
  }
 },
 "nbformat": 4,
 "nbformat_minor": 4
}
