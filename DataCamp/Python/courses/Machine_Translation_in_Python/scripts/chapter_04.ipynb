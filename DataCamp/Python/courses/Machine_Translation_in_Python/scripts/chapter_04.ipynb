{
 "cells": [
  {
   "cell_type": "code",
   "execution_count": 1,
   "metadata": {
    "tags": []
   },
   "outputs": [],
   "source": [
    "# run this to shorten the data import from the files\n",
    "path_data = '/home/nero/Documents/Estudos/DataCamp/Python/courses/Machine_Translation_in_Python/datasets/'\n",
    "\n",
    "with open(path_data + 'vocab_en.txt', 'r') as en:\n",
    "    en_text = en.read().split(\"\\n\")[:150]\n",
    "    en.close\n",
    "\n",
    "with open(path_data + 'vocab_fr.txt', 'r') as fr:\n",
    "    fr_text = fr.read().split(\"\\n\")[:150]\n",
    "    fr.close"
   ]
  },
  {
   "cell_type": "code",
   "execution_count": 35,
   "metadata": {},
   "outputs": [
    {
     "name": "stderr",
     "output_type": "stream",
     "text": [
      "2023-08-01 15:41:27.216306: I tensorflow/core/common_runtime/executor.cc:1197] [/device:CPU:0] (DEBUG INFO) Executor start aborting (this does not indicate an error and you can ignore this message): INVALID_ARGUMENT: You must feed a value for placeholder tensor 'gradients/split_2_grad/concat/split_2/split_dim' with dtype int32\n",
      "\t [[{{node gradients/split_2_grad/concat/split_2/split_dim}}]]\n",
      "2023-08-01 15:41:27.220381: I tensorflow/core/common_runtime/executor.cc:1197] [/device:CPU:0] (DEBUG INFO) Executor start aborting (this does not indicate an error and you can ignore this message): INVALID_ARGUMENT: You must feed a value for placeholder tensor 'gradients/split_grad/concat/split/split_dim' with dtype int32\n",
      "\t [[{{node gradients/split_grad/concat/split/split_dim}}]]\n",
      "2023-08-01 15:41:27.223798: I tensorflow/core/common_runtime/executor.cc:1197] [/device:CPU:0] (DEBUG INFO) Executor start aborting (this does not indicate an error and you can ignore this message): INVALID_ARGUMENT: You must feed a value for placeholder tensor 'gradients/split_1_grad/concat/split_1/split_dim' with dtype int32\n",
      "\t [[{{node gradients/split_1_grad/concat/split_1/split_dim}}]]\n",
      "2023-08-01 15:41:27.977374: I tensorflow/core/common_runtime/executor.cc:1197] [/device:CPU:0] (DEBUG INFO) Executor start aborting (this does not indicate an error and you can ignore this message): INVALID_ARGUMENT: You must feed a value for placeholder tensor 'gradients/split_2_grad/concat/split_2/split_dim' with dtype int32\n",
      "\t [[{{node gradients/split_2_grad/concat/split_2/split_dim}}]]\n",
      "2023-08-01 15:41:27.981925: I tensorflow/core/common_runtime/executor.cc:1197] [/device:CPU:0] (DEBUG INFO) Executor start aborting (this does not indicate an error and you can ignore this message): INVALID_ARGUMENT: You must feed a value for placeholder tensor 'gradients/split_grad/concat/split/split_dim' with dtype int32\n",
      "\t [[{{node gradients/split_grad/concat/split/split_dim}}]]\n",
      "2023-08-01 15:41:27.985373: I tensorflow/core/common_runtime/executor.cc:1197] [/device:CPU:0] (DEBUG INFO) Executor start aborting (this does not indicate an error and you can ignore this message): INVALID_ARGUMENT: You must feed a value for placeholder tensor 'gradients/split_1_grad/concat/split_1/split_dim' with dtype int32\n",
      "\t [[{{node gradients/split_1_grad/concat/split_1/split_dim}}]]\n"
     ]
    },
    {
     "data": {
      "text/plain": [
       "'\\nCongratulations! You defined all the Keras layers of a machine translation model, that will be trained using Teacher Forcing. Next you will create and compile the model.\\n'"
      ]
     },
     "execution_count": 35,
     "metadata": {},
     "output_type": "execute_result"
    }
   ],
   "source": [
    "# exercise 01\n",
    "\n",
    "\"\"\"\n",
    "Defining the Teacher Forcing model layers\n",
    "\n",
    "You will be defining a new-and-improved version of the machine translation model that you defined earlier. Did you know that models like the Google Machine Translator used this Teacher Forcing technique to train their model?\n",
    "\n",
    "As you have already seen, your previous model needs to change slightly to adopt Teacher Forcing. In this exercise, you will make the necessary changes to the previous model. You have been provided with the language parameters en_len and fr_len (length of a padded English/French sentences), en_vocab and fr_vocab (Vocabulary size of English/French datasets) and hsize (the hidden layer size of the GRU layers). Remember that the decoder will accept a French sequence with one item less than fr_len. Remember that we use the prefix en to refer to encoder related things and de for decoder related things.\n",
    "\"\"\"\n",
    "\n",
    "# Instructions\n",
    "\n",
    "\"\"\"\n",
    "\n",
    "    Import the layers submodule from tensorflow.keras.\n",
    "    Get the encoder output and state values and assign them to en_out and en_state respectively.\n",
    "    Define a decoder Input layer which accepts a fr_len-1 long sequence of onehot encoded French words.\n",
    "    Define a TimeDistributed Dense softmax layer with fr_vocab nodes.\n",
    "\n",
    "\"\"\"\n",
    "en_len = 20\n",
    "en_vocab = 200\n",
    "fr_len = 20\n",
    "fr_vocab = 250\n",
    "hsize = 64\n",
    "# solution\n",
    "\n",
    "# Import the layers submodule from keras\n",
    "import tensorflow.keras.layers as layers\n",
    "\n",
    "en_inputs = layers.Input(shape=(en_len, en_vocab))\n",
    "en_gru = layers.GRU(hsize, return_state=True)\n",
    "# Get the encoder output and state\n",
    "en_out, en_state = en_gru(en_inputs)\n",
    "\n",
    "# Define the decoder input layer\n",
    "de_inputs = layers.Input(shape=(fr_len-1, fr_vocab))\n",
    "de_gru = layers.GRU(hsize, return_sequences=True)\n",
    "de_out = de_gru(de_inputs, initial_state=en_state)\n",
    "# Define a TimeDistributed Dense softmax layer with fr_vocab nodes\n",
    "de_dense = layers.TimeDistributed(layers.Dense(fr_vocab, activation='softmax'))\n",
    "de_pred = de_dense(de_out)\n",
    "\n",
    "#----------------------------------#\n",
    "\n",
    "# Conclusion\n",
    "\n",
    "\"\"\"\n",
    "Congratulations! You defined all the Keras layers of a machine translation model, that will be trained using Teacher Forcing. Next you will create and compile the model.\n",
    "\"\"\""
   ]
  },
  {
   "cell_type": "code",
   "execution_count": 36,
   "metadata": {
    "tags": []
   },
   "outputs": [
    {
     "name": "stdout",
     "output_type": "stream",
     "text": [
      "Model: \"model_3\"\n",
      "__________________________________________________________________________________________________\n",
      " Layer (type)                   Output Shape         Param #     Connected to                     \n",
      "==================================================================================================\n",
      " input_10 (InputLayer)          [(None, 20, 200)]    0           []                               \n",
      "                                                                                                  \n",
      " input_11 (InputLayer)          [(None, 19, 250)]    0           []                               \n",
      "                                                                                                  \n",
      " gru_8 (GRU)                    [(None, 64),         51072       ['input_10[0][0]']               \n",
      "                                 (None, 64)]                                                      \n",
      "                                                                                                  \n",
      " gru_9 (GRU)                    (None, 19, 64)       60672       ['input_11[0][0]',               \n",
      "                                                                  'gru_8[0][1]']                  \n",
      "                                                                                                  \n",
      " time_distributed_4 (TimeDistri  (None, 19, 250)     16250       ['gru_9[0][0]']                  \n",
      " buted)                                                                                           \n",
      "                                                                                                  \n",
      "==================================================================================================\n",
      "Total params: 127,994\n",
      "Trainable params: 127,994\n",
      "Non-trainable params: 0\n",
      "__________________________________________________________________________________________________\n"
     ]
    },
    {
     "data": {
      "text/plain": [
       "'\\nNice work! Keras is great because it allows you to define complex models that accepts multiple inputs and multiple outputs. Next step is to use this model and train it using Teacher Forcing.\\n'"
      ]
     },
     "execution_count": 36,
     "metadata": {},
     "output_type": "execute_result"
    }
   ],
   "source": [
    "# exercise 02\n",
    "\n",
    "\"\"\"\n",
    "Defining the Teacher Forcing model\n",
    "\n",
    "With all the layers created, the next step would be to define a Keras Model object. This model is slightly different to the one that you defined earlier, as the new model has two input layers.\n",
    "\n",
    "You have been provided with the Keras layers that you implemented in the last exercise including en_inputs, en_gru, de_inputs, de_gru and de_pred.\n",
    "\"\"\"\n",
    "\n",
    "# Instructions\n",
    "\n",
    "\"\"\"\n",
    "\n",
    "    Import Keras Model object from the models submodule.\n",
    "    Define a model that takes the encoder input layer and decoder input layer as inputs (in that order) and outputs the final prediction.\n",
    "    Compile the model using the optimizer adam and the loss function categorical_crossentropy.\n",
    "    Print the summary of the model.\n",
    "\n",
    "\"\"\"\n",
    "\n",
    "# solution\n",
    "\n",
    "# Import the Keras Model object\n",
    "from tensorflow.keras.models import Model\n",
    "\n",
    "# Define a model\n",
    "nmt_tf = Model(inputs=[en_inputs, de_inputs], outputs=de_pred)\n",
    "# Compile the model with optimizer and loss\n",
    "nmt_tf.compile(optimizer='adam', loss='categorical_crossentropy', metrics=[\"acc\"])\n",
    "# Print the summary of the model\n",
    "nmt_tf.summary()\n",
    "\n",
    "#----------------------------------#\n",
    "\n",
    "# Conclusion\n",
    "\n",
    "\"\"\"\n",
    "Nice work! Keras is great because it allows you to define complex models that accepts multiple inputs and multiple outputs. Next step is to use this model and train it using Teacher Forcing.\n",
    "\"\"\""
   ]
  },
  {
   "cell_type": "code",
   "execution_count": 7,
   "metadata": {},
   "outputs": [],
   "source": [
    "def sents2seqs(input_type, sentences, onehot=False, pad_type='post', reverse=False):\n",
    "    assert input_type in [\"source\", \"target\"]\n",
    "    if input_type == 'source':\n",
    "      tokenizer = en_tok\n",
    "      pad_length = en_len\n",
    "      vocab_size = en_vocab\n",
    "    elif input_type == 'target':\n",
    "      tokenizer = fr_tok\n",
    "      pad_length = fr_len\n",
    "      vocab_size = fr_vocab\n",
    "    \n",
    "    encoded_text = tokenizer.texts_to_sequences(sentences)\n",
    "    preproc_text = pad_sequences(encoded_text, padding=pad_type, truncating='post', maxlen=en_len)\n",
    "    if reverse:\n",
    "      preproc_text = preproc_text[:,::-1]\n",
    "      \n",
    "    if onehot:\n",
    "        assert vocab_size is not None, \"Cannot do to_categorical without num_classes for safety\"\n",
    "        preproc_text = to_categorical(preproc_text, num_classes=vocab_size)\n",
    "    return preproc_text"
   ]
  },
  {
   "cell_type": "code",
   "execution_count": 16,
   "metadata": {},
   "outputs": [],
   "source": [
    "import numpy as np\n",
    "\n",
    "from keras.preprocessing.text import Tokenizer\n",
    "from tensorflow.keras.preprocessing.sequence import pad_sequences\n",
    "from keras.utils import to_categorical\n",
    "\n",
    "# Define a Keras Tokenizer\n",
    "en_tok = Tokenizer()\n",
    "fr_tok = Tokenizer()\n",
    "\n",
    "# Fit the tokenizer on some text\n",
    "en_tok.fit_on_texts(en_text)\n",
    "fr_tok.fit_on_texts(fr_text)"
   ]
  },
  {
   "cell_type": "code",
   "execution_count": 17,
   "metadata": {
    "tags": []
   },
   "outputs": [
    {
     "name": "stdout",
     "output_type": "stream",
     "text": [
      "Data from  0  to  250\n",
      "\tnp.argmax() => en_x[0]:  [ 0  0  0  0  0  0  0 36  4 35  1  3  5 20  2 34 10  1 33 29]\n",
      "\tnp.argmax() => de_x[0]:  [ 37  38   1  11  54  26  12  27   5   3   1 105   2  39   0   0   0   0\n",
      "   0]\n",
      "\tnp.argmax() => de_y[0]:  [ 38   1  11  54  26  12  27   5   3   1 105   2  39   0   0   0   0   0\n",
      "   0]\n"
     ]
    },
    {
     "data": {
      "text/plain": [
       "\"\\nGood job! Now you know how to compose training data for the new model. You can see that array slicing is a handy concept to know as it is used heavily for creating data. Let's now move on to learn how you can train the model.\\n\""
      ]
     },
     "execution_count": 17,
     "metadata": {},
     "output_type": "execute_result"
    }
   ],
   "source": [
    "# exercise 03\n",
    "\n",
    "\"\"\"\n",
    "Preprocessing data\n",
    "\n",
    "You now need to process the data for our new model which has two inputs and a single output. The two inputs are, the one-hot encoded English words and one-hot encoded French words excluding the last word.\n",
    "\n",
    "The output would be the one-hot encoded French words excluding the first word. In other words, in the decoder, each input French word has an output, which is the next word. Here you will learn how to implement that.\n",
    "\n",
    "You have been provided with the sents2seqs() function, en_text and fr_text.\n",
    "\"\"\"\n",
    "\n",
    "# Instructions\n",
    "\n",
    "\"\"\"\n",
    "\n",
    "    Obtain a batch of encoder inputs (from i to i+bsize) using the sents2seqs() function (onehot encoded and reversed).\n",
    "    Obtain a batch of decoder inputs and outputs (from i to i+bsize) using the sents2seqs() function (onehot encoded).\n",
    "    Separate the decoder inputs (all French words except the last) from de_xy by slicing on the time dimension.\n",
    "    Separate the decoder outputs (all French words except the first) from de_xy.\n",
    "\n",
    "\"\"\"\n",
    "\n",
    "# solution\n",
    "\n",
    "bsize = 250\n",
    "for i in range(0, len(en_text), bsize):\n",
    "  # Get the encoder inputs using the sents2seqs() function\n",
    "  en_x = sents2seqs('source', en_text[i:i+bsize], onehot=True, reverse=True)\n",
    "  # Get the decoder inputs/outputs using the sents2seqs() function\n",
    "  de_xy = sents2seqs('target', fr_text[i:i+bsize], onehot=True)\n",
    "  # Separate the decoder inputs from de_xy\n",
    "  de_x = de_xy[:,:-1,:]\n",
    "  # Separate the decoder outputs from de_xy\n",
    "  de_y = de_xy[:,1:,:]\n",
    "  \n",
    "  print(\"Data from \", i, \" to \", i+bsize)\n",
    "  print(\"\\tnp.argmax() => en_x[0]: \", np.argmax(en_x[0], axis=-1))\n",
    "  print(\"\\tnp.argmax() => de_x[0]: \", np.argmax(de_x[0], axis=-1))\n",
    "  print(\"\\tnp.argmax() => de_y[0]: \", np.argmax(de_y[0], axis=-1))\n",
    "\n",
    "#----------------------------------#\n",
    "\n",
    "# Conclusion\n",
    "\n",
    "\"\"\"\n",
    "Good job! Now you know how to compose training data for the new model. You can see that array slicing is a handy concept to know as it is used heavily for creating data. Let's now move on to learn how you can train the model.\n",
    "\"\"\""
   ]
  },
  {
   "cell_type": "code",
   "execution_count": 23,
   "metadata": {},
   "outputs": [],
   "source": [
    "with open(path_data + 'vocab_en.txt', 'r') as en:\n",
    "    en_text = en.read().split(\"\\n\")[:1500]\n",
    "    en.close\n",
    "\n",
    "with open(path_data + 'vocab_fr.txt', 'r') as fr:\n",
    "    fr_text = fr.read().split(\"\\n\")[:1500]\n",
    "    fr.close"
   ]
  },
  {
   "cell_type": "code",
   "execution_count": 37,
   "metadata": {
    "tags": []
   },
   "outputs": [
    {
     "name": "stderr",
     "output_type": "stream",
     "text": [
      "2023-08-01 15:41:37.206023: I tensorflow/core/common_runtime/executor.cc:1197] [/device:CPU:0] (DEBUG INFO) Executor start aborting (this does not indicate an error and you can ignore this message): INVALID_ARGUMENT: You must feed a value for placeholder tensor 'Placeholder/_2' with dtype float and shape [250,19,250]\n",
      "\t [[{{node Placeholder/_2}}]]\n",
      "2023-08-01 15:41:37.910217: I tensorflow/core/common_runtime/executor.cc:1197] [/device:CPU:0] (DEBUG INFO) Executor start aborting (this does not indicate an error and you can ignore this message): INVALID_ARGUMENT: You must feed a value for placeholder tensor 'gradients/split_2_grad/concat/split_2/split_dim' with dtype int32\n",
      "\t [[{{node gradients/split_2_grad/concat/split_2/split_dim}}]]\n",
      "2023-08-01 15:41:37.915496: I tensorflow/core/common_runtime/executor.cc:1197] [/device:CPU:0] (DEBUG INFO) Executor start aborting (this does not indicate an error and you can ignore this message): INVALID_ARGUMENT: You must feed a value for placeholder tensor 'gradients/split_grad/concat/split/split_dim' with dtype int32\n",
      "\t [[{{node gradients/split_grad/concat/split/split_dim}}]]\n",
      "2023-08-01 15:41:37.919554: I tensorflow/core/common_runtime/executor.cc:1197] [/device:CPU:0] (DEBUG INFO) Executor start aborting (this does not indicate an error and you can ignore this message): INVALID_ARGUMENT: You must feed a value for placeholder tensor 'gradients/split_1_grad/concat/split_1/split_dim' with dtype int32\n",
      "\t [[{{node gradients/split_1_grad/concat/split_1/split_dim}}]]\n",
      "2023-08-01 15:41:38.626745: I tensorflow/core/common_runtime/executor.cc:1197] [/device:CPU:0] (DEBUG INFO) Executor start aborting (this does not indicate an error and you can ignore this message): INVALID_ARGUMENT: You must feed a value for placeholder tensor 'gradients/split_2_grad/concat/split_2/split_dim' with dtype int32\n",
      "\t [[{{node gradients/split_2_grad/concat/split_2/split_dim}}]]\n",
      "2023-08-01 15:41:38.632910: I tensorflow/core/common_runtime/executor.cc:1197] [/device:CPU:0] (DEBUG INFO) Executor start aborting (this does not indicate an error and you can ignore this message): INVALID_ARGUMENT: You must feed a value for placeholder tensor 'gradients/split_grad/concat/split/split_dim' with dtype int32\n",
      "\t [[{{node gradients/split_grad/concat/split/split_dim}}]]\n",
      "2023-08-01 15:41:38.636691: I tensorflow/core/common_runtime/executor.cc:1197] [/device:CPU:0] (DEBUG INFO) Executor start aborting (this does not indicate an error and you can ignore this message): INVALID_ARGUMENT: You must feed a value for placeholder tensor 'gradients/split_1_grad/concat/split_1/split_dim' with dtype int32\n",
      "\t [[{{node gradients/split_1_grad/concat/split_1/split_dim}}]]\n",
      "2023-08-01 15:41:41.603864: I tensorflow/core/common_runtime/executor.cc:1197] [/device:CPU:0] (DEBUG INFO) Executor start aborting (this does not indicate an error and you can ignore this message): INVALID_ARGUMENT: You must feed a value for placeholder tensor 'gradients/split_2_grad/concat/split_2/split_dim' with dtype int32\n",
      "\t [[{{node gradients/split_2_grad/concat/split_2/split_dim}}]]\n",
      "2023-08-01 15:41:41.609785: I tensorflow/core/common_runtime/executor.cc:1197] [/device:CPU:0] (DEBUG INFO) Executor start aborting (this does not indicate an error and you can ignore this message): INVALID_ARGUMENT: You must feed a value for placeholder tensor 'gradients/split_grad/concat/split/split_dim' with dtype int32\n",
      "\t [[{{node gradients/split_grad/concat/split/split_dim}}]]\n",
      "2023-08-01 15:41:41.614076: I tensorflow/core/common_runtime/executor.cc:1197] [/device:CPU:0] (DEBUG INFO) Executor start aborting (this does not indicate an error and you can ignore this message): INVALID_ARGUMENT: You must feed a value for placeholder tensor 'gradients/split_1_grad/concat/split_1/split_dim' with dtype int32\n",
      "\t [[{{node gradients/split_1_grad/concat/split_1/split_dim}}]]\n",
      "2023-08-01 15:41:42.309003: I tensorflow/core/common_runtime/executor.cc:1197] [/device:CPU:0] (DEBUG INFO) Executor start aborting (this does not indicate an error and you can ignore this message): INVALID_ARGUMENT: You must feed a value for placeholder tensor 'gradients/split_2_grad/concat/split_2/split_dim' with dtype int32\n",
      "\t [[{{node gradients/split_2_grad/concat/split_2/split_dim}}]]\n",
      "2023-08-01 15:41:42.314287: I tensorflow/core/common_runtime/executor.cc:1197] [/device:CPU:0] (DEBUG INFO) Executor start aborting (this does not indicate an error and you can ignore this message): INVALID_ARGUMENT: You must feed a value for placeholder tensor 'gradients/split_grad/concat/split/split_dim' with dtype int32\n",
      "\t [[{{node gradients/split_grad/concat/split/split_dim}}]]\n",
      "2023-08-01 15:41:42.318982: I tensorflow/core/common_runtime/executor.cc:1197] [/device:CPU:0] (DEBUG INFO) Executor start aborting (this does not indicate an error and you can ignore this message): INVALID_ARGUMENT: You must feed a value for placeholder tensor 'gradients/split_1_grad/concat/split_1/split_dim' with dtype int32\n",
      "\t [[{{node gradients/split_1_grad/concat/split_1/split_dim}}]]\n",
      "2023-08-01 15:41:47.613180: I tensorflow/core/common_runtime/executor.cc:1197] [/device:CPU:0] (DEBUG INFO) Executor start aborting (this does not indicate an error and you can ignore this message): INVALID_ARGUMENT: You must feed a value for placeholder tensor 'gradients/split_2_grad/concat/split_2/split_dim' with dtype int32\n",
      "\t [[{{node gradients/split_2_grad/concat/split_2/split_dim}}]]\n",
      "2023-08-01 15:41:47.618331: I tensorflow/core/common_runtime/executor.cc:1197] [/device:CPU:0] (DEBUG INFO) Executor start aborting (this does not indicate an error and you can ignore this message): INVALID_ARGUMENT: You must feed a value for placeholder tensor 'gradients/split_grad/concat/split/split_dim' with dtype int32\n",
      "\t [[{{node gradients/split_grad/concat/split/split_dim}}]]\n",
      "2023-08-01 15:41:47.624528: I tensorflow/core/common_runtime/executor.cc:1197] [/device:CPU:0] (DEBUG INFO) Executor start aborting (this does not indicate an error and you can ignore this message): INVALID_ARGUMENT: You must feed a value for placeholder tensor 'gradients/split_1_grad/concat/split_1/split_dim' with dtype int32\n",
      "\t [[{{node gradients/split_1_grad/concat/split_1/split_dim}}]]\n",
      "2023-08-01 15:41:48.281737: I tensorflow/core/common_runtime/executor.cc:1197] [/device:CPU:0] (DEBUG INFO) Executor start aborting (this does not indicate an error and you can ignore this message): INVALID_ARGUMENT: You must feed a value for placeholder tensor 'gradients/split_2_grad/concat/split_2/split_dim' with dtype int32\n",
      "\t [[{{node gradients/split_2_grad/concat/split_2/split_dim}}]]\n",
      "2023-08-01 15:41:48.287096: I tensorflow/core/common_runtime/executor.cc:1197] [/device:CPU:0] (DEBUG INFO) Executor start aborting (this does not indicate an error and you can ignore this message): INVALID_ARGUMENT: You must feed a value for placeholder tensor 'gradients/split_grad/concat/split/split_dim' with dtype int32\n",
      "\t [[{{node gradients/split_grad/concat/split/split_dim}}]]\n",
      "2023-08-01 15:41:48.292888: I tensorflow/core/common_runtime/executor.cc:1197] [/device:CPU:0] (DEBUG INFO) Executor start aborting (this does not indicate an error and you can ignore this message): INVALID_ARGUMENT: You must feed a value for placeholder tensor 'gradients/split_1_grad/concat/split_1/split_dim' with dtype int32\n",
      "\t [[{{node gradients/split_1_grad/concat/split_1/split_dim}}]]\n"
     ]
    },
    {
     "name": "stdout",
     "output_type": "stream",
     "text": [
      "1 => Train Loss:5.507811546325684, Train Acc: 1.3894736766815186\n"
     ]
    },
    {
     "name": "stderr",
     "output_type": "stream",
     "text": [
      "2023-08-01 15:41:49.201319: I tensorflow/core/common_runtime/executor.cc:1197] [/device:CPU:0] (DEBUG INFO) Executor start aborting (this does not indicate an error and you can ignore this message): INVALID_ARGUMENT: You must feed a value for placeholder tensor 'Placeholder/_2' with dtype float and shape [250,19,250]\n",
      "\t [[{{node Placeholder/_2}}]]\n"
     ]
    },
    {
     "name": "stdout",
     "output_type": "stream",
     "text": [
      "1 => Train Loss:5.496211528778076, Train Acc: 2.652631513774395\n"
     ]
    },
    {
     "name": "stderr",
     "output_type": "stream",
     "text": [
      "2023-08-01 15:41:49.758053: I tensorflow/core/common_runtime/executor.cc:1197] [/device:CPU:0] (DEBUG INFO) Executor start aborting (this does not indicate an error and you can ignore this message): INVALID_ARGUMENT: You must feed a value for placeholder tensor 'Placeholder/_2' with dtype float and shape [250,19,250]\n",
      "\t [[{{node Placeholder/_2}}]]\n"
     ]
    },
    {
     "name": "stdout",
     "output_type": "stream",
     "text": [
      "1 => Train Loss:5.484843730926514, Train Acc: 5.578947439789772\n"
     ]
    },
    {
     "name": "stderr",
     "output_type": "stream",
     "text": [
      "2023-08-01 15:41:50.296980: I tensorflow/core/common_runtime/executor.cc:1197] [/device:CPU:0] (DEBUG INFO) Executor start aborting (this does not indicate an error and you can ignore this message): INVALID_ARGUMENT: You must feed a value for placeholder tensor 'Placeholder/_2' with dtype float and shape [250,19,250]\n",
      "\t [[{{node Placeholder/_2}}]]\n"
     ]
    },
    {
     "name": "stdout",
     "output_type": "stream",
     "text": [
      "1 => Train Loss:5.471435546875, Train Acc: 39.38947319984436\n"
     ]
    },
    {
     "name": "stderr",
     "output_type": "stream",
     "text": [
      "2023-08-01 15:41:50.794139: I tensorflow/core/common_runtime/executor.cc:1197] [/device:CPU:0] (DEBUG INFO) Executor start aborting (this does not indicate an error and you can ignore this message): INVALID_ARGUMENT: You must feed a value for placeholder tensor 'Placeholder/_2' with dtype float and shape [250,19,250]\n",
      "\t [[{{node Placeholder/_2}}]]\n"
     ]
    },
    {
     "name": "stdout",
     "output_type": "stream",
     "text": [
      "1 => Train Loss:5.461761951446533, Train Acc: 39.09473717212677\n"
     ]
    },
    {
     "name": "stderr",
     "output_type": "stream",
     "text": [
      "2023-08-01 15:41:51.382006: I tensorflow/core/common_runtime/executor.cc:1197] [/device:CPU:0] (DEBUG INFO) Executor start aborting (this does not indicate an error and you can ignore this message): INVALID_ARGUMENT: You must feed a value for placeholder tensor 'Placeholder/_2' with dtype float and shape [250,19,250]\n",
      "\t [[{{node Placeholder/_2}}]]\n"
     ]
    },
    {
     "name": "stdout",
     "output_type": "stream",
     "text": [
      "1 => Train Loss:5.447728633880615, Train Acc: 42.568421363830566\n"
     ]
    },
    {
     "name": "stderr",
     "output_type": "stream",
     "text": [
      "2023-08-01 15:41:52.004524: I tensorflow/core/common_runtime/executor.cc:1197] [/device:CPU:0] (DEBUG INFO) Executor start aborting (this does not indicate an error and you can ignore this message): INVALID_ARGUMENT: You must feed a value for placeholder tensor 'Placeholder/_2' with dtype float and shape [250,19,250]\n",
      "\t [[{{node Placeholder/_2}}]]\n"
     ]
    },
    {
     "name": "stdout",
     "output_type": "stream",
     "text": [
      "2 => Train Loss:5.435168266296387, Train Acc: 44.23157870769501\n"
     ]
    },
    {
     "name": "stderr",
     "output_type": "stream",
     "text": [
      "2023-08-01 15:41:52.523942: I tensorflow/core/common_runtime/executor.cc:1197] [/device:CPU:0] (DEBUG INFO) Executor start aborting (this does not indicate an error and you can ignore this message): INVALID_ARGUMENT: You must feed a value for placeholder tensor 'Placeholder/_2' with dtype float and shape [250,19,250]\n",
      "\t [[{{node Placeholder/_2}}]]\n"
     ]
    },
    {
     "name": "stdout",
     "output_type": "stream",
     "text": [
      "2 => Train Loss:5.423015594482422, Train Acc: 44.736841320991516\n"
     ]
    },
    {
     "name": "stderr",
     "output_type": "stream",
     "text": [
      "2023-08-01 15:41:53.071252: I tensorflow/core/common_runtime/executor.cc:1197] [/device:CPU:0] (DEBUG INFO) Executor start aborting (this does not indicate an error and you can ignore this message): INVALID_ARGUMENT: You must feed a value for placeholder tensor 'Placeholder/_2' with dtype float and shape [250,19,250]\n",
      "\t [[{{node Placeholder/_2}}]]\n"
     ]
    },
    {
     "name": "stdout",
     "output_type": "stream",
     "text": [
      "2 => Train Loss:5.410763740539551, Train Acc: 44.86315846443176\n"
     ]
    },
    {
     "name": "stderr",
     "output_type": "stream",
     "text": [
      "2023-08-01 15:41:53.587589: I tensorflow/core/common_runtime/executor.cc:1197] [/device:CPU:0] (DEBUG INFO) Executor start aborting (this does not indicate an error and you can ignore this message): INVALID_ARGUMENT: You must feed a value for placeholder tensor 'Placeholder/_2' with dtype float and shape [250,19,250]\n",
      "\t [[{{node Placeholder/_2}}]]\n"
     ]
    },
    {
     "name": "stdout",
     "output_type": "stream",
     "text": [
      "2 => Train Loss:5.392354965209961, Train Acc: 46.54736816883087\n"
     ]
    },
    {
     "name": "stderr",
     "output_type": "stream",
     "text": [
      "2023-08-01 15:41:54.083036: I tensorflow/core/common_runtime/executor.cc:1197] [/device:CPU:0] (DEBUG INFO) Executor start aborting (this does not indicate an error and you can ignore this message): INVALID_ARGUMENT: You must feed a value for placeholder tensor 'Placeholder/_2' with dtype float and shape [250,19,250]\n",
      "\t [[{{node Placeholder/_2}}]]\n"
     ]
    },
    {
     "name": "stdout",
     "output_type": "stream",
     "text": [
      "2 => Train Loss:5.383791446685791, Train Acc: 43.70526373386383\n"
     ]
    },
    {
     "name": "stderr",
     "output_type": "stream",
     "text": [
      "2023-08-01 15:41:54.606278: I tensorflow/core/common_runtime/executor.cc:1197] [/device:CPU:0] (DEBUG INFO) Executor start aborting (this does not indicate an error and you can ignore this message): INVALID_ARGUMENT: You must feed a value for placeholder tensor 'Placeholder/_2' with dtype float and shape [250,19,250]\n",
      "\t [[{{node Placeholder/_2}}]]\n"
     ]
    },
    {
     "name": "stdout",
     "output_type": "stream",
     "text": [
      "2 => Train Loss:5.364171028137207, Train Acc: 44.736841320991516\n"
     ]
    },
    {
     "name": "stderr",
     "output_type": "stream",
     "text": [
      "2023-08-01 15:41:55.150909: I tensorflow/core/common_runtime/executor.cc:1197] [/device:CPU:0] (DEBUG INFO) Executor start aborting (this does not indicate an error and you can ignore this message): INVALID_ARGUMENT: You must feed a value for placeholder tensor 'Placeholder/_2' with dtype float and shape [250,19,250]\n",
      "\t [[{{node Placeholder/_2}}]]\n"
     ]
    },
    {
     "name": "stdout",
     "output_type": "stream",
     "text": [
      "3 => Train Loss:5.348313331604004, Train Acc: 44.5263147354126\n"
     ]
    },
    {
     "name": "stderr",
     "output_type": "stream",
     "text": [
      "2023-08-01 15:41:55.647516: I tensorflow/core/common_runtime/executor.cc:1197] [/device:CPU:0] (DEBUG INFO) Executor start aborting (this does not indicate an error and you can ignore this message): INVALID_ARGUMENT: You must feed a value for placeholder tensor 'Placeholder/_2' with dtype float and shape [250,19,250]\n",
      "\t [[{{node Placeholder/_2}}]]\n"
     ]
    },
    {
     "name": "stdout",
     "output_type": "stream",
     "text": [
      "3 => Train Loss:5.331937313079834, Train Acc: 43.368420004844666\n"
     ]
    },
    {
     "name": "stderr",
     "output_type": "stream",
     "text": [
      "2023-08-01 15:41:56.250591: I tensorflow/core/common_runtime/executor.cc:1197] [/device:CPU:0] (DEBUG INFO) Executor start aborting (this does not indicate an error and you can ignore this message): INVALID_ARGUMENT: You must feed a value for placeholder tensor 'Placeholder/_2' with dtype float and shape [250,19,250]\n",
      "\t [[{{node Placeholder/_2}}]]\n"
     ]
    },
    {
     "name": "stdout",
     "output_type": "stream",
     "text": [
      "3 => Train Loss:5.314910411834717, Train Acc: 42.568421363830566\n"
     ]
    },
    {
     "name": "stderr",
     "output_type": "stream",
     "text": [
      "2023-08-01 15:41:56.782846: I tensorflow/core/common_runtime/executor.cc:1197] [/device:CPU:0] (DEBUG INFO) Executor start aborting (this does not indicate an error and you can ignore this message): INVALID_ARGUMENT: You must feed a value for placeholder tensor 'Placeholder/_2' with dtype float and shape [250,19,250]\n",
      "\t [[{{node Placeholder/_2}}]]\n"
     ]
    },
    {
     "name": "stdout",
     "output_type": "stream",
     "text": [
      "3 => Train Loss:5.285972595214844, Train Acc: 44.69473659992218\n"
     ]
    },
    {
     "name": "stderr",
     "output_type": "stream",
     "text": [
      "2023-08-01 15:41:57.492364: I tensorflow/core/common_runtime/executor.cc:1197] [/device:CPU:0] (DEBUG INFO) Executor start aborting (this does not indicate an error and you can ignore this message): INVALID_ARGUMENT: You must feed a value for placeholder tensor 'Placeholder/_2' with dtype float and shape [250,19,250]\n",
      "\t [[{{node Placeholder/_2}}]]\n"
     ]
    },
    {
     "name": "stdout",
     "output_type": "stream",
     "text": [
      "3 => Train Loss:5.27402400970459, Train Acc: 41.85263216495514\n"
     ]
    },
    {
     "name": "stderr",
     "output_type": "stream",
     "text": [
      "2023-08-01 15:41:58.138227: I tensorflow/core/common_runtime/executor.cc:1197] [/device:CPU:0] (DEBUG INFO) Executor start aborting (this does not indicate an error and you can ignore this message): INVALID_ARGUMENT: You must feed a value for placeholder tensor 'Placeholder/_2' with dtype float and shape [250,19,250]\n",
      "\t [[{{node Placeholder/_2}}]]\n"
     ]
    },
    {
     "name": "stdout",
     "output_type": "stream",
     "text": [
      "3 => Train Loss:5.241185665130615, Train Acc: 43.32631528377533\n"
     ]
    },
    {
     "data": {
      "text/plain": [
       "\"\\nCongratulations! You successfully trained a model using Teacher Forcing. This model will surely beat the model you implemented earlier. But let's improve the model further by adding a validation step.\\n\""
      ]
     },
     "execution_count": 37,
     "metadata": {},
     "output_type": "execute_result"
    }
   ],
   "source": [
    "# exercise 04\n",
    "\n",
    "\"\"\"\n",
    "Training the model\n",
    "\n",
    "Did you know that in 2017, Google translate served more than 500 million users daily?\n",
    "\n",
    "Here, you will train your first Teacher Forced model. Teacher Forcing is commonly used in sequence to sequence models like your neural machine translator to achieve better performance.\n",
    "\n",
    "You will be provided with the sents2seqs() function, English sentences en_text and French sentences fr_text.\n",
    "\"\"\"\n",
    "\n",
    "# Instructions\n",
    "\n",
    "\"\"\"\n",
    "\n",
    "    Get the decoder input which contains the onehot encoded sequences of French words (except for the last word in every sequence).\n",
    "    Get the decoder output which contains the onehot encoded sequences of French words (except for the first word in every sequence).\n",
    "    Train the model on a single batch of data.\n",
    "    Obtain the evaluation metrics (loss and accuracy) for training data en_x, de_x and de_y.\n",
    "\n",
    "\"\"\"\n",
    "\n",
    "# solution\n",
    "\n",
    "n_epochs, bsize = 3, 250\n",
    "data_size = 1500\n",
    "for ei in range(n_epochs):\n",
    "  for i in range(0,data_size,bsize):\n",
    "    en_x = sents2seqs('source', en_text[i:i+bsize], onehot=True, reverse=True)\n",
    "    de_xy = sents2seqs('target', fr_text[i:i+bsize], onehot=True)\n",
    "    # Separate the decoder inputs from de_xy\n",
    "    de_x = de_xy[:,:-1,:]\n",
    "    # Separate the decoder outputs from de_xy\n",
    "    de_y = de_xy[:, 1:, :]\n",
    "    # Train the model on a single batch of data    \n",
    "    nmt_tf.train_on_batch([en_x,de_x], de_y)    \n",
    "    # Obtain the eval metrics for the training data\n",
    "    res = nmt_tf.evaluate([en_x,de_x], de_y, batch_size=bsize, verbose=0)\n",
    "    print(\"{} => Train Loss:{}, Train Acc: {}\".format(ei+1,res[0], res[1]*100.0))  \n",
    "\n",
    "#----------------------------------#\n",
    "\n",
    "# Conclusion\n",
    "\n",
    "\"\"\"\n",
    "Congratulations! You successfully trained a model using Teacher Forcing. This model will surely beat the model you implemented earlier. But let's improve the model further by adding a validation step.\n",
    "\"\"\""
   ]
  },
  {
   "cell_type": "code",
   "execution_count": 38,
   "metadata": {
    "tags": []
   },
   "outputs": [
    {
     "name": "stdout",
     "output_type": "stream",
     "text": [
      "Training (EN):\n",
      " ['his favorite fruit is the grapefruit , but my favorite is the mango.', 'paris is never beautiful during summer , and it is chilly in december .', 'california is pleasant during january , but it is usually chilly in april .'] \n",
      "Training (FR):\n",
      " ['son fruit préféré est le pamplemousse , mais mon préféré est la mangue .', \"paris est jamais belle pendant l' été , et il est froid en décembre .\", 'californie est agréable en janvier , mais il est généralement froid en avril .']\n",
      "\n",
      "Valid (EN):\n",
      " ['california is usually freezing during july , but it is never warm in january .', 'california is usually relaxing during summer , but it is usually pleasant in autumn .', 'india is sometimes nice during november , but it is never mild in august .'] \n",
      "Valid (FR):\n",
      " ['la californie est le gel habituellement en juillet , mais il est jamais chaud en janvier .', \"california est relaxant habituellement pendant l' été , mais il est généralement agréable à l' automne .\", \"l' inde est parfois agréable au mois de novembre , mais il est jamais doux en août .\"]\n"
     ]
    },
    {
     "data": {
      "text/plain": [
       "'\\nGreat work! You now know how to split the dataset into training and validation data. Here you are using 80% training data and 20% validation data. The 80-20 principle is a common way to split the dataset to train and validation data.\\n'"
      ]
     },
     "execution_count": 38,
     "metadata": {},
     "output_type": "execute_result"
    }
   ],
   "source": [
    "# exercise 05\n",
    "\n",
    "\"\"\"\n",
    "Splitting training and validation data\n",
    "\n",
    "You will be creating training and validation datasets. Keeping a validation dataset and monitoring the performance of model on that set is a good practice to avoid overfitting.\n",
    "\n",
    "For this exercise you have been provided with en_text (English sentences) and fr_text (French sentences).\n",
    "\"\"\"\n",
    "\n",
    "# Instructions\n",
    "\n",
    "\"\"\"\n",
    "\n",
    "    Define a sequence of indices using np.arange(), that starts with 0 and has size of en_text.\n",
    "    Define train_inds as the first train_size set of indices from the sequence of indices.\n",
    "    Define tr_en and tf_fr, which contains the sentences found at the indices specified by train_inds in the lists en_text and fr_text.\n",
    "    Define v_en and v_fr which contains the sentences found at the indices specified by valid_inds in the lists en_text and fr_text.\n",
    "\n",
    "\"\"\"\n",
    "\n",
    "# solution\n",
    "\n",
    "train_size, valid_size = 800, 200\n",
    "# Define a sequence of indices from 0 to size of en_text\n",
    "inds = np.arange(len(en_text))\n",
    "np.random.shuffle(inds)\n",
    "# Define train_inds as first train_size indices\n",
    "train_inds = inds[:train_size]\n",
    "valid_inds = inds[train_size:train_size+valid_size]\n",
    "# Define tr_en (train EN sentences) and tr_fr (train FR sentences)\n",
    "tr_en = [en_text[ti] for ti in train_inds]\n",
    "tr_fr = [fr_text[ti] for ti in train_inds]\n",
    "# Define v_en (valid EN sentences) and v_fr (valid FR sentences)\n",
    "v_en = [en_text[vi] for vi in valid_inds]\n",
    "v_fr = [fr_text[vi] for vi in valid_inds]\n",
    "print('Training (EN):\\n', tr_en[:3], '\\nTraining (FR):\\n', tr_fr[:3])\n",
    "print('\\nValid (EN):\\n', v_en[:3], '\\nValid (FR):\\n', v_fr[:3])\n",
    "\n",
    "#----------------------------------#\n",
    "\n",
    "# Conclusion\n",
    "\n",
    "\"\"\"\n",
    "Great work! You now know how to split the dataset into training and validation data. Here you are using 80% training data and 20% validation data. The 80-20 principle is a common way to split the dataset to train and validation data.\n",
    "\"\"\""
   ]
  },
  {
   "cell_type": "code",
   "execution_count": 39,
   "metadata": {
    "tags": []
   },
   "outputs": [
    {
     "name": "stderr",
     "output_type": "stream",
     "text": [
      "2023-08-02 09:08:30.648590: I tensorflow/core/common_runtime/executor.cc:1197] [/device:CPU:0] (DEBUG INFO) Executor start aborting (this does not indicate an error and you can ignore this message): INVALID_ARGUMENT: You must feed a value for placeholder tensor 'Placeholder/_2' with dtype float and shape [250,19,250]\n",
      "\t [[{{node Placeholder/_2}}]]\n",
      "2023-08-02 09:08:31.518131: I tensorflow/core/common_runtime/executor.cc:1197] [/device:CPU:0] (DEBUG INFO) Executor start aborting (this does not indicate an error and you can ignore this message): INVALID_ARGUMENT: You must feed a value for placeholder tensor 'Placeholder/_2' with dtype float and shape [250,19,250]\n",
      "\t [[{{node Placeholder/_2}}]]\n",
      "2023-08-02 09:08:31.893310: I tensorflow/core/common_runtime/executor.cc:1197] [/device:CPU:0] (DEBUG INFO) Executor start aborting (this does not indicate an error and you can ignore this message): INVALID_ARGUMENT: You must feed a value for placeholder tensor 'Placeholder/_2' with dtype float and shape [250,19,250]\n",
      "\t [[{{node Placeholder/_2}}]]\n",
      "2023-08-02 09:08:32.392640: I tensorflow/core/common_runtime/executor.cc:1197] [/device:CPU:0] (DEBUG INFO) Executor start aborting (this does not indicate an error and you can ignore this message): INVALID_ARGUMENT: You must feed a value for placeholder tensor 'Placeholder/_2' with dtype float and shape [50,19,250]\n",
      "\t [[{{node Placeholder/_2}}]]\n",
      "2023-08-02 09:08:33.739913: I tensorflow/core/common_runtime/executor.cc:1197] [/device:CPU:0] (DEBUG INFO) Executor start aborting (this does not indicate an error and you can ignore this message): INVALID_ARGUMENT: You must feed a value for placeholder tensor 'gradients/split_2_grad/concat/split_2/split_dim' with dtype int32\n",
      "\t [[{{node gradients/split_2_grad/concat/split_2/split_dim}}]]\n",
      "2023-08-02 09:08:33.748810: I tensorflow/core/common_runtime/executor.cc:1197] [/device:CPU:0] (DEBUG INFO) Executor start aborting (this does not indicate an error and you can ignore this message): INVALID_ARGUMENT: You must feed a value for placeholder tensor 'gradients/split_grad/concat/split/split_dim' with dtype int32\n",
      "\t [[{{node gradients/split_grad/concat/split/split_dim}}]]\n",
      "2023-08-02 09:08:33.754932: I tensorflow/core/common_runtime/executor.cc:1197] [/device:CPU:0] (DEBUG INFO) Executor start aborting (this does not indicate an error and you can ignore this message): INVALID_ARGUMENT: You must feed a value for placeholder tensor 'gradients/split_1_grad/concat/split_1/split_dim' with dtype int32\n",
      "\t [[{{node gradients/split_1_grad/concat/split_1/split_dim}}]]\n",
      "2023-08-02 09:08:34.769561: I tensorflow/core/common_runtime/executor.cc:1197] [/device:CPU:0] (DEBUG INFO) Executor start aborting (this does not indicate an error and you can ignore this message): INVALID_ARGUMENT: You must feed a value for placeholder tensor 'gradients/split_2_grad/concat/split_2/split_dim' with dtype int32\n",
      "\t [[{{node gradients/split_2_grad/concat/split_2/split_dim}}]]\n",
      "2023-08-02 09:08:34.777805: I tensorflow/core/common_runtime/executor.cc:1197] [/device:CPU:0] (DEBUG INFO) Executor start aborting (this does not indicate an error and you can ignore this message): INVALID_ARGUMENT: You must feed a value for placeholder tensor 'gradients/split_grad/concat/split/split_dim' with dtype int32\n",
      "\t [[{{node gradients/split_grad/concat/split/split_dim}}]]\n",
      "2023-08-02 09:08:34.786792: I tensorflow/core/common_runtime/executor.cc:1197] [/device:CPU:0] (DEBUG INFO) Executor start aborting (this does not indicate an error and you can ignore this message): INVALID_ARGUMENT: You must feed a value for placeholder tensor 'gradients/split_1_grad/concat/split_1/split_dim' with dtype int32\n",
      "\t [[{{node gradients/split_1_grad/concat/split_1/split_dim}}]]\n",
      "2023-08-02 09:08:38.693896: I tensorflow/core/common_runtime/executor.cc:1197] [/device:CPU:0] (DEBUG INFO) Executor start aborting (this does not indicate an error and you can ignore this message): INVALID_ARGUMENT: You must feed a value for placeholder tensor 'gradients/split_2_grad/concat/split_2/split_dim' with dtype int32\n",
      "\t [[{{node gradients/split_2_grad/concat/split_2/split_dim}}]]\n",
      "2023-08-02 09:08:38.695437: I tensorflow/core/common_runtime/executor.cc:1197] [/device:CPU:0] (DEBUG INFO) Executor start aborting (this does not indicate an error and you can ignore this message): INVALID_ARGUMENT: You must feed a value for placeholder tensor 'gradients/split_grad/concat/split/split_dim' with dtype int32\n",
      "\t [[{{node gradients/split_grad/concat/split/split_dim}}]]\n",
      "2023-08-02 09:08:38.696562: I tensorflow/core/common_runtime/executor.cc:1197] [/device:CPU:0] (DEBUG INFO) Executor start aborting (this does not indicate an error and you can ignore this message): INVALID_ARGUMENT: You must feed a value for placeholder tensor 'gradients/split_1_grad/concat/split_1/split_dim' with dtype int32\n",
      "\t [[{{node gradients/split_1_grad/concat/split_1/split_dim}}]]\n",
      "2023-08-02 09:08:38.870364: I tensorflow/core/common_runtime/executor.cc:1197] [/device:CPU:0] (DEBUG INFO) Executor start aborting (this does not indicate an error and you can ignore this message): INVALID_ARGUMENT: You must feed a value for placeholder tensor 'gradients/split_2_grad/concat/split_2/split_dim' with dtype int32\n",
      "\t [[{{node gradients/split_2_grad/concat/split_2/split_dim}}]]\n",
      "2023-08-02 09:08:38.871904: I tensorflow/core/common_runtime/executor.cc:1197] [/device:CPU:0] (DEBUG INFO) Executor start aborting (this does not indicate an error and you can ignore this message): INVALID_ARGUMENT: You must feed a value for placeholder tensor 'gradients/split_grad/concat/split/split_dim' with dtype int32\n",
      "\t [[{{node gradients/split_grad/concat/split/split_dim}}]]\n",
      "2023-08-02 09:08:38.873012: I tensorflow/core/common_runtime/executor.cc:1197] [/device:CPU:0] (DEBUG INFO) Executor start aborting (this does not indicate an error and you can ignore this message): INVALID_ARGUMENT: You must feed a value for placeholder tensor 'gradients/split_1_grad/concat/split_1/split_dim' with dtype int32\n",
      "\t [[{{node gradients/split_1_grad/concat/split_1/split_dim}}]]\n"
     ]
    },
    {
     "name": "stdout",
     "output_type": "stream",
     "text": [
      "1 => Loss:5.111137866973877, Val Acc: 42.42105185985565\n"
     ]
    },
    {
     "name": "stderr",
     "output_type": "stream",
     "text": [
      "2023-08-02 09:08:39.158192: I tensorflow/core/common_runtime/executor.cc:1197] [/device:CPU:0] (DEBUG INFO) Executor start aborting (this does not indicate an error and you can ignore this message): INVALID_ARGUMENT: You must feed a value for placeholder tensor 'Placeholder/_2' with dtype float and shape [250,19,250]\n",
      "\t [[{{node Placeholder/_2}}]]\n",
      "2023-08-02 09:08:39.262670: I tensorflow/core/common_runtime/executor.cc:1197] [/device:CPU:0] (DEBUG INFO) Executor start aborting (this does not indicate an error and you can ignore this message): INVALID_ARGUMENT: You must feed a value for placeholder tensor 'Placeholder/_2' with dtype float and shape [250,19,250]\n",
      "\t [[{{node Placeholder/_2}}]]\n",
      "2023-08-02 09:08:39.367531: I tensorflow/core/common_runtime/executor.cc:1197] [/device:CPU:0] (DEBUG INFO) Executor start aborting (this does not indicate an error and you can ignore this message): INVALID_ARGUMENT: You must feed a value for placeholder tensor 'Placeholder/_2' with dtype float and shape [250,19,250]\n",
      "\t [[{{node Placeholder/_2}}]]\n",
      "2023-08-02 09:08:39.478660: I tensorflow/core/common_runtime/executor.cc:1197] [/device:CPU:0] (DEBUG INFO) Executor start aborting (this does not indicate an error and you can ignore this message): INVALID_ARGUMENT: You must feed a value for placeholder tensor 'Placeholder/_2' with dtype float and shape [50,19,250]\n",
      "\t [[{{node Placeholder/_2}}]]\n"
     ]
    },
    {
     "name": "stdout",
     "output_type": "stream",
     "text": [
      "2 => Loss:4.853996753692627, Val Acc: 41.947367787361145\n"
     ]
    },
    {
     "name": "stderr",
     "output_type": "stream",
     "text": [
      "2023-08-02 09:08:39.633761: I tensorflow/core/common_runtime/executor.cc:1197] [/device:CPU:0] (DEBUG INFO) Executor start aborting (this does not indicate an error and you can ignore this message): INVALID_ARGUMENT: You must feed a value for placeholder tensor 'Placeholder/_2' with dtype float and shape [250,19,250]\n",
      "\t [[{{node Placeholder/_2}}]]\n",
      "2023-08-02 09:08:39.746699: I tensorflow/core/common_runtime/executor.cc:1197] [/device:CPU:0] (DEBUG INFO) Executor start aborting (this does not indicate an error and you can ignore this message): INVALID_ARGUMENT: You must feed a value for placeholder tensor 'Placeholder/_2' with dtype float and shape [250,19,250]\n",
      "\t [[{{node Placeholder/_2}}]]\n",
      "2023-08-02 09:08:39.864464: I tensorflow/core/common_runtime/executor.cc:1197] [/device:CPU:0] (DEBUG INFO) Executor start aborting (this does not indicate an error and you can ignore this message): INVALID_ARGUMENT: You must feed a value for placeholder tensor 'Placeholder/_2' with dtype float and shape [250,19,250]\n",
      "\t [[{{node Placeholder/_2}}]]\n",
      "2023-08-02 09:08:39.976182: I tensorflow/core/common_runtime/executor.cc:1197] [/device:CPU:0] (DEBUG INFO) Executor start aborting (this does not indicate an error and you can ignore this message): INVALID_ARGUMENT: You must feed a value for placeholder tensor 'Placeholder/_2' with dtype float and shape [50,19,250]\n",
      "\t [[{{node Placeholder/_2}}]]\n"
     ]
    },
    {
     "name": "stdout",
     "output_type": "stream",
     "text": [
      "3 => Loss:4.236155033111572, Val Acc: 41.947367787361145\n"
     ]
    },
    {
     "data": {
      "text/plain": [
       "'\\nGreat work! You now know train the model while monitoring the accuracy on a validation set. But remember to also use a test dataset to measure accuracy on when training models. This is because when you are using the validation dataset to monitor the performance, you are indirectly leaking validation data to the model.\\n'"
      ]
     },
     "execution_count": 39,
     "metadata": {},
     "output_type": "execute_result"
    }
   ],
   "source": [
    "# exercise 06\n",
    "\n",
    "\"\"\"\n",
    "Training the model with validation\n",
    "\n",
    "Here you will train the model using Teacher Forcing and also perform a validation step. You will train the model for multiple epochs and multiple iterations. Then at the end of each epoch, you will run the validation step and obtain the results.\n",
    "\n",
    "For this, you have been provided with en_text (English sentences), fr_text (French sentences), the sents2seqs() function and nmt_tf (the compiled model). You also have tr_en and tr_fr (training data) and v_en and v_fr (validation data) loaded already.\n",
    "\"\"\"\n",
    "\n",
    "# Instructions\n",
    "\n",
    "\"\"\"\n",
    "\n",
    "    Extract decoder inputs (all words except the last) and outputs (all words except the first) from de_xy.\n",
    "    Train the model on a single batch of data.\n",
    "    Create decoder inputs and outputs from the validation data similar to how you did for training data.\n",
    "    Evaluate the model on the validation dataset to obtain the validation loss and the accuracy.\n",
    "\n",
    "\"\"\"\n",
    "\n",
    "# solution\n",
    "\n",
    "for ei in range(n_epochs):\n",
    "  for i in range(0,train_size,bsize):    \n",
    "    en_x = sents2seqs('source', tr_en[i:i+bsize], onehot=True, reverse=True)\n",
    "    de_xy = sents2seqs('target', tr_fr[i:i+bsize], onehot=True)\n",
    "    # Create a single batch of decoder inputs and outputs\n",
    "    de_x, de_y = de_xy[:,:-1,:], de_xy[:,1:,:]\n",
    "    # Train the model on a single batch of data\n",
    "    nmt_tf.train_on_batch([en_x,de_x], de_y)      \n",
    "  v_en_x = sents2seqs('source', v_en, onehot=True, reverse=True)\n",
    "  # Create a single batch of validation decoder inputs and outputs\n",
    "  v_de_xy = sents2seqs('target', v_fr, onehot=True)\n",
    "  v_de_x, v_de_y = v_de_xy[:,:-1,:], v_de_xy[:,1:,:]\n",
    "  # Evaluate the trained model on the validation data\n",
    "  res = nmt_tf.evaluate([v_en_x,v_de_x], v_de_y, batch_size=valid_size, verbose=0)\n",
    "  print(\"{} => Loss:{}, Val Acc: {}\".format(ei+1,res[0], res[1]*100.0))\n",
    "\n",
    "#----------------------------------#\n",
    "\n",
    "# Conclusion\n",
    "\n",
    "\"\"\"\n",
    "Great work! You now know train the model while monitoring the accuracy on a validation set. But remember to also use a test dataset to measure accuracy on when training models. This is because when you are using the validation dataset to monitor the performance, you are indirectly leaking validation data to the model.\n",
    "\"\"\""
   ]
  },
  {
   "cell_type": "code",
   "execution_count": 58,
   "metadata": {
    "tags": []
   },
   "outputs": [
    {
     "name": "stdout",
     "output_type": "stream",
     "text": [
      "Model: \"model_7\"\n",
      "__________________________________________________________________________________________________\n",
      " Layer (type)                   Output Shape         Param #     Connected to                     \n",
      "==================================================================================================\n",
      " input_18 (InputLayer)          [(None, 1, 250)]     0           []                               \n",
      "                                                                                                  \n",
      " input_19 (InputLayer)          [(None, 64)]         0           []                               \n",
      "                                                                                                  \n",
      " gru_13 (GRU)                   [(None, 64),         60672       ['input_18[0][0]',               \n",
      "                                 (None, 64)]                      'input_19[0][0]']               \n",
      "                                                                                                  \n",
      " dense_8 (Dense)                (None, 250)          16250       ['gru_13[0][0]']                 \n",
      "                                                                                                  \n",
      "==================================================================================================\n",
      "Total params: 76,922\n",
      "Trainable params: 76,922\n",
      "Non-trainable params: 0\n",
      "__________________________________________________________________________________________________\n",
      "None\n"
     ]
    },
    {
     "name": "stderr",
     "output_type": "stream",
     "text": [
      "2023-08-02 09:35:08.086963: I tensorflow/core/common_runtime/executor.cc:1197] [/device:CPU:0] (DEBUG INFO) Executor start aborting (this does not indicate an error and you can ignore this message): INVALID_ARGUMENT: You must feed a value for placeholder tensor 'gradients/split_2_grad/concat/split_2/split_dim' with dtype int32\n",
      "\t [[{{node gradients/split_2_grad/concat/split_2/split_dim}}]]\n",
      "2023-08-02 09:35:08.093941: I tensorflow/core/common_runtime/executor.cc:1197] [/device:CPU:0] (DEBUG INFO) Executor start aborting (this does not indicate an error and you can ignore this message): INVALID_ARGUMENT: You must feed a value for placeholder tensor 'gradients/split_grad/concat/split/split_dim' with dtype int32\n",
      "\t [[{{node gradients/split_grad/concat/split/split_dim}}]]\n",
      "2023-08-02 09:35:08.097624: I tensorflow/core/common_runtime/executor.cc:1197] [/device:CPU:0] (DEBUG INFO) Executor start aborting (this does not indicate an error and you can ignore this message): INVALID_ARGUMENT: You must feed a value for placeholder tensor 'gradients/split_1_grad/concat/split_1/split_dim' with dtype int32\n",
      "\t [[{{node gradients/split_1_grad/concat/split_1/split_dim}}]]\n"
     ]
    },
    {
     "data": {
      "text/plain": [
       "\"\\nGreat work! Now you have a fully functional encoder-decoder parts of a machine translation model trained with Teacher Forcing and that can be used in the wild. Let's see how you can use this to generate translations.\\n\""
      ]
     },
     "execution_count": 58,
     "metadata": {},
     "output_type": "execute_result"
    }
   ],
   "source": [
    "# exercise 07\n",
    "\n",
    "\"\"\"\n",
    "Defining the decoder of the inference model\n",
    "\n",
    "The inference model is the model that will be used out in the wild to perform translations when required by the user. In this exercise, you will need to implement the decoder of the inference model.\n",
    "\n",
    "The inference model decoder is different to the decoder of the training model. We can't feed the decoder with French words because that is what we want to predict. Luckily, there is a solution. We can use the predicted French word from the previous time step to feed the inference model decoder. Therefore, when you want to generate a translation, the decoder needs to generate one word at a time, while consuming the previous output as an input.\n",
    "\n",
    "For this exercise, the variables hsize (hidden size of the GRU layer), fr_len and fr_vocab have been imported. Remember that the prefix de is used to refer to the decoder.\n",
    "\"\"\"\n",
    "\n",
    "# Instructions\n",
    "\n",
    "\"\"\"\n",
    "\n",
    "    Define an Input layer which accepts a batch of onehot encoded French word sequences (sequence length 1).\n",
    "    Define another Input layer which accepts a batch of hsize state, which you will use to feed the previous state to the decoder.\n",
    "    Get the output and state of the decoder GRU.\n",
    "    Define a model that accepts the French words Input and the previous state Input and outputs the final prediction and the new GRU state.\n",
    "\n",
    "\"\"\"\n",
    "hsize = 64\n",
    "# solution\n",
    "\n",
    "import tensorflow.keras.layers as layers\n",
    "from tensorflow.keras.models import Model\n",
    "# Define an input layer that accepts a single onehot encoded word\n",
    "de_inputs = layers.Input(shape=(1, fr_vocab))\n",
    "# Define an input to accept the t-1 state\n",
    "de_state_in = layers.Input(shape=(hsize,))\n",
    "de_gru = layers.GRU(hsize, return_state=True)\n",
    "# Get the output and state from the GRU layer\n",
    "de_out, de_state_out = de_gru(de_inputs, initial_state=de_state_in)\n",
    "de_dense = layers.Dense(fr_vocab, activation='softmax')\n",
    "de_pred = de_dense(de_out)\n",
    "\n",
    "# Define a model\n",
    "decoder = Model(inputs=[de_inputs, de_state_in], outputs=[de_pred, de_state_out])\n",
    "print(decoder.summary())\n",
    "\n",
    "#----------------------------------#\n",
    "\n",
    "# Conclusion\n",
    "\n",
    "\"\"\"\n",
    "Great work! Now you have a fully functional encoder-decoder parts of a machine translation model trained with Teacher Forcing and that can be used in the wild. Let's see how you can use this to generate translations.\n",
    "\"\"\""
   ]
  },
  {
   "cell_type": "code",
   "execution_count": 59,
   "metadata": {},
   "outputs": [],
   "source": [
    "tr_en_gru = nmt_tf.layers[2]\n",
    "tr_de_gru = nmt_tf.layers[3]\n",
    "tr_de_dense = nmt_tf.layers[4]"
   ]
  },
  {
   "cell_type": "code",
   "execution_count": 60,
   "metadata": {
    "tags": []
   },
   "outputs": [
    {
     "data": {
      "text/plain": [
       "'\\nGreat work! You successfully copied the weights from the trained model to the inference model. Always remember to perform this step if you have different training and inference models. This will be a difficult error to track down if you miss this step, because the model will still run but the translations will be incorrect.\\n'"
      ]
     },
     "execution_count": 60,
     "metadata": {},
     "output_type": "execute_result"
    }
   ],
   "source": [
    "# exercise 08\n",
    "\n",
    "\"\"\"\n",
    "Link between the trained and inference model\n",
    "\n",
    "Here you will be transferring the trained weights from the trained model to the inference model. In the encoder decoder model, there are three layers with parameters. They are,\n",
    "\n",
    "    The encoder GRU layer\n",
    "    The decoder GRU layer\n",
    "    The decoder Dense layer\n",
    "\n",
    "The other layers, such as TimeDistributed do not have any parameters, thus don't require the copying of weights.\n",
    "\n",
    "For this exercise, you have been provided with the trained encoder GRU layer (tr_en_gru), trained decoder GRU (tr_de_gru) and the trained Dense layer (tr_de_dense). You also have access to all the layers of the inference model (including the encoder) such as the encoder GRU layer (en_gru), decoder GRU (de_gru) and the Dense layer (de_dense).\n",
    "\"\"\"\n",
    "\n",
    "# Instructions\n",
    "\n",
    "\"\"\"\n",
    "\n",
    "    Load the weights of the trained encoder GRU layer.\n",
    "    Set the weights of the encoder GRU layer of the inference model.\n",
    "    Load the weights for the decoder GRU layer (trained) and set the weights in the inference model.\n",
    "    Load the weights of the decoder Dense layer (trained) and set the weights in the inference model.\n",
    "\n",
    "\"\"\"\n",
    "\n",
    "# solution\n",
    "\n",
    "# Load the weights to the encoder GRU from the trained model\n",
    "en_gru_w = tr_en_gru.get_weights()\n",
    "# Set the weights of the encoder GRU of the inference model\n",
    "en_gru.set_weights(en_gru_w)\n",
    "# Load and set the weights to the decoder GRU\n",
    "de_gru.set_weights(tr_de_gru.get_weights())\n",
    "# Load and set the weights to the decoder Dense\n",
    "de_dense.set_weights(tr_de_dense.get_weights())\n",
    "\n",
    "#----------------------------------#\n",
    "\n",
    "# Conclusion\n",
    "\n",
    "\"\"\"\n",
    "Great work! You successfully copied the weights from the trained model to the inference model. Always remember to perform this step if you have different training and inference models. This will be a difficult error to track down if you miss this step, because the model will still run but the translations will be incorrect.\n",
    "\"\"\""
   ]
  },
  {
   "cell_type": "code",
   "execution_count": 62,
   "metadata": {},
   "outputs": [],
   "source": [
    "from keras.utils import to_categorical\n",
    "def word2onehot(tokenizer, word, vocab_size):\n",
    "    de_seq = tokenizer.texts_to_sequences([[word]])\n",
    "    de_onehot = to_categorical(de_seq, num_classes=vocab_size)\n",
    "    de_onehot = np.expand_dims(de_onehot, axis=1)    \n",
    "    return de_onehot"
   ]
  },
  {
   "cell_type": "code",
   "execution_count": 64,
   "metadata": {},
   "outputs": [],
   "source": [
    "from keras.preprocessing.text import Tokenizer\n",
    "tok = Tokenizer()\n",
    "def probs2word(probs, tok):\n",
    "    wid = np.argmax(probs[0,:], axis=-1)\n",
    "    w = tok.index_word[wid]\n",
    "    return w"
   ]
  },
  {
   "cell_type": "code",
   "execution_count": 68,
   "metadata": {},
   "outputs": [],
   "source": [
    "import pandas as pd\n",
    "data = pd.read_hdf('~/tmp/tmptqied93m/ch4.teacher_forced.h5')"
   ]
  },
  {
   "cell_type": "code",
   "execution_count": 67,
   "metadata": {
    "tags": []
   },
   "outputs": [
    {
     "name": "stdout",
     "output_type": "stream",
     "text": [
      "English: ['the united states is sometimes chilly during december , but it is sometimes freezing in june .']\n"
     ]
    },
    {
     "ename": "AttributeError",
     "evalue": "'GRU' object has no attribute 'predict'",
     "output_type": "error",
     "traceback": [
      "\u001b[0;31m---------------------------------------------------------------------------\u001b[0m",
      "\u001b[0;31mAttributeError\u001b[0m                            Traceback (most recent call last)",
      "Cell \u001b[0;32mIn[67], line 41\u001b[0m\n\u001b[1;32m     39\u001b[0m en_seq \u001b[39m=\u001b[39m sents2seqs(\u001b[39m'\u001b[39m\u001b[39msource\u001b[39m\u001b[39m'\u001b[39m, en_sent, onehot\u001b[39m=\u001b[39m\u001b[39mTrue\u001b[39;00m, reverse\u001b[39m=\u001b[39m\u001b[39mTrue\u001b[39;00m)\n\u001b[1;32m     40\u001b[0m \u001b[39m# Predict the initial decoder state with the encoder\u001b[39;00m\n\u001b[0;32m---> 41\u001b[0m de_s_t \u001b[39m=\u001b[39m en_gru\u001b[39m.\u001b[39;49mpredict(en_seq)\n\u001b[1;32m     42\u001b[0m de_seq \u001b[39m=\u001b[39m word2onehot(fr_tok, \u001b[39m'\u001b[39m\u001b[39msos\u001b[39m\u001b[39m'\u001b[39m, fr_vocab)\n\u001b[1;32m     43\u001b[0m fr_sent \u001b[39m=\u001b[39m \u001b[39m'\u001b[39m\u001b[39m'\u001b[39m\n",
      "\u001b[0;31mAttributeError\u001b[0m: 'GRU' object has no attribute 'predict'"
     ]
    }
   ],
   "source": [
    "# exercise 09\n",
    "\n",
    "\"\"\"\n",
    "Generating translations\n",
    "\n",
    "You will now be generating French translations using an inference model trained using Teacher Forcing.\n",
    "\n",
    "This model (nmt_tf) has been trained for 50 epochs on 100,000 sentences which achieved around 98% accuracy on a 35000+ validation set. It might take longer for this exercise to initialize as the trained model needs to be loaded. You are provided with the sents2seqs() function. You have also been given two new functions:\n",
    "\n",
    "word2onehot(tokenizer, word, vocab_size) which accepts:\n",
    "\n",
    "    tokenizer - A Keras Tokenizer object\n",
    "    word - A string representing a word from the vocabulary (e.g. 'apple')\n",
    "    vocab_size - Vocabulary size\n",
    "\n",
    "probs2word(probs, tok) which accepts:\n",
    "\n",
    "    probs - An output from the model of the shape [1,<French Vocab Size>]\n",
    "    tok - A Keras Tokenizer object\n",
    "\n",
    "You can peak at the source code for these functions by typing print(inspect.getsource(word2onehot)) and print(inspect.getsource(probs2word)) in the console.\n",
    "\"\"\"\n",
    "\n",
    "# Instructions\n",
    "\n",
    "\"\"\"\n",
    "\n",
    "    Predict the initial decoder state (de_s_t) with the encoder.\n",
    "    Predict the output and the new state from the decoder using the previous prediction (output) and the previous state as inputs. Remember to recursively generate the new state.\n",
    "    Get the word string from the probability output using the probs2word() function.\n",
    "    Convert the word string to a one-hot sequence using the word2onehot() function.\n",
    "\n",
    "\"\"\"\n",
    "\n",
    "# solution\n",
    "\n",
    "en_sent = ['the united states is sometimes chilly during december , but it is sometimes freezing in june .']\n",
    "print('English: {}'.format(en_sent))\n",
    "en_seq = sents2seqs('source', en_sent, onehot=True, reverse=True)\n",
    "# Predict the initial decoder state with the encoder\n",
    "de_s_t = en.predict(en_seq)\n",
    "de_seq = word2onehot(fr_tok, 'sos', fr_vocab)\n",
    "fr_sent = ''\n",
    "for i in range(fr_len):    \n",
    "  # Predict from the decoder and recursively assign the new state to de_s_t\n",
    "  de_prob, de_s_t = decoder.predict([de_seq,de_s_t])\n",
    "  # Get the word from the probability output using probs2word\n",
    "  de_w = probs2word(de_prob, fr_tok)\n",
    "  # Convert the word to a onehot sequence using word2onehot\n",
    "  de_seq = word2onehot(fr_tok, de_w, fr_vocab)\n",
    "  if de_w == 'eos': break\n",
    "  fr_sent += de_w + ' '\n",
    "print(\"French (Ours): {}\".format(fr_sent))\n",
    "print(\"French (Google Translate): les etats-unis sont parfois froids en décembre, mais parfois gelés en juin\")\n",
    "\n",
    "#----------------------------------#\n",
    "\n",
    "# Conclusion\n",
    "\n",
    "\"\"\"\n",
    "Congratulations! You now know a lot about Teacher Forcing, including how to train a model with Teacher Forcing and how to generate translations from such a model. Teacher Forcing is a commonly used technique for training sequence-to-sequence models.\n",
    "\"\"\""
   ]
  },
  {
   "cell_type": "code",
   "execution_count": 9,
   "metadata": {
    "tags": []
   },
   "outputs": [
    {
     "data": {
      "text/plain": [
       "'\\n\\n'"
      ]
     },
     "execution_count": 9,
     "metadata": {},
     "output_type": "execute_result"
    }
   ],
   "source": [
    "# exercise 10\n",
    "\n",
    "\"\"\"\n",
    "Measuring word vector similarity\n",
    "\n",
    "In this lesson we will understand the power of word vectors using real world trained word vectors. These are word vectors extracted from a list of word vectors published by the Stanford NLP group. A word vector is a sequence or a vector of numerical values. For example, dog = (0.31, 0.92, 0.13)\n",
    "(https://nlp.stanford.edu/projects/glove/)\n",
    "The distance between word vectors can be measured using a pair-wise similarity metric. Here we will be using sklearn.metrics.pairwise.cosine_similarity. Cosine similarity produces a higher values when the element-wise similarity of two vectors is high and vice-versa.\n",
    "\"\"\"\n",
    "\n",
    "# Instructions\n",
    "\n",
    "\"\"\"\n",
    "\n",
    "    Print the length of the cat_vector using ndarray.size attribute.\n",
    "    Compute and print the similarity between the cat_vector and window_vector using cosine_similarity.\n",
    "    Compute and print the similarity between the cat_vector and dog_vector using cosine_similarity.\n",
    "\n",
    "\"\"\"\n",
    "\n",
    "# solution\n",
    "\n",
    "from sklearn.metrics.pairwise import cosine_similarity\n",
    "\n",
    "# Print the length of the cat_vector\n",
    "print('Length of the cat_vector: ', cat_vector.size)\n",
    "\n",
    "# Compute and print the similarity between cat and window vectors\n",
    "dist_cat_window = cosine_similarity(cat_vector, window_vector)\n",
    "print('Similarity(cat, window): ', dist_cat_window)\n",
    "\n",
    "# Compute and print the similarity between cat and dog vectors\n",
    "print('Similarity(cat,dog): ', cosine_similarity(cat_vector, dog_vector))\n",
    "\n",
    "#----------------------------------#\n",
    "\n",
    "# Conclusion\n",
    "\n",
    "\"\"\"\n",
    "Congratulations, you have now learned how to measure the similarity between word vectors. This is quite useful to measure similarity between high dimensional word vectors.\n",
    "\"\"\""
   ]
  },
  {
   "cell_type": "code",
   "execution_count": 71,
   "metadata": {},
   "outputs": [
    {
     "name": "stderr",
     "output_type": "stream",
     "text": [
      "2023-08-02 10:19:10.415119: I tensorflow/core/common_runtime/executor.cc:1197] [/device:CPU:0] (DEBUG INFO) Executor start aborting (this does not indicate an error and you can ignore this message): INVALID_ARGUMENT: You must feed a value for placeholder tensor 'gradients/split_2_grad/concat/split_2/split_dim' with dtype int32\n",
      "\t [[{{node gradients/split_2_grad/concat/split_2/split_dim}}]]\n",
      "2023-08-02 10:19:10.420744: I tensorflow/core/common_runtime/executor.cc:1197] [/device:CPU:0] (DEBUG INFO) Executor start aborting (this does not indicate an error and you can ignore this message): INVALID_ARGUMENT: You must feed a value for placeholder tensor 'gradients/split_grad/concat/split/split_dim' with dtype int32\n",
      "\t [[{{node gradients/split_grad/concat/split/split_dim}}]]\n",
      "2023-08-02 10:19:10.424760: I tensorflow/core/common_runtime/executor.cc:1197] [/device:CPU:0] (DEBUG INFO) Executor start aborting (this does not indicate an error and you can ignore this message): INVALID_ARGUMENT: You must feed a value for placeholder tensor 'gradients/split_1_grad/concat/split_1/split_dim' with dtype int32\n",
      "\t [[{{node gradients/split_1_grad/concat/split_1/split_dim}}]]\n",
      "2023-08-02 10:19:11.028979: I tensorflow/core/common_runtime/executor.cc:1197] [/device:CPU:0] (DEBUG INFO) Executor start aborting (this does not indicate an error and you can ignore this message): INVALID_ARGUMENT: You must feed a value for placeholder tensor 'gradients/split_2_grad/concat/split_2/split_dim' with dtype int32\n",
      "\t [[{{node gradients/split_2_grad/concat/split_2/split_dim}}]]\n",
      "2023-08-02 10:19:11.034273: I tensorflow/core/common_runtime/executor.cc:1197] [/device:CPU:0] (DEBUG INFO) Executor start aborting (this does not indicate an error and you can ignore this message): INVALID_ARGUMENT: You must feed a value for placeholder tensor 'gradients/split_grad/concat/split/split_dim' with dtype int32\n",
      "\t [[{{node gradients/split_grad/concat/split/split_dim}}]]\n",
      "2023-08-02 10:19:11.037841: I tensorflow/core/common_runtime/executor.cc:1197] [/device:CPU:0] (DEBUG INFO) Executor start aborting (this does not indicate an error and you can ignore this message): INVALID_ARGUMENT: You must feed a value for placeholder tensor 'gradients/split_1_grad/concat/split_1/split_dim' with dtype int32\n",
      "\t [[{{node gradients/split_1_grad/concat/split_1/split_dim}}]]\n"
     ]
    },
    {
     "data": {
      "text/plain": [
       "'\\nCongratulations! You just implemented a machine translation model that uses an embedding layer. Embeddings are much more powerful than onehot vectors as the capture semantic relationships between words. Therefore you can expect better performance with an embeddings layer.\\n'"
      ]
     },
     "execution_count": 71,
     "metadata": {},
     "output_type": "execute_result"
    }
   ],
   "source": [
    "# exercise 11\n",
    "\n",
    "\"\"\"\n",
    "Defining the embedding model\n",
    "\n",
    "You will be defining a Keras model that:\n",
    "\n",
    "    Uses Embedding layers\n",
    "    Will be trained with Teacher Forcing\n",
    "\n",
    "This model will have two embedding layers; an encoder embedding layer and a decoder embedding layer. Furthermore, as the model is trained using Teacher Forcing, it will use a sequence length of fr_len-1 in the decoder Input layer.\n",
    "\n",
    "For this exercise, you have all the required keras.layers and Model imported. Furthermore the variables, en_len (English sequence length), fr_len (French sequence length), en_vocab (English vocabulary size), fr_vocab (French vocabulary size) and hsize (hidden size) have been defined.\n",
    "\"\"\"\n",
    "\n",
    "# Instructions\n",
    "\n",
    "\"\"\"\n",
    "\n",
    "    Define an Input layer which accepts a sequence of word IDs.\n",
    "    Define an Embedding layer that embeds en_vocab words, has length 96 and can accept a sequence of IDs (sequence length is specified using the input_length argument).\n",
    "    Define an Embedding layer that embeds fr_vocab words, has length 96 and can accept a sequence of fr_len-1 IDs.\n",
    "    Define a model that takes an input from the encoder and an input from the decoder (in that order) and outputs the word predictions.\n",
    "\n",
    "\"\"\"\n",
    "\n",
    "from keras.layers import Input, Embedding, GRU, TimeDistributed, Dense\n",
    "from keras.models import Model\n",
    "\n",
    "# solution\n",
    "\n",
    "# Define an input layer which accepts a sequence of word IDs\n",
    "en_inputs = Input(shape=(en_len,))\n",
    "# Define an Embedding layer which accepts en_inputs\n",
    "en_emb = Embedding(en_vocab, 96, input_length=en_len)(en_inputs)\n",
    "en_out, en_state = GRU(hsize, return_state=True)(en_emb)\n",
    "\n",
    "de_inputs = Input(shape=(fr_len-1,))\n",
    "# Define an Embedding layer which accepts de_inputs\n",
    "de_emb = Embedding(fr_vocab, 96, input_length=fr_len-1)(de_inputs)\n",
    "de_out, _ = GRU(hsize, return_sequences=True, return_state=True)(de_emb, initial_state=en_state)\n",
    "de_pred = TimeDistributed(Dense(fr_vocab, activation='softmax'))(de_out)\n",
    "\n",
    "# Define the Model which accepts encoder/decoder inputs and outputs predictions \n",
    "nmt_emb = Model([en_inputs, de_inputs], de_pred)\n",
    "nmt_emb.compile(optimizer='adam', loss='categorical_crossentropy', metrics=['acc'])\n",
    "\n",
    "#----------------------------------#\n",
    "\n",
    "# Conclusion\n",
    "\n",
    "\"\"\"\n",
    "Congratulations! You just implemented a machine translation model that uses an embedding layer. Embeddings are much more powerful than onehot vectors as the capture semantic relationships between words. Therefore you can expect better performance with an embeddings layer.\n",
    "\"\"\""
   ]
  },
  {
   "cell_type": "code",
   "execution_count": 72,
   "metadata": {},
   "outputs": [
    {
     "name": "stderr",
     "output_type": "stream",
     "text": [
      "2023-08-02 10:19:25.428556: I tensorflow/core/common_runtime/executor.cc:1197] [/device:CPU:0] (DEBUG INFO) Executor start aborting (this does not indicate an error and you can ignore this message): INVALID_ARGUMENT: You must feed a value for placeholder tensor 'Placeholder/_2' with dtype float and shape [250,19,250]\n",
      "\t [[{{node Placeholder/_2}}]]\n",
      "2023-08-02 10:19:26.154149: I tensorflow/core/common_runtime/executor.cc:1197] [/device:CPU:0] (DEBUG INFO) Executor start aborting (this does not indicate an error and you can ignore this message): INVALID_ARGUMENT: You must feed a value for placeholder tensor 'gradients/split_2_grad/concat/split_2/split_dim' with dtype int32\n",
      "\t [[{{node gradients/split_2_grad/concat/split_2/split_dim}}]]\n",
      "2023-08-02 10:19:26.162324: I tensorflow/core/common_runtime/executor.cc:1197] [/device:CPU:0] (DEBUG INFO) Executor start aborting (this does not indicate an error and you can ignore this message): INVALID_ARGUMENT: You must feed a value for placeholder tensor 'gradients/split_grad/concat/split/split_dim' with dtype int32\n",
      "\t [[{{node gradients/split_grad/concat/split/split_dim}}]]\n",
      "2023-08-02 10:19:26.167299: I tensorflow/core/common_runtime/executor.cc:1197] [/device:CPU:0] (DEBUG INFO) Executor start aborting (this does not indicate an error and you can ignore this message): INVALID_ARGUMENT: You must feed a value for placeholder tensor 'gradients/split_1_grad/concat/split_1/split_dim' with dtype int32\n",
      "\t [[{{node gradients/split_1_grad/concat/split_1/split_dim}}]]\n",
      "2023-08-02 10:19:26.878434: I tensorflow/core/common_runtime/executor.cc:1197] [/device:CPU:0] (DEBUG INFO) Executor start aborting (this does not indicate an error and you can ignore this message): INVALID_ARGUMENT: You must feed a value for placeholder tensor 'gradients/split_2_grad/concat/split_2/split_dim' with dtype int32\n",
      "\t [[{{node gradients/split_2_grad/concat/split_2/split_dim}}]]\n",
      "2023-08-02 10:19:26.885574: I tensorflow/core/common_runtime/executor.cc:1197] [/device:CPU:0] (DEBUG INFO) Executor start aborting (this does not indicate an error and you can ignore this message): INVALID_ARGUMENT: You must feed a value for placeholder tensor 'gradients/split_grad/concat/split/split_dim' with dtype int32\n",
      "\t [[{{node gradients/split_grad/concat/split/split_dim}}]]\n",
      "2023-08-02 10:19:26.890727: I tensorflow/core/common_runtime/executor.cc:1197] [/device:CPU:0] (DEBUG INFO) Executor start aborting (this does not indicate an error and you can ignore this message): INVALID_ARGUMENT: You must feed a value for placeholder tensor 'gradients/split_1_grad/concat/split_1/split_dim' with dtype int32\n",
      "\t [[{{node gradients/split_1_grad/concat/split_1/split_dim}}]]\n",
      "2023-08-02 10:19:29.916444: I tensorflow/core/common_runtime/executor.cc:1197] [/device:CPU:0] (DEBUG INFO) Executor start aborting (this does not indicate an error and you can ignore this message): INVALID_ARGUMENT: You must feed a value for placeholder tensor 'gradients/split_2_grad/concat/split_2/split_dim' with dtype int32\n",
      "\t [[{{node gradients/split_2_grad/concat/split_2/split_dim}}]]\n",
      "2023-08-02 10:19:29.923424: I tensorflow/core/common_runtime/executor.cc:1197] [/device:CPU:0] (DEBUG INFO) Executor start aborting (this does not indicate an error and you can ignore this message): INVALID_ARGUMENT: You must feed a value for placeholder tensor 'gradients/split_grad/concat/split/split_dim' with dtype int32\n",
      "\t [[{{node gradients/split_grad/concat/split/split_dim}}]]\n",
      "2023-08-02 10:19:29.928351: I tensorflow/core/common_runtime/executor.cc:1197] [/device:CPU:0] (DEBUG INFO) Executor start aborting (this does not indicate an error and you can ignore this message): INVALID_ARGUMENT: You must feed a value for placeholder tensor 'gradients/split_1_grad/concat/split_1/split_dim' with dtype int32\n",
      "\t [[{{node gradients/split_1_grad/concat/split_1/split_dim}}]]\n",
      "2023-08-02 10:19:30.536011: I tensorflow/core/common_runtime/executor.cc:1197] [/device:CPU:0] (DEBUG INFO) Executor start aborting (this does not indicate an error and you can ignore this message): INVALID_ARGUMENT: You must feed a value for placeholder tensor 'gradients/split_2_grad/concat/split_2/split_dim' with dtype int32\n",
      "\t [[{{node gradients/split_2_grad/concat/split_2/split_dim}}]]\n",
      "2023-08-02 10:19:30.540650: I tensorflow/core/common_runtime/executor.cc:1197] [/device:CPU:0] (DEBUG INFO) Executor start aborting (this does not indicate an error and you can ignore this message): INVALID_ARGUMENT: You must feed a value for placeholder tensor 'gradients/split_grad/concat/split/split_dim' with dtype int32\n",
      "\t [[{{node gradients/split_grad/concat/split/split_dim}}]]\n",
      "2023-08-02 10:19:30.544414: I tensorflow/core/common_runtime/executor.cc:1197] [/device:CPU:0] (DEBUG INFO) Executor start aborting (this does not indicate an error and you can ignore this message): INVALID_ARGUMENT: You must feed a value for placeholder tensor 'gradients/split_1_grad/concat/split_1/split_dim' with dtype int32\n",
      "\t [[{{node gradients/split_1_grad/concat/split_1/split_dim}}]]\n",
      "2023-08-02 10:19:36.636504: I tensorflow/core/common_runtime/executor.cc:1197] [/device:CPU:0] (DEBUG INFO) Executor start aborting (this does not indicate an error and you can ignore this message): INVALID_ARGUMENT: You must feed a value for placeholder tensor 'gradients/split_2_grad/concat/split_2/split_dim' with dtype int32\n",
      "\t [[{{node gradients/split_2_grad/concat/split_2/split_dim}}]]\n",
      "2023-08-02 10:19:36.649012: I tensorflow/core/common_runtime/executor.cc:1197] [/device:CPU:0] (DEBUG INFO) Executor start aborting (this does not indicate an error and you can ignore this message): INVALID_ARGUMENT: You must feed a value for placeholder tensor 'gradients/split_grad/concat/split/split_dim' with dtype int32\n",
      "\t [[{{node gradients/split_grad/concat/split/split_dim}}]]\n",
      "2023-08-02 10:19:36.658512: I tensorflow/core/common_runtime/executor.cc:1197] [/device:CPU:0] (DEBUG INFO) Executor start aborting (this does not indicate an error and you can ignore this message): INVALID_ARGUMENT: You must feed a value for placeholder tensor 'gradients/split_1_grad/concat/split_1/split_dim' with dtype int32\n",
      "\t [[{{node gradients/split_1_grad/concat/split_1/split_dim}}]]\n",
      "2023-08-02 10:19:37.594147: I tensorflow/core/common_runtime/executor.cc:1197] [/device:CPU:0] (DEBUG INFO) Executor start aborting (this does not indicate an error and you can ignore this message): INVALID_ARGUMENT: You must feed a value for placeholder tensor 'gradients/split_2_grad/concat/split_2/split_dim' with dtype int32\n",
      "\t [[{{node gradients/split_2_grad/concat/split_2/split_dim}}]]\n",
      "2023-08-02 10:19:37.602748: I tensorflow/core/common_runtime/executor.cc:1197] [/device:CPU:0] (DEBUG INFO) Executor start aborting (this does not indicate an error and you can ignore this message): INVALID_ARGUMENT: You must feed a value for placeholder tensor 'gradients/split_grad/concat/split/split_dim' with dtype int32\n",
      "\t [[{{node gradients/split_grad/concat/split/split_dim}}]]\n",
      "2023-08-02 10:19:37.612508: I tensorflow/core/common_runtime/executor.cc:1197] [/device:CPU:0] (DEBUG INFO) Executor start aborting (this does not indicate an error and you can ignore this message): INVALID_ARGUMENT: You must feed a value for placeholder tensor 'gradients/split_1_grad/concat/split_1/split_dim' with dtype int32\n",
      "\t [[{{node gradients/split_1_grad/concat/split_1/split_dim}}]]\n"
     ]
    },
    {
     "name": "stdout",
     "output_type": "stream",
     "text": [
      "1 => Loss:5.508350849151611, Train Acc: 3.83157879114151\n"
     ]
    },
    {
     "name": "stderr",
     "output_type": "stream",
     "text": [
      "2023-08-02 10:19:39.094151: I tensorflow/core/common_runtime/executor.cc:1197] [/device:CPU:0] (DEBUG INFO) Executor start aborting (this does not indicate an error and you can ignore this message): INVALID_ARGUMENT: You must feed a value for placeholder tensor 'Placeholder/_2' with dtype float and shape [250,19,250]\n",
      "\t [[{{node Placeholder/_2}}]]\n"
     ]
    },
    {
     "name": "stdout",
     "output_type": "stream",
     "text": [
      "1 => Loss:5.496906757354736, Train Acc: 37.41052746772766\n"
     ]
    },
    {
     "name": "stderr",
     "output_type": "stream",
     "text": [
      "2023-08-02 10:19:39.859046: I tensorflow/core/common_runtime/executor.cc:1197] [/device:CPU:0] (DEBUG INFO) Executor start aborting (this does not indicate an error and you can ignore this message): INVALID_ARGUMENT: You must feed a value for placeholder tensor 'Placeholder/_2' with dtype float and shape [250,19,250]\n",
      "\t [[{{node Placeholder/_2}}]]\n"
     ]
    },
    {
     "name": "stdout",
     "output_type": "stream",
     "text": [
      "1 => Loss:5.484427452087402, Train Acc: 41.53684079647064\n"
     ]
    },
    {
     "name": "stderr",
     "output_type": "stream",
     "text": [
      "2023-08-02 10:19:40.535973: I tensorflow/core/common_runtime/executor.cc:1197] [/device:CPU:0] (DEBUG INFO) Executor start aborting (this does not indicate an error and you can ignore this message): INVALID_ARGUMENT: You must feed a value for placeholder tensor 'Placeholder/_2' with dtype float and shape [50,19,250]\n",
      "\t [[{{node Placeholder/_2}}]]\n",
      "2023-08-02 10:19:41.489219: I tensorflow/core/common_runtime/executor.cc:1197] [/device:CPU:0] (DEBUG INFO) Executor start aborting (this does not indicate an error and you can ignore this message): INVALID_ARGUMENT: You must feed a value for placeholder tensor 'gradients/split_2_grad/concat/split_2/split_dim' with dtype int32\n",
      "\t [[{{node gradients/split_2_grad/concat/split_2/split_dim}}]]\n",
      "2023-08-02 10:19:41.495239: I tensorflow/core/common_runtime/executor.cc:1197] [/device:CPU:0] (DEBUG INFO) Executor start aborting (this does not indicate an error and you can ignore this message): INVALID_ARGUMENT: You must feed a value for placeholder tensor 'gradients/split_grad/concat/split/split_dim' with dtype int32\n",
      "\t [[{{node gradients/split_grad/concat/split/split_dim}}]]\n",
      "2023-08-02 10:19:41.502857: I tensorflow/core/common_runtime/executor.cc:1197] [/device:CPU:0] (DEBUG INFO) Executor start aborting (this does not indicate an error and you can ignore this message): INVALID_ARGUMENT: You must feed a value for placeholder tensor 'gradients/split_1_grad/concat/split_1/split_dim' with dtype int32\n",
      "\t [[{{node gradients/split_1_grad/concat/split_1/split_dim}}]]\n",
      "2023-08-02 10:19:42.282247: I tensorflow/core/common_runtime/executor.cc:1197] [/device:CPU:0] (DEBUG INFO) Executor start aborting (this does not indicate an error and you can ignore this message): INVALID_ARGUMENT: You must feed a value for placeholder tensor 'gradients/split_2_grad/concat/split_2/split_dim' with dtype int32\n",
      "\t [[{{node gradients/split_2_grad/concat/split_2/split_dim}}]]\n",
      "2023-08-02 10:19:42.289503: I tensorflow/core/common_runtime/executor.cc:1197] [/device:CPU:0] (DEBUG INFO) Executor start aborting (this does not indicate an error and you can ignore this message): INVALID_ARGUMENT: You must feed a value for placeholder tensor 'gradients/split_grad/concat/split/split_dim' with dtype int32\n",
      "\t [[{{node gradients/split_grad/concat/split/split_dim}}]]\n",
      "2023-08-02 10:19:42.296378: I tensorflow/core/common_runtime/executor.cc:1197] [/device:CPU:0] (DEBUG INFO) Executor start aborting (this does not indicate an error and you can ignore this message): INVALID_ARGUMENT: You must feed a value for placeholder tensor 'gradients/split_1_grad/concat/split_1/split_dim' with dtype int32\n",
      "\t [[{{node gradients/split_1_grad/concat/split_1/split_dim}}]]\n",
      "2023-08-02 10:19:49.975129: I tensorflow/core/common_runtime/executor.cc:1197] [/device:CPU:0] (DEBUG INFO) Executor start aborting (this does not indicate an error and you can ignore this message): INVALID_ARGUMENT: You must feed a value for placeholder tensor 'gradients/split_2_grad/concat/split_2/split_dim' with dtype int32\n",
      "\t [[{{node gradients/split_2_grad/concat/split_2/split_dim}}]]\n",
      "2023-08-02 10:19:49.980732: I tensorflow/core/common_runtime/executor.cc:1197] [/device:CPU:0] (DEBUG INFO) Executor start aborting (this does not indicate an error and you can ignore this message): INVALID_ARGUMENT: You must feed a value for placeholder tensor 'gradients/split_grad/concat/split/split_dim' with dtype int32\n",
      "\t [[{{node gradients/split_grad/concat/split/split_dim}}]]\n",
      "2023-08-02 10:19:49.990156: I tensorflow/core/common_runtime/executor.cc:1197] [/device:CPU:0] (DEBUG INFO) Executor start aborting (this does not indicate an error and you can ignore this message): INVALID_ARGUMENT: You must feed a value for placeholder tensor 'gradients/split_1_grad/concat/split_1/split_dim' with dtype int32\n",
      "\t [[{{node gradients/split_1_grad/concat/split_1/split_dim}}]]\n",
      "2023-08-02 10:19:50.700114: I tensorflow/core/common_runtime/executor.cc:1197] [/device:CPU:0] (DEBUG INFO) Executor start aborting (this does not indicate an error and you can ignore this message): INVALID_ARGUMENT: You must feed a value for placeholder tensor 'gradients/split_2_grad/concat/split_2/split_dim' with dtype int32\n",
      "\t [[{{node gradients/split_2_grad/concat/split_2/split_dim}}]]\n",
      "2023-08-02 10:19:50.707703: I tensorflow/core/common_runtime/executor.cc:1197] [/device:CPU:0] (DEBUG INFO) Executor start aborting (this does not indicate an error and you can ignore this message): INVALID_ARGUMENT: You must feed a value for placeholder tensor 'gradients/split_grad/concat/split/split_dim' with dtype int32\n",
      "\t [[{{node gradients/split_grad/concat/split/split_dim}}]]\n",
      "2023-08-02 10:19:50.713420: I tensorflow/core/common_runtime/executor.cc:1197] [/device:CPU:0] (DEBUG INFO) Executor start aborting (this does not indicate an error and you can ignore this message): INVALID_ARGUMENT: You must feed a value for placeholder tensor 'gradients/split_1_grad/concat/split_1/split_dim' with dtype int32\n",
      "\t [[{{node gradients/split_1_grad/concat/split_1/split_dim}}]]\n"
     ]
    },
    {
     "name": "stdout",
     "output_type": "stream",
     "text": [
      "1 => Loss:5.467924118041992, Train Acc: 47.578948736190796\n"
     ]
    },
    {
     "name": "stderr",
     "output_type": "stream",
     "text": [
      "2023-08-02 10:19:51.728374: I tensorflow/core/common_runtime/executor.cc:1197] [/device:CPU:0] (DEBUG INFO) Executor start aborting (this does not indicate an error and you can ignore this message): INVALID_ARGUMENT: You must feed a value for placeholder tensor 'Placeholder/_2' with dtype float and shape [250,19,250]\n",
      "\t [[{{node Placeholder/_2}}]]\n"
     ]
    },
    {
     "name": "stdout",
     "output_type": "stream",
     "text": [
      "2 => Loss:5.4567999839782715, Train Acc: 44.02105212211609\n"
     ]
    },
    {
     "name": "stderr",
     "output_type": "stream",
     "text": [
      "2023-08-02 10:19:52.172009: I tensorflow/core/common_runtime/executor.cc:1197] [/device:CPU:0] (DEBUG INFO) Executor start aborting (this does not indicate an error and you can ignore this message): INVALID_ARGUMENT: You must feed a value for placeholder tensor 'Placeholder/_2' with dtype float and shape [250,19,250]\n",
      "\t [[{{node Placeholder/_2}}]]\n"
     ]
    },
    {
     "name": "stdout",
     "output_type": "stream",
     "text": [
      "2 => Loss:5.4431071281433105, Train Acc: 42.90526211261749\n"
     ]
    },
    {
     "name": "stderr",
     "output_type": "stream",
     "text": [
      "2023-08-02 10:19:52.623939: I tensorflow/core/common_runtime/executor.cc:1197] [/device:CPU:0] (DEBUG INFO) Executor start aborting (this does not indicate an error and you can ignore this message): INVALID_ARGUMENT: You must feed a value for placeholder tensor 'Placeholder/_2' with dtype float and shape [250,19,250]\n",
      "\t [[{{node Placeholder/_2}}]]\n"
     ]
    },
    {
     "name": "stdout",
     "output_type": "stream",
     "text": [
      "2 => Loss:5.426426887512207, Train Acc: 42.84210503101349\n"
     ]
    },
    {
     "name": "stderr",
     "output_type": "stream",
     "text": [
      "2023-08-02 10:19:53.052599: I tensorflow/core/common_runtime/executor.cc:1197] [/device:CPU:0] (DEBUG INFO) Executor start aborting (this does not indicate an error and you can ignore this message): INVALID_ARGUMENT: You must feed a value for placeholder tensor 'Placeholder/_2' with dtype float and shape [50,19,250]\n",
      "\t [[{{node Placeholder/_2}}]]\n"
     ]
    },
    {
     "name": "stdout",
     "output_type": "stream",
     "text": [
      "2 => Loss:5.3997416496276855, Train Acc: 45.89473605155945\n"
     ]
    },
    {
     "name": "stderr",
     "output_type": "stream",
     "text": [
      "2023-08-02 10:19:53.350907: I tensorflow/core/common_runtime/executor.cc:1197] [/device:CPU:0] (DEBUG INFO) Executor start aborting (this does not indicate an error and you can ignore this message): INVALID_ARGUMENT: You must feed a value for placeholder tensor 'Placeholder/_2' with dtype float and shape [250,19,250]\n",
      "\t [[{{node Placeholder/_2}}]]\n"
     ]
    },
    {
     "name": "stdout",
     "output_type": "stream",
     "text": [
      "3 => Loss:5.3860931396484375, Train Acc: 43.13684105873108\n"
     ]
    },
    {
     "name": "stderr",
     "output_type": "stream",
     "text": [
      "2023-08-02 10:19:53.786462: I tensorflow/core/common_runtime/executor.cc:1197] [/device:CPU:0] (DEBUG INFO) Executor start aborting (this does not indicate an error and you can ignore this message): INVALID_ARGUMENT: You must feed a value for placeholder tensor 'Placeholder/_2' with dtype float and shape [250,19,250]\n",
      "\t [[{{node Placeholder/_2}}]]\n"
     ]
    },
    {
     "name": "stdout",
     "output_type": "stream",
     "text": [
      "3 => Loss:5.366455078125, Train Acc: 41.91578924655914\n"
     ]
    },
    {
     "name": "stderr",
     "output_type": "stream",
     "text": [
      "2023-08-02 10:19:54.219681: I tensorflow/core/common_runtime/executor.cc:1197] [/device:CPU:0] (DEBUG INFO) Executor start aborting (this does not indicate an error and you can ignore this message): INVALID_ARGUMENT: You must feed a value for placeholder tensor 'Placeholder/_2' with dtype float and shape [250,19,250]\n",
      "\t [[{{node Placeholder/_2}}]]\n"
     ]
    },
    {
     "name": "stdout",
     "output_type": "stream",
     "text": [
      "3 => Loss:5.341002941131592, Train Acc: 41.87368452548981\n"
     ]
    },
    {
     "name": "stderr",
     "output_type": "stream",
     "text": [
      "2023-08-02 10:19:54.633589: I tensorflow/core/common_runtime/executor.cc:1197] [/device:CPU:0] (DEBUG INFO) Executor start aborting (this does not indicate an error and you can ignore this message): INVALID_ARGUMENT: You must feed a value for placeholder tensor 'Placeholder/_2' with dtype float and shape [50,19,250]\n",
      "\t [[{{node Placeholder/_2}}]]\n"
     ]
    },
    {
     "name": "stdout",
     "output_type": "stream",
     "text": [
      "3 => Loss:5.296236515045166, Train Acc: 45.36842107772827\n"
     ]
    },
    {
     "data": {
      "text/plain": [
       "'\\nCongratulations! You now understand how to use word embedding to improve a machine translation model. You can get reasonably good results (i.e. ~98% validation accuracy) by using the full dataset to train the model. There are also more techniques like making models deeper and introducing an attention mechanism that can greatly improve the performance of machine translation models.\\n'"
      ]
     },
     "execution_count": 72,
     "metadata": {},
     "output_type": "execute_result"
    }
   ],
   "source": [
    "# exercise 12\n",
    "\n",
    "\"\"\"\n",
    "Training the word embedding based model\n",
    "\n",
    "Here you will learn how to implement the training process for a machine translator model that uses word embeddings. A word is represented as a single number instead of a one-hot encoded vector as you did in previous exercises. You will train the model for multiple epochs while traversing through the full dataset in batches.\n",
    "\n",
    "For this exercise you are provided with training data (tr_en and tr_fr) in the form of a list of sentences. You will only use a very small sample (1000 sentences) of the actual data as it can otherwise take very long to train. You also have the sents2seqs() function and the model, nmt_emb, that you implemented in the previous exercise. Remember that we use en_x to refer to encoder inputs and de_x to refer to decoder inputs.\n",
    "\n",
    "\n",
    "\"\"\"\n",
    "\n",
    "# Instructions\n",
    "\n",
    "\"\"\"\n",
    "\n",
    "    Get a single batch of French sentences without onehot encoding using the sents2seqs() function.\n",
    "    Get all the words except the last from de_xy.\n",
    "    Get all the words except the first from de_xy_oh (French words with onehot encoding).\n",
    "    Train the model using a single batch of data\n",
    "\n",
    "\"\"\"\n",
    "\n",
    "# solution\n",
    "\n",
    "for ei in range(3):\n",
    "  for i in range(0, train_size, bsize):    \n",
    "    en_x = sents2seqs('source', tr_en[i:i+bsize], onehot=False, reverse=True)\n",
    "    # Get a single batch of French sentences with no onehot encoding\n",
    "    de_xy = sents2seqs('target', tr_fr[i:i+bsize], onehot=False)\n",
    "    # Get all words except the last word in that batch\n",
    "    de_x = de_xy[:,:-1]\n",
    "    de_xy_oh = sents2seqs('target', tr_fr[i:i+bsize], onehot=True)\n",
    "    # Get all words except the first from de_xy_oh\n",
    "    de_y = de_xy_oh[:,1:,:]\n",
    "    # Training the model on a single batch of data\n",
    "    nmt_emb.train_on_batch([en_x,de_x], de_y)    \n",
    "    res = nmt_emb.evaluate([en_x, de_x], de_y, batch_size=bsize, verbose=0)\n",
    "    print(\"{} => Loss:{}, Train Acc: {}\".format(ei+1,res[0], res[1]*100.0))\n",
    "\n",
    "#----------------------------------#\n",
    "\n",
    "# Conclusion\n",
    "\n",
    "\"\"\"\n",
    "Congratulations! You now understand how to use word embedding to improve a machine translation model. You can get reasonably good results (i.e. ~98% validation accuracy) by using the full dataset to train the model. There are also more techniques like making models deeper and introducing an attention mechanism that can greatly improve the performance of machine translation models.\n",
    "\"\"\""
   ]
  }
 ],
 "metadata": {
  "kernelspec": {
   "display_name": "Python 3 (ipykernel)",
   "language": "python",
   "name": "python3"
  },
  "language_info": {
   "codemirror_mode": {
    "name": "ipython",
    "version": 3
   },
   "file_extension": ".py",
   "mimetype": "text/x-python",
   "name": "python",
   "nbconvert_exporter": "python",
   "pygments_lexer": "ipython3",
   "version": "3.11.3"
  }
 },
 "nbformat": 4,
 "nbformat_minor": 4
}
