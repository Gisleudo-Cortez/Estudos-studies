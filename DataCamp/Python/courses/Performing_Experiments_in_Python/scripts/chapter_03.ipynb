{
 "cells": [
  {
   "cell_type": "code",
   "execution_count": 68,
   "metadata": {
    "tags": []
   },
   "outputs": [],
   "source": [
    "# run this to shorten the data import from the files\n",
    "path_data = '/home/nero/Documents/Estudos/DataCamp/Python/courses/Performing_Experiments_in_Python/datasets/'\n",
    "import pandas as pd\n",
    "import numpy as np\n",
    "import plotnine as p9\n",
    "from scipy import stats\n",
    "import statsmodels as sm"
   ]
  },
  {
   "cell_type": "code",
   "execution_count": 69,
   "metadata": {},
   "outputs": [
    {
     "data": {
      "text/html": [
       "<div>\n",
       "<style scoped>\n",
       "    .dataframe tbody tr th:only-of-type {\n",
       "        vertical-align: middle;\n",
       "    }\n",
       "\n",
       "    .dataframe tbody tr th {\n",
       "        vertical-align: top;\n",
       "    }\n",
       "\n",
       "    .dataframe thead th {\n",
       "        text-align: right;\n",
       "    }\n",
       "</style>\n",
       "<table border=\"1\" class=\"dataframe\">\n",
       "  <thead>\n",
       "    <tr style=\"text-align: right;\">\n",
       "      <th></th>\n",
       "      <th>Unnamed: 0.1</th>\n",
       "      <th>Unnamed: 0</th>\n",
       "      <th>Name</th>\n",
       "      <th>Sex</th>\n",
       "      <th>Age</th>\n",
       "      <th>Height</th>\n",
       "      <th>Weight</th>\n",
       "      <th>Team</th>\n",
       "      <th>NOC</th>\n",
       "      <th>Games</th>\n",
       "      <th>Year</th>\n",
       "      <th>City</th>\n",
       "      <th>Sport</th>\n",
       "      <th>Event</th>\n",
       "      <th>Medal</th>\n",
       "    </tr>\n",
       "  </thead>\n",
       "  <tbody>\n",
       "    <tr>\n",
       "      <th>1</th>\n",
       "      <td>507</td>\n",
       "      <td>1848</td>\n",
       "      <td>Nathan Ghar-Jun Adrian</td>\n",
       "      <td>M</td>\n",
       "      <td>27.0</td>\n",
       "      <td>198.0</td>\n",
       "      <td>100.0</td>\n",
       "      <td>United States</td>\n",
       "      <td>USA</td>\n",
       "      <td>2016 Summer</td>\n",
       "      <td>2016</td>\n",
       "      <td>Rio de Janeiro</td>\n",
       "      <td>Swimming</td>\n",
       "      <td>50 metres Freestyle</td>\n",
       "      <td>Bronze</td>\n",
       "    </tr>\n",
       "    <tr>\n",
       "      <th>2</th>\n",
       "      <td>508</td>\n",
       "      <td>1849</td>\n",
       "      <td>Nathan Ghar-Jun Adrian</td>\n",
       "      <td>M</td>\n",
       "      <td>27.0</td>\n",
       "      <td>198.0</td>\n",
       "      <td>100.0</td>\n",
       "      <td>United States</td>\n",
       "      <td>USA</td>\n",
       "      <td>2016 Summer</td>\n",
       "      <td>2016</td>\n",
       "      <td>Rio de Janeiro</td>\n",
       "      <td>Swimming</td>\n",
       "      <td>100 metres Freestyle</td>\n",
       "      <td>Bronze</td>\n",
       "    </tr>\n",
       "    <tr>\n",
       "      <th>3</th>\n",
       "      <td>509</td>\n",
       "      <td>1850</td>\n",
       "      <td>Nathan Ghar-Jun Adrian</td>\n",
       "      <td>M</td>\n",
       "      <td>27.0</td>\n",
       "      <td>198.0</td>\n",
       "      <td>100.0</td>\n",
       "      <td>United States</td>\n",
       "      <td>USA</td>\n",
       "      <td>2016 Summer</td>\n",
       "      <td>2016</td>\n",
       "      <td>Rio de Janeiro</td>\n",
       "      <td>Swimming</td>\n",
       "      <td>4 x 100 metres Freestyle Relay</td>\n",
       "      <td>Gold</td>\n",
       "    </tr>\n",
       "    <tr>\n",
       "      <th>4</th>\n",
       "      <td>510</td>\n",
       "      <td>1851</td>\n",
       "      <td>Nathan Ghar-Jun Adrian</td>\n",
       "      <td>M</td>\n",
       "      <td>27.0</td>\n",
       "      <td>198.0</td>\n",
       "      <td>100.0</td>\n",
       "      <td>United States</td>\n",
       "      <td>USA</td>\n",
       "      <td>2016 Summer</td>\n",
       "      <td>2016</td>\n",
       "      <td>Rio de Janeiro</td>\n",
       "      <td>Swimming</td>\n",
       "      <td>4 x 100 metres Medley Relay</td>\n",
       "      <td>Gold</td>\n",
       "    </tr>\n",
       "    <tr>\n",
       "      <th>14</th>\n",
       "      <td>2657</td>\n",
       "      <td>10130</td>\n",
       "      <td>Horace Ashenfelter, III</td>\n",
       "      <td>M</td>\n",
       "      <td>29.0</td>\n",
       "      <td>178.0</td>\n",
       "      <td>66.0</td>\n",
       "      <td>United States</td>\n",
       "      <td>USA</td>\n",
       "      <td>1952 Summer</td>\n",
       "      <td>1952</td>\n",
       "      <td>Helsinki</td>\n",
       "      <td>Athletics</td>\n",
       "      <td>3,000 metres Steeplechase</td>\n",
       "      <td>Gold</td>\n",
       "    </tr>\n",
       "  </tbody>\n",
       "</table>\n",
       "</div>"
      ],
      "text/plain": [
       "    Unnamed: 0.1  Unnamed: 0                     Name Sex   Age  Height  \\\n",
       "1            507        1848   Nathan Ghar-Jun Adrian   M  27.0   198.0   \n",
       "2            508        1849   Nathan Ghar-Jun Adrian   M  27.0   198.0   \n",
       "3            509        1850   Nathan Ghar-Jun Adrian   M  27.0   198.0   \n",
       "4            510        1851   Nathan Ghar-Jun Adrian   M  27.0   198.0   \n",
       "14          2657       10130  Horace Ashenfelter, III   M  29.0   178.0   \n",
       "\n",
       "    Weight           Team  NOC        Games  Year            City      Sport  \\\n",
       "1    100.0  United States  USA  2016 Summer  2016  Rio de Janeiro   Swimming   \n",
       "2    100.0  United States  USA  2016 Summer  2016  Rio de Janeiro   Swimming   \n",
       "3    100.0  United States  USA  2016 Summer  2016  Rio de Janeiro   Swimming   \n",
       "4    100.0  United States  USA  2016 Summer  2016  Rio de Janeiro   Swimming   \n",
       "14    66.0  United States  USA  1952 Summer  1952        Helsinki  Athletics   \n",
       "\n",
       "                             Event   Medal  \n",
       "1              50 metres Freestyle  Bronze  \n",
       "2             100 metres Freestyle  Bronze  \n",
       "3   4 x 100 metres Freestyle Relay    Gold  \n",
       "4      4 x 100 metres Medley Relay    Gold  \n",
       "14       3,000 metres Steeplechase    Gold  "
      ]
     },
     "execution_count": 69,
     "metadata": {},
     "output_type": "execute_result"
    }
   ],
   "source": [
    "athletes = pd.read_csv(path_data+'athletes_ch03.csv').dropna()\n",
    "athletes.head()"
   ]
  },
  {
   "cell_type": "code",
   "execution_count": 70,
   "metadata": {},
   "outputs": [
    {
     "name": "stdout",
     "output_type": "stream",
     "text": [
      "<class 'pandas.core.frame.DataFrame'>\n",
      "Index: 145 entries, 1 to 315\n",
      "Data columns (total 15 columns):\n",
      " #   Column        Non-Null Count  Dtype  \n",
      "---  ------        --------------  -----  \n",
      " 0   Unnamed: 0.1  145 non-null    int64  \n",
      " 1   Unnamed: 0    145 non-null    int64  \n",
      " 2   Name          145 non-null    object \n",
      " 3   Sex           145 non-null    object \n",
      " 4   Age           145 non-null    float64\n",
      " 5   Height        145 non-null    float64\n",
      " 6   Weight        145 non-null    float64\n",
      " 7   Team          145 non-null    object \n",
      " 8   NOC           145 non-null    object \n",
      " 9   Games         145 non-null    object \n",
      " 10  Year          145 non-null    int64  \n",
      " 11  City          145 non-null    object \n",
      " 12  Sport         145 non-null    object \n",
      " 13  Event         145 non-null    object \n",
      " 14  Medal         145 non-null    object \n",
      "dtypes: float64(3), int64(3), object(9)\n",
      "memory usage: 18.1+ KB\n"
     ]
    }
   ],
   "source": [
    "athletes.info()"
   ]
  },
  {
   "cell_type": "code",
   "execution_count": 71,
   "metadata": {},
   "outputs": [
    {
     "name": "stdout",
     "output_type": "stream",
     "text": [
      "[1.7389882264655342e-11, 0.00011329902213675761, 0.004357461724621111]\n",
      "(array([ True,  True,  True]), array([5.21696468e-11, 3.39897066e-04, 1.30723852e-02]), 0.016952427508441503, 0.016666666666666666)\n"
     ]
    },
    {
     "data": {
      "text/plain": [
       "'\\nNice. See how the Bonferroni correction affects your values? This correction method is quite conservative.\\n'"
      ]
     },
     "execution_count": 71,
     "metadata": {},
     "output_type": "execute_result"
    }
   ],
   "source": [
    "# exercise 01\n",
    "\n",
    "\"\"\"\n",
    "Bonferroni correction\n",
    "\n",
    "Improved nutrition and healthcare has lead to increased human heights in most societies over the past century. But is this trend also reflected amongst elite athletes? To examine this, we'll be looking at another slice from our Olympic dataset and performing multiple tests.\n",
    "\n",
    "You have been provided with the athletes dataset containing information about American male Olympic athletes from three years: 1924, 1952, and 2016. You will perform two-sample t-tests to compare the three timepoints, seen in boxplots. Between which times do significant differences exist? As you'll be performing multiple non-independent tests, you will need to perform Bonferroni correction on the results. statsmodels, scipy.stats, and pandas have been loaded for you as sm, stats, and pd.\n",
    "\n",
    "Boxplots of athlete heights from three chosen years\n",
    "\"\"\"\n",
    "\n",
    "# Instructions\n",
    "\n",
    "\"\"\"\n",
    "\n",
    "    Perform three two-sample t-tests, comparing each possible pair of years.\n",
    "    Create an array containing the p-values from your three t-tests and print it.\n",
    "    Perform a Bonferroni correction on the p-values and print the result.\n",
    "\n",
    "\n",
    "\"\"\"\n",
    "\n",
    "# solution\n",
    "\n",
    "\n",
    "\n",
    "# Perform three two-sample t-tests \n",
    "t_result_1924v2016= stats.ttest_ind(athletes[athletes['Year']==1924].Height, athletes[athletes['Year']==2016].Height)\n",
    "t_result_1952v2016= stats.ttest_ind(athletes[athletes['Year']==1952].Height, athletes[athletes['Year']==2016].Height)\n",
    "t_result_1924v1952= stats.ttest_ind(athletes[athletes['Year']==1924].Height, athletes[athletes['Year']==1952].Height)\n",
    "\n",
    "# Create an array of p-value results\n",
    "pvals_array = [t_result_1924v2016[1], t_result_1952v2016[1], t_result_1924v1952[1]]\n",
    "print(pvals_array)\n",
    "\n",
    "# Perform Bonferroni correction\n",
    "adjustedvalues = sm.stats.multitest.multipletests(pvals_array, alpha=0.05, method='b')\n",
    "print(adjustedvalues)\n",
    "\n",
    "#----------------------------------#\n",
    "\n",
    "# Conclusion\n",
    "\n",
    "\"\"\"\n",
    "Nice. See how the Bonferroni correction affects your values? This correction method is quite conservative.\n",
    "\"\"\""
   ]
  },
  {
   "cell_type": "code",
   "execution_count": 72,
   "metadata": {
    "tags": []
   },
   "outputs": [
    {
     "name": "stdout",
     "output_type": "stream",
     "text": [
      "[0.1510997300365179, 0.08736377218589109, 1.0]\n",
      "(array([ True,  True, False]), array([0.38825558, 0.23986083, 1.        ]), 0.2062994740159002, 0.16666666666666666)\n"
     ]
    },
    {
     "name": "stderr",
     "output_type": "stream",
     "text": [
      "/home/nero/Documents/Estudos/estudos/lib/python3.11/site-packages/statsmodels/stats/multitest.py:164: RuntimeWarning: divide by zero encountered in log1p\n"
     ]
    },
    {
     "data": {
      "text/plain": [
       "'\\nGood work. Now you know how to perform two different corrections for multiple hypothesis tests.\\n'"
      ]
     },
     "execution_count": 72,
     "metadata": {},
     "output_type": "execute_result"
    }
   ],
   "source": [
    "# exercise 02\n",
    "\n",
    "\"\"\"\n",
    "Šídák correction\n",
    "\n",
    "We're looking at how the Height of Olympic athletes from the athletes dataset has changed over time. In this exercise, we're considering three events, the 100 meter, the High Jump, and the Marathon. You'll be examining the correlation between Height and Year separately for each Event. As you did before, you'll need to correct for multiple hypothesis tests, but, since these tests are independent, you can use the less-strict Šídák correction.\n",
    "\n",
    "Scatter plots of athlete heights in relation to year for three Olympic events\n",
    "\"\"\"\n",
    "\n",
    "# Instructions\n",
    "\n",
    "\"\"\"\n",
    "\n",
    "    Perform three Pearson correlations, examining the correlation between Height and Year for each of the three Events.\n",
    "    Create an array containing the p-values from your three tests and print it.\n",
    "    Perform a Šídák correction on the p-values and print the result.\n",
    "\n",
    "\"\"\"\n",
    "\n",
    "# solution\n",
    "\n",
    "# Perform Pearson correlations\n",
    "pearson100 = stats.pearsonr(athletes[athletes['Event']=='100 metres'].Height, athletes[athletes['Event']=='100 metres'].Year)\n",
    "\n",
    "pearsonHigh = stats.pearsonr(athletes[athletes['Event']=='High Jump'].Height, athletes[athletes['Event']=='High Jump'].Year)\n",
    "\n",
    "pearsonMara = stats.pearsonr(athletes[athletes['Event']=='Marathon'].Height, athletes[athletes['Event']=='Marathon'].Year)\n",
    "\n",
    "# Create array of p-values\n",
    "pvals_array = [pearson100[1],pearsonHigh[1],pearsonMara[1]]\n",
    "print(pvals_array)\n",
    "\n",
    "# Perform Šídák correction\n",
    "adjustedvalues=  sm.stats.multitest.multipletests(pvals_array, alpha=0.5, method= 's')\n",
    "print(adjustedvalues)\n",
    "\n",
    "#----------------------------------#\n",
    "\n",
    "# Conclusion\n",
    "\n",
    "\"\"\"\n",
    "Good work. Now you know how to perform two different corrections for multiple hypothesis tests.\n",
    "\"\"\""
   ]
  },
  {
   "cell_type": "code",
   "execution_count": 73,
   "metadata": {},
   "outputs": [
    {
     "data": {
      "text/plain": [
       "(4824, 16)"
      ]
     },
     "execution_count": 73,
     "metadata": {},
     "output_type": "execute_result"
    }
   ],
   "source": [
    "athletes = pd.read_csv(path_data+'athletes.csv')\n",
    "athletes.shape"
   ]
  },
  {
   "cell_type": "code",
   "execution_count": 74,
   "metadata": {
    "tags": []
   },
   "outputs": [
    {
     "name": "stdout",
     "output_type": "stream",
     "text": [
      "Ttest_indResult(statistic=nan, pvalue=nan)\n",
      "Ttest_indResult(statistic=nan, pvalue=nan)\n",
      "Ttest_indResult(statistic=nan, pvalue=nan)\n"
     ]
    },
    {
     "data": {
      "text/plain": [
       "\"\\nGreat! Look how smaller samples affected your p-value. With sample sizes of 1000, 200 and 50, you got p-values of 0.0000045, 0.045 and 0.68, respectively. The smallest sample size didn't give a significant result. Now you see how much difference sample size can make.\\n\""
      ]
     },
     "execution_count": 74,
     "metadata": {},
     "output_type": "execute_result"
    }
   ],
   "source": [
    "# exercise 03\n",
    "\n",
    "\"\"\"\n",
    "Exploring sample size\n",
    "\n",
    "Now we'll explore the effect of sample size on the results of statistical tests. Here, we'll be comparing the Weight of American Athletics and Swimming competitors in the athletes dataset. The boxplots show the difference between these two groups.\n",
    "\n",
    "Boxplots of body weights of Olympic athletes from two sports\n",
    "\n",
    "Using a defined seed and varying sample sizes, you will perform t-tests comparing the Weight of samples from both Sports. random, scipy.stats, and pandas have been loaded for you as random, stats, and pd.\n",
    "\"\"\"\n",
    "\n",
    "# Instructions\n",
    "\n",
    "\"\"\"\n",
    "Create a random subset of 1000 samples, then use this to do and print a t-test to compare Weight between Sports.\n",
    "---\n",
    "Change the sample size to 200, repeat the t-test to compare Weight between Sports, and print the results.\n",
    "---\n",
    "Create a subset using the same seed for 50 samples; perform and print a t-test to compare Weight between Sports.\n",
    "\"\"\"\n",
    "\n",
    "# solution\n",
    "\n",
    "# Create subset with defined random seed and perform t-test\n",
    "subset = athletes.sample(n=1000, random_state= 1007)\n",
    "print(stats.ttest_ind(subset[subset.Sport == \"Athletics\"].Weight, subset[subset.Sport == \"Swimming\"].Weight ))\n",
    "\n",
    "#----------------------------------#\n",
    "\n",
    "# Create sample with defined random seed and perform t-test\n",
    "subset = athletes.sample(n= 200, random_state=1007)\n",
    "print(stats.ttest_ind(subset[subset.Sport == \"Athletics\"].Weight, subset[subset.Sport == \"Swimming\"].Weight ))\n",
    "\n",
    "#----------------------------------#\n",
    "\n",
    "# Create sample with defined random seed and perform t-test\n",
    "subset = athletes.sample(n=50, random_state= 1007)\n",
    "print(stats.ttest_ind(subset[subset.Sport == \"Athletics\"].Weight, \n",
    "                      subset[subset.Sport == \"Swimming\"].Weight))\n",
    "\n",
    "#----------------------------------#\n",
    "\n",
    "# Conclusion\n",
    "\n",
    "\"\"\"\n",
    "Great! Look how smaller samples affected your p-value. With sample sizes of 1000, 200 and 50, you got p-values of 0.0000045, 0.045 and 0.68, respectively. The smallest sample size didn't give a significant result. Now you see how much difference sample size can make.\n",
    "\"\"\""
   ]
  },
  {
   "cell_type": "code",
   "execution_count": 75,
   "metadata": {
    "tags": []
   },
   "outputs": [
    {
     "name": "stdout",
     "output_type": "stream",
     "text": [
      "147.1817214516713\n"
     ]
    },
    {
     "data": {
      "text/plain": [
       "'\\nGood work. This result is in keeping with what you saw in the last exercise, where a sample size of around 200 yields results that hover around statistical significance.\\n'"
      ]
     },
     "execution_count": 75,
     "metadata": {},
     "output_type": "execute_result"
    }
   ],
   "source": [
    "# exercise 04\n",
    "\n",
    "\"\"\"\n",
    "Sample size for a t-test\n",
    "\n",
    "Now that we've seen the importance of sample size, let's have another look at the same athletes dataset and see if we can determine the sample size we would need to get a significant result.\n",
    "\n",
    "Boxplots of body weights of Olympic athletes from two sports\n",
    "\n",
    "The boxplot shows the difference in body weight between sports, using all 2830 rows from the athletes dataset. The difference between the groups looks quite small. Determine the sample size we would need to have an 80% chance of detecting a small (0.4) difference between these two samples. statsmodels.stats.power and pandas have been loaded for you as pwr and pd.\n",
    "\"\"\"\n",
    "\n",
    "# Instructions\n",
    "\n",
    "\"\"\"\n",
    "\n",
    "    Set effect, power, and alpha to 0.4, 0.8 and 0.05, respectively.\n",
    "    Calculate the ratio using the relative lengths of the series for swimming (swimmercount) compared to athletics (athletecount) competitors.\n",
    "    Initialize the analysis, solve the equation for sample size, and print the output.\n",
    "\n",
    "\"\"\"\n",
    "\n",
    "# solution\n",
    "\n",
    "from statsmodels.stats import power as pwr\n",
    "\n",
    "# Set parameters\n",
    "effect = 0.4\n",
    "power =  0.8\n",
    "alpha = 0.05\n",
    "\n",
    "# Calculate ratio\n",
    "swimmercount = float(len(athletes[athletes['Sport']=='Swimming']))\n",
    "athletecount = float(len(athletes[athletes['Sport']=='Athletics']))\n",
    "ratio = swimmercount/athletecount\n",
    "\n",
    "# Initialize analysis and calculate sample size\n",
    "analysis = pwr.TTestIndPower()\n",
    "ssresult = analysis.solve_power(effect_size=effect, power=power, alpha= alpha, nobs1=None, ratio=ratio)\n",
    "print(ssresult)\n",
    "\n",
    "#----------------------------------#\n",
    "\n",
    "# Conclusion\n",
    "\n",
    "\"\"\"\n",
    "Good work. This result is in keeping with what you saw in the last exercise, where a sample size of around 200 yields results that hover around statistical significance.\n",
    "\"\"\""
   ]
  },
  {
   "cell_type": "code",
   "execution_count": 76,
   "metadata": {
    "tags": []
   },
   "outputs": [
    {
     "name": "stdout",
     "output_type": "stream",
     "text": [
      "0.08540022230867832\n",
      "0.22911649250766375\n"
     ]
    },
    {
     "data": {
      "text/plain": [
       "'\\nGood work. Now you know how to work out what size of an effect you can detect.\\n'"
      ]
     },
     "execution_count": 76,
     "metadata": {},
     "output_type": "execute_result"
    }
   ],
   "source": [
    "# exercise 05\n",
    "\n",
    "\"\"\"\n",
    "Effect size for a t-test\n",
    "\n",
    "Now, we're going to have a look at effect sizes. We are examining the same slice from the athletes dataset, comparing the body weights of competitors from swimming and athletics events. The boxplots are included.\n",
    "\n",
    "Boxplots of body weights of Olympic athletes from two sports\n",
    "\n",
    "You're going to calculate the effect sizes we are able to detect for a couple of different sampling strategies. First, you'll determine the smallest effect size detectable using the complete dataset. Then, in Step 2, you'll determine the size effect we could detect using 300 samples from each Sport. statsmodels.stats.power and pandas have been loaded for you as pwr and pd.\n",
    "\"\"\"\n",
    "\n",
    "# Instructions\n",
    "\n",
    "\"\"\"\n",
    "    Set parameters for entire dataset (all Athletics rows for samp_size)\n",
    "\n",
    "    Initialize, solve for effect size, and print.\n",
    "\n",
    "---\n",
    "\n",
    "    Change parameters for a sample of 300 competitors from each group.\n",
    "    Repeat effect size analysis and print result.\n",
    "\n",
    "\"\"\"\n",
    "\n",
    "# solution\n",
    "\n",
    "# Set parameters\n",
    "alpha = 0.05\n",
    "power = 0.8\n",
    "ratio = float(len(athletes[athletes.Sport == 'Swimming'])) / len(athletes[athletes.Sport == \"Athletics\"])\n",
    "samp_size = len(athletes[athletes.Sport == 'Athletics'])\n",
    "\n",
    "# Initialize analysis & calculate sample size\n",
    "analysis = pwr.TTestIndPower()\n",
    "esresult = analysis.solve_power(effect_size = None, \n",
    "                                power = power, \n",
    "                                nobs1 = samp_size, \n",
    "                                ratio = ratio, \n",
    "                                alpha = alpha)\n",
    "print(esresult)\n",
    "\n",
    "#----------------------------------#\n",
    "\n",
    "# Set parameters\n",
    "alpha = 0.05\n",
    "power = 0.8\n",
    "ratio = 1 # Same size of samples\n",
    "samp_size = 300\n",
    "\n",
    "# Initialize analysis & calculate sample size\n",
    "analysis = pwr.TTestIndPower()\n",
    "esresult = analysis.solve_power(effect_size=None, power=power, nobs1=samp_size, ratio=ratio, alpha=alpha)\n",
    "print(esresult)\n",
    "\n",
    "#----------------------------------#\n",
    "\n",
    "# Conclusion\n",
    "\n",
    "\"\"\"\n",
    "Good work. Now you know how to work out what size of an effect you can detect.\n",
    "\"\"\""
   ]
  },
  {
   "cell_type": "code",
   "execution_count": 85,
   "metadata": {
    "tags": []
   },
   "outputs": [
    {
     "name": "stdout",
     "output_type": "stream",
     "text": [
      "0.06088448354728122\n",
      "The real result was 0.42\n"
     ]
    },
    {
     "data": {
      "text/plain": [
       "'\\nGreat! This is a moderate sized effect size. As the effect size is bigger than the minimum effect size calculated in the last exercise, you would expect that the parameters from the last exercise would allow you to detect a difference like this.\\n'"
      ]
     },
     "execution_count": 85,
     "metadata": {},
     "output_type": "execute_result"
    }
   ],
   "source": [
    "# exercise 06\n",
    "\n",
    "\"\"\"\n",
    "Computing Cohen's d\n",
    "\n",
    "Now, using the same comparison of Weight difference between Sports, let's calculate the actual effect size for this comparison. As a reminder, these data are summarized in the boxplot below.\n",
    "\n",
    "Boxplots of body weights of Olympic athletes from two sports\n",
    "\n",
    "Using the formula seen in the previous video, calculate Cohen's d for the difference in Weight between each Sport. Your data is contained in athletes. pandas and math are loaded into your workspace as pd and ma.\n",
    "\"\"\"\n",
    "\n",
    "# Instructions\n",
    "\n",
    "\"\"\"\n",
    "\n",
    "    Create two series, one for the samples from each Sport.\n",
    "    Calculate diff, the difference between the mean of each sample, and pooledstdev, the pooled standard deviation.\n",
    "    Calculate Cohen's d and print it.\n",
    "\n",
    "\"\"\"\n",
    "\n",
    "import math as ma\n",
    "\n",
    "# solution\n",
    "\n",
    "# Create series\n",
    "athl = athletes[athletes.Sport == \"Athletics\"].Weight\n",
    "swim = athletes[athletes.Sport == \"Swimming\"].Weight\n",
    "\n",
    "# Calculate difference between means and pooled standard deviation\n",
    "diff = swim.mean() - athl.mean()\n",
    "pooledstdev = ma.sqrt((athl.std()**2 + swim.std()**2)/2 )\n",
    "\n",
    "# Calculate Cohen's d\n",
    "cohend = diff / pooledstdev\n",
    "print(cohend)\n",
    "\n",
    "#----------------------------------#\n",
    "\n",
    "# Conclusion\n",
    "print('The real result was 0.42')\n",
    "\"\"\"\n",
    "Great! This is a moderate sized effect size. As the effect size is bigger than the minimum effect size calculated in the last exercise, you would expect that the parameters from the last exercise would allow you to detect a difference like this.\n",
    "\"\"\""
   ]
  },
  {
   "cell_type": "code",
   "execution_count": 79,
   "metadata": {
    "tags": []
   },
   "outputs": [
    {
     "name": "stdout",
     "output_type": "stream",
     "text": [
      "Sport    Athletics  Swimming\n",
      "MedalTF                     \n",
      "False         2131       556\n",
      "True          1071      1066\n",
      "p-value of test: 0.0\n",
      "Odds ratio between groups: 3.8\n"
     ]
    },
    {
     "data": {
      "text/plain": [
       "'\\nGreat work! This p-value is well below a standard value for alpha, making it significant. Furthermore, the effect size is large.\\n'"
      ]
     },
     "execution_count": 79,
     "metadata": {},
     "output_type": "execute_result"
    }
   ],
   "source": [
    "# exercise 07\n",
    "\n",
    "\"\"\"\n",
    "Effect size for a Fisher exact test\n",
    "\n",
    "In this exercise, you'll use the athletes dataset to examine whether American athletes are more successful in athletics or in swimming events. pandas, scipy.stats, and plotnine have been loaded into the workspace as pd, stats, and p9, respectively. For the purposes of this exercise, an extra column has been added to the dataset, MedalTF, which gives a True or False value for whether each athlete won any type of medal. First, you'll cross-tabulate MedalTF with Sport. Then you'll perform a Fisher exact test. Finally, you'll examine the significance and effect size of this result.\n",
    "\"\"\"\n",
    "\n",
    "# Instructions\n",
    "\n",
    "\"\"\"\n",
    "\n",
    "    Use pd.crosstab() to create a table of cross-tabulations between MedalTF and Sport and print the table.\n",
    "    Using the fisher_exact() function, perform a two-sided Fisher exact test to test whether the proportion of medal winners differs significantly between Sports.\n",
    "    Print the p-value to the console.\n",
    "    Print the odds ratio to the console.\n",
    "\n",
    "\"\"\"\n",
    "\n",
    "# solution\n",
    "\n",
    "# Create a table of cross-tabulations\n",
    "table = pd.crosstab(athletes.MedalTF,athletes.Sport)\n",
    "print(table)\n",
    "\n",
    "# Perform the Fisher exact test\n",
    "chi = stats.fisher_exact(table, alternative='two-sided')\n",
    "\n",
    "# Print p-value\n",
    "print(\"p-value of test: \" + str(round(chi[1], 5))  )\n",
    "\n",
    "# Print odds ratio  \n",
    "print(\"Odds ratio between groups: \" + str(round(chi[0], 1))  )\n",
    "\n",
    "#----------------------------------#\n",
    "\n",
    "# Conclusion\n",
    "\n",
    "\"\"\"\n",
    "Great work! This p-value is well below a standard value for alpha, making it significant. Furthermore, the effect size is large.\n",
    "\"\"\""
   ]
  },
  {
   "cell_type": "code",
   "execution_count": 93,
   "metadata": {},
   "outputs": [],
   "source": [
    "ken = pd.read_csv(path_data+'ken.csv')\n",
    "eth = pd.read_csv(path_data+'eth.csv')"
   ]
  },
  {
   "cell_type": "code",
   "execution_count": 94,
   "metadata": {
    "tags": []
   },
   "outputs": [
    {
     "name": "stdout",
     "output_type": "stream",
     "text": [
      "PearsonRResult(statistic=0.7453064505495951, pvalue=6.4971105215027e-07)\n",
      "PearsonRResult(statistic=0.3728450639500468, pvalue=0.038851120305329216)\n"
     ]
    },
    {
     "data": {
      "text/plain": [
       "'\\nNice. Look at the Pearson correlation coefficient you have obtained in each case. The Kenyan dataset gives a higher value than that obtained for the Ethiopian samples. This makes sense, as the scatterplot for the former looks much less noisy.\\n'"
      ]
     },
     "execution_count": 94,
     "metadata": {},
     "output_type": "execute_result"
    }
   ],
   "source": [
    "# exercise 08\n",
    "\n",
    "\"\"\"\n",
    "Effect sizes for Pearson correlation\n",
    "\n",
    "Now we're going to look at effect sizes for Pearson correlations. In a previous exercise, we used Pearson correlation to examine the link between Weight and Height for athletes from our Olympic dataset. Now, we're going to focus a single event, the 10,000 meter run, and compare the results we obtain for Pearson tests of correlation for competitors from two Teams, Kenya (ken DataFrame) and Ethiopia (eth DataFrame). Which has a higher effect strength? These data are graphed below as scatterplots. scipy and pandas have been loaded as sp and pd.\n",
    "\n",
    "Scatter plot of height versus weight for Kenyan 10k runners\n",
    "\n",
    "Scatter plot of height versus weight for Ethiopian 10k runners\n",
    "\"\"\"\n",
    "\n",
    "# Instructions\n",
    "\n",
    "\"\"\"\n",
    "Perform a Pearson correlation between the Weight and Height of Kenyan athletes and print the result.\n",
    "---\n",
    "Perform a Pearson correlation between the Weight and Height of Ethiopian athletes and print the result.\n",
    "\"\"\"\n",
    "\n",
    "# solution\n",
    "\n",
    "# Perform Pearson correlation\n",
    "pearsonken = stats.pearsonr(ken.Weight, ken.Height)\n",
    "print(pearsonken)\n",
    "\n",
    "#----------------------------------#\n",
    "\n",
    "# Perform Pearson correlation\n",
    "pearsoneth = stats.pearsonr(eth.Weight, eth.Height)\n",
    "print(pearsoneth)\n",
    "\n",
    "#----------------------------------#\n",
    "\n",
    "# Conclusion\n",
    "\n",
    "\"\"\"\n",
    "Nice. Look at the Pearson correlation coefficient you have obtained in each case. The Kenyan dataset gives a higher value than that obtained for the Ethiopian samples. This makes sense, as the scatterplot for the former looks much less noisy.\n",
    "\"\"\""
   ]
  },
  {
   "cell_type": "code",
   "execution_count": 95,
   "metadata": {
    "tags": []
   },
   "outputs": [
    {
     "name": "stdout",
     "output_type": "stream",
     "text": [
      "0.8427090697725385\n"
     ]
    },
    {
     "data": {
      "text/plain": [
       "'\\nGreat! Now you know how to deal with all of the parameters of solving power, sample size, alpha and effect size.\\n'"
      ]
     },
     "execution_count": 95,
     "metadata": {},
     "output_type": "execute_result"
    }
   ],
   "source": [
    "# exercise 09\n",
    "\n",
    "\"\"\"\n",
    "Power analysis for a t-test\n",
    "\n",
    "Now we're going to have another look at the same example, drawn from our Olympic dataset (Weight difference between Sports). A random subset of 100 samples from each group in this data yields these boxplots.\n",
    "\n",
    "Boxplots of body weights of Olympic athletes from different sports (100 sampled for each)\n",
    "\n",
    "Knowing the effect size of the difference between these two groups (see the relevant exercise for a refresher), you need to work out what the odds are that your t-test will pick up this difference. Your data is contained in athletesample. pandas and statsmodels.stats.power are loaded into your workspace as pd and pwr.\n",
    "\"\"\"\n",
    "\n",
    "# Instructions\n",
    "\n",
    "\"\"\"\n",
    "\n",
    "    Set the parameters as follows: an effect size of 0.42145, 100 samples from each group and a standard alpha value of 0.05.\n",
    "    Run and print the power analysis.\n",
    "\n",
    "\"\"\"\n",
    "\n",
    "# solution\n",
    "\n",
    "# Set parameters\n",
    "effect_size = 0.42145\n",
    "alpha = 0.05\n",
    "samp_size = 100\n",
    "ratio = 1\n",
    "\n",
    "# Initialize analysis & calculate power\n",
    "analysis = pwr.TTestIndPower()\n",
    "pwresult = analysis.solve_power(effect_size=effect_size, power=None, nobs1=samp_size, ratio=ratio, alpha=alpha)\n",
    "print(pwresult)\n",
    "\n",
    "#----------------------------------#\n",
    "\n",
    "# Conclusion\n",
    "\n",
    "\"\"\"\n",
    "Great! Now you know how to deal with all of the parameters of solving power, sample size, alpha and effect size.\n",
    "\"\"\""
   ]
  },
  {
   "cell_type": "code",
   "execution_count": 96,
   "metadata": {
    "tags": []
   },
   "outputs": [
    {
     "data": {
      "text/plain": [
       "'\\nCorrect! While the t-test returned a negative, our power analysis indicates that this test may not be capable of detecting a difference of interest. We are thus unable to draw a firm conclusion.\\n'"
      ]
     },
     "execution_count": 96,
     "metadata": {},
     "output_type": "execute_result"
    }
   ],
   "source": [
    "# exercise 10\n",
    "\n",
    "\"\"\"\n",
    "Interpreting power analyses\n",
    "\n",
    "You are planning to run a t-test, comparing the production of 20 potato fields treated with fertilizer A versus 20 treated with fertilizer B. The production data for these fields are seen below:\n",
    "\n",
    "Boxplots comparing potato production for twenty fields treated with each of two fertilizers\n",
    "\n",
    "You perform a two-sample t-test, comparing the production of the fields treated with fertilizer A versus those treated with fertilizer B. You obtain the following result:\n",
    "\n",
    "Ttest_indResult(statistic=-1.4077611103176186, pvalue=0.16733016968700729)\n",
    "\n",
    "Using an alpha of 0.05, you classify the result of the t-test as not significant, indicating no difference between the fertilizers. You then perform a power analysis, using an effect_size of 0.6 (this is the smallest effect size that you would consider worthwhile), an alpha of 0.05 and the same sample size (20 fields each treatment) used for the t-test.\n",
    "\n",
    "You obtain the following result for your power: 0.45603406363350196\n",
    "\n",
    "Which of the following interpretations best fits your data?\n",
    "\"\"\"\n",
    "\n",
    "# Instructions\n",
    "\n",
    "\"\"\"\n",
    "Possible Answers\n",
    "\n",
    "    The result from your t-test is certainly a type I error.\n",
    "    \n",
    "    \n",
    "    The result from your t-test is certainly a type II error.\n",
    "    \n",
    "    \n",
    "    (The result from your t-test may be a type II error or may be a true negative and the data available are not sufficient to distinguish these possibilities.) (Answer)\n",
    "    \n",
    "    \n",
    "    There is certainly no difference between the fertilizers.\n",
    "    \n",
    "    \n",
    "\"\"\"\n",
    "\n",
    "# solution\n",
    "\n",
    "\n",
    "\n",
    "#----------------------------------#\n",
    "\n",
    "# Conclusion\n",
    "\n",
    "\"\"\"\n",
    "Correct! While the t-test returned a negative, our power analysis indicates that this test may not be capable of detecting a difference of interest. We are thus unable to draw a firm conclusion.\n",
    "\"\"\""
   ]
  }
 ],
 "metadata": {
  "kernelspec": {
   "display_name": "Python 3 (ipykernel)",
   "language": "python",
   "name": "python3"
  },
  "language_info": {
   "codemirror_mode": {
    "name": "ipython",
    "version": 3
   },
   "file_extension": ".py",
   "mimetype": "text/x-python",
   "name": "python",
   "nbconvert_exporter": "python",
   "pygments_lexer": "ipython3",
   "version": "3.11.5"
  }
 },
 "nbformat": 4,
 "nbformat_minor": 4
}
