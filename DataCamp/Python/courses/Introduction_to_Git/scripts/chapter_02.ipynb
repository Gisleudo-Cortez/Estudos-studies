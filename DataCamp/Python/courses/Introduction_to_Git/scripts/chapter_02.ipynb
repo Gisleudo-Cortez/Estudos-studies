{
 "cells": [
  {
   "cell_type": "code",
   "execution_count": null,
   "metadata": {},
   "outputs": [
    {
     "data": {
      "text/plain": [
       "'/home/nero/Documents/Estudos/DataCamp'"
      ]
     },
     "execution_count": 15,
     "metadata": {},
     "output_type": "execute_result"
    }
   ],
   "source": [
    "# exercise 01\n",
    "\n",
    "\"\"\"\n",
    "Viewing a repository's history\n",
    "\n",
    "Recall that every commit has a unique identifier called a hash.\n",
    "\n",
    "Git has a command you can use to display all commits made to a repo, along with the hash, author, and time of the commit.\n",
    "\n",
    "Using the console, run a command to find the hash of the commit that added a summary report file.\n",
    "\"\"\"\n",
    "\n",
    "# Instructions\n",
    "\n",
    "\"\"\"\n",
    "\n",
    "\"\"\"\n",
    "\n",
    "# solution\n",
    "\n",
    "git log\n",
    "\n",
    "#----------------------------------#\n",
    "\n",
    "# Conclusion\n",
    "\n",
    "\"\"\"\n",
    "Awesome work—the git log command is very useful for tracking changes at a high level before diving deeper into more specific version control tasks!\n",
    "\"\"\""
   ]
  },
  {
   "cell_type": "code",
   "execution_count": 1,
   "metadata": {
    "tags": []
   },
   "outputs": [
    {
     "data": {
      "text/plain": [
       "'\\n\\n'"
      ]
     },
     "execution_count": 1,
     "metadata": {},
     "output_type": "execute_result"
    }
   ],
   "source": [
    "# exercise 02\n",
    "\n",
    "\"\"\"\n",
    "Viewing a specific commit\n",
    "\n",
    "A common workflow with Git is to view all commits, then compare files between a specific commit and the current version of the file.\n",
    "\n",
    "You are located in mh_survey.\n",
    "\n",
    "In this exercise, you will look into the commit history for report.md.\n",
    "\"\"\"\n",
    "\n",
    "# Instructions\n",
    "\n",
    "\"\"\"\n",
    "\n",
    "    Use a command to display the repo's history.\n",
    "\n",
    "    Use the hash from the second most recent commit to display the difference between report.md in that commit versus the latest version.\n",
    "\n",
    "\"\"\"\n",
    "\n",
    "# solution\n",
    "\n",
    "git log\n",
    "\n",
    "git show 36b761e\n",
    "\n",
    "#----------------------------------#\n",
    "\n",
    "# Conclusion\n",
    "\n",
    "\"\"\"\n",
    "It's common to refer to the log and then perform a follow-up command to find a specific piece of information! Did you notice that one line was added to report.md in this particular commit?\n",
    "\"\"\""
   ]
  },
  {
   "cell_type": "code",
   "execution_count": 2,
   "metadata": {
    "tags": []
   },
   "outputs": [
    {
     "data": {
      "text/plain": [
       "'\\n\\n'"
      ]
     },
     "execution_count": 2,
     "metadata": {},
     "output_type": "execute_result"
    }
   ],
   "source": [
    "# exercise 03\n",
    "\n",
    "\"\"\"\n",
    "Comparing to the second most recent commit\n",
    "\n",
    "Being able to look at what happened in a specific commit is useful to check how files have changed over time.\n",
    "\n",
    "Use an appropriate command to find out how current versions of files compare to the second most recent commit.\n",
    "\n",
    "Choose the answer reflecting what changes occurred.\n",
    "\"\"\"\n",
    "\n",
    "# Instructions\n",
    "\n",
    "\"\"\"\n",
    "\n",
    "\"\"\"\n",
    "\n",
    "# solution\n",
    "\n",
    "git diff -r HEAD~2\n",
    "\n",
    "#----------------------------------#\n",
    "\n",
    "# Conclusion\n",
    "\n",
    "\"\"\"\n",
    "Awesome work—combining git show with a commit hash or HEAD plus the required ~ is a great way to see what happened in a specific commit!\n",
    "\"\"\""
   ]
  },
  {
   "cell_type": "code",
   "execution_count": 3,
   "metadata": {
    "tags": []
   },
   "outputs": [
    {
     "data": {
      "text/plain": [
       "'\\n\\n'"
      ]
     },
     "execution_count": 3,
     "metadata": {},
     "output_type": "execute_result"
    }
   ],
   "source": [
    "# exercise 04\n",
    "\n",
    "\"\"\"\n",
    "Comparing commits\n",
    "\n",
    "Not only can Git be used to check what changed in a specific commit, it also allows you to compare changes between commits!\n",
    "\n",
    "Which files were modified between the fourth most recent and second most recent commits?\n",
    "\"\"\"\n",
    "\n",
    "# Instructions\n",
    "\n",
    "\"\"\"\n",
    "\n",
    "\"\"\"\n",
    "\n",
    "# solution\n",
    "\n",
    "git diff HEAD~3 HEAD~1\n",
    "\n",
    "#----------------------------------#\n",
    "\n",
    "# Conclusion\n",
    "\n",
    "\"\"\"\n",
    "Yes! By using git diff you get an output showing that both of these files have been changed between these two commits!\n",
    "\"\"\""
   ]
  },
  {
   "cell_type": "code",
   "execution_count": 4,
   "metadata": {
    "tags": []
   },
   "outputs": [
    {
     "data": {
      "text/plain": [
       "'\\n\\n'"
      ]
     },
     "execution_count": 4,
     "metadata": {},
     "output_type": "execute_result"
    }
   ],
   "source": [
    "# exercise 05\n",
    "\n",
    "\"\"\"\n",
    "Who changed what?\n",
    "\n",
    "Sometimes you need to see more detail than the commands you've used previously can provide.\n",
    "\n",
    "Your task is to use an appropriate command to show changes such as author, change made, time of change, and commit hash, for report.md.\n",
    "\"\"\"\n",
    "\n",
    "# Instructions\n",
    "\n",
    "\"\"\"\n",
    "Display line-by-line changes and associated metadata for report.md.\n",
    "\"\"\"\n",
    "\n",
    "# solution\n",
    "\n",
    "git annotate report.md\n",
    "\n",
    "#----------------------------------#\n",
    "\n",
    "# Conclusion\n",
    "\n",
    "\"\"\"\n",
    "Awesome annotation skills! Notice that three lines were added in one commit and one more line added in a separate commit.\n",
    "\"\"\""
   ]
  },
  {
   "cell_type": "code",
   "execution_count": 5,
   "metadata": {
    "tags": []
   },
   "outputs": [
    {
     "data": {
      "text/plain": [
       "'\\n\\n'"
      ]
     },
     "execution_count": 5,
     "metadata": {},
     "output_type": "execute_result"
    }
   ],
   "source": [
    "# exercise 06\n",
    "\n",
    "\"\"\"\n",
    "How to unstage a file\n",
    "\n",
    "You've been working on the Mental Health in Tech project and have added mental_health_survey.csv to the staging area.\n",
    "\n",
    "However, you've just received data from one more participant.\n",
    "\"\"\"\n",
    "\n",
    "# Instructions\n",
    "\n",
    "\"\"\"\n",
    "\n",
    "    Unstage mental_health_survey.csv.\n",
    "\n",
    "    Add 41,M,Yes,No,No,No,Often,Yes to the end of mental_health_survey.csv.\n",
    "\n",
    "    Restage this file.\n",
    "\n",
    "    Make a commit with the log message \"Extra participant\".\n",
    "\n",
    "\"\"\"\n",
    "\n",
    "# solution\n",
    "\n",
    "git reset HEAD mental_health_survey.csv\n",
    "\n",
    "echo \"41,M,Yes,No,No,No,Often,Yes\" >> mental_health_survey.csv\n",
    "\n",
    "git add mental_health_survey.csv\n",
    "\n",
    "git commit -m \"Extra participant\"\n",
    "\n",
    "#----------------------------------#\n",
    "\n",
    "# Conclusion\n",
    "\n",
    "\"\"\"\n",
    "Check out your version control skills—knowing how to unstage files is helpful if you need to make more edits before saving! Now let's look at how to restore a previous version of an unstaged file.\n",
    "\"\"\""
   ]
  },
  {
   "cell_type": "code",
   "execution_count": 6,
   "metadata": {
    "tags": []
   },
   "outputs": [
    {
     "data": {
      "text/plain": [
       "'\\n\\n'"
      ]
     },
     "execution_count": 6,
     "metadata": {},
     "output_type": "execute_result"
    }
   ],
   "source": [
    "# exercise 07\n",
    "\n",
    "\"\"\"\n",
    "Undoing changes to unstaged files\n",
    "\n",
    "git reset is useful for unstaging files, but what if you need to undo changes made to a file that is not in the staging area?\n",
    "\n",
    "You've been working on the report.md file, starting a discussion about the results of the project. You've not yet saved the file, and have just realized that the summary statistics changed with the addition of the last participant's data. As a result, your discussion is no longer accurate and you'd prefer to start over.\n",
    "\n",
    "Your task is to use a Git command that will discard the changes made to report.md and allow you to start over on the discussion section.\n",
    "\"\"\"\n",
    "\n",
    "# Instructions\n",
    "\n",
    "\"\"\"\n",
    "Undo the changes made to report.md.\n",
    "\"\"\"\n",
    "\n",
    "# solution\n",
    "\n",
    "git checkout -- report.md\n",
    "\n",
    "#----------------------------------#\n",
    "\n",
    "# Conclusion\n",
    "\n",
    "\"\"\"\n",
    "Great work! git checkout is a powerful command for undoing changes made to unstaged files! But what if you need to undo changes to all files in the repository?\n",
    "\"\"\""
   ]
  },
  {
   "cell_type": "code",
   "execution_count": 7,
   "metadata": {
    "tags": []
   },
   "outputs": [
    {
     "data": {
      "text/plain": [
       "'\\n\\n'"
      ]
     },
     "execution_count": 7,
     "metadata": {},
     "output_type": "execute_result"
    }
   ],
   "source": [
    "# exercise 08\n",
    "\n",
    "\"\"\"\n",
    "Undoing all changes\n",
    "\n",
    "You've been practicing your shell command skills to edit files when you realize you've accidentally been adding content to the wrong files—the report.md file now has participant data in, and you've added some summary statistics into the mental_health_survey.csv file!\n",
    "\n",
    "You have already added these files to the staging area.\n",
    "\n",
    "You will need to perform a couple of commands to undo these changes.\n",
    "\"\"\"\n",
    "\n",
    "# Instructions\n",
    "\n",
    "\"\"\"\n",
    "\n",
    "    Remove all files from the staging area.\n",
    "\n",
    "    Undo changes to all unstaged files since the last commit.\n",
    "\n",
    "\"\"\"\n",
    "\n",
    "# solution\n",
    "\n",
    "git reset HEAD .\n",
    "\n",
    "git checkout -- .\n",
    "\n",
    "#----------------------------------#\n",
    "\n",
    "# Conclusion\n",
    "\n",
    "\"\"\"\n",
    "Unreal undoing skills—in two commands you moved files from the staging area back into the repo and restored their state to versions in the last commit! Now let's go one step further by looking at how to restore previous versions of files and repositories, along with removing untracked files.\n",
    "\"\"\""
   ]
  },
  {
   "cell_type": "code",
   "execution_count": 8,
   "metadata": {
    "tags": []
   },
   "outputs": [
    {
     "data": {
      "text/plain": [
       "'\\n\\n'"
      ]
     },
     "execution_count": 8,
     "metadata": {},
     "output_type": "execute_result"
    }
   ],
   "source": [
    "# exercise 09\n",
    "\n",
    "\"\"\"\n",
    "Restoring an old version of a repo\n",
    "\n",
    "Restoring versions of files can be extremely powerful and useful, particularly if you've made a mistake and can pinpoint when it occurred.\n",
    "\n",
    "You've been working on the mental health in tech project for a couple of days when you spot an error in the participant data held in mental_health_survey.csv. Since then, you've modified report.md, summary_statistics.csv, and created a references document.\n",
    "\n",
    "Therefore, you need to restore versions of all of these files to the second to last commit, which is where the error occurred.\n",
    "\"\"\"\n",
    "\n",
    "# Instructions\n",
    "\n",
    "\"\"\"\n",
    "\n",
    "    Use a command to restore all files to their version located in the commit with a hash starting 7f71eade.\n",
    "\n",
    "\"\"\"\n",
    "\n",
    "# solution\n",
    "\n",
    "git checkout 7f71eade\n",
    "\n",
    "#----------------------------------#\n",
    "\n",
    "# Conclusion\n",
    "\n",
    "\"\"\"\n",
    "Nicely done! Hopefully, you won't need to restore an entire repository to an earlier state, but it is worth knowing how to do this just in case things go drastically wrong!\n",
    "\"\"\""
   ]
  },
  {
   "cell_type": "code",
   "execution_count": 9,
   "metadata": {
    "tags": []
   },
   "outputs": [
    {
     "data": {
      "text/plain": [
       "'\\n\\n'"
      ]
     },
     "execution_count": 9,
     "metadata": {},
     "output_type": "execute_result"
    }
   ],
   "source": [
    "# exercise 10\n",
    "\n",
    "\"\"\"\n",
    "Deleting untracked files\n",
    "\n",
    "You recently completed another research project and thought that some of the documents used would be helpful as templates for the mental health in tech project, so you copied the files into the repo.\n",
    "\n",
    "However, they've remained unchanged since you did this, so you would like to tidy up the repo by removing these files.\n",
    "\n",
    "You need to select the two commands you would run to find out which files are untracked in your repo and then remove those files.\n",
    "\"\"\"\n",
    "\n",
    "# Instructions\n",
    "\n",
    "\"\"\"\n",
    "\n",
    "\"\"\"\n",
    "\n",
    "# solution\n",
    "\n",
    "git clean -n\n",
    "\n",
    "git clean -f\n",
    "\n",
    "#----------------------------------#\n",
    "\n",
    "# Conclusion\n",
    "\n",
    "\"\"\"\n",
    "Perfect! Keeping your repo clean by removing unnecessary files is very important, particularly as a project gets larger and more complex!\n",
    "\"\"\""
   ]
  },
  {
   "cell_type": "code",
   "execution_count": null,
   "metadata": {},
   "outputs": [],
   "source": [
    "# exercise 11\n",
    "\n",
    "\"\"\"\n",
    "Restoring an old version of a file\n",
    "\n",
    "You previously saw how to use git checkout to undo the changes that you made since the last commit. This command can also be used to go back even further into a file's history and restore versions of that file from a commit. In this way, you can think of committing as saving your work and checking out as loading that saved version.\n",
    "\n",
    "Your task is to restore a file to a previous version and update the repo so it contains this as the current version of the file.\n",
    "\"\"\"\n",
    "\n",
    "# Instructions\n",
    "\n",
    "\"\"\"\n",
    "\n",
    "    Display the last two commits for the report file.\n",
    "\n",
    "    Use the commit hash to restore the version of report.md from the second most recent commit.\n",
    "\n",
    "    Put the restored version of report.md into the staging area.\n",
    "\n",
    "    Commit the restored file with a log message of \"Restoring version from commit 36b761\".\n",
    "\n",
    "\"\"\"\n",
    "\n",
    "# solution\n",
    "\n",
    "git log -2 report.md\n",
    "\n",
    "git checkout 36b761 report.md\n",
    "\n",
    "git add report.md\n",
    "\n",
    "git commit -m \"Restoring version from commit 36b761\"\n",
    "\n",
    "#----------------------------------#\n",
    "\n",
    "# Conclusion\n",
    "\n",
    "\"\"\"\n",
    "Great work—by combining log, checkout, add, and commit you've been able to revert report.md and save it as the current version in Git! In the next chapter we will learn even more about Git, including the use of branches, and how to deal with conflicting versions of files!\n",
    "\"\"\""
   ]
  }
 ],
 "metadata": {
  "kernelspec": {
   "display_name": "Python 3 (ipykernel)",
   "language": "python",
   "name": "python3"
  },
  "language_info": {
   "codemirror_mode": {
    "name": "ipython",
    "version": 3
   },
   "file_extension": ".py",
   "mimetype": "text/x-python",
   "name": "python",
   "nbconvert_exporter": "python",
   "pygments_lexer": "ipython3",
   "version": "3.11.3"
  }
 },
 "nbformat": 4,
 "nbformat_minor": 4
}
