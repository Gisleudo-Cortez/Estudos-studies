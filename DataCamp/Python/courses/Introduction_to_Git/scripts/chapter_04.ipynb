{
 "cells": [
  {
   "cell_type": "code",
   "execution_count": null,
   "metadata": {},
   "outputs": [
    {
     "data": {
      "text/plain": [
       "'/home/nero/Documents/Estudos/DataCamp'"
      ]
     },
     "execution_count": 15,
     "metadata": {},
     "output_type": "execute_result"
    }
   ],
   "source": [
    "# exercise 01\n",
    "\n",
    "\"\"\"\n",
    "Setting up a new repo\n",
    "\n",
    "You have finished working on the mh_survey project, and just in time too! You've been assigned to work with a colleague on a new research project investigating the relationship between anxiety and the number of different computer systems used in a workplace.\n",
    "\n",
    "You decide to get a head start by creating a new Git repo along with a to-do list.\n",
    "\"\"\"\n",
    "\n",
    "# Instructions\n",
    "\n",
    "\"\"\"\n",
    "\n",
    "    Create a Git repo called anxiety_workplace in your current directory.\n",
    "\n",
    "    Move into the new anxiety_workplace directory.\n",
    "\n",
    "    Create a file called todo.txt containing the following text: \"TODO: Recap on existing research.\".\n",
    "\n",
    "\"\"\"\n",
    "\n",
    "# solution\n",
    "\n",
    "git init anxiety_workplace\n",
    "\n",
    "cd anxiety_workplace\n",
    "\n",
    "echo \"TODO: Recap on existing research.\" > todo.txt\n",
    "\n",
    "#----------------------------------#\n",
    "\n",
    "# Conclusion\n",
    "\n",
    "\"\"\"\n",
    "Impressive initialization—in just three lines of code you created a new Git repository, moved into its main directory, and created a to-do list!\n",
    "\"\"\""
   ]
  },
  {
   "cell_type": "code",
   "execution_count": 1,
   "metadata": {
    "tags": []
   },
   "outputs": [
    {
     "data": {
      "text/plain": [
       "'\\n\\n'"
      ]
     },
     "execution_count": 1,
     "metadata": {},
     "output_type": "execute_result"
    }
   ],
   "source": [
    "# exercise 02\n",
    "\n",
    "\"\"\"\n",
    "Converting an existing project\n",
    "\n",
    "Imagine you've been working on the mental health survey project, but are only now learning about the benefits of Git!\n",
    "\n",
    "You want to convert your project into a Git repo so you can track your files moving forward.\n",
    "\n",
    "You're inside the mh_survey directory.\n",
    "\"\"\"\n",
    "\n",
    "# Instructions\n",
    "\n",
    "\"\"\"\n",
    "Turn your project into a Git repo.\n",
    "\"\"\"\n",
    "\n",
    "# solution\n",
    "\n",
    "git init\n",
    "\n",
    "#----------------------------------#\n",
    "\n",
    "# Conclusion\n",
    "\n",
    "\"\"\"\n",
    "Great work—by converting an existing project into a Git repos your files are now being tracked! Now let's learn about an essential component of working with Git—remote branches!\n",
    "\"\"\""
   ]
  },
  {
   "cell_type": "code",
   "execution_count": 2,
   "metadata": {
    "tags": []
   },
   "outputs": [
    {
     "data": {
      "text/plain": [
       "'\\n\\n'"
      ]
     },
     "execution_count": 2,
     "metadata": {},
     "output_type": "execute_result"
    }
   ],
   "source": [
    "# exercise 03\n",
    "\n",
    "\"\"\"\n",
    "Cloning a repo\n",
    "\n",
    "Your colleague has been working on the new anxiety in the workplace project and is ready to hand it over to you.\n",
    "\n",
    "They tell you that all of their work is in a repo in /home/john/repo.\n",
    "\n",
    "Use a single command to clone this repo inside your projects directory, where you are currently located, naming it as john_anxiety_project.\n",
    "\"\"\"\n",
    "\n",
    "# Instructions\n",
    "\n",
    "\"\"\"\n",
    "Clone /home/john/repo, naming the cloned repo as john_anxiety_project.\n",
    "\"\"\"\n",
    "\n",
    "# solution\n",
    "\n",
    "git clone /home/john/repo john_anxiety_project\n",
    "\n",
    "#----------------------------------#\n",
    "\n",
    "# Conclusion\n",
    "\n",
    "\"\"\"\n",
    "Awesome! git clone is a very useful command for copying other repos onto your local computer, whether from another local directory or remote storage such as GitHub. Now you can build on the work John has done so far!\n",
    "\"\"\""
   ]
  },
  {
   "cell_type": "code",
   "execution_count": 3,
   "metadata": {
    "tags": []
   },
   "outputs": [
    {
     "data": {
      "text/plain": [
       "'\\n\\n'"
      ]
     },
     "execution_count": 3,
     "metadata": {},
     "output_type": "execute_result"
    }
   ],
   "source": [
    "# exercise 04\n",
    "\n",
    "\"\"\"\n",
    "Defining and identifying remotes\n",
    "\n",
    "Now that you have cloned John's repo locally, you decide you want to name the remote as john to serve as a shortcut when working between branches going forward.\n",
    "\"\"\"\n",
    "\n",
    "# Instructions\n",
    "\n",
    "\"\"\"\n",
    "\n",
    "    Add the name john for the /home/john/repo repo.\n",
    "\n",
    "    List all remotes including their URL(s).\n",
    "\n",
    "\"\"\"\n",
    "\n",
    "# solution\n",
    "\n",
    "git remote add john /home/john/repo\n",
    "\n",
    "git remote -v\n",
    "\n",
    "#----------------------------------#\n",
    "\n",
    "# Conclusion\n",
    "\n",
    "\"\"\"\n",
    "Adding the name john will save you time when accessing or merging the cloned repo! Now let's learn how to keep files in sync between local and remote branches.\n",
    "\"\"\""
   ]
  },
  {
   "cell_type": "code",
   "execution_count": 4,
   "metadata": {
    "tags": []
   },
   "outputs": [
    {
     "data": {
      "text/plain": [
       "'\\n\\n'"
      ]
     },
     "execution_count": 4,
     "metadata": {},
     "output_type": "execute_result"
    }
   ],
   "source": [
    "# exercise 05\n",
    "\n",
    "\"\"\"\n",
    "Fetching from a remote\n",
    "\n",
    "If you are not sure how the contents of a remote repo compare to your local repo, then you can gather the remote contents from a specific branch and then compare them to your local branch.\n",
    "\n",
    "Your colleague John has set up a remote repo so that his work is backed up in the cloud and accessible to others.\n",
    "\"\"\"\n",
    "\n",
    "# Instructions\n",
    "\n",
    "\"\"\"\n",
    "\n",
    "    Run a command to find out the name(s) of remote repos linked to your project.\n",
    "\n",
    "    Gather contents from the remote origin repo into your local main branch.\n",
    "\n",
    "    Compare the remote repo with your local main branch.\n",
    "\n",
    "\"\"\"\n",
    "\n",
    "# solution\n",
    "\n",
    "git remote\n",
    "\n",
    "git fetch origin main\n",
    "\n",
    "git diff origin main\n",
    "\n",
    "#----------------------------------#\n",
    "\n",
    "# Conclusion\n",
    "\n",
    "\"\"\"\n",
    "Fantastic fetching! Looks like John added a reminder about references in report.md, as the local main branch doesn't have this content in the file.\n",
    "\"\"\""
   ]
  },
  {
   "cell_type": "code",
   "execution_count": 5,
   "metadata": {
    "tags": []
   },
   "outputs": [
    {
     "data": {
      "text/plain": [
       "'\\n\\n'"
      ]
     },
     "execution_count": 5,
     "metadata": {},
     "output_type": "execute_result"
    }
   ],
   "source": [
    "# exercise 06\n",
    "\n",
    "\"\"\"\n",
    "Pulling from a remote\n",
    "\n",
    "Fetching is useful, but if you want to bring your local repo's main branch in line with a remote repo, origin, this is possible with a single command!\n",
    "\n",
    "In this exercise, you'll work on a file while synchronizing between local and remote repos.\n",
    "\"\"\"\n",
    "\n",
    "# Instructions\n",
    "\n",
    "\"\"\"\n",
    "\n",
    "    Use a single command to fetch and merge the origin repo into your local main branch.\n",
    "\n",
    "    Append \"No existing mental health diagnosis.\" to the end of protocol.md.\n",
    "\n",
    "    Add protocol.md to the staging area.\n",
    "\n",
    "    Make a commit with the log message \"Updating eligibility criteria\".\n",
    "\n",
    "\"\"\"\n",
    "\n",
    "# solution\n",
    "\n",
    "git pull origin main\n",
    "\n",
    "echo \"No existing mental health diagnosis.\" >> protocol.md\n",
    "\n",
    "git add protocol.md\n",
    "\n",
    "git commit -m \"Updating eligibility criteria\"\n",
    "\n",
    "#----------------------------------#\n",
    "\n",
    "# Conclusion\n",
    "\n",
    "\"\"\"\n",
    "Perfect pulling! Notice you received the output 1 file changed, 1 insertion(+), highlighting that the remote was ahead of your local repo!\n",
    "\"\"\""
   ]
  },
  {
   "cell_type": "code",
   "execution_count": 6,
   "metadata": {
    "tags": []
   },
   "outputs": [
    {
     "data": {
      "text/plain": [
       "'\\n\\n'"
      ]
     },
     "execution_count": 6,
     "metadata": {},
     "output_type": "execute_result"
    }
   ],
   "source": [
    "# exercise 07\n",
    "\n",
    "\"\"\"\n",
    "Pushing to a remote repo\n",
    "\n",
    "You've noticed that the budget tracker has some errors, so you decide this needs to be added to the issue_log.txt file, along with adding an action to report.md.\n",
    "\n",
    "You want to push the updated files to John's remote repo called origin so he is aware of the issue and the next steps.\n",
    "\"\"\"\n",
    "\n",
    "# Instructions\n",
    "\n",
    "\"\"\"\n",
    "\n",
    "    Add the two updated files to the staging area.\n",
    "\n",
    "    Save changes with the log message \"Budget inaccuracy added to the issue log and report\".\n",
    "\n",
    "    Update the origin remote with changes made in your local main branch.\n",
    "\n",
    "\"\"\"\n",
    "\n",
    "# solution\n",
    "\n",
    "git add issue_log.txt report.md\n",
    "\n",
    "git commit -m \"Budget inaccuracy added to the issue log and report\"\n",
    "\n",
    "git push origin main\n",
    "\n",
    "#----------------------------------#\n",
    "\n",
    "# Conclusion\n",
    "\n",
    "\"\"\"\n",
    "Now you know how to pull changes from a remote, work locally, and push your changes back to the remote! But what happens if the remote is ahead of the local repo?\n",
    "\"\"\""
   ]
  },
  {
   "cell_type": "code",
   "execution_count": 7,
   "metadata": {
    "tags": []
   },
   "outputs": [
    {
     "data": {
      "text/plain": [
       "'\\n\\n'"
      ]
     },
     "execution_count": 7,
     "metadata": {},
     "output_type": "execute_result"
    }
   ],
   "source": [
    "# exercise 08\n",
    "\n",
    "\"\"\"\n",
    "Handling push conflicts\n",
    "\n",
    "Remote repos enable collaboration in Git, but it is important to regularly synchronize your local repo.\n",
    "\n",
    "In this exercise, you'll see what happens when they aren't aligned, and how to deal with this scenario.\n",
    "\"\"\"\n",
    "\n",
    "# Instructions\n",
    "\n",
    "\"\"\"\n",
    "\n",
    "    Send changes in the local repo's main branch to the remote repo called origin.\n",
    "\n",
    "    Pull origin into the local main branch, entering a message of your choice inside the text editor.\n",
    "\n",
    "    Try again to update the remote with changes made in the local main.\n",
    "\n",
    "\"\"\"\n",
    "\n",
    "# solution\n",
    "\n",
    "git push origin main\n",
    "\n",
    "git pull origin main\n",
    "\n",
    "git push origin main\n",
    "\n",
    "#----------------------------------#\n",
    "\n",
    "# Conclusion\n",
    "\n",
    "\"\"\"\n",
    "Excellent—you've learned how to use git push and git pull to deal with a remote repo that has different content to your local repo. Let's quickly recap on what we've covered in the course!\n",
    "\"\"\""
   ]
  },
  {
   "cell_type": "code",
   "execution_count": 8,
   "metadata": {
    "tags": []
   },
   "outputs": [
    {
     "data": {
      "text/plain": [
       "'\\n\\n'"
      ]
     },
     "execution_count": 8,
     "metadata": {},
     "output_type": "execute_result"
    }
   ],
   "source": [
    "# exercise 09\n",
    "\n",
    "\"\"\"\n",
    "\n",
    "\"\"\"\n",
    "\n",
    "# Instructions\n",
    "\n",
    "\"\"\"\n",
    "\n",
    "\"\"\"\n",
    "\n",
    "# solution\n",
    "\n",
    "\n",
    "\n",
    "#----------------------------------#\n",
    "\n",
    "# Conclusion\n",
    "\n",
    "\"\"\"\n",
    "\n",
    "\"\"\""
   ]
  },
  {
   "cell_type": "code",
   "execution_count": 9,
   "metadata": {
    "tags": []
   },
   "outputs": [
    {
     "data": {
      "text/plain": [
       "'\\n\\n'"
      ]
     },
     "execution_count": 9,
     "metadata": {},
     "output_type": "execute_result"
    }
   ],
   "source": [
    "# exercise 10\n",
    "\n",
    "\"\"\"\n",
    "\n",
    "\"\"\"\n",
    "\n",
    "# Instructions\n",
    "\n",
    "\"\"\"\n",
    "\n",
    "\"\"\"\n",
    "\n",
    "# solution\n",
    "\n",
    "\n",
    "\n",
    "#----------------------------------#\n",
    "\n",
    "# Conclusion\n",
    "\n",
    "\"\"\"\n",
    "\n",
    "\"\"\""
   ]
  },
  {
   "cell_type": "code",
   "execution_count": null,
   "metadata": {},
   "outputs": [],
   "source": [
    "# exercise 11\n",
    "\n",
    "\"\"\"\n",
    "\n",
    "\"\"\"\n",
    "\n",
    "# Instructions\n",
    "\n",
    "\"\"\"\n",
    "\n",
    "\"\"\"\n",
    "\n",
    "# solution\n",
    "\n",
    "\n",
    "\n",
    "#----------------------------------#\n",
    "\n",
    "# Conclusion\n",
    "\n",
    "\"\"\"\n",
    "\n",
    "\"\"\""
   ]
  }
 ],
 "metadata": {
  "kernelspec": {
   "display_name": "Python 3 (ipykernel)",
   "language": "python",
   "name": "python3"
  },
  "language_info": {
   "codemirror_mode": {
    "name": "ipython",
    "version": 3
   },
   "file_extension": ".py",
   "mimetype": "text/x-python",
   "name": "python",
   "nbconvert_exporter": "python",
   "pygments_lexer": "ipython3",
   "version": "3.11.3"
  }
 },
 "nbformat": 4,
 "nbformat_minor": 4
}
