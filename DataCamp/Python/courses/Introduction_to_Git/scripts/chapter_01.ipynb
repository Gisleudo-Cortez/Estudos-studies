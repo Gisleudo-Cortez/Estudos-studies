{
 "cells": [
  {
   "cell_type": "code",
   "execution_count": null,
   "metadata": {},
   "outputs": [
    {
     "data": {
      "text/plain": [
       "'/home/nero/Documents/Estudos/DataCamp'"
      ]
     },
     "execution_count": 15,
     "metadata": {},
     "output_type": "execute_result"
    }
   ],
   "source": [
    "# exercise 01\n",
    "\n",
    "\"\"\"\n",
    "Using the shell\n",
    "\n",
    "Git commands are typically performed using the Shell.\n",
    "\n",
    "Understanding some common shell commands allows you to perform more of your Git workflow in the shell without having to spend time navigating different programs.\n",
    "\n",
    "In this exercise, you will need to perform shell commands to identify how many files and directories are in the data directory.\n",
    "\"\"\"\n",
    "\n",
    "# Instructions\n",
    "\n",
    "\"\"\"\n",
    "Possible answers:\n",
    "One (Answer)\n",
    "Two\n",
    "Three\n",
    "\"\"\"\n",
    "\n",
    "# solution\n",
    "\n",
    "ls data/\n",
    "\n",
    "#----------------------------------#\n",
    "\n",
    "# Conclusion\n",
    "\n",
    "\"\"\"\n",
    "Possible answers\n",
    "\n",
    "\"\"\""
   ]
  },
  {
   "cell_type": "code",
   "execution_count": 1,
   "metadata": {
    "tags": []
   },
   "outputs": [
    {
     "data": {
      "text/plain": [
       "'\\n\\n'"
      ]
     },
     "execution_count": 1,
     "metadata": {},
     "output_type": "execute_result"
    }
   ],
   "source": [
    "# exercise 02\n",
    "\n",
    "\"\"\"\n",
    "Checking the version of Git\n",
    "\n",
    "Just like you need to know what version of a file you are working with, it's important to understand which version of Git is installed on your computer so you're aware of what functionality it offers.\n",
    "\"\"\"\n",
    "\n",
    "# Instructions\n",
    "\n",
    "\"\"\"\n",
    "Using the terminal, enter the command to find out what version of Git is installed.\n",
    "\"\"\"\n",
    "\n",
    "# solution\n",
    "\n",
    "git --version\n",
    "\n",
    "#----------------------------------#\n",
    "\n",
    "# Conclusion\n",
    "\n",
    "\"\"\"\n",
    "Great work! The --version flag allows you to check what version of Git is installed locally, which is useful if you upgrade, or need to compare versions among colleagues.\n",
    "\"\"\""
   ]
  },
  {
   "cell_type": "code",
   "execution_count": 2,
   "metadata": {
    "tags": []
   },
   "outputs": [
    {
     "data": {
      "text/plain": [
       "'\\n\\n'"
      ]
     },
     "execution_count": 2,
     "metadata": {},
     "output_type": "execute_result"
    }
   ],
   "source": [
    "# exercise 03\n",
    "\n",
    "\"\"\"\n",
    "Where does Git store information?\n",
    "\n",
    "Your home directory /home/repl contains a repo called mh_survey, which has a directory called data.\n",
    "\n",
    "Where is information about the history of the files in /home/repl/mh_survey/data stored?\n",
    "\"\"\"\n",
    "\n",
    "# Instructions\n",
    "\n",
    "\"\"\"\n",
    "Possible Answers:\n",
    "\n",
    "/home/repl/.git\n",
    "\n",
    "/home/repl/mh_survey/.git (Answer)\n",
    "\n",
    "/home/repl/mh_survey/data/.git\n",
    "\n",
    "\"\"\"\n",
    "\n",
    "# solution\n",
    "\n",
    "ls -a\n",
    "\n",
    "#----------------------------------#\n",
    "\n",
    "# Conclusion\n",
    "\n",
    "\"\"\"\n",
    "Yes—all of the information about a repo is stored under its main directory, mh_survey.\n",
    "\"\"\""
   ]
  },
  {
   "cell_type": "code",
   "execution_count": 3,
   "metadata": {
    "tags": []
   },
   "outputs": [
    {
     "data": {
      "text/plain": [
       "'\\n\\n'"
      ]
     },
     "execution_count": 3,
     "metadata": {},
     "output_type": "execute_result"
    }
   ],
   "source": [
    "# exercise 04\n",
    "\n",
    "\"\"\"\n",
    "Adding a file\n",
    "\n",
    "For the remainder of the course, you will be working on a Git project analyzing the mental health of employees working at tech companies.\n",
    "\n",
    "In this exercise, you will complete a version control workflow to modify the mental_health_survey.csv file.\n",
    "\n",
    "You are located in mh_survey/data, which contains the csv file you need to edit.\n",
    "\"\"\"\n",
    "\n",
    "# Instructions\n",
    "\n",
    "\"\"\"\n",
    "\n",
    "    Add a new row of data at the end of mental_health_survey.csv containing: \"49,M,No,Yes,Never,Yes,Yes,No\"\n",
    "\n",
    "\n",
    "    Place the updated file in the staging area.\n",
    "\n",
    "\n",
    "    Commit the modified file with the log message \"Adding one new participant's data\"\n",
    "\n",
    "\"\"\"\n",
    "\n",
    "# solution\n",
    "\n",
    "echo \"49,M,No,Yes,Never,Yes,Yes,No\" >> mental_health_survey.csv\n",
    "git add mental_health_survey.csv\n",
    "git commit -m \"Adding one new participant's data\"\n",
    "\n",
    "#----------------------------------#\n",
    "\n",
    "# Conclusion\n",
    "\n",
    "\"\"\"\n",
    "Great Git skills! In three commands you've added a new row of data to a file, stored it as a draft, and made a commit to update the repo!\n",
    "\"\"\""
   ]
  },
  {
   "cell_type": "code",
   "execution_count": 4,
   "metadata": {
    "tags": []
   },
   "outputs": [
    {
     "data": {
      "text/plain": [
       "'\\n\\n'"
      ]
     },
     "execution_count": 4,
     "metadata": {},
     "output_type": "execute_result"
    }
   ],
   "source": [
    "# exercise 05\n",
    "\n",
    "\"\"\"\n",
    "Adding multiple files\n",
    "\n",
    "You've added one more task to the report.md and an extra row of participant data tomental_health_survey.csv files:\n",
    "\n",
    "report.md:\n",
    "\n",
    "TODO: Add data visualizations.\n",
    "\n",
    "mental_health_survey.csv:\n",
    "\n",
    "49,M,No,Yes,Never,Yes,Yes,No\n",
    "\n",
    "You need to figure out which files are in the repo, and which are in the staging area, so you can update everything.\n",
    "\"\"\"\n",
    "\n",
    "# Instructions\n",
    "\n",
    "\"\"\"\n",
    "\n",
    "    Check which files are in the staging area but not yet committed.\n",
    "\n",
    "    Add all files in your current directory and all subdirectories into the staging area.\n",
    "\n",
    "    Commit all files in the staging area with the log message \"Added 3 participants and a new section in report\"\n",
    "\n",
    "\"\"\"\n",
    "\n",
    "# solution\n",
    "\n",
    "git status\n",
    "git add .\n",
    "git commit -m \"Added 3 participants and a new section in report\"\n",
    "\n",
    "#----------------------------------#\n",
    "\n",
    "# Conclusion\n",
    "\n",
    "\"\"\"\n",
    "git status is a great way to see where you are in the version control workflow, allowing you to take steps to ensure everything is up-to-date. The commit output shows that two files were changed!\n",
    "\"\"\""
   ]
  },
  {
   "cell_type": "code",
   "execution_count": 5,
   "metadata": {
    "tags": []
   },
   "outputs": [
    {
     "data": {
      "text/plain": [
       "'\\n\\n'"
      ]
     },
     "execution_count": 5,
     "metadata": {},
     "output_type": "execute_result"
    }
   ],
   "source": [
    "# exercise 06\n",
    "\n",
    "\"\"\"\n",
    "What has changed?\n",
    "\n",
    "Checking how the current version of a file compares to the last saved version can help keep track of the last round of edits, particularly if we need to revert to a previous version.\n",
    "\n",
    "You have been placed in the data directory of the mh_survey repo.\n",
    "\n",
    "How many lines have been added to the current version of mental_health_survey.csv compared to the version in the latest commit?\n",
    "\"\"\"\n",
    "\n",
    "# Instructions\n",
    "\n",
    "\"\"\"\n",
    "Possible answers:\n",
    "48\n",
    "3\n",
    "4\n",
    "1 (Answer)\n",
    "\"\"\"\n",
    "\n",
    "# solution\n",
    "\n",
    "git diff -r HEAD mental_health_survey.csv\n",
    "\n",
    "#----------------------------------#\n",
    "\n",
    "# Conclusion\n",
    "\n",
    "\"\"\"\n",
    "Yes— the git diff output shows three lines changed at line 48 in the last commit, and one additional line has been added in our current unstaged file.\n",
    "\"\"\""
   ]
  },
  {
   "cell_type": "code",
   "execution_count": 6,
   "metadata": {
    "tags": []
   },
   "outputs": [
    {
     "data": {
      "text/plain": [
       "'\\n\\n'"
      ]
     },
     "execution_count": 6,
     "metadata": {},
     "output_type": "execute_result"
    }
   ],
   "source": [
    "# exercise 07\n",
    "\n",
    "\"\"\"\n",
    "What's going to be committed?\n",
    "\n",
    "Sometimes you could be on the verge of making a new commit and want to double-check if any other files need to be included.\n",
    "\n",
    "You have been put in the mh_survey repo, where data/mental_health_survey.csv has been added to the staging area.\n",
    "\"\"\"\n",
    "\n",
    "# Instructions\n",
    "\n",
    "\"\"\"\n",
    "\n",
    "    Use a command to see how all files differ from the last saved revision.\n",
    "\n",
    "    Use a Git command to add report.md to the staging area.\n",
    "\n",
    "    Commit all files with the log message \"New participant data and reminder for analysis\"\n",
    "\n",
    "\"\"\"\n",
    "\n",
    "# solution\n",
    "\n",
    "git diff -r HEAD\n",
    "\n",
    "git add report.md\n",
    "\n",
    "git commit -m \"New participant data and reminder for analysis\"\n",
    "\n",
    "#----------------------------------#\n",
    "\n",
    "# Conclusion\n",
    "\n",
    "\"\"\"\n",
    "Great work—in three steps you compared all files to their last committed version, and updated report.md!\n",
    "\"\"\""
   ]
  },
  {
   "cell_type": "code",
   "execution_count": 7,
   "metadata": {
    "tags": []
   },
   "outputs": [
    {
     "data": {
      "text/plain": [
       "'\\n\\n'"
      ]
     },
     "execution_count": 7,
     "metadata": {},
     "output_type": "execute_result"
    }
   ],
   "source": [
    "# exercise 08\n",
    "\n",
    "\"\"\"\n",
    "What's in the staging area?\n",
    "\n",
    "Comparing all files with their latest committed version is useful, but what if you only need to look at a single file in the staging area?\n",
    "\n",
    "The report.md file has been stored in the staging area.\n",
    "\n",
    "From the mh_survey repo, what single command can you use to see the changes that have been made to the report.md file?\n",
    "\"\"\"\n",
    "\n",
    "# Instructions\n",
    "\n",
    "\"\"\"\n",
    "\n",
    "\"\"\"\n",
    "\n",
    "# solution\n",
    "\n",
    "git diff -r HEAD report.md\n",
    "\n",
    "#----------------------------------#\n",
    "\n",
    "# Conclusion\n",
    "\n",
    "\"\"\"\n",
    "Great work, looks like a reminder to update the analysis was added! In the next chapter, we will discover some of Git's more advanced functionality including the metadata it stores, how to look at versions from specific commits, and how to undo changes!\n",
    "\"\"\""
   ]
  }
 ],
 "metadata": {
  "kernelspec": {
   "display_name": "Python 3 (ipykernel)",
   "language": "python",
   "name": "python3"
  },
  "language_info": {
   "codemirror_mode": {
    "name": "ipython",
    "version": 3
   },
   "file_extension": ".py",
   "mimetype": "text/x-python",
   "name": "python",
   "nbconvert_exporter": "python",
   "pygments_lexer": "ipython3",
   "version": "3.11.3"
  }
 },
 "nbformat": 4,
 "nbformat_minor": 4
}
