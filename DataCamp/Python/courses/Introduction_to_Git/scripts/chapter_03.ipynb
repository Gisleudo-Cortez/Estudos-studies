{
 "cells": [
  {
   "cell_type": "code",
   "execution_count": null,
   "metadata": {},
   "outputs": [
    {
     "data": {
      "text/plain": [
       "'/home/nero/Documents/Estudos/DataCamp'"
      ]
     },
     "execution_count": 15,
     "metadata": {},
     "output_type": "execute_result"
    }
   ],
   "source": [
    "# exercise 01\n",
    "\n",
    "\"\"\"\n",
    "Modifying your email address in Git\n",
    "\n",
    "Updating your configuration settings with Git can save you time, particularly where some commands require your credentials to verify access to repositories.\n",
    "\n",
    "In this exercise, you'll configure your email settings.\n",
    "\"\"\"\n",
    "\n",
    "# Instructions\n",
    "\n",
    "\"\"\"\n",
    "\n",
    "    Display all settings.\n",
    "\n",
    "    Change the email address to I_love_Git@datacamp.com.\n",
    "\n",
    "    Check the global settings to see if the update has been made.\n",
    "\n",
    "\"\"\"\n",
    "\n",
    "# solution\n",
    "\n",
    "git config --list\n",
    "\n",
    "git config --global user.email I_love_Git@datacamp.com\n",
    "\n",
    "git config --global --list\n",
    "\n",
    "#----------------------------------#\n",
    "\n",
    "# Conclusion\n",
    "\n",
    "\"\"\"\n",
    "Great work—using git config allowed you to add your cool new email address! Updating your settings as you get started with Git will save you a lot of time in the long run!\n",
    "\"\"\""
   ]
  },
  {
   "cell_type": "code",
   "execution_count": 1,
   "metadata": {
    "tags": []
   },
   "outputs": [
    {
     "data": {
      "text/plain": [
       "'\\n\\n'"
      ]
     },
     "execution_count": 1,
     "metadata": {},
     "output_type": "execute_result"
    }
   ],
   "source": [
    "# exercise 02\n",
    "\n",
    "\"\"\"\n",
    "Creating an alias\n",
    "\n",
    "As you work with Git more regularly, you will likely notice that you are performing certain tasks repetitively.\n",
    "\n",
    "In this case, you have noticed that you are often checking which files have been modified and where you are in the workflow.\n",
    "\n",
    "Therefore, you will change the command used to check the state of files to an alias, allowing you to save time.\n",
    "\"\"\"\n",
    "\n",
    "# Instructions\n",
    "\n",
    "\"\"\"\n",
    "\n",
    "    Create an alias for the global command used to check the state of files, calling it st.\n",
    "\n",
    "    Run the new alias command to confirm it works.\n",
    "\n",
    "\"\"\"\n",
    "\n",
    "# solution\n",
    "\n",
    "git config --global alias.st status\n",
    "\n",
    "git st\n",
    "\n",
    "#----------------------------------#\n",
    "\n",
    "# Conclusion\n",
    "\n",
    "\"\"\"\n",
    "Awesome aliasing! Entering st instead of status might not seem like a big deal, but this small change will add up to substantial improvements in efficiency over time!\n",
    "\"\"\""
   ]
  },
  {
   "cell_type": "code",
   "execution_count": 2,
   "metadata": {
    "tags": []
   },
   "outputs": [
    {
     "data": {
      "text/plain": [
       "'\\n\\n'"
      ]
     },
     "execution_count": 2,
     "metadata": {},
     "output_type": "execute_result"
    }
   ],
   "source": [
    "# exercise 03\n",
    "\n",
    "\"\"\"\n",
    "Ignoring files\n",
    "\n",
    "Data analysis often produces temporary or intermediate files that you don't want to save.\n",
    "\n",
    "You can tell it to stop paying attention to files you don't care about by creating a file in the root directory of your repository called .gitignore and storing a list of wildcard patterns that specify the files you don't want Git to pay attention to.\n",
    "\n",
    "Which of the following files would not be ignored by a .gitignore that contained the lines:\n",
    "\n",
    "pdf\n",
    "*.py\n",
    "*.log\n",
    "backup/*\n",
    "\n",
    "\"\"\"\n",
    "\n",
    "# Instructions\n",
    "\n",
    "\"\"\"\n",
    "\n",
    "\"\"\"\n",
    "\n",
    "# solution\n",
    "\n",
    "report.pdf\n",
    "\n",
    "#----------------------------------#\n",
    "\n",
    "# Conclusion\n",
    "\n",
    "\"\"\"\n",
    "Correct—pdf does not contain any wildcards, so Git will only match files called pdf rather file. Editing .gitignore is particularly useful if you are running lots of programs, the number of files tracked can grow quite large!\n",
    "\"\"\""
   ]
  },
  {
   "cell_type": "code",
   "execution_count": 3,
   "metadata": {
    "tags": []
   },
   "outputs": [
    {
     "data": {
      "text/plain": [
       "'\\n\\n'"
      ]
     },
     "execution_count": 3,
     "metadata": {},
     "output_type": "execute_result"
    }
   ],
   "source": [
    "# exercise 04\n",
    "\n",
    "\"\"\"\n",
    "Creating new branches\n",
    "\n",
    "You have some more content to add to summary_statistics.csv for the mh_survey project, and then you'll be moving on to the report phase. Therefore, you would like to make a new branch called report where you can work on the project report.\n",
    "\n",
    "The branch needs to be created from the summary-statistics branch, in which you are currently located.\n",
    "\n",
    "Your task is to finish working on the summary statistics file, make a commit, then create the report branch.\n",
    "\"\"\"\n",
    "\n",
    "# Instructions\n",
    "\n",
    "\"\"\"\n",
    "\n",
    "    Edit summary_statistics.txt and add the following text: \"Mean age is 32 years old, with a standard deviation of 6.72\".\n",
    "\n",
    "    Add summary_statistics.txt to the staging area.\n",
    "\n",
    "    Make a commit with the log message \"Adding age summary statistics\".\n",
    "\n",
    "    Create a new branch called report.\n",
    "\n",
    "\"\"\"\n",
    "\n",
    "# solution\n",
    "\n",
    "echo \"Mean age is 32 years old, with a standard deviation of 6.72\" > summary_statistics.txt\n",
    "\n",
    "git add summary_statistics.txt\n",
    "\n",
    "git commit -m \"Adding age summary statistics\"\n",
    "\n",
    "git checkout -b report\n",
    "\n",
    "#----------------------------------#\n",
    "\n",
    "# Conclusion\n",
    "\n",
    "\"\"\"\n",
    "Nicely done—you modified a file in one branch before using git checkout to create a new branch called report and switch to it!\n",
    "\"\"\""
   ]
  },
  {
   "cell_type": "code",
   "execution_count": 4,
   "metadata": {
    "tags": []
   },
   "outputs": [
    {
     "data": {
      "text/plain": [
       "'\\n\\n'"
      ]
     },
     "execution_count": 4,
     "metadata": {},
     "output_type": "execute_result"
    }
   ],
   "source": [
    "# exercise 05\n",
    "\n",
    "\"\"\"\n",
    "Checking the number of branches\n",
    "\n",
    "You've seen how to create new branches and develop in them, but it's also important to be able to identify the number of branches in a repo so you can keep track of concurrent development across your project.\n",
    "\n",
    "You are in the mh_survey repos—how many branches are there?\n",
    "\"\"\"\n",
    "\n",
    "# Instructions\n",
    "\n",
    "\"\"\"\n",
    "\n",
    "\"\"\"\n",
    "\n",
    "# solution\n",
    "\n",
    "git branch\n",
    "#----------------------------------#\n",
    "\n",
    "# Conclusion\n",
    "\n",
    "\"\"\"\n",
    "Correct! git branch shows you that there are four branches in your repo, and confirms you are in the report branch!\n",
    "\"\"\""
   ]
  },
  {
   "cell_type": "code",
   "execution_count": 5,
   "metadata": {
    "tags": []
   },
   "outputs": [
    {
     "data": {
      "text/plain": [
       "'\\n\\n'"
      ]
     },
     "execution_count": 5,
     "metadata": {},
     "output_type": "execute_result"
    }
   ],
   "source": [
    "# exercise 06\n",
    "\n",
    "\"\"\"\n",
    "Comparing branches\n",
    "\n",
    "If you're working across multiple branches then you may want to compare the state of repos between branches from time to time.\n",
    "\n",
    "You are in the mh_survey repository and would like to compare two branches.\n",
    "\"\"\"\n",
    "\n",
    "# Instructions\n",
    "\n",
    "\"\"\"\n",
    "Execute a command to compare the alter-report-title and summary-statistics branches.\n",
    "\"\"\"\n",
    "\n",
    "# solution\n",
    "\n",
    "git diff alter-report-title summary-statistics\n",
    "\n",
    "#----------------------------------#\n",
    "\n",
    "# Conclusion\n",
    "\n",
    "\"\"\"\n",
    "Nicely done—git diff allows you to compare files and branches! Looks like the summary statistics data have not been added in the alter-report-title branch.\n",
    "\"\"\""
   ]
  },
  {
   "cell_type": "code",
   "execution_count": 6,
   "metadata": {
    "tags": []
   },
   "outputs": [
    {
     "data": {
      "text/plain": [
       "'\\n\\n'"
      ]
     },
     "execution_count": 6,
     "metadata": {},
     "output_type": "execute_result"
    }
   ],
   "source": [
    "# exercise 07\n",
    "\n",
    "\"\"\"\n",
    "Switching branches\n",
    "\n",
    "You have previously created a new branch called report.\n",
    "\n",
    "Now it's time to switch into this new branch and edit report.md with some of your findings.\n",
    "\"\"\"\n",
    "\n",
    "# Instructions\n",
    "\n",
    "\"\"\"\n",
    "\n",
    "    Switch to the report branch.\n",
    "\n",
    "    Add \"80% of participants were male, compared to the industry average of 67%.\" to the end of report.md.\n",
    "\n",
    "    Place report.md into the staging area.\n",
    "\n",
    "    Make a commit with the log message \"Add gender summary in report\".\n",
    "\n",
    "\"\"\"\n",
    "\n",
    "# solution\n",
    "\n",
    "git checkout report\n",
    "\n",
    "echo \"80% of participants were male, compared to the industry average of 67%.\" >> report.md\n",
    "\n",
    "git add report.md\n",
    "\n",
    "git commit -m \"Add gender summary in report\"\n",
    "\n",
    "#----------------------------------#\n",
    "\n",
    "# Conclusion\n",
    "\n",
    "\"\"\"\n",
    "Awesome—in four commands you switched branches, edited a file, stored the draft, and updated the repo! This workflow enables you to work on the report in its respective branch!\n",
    "\"\"\""
   ]
  },
  {
   "cell_type": "code",
   "execution_count": 7,
   "metadata": {
    "tags": []
   },
   "outputs": [
    {
     "data": {
      "text/plain": [
       "'\\n\\n'"
      ]
     },
     "execution_count": 7,
     "metadata": {},
     "output_type": "execute_result"
    }
   ],
   "source": [
    "# exercise 08\n",
    "\n",
    "\"\"\"\n",
    "Merging two branches\n",
    "\n",
    "You've updated the project report in the report branch, and now need to merge it into main to keep it accurate and up to date.\n",
    "\"\"\"\n",
    "\n",
    "# Instructions\n",
    "\n",
    "\"\"\"\n",
    "Merge the report branch into the main branch.\n",
    "\"\"\"\n",
    "\n",
    "# solution\n",
    "\n",
    "git merge report main\n",
    "\n",
    "#----------------------------------#\n",
    "\n",
    "# Conclusion\n",
    "\n",
    "\"\"\"\n",
    "Awesome work! Unfortunately, merges aren't always straightforward as there can be conflicts between versions of files in different branches - let's look at how to deal with this scenario!\n",
    "\"\"\""
   ]
  },
  {
   "cell_type": "code",
   "execution_count": 8,
   "metadata": {
    "tags": []
   },
   "outputs": [
    {
     "data": {
      "text/plain": [
       "'\\n\\n'"
      ]
     },
     "execution_count": 8,
     "metadata": {},
     "output_type": "execute_result"
    }
   ],
   "source": [
    "# exercise 09\n",
    "\n",
    "\"\"\"\n",
    "Resolving a conflict\n",
    "\n",
    "You've added a reminder to the report.md and then switched to the summary-statistics branch.\n",
    "\n",
    "You remember that you need that extra task from the report in this branch too, so you decide to add it and make a commit.\n",
    "\n",
    "You're now ready to merge summary-statistics into main but there is a conflict in report.md.\n",
    "\n",
    "Looks like there was an error when adding the task into report.md in the summary-statistics branch.\n",
    "\n",
    "You'll need to resolve any conflicts to merge the branches.\n",
    "\"\"\"\n",
    "\n",
    "# Instructions\n",
    "\n",
    "\"\"\"\n",
    "Edit report.md, removing content from the summary_statistics branch along with any Git conflict syntax.\n",
    "\"\"\"\n",
    "\n",
    "# solution\n",
    "\n",
    "\n",
    "\n",
    "#----------------------------------#\n",
    "\n",
    "# Conclusion\n",
    "\n",
    "\"\"\"\n",
    "Brilliant conflict management! Hopefully you are equipped to perform version control using Git for solo projects. The next chapter will show you how to collaborate with colleagues!\n",
    "\"\"\""
   ]
  },
  {
   "cell_type": "code",
   "execution_count": 9,
   "metadata": {
    "tags": []
   },
   "outputs": [
    {
     "data": {
      "text/plain": [
       "'\\n\\n'"
      ]
     },
     "execution_count": 9,
     "metadata": {},
     "output_type": "execute_result"
    }
   ],
   "source": [
    "# exercise 10\n",
    "\n",
    "\"\"\"\n",
    "\n",
    "\"\"\"\n",
    "\n",
    "# Instructions\n",
    "\n",
    "\"\"\"\n",
    "\n",
    "\"\"\"\n",
    "\n",
    "# solution\n",
    "\n",
    "\n",
    "\n",
    "#----------------------------------#\n",
    "\n",
    "# Conclusion\n",
    "\n",
    "\"\"\"\n",
    "\n",
    "\"\"\""
   ]
  },
  {
   "cell_type": "code",
   "execution_count": null,
   "metadata": {},
   "outputs": [],
   "source": [
    "# exercise 11\n",
    "\n",
    "\"\"\"\n",
    "\n",
    "\"\"\"\n",
    "\n",
    "# Instructions\n",
    "\n",
    "\"\"\"\n",
    "\n",
    "\"\"\"\n",
    "\n",
    "# solution\n",
    "\n",
    "\n",
    "\n",
    "#----------------------------------#\n",
    "\n",
    "# Conclusion\n",
    "\n",
    "\"\"\"\n",
    "\n",
    "\"\"\""
   ]
  }
 ],
 "metadata": {
  "kernelspec": {
   "display_name": "Python 3 (ipykernel)",
   "language": "python",
   "name": "python3"
  },
  "language_info": {
   "codemirror_mode": {
    "name": "ipython",
    "version": 3
   },
   "file_extension": ".py",
   "mimetype": "text/x-python",
   "name": "python",
   "nbconvert_exporter": "python",
   "pygments_lexer": "ipython3",
   "version": "3.11.3"
  }
 },
 "nbformat": 4,
 "nbformat_minor": 4
}
