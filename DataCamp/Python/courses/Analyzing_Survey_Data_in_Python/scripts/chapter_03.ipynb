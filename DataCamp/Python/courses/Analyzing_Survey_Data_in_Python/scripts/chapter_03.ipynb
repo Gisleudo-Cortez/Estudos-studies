{
 "cells": [
  {
   "cell_type": "code",
   "execution_count": 22,
   "metadata": {
    "tags": []
   },
   "outputs": [],
   "source": [
    "# run this to shorten the data import from the files\n",
    "import os\n",
    "cwd = os.path.dirname(os.getcwd())+'/'\n",
    "path_data = os.path.join(os.path.dirname(os.getcwd()), 'datasets/')\n"
   ]
  },
  {
   "cell_type": "code",
   "execution_count": 23,
   "metadata": {},
   "outputs": [
    {
     "data": {
      "text/html": [
       "<div>\n",
       "<style scoped>\n",
       "    .dataframe tbody tr th:only-of-type {\n",
       "        vertical-align: middle;\n",
       "    }\n",
       "\n",
       "    .dataframe tbody tr th {\n",
       "        vertical-align: top;\n",
       "    }\n",
       "\n",
       "    .dataframe thead th {\n",
       "        text-align: right;\n",
       "    }\n",
       "</style>\n",
       "<table border=\"1\" class=\"dataframe\">\n",
       "  <thead>\n",
       "    <tr style=\"text-align: right;\">\n",
       "      <th></th>\n",
       "      <th>Age</th>\n",
       "      <th>Gender</th>\n",
       "      <th>meals_per_day</th>\n",
       "      <th>eat_out_per_wk</th>\n",
       "    </tr>\n",
       "  </thead>\n",
       "  <tbody>\n",
       "    <tr>\n",
       "      <th>0</th>\n",
       "      <td>18-24</td>\n",
       "      <td>Male</td>\n",
       "      <td>5</td>\n",
       "      <td>4</td>\n",
       "    </tr>\n",
       "    <tr>\n",
       "      <th>1</th>\n",
       "      <td>18-24</td>\n",
       "      <td>Male</td>\n",
       "      <td>4</td>\n",
       "      <td>1</td>\n",
       "    </tr>\n",
       "    <tr>\n",
       "      <th>2</th>\n",
       "      <td>45-54</td>\n",
       "      <td>Male</td>\n",
       "      <td>3</td>\n",
       "      <td>3</td>\n",
       "    </tr>\n",
       "    <tr>\n",
       "      <th>3</th>\n",
       "      <td>18-24</td>\n",
       "      <td>Male</td>\n",
       "      <td>2</td>\n",
       "      <td>1</td>\n",
       "    </tr>\n",
       "    <tr>\n",
       "      <th>4</th>\n",
       "      <td>18-24</td>\n",
       "      <td>Female</td>\n",
       "      <td>3</td>\n",
       "      <td>1</td>\n",
       "    </tr>\n",
       "  </tbody>\n",
       "</table>\n",
       "</div>"
      ],
      "text/plain": [
       "     Age  Gender  meals_per_day  eat_out_per_wk\n",
       "0  18-24    Male              5               4\n",
       "1  18-24    Male              4               1\n",
       "2  45-54    Male              3               3\n",
       "3  18-24    Male              2               1\n",
       "4  18-24  Female              3               1"
      ]
     },
     "execution_count": 23,
     "metadata": {},
     "output_type": "execute_result"
    }
   ],
   "source": [
    "import pandas as pd\n",
    "import numpy as np\n",
    "import matplotlib.pyplot as plt\n",
    "\n",
    "dietary_habits = pd.read_csv(path_data+'dietary_habits.csv')\n",
    "dietary_habits.head()"
   ]
  },
  {
   "cell_type": "code",
   "execution_count": 24,
   "metadata": {},
   "outputs": [
    {
     "data": {
      "image/png": "[encoded data removed]",
      "text/plain": [
       "<Figure size 640x480 with 1 Axes>"
      ]
     },
     "metadata": {},
     "output_type": "display_data"
    },
    {
     "data": {
      "text/plain": [
       "'\\nGood job! :) From the table and bar plot, you can see that 18-24 year olds, more than any other age group, took part in the study.\\n'"
      ]
     },
     "execution_count": 24,
     "metadata": {},
     "output_type": "execute_result"
    }
   ],
   "source": [
    "# exercise 01\n",
    "\n",
    "\"\"\"\n",
    "Frequency distribution\n",
    "\n",
    "Studying dietary habits across various demographics will help understand a plethora of things about individuals and groups, their health and lifestyle, among other things. As a result, the survey, dietary_habits asked participants their age group, Age, gender, Gender, how many meals they had in a day, meals_per_day, and how many times a week they ordered in or ate out, eat_out_per_wk.\n",
    "\n",
    "In this exercise, you will create a frequency distribution of the number of responses for each age group in the survey data.\n",
    "\n",
    "pandas as been loaded for you as pd, and matplotlib.pyplot as plt.\n",
    "\"\"\"\n",
    "\n",
    "# Instructions\n",
    "\n",
    "\"\"\"\n",
    "\n",
    "    For the variable Age, count the number of responses for each age group and turn it into a DataFrame.\n",
    "---\n",
    "\n",
    "    Create a bar chart of the different age groups.\n",
    "\n",
    "\"\"\"\n",
    "\n",
    "# solution\n",
    "\n",
    "# Count the number of responses for each age group\n",
    "freq_dist = dietary_habits.Age.value_counts().to_frame('Number')\n",
    "\n",
    "# Create a bar chart of the different age groups\n",
    "freq_dist.plot(kind='bar')\n",
    "plt.show()\n",
    "\n",
    "#----------------------------------#\n",
    "\n",
    "# Conclusion\n",
    "\n",
    "\"\"\"\n",
    "Good job! :) From the table and bar plot, you can see that 18-24 year olds, more than any other age group, took part in the study.\n",
    "\"\"\""
   ]
  },
  {
   "cell_type": "code",
   "execution_count": 25,
   "metadata": {
    "tags": []
   },
   "outputs": [
    {
     "name": "stdout",
     "output_type": "stream",
     "text": [
      "6\n",
      "1.2230443556296295\n"
     ]
    },
    {
     "data": {
      "text/plain": [
       "\"\\nSweet. The lowest number of times respondents ate out or ordered in is 6 unit apart from the highest number of times respondents ate out or ordered in. A standard deviation of 1.22 tells us there's some variablity in the responses, but not much.\\n\""
      ]
     },
     "execution_count": 25,
     "metadata": {},
     "output_type": "execute_result"
    }
   ],
   "source": [
    "# exercise 02\n",
    "\n",
    "\"\"\"\n",
    "Measures of variability\n",
    "\n",
    "After studying the frequency distribution of respondents, you, as a researcher, want to analyze the survey some more. Remember, the survey, dietary_habits asked participants their age group, Age, gender, Gender, how many meals they had in a day, meals_per_day, and how many times a week they ordered in or ate out, eat_out_per_wk.\n",
    "\n",
    "In this exercise, you will calculate the variability for each category in the survey data.\n",
    "\n",
    "pandas as been loaded for you as pd.\n",
    "\"\"\"\n",
    "\n",
    "# Instructions\n",
    "\n",
    "\"\"\"\n",
    "\n",
    "    Find the range of meals eaten out or ordered.\n",
    "    Find the standard deviation of meals eaten out or ordered.\n",
    "\n",
    "\"\"\"\n",
    "\n",
    "# solution\n",
    "\n",
    "# Find the range of meals eaten out or ordered\n",
    "range_value = dietary_habits.eat_out_per_wk.max() - dietary_habits.eat_out_per_wk.min()\n",
    "print(range_value)\n",
    "\n",
    "# Find the standard deviation of meals eaten out or ordered\n",
    "std_dev_value = dietary_habits.eat_out_per_wk.std()\n",
    "print(std_dev_value)\n",
    "\n",
    "#----------------------------------#\n",
    "\n",
    "# Conclusion\n",
    "\n",
    "\"\"\"\n",
    "Sweet. The lowest number of times respondents ate out or ordered in is 6 unit apart from the highest number of times respondents ate out or ordered in. A standard deviation of 1.22 tells us there's some variablity in the responses, but not much.\n",
    "\"\"\""
   ]
  },
  {
   "cell_type": "code",
   "execution_count": 26,
   "metadata": {
    "tags": []
   },
   "outputs": [
    {
     "name": "stdout",
     "output_type": "stream",
     "text": [
      "mean_value =  1.8974358974358974\n",
      "median_value =  1.5\n",
      "mode_value =  0    1\n",
      "Name: eat_out_per_wk, dtype: int64\n"
     ]
    },
    {
     "data": {
      "text/plain": [
       "'\\nEasy enough. All these values show that from the survey, respondents are averaging 1-2 times a week of eating/ordering out.\\n'"
      ]
     },
     "execution_count": 26,
     "metadata": {},
     "output_type": "execute_result"
    }
   ],
   "source": [
    "# exercise 03\n",
    "\n",
    "\"\"\"\n",
    "Measures of central tendency\n",
    "\n",
    "You've studied the frequency distribution of respondents, as well as the range and standard deviation of meals eaten out or ordered; you decide to analyze the dataset further. Remember, the survey, dietary_habits asked participants their age group, Age, gender, Gender, how many meals they had in a day, meals_per_day, and how many times a week they ordered in or ate out, eat_out_per_wk.\n",
    "\n",
    "In this exercise, you will calculate the central tendency of the survey data.\n",
    "\n",
    "pandas as been loaded for you as pd.\n",
    "\"\"\"\n",
    "\n",
    "# Instructions\n",
    "\n",
    "\"\"\"\n",
    "\n",
    "    Calculate the mean, median, and mode times per week that respondents ordered in or ate out.\n",
    "\n",
    "\"\"\"\n",
    "\n",
    "# solution\n",
    "\n",
    "# Calculate the mean\n",
    "mean_value = dietary_habits.eat_out_per_wk.mean()\n",
    "print('mean_value = ', mean_value)\n",
    "\n",
    "# Calculate the median\n",
    "median_value = dietary_habits.eat_out_per_wk.median()\n",
    "print('median_value = ', median_value)\n",
    "\n",
    "# Calculate the mode\n",
    "mode_value = dietary_habits.eat_out_per_wk.mode()\n",
    "print('mode_value = ', mode_value)\n",
    "\n",
    "#----------------------------------#\n",
    "\n",
    "# Conclusion\n",
    "\n",
    "\"\"\"\n",
    "Easy enough. All these values show that from the survey, respondents are averaging 1-2 times a week of eating/ordering out.\n",
    "\"\"\""
   ]
  },
  {
   "cell_type": "code",
   "execution_count": 27,
   "metadata": {},
   "outputs": [
    {
     "data": {
      "text/html": [
       "<div>\n",
       "<style scoped>\n",
       "    .dataframe tbody tr th:only-of-type {\n",
       "        vertical-align: middle;\n",
       "    }\n",
       "\n",
       "    .dataframe tbody tr th {\n",
       "        vertical-align: top;\n",
       "    }\n",
       "\n",
       "    .dataframe thead th {\n",
       "        text-align: right;\n",
       "    }\n",
       "</style>\n",
       "<table border=\"1\" class=\"dataframe\">\n",
       "  <thead>\n",
       "    <tr style=\"text-align: right;\">\n",
       "      <th></th>\n",
       "      <th>Gender</th>\n",
       "      <th>Age</th>\n",
       "      <th>Height</th>\n",
       "      <th>Weight</th>\n",
       "    </tr>\n",
       "  </thead>\n",
       "  <tbody>\n",
       "    <tr>\n",
       "      <th>0</th>\n",
       "      <td>female</td>\n",
       "      <td>20.0</td>\n",
       "      <td>163.0</td>\n",
       "      <td>48.0</td>\n",
       "    </tr>\n",
       "    <tr>\n",
       "      <th>1</th>\n",
       "      <td>female</td>\n",
       "      <td>19.0</td>\n",
       "      <td>163.0</td>\n",
       "      <td>58.0</td>\n",
       "    </tr>\n",
       "    <tr>\n",
       "      <th>2</th>\n",
       "      <td>female</td>\n",
       "      <td>20.0</td>\n",
       "      <td>176.0</td>\n",
       "      <td>67.0</td>\n",
       "    </tr>\n",
       "    <tr>\n",
       "      <th>3</th>\n",
       "      <td>female</td>\n",
       "      <td>20.0</td>\n",
       "      <td>170.0</td>\n",
       "      <td>59.0</td>\n",
       "    </tr>\n",
       "    <tr>\n",
       "      <th>4</th>\n",
       "      <td>male</td>\n",
       "      <td>20.0</td>\n",
       "      <td>186.0</td>\n",
       "      <td>77.0</td>\n",
       "    </tr>\n",
       "  </tbody>\n",
       "</table>\n",
       "</div>"
      ],
      "text/plain": [
       "   Gender   Age  Height  Weight\n",
       "0  female  20.0   163.0    48.0\n",
       "1  female  19.0   163.0    58.0\n",
       "2  female  20.0   176.0    67.0\n",
       "3  female  20.0   170.0    59.0\n",
       "4    male  20.0   186.0    77.0"
      ]
     },
     "execution_count": 27,
     "metadata": {},
     "output_type": "execute_result"
    }
   ],
   "source": [
    "young_people = pd.read_csv(path_data+'young_people.csv')\n",
    "young_people.head()"
   ]
  },
  {
   "cell_type": "code",
   "execution_count": 28,
   "metadata": {
    "tags": []
   },
   "outputs": [
    {
     "data": {
      "image/png": "[encoded data removed]",
      "text/plain": [
       "<Figure size 640x480 with 1 Axes>"
      ]
     },
     "metadata": {},
     "output_type": "display_data"
    },
    {
     "data": {
      "text/plain": [
       "'\\nGood job! Looks like the histogram resembles a normal distribution curve. We should be able to use z-scores to find any unusual data.\\n'"
      ]
     },
     "execution_count": 28,
     "metadata": {},
     "output_type": "execute_result"
    }
   ],
   "source": [
    "# exercise 04\n",
    "\n",
    "\"\"\"\n",
    "Visualize data: histogram\n",
    "\n",
    "For your statistics class project, you asked your friends to participate in a survey to better understand the gender differences in specific preferences in young adults. Part of survey, young_people, asked for respondents’ Gender, Age, Height, and Weight.\n",
    "\n",
    "In this exercise, you will visualize the distribution of the respondents' height.\n",
    "\n",
    "pandas, scipy.stats and matplotlib.pyplot have been loaded for you as pd, stats and plt, respectively.\n",
    "\"\"\"\n",
    "\n",
    "# Instructions\n",
    "\n",
    "\"\"\"\n",
    "\n",
    "    Plot the distribution of values in the Height column using a histogram.\n",
    "\n",
    "\"\"\"\n",
    "\n",
    "# solution\n",
    "\n",
    "# Histogram of Height column\n",
    "young_people.Height.plot(kind='hist')\n",
    "plt.show()\n",
    "\n",
    "#----------------------------------#\n",
    "\n",
    "# Conclusion\n",
    "\n",
    "\"\"\"\n",
    "Good job! Looks like the histogram resembles a normal distribution curve. We should be able to use z-scores to find any unusual data.\n",
    "\"\"\""
   ]
  },
  {
   "cell_type": "code",
   "execution_count": 29,
   "metadata": {},
   "outputs": [],
   "source": [
    "from scipy import stats"
   ]
  },
  {
   "cell_type": "code",
   "execution_count": 30,
   "metadata": {
    "tags": []
   },
   "outputs": [
    {
     "name": "stdout",
     "output_type": "stream",
     "text": [
      "    Gender   Age  Height  Weight  Height_zscore\n",
      "384   male  21.0   203.0    80.0       3.123994\n",
      "542   male  18.0   203.0    89.0       3.123994\n"
     ]
    },
    {
     "data": {
      "text/plain": [
       "'\\nInteresting! Two male respondents are over three standard deviations from the mean at 203cm tall. At over 6 feet 7 inches, these two gentlemen are the anomoly! Somebody get them on their basketball team quick!\\n'"
      ]
     },
     "execution_count": 30,
     "metadata": {},
     "output_type": "execute_result"
    }
   ],
   "source": [
    "# exercise 05\n",
    "\n",
    "\"\"\"\n",
    "Find the z-score\n",
    "\n",
    "Now that you know the spread of heights from the survey, you want to dig further into the survey. Remember, part of survey, young_people, asked for respondents' Gender, Age, Height, and Weight.\n",
    "\n",
    "In this exercise, you will find outliers in the height column.\n",
    "\n",
    "pandas and scipy.stats have been loaded for you as pd and stats, respectively.\n",
    "\"\"\"\n",
    "\n",
    "# Instructions\n",
    "\n",
    "\"\"\"\n",
    "\n",
    "    Find the z-score of the Height column.\n",
    "    Find the outliers in Height_zscore for this survey.\n",
    "\n",
    "\"\"\"\n",
    "\n",
    "# solution\n",
    "\n",
    "# z-score of `Height` column\n",
    "young_people['Height_zscore'] = stats.zscore(young_people.Height)\n",
    "\n",
    "# Outliers in `Height_zscore`\n",
    "height_outliers = young_people[\n",
    "  (young_people.Height_zscore>=3)\n",
    "  |(young_people.Height_zscore<=-3)\n",
    "]\n",
    "print(height_outliers)\n",
    "\n",
    "#----------------------------------#\n",
    "\n",
    "# Conclusion\n",
    "\n",
    "\"\"\"\n",
    "Interesting! Two male respondents are over three standard deviations from the mean at 203cm tall. At over 6 feet 7 inches, these two gentlemen are the anomoly! Somebody get them on their basketball team quick!\n",
    "\"\"\""
   ]
  },
  {
   "cell_type": "code",
   "execution_count": 31,
   "metadata": {},
   "outputs": [
    {
     "data": {
      "text/html": [
       "<div>\n",
       "<style scoped>\n",
       "    .dataframe tbody tr th:only-of-type {\n",
       "        vertical-align: middle;\n",
       "    }\n",
       "\n",
       "    .dataframe tbody tr th {\n",
       "        vertical-align: top;\n",
       "    }\n",
       "\n",
       "    .dataframe thead th {\n",
       "        text-align: right;\n",
       "    }\n",
       "</style>\n",
       "<table border=\"1\" class=\"dataframe\">\n",
       "  <thead>\n",
       "    <tr style=\"text-align: right;\">\n",
       "      <th></th>\n",
       "      <th>id</th>\n",
       "      <th>birth_age</th>\n",
       "      <th>birth_weight</th>\n",
       "    </tr>\n",
       "  </thead>\n",
       "  <tbody>\n",
       "    <tr>\n",
       "      <th>0</th>\n",
       "      <td>1</td>\n",
       "      <td>34.7</td>\n",
       "      <td>1895</td>\n",
       "    </tr>\n",
       "    <tr>\n",
       "      <th>1</th>\n",
       "      <td>2</td>\n",
       "      <td>36.0</td>\n",
       "      <td>2030</td>\n",
       "    </tr>\n",
       "    <tr>\n",
       "      <th>2</th>\n",
       "      <td>3</td>\n",
       "      <td>29.3</td>\n",
       "      <td>1440</td>\n",
       "    </tr>\n",
       "    <tr>\n",
       "      <th>3</th>\n",
       "      <td>4</td>\n",
       "      <td>40.1</td>\n",
       "      <td>2835</td>\n",
       "    </tr>\n",
       "    <tr>\n",
       "      <th>4</th>\n",
       "      <td>5</td>\n",
       "      <td>35.7</td>\n",
       "      <td>3090</td>\n",
       "    </tr>\n",
       "  </tbody>\n",
       "</table>\n",
       "</div>"
      ],
      "text/plain": [
       "   id  birth_age  birth_weight\n",
       "0   1       34.7          1895\n",
       "1   2       36.0          2030\n",
       "2   3       29.3          1440\n",
       "3   4       40.1          2835\n",
       "4   5       35.7          3090"
      ]
     },
     "execution_count": 31,
     "metadata": {},
     "output_type": "execute_result"
    }
   ],
   "source": [
    "birth_survey = pd.read_csv(path_data+'birth_survey.csv')\n",
    "birth_survey.head()"
   ]
  },
  {
   "cell_type": "code",
   "execution_count": 32,
   "metadata": {
    "tags": []
   },
   "outputs": [
    {
     "name": "stdout",
     "output_type": "stream",
     "text": [
      "0.8175185198942662\n"
     ]
    },
    {
     "data": {
      "text/plain": [
       "\"\\nYou're smart:) Here we have a pretty strong relationship between gestational age and birth weight. A positive correlation supports that notion that typically the older an infant is, the more the infant weighs.\\n\""
      ]
     },
     "execution_count": 32,
     "metadata": {},
     "output_type": "execute_result"
    }
   ],
   "source": [
    "# exercise 06\n",
    "\n",
    "\"\"\"\n",
    "Analyze variables with .corr()\n",
    "\n",
    "A survey, birth_survey, was conducted involving 17 infants to investigate the association between gestational age at birth measured in weeks, birth_age, and birth weight measured in grams, birth_weight.\n",
    "\n",
    "In this exercise, you will calculate the relationship between birth age and birth weight.\n",
    "\n",
    "pandas has been loaded as pd for you.\n",
    "\"\"\"\n",
    "\n",
    "# Instructions\n",
    "\n",
    "\"\"\"\n",
    "\n",
    "    Use a function to find the correlation between variables birth_age and birth_weight in the survey.\n",
    "\n",
    "\"\"\"\n",
    "\n",
    "# solution\n",
    "\n",
    "# Find the correlation between variables present in the survey\n",
    "cor = birth_survey.birth_age.corr(birth_survey.birth_weight)\n",
    "print(cor)\n",
    "\n",
    "#----------------------------------#\n",
    "\n",
    "# Conclusion\n",
    "\n",
    "\"\"\"\n",
    "You're smart:) Here we have a pretty strong relationship between gestational age and birth weight. A positive correlation supports that notion that typically the older an infant is, the more the infant weighs.\n",
    "\"\"\""
   ]
  },
  {
   "cell_type": "code",
   "execution_count": 33,
   "metadata": {},
   "outputs": [
    {
     "data": {
      "text/plain": [
       "<matplotlib.image.AxesImage at 0x7f43c40acc50>"
      ]
     },
     "execution_count": 33,
     "metadata": {},
     "output_type": "execute_result"
    },
    {
     "data": {
      "image/png": "[encoded data removed]",
      "text/plain": [
       "<Figure size 640x480 with 1 Axes>"
      ]
     },
     "metadata": {},
     "output_type": "display_data"
    }
   ],
   "source": [
    "from matplotlib import image\n",
    "\n",
    "img = image.imread(cwd+'sampleco survey results snapsot.png')\n",
    "plt.imshow(img)"
   ]
  },
  {
   "cell_type": "code",
   "execution_count": 39,
   "metadata": {
    "tags": []
   },
   "outputs": [
    {
     "data": {
      "text/plain": [
       "'\\nWell done! Employees not only directly feel satisfied and engaged when they can trust the company, but on average, employees lean toward agreeing that SampleCo. is trustworthy.\\n'"
      ]
     },
     "execution_count": 39,
     "metadata": {},
     "output_type": "execute_result"
    }
   ],
   "source": [
    "# exercise 07\n",
    "\n",
    "\"\"\"\n",
    "Are employees happy?\n",
    "\n",
    "SampleCo performed a survey to understand the correlation between its employees’ overall satisfaction and engagement, and different ideals such as trust and execution. Employees rated each question on a 5-point scale, with 1 = “Strongly disagree” and 5 = “Strongly agree”.\n",
    "\n",
    "Below are the results from the survey:\n",
    "\n",
    "Results from SampleCo's survey\n",
    "\n",
    "Select the best conclusion:\n",
    "\n",
    "A: There is an atmosphere of trust at SampleCo.\n",
    "\n",
    "B: Employees feel that they are most satisfied and engaged when they can count on the company.\n",
    "\n",
    "C: If managers do not follow through on their commitments, employees are not satisfied overall.\n",
    "\"\"\"\n",
    "\n",
    "# Instructions\n",
    "\n",
    "\"\"\"\n",
    "Possible Answers\n",
    "Select one answer\n",
    "\n",
    "    A\n",
    "    \n",
    "    \n",
    "    A & B (Answer)\n",
    "    \n",
    "    \n",
    "    A & C\n",
    "\"\"\"\n",
    "\n",
    "# solution\n",
    "\n",
    "\n",
    "\n",
    "#----------------------------------#\n",
    "\n",
    "# Conclusion\n",
    "\n",
    "\"\"\"\n",
    "Well done! Employees not only directly feel satisfied and engaged when they can trust the company, but on average, employees lean toward agreeing that SampleCo. is trustworthy.\n",
    "\"\"\""
   ]
  },
  {
   "cell_type": "code",
   "execution_count": 40,
   "metadata": {
    "tags": []
   },
   "outputs": [
    {
     "name": "stdout",
     "output_type": "stream",
     "text": [
      "     Gender   Age  Height  Weight  Height_zscore  Age_zscore\n",
      "158    male  30.0   178.0    71.0       0.483712    3.532707\n",
      "278  female  30.0   160.0    47.0      -1.417291    3.532707\n",
      "332    male  29.0   189.0    96.0       1.645436    3.166505\n",
      "487    male  29.0   183.0   111.0       1.011768    3.166505\n",
      "488    male  29.0   173.0    81.0      -0.044344    3.166505\n",
      "538  female  30.0   173.0    69.0      -0.044344    3.532707\n",
      "561  female  29.0   170.0    58.0      -0.361178    3.166505\n",
      "572    male  30.0   184.0    78.0       1.117380    3.532707\n",
      "660  female  30.0   168.0    54.0      -0.572400    3.532707\n",
      "661    male  29.0   180.0    93.0       0.694935    3.166505\n",
      "663    male  30.0   200.0   150.0       2.807160    3.532707\n"
     ]
    },
    {
     "data": {
      "text/plain": [
       "\"\\nThat's right! As the anomaly by age for this dataset, the 29-30 year olds may be at a disadvantage, as they would be competing against younger and most likely faster and stronger players. They would need to have a separate competition, just for them, to make things fair.\\n\""
      ]
     },
     "execution_count": 40,
     "metadata": {},
     "output_type": "execute_result"
    }
   ],
   "source": [
    "# exercise 08\n",
    "\n",
    "\"\"\"\n",
    "Fair and square\n",
    "\n",
    "You want to hold a sports competition for young adults. However, you want to make sure that those who participate have similar abilities, enabling winners to win fair and square. You conduct a survey of young adults called young_people, and ask respondents for their Gender, Age, Height, and Weight.\n",
    "\n",
    "In this exercise, you will find outliers in the age column.\n",
    "\n",
    "pandas and scipy.stats have been uploaded for you as pd and stats, respectively.\n",
    "\"\"\"\n",
    "\n",
    "# Instructions\n",
    "\n",
    "\"\"\"\n",
    "\n",
    "    Find the z-score of the Age column.\n",
    "    Find the outliers in the survey using the Age_zscore for this survey.\n",
    "\n",
    "\"\"\"\n",
    "\n",
    "# solution\n",
    "\n",
    "# z-score of `Age` column\n",
    "young_people['Age_zscore'] = stats.zscore(young_people.Age)\n",
    "\n",
    "# Outliers in `Age_zscore`\n",
    "age_outliers = young_people[\n",
    "  (young_people.Age_zscore >= 3)\n",
    "  |(young_people.Age_zscore <= -3)\n",
    "]\n",
    "print(age_outliers)\n",
    "\n",
    "#----------------------------------#\n",
    "\n",
    "# Conclusion\n",
    "\n",
    "\"\"\"\n",
    "That's right! As the anomaly by age for this dataset, the 29-30 year olds may be at a disadvantage, as they would be competing against younger and most likely faster and stronger players. They would need to have a separate competition, just for them, to make things fair.\n",
    "\"\"\""
   ]
  }
 ],
 "metadata": {
  "kernelspec": {
   "display_name": "Python 3 (ipykernel)",
   "language": "python",
   "name": "python3"
  },
  "language_info": {
   "codemirror_mode": {
    "name": "ipython",
    "version": 3
   },
   "file_extension": ".py",
   "mimetype": "text/x-python",
   "name": "python",
   "nbconvert_exporter": "python",
   "pygments_lexer": "ipython3",
   "version": "3.11.5"
  }
 },
 "nbformat": 4,
 "nbformat_minor": 4
}
