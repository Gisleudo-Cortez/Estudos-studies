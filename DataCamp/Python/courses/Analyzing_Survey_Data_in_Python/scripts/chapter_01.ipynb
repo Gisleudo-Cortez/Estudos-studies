{
 "cells": [
  {
   "cell_type": "code",
   "execution_count": 2,
   "metadata": {
    "tags": []
   },
   "outputs": [],
   "source": [
    "# run this to shorten the data import from the files\n",
    "import os\n",
    "cwd = os.getcwd()+'/'\n",
    "path_data = os.path.join(os.path.dirname(os.getcwd()), 'datasets/')\n"
   ]
  },
  {
   "cell_type": "code",
   "execution_count": 3,
   "metadata": {},
   "outputs": [
    {
     "data": {
      "text/plain": [
       "'\\nPerfect! You can categorize by different types of pets. There is no order between the different types and it is mutually exclusive.\\n'"
      ]
     },
     "execution_count": 3,
     "metadata": {},
     "output_type": "execute_result"
    }
   ],
   "source": [
    "# exercise 01\n",
    "\n",
    "\"\"\"\n",
    "Looking at levels of measurements\n",
    "\n",
    "An analyst wants to research how pets can impact stress. Current pet owners were asked what their first pet was, first_pet, how many pets they currently have, current_pets, the amount of time they spend with their pets, time_spent, and whether they feel that having a pet decreases stress, reduces_stress.\n",
    "\n",
    "What level of measurement would the variable, first_pet, be?\n",
    "\"\"\"\n",
    "\n",
    "# Instructions\n",
    "\n",
    "\"\"\"\n",
    "Possible Answers\n",
    "Select one answer\n",
    "\n",
    "    Ratio\n",
    "    \n",
    "    \n",
    "    Interval\n",
    "    \n",
    "    \n",
    "    Ordinal\n",
    "    \n",
    "    \n",
    "    Nominal\n",
    "\"\"\"\n",
    "\n",
    "# solution\n",
    "\n",
    "\n",
    "\n",
    "#----------------------------------#\n",
    "\n",
    "# Conclusion\n",
    "\n",
    "\"\"\"\n",
    "Perfect! You can categorize by different types of pets. There is no order between the different types and it is mutually exclusive.\n",
    "\"\"\""
   ]
  },
  {
   "cell_type": "code",
   "execution_count": 4,
   "metadata": {},
   "outputs": [
    {
     "data": {
      "text/html": [
       "<div>\n",
       "<style scoped>\n",
       "    .dataframe tbody tr th:only-of-type {\n",
       "        vertical-align: middle;\n",
       "    }\n",
       "\n",
       "    .dataframe tbody tr th {\n",
       "        vertical-align: top;\n",
       "    }\n",
       "\n",
       "    .dataframe thead th {\n",
       "        text-align: right;\n",
       "    }\n",
       "</style>\n",
       "<table border=\"1\" class=\"dataframe\">\n",
       "  <thead>\n",
       "    <tr style=\"text-align: right;\">\n",
       "      <th></th>\n",
       "      <th>ID</th>\n",
       "      <th>Age</th>\n",
       "      <th>Occupation_Title</th>\n",
       "      <th>Current_Student</th>\n",
       "      <th>Gender</th>\n",
       "      <th>Education</th>\n",
       "      <th>School</th>\n",
       "      <th>Empowerment</th>\n",
       "    </tr>\n",
       "  </thead>\n",
       "  <tbody>\n",
       "    <tr>\n",
       "      <th>0</th>\n",
       "      <td>1</td>\n",
       "      <td>18 - 24</td>\n",
       "      <td>Credit officer</td>\n",
       "      <td>No</td>\n",
       "      <td>Female</td>\n",
       "      <td>Bachelor's Degree</td>\n",
       "      <td>University of Texas</td>\n",
       "      <td>Being able to stand next to a male and not be ...</td>\n",
       "    </tr>\n",
       "    <tr>\n",
       "      <th>1</th>\n",
       "      <td>2</td>\n",
       "      <td>18 - 24</td>\n",
       "      <td>Student</td>\n",
       "      <td>Yes, Full-Time</td>\n",
       "      <td>Male</td>\n",
       "      <td>Bachelor's Degree</td>\n",
       "      <td>University of Texas</td>\n",
       "      <td>Women feel able to voice their opinion without...</td>\n",
       "    </tr>\n",
       "    <tr>\n",
       "      <th>2</th>\n",
       "      <td>3</td>\n",
       "      <td>18 - 24</td>\n",
       "      <td>Student</td>\n",
       "      <td>Yes, Full-Time</td>\n",
       "      <td>Female</td>\n",
       "      <td>Bachelor's Degree</td>\n",
       "      <td>University of Texas</td>\n",
       "      <td>Creating an environment in which women feel fr...</td>\n",
       "    </tr>\n",
       "    <tr>\n",
       "      <th>3</th>\n",
       "      <td>4</td>\n",
       "      <td>25 - 34</td>\n",
       "      <td>Senior Financial Analyst</td>\n",
       "      <td>No</td>\n",
       "      <td>Female</td>\n",
       "      <td>Bachelor's Degree</td>\n",
       "      <td>University of Texas</td>\n",
       "      <td>Female empowerment means actively taking steps...</td>\n",
       "    </tr>\n",
       "    <tr>\n",
       "      <th>4</th>\n",
       "      <td>5</td>\n",
       "      <td>35 - 44</td>\n",
       "      <td>Public Relations Director</td>\n",
       "      <td>No</td>\n",
       "      <td>Female</td>\n",
       "      <td>Bachelor's Degree</td>\n",
       "      <td>University of Texas</td>\n",
       "      <td>Women that have the strength to have their voi...</td>\n",
       "    </tr>\n",
       "  </tbody>\n",
       "</table>\n",
       "</div>"
      ],
      "text/plain": [
       "   ID      Age           Occupation_Title Current_Student  Gender  \\\n",
       "0   1  18 - 24             Credit officer              No  Female   \n",
       "1   2  18 - 24                    Student  Yes, Full-Time    Male   \n",
       "2   3  18 - 24                    Student  Yes, Full-Time  Female   \n",
       "3   4  25 - 34   Senior Financial Analyst              No  Female   \n",
       "4   5  35 - 44  Public Relations Director              No  Female   \n",
       "\n",
       "           Education               School  \\\n",
       "0  Bachelor's Degree  University of Texas   \n",
       "1  Bachelor's Degree  University of Texas   \n",
       "2  Bachelor's Degree  University of Texas   \n",
       "3  Bachelor's Degree  University of Texas   \n",
       "4  Bachelor's Degree  University of Texas   \n",
       "\n",
       "                                         Empowerment  \n",
       "0  Being able to stand next to a male and not be ...  \n",
       "1  Women feel able to voice their opinion without...  \n",
       "2  Creating an environment in which women feel fr...  \n",
       "3  Female empowerment means actively taking steps...  \n",
       "4  Women that have the strength to have their voi...  "
      ]
     },
     "execution_count": 4,
     "metadata": {},
     "output_type": "execute_result"
    }
   ],
   "source": [
    "import pandas as pd\n",
    "\n",
    "we_survey = pd.read_csv(path_data+'we_survey.csv')\n",
    "we_survey.head()"
   ]
  },
  {
   "cell_type": "code",
   "execution_count": 6,
   "metadata": {
    "tags": []
   },
   "outputs": [
    {
     "data": {
      "text/html": [
       "<div>\n",
       "<style scoped>\n",
       "    .dataframe tbody tr th:only-of-type {\n",
       "        vertical-align: middle;\n",
       "    }\n",
       "\n",
       "    .dataframe tbody tr th {\n",
       "        vertical-align: top;\n",
       "    }\n",
       "\n",
       "    .dataframe thead th {\n",
       "        text-align: right;\n",
       "    }\n",
       "</style>\n",
       "<table border=\"1\" class=\"dataframe\">\n",
       "  <thead>\n",
       "    <tr style=\"text-align: right;\">\n",
       "      <th>Education</th>\n",
       "      <th>Bachelor's Degree</th>\n",
       "      <th>Doctorate Degree</th>\n",
       "      <th>Graduate Degree</th>\n",
       "      <th>High School Graduate</th>\n",
       "      <th>Juris Doctorate</th>\n",
       "      <th>Some College / Associates Degree</th>\n",
       "      <th>All</th>\n",
       "    </tr>\n",
       "    <tr>\n",
       "      <th>Gender</th>\n",
       "      <th></th>\n",
       "      <th></th>\n",
       "      <th></th>\n",
       "      <th></th>\n",
       "      <th></th>\n",
       "      <th></th>\n",
       "      <th></th>\n",
       "    </tr>\n",
       "  </thead>\n",
       "  <tbody>\n",
       "    <tr>\n",
       "      <th>Female</th>\n",
       "      <td>55</td>\n",
       "      <td>1</td>\n",
       "      <td>16</td>\n",
       "      <td>1</td>\n",
       "      <td>1</td>\n",
       "      <td>8</td>\n",
       "      <td>82</td>\n",
       "    </tr>\n",
       "    <tr>\n",
       "      <th>Male</th>\n",
       "      <td>20</td>\n",
       "      <td>0</td>\n",
       "      <td>2</td>\n",
       "      <td>3</td>\n",
       "      <td>0</td>\n",
       "      <td>5</td>\n",
       "      <td>30</td>\n",
       "    </tr>\n",
       "    <tr>\n",
       "      <th>All</th>\n",
       "      <td>75</td>\n",
       "      <td>1</td>\n",
       "      <td>18</td>\n",
       "      <td>4</td>\n",
       "      <td>1</td>\n",
       "      <td>13</td>\n",
       "      <td>112</td>\n",
       "    </tr>\n",
       "  </tbody>\n",
       "</table>\n",
       "</div>"
      ],
      "text/plain": [
       "Education  Bachelor's Degree  Doctorate Degree  Graduate Degree  \\\n",
       "Gender                                                            \n",
       "Female                    55                 1               16   \n",
       "Male                      20                 0                2   \n",
       "All                       75                 1               18   \n",
       "\n",
       "Education  High School Graduate  Juris Doctorate  \\\n",
       "Gender                                             \n",
       "Female                        1                1   \n",
       "Male                          3                0   \n",
       "All                           4                1   \n",
       "\n",
       "Education  Some College / Associates Degree  All  \n",
       "Gender                                            \n",
       "Female                                    8   82  \n",
       "Male                                      5   30  \n",
       "All                                      13  112  "
      ]
     },
     "metadata": {},
     "output_type": "display_data"
    },
    {
     "data": {
      "text/plain": [
       "'\\nAwesome work! We can see that the majority of degree holders who took the survey are female. By setting margins equal True, we are adding a row and column that find the sum of that column or row, respectively.\\n'"
      ]
     },
     "execution_count": 6,
     "metadata": {},
     "output_type": "execute_result"
    }
   ],
   "source": [
    "# exercise 02\n",
    "\n",
    "\"\"\"\n",
    "Crosstabulation\n",
    "\n",
    "Students and alumni mainly from the University of Texas were surveyed to see their stance on the topic of female empowerment. Let's get an overall picture of the relationship between degree received and gender.\n",
    "\n",
    "pandas has been imported for you as pd and the survey as we_survey.\n",
    "\"\"\"\n",
    "\n",
    "# Instructions\n",
    "\n",
    "\"\"\"\n",
    "\n",
    "    Create a cross-tabulation of Gender and Education showing the frequency distribution between both variables.\n",
    "\n",
    "\"\"\"\n",
    "\n",
    "# solution\n",
    "\n",
    "# Create a cross-tabulation of \"Gender\" and \"Education\"\n",
    "cross_tabulation = pd.crosstab(we_survey.Gender,\n",
    "                             we_survey.Education, \n",
    "                             margins = True)\n",
    "display(cross_tabulation)\n",
    "\n",
    "#----------------------------------#\n",
    "\n",
    "# Conclusion\n",
    "\n",
    "\"\"\"\n",
    "Awesome work! We can see that the majority of degree holders who took the survey are female. By setting margins equal True, we are adding a row and column that find the sum of that column or row, respectively.\n",
    "\"\"\""
   ]
  },
  {
   "cell_type": "code",
   "execution_count": 10,
   "metadata": {},
   "outputs": [
    {
     "data": {
      "text/html": [
       "<div>\n",
       "<style scoped>\n",
       "    .dataframe tbody tr th:only-of-type {\n",
       "        vertical-align: middle;\n",
       "    }\n",
       "\n",
       "    .dataframe tbody tr th {\n",
       "        vertical-align: top;\n",
       "    }\n",
       "\n",
       "    .dataframe thead th {\n",
       "        text-align: right;\n",
       "    }\n",
       "</style>\n",
       "<table border=\"1\" class=\"dataframe\">\n",
       "  <thead>\n",
       "    <tr style=\"text-align: right;\">\n",
       "      <th></th>\n",
       "      <th>Unnamed: 0</th>\n",
       "      <th>Gender</th>\n",
       "      <th>Age</th>\n",
       "      <th>Height_in</th>\n",
       "      <th>Weight_lbs</th>\n",
       "      <th>describe_weight</th>\n",
       "    </tr>\n",
       "  </thead>\n",
       "  <tbody>\n",
       "    <tr>\n",
       "      <th>0</th>\n",
       "      <td>0</td>\n",
       "      <td>Female</td>\n",
       "      <td>18</td>\n",
       "      <td>67</td>\n",
       "      <td>150</td>\n",
       "      <td>Slightly overweight</td>\n",
       "    </tr>\n",
       "    <tr>\n",
       "      <th>1</th>\n",
       "      <td>1</td>\n",
       "      <td>Male</td>\n",
       "      <td>17</td>\n",
       "      <td>67</td>\n",
       "      <td>140</td>\n",
       "      <td>About the right weight</td>\n",
       "    </tr>\n",
       "    <tr>\n",
       "      <th>2</th>\n",
       "      <td>2</td>\n",
       "      <td>Female</td>\n",
       "      <td>16</td>\n",
       "      <td>67</td>\n",
       "      <td>100</td>\n",
       "      <td>Slightly underweight</td>\n",
       "    </tr>\n",
       "    <tr>\n",
       "      <th>3</th>\n",
       "      <td>3</td>\n",
       "      <td>Female</td>\n",
       "      <td>18</td>\n",
       "      <td>62</td>\n",
       "      <td>185</td>\n",
       "      <td>Slightly overweight</td>\n",
       "    </tr>\n",
       "    <tr>\n",
       "      <th>4</th>\n",
       "      <td>4</td>\n",
       "      <td>Male</td>\n",
       "      <td>17</td>\n",
       "      <td>66</td>\n",
       "      <td>145</td>\n",
       "      <td>Slightly overweight</td>\n",
       "    </tr>\n",
       "  </tbody>\n",
       "</table>\n",
       "</div>"
      ],
      "text/plain": [
       "   Unnamed: 0  Gender  Age  Height_in  Weight_lbs         describe_weight\n",
       "0           0  Female   18         67         150     Slightly overweight\n",
       "1           1    Male   17         67         140  About the right weight\n",
       "2           2  Female   16         67         100    Slightly underweight\n",
       "3           3  Female   18         62         185     Slightly overweight\n",
       "4           4    Male   17         66         145     Slightly overweight"
      ]
     },
     "execution_count": 10,
     "metadata": {},
     "output_type": "execute_result"
    }
   ],
   "source": [
    "import numpy as np\n",
    "youth_survey_clean = pd.read_csv(path_data+'youth_survey_clean.csv')\n",
    "youth_survey_clean.head()"
   ]
  },
  {
   "cell_type": "code",
   "execution_count": 12,
   "metadata": {
    "tags": []
   },
   "outputs": [
    {
     "name": "stdout",
     "output_type": "stream",
     "text": [
      "       Gender         describe_weight\n",
      "count    7960                    7960\n",
      "unique      2                       5\n",
      "top      Male  About the right weight\n",
      "freq     4093                    4544\n"
     ]
    },
    {
     "data": {
      "text/plain": [
       "'\\nSee you go! Looks like the majority of youths who took the survey percieved they were at the right weight.\\n'"
      ]
     },
     "execution_count": 12,
     "metadata": {},
     "output_type": "execute_result"
    }
   ],
   "source": [
    "# exercise 03\n",
    "\n",
    "\"\"\"\n",
    "Descriptive statistics\n",
    "\n",
    "To get vital health data for tracking youth body mass index, health officials sent out a youth survey to a nationally representative sample of youths between 14 to 20 years of age as of December 31, 1999. The dataset tracks the age Age, height in inches Height_in, weight in pounds Weight_lbs, gender Gender, and the self reported multiple choice answer to the question, 'How would you describe your weight?' describe_weight.\n",
    "\n",
    "The cleaned up dataset of the survey has been loaded for you as youth_survey_clean. In this exercise, you will describe the dataset using python. pandas and NumPy have been loaded as pd and np, respectively.\n",
    "\"\"\"\n",
    "\n",
    "# Instructions\n",
    "\n",
    "\"\"\"\n",
    "\n",
    "    Generate descriptive statistics on the non-numerical columns of the survey dataset.\n",
    "\n",
    "\"\"\"\n",
    "\n",
    "# solution\n",
    "\n",
    "# Generate descriptive statistics on the non-numerical columns\n",
    "print(youth_survey_clean.describe(include = object))\n",
    "\n",
    "#----------------------------------#\n",
    "\n",
    "# Conclusion\n",
    "\n",
    "\"\"\"\n",
    "See you go! Looks like the majority of youths who took the survey percieved they were at the right weight.\n",
    "\"\"\""
   ]
  },
  {
   "cell_type": "code",
   "execution_count": 13,
   "metadata": {},
   "outputs": [],
   "source": [
    "import scipy.stats as st"
   ]
  },
  {
   "cell_type": "code",
   "execution_count": 15,
   "metadata": {
    "tags": []
   },
   "outputs": [
    {
     "name": "stdout",
     "output_type": "stream",
     "text": [
      "conf_95 =  (66.99284472082383, 67.17298442490483)\n",
      "conf_99 =  (66.96454272211489, 67.20128642361377)\n"
     ]
    },
    {
     "data": {
      "text/plain": [
       "\"\\nImpressive! There's a 95% chance that the confidence interval of 66.99 to 67.17 inches, and a 99% chance that the confidence interval of 66.96 to 67.20 inches, contains the true population mean height of youths at the time this survey was taken.\\n\""
      ]
     },
     "execution_count": 15,
     "metadata": {},
     "output_type": "execute_result"
    }
   ],
   "source": [
    "# exercise 04\n",
    "\n",
    "\"\"\"\n",
    "Inferential statistics\n",
    "\n",
    "To get vital health data in tracking for youth body mass index, health officials sent out a youth survey to a nationally representative sample of youths between 14 to 20 years of age as of December 31, 1999. The dataset tracks the age Age, height in inchesHeight_in, weight in pounds Weight_lbs, gender Gender, and the self reported multiple choice answer to the question, 'How would you describe your weight?' describe_weight.\n",
    "\n",
    "The cleaned up dataset of the survey has been loaded as youth_survey_clean. In this exercise, you will calculate confidence intervals.\n",
    "\n",
    "pandas, NumPy, and SciPy's statistics package have been loaded as pd, np and st, respectively.\n",
    "\"\"\"\n",
    "\n",
    "# Instructions\n",
    "\n",
    "\"\"\"\n",
    "\n",
    "    Calculate the confidence interval for the true population mean height, Height_in, using a 95% confidence level.\n",
    "    Calculate the confidence interval for the true population mean height, Height_in, using a 99% confidence level.\n",
    "\n",
    "\"\"\"\n",
    "\n",
    "# solution\n",
    "\n",
    "# Find confidence interval for mean height with 95% confidence level\n",
    "conf_95 = st.norm.interval(confidence = 0.95, \n",
    "                           loc = np.mean(youth_survey_clean.Height_in), \n",
    "                           scale = st.sem(youth_survey_clean.Height_in))\n",
    "\n",
    "# Find confidence interval for mean height with 99% confidence level\n",
    "conf_99 = st.norm.interval(confidence = 0.99, \n",
    "                           loc = np.mean(youth_survey_clean.Height_in), \n",
    "                           scale = st.sem(youth_survey_clean.Height_in))\n",
    "print(\"conf_95 = \", conf_95)\n",
    "print(\"conf_99 = \", conf_99)\n",
    "\n",
    "#----------------------------------#\n",
    "\n",
    "# Conclusion\n",
    "\n",
    "\"\"\"\n",
    "Impressive! There's a 95% chance that the confidence interval of 66.99 to 67.17 inches, and a 99% chance that the confidence interval of 66.96 to 67.20 inches, contains the true population mean height of youths at the time this survey was taken.\n",
    "\"\"\""
   ]
  },
  {
   "cell_type": "code",
   "execution_count": 19,
   "metadata": {},
   "outputs": [],
   "source": [
    "import matplotlib.pyplot as plt"
   ]
  },
  {
   "cell_type": "code",
   "execution_count": 20,
   "metadata": {
    "tags": []
   },
   "outputs": [
    {
     "data": {
      "image/png": "[encoded data removed]",
      "text/plain": [
       "<Figure size 640x480 with 1 Axes>"
      ]
     },
     "metadata": {},
     "output_type": "display_data"
    },
    {
     "data": {
      "text/plain": [
       "'\\nSweet. As you can see, the data does not fit a linear form, therefore we cannot use a linear regresssion model to accurately analyze the relationship between these two survey variables.\\n'"
      ]
     },
     "execution_count": 20,
     "metadata": {},
     "output_type": "execute_result"
    }
   ],
   "source": [
    "# exercise 05\n",
    "\n",
    "\"\"\"\n",
    "Scatter plot inspection\n",
    "\n",
    "To get vital health data for tracking youth body mass index, health officials sent out a youth survey to a nationally representative sample of youths who were 14 to 20 years of age as of December 31, 1999. Dataset, youth_survey, tracks the age Age, height in inchesHeight_in, weight in pounds Weight_lbs, gender Gender, and the self reported multiple choice answer to the question, 'How would you describe your weight?' describe_weight, of a surveyed, nationally representative sample of youths.\n",
    "\n",
    "In this exercise, you will visualize the data.\n",
    "\n",
    "pandas has been loaded for you as pd, as well as matplotlib.pyplot as plt.\n",
    "\"\"\"\n",
    "\n",
    "# Instructions\n",
    "\n",
    "\"\"\"\n",
    "\n",
    "    Create a scatter plot to determine if a linear regression model accurately relates Age and Height_in.\n",
    "\n",
    "\"\"\"\n",
    "\n",
    "# solution\n",
    "\n",
    "# Create a scatter plot between `Age` and `Height_in`\n",
    "youth_survey_clean[['Age','Height_in']].plot.scatter( x='Age', y='Height_in')\n",
    "plt.show()\n",
    "\n",
    "#----------------------------------#\n",
    "\n",
    "# Conclusion\n",
    "\n",
    "\"\"\"\n",
    "Sweet. As you can see, the data does not fit a linear form, therefore we cannot use a linear regresssion model to accurately analyze the relationship between these two survey variables.\n",
    "\"\"\""
   ]
  },
  {
   "cell_type": "code",
   "execution_count": 21,
   "metadata": {
    "tags": []
   },
   "outputs": [
    {
     "data": {
      "text/plain": [
       "'\\nPerfect! Since both variables are categorical, a chi-square test can be used to analyze the statistically significant association between a student’s favorite sport and where they grew up.\\n'"
      ]
     },
     "execution_count": 21,
     "metadata": {},
     "output_type": "execute_result"
    }
   ],
   "source": [
    "# exercise 06\n",
    "\n",
    "\"\"\"\n",
    "Choose a statistical method\n",
    "\n",
    "We want to know if there is a statistically significant association between a student's favorite sport (basketball, baseball, football) and where they grew up (urban, rural). To test this, we might survey 100 random students and ask them what type of place they grew up in and what their favorite sport is.\n",
    "\n",
    "What test do you use to best determine if there is a statistically significant association between a student's favorite sport and where they grew up?\n",
    "\"\"\"\n",
    "\n",
    "# Instructions\n",
    "\n",
    "\"\"\"\n",
    "Possible Answers\n",
    "Select one answer\n",
    "\n",
    "    Two sample t-test\n",
    "    \n",
    "    \n",
    "    Linear regression\n",
    "    \n",
    "    \n",
    "    Chi-square test (Answer)\n",
    "\"\"\"\n",
    "\n",
    "# solution\n",
    "\n",
    "\n",
    "\n",
    "#----------------------------------#\n",
    "\n",
    "# Conclusion\n",
    "\n",
    "\"\"\"\n",
    "Perfect! Since both variables are categorical, a chi-square test can be used to analyze the statistically significant association between a student’s favorite sport and where they grew up.\n",
    "\"\"\""
   ]
  }
 ],
 "metadata": {
  "kernelspec": {
   "display_name": "Python 3 (ipykernel)",
   "language": "python",
   "name": "python3"
  },
  "language_info": {
   "codemirror_mode": {
    "name": "ipython",
    "version": 3
   },
   "file_extension": ".py",
   "mimetype": "text/x-python",
   "name": "python",
   "nbconvert_exporter": "python",
   "pygments_lexer": "ipython3",
   "version": "3.11.5"
  }
 },
 "nbformat": 4,
 "nbformat_minor": 4
}
