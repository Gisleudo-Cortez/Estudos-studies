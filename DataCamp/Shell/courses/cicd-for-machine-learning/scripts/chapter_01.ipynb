{
 "cells": [
  {
   "cell_type": "markdown",
   "metadata": {},
   "source": [
    "# Continuous deployment and delivery\n",
    "\n",
    "Which of the following best describes the difference between continuous deployment and continuous delivery?\n",
    "\n",
    "### Possible Answers\n",
    "\n",
    "\n",
    "    Continuous deployment and continuous delivery are two terms used interchangeably to refer to the same practice of automatically releasing every code change to production.\n",
    "    \n",
    "    \n",
    "    Continuous deployment is a manual process of preparing code changes for release, while continuous delivery is an automated process that automatically deploys code changes to production.\n",
    "    \n",
    "    \n",
    "    Continuous deployment is the practice of automatically releasing every code change to production, while continuous delivery is the practice of preparing code changes for release but allowing for manual approval before deployment.{Answer}\n",
    "    \n",
    "    \n",
    "    Continuous deployment and continuous delivery both refer to the practice of manually releasing code changes to production after thorough testing and approval.\n",
    "\n",
    "**Continuous deployment is actually the automated process of deploying code changes to production, while continuous delivery is the practice of preparing code changes for release.**"
   ]
  },
  {
   "cell_type": "markdown",
   "metadata": {},
   "source": [
    "# Machine learning workflow\n",
    "\n",
    "In the realm of machine learning, a well-structured workflow is paramount to achieving desirable outcomes. A crucial element of this workflow is the order in which the steps are executed. By rearranging the order of the following steps, you will gain a deeper understanding of their significance and their role in a typical machine learning project.\n",
    "\n",
    "![Answer](images/ch01-01.png)"
   ]
  },
  {
   "cell_type": "markdown",
   "metadata": {},
   "source": [
    "# YAML syntax\n",
    "\n",
    "In this exercise, you will learn how the YAML syntax employs indentation to represent a clear hierarchical structure for an array of prerequisites within a course context. Indentation visually communicates the relationship between the course and its prerequisites, making the code easier to understand and maintain.\n",
    "\n",
    "By using block style for the array, you will also learn how each prerequisite is clearly separated. The block style allows for a clean representation of complex arrays, making it ideal for long or multiline content. Employing indentation and block style enhances code legibility and fosters better comprehension and management of structured data in YAML.\n",
    "\n",
    "![Answer](images/ch01-02.png)"
   ]
  },
  {
   "cell_type": "code",
   "execution_count": null,
   "metadata": {},
   "outputs": [
    {
     "data": {
      "text/plain": [
       "'/home/nero/Documents/Estudos/DataCamp'"
      ]
     },
     "execution_count": 15,
     "metadata": {},
     "output_type": "execute_result"
    }
   ],
   "source": [
    "# exercise 01\n",
    "\n",
    "\"\"\"\n",
    "YAML mappings and sequences\n",
    "\n",
    "The given YAML represents information about a course called \"Machine Learning 101\" and the students enrolled in that course.\n",
    "\n",
    "    The courses key indicates course-related data, with a sequence representing multiple courses.\n",
    "    name specifies the course name.\n",
    "    prerequisites lists course requirements.\n",
    "    students key pertains to enrolled students, with a sequence representing multiple students.\n",
    "    Each student has a name key and midterm_scores array for midterms, and a final_score key for the final exam.\n",
    "\n",
    "\"\"\"\n",
    "\n",
    "# Instructions\n",
    "\n",
    "\"\"\"\n",
    "\n",
    "\n",
    "    Add the missing prerequisite \"Statistics\" under the prerequisites key.\n",
    "\n",
    "    Write the key for students, using the keyword students as the key.\n",
    "\n",
    "    Write midterms scores of 85, 92, and 78 for Jon Doe in flow format.\n",
    "\n",
    "    For Jane Smith's midterm scores, add the missing values 90 under the midterm_scores key in block format.\n",
    "\n",
    "\"\"\"\n",
    "\n",
    "# solution\n",
    "\n",
    "courses:\n",
    "  - name: Machine Learning 101\n",
    "    # Complete prerequisites in block format\n",
    "    prerequisites:\n",
    "      - Linear Algebra\n",
    "      - Python Programming\n",
    "      - Statistics\n",
    "    # Write key for students\n",
    "    students:\n",
    "      - name: John Doe\n",
    "        # Write midterm scores in flow format\n",
    "        midterm_scores: [85,92,78]\n",
    "        final_score: 88\n",
    "      - name: Jane Smith\n",
    "        # Complete midterm scores in block format\n",
    "        midterm_scores:\n",
    "          - 78\n",
    "          - 84\n",
    "          - 90\n",
    "        final_score: 92\n",
    "\n",
    "\n",
    "#----------------------------------#\n",
    "\n",
    "# Conclusion\n",
    "\n",
    "\"\"\"\n",
    "Well done! In practice, prefer flow style for simple and homogeneous data, and block style for complex data structures.\n",
    "\"\"\""
   ]
  },
  {
   "cell_type": "markdown",
   "metadata": {},
   "source": [
    "# Utility of GitHub Actions\n",
    "\n",
    "Why is GitHub Actions (GHA) a valuable tool for software development?\n",
    "\n",
    "![Answer](images/ch01-03.png)"
   ]
  },
  {
   "cell_type": "markdown",
   "metadata": {},
   "source": [
    "# Anatomy of GitHub Actions\n",
    "\n",
    "In the following classification exercise, you will solidify your understanding of GitHub Actions components.\n",
    "\n",
    "GitHub Actions automates software workflows. Gaining insight into its core elements aids in designing efficient CI/CD processes.\n",
    "\n",
    "Upon completing this exercise, you'll will be able to distinguish between events, workflows, jobs, and steps in GitHub Actions. This knowledge would empower you to orchestrate automation, streamline software development, and efficiently manage tasks. Understanding these components lays a strong foundation for building robust CI/CD pipelines using GitHub Actions.\n",
    "\n",
    "![Answer](images/ch01-04.png)"
   ]
  }
 ],
 "metadata": {
  "kernelspec": {
   "display_name": "Python 3 (ipykernel)",
   "language": "python",
   "name": "python3"
  },
  "language_info": {
   "codemirror_mode": {
    "name": "ipython",
    "version": 3
   },
   "file_extension": ".py",
   "mimetype": "text/x-python",
   "name": "python",
   "nbconvert_exporter": "python",
   "pygments_lexer": "ipython3",
   "version": "3.11.6"
  }
 },
 "nbformat": 4,
 "nbformat_minor": 4
}
