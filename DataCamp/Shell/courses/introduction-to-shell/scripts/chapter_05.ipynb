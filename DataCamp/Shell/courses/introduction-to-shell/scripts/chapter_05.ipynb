{
 "cells": [
  {
   "cell_type": "markdown",
   "metadata": {},
   "source": [
    "# exercise 01\n",
    "\n",
    "How can I edit a file?\n",
    "\n",
    "Unix has a bewildering variety of text editors. For this course, we will use a simple one called Nano. If you type nano filename, it will open filename for editing (or create it if it doesn't already exist). You can move around with the arrow keys, delete characters using backspace, and do other operations with control-key combinations:\n",
    "\n",
    "    Ctrl + K: delete a line.\n",
    "    Ctrl + U: un-delete a line.\n",
    "    Ctrl + O: save the file ('O' stands for 'output'). You will also need to press Enter to confirm the filename!\n",
    "    Ctrl + X: exit the editor.\n",
    "\n",
    "### Instructions\n",
    "\n",
    "Run nano names.txt to edit a new file in your home directory and enter the following four lines:\n",
    "\n",
    "Lovelace\n",
    "Hopper\n",
    "Johnson\n",
    "Wilson\n",
    "\n",
    "To save what you have written, type Ctrl + O to write the file out, then Enter to confirm the filename, then Ctrl + X to exit the editor.\n"
   ]
  },
  {
   "cell_type": "code",
   "execution_count": 1,
   "metadata": {
    "vscode": {
     "languageId": "shellscript"
    }
   },
   "outputs": [
    {
     "name": "stdout",
     "output_type": "stream",
     "text": [
      "nano names.txt\n"
     ]
    }
   ],
   "source": [
    "print('nano names.txt')"
   ]
  },
  {
   "cell_type": "markdown",
   "metadata": {},
   "source": [
    "# Exercise 02\n",
    "\n",
    "How can I record what I just did?\n",
    "\n",
    "When you are doing a complex analysis, you will often want to keep a record of the commands you used. You can do this with the tools you have already seen:\n",
    "\n",
    "    Run history.\n",
    "    Pipe its output to tail -n 10 (or however many recent steps you want to save).\n",
    "    Redirect that to a file called something like figure-5.history.\n",
    "\n",
    "This is better than writing things down in a lab notebook because it is guaranteed not to miss any steps. It also illustrates the central idea of the shell: simple tools that produce and consume lines of text can be combined in a wide variety of ways to solve a broad range of problems.\n",
    "\n",
    "### Instructions\n",
    "\n",
    "Copy the files seasonal/spring.csv and seasonal/summer.csv to your home directory.\n",
    "\n",
    "Use grep with the -h flag (to stop it from printing filenames) and -v Tooth (to select lines that don't match the header line) to select the data records from spring.csv and summer.csv in that order and redirect the output to temp.csv.\n",
    "\n",
    "Pipe history into tail -n 3 and redirect the output to steps.txt to save the last three commands in a file. (You need to save three instead of just two because the history command itself will be in the list.)"
   ]
  },
  {
   "cell_type": "code",
   "execution_count": 2,
   "metadata": {
    "vscode": {
     "languageId": "shellscript"
    }
   },
   "outputs": [
    {
     "name": "stdout",
     "output_type": "stream",
     "text": [
      "cp seasonal/spring.csv seasonam/summer.csv .\n",
      "grep -h -v Tooth spring.csv summer.csv > temp.csv\n",
      "history tail -n 3 > steps.csv\n"
     ]
    }
   ],
   "source": [
    "print(\"cp seasonal/spring.csv seasonam/summer.csv .\\ngrep -h -v Tooth spring.csv summer.csv > temp.csv\\nhistory tail -n 3 > steps.csv\")"
   ]
  },
  {
   "cell_type": "markdown",
   "metadata": {},
   "source": [
    "# Exercise 03\n",
    "\n",
    "How can I save commands to re-run later?\n",
    "\n",
    "You have been using the shell interactively so far. But since the commands you type in are just text, you can store them in files for the shell to run over and over again. To start exploring this powerful capability, put the following command in a file called headers.sh:\n",
    "\n",
    "head -n 1 seasonal/*.csv\n",
    "\n",
    "This command selects the first row from each of the CSV files in the seasonal directory. Once you have created this file, you can run it by typing:\n",
    "\n",
    "bash headers.sh\n",
    "\n",
    "This tells the shell (which is just a program called bash) to run the commands contained in the file headers.sh, which produces the same output as running the commands directly.\n",
    "\n",
    "### Instructions\n",
    "\n",
    "Use nano dates.sh to create a file called dates.sh that contains this command:\n",
    "\n",
    "cut -d , -f 1 seasonal/*.csv\n",
    "\n",
    "to extract the first column from all of the CSV files in seasonal.\n",
    "\n",
    "Use bash to run the file dates.sh."
   ]
  },
  {
   "cell_type": "code",
   "execution_count": 4,
   "metadata": {
    "vscode": {
     "languageId": "shellscript"
    }
   },
   "outputs": [
    {
     "name": "stdout",
     "output_type": "stream",
     "text": [
      "nano dates.sh\n",
      "cut -d , -f 1 seasonal/*.csv\n",
      "bash dates.csv\n"
     ]
    }
   ],
   "source": [
    "print(\"nano dates.sh\\ncut -d , -f 1 seasonal/*.csv\\nbash dates.csv\")"
   ]
  },
  {
   "cell_type": "markdown",
   "metadata": {},
   "source": [
    "# Exercise 04\n",
    "\n",
    "How can I re-use pipes?\n",
    "\n",
    "A file full of shell commands is called a *shell script, or sometimes just a \"script\" for short. Scripts don't have to have names ending in .sh, but this lesson will use that convention to help you keep track of which files are scripts.\n",
    "\n",
    "Scripts can also contain pipes. For example, if all-dates.sh contains this line:\n",
    "\n",
    "cut -d , -f 1 seasonal/*.csv | grep -v Date | sort | uniq\n",
    "\n",
    "then:\n",
    "\n",
    "bash all-dates.sh > dates.out\n",
    "\n",
    "will extract the unique dates from the seasonal data files and save them in dates.out.\n",
    "\n",
    "### Instructions\n",
    "\n",
    "A file teeth.sh in your home directory has been prepared for you, but contains some blanks. Use Nano to edit the file and replace the two ____ placeholders with seasonal/*.csv and -c so that this script prints a count of the number of times each tooth name appears in the CSV files in the seasonal directory.\n",
    "\n",
    "Use bash to run teeth.sh and > to redirect its output to teeth.out.\n",
    "\n",
    "Run cat teeth.out to inspect your results."
   ]
  },
  {
   "cell_type": "code",
   "execution_count": 5,
   "metadata": {
    "vscode": {
     "languageId": "shellscript"
    }
   },
   "outputs": [
    {
     "name": "stdout",
     "output_type": "stream",
     "text": [
      "nano teeth.sh\n",
      "bash teeth.sh > teeth.out\n",
      "cat teeth.out\n"
     ]
    }
   ],
   "source": [
    "print(\"nano teeth.sh\\nbash teeth.sh > teeth.out\\ncat teeth.out\")"
   ]
  },
  {
   "cell_type": "markdown",
   "metadata": {},
   "source": [
    "# Exercise 05\n",
    "\n",
    "How can I pass filenames to scripts?\n",
    "\n",
    "A script that processes specific files is useful as a record of what you did, but one that allows you to process any files you want is more useful. To support this, you can use the special expression $@ (dollar sign immediately followed by at-sign) to mean \"all of the command-line parameters given to the script\".\n",
    "\n",
    "For example, if unique-lines.sh contains sort $@ | uniq, when you run:\n",
    "\n",
    "bash unique-lines.sh seasonal/summer.csv\n",
    "\n",
    "the shell replaces $@ with seasonal/summer.csv and processes one file. If you run this:\n",
    "\n",
    "bash unique-lines.sh seasonal/summer.csv seasonal/autumn.csv\n",
    "\n",
    "it processes two data files, and so on.\n",
    "\n",
    "As a reminder, to save what you have written in Nano, type Ctrl + O to write the file out, then Enter to confirm the filename, then Ctrl + X to exit the editor.\n",
    "\n",
    "### Instructions\n",
    "\n",
    "Edit the script count-records.sh with Nano and fill in the two ____ placeholders with $@ and -l (the letter) respectively so that it counts the number of lines in one or more files, excluding the first line of each.\n",
    "\n",
    "Run count-records.sh on seasonal/*.csv and redirect the output to num-records.out using >."
   ]
  },
  {
   "cell_type": "code",
   "execution_count": 6,
   "metadata": {
    "vscode": {
     "languageId": "shellscript"
    }
   },
   "outputs": [
    {
     "name": "stdout",
     "output_type": "stream",
     "text": [
      "nano count-records.sh\n",
      "bash count-records.sh seasonal/*.csv > num-records.out\n"
     ]
    }
   ],
   "source": [
    "print(\"nano count-records.sh\\nbash count-records.sh seasonal/*.csv > num-records.out\")"
   ]
  },
  {
   "cell_type": "markdown",
   "metadata": {},
   "source": [
    "# How can I process a single argument?\n",
    "\n",
    "As well as $@, the shell lets you use $1, $2, and so on to refer to specific command-line parameters. You can use this to write commands that feel simpler or more natural than the shell's. For example, you can create a script called column.sh that selects a single column from a CSV file when the user provides the filename as the first parameter and the column as the second:\n",
    "\n",
    "cut -d , -f $2 $1\n",
    "\n",
    "and then run it using:\n",
    "\n",
    "bash column.sh seasonal/autumn.csv 1\n",
    "\n",
    "Notice how the script uses the two parameters in reverse order.\n",
    "\n",
    "The script get-field.sh is supposed to take a filename, the number of the row to select, the number of the column to select, and print just that field from a CSV file. For example:\n",
    "\n",
    "bash get-field.sh seasonal/summer.csv 4 2\n",
    "\n",
    "should select the second field from line 4 of seasonal/summer.csv. Which of the following commands should be put in get-field.sh to do that?\n",
    "\n",
    "### Possible Answers\n",
    "\n",
    "\n",
    "    head -n $1 $2 | tail -n 1 | cut -d , -f $3\n",
    "    \n",
    "    \n",
    "    head -n $2 $1 | tail -n 1 | cut -d , -f $3 {Answer}\n",
    "    \n",
    "    \n",
    "    head -n $3 $1 | tail -n 1 | cut -d , -f $2\n",
    "    \n",
    "    \n",
    "    head -n $2 $3 | tail -n 1 | cut -d , -f $1"
   ]
  },
  {
   "cell_type": "markdown",
   "metadata": {},
   "source": [
    "# Exercise 06\n",
    "\n",
    "How can one shell script do many things?\n",
    "\n",
    "Our shells scripts so far have had a single command or pipe, but a script can contain many lines of commands. For example, you can create one that tells you how many records are in the shortest and longest of your data files, i.e., the range of your datasets' lengths.\n",
    "\n",
    "Note that in Nano, \"copy and paste\" is achieved by navigating to the line you want to copy, pressing CTRL + K to cut the line, then CTRL + U twice to paste two copies of it.\n",
    "\n",
    "As a reminder, to save what you have written in Nano, type Ctrl + O to write the file out, then Enter to confirm the filename, then Ctrl + X to exit the editor.\n",
    "\n",
    "### Instructions\n",
    "\n",
    "Use Nano to edit the script range.sh and replace the two ____ placeholders with $@ and -v so that it lists the names and number of lines in all of the files given on the command line without showing the total number of lines in all files. (Do not try to subtract the column header lines from the files.)\n",
    "\n",
    "Use Nano again to add sort -n and head -n 1 in that order to the pipeline in range.sh to display the name and line count of the shortest file given to it.\n",
    "\n",
    "Again using Nano, add a second line to range.sh to print the name and record count of the longest file in the directory as well as the shortest. This line should be a duplicate of the one you have already written, but with sort -n -r rather than sort -n.\n",
    "\n",
    "Run the script on the files in the seasonal directory using seasonal/*.csv to match all of the files and redirect the output using > to a file called range.out in your home directory.\n",
    "\n"
   ]
  },
  {
   "cell_type": "code",
   "execution_count": 7,
   "metadata": {
    "vscode": {
     "languageId": "shellscript"
    }
   },
   "outputs": [
    {
     "name": "stdout",
     "output_type": "stream",
     "text": [
      "nano range.sh\n",
      "bash range.sh seasonal/*.csv > range.out\n"
     ]
    }
   ],
   "source": [
    "print(\"nano range.sh\\nbash range.sh seasonal/*.csv > range.out\")"
   ]
  },
  {
   "cell_type": "markdown",
   "metadata": {},
   "source": [
    "# Exercise 07\n",
    "\n",
    "How can I write loops in a shell script?\n",
    "\n",
    "Shell scripts can also contain loops. You can write them using semi-colons, or split them across lines without semi-colons to make them more readable:\n",
    "\n",
    "// Print the first and last data records of each file.\n",
    "for filename in $@\n",
    "do\n",
    "    head -n 2 $filename | tail -n 1\n",
    "    tail -n 1 $filename\n",
    "done\n",
    "\n",
    "(You don't have to indent the commands inside the loop, but doing so makes things clearer.)\n",
    "\n",
    "The first line of this script is a comment to tell readers what the script does. Comments start with the # character and run to the end of the line. Your future self will thank you for adding brief explanations like the one shown here to every script you write.\n",
    "\n",
    "As a reminder, to save what you have written in Nano, type Ctrl + O to write the file out, then Enter to confirm the filename, then Ctrl + X to exit the editor.\n",
    "\n",
    "### Instructions\n",
    "\n",
    "Fill in the placeholders in the script date-range.sh with $filename (twice), head, and tail so that it prints the first and last date from one or more files.\n",
    "\n",
    "Run date-range.sh on all four of the seasonal data files using seasonal/*.csv to match their names.\n",
    "\n",
    "Run date-range.sh on all four of the seasonal data files using seasonal/*.csv to match their names, and pipe its output to sort to see that your scripts can be used just like Unix's built-in commands."
   ]
  },
  {
   "cell_type": "markdown",
   "metadata": {},
   "source": [
    "```bash\n",
    "# date-range.sh\n",
    "for filename in $@\n",
    "do\n",
    "    cut -d , -f 1 $filename | grep -v Date | sort | head -n 1\n",
    "    cut -d , -f 1 $filename | grep -v Date | sort | tail -n 1\n",
    "done\n",
    "```"
   ]
  },
  {
   "cell_type": "code",
   "execution_count": 8,
   "metadata": {
    "vscode": {
     "languageId": "shellscript"
    }
   },
   "outputs": [
    {
     "name": "stdout",
     "output_type": "stream",
     "text": [
      "nano date-range.sh\n",
      "bash date-range.sh seasonal/*.csv\n",
      "bash date-range.sh seasonal/*.csv | sort\n"
     ]
    }
   ],
   "source": [
    "print(\"nano date-range.sh\\nbash date-range.sh seasonal/*.csv\\nbash date-range.sh seasonal/*.csv | sort\")"
   ]
  },
  {
   "cell_type": "markdown",
   "metadata": {},
   "source": [
    "# Exercise 08\n",
    "\n",
    "What happens when I don't provide filenames?\n",
    "\n",
    "A common mistake in shell scripts (and interactive commands) is to put filenames in the wrong place. If you type:\n",
    "\n",
    "tail -n 3\n",
    "\n",
    "then since tail hasn't been given any filenames, it waits to read input from your keyboard. This means that if you type:\n",
    "\n",
    "head -n 5 | tail -n 3 somefile.txt\n",
    "\n",
    "then tail goes ahead and prints the last three lines of somefile.txt, but head waits forever for keyboard input, since it wasn't given a filename and there isn't anything ahead of it in the pipeline.\n",
    "\n",
    "Suppose you do accidentally type:\n",
    "\n",
    "head -n 5 | tail -n 3 somefile.txt\n",
    "\n",
    "What should you do next?\n",
    "\n",
    "### Answer\n",
    "\n",
    "Use Ctrl + C to stop running the head program"
   ]
  }
 ],
 "metadata": {
  "kernelspec": {
   "display_name": "Python 3 (ipykernel)",
   "language": "python",
   "name": "python3"
  },
  "language_info": {
   "codemirror_mode": {
    "name": "ipython",
    "version": 3
   },
   "file_extension": ".py",
   "mimetype": "text/x-python",
   "name": "python",
   "nbconvert_exporter": "python",
   "pygments_lexer": "ipython3",
   "version": "3.11.6"
  }
 },
 "nbformat": 4,
 "nbformat_minor": 4
}
