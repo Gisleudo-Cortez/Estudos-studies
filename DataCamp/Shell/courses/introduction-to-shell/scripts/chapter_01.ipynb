{
 "cells": [
  {
   "cell_type": "markdown",
   "metadata": {},
   "source": [
    "# How does the shell compare to a desktop interface?\n",
    "\n",
    "An operating system like Windows, Linux, or Mac OS is a special kind of program. It controls the computer's processor, hard drive, and network connection, but its most important job is to run other programs.\n",
    "\n",
    "Since human beings aren't digital, they need an interface to interact with the operating system. The most common one these days is a graphical file explorer, which translates clicks and double-clicks into commands to open files and run programs. Before computers had graphical displays, though, people typed instructions into a program called a command-line shell. Each time a command is entered, the shell runs some other programs, prints their output in human-readable form, and then displays a prompt to signal that it's ready to accept the next command. (Its name comes from the notion that it's the \"outer shell\" of the computer.)\n",
    "\n",
    "Typing commands instead of clicking and dragging may seem clumsy at first, but as you will see, once you start spelling out what you want the computer to do, you can combine old commands to create new ones and automate repetitive operations with just a few keystrokes.\n",
    "\n",
    "What is the relationship between the graphical file explorer that most people use and the command-line shell?\n",
    "\n",
    "*   **Possible Answers**\n",
    "\n",
    "\n",
    "    The file explorer lets you view and edit files, while the shell lets you run programs.\n",
    "    \n",
    "    \n",
    "    The file explorer is built on top of the shell.\n",
    "    \n",
    "    \n",
    "    The shell is part of the operating system, while the file explorer is separate.\n",
    "    \n",
    "    \n",
    "    **They are both interfaces for issuing commands to the operating system. {Answer}**\n",
    "    \n",
    "**Correct! Both take the user's commands (whether typed or clicked) and send them to the operating system.**"
   ]
  },
  {
   "cell_type": "markdown",
   "metadata": {},
   "source": [
    "# exercise 01\n",
    "\n",
    "\n",
    "Where am I?\n",
    "\n",
    "The filesystem manages files and directories (or folders). Each is identified by an absolute path that shows how to reach it from the filesystem's root directory: /home/repl is the directory repl in the directory home, while /home/repl/course.txt is a file course.txt in that directory, and / on its own is the root directory.\n",
    "\n",
    "To find out where you are in the filesystem, run the command pwd (short for \"print working directory\"). This prints the absolute path of your current working directory, which is where the shell runs commands and looks for files by default.\n",
    "\n",
    "Run pwd. Where are you right now?\n",
    "\n"
   ]
  },
  {
   "cell_type": "code",
   "execution_count": 7,
   "metadata": {
    "vscode": {
     "languageId": "shellscript"
    }
   },
   "outputs": [
    {
     "name": "stdout",
     "output_type": "stream",
     "text": [
      "pwd\n"
     ]
    }
   ],
   "source": [
    "print('pwd')"
   ]
  },
  {
   "cell_type": "markdown",
   "metadata": {},
   "source": [
    "# Conclusion\n",
    "\n",
    "\n",
    "Correct - you are in /home/repl.\n"
   ]
  },
  {
   "cell_type": "markdown",
   "metadata": {},
   "source": [
    "# exercise 02\n",
    "\n",
    "How can I identify files and directories?\n",
    "\n",
    "pwd tells you where you are. To find out what's there, type ls (which is short for \"listing\") and press the enter key. On its own, ls lists the contents of your current directory (the one displayed by pwd). If you add the names of some files, ls will list them, and if you add the names of directories, it will list their contents. For example, ls /home/repl shows you what's in your starting directory (usually called your home directory).\n",
    "\n",
    "Use ls with an appropriate argument to list the files in the directory /home/repl/seasonal (which holds information on dental surgeries by date, broken down by season). Which of these files is not in that directory?\n"
   ]
  },
  {
   "cell_type": "code",
   "execution_count": 8,
   "metadata": {
    "vscode": {
     "languageId": "shellscript"
    }
   },
   "outputs": [
    {
     "name": "stdout",
     "output_type": "stream",
     "text": [
      "ls /home/repl/seasonal\n"
     ]
    }
   ],
   "source": [
    "print('ls /home/repl/seasonal')"
   ]
  },
  {
   "cell_type": "markdown",
   "metadata": {},
   "source": [
    "**Answer**\n",
    "\n",
    "    fall.csv"
   ]
  },
  {
   "cell_type": "markdown",
   "metadata": {},
   "source": [
    "# Conclusion\n",
    "**Correct - that file is not in the seasonal directory.**"
   ]
  },
  {
   "cell_type": "markdown",
   "metadata": {},
   "source": [
    "# Exercise 03\n",
    "\n",
    "How else can I identify files and directories?\n",
    "\n",
    "An absolute path is like a latitude and longitude: it has the same value no matter where you are. A relative path, on the other hand, specifies a location starting from where you are: it's like saying \"20 kilometers north\".\n",
    "\n",
    "As examples:\n",
    "\n",
    "    If you are in the directory /home/repl, the relative path seasonal specifies the same directory as the absolute path /home/repl/seasonal.\n",
    "    If you are in the directory /home/repl/seasonal, the relative path winter.csv specifies the same file as the absolute path /home/repl/seasonal/winter.csv.\n",
    "\n",
    "The shell decides if a path is absolute or relative by looking at its first character: If it begins with /, it is absolute. If it does not begin with /, it is relative.\n",
    "\n",
    "### Instructions\n",
    "\n",
    "You are in /home/repl. Use ls with a relative path to list the file that has an absolute path of /home/repl/course.txt (and only that file).\n",
    "\n",
    "You are in /home/repl. Use ls with a relative path to list the file /home/repl/seasonal/summer.csv (and only that file).\n",
    "\n",
    "You are in /home/repl. Use ls with a relative path to list the contents of the directory /home/repl/people."
   ]
  },
  {
   "cell_type": "code",
   "execution_count": 9,
   "metadata": {
    "vscode": {
     "languageId": "shellscript"
    }
   },
   "outputs": [
    {
     "name": "stdout",
     "output_type": "stream",
     "text": [
      "ls ~/home/repl/course.txt\n"
     ]
    }
   ],
   "source": [
    "print('ls ~/home/repl/course.txt')"
   ]
  },
  {
   "cell_type": "code",
   "execution_count": 10,
   "metadata": {
    "vscode": {
     "languageId": "shellscript"
    }
   },
   "outputs": [
    {
     "name": "stdout",
     "output_type": "stream",
     "text": [
      "ls ~/home/repl/seasonal/summer.csv\n"
     ]
    }
   ],
   "source": [
    "print('ls ~/home/repl/seasonal/summer.csv')"
   ]
  },
  {
   "cell_type": "code",
   "execution_count": 11,
   "metadata": {
    "vscode": {
     "languageId": "shellscript"
    }
   },
   "outputs": [
    {
     "name": "stdout",
     "output_type": "stream",
     "text": [
      "ls ~/home/repl/people\n"
     ]
    }
   ],
   "source": [
    "print('ls ~/home/repl/people')"
   ]
  },
  {
   "cell_type": "markdown",
   "metadata": {},
   "source": [
    "### Conclusion\n",
    "\n",
    "**Well done. Now that you know about listing files and directories, let's see how you can move around the filesystem!**"
   ]
  },
  {
   "cell_type": "markdown",
   "metadata": {},
   "source": [
    "# Exercise 04\n",
    "\n",
    "How can I move to another directory?\n",
    "\n",
    "Just as you can move around in a file browser by double-clicking on folders, you can move around in the filesystem using the command cd (which stands for \"change directory\").\n",
    "\n",
    "If you type cd seasonal and then type pwd, the shell will tell you that you are now in /home/repl/seasonal. If you then run ls on its own, it shows you the contents of /home/repl/seasonal, because that's where you are. If you want to get back to your home directory /home/repl, you can use the command cd /home/repl.\n",
    "\n",
    "### Instructions\n",
    "\n",
    "You are in /home/repl/. Change directory to /home/repl/seasonal using a relative path.\n",
    "\n",
    "Use pwd to check that you're there.\n",
    "\n",
    "Use ls without any paths to see what's in that directory."
   ]
  },
  {
   "cell_type": "code",
   "execution_count": 12,
   "metadata": {
    "vscode": {
     "languageId": "shellscript"
    }
   },
   "outputs": [
    {
     "name": "stdout",
     "output_type": "stream",
     "text": [
      "cd /seasonal\n"
     ]
    }
   ],
   "source": [
    "print('cd /seasonal')"
   ]
  },
  {
   "cell_type": "code",
   "execution_count": 13,
   "metadata": {
    "vscode": {
     "languageId": "shellscript"
    }
   },
   "outputs": [
    {
     "name": "stdout",
     "output_type": "stream",
     "text": [
      "pwd\n"
     ]
    }
   ],
   "source": [
    "print('pwd')"
   ]
  },
  {
   "cell_type": "code",
   "execution_count": 14,
   "metadata": {
    "vscode": {
     "languageId": "shellscript"
    }
   },
   "outputs": [
    {
     "name": "stdout",
     "output_type": "stream",
     "text": [
      "ls\n"
     ]
    }
   ],
   "source": [
    "print('ls')"
   ]
  },
  {
   "cell_type": "markdown",
   "metadata": {},
   "source": [
    "### Conclusion\n",
    "\n",
    "**Neat! This was about navigating down to subdirectories. What about moving up? Let's find out!**"
   ]
  },
  {
   "cell_type": "markdown",
   "metadata": {},
   "source": [
    "# How can I move up a directory?\n",
    "\n",
    "The parent of a directory is the directory above it. For example, /home is the parent of /home/repl, and /home/repl is the parent of /home/repl/seasonal. You can always give the absolute path of your parent directory to commands like cd and ls. More often, though, you will take advantage of the fact that the special path .. (two dots with no spaces) means \"the directory above the one I'm currently in\". If you are in /home/repl/seasonal, then cd .. moves you up to /home/repl. If you use cd .. once again, it puts you in /home. One more cd .. puts you in the root directory /, which is the very top of the filesystem. (Remember to put a space between cd and .. - it is a command and a path, not a single four-letter command.)\n",
    "\n",
    "A single dot on its own, ., always means \"the current directory\", so ls on its own and ls . do the same thing, while cd . has no effect (because it moves you into the directory you're currently in).\n",
    "\n",
    "One final special path is ~ (the tilde character), which means \"your home directory\", such as /home/repl. No matter where you are, ls ~ will always list the contents of your home directory, and cd ~ will always take you home.\n",
    "\n",
    "If you are in /home/repl/seasonal, where does cd ~/../. take you?\n",
    "**Possible Answers**\n",
    "Select one answer\n",
    "\n",
    "    /home/repl\n",
    "    \n",
    "    \n",
    "    /home {Answer}\n",
    "    \n",
    "    \n",
    "    /home/repl/seasonal\n",
    "    \n",
    "    \n",
    "    / (the root directory)\n",
    "**Correct! The path means 'home directory', 'up a level', 'here'.**"
   ]
  },
  {
   "cell_type": "markdown",
   "metadata": {},
   "source": [
    "# Exercise 05\n",
    "\n",
    "How can I copy files?\n",
    "\n",
    "You will often want to copy files, move them into other directories to organize them, or rename them. One command to do this is cp, which is short for \"copy\". If original.txt is an existing file, then:\n",
    "\n",
    "cp original.txt duplicate.txt\n",
    "\n",
    "creates a copy of original.txt called duplicate.txt. If there already was a file called duplicate.txt, it is overwritten. If the last parameter to cp is an existing directory, then a command like:\n",
    "\n",
    "cp seasonal/autumn.csv seasonal/winter.csv backup\n",
    "\n",
    "copies all of the files into that directory.\n",
    "\n",
    "### Instructions\n",
    "\n",
    "Make a copy of seasonal/summer.csv in the backup directory (which is also in /home/repl), calling the new file summer.bck.\n",
    "\n",
    "\n",
    "Copy spring.csv and summer.csv from the seasonal directory into the backup directory without changing your current working directory (/home/repl).\n"
   ]
  },
  {
   "cell_type": "code",
   "execution_count": 15,
   "metadata": {
    "vscode": {
     "languageId": "shellscript"
    }
   },
   "outputs": [
    {
     "name": "stdout",
     "output_type": "stream",
     "text": [
      "cp seasonal/summer backup/summer.bck\n"
     ]
    }
   ],
   "source": [
    "print('cp seasonal/summer backup/summer.bck')"
   ]
  },
  {
   "cell_type": "code",
   "execution_count": 16,
   "metadata": {
    "vscode": {
     "languageId": "shellscript"
    }
   },
   "outputs": [
    {
     "name": "stdout",
     "output_type": "stream",
     "text": [
      "cp seasonal/summer.csv seasonal/spring.csv backup/\n"
     ]
    }
   ],
   "source": [
    "print('cp seasonal/summer.csv seasonal/spring.csv backup/')"
   ]
  },
  {
   "cell_type": "markdown",
   "metadata": {},
   "source": [
    "### Conclusion\n",
    "\n",
    "**Good job. Other than copying, we should also be able to move files from one directory to another. Learn about it in the next exercise!**"
   ]
  },
  {
   "cell_type": "markdown",
   "metadata": {},
   "source": [
    "# Exercise 06\n",
    "\n",
    "How can I move a file?\n",
    "\n",
    "While cp copies a file, mv moves it from one directory to another, just as if you had dragged it in a graphical file browser. It handles its parameters the same way as cp, so the command:\n",
    "\n",
    "mv autumn.csv winter.csv ..\n",
    "\n",
    "moves the files autumn.csv and winter.csv from the current working directory up one level to its parent directory (because .. always refers to the directory above your current location).\n",
    "\n",
    "### Instructions\n",
    "\n",
    "You are in /home/repl, which has sub-directories seasonal and backup. Using a single command, move spring.csv and summer.csv from seasonal to backup."
   ]
  },
  {
   "cell_type": "code",
   "execution_count": 17,
   "metadata": {
    "vscode": {
     "languageId": "shellscript"
    }
   },
   "outputs": [
    {
     "name": "stdout",
     "output_type": "stream",
     "text": [
      "mv seasonal/spring.csv seasonal/summer.csv backup/\n"
     ]
    }
   ],
   "source": [
    "print('mv seasonal/spring.csv seasonal/summer.csv backup/')"
   ]
  },
  {
   "cell_type": "markdown",
   "metadata": {},
   "source": [
    "# Exercise 07\n",
    "\n",
    "How can I rename files?\n",
    "\n",
    "mv can also be used to rename files. If you run:\n",
    "\n",
    "mv course.txt old-course.txt\n",
    "\n",
    "then the file course.txt in the current working directory is \"moved\" to the file old-course.txt. This is different from the way file browsers work, but is often handy.\n",
    "\n",
    "One warning: just like cp, mv will overwrite existing files. If, for example, you already have a file called old-course.txt, then the command shown above will replace it with whatever is in course.txt.\n",
    "\n",
    "### Instructions\n",
    "\n",
    "Go into the seasonal directory.\n",
    "\n",
    "Rename the file winter.csv to be winter.csv.bck.\n",
    "\n",
    "Run ls to check that everything has worked."
   ]
  },
  {
   "cell_type": "code",
   "execution_count": 18,
   "metadata": {
    "vscode": {
     "languageId": "shellscript"
    }
   },
   "outputs": [
    {
     "name": "stdout",
     "output_type": "stream",
     "text": [
      "cd seasonal/\n",
      "mv winter.csv winter.csv.bck\n",
      "ls\n"
     ]
    }
   ],
   "source": [
    "print('cd seasonal/\\nmv winter.csv winter.csv.bck\\nls')"
   ]
  },
  {
   "cell_type": "markdown",
   "metadata": {},
   "source": [
    "# Exercise 08\n",
    "\n",
    "How can I delete files?\n",
    "\n",
    "We can copy files and move them around; to delete them, we use rm, which stands for \"remove\". As with cp and mv, you can give rm the names of as many files as you'd like, so:\n",
    "\n",
    "rm thesis.txt backup/thesis-2017-08.txt\n",
    "\n",
    "removes both thesis.txt and backup/thesis-2017-08.txt\n",
    "\n",
    "rm does exactly what its name says, and it does it right away: unlike graphical file browsers, the shell doesn't have a trash can, so when you type the command above, your thesis is gone for good.\n",
    "\n",
    "### Instructions\n",
    "\n",
    "You are in /home/repl. Go into the seasonal directory.\n",
    "\n",
    "Remove autumn.csv.\n",
    "\n",
    "Go back to your home directory.\n",
    "\n",
    "Remove seasonal/summer.csv without changing directories again."
   ]
  },
  {
   "cell_type": "code",
   "execution_count": 19,
   "metadata": {
    "vscode": {
     "languageId": "shellscript"
    }
   },
   "outputs": [
    {
     "name": "stdout",
     "output_type": "stream",
     "text": [
      "cd seasonal/\n",
      "rm autumn.csv\n",
      "cd ../\n",
      "rm seasonal/summer.csv\n"
     ]
    }
   ],
   "source": [
    "print('cd seasonal/\\nrm autumn.csv\\ncd ../\\nrm seasonal/summer.csv')"
   ]
  },
  {
   "cell_type": "markdown",
   "metadata": {},
   "source": [
    "# Exerctise 09\n",
    "\n",
    "How can I create and delete directories?\n",
    "\n",
    "mv treats directories the same way it treats files: if you are in your home directory and run mv seasonal by-season, for example, mv changes the name of the seasonal directory to by-season. However, rm works differently.\n",
    "\n",
    "If you try to rm a directory, the shell prints an error message telling you it can't do that, primarily to stop you from accidentally deleting an entire directory full of work. Instead, you can use a separate command called rmdir. For added safety, it only works when the directory is empty, so you must delete the files in a directory before you delete the directory. (Experienced users can use the -r option to rm to get the same effect; we will discuss command options in the next chapter.)\n",
    "\n",
    "### Instructions\n",
    "\n",
    "Without changing directories, delete the file agarwal.txt in the people directory.\n",
    "\n",
    "Now that the people directory is empty, use a single command to delete it.\n",
    "\n",
    "Since a directory is not a file, you must use the command mkdir directory_name to create a new (empty) directory. Use this command to create a new directory called yearly below your home directory.\n",
    "\n",
    "Now that yearly exists, create another directory called 2017 inside it without leaving your home directory."
   ]
  },
  {
   "cell_type": "code",
   "execution_count": 20,
   "metadata": {
    "vscode": {
     "languageId": "shellscript"
    }
   },
   "outputs": [
    {
     "name": "stdout",
     "output_type": "stream",
     "text": [
      "rm people/agarwal.txt\n",
      "rmdir people/\n",
      "mkdir yearly\n",
      "mkdir yearly/2017\n"
     ]
    }
   ],
   "source": [
    "print('rm people/agarwal.txt\\nrmdir people/\\nmkdir yearly\\nmkdir yearly/2017')"
   ]
  },
  {
   "cell_type": "markdown",
   "metadata": {},
   "source": [
    "# Exercice 10\n",
    "\n",
    "Wrapping up\n",
    "\n",
    "You will often create intermediate files when analyzing data. Rather than storing them in your home directory, you can put them in /tmp, which is where people and programs often keep files they only need briefly. (Note that /tmp is immediately below the root directory /, not below your home directory.) This wrap-up exercise will show you how to do that.\n",
    "\n",
    "### Instructions\n",
    "\n",
    "Use cd to go into /tmp.\n",
    "\n",
    "List the contents of /tmp without typing a directory name.\n",
    "\n",
    "Make a new directory inside /tmp called scratch.\n",
    "\n",
    "Move /home/repl/people/agarwal.txt into /tmp/scratch. We suggest you use the ~ shortcut for your home directory and a relative path for the second rather than the absolute path."
   ]
  },
  {
   "cell_type": "code",
   "execution_count": 21,
   "metadata": {
    "vscode": {
     "languageId": "shellscript"
    }
   },
   "outputs": [
    {
     "name": "stdout",
     "output_type": "stream",
     "text": [
      "cd ~/tmp/\n",
      "ls\n",
      "mkdir scratch\n",
      "mv /home/repl/people/agarwal.txt scratch/\n"
     ]
    }
   ],
   "source": [
    "print('cd ~/tmp/\\nls\\nmkdir scratch\\nmv /home/repl/people/agarwal.txt scratch/')"
   ]
  }
 ],
 "metadata": {
  "kernelspec": {
   "display_name": "Python 3 (ipykernel)",
   "language": "python",
   "name": "python3"
  },
  "language_info": {
   "codemirror_mode": {
    "name": "ipython",
    "version": 3
   },
   "file_extension": ".py",
   "mimetype": "text/x-python",
   "name": "python",
   "nbconvert_exporter": "python",
   "pygments_lexer": "ipython3",
   "version": "3.11.6"
  }
 },
 "nbformat": 4,
 "nbformat_minor": 4
}
