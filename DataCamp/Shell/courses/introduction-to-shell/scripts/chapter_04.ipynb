{
 "cells": [
  {
   "cell_type": "markdown",
   "metadata": {},
   "source": [
    "# exercise 01\n",
    "\n",
    "\n",
    "How does the shell store information?\n",
    "\n",
    "Like other programs, the shell stores information in variables. Some of these, called environment variables, are available all the time. Environment variables' names are conventionally written in upper case, and a few of the more commonly-used ones are shown below.\n",
    "Variable \tPurpose \tValue\n",
    "HOME \tUser's home directory \t/home/repl\n",
    "PWD \tPresent working directory \tSame as pwd command\n",
    "SHELL \tWhich shell program is being used \t/bin/bash\n",
    "USER \tUser's ID \trepl\n",
    "\n",
    "To get a complete list (which is quite long), you can type set in the shell.\n",
    "\n",
    "Use set and grep with a pipe to display the value of HISTFILESIZE, which determines how many old commands are stored in your command history. What is its value?\n",
    "\n",
    "**Answer**\n",
    "\n",
    "2000"
   ]
  },
  {
   "cell_type": "code",
   "execution_count": 1,
   "metadata": {
    "vscode": {
     "languageId": "shellscript"
    }
   },
   "outputs": [
    {
     "name": "stdout",
     "output_type": "stream",
     "text": [
      "set | grep HISTFILESIZE\n"
     ]
    }
   ],
   "source": [
    "print('set | grep HISTFILESIZE')"
   ]
  },
  {
   "cell_type": "markdown",
   "metadata": {},
   "source": [
    "# Exercise 02\n",
    "\n",
    "How can I print a variable's value?\n",
    "\n",
    "A simpler way to find a variable's value is to use a command called echo, which prints its arguments. Typing\n",
    "\n",
    "echo hello DataCamp!\n",
    "\n",
    "prints\n",
    "\n",
    "hello DataCamp!\n",
    "\n",
    "If you try to use it to print a variable's value like this:\n",
    "\n",
    "echo USER\n",
    "\n",
    "it will print the variable's name, USER.\n",
    "\n",
    "To get the variable's value, you must put a dollar sign $ in front of it. Typing\n",
    "\n",
    "echo $USER\n",
    "\n",
    "prints\n",
    "\n",
    "repl\n",
    "\n",
    "This is true everywhere: to get the value of a variable called X, you must write $X. (This is so that the shell can tell whether you mean \"a file named X\" or \"the value of a variable named X\".)\n",
    "\n",
    "### Instructions\n",
    "\n",
    "The variable OSTYPE holds the name of the kind of operating system you are using. Display its value using echo."
   ]
  },
  {
   "cell_type": "code",
   "execution_count": 3,
   "metadata": {
    "vscode": {
     "languageId": "shellscript"
    }
   },
   "outputs": [
    {
     "name": "stdout",
     "output_type": "stream",
     "text": [
      "echo $OSTYPE\n"
     ]
    }
   ],
   "source": [
    "print('echo $OSTYPE')"
   ]
  },
  {
   "cell_type": "markdown",
   "metadata": {},
   "source": [
    "# Exercise 03\n",
    "\n",
    "How else does the shell store information?\n",
    "\n",
    "The other kind of variable is called a shell variable, which is like a local variable in a programming language.\n",
    "\n",
    "To create a shell variable, you simply assign a value to a name:\n",
    "\n",
    "training=seasonal/summer.csv\n",
    "\n",
    "without any spaces before or after the = sign. Once you have done this, you can check the variable's value with:\n",
    "\n",
    "echo $training\n",
    "\n",
    "seasonal/summer.csv\n",
    "\n",
    "\n",
    "### Instructions\n",
    "\n",
    "Define a variable called testing with the value seasonal/winter.csv.\n",
    "\n",
    "Use head -n 1 SOMETHING to get the first line from seasonal/winter.csv using the value of the variable testing instead of the name of the file."
   ]
  },
  {
   "cell_type": "code",
   "execution_count": 4,
   "metadata": {
    "vscode": {
     "languageId": "shellscript"
    }
   },
   "outputs": [
    {
     "name": "stdout",
     "output_type": "stream",
     "text": [
      "testing=seasonal/winter.csv\n",
      "head -n1 $testing\n"
     ]
    }
   ],
   "source": [
    "print('testing=seasonal/winter.csv\\nhead -n1 $testing')"
   ]
  },
  {
   "cell_type": "markdown",
   "metadata": {},
   "source": [
    "# Exercise 04\n",
    "\n",
    "How can I repeat a command many times?\n",
    "\n",
    "Shell variables are also used in loops, which repeat commands many times. If we run this command:\n",
    "\n",
    "for filetype in gif jpg png; do echo $filetype; done\n",
    "\n",
    "it produces:\n",
    "\n",
    "gif\n",
    "jpg\n",
    "png\n",
    "\n",
    "Notice these things about the loop:\n",
    "\n",
    "    The structure is for …variable… in …list… ; do …body… ; done\n",
    "    The list of things the loop is to process (in our case, the words gif, jpg, and png).\n",
    "    The variable that keeps track of which thing the loop is currently processing (in our case, filetype).\n",
    "    The body of the loop that does the processing (in our case, echo $filetype).\n",
    "\n",
    "Notice that the body uses $filetype to get the variable's value instead of just filetype, just like it does with any other shell variable. Also notice where the semi-colons go: the first one comes between the list and the keyword do, and the second comes between the body and the keyword done.\n",
    "\n",
    "### Instructions\n",
    "\n",
    "Modify the loop so that it prints:\n",
    "\n",
    "docx\n",
    "odt\n",
    "pdf\n",
    "\n",
    "Please use filetype as the name of the loop variable."
   ]
  },
  {
   "cell_type": "code",
   "execution_count": 5,
   "metadata": {
    "vscode": {
     "languageId": "shellscript"
    }
   },
   "outputs": [
    {
     "name": "stdout",
     "output_type": "stream",
     "text": [
      "for filetype in docx odt pdf; do echo $filetype; done\n"
     ]
    }
   ],
   "source": [
    "print(\"for filetype in docx odt pdf; do echo $filetype; done\")"
   ]
  },
  {
   "cell_type": "markdown",
   "metadata": {},
   "source": [
    "# Exercise 05\n",
    "\n",
    "How can I repeat a command once for each file?\n",
    "\n",
    "You can always type in the names of the files you want to process when writing the loop, but it's usually better to use wildcards. Try running this loop in the console:\n",
    "\n",
    "for filename in seasonal/*.csv; do echo $filename; done\n",
    "\n",
    "It prints:\n",
    "\n",
    "seasonal/autumn.csv\n",
    "seasonal/spring.csv\n",
    "seasonal/summer.csv\n",
    "seasonal/winter.csv\n",
    "\n",
    "because the shell expands seasonal/*.csv to be a list of four filenames before it runs the loop.\n",
    "\n",
    "### Instructions\n",
    "\n",
    "Modify the wildcard expression to people/* so that the loop prints the names of the files in the people directory regardless of what suffix they do or don't have. Please use filename as the name of your loop variable."
   ]
  },
  {
   "cell_type": "code",
   "execution_count": 6,
   "metadata": {
    "vscode": {
     "languageId": "shellscript"
    }
   },
   "outputs": [
    {
     "name": "stdout",
     "output_type": "stream",
     "text": [
      "for filename in people/*; do echo $filename; done\n"
     ]
    }
   ],
   "source": [
    "print(\"for filename in people/*; do echo $filename; done\")"
   ]
  },
  {
   "cell_type": "markdown",
   "metadata": {},
   "source": [
    "# Exercise 06\n",
    "\n",
    "How can I record the names of a set of files?\n",
    "\n",
    "People often set a variable using a wildcard expression to record a list of filenames. For example, if you define datasets like this:\n",
    "\n",
    "datasets=seasonal/*.csv\n",
    "\n",
    "you can display the files' names later using:\n",
    "\n",
    "for filename in $datasets; do echo $filename; done\n",
    "\n",
    "This saves typing and makes errors less likely.\n",
    "\n",
    "If you run these two commands in your home directory, how many lines of output will they print?\n",
    "\n",
    "files=seasonal/*.csv\n",
    "for f in $files; do echo $f; done\n",
    "\n",
    "**Answer**\n",
    "\n",
    "Four: the names of all .csv files in the seasonal directory"
   ]
  },
  {
   "cell_type": "markdown",
   "metadata": {},
   "source": [
    "# A variable's name versus its value\n",
    "\n",
    "A common mistake is to forget to use $ before the name of a variable. When you do this, the shell uses the name you have typed rather than the value of that variable.\n",
    "\n",
    "A more common mistake for experienced users is to mis-type the variable's name. For example, if you define datasets like this:\n",
    "\n",
    "datasets=seasonal/*.csv\n",
    "\n",
    "and then type:\n",
    "\n",
    "echo $datsets\n",
    "\n",
    "the shell doesn't print anything, because datsets (without the second \"a\") isn't defined.\n",
    "\n",
    "If you were to run these two commands in your home directory, what output would be printed?\n",
    "\n",
    "files=seasonal/*.csv\n",
    "for f in files; do echo $f; done\n",
    "\n",
    "(Read the first part of the loop carefully before answering.)\n",
    "\n",
    "### Possible Answers\n",
    "\n",
    "\n",
    "    One line: the word \"files\". **Answer**\n",
    "    \n",
    "    \n",
    "    Four lines: the names of all four seasonal data files.\n",
    "    \n",
    "    \n",
    "    Four blank lines: the variable f isn't assigned a value."
   ]
  },
  {
   "cell_type": "markdown",
   "metadata": {},
   "source": [
    "# Exercise 07\n",
    "\n",
    "How can I run many commands in a single loop?\n",
    "\n",
    "Printing filenames is useful for debugging, but the real purpose of loops is to do things with multiple files. This loop prints the second line of each data file:\n",
    "\n",
    "for file in seasonal/*.csv; do head -n 2 $file | tail -n 1; done\n",
    "\n",
    "It has the same structure as the other loops you have already seen: all that's different is that its body is a pipeline of two commands instead of a single command.\n",
    "\n",
    "### Instructions\n",
    "\n",
    "Write a loop that prints the last entry from July 2017 (2017-07) in every seasonal file. It should produce a similar output to:\n",
    "\n",
    "grep 2017-07 seasonal/winter.csv | tail -n 1\n",
    "\n",
    "but for each seasonal file separately. Please use file as the name of the loop variable, and remember to loop through the list of files seasonal/*.csv (instead of 'seasonal/winter.csv' as in the example)."
   ]
  },
  {
   "cell_type": "code",
   "execution_count": 7,
   "metadata": {
    "vscode": {
     "languageId": "shellscript"
    }
   },
   "outputs": [
    {
     "name": "stdout",
     "output_type": "stream",
     "text": [
      "for file in seasonal/*.csv; do grep 2017-07 $file | tail -n1; done\n"
     ]
    }
   ],
   "source": [
    "print('for file in seasonal/*.csv; do grep 2017-07 $file | tail -n1; done')"
   ]
  },
  {
   "cell_type": "markdown",
   "metadata": {},
   "source": [
    "# Why shouldn't I use spaces in filenames?\n",
    "\n",
    "It's easy and sensible to give files multi-word names like July 2017.csv when you are using a graphical file explorer. However, this causes problems when you are working in the shell. For example, suppose you wanted to rename July 2017.csv to be 2017 July data.csv. You cannot type:\n",
    "\n",
    "mv July 2017.csv 2017 July data.csv\n",
    "\n",
    "because it looks to the shell as though you are trying to move four files called July, 2017.csv, 2017, and July (again) into a directory called data.csv. Instead, you have to quote the files' names so that the shell treats each one as a single parameter:\n",
    "\n",
    "mv 'July 2017.csv' '2017 July data.csv'\n",
    "\n",
    "If you have two files called current.csv and last year.csv (with a space in its name) and you type:\n",
    "\n",
    "rm current.csv last year.csv\n",
    "\n",
    "what will happen:\n",
    "\n",
    "### Possible Answers\n",
    "\n",
    "\n",
    "    The shell will print an error message because last and year.csv do not exist.\n",
    "    \n",
    "    \n",
    "    The shell will delete current.csv.\n",
    "    \n",
    "    \n",
    "    Both of the above. **Answer**\n",
    "    \n",
    "    \n",
    "    Nothing.\n"
   ]
  },
  {
   "cell_type": "markdown",
   "metadata": {},
   "source": [
    "# Exercise 08\n",
    "\n",
    "How can I do many things in a single loop?\n",
    "\n",
    "The loops you have seen so far all have a single command or pipeline in their body, but a loop can contain any number of commands. To tell the shell where one ends and the next begins, you must separate them with semi-colons:\n",
    "\n",
    "for f in seasonal/*.csv; do echo $f; head -n 2 $f | tail -n 1; done\n",
    "\n",
    "seasonal/autumn.csv\n",
    "2017-01-05,canine\n",
    "seasonal/spring.csv\n",
    "2017-01-25,wisdom\n",
    "seasonal/summer.csv\n",
    "2017-01-11,canine\n",
    "seasonal/winter.csv\n",
    "2017-01-03,bicuspid\n",
    "\n",
    "Suppose you forget the semi-colon between the echo and head commands in the previous loop, so that you ask the shell to run:\n",
    "\n",
    "for f in seasonal/*.csv; do echo $f head -n 2 $f | tail -n 1; done\n",
    "\n",
    "What will the shell do?\n",
    "\n",
    "**Answer**\n",
    "\n",
    "print one line for each of the files"
   ]
  }
 ],
 "metadata": {
  "kernelspec": {
   "display_name": "Python 3 (ipykernel)",
   "language": "python",
   "name": "python3"
  },
  "language_info": {
   "codemirror_mode": {
    "name": "ipython",
    "version": 3
   },
   "file_extension": ".py",
   "mimetype": "text/x-python",
   "name": "python",
   "nbconvert_exporter": "python",
   "pygments_lexer": "ipython3",
   "version": "3.11.6"
  }
 },
 "nbformat": 4,
 "nbformat_minor": 4
}
