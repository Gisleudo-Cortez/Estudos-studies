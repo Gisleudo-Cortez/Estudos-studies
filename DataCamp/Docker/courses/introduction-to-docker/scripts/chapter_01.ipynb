{
 "cells": [
  {
   "cell_type": "markdown",
   "metadata": {},
   "source": [
    "# What is included in a container?\n",
    "\n",
    "A container is a portable computing environment, but what is included exactly?\n",
    "\n",
    "### Possible Answers\n",
    "\n",
    "\n",
    "    A container contains dependencies and code needed to run a workflow or application, but you have to configure your application from outside the container.\n",
    "    \n",
    "    \n",
    "    A container contains the configuration and code needed to run a workflow or application, but you have to install dependencies separately.\n",
    "    \n",
    "    \n",
    "    A container contains dependencies and configuration needed to run a workflow or application, but you can not put your code into a container.\n",
    "    \n",
    "    \n",
    "    A container contains everything needed to run a workflow or application; dependencies, code, and configuration. {Answer}"
   ]
  },
  {
   "cell_type": "markdown",
   "metadata": {},
   "source": [
    "# Advantages of containers\n",
    "\n",
    "We saw a lot of advantages of containers. Can you remember what they were exactly?\n",
    "\n",
    "![Answer](images/ch01-01.png)"
   ]
  },
  {
   "cell_type": "markdown",
   "metadata": {},
   "source": [
    "# Which parts does the Docker Engine consist of?\n",
    "\n",
    "Docker is part of a now much larger ecosystem of applications built to support containers in various ways. Starting out on our journey to understand and use containers, we’re focusing on the Docker Engine and its components. Of which parts does the Docker Engine consist?\n",
    "\n",
    "### Possible Answers\n",
    "\n",
    "\n",
    "    Just the Docker daemon, other applications like the Docker client can then use the Docker daemon to work with containers.\n",
    "    \n",
    "    \n",
    "    The Docker daemon, Docker client, and Docker Compose. The latter is used for multi-container applications.\n",
    "    \n",
    "    \n",
    "    The Docker daemon, Docker client, Docker Compose, and Kubernetes are everything you need to run complex container setups in production environments.\n",
    "    \n",
    "    \n",
    "    The Docker client and daemon together make up the Docker client-server interface of Docker Engine.\n",
    "    \n",
    "    \n",
    "    The Docker client, daemon, and its API specifications. {Answer}"
   ]
  },
  {
   "cell_type": "markdown",
   "metadata": {},
   "source": [
    "# Containers and images\n",
    "\n",
    "Getting an intuitive understanding on Docker and the many new concepts surrounding it can be difficult, especially the difference between images and containers can seem blurry because they are closely related. Did you fully grasp the difference?\n",
    "\n",
    "### Possible Answers\n",
    "\n",
    "\n",
    "    An image is just a different name for a container, but they really mean the same thing.\n",
    "    \n",
    "    \n",
    "    Containers are what you use in the Docker ecosystem; images are just the more general name.\n",
    "    \n",
    "    \n",
    "    Images are blueprints, while a container is a running image, the image is just the template it got started from. {Answer}\n",
    "    \n",
    "    \n",
    "    Containers are blueprints; while an image is a running container, the container is just the template it got started from."
   ]
  },
  {
   "cell_type": "markdown",
   "metadata": {},
   "source": [
    "# Containers are like processes\n",
    "\n",
    "Looking at containers as processes can help make them less abstract and create a mental model of how they work. Are you able to understand the difference between a normal process and how containers are run?\n",
    "\n",
    "![Answer](images/ch01-02.png)"
   ]
  },
  {
   "cell_type": "markdown",
   "metadata": {},
   "source": [
    "# What is virtualization?\n",
    "\n",
    "You just learned about virtual machines and containers, both of which are virtualization technologies, but do you remember what that means exactly?\n",
    "\n",
    "### Possible Answers\n",
    "\n",
    "\n",
    "    The goal of virtualization is to run multiple pieces of software isolated from each other on the same machine.\n",
    "    \n",
    "    \n",
    "    Virtualization allows an operating system to run on top of another operating system.\n",
    "    \n",
    "    \n",
    "    Virtualization is when system resources like RAM, CPU, or Disk can be ‘virtualized’ and represented as multiple resources.\n",
    "    \n",
    "    \n",
    "    All of the above. {Answer}"
   ]
  },
  {
   "cell_type": "markdown",
   "metadata": {},
   "source": [
    "# How do containers and virtual machines relate?\n",
    "\n",
    "Which of the following answers best describes the relationship between containers and virtual machines?\n",
    "\n",
    "### Possible Answers\n",
    "\n",
    "\n",
    "    Containers and virtual machines are two names for different ways to use exactly the same technology.\n",
    "    \n",
    "    \n",
    "    Both are ways to virtualize hardware. However, only virtual machines are really used in industry because they offer much better security than containers.\n",
    "    \n",
    "    \n",
    "    Containers and virtual machines are both virtualization technologies, but they have different strengths and weaknesses, making their use cases different. {Answer}"
   ]
  },
  {
   "cell_type": "markdown",
   "metadata": {},
   "source": [
    "# Pick the right properties\n",
    "\n",
    "Containers are and will most likely remain a lot more popular and used than virtual machines. However in some use cases virtual machines are still the right option. Understanding the difference between both allows you to consider both when needed. Can you recall which property belongs to which?\n",
    "\n",
    "![Answer](images/ch01-03.png)"
   ]
  }
 ],
 "metadata": {
  "kernelspec": {
   "display_name": "Python 3 (ipykernel)",
   "language": "python",
   "name": "python3"
  },
  "language_info": {
   "codemirror_mode": {
    "name": "ipython",
    "version": 3
   },
   "file_extension": ".py",
   "mimetype": "text/x-python",
   "name": "python",
   "nbconvert_exporter": "python",
   "pygments_lexer": "ipython3",
   "version": "3.11.6"
  }
 },
 "nbformat": 4,
 "nbformat_minor": 4
}
