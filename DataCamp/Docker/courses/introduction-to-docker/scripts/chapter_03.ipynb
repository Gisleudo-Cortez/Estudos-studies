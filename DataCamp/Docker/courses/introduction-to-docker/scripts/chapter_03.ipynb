{
 "cells": [
  {
   "cell_type": "code",
   "execution_count": null,
   "metadata": {},
   "outputs": [
    {
     "data": {
      "text/plain": [
       "'/home/nero/Documents/Estudos/DataCamp'"
      ]
     },
     "execution_count": 15,
     "metadata": {},
     "output_type": "execute_result"
    }
   ],
   "source": [
    "# exercise 01\n",
    "\n",
    "\"\"\"\n",
    "Building your first image\n",
    "\n",
    "Let's build your first image! We've created a Dockerfile for you, and you can see it in your current working directory using the ls command. You can look at its content using cat Dockerfile or using nano.\n",
    "\"\"\"\n",
    "\n",
    "# Instructions\n",
    "\n",
    "\"\"\"\n",
    "\n",
    "    Using the terminal, enter the command to build an image from the Dockerfile in your current working directory.\n",
    "---\n",
    "    Well done! While it's possible to build an image without naming it, we usually want to give our image a name. Using the terminal, enter the command to build an image called my_first_image from the Dockerfile in your current working directory.\n",
    "\n",
    "\"\"\"\n",
    "\n",
    "# solution\n",
    "\n",
    "# Dockerfile\n",
    "\"FROM ubuntu:22.04\"\n",
    "docker build .\n",
    "\n",
    "#----------------------------------#\n",
    "\n",
    "docker build -t my_first_image\n",
    "\n",
    "#----------------------------------#\n",
    "\n",
    "# Conclusion\n",
    "\n",
    "\"\"\"\n",
    "Nicely built! Now that you know how to build an image from a Dockerfile, let's try adding some instructions to a Dockerfile.\n",
    "\"\"\""
   ]
  },
  {
   "cell_type": "code",
   "execution_count": 1,
   "metadata": {
    "tags": []
   },
   "outputs": [
    {
     "data": {
      "text/plain": [
       "'\\n\\n'"
      ]
     },
     "execution_count": 1,
     "metadata": {},
     "output_type": "execute_result"
    }
   ],
   "source": [
    "# exercise 02\n",
    "\n",
    "\"\"\"\n",
    "Working in the command-line\n",
    "\n",
    "A Dockerfile is just a textfile and creating or editing it can be done using any text editor. However since the default way to work with Docker is through the Command Line Interface, it's convenient to also edit Dockerfiles using the command line. Let's refresh our memory on how to navigate the file system and create or edit a Dockerfile with the command line.\n",
    "\"\"\"\n",
    "\n",
    "# Instructions\n",
    "\n",
    "\"\"\"\n",
    "Create a file called Dockerfile in the current working directory.\n",
    "\n",
    "    Use touch Dockerfile; the touch command will create an empty file for you.\n",
    "\n",
    "    Or use nano Dockerfile, which will create an empty file but also open the nano text editor, which you then have to save using CTRL+s after which you can exit with CTRL+x.\n",
    "---\n",
    "Now that you've created a new file let's add a line of text to it.\n",
    "\n",
    "    Open the file using nano Dockerfile.\n",
    "\n",
    "    add FROM ubuntu to the start of the file.\n",
    "\n",
    "    Use CTRL+s to save your changes.\n",
    "\n",
    "    Followed by CTRL+x to exit nano.\n",
    "---\n",
    "Using nano to edit a file is often the most intuitive way; however, you can also use echo combined with a double pipe (>>) to append to files without opening them. Let's use echo to append RUN apt-get update to our Dockerfile.\n",
    "\n",
    "    Type the first part of the command, echo \"RUN apt-get update\" which will print the text between the quotes, don't press enter yet.\n",
    "    Then add the double pipe >>, which will redirect the output.\n",
    "    Followed by Dockerfile to make the output of echo append to the Dockerfile.\n",
    "    Now execute the command by pressing the enter key.\n",
    "\n",
    "---\n",
    "Well done! You successfully created and made changes to a file. Often while working in the shell, you want to quickly check the contents of a file without making changes to it. This is easily done using the cat command.\n",
    "\n",
    "    Check the contents of the Dockerfile using the cat command, cat expects a filename as its first and only argument.\n",
    "\n",
    "\"\"\"\n",
    "\n",
    "# solution\n",
    "\n",
    "touch Dockerfile\n",
    "\n",
    "nano Dockerfile\n",
    "\n",
    "\"FROM ubuntu\"\n",
    "\n",
    "echo \"RUN apt-get update\" >> Dockerfile\n",
    "\n",
    "cat Dockerfile\n",
    "\n",
    "#----------------------------------#\n",
    "\n",
    "# Conclusion\n",
    "\n",
    "\"\"\"\n",
    "Well done! Now that you've refreshed your memory on how to work with touch, nano, and cat, let's get back to using Docker and writing Dockerfiles.\n",
    "\"\"\""
   ]
  },
  {
   "cell_type": "code",
   "execution_count": 2,
   "metadata": {
    "tags": []
   },
   "outputs": [
    {
     "data": {
      "text/plain": [
       "'\\n\\n'"
      ]
     },
     "execution_count": 2,
     "metadata": {},
     "output_type": "execute_result"
    }
   ],
   "source": [
    "# exercise 03\n",
    "\n",
    "\"\"\"\n",
    "Editing a Dockerfile\n",
    "\n",
    "Let's get familiar with the RUN instruction. We've created a Dockerfile for you. You can look at its content using cat Dockerfile or using nano. Like before, the Dockerfile already has a FROM instruction, but you'll be adding a RUN command this time.\n",
    "\"\"\"\n",
    "\n",
    "# Instructions\n",
    "\n",
    "\"\"\"\n",
    "\n",
    "    Add the correct instruction to the end of the Dockerfile so that the mkdir my_app shell command is run when building the Dockerfile.\n",
    "---\n",
    "    Using the terminal, run the command to build an image called my_app from the Dockerfile in your current working directory.\n",
    "\n",
    "\"\"\"\n",
    "\n",
    "# solution\n",
    "\n",
    "nano Dockerfile\n",
    "\n",
    "\"RUN mkdir my_app\"\n",
    "\n",
    "docker build -t my_app .\n",
    "\n",
    "#----------------------------------#\n",
    "\n",
    "# Conclusion\n",
    "\n",
    "\"\"\"\n",
    "Nicely done! Now that you know how to build and edit Dockerfiles, let's create one from scratch.\n",
    "\"\"\""
   ]
  },
  {
   "cell_type": "code",
   "execution_count": 3,
   "metadata": {
    "tags": []
   },
   "outputs": [
    {
     "data": {
      "text/plain": [
       "'\\n\\n'"
      ]
     },
     "execution_count": 3,
     "metadata": {},
     "output_type": "execute_result"
    }
   ],
   "source": [
    "# exercise 04\n",
    "\n",
    "\"\"\"\n",
    "Creating your own Dockerfile\n",
    "\n",
    "While it's possible download images for many use-cases. Often an image is not exactly what you need. In that case all you need to do is create a new image based on an existing image that comes close to your use case. Let's go through every step to create a Dockerfile from scratch to build on top of the existing ubuntu image, add instructions and then build it into an image.\n",
    "\"\"\"\n",
    "\n",
    "# Instructions\n",
    "\n",
    "\"\"\"\n",
    "\n",
    "    Create a file called Dockerfile in the current working directory.\n",
    "---\n",
    "    Add the first instruction to the Dockerfile so that it will build on top of the ubuntu image.\n",
    "---\n",
    "    Add instructions to the Dockerfile so that it runs apt-get update and apt-get install -y python3 when building the Dockerfile.\n",
    "---\n",
    "    Using the terminal, run the command to build an image called my_python_image from the Dockerfile in your current working directory.\n",
    "\n",
    "\"\"\"\n",
    "\n",
    "# solution\n",
    "\n",
    "touch Dockerfile\n",
    "\n",
    "echo \"FROM ubuntu\" >> Dockerfile\n",
    "\n",
    "nano Dockerfile\n",
    "\n",
    "\"RUN apt-get update\"\n",
    "\"RUN apt-get install -y python3\"\n",
    "\n",
    "docker build -t my_python_image .\n",
    "\n",
    "#----------------------------------#\n",
    "\n",
    "# Conclusion\n",
    "\n",
    "\"\"\"\n",
    "From start to finish, well done! Now that we can create an image with python3, we'll see how we can add code to our images.\n",
    "\"\"\""
   ]
  },
  {
   "cell_type": "code",
   "execution_count": 4,
   "metadata": {
    "tags": []
   },
   "outputs": [
    {
     "data": {
      "text/plain": [
       "'\\n\\n'"
      ]
     },
     "execution_count": 4,
     "metadata": {},
     "output_type": "execute_result"
    }
   ],
   "source": [
    "# exercise 05\n",
    "\n",
    "\"\"\"\n",
    "Copying files into an image\n",
    "\n",
    "You've created an Ubuntu and python3-based image to run your data pipeline. Update your Dockerfile so your image includes the pipeline.py file in which you defined the pipeline.\n",
    "\"\"\"\n",
    "\n",
    "# Instructions\n",
    "\n",
    "\"\"\"\n",
    "\n",
    "    To the end of the Dockerfile, add the Docker instruction, which copies the pipeline.py file in your current working directory (/home/repl) to the /app folder in the image you want to build.\n",
    "\n",
    "\"\"\"\n",
    "\n",
    "# solution\n",
    "\n",
    "echo \"COPY /home/repl/pipeline.py /app\" >> Dockerfile\n",
    "\n",
    "#----------------------------------#\n",
    "\n",
    "# Conclusion\n",
    "\n",
    "\"\"\"\n",
    "Nice addition, copying is just the first step of managing files in an images. Let's try some harder file management next.\n",
    "\"\"\""
   ]
  },
  {
   "cell_type": "code",
   "execution_count": 5,
   "metadata": {
    "tags": []
   },
   "outputs": [
    {
     "data": {
      "text/plain": [
       "'\\n\\n'"
      ]
     },
     "execution_count": 5,
     "metadata": {},
     "output_type": "execute_result"
    }
   ],
   "source": [
    "# exercise 06\n",
    "\n",
    "\"\"\"\n",
    "Copying folders\n",
    "\n",
    "After creating an ubuntu and python3 image with your pipeline python code in it, you realize you actually need your entire pipeline_v3 project in the Docker image to be able to install its dependencies. There is a Dockerfile in the current working directory to start from that already has python3 installed.\n",
    "\"\"\"\n",
    "\n",
    "# Instructions\n",
    "\n",
    "\"\"\"\n",
    "\n",
    "    Add the instruction to copy all pipeline_v3 project files into the /app directory in your Docker image. You can find the files in the /pipeline_v3/ directory, which is in the current working directory on your local machine.\n",
    "---\n",
    "    Using the terminal, run the command to build an image called pipeline_v3 from the Dockerfile in your current working directory.\n",
    "\n",
    "\"\"\"\n",
    "\n",
    "# solution\n",
    "\n",
    "echo \"COPY pipeline_v3/ /app\" >> Dockerfile\n",
    "\n",
    "#----------------------------------#\n",
    "\n",
    "docker build -t pipeline_v3 .\n",
    "\n",
    "#----------------------------------#\n",
    "\n",
    "# Conclusion\n",
    "\n",
    "\"\"\"\n",
    "Nice one! You've copied files and folders, now let's try downloading them.\n",
    "\"\"\""
   ]
  },
  {
   "cell_type": "code",
   "execution_count": 6,
   "metadata": {
    "tags": []
   },
   "outputs": [
    {
     "data": {
      "text/plain": [
       "'\\n\\n'"
      ]
     },
     "execution_count": 6,
     "metadata": {},
     "output_type": "execute_result"
    }
   ],
   "source": [
    "# exercise 07\n",
    "\n",
    "\"\"\"\n",
    "Working with downloaded files\n",
    "\n",
    "Your previous image worked, and you were able to finalize your pipeline python code! You can now create the next version of your image. Let's create a Dockerfile from scratch, add instructions and then build it.\n",
    "\"\"\"\n",
    "\n",
    "# Instructions\n",
    "\n",
    "\"\"\"\n",
    "\n",
    "    Create a file called Dockerfile in the current working directory.\n",
    "---\n",
    "    Add the first instruction to the Dockerfile so that it will build on top of the ubuntu image.\n",
    "    Add instructions to the Dockerfile so that it runs apt-get update and apt-get install -y python3 curl unzip.\n",
    "---\n",
    "Add instructions to the Dockerfile to:\n",
    "\n",
    "    Download the zip file from https://assets.datacamp.com/production/repositories/6082/datasets/31a5052c6a5424cbb8d939a7a6eff9311957e7d0/pipeline_final.zip to /pipeline_final.zip.\n",
    "    Unzip the file\n",
    "    And remove the zip\n",
    "    You can use three separate instructions or make it a single instruction to keep your image smaller.\n",
    "---\n",
    "    Using the terminal, run the command to build an image called pipeline from the Dockerfile in your current working directory.\n",
    "\n",
    "\"\"\"\n",
    "\n",
    "# solution\n",
    "\n",
    "touch Dockerfile\n",
    "\n",
    "nano Dockerfile\n",
    "\n",
    "\"\"\"\n",
    "FROM ubuntu\n",
    "RUN apt-get update\n",
    "RUN apt-get install -y python3 curl unzip\n",
    "RUN curl https://assets.datacamp.com/production/repositories/6082/datasets/31a5052c6a5424cbb8d939a7a6eff9311957e7d0/pipeline_final.zip -o /pipeline_final.zip\n",
    "\"\"\"\n",
    "\n",
    "docker build -t pipeline .\n",
    "\n",
    "#----------------------------------#\n",
    "\n",
    "# Conclusion\n",
    "\n",
    "\"\"\"\n",
    "Great job! You've shown that you can work with files when building your own images.\n",
    "\"\"\""
   ]
  },
  {
   "cell_type": "code",
   "execution_count": 7,
   "metadata": {
    "tags": []
   },
   "outputs": [
    {
     "data": {
      "text/plain": [
       "'\\n\\n'"
      ]
     },
     "execution_count": 7,
     "metadata": {},
     "output_type": "execute_result"
    }
   ],
   "source": [
    "# exercise 08\n",
    "\n",
    "\"\"\"\n",
    "Overriding the default command\n",
    "\n",
    "Overriding the start command of an image has many uses. One of them is testing or debugging something in an image that already has a start command with a specific use case. For example, the postgres image starts a database if you start it normally. To be able to dive into the image and look at configuration files or debug an issue you're having; you can start it with the bash command, an often available shell. What is the command to start the postgres image interactively with a bash shell?\n",
    "\"\"\"\n",
    "\n",
    "# Instructions\n",
    "\n",
    "\"\"\"\n",
    "Possible answers:\n",
    "    \n",
    "    docker run -it postgres -cmd bash\n",
    "    \n",
    "    docker run -it postgres -start bash\n",
    "    \n",
    "    docker run -it postgres bash {Answer}\n",
    "    \n",
    "    docker run -it bash postgres\n",
    "\"\"\"\n",
    "\n",
    "# solution\n",
    "\n",
    "\n",
    "\n",
    "#----------------------------------#\n",
    "\n",
    "# Conclusion\n",
    "\n",
    "\"\"\"\n",
    "Great start! When wanting to debug an image, it's worth trying bash or /bin/bash as a start command to get a shell in the image.\n",
    "\"\"\""
   ]
  },
  {
   "cell_type": "code",
   "execution_count": 8,
   "metadata": {
    "tags": []
   },
   "outputs": [
    {
     "data": {
      "text/plain": [
       "'\\n\\n'"
      ]
     },
     "execution_count": 8,
     "metadata": {},
     "output_type": "execute_result"
    }
   ],
   "source": [
    "# exercise 09\n",
    "\n",
    "\"\"\"\n",
    "Adding a CMD\n",
    "\n",
    "While creating an image for your python pipeline, you had many issues debugging any problems that came up. To be able to debug these easily, you decide to make an image based on the same version of ubuntu that starts python3 by default.\n",
    "\"\"\"\n",
    "\n",
    "# Instructions\n",
    "\n",
    "\"\"\"\n",
    "\n",
    "    Add the instruction so that your Docker image starts python3 by default.\n",
    "---\n",
    "    Using the terminal, run the command to build an image called pipeline_debug from the Dockerfile in your current working directory.\n",
    "---\n",
    "    Let's test the image we just made. Using the terminal, enter the command to run the pipeline_debug image.\n",
    "\n",
    "\"\"\"\n",
    "\n",
    "# solution\n",
    "\n",
    "nano Dockerfile\n",
    "\"CMD python3\"\n",
    "docker build -t pipeline_debug\n",
    "docker run pipeline_debug\n",
    "\n",
    "#----------------------------------#\n",
    "\n",
    "# Conclusion\n",
    "\n",
    "\"\"\"\n",
    "Nicely done; using CMD, you can give any image a useful start command!\n",
    "\"\"\""
   ]
  },
  {
   "cell_type": "markdown",
   "metadata": {},
   "source": [
    "# Docker caching\n",
    "\n",
    "Now that you understand Docker image layers and when they are cached, which of the following statements is correct?\n",
    "\n",
    "### Possible Answers\n",
    "\n",
    "\n",
    "    Docker builds Dockerfiles into images; an image is composed of layers that correspond to specific Dockerfile instructions. A layer can be re-used for Dockerfiles with identical instructions.\n",
    "    \n",
    "    \n",
    "    When we build an image from a Dockerfile, every Dockerfile instruction is run, and the changes it makes to the file system are saved. The bundle of these changes to the file system is called a layer.\n",
    "    \n",
    "    \n",
    "    Image layer caching can be complex, but it allows us to understand how to greatly increase the speed with which we can iterate on, i.e., improve or fix bugs in our images.\n",
    "    \n",
    "    \n",
    "    All of the above. {Answer}"
   ]
  },
  {
   "cell_type": "markdown",
   "metadata": {},
   "source": [
    "# Ordering Dockerfile instructions\n",
    "\n",
    "When writing Dockerfiles, the order of your Dockerfile instructions determines how long the build will take after updating any of the commands. Do you understand how to make the most efficient Dockerfiles?\n",
    "\n",
    "![Answer](images/ch03-01.png)"
   ]
  }
 ],
 "metadata": {
  "kernelspec": {
   "display_name": "Python 3 (ipykernel)",
   "language": "python",
   "name": "python3"
  },
  "language_info": {
   "codemirror_mode": {
    "name": "ipython",
    "version": 3
   },
   "file_extension": ".py",
   "mimetype": "text/x-python",
   "name": "python",
   "nbconvert_exporter": "python",
   "pygments_lexer": "ipython3",
   "version": "3.11.6"
  }
 },
 "nbformat": 4,
 "nbformat_minor": 4
}
