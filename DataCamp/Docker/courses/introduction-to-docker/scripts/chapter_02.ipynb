{
 "cells": [
  {
   "cell_type": "code",
   "execution_count": null,
   "metadata": {},
   "outputs": [],
   "source": [
    "# exercise 01\n",
    "\n",
    "\"\"\"\n",
    "Running your first container\n",
    "\n",
    "Now that you know how to start and stop containers, look at running containers, and much more, let's get your hands dirty! We'll start off by just running a container that outputs some text so we can see that it successfully ran. In other words, it's your turn to run a hello-world container!\n",
    "\"\"\"\n",
    "\n",
    "# Instructions\n",
    "\n",
    "\"\"\"\n",
    "\n",
    "    Using the terminal, enter the command to run the hello-world image.\n",
    "\n",
    "\"\"\"\n",
    "\n",
    "# solution\n",
    "\n",
    "docker run hello-world\n",
    "\n",
    "#----------------------------------#\n",
    "\n",
    "# Conclusion\n",
    "\n",
    "\"\"\"\n",
    "Well done! The hello-world image is made by the docker community, it's tiny and often used to check if Docker is correctly up and running in an environment.\n",
    "\"\"\""
   ]
  },
  {
   "cell_type": "code",
   "execution_count": 1,
   "metadata": {
    "tags": []
   },
   "outputs": [
    {
     "data": {
      "text/plain": [
       "'\\n\\n'"
      ]
     },
     "execution_count": 1,
     "metadata": {},
     "output_type": "execute_result"
    }
   ],
   "source": [
    "# exercise 02\n",
    "\n",
    "\"\"\"\n",
    "Running a container in the background\n",
    "\n",
    "You got some projects set up already on your machine, but an urgent request has come in to fix a bug in your data ingestion pipeline. The pipeline is used to store data from different sources into a Postgres database. To search for the issue, you want to set up the project locally together with a Postgres database in a Docker container to ensure that fixing this bug doesn't affect anything else you are working on.\n",
    "\"\"\"\n",
    "\n",
    "# Instructions\n",
    "\n",
    "\"\"\"\n",
    "\n",
    "    Using the terminal, enter the command to run the postgres image in the background.\n",
    "---\n",
    "    Make sure the container is running by listing all containers and verifying that you see a Postgres container running.\n",
    "\n",
    "\"\"\"\n",
    "\n",
    "# solution\n",
    "\n",
    "docker run -d postgres\n",
    "\n",
    "#----------------------------------#\n",
    "\n",
    "docker ps\n",
    "\n",
    "#----------------------------------#\n",
    "\n",
    "# Conclusion\n",
    "\n",
    "\"\"\"\n",
    "Nice work! Using docker containers to run project dependencies is a great way to keep your local environment clean and be able to switch quickly between projects.\n",
    "\"\"\""
   ]
  },
  {
   "cell_type": "markdown",
   "metadata": {},
   "source": [
    "# Stopping a container\n",
    "\n",
    "You were able to fix the bug in the pipeline and want to get back to other work; before you can resume your previous task, you would like to shut down the database you used to run the pipeline app locally. Which answer correctly cleans up the running Postgres container?\n",
    "\n",
    "### Possible Answers\n",
    "\n",
    "\n",
    "    docker close container-id\n",
    "    \n",
    "    \n",
    "    docker exit container-id\n",
    "    \n",
    "    \n",
    "    docker stop container-id {Answer}\n",
    "    \n",
    "    \n",
    "    docker end container-id"
   ]
  },
  {
   "cell_type": "code",
   "execution_count": 2,
   "metadata": {
    "tags": []
   },
   "outputs": [
    {
     "data": {
      "text/plain": [
       "'\\n\\n'"
      ]
     },
     "execution_count": 2,
     "metadata": {},
     "output_type": "execute_result"
    }
   ],
   "source": [
    "# exercise 03\n",
    "\n",
    "\"\"\"\n",
    "An interactive container\n",
    "\n",
    "Another bug has popped up in the data ingestion pipeline; this time, however, you got some pointers on where the issue might be. Your colleagues tell you the application cannot start inside its Ubuntu container. To debug the issue you want to start an Ubuntu container and try to run the application yourself to find out what's going wrong.\n",
    "\n",
    "Select the right combination of commands to:\n",
    "\n",
    "    Run an ubuntu container and get an interactive shell inside of the container.\n",
    "    Close the container to go back to the host after you got an interactive shell in the container and found the issue with the pipeline.\n",
    "\n",
    "You can use the shell to try out the possible commands.\n",
    "\"\"\"\n",
    "\n",
    "# Instructions\n",
    "\n",
    "\"\"\"\n",
    "Possible answers:\n",
    "\n",
    "    docker run -it ubuntu and stop\n",
    "\n",
    "    docker run ubuntu -it and stop\n",
    "\n",
    "    docker run ubuntu -shell and exit\n",
    "\n",
    "    docker run -it ubuntu and exit {Answer}\n",
    "\"\"\"\n",
    "\n",
    "# solution\n",
    "\n",
    "\n",
    "\n",
    "#----------------------------------#\n",
    "\n",
    "# Conclusion\n",
    "\n",
    "\"\"\"\n",
    "Exactly! The i and t flag are actually two separate flags with different effects. However they are almost always used together and it's much easier to remember them as the flag to make a container interactive.\n",
    "\"\"\""
   ]
  },
  {
   "cell_type": "code",
   "execution_count": 3,
   "metadata": {
    "tags": []
   },
   "outputs": [
    {
     "data": {
      "text/plain": [
       "'\\n\\n'"
      ]
     },
     "execution_count": 3,
     "metadata": {},
     "output_type": "execute_result"
    }
   ],
   "source": [
    "# exercise 04\n",
    "\n",
    "\"\"\"\n",
    "What is my container doing?\n",
    "\n",
    "You've started a container to analyze some data. Usually, this container exits after a few minutes, but this time it just keeps running. Find the issue by looking at the logs of the already running container.\n",
    "\"\"\"\n",
    "\n",
    "# Instructions\n",
    "\n",
    "\"\"\"\n",
    "Possible answers:\n",
    "    \n",
    "    The workflow can't find the input data.\n",
    "    \n",
    "    The workflow can't find its configuration file. {Answer}\n",
    "    \n",
    "    The workflow isn't using the correct version of python.\n",
    "    \n",
    "    All of the above.\n",
    "\"\"\"\n",
    "\n",
    "# solution\n",
    "\n",
    "docker logs <container-id>\n",
    "\n",
    "#----------------------------------#\n",
    "\n",
    "# Conclusion\n",
    "\n",
    "\"\"\"\n",
    "Exactly! Looking at logs is a great way to debug issues, also when working with containers.\n",
    "\"\"\""
   ]
  },
  {
   "cell_type": "code",
   "execution_count": 4,
   "metadata": {
    "tags": []
   },
   "outputs": [
    {
     "data": {
      "text/plain": [
       "'\\n\\n'"
      ]
     },
     "execution_count": 4,
     "metadata": {},
     "output_type": "execute_result"
    }
   ],
   "source": [
    "# exercise 05\n",
    "\n",
    "\"\"\"\n",
    "Helping a colleague\n",
    "\n",
    "You're working on a project of your own and have quite a few containers running when your colleague asks you to debug an issue he's having. You've got some time to help your colleague, but you want to make sure you can find his container among all the ones you already have running.\n",
    "\"\"\"\n",
    "\n",
    "# Instructions\n",
    "\n",
    "\"\"\"\n",
    "\n",
    "    Using the terminal, enter the command to run the my_project image detached from your shell while giving it the colleague_project name.\n",
    "    To run an image in detached mode use the -d flag, without using this flag the image will run connected to your shell making it unusable. If this happens you can refresh the page.\n",
    "---\n",
    "    The container should be running now. Make sure it is by filtering the running containers using the name colleague_project you gave the container.\n",
    "---\n",
    "    Now that you're sure the container is running look at the logs using the container's name, colleague_project.\n",
    "\n",
    "\"\"\"\n",
    "\n",
    "# solution\n",
    "\n",
    "docker run -d --name colleague_project my_project\n",
    "\n",
    "#----------------------------------#\n",
    "\n",
    "docker ps -f \"name=colleague_project\"\n",
    "\n",
    "#----------------------------------#\n",
    "\n",
    "docker logs colleague_project\n",
    "\n",
    "#----------------------------------#\n",
    "\n",
    "# Conclusion\n",
    "\n",
    "\"\"\"\n",
    "Nice work! Naming containers really helps keep an overview once you're working on multiple tasks simultaneously.\n",
    "\"\"\""
   ]
  },
  {
   "cell_type": "code",
   "execution_count": 5,
   "metadata": {
    "tags": []
   },
   "outputs": [
    {
     "data": {
      "text/plain": [
       "'\\n\\n'"
      ]
     },
     "execution_count": 5,
     "metadata": {},
     "output_type": "execute_result"
    }
   ],
   "source": [
    "# exercise 06\n",
    "\n",
    "\"\"\"\n",
    "Cleaning up containers\n",
    "\n",
    "You were able to find the issue with your colleague's container and help him fix it. Before you return to your project, you want to clean up the container you just started to help your colleague.\n",
    "\"\"\"\n",
    "\n",
    "# Instructions\n",
    "\n",
    "\"\"\"\n",
    "\n",
    "    Using the terminal, enter the command to stop the colleague_project container.\n",
    "---\n",
    "    Now that the container is stopped use the terminal to remove the container.\n",
    "\n",
    "\"\"\"\n",
    "\n",
    "# solution\n",
    "\n",
    "docker stop colleague_project\n",
    "\n",
    "#----------------------------------#\n",
    "\n",
    "docker rm colleague_project\n",
    "\n",
    "#----------------------------------#\n",
    "\n",
    "# Conclusion\n",
    "\n",
    "\"\"\"\n",
    "Nice cleaning! It never hurts to keep a clean environment, and removing old containers is a good step in that direction.\n",
    "\"\"\""
   ]
  },
  {
   "cell_type": "code",
   "execution_count": 6,
   "metadata": {
    "tags": []
   },
   "outputs": [
    {
     "data": {
      "text/plain": [
       "'\\n\\n'"
      ]
     },
     "execution_count": 6,
     "metadata": {},
     "output_type": "execute_result"
    }
   ],
   "source": [
    "# exercise 07\n",
    "\n",
    "\"\"\"\n",
    "Pulling your first image\n",
    "\n",
    "Let's get some practice working with images. To start, we've removed the hello-world image from your session. Make it accessible locally again by downloading it from docker-hub.\n",
    "\"\"\"\n",
    "\n",
    "# Instructions\n",
    "\n",
    "\"\"\"\n",
    "\n",
    "    Using the terminal, enter the command to download the hello-world container.\n",
    "\n",
    "\"\"\"\n",
    "\n",
    "# solution\n",
    "\n",
    "docker pull hello-world\n",
    "\n",
    "#----------------------------------#\n",
    "\n",
    "# Conclusion\n",
    "\n",
    "\"\"\"\n",
    "Great work pulling your first image! If you want to know what else is available, take a look at hub.docker.com.\n",
    "\"\"\""
   ]
  },
  {
   "cell_type": "code",
   "execution_count": 7,
   "metadata": {
    "tags": []
   },
   "outputs": [
    {
     "data": {
      "text/plain": [
       "'\\n\\n'"
      ]
     },
     "execution_count": 7,
     "metadata": {},
     "output_type": "execute_result"
    }
   ],
   "source": [
    "# exercise 08\n",
    "\n",
    "\"\"\"\n",
    "Pulling a specific tag\n",
    "\n",
    "You were helping a colleague by looking at an issue they were having with installing some of their tools on the ubuntu image. You couldn't reproduce the issues so far, and just realized you might be trying on a different version of Ubuntu.\n",
    "\"\"\"\n",
    "\n",
    "# Instructions\n",
    "\n",
    "\"\"\"\n",
    "\n",
    "    Using the terminal, enter the command to see all images available on your machine.\n",
    "---\n",
    "    Seems like you are not using the same version as your colleague, who is using the 22.04 tag of ubuntu. Pull the right version, 22.04, of the ubuntu image.\n",
    "\n",
    "\"\"\"\n",
    "\n",
    "# solution\n",
    "\n",
    "docker images\n",
    "\n",
    "#----------------------------------#\n",
    "\n",
    "docker pull ubuntu:22.04\n",
    "\n",
    "#----------------------------------#\n",
    "\n",
    "# Conclusion\n",
    "\n",
    "\"\"\"\n",
    "Well done! It's always good practice to check if your using the expected version of an image.\n",
    "\"\"\""
   ]
  },
  {
   "cell_type": "code",
   "execution_count": 8,
   "metadata": {
    "tags": []
   },
   "outputs": [
    {
     "data": {
      "text/plain": [
       "'\\n\\n'"
      ]
     },
     "execution_count": 8,
     "metadata": {},
     "output_type": "execute_result"
    }
   ],
   "source": [
    "# exercise 09\n",
    "\n",
    "\"\"\"\n",
    "Cleaning up images\n",
    "\n",
    "The project you were working on is done. You had to use and try several docker containers and images and would like to clear up some space on your system before starting your next project. You remember using the ubuntu image last and know you won't need it for your next project.\n",
    "\"\"\"\n",
    "\n",
    "# Instructions\n",
    "\n",
    "\"\"\"\n",
    "\n",
    "    Using the terminal, enter the command to remove the ubuntu image.\n",
    "---\n",
    "    The ubuntu image failed to remove since it still has a container using it. To be sure you can clean up your images, remove all stopped containers.\n",
    "---\n",
    "    Now that all stopped containers are removed, also remove all unused images.\n",
    "\n",
    "\"\"\"\n",
    "\n",
    "# solution\n",
    "\n",
    "docker image rm ubuntu\n",
    "\n",
    "#----------------------------------#\n",
    "\n",
    "docker container prune\n",
    "\n",
    "#----------------------------------#\n",
    "\n",
    "docker images prune -a\n",
    "\n",
    "#----------------------------------#\n",
    "\n",
    "# Conclusion\n",
    "\n",
    "\"\"\"\n",
    "Well cleaned! Once you start experimenting with different images, your disk can quickly fill up. When that happens, these commands can help.\n",
    "\"\"\""
   ]
  },
  {
   "cell_type": "code",
   "execution_count": 9,
   "metadata": {
    "tags": []
   },
   "outputs": [
    {
     "data": {
      "text/plain": [
       "'\\n\\n'"
      ]
     },
     "execution_count": 9,
     "metadata": {},
     "output_type": "execute_result"
    }
   ],
   "source": [
    "# exercise 10\n",
    "\n",
    "\"\"\"\n",
    "Sharing your work using a Docker registry\n",
    "\n",
    "Your company is developing a new spam filter method. You think you've found a good method and would like to share your results with your colleague in a way that allows them to verify your results. You've decided that using a Docker image with all your code and datasets is the right approach. You've already created this image on your local machine and called it spam:v1. The next step is to push this image to your company's registry docker.mycompany.com so that your colleagues can build upon your work.\n",
    "\"\"\"\n",
    "\n",
    "# Instructions\n",
    "\n",
    "\"\"\"\n",
    "Using the terminal, enter the command to tag the spam:v1 container so it can be pushed to docker.mycompany.com.\n",
    "---\n",
    "Using the terminal, enter the command to push the docker.mycompany.com/spam:v1 image to the docker.mycompany.com registry.\n",
    "\"\"\"\n",
    "\n",
    "# solution\n",
    "\n",
    "docker tag spam:v1 docker.mycompany.com/spam:v1\n",
    "\n",
    "#----------------------------------#\n",
    "\n",
    "docker image push docker.mycompany.com/spam:v1\n",
    "\n",
    "#----------------------------------#\n",
    "\n",
    "# Conclusion\n",
    "\n",
    "\"\"\"\n",
    "Good push! But what if you only want to show your work to a few colleagues? Give it a try in the next exercise.\n",
    "\"\"\""
   ]
  },
  {
   "cell_type": "code",
   "execution_count": null,
   "metadata": {},
   "outputs": [],
   "source": [
    "# exercise 11\n",
    "\n",
    "\"\"\"\n",
    "Saving an image to a file\n",
    "\n",
    "After you pushed your image to the company's registry, you got a lot of feedback from your colleagues. You addressed the most important feedback and would like to share your new Docker image, spam:v2, with just a few colleagues before you share it with the entire company again. Save your new Docker image to a file called spam_updated.tar so you can email it to your colleagues Alice and Bob.\n",
    "\"\"\"\n",
    "\n",
    "# Instructions\n",
    "\n",
    "\"\"\"\n",
    "\n",
    "    Using the terminal, enter the command to save spam:v2 to a file called spam_updated.tar.\n",
    "\n",
    "\"\"\"\n",
    "\n",
    "# solution\n",
    "\n",
    "docker save -o spam_updated.tar spam:v2\n",
    "\n",
    "#----------------------------------#\n",
    "\n",
    "# Conclusion\n",
    "\n",
    "\"\"\"\n",
    "Nice save! The file you just created can now be shared with anybody, just like you would share an image or any other file type.\n",
    "\"\"\""
   ]
  },
  {
   "cell_type": "code",
   "execution_count": null,
   "metadata": {},
   "outputs": [],
   "source": [
    "# exercise 12\n",
    "\n",
    "\"\"\"\n",
    "Receiving Docker Images\n",
    "\n",
    "Your company is still working on that new spam filter! Your colleague Bob made possible improvements to your work and sent you a tar file. Another colleague, Alice, has pushed her version to the company's dockerhub, docker.mycompany.com. It's now up to you to run both containers and find out which runs fastest.\n",
    "\"\"\"\n",
    "\n",
    "# Instructions\n",
    "\n",
    "\"\"\"\n",
    "Using the terminal, enter the command to pull the container your colleague Alice made, spam_alice:v3, from the company's Docker Hub registry, docker.mycompany.com.\n",
    "---\n",
    "Run the container you just pulled, docker.mycompany.com/spam_alice:v3, to see how good its spam detection algorithm is.\n",
    "---\n",
    "Using the terminal, enter the command to open the tar file your colleague Bob sent you, spam_bob.tar.\n",
    "---\n",
    "Just like you did for Alice's container, run Bob's container, spam_bob:v3, to see how good its spam detection algorithm is.\n",
    "\"\"\"\n",
    "\n",
    "# solution\n",
    "\n",
    "docker pull docker.mycompany.com/spam_alice:v3\n",
    "\n",
    "#----------------------------------#\n",
    "\n",
    "docker run docker.mycompany.com/spam_alice:v3\n",
    "\n",
    "#----------------------------------#\n",
    "\n",
    "docker load --i spam_bob.tar\n",
    "\n",
    "#----------------------------------#\n",
    "\n",
    "docker run spam_bob:v3\n",
    "\n",
    "#----------------------------------#\n",
    "\n",
    "# Conclusion\n",
    "\n",
    "\"\"\"\n",
    "Great progress! You've shown you can work with Docker containers; now it's time to start making your own in the next chapter!\n",
    "\"\"\""
   ]
  }
 ],
 "metadata": {
  "kernelspec": {
   "display_name": "Python 3 (ipykernel)",
   "language": "python",
   "name": "python3"
  },
  "language_info": {
   "codemirror_mode": {
    "name": "ipython",
    "version": 3
   },
   "file_extension": ".py",
   "mimetype": "text/x-python",
   "name": "python",
   "nbconvert_exporter": "python",
   "pygments_lexer": "ipython3",
   "version": "3.12.3"
  }
 },
 "nbformat": 4,
 "nbformat_minor": 4
}
