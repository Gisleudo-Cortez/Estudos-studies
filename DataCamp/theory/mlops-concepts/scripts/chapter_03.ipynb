{
 "cells": [
  {
   "cell_type": "code",
   "execution_count": 1,
   "metadata": {
    "editable": true,
    "slideshow": {
     "slide_type": ""
    },
    "tags": []
   },
   "outputs": [],
   "source": [
    "# run this to shorten the data import from the files\n",
    "import os\n",
    "cwd = os.path.dirname(os.getcwd())+'/'\n",
    "path_data = os.path.join(os.path.dirname(os.getcwd()), 'datasets/')\n"
   ]
  },
  {
   "cell_type": "markdown",
   "metadata": {},
   "source": [
    "# Runtime environments\n",
    "\n",
    "After the machine learning model has been developed, you need to prepare the machine learning model for deployment. This means that you need to take care of different runtime environments.\n",
    "\n",
    "What is true about runtime environments?\n",
    "\n",
    "### Possible Answers\n",
    "\n",
    "\n",
    "    Runtime environments differ because different people work on the machine learning model.\n",
    "    \n",
    "    \n",
    "    Runtime environments should always be exactly the same, in development as well as in production.\n",
    "    \n",
    "    \n",
    "    Runtime environments need to be accounted for because the same code might not function for different versions of programming languages.{Answer}\n",
    "    \n",
    "    \n",
    "    Runtime environments should always be different because you don't want the same code to work in different environments."
   ]
  },
  {
   "cell_type": "markdown",
   "metadata": {},
   "source": [
    "# Containerization\n",
    "\n",
    "Different runtime environments can be mitigated by using containerization. This can greatly benefit the machine learning deployment process.\n",
    "\n",
    "In this exercise, you will classify what is true and false about containerization.\n",
    "\n",
    "![Answer](/home/nero/Documents/Estudos/DataCamp/theory/mlops-concepts/ch_03-01.png)"
   ]
  },
  {
   "cell_type": "markdown",
   "metadata": {},
   "source": [
    "# Microservice\n",
    "\n",
    "Using a microservices architecture allows multiple teams to work on isolated parts of the application since problems in one microservice won't affect other microservices. This also helps to scale up different services in your application since they function independently.\n",
    "\n",
    "What is the best explanation of a microservice architecture?\n",
    "\n",
    "### Possible Answers\n",
    "\n",
    "\n",
    "    A microservice architecture structures services as cogs in a machine; each service depends on other cogs, and once a cog is broken, the application won't work anymore.\n",
    "    \n",
    "    \n",
    "    A microservice architecture specifies that each service in an application should be built as small as possible.\n",
    "    \n",
    "    \n",
    "    A microservice architecture is primarily used in small businesses that only have a small number of services.\n",
    "    \n",
    "    \n",
    "    A microservice architecture structures an application as a collection of separate, loosely coupled services. {Answwer}\n",
    "    \n",
    "    "
   ]
  },
  {
   "cell_type": "markdown",
   "metadata": {},
   "source": [
    "# API data flow\n",
    "\n",
    "As you've seen, an Application Programming Interface (API) allows for communication between services. This allows your application to communicate data to and from the machine learning model.\n",
    "\n",
    "Application programming interface excluding information\n",
    "![API](/home/nero/Documents/Estudos/DataCamp/theory/mlops-concepts/ch_03-02-question.png)\n",
    "\n",
    "In this exercise, you will order the steps in the data flow of an API request to a machine learning model.\n",
    "\n",
    "![Answer](/home/nero/Documents/Estudos/DataCamp/theory/mlops-concepts/ch_03-02.png)"
   ]
  },
  {
   "cell_type": "markdown",
   "metadata": {},
   "source": [
    "# CI/CD pipelines\n",
    "\n",
    "As you've seen, a solid CI/CD pipeline facilitates an easy process to deploy your machine learning model.\n",
    "\n",
    "CI/CD pipeline\n",
    "![CICD](/home/nero/Documents/Estudos/DataCamp/theory/mlops-concepts/ch_03-03-pipeline.png)\n",
    "\n",
    "What is true about CI/CD pipelines?\n",
    "\n",
    "### Possible Answers\n",
    "\n",
    "\n",
    "    A CI/CD pipeline makes it difficult to detect errors in your code because the checks are automated.\n",
    "    \n",
    "    \n",
    "    Continuous integration happens once the code is completed, while continuous delivery happens during the writing of code.\n",
    "    \n",
    "    \n",
    "    The CI/CD pipeline is a manual sequence of steps that every programmer goes through before deploying code.\n",
    "    \n",
    "    \n",
    "    The CI/CD pipeline enables automation by having automated build-and-test steps with each incremental code change.{Answer}\n"
   ]
  },
  {
   "cell_type": "markdown",
   "metadata": {},
   "source": [
    "# Deployment strategies\n",
    "\n",
    "While deploying the machine learning model, it is strongly recommended to test if the new model works as expected. To do this, you can use different deployment strategies.\n",
    "\n",
    "In this exercise, you will see different characteristics of deployment strategies (basic, shadow, and canary deployment). Your task is to match each characteristic with the appropriate deployment strategy.\n",
    "\n",
    "![Answer](/home/nero/Documents/Estudos/DataCamp/theory/mlops-concepts/ch_03-04.png)"
   ]
  },
  {
   "cell_type": "markdown",
   "metadata": {},
   "source": [
    "# How components automate and scale\n",
    "\n",
    "Automation and scaling can greatly improve the speed and quality of the processes within the machine learning lifecycle.\n",
    "\n",
    "In this exercise, you will classify how a certain component contributes to both automation and scaling. You will drag and drop the problem to the correct component.\n",
    "\n",
    "![Answer](/home/nero/Documents/Estudos/DataCamp/theory/mlops-concepts/ch_03-05.png)"
   ]
  },
  {
   "cell_type": "markdown",
   "metadata": {},
   "source": [
    "# MLOps components\n",
    "\n",
    "The tasks for machine learning development and deployment can be quite complex. Therefore, it is important to be able to identify the components that are useful for maximizing automation and scalability.\n",
    "\n",
    "Below are four components that have been discussed from the machine learning lifecycle; which one does not contribute to automation or scalability?\n",
    "\n",
    "### Possible Answers\n",
    "\n",
    "\n",
    "    A microservice that can scale when it receives more requests than expected.\n",
    "    \n",
    "    \n",
    "    A CI/CD pipeline that automatically deploys the latest model when it is finished.\n",
    "    \n",
    "    \n",
    "    The data quality dimensions to see in what areas you could improve the data. {Answer}\n",
    "    \n",
    "    \n",
    "    A tracking tool that allows visibility into the experiments that were previously conducted."
   ]
  }
 ],
 "metadata": {
  "kernelspec": {
   "display_name": "Python 3 (ipykernel)",
   "language": "python",
   "name": "python3"
  },
  "language_info": {
   "codemirror_mode": {
    "name": "ipython",
    "version": 3
   },
   "file_extension": ".py",
   "mimetype": "text/x-python",
   "name": "python",
   "nbconvert_exporter": "python",
   "pygments_lexer": "ipython3",
   "version": "3.11.6"
  }
 },
 "nbformat": 4,
 "nbformat_minor": 4
}
