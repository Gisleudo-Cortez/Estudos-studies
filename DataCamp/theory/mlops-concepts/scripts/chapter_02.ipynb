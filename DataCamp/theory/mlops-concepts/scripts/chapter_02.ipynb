{
 "cells": [
  {
   "cell_type": "code",
   "execution_count": 1,
   "metadata": {
    "editable": true,
    "slideshow": {
     "slide_type": ""
    },
    "tags": []
   },
   "outputs": [],
   "source": [
    "# run this to shorten the data import from the files\n",
    "import os\n",
    "cwd = os.path.dirname(os.getcwd())+'/'\n",
    "path_data = os.path.join(os.path.dirname(os.getcwd()), 'datasets/')\n"
   ]
  },
  {
   "cell_type": "markdown",
   "metadata": {},
   "source": [
    "# Determine the added value\n",
    "\n",
    "You've just learned about the design phase of the machine learning lifecycle. During the design phase, it is often wise to determine the added value of the project. This can serve as a justification and motivation for the project to move forward. In this exercise, you will determine the value of a potential project.\n",
    "You've just landed a job as a data scientist at a financial institution called MoneyCorp that aims to use machine learning to predict fraudulent transactions. At MoneyCorp, they get a transaction fee of 0.1% of the total transaction amount if that transaction is legal. If it is fraudulent, the money is lost, and it takes an agent from customer service time to undo the transaction, resulting in a cost of $5 per fraudulent transaction. Historically, MoneyCorp finds that they have 10,000 fraudulent transactions per month with a total transaction amount of $300,000. In recent literature, you find that you can expect to be able classify at least 70% of fraudulent transactions.\n",
    "\n",
    "How much money can you save per month by implementing machine learning?\n",
    "\n",
    "### Possible Answers\n",
    "\n",
    "\n",
    "    $300,000 fraudulent transaction amount x 0.1% transaction fee = $300\n",
    "    \n",
    "    \n",
    "    10,000 transactions x $5 per transaction = $50,000\n",
    "    \n",
    "    \n",
    "    10,000 transactions x 70% accuracy x $5 per transaction = $35,000 {Answer}\n",
    "    \n",
    "    \n",
    "    $300,000 fraudulent transaction amount x 70% accuracy x 0.1% transaction fee = $210"
   ]
  },
  {
   "cell_type": "markdown",
   "metadata": {},
   "source": [
    "# Identifying business requirements\n",
    "\n",
    "During the design phase, it is also important to identify the business requirements, such that the developed and deployed machine learning model can actually be used in the business process.\n",
    "Similar to the previous exercise, you are still a data scientist working at MoneyCorp to predict fraudulent transactions. Which requirement is the least likely to be a business requirement?\n",
    "\n",
    "### Possible Answers\n",
    "\n",
    "\n",
    "    The machine learning model should make a correct prediction in 9 out of 10 cases.\n",
    "    \n",
    "    \n",
    "    Since you are working in a financial institution, the model will need to adhere to regulatory requirements and be compliant with financial law.\n",
    "    \n",
    "    \n",
    "    The machine learning model should output whether the transaction is fraudulent quickly, before the customer service agent spends time undoing the transaction.\n",
    "    \n",
    "    \n",
    "    The most advanced, state-of-the-art model should be used, even if the predictions are harder to explain. {Answer}\n",
    "    \n",
    "    "
   ]
  },
  {
   "cell_type": "markdown",
   "metadata": {},
   "source": [
    "# Key metrics\n",
    "\n",
    "Since machine learning projects require multidisciplinary effort, it is wise to align the different metrics that each of the roles involved in the project will track to determine success. This justifies and motivates the project throughout the machine learning lifecycle.\n",
    "\n",
    "In this exercise, you will identify which metrics belong to which stakeholder.\n",
    "\n",
    "![Answer](/home/nero/Documents/Estudos/DataCamp/theory/mlops-concepts/ch_02-01.png)"
   ]
  },
  {
   "cell_type": "markdown",
   "metadata": {},
   "source": [
    "# What is data quality?\n",
    "\n",
    "At the core of the machine learning model is data. Successfully developing a machine learning model often falls or stands with the quality of the available data. Data dimensions provide different ways through which we can describe data, such as accuracy, completeness, consistency, and timeliness.\n",
    "\n",
    "What is true about data quality?\n",
    "\n",
    "### Possible Answers\n",
    "\n",
    "\n",
    "    Data quality is subjective; everyone will have a different opinion about how high the quality of the data is.\n",
    "    \n",
    "    \n",
    "    Data quality can be defined in dimensions, which makes it easier to determine the data quality. {Answer}\n",
    "    \n",
    "    \n",
    "    If the data quality is low, the machine learning project will always fail.\n",
    "    \n",
    "    \n",
    "    Data quality is always as-is; you can't improve the data quality by finding more sources or filling in missing data with some business logic."
   ]
  },
  {
   "cell_type": "markdown",
   "metadata": {},
   "source": [
    "# Data quality dimensions\n",
    "\n",
    "To determine the quality of a dataset, it is quite valuable to investigate each data quality dimension individually. This helps to identify the dimensions where the data quality is sufficient and where it can be improved.\n",
    "In this exercise, you'll classify the data issues into the data quality dimensions they belong to.\n",
    "\n",
    "![Answer](/home/nero/Documents/Estudos/DataCamp/theory/mlops-concepts/ch_02-02.png)"
   ]
  },
  {
   "cell_type": "markdown",
   "metadata": {},
   "source": [
    "# Feature store\n",
    "\n",
    "You've just learned about feature engineering and the feature store in the machine learning lifecycle. The feature store is a great tool to improve the speed and structure of machine learning tasks.\n",
    "\n",
    "Complete the sentence: A feature store is…\n",
    "\n",
    "### Possible Answers\n",
    "\n",
    "\n",
    "    …a philosophy on how to store data in a centralized place.\n",
    "    \n",
    "    \n",
    "    …a kind of shop where data scientists can acquire features they need for a project.\n",
    "    \n",
    "    \n",
    "    …a tool for storing commonly used features. {Answer}\n",
    "    \n",
    "    \n",
    "    …a principle through which everyone always uses the same type of features."
   ]
  },
  {
   "cell_type": "markdown",
   "metadata": {},
   "source": [
    "# When to use a feature store?\n",
    "\n",
    "Even though a feature store is a great tool, it is not always necessary to use one, and it could be counterproductive if done at the wrong time.\n",
    "You are working as a data scientist in a company called Feature Inc. A key business stakeholder recently heard about feature stores and is now urging you to use one because of how cool they sound. In what case would it be wise to start using a feature store?\n",
    "\n",
    "### Possible Answers\n",
    "\n",
    "\n",
    "    You are the only data scientist at Feature Inc. and have just started working on the first machine learning project there.\n",
    "    \n",
    "    \n",
    "    You and another data scientist are both working on machine learning projects, and there is no overlap between the features you both use.\n",
    "    \n",
    "    \n",
    "    You are working on the ninth machine learning project in a large team of data scientists and are using the same set of features repeatedly. {Answer}\n",
    "    \n",
    "    \n",
    "    You will soon start working on the third project together with two other data scientists, for which you repeatedly use the exact same dataset.\n",
    "\n",
    "**That is correct! When you want to collaborate with multiple people on multiple project that share the same feature sets, it is a great time to start using a feature store. In this way, you can avoid doing the same repeated work to get the same features.**"
   ]
  },
  {
   "cell_type": "markdown",
   "metadata": {},
   "source": [
    "# What can we track?\n",
    "\n",
    "As you've seen thus far, in machine learning experiments, you alter certain factors to find the most suitable model. Tracking those factors is important to ensure an efficient and reliable development process.\n",
    "\n",
    "What are the components of machine learning model experiments that you can track?\n",
    "\n",
    "### Possible Answers\n",
    "\n",
    "\n",
    "    Different versions of training datasets\n",
    "    \n",
    "    \n",
    "    Model hyperparameters\n",
    "    \n",
    "    \n",
    "    Types of models\n",
    "    \n",
    "    \n",
    "    All of the above {Answer}"
   ]
  },
  {
   "cell_type": "markdown",
   "metadata": {},
   "source": [
    "# The order of a machine learning experiment\n",
    "\n",
    "For machine learning experiments, it is important to have a reliable and reproducible process. To enforce this, a solid process with pre-defined steps is very useful.\n",
    "\n",
    "In this exercise, you will order the activities in machine learning experiments that allow the development process to be as reliable and reproducible as possible.\n",
    "\n",
    "![Answer](/home/nero/Documents/Estudos/DataCamp/theory/mlops-concepts/ch_02-03.png)"
   ]
  }
 ],
 "metadata": {
  "kernelspec": {
   "display_name": "Python 3 (ipykernel)",
   "language": "python",
   "name": "python3"
  },
  "language_info": {
   "codemirror_mode": {
    "name": "ipython",
    "version": 3
   },
   "file_extension": ".py",
   "mimetype": "text/x-python",
   "name": "python",
   "nbconvert_exporter": "python",
   "pygments_lexer": "ipython3",
   "version": "3.11.6"
  }
 },
 "nbformat": 4,
 "nbformat_minor": 4
}
