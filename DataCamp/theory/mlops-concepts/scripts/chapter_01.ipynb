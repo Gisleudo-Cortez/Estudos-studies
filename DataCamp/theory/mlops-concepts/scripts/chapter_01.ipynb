{
 "cells": [
  {
   "cell_type": "code",
   "execution_count": 1,
   "metadata": {
    "editable": true,
    "slideshow": {
     "slide_type": ""
    },
    "tags": []
   },
   "outputs": [],
   "source": [
    "# run this to shorten the data import from the files\n",
    "import os\n",
    "cwd = os.path.dirname(os.getcwd())+'/'\n",
    "path_data = os.path.join(os.path.dirname(os.getcwd()), 'datasets/')\n"
   ]
  },
  {
   "cell_type": "markdown",
   "metadata": {},
   "source": [
    "# What is not MLOps?\n",
    "\n",
    "Since machine learning development and deployment is a complex process, MLOps originated to organize the processes involved. This can greatly help in getting machine learning into production.\n",
    "\n",
    "**What is not true about MLOps?**\n",
    "\n",
    "### Possible Answers\n",
    "\n",
    "\n",
    "    MLOps focuses on machine learning development and deployment in production.\n",
    "    \n",
    "    \n",
    "    MLOps helps in structuring the machine learning development process.\n",
    "    \n",
    "    \n",
    "    MLOps focuses on software development in production. {Answer}\n",
    "    \n",
    "    \n",
    "    MLOps stands for Machine Learning Operations and describes the set of practices and tools in machine learning development and deployment."
   ]
  },
  {
   "cell_type": "markdown",
   "metadata": {},
   "source": [
    "#  WhatOps for what?\n",
    "\n",
    "You have learned about the different types of 'Ops' that exist in the field. Even though they overlap, each type of operations aims to solve its own challenges. In this exercise, you will distinguish which challenge belongs to which Ops.\n",
    "\n",
    "![Answer](/home/nero/Documents/Estudos/DataCamp/theory/mlops-concepts/ch_01-01.png)"
   ]
  },
  {
   "cell_type": "markdown",
   "metadata": {},
   "source": [
    "# The ML lifecycle\n",
    "\n",
    "The machine learning lifecycle is a key concept within MLOps. There are three distinct phases in the machine learning lifecycle: design, development, and deployment. Following these phases can greatly help in structuring your machine learning project.\n",
    "\n",
    "What is true about the machine learning lifecycle?\n",
    "\n",
    "### Possible Answers\n",
    "\n",
    "\n",
    "    The most important phase is the development phase since the actual machine learning model is built during this phase.\n",
    "    \n",
    "    \n",
    "    Once you've finished the design phase, you will move into the development phase and not go back to the design phase.\n",
    "    \n",
    "    \n",
    "    The machine learning lifecycle is an iterative and cyclical process where it is not uncommon to go back and forth between phases. {Answer}\n",
    "    \n",
    "    \n",
    "    The machine learning lifecycle consists of two phases, the design phase, and the development phase."
   ]
  },
  {
   "cell_type": "markdown",
   "metadata": {},
   "source": [
    "# Tasks per phase\n",
    "\n",
    "In each phase, we can distinguish different tasks. Identifying the different tasks can help to see who is involved in that task, and what practices or tools we can apply to that task.\n",
    "\n",
    "In this exercise, you will classify which tasks are part of which phase.\n",
    "\n",
    "![Answer](/home/nero/Documents/Estudos/DataCamp/theory/mlops-concepts/ch_01-02.png)"
   ]
  },
  {
   "cell_type": "markdown",
   "metadata": {},
   "source": [
    "# Your MLOps team\n",
    "\n",
    "You just learned about the potential roles that are involved in MLOps processes. Even though the precise names of roles can differ for different projects or companies, there are core responsibilities to each role that are required in every project. Having clearly defined roles allows every role to focus on its own set of responsibilities which streamlines MLOps processes.\n",
    "\n",
    "Imagine you are a data scientist, and you work in a team where you are training a machine learning model to use in your business. You have hired someone to collect, process, and store data for you, but you need someone to deploy the model once it is finished. For which role should you create a vacancy?\n",
    "\n",
    "### Possible Answers\n",
    "\n",
    "\n",
    "    Business stakeholder\n",
    "    \n",
    "    \n",
    "    Data engineer\n",
    "    \n",
    "    \n",
    "    Software engineer {Answer}\n",
    "    \n",
    "    \n",
    "    Subject matter expert\n",
    "\n",
    "**The software engineer is responsible for deploying the model. Having clear roles and responsibilities leaves no confusion as to who does what, which can greatly speed up the lifecycle.**"
   ]
  },
  {
   "cell_type": "markdown",
   "metadata": {},
   "source": [
    "# Core roles in MLOps processes\n",
    "\n",
    "You now know about the wide variety of roles that are involved in the machine learning lifecycle. Each role has its own responsibilities and, thus, relevance within the MLOps processes.\n",
    "\n",
    "In this exercise, you will look at the three core roles involved. Let's see if you can distinguish who is responsible for which task.\n",
    "\n",
    "![Answer](/home/nero/Documents/Estudos/DataCamp/theory/mlops-concepts/ch_01-03.png)"
   ]
  }
 ],
 "metadata": {
  "kernelspec": {
   "display_name": "Python 3 (ipykernel)",
   "language": "python",
   "name": "python3"
  },
  "language_info": {
   "codemirror_mode": {
    "name": "ipython",
    "version": 3
   },
   "file_extension": ".py",
   "mimetype": "text/x-python",
   "name": "python",
   "nbconvert_exporter": "python",
   "pygments_lexer": "ipython3",
   "version": "3.11.6"
  }
 },
 "nbformat": 4,
 "nbformat_minor": 4
}
