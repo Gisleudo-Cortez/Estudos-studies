{
 "cells": [
  {
   "cell_type": "code",
   "execution_count": 1,
   "metadata": {
    "editable": true,
    "slideshow": {
     "slide_type": ""
    },
    "tags": []
   },
   "outputs": [],
   "source": [
    "# run this to shorten the data import from the files\n",
    "import os\n",
    "cwd = os.path.dirname(os.getcwd())+'/'\n",
    "path_data = os.path.join(os.path.dirname(os.getcwd()), 'datasets/')\n"
   ]
  },
  {
   "cell_type": "markdown",
   "metadata": {},
   "source": [
    "# Machine learning monitoring\n",
    "\n",
    "You've just learned about machine learning monitoring. Machine learning monitoring is the process of checking whether your model still works.\n",
    "\n",
    "What statement is true about machine learning monitoring?\n",
    "\n",
    "### Possible Answers\n",
    "\n",
    "\n",
    "    You should start monitoring after the machine learning model has been in production for a while.\n",
    "    \n",
    "    \n",
    "    Monitoring the machine learning model is only necessary if your project requires it.\n",
    "    \n",
    "    \n",
    "    Machine learning monitoring is essential to make sure you have a healthy and useful model in production. {Answer}\n",
    "    \n",
    "    \n",
    "    You should choose whether you want to monitor the statistical or computational performance of the model."
   ]
  },
  {
   "cell_type": "markdown",
   "metadata": {},
   "source": [
    "# Statistical vs. computational monitoring\n",
    "\n",
    "It is best practice to monitor the machine learning model as soon as it is deployed. The performance of machine learning models can be monitored statistically as well as computationally. Monitoring in different ways is important because your model can be live in production and seem fine, while the predictions can be wrong.\n",
    "\n",
    "In this exercise, you will classify which metric belongs to which type of performance monitoring.\n",
    "\n",
    "![Answer](/home/nero/Documents/Estudos/DataCamp/theory/mlops-concepts/ch_04-01.png)"
   ]
  },
  {
   "cell_type": "markdown",
   "metadata": {},
   "source": [
    "# Examples of drift\n",
    "\n",
    "Data drift often does not impact your machine learning model. However, concept drift can impact the quality of your machine learning model, since the patterns it was trained on earlier have changed.\n",
    "\n",
    "In this exercise, you will classify which example belongs to which of the two, data drift or concept drift.\n",
    "\n",
    "![Answer](/home/nero/Documents/Estudos/DataCamp/theory/mlops-concepts/ch_04-02.png)"
   ]
  },
  {
   "cell_type": "markdown",
   "metadata": {},
   "source": [
    "# Retraining\n",
    "\n",
    "While monitoring the machine learning model, you might find that the model performance has dropped and may require retraining.\n",
    "\n",
    "What is not a reason to retrain a machine learning model?\n",
    "\n",
    "### Possible Answers\n",
    "\n",
    "\n",
    "    The statistical model performance metrics have deteriorated.\n",
    "    \n",
    "    \n",
    "    You should aim to retrain the machine learning model as much as possible. {Answer}\n",
    "    \n",
    "    \n",
    "    The distribution of predictions has changed from the predictions that were observed during development.\n",
    "    \n",
    "    \n",
    "    Domain experts have determined that the current data is not a sufficient representation of reality."
   ]
  },
  {
   "cell_type": "markdown",
   "metadata": {},
   "source": [
    "# MLOps maturity\n",
    "\n",
    "As you've just learned, the machine learning pipeline can either be completely manual or completely automated. In between are different levels of MLOps maturity.\n",
    "\n",
    "Imagine you have been working as a data analyst in the data science team at a company called LeChurn. At LeChurn, you help retail shops detect when a customer might be churning. This is what you have learned so far about doing machine learning at LeChurn:\n",
    "\n",
    "    In the machine learning processes at LeChurn, the machine learning experiments are automated.\n",
    "    There does not seem to be a separation between the data scientists developing the model and software engineers deploying the model.\n",
    "    Each time your team has a new model developed, the deployment is not yet automatically built, tested, and deployed.\n",
    "\n",
    "A business stakeholder reaches out and asks you how mature you think LeChurn's MLOps processes are. How do you respond to the business stakeholder?\n",
    "\n",
    "### Possible Answers\n",
    "\n",
    "\n",
    "    LeChurn is still at the lowest level of MLOps maturity, as there is no automation.\n",
    "    \n",
    "    \n",
    "    LeChurn is at a moderate level of maturity, the machine learning model experiments are already automated, while deployment is not.{Answer}\n",
    "    \n",
    "    \n",
    "    LeChurn is at a moderate level of maturity, where deployment of machine learning models is automated, while development is still a fully manual process.\n",
    "    \n",
    "    \n",
    "    LeChurn is at the highest level of MLOps maturity; all machine learning processes at LeChurn are fully automated."
   ]
  },
  {
   "cell_type": "markdown",
   "metadata": {},
   "source": [
    "# MLOps maturity levels\n",
    "\n",
    "The level of MLOps maturity defines the velocity at which models are designed, developed, and deployed. Knowing your company's MLOps maturity level can help identify improvements to further enable the usage of machine learning within the business.\n",
    "\n",
    "In this exercise, you will identify which characteristics belong to which MLOps level.\n",
    "\n",
    "\n",
    "![Answer](/home/nero/Documents/Estudos/DataCamp/theory/mlops-concepts/ch_04-03.png)"
   ]
  },
  {
   "cell_type": "markdown",
   "metadata": {},
   "source": [
    "# Using a tool\n",
    "\n",
    "Using tools specifically made for one part of the machine learning lifecycle can save you a lot of time and money. Even though you could possibly build these tools yourself, it often does not weigh up against the cost of using the tool.\n",
    "\n",
    "Imagine you are working in a team of data scientists, and each of you has produced code for the development of the machine learning model on your local computer. Because the team just started out, they just shared the files on the network file system, but it's starting to become difficult to work together on the same code.\n",
    "\n",
    "Which tool should you use to be able to collaborate and share a code repository?\n",
    "\n",
    "### Possible Answers\n",
    "\n",
    "\n",
    "    Docker\n",
    "    \n",
    "    \n",
    "    Feast\n",
    "    \n",
    "    \n",
    "    GitLab {Answer}\n",
    "    \n",
    "    \n",
    "    Kubernetes"
   ]
  },
  {
   "cell_type": "markdown",
   "metadata": {},
   "source": [
    "# Pick the right tool\n",
    "\n",
    "Now that you have learned all about MLOps tools and the different phases of MLOps, it's time to see if you remember which tool can be used in which task. Using MLOps tools is often better than building your own since the people behind these tools have developed them specifically for one part of the machine learning lifecycle.\n",
    "\n",
    "Even though some tools are quite versatile and can be applied to different phases, try to fit the tool into the most appropriate bucket.\n",
    "\n",
    "![Answer](/home/nero/Documents/Estudos/DataCamp/theory/mlops-concepts/ch_04-04.png)"
   ]
  }
 ],
 "metadata": {
  "kernelspec": {
   "display_name": "Python 3 (ipykernel)",
   "language": "python",
   "name": "python3"
  },
  "language_info": {
   "codemirror_mode": {
    "name": "ipython",
    "version": 3
   },
   "file_extension": ".py",
   "mimetype": "text/x-python",
   "name": "python",
   "nbconvert_exporter": "python",
   "pygments_lexer": "ipython3",
   "version": "3.11.8"
  }
 },
 "nbformat": 4,
 "nbformat_minor": 4
}
