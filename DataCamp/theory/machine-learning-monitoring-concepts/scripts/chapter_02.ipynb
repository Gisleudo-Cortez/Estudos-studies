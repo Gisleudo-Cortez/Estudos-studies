{
 "cells": [
  {
   "cell_type": "markdown",
   "metadata": {},
   "source": [
    "# Why performance first?\n",
    "\n",
    "You learned that measuring the technical performance of the model should be the core part of the monitoring system. Can you remember why this is the case?\n",
    "\n",
    "### Possible Answers\n",
    "\n",
    "\n",
    "        Allows focusing on only relevant shifts\n",
    "\n",
    "\n",
    "        Reflects the negative impact of covariate shift and concept drift\n",
    "\n",
    "\n",
    "        It's a direct way to measure how the model performs\n",
    "\n",
    "\n",
    "        All of the above {Answer}"
   ]
  },
  {
   "cell_type": "markdown",
   "metadata": {},
   "source": [
    "# Different covariate shifts\n",
    "\n",
    "As a data scientist working for a music streaming company, you have developed a model that detects when users may cancel their subscriptions. During development, the majority of users were young, with only 1% above the age of 50. However, after deploying the model in production, you have noticed that the percentage of users above 50 has increased to 20%.\n",
    "\n",
    "What is the name of this change, and what impact does it have on performance?\n",
    "\n",
    "### Possible Answers\n",
    "\n",
    "\n",
    "    Shifts to less certain regions with a decrease in performance\n",
    "    \n",
    "    \n",
    "    Shifts to underrepresented regions with unknown impact on performance {Answer}\n",
    "    \n",
    "    \n",
    "    Shifts to underrepresented regions without impact on performance\n",
    "    \n",
    "    \n",
    "    There is no shift, so the performance is not impacted"
   ]
  },
  {
   "cell_type": "markdown",
   "metadata": {},
   "source": [
    "# Is performance estimation required?\n",
    "\n",
    "You are now familiar with the concept of the availability of ground truth in production and its influence on monitoring performance. In this exercise, you will choose scenarios that require performance estimation.\n",
    "\n",
    "### Possible Answers\n",
    "\n",
    "    Weekly supermarket forecast supply{Answer}\n",
    "    \n",
    "    \n",
    "    Monthly energy consumption prediction{Answer}\n",
    "    \n",
    "    \n",
    "    Patient appointment waiting time prediction\n",
    "    \n",
    "    \n",
    "    Chatbot to address customer inquiries"
   ]
  },
  {
   "cell_type": "markdown",
   "metadata": {},
   "source": [
    "# Performance monitoring in production\n",
    "\n",
    "Monitoring a model's performance is crucial for successful deployment in production. However, it can be challenging in real-world applications since the ground truth is often delayed or absent.\n",
    "\n",
    "In this exercise, you will classify what is true and false about performance monitoring in production.\n",
    "\n",
    "![Answer](images/ch02-01.png)"
   ]
  },
  {
   "cell_type": "markdown",
   "metadata": {},
   "source": [
    "# CBPE considerations\n",
    "\n",
    "You are now familiar with the concept of a Confidence-Based Performance Estimation (CBPE) and its role in monitoring workflow. In this exercise, you will select the option that is not a good statement about CBPE.\n",
    "\n",
    "### Possible Answers\n",
    "\n",
    "\n",
    "    CBPE requires probability calibration before before being put into production\n",
    "    \n",
    "    \n",
    "    CBPE works well with concept drift {Answer}\n",
    "    \n",
    "    \n",
    "    CBPE adds extra complexity to the monitoring system\n",
    "\n",
    "**Kudos to you! Remember CBPE won't work well if there's a concept drift in incoming data. Detecting concept drift beforehand is a challenging task, so it's an assumption that should be taken into account when analyzing the final results.**"
   ]
  },
  {
   "cell_type": "markdown",
   "metadata": {},
   "source": [
    "# Performance estimation in production\n",
    "\n",
    "Imagine that you are a data scientist at a car insurance company, and you have successfully implemented a model to predict insurance prices, along with a monitoring system that uses performance estimation. However, after a few weeks, you notice a drop in the model's performance and a shift towards the underrepresented region in the input data.\n",
    "\n",
    "Are the outputs of performance estimation algorithm still valid, and why?\n",
    "\n",
    "### Possible Answers\n",
    "\n",
    "\n",
    "    No, all shifts make algorithm's outputs invalid\n",
    "    \n",
    "    \n",
    "    No, because there is shift to underrepresented region\n",
    "    \n",
    "    \n",
    "    Yes, since there is no shift to the unseen regions {Answer}\n",
    "    \n",
    "    \n",
    "    None of the above"
   ]
  },
  {
   "cell_type": "markdown",
   "metadata": {},
   "source": [
    "# Algorithms for performance estimation\n",
    "\n",
    "When deploying a monitoring system in production, it may be necessary to estimate the model's performance if the ground truth is not available. In the previous video, you learned about two algorithms designed for this purpose: confidence-based performance estimation (CBPE) and direct loss estimation (DLE).\n",
    "\n",
    "Can you recall the characteristics of these two algorithms?\n",
    "\n",
    "![Answer](images/ch02-02.png)"
   ]
  }
 ],
 "metadata": {
  "kernelspec": {
   "display_name": "Python 3 (ipykernel)",
   "language": "python",
   "name": "python3"
  },
  "language_info": {
   "codemirror_mode": {
    "name": "ipython",
    "version": 3
   },
   "file_extension": ".py",
   "mimetype": "text/x-python",
   "name": "python",
   "nbconvert_exporter": "python",
   "pygments_lexer": "ipython3",
   "version": "3.11.6"
  }
 },
 "nbformat": 4,
 "nbformat_minor": 4
}
