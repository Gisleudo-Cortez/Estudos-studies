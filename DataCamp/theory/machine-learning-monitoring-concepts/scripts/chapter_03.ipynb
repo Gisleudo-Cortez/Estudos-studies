{
 "cells": [
  {
   "cell_type": "markdown",
   "metadata": {},
   "source": [
    "# Swapped features\n",
    "\n",
    "While you're working on preparing your data for analysis or machine learning tasks, there might be a situation where you accidentally swap or mix up two features with similar distribution during the data preparation process. This can have unintended effects and might impact the accuracy and reliability of your data analysis or machine learning models.\n",
    "\n",
    "Given this scenario, which of the following statements is not true?\n",
    "\n",
    "### Possible Answers\n",
    "\n",
    "\n",
    "    The distribution of each feature separately is the same.\n",
    "    \n",
    "    \n",
    "    The correlation between the features changes.\n",
    "    \n",
    "    \n",
    "    The joint distribution of the features remains the same. {Answer}\n",
    "    \n",
    "    \n",
    "    The model correctly assumes that feature 1 is actually feature 2.3\n",
    "\n",
    "**True, the joint distribution will change as the correlation changes.**"
   ]
  },
  {
   "cell_type": "markdown",
   "metadata": {},
   "source": [
    "# Drift detection method\n",
    "\n",
    "Monitoring covariate shift is an essential task for data scientists. Which method, mentioned in the video, involves compressing the data using the PCA algorithm and detecting changes in the error to identify shifts in the data distribution?\n",
    "\n",
    "### Possible Answers\n",
    "\n",
    "\n",
    "    Univariate drift detection\n",
    "    \n",
    "    \n",
    "    Multivariate drift detection {Answer}\n",
    "    \n",
    "    \n",
    "    Temporal drift detection\n",
    "    \n",
    "    \n",
    "    Error-based drift detection\n",
    "\n",
    "**Correct, multivariate drift detection method is compressing the data to detect shifts in all features at once.**"
   ]
  },
  {
   "cell_type": "markdown",
   "metadata": {},
   "source": [
    "# Subtle changes\n",
    "\n",
    "Imagine you are working at a technology company specializing in data analytics, where your task is to detect subtle changes in the data that could indicate drift. In a recent video, a distance metric was mentioned that is particularly sensitive to small drifts.\n",
    "\n",
    "What is the name of this distance metric?\n",
    "\n",
    "### Possible Answers\n",
    "\n",
    "\n",
    "    Hellinger method\n",
    "    \n",
    "    \n",
    "    Wasserstein distance\n",
    "    \n",
    "    \n",
    "    Kolmogorov-Smirnov test\n",
    "    \n",
    "    \n",
    "    Jensen-Shannon distance {Answer}\n",
    "\n",
    "**Great! The Jensen-Shannon method is highly effective in detecting subtle changes in data distribution and is recommended for both categorical and continuous data.**"
   ]
  },
  {
   "cell_type": "markdown",
   "metadata": {},
   "source": [
    "# Different methods\n",
    "\n",
    "Let's dive into different methods of detecting covariate shift. We have two statements about these methods: true and false. Your task is to sort the items into the correct buckets.\n",
    "\n",
    "![Answer](images/ch03-01.png)"
   ]
  },
  {
   "cell_type": "markdown",
   "metadata": {},
   "source": [
    "# Type of concept drift\n",
    "\n",
    "You are assigned the task of detecting concept drift in a demand forecasting model for an e-commerce platform. While analyzing the data, you notice that user shopping patterns undergo significant changes during events like Black Friday and Christmas. This type of drift, where user behavior shifts noticeably during specific periods, is commonly known as:\n",
    "\n",
    "### Possible Answers\n",
    "\n",
    "\n",
    "    Sudden drift\n",
    "    \n",
    "    \n",
    "    Gradual drift\n",
    "    \n",
    "    \n",
    "    Reoccurring drift {Answer}\n",
    "    \n",
    "    \n",
    "    Immediate drift\n",
    "\n",
    "**Well done! The type of drift you are observing during events like Black Friday and Christmas is called reoccurring drift. These events cause a temporary shift in shopping patterns that reoccur periodically.**"
   ]
  },
  {
   "cell_type": "markdown",
   "metadata": {},
   "source": [
    "# Concept drift and covariate shift interaction\n",
    "\n",
    "As a machine learning engineer at a healthcare company, you are developing a patient risk prediction model. How does a positive interaction between concept drift and covariate shift affect the model's performance in this scenario?\n",
    "\n",
    "### Possible Answers\n",
    "\n",
    "\n",
    "    The model's sensitivity to concept drift increases, resulting in more accurate predictions over time.\n",
    "    \n",
    "    \n",
    "    The model becomes more affected by the concept drift, leading to decreased accuracy. {Answer}\n",
    "    \n",
    "    \n",
    "    The model's ability to adapt to evolving patient demographics improves, enhancing its performance.\n",
    "    \n",
    "**Correct! In this scenario, a positive interaction between concept drift and covariate shift results in higher performance decrease.**"
   ]
  },
  {
   "cell_type": "markdown",
   "metadata": {},
   "source": [
    "# Real-time adaptation\n",
    "\n",
    "You are developing a machine learning model that needs to adapt to changes in the environment and handle concept drift in real-time. Which approach is suitable for this purpose?\n",
    "\n",
    "### Possible Answers\n",
    "\n",
    "\n",
    "    Error-based methods\n",
    "    \n",
    "    \n",
    "    Online learning\n",
    "    \n",
    "    \n",
    "    Weekly retraining\n",
    "    \n",
    "    \n",
    "    Multivariate drift detection\n",
    "\n",
    "**Perfect! Online learning continuously trains and updates the model as new data arrives, allowing it to adapt to evolving concept drift.**"
   ]
  },
  {
   "cell_type": "markdown",
   "metadata": {},
   "source": [
    "# Concept drift detection and resolution\n",
    "\n",
    "Now that you have learned all about concept drift and the different methods to detect and handle it, it's time to see if you remember which statements accurately describe concept drift and its resolution. Using your knowledge of concept drift detection and resolution techniques, classify the following statements.\n",
    "\n",
    "![Answer](images/ch03-02.png)"
   ]
  }
 ],
 "metadata": {
  "kernelspec": {
   "display_name": "Python 3 (ipykernel)",
   "language": "python",
   "name": "python3"
  },
  "language_info": {
   "codemirror_mode": {
    "name": "ipython",
    "version": 3
   },
   "file_extension": ".py",
   "mimetype": "text/x-python",
   "name": "python",
   "nbconvert_exporter": "python",
   "pygments_lexer": "ipython3",
   "version": "3.11.6"
  }
 },
 "nbformat": 4,
 "nbformat_minor": 4
}
