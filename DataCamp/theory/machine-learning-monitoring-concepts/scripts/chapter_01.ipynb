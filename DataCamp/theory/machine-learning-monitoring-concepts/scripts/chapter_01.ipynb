{
 "cells": [
  {
   "cell_type": "code",
   "execution_count": 13,
   "metadata": {
    "editable": true,
    "metadata": {},
    "slideshow": {
     "slide_type": ""
    },
    "tags": []
   },
   "outputs": [],
   "source": [
    "# run this to shorten the data import from the files\n",
    "import os\n",
    "cwd = os.path.dirname(os.getcwd())+'/'\n",
    "path_data = os.path.join(os.path.dirname(os.getcwd()), 'datasets/')\n"
   ]
  },
  {
   "cell_type": "markdown",
   "metadata": {},
   "source": [
    "# Why models fail?\n",
    "\n",
    "Monitoring machine learning models in production is a crucial step in the data science development cycle. It not only maximizes the business impact but also improves AI safety and reduces the risk of failure. In this video, you learned about the potential causes of model failure. Do you recall what they were?\n",
    "\n",
    "### Possible Answers\n",
    "Select one answer\n",
    "\n",
    "    Bug in the code\n",
    "    \n",
    "    \n",
    "    Shifts in the input data\n",
    "    \n",
    "    \n",
    "    Changes in the relationship between input features and targets\n",
    "    \n",
    "    \n",
    "    All of the above {Answer}"
   ]
  },
  {
   "cell_type": "markdown",
   "metadata": {},
   "source": [
    "# The benefits of monitoring systems\n",
    "\n",
    "Imagine that you have just been hired as a data scientist in a justice system department. Your task is to work on an already running model that predicts the likelihood of a defendant committing another crime if they are released on bail.\n",
    "\n",
    "You have noticed that there is no real-time monitoring system in place. As a result, you are preparing a presentation to your manager on why implementing one is necessary.\n",
    "\n",
    "What are the key benefits that you should mention?\n",
    "\n",
    "### Possible Answers\n",
    "\n",
    "    Prevent the model from failing{Answer}\n",
    "\n",
    "\n",
    "    Detecting bias{Answer}\n",
    "\n",
    "\n",
    "    Improving explainability of the model{Answer}\n",
    "\n",
    "\n",
    "    General technology improvement"
   ]
  },
  {
   "cell_type": "markdown",
   "metadata": {},
   "source": [
    "# The importance of monitoring KPIs\n",
    "\n",
    "You have learned about the ideal monitoring workflow for machine learning models, which involves monitoring performance, performing root cause analysis, and resolving issues.\n",
    "\n",
    "Based on this information, do you remember why is it important to monitor key performance indicators (KPIs) in addition to technical metrics?\n",
    "\n",
    "### Possible Answers\n",
    "\n",
    "\n",
    "    Technical metrics are unreliable\n",
    "    \n",
    "    \n",
    "    KPIs give you insight into how a model is performing in relation to our business goals {Answer}\n",
    "    \n",
    "    \n",
    "    KPIs are not relevant to monitoring a machine learning model\n",
    "    \n",
    "    \n",
    "    None of the above\n"
   ]
  },
  {
   "cell_type": "markdown",
   "metadata": {},
   "source": [
    "# Ideal monitoring workflow\n",
    "\n",
    "Imagine that you are a data scientist working on the deployment of the models. Your company requires you to develop a robust monitoring system.\n",
    "\n",
    "To ensure that everyone is aligned on the project goals and objectives, you need to present the chief engineer with the general monitoring workflow with a detailed description of each step. \n",
    "\n",
    "![Answer](images/ch01-01.png)"
   ]
  },
  {
   "cell_type": "markdown",
   "metadata": {},
   "source": [
    "# Monitoring workflow in real-life scenario\n",
    "\n",
    "Imagine that you are the manager of a supermarket that has implemented a machine learning system to classify fruits and vegetables, eliminating the need for cashiers to manually rewrite the code before weighing them.\n",
    "\n",
    "However, a member of your team has alerted you to a problem - you've sold more zucchini than you actually had in stock. You suspect that the problem is related to the new zucchini provider, as their produce now looks similar to cucumbers.\n",
    "\n",
    "The goal of this exercise is to arrange the steps in the monitoring process that need to be taken to resolve the issue.\n",
    "\n",
    "![Asnwer](images/ch01-02.png)"
   ]
  },
  {
   "cell_type": "markdown",
   "metadata": {},
   "source": [
    "# Delayed ground truth\n",
    "\n",
    "Access to ground truth data, which refers to having the actual target values, is a crucial aspect of monitoring machine learning models in production. However, in real-life scenarios, obtaining ground truth may be delayed or even completely absent, making it challenging to evaluate model's performance.\n",
    "\n",
    "Can you recall which of the scenarios experiences immediate or delayed access to ground truth data?\n",
    "\n",
    "![Answer](images/ch01-03.png)"
   ]
  },
  {
   "cell_type": "markdown",
   "metadata": {},
   "source": [
    "# Covariate shift vs concept drift\n",
    "\n",
    "When deploying a machine learning model in production, it can sometimes fail silently without any obvious indicators, even though the entire infrastructure may be functioning properly. This type of failure can be caused by either covariate shift or concept drift.\n",
    "\n",
    "Can you recall the characteristics of these two problems?\n",
    "\n",
    "![Answer](images/ch01-04.png)"
   ]
  }
 ],
 "metadata": {
  "kernelspec": {
   "display_name": "Python 3 (ipykernel)",
   "language": "python",
   "name": "python3"
  },
  "language_info": {
   "codemirror_mode": {
    "name": "ipython",
    "version": 3
   },
   "file_extension": ".py",
   "mimetype": "text/x-python",
   "name": "python",
   "nbconvert_exporter": "python",
   "pygments_lexer": "ipython3",
   "version": "3.12.3"
  }
 },
 "nbformat": 4,
 "nbformat_minor": 4
}
