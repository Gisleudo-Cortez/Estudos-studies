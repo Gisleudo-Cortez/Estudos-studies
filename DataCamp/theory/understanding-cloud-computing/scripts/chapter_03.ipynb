{
 "cells": [
  {
   "cell_type": "markdown",
   "metadata": {},
   "source": [
    "# True or false?\n",
    "\n",
    "You've learned about the services offered by the three cloud infrastructure market leaders. Let's see how well you understand their positioning.\n",
    "\n",
    "![Answer](/home/nero/Documents/Estudos/DataCamp/theory/understanding-cloud-computing/true_or_false.png)"
   ]
  },
  {
   "cell_type": "markdown",
   "metadata": {},
   "source": [
    "# Cloud providers and their services\n",
    "\n",
    "Throughout this chapter, you looked into the cloud infrastructure services offered by Amazon, Microsoft, Google, Alibaba, IBM and Oracle.\n",
    "\n",
    "Let's see how well you understand their respective solutions.\n",
    "\n",
    "![Answer](/home/nero/Documents/Estudos/DataCamp/theory/understanding-cloud-computing/cloud_services.png)"
   ]
  }
 ],
 "metadata": {
  "kernelspec": {
   "display_name": "Python 3 (ipykernel)",
   "language": "python",
   "name": "python3"
  },
  "language_info": {
   "codemirror_mode": {
    "name": "ipython",
    "version": 3
   },
   "file_extension": ".py",
   "mimetype": "text/x-python",
   "name": "python",
   "nbconvert_exporter": "python",
   "pygments_lexer": "ipython3",
   "version": "3.11.6"
  }
 },
 "nbformat": 4,
 "nbformat_minor": 4
}
