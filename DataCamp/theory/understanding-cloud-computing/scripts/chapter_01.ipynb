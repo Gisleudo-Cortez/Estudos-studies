{
 "cells": [
  {
   "cell_type": "code",
   "execution_count": 1,
   "metadata": {
    "editable": true,
    "slideshow": {
     "slide_type": ""
    },
    "tags": []
   },
   "outputs": [],
   "source": [
    "# run this to shorten the data import from the files\n",
    "import os\n",
    "cwd = os.path.dirname(os.getcwd())+'/'\n",
    "path_data = os.path.join(os.path.dirname(os.getcwd()), 'datasets/')\n"
   ]
  },
  {
   "cell_type": "markdown",
   "metadata": {},
   "source": [
    "# Understanding the cloud\n",
    "\n",
    "You may have heard of the cloud in the context of storing your photos and videos online, but cloud computing is more than that. It is part of a business model that is becoming increasingly popular with more and more companies moving their workloads to the cloud.\n",
    "\n",
    "In the video, we introduced you to the world of cloud computing. Let's see how well you understand what it encompasses.\n",
    "\n",
    "Which statement about cloud computing is false?\n",
    "\n",
    "### Possible Answers\n",
    "\n",
    "\n",
    "    Cloud adoption has been going up over the past years and is predicted to grow even further in the near future.\n",
    "    \n",
    "    \n",
    "    A cloud solution is always better than an on-premise solution. {Answer}\n",
    "    \n",
    "    \n",
    "    You can build and deploy custom AI models in the cloud.\n",
    "    \n",
    "    \n",
    "    A server is a powerful computer that you can connect into remotely.\n",
    "    \n",
    "    \n",
    "    An internet connection is necessary to access cloud services.\n",
    "\n",
    "**Perfect! You're right, this statement is false. Some use cases require an on-premise solution. You'll learn more about this in the next video.**"
   ]
  },
  {
   "cell_type": "markdown",
   "metadata": {},
   "source": [
    "# Cloud vs. on-premise\n",
    "\n",
    "The cloud is transforming the way organizations use computer services. Where in the past you had to own local servers and systems, in the cloud they are managed by an external provider that charges you for the use. Let's see if you know the difference.\n",
    "\n",
    "![PREMISE](/home/nero/Documents/Estudos/DataCamp/theory/understanding-cloud-computing/premise.png)\n",
    "\n",
    "**Awesome! You have a good idea of the difference between cloud and on-premises server solutions. Remember that no one solution is better than the other and that the ideal IT infrastructure model depends on your use case. We'll learn more about this in the next video.**"
   ]
  },
  {
   "cell_type": "markdown",
   "metadata": {},
   "source": [
    "# Cloud computing services\n",
    "\n",
    "Cloud providers like AWS, Microsoft Azure, and Google Cloud offer a wide variety of services. Below you can find an overview of the products available on AWS.\n",
    "\n",
    "![AWS_product_offer](/home/nero/Documents/Estudos/DataCamp/theory/understanding-cloud-computing/AWS_services.png)\n",
    "\n",
    "Which service is included in the AWS offer?\n",
    "\n",
    "### Possible Answers\n",
    "\n",
    "\n",
    "    Compute\n",
    "    \n",
    "    \n",
    "    Machine Learning\n",
    "    \n",
    "    \n",
    "    Game Tech\n",
    "    \n",
    "    \n",
    "    All of the above {Answer}\n",
    "\n",
    "**Perfect! The services offered by AWS cover a wide variety of areas and they are expanding continuously. You'll see that other cloud providers will have a similar offer, more on that in chapter 3.**"
   ]
  },
  {
   "cell_type": "markdown",
   "metadata": {},
   "source": [
    "# Primary cloud services\n",
    "\n",
    "Cloud providers like AWS, Microsoft Azure, and Google Cloud offer a wide variety of services. The three basic ones, which you will be able to find for every cloud provider, are:\n",
    "\n",
    "    Compute\n",
    "    Storage\n",
    "    Databases\n",
    "\n",
    "It's important to understand what the resources provided by this service are responsible for.\n",
    "\n",
    "![Answer](/home/nero/Documents/Estudos/DataCamp/theory/understanding-cloud-computing/services.png)\n",
    "\n",
    "**Congrats! You now know what the primary cloud services are. On top of these basic ones, you'll find a long list of other services offered by different cloud providers. You can take a look at their respective websites to see what they offer if you're curious.**"
   ]
  },
  {
   "cell_type": "markdown",
   "metadata": {},
   "source": [
    "# Key characteristics\n",
    "\n",
    "Cloud computing services provide more possibilities for organizations all over the world. These services share certain characteristics that make them very powerful. Time to check how well you understand them!\n",
    "\n",
    "![Answer](/home/nero/Documents/Estudos/DataCamp/theory/understanding-cloud-computing/cacartheristics.png)"
   ]
  },
  {
   "cell_type": "markdown",
   "metadata": {},
   "source": [
    "# Outsourcing IT services\n",
    "\n",
    "Cloud computing is offered in three different service models each satisfying a unique set of business requirements. It's important to understand what each model offers. There are three main service models:\n",
    "\n",
    "    Infrastructure as a Service (IaaS) - offers cloud infrastructure\n",
    "    Platform as a Service (PaaS) - offers infrastructure and software for application development\n",
    "    Software as a Service (SaaS) - offers ready-to-use applications in the cloud\n",
    "\n",
    "![Answer](/home/nero/Documents/Estudos/DataCamp/theory/understanding-cloud-computing/it_services.png)"
   ]
  },
  {
   "cell_type": "markdown",
   "metadata": {},
   "source": [
    "# IaaS, PaaS, or SaaS?\n",
    "\n",
    "You proved that you know what is offered in each of these service models, but it's also important to know when to use which one. They all have their own strengths and it is necessary to understand the differences among SaaS, PaaS, and IaaS to know how to best choose one for your organization.\n",
    "\n",
    "![Answer](/home/nero/Documents/Estudos/DataCamp/theory/understanding-cloud-computing/iaas_paas_saas.png)"
   ]
  },
  {
   "cell_type": "markdown",
   "metadata": {},
   "source": [
    "# Level of abstraction\n",
    "\n",
    "Cloud service models can be ordered in terms of abstraction. Abstraction refers to the act of offering essential features without including the background details.\n",
    "\n",
    "Let's take a look at the three models from before - IaaS, PaaS, and SaaS - as well as a fourth one, FaaS (Function as a Service). Can you order the cloud service models based on their level of abstraction? The model with the highest level of abstraction should come first.\n",
    "\n",
    "![Answer](/home/nero/Documents/Estudos/DataCamp/theory/understanding-cloud-computing/abstraction_order.png)"
   ]
  }
 ],
 "metadata": {
  "kernelspec": {
   "display_name": "Python 3 (ipykernel)",
   "language": "python",
   "name": "python3"
  },
  "language_info": {
   "codemirror_mode": {
    "name": "ipython",
    "version": 3
   },
   "file_extension": ".py",
   "mimetype": "text/x-python",
   "name": "python",
   "nbconvert_exporter": "python",
   "pygments_lexer": "ipython3",
   "version": "3.11.6"
  }
 },
 "nbformat": 4,
 "nbformat_minor": 4
}
