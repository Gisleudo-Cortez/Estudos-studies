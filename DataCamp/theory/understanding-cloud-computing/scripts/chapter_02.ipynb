{
 "cells": [
  {
   "cell_type": "markdown",
   "metadata": {},
   "source": [
    "# Private or public?\n",
    "\n",
    "In terms of cloud deployment models, the private model and the public model are on the opposite ends of the spectrum. Therefore, it's crucial to understand the difference between the two. If you know the strengths and drawbacks of each, then you can better decide on the best deployment model for a given use-case, even if it's something in between like the hybrid, community, or multicloud model!\n",
    "\n",
    "![Answer](/home/nero/Documents/Estudos/DataCamp/theory/understanding-cloud-computing/public_private.png)"
   ]
  },
  {
   "cell_type": "markdown",
   "metadata": {},
   "source": [
    "# Pick the best model\n",
    "\n",
    "Below are four statements each describing a deployment model and a use-case.\n",
    "\n",
    "Select the statement that does not describe an appropriate use-case for the given model.\n",
    "\n",
    "### Possible Answers\n",
    "\n",
    "\n",
    "    Community model: Three different university hospitals have partnered on a research study requiring sensitive patient data.\n",
    "    \n",
    "    \n",
    "    Public model: A young startup wants to get their app live right away at the lowest cost possible and with the ability to scale.\n",
    "    \n",
    "    \n",
    "    Hybrid model: Different government agencies need access to tax data. {Answer}\n",
    "    \n",
    "    \n",
    "    Multicloud model: A freelance data scientist needs to uses services from different cloud providers depending on their clients' needs.\n",
    "\n",
    "**It's not clear in this use-case where the government agencies would benefit from combining more than one model. The community model sounds like a better fit for easier sharing of data, while maintaining exclusive use of the infrastructure.**"
   ]
  },
  {
   "cell_type": "markdown",
   "metadata": {},
   "source": [
    "# Time limits on storing data\n",
    "\n",
    "GDPR has regulations on how long data can be stored. [Below is an excerpt from the European Commission](https://ec.europa.eu/info/law/law-topic/data-protection/reform/rules-business-and-organisations/principles-gdpr/how-long-can-data-be-kept-and-it-necessary-update-it_en) describing this regulation:\n",
    "\n",
    "    Data must be stored for the shortest time possible. That period should take into account the reasons why your company/organization needs to process the data, as well as any legal obligations to keep the data for a fixed period of time (for example national labour, tax or anti-fraud laws requiring you to keep personal data about your employees for a defined period, product warranty duration, etc.).\n",
    "\n",
    "    Your company/organization should establish time limits to erase or review the data stored.\n",
    "\n",
    "How could this rule affect a company using cloud computing?\n",
    "\n",
    "### Possible Answers\n",
    "\n",
    "\n",
    "    If copies of European user data exist on multiple data centers, including disaster recovery backups, companies need to have a robust protocol for making sure every copy is deleted once the time limit elapses. {Answer}\n",
    "    \n",
    "    \n",
    "    Companies could store European user data outside of European Union borders to avoid having to delete data.\n",
    "    \n",
    "    \n",
    "    Any hardware in data centers holding data that needs to be deleted will have to be physically destroyed, thereby increasing maintenance and hardware costs."
   ]
  },
  {
   "cell_type": "markdown",
   "metadata": {},
   "source": [
    "# Personal data\n",
    "\n",
    "In the video, we saw a list of data protection regulations around the world. To understand these regulations properly, you need to understand personal data. As a reminder, this is how GDPR defines personal data:\n",
    "\n",
    "    Personal data is any information that relates to an identified or identifiable living individual. Different pieces of information, which collected together can lead to the identification of a particular person, also constitute personal data. \n",
    "[Source](https://ec.europa.eu/info/law/law-topic/data-protection/reform/what-personal-data_en)\n",
    "\n",
    "![Answer](/home/nero/Documents/Estudos/DataCamp/theory/understanding-cloud-computing/personal_and_not.png)\n",
    "\n",
    "**Most data collected on a users ends up being personal data. Personal data takes up a lot of the data collected by companies, so it can have a profound impact on how data is collected, stored, and moved on the cloud.**"
   ]
  },
  {
   "cell_type": "markdown",
   "metadata": {},
   "source": [
    "# Microsoft cloud skills report\n",
    "\n",
    "In 2017, Microsoft released a \"Cloud Skills Report\" where they surveyed 250 technical leaders in the UK who are actively involved in recruitment and technical evaluation. The report is publicly available [here](https://download.microsoft.com/documents/en-gb/Microsoft_Cloud_Skill_Report.pdf).\n",
    "\n",
    "Below is a plot from the report which splits responses between medium sized organizations (250-999 employees) and large-sized organizations (1000+ employees):\n",
    "\n",
    "![Microsoft Cloud Skills Report](/home/nero/Documents/Estudos/DataCamp/theory/understanding-cloud-computing/microsoft.png)\n",
    "\n",
    "What does this plot indicate about cloud skills?\n",
    "\n",
    "### Possible Answers\n",
    "\n",
    "\n",
    "    More than 80% of respondents believe that the right cloud skills will be important or critical to their organization's digital transformation.{Answer}\n",
    "    \n",
    "    \n",
    "    Many organizations don't realize the importance of cloud skills yet.\n",
    "    \n",
    "    \n",
    "    Organizations are struggling to fill their cloud skills gap.\n",
    "\n",
    "**Once this skills gap is identified in an organization, it's another task to understand the cloud roles you need and which employees need to be up-skilled. This work is necessary for a successful digital transformation!**"
   ]
  },
  {
   "cell_type": "markdown",
   "metadata": {},
   "source": [
    "# Cloud roles\n",
    "\n",
    "The rise of cloud computing has brought on a new wave of technology roles. In this exercise, each responsibility belongs to a role.\n",
    "\n",
    "![Answer](/home/nero/Documents/Estudos/DataCamp/theory/understanding-cloud-computing/cloud_roles.png)\n",
    "\n"
   ]
  }
 ],
 "metadata": {
  "kernelspec": {
   "display_name": "Python 3 (ipykernel)",
   "language": "python",
   "name": "python3"
  },
  "language_info": {
   "codemirror_mode": {
    "name": "ipython",
    "version": 3
   },
   "file_extension": ".py",
   "mimetype": "text/x-python",
   "name": "python",
   "nbconvert_exporter": "python",
   "pygments_lexer": "ipython3",
   "version": "3.11.6"
  }
 },
 "nbformat": 4,
 "nbformat_minor": 4
}
