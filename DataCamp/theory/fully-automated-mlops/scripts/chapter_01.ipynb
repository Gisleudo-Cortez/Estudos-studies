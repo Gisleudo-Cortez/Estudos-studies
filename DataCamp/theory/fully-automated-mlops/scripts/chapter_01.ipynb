{
 "cells": [
  {
   "cell_type": "code",
   "execution_count": 1,
   "metadata": {
    "editable": true,
    "slideshow": {
     "slide_type": ""
    },
    "tags": []
   },
   "outputs": [],
   "source": [
    "# run this to shorten the data import from the files\n",
    "import os\n",
    "cwd = os.path.dirname(os.getcwd())+'/'\n",
    "path_data = os.path.join(os.path.dirname(os.getcwd()), 'datasets/')\n"
   ]
  },
  {
   "cell_type": "markdown",
   "metadata": {},
   "source": [
    "# Hidden technical debt must be paid\n",
    "\n",
    "You have learned about hidden technical debt and its consequences in a business setting. You learned, in other words, that machine learning is the high-interest credit card of technical debt.\n",
    "\n",
    "Choose the option that correctly describes what MLOps is.\n",
    "\n",
    "### Possible Answers\n",
    "\n",
    "\n",
    "    MLOps is a set of techniques, tools, and best practices that helps us increase the hidden technical debt present in machine learning systems.\n",
    "    \n",
    "    \n",
    "    MLOps is a set of techniques, tools, and best practices used to build ML systems to keep hidden technical debt to a minimum. {Answer}\n",
    "    \n",
    "    \n",
    "    MLOps is the intersection between SecOps and Data Science. It helps us understand the importance of keeping hidden technical debt to a minimum."
   ]
  },
  {
   "cell_type": "markdown",
   "metadata": {},
   "source": [
    "# Hidden tech debt in ML is different\n",
    "\n",
    "You have learned about the difference between costs in traditional software development and those in building ML systems.\n",
    "\n",
    "In this exercise, you will classify the statements presented to you. These statements will correspond to either traditional software development costs or costs associated with hidden technical debt in ML systems.\n",
    "\n",
    "![Answer](images/ch01-01.png)"
   ]
  },
  {
   "cell_type": "markdown",
   "metadata": {},
   "source": [
    "# Fully automated MLOps\n",
    "\n",
    "In the world of machine learning, deploying a successful ML system requires much more than just developing an accurate model. It involves managing the entire lifecycle of the ML system, from understanding business and data context to designing the system, and deploying it to production.\n",
    "\n",
    "In this exercise, you will have the opportunity to test your knowledge of the MLOps lifecycle by identifying the stages of the lifecycle that most accurately describe the process of building and deploying an ML system. By the end of the exercise, you should have a better understanding of the stages involved in the MLOps lifecycle and how they relate to one another.\n",
    "\n",
    "Choose the answer that describes the stages of the MLOps lifecycles most accurately.\n",
    "\n",
    "### Possible Answers\n",
    "\n",
    "\n",
    "    You start by experimenting with ML to find new solutions; After this, you are ready to deploy your system; After finding errors in your deployment, you develop solutions to these.\n",
    "    \n",
    "    \n",
    "    You start by understanding your business and data context to design your ML system; After this, you deploy your ML system to production; After finding errors in your deployment you develop solutions to these.\n",
    "    \n",
    "    \n",
    "    You start by understanding your business and data context to design your ML system; After this, you perform data engineering and development to build your designed ML system; Finally, you perform activities necessary to take your system to production (testing, CD, etc.).{Answer}"
   ]
  },
  {
   "cell_type": "markdown",
   "metadata": {},
   "source": [
    "# To automate or not to automate...\n",
    "\n",
    "As you have learned, building and deploying successful ML solutions require a well-defined and repeatable process, and MLOps is a practice that can help you achieve this. In addition, automation can help you ensure consistency, reduce the risk of errors, and improve the overall efficiency of the process.\n",
    "\n",
    "Your objective in this exercise is to select the option that presents the activities in the ML lifecycle that can be automated. \n",
    "\n",
    "### Possible Answers\n",
    "\n",
    "    Monitoring{Answer}\n",
    "\n",
    "\n",
    "    Versioning{Answer}\n",
    "\n",
    "\n",
    "    Business understanding\n",
    "\n",
    "\n",
    "    Continuous Delivery (CD){Answer}\n",
    "\n",
    "\n",
    "    Proof-of-Concepts (PoCs)"
   ]
  },
  {
   "cell_type": "markdown",
   "metadata": {},
   "source": [
    "# Building for scale\n",
    "\n",
    "In this exercise, you will classify the activities presented to you. These activities will belong to one of the three stages of the MLOps lifecycle.\n",
    "\n",
    "![Answer](images/ch01-02.png)"
   ]
  },
  {
   "cell_type": "markdown",
   "metadata": {},
   "source": [
    "# Reference architectures in IT and MLOps\n",
    "\n",
    "In this exercise, you will practice the concepts you learned about the importance and advantages of using reference architectures when designing and building IT solutions, specifically in the context of ML. This exercise will help you gain understanding of the importance and advantages of using reference architectures.\n",
    "\n",
    "To solve this exercise, you will select the options that correctly show what a reference architecture is and the benefits of using one for a fully automated MLOps system.\n",
    "\n",
    "### Possible Answers\n",
    "\n",
    "    A reference architecture provides structures and integrations of ML elements and patterns commonly used when designing ML applications.{Answer}\n",
    "\n",
    "\n",
    "    Reference architectures provide a consistent and repeatable approach to building solutions.{Answer}\n",
    "\n",
    "\n",
    "    A reference architecture is a predefined set of rules that should not be modified.\n",
    "\n",
    "\n",
    "    Reference architectures are designed to be customized for each specific project.{Answer}\n",
    "\n",
    "\n",
    "    Reference architectures are an experimental concept and still remain to be proven to work in the industry."
   ]
  },
  {
   "cell_type": "markdown",
   "metadata": {},
   "source": [
    "# MLOps architecture components\n",
    "\n",
    "You learned about the fully automated MLOps reference architecture. In this exercise, you will apply your knowledge to classify a series of statements about the reference architecture components.\n",
    "\n",
    "In this exercise, you will classify the statements presented to you. These statements will be either true or false.\n",
    "\n",
    "![Answer](images/ch01-03.png)"
   ]
  }
 ],
 "metadata": {
  "kernelspec": {
   "display_name": "Python 3 (ipykernel)",
   "language": "python",
   "name": "python3"
  },
  "language_info": {
   "codemirror_mode": {
    "name": "ipython",
    "version": 3
   },
   "file_extension": ".py",
   "mimetype": "text/x-python",
   "name": "python",
   "nbconvert_exporter": "python",
   "pygments_lexer": "ipython3",
   "version": "3.12.3"
  }
 },
 "nbformat": 4,
 "nbformat_minor": 4
}
