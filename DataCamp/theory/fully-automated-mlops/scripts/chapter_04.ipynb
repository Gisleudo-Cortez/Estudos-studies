{
 "cells": [
  {
   "cell_type": "code",
   "execution_count": 1,
   "metadata": {
    "editable": true,
    "slideshow": {
     "slide_type": ""
    },
    "tags": []
   },
   "outputs": [],
   "source": [
    "# run this to shorten the data import from the files\n",
    "import os\n",
    "cwd = os.path.dirname(os.getcwd())+'/'\n",
    "path_data = os.path.join(os.path.dirname(os.getcwd()), 'datasets/')\n"
   ]
  },
  {
   "cell_type": "markdown",
   "metadata": {},
   "source": [
    "# Why should we modularize?\n",
    "\n",
    "You're working as a data scientist at a company that is developing an automated MLOps system. You overhear two of your co-workers, John and Jane, discussing modularity and whether or not it's necessary to build an MLOps system with this approach.\n",
    "\n",
    "John argues that modularity is overrated and that a monolithic MLOps system is just as effective. On the other hand, Jane believes that modularity is essential for building a scalable and maintainable MLOps system.\n",
    "\n",
    "In this exercise, you will apply your knowledge about modularity in MLOps to choose the statement that most likely to represent the views of an experienced MLOps system developer.\n",
    "\n",
    "### Possible Answers\n",
    "\n",
    "\n",
    "    Modular ML pipelines can actually be avoided in MLOps as long as the entire pipeline is tested and validated before deployment: This saves time and resources in the long run\n",
    "    \n",
    "    \n",
    "    Simplicity is key in MLOps, and modularization just adds unnecessary complexity and slows down the process: Keeping pipelines straightforward is the most efficient approach.\n",
    "    \n",
    "    \n",
    "    Modular ML pipelines in MLOps improve efficiency, flexibility, and scalability by enabling reusable components, effective orchestration, and easier testing. They are key for a robust and efficient MLOps system. {Answer}"
   ]
  },
  {
   "cell_type": "markdown",
   "metadata": {},
   "source": [
    "# Orchestration: dev vs. prod\n",
    "\n",
    "In MLOps, orchestration is essential to achieving full system automation, scalability, and reliability. However, the role of orchestration in the development and experimentation phase differs from its role in an automated production environment.\n",
    "\n",
    "In this exercise, you will classify issues that orchestration addresses; they will correspond to:\n",
    "\n",
    "    Orchestration in development & experimentation\n",
    "    Orchestration in an automated production environment\n",
    "\n",
    "\n",
    "![Answer](images/ch04-01.png)"
   ]
  },
  {
   "cell_type": "markdown",
   "metadata": {},
   "source": [
    "# DAGs in MLOps workflows\n",
    "\n",
    "You are now familiar with the concept of a Direct Acyclic Graph (DAG) and the role these play in MLOps. In this exercise, you will select the option that contains a true statement about DAGs in MLOps systems.\n",
    "\n",
    "### Possible Answers\n",
    "\n",
    "\n",
    "    DAGs provide an automated way to manage complex ML workflows, enabling the reliable and reproducible deployment of models, reducing manual intervention, and automating repetitive tasks in MLOps.{Answer}\n",
    "    \n",
    "    \n",
    "    While DAGs can offer some benefits in managing complex ML workflows, they can also introduce additional complexity, requiring significant expertise to implement and maintain effectively.\n",
    "    \n",
    "    \n",
    "    DAGs may be useful for some visualizations in MLOps, but they do not help achieving full automation of complex ML workflows."
   ]
  },
  {
   "cell_type": "markdown",
   "metadata": {},
   "source": [
    "# Orchestration aspects in MLOps\n",
    "\n",
    "By now, you have achieve a great understanding about orchestration, DAGs, and their importance in the design of MLOps systems. In this exercise you will practice concepts related to this topic. You will classify a series of statements depending whether they are true or false statements.\n",
    "\n",
    "![Answer](images/ch04-02.png)"
   ]
  },
  {
   "cell_type": "markdown",
   "metadata": {},
   "source": [
    "# What kind of deployment is this?\n",
    "\n",
    "In the previous exercises, you have recapped the different types of deployments and deployment strategies you commonly find when working with ML. More importantly, you have learned how automated MLOps supports these deployment strategies.\n",
    "\n",
    "In this exercise, you will apply your knowledge to classify a series of descriptions. You will classify the items according to the type of deployment the statement describes:\n",
    "\n",
    "    A/B testing\n",
    "    Blue-green deployment\n",
    "    Shadow deployment\n",
    "\n",
    "![Answer](images/ch04-03.png)"
   ]
  },
  {
   "cell_type": "markdown",
   "metadata": {},
   "source": [
    "# Is this the right deployment strategy?\n",
    "\n",
    "By now, you have become familiar with the several types of prediction service deployments: batch, stream, real-time, and edge. You know also that there are different strategies to follow depending on your system's context. For this exercise you will imagine a colleague at work comes to ask you for help. He is building an automated MLOps system that will:\n",
    "\n",
    "    Run predictions in batch\n",
    "    Run the prediction every day at midnight\n",
    "    Be a part of a non-critical system\n",
    "    The predictions will not be delivered back to any user nor system\n",
    "    The performance of the predictions will be evaluated\n",
    "\n",
    "Your colleague suggests that a blue/green deployment strategy is the way to go. What can you suggest to your colleague?\n",
    "\n",
    "### Possible Answers\n",
    "\n",
    "\n",
    "    I would suggest him to go for the a shadow deployment strategy that can allow for testing of the new prediction service without affecting the current running system.{Answer}\n",
    "    \n",
    "    \n",
    "    Blue/green deployment is the most cost-effective and efficient deployment strategy for a low-cost ML system where downtime is not a concern, as it allows for seamless transitions and eliminates the risk of downtime.\n",
    "    \n",
    "    \n",
    "    A/B testing is the most efficient deployment strategy for a low-cost ML system where downtime is not a concern, as it allows for easy comparison of different models and ensures the best model is deployed.\n",
    "    \n",
    "**A shadow deployment is suitable for an MLOps system that is part of a non-critical system, and where the predictions generated by the model, will not be delivered back to any user nor system.**"
   ]
  },
  {
   "cell_type": "markdown",
   "metadata": {},
   "source": [
    "# Keeping a zero downtime with a blue/green deployment\n",
    "\n",
    "Here, you will use your knowledge about the blue/green deployment strategy. You will order a series of statements describing the steps necessary to update a model with this deployment strategy in the right sequence.\n",
    "\n",
    "You will assume that you start with a working model powering the prediction services: Your blue environment.\n",
    "\n",
    "Figure showing a blue/green deployment where both the blue and green deployment are running side by side.\n",
    "\n",
    "![image](images/blue_green_simp.png)\n",
    "\n",
    "![Answer](images/ch04-04.png)"
   ]
  },
  {
   "cell_type": "markdown",
   "metadata": {},
   "source": [
    "# How does CI/CD/CT/CM contribute to MLOps?\n",
    "\n",
    "You have heard about CI/CD and its importance in DevOps. You have also learned about how DevOps practices need to be extended to ensure automation is possible in ML systems. This extension is what we call MLOps. By now, you understand how CI/CD/CT/CM are critical components in automated MLOps systems.\n",
    "\n",
    "Can you explain how CI/CD/CT/CM contributes explicitly to the robustness and efficiency of an MLOps system?\n",
    "\n",
    "### Possible Answers\n",
    "\n",
    "    \n",
    "    Incident response is important for MLOps; CI/CD/CT/CM assists in deployment.\n",
    "    \n",
    "    \n",
    "    CI/CD/CT/CM focuses on deployment; other MLOps capabilities ensure system performance.\n",
    "    \n",
    "    \n",
    "    CI/CD/CT/CM ensures system accuracy, reliability, and efficiency by integrating, testing, deploying updates, monitoring, and retraining models for changing data. {Answer}"
   ]
  },
  {
   "cell_type": "markdown",
   "metadata": {},
   "source": [
    "# Continuous monitoring & continuous training\n",
    "\n",
    "You have previously learned about the importance of including Continuous Monitoring (CM) and Continuous Training (CT) as part of the design of your MLOps systems. In this exercise, you will classify a series of statements into one of two categories:\n",
    "\n",
    "    Continuous Monitoring\n",
    "    Continuous Training\n",
    "\n",
    "These statements will describe issues and situations that can be addressed by one of these techniques.\n",
    "\n",
    "![Answer](images/ch04-05.png)"
   ]
  },
  {
   "cell_type": "markdown",
   "metadata": {},
   "source": [
    "# CI/CD/CT/CM in MLOps\n",
    "\n",
    "In this exercise, you will use the knowledge you have gathered up to this point. You will carefully read a series of statements describing a CI/CD/CT/CM workflow. You will assume that the system is already operational and, with continuous monitoring tracking the performance of the whole system. In this case, the starting point happens in the development & experimentation environments.\n",
    "\n",
    "Following a typical CI/CD/CT/CM workflow, you will place the statements in the correct order.\n",
    "\n",
    "![Answer](images/ch04-06.png)"
   ]
  }
 ],
 "metadata": {
  "kernelspec": {
   "display_name": "Python 3 (ipykernel)",
   "language": "python",
   "name": "python3"
  },
  "language_info": {
   "codemirror_mode": {
    "name": "ipython",
    "version": 3
   },
   "file_extension": ".py",
   "mimetype": "text/x-python",
   "name": "python",
   "nbconvert_exporter": "python",
   "pygments_lexer": "ipython3",
   "version": "3.11.6"
  }
 },
 "nbformat": 4,
 "nbformat_minor": 4
}
