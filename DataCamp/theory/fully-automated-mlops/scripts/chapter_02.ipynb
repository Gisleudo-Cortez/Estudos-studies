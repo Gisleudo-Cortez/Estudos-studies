{
 "cells": [
  {
   "cell_type": "code",
   "execution_count": 1,
   "metadata": {
    "editable": true,
    "slideshow": {
     "slide_type": ""
    },
    "tags": []
   },
   "outputs": [],
   "source": [
    "# run this to shorten the data import from the files\n",
    "import os\n",
    "cwd = os.path.dirname(os.getcwd())+'/'\n",
    "path_data = os.path.join(os.path.dirname(os.getcwd()), 'datasets/')\n"
   ]
  },
  {
   "cell_type": "markdown",
   "metadata": {},
   "source": [
    "# What should we keep track of?\n",
    "\n",
    "In the previous lesson, you learned about the numerous options and possibilities involved in building ML pipelines, including data processing, algorithms, evaluation, and general parameters. In this exercise, you will apply your knowledge by choosing the options that are important to keep track of when running ML experiments.\n",
    "\n",
    "The objective of this exercise is to help you understand the importance of carefully choosing and keeping track of key options when building and running ML pipelines. By identifying and tracking these options, you can effectively evaluate and compare different pipelines, make informed decisions about which pipelines to use, and optimize your ML models for better performance.\n",
    "\n",
    "To successfully complete this exercise, you will need to carefully consider the different options presented and select the ones that are most relevant and important for tracking in your ML experiments.\n",
    "\n",
    "### Possible Answers\n",
    "\n",
    "    The number of code lines in our code base\n",
    "\n",
    "\n",
    "    The versions of the data sources used{Answer}\n",
    "\n",
    "\n",
    "    The number of systems using the input data\n",
    "\n",
    "\n",
    "    The parameters and hyperparameters used in the pipeline{Answer}\n",
    "\n",
    "\n",
    "    The metrics used for evaluation{Answer}"
   ]
  },
  {
   "cell_type": "markdown",
   "metadata": {},
   "source": [
    "# The great experiment tracking debate: Which side are you on?\n",
    "\n",
    "You overhear a conversation between two colleagues in the break room. One colleague is arguing for the automation of experiment tracking in an MLOps application, citing the multiple benefits offered by automation. The other colleague disagrees, saying that automated experiment tracking is unnecessary, introduces a lot of complexity, and is a total overkill. As an experienced MLOps engineer, you decide to interject and offer your perspective.\n",
    "\n",
    "In this exercise, you will select the option that reflects the right suggestion you would give to your colleagues in this situation.\n",
    "\n",
    "### Possible Answers\n",
    "\n",
    "\n",
    "    Manual tracking works just fine as long as you keep track of experiments in an digital spreadsheet format.\n",
    "    \n",
    "    \n",
    "    Automated experiment tracking is essential for maintaining accuracy and reproducibility in MLOps workflows. {Answer}\n",
    "    \n",
    "    \n",
    "    You are the only data scientist in your team and therefore you don't need automated experiment tracking.\n",
    "    \n",
    "    "
   ]
  },
  {
   "cell_type": "markdown",
   "metadata": {},
   "source": [
    "# What are we tracking here?\n",
    "\n",
    "You have learned how the use of automated experiment tracking help us tame the complexity related to the large space of choices we have when developing ML pipelines. You have learned about the different options, parameters, and metrics we can chose from in the different stages of a typical ML pipeline.\n",
    "\n",
    "In this exercise we decide whether or not a series of entities should be logged and tracked by your automated experiment tracking system.\n",
    "\n",
    "![Answer](images/ch02-01.png)"
   ]
  },
  {
   "cell_type": "markdown",
   "metadata": {},
   "source": [
    "#  Do not throw the model over the fence!\n",
    "\n",
    "In the previous lesson, you learned about the ML model lifecycle and how the model registry enables MLOps systems to manage this process. In this exercise, you will apply your knowledge by selecting the option that best describes a workflow that utilizes the model registry to promote ML models through the different stages of their lifecycle.\n",
    "\n",
    "The objective of this exercise is to help you understand the importance of effective model management and the role that the model registry plays in MLOps systems. By selecting the correct workflow that makes use of the model registry, you will demonstrate your ability to apply this knowledge in real-world scenarios.\n",
    "\n",
    "To successfully complete this exercise, you will need to carefully consider the different options presented and choose the one that best demonstrates the use of the model registry for automated promotion of ML models through their lifecycle.\n",
    "\n",
    "### Possible Answers\n",
    "\n",
    "\n",
    "    The team of data scientists develop a new model. The operations team deploys this new model to the model registry after receiving it via e-mail.\n",
    "    \n",
    "    \n",
    "    The team of ML experts develop a new model and push it to a git repository. The operations team clones the repository and deploys it to the model registry.\n",
    "    \n",
    "    \n",
    "    An automated pipeline produces a new model and registers it. After several automated checks, the model is automatically deployed to production. {Answer}"
   ]
  },
  {
   "cell_type": "markdown",
   "metadata": {},
   "source": [
    "# The ML model lifecycle\n",
    "\n",
    "You have learned about the ML model lifecycle and its different stages. You learned how the model registry helps us automate the management of these stages.\n",
    "\n",
    "In this exercise you will order the different stages of the ML model lifecycle into the right sequence.\n",
    "\n",
    "![Answer](images/ch02-02.png)"
   ]
  },
  {
   "cell_type": "markdown",
   "metadata": {},
   "source": [
    "# This is a job for the model registry!\n",
    "\n",
    "By now, you have recap the concept of the ML lifecycle. You have also learned that the model registry is a very important component in the MLOps architecture that allows you to manage the lifecycle of your models. By now, you understand the importance of the model registry in supporting experimentation in your MLOps systems.\n",
    "\n",
    "In this exercise, you will categorize a series of statements regarding the model registry. You will classify them depending whether they are true or false.\n",
    "\n",
    "![Answer](images/ch02-03.png)"
   ]
  },
  {
   "cell_type": "markdown",
   "metadata": {},
   "source": [
    "# An advantage of using a feature store\n",
    "\n",
    "In the previous video, you have recapped what feature engineering means. You have also learned the importance of the feature store in facilitating feature engineering.\n",
    "\n",
    "In this exercise, you will select the option that describes one of the advantages of having a feature store as part of our MLOps architecture.\n",
    "\n",
    "### Possible Answers\n",
    "\n",
    "\n",
    "    The feature store allows you to store metadata related to your ML experiment runs.\n",
    "    \n",
    "    \n",
    "    The feature store helps you avoiding duplication of efforts when engineering features. {Answer}\n",
    "    \n",
    "    \n",
    "    The feature store helps you manage the transitioning of models through their lifecycles"
   ]
  },
  {
   "cell_type": "markdown",
   "metadata": {},
   "source": [
    "# The roles of the feature store\n",
    "\n",
    "You have learned about the role the feature store plays in automating or enhancing different aspects of an MLOps system. You have learned that the feature store has an important role in:\n",
    "\n",
    "    Accelerating experimentation\n",
    "    Enabling continuous training\n",
    "    Facilitates environment symmetry\n",
    "\n",
    "In this exercise, you will be given several descriptions of how the feature stores helps enhance the aspects listed above.\n",
    "\n",
    "![Answer](images/ch02-04.png)"
   ]
  },
  {
   "cell_type": "markdown",
   "metadata": {},
   "source": [
    "# Metadata in MLOps\n",
    "\n",
    "During the previous video, you learned the definition of metadata: the information about the execution of the different components of an ML pipeline.\n",
    "\n",
    "In this exercise, you will choose the option that contains examples of metadata. \n",
    "\n",
    "![slied](images/Slide1.jpg)\n",
    "\n",
    "![Answer](images/ch02-05.png)\n",
    "\n"
   ]
  },
  {
   "cell_type": "markdown",
   "metadata": {},
   "source": [
    "# Model retraining with the metadata store\n",
    "\n",
    "In the previous lesson, you learned about the critical role that the metadata store plays in facilitating the full automation of MLOps pipelines. It enables automatic monitoring of prediction service functionality, and logs evaluation metrics that help detect performance decay over time. You also learned about triggered retraining and the importance of updating models to account for drift.\n",
    "\n",
    "In this exercise, you will apply your knowledge by ordering a series of steps that demonstrate how the metadata store and triggered retraining can be used to update models automatically and maintain optimal performance.\n",
    "\n",
    "![Answer](images/ch02-06.png)"
   ]
  },
  {
   "cell_type": "markdown",
   "metadata": {},
   "source": [
    "# The role of the metadata store in monitoring MLOps\n",
    "\n",
    "The video and exercises on the metadata store conclude your deep dive into some of the key components of a fully automated architecture. You have learned the important role of metadata in an automated MLOps workflow and how the metadata store is central to enabling the full automation of ML workflows.\n",
    "\n",
    "In this exercise, you will classify the statements presented to you. These statements will be either true or false.\n",
    "\n",
    "![Answer](images/ch02-07.png)"
   ]
  }
 ],
 "metadata": {
  "kernelspec": {
   "display_name": "Python 3 (ipykernel)",
   "language": "python",
   "name": "python3"
  },
  "language_info": {
   "codemirror_mode": {
    "name": "ipython",
    "version": 3
   },
   "file_extension": ".py",
   "mimetype": "text/x-python",
   "name": "python",
   "nbconvert_exporter": "python",
   "pygments_lexer": "ipython3",
   "version": "3.12.3"
  }
 },
 "nbformat": 4,
 "nbformat_minor": 4
}
