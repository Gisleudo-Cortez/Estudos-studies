{
 "cells": [
  {
   "cell_type": "code",
   "execution_count": 1,
   "metadata": {
    "editable": true,
    "slideshow": {
     "slide_type": ""
    },
    "tags": []
   },
   "outputs": [],
   "source": [
    "# run this to shorten the data import from the files\n",
    "import os\n",
    "cwd = os.path.dirname(os.getcwd())+'/'\n",
    "path_data = os.path.join(os.path.dirname(os.getcwd()), 'datasets/')\n"
   ]
  },
  {
   "cell_type": "markdown",
   "metadata": {},
   "source": [
    "# Automation in MLOps workflows\n",
    "\n",
    "After hearing that you are learning about the different levels of automation in MLOps, a colleague of yours asks you for some help. She is wondering about automation in all steps of the ML lifecycle, including design, development & experimentation, and deployment. She wonders if it is possible to automate every aspect in the development of ML systems.\n",
    "\n",
    "In this question, you will choose the option that best describes how you can apply a full automation approach to MLOps and the development of ML systems.\n",
    "\n",
    "### Possible Answers\n",
    "\n",
    "\n",
    "    Full automation is not possible in every aspect of ML development, but MLOps can significantly increase automation.\n",
    "    \n",
    "    \n",
    "    In fully automated MLOps, you think automation first. When automation is not possible, you apply best practices and process streamlining. {Answer}\n",
    "    \n",
    "    \n",
    "    Full automation of ML development is not desirable because human intervention is necessary to ensure quality and accuracy."
   ]
  },
  {
   "cell_type": "markdown",
   "metadata": {},
   "source": [
    "# Degrees of automation in MLOps\n",
    "\n",
    "\"In the previous video, you learned about the three levels of MLOps maturity: manual, semi-automated, and fully automated ML workflows. These levels represent increasing levels of automation in the ML workflow process, with fully automated being the most mature.\n",
    "\n",
    "In this exercise, you will apply your knowledge about the MLOps reference architecture to classify a series of statements related to machine learning workflows. The statements will describe methodologies and techniques used in ML workflows, and your task is to classify them according to their level of maturity in the following categories:\n",
    "\n",
    "    Manual\n",
    "    Semi-automated\n",
    "    Fully automated\n",
    "\n",
    "![Answer](images/ch03-01.png)"
   ]
  },
  {
   "cell_type": "markdown",
   "metadata": {},
   "source": [
    "# Is this a design pattern?\n",
    "\n",
    "In the previous video, you learned about design patterns in software engineering and how you can utilize such a pattern to make your MLOps systems more robust and reliable.\n",
    "\n",
    "Here, you will practice recalling what a design pattern is. Select the option that correctly describes the concept of design pattern in MLOps.\n",
    "\n",
    "### Possible Answers\n",
    "\n",
    "\n",
    "    A general, reusable solution to a commonly occurring problem within ML system design. {Answer}\n",
    "    \n",
    "    \n",
    "    It is the universal solution, plug-and-play, to a commonly occurring problem in ML system design.\n",
    "    \n",
    "    \n",
    "    They are open-source repositories with libraries that help you solve commonly found problems in MLOps.\n",
    "    \n",
    "    "
   ]
  },
  {
   "cell_type": "markdown",
   "metadata": {},
   "source": [
    "# Retrain, rollback or input?\n",
    "\n",
    "You learned about the Automate, Monitor, Incident Response design pattern in MLOps development. You learned about three specific examples where you can use this pattern to make your ML applications more reliable.\n",
    "\n",
    "In this exercise you will practice concepts related to these three examples of the pattern.\n",
    "\n",
    "![Answer](images/ch03-02.png)"
   ]
  },
  {
   "cell_type": "markdown",
   "metadata": {},
   "source": [
    "# Garbage in - Garbage out... Apply data tests!\n",
    "\n",
    "Welcome back! In the previous video, you learned some crucial concepts about testing in MLOps. Specifically, you gained knowledge about the various types of tests and their significance in machine learning systems. In this exercise, you will apply your understanding of these concepts.\n",
    "\n",
    "Select the options that list tests related exclusively to data used in ML systems. Remember, these data tests should be specific to ML-powered applications.\n",
    "\n",
    "### Possible Answers\n",
    "\n",
    "    Feature expectations{Answeer}\n",
    "\n",
    "\n",
    "    Value from added data justify its costs{Answeer}\n",
    "\n",
    "\n",
    "    Business & ML metrics correlate\n",
    "\n",
    "\n",
    "    Privacy controls are put in place{Answeer}\n",
    "\n",
    "\n",
    "    All hyperparameters have been tuned"
   ]
  },
  {
   "cell_type": "markdown",
   "metadata": {},
   "source": [
    "# Testing: Traditional vs. MLOps\n",
    "\n",
    "Previously, you have learned and practiced important concepts related to automated testing. In this exercise, you will practice differentiating tests that can be applied to\n",
    "\n",
    "    General software applications\n",
    "\n",
    "    ML systems\n",
    "\n",
    "\n",
    "![Answer](images/ch03-03.png)"
   ]
  },
  {
   "cell_type": "markdown",
   "metadata": {},
   "source": [
    "# Testing: Data vs. model vs. pipeline\n",
    "\n",
    "Great work completing the previous exercises. Before moving on to the next video, let's practice the concepts related to testing MLOps systems. Specifically, we will practice differentiating:\n",
    "\n",
    "    Data tests\n",
    "    Model tests\n",
    "    Pipeline tests\n",
    "\n",
    "\n",
    "![Answer](images/ch03-04.png)"
   ]
  },
  {
   "cell_type": "markdown",
   "metadata": {},
   "source": [
    "# Parameter or hyperparameter?\n",
    "\n",
    "In the previous video, you learned about hyperparameters in machine learning and the importance of tuning them. Automating this optimization is key, but it's important to distinguish between hyperparameters and model parameters, as they play different roles in the model development process. Hyperparameters are set before training, while model parameters are learned during training. The way we automate finding the best hyperparameters is different from how we find model parameters, making it important to distinguish between them.\n",
    "\n",
    "This exercise will test your ability to recognize examples of commonly used hyperparameters in ML systems.\n",
    "\n",
    "### Possible Answers\n",
    "\n",
    "\n",
    "    The weights of the connections between neurons in the network, and the biases associated with each neuron are examples of hyperparameters in an artificial neural network.\n",
    "    \n",
    "    \n",
    "    The weights assigned to each feature in the decision trees making up the forest are examples of hyperparameters.\n",
    "    \n",
    "    \n",
    "    The learning rate, maximum depth of trees, and number of trees in a XGBoost model are examples of hyperparameters. {Answer}"
   ]
  },
  {
   "cell_type": "markdown",
   "metadata": {},
   "source": [
    "# The role of hyperparameter tuning in MLOps\n",
    "\n",
    "You understand the role that hyperparameter tuning plays in MLOps. You have learned about the importance of logging in the process of hyperparameter tuning. You have also learned how automating the hyperparameter tuning is key in MLOps.\n",
    "\n",
    "In this exercise, you will use the concepts you are now familiar with to classify a series of statements about the role of hyperparameter tuning in MLOps. These statements will be either true or false.\n",
    "\n",
    "![Answer](images/ch03-05.png)"
   ]
  },
  {
   "cell_type": "markdown",
   "metadata": {},
   "source": [
    "# Automating hyperparameter tuning\n",
    "\n",
    "You have learned about the importance of tuning all available hyperparameters in an ML application to ensure optimal model performance. You are familiar with the large space of possibilities available to you when it comes to hyperparameters and their combinations. As you have learned, it is important to automate the process of hyperparameter tuning in an MLOps system.\n",
    "\n",
    "In this exercise, you will carefully read the descriptions presented to you. They will describe steps necessary in the specification of automated hyperparameter tuning routines.\n",
    "\n",
    "![Answer](images/ch03-06.png)"
   ]
  }
 ],
 "metadata": {
  "kernelspec": {
   "display_name": "Python 3 (ipykernel)",
   "language": "python",
   "name": "python3"
  },
  "language_info": {
   "codemirror_mode": {
    "name": "ipython",
    "version": 3
   },
   "file_extension": ".py",
   "mimetype": "text/x-python",
   "name": "python",
   "nbconvert_exporter": "python",
   "pygments_lexer": "ipython3",
   "version": "3.11.6"
  }
 },
 "nbformat": 4,
 "nbformat_minor": 4
}
