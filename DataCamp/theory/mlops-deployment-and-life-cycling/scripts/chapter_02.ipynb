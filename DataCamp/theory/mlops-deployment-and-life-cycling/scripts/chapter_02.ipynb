{
 "cells": [
  {
   "cell_type": "markdown",
   "metadata": {},
   "source": [
    "# Testing your machine learning model\n",
    "\n",
    "Throughout the ML app and model development, you will produce a collection of unit tests, integration tests, load, stress, and deployment tests.\n",
    "\n",
    "Do not be intimidated if you do not know all these test types already, there are excellent resources to learn them.\n",
    "\n",
    "But at the very least, you should remember the key reason you should write them, which is:\n",
    "\n",
    "### Possible Answers\n",
    "\n",
    "\n",
    "    well written tests help you perform exploratory data analysis.\n",
    "    \n",
    "    \n",
    "    well written tests help you quickly detect and fix errors, long before your service is exposed to the end-users. {Answer}\n",
    "    \n",
    "    \n",
    "    proper testing improves the performance of you model on unseen data.\n"
   ]
  },
  {
   "cell_type": "markdown",
   "metadata": {},
   "source": [
    "# Best time to start deploying\n",
    "\n",
    "You were given the task of developing a recommendation engine for a brand new streaming service.\n",
    "\n",
    "Building the model for this use case will be a challenging process, and just the process of experimentation and tuning can easily preoccupy you.\n",
    "\n",
    "Then, one day, after several months, you did it! The required performance is achieved, so let's deploy this beauty!\n",
    "\n",
    "Ok, but where? How?\n",
    "\n",
    "Reality hits you and you learn the hard way that focusing too much on the development can leave the deployment preparations in a blind spot. This could render all your efforts completely useless, because you can not just deploy any model to any platform, they need to be aligned. In the end it takes you three more months of additional development to make a completely new model package, which is deployment ready.\n",
    "\n",
    "But now you're wiser and you know that the best moment to start preparing your ML model and app for deployment is:\n",
    "\n",
    "### Possible Answers\n",
    "\n",
    "\n",
    "    after the final model has been trained.\n",
    "    \n",
    "    \n",
    "    from the earliest stages of model development. {Answer}\n",
    "    \n",
    "    \n",
    "    during the hyper-parameter tuning phase."
   ]
  },
  {
   "cell_type": "markdown",
   "metadata": {},
   "source": [
    "# Feature store properties\n",
    "\n",
    "In the last video we have introduced feature stores, which are one of the key components in a mature MLOps framework.\n",
    "\n",
    "Can you tell which of the following statements related to feature stores are true and which are false?\n",
    "\n",
    "![Answer](images/ch_02-01.png)"
   ]
  },
  {
   "cell_type": "markdown",
   "metadata": {},
   "source": [
    "# Profiling and feature store benefits\n",
    "\n",
    "Using data profiles and feature stores has many important benefits when our models enter the Operations phase.\n",
    "\n",
    "Do you remember which benefit is linked to which concept?\n",
    "\n",
    "![Answer](images/ch_02-02.png)"
   ]
  },
  {
   "cell_type": "markdown",
   "metadata": {},
   "source": [
    "# Ensuring reproducibility\n",
    "\n",
    "The key step in ensuring the reproducibility of our model is to preserve the exact dataset that was used for training it.\n",
    "\n",
    "We call this procedure:\n",
    "\n",
    "### Possible Answers\n",
    "\n",
    "\n",
    "    Data governance\n",
    "    \n",
    "    \n",
    "    Data profiling\n",
    "    \n",
    "    \n",
    "    Data versioning {Answer}"
   ]
  },
  {
   "cell_type": "markdown",
   "metadata": {},
   "source": [
    "# Different pipelines\n",
    "\n",
    "In the previous lesson you learned about the ML build pipeline and how it differs from the classical DevOps build pipeline.\n",
    "\n",
    "But since a \"pipeline\" is such a frequent, generic term, used to describe any automated sequence of steps, it can sometimes cause confusion.\n",
    "\n",
    "For example, you have seen that, although very similarly named, the model pipeline and the model build pipeline are two completely different things.\n",
    "\n",
    "Do you still remember what are their most important tasks and characteristics?\n",
    "\n",
    "![Answer](images/ch_02-03.png)"
   ]
  },
  {
   "cell_type": "markdown",
   "metadata": {},
   "source": [
    "# Model build pipeline properties\n",
    "\n",
    "In the previous video you learned about the many tasks of the model build pipeline.\n",
    "\n",
    "Can you tell which of the following statements are true?\n",
    "\n",
    "![Answer](images/ch_02-04.png)"
   ]
  },
  {
   "cell_type": "markdown",
   "metadata": {},
   "source": [
    "# CI/CD integration\n",
    "\n",
    "In the last video you learned about the DevOps and MLOps components that our model build pipeline needs within the CI/CD framework in order to function.\n",
    "\n",
    "Some of them store the the inputs for the build process -- let's call them upstream components. Others serve to store pipeline outputs -- let's call them downstream components.\n",
    "\n",
    "Do you still remember which is which?\n",
    "\n",
    "![Answer](images/ch_02-05.png)"
   ]
  },
  {
   "cell_type": "markdown",
   "metadata": {},
   "source": [
    "# Model formats\n",
    "\n",
    "Once your model training pipeline is successfully executed, you need to save your model in a format suitable for storage and deployment within the ML serving application.\n",
    "\n",
    "In this chapter, you heard about two common formats for this purpose.\n",
    "\n",
    "For your use case, you realized that you want to be able to train your model using one programming language, and then load it serve it using an entirely different one.\n",
    "\n",
    "Which format will give you this type of flexibility?\n",
    "\n",
    "### Possible Answers\n",
    "\n",
    "\n",
    "    Pickle\n",
    "    \n",
    "    \n",
    "    PMML {Answer}\n",
    "    \n",
    "    \n",
    "    both\n",
    "    \n",
    "    \n",
    "    neither of the two"
   ]
  },
  {
   "cell_type": "markdown",
   "metadata": {},
   "source": [
    "# Full package\n",
    "\n",
    "In the last lesson of this chapter we have learned what a full model package should contain in order to ensure success in the operations phase.\n",
    "\n",
    "Do you still remember what belongs there and what not?\n",
    "\n",
    "![Answer](images/ch_02-06.png)"
   ]
  }
 ],
 "metadata": {
  "kernelspec": {
   "display_name": "Python 3 (ipykernel)",
   "language": "python",
   "name": "python3"
  },
  "language_info": {
   "codemirror_mode": {
    "name": "ipython",
    "version": 3
   },
   "file_extension": ".py",
   "mimetype": "text/x-python",
   "name": "python",
   "nbconvert_exporter": "python",
   "pygments_lexer": "ipython3",
   "version": "3.11.6"
  }
 },
 "nbformat": 4,
 "nbformat_minor": 4
}
