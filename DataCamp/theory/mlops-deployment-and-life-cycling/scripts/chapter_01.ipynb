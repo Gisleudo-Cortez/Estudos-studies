{
 "cells": [
  {
   "cell_type": "code",
   "execution_count": 1,
   "metadata": {
    "editable": true,
    "slideshow": {
     "slide_type": ""
    },
    "tags": []
   },
   "outputs": [],
   "source": [
    "# run this to shorten the data import from the files\n",
    "import os\n",
    "cwd = os.path.dirname(os.getcwd())+'/'\n",
    "path_data = os.path.join(os.path.dirname(os.getcwd()), 'datasets/')\n"
   ]
  },
  {
   "cell_type": "markdown",
   "metadata": {},
   "source": [
    "# ML workflows\n",
    "\n",
    "The concept of a workflow is central to MLOps. After all, workflows are what we automate and integrate, and the degree to which we achieve that is the degree of our MLOps maturity.\n",
    "\n",
    "Can you differentiate ML workflows specific to machine learning development from those specific to the operations phase?\n",
    "\n",
    "![Answer](images/ch_01-01.png)"
   ]
  },
  {
   "cell_type": "markdown",
   "metadata": {},
   "source": [
    "# MLOps benefits\n",
    "\n",
    "In the first lesson, you learned about the many benefits of implementing MLOps in your organization.\n",
    "\n",
    "Which of the following is NOT one of them?\n",
    "\n",
    "### Possible Answers\n",
    "\n",
    "\n",
    "    Automation\n",
    "    \n",
    "    \n",
    "    Reproducibility\n",
    "    \n",
    "    \n",
    "    Improved data quality {Answer}\n",
    "    \n",
    "    \n",
    "    Workflow integration"
   ]
  },
  {
   "cell_type": "markdown",
   "metadata": {},
   "source": [
    "# App vs. model\n",
    "\n",
    "In the last video, you learned the definition and relationship between the ML model and the ML application.\n",
    "\n",
    "Do you still remember which components, concepts and properties are related to which of these two components?\n",
    "\n",
    "![Answer](images/ch_01-02.png)"
   ]
  },
  {
   "cell_type": "markdown",
   "metadata": {},
   "source": [
    "# Decommissioning\n",
    "\n",
    "You have learned that, sooner or later, all models reach the end of their life cycle, when they need to be \"retired\" and replaced with new ones.\n",
    "\n",
    "This is called decommissioning and it should be done for good reasons, few of which we have mentioned in the last video.\n",
    "\n",
    "Opposed to them, which of the following would NOT be a good reason to retire your current model?\n",
    "\n",
    "### Possible Answers\n",
    "\n",
    "\n",
    "    A significantly better-performing model is discovered\n",
    "    \n",
    "    \n",
    "    Significantly more informative features are created\n",
    "    \n",
    "    \n",
    "    We want to see how the latest Deep Learning model by Google is performing on our data. {Answer}\n",
    "    \n",
    "    \n",
    "    The underlying process has changed significantly"
   ]
  },
  {
   "cell_type": "markdown",
   "metadata": {},
   "source": [
    "# The model life cycle: recap\n",
    "\n",
    "So, after months of experimenting with countless features, models and hyper-parameters, your model definition crystallizes into its final shape. You now want to turn that model definition into a concrete model object and deploy it as a service to the end users, and begin its operational life cycle.\n",
    "\n",
    "Do you remember the order of stages on that journey?\n",
    "\n",
    "![Answer](images/ch_01-03.png)"
   ]
  },
  {
   "cell_type": "markdown",
   "metadata": {},
   "source": [
    "# Automated sequence\n",
    "\n",
    "Automation is the central topic of MLOps. Automated processes are faster and produce more consistent results.\n",
    "\n",
    "On top of that, automation increases trust in a process, because in order to automate something, you must fully understand and clearly define every little step that it includes.\n",
    "\n",
    "A catch-all term for an automated sequence of steps in Dev-, Data- and MLOps is called:\n",
    "\n",
    "### Possible Answers\n",
    "\n",
    "\n",
    "    A workflow\n",
    "    \n",
    "    \n",
    "    A pipeline {Answer}\n",
    "    \n",
    "    \n",
    "    An artifact\n",
    "    \n",
    "    \n",
    "    A feature store"
   ]
  },
  {
   "cell_type": "markdown",
   "metadata": {},
   "source": [
    "# Stores and registries\n",
    "\n",
    "In the last lesson you learned about the high-level architecture of an MLOps framework. You heard about model registries, metadata stores and feature stores.\n",
    "\n",
    "Can you recall which of the following statements holds true for which of these components?\n",
    "\n",
    "![Answer](images/ch_01-04.png)"
   ]
  },
  {
   "cell_type": "markdown",
   "metadata": {},
   "source": [
    "# DevOps or MLOps?\n",
    "\n",
    "You have seen in the previous video that MLOps is an extension of the DevOps framework, not a subset or alternative.\n",
    "\n",
    "You should, therefore, understand which concepts are shared between DevOps and MLOps and which are MLOps specific.\n",
    "\n",
    "In this exercise, your task is to place each concept into the corresponding bucket: DevOps+MLOps for shared concepts and MLOps for ML-specific ones.\n",
    "\n",
    "![Answer](images/ch_01-05.png)"
   ]
  }
 ],
 "metadata": {
  "kernelspec": {
   "display_name": "Python 3 (ipykernel)",
   "language": "python",
   "name": "python3"
  },
  "language_info": {
   "codemirror_mode": {
    "name": "ipython",
    "version": 3
   },
   "file_extension": ".py",
   "mimetype": "text/x-python",
   "name": "python",
   "nbconvert_exporter": "python",
   "pygments_lexer": "ipython3",
   "version": "3.12.3"
  }
 },
 "nbformat": 4,
 "nbformat_minor": 4
}
