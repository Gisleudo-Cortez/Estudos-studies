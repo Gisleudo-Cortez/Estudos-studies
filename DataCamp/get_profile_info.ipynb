{
 "cells": [
  {
   "cell_type": "markdown",
   "metadata": {},
   "source": [
    "# Colect all completed courses from the DataCamp Profile page"
   ]
  },
  {
   "cell_type": "code",
   "execution_count": 1,
   "metadata": {},
   "outputs": [],
   "source": [
    "from bs4 import BeautifulSoup\n",
    "import pandas as pd"
   ]
  },
  {
   "cell_type": "code",
   "execution_count": 2,
   "metadata": {},
   "outputs": [
    {
     "data": {
      "text/html": [
       "<div>\n",
       "<style scoped>\n",
       "    .dataframe tbody tr th:only-of-type {\n",
       "        vertical-align: middle;\n",
       "    }\n",
       "\n",
       "    .dataframe tbody tr th {\n",
       "        vertical-align: top;\n",
       "    }\n",
       "\n",
       "    .dataframe thead th {\n",
       "        text-align: right;\n",
       "    }\n",
       "</style>\n",
       "<table border=\"1\" class=\"dataframe\">\n",
       "  <thead>\n",
       "    <tr style=\"text-align: right;\">\n",
       "      <th></th>\n",
       "      <th>category</th>\n",
       "      <th>names</th>\n",
       "    </tr>\n",
       "  </thead>\n",
       "  <tbody>\n",
       "    <tr>\n",
       "      <th>0</th>\n",
       "      <td>Courses</td>\n",
       "      <td>Introduction to Python</td>\n",
       "    </tr>\n",
       "    <tr>\n",
       "      <th>1</th>\n",
       "      <td>Courses</td>\n",
       "      <td>Introduction to SQL</td>\n",
       "    </tr>\n",
       "    <tr>\n",
       "      <th>2</th>\n",
       "      <td>Courses</td>\n",
       "      <td>Intermediate Python</td>\n",
       "    </tr>\n",
       "    <tr>\n",
       "      <th>3</th>\n",
       "      <td>Courses</td>\n",
       "      <td>Intermediate SQL</td>\n",
       "    </tr>\n",
       "    <tr>\n",
       "      <th>4</th>\n",
       "      <td>Courses</td>\n",
       "      <td>Introduction to Power BI</td>\n",
       "    </tr>\n",
       "    <tr>\n",
       "      <th>...</th>\n",
       "      <td>...</td>\n",
       "      <td>...</td>\n",
       "    </tr>\n",
       "    <tr>\n",
       "      <th>162</th>\n",
       "      <td>Projects</td>\n",
       "      <td>Analyzing River Thames Water Levels</td>\n",
       "    </tr>\n",
       "    <tr>\n",
       "      <th>163</th>\n",
       "      <td>Projects</td>\n",
       "      <td>Modeling Car Insurance Claim Outcomes</td>\n",
       "    </tr>\n",
       "    <tr>\n",
       "      <th>164</th>\n",
       "      <td>Projects</td>\n",
       "      <td>Predictive Modeling for Agriculture</td>\n",
       "    </tr>\n",
       "    <tr>\n",
       "      <th>165</th>\n",
       "      <td>Projects</td>\n",
       "      <td>Predicting Movie Rental Durations</td>\n",
       "    </tr>\n",
       "    <tr>\n",
       "      <th>166</th>\n",
       "      <td>Projects</td>\n",
       "      <td>Interpreting Unsupervised Learning Models</td>\n",
       "    </tr>\n",
       "  </tbody>\n",
       "</table>\n",
       "<p>167 rows × 2 columns</p>\n",
       "</div>"
      ],
      "text/plain": [
       "     category                                      names\n",
       "0     Courses                     Introduction to Python\n",
       "1     Courses                        Introduction to SQL\n",
       "2     Courses                        Intermediate Python\n",
       "3     Courses                           Intermediate SQL\n",
       "4     Courses                   Introduction to Power BI\n",
       "..        ...                                        ...\n",
       "162  Projects        Analyzing River Thames Water Levels\n",
       "163  Projects      Modeling Car Insurance Claim Outcomes\n",
       "164  Projects        Predictive Modeling for Agriculture\n",
       "165  Projects          Predicting Movie Rental Durations\n",
       "166  Projects  Interpreting Unsupervised Learning Models\n",
       "\n",
       "[167 rows x 2 columns]"
      ]
     },
     "metadata": {},
     "output_type": "display_data"
    }
   ],
   "source": [
    "with open('s2.html', 'r') as f:\n",
    "    html = f.read()\n",
    "    f.close()\n",
    "\n",
    "soup = BeautifulSoup(html, 'html.parser')\n",
    "courses_div = soup.select('.mfe-app-portfolios-1bugksy')\n",
    "\n",
    "\n",
    "cats = []\n",
    "names = []\n",
    "\n",
    "for d in courses_div:\n",
    "    name_list = d['data-trackid'].split('-')[1:-1]\n",
    "    c = name_list[0]\n",
    "    n = d.text\n",
    "    cats.append(c)\n",
    "    names.append(n)\n",
    "    \n",
    "data = {'category' : cats, 'names': names}\n",
    "\n",
    "df = pd.DataFrame(data)\n",
    "df['category'] = df.category.str.replace('My ','')\n",
    "display(df)"
   ]
  },
  {
   "cell_type": "code",
   "execution_count": 3,
   "metadata": {},
   "outputs": [],
   "source": [
    "courses = df[df['category'] == 'Courses']['names']\n",
    "projects = df[df['category'] == 'Projects']['names']\n",
    "tracks = df[df['category'] == 'Tracks']['names']"
   ]
  },
  {
   "cell_type": "code",
   "execution_count": 4,
   "metadata": {},
   "outputs": [],
   "source": [
    "df.to_csv('/home/nero/Documents/pessoal/Profissional/cursos_datacamp.csv', index=False)"
   ]
  },
  {
   "cell_type": "code",
   "execution_count": 5,
   "metadata": {},
   "outputs": [],
   "source": [
    "#tracks.to_clipboard(index=False)"
   ]
  }
 ],
 "metadata": {
  "kernelspec": {
   "display_name": "estudos",
   "language": "python",
   "name": "python3"
  },
  "language_info": {
   "codemirror_mode": {
    "name": "ipython",
    "version": 3
   },
   "file_extension": ".py",
   "mimetype": "text/x-python",
   "name": "python",
   "nbconvert_exporter": "python",
   "pygments_lexer": "ipython3",
   "version": "3.11.5"
  },
  "orig_nbformat": 4
 },
 "nbformat": 4,
 "nbformat_minor": 2
}
