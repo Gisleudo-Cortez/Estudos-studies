{
 "cells": [
  {
   "cell_type": "code",
   "execution_count": 15,
   "metadata": {
    "tags": []
   },
   "outputs": [],
   "source": [
    "# run this to shorten the data import from the files\n",
    "path_data = ''\n"
   ]
  },
  {
   "cell_type": "code",
   "execution_count": null,
   "metadata": {},
   "outputs": [
    {
     "data": {
      "text/plain": [
       "'/home/nero/Documents/Estudos/DataCamp'"
      ]
     },
     "execution_count": 15,
     "metadata": {},
     "output_type": "execute_result"
    }
   ],
   "source": [
    "# exercise 01\n",
    "\n",
    "\"\"\"\n",
    "What are the advantages of databases?\n",
    "\n",
    "Imagine you are part of a discussion at work about whether or not to create a database. You've learned about several advantages of storing data in a database rather than other traditional formats like spreadsheets.\n",
    "\n",
    "See if you can remember what they are by selecting all of the advantages.\n",
    "\"\"\"\n",
    "\n",
    "# Instructions\n",
    "\n",
    "\"\"\"\n",
    "More storage (Answers)\n",
    "\n",
    "Many people can use at once (Answers)\n",
    "\n",
    "Can be secured with encryption (Answers)\n",
    "\n",
    "Can easily see all data at once\n",
    "\n",
    "Fast and easy setup\n",
    "\"\"\"\n",
    "\n",
    "# solution\n",
    "\n",
    "\n",
    "\n",
    "#----------------------------------#\n",
    "\n",
    "# Conclusion\n",
    "\n",
    "\"\"\"\n",
    "Well done! There are many advantages of databases, which is why much of the world's data is stored in them.\n",
    "\"\"\""
   ]
  },
  {
   "cell_type": "code",
   "execution_count": 1,
   "metadata": {
    "tags": []
   },
   "outputs": [
    {
     "data": {
      "text/plain": [
       "'\\n\\n'"
      ]
     },
     "execution_count": 1,
     "metadata": {},
     "output_type": "execute_result"
    }
   ],
   "source": [
    "# exercise 02\n",
    "\n",
    "\"\"\"\n",
    "Data organization\n",
    "\n",
    "If you'd like to use SQL to gain insights from data, understanding the organization of a database is an important first step. Take a look at the database below. Which of the following statements correctly describes its organization?\n",
    "\"\"\"\n",
    "\n",
    "# Instructions\n",
    "\n",
    "\"\"\"\n",
    "This is a table containing three relational databases: employees, job_levels, and departments.\n",
    "\n",
    "This is a relational database containing three tables: employees, job_levels, and departments. (Answer)\n",
    "\n",
    "This is a database, but it is not relational, because no relationship exists between job levels and departments.\n",
    "\n",
    "This is not a database because there is no SQL code shown.\n",
    "\"\"\"\n",
    "\n",
    "# solution\n",
    "\n",
    "\n",
    "\n",
    "#----------------------------------#\n",
    "\n",
    "# Conclusion\n",
    "\n",
    "\"\"\"\n",
    "Well done! This is an example of how data in databases is organized into many tables.\n",
    "\"\"\""
   ]
  },
  {
   "cell_type": "code",
   "execution_count": 2,
   "metadata": {
    "tags": []
   },
   "outputs": [
    {
     "data": {
      "text/plain": [
       "'\\n\\n'"
      ]
     },
     "execution_count": 2,
     "metadata": {},
     "output_type": "execute_result"
    }
   ],
   "source": [
    "# exercise 03\n",
    "\n",
    "\"\"\"\n",
    "Picking a unique ID\n",
    "\n",
    "You've learned that a unique identifier is a unique value that identifies a record so that it can be distinguished from other records in the same table.\n",
    "\n",
    "Let's take a closer look at the employees table. Which of the fields do you think is best suited to be a unique identifier?\n",
    "\"\"\"\n",
    "\n",
    "# Instructions\n",
    "\n",
    "\"\"\"\n",
    "name\n",
    "\n",
    "dept_id\n",
    "\n",
    "year_hired\n",
    "\n",
    "id (Answer)\n",
    "\"\"\"\n",
    "\n",
    "# solution\n",
    "\n",
    "\n",
    "\n",
    "#----------------------------------#\n",
    "\n",
    "# Conclusion\n",
    "\n",
    "\"\"\"\n",
    "Yes, that's right! id is unique across all current employees, and we can expect that new employees will receive unique ids as well.\n",
    "\"\"\""
   ]
  },
  {
   "cell_type": "code",
   "execution_count": 3,
   "metadata": {
    "tags": []
   },
   "outputs": [
    {
     "data": {
      "text/plain": [
       "'\\n\\n'"
      ]
     },
     "execution_count": 3,
     "metadata": {},
     "output_type": "execute_result"
    }
   ],
   "source": [
    "# exercise 04\n",
    "\n",
    "\"\"\"\n",
    "Our very own table\n",
    "\n",
    "We've set up a database inside this course, and the books table is available in the exercise. You'll use SQL to query this table in the next chapter, but for now, it's time to explore what data books holds!\n",
    "\n",
    "Your task is to choose the option below that best describes the information contained in books. There's no need to do any coding in this exercise; you can answer this question by looking at the books table in the console next to the words \"query result.\" Because some book titles are long, you may need to scroll to the right in order to see all the information that the books table contains.\n",
    "\"\"\"\n",
    "\n",
    "# Instructions\n",
    "\n",
    "\"\"\"\n",
    "    books contains records for id, title, author, year and genre\n",
    "\n",
    "    books contains fields for id, title, author, year and genre (Answer)\n",
    "\n",
    "    books contains records for title,author, year and genre. id is a unique identifier but not a record\n",
    "\n",
    "    books contains fields for title, author, year and genre. id is a unique identifier but not a field\n",
    "\"\"\"\n",
    "\n",
    "# solution\n",
    "\n",
    "\n",
    "\n",
    "#----------------------------------#\n",
    "\n",
    "# Conclusion\n",
    "\n",
    "\"\"\"\n",
    "Great work! Each record contains information about a book, organized into id, title, author, year, and genre fields.\n",
    "\"\"\""
   ]
  },
  {
   "cell_type": "code",
   "execution_count": 4,
   "metadata": {
    "tags": []
   },
   "outputs": [
    {
     "data": {
      "text/plain": [
       "'\\n\\n'"
      ]
     },
     "execution_count": 4,
     "metadata": {},
     "output_type": "execute_result"
    }
   ],
   "source": [
    "# exercise 05\n",
    "\n",
    "\"\"\"\n",
    "At your service\n",
    "\n",
    "Now that you know more about how data is stored, it's time to test those skills!\n",
    "\n",
    "Select the statement about database storage that is false.\n",
    "\"\"\"\n",
    "\n",
    "# Instructions\n",
    "\n",
    "\"\"\"\n",
    "Servers can be used for storing website information as well as databases.\n",
    "\n",
    "A server can handle requests from many computers at once.\n",
    "\n",
    "Servers are usually personal computers such as laptops. (Answer)\n",
    "\n",
    "Data from a database is physically stored on a server.\n",
    "\"\"\"\n",
    "\n",
    "# solution\n",
    "\n",
    "\n",
    "\n",
    "#----------------------------------#\n",
    "\n",
    "# Conclusion\n",
    "\n",
    "\"\"\"\n",
    "That's right! While it is technically possible for a laptop to be a server, laptops aren't well suited to the job since they are not powerful enough to handle many requests at once and don't have as much storage capacity as larger computers.\n",
    "\"\"\""
   ]
  },
  {
   "cell_type": "code",
   "execution_count": 5,
   "metadata": {
    "tags": []
   },
   "outputs": [
    {
     "data": {
      "text/plain": [
       "'\\n\\n'"
      ]
     },
     "execution_count": 5,
     "metadata": {},
     "output_type": "execute_result"
    }
   ],
   "source": [
    "# exercise 06\n",
    "\n",
    "\"\"\"\n",
    "Finding data types\n",
    "\n",
    "Imagine that you are starting a new job and have just started getting to know your new employer's database. You know that it's important to know the data type—such as VARCHAR, INT, or NUMERIC—corresponding to each field in a table. Where could you find this information?\n",
    "\"\"\"\n",
    "\n",
    "# Instructions\n",
    "\n",
    "\"\"\"\n",
    "You can find this information by looking at each table in the database.\n",
    "\n",
    "You can find this information by looking at a diagram of relationships between tables.\n",
    "\n",
    "You can find this information by looking at the values in each field for each table.\n",
    "\n",
    "You can find this information by looking at a database schema. (Answer)\n",
    "\"\"\"\n",
    "\n",
    "# solution\n",
    "\n",
    "\n",
    "\n",
    "#----------------------------------#\n",
    "\n",
    "# Conclusion\n",
    "\n",
    "\"\"\"\n",
    "Awesome work. Database schemas show data types for each field in all tables, and they also show relationships between tables. Looking at a schema is an excellent way to get to know a new database!\n",
    "\"\"\""
   ]
  }
 ],
 "metadata": {
  "kernelspec": {
   "display_name": "Python 3 (ipykernel)",
   "language": "python",
   "name": "python3"
  },
  "language_info": {
   "codemirror_mode": {
    "name": "ipython",
    "version": 3
   },
   "file_extension": ".py",
   "mimetype": "text/x-python",
   "name": "python",
   "nbconvert_exporter": "python",
   "pygments_lexer": "ipython3",
   "version": "3.10.10"
  }
 },
 "nbformat": 4,
 "nbformat_minor": 4
}
