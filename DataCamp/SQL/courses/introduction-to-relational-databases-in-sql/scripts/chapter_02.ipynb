{
 "cells": [
  {
   "cell_type": "markdown",
   "metadata": {},
   "source": [
    "# Types of database constraints\n",
    "\n",
    "Which of the following is not used to enforce a database constraint?\n",
    "\n",
    "### Possible Answers\n",
    "\n",
    "\n",
    "    Foreign keys\n",
    "    \n",
    "    \n",
    "    SQL aggregate functions {Answer}\n",
    "    \n",
    "    \n",
    "    The BIGINT data type\n",
    "    \n",
    "    \n",
    "    Primary keys\n",
    "\n",
    "**Exactly! SQL aggregate functions are not used to enforce constraints, but to do calculations on data.**"
   ]
  },
  {
   "cell_type": "code",
   "execution_count": null,
   "metadata": {
    "vscode": {
     "languageId": "sql"
    }
   },
   "outputs": [
    {
     "data": {
      "text/plain": [
       "'/home/nero/Documents/Estudos/DataCamp'"
      ]
     },
     "execution_count": 15,
     "metadata": {},
     "output_type": "execute_result"
    }
   ],
   "source": [
    "# exercise 01\n",
    "\n",
    "\"\"\"\n",
    "Conforming with data types\n",
    "\n",
    "For demonstration purposes, I created a fictional database table that only holds three records. The columns have the data types date, integer, and text, respectively.\n",
    "\n",
    "CREATE TABLE transactions (\n",
    " transaction_date date, \n",
    " amount integer,\n",
    " fee text\n",
    ");\n",
    "\n",
    "Have a look at the contents of the transactions table.\n",
    "\n",
    "The transaction_date accepts date values. According to the PostgreSQL documentation, it accepts values in the form of YYYY-MM-DD, DD/MM/YY, and so forth.\n",
    "(https://www.postgresql.org/docs/10/datatype-datetime.html#DATATYPE-DATETIME-INPUT)\n",
    "Both columns amount and fee appear to be numeric, however, the latter is modeled as text – which you will account for in the next exercise.\n",
    "\"\"\"\n",
    "\n",
    "# Instructions\n",
    "\n",
    "\"\"\"\n",
    "\n",
    "    Execute the given sample code.\n",
    "\n",
    "    As it doesn't work, have a look at the error message and correct the statement accordingly – then execute it again.\n",
    "\n",
    "\"\"\"\n",
    "\n",
    "# solution\n",
    "\n",
    "-- Let's add a record to the table\n",
    "INSERT INTO transactions (transaction_date, amount, fee) \n",
    "VALUES ('2018-09-24', 5454, '30');\n",
    "\n",
    "-- Doublecheck the contents\n",
    "SELECT *\n",
    "FROM transactions;\n",
    "\n",
    "#----------------------------------#\n",
    "\n",
    "# Conclusion\n",
    "\n",
    "\"\"\"\n",
    "Good work. You can see that data types provide certain restrictions on how data can be entered into a table. This may be tedious at the moment of insertion, but saves a lot of headache in the long run.\n",
    "\"\"\""
   ]
  },
  {
   "cell_type": "code",
   "execution_count": 1,
   "metadata": {
    "tags": [],
    "vscode": {
     "languageId": "sql"
    }
   },
   "outputs": [
    {
     "data": {
      "text/plain": [
       "'\\n\\n'"
      ]
     },
     "execution_count": 1,
     "metadata": {},
     "output_type": "execute_result"
    }
   ],
   "source": [
    "# exercise 02\n",
    "\n",
    "\"\"\"\n",
    "Type CASTs\n",
    "\n",
    "In the video, you saw that type casts are a possible solution for data type issues. If you know that a certain column stores numbers as text, you can cast the column to a numeric form, i.e. to integer.\n",
    "\n",
    "SELECT CAST(some_column AS integer)\n",
    "FROM table;\n",
    "\n",
    "Now, the some_column column is temporarily represented as integer instead of text, meaning that you can perform numeric calculations on the column.\n",
    "\"\"\"\n",
    "\n",
    "# Instructions\n",
    "\n",
    "\"\"\"\n",
    "\n",
    "    Execute the given sample code.\n",
    "    \n",
    "    As it doesn't work, add an integer type cast at the right place and execute it again.\n",
    "\n",
    "\"\"\"\n",
    "\n",
    "# solution\n",
    "\n",
    "-- Calculate the net amount as amount + fee\n",
    "SELECT transaction_date, amount + CAST(fee AS INTEGER) AS net_amount \n",
    "FROM transactions;\n",
    "\n",
    "#----------------------------------#\n",
    "\n",
    "# Conclusion\n",
    "\n",
    "\"\"\"\n",
    "Good job! You saw how, sometimes, type casts are necessary to work with data. However, it is better to store columns in the right data type from the first place. You'll learn how to do this in the next exercises.\n",
    "\"\"\""
   ]
  },
  {
   "cell_type": "code",
   "execution_count": 2,
   "metadata": {
    "tags": [],
    "vscode": {
     "languageId": "sql"
    }
   },
   "outputs": [
    {
     "data": {
      "text/plain": [
       "'\\n\\n'"
      ]
     },
     "execution_count": 2,
     "metadata": {},
     "output_type": "execute_result"
    }
   ],
   "source": [
    "# exercise 03\n",
    "\n",
    "\"\"\"\n",
    "Change types with ALTER COLUMN\n",
    "\n",
    "The syntax for changing the data type of a column is straightforward. The following code changes the data type of the column_name column in table_name to varchar(10):\n",
    "\n",
    "ALTER TABLE table_name\n",
    "ALTER COLUMN column_name\n",
    "TYPE varchar(10)\n",
    "\n",
    "Now it's time to start adding constraints to your database.\n",
    "\"\"\"\n",
    "\n",
    "# Instructions\n",
    "\n",
    "\"\"\"\n",
    "Have a look at the distinct university_shortname values in the professors table and take note of the length of the strings.\n",
    "---\n",
    "Now specify a fixed-length character type with the correct length for university_shortname.\n",
    "---\n",
    "Change the type of the firstname column to varchar(64).\n",
    "\"\"\"\n",
    "\n",
    "# solution\n",
    "\n",
    "-- Select the university_shortname column\n",
    "SELECT DISTINCT(university_shortname) \n",
    "FROM professors;\n",
    "\n",
    "#----------------------------------#\n",
    "\n",
    "-- Specify the correct fixed-length character type\n",
    "ALTER TABLE professors\n",
    "ALTER COLUMN university_shortname\n",
    "TYPE CHAR(3);\n",
    "\n",
    "#----------------------------------#\n",
    "\n",
    "-- Change the type of firstname\n",
    "ALTER TABLE professors\n",
    "ALTER COLUMN firstname\n",
    "TYPE VARCHAR(64);\n",
    "\n",
    "#----------------------------------#\n",
    "\n",
    "# Conclusion\n",
    "\n",
    "\"\"\"\n",
    "Good work. I've specified the types of the other tables for you.\n",
    "\"\"\""
   ]
  },
  {
   "cell_type": "code",
   "execution_count": 3,
   "metadata": {
    "tags": [],
    "vscode": {
     "languageId": "sql"
    }
   },
   "outputs": [
    {
     "data": {
      "text/plain": [
       "'\\n\\n'"
      ]
     },
     "execution_count": 3,
     "metadata": {},
     "output_type": "execute_result"
    }
   ],
   "source": [
    "# exercise 04\n",
    "\n",
    "\"\"\"\n",
    "Convert types USING a function\n",
    "\n",
    "If you don't want to reserve too much space for a certain varchar column, you can truncate the values before converting its type.\n",
    "\n",
    "For this, you can use the following syntax:\n",
    "\n",
    "ALTER TABLE table_name\n",
    "ALTER COLUMN column_name\n",
    "TYPE varchar(x)\n",
    "USING SUBSTRING(column_name FROM 1 FOR x)\n",
    "\n",
    "You should read it like this: Because you want to reserve only x characters for column_name, you have to retain a SUBSTRING of every value, i.e. the first x characters of it, and throw away the rest. This way, the values will fit the varchar(x) requirement.\n",
    "\"\"\"\n",
    "\n",
    "# Instructions\n",
    "\n",
    "\"\"\"\n",
    "\n",
    "    Run the sample code as is and take note of the error.\n",
    "\n",
    "    Now use SUBSTRING() to reduce firstname to 16 characters so its type can be altered to varchar(16).\n",
    "\n",
    "\"\"\"\n",
    "\n",
    "# solution\n",
    "\n",
    "-- Convert the values in firstname to a max. of 16 characters\n",
    "ALTER TABLE professors \n",
    "ALTER COLUMN firstname \n",
    "TYPE varchar(16)\n",
    "USING SUBSTRING(firstname FROM 1 FOR 16);\n",
    "\n",
    "#----------------------------------#\n",
    "\n",
    "# Conclusion\n",
    "\n",
    "\"\"\"\n",
    "Perfect! However, it's best not to truncate any values in your database, so we'll revert this column to varchar(64). Now it's time to move on to the next set of attribute constraints!\n",
    "\"\"\""
   ]
  },
  {
   "cell_type": "code",
   "execution_count": 4,
   "metadata": {
    "tags": [],
    "vscode": {
     "languageId": "sql"
    }
   },
   "outputs": [
    {
     "data": {
      "text/plain": [
       "'\\n\\n'"
      ]
     },
     "execution_count": 4,
     "metadata": {},
     "output_type": "execute_result"
    }
   ],
   "source": [
    "# exercise 05\n",
    "\n",
    "\"\"\"\n",
    "Disallow NULL values with SET NOT NULL\n",
    "\n",
    "The professors table is almost ready now. However, it still allows for NULLs to be entered. Although some information might be missing about some professors, there's certainly columns that always need to be specified.\n",
    "\"\"\"\n",
    "\n",
    "# Instructions\n",
    "\n",
    "\"\"\"\n",
    "Add a not-null constraint for the firstname column.\n",
    "---\n",
    "Add a not-null constraint for the lastname column.\n",
    "\"\"\"\n",
    "\n",
    "# solution\n",
    "\n",
    "-- Disallow NULL values in firstname\n",
    "ALTER TABLE professors \n",
    "ALTER COLUMN firstname SET NOT NULL;\n",
    "\n",
    "#----------------------------------#\n",
    "\n",
    "-- Disallow NULL values in lastname\n",
    "ALTER TABLE professors\n",
    "ALTER COLUMN lastname SET NOT NULL;\n",
    "\n",
    "#----------------------------------#\n",
    "\n",
    "# Conclusion\n",
    "\n",
    "\"\"\"\n",
    "Good job - it is no longer possible to add professors which have either their first or last name set to NULL. Likewise, it is no longer possible to update an existing professor and setting their first or last name to NULL.\n",
    "\"\"\""
   ]
  },
  {
   "cell_type": "code",
   "execution_count": 5,
   "metadata": {
    "tags": []
   },
   "outputs": [
    {
     "data": {
      "text/plain": [
       "'\\n\\n'"
      ]
     },
     "execution_count": 5,
     "metadata": {},
     "output_type": "execute_result"
    }
   ],
   "source": [
    "# exercise 06\n",
    "\n",
    "\"\"\"\n",
    "What happens if you try to enter NULLs?\n",
    "\n",
    "Execute the following statement:\n",
    "\n",
    "INSERT INTO professors (firstname, lastname, university_shortname)\n",
    "VALUES (NULL, 'Miller', 'ETH');\n",
    "\n",
    "Why does this throw an error?\n",
    "\"\"\"\n",
    "\n",
    "# Instructions\n",
    "\n",
    "\"\"\"\n",
    "Possible answers:\n",
    "    \n",
    "    Professors without first names do not exist.\n",
    "    \n",
    "    Because a database constraint is violated. {Answer}\n",
    "    \n",
    "    Error? This works just fine.\n",
    "    \n",
    "    NULL is not put in quotes.\n",
    "\"\"\"\n",
    "\n",
    "# solution\n",
    "\n",
    "\n",
    "\n",
    "#----------------------------------#\n",
    "\n",
    "# Conclusion\n",
    "\n",
    "\"\"\"\n",
    "Correct! This statement violates one of the not-null constraints you've just specified.\n",
    "\"\"\""
   ]
  },
  {
   "cell_type": "code",
   "execution_count": 6,
   "metadata": {
    "tags": [],
    "vscode": {
     "languageId": "sql"
    }
   },
   "outputs": [
    {
     "data": {
      "text/plain": [
       "'\\n\\n'"
      ]
     },
     "execution_count": 6,
     "metadata": {},
     "output_type": "execute_result"
    }
   ],
   "source": [
    "# exercise 07\n",
    "\n",
    "\"\"\"\n",
    "Make your columns UNIQUE with ADD CONSTRAINT\n",
    "\n",
    "As seen in the video, you add the UNIQUE keyword after the column_name that should be unique. This, of course, only works for new tables:\n",
    "\n",
    "CREATE TABLE table_name (\n",
    " column_name UNIQUE\n",
    ");\n",
    "\n",
    "If you want to add a unique constraint to an existing table, you do it like that:\n",
    "\n",
    "ALTER TABLE table_name\n",
    "ADD CONSTRAINT some_name UNIQUE(column_name);\n",
    "\n",
    "Note that this is different from the ALTER COLUMN syntax for the not-null constraint. Also, you have to give the constraint a name some_name.\n",
    "\"\"\"\n",
    "\n",
    "# Instructions\n",
    "\n",
    "\"\"\"\n",
    "Add a unique constraint to the university_shortname column in universities. Give it the name university_shortname_unq.\n",
    "---\n",
    "Add a unique constraint to the organization column in organizations. Give it the name organization_unq.\n",
    "\"\"\"\n",
    "\n",
    "# solution\n",
    "\n",
    "-- Make universities.university_shortname unique\n",
    "ALTER TABLE universities\n",
    "ADD CONSTRAINT university_shortname_unq UNIQUE(university_shortname);\n",
    "\n",
    "#----------------------------------#\n",
    "\n",
    "-- Make organizations.organization unique\n",
    "ALTER TABLE organizations\n",
    "ADD CONSTRAINT organization_unq UNIQUE(organization)\n",
    "\n",
    "#----------------------------------#\n",
    "\n",
    "# Conclusion\n",
    "\n",
    "\"\"\"\n",
    "Perfect. Making sure universities.university_shortname and organizations.organization only contain unique values is a prerequisite for turning them into so-called primary keys – the subject of the next chapter!\n",
    "\"\"\""
   ]
  }
 ],
 "metadata": {
  "kernelspec": {
   "display_name": "Python 3 (ipykernel)",
   "language": "python",
   "name": "python3"
  },
  "language_info": {
   "codemirror_mode": {
    "name": "ipython",
    "version": 3
   },
   "file_extension": ".py",
   "mimetype": "text/x-python",
   "name": "python",
   "nbconvert_exporter": "python",
   "pygments_lexer": "ipython3",
   "version": "3.11.6"
  }
 },
 "nbformat": 4,
 "nbformat_minor": 4
}
