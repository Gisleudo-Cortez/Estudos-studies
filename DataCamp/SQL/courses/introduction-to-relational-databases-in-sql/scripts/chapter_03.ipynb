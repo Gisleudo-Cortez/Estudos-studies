{
 "cells": [
  {
   "cell_type": "code",
   "execution_count": null,
   "metadata": {
    "vscode": {
     "languageId": "sql"
    }
   },
   "outputs": [
    {
     "data": {
      "text/plain": [
       "'/home/nero/Documents/Estudos/DataCamp'"
      ]
     },
     "execution_count": 15,
     "metadata": {},
     "output_type": "execute_result"
    }
   ],
   "source": [
    "# exercise 01\n",
    "\n",
    "\"\"\"\n",
    "Get to know SELECT COUNT DISTINCT\n",
    "\n",
    "Your database doesn't have any defined keys so far, and you don't know which columns or combinations of columns are suited as keys.\n",
    "\n",
    "There's a simple way of finding out whether a certain column (or a combination) contains only unique values – and thus identifies the records in the table.\n",
    "\n",
    "You already know the SELECT DISTINCT query from the first chapter. Now you just have to wrap everything within the COUNT() function and PostgreSQL will return the number of unique rows for the given columns:\n",
    "\n",
    "SELECT COUNT(DISTINCT(column_a, column_b, ...))\n",
    "FROM table;\n",
    "\n",
    "\"\"\"\n",
    "\n",
    "# Instructions\n",
    "\n",
    "\"\"\"\n",
    "First, find out the number of rows in universities.\n",
    "---\n",
    "Then, find out how many unique values there are in the university_city column.\n",
    "\"\"\"\n",
    "\n",
    "# solution\n",
    "\n",
    "-- Count the number of rows in universities\n",
    "SELECT COUNT(DISTINCT(universities)) \n",
    "FROM universities;\n",
    "\n",
    "#----------------------------------#\n",
    "\n",
    "-- Count the number of distinct values in the university_city column\n",
    "SELECT COUNT(distinct(university_city)) \n",
    "FROM universities;\n",
    "\n",
    "#----------------------------------#\n",
    "\n",
    "# Conclusion\n",
    "\n",
    "\"\"\"\n",
    "Great! So, obviously, the university_city column wouldn't lend itself as a key. Why? Because there are only 9 distinct values, but the table has 11 rows.\n",
    "\"\"\""
   ]
  },
  {
   "cell_type": "code",
   "execution_count": 1,
   "metadata": {
    "tags": [],
    "vscode": {
     "languageId": "sql"
    }
   },
   "outputs": [
    {
     "data": {
      "text/plain": [
       "'\\n\\n'"
      ]
     },
     "execution_count": 1,
     "metadata": {},
     "output_type": "execute_result"
    }
   ],
   "source": [
    "# exercise 02\n",
    "\n",
    "\"\"\"\n",
    "Identify keys with SELECT COUNT DISTINCT\n",
    "\n",
    "There's a very basic way of finding out what qualifies for a key in an existing, populated table:\n",
    "\n",
    "    Count the distinct records for all possible combinations of columns. If the resulting number x equals the number of all rows in the table for a combination, you have discovered a superkey.\n",
    "\n",
    "    Then remove one column after another until you can no longer remove columns without seeing the number x decrease. If that is the case, you have discovered a (candidate) key.\n",
    "\n",
    "The table professors has 551 rows. It has only one possible candidate key, which is a combination of two attributes. You might want to try different combinations using the \"Run code\" button. Once you have found the solution, you can submit your answer.\n",
    "\"\"\"\n",
    "\n",
    "# Instructions\n",
    "\n",
    "\"\"\"\n",
    "Using the above steps, identify the candidate key by trying out different combination of columns.\n",
    "\"\"\"\n",
    "\n",
    "# solution\n",
    "\n",
    "-- Try out different combinations\n",
    "SELECT COUNT(DISTINCT(firstname, lastname)) \n",
    "FROM professors;\n",
    "\n",
    "#----------------------------------#\n",
    "\n",
    "# Conclusion\n",
    "\n",
    "\"\"\"\n",
    "Indeed, the only combination that uniquely identifies professors is {firstname, lastname}. {firstname, lastname, university_shortname} is a superkey, and all other combinations give duplicate values. Hopefully, the concept of superkeys and keys is now a bit more clear. Let's move on to primary keys!\n",
    "\"\"\""
   ]
  },
  {
   "cell_type": "markdown",
   "metadata": {},
   "source": [
    "# Identify the primary key\n",
    "\n",
    "Have a look at the example table from the previous video. As the database designer, you have to make a wise choice as to which column should be the primary key.\n",
    "\n",
    "## Vehicle Information Table\n",
    "\n",
    "| license_no | serial_no | make | model | year |\n",
    "|---|---|---|---|---|\n",
    "| Texas ABC-739 | A69352 | Ford | Mustang | 2 |\n",
    "| Florida TVP-347 | B43696 | Oldsmobile | Cutlass | 5 |\n",
    "| New York MPO-22 | X83554 | Oldsmobile | Delta | 1 |\n",
    "| California 432-TFY | C43742 | Mercedes | 190-D | 99 |\n",
    "| California RSK-629 | Y82935 | Toyota | Camry | 4 |\n",
    "| Texas RSK-629 | U028365 | Jaguar | XJS | 4 |\n",
    "\n",
    "\n",
    "Which of the following column or column combinations could best serve as primary key?\n",
    "\n",
    "### Possible Answers\n",
    "\n",
    "\n",
    "    PK = {make}\n",
    "    \n",
    "    \n",
    "    PK = {model, year}\n",
    "    \n",
    "    \n",
    "    PK = {license_no} {Answer}\n",
    "    \n",
    "    \n",
    "    PK = {year, make}\n",
    "**A primary key consisting solely of \"license_no\" is probably the wisest choice, as license numbers are certainly unique across all registered cars in a country.**"
   ]
  },
  {
   "cell_type": "code",
   "execution_count": 2,
   "metadata": {
    "tags": [],
    "vscode": {
     "languageId": "sql"
    }
   },
   "outputs": [
    {
     "data": {
      "text/plain": [
       "'\\n\\n'"
      ]
     },
     "execution_count": 2,
     "metadata": {},
     "output_type": "execute_result"
    }
   ],
   "source": [
    "# exercise 03\n",
    "\n",
    "\"\"\"\n",
    "ADD key CONSTRAINTs to the tables\n",
    "\n",
    "Two of the tables in your database already have well-suited candidate keys consisting of one column each: organizations and universities with the organization and university_shortname columns, respectively.\n",
    "\n",
    "In this exercise, you'll rename these columns to id using the RENAME COLUMN command and then specify primary key constraints for them. This is as straightforward as adding unique constraints (see the last exercise of Chapter 2):\n",
    "\n",
    "ALTER TABLE table_name\n",
    "ADD CONSTRAINT some_name PRIMARY KEY (column_name)\n",
    "\n",
    "Note that you can also specify more than one column in the brackets.\n",
    "\"\"\"\n",
    "\n",
    "# Instructions\n",
    "\n",
    "\"\"\"\n",
    "    Rename the organization column to id in organizations.\n",
    "    Make id a primary key and name it organization_pk.\n",
    "---\n",
    "    Rename the university_shortname column to id in universities.\n",
    "    Make id a primary key and name it university_pk.\n",
    "\n",
    "\"\"\"\n",
    "\n",
    "# solution\n",
    "\n",
    "-- Rename the organization column to id\n",
    "ALTER TABLE organizations\n",
    "RENAME COLUMN organization TO id;\n",
    "\n",
    "-- Make id a primary key\n",
    "ALTER TABLE organizations\n",
    "ADD CONSTRAINT organization_pk PRIMARY KEY (id);\n",
    "\n",
    "#----------------------------------#\n",
    "\n",
    "-- Rename the university_shortname column to id\n",
    "ALTER TABLE universities\n",
    "RENAME COLUMN university_shortname TO id;\n",
    "\n",
    "-- Make id a primary key\n",
    "ALTER TABLE universities\n",
    "ADD CONSTRAINT university_pk PRIMARY KEY (id);\n",
    "\n",
    "#----------------------------------#\n",
    "\n",
    "# Conclusion\n",
    "\n",
    "\"\"\"\n",
    "Good job! That was easy, wasn't it? Let's tackle the last table that needs a primary key right now: professors. However, things are going to be different this time, because you'll add a so-called surrogate key.\n",
    "\"\"\""
   ]
  },
  {
   "cell_type": "code",
   "execution_count": 3,
   "metadata": {
    "tags": [],
    "vscode": {
     "languageId": "sql"
    }
   },
   "outputs": [
    {
     "data": {
      "text/plain": [
       "'\\n\\n'"
      ]
     },
     "execution_count": 3,
     "metadata": {},
     "output_type": "execute_result"
    }
   ],
   "source": [
    "# exercise 04\n",
    "\n",
    "\"\"\"\n",
    "Add a SERIAL surrogate key\n",
    "\n",
    "Since there's no single column candidate key in professors (only a composite key candidate consisting of firstname, lastname), you'll add a new column id to that table.\n",
    "\n",
    "This column has a special data type serial, which turns the column into an auto-incrementing number. This means that, whenever you add a new professor to the table, it will automatically get an id that does not exist yet in the table: a perfect primary key!\n",
    "\"\"\"\n",
    "\n",
    "# Instructions\n",
    "\n",
    "\"\"\"\n",
    "Add a new column id with data type serial to the professors table.\n",
    "---\n",
    "Make id a primary key and name it professors_pkey.\n",
    "---\n",
    "Write a query that returns all the columns and 10 rows from professors.\n",
    "\"\"\"\n",
    "\n",
    "# solution\n",
    "\n",
    "-- Add the new column to the table\n",
    "ALTER TABLE professors \n",
    "ADD COLUMN id serial;\n",
    "\n",
    "-- Make id a primary key\n",
    "ALTER TABLE professors \n",
    "ADD CONSTRAINT professors_pkey PRIMARY KEY (id);\n",
    "\n",
    "-- Have a look at the first 10 rows of professors\n",
    "SELECT * FROM professors LIMIT 10;\n",
    "\n",
    "#----------------------------------#\n",
    "\n",
    "# Conclusion\n",
    "\n",
    "\"\"\"\n",
    "Well done. As you can see, PostgreSQL has automatically numbered the rows with the id column, which now functions as a (surrogate) primary key - it uniquely identifies professors.\n",
    "\"\"\""
   ]
  },
  {
   "cell_type": "code",
   "execution_count": 4,
   "metadata": {
    "tags": [],
    "vscode": {
     "languageId": "sql"
    }
   },
   "outputs": [
    {
     "data": {
      "text/plain": [
       "'\\n\\n'"
      ]
     },
     "execution_count": 4,
     "metadata": {},
     "output_type": "execute_result"
    }
   ],
   "source": [
    "# exercise 05\n",
    "\n",
    "\"\"\"\n",
    "CONCATenate columns to a surrogate key\n",
    "\n",
    "Another strategy to add a surrogate key to an existing table is to concatenate existing columns with the CONCAT() function.\n",
    "\n",
    "Let's think of the following example table:\n",
    "\n",
    "CREATE TABLE cars (\n",
    " make varchar(64) NOT NULL,\n",
    " model varchar(64) NOT NULL,\n",
    " mpg integer NOT NULL\n",
    ")\n",
    "\n",
    "The table is populated with 10 rows of completely fictional data.\n",
    "\n",
    "Unfortunately, the table doesn't have a primary key yet. None of the columns consists of only unique values, so some columns can be combined to form a key.\n",
    "\n",
    "In the course of the following exercises, you will combine make and model into such a surrogate key.\n",
    "\"\"\"\n",
    "\n",
    "# Instructions\n",
    "\n",
    "\"\"\"\n",
    "Count the number of distinct rows with a combination of the make and model columns.\n",
    "---\n",
    "Add a new column id with the data type varchar(128).\n",
    "---\n",
    "Concatenate make and model into id using an UPDATE table_name SET column_name = ... query and the CONCAT() function.\n",
    "---\n",
    "Make id a primary key and name it id_pk.\n",
    "\"\"\"\n",
    "\n",
    "# solution\n",
    "\n",
    "-- Count the number of distinct rows with columns make, model\n",
    "SELECT COUNT(DISTINCT(make, model)) \n",
    "FROM cars;\n",
    "\n",
    "-- Add the id column\n",
    "ALTER TABLE cars\n",
    "ADD COLUMN id varchar(128);\n",
    "\n",
    "-- Update id with make + model\n",
    "UPDATE cars\n",
    "SET id = CONCAT(make, model);\n",
    "\n",
    "-- Make id a primary key\n",
    "ALTER TABLE cars\n",
    "ADD CONSTRAINT id_pk PRIMARY KEY(id);\n",
    "\n",
    "-- Have a look at the table\n",
    "SELECT * FROM cars;\n",
    "\n",
    "#----------------------------------#\n",
    "\n",
    "# Conclusion\n",
    "\n",
    "\"\"\"\n",
    "Good job! These were quite some steps, but you've managed! Let's look into another method of adding a surrogate key now.\n",
    "\"\"\""
   ]
  },
  {
   "cell_type": "code",
   "execution_count": 5,
   "metadata": {
    "tags": [],
    "vscode": {
     "languageId": "sql"
    }
   },
   "outputs": [
    {
     "data": {
      "text/plain": [
       "'\\n\\n'"
      ]
     },
     "execution_count": 5,
     "metadata": {},
     "output_type": "execute_result"
    }
   ],
   "source": [
    "# exercise 06\n",
    "\n",
    "\"\"\"\n",
    "Test your knowledge before advancing\n",
    "\n",
    "Before you move on to the next chapter, let's quickly review what you've learned so far about attributes and key constraints. If you're unsure about the answer, please quickly review chapters 2 and 3, respectively.\n",
    "\n",
    "Let's think of an entity type \"student\". A student has:\n",
    "\n",
    "    a last name consisting of up to 128 characters (required),\n",
    "    a unique social security number, consisting only of integers, that should serve as a key,\n",
    "    a phone number of fixed length 12, consisting of numbers and characters (but some students don't have one).\n",
    "\n",
    "\"\"\"\n",
    "\n",
    "# Instructions\n",
    "\n",
    "\"\"\"\n",
    "\n",
    "    Given the above description of a student entity, create a table students with the correct column types.\n",
    "    Add a PRIMARY KEY for the social security number ssn.\n",
    "\n",
    "Note that there is no formal length requirement for the integer column. The application would have to make sure it's a correct SSN!\n",
    "\"\"\"\n",
    "\n",
    "# solution\n",
    "\n",
    "-- Create the table\n",
    "CREATE TABLE students (\n",
    "  last_name VARCHAR(128) NOT NULL,\n",
    "  ssn INTEGER PRIMARY KEY,\n",
    "  phone_no CHAR(12)\n",
    ");\n",
    "\n",
    "#----------------------------------#\n",
    "\n",
    "# Conclusion\n",
    "\n",
    "\"\"\"\n",
    "Great! Looks like you are ready for the last chapter of this course, where you'll connect tables in your database.\n",
    "\"\"\""
   ]
  }
 ],
 "metadata": {
  "kernelspec": {
   "display_name": "Python 3 (ipykernel)",
   "language": "python",
   "name": "python3"
  },
  "language_info": {
   "codemirror_mode": {
    "name": "ipython",
    "version": 3
   },
   "file_extension": ".py",
   "mimetype": "text/x-python",
   "name": "python",
   "nbconvert_exporter": "python",
   "pygments_lexer": "ipython3",
   "version": "3.11.6"
  }
 },
 "nbformat": 4,
 "nbformat_minor": 4
}
