{
 "cells": [
  {
   "cell_type": "code",
   "execution_count": 15,
   "metadata": {
    "tags": []
   },
   "outputs": [],
   "source": [
    "# run this to shorten the data import from the files\n",
    "path_data = ''\n"
   ]
  },
  {
   "cell_type": "code",
   "execution_count": null,
   "metadata": {},
   "outputs": [
    {
     "data": {
      "text/plain": [
       "'/home/nero/Documents/Estudos/DataCamp'"
      ]
     },
     "execution_count": 15,
     "metadata": {},
     "output_type": "execute_result"
    }
   ],
   "source": [
    "# exercise 01\n",
    "\n",
    "\"\"\"\n",
    "Learning to COUNT()\n",
    "\n",
    "You saw how to use COUNT() in the video. Do you remember what it returns?\n",
    "\n",
    "Here is a query counting film_id. Select the answer below that correctly describes what the query will return.\n",
    "\n",
    "SELECT COUNT(film_id) AS count_film_id\n",
    "FROM reviews;\n",
    "\n",
    "Run the query in the console to test your theory!\n",
    "\"\"\"\n",
    "\n",
    "# Instructions\n",
    "\n",
    "\"\"\"\n",
    "The number of unique films in the reviews table\n",
    "\n",
    "The number of records containing a film_id (Answer)\n",
    "\n",
    "The total number of records in the reviews table\n",
    "\n",
    "The sum of the film_id field\n",
    "\"\"\"\n",
    "\n",
    "# solution\n",
    "\n",
    "\n",
    "\n",
    "#----------------------------------#\n",
    "\n",
    "# Conclusion\n",
    "\n",
    "\"\"\"\n",
    "Correct! COUNT(field_name) returns the number of records containing a value in a field. In this example, that field is film_id.\n",
    "\"\"\""
   ]
  },
  {
   "cell_type": "code",
   "execution_count": 1,
   "metadata": {
    "tags": []
   },
   "outputs": [
    {
     "data": {
      "text/plain": [
       "'\\n\\n'"
      ]
     },
     "execution_count": 1,
     "metadata": {},
     "output_type": "execute_result"
    }
   ],
   "source": [
    "# exercise 02\n",
    "\n",
    "\"\"\"\n",
    "Practice with COUNT()\n",
    "\n",
    "As you've seen, COUNT(*) tells you how many records are in a table. However, if you want to count the number of non-missing values in a particular field, you can call COUNT() on just that field.\n",
    "\n",
    "Let's get some practice with COUNT()! You can look at the data in the tables throughout these exercises by clicking on the table name in the console.\n",
    "\"\"\"\n",
    "\n",
    "# Instructions\n",
    "\n",
    "\"\"\"\n",
    "\n",
    "    Count the number of records in the people table, aliasing the result as count_records.\n",
    "\n",
    "    Count the number of records with a birthdate in the people table, aliasing the result as count_birthdate.\n",
    "\n",
    "    Count the languages and countries in the films table; alias as count_languages and count_countries.\n",
    "\n",
    "\"\"\"\n",
    "\n",
    "# solution\n",
    "\n",
    "-- Count the number of records in the people table\n",
    "SELECT COUNT(*) AS count_records\n",
    "FROM people;\n",
    "\n",
    "#----------------------------------#\n",
    "\n",
    "-- Count the number of birthdates in the people table\n",
    "SELECT COUNT(birthdate) AS count_birthdate\n",
    "FROM people;\n",
    "\n",
    "#----------------------------------#\n",
    "\n",
    "-- Count the languages and countries represented in the films table\n",
    "SELECT COUNT(language) AS count_languages, COUNT(country) AS count_countries\n",
    "FROM films;\n",
    "\n",
    "#----------------------------------#\n",
    "\n",
    "# Conclusion\n",
    "\n",
    "\"\"\"\n",
    "Tres Bien! Looking at the differences between the count of unique values, total values, and all records can provide useful insights into your data.\n",
    "\"\"\""
   ]
  },
  {
   "cell_type": "code",
   "execution_count": 2,
   "metadata": {
    "tags": []
   },
   "outputs": [
    {
     "data": {
      "text/plain": [
       "'\\n\\n'"
      ]
     },
     "execution_count": 2,
     "metadata": {},
     "output_type": "execute_result"
    }
   ],
   "source": [
    "# exercise 03\n",
    "\n",
    "\"\"\"\n",
    "SELECT DISTINCT\n",
    "\n",
    "Often query results will include many duplicate values. You can use the DISTINCT keyword to select the unique values from a field.\n",
    "\n",
    "This might be useful if, for example, you're interested in knowing which languages are represented in the films table. See if you can find out what countries are represented in this table with the following exercises.\n",
    "\"\"\"\n",
    "\n",
    "# Instructions\n",
    "\n",
    "\"\"\"\n",
    "\n",
    "    Return the unique countries represented in the films table using DISTINCT.\n",
    "\n",
    "    Return the number of unique countries represented in the films table, aliased as count_distinct_countries.\n",
    "\n",
    "\"\"\"\n",
    "\n",
    "# solution\n",
    "\n",
    "-- Return the unique countries from the films table\n",
    "SELECT DISTINCT(country)\n",
    "FROM films;\n",
    "\n",
    "#----------------------------------#\n",
    "\n",
    "-- Count the distinct countries from the films table\n",
    "SELECT COUNT(DISTINCT(country)) AS count_distinct_countries\n",
    "FROM films;\n",
    "\n",
    "#----------------------------------#\n",
    "\n",
    "# Conclusion\n",
    "\n",
    "\"\"\"\n",
    "Congratulations! Using DISTINCT is a great tool to see the unique values of a dataset. This table has 64 unique countries.\n",
    "\"\"\""
   ]
  },
  {
   "cell_type": "code",
   "execution_count": 3,
   "metadata": {
    "tags": []
   },
   "outputs": [
    {
     "data": {
      "text/plain": [
       "'\\n\\n'"
      ]
     },
     "execution_count": 3,
     "metadata": {},
     "output_type": "execute_result"
    }
   ],
   "source": [
    "# exercise 04\n",
    "\n",
    "\"\"\"\n",
    "Debugging errors\n",
    "\n",
    "Debugging is an essential skill for all coders, and it comes from making many mistakes and learning from them.\n",
    "\n",
    "In this exercise, you'll be given some buggy code that you'll need to fix.\n",
    "\"\"\"\n",
    "\n",
    "# Instructions\n",
    "\n",
    "\"\"\"\n",
    "\n",
    "    Debug and fix the SQL query provided.\n",
    "\n",
    "    Find the two errors in this code; the same error has been repeated twice.\n",
    "\n",
    "    Find the two bugs in this final query.\n",
    "\n",
    "\"\"\"\n",
    "\n",
    "# solution\n",
    "\n",
    "-- Debug this code\n",
    "SELECT certification\n",
    "FROM films\n",
    "LIMIT 5;\n",
    "\n",
    "#----------------------------------#\n",
    "\n",
    "-- Debug this code\n",
    "SELECT film_id , imdb_score , num_votes\n",
    "FROM reviews;\n",
    "\n",
    "#----------------------------------#\n",
    "\n",
    "-- Debug this code\n",
    "SELECT COUNT(birthdate) AS count_birthdays\n",
    "FROM people;\n",
    "\n",
    "#----------------------------------#\n",
    "\n",
    "# Conclusion\n",
    "\n",
    "\"\"\"\n",
    "Excellent extermination of those bugs! This is an important skill that will come in very handy.\n",
    "\"\"\""
   ]
  },
  {
   "cell_type": "code",
   "execution_count": 4,
   "metadata": {
    "tags": []
   },
   "outputs": [
    {
     "data": {
      "text/plain": [
       "'\\n\\n'"
      ]
     },
     "execution_count": 4,
     "metadata": {},
     "output_type": "execute_result"
    }
   ],
   "source": [
    "# exercise 05\n",
    "\n",
    "\"\"\"\n",
    "Formatting\n",
    "\n",
    "Readable code is highly valued in the coding community and professional settings. Without proper formatting, code and results can be difficult to interpret. You'll often be working with other people that need to understand your code or be able to explain your results, so having a solid formatting habit is essential.\n",
    "\n",
    "In this exercise, you'll correct poorly written code to better adhere to SQL style standards.\n",
    "\"\"\"\n",
    "\n",
    "# Instructions\n",
    "\n",
    "\"\"\"\n",
    "Adjust the sample code so that it is in line with standard practices.\n",
    "\"\"\"\n",
    "\n",
    "# solution\n",
    "\n",
    "-- Rewrite this query\n",
    "SELECT person_id, role\n",
    "FROM roles \n",
    "LIMIT 10;\n",
    "\n",
    "#----------------------------------#\n",
    "\n",
    "# Conclusion\n",
    "\n",
    "\"\"\"\n",
    "Great work formatting the code! Clean code allows for clean communication.\n",
    "\"\"\""
   ]
  }
 ],
 "metadata": {
  "kernelspec": {
   "display_name": "Python 3 (ipykernel)",
   "language": "python",
   "name": "python3"
  },
  "language_info": {
   "codemirror_mode": {
    "name": "ipython",
    "version": 3
   },
   "file_extension": ".py",
   "mimetype": "text/x-python",
   "name": "python",
   "nbconvert_exporter": "python",
   "pygments_lexer": "ipython3",
   "version": "3.11.3"
  }
 },
 "nbformat": 4,
 "nbformat_minor": 4
}
