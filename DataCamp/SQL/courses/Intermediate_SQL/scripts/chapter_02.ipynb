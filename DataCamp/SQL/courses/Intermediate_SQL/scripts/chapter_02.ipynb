{
 "cells": [
  {
   "cell_type": "code",
   "execution_count": 15,
   "metadata": {
    "tags": []
   },
   "outputs": [],
   "source": [
    "# run this to shorten the data import from the files\n",
    "path_data = ''\n"
   ]
  },
  {
   "cell_type": "code",
   "execution_count": null,
   "metadata": {},
   "outputs": [
    {
     "data": {
      "text/plain": [
       "'/home/nero/Documents/Estudos/DataCamp'"
      ]
     },
     "execution_count": 15,
     "metadata": {},
     "output_type": "execute_result"
    }
   ],
   "source": [
    "# exercise 01\n",
    "\n",
    "\"\"\"\n",
    "Filtering results\n",
    "\n",
    "The WHERE clause allows you to filter based on text and numeric values in a table using comparison operators.\n",
    "\n",
    "What does the following query return?\n",
    "\n",
    "SELECT title\n",
    "FROM films\n",
    "WHERE release_year > 2000;\n",
    "\n",
    "\"\"\"\n",
    "\n",
    "# Instructions\n",
    "\n",
    "\"\"\"\n",
    "Films released before the year 2000\n",
    "\n",
    "Films released after the year 2000 (Answer)\n",
    "\n",
    "Films released after the year 2001\n",
    "\n",
    "Films released in 2000\n",
    "\"\"\"\n",
    "\n",
    "# solution\n",
    "\n",
    "\n",
    "\n",
    "#----------------------------------#\n",
    "\n",
    "# Conclusion\n",
    "\n",
    "\"\"\"\n",
    "Correct! Our query will return films that were released after the year 2000.\n",
    "\"\"\""
   ]
  },
  {
   "cell_type": "code",
   "execution_count": 1,
   "metadata": {
    "tags": []
   },
   "outputs": [
    {
     "data": {
      "text/plain": [
       "'\\n\\n'"
      ]
     },
     "execution_count": 1,
     "metadata": {},
     "output_type": "execute_result"
    }
   ],
   "source": [
    "# exercise 02\n",
    "\n",
    "\"\"\"\n",
    "Using WHERE with numbers\n",
    "\n",
    "Filtering with WHERE allows you to analyze your data better. You may have a dataset that includes a range of different movies, and you need to do a case study on the most notable films with the biggest budgets. In this case, you'll want to filter your data to a specific budget range.\n",
    "\n",
    "Now it's your turn to use the WHERE clause to filter numeric values!\n",
    "\"\"\"\n",
    "\n",
    "# Instructions\n",
    "\n",
    "\"\"\"\n",
    "    Select the film_id and imdb_score from the reviews table and filter on scores higher than 7.0.\n",
    "\n",
    "    Select the film_id and facebook_likes of the first ten records with less than 1000 likes from the reviews table.\n",
    "\n",
    "    Count how many records have a num_votes of at least 100,000; use the alias films_over_100K_votes\n",
    "\"\"\"\n",
    "\n",
    "# solution\n",
    "\n",
    "-- Select film_ids and imdb_score with an imdb_score over 7.0\n",
    "SELECT film_id, imdb_score\n",
    "FROM reviews\n",
    "WHERE imdb_score > 7.0\n",
    "\n",
    "#----------------------------------#\n",
    "\n",
    "-- Select film_ids and facebook_likes for ten records with less than 1000 likes \n",
    "SELECT film_id, facebook_likes\n",
    "FROM reviews\n",
    "WHERE facebook_likes < 1000\n",
    "LIMIT 10;\n",
    "\n",
    "#----------------------------------#\n",
    "\n",
    "-- Count the records with at least 100,000 votes\n",
    "SELECT COUNT(num_votes) AS films_over_100K_votes\n",
    "FROM reviews\n",
    "WHERE num_votes > 100000;\n",
    "\n",
    "#----------------------------------#\n",
    "\n",
    "# Conclusion\n",
    "\n",
    "\"\"\"\n",
    "Well done! Applying a WHERE filter with SQL is much easier and faster than scrolling through a spreadsheet or using a highlighter!\n",
    "\"\"\""
   ]
  },
  {
   "cell_type": "code",
   "execution_count": 2,
   "metadata": {
    "tags": []
   },
   "outputs": [
    {
     "data": {
      "text/plain": [
       "'\\n\\n'"
      ]
     },
     "execution_count": 2,
     "metadata": {},
     "output_type": "execute_result"
    }
   ],
   "source": [
    "# exercise 03\n",
    "\n",
    "\"\"\"\n",
    "Using WHERE with text\n",
    "\n",
    "WHERE can also filter string values.\n",
    "\n",
    "Imagine you are part of an organization that gives cinematography awards, and you have several international categories. Before you confirm an award for every language listed in your dataset, it may be worth seeing if there are enough films of a specific language to make it a fair competition. If there is only one movie or a significant skew, it may be worth considering a different way of giving international awards.\n",
    "\n",
    "Let's try this out!\n",
    "\"\"\"\n",
    "\n",
    "# Instructions\n",
    "\n",
    "\"\"\"\n",
    "\n",
    "    Select and count the language field using the alias count_spanish.\n",
    "    Apply a filter to select only Spanish from the language field.\n",
    "\n",
    "\"\"\"\n",
    "\n",
    "# solution\n",
    "\n",
    "-- Count the Spanish-language films\n",
    "SELECT COUNT(language) AS count_spanish\n",
    "FROM films\n",
    "WHERE language = 'Spanish';\n",
    "\n",
    "#----------------------------------#\n",
    "\n",
    "# Conclusion\n",
    "\n",
    "\"\"\"\n",
    "Bien hecho! Well done! There are 40 Spanish-language films in this table.\n",
    "\"\"\""
   ]
  },
  {
   "cell_type": "code",
   "execution_count": 3,
   "metadata": {
    "tags": []
   },
   "outputs": [
    {
     "data": {
      "text/plain": [
       "'\\n\\n'"
      ]
     },
     "execution_count": 3,
     "metadata": {},
     "output_type": "execute_result"
    }
   ],
   "source": [
    "# exercise 04\n",
    "\n",
    "\"\"\"\n",
    "Using AND\n",
    "\n",
    "The following exercises combine AND and OR with the WHERE clause. Using these operators together strengthens your queries and analyses of data.\n",
    "\n",
    "You will apply these new skills now on the films database.\n",
    "\"\"\"\n",
    "\n",
    "# Instructions\n",
    "\n",
    "\"\"\"\n",
    "\n",
    "    Select the title and release_year for all German-language films released before 2000.\n",
    "\n",
    "    Update the query from the previous step to show German-language films released after 2000 rather than before.\n",
    "\n",
    "    Select all details for German-language films released after 2000 but before 2010 using only WHERE and AND.\n",
    "\n",
    "\"\"\"\n",
    "\n",
    "# solution\n",
    "\n",
    "-- Select the title and release_year for all German-language films released before 2000\n",
    "SELECT title, release_year\n",
    "FROM films\n",
    "WHERE language = 'German' AND release_year < 2000;\n",
    "\n",
    "#----------------------------------#\n",
    "\n",
    "-- Update the query to see all German-language films released after 2000\n",
    "SELECT title, release_year\n",
    "FROM films\n",
    "WHERE release_year > 2000\n",
    "\tAND language = 'German';\n",
    "\n",
    "#----------------------------------#\n",
    "\n",
    "-- Select all records for German-language films released after 2000 and before 2010\n",
    "SELECT *\n",
    "FROM films\n",
    "WHERE language = 'German' AND \n",
    "release_year > 2000 \n",
    "AND release_year < 2010;\n",
    "\n",
    "#----------------------------------#\n",
    "\n",
    "# Conclusion\n",
    "\n",
    "\"\"\"\n",
    "Great work! Combining conditions with AND will prove to be very useful when we want our query to return a specific subset of records.\n",
    "\"\"\""
   ]
  },
  {
   "cell_type": "code",
   "execution_count": 4,
   "metadata": {
    "tags": []
   },
   "outputs": [
    {
     "data": {
      "text/plain": [
       "'\\n\\n'"
      ]
     },
     "execution_count": 4,
     "metadata": {},
     "output_type": "execute_result"
    }
   ],
   "source": [
    "# exercise 05\n",
    "\n",
    "\"\"\"\n",
    "Using OR\n",
    "\n",
    "This time you'll write a query to get the title and release_year of films released in 1990 or 1999, which were in English or Spanish and took in more than $2,000,000 gross.\n",
    "\n",
    "It looks like a lot, but you can build the query up one step at a time to get comfortable with the underlying concept in each step. Let's go!\n",
    "\"\"\"\n",
    "\n",
    "# Instructions\n",
    "\n",
    "\"\"\"\n",
    "Select the title and release_year for films released in 1990 or 1999 using only WHERE and OR.\n",
    "---\n",
    "Filter the records to only include English or Spanish-language films.\n",
    "---\n",
    "Finally, restrict the query to only return films worth more than $2,000,000 gross.\n",
    "\"\"\"\n",
    "\n",
    "# solution\n",
    "\n",
    "-- Find the title and year of films from the 1990 or 1999\n",
    "SELECT title, release_year\n",
    "FROM films\n",
    "WHERE release_year = 1990 OR release_year = '1999';\n",
    "\n",
    "#----------------------------------#\n",
    "\n",
    "SELECT title, release_year\n",
    "FROM films\n",
    "WHERE (release_year = 1990 OR release_year = 1999)\n",
    "-- Add a filter to see only English or Spanish-language films\n",
    "AND (language = 'English' OR language = 'Spanish');\n",
    "\n",
    "#----------------------------------#\n",
    "\n",
    "SELECT title, release_year\n",
    "FROM films\n",
    "WHERE (release_year = 1990 OR release_year = 1999)\n",
    "\tAND (language = 'English' OR language = 'Spanish')\n",
    "-- Filter films with more than $2,000,000 gross\n",
    "\tAND (gross > 2000000);\n",
    "\n",
    "#----------------------------------#\n",
    "\n",
    "# Conclusion\n",
    "\n",
    "\"\"\"\n",
    "Amazing work! Some of these queries were pretty complex. Any Die Hard fans out there?\n",
    "\"\"\""
   ]
  },
  {
   "cell_type": "code",
   "execution_count": 5,
   "metadata": {
    "tags": []
   },
   "outputs": [
    {
     "data": {
      "text/plain": [
       "'\\n\\n'"
      ]
     },
     "execution_count": 5,
     "metadata": {},
     "output_type": "execute_result"
    }
   ],
   "source": [
    "# exercise 06\n",
    "\n",
    "\"\"\"\n",
    "Using BETWEEN\n",
    "\n",
    "Let's use BETWEEN with AND on the films database to get the title and release_year of all Spanish-language films released between 1990 and 2000 (inclusive) with budgets over $100 million.\n",
    "\n",
    "We have broken the problem into smaller steps so that you can build the query as you go along!\n",
    "\"\"\"\n",
    "\n",
    "# Instructions\n",
    "\n",
    "\"\"\"\n",
    "Select the title and release_year of all films released between 1990 and 2000 (inclusive) using BETWEEN.\n",
    "---\n",
    "Build on your previous query to select only films with a budget over $100 million.\n",
    "---\n",
    "Now, restrict the query to only return Spanish-language films.\n",
    "---\n",
    "Finally, amend the query to include all Spanish-language or French-language films with the same criteria.\n",
    "---\n",
    "\"\"\"\n",
    "\n",
    "# solution\n",
    "\n",
    "\n",
    "\n",
    "#----------------------------------#\n",
    "\n",
    "-- Select the title and release_year for films released between 1990 and 2000\n",
    "SELECT title, release_year\n",
    "FROM films\n",
    "WHERE release_year BETWEEN 1990 AND 2000;\n",
    "\n",
    "#----------------------------------#\n",
    "\n",
    "SELECT title, release_year\n",
    "FROM films\n",
    "WHERE release_year BETWEEN 1990 AND 2000\n",
    "-- Narrow down your query to films with budgets > $100 million\n",
    "\tAND (budget > 100000000);\n",
    "\n",
    "#----------------------------------#\n",
    "\n",
    "SELECT title, release_year\n",
    "FROM films\n",
    "WHERE release_year BETWEEN 1990 AND 2000\n",
    "\tAND budget > 100000000\n",
    "-- Restrict the query to only Spanish-language films\n",
    "\tAND language = 'Spanish';\n",
    "\n",
    "#----------------------------------#\n",
    "\n",
    "\n",
    "SELECT title, release_year\n",
    "FROM films\n",
    "WHERE release_year BETWEEN 1990 AND 2000\n",
    "\tAND budget > 100000000\n",
    "-- Amend the query to include Spanish or French-language films\n",
    "\tAND (language = 'Spanish' OR language = 'French');\n",
    "\n",
    "#----------------------------------#\n",
    "\n",
    "# Conclusion\n",
    "\n",
    "\"\"\"\n",
    "Superb! Using WHERE with a combination of AND, OR, and BETWEEN is an efficient way to query a desired range of values.\n",
    "\"\"\""
   ]
  },
  {
   "cell_type": "code",
   "execution_count": 6,
   "metadata": {
    "tags": []
   },
   "outputs": [
    {
     "data": {
      "text/plain": [
       "'\\n\\n'"
      ]
     },
     "execution_count": 6,
     "metadata": {},
     "output_type": "execute_result"
    }
   ],
   "source": [
    "# exercise 07\n",
    "\n",
    "\"\"\"\n",
    "LIKE and NOT LIKE\n",
    "\n",
    "The LIKE and NOT LIKE operators can be used to find records that either match or do not match a specified pattern, respectively. They can be coupled with the wildcards % and _. The % will match zero or many characters, and _ will match a single character.\n",
    "\n",
    "This is useful when you want to filter text, but not to an exact word.\n",
    "\n",
    "Do the following exercises to gain some practice with these keywords.\n",
    "\"\"\"\n",
    "\n",
    "# Instructions\n",
    "\n",
    "\"\"\"\n",
    "\n",
    "    Select the names of all people whose names begin with 'B'.\n",
    "\n",
    "    Select the names of people whose names have 'r' as the second letter.\n",
    "\n",
    "    Select the names of people whose names don't start with 'A'.\n",
    "\n",
    "\"\"\"\n",
    "\n",
    "# solution\n",
    "\n",
    "-- Select the names that start with B\n",
    "SELECT name\n",
    "FROM people\n",
    "WHERE name LIKE 'B%';\n",
    "\n",
    "#----------------------------------#\n",
    "\n",
    "SELECT name\n",
    "FROM people\n",
    "-- Select the names that have r as the second letter\n",
    "WHERE name LIKE '_r%';\n",
    "\n",
    "#----------------------------------#\n",
    "\n",
    "SELECT name\n",
    "FROM people\n",
    "-- Select names that don't start with A\n",
    "WHERE name NOT LIKE 'A%'\n",
    "\n",
    "#----------------------------------#\n",
    "\n",
    "# Conclusion\n",
    "\n",
    "\"\"\"\n",
    "I LIKE to see the progress we're making! Filtering your data to find specified patterns is vital to your skillset. Our results still had names that started with Á with an accent, showing that we need to be specific with our filtering criteria.\n",
    "\"\"\""
   ]
  },
  {
   "cell_type": "code",
   "execution_count": 7,
   "metadata": {
    "tags": []
   },
   "outputs": [
    {
     "data": {
      "text/plain": [
       "'\\n\\n'"
      ]
     },
     "execution_count": 7,
     "metadata": {},
     "output_type": "execute_result"
    }
   ],
   "source": [
    "# exercise 08\n",
    "\n",
    "\"\"\"\n",
    "WHERE IN\n",
    "\n",
    "You now know you can query multiple conditions using the IN operator and a set of parentheses. It is a valuable piece of code that helps us keep our queries clean and concise.\n",
    "\n",
    "Try using the IN operator yourself!\n",
    "\"\"\"\n",
    "\n",
    "# Instructions\n",
    "\n",
    "\"\"\"\n",
    "\n",
    "    Select the title and release_year of all films released in 1990 or 2000 that were longer than two hours.\n",
    "\n",
    "    Select the title and language of all films in English, Spanish, or French using IN.\n",
    "\n",
    "    Select the title, certification and language of all films certified NC-17 or R that are in English, Italian, or Greek.\n",
    "\n",
    "\"\"\"\n",
    "\n",
    "# solution\n",
    "\n",
    "-- Find the title and release_year for all films over two hours in length released in 1990 and 2000\n",
    "SELECT title, release_year\n",
    "FROM films\n",
    "WHERE duration > 120\n",
    "    AND (release_year = 1990 OR release_year = 2000);\n",
    "\n",
    "#----------------------------------#\n",
    "\n",
    "-- Find the title and language of all films in English, Spanish, and French\n",
    "SELECT title, language\n",
    "FROM films\n",
    "WHERE language IN ('English', 'Spanish', 'French');\n",
    "\n",
    "#----------------------------------#\n",
    "\n",
    "-- Find the title, certification, and language all films certified NC-17 or R that are in English, Italian, or Greek\n",
    "SELECT title, certification, language\n",
    "FROM films\n",
    "WHERE certification IN ('NC-17', 'R')\n",
    "    AND (language IN ('English', 'Italian', 'Greek'));\n",
    "\n",
    "#----------------------------------#\n",
    "\n",
    "# Conclusion\n",
    "\n",
    "\"\"\"\n",
    "Your SQL vocabulary is growing by the minute! Interestingly, A Fistful of Dollars starring Clint Eastwood is listed as Italian.\n",
    "\"\"\""
   ]
  },
  {
   "cell_type": "code",
   "execution_count": 8,
   "metadata": {
    "tags": []
   },
   "outputs": [
    {
     "data": {
      "text/plain": [
       "'\\n\\n'"
      ]
     },
     "execution_count": 8,
     "metadata": {},
     "output_type": "execute_result"
    }
   ],
   "source": [
    "# exercise 09\n",
    "\n",
    "\"\"\"\n",
    "Combining filtering and selecting\n",
    "\n",
    "Time for a little challenge. So far, your SQL vocabulary from this course includes COUNT(), DISTINCT, LIMIT, WHERE, OR, AND, BETWEEN, LIKE, NOT LIKE, and IN. In this exercise, you will try to use some of these together. Writing more complex queries will be standard for you as you become a qualified SQL programmer.\n",
    "\n",
    "As this query will be a little more complicated than what you've seen so far, we've included a bit of code to get you started. You will be using DISTINCT here too because, surprise, there are two movies named 'Hamlet' in this dataset!\n",
    "\n",
    "Follow the instructions to find out what 90's films we have in our dataset that would be suitable for English-speaking teens.\n",
    "\"\"\"\n",
    "\n",
    "# Instructions\n",
    "\n",
    "\"\"\"\n",
    "\n",
    "    Count the unique titles from the films database and use the alias provided.\n",
    "    Filter to include only movies with a release_year from 1990 to 1999, inclusive.\n",
    "    Add another filter narrowing your query down to English-language films.\n",
    "    Add a final filter to select only films with 'G', 'PG', 'PG-13' certifications.\n",
    "\n",
    "\"\"\"\n",
    "\n",
    "# solution\n",
    "\n",
    "-- Count the unique titles\n",
    "SELECT COUNT(DISTINCT(title)) AS nineties_english_films_for_teens\n",
    "FROM films\n",
    "-- Filter to release_years to between 1990 and 1999\n",
    "WHERE release_year BETWEEN 1990 AND 1999\n",
    "-- Filter to English-language films\n",
    "\tAND language = 'English'\n",
    "-- Narrow it down to G, PG, and PG-13 certifications\n",
    "\tAND(certification IN ('G', 'PG', 'PG-13'));\n",
    "\n",
    "#----------------------------------#\n",
    "\n",
    "# Conclusion\n",
    "\n",
    "\"\"\"\n",
    "You've got a natural flair for filtering! Nice work, this filter tells us we have 310 films that the 90's obsessed teenagers can enjoy.\n",
    "\"\"\""
   ]
  },
  {
   "cell_type": "code",
   "execution_count": 9,
   "metadata": {
    "tags": []
   },
   "outputs": [
    {
     "data": {
      "text/plain": [
       "'\\n\\n'"
      ]
     },
     "execution_count": 9,
     "metadata": {},
     "output_type": "execute_result"
    }
   ],
   "source": [
    "# exercise 10\n",
    "\n",
    "\"\"\"\n",
    "Practice with NULLs\n",
    "\n",
    "Well done. Now that you know what NULL means and what it's used for, it's time for some more practice!\n",
    "\n",
    "Let's explore the films table again to better understand what data you have.\n",
    "\"\"\"\n",
    "\n",
    "# Instructions\n",
    "\n",
    "\"\"\"\n",
    "\n",
    "    Select the title of every film that doesn't have a budget associated with it and use the alias no_budget_info.\n",
    "\n",
    "    Count the number of films with a language associated with them and use the alias count_language_known.\n",
    "\n",
    "\"\"\"\n",
    "\n",
    "# solution\n",
    "\n",
    "-- List all film titles with missing budgets\n",
    "SELECT title AS no_budget_info\n",
    "FROM films\n",
    "WHERE budget IS NULL;\n",
    "\n",
    "#----------------------------------#\n",
    "\n",
    "-- Count the number of films we have language data for\n",
    "SELECT COUNT(*) AS count_language_known\n",
    "FROM films\n",
    "WHERE language IS NOT NULL;\n",
    "\n",
    "#----------------------------------#\n",
    "\n",
    "# Conclusion\n",
    "\n",
    "\"\"\"\n",
    "Alright! That's 4957 films with language data. We've mastered selecting and filtering data which means you're halfway through the course!\n",
    "\"\"\""
   ]
  }
 ],
 "metadata": {
  "kernelspec": {
   "display_name": "Python 3 (ipykernel)",
   "language": "python",
   "name": "python3"
  },
  "language_info": {
   "codemirror_mode": {
    "name": "ipython",
    "version": 3
   },
   "file_extension": ".py",
   "mimetype": "text/x-python",
   "name": "python",
   "nbconvert_exporter": "python",
   "pygments_lexer": "ipython3",
   "version": "3.11.3"
  }
 },
 "nbformat": 4,
 "nbformat_minor": 4
}
