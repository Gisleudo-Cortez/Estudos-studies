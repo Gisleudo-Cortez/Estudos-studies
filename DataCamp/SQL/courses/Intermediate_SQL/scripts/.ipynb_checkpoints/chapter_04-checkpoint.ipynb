{
 "cells": [
  {
   "cell_type": "code",
   "execution_count": 15,
   "metadata": {
    "tags": []
   },
   "outputs": [],
   "source": [
    "# run this to shorten the data import from the files\n",
    "path_data = ''\n"
   ]
  },
  {
   "cell_type": "code",
   "execution_count": null,
   "metadata": {},
   "outputs": [
    {
     "data": {
      "text/plain": [
       "'/home/nero/Documents/Estudos/DataCamp'"
      ]
     },
     "execution_count": 15,
     "metadata": {},
     "output_type": "execute_result"
    }
   ],
   "source": [
    "# exercise 01\n",
    "\n",
    "\"\"\"\n",
    "Sorting single fields\n",
    "\n",
    "Now that you understand how ORDER BY works, you'll put it into practice. In this exercise, you'll work on sorting single fields only. This can be helpful to extract quick insights such as the top-grossing or top-scoring film.\n",
    "\n",
    "The following exercises will help you gain further insights into the film database.\n",
    "\"\"\"\n",
    "\n",
    "# Instructions\n",
    "\n",
    "\"\"\"\n",
    "\n",
    "    Select the name of each person in the people table, sorted alphabetically.\n",
    "\n",
    "    Select the title and duration for every film, from longest duration to shortest.\n",
    "\n",
    "\"\"\"\n",
    "\n",
    "# solution\n",
    "\n",
    "-- Select name from people and sort alphabetically\n",
    "SELECT name\n",
    "FROM people\n",
    "ORDER BY name;\n",
    "\n",
    "#----------------------------------#\n",
    "\n",
    "-- Select the title and duration from longest to shortest film\n",
    "SELECT title, duration\n",
    "FROM films\n",
    "ORDER BY duration DESC;\n",
    "\n",
    "#----------------------------------#\n",
    "\n",
    "# Conclusion\n",
    "\n",
    "\"\"\"\n",
    "Superb sorting! ORDER BY is another simple yet effective way to gain intelligence about your business and data. You now know how to extract your best and worst-performing assets with only a few lines of code.\n",
    "\"\"\""
   ]
  },
  {
   "cell_type": "code",
   "execution_count": 1,
   "metadata": {
    "tags": []
   },
   "outputs": [
    {
     "data": {
      "text/plain": [
       "'\\n\\n'"
      ]
     },
     "execution_count": 1,
     "metadata": {},
     "output_type": "execute_result"
    }
   ],
   "source": [
    "# exercise 02\n",
    "\n",
    "\"\"\"\n",
    "Sorting multiple fields\n",
    "\n",
    "ORDER BY can also be used to sort on multiple fields. It will sort by the first field specified, then sort by the next, and so on. As an example, you may want to sort the people data by age and keep the names in alphabetical order.\n",
    "\n",
    "Try using ORDER BY to sort multiple columns.\n",
    "\"\"\"\n",
    "\n",
    "# Instructions\n",
    "\n",
    "\"\"\"\n",
    "\n",
    "    Select the release_year, duration, and title of films ordered by their release year and duration, in that order.\n",
    "\n",
    "    Select the certification, release_year, and title from films ordered first by certification (alphabetically) and second by release year, starting with the most recent year.\n",
    "\n",
    "\"\"\"\n",
    "\n",
    "# solution\n",
    "\n",
    "-- Select the release year, duration, and title sorted by release year and duration\n",
    "SELECT release_year, duration, title\n",
    "FROM films\n",
    "ORDER BY release_year, duration;\n",
    "\n",
    "#----------------------------------#\n",
    "\n",
    "-- Select the certification, release year, and title sorted by certification and release year\n",
    "SELECT certification, release_year, title\n",
    "FROM films\n",
    "ORDER BY certification, release_year;\n",
    "\n",
    "#----------------------------------#\n",
    "\n",
    "# Conclusion\n",
    "\n",
    "\"\"\"\n",
    "Nicely done! The second column you order on only steps in when the first column has been ordered.\n",
    "\"\"\""
   ]
  },
  {
   "cell_type": "code",
   "execution_count": 2,
   "metadata": {
    "tags": []
   },
   "outputs": [
    {
     "data": {
      "text/plain": [
       "'\\n\\n'"
      ]
     },
     "execution_count": 2,
     "metadata": {},
     "output_type": "execute_result"
    }
   ],
   "source": [
    "# exercise 03\n",
    "\n",
    "\"\"\"\n",
    "GROUP BY single fields\n",
    "\n",
    "GROUP BY is a SQL keyword that allows you to group and summarize results with the additional use of aggregate functions. For example, films can be grouped by the certification and language before counting the film titles in each group. This allows you to see how many films had a particular certification and language grouping.\n",
    "\n",
    "In the following steps, you'll summarize other groups of films to learn more about the films in your database.\n",
    "\"\"\"\n",
    "\n",
    "# Instructions\n",
    "\n",
    "\"\"\"\n",
    "\n",
    "    Select the release_year and count of films released in each year aliased as film_count.\n",
    "\n",
    "    Select the release_year and average duration aliased as avg_duration of all films, grouped by release_year.\n",
    "\n",
    "\"\"\"\n",
    "\n",
    "# solution\n",
    "\n",
    "-- Find the release_year and film_count of each year\n",
    "SELECT release_year, COUNT(title) AS film_count\n",
    "FROM films\n",
    "GROUP BY release_year;\n",
    "\n",
    "#----------------------------------#\n",
    "\n",
    "-- Find the release_year and average duration of films for each year\n",
    "SELECT release_year, AVG(duration) AS avg_duration\n",
    "FROM films\n",
    "GROUP BY release_year;\n",
    "\n",
    "#----------------------------------#\n",
    "\n",
    "# Conclusion\n",
    "\n",
    "\"\"\"\n",
    "Great job grouping! Using GROUP BY with a time or date field such as release_year can help us identify trends such as a period of time where movies were really short!\n",
    "\"\"\""
   ]
  },
  {
   "cell_type": "code",
   "execution_count": 3,
   "metadata": {
    "tags": []
   },
   "outputs": [
    {
     "data": {
      "text/plain": [
       "'\\n\\n'"
      ]
     },
     "execution_count": 3,
     "metadata": {},
     "output_type": "execute_result"
    }
   ],
   "source": [
    "# exercise 04\n",
    "\n",
    "\"\"\"\n",
    "GROUP BY multiple fields\n",
    "\n",
    "GROUP BY becomes more powerful when used across multiple fields or combined with ORDER BY and LIMIT.\n",
    "\n",
    "Perhaps you're interested in learning about budget changes throughout the years in individual countries. You'll use grouping in this exercise to look at the maximum budget for each country in each year there is data available.\n",
    "\"\"\"\n",
    "\n",
    "# Instructions\n",
    "\n",
    "\"\"\"\n",
    "Select the release_year, country, and the maximum budget aliased as max_budget for each year and each country; sort your results by release_year and country.\n",
    "\"\"\"\n",
    "\n",
    "# solution\n",
    "\n",
    "-- Find the release_year, country, and max_budget, then group and order by release_year and country\n",
    "SELECT release_year, country, MAX(budget) AS max_budget\n",
    "FROM films\n",
    "GROUP BY release_year, country\n",
    "ORDER BY release_year, country;\n",
    "\n",
    "#----------------------------------#\n",
    "\n",
    "# Conclusion\n",
    "\n",
    "\"\"\"\n",
    "Well done! You can see how building on your SQL queries helps you gain more insights and detect trends in the data, such as how film budgets may change throughout the years.\n",
    "\"\"\""
   ]
  },
  {
   "cell_type": "code",
   "execution_count": 4,
   "metadata": {
    "tags": []
   },
   "outputs": [
    {
     "data": {
      "text/plain": [
       "'\\n\\n'"
      ]
     },
     "execution_count": 4,
     "metadata": {},
     "output_type": "execute_result"
    }
   ],
   "source": [
    "# exercise 05\n",
    "\n",
    "\"\"\"\n",
    "Answering business questions\n",
    "\n",
    "In the real world, every SQL query starts with a business question. Then it is up to you to decide how to write the query that answers the question. Let's try this out.\n",
    "\n",
    "Which release_year had the most language diversity?\n",
    "\n",
    "Take your time to translate this question into code. We'll get you started then it's up to you to test your queries in the console.\n",
    "\n",
    "\"Most language diversity\" can be interpreted as COUNT(DISTINCT ___). Now over to you.\n",
    "\"\"\"\n",
    "\n",
    "# Instructions\n",
    "\n",
    "\"\"\"\n",
    "2005\n",
    "\n",
    "1916\n",
    "\n",
    "2006 (Answer)\n",
    "\n",
    "1990\n",
    "\"\"\"\n",
    "\n",
    "# solution\n",
    "\n",
    "SELECT release_year, COUNT(DISTINCT language) AS div_lang\n",
    "FROM films\n",
    "GROUP BY release_year\n",
    "ORDER by div_lang DESC;\n",
    "\n",
    "#----------------------------------#\n",
    "\n",
    "# Conclusion\n",
    "\n",
    "\"\"\"\n",
    "Well done! The year 2006 had 16 distinct languages, that's more than any other year.\n",
    "\"\"\""
   ]
  },
  {
   "cell_type": "code",
   "execution_count": 5,
   "metadata": {
    "tags": []
   },
   "outputs": [
    {
     "data": {
      "text/plain": [
       "'\\n\\n'"
      ]
     },
     "execution_count": 5,
     "metadata": {},
     "output_type": "execute_result"
    }
   ],
   "source": [
    "# exercise 06\n",
    "\n",
    "\"\"\"\n",
    "Filter with HAVING\n",
    "\n",
    "Your final keyword is HAVING. It works similarly to WHERE in that it is a filtering clause, with the difference that HAVING filters grouped data.\n",
    "\n",
    "Filtering grouped data can be especially handy when working with a large dataset. When working with thousands or even millions of rows, HAVING will allow you to filter for just the group of data you want, such as films over two hours in length!\n",
    "\n",
    "Practice using HAVING to find out which countries (or country) have the most varied film certifications.\n",
    "\"\"\"\n",
    "\n",
    "# Instructions\n",
    "\n",
    "\"\"\"\n",
    "\n",
    "    Select country from the films table, and get the distinct count of certification aliased as certification_count.\n",
    "    Group the results by country.\n",
    "    Filter the unique count of certifications to only results greater than 10.\n",
    "\n",
    "\"\"\"\n",
    "\n",
    "# solution\n",
    "\n",
    "-- Select the country and distinct count of certification as certification_count\n",
    "SELECT country, COUNT(DISTINCT certification) AS certification_count\n",
    "-- Group by country\n",
    "FROM films\n",
    "GROUP BY country\n",
    "-- Filter results to countries with more than 10 different certifications\n",
    "HAVING COUNT(DISTINCT certification) > 10;\n",
    "\n",
    "#----------------------------------#\n",
    "\n",
    "# Conclusion\n",
    "\n",
    "\"\"\"\n",
    "Great job! The answer is USA with 12 different certifications.\n",
    "\"\"\""
   ]
  },
  {
   "cell_type": "code",
   "execution_count": 6,
   "metadata": {
    "tags": []
   },
   "outputs": [
    {
     "data": {
      "text/plain": [
       "'\\n\\n'"
      ]
     },
     "execution_count": 6,
     "metadata": {},
     "output_type": "execute_result"
    }
   ],
   "source": [
    "# exercise 07\n",
    "\n",
    "\"\"\"\n",
    "HAVING and sorting\n",
    "\n",
    "Filtering and sorting go hand in hand and gives you greater interpretability by ordering our results.\n",
    "\n",
    "Let's see this magic at work by writing a query showing what countries have the highest average film budgets.\n",
    "\"\"\"\n",
    "\n",
    "# Instructions\n",
    "\n",
    "\"\"\"\n",
    "\n",
    "    Select the country and the average budget as average_budget, rounded to two decimal, from films.\n",
    "    Group the results by country.\n",
    "    Filter the results to countries with an average budget of more than one billion (1000000000).\n",
    "    Sort by descending order of the average_budget.\n",
    "\n",
    "\"\"\"\n",
    "\n",
    "# solution\n",
    "\n",
    "-- Select the country and average_budget from films\n",
    "SELECT country, AVG(budget) AS average_budget\n",
    "-- Group by country\n",
    "FROM films\n",
    "GROUP BY country\n",
    "-- Filter to countries with an average_budget of more than one billion\n",
    "HAVING AVG(budget) > 1000000000\n",
    "-- Order by descending order of the aggregated budget\n",
    "ORDER BY average_budget;\n",
    "\n",
    "#----------------------------------#\n",
    "\n",
    "# Conclusion\n",
    "\n",
    "\"\"\"\n",
    "You did it! South Korea and Hungary seem to have pricey films... or do they? Actually, these budgets are pretty standard for their local currency.\n",
    "\"\"\""
   ]
  },
  {
   "cell_type": "code",
   "execution_count": 7,
   "metadata": {
    "tags": []
   },
   "outputs": [
    {
     "data": {
      "text/plain": [
       "'\\n\\n'"
      ]
     },
     "execution_count": 7,
     "metadata": {},
     "output_type": "execute_result"
    }
   ],
   "source": [
    "# exercise 08\n",
    "\n",
    "\"\"\"\n",
    "All together now\n",
    "\n",
    "It's time to use much of what you've learned in one query! This is good preparation for using SQL in the real world where you'll often be asked to write more complex queries since some of the basic queries can be answered by playing around in spreadsheet applications.\n",
    "\n",
    "In this exercise, you'll write a query that returns the average budget and gross earnings for films each year after 1990 if the average budget is greater than 60 million.\n",
    "\n",
    "This will be a big query, but you can handle it!\n",
    "\"\"\"\n",
    "\n",
    "# Instructions\n",
    "\n",
    "\"\"\"\n",
    "\n",
    "    Select the release_year for each film in the films table, filter for records released after 1990, and group by release_year.\n",
    "\n",
    "    Modify the query to include the average budget aliased as avg_budget and average gross aliased as avg_gross for the results we have so far.\n",
    "\n",
    "    Modify the query once more so that only years with an average budget of greater than 60 million are included.\n",
    "\n",
    "    Finally, order the results from the highest average gross and limit to one.\n",
    "\n",
    "\"\"\"\n",
    "\n",
    "# solution\n",
    "\n",
    "-- Select the release_year for films released after 1990 grouped by year\n",
    "SELECT release_year\n",
    "FROM films\n",
    "GROUP BY release_year\n",
    "HAVING release_year > 1990;\n",
    "\n",
    "#----------------------------------#\n",
    "\n",
    "-- Modify the query to also list the average budget and average gross\n",
    "SELECT release_year, AVG(budget) AS avg_budget, AVG(gross) AS avg_gross\n",
    "FROM films\n",
    "WHERE release_year > 1990\n",
    "GROUP BY release_year;\n",
    "\n",
    "#----------------------------------#\n",
    "\n",
    "SELECT release_year, AVG(budget) AS avg_budget, AVG(gross) AS avg_gross\n",
    "FROM films\n",
    "WHERE release_year > 1990\n",
    "GROUP BY release_year\n",
    "-- Modify the query to see only years with an avg_budget of more than 60 million\n",
    "HAVING AVG(budget) > 60000000;\n",
    "\n",
    "#----------------------------------#\n",
    "\n",
    "SELECT release_year, AVG(budget) AS avg_budget, AVG(gross) AS avg_gross\n",
    "FROM films\n",
    "WHERE release_year > 1990\n",
    "GROUP BY release_year\n",
    "HAVING AVG(budget) > 60000000\n",
    "-- Order the results from highest to lowest average gross and limit to one\n",
    "ORDER BY avg_gross DESC\n",
    "LIMIT 1;\n",
    "\n",
    "#----------------------------------#\n",
    "\n",
    "# Conclusion\n",
    "\n",
    "\"\"\"\n",
    "Superb work! SQL queries can get rather long, but breaking them down into individual clauses makes them easier to write.\n",
    "\"\"\""
   ]
  }
 ],
 "metadata": {
  "kernelspec": {
   "display_name": "Python 3 (ipykernel)",
   "language": "python",
   "name": "python3"
  },
  "language_info": {
   "codemirror_mode": {
    "name": "ipython",
    "version": 3
   },
   "file_extension": ".py",
   "mimetype": "text/x-python",
   "name": "python",
   "nbconvert_exporter": "python",
   "pygments_lexer": "ipython3",
   "version": "3.11.3"
  }
 },
 "nbformat": 4,
 "nbformat_minor": 4
}
