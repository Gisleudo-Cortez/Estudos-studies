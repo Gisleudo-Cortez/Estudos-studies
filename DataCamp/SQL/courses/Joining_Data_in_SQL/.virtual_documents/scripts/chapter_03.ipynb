# run this to shorten the data import from the files
path_data = ''



# exercise 01

"""
Comparing global economies

Are you ready to perform your first set operation?

In this exercise, you have two tables, economies2015 and economies2019, available to you under the tabs in the console. You'll perform a set operation to stack all records in these two tables on top of each other, excluding duplicates.

When drafting queries containing set operations, it is often helpful to write the queries on either side of the operation first, and then call the set operator. The instructions are ordered accordingly.
"""

# Instructions

"""

    Begin your query by selecting all fields from economies2015.
    Create a second query that selects all fields from economies2019.
    Perform a set operation to combine the two queries you just created, ensuring you do not return duplicates.

"""

# solution

-- Select all fields from economies2015
SELECT * 
FROM economies2015    
-- Set operation
UNION
-- Select all fields from economies2019
SELECT *
FROM economies2019
ORDER BY code, year;

#----------------------------------#

# Conclusion

"""
Your first UNION! UNION can be helpful for consolidating data from multiple tables into one result, which as you have seen, can then be ordered in meaningful ways.
"""


# exercise 02

"""
Comparing two set operations

You learned in the video exercise that UNION ALL returns duplicates, whereas UNION does not. In this exercise, you will dive deeper into this, looking at cases for when UNION is appropriate compared to UNION ALL.

You will be looking at combinations of country code and year from the economies and populations tables.
"""

# Instructions

"""

    Perform an appropriate set operation that determines all pairs of country code and year (in that order) from economies and populations, excluding duplicates.
    Order by country code and year.

    Amend the query to return all combinations (including duplicates) of country code and year in the economies or the populations tables.

"""

# solution

-- Query that determines all pairs of code and year from economies and populations, without duplicates
SELECT code, year
FROM economies
UNION
SELECT p.country_code, p.year
FROM populations AS p
ORDER BY code, year;

#----------------------------------#

SELECT code, year
FROM economies
-- Set theory clause
UNION ALL
SELECT country_code, year
FROM populations
ORDER BY code, year;

#----------------------------------#

# Conclusion

"""
Nicely done! UNION returned 434 records, whereas UNION ALL returned 814. Are you able to spot the duplicates in the UNION ALL?
"""


# exercise 03

"""
INTERSECT

Well done getting through the material on INTERSECT!

Let's say you are interested in those countries that share names with cities. Use this task as an opportunity to show off your knowledge of set theory in SQL!
"""

# Instructions

"""
Return all city names that are also country names.
"""

# solution

-- Return all cities with the same name as a country
SELECT name
FROM cities
INTERSECT
SELECT name
FROM countries;

#----------------------------------#

# Conclusion

"""
Nice one! It looks as though Singapore is the only country in our database that has a city with the same name!
"""


# exercise 04

"""
Review UNION and INTERSECT

Which of the following definitions of set operations is correct?
Answer the question
50XP
Possible Answers

    UNION: returns all records (potentially duplicates) in both tables
    
    UNION ALL: returns only unique records
    
    INTERSECT: returns only records appearing in both tables (Answer)
    
    None of the above definitions are correct.

"""

# Instructions

"""

"""

# solution



#----------------------------------#

# Conclusion

"""
Correct! INTERSECT is a robust set operation for finding the set of identical records between two sets of records.
"""


# exercise 05

"""
You've got it, EXCEPT...

Just as you were able to leverage INTERSECT to find the names of cities with the same names as countries, you can also do the reverse, using EXCEPT.

In this exercise, you will find the names of cities that do not have the same names as their countries.
"""

# Instructions

"""
Return all cities that do not have the same name as a country.
"""

# solution

-- Return all cities that do not have the same name as a country
SELECT name 
FROM cities
EXCEPT
SELECT name 
FROM countries
ORDER BY name;

#----------------------------------#

# Conclusion

"""
EXCEPTional! Note that if countries had been on the left and cities on the right, you would have returned the opposite: all countries that do not have the same name as a city.
"""
