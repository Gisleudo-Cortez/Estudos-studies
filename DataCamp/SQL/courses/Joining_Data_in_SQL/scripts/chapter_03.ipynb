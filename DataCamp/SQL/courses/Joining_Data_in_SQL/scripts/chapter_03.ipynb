{
 "cells": [
  {
   "cell_type": "code",
   "execution_count": 15,
   "metadata": {
    "tags": []
   },
   "outputs": [],
   "source": [
    "# run this to shorten the data import from the files\n",
    "path_data = ''\n"
   ]
  },
  {
   "cell_type": "code",
   "execution_count": null,
   "metadata": {},
   "outputs": [
    {
     "data": {
      "text/plain": [
       "'/home/nero/Documents/Estudos/DataCamp'"
      ]
     },
     "execution_count": 15,
     "metadata": {},
     "output_type": "execute_result"
    }
   ],
   "source": [
    "# exercise 01\n",
    "\n",
    "\"\"\"\n",
    "Comparing global economies\n",
    "\n",
    "Are you ready to perform your first set operation?\n",
    "\n",
    "In this exercise, you have two tables, economies2015 and economies2019, available to you under the tabs in the console. You'll perform a set operation to stack all records in these two tables on top of each other, excluding duplicates.\n",
    "\n",
    "When drafting queries containing set operations, it is often helpful to write the queries on either side of the operation first, and then call the set operator. The instructions are ordered accordingly.\n",
    "\"\"\"\n",
    "\n",
    "# Instructions\n",
    "\n",
    "\"\"\"\n",
    "\n",
    "    Begin your query by selecting all fields from economies2015.\n",
    "    Create a second query that selects all fields from economies2019.\n",
    "    Perform a set operation to combine the two queries you just created, ensuring you do not return duplicates.\n",
    "\n",
    "\"\"\"\n",
    "\n",
    "# solution\n",
    "\n",
    "-- Select all fields from economies2015\n",
    "SELECT * \n",
    "FROM economies2015    \n",
    "-- Set operation\n",
    "UNION\n",
    "-- Select all fields from economies2019\n",
    "SELECT *\n",
    "FROM economies2019\n",
    "ORDER BY code, year;\n",
    "\n",
    "#----------------------------------#\n",
    "\n",
    "# Conclusion\n",
    "\n",
    "\"\"\"\n",
    "Your first UNION! UNION can be helpful for consolidating data from multiple tables into one result, which as you have seen, can then be ordered in meaningful ways.\n",
    "\"\"\""
   ]
  },
  {
   "cell_type": "code",
   "execution_count": 1,
   "metadata": {
    "tags": []
   },
   "outputs": [
    {
     "data": {
      "text/plain": [
       "'\\n\\n'"
      ]
     },
     "execution_count": 1,
     "metadata": {},
     "output_type": "execute_result"
    }
   ],
   "source": [
    "# exercise 02\n",
    "\n",
    "\"\"\"\n",
    "Comparing two set operations\n",
    "\n",
    "You learned in the video exercise that UNION ALL returns duplicates, whereas UNION does not. In this exercise, you will dive deeper into this, looking at cases for when UNION is appropriate compared to UNION ALL.\n",
    "\n",
    "You will be looking at combinations of country code and year from the economies and populations tables.\n",
    "\"\"\"\n",
    "\n",
    "# Instructions\n",
    "\n",
    "\"\"\"\n",
    "\n",
    "    Perform an appropriate set operation that determines all pairs of country code and year (in that order) from economies and populations, excluding duplicates.\n",
    "    Order by country code and year.\n",
    "\n",
    "    Amend the query to return all combinations (including duplicates) of country code and year in the economies or the populations tables.\n",
    "\n",
    "\"\"\"\n",
    "\n",
    "# solution\n",
    "\n",
    "-- Query that determines all pairs of code and year from economies and populations, without duplicates\n",
    "SELECT code, year\n",
    "FROM economies\n",
    "UNION\n",
    "SELECT p.country_code, p.year\n",
    "FROM populations AS p\n",
    "ORDER BY code, year;\n",
    "\n",
    "#----------------------------------#\n",
    "\n",
    "SELECT code, year\n",
    "FROM economies\n",
    "-- Set theory clause\n",
    "UNION ALL\n",
    "SELECT country_code, year\n",
    "FROM populations\n",
    "ORDER BY code, year;\n",
    "\n",
    "#----------------------------------#\n",
    "\n",
    "# Conclusion\n",
    "\n",
    "\"\"\"\n",
    "Nicely done! UNION returned 434 records, whereas UNION ALL returned 814. Are you able to spot the duplicates in the UNION ALL?\n",
    "\"\"\""
   ]
  },
  {
   "cell_type": "code",
   "execution_count": 2,
   "metadata": {
    "tags": []
   },
   "outputs": [
    {
     "data": {
      "text/plain": [
       "'\\n\\n'"
      ]
     },
     "execution_count": 2,
     "metadata": {},
     "output_type": "execute_result"
    }
   ],
   "source": [
    "# exercise 03\n",
    "\n",
    "\"\"\"\n",
    "INTERSECT\n",
    "\n",
    "Well done getting through the material on INTERSECT!\n",
    "\n",
    "Let's say you are interested in those countries that share names with cities. Use this task as an opportunity to show off your knowledge of set theory in SQL!\n",
    "\"\"\"\n",
    "\n",
    "# Instructions\n",
    "\n",
    "\"\"\"\n",
    "Return all city names that are also country names.\n",
    "\"\"\"\n",
    "\n",
    "# solution\n",
    "\n",
    "-- Return all cities with the same name as a country\n",
    "SELECT name\n",
    "FROM cities\n",
    "INTERSECT\n",
    "SELECT name\n",
    "FROM countries;\n",
    "\n",
    "#----------------------------------#\n",
    "\n",
    "# Conclusion\n",
    "\n",
    "\"\"\"\n",
    "Nice one! It looks as though Singapore is the only country in our database that has a city with the same name!\n",
    "\"\"\""
   ]
  },
  {
   "cell_type": "code",
   "execution_count": 3,
   "metadata": {
    "tags": []
   },
   "outputs": [
    {
     "data": {
      "text/plain": [
       "'\\n\\n'"
      ]
     },
     "execution_count": 3,
     "metadata": {},
     "output_type": "execute_result"
    }
   ],
   "source": [
    "# exercise 04\n",
    "\n",
    "\"\"\"\n",
    "Review UNION and INTERSECT\n",
    "\n",
    "Which of the following definitions of set operations is correct?\n",
    "Answer the question\n",
    "50XP\n",
    "Possible Answers\n",
    "\n",
    "    UNION: returns all records (potentially duplicates) in both tables\n",
    "    \n",
    "    UNION ALL: returns only unique records\n",
    "    \n",
    "    INTERSECT: returns only records appearing in both tables (Answer)\n",
    "    \n",
    "    None of the above definitions are correct.\n",
    "\n",
    "\"\"\"\n",
    "\n",
    "# Instructions\n",
    "\n",
    "\"\"\"\n",
    "\n",
    "\"\"\"\n",
    "\n",
    "# solution\n",
    "\n",
    "\n",
    "\n",
    "#----------------------------------#\n",
    "\n",
    "# Conclusion\n",
    "\n",
    "\"\"\"\n",
    "Correct! INTERSECT is a robust set operation for finding the set of identical records between two sets of records.\n",
    "\"\"\""
   ]
  },
  {
   "cell_type": "code",
   "execution_count": 4,
   "metadata": {
    "tags": []
   },
   "outputs": [
    {
     "data": {
      "text/plain": [
       "'\\n\\n'"
      ]
     },
     "execution_count": 4,
     "metadata": {},
     "output_type": "execute_result"
    }
   ],
   "source": [
    "# exercise 05\n",
    "\n",
    "\"\"\"\n",
    "You've got it, EXCEPT...\n",
    "\n",
    "Just as you were able to leverage INTERSECT to find the names of cities with the same names as countries, you can also do the reverse, using EXCEPT.\n",
    "\n",
    "In this exercise, you will find the names of cities that do not have the same names as their countries.\n",
    "\"\"\"\n",
    "\n",
    "# Instructions\n",
    "\n",
    "\"\"\"\n",
    "Return all cities that do not have the same name as a country.\n",
    "\"\"\"\n",
    "\n",
    "# solution\n",
    "\n",
    "-- Return all cities that do not have the same name as a country\n",
    "SELECT name \n",
    "FROM cities\n",
    "EXCEPT\n",
    "SELECT name \n",
    "FROM countries\n",
    "ORDER BY name;\n",
    "\n",
    "#----------------------------------#\n",
    "\n",
    "# Conclusion\n",
    "\n",
    "\"\"\"\n",
    "EXCEPTional! Note that if countries had been on the left and cities on the right, you would have returned the opposite: all countries that do not have the same name as a city.\n",
    "\"\"\""
   ]
  }
 ],
 "metadata": {
  "kernelspec": {
   "display_name": "Python 3 (ipykernel)",
   "language": "python",
   "name": "python3"
  },
  "language_info": {
   "codemirror_mode": {
    "name": "ipython",
    "version": 3
   },
   "file_extension": ".py",
   "mimetype": "text/x-python",
   "name": "python",
   "nbconvert_exporter": "python",
   "pygments_lexer": "ipython3",
   "version": "3.11.3"
  }
 },
 "nbformat": 4,
 "nbformat_minor": 4
}
