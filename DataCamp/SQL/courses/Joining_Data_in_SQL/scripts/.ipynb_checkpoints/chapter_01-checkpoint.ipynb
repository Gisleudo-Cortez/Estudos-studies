{
 "cells": [
  {
   "cell_type": "code",
   "execution_count": 15,
   "metadata": {
    "tags": []
   },
   "outputs": [],
   "source": [
    "# run this to shorten the data import from the files\n",
    "path_data = ''\n"
   ]
  },
  {
   "cell_type": "code",
   "execution_count": null,
   "metadata": {},
   "outputs": [
    {
     "data": {
      "text/plain": [
       "'/home/nero/Documents/Estudos/DataCamp'"
      ]
     },
     "execution_count": 15,
     "metadata": {},
     "output_type": "execute_result"
    }
   ],
   "source": [
    "# exercise 01\n",
    "\n",
    "\"\"\"\n",
    "Your first join\n",
    "\n",
    "Throughout this course, you'll be working with the countries database, which contains information about the most populous world cities in the world, along with country-level economic, population, and geographic data. The database also contains information on languages spoken in each country.\n",
    "\n",
    "You can see the different tables in this database to get a sense of what they contain by clicking on the corresponding tabs. Click through them and familiarize yourself with the fields that seem to be shared across tables before you continue with the course.\n",
    "\n",
    "In this exercise, you'll use the cities and countries tables to build your first inner join. You'll start off by selecting all columns in step 1, performing your join in step 2, and then refining your join to choose specific columns in step 3.\n",
    "\"\"\"\n",
    "\n",
    "# Instructions\n",
    "\n",
    "\"\"\"\n",
    "Begin by selecting all columns from the cities table, using the SQL shortcut that selects all.\n",
    "---\n",
    "    Perform an inner join with the cities table on the left and the countries table on the right; do not alias tables here or in the next step.\n",
    "    \n",
    "    Identify the relevant column names to join ON by inspecting the cities and countries tabs in the console.\n",
    "---\n",
    "\n",
    "    Complete the SELECT statement to keep only the name of the city, the name of the country, and the region the country is located in (in the order specified).\n",
    "    Alias the name of the city AS city and the name of the country AS country.\n",
    "\n",
    "\"\"\"\n",
    "\n",
    "# solution\n",
    "\n",
    "-- Select all columns from cities\n",
    "SELECT *\n",
    "FROM cities;\n",
    "\n",
    "#----------------------------------#\n",
    "\n",
    "SELECT * \n",
    "FROM cities\n",
    "-- Inner join to countries\n",
    "INNER JOIN countries\n",
    "-- Match on country codes\n",
    "ON cities.country_code = countries.code\n",
    "\n",
    "#----------------------------------#\n",
    "\n",
    "-- Select name fields (with alias) and region \n",
    "SELECT cities.name AS city, countries.name AS country, countries.region\n",
    "FROM cities\n",
    "INNER JOIN countries\n",
    "ON cities.country_code = countries.code;\n",
    "\n",
    "#----------------------------------#\n",
    "\n",
    "# Conclusion\n",
    "\n",
    "\"\"\"\n",
    "Great work! Writing out full table names when joining tables creates a lot of extra code. In the next exercise, you'll explore how you can do more aliasing to limit the amount of writing.\n",
    "\"\"\""
   ]
  },
  {
   "cell_type": "code",
   "execution_count": 1,
   "metadata": {
    "tags": []
   },
   "outputs": [
    {
     "data": {
      "text/plain": [
       "'\\n\\n'"
      ]
     },
     "execution_count": 1,
     "metadata": {},
     "output_type": "execute_result"
    }
   ],
   "source": [
    "# exercise 02\n",
    "\n",
    "\"\"\"\n",
    "Joining with aliased tables\n",
    "\n",
    "Recall from the video that instead of writing full table names in queries, you can use table aliasing as a shortcut. The alias can be used in other parts of your query, such as the SELECT statement!\n",
    "\n",
    "You also learned that when you SELECT fields, a field can be ambiguous. For example, imagine two tables, apples and oranges, both containing a column called color. You need to use the syntax apples.color or oranges.color in your SELECT statement to point SQL to the correct table. Without this, you would get the following error:\n",
    "\n",
    "  column reference \"color\" is ambiguous\n",
    "\n",
    "In this exercise, you'll practice joining with aliased tables. You'll use data from both the countries and economies tables to examine the inflation rate in 2010 and 2015.\n",
    "\n",
    "When writing joins, many SQL users prefer to write the SELECT statement after writing the join code, in case the SELECT statement requires using table aliases.\n",
    "\"\"\"\n",
    "\n",
    "# Instructions\n",
    "\n",
    "\"\"\"\n",
    "\n",
    "    Start with your inner join in line 5; join the tables countries AS c (left) with economies (right), aliasing economies AS e.\n",
    "    Next, use code as your joining field in line 7; do not use the USING command here.\n",
    "    Lastly, select the following columns in order in line 2: code from the countries table (aliased as country_code), name, year, and inflation_rate.\n",
    "\n",
    "\"\"\"\n",
    "\n",
    "# solution\n",
    "\n",
    "-- Select fields with aliases\n",
    "SELECT c.code AS country_code, name, year, inflation_rate\n",
    "FROM countries AS c\n",
    "-- Join to economies (alias e)\n",
    "INNER JOIN economies AS e\n",
    "-- Match on code field using table aliases\n",
    "ON c.code = e.code;\n",
    "\n",
    "#----------------------------------#\n",
    "\n",
    "# Conclusion\n",
    "\n",
    "\"\"\"\n",
    "Nicely done! Notice that only the code field is ambiguous, so it requires a table name or alias before it. All the other fields (name, year, and inflation_rate) do not occur in more than one table name, so do not require table names or aliasing in the SELECT statement. Using table aliases takes some getting used to, but it will save you a lot of typing, especially when your query involves joining tables!\n",
    "\"\"\""
   ]
  },
  {
   "cell_type": "code",
   "execution_count": 2,
   "metadata": {
    "tags": []
   },
   "outputs": [
    {
     "data": {
      "text/plain": [
       "'\\n\\n'"
      ]
     },
     "execution_count": 2,
     "metadata": {},
     "output_type": "execute_result"
    }
   ],
   "source": [
    "# exercise 03\n",
    "\n",
    "\"\"\"\n",
    "USING in action\n",
    "\n",
    "In the previous exercises, you performed your joins using the ON keyword. Recall that when both the field names being joined on are the same, you can take advantage of the USING clause.\n",
    "\n",
    "You'll now explore the languages table from our database. Which languages are official languages, and which ones are unofficial?\n",
    "\n",
    "You'll employ USING to simplify your query as you explore this question.\n",
    "\"\"\"\n",
    "\n",
    "# Instructions\n",
    "\n",
    "\"\"\"\n",
    "Use the country code field to complete the INNER JOIN with USING; do not change any alias names.\n",
    "\"\"\"\n",
    "\n",
    "# solution\n",
    "\n",
    "SELECT c.name AS country, l.name AS language, official\n",
    "FROM countries AS c\n",
    "INNER JOIN languages AS l\n",
    "-- Match using the code column\n",
    "USING (code);\n",
    "\n",
    "#----------------------------------#\n",
    "\n",
    "# Conclusion\n",
    "\n",
    "\"\"\"\n",
    "Great work! It looks like Afghanistan has multiple official and unofficial languages! A parting word of caution when using USING: columns can sometimes have the same name but actually contain vastly different data. Always remember to check what you are joining on by displaying and viewing your data first!\n",
    "\"\"\""
   ]
  },
  {
   "cell_type": "code",
   "execution_count": 3,
   "metadata": {
    "tags": []
   },
   "outputs": [
    {
     "data": {
      "text/plain": [
       "'\\n\\n'"
      ]
     },
     "execution_count": 3,
     "metadata": {},
     "output_type": "execute_result"
    }
   ],
   "source": [
    "# exercise 04\n",
    "\n",
    "\"\"\"\n",
    "Relationships in our database\n",
    "\n",
    "Now that you know more about the different types of relationships that can exist between tables, it's time to examine a few relationships in the countries database!\n",
    "\n",
    "To answer questions about table relationships, you can explore the tables displayed as tabs in your console.\n",
    "\"\"\"\n",
    "\n",
    "# Instructions\n",
    "\n",
    "\"\"\"\n",
    "Question\n",
    "\n",
    "What best describes the relationship between code in the countries table and country_code in the cities table?\n",
    "\n",
    "    This is a many-to-many relationship\n",
    "\n",
    "    This is a one-to-one relationship\n",
    "\n",
    "    This is a one-to-many relationship (Answer)\n",
    "---\n",
    "Question\n",
    "\n",
    "Which of these options best describes the relationship between the countries table and the languages table?\n",
    "\n",
    "    This is a many-to-many relationship (Answer)\n",
    "\n",
    "    This is a one-to-one relationship\n",
    "\n",
    "    This is a one-to-many relationship \n",
    "\"\"\"\n",
    "\n",
    "# solution\n",
    "\n",
    "\n",
    "\n",
    "#----------------------------------#\n",
    "\n",
    "# Conclusion\n",
    "\n",
    "\"\"\"\n",
    "That's right! Recall the example from the video: Belgium has three official languages, French, German, and Dutch. Conversely, languages can be official in many countries: Dutch is an official language of both the Netherlands and Belgium, but not Germany. Because of the many types of relationships tables can have, there are many ways to join data.\n",
    "\"\"\""
   ]
  },
  {
   "cell_type": "code",
   "execution_count": 4,
   "metadata": {
    "tags": []
   },
   "outputs": [
    {
     "data": {
      "text/plain": [
       "'\\n\\n'"
      ]
     },
     "execution_count": 4,
     "metadata": {},
     "output_type": "execute_result"
    }
   ],
   "source": [
    "# exercise 05\n",
    "\n",
    "\"\"\"\n",
    "Inspecting a relationship\n",
    "\n",
    "You've just identified that the countries table has a many-to-many relationship with the languages table. That is, many languages can be spoken in a country, and a language can be spoken in many countries.\n",
    "\n",
    "This exercise looks at each of these in turn. First, what is the best way to query all the different languages spoken in a country? And second, how is this different from the best way to query all the countries that speak each language?\n",
    "\n",
    "Recall that when writing joins, many users prefer to write SQL code out of order by writing the join first (along with any table aliases), and writing the SELECT statement at the end.\n",
    "\"\"\"\n",
    "\n",
    "# Instructions\n",
    "\n",
    "\"\"\"\n",
    "\n",
    "    Start with the join statement in line 6; perform an inner join with the countries table as c on the left with the languages table as l on the right.\n",
    "    Make use of the USING keyword to join on code in line 8.\n",
    "    Lastly, in line 2, select the country name, aliased as country, and the language name, aliased as language.\n",
    "---\n",
    "\n",
    "    Rearrange the SELECT statement so that the language column appears on the left and the country column on the right.\n",
    "    Sort the results by language.\n",
    "\n",
    "---\n",
    "Question\n",
    "\n",
    "Select the incorrect answer from the following options.\n",
    "\n",
    "The query you generated in step 1 is provided below. Run this query (or the amendment you made in step 2) in the console to find the answer to the question.\n",
    "\n",
    "SELECT c.name AS country, l.name AS language\n",
    "FROM countries AS c\n",
    "INNER JOIN languages AS l\n",
    "USING(code)\n",
    "ORDER BY country;\n",
    "\n",
    "Possible answers\n",
    "\n",
    "    There are at least three languages spoken in Armenia\n",
    "\n",
    "    Alsatian is spoken in more than one country (Answer)\n",
    "\n",
    "    Bhojpuri is spoken in two countries\n",
    "\"\"\"\n",
    "\n",
    "# solution\n",
    "\n",
    "-- Select country and language names, aliased\n",
    "SELECT c.name AS country, l.name AS language\n",
    "-- From countries (aliased)\n",
    "FROM countries AS c\n",
    "-- Join to languages (aliased)\n",
    "INNER JOIN languages AS l\n",
    "-- Use code as the joining field with the USING keyword\n",
    "USING (code);\n",
    "\n",
    "#----------------------------------#\n",
    "\n",
    "-- Rearrange SELECT statement, keeping aliases\n",
    "SELECT l.name AS language, c.name AS country\n",
    "FROM countries AS c\n",
    "INNER JOIN languages AS l\n",
    "USING(code)\n",
    "-- Order the results by language\n",
    "ORDER BY language;\n",
    "\n",
    "#----------------------------------#\n",
    "\n",
    "SELECT c.name AS country, l.name AS language\n",
    "FROM countries AS c\n",
    "INNER JOIN languages AS l\n",
    "USING(code)\n",
    "WHERE l.name = 'Alsatian'\n",
    "ORDER BY country;\n",
    "\n",
    "#----------------------------------#\n",
    "\n",
    "# Conclusion\n",
    "\n",
    "\"\"\"\n",
    "Correct! Alsatian is only spoken in France. Well done getting through this exercise. When we read SQL results, we expect the most important column to be on the far left, and it's helpful if results are ordered by relevance to the question at hand. By default, results are ordered by the column from the left table, but you can change this using ORDER BY.\n",
    "\"\"\""
   ]
  },
  {
   "cell_type": "code",
   "execution_count": 5,
   "metadata": {
    "tags": []
   },
   "outputs": [
    {
     "data": {
      "text/plain": [
       "'\\n\\n'"
      ]
     },
     "execution_count": 5,
     "metadata": {},
     "output_type": "execute_result"
    }
   ],
   "source": [
    "# exercise 06\n",
    "\n",
    "\"\"\"\n",
    "Joining multiple tables\n",
    "\n",
    "You've seen that the ability to combine multiple joins using a single query is a powerful feature of SQL.\n",
    "\n",
    "Suppose you are interested in the relationship between fertility and unemployment rates. Your task in this exercise is to join tables to return the country name, year, fertility rate, and unemployment rate in a single result from the countries, populations and economies tables.\n",
    "\"\"\"\n",
    "\n",
    "# Instructions\n",
    "\n",
    "\"\"\"\n",
    "\n",
    "    Perform an inner join of countries AS c (left) with populations AS p (right), on code.\n",
    "    Select name, year and fertility_rate.\n",
    "\n",
    "    Chain another inner join to your query with the economies table AS e, using code.\n",
    "    Select name, and using table aliases, select year and unemployment_rate from economies.\n",
    "\n",
    "\"\"\"\n",
    "\n",
    "# solution\n",
    "\n",
    "-- Select relevant fields\n",
    "SELECT name, year, fertility_rate\n",
    "-- Inner join countries and populations, aliased, on code\n",
    "FROM countries AS c\n",
    "INNER JOIN populations AS p\n",
    "ON c.code = p.country_code;\n",
    "\n",
    "#----------------------------------#\n",
    "\n",
    "-- Select fields\n",
    "SELECT name, e.year, fertility_rate, e.unemployment_rate\n",
    "FROM countries AS c\n",
    "INNER JOIN populations AS p\n",
    "ON c.code = p.country_code\n",
    "-- Join to economies (as e)\n",
    "INNER JOIN economies AS e\n",
    "-- Match on country code\n",
    "USING (code);\n",
    "\n",
    "#----------------------------------#\n",
    "\n",
    "# Conclusion\n",
    "\n",
    "\"\"\"\n",
    "Good work! You may have noticed an issue with these results, though. Have a look at the results for Albania. The 2010 value for fertility_rate is also paired with the 2015 value for unemployment_rate, whereas we only want data from one year per record. You'll fix this in the next exercise!\n",
    "\"\"\""
   ]
  },
  {
   "cell_type": "code",
   "execution_count": 6,
   "metadata": {
    "tags": []
   },
   "outputs": [
    {
     "data": {
      "text/plain": [
       "'\\n\\n'"
      ]
     },
     "execution_count": 6,
     "metadata": {},
     "output_type": "execute_result"
    }
   ],
   "source": [
    "# exercise 07\n",
    "\n",
    "\"\"\"\n",
    "Checking multi-table joins\n",
    "\n",
    "Have a look at the results for Albania from the previous query below. You can see that the 2015 fertility_rate has been paired with 2010 unemployment_rate, and vice versa.\n",
    "name \tyear \tfertility_rate \tunemployment_rate\n",
    "Albania \t2015 \t1.663 \t17.1\n",
    "Albania \t2010 \t1.663 \t14\n",
    "Albania \t2015 \t1.793 \t17.1\n",
    "Albania \t2010 \t1.793 \t14\n",
    "\n",
    "Instead of four records, the query should return two: one for each year. The last join was performed on c.code = e.code, without also joining on year. Your task in this exercise is to fix your query by explicitly stating that both the country code and year should match!\n",
    "\"\"\"\n",
    "\n",
    "# Instructions\n",
    "\n",
    "\"\"\"\n",
    "Modify your query so that you are joining to economies on year as well as code.\n",
    "\"\"\"\n",
    "\n",
    "# solution\n",
    "\n",
    "SELECT name, e.year, fertility_rate, unemployment_rate\n",
    "FROM countries AS c\n",
    "INNER JOIN populations AS p\n",
    "ON c.code = p.country_code\n",
    "INNER JOIN economies AS e\n",
    "ON c.code = e.code\n",
    "-- Add an additional joining condition such that you are also joining on year\n",
    "\tAND p.year = e.year;\n",
    "\n",
    "#----------------------------------#\n",
    "\n",
    "# Conclusion\n",
    "\n",
    "\"\"\"\n",
    "\n",
    "\"\"\""
   ]
  },
  {
   "cell_type": "code",
   "execution_count": null,
   "metadata": {},
   "outputs": [],
   "source": [
    "# exercise 08\n",
    "\n",
    "\"\"\"\n",
    "Joining with aliased tables\n",
    "\n",
    "Recall from the video that instead of writing full table names in queries, you can use table aliasing as a shortcut. The alias can be used in other parts of your query, such as the SELECT statement!\n",
    "\n",
    "You also learned that when you SELECT fields, a field can be ambiguous. For example, imagine two tables, apples and oranges, both containing a column called color. You need to use the syntax apples.color or oranges.color in your SELECT statement to point SQL to the correct table. Without this, you would get the following error:\n",
    "\n",
    "  column reference \"color\" is ambiguous\n",
    "\n",
    "In this exercise, you'll practice joining with aliased tables. You'll use data from both the countries and economies tables to examine the inflation rate in 2010 and 2015.\n",
    "\n",
    "When writing joins, many SQL users prefer to write the SELECT statement after writing the join code, in case the SELECT statement requires using table aliases.\n",
    "\"\"\"\n",
    "\n",
    "# Instructions\n",
    "\n",
    "\"\"\"\n",
    "\n",
    "    Start with your inner join in line 5; join the tables countries AS c (left) with economies (right), aliasing economies AS e.\n",
    "    Next, use code as your joining field in line 7; do not use the USING command here.\n",
    "    Lastly, select the following columns in order in line 2: code from the countries table (aliased as country_code), name, year, and inflation_rate.\n",
    "\n",
    "\"\"\"\n",
    "\n",
    "# solution\n",
    "\n",
    "-- Select fields with aliases\n",
    "SELECT c.code AS country_code, name, year, inflation_rate\n",
    "FROM countries AS c\n",
    "-- Join to economies (alias e)\n",
    "INNER JOIN economies AS e\n",
    "-- Match on code field using table aliases\n",
    "ON c.code = e.code;\n",
    "\n",
    "#----------------------------------#\n",
    "\n",
    "# Conclusion\n",
    "\n",
    "\"\"\"\n",
    "Nicely done! Notice that only the code field is ambiguous, so it requires a table name or alias before it. All the other fields (name, year, and inflation_rate) do not occur in more than one table name, so do not require table names or aliasing in the SELECT statement. Using table aliases takes some getting used to, but it will save you a lot of typing, especially when your query involves joining tables!\n",
    "\"\"\""
   ]
  }
 ],
 "metadata": {
  "kernelspec": {
   "display_name": "Python 3 (ipykernel)",
   "language": "python",
   "name": "python3"
  },
  "language_info": {
   "codemirror_mode": {
    "name": "ipython",
    "version": 3
   },
   "file_extension": ".py",
   "mimetype": "text/x-python",
   "name": "python",
   "nbconvert_exporter": "python",
   "pygments_lexer": "ipython3",
   "version": "3.11.3"
  }
 },
 "nbformat": 4,
 "nbformat_minor": 4
}
