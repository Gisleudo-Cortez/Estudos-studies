{
 "cells": [
  {
   "cell_type": "code",
   "execution_count": 15,
   "metadata": {
    "tags": []
   },
   "outputs": [],
   "source": [
    "# run this to shorten the data import from the files\n",
    "path_data = ''\n"
   ]
  },
  {
   "cell_type": "code",
   "execution_count": null,
   "metadata": {},
   "outputs": [
    {
     "data": {
      "text/plain": [
       "'/home/nero/Documents/Estudos/DataCamp'"
      ]
     },
     "execution_count": 15,
     "metadata": {},
     "output_type": "execute_result"
    }
   ],
   "source": [
    "# exercise 01\n",
    "\n",
    "\"\"\"\n",
    "This is a LEFT JOIN, right?\n",
    "\n",
    "Nice work getting to grips with the structure of joins! In this exercise, you'll explore the differences between INNER JOIN and LEFT JOIN. This will help you decide which type of join to use.\n",
    "\n",
    "As before, you will be using the cities and countries tables.\n",
    "\n",
    "You'll begin with an INNER JOIN with the cities table (left) and countries table (right). This helps if you are interested only in records where a country is present in both tables.\n",
    "\n",
    "You'll then change to a LEFT JOIN. This helps if you're interested in returning all countries in the cities table, whether or not they have a match in the countries table.\n",
    "\"\"\"\n",
    "\n",
    "# Instructions\n",
    "\n",
    "\"\"\"\n",
    "\n",
    "    Perform an inner join with cities AS c1 on the left and countries as c2 on the right.\n",
    "    Use code as the field to merge your tables on.\n",
    "---\n",
    "\n",
    "    Change the code to perform a LEFT JOIN instead of an INNER JOIN.\n",
    "    After executing this query, have a look at how many records the query result contains.\n",
    "\n",
    "\"\"\"\n",
    "\n",
    "# solution\n",
    "\n",
    "SELECT \n",
    "    c1.name AS city,\n",
    "    code,\n",
    "    c2.name AS country,\n",
    "    region,\n",
    "    city_proper_pop\n",
    "FROM cities AS c1\n",
    "-- Perform an inner join with cities as c1 and countries as c2 on country code\n",
    "INNER JOIN countries AS c2\n",
    "ON c1.country_code = c2.code\n",
    "ORDER BY code DESC;\n",
    "\n",
    "#----------------------------------#\n",
    "\n",
    "SELECT \n",
    "\tc1.name AS city, \n",
    "    code, \n",
    "    c2.name AS country,\n",
    "    region, \n",
    "    city_proper_pop\n",
    "FROM cities AS c1\n",
    "-- Join right table (with alias)\n",
    "LEFT JOIN countries AS c2\n",
    "ON c1.country_code = c2.code\n",
    "ORDER BY code DESC;\n",
    "\n",
    "#----------------------------------#\n",
    "\n",
    "# Conclusion\n",
    "\n",
    "\"\"\"\n",
    "Perfect! Notice that the INNER JOIN resulted in 230 records, whereas the LEFT JOIN returned 236 records. Remember that the LEFT JOIN is a type of outer join: its result is not limited to only those records that have matches for both tables on the joining field.\n",
    "\"\"\""
   ]
  },
  {
   "cell_type": "code",
   "execution_count": 1,
   "metadata": {
    "tags": []
   },
   "outputs": [
    {
     "data": {
      "text/plain": [
       "'\\n\\n'"
      ]
     },
     "execution_count": 1,
     "metadata": {},
     "output_type": "execute_result"
    }
   ],
   "source": [
    "# exercise 02\n",
    "\n",
    "\"\"\"\n",
    "Building on your LEFT JOIN\n",
    "\n",
    "You'll now revisit the use of the AVG() function introduced in a previous course.\n",
    "\n",
    "Being able to build more than one SQL function into your query will enable you to write compact, supercharged queries.\n",
    "\n",
    "You will use AVG() in combination with a LEFT JOIN to determine the average gross domestic product (GDP) per capita by region in 2010.\n",
    "\"\"\"\n",
    "\n",
    "# Instructions\n",
    "\n",
    "\"\"\"\n",
    "\n",
    "    Complete the LEFT JOIN with the countries table on the left and the economies table on the right on the code field.\n",
    "    Filter the records from the year 2010.\n",
    "---\n",
    "\n",
    "    To calculate per capita GDP per region, begin by grouping by region.\n",
    "    After your GROUP BY, choose region in your SELECT statement, followed by average GDP per capita using the AVG() function, with AS avg_gdp as your alias.\n",
    "---\n",
    "\n",
    "    Order the result set by the average GDP per capita from highest to lowest.\n",
    "    Return only the first 10 records in your result.\n",
    "\n",
    "\"\"\"\n",
    "\n",
    "# solution\n",
    "\n",
    "SELECT name, region, gdp_percapita\n",
    "FROM countries AS c\n",
    "LEFT JOIN economies AS e\n",
    "-- Match on code fields\n",
    "ON c.code = e.code\n",
    "-- Filter for the year 2010\n",
    "WHERE year = 2010;\n",
    "\n",
    "#----------------------------------#\n",
    "\n",
    "-- Select region, and average gdp_percapita as avg_gdp\n",
    "SELECT region, AVG(gdp_percapita) AS avg_gdp\n",
    "FROM countries AS c\n",
    "LEFT JOIN economies AS e\n",
    "USING(code)\n",
    "WHERE year = 2010\n",
    "-- Group by region\n",
    "GROUP BY region;\n",
    "\n",
    "#----------------------------------#\n",
    "\n",
    "SELECT region, AVG(gdp_percapita) AS avg_gdp\n",
    "FROM countries AS c\n",
    "LEFT JOIN economies AS e\n",
    "USING(code)\n",
    "WHERE year = 2010\n",
    "GROUP BY region\n",
    "-- Order by descending avg_gdp\n",
    "ORDER BY avg_gdp DESC\n",
    "-- Return only first 10 records\n",
    "LIMIT 10\n",
    "\n",
    "#----------------------------------#\n",
    "\n",
    "# Conclusion\n",
    "\n",
    "\"\"\"\n",
    "Nice work! You successfully executed a LEFT JOIN and applied a GROUP BY to the result of your JOIN. Building up your SQL vocabulary in this way will enable you to answer questions of ever-increasing complexity!\n",
    "\"\"\""
   ]
  },
  {
   "cell_type": "code",
   "execution_count": 2,
   "metadata": {
    "tags": []
   },
   "outputs": [
    {
     "data": {
      "text/plain": [
       "'\\n\\n'"
      ]
     },
     "execution_count": 2,
     "metadata": {},
     "output_type": "execute_result"
    }
   ],
   "source": [
    "# exercise 03\n",
    "\n",
    "\"\"\"\n",
    "Is this RIGHT?\n",
    "\n",
    "You learned that right joins are not used as commonly as left joins. A key reason for this is that right joins can always be re-written as left joins, and because joins are typically typed from left to right, joining from the left feels more intuitive when constructing queries.\n",
    "\n",
    "It can be tricky to wrap one's head around when left and right joins return equivalent results. You'll explore this in this exercise!\n",
    "\"\"\"\n",
    "\n",
    "# Instructions\n",
    "\n",
    "\"\"\"\n",
    "Write a new query using RIGHT JOIN that produces an identical result to the LEFT JOIN provided.\n",
    "\"\"\"\n",
    "\n",
    "# solution\n",
    "\n",
    "-- Modify this query to use RIGHT JOIN instead of LEFT JOIN\n",
    "SELECT countries.name AS country, languages.name AS language, percent\n",
    "FROM languages\n",
    "RIGHT JOIN countries\n",
    "USING(code)\n",
    "ORDER BY language;\n",
    "\n",
    "#----------------------------------#\n",
    "\n",
    "# Conclusion\n",
    "\n",
    "\"\"\"\n",
    "Correct: when converting a LEFT JOIN to a RIGHT JOIN, change both the type of join and the order of the tables to get equivalent results. You would get different results if you only changed the table order. The order of fields you are joining ON still does not matter.\n",
    "\"\"\""
   ]
  },
  {
   "cell_type": "code",
   "execution_count": 3,
   "metadata": {
    "tags": []
   },
   "outputs": [
    {
     "data": {
      "text/plain": [
       "'\\n\\n'"
      ]
     },
     "execution_count": 3,
     "metadata": {},
     "output_type": "execute_result"
    }
   ],
   "source": [
    "# exercise 04\n",
    "\n",
    "\"\"\"\n",
    "Comparing joins\n",
    "\n",
    "In this exercise, you'll examine how results can differ when performing a full join compared to a left join and inner join by joining the countries and currencies tables. You'll be focusing on the North American region and records where the name of the country is missing.\n",
    "\n",
    "You'll begin with a full join with countries on the left and currencies on the right. Recall the workings of a full join with the diagram below!\n",
    "\n",
    "You'll then complete a similar left join and conclude with an inner join, observing the results you see along the way.\n",
    "\"\"\"\n",
    "\n",
    "# Instructions\n",
    "\n",
    "\"\"\"\n",
    "\n",
    "    Perform a full join with countries (left) and currencies (right).\n",
    "    Filter for the North America region or NULL country names.\n",
    "\n",
    "    Repeat the same query as before, turning your full join into a left join with the currencies table.\n",
    "    Have a look at what has changed in the output by comparing it to the full join result.\n",
    "\n",
    "    Repeat the same query again, this time performing an inner join of countries with currencies.\n",
    "    Have a look at what has changed in the output by comparing it to the full join and left join results!\n",
    "\n",
    "\"\"\"\n",
    "\n",
    "# solution\n",
    "\n",
    "SELECT name AS country, code, region, basic_unit\n",
    "FROM countries\n",
    "-- Join to currencies\n",
    "FULL JOIN currencies \n",
    "USING (code)\n",
    "-- Where region is North America or name is null\n",
    "WHERE region = 'North America' OR name IS NULL\n",
    "ORDER BY region;\n",
    "\n",
    "#----------------------------------#\n",
    "\n",
    "SELECT name AS country, code, region, basic_unit\n",
    "FROM countries\n",
    "-- Join to currencies\n",
    "LEFT JOIN currencies \n",
    "USING (code)\n",
    "WHERE region = 'North America' \n",
    "\tOR name IS NULL\n",
    "ORDER BY region;\n",
    "\n",
    "#----------------------------------#\n",
    "\n",
    "SELECT name AS country, code, region, basic_unit\n",
    "FROM countries\n",
    "-- Join to currencies\n",
    "INNER JOIN currencies \n",
    "USING (code)\n",
    "WHERE region = 'North America' \n",
    "\tOR name IS NULL\n",
    "ORDER BY region;\n",
    "\n",
    "#----------------------------------#\n",
    "\n",
    "# Conclusion\n",
    "\n",
    "\"\"\"\n",
    "Have you kept an eye out for the different numbers of records these queries returned? The FULL JOIN query returned 18 records, the LEFT JOIN returned four records, and the INNER JOIN only returned three records. Does this add more color to the diagrams you have seen for these three types of join?\n",
    "\"\"\""
   ]
  },
  {
   "cell_type": "code",
   "execution_count": 4,
   "metadata": {
    "tags": []
   },
   "outputs": [
    {
     "data": {
      "text/plain": [
       "'\\n\\n'"
      ]
     },
     "execution_count": 4,
     "metadata": {},
     "output_type": "execute_result"
    }
   ],
   "source": [
    "# exercise 05\n",
    "\n",
    "\"\"\"\n",
    "Chaining FULL JOINs\n",
    "\n",
    "As you have seen in the previous chapter on INNER JOIN, it is possible to chain joins in SQL, such as when looking to connect data from more than two tables.\n",
    "\n",
    "Suppose you are doing some research on Melanesia and Micronesia, and are interested in pulling information about languages and currencies into the data we see for these regions in the countries table. Since languages and currencies exist in separate tables, this will require two consecutive full joins involving the countries, languages and currencies tables.\n",
    "\"\"\"\n",
    "\n",
    "# Instructions\n",
    "\n",
    "\"\"\"\n",
    "\n",
    "    Complete the FULL JOIN with countries as c1 on the left and languages as l on the right, using code to perform this join.\n",
    "    Next, chain this join with another FULL JOIN, placing currencies on the right, joining on code again.\n",
    "\n",
    "\"\"\"\n",
    "\n",
    "# solution\n",
    "\n",
    "SELECT \n",
    "\tc1.name AS country, \n",
    "    region, \n",
    "    l.name AS language,\n",
    "\tbasic_unit, \n",
    "    frac_unit\n",
    "FROM countries as c1 \n",
    "-- Full join with languages (alias as l)\n",
    "FULL JOIN languages AS l \n",
    "USING(code)\n",
    "-- Full join with currencies (alias as c2)\n",
    "FULL JOIN currencies AS c2\n",
    "USING(code)\n",
    "WHERE region LIKE 'M%esia';\n",
    "\n",
    "#----------------------------------#\n",
    "\n",
    "# Conclusion\n",
    "\n",
    "\"\"\"\n",
    "Well done! The first FULL JOIN in the query pulled countries and languages, and the second FULL JOIN added in currency data for each record in the result of the first FULL JOIN.\n",
    "\"\"\""
   ]
  },
  {
   "cell_type": "code",
   "execution_count": 5,
   "metadata": {
    "tags": []
   },
   "outputs": [
    {
     "data": {
      "text/plain": [
       "'\\n\\n'"
      ]
     },
     "execution_count": 5,
     "metadata": {},
     "output_type": "execute_result"
    }
   ],
   "source": [
    "# exercise 06\n",
    "\n",
    "\"\"\"\n",
    "Histories and languages\n",
    "\n",
    "Well done getting to know all about CROSS JOIN! As you have learned, CROSS JOIN can be incredibly helpful when asking questions that involve looking at all possible combinations or pairings between two sets of data.\n",
    "\n",
    "Imagine you are a researcher interested in the languages spoken in two countries: Pakistan and India. You are interested in asking:\n",
    "\n",
    "    What are the languages presently spoken in the two countries?\n",
    "    Given the shared history between the two countries, what languages could potentially have been spoken in either country over the course of their history?\n",
    "\n",
    "In this exercise, we will explore how INNER JOIN and CROSS JOIN can help us answer these two questions, respectively.\n",
    "\"\"\"\n",
    "\n",
    "# Instructions\n",
    "\n",
    "\"\"\"\n",
    "Complete the code to perform an INNER JOIN of countries AS c with languages AS l using the code field to obtain the languages currently spoken in the two countries.\n",
    "---\n",
    "\n",
    "    Change your INNER JOIN to a different kind of join to look at possible combinations of languages that could have been spoken in the two countries given their history.\n",
    "    Observe the differences in output for both joins.\n",
    "\n",
    "\"\"\"\n",
    "\n",
    "# solution\n",
    "\n",
    "SELECT c.name AS country, l.name AS language\n",
    "-- Inner join countries as c with languages as l on code\n",
    "FROM languages AS l\n",
    "INNER JOIN countries AS c\n",
    "USING(code)\n",
    "WHERE c.code IN ('PAK','IND')\n",
    "\tAND l.code in ('PAK','IND');\n",
    "\n",
    "#----------------------------------#\n",
    "\n",
    "SELECT c.name AS country, l.name AS language\n",
    "FROM countries AS c        \n",
    "-- Perform a cross join to languages (alias as l)\n",
    "CROSS JOIN languages AS l \n",
    "WHERE c.code in ('PAK','IND')\n",
    "\tAND l.code in ('PAK','IND');\n",
    "\n",
    "#----------------------------------#\n",
    "\n",
    "# Conclusion\n",
    "\n",
    "\"\"\"\n",
    "Nice one! Notice that the INNER JOIN returned 25 records, whereas the CROSS JOIN returned 50 records, as it took all combinations of languages returned by the INNER JOIN for both countries. Notice that this returns duplicate records in cases where both countries speak the same language. We will learn how to deal with duplicates in subsequent lessons.\n",
    "\"\"\""
   ]
  },
  {
   "cell_type": "code",
   "execution_count": 6,
   "metadata": {
    "tags": []
   },
   "outputs": [
    {
     "data": {
      "text/plain": [
       "'\\n\\n'"
      ]
     },
     "execution_count": 6,
     "metadata": {},
     "output_type": "execute_result"
    }
   ],
   "source": [
    "# exercise 07\n",
    "\n",
    "\"\"\"\n",
    "Choosing your join\n",
    "\n",
    "Now that you're fully equipped to use joins, try a challenge problem to test your knowledge!\n",
    "\n",
    "You will determine the names of the five countries and their respective regions with the lowest life expectancy for the year 2010. Use your knowledge about joins, filtering, sorting and limiting to create this list!\n",
    "\"\"\"\n",
    "\n",
    "# Instructions\n",
    "\n",
    "\"\"\"\n",
    "\n",
    "    Complete the join of countries AS c with populations as p.\n",
    "    Filter on the year 2010.\n",
    "    Sort your results by life expectancy in ascending order.\n",
    "    Limit the result to five countries.\n",
    "\n",
    "\"\"\"\n",
    "\n",
    "# solution\n",
    "\n",
    "SELECT \n",
    "\tc.name AS country,\n",
    "    region,\n",
    "    life_expectancy AS life_exp\n",
    "FROM countries AS c\n",
    "-- Join to populations (alias as p) using an appropriate join\n",
    "INNER JOIN populations AS p \n",
    "ON c.code = p.country_code\n",
    "-- Filter for only results in the year 2010\n",
    "WHERE year = 2010\n",
    "-- Sort by life_exp\n",
    "ORDER BY life_exp\n",
    "-- Limit to five records\n",
    "LIMIT 5;\n",
    "\n",
    "#----------------------------------#\n",
    "\n",
    "# Conclusion\n",
    "\n",
    "\"\"\"\n",
    "Nice work! Did you notice that more than one type of join can be used to return the five records in our result? All four types of joins we have learned will return the same result.\n",
    "\"\"\""
   ]
  },
  {
   "cell_type": "code",
   "execution_count": 7,
   "metadata": {
    "tags": []
   },
   "outputs": [
    {
     "data": {
      "text/plain": [
       "'\\n\\n'"
      ]
     },
     "execution_count": 7,
     "metadata": {},
     "output_type": "execute_result"
    }
   ],
   "source": [
    "# exercise 08\n",
    "\n",
    "\"\"\"\n",
    "Comparing a country to itself\n",
    "\n",
    "Self joins are very useful for comparing data from one part of a table with another part of the same table. Suppose you are interested in finding out how much the populations for each country changed from 2010 to 2015. You can visualize this change by performing a self join.\n",
    "\n",
    "In this exercise, you'll work to answer this question by joining the populations table with itself. Recall that, with self joins, tables must be aliased. Use this as an opportunity to practice your aliasing!\n",
    "\n",
    "Since you'll be joining the populations table to itself, you can alias populations first as p1 and again as p2. This is good practice whenever you are aliasing tables with the same first letter.\n",
    "\"\"\"\n",
    "\n",
    "# Instructions\n",
    "\n",
    "\"\"\"\n",
    "\n",
    "    Perform an inner join of populations with itself ON country_code, aliased p1 and p2 respectively.\n",
    "    Select the country_code from p1 and the size field from both p1 and p2, aliasing p1.size as size2010 and p2.size as size2015 (in that order).\n",
    "---\n",
    "Since you want to compare records from 2010 and 2015, eliminate unwanted records by extending the WHERE statement to include only records where the p1.year matches p2.year - 5.\n",
    "\"\"\"\n",
    "\n",
    "# solution\n",
    "\n",
    "-- Select aliased fields from populations as p1\n",
    "SELECT p1.country_code, p1.size AS size2010, p2.size AS size2015\n",
    "FROM populations AS p1\n",
    "-- Join populations as p1 to itself, alias as p2, on country code\n",
    "INNER JOIN populations AS p2\n",
    "USING(country_code);\n",
    "\n",
    "#----------------------------------#\n",
    "\n",
    "SELECT \n",
    "\tp1.country_code, \n",
    "    p1.size AS size2010, \n",
    "    p2.size AS size2015\n",
    "FROM populations AS p1\n",
    "INNER JOIN populations AS p2\n",
    "ON p1.country_code = p2.country_code\n",
    "WHERE p1.year = 2010\n",
    "-- Filter such that p1.year is always five years before p2.year\n",
    "    AND p1.year = p2.year - 5;\n",
    "\n",
    "#----------------------------------#\n",
    "\n",
    "# Conclusion\n",
    "\n",
    "\"\"\"\n",
    "Nice one! See how it's possible to eliminate unwanted records using a calculated field, such as the one you've subtracted five from? That's a great trick to know.\n",
    "\"\"\""
   ]
  }
 ],
 "metadata": {
  "kernelspec": {
   "display_name": "Python 3 (ipykernel)",
   "language": "python",
   "name": "python3"
  },
  "language_info": {
   "codemirror_mode": {
    "name": "ipython",
    "version": 3
   },
   "file_extension": ".py",
   "mimetype": "text/x-python",
   "name": "python",
   "nbconvert_exporter": "python",
   "pygments_lexer": "ipython3",
   "version": "3.11.3"
  }
 },
 "nbformat": 4,
 "nbformat_minor": 4
}
