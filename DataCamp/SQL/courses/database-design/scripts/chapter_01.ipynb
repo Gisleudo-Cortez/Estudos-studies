{
 "cells": [
  {
   "cell_type": "markdown",
   "metadata": {},
   "source": [
    "# OLAP vs. OLTP\n",
    "\n",
    "You should now be familiar with the differences between OLTP and OLAP. In this exercise, you are given a list of cards describing a specific approach which you will categorize between OLAP and OLTP.\n",
    "\n",
    "![OLAP_OLTP](/home/nero/Documents/Estudos/DataCamp/SQL/courses/database-design/oltp_olap.png)\n",
    "\n",
    "**Great work, you've got the differences between the two down. In the rest of the course, we'll be referring to these two terms while delving deeper into their technical differences - so don't forget them!**"
   ]
  },
  {
   "cell_type": "code",
   "execution_count": null,
   "metadata": {},
   "outputs": [
    {
     "data": {
      "text/plain": [
       "'/home/nero/Documents/Estudos/DataCamp'"
      ]
     },
     "execution_count": 15,
     "metadata": {},
     "output_type": "execute_result"
    }
   ],
   "source": [
    "# exercise 01\n",
    "\n",
    "\"\"\"\n",
    "Which is better?\n",
    "\n",
    "The city of Chicago receives many 311 service requests throughout the day. 311 service requests are non-urgent community requests, ranging from graffiti removal to street light outages. Chicago maintains a data repository of all these services organized by type of requests. In this exercise, Potholes has been loaded as an example of a table in this repository. It contains pothole reports made by Chicago residents from the past week.\n",
    "\n",
    "Explore the dataset. What data processing approach is this larger repository most likely using?\n",
    "\"\"\"\n",
    "\n",
    "# Instructions\n",
    "\n",
    "\"\"\"\n",
    "Possible answers:\n",
    "    \n",
    "    OLTP because this table could not be used for any analysis.\n",
    "    \n",
    "    OLAP because each record has a unique service request number.\n",
    "    \n",
    "    OLTP because this table's structure appears to require frequent updates. {Answer}\n",
    "    \n",
    "    OLAP because this table focuses on pothole requests only.\n",
    "\"\"\"\n",
    "\n",
    "# solution\n",
    "\n",
    "\n",
    "\n",
    "#----------------------------------#\n",
    "\n",
    "# Conclusion\n",
    "\n",
    "\"\"\"\n",
    "That's right! This table probably uses an OLTP approach because it is updated and holds data from the past week.\n",
    "\"\"\""
   ]
  },
  {
   "cell_type": "markdown",
   "metadata": {},
   "source": [
    "# Name that data type!\n",
    "\n",
    "In the previous video, you learned about structured, semi-structured, and unstructured data. Structured data is the easiest to analyze because it is organized and cleaned. On the other hand, unstructured data is schemaless, but scales well. In the middle we have semi-structured data for everything in between.\n",
    "\n",
    "![DATA_TYPE](/home/nero/Documents/Estudos/DataCamp/SQL/courses/database-design/data_type.png)\n",
    "\n",
    "**Nice classifying! From these real-life examples, can you see why unstructured data is easier to scale than structured data?**"
   ]
  },
  {
   "cell_type": "markdown",
   "metadata": {},
   "source": [
    "# Ordering ETL Tasks\n",
    "\n",
    "You have been hired to manage data at a small online clothing store. Their system is quite outdated because their only data repository is a traditional database to record transactions.\n",
    "\n",
    "You decide to upgrade their system to a data warehouse after hearing that different departments would like to run their own business analytics. You reason that an ELT approach is unnecessary because there is relatively little data (< 50 GB).\n",
    "\n",
    "![ORDER](/home/nero/Documents/Estudos/DataCamp/SQL/courses/database-design/order.png)\n",
    "\n",
    "**Nice! In ETL, raw data is cleaned before being stored. This makes it accessible and ready to use.**"
   ]
  },
  {
   "cell_type": "markdown",
   "metadata": {},
   "source": [
    "# Recommend a storage solution\n",
    "\n",
    "When should you choose a data warehouse over a data lake?\n",
    "\n",
    "### Possible Answers\n",
    "\n",
    "\n",
    "    To train a machine learning model with a 150 GB of raw image data.\n",
    "    \n",
    "    \n",
    "    To store real-time social media posts that may be used for future analysis\n",
    "    \n",
    "    \n",
    "    To store customer data that needs to be updated regularly\n",
    "    \n",
    "    \n",
    "    To create accessible and isolated data repositories for other analysts {Answer}\n",
    "\n",
    "**That's right! Analysts will appreciate working in a data warehouse more because of its organization of structured data that make analysis easier.**"
   ]
  },
  {
   "cell_type": "markdown",
   "metadata": {},
   "source": [
    "# Classifying data models\n",
    "\n",
    "In the previous video, we learned about three different levels of data models: conceptual, logical, and physical.\n",
    "\n",
    "![data_model](/home/nero/Documents/Estudos/DataCamp/SQL/courses/database-design/data_model.png)"
   ]
  },
  {
   "cell_type": "code",
   "execution_count": 1,
   "metadata": {
    "tags": [],
    "vscode": {
     "languageId": "sql"
    }
   },
   "outputs": [
    {
     "data": {
      "text/plain": [
       "'\\n\\n'"
      ]
     },
     "execution_count": 1,
     "metadata": {},
     "output_type": "execute_result"
    }
   ],
   "source": [
    "# exercise 02\n",
    "\n",
    "\"\"\"\n",
    "Deciding fact and dimension tables\n",
    "\n",
    "Imagine that you love running and data. It's only natural that you begin collecting data on your weekly running routine. You're most concerned with tracking how long you are running each week. You also record the route and the distances of your runs. You gather this data and put it into one table called Runs with the following schema:\n",
    "runs\n",
    "duration_mins - float\n",
    "week - int\n",
    "month - varchar(160)\n",
    "year - int\n",
    "park_name - varchar(160)\n",
    "city_name - varchar(160)\n",
    "distance_km - float\n",
    "route_name - varchar(160)\n",
    "\n",
    "After learning about dimensional modeling, you decide to restructure the schema for the database. Runs has been pre-loaded for you.\n",
    "\"\"\"\n",
    "\n",
    "# Instructions\n",
    "\n",
    "\"\"\"\n",
    "Question\n",
    "\n",
    "Out of these possible answers, what would be the best way to organize the fact table and dimensional tables?\n",
    "\n",
    "Possible answers:\n",
    "    \n",
    "    A fact table holding duration_mins and foreign keys to dimension tables holding route details and week details, respectively. {Answer}\n",
    "    \n",
    "    A fact table holding week,month, year and foreign keys to dimension tables holding route details and duration details, respectively.\n",
    "    \n",
    "    A fact table holding route_name,park_name, distance_km,city_name, and foreign keys to dimension tables holding week details and duration details, respectively.\n",
    "---\n",
    "\n",
    "    Create a dimension table called route that will hold the route information.\n",
    "    Create a dimension table called week that will hold the week information.\n",
    "\n",
    "\"\"\"\n",
    "\n",
    "# solution\n",
    "\n",
    "-- Create a route dimension table\n",
    "CREATE TABLE route(\n",
    "\troute_id INTEGER PRIMARY KEY,\n",
    "    route_name VARCHAR(160) NOT NULL,\n",
    "    park_name VARCHAR(160) NOT NULL,\n",
    "    distance_km FLOAT NOT NULL,\n",
    "    city_name VARCHAR(160) NOT NULL\n",
    ");\n",
    "-- Create a week dimension table\n",
    "CREATE TABLE week(\n",
    "\tweek_id INTEGER PRIMARY KEY,\n",
    "    week INTEGER NOT NULL,\n",
    "    month VARCHAR(160) NOT NULL,\n",
    "    year INTEGER NOT NULL\n",
    ");\n",
    "\n",
    "#----------------------------------#\n",
    "\n",
    "# Conclusion\n",
    "\n",
    "\"\"\"\n",
    "Terrific tables! The primary keys route_id and week_id you created will be foreign keys in the fact table.\n",
    "\"\"\""
   ]
  },
  {
   "cell_type": "markdown",
   "metadata": {},
   "source": [
    "# Dimensional Model\n",
    "\n",
    "<div style=\"background-color:darkgray; padding:2px\">\n",
    "\n",
    "![MODEL](/home/nero/Documents/Estudos/DataCamp/SQL/courses/database-design/dim_model.png)\n",
    "</div>"
   ]
  },
  {
   "cell_type": "code",
   "execution_count": 2,
   "metadata": {
    "tags": [],
    "vscode": {
     "languageId": "sql"
    }
   },
   "outputs": [
    {
     "data": {
      "text/plain": [
       "'\\n\\n'"
      ]
     },
     "execution_count": 2,
     "metadata": {},
     "output_type": "execute_result"
    }
   ],
   "source": [
    "# exercise 03\n",
    "\n",
    "\"\"\"\n",
    "Querying the dimensional model\n",
    "\n",
    "Here it is! The schema reorganized using the dimensional model:\n",
    "\n",
    "Let's try to run a query based on this schema. How about we try to find the number of minutes we ran in July, 2019? We'll break this up in two steps. First, we'll get the total number of minutes recorded in the database. Second, we'll narrow down that query to week_id's from July, 2019.\n",
    "\"\"\"\n",
    "\n",
    "# Instructions\n",
    "\n",
    "\"\"\"\n",
    "\n",
    "    Calculate the sum of the duration_mins column.\n",
    "---\n",
    "\n",
    "    Join week_dim and runs_fact.\n",
    "    Get all the week_id's from July, 2019.\n",
    "\n",
    "\"\"\"\n",
    "\n",
    "# solution\n",
    "\n",
    "SELECT \n",
    "\t-- Select the sum of the duration of all runs\n",
    "\tSUM(duration_mins)\n",
    "FROM \n",
    "\truns_fact;\n",
    "\n",
    "#----------------------------------#\n",
    "\n",
    "SELECT \n",
    "\t-- Get the total duration of all runs\n",
    "\tSUM(duration_mins)\n",
    "FROM \n",
    "\truns_fact\n",
    "-- Get all the week_id's that are from July, 2019\n",
    "INNER JOIN week_dim ON runs_fact.week_id = week_dim.week_id\n",
    "WHERE month = 'July' and year = '2019';\n",
    "\n",
    "#----------------------------------#\n",
    "\n",
    "# Conclusion\n",
    "\n",
    "\"\"\"\n",
    "Nice! It looks like you've run 381.46 minutes in July. Because of its structure, the dimensional model usually require queries involving more than one table.\n",
    "\"\"\""
   ]
  }
 ],
 "metadata": {
  "kernelspec": {
   "display_name": "Python 3 (ipykernel)",
   "language": "python",
   "name": "python3"
  },
  "language_info": {
   "codemirror_mode": {
    "name": "ipython",
    "version": 3
   },
   "file_extension": ".py",
   "mimetype": "text/x-python",
   "name": "python",
   "nbconvert_exporter": "python",
   "pygments_lexer": "ipython3",
   "version": "3.11.7"
  }
 },
 "nbformat": 4,
 "nbformat_minor": 4
}
