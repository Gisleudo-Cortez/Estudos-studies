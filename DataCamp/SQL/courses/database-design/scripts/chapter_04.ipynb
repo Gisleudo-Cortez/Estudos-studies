{
 "cells": [
  {
   "cell_type": "code",
   "execution_count": null,
   "metadata": {
    "vscode": {
     "languageId": "sql"
    }
   },
   "outputs": [
    {
     "data": {
      "text/plain": [
       "'/home/nero/Documents/Estudos/DataCamp'"
      ]
     },
     "execution_count": 15,
     "metadata": {},
     "output_type": "execute_result"
    }
   ],
   "source": [
    "# exercise 01\n",
    "\n",
    "\"\"\"\n",
    "Create a role\n",
    "\n",
    "A database role is an entity that contains information that define the role's privileges and interact with the client authentication system. Roles allow you to give different people (and often groups of people) that interact with your data different levels of access.\n",
    "\n",
    "Imagine you founded a startup. You are about to hire a group of data scientists. You also hired someone named Marta who needs to be able to login to your database. You're also about to hire a database administrator. In this exercise, you will create these roles.\n",
    "\"\"\"\n",
    "\n",
    "# Instructions\n",
    "\n",
    "\"\"\"\n",
    "Create a role called data_scientist.\n",
    "---\n",
    "Create a role called marta that has one attribute: the ability to login (LOGIN).\n",
    "---\n",
    "Create a role called admin with the ability to create databases (CREATEDB) and to create roles (CREATEROLE).\n",
    "\"\"\"\n",
    "\n",
    "# solution\n",
    "\n",
    "-- Create a data scientist role\n",
    "CREATE ROLE data_scientist;\n",
    "\n",
    "#----------------------------------#\n",
    "\n",
    "-- Create a role for Marta\n",
    "CREATE ROLE marta LOGIN;\n",
    "\n",
    "#----------------------------------#\n",
    "\n",
    "-- Create an admin role\n",
    "CREATE ROLE admin WITH CREATEDB CREATEROLE;\n",
    "\n",
    "#----------------------------------#\n",
    "\n",
    "# Conclusion\n",
    "\n",
    "\"\"\"\n",
    "Nice work! You created a group role, data_scientist, that you can populate later with whatever access level you deem appropriate. Marta can login. The admin, whoever holds that role, has the ability to create databases and manage roles. You now know how to create roles to specify different levels of access for individuals and groups of individuals, which is good database management practice.\n",
    "\"\"\""
   ]
  },
  {
   "cell_type": "code",
   "execution_count": 1,
   "metadata": {
    "tags": [],
    "vscode": {
     "languageId": "sql"
    }
   },
   "outputs": [
    {
     "data": {
      "text/plain": [
       "'\\n\\n'"
      ]
     },
     "execution_count": 1,
     "metadata": {},
     "output_type": "execute_result"
    }
   ],
   "source": [
    "# exercise 02\n",
    "\n",
    "\"\"\"\n",
    "GRANT privileges and ALTER attributes\n",
    "\n",
    "Once roles are created, you grant them specific access control privileges on objects, like tables and views. Common privileges being SELECT, INSERT, UPDATE, etc.\n",
    "\n",
    "Imagine you're a cofounder of that startup and you want all of your data scientists to be able to update and insert data in the long_reviews view. In this exercise, you will enable those soon-to-be-hired data scientists by granting their role (data_scientist) those privileges. Also, you'll give Marta's role a password.\n",
    "\"\"\"\n",
    "\n",
    "# Instructions\n",
    "\n",
    "\"\"\"\n",
    "\n",
    "    Grant the data_scientist role update and insert privileges on the long_reviews view.\n",
    "\n",
    "    Alter Marta's role to give her the provided password.\n",
    "\n",
    "\"\"\"\n",
    "\n",
    "# solution\n",
    "\n",
    "-- Grant data_scientist update and insert privileges\n",
    "GRANT update, insert ON long_reviews TO data_scientist;\n",
    "\n",
    "-- Give Marta's role a password\n",
    "ALTER ROLE marta WITH PASSWORD 's3cur3p@ssw0rd';\n",
    "\n",
    "#----------------------------------#\n",
    "\n",
    "# Conclusion\n",
    "\n",
    "\"\"\"\n",
    "Cool! Everyone in the data_scientist role (which is currently no one, though you're hiring shortly) is now able to update data and insert data in the long_reviews view. This view has business-critical data that's updated often so these privileges are key to your startup's success. Marta is happy because she has a password now, too!\n",
    "\"\"\""
   ]
  },
  {
   "cell_type": "code",
   "execution_count": 2,
   "metadata": {
    "tags": [],
    "vscode": {
     "languageId": "sql"
    }
   },
   "outputs": [
    {
     "data": {
      "text/plain": [
       "'\\n\\n'"
      ]
     },
     "execution_count": 2,
     "metadata": {},
     "output_type": "execute_result"
    }
   ],
   "source": [
    "# exercise 03\n",
    "\n",
    "\"\"\"\n",
    "Add a user role to a group role\n",
    "\n",
    "There are two types of roles: user roles and group roles. By assigning a user role to a group role, a database administrator can add complicated levels of access to their databases with one simple command.\n",
    "\n",
    "For your startup, your search for data scientist hires is taking longer than expected. Fortunately, it turns out that Marta, your recent hire, has previous data science experience and she's willing to chip in the interim. In this exercise, you'll add Marta's user role to the data scientist group role. You'll then remove her after you complete your hiring process.\n",
    "\"\"\"\n",
    "\n",
    "# Instructions\n",
    "\n",
    "\"\"\"\n",
    "\n",
    "    \n",
    "    Add Marta's user role to the data scientist group role.\n",
    "    \n",
    "    Celebrate! You hired multiple data scientists.\n",
    "    \n",
    "    Remove Marta's user role from the data scientist group role.\n",
    "\n",
    "\"\"\"\n",
    "\n",
    "# solution\n",
    "\n",
    "-- Add Marta to the data scientist group\n",
    "GRANT data_scientist TO marta;\n",
    "\n",
    "-- Celebrate! You hired data scientists.\n",
    "\n",
    "-- Remove Marta from the data scientist group\n",
    "REVOKE data_scientist FROM marta;\n",
    "\n",
    "#----------------------------------#\n",
    "\n",
    "# Conclusion\n",
    "\n",
    "\"\"\"\n",
    "Bless you, Marta! She really helped the company out in a pinch. And it wasn't difficult for you to set her up with appropriate access to company data thanks to the roles you previously created!\n",
    "\"\"\""
   ]
  },
  {
   "cell_type": "markdown",
   "metadata": {},
   "source": [
    "# Reasons to partition\n",
    "\n",
    "In the video, you saw some very good reasons to use partitioning. However, can you find which one wouldn't be a good reason to use partitioning?\n",
    "\n",
    "### Possible Answers\n",
    "\n",
    "\n",
    "    Improve data integrity {Answer}\n",
    "    \n",
    "    \n",
    "    Save records from 2017 or earlier on a slower medium\n",
    "    \n",
    "    \n",
    "    Easily extend partitioning to sharding, and thus making use of parallelization\n",
    "\n",
    "**Exactly! That's not something you'd use partitioning for.**"
   ]
  },
  {
   "cell_type": "markdown",
   "metadata": {},
   "source": [
    "# Partitioning and normalization\n",
    "\n",
    "In the video, you saw the differences between the two types of partitioning: vertical and horizontal partitioning. As you'd expect, the names suggest how these different strategies work.\n",
    "\n",
    "It might be a bit challenging to distinguish normalization, which you saw in previous chapters, from partitioning.\n",
    "\n",
    "![PARTITIONING](/home/nero/Documents/Estudos/DataCamp/SQL/courses/database-design/partitioning.png)\n",
    "\n",
    "**That's right! Partitioning is related to the physical data model. It does not change the logical data model, while normalization does.**"
   ]
  },
  {
   "cell_type": "code",
   "execution_count": 3,
   "metadata": {
    "tags": [],
    "vscode": {
     "languageId": "sql"
    }
   },
   "outputs": [
    {
     "data": {
      "text/plain": [
       "'\\n\\n'"
      ]
     },
     "execution_count": 3,
     "metadata": {},
     "output_type": "execute_result"
    }
   ],
   "source": [
    "# exercise 04\n",
    "\n",
    "\"\"\"\n",
    "Creating vertical partitions\n",
    "\n",
    "In the video, you learned about vertical partitioning and saw an example.\n",
    "\n",
    "For vertical partitioning, there is no specific syntax in PostgreSQL. You have to create a new table with particular columns and copy the data there. Afterward, you can drop the columns you want in the separate partition. If you need to access the full table, you can do so by using a JOIN clause.\n",
    "\n",
    "In this exercise and the next one, you'll be working with the example database called pagila. It's a database that is often used to showcase PostgreSQL features. The database contains several tables. We'll be working with the film table. In this exercise, we'll use the following columns:\n",
    "\n",
    "    film_id: the unique identifier of the film\n",
    "    long_description: a lengthy description of the film\n",
    "\n",
    "\"\"\"\n",
    "\n",
    "# Instructions\n",
    "\n",
    "\"\"\"\n",
    "\n",
    "    Create a new table film_descriptions containing 2 fields: film_id, which is of type INT, and long_description, which is of type TEXT.\n",
    "   \n",
    "    Occupy the new table with values from the film table.\n",
    "--\n",
    "\n",
    "    Drop the field long_description from the film table.\n",
    "    Join the two resulting tables to view the original table.\n",
    "\n",
    "\"\"\"\n",
    "\n",
    "# solution\n",
    "\n",
    "-- Create a new table called film_descriptions\n",
    "CREATE TABLE film_descriptions (\n",
    "    film_id INT,\n",
    "    long_description TEXT\n",
    ");\n",
    "\n",
    "-- Copy the descriptions from the film table\n",
    "INSERT INTO film_descriptions\n",
    "SELECT film_id, long_description FROM film;\n",
    "    \n",
    "-- Drop the descriptions from the original table\n",
    "ALTER TABLE film DROP COLUMN long_description;\n",
    "\n",
    "-- Join to view the original table\n",
    "SELECT * FROM film\n",
    "JOIN film_descriptions USING(film_id);\n",
    "\n",
    "#----------------------------------#\n",
    "\n",
    "# Conclusion\n",
    "\n",
    "\"\"\"\n",
    "That's it! Now you know how to CREATE, INSERT and ALTER statements!\n",
    "\"\"\""
   ]
  },
  {
   "cell_type": "code",
   "execution_count": 4,
   "metadata": {
    "tags": [],
    "vscode": {
     "languageId": "sql"
    }
   },
   "outputs": [
    {
     "data": {
      "text/plain": [
       "'\\n\\n'"
      ]
     },
     "execution_count": 4,
     "metadata": {},
     "output_type": "execute_result"
    }
   ],
   "source": [
    "# exercise 05\n",
    "\n",
    "\"\"\"\n",
    "Creating horizontal partitions\n",
    "\n",
    "In the video, you also learned about horizontal partitioning.\n",
    "\n",
    "The example of horizontal partitioning showed the syntax necessary to create horizontal partitions in PostgreSQL. If you need a reminder, you can have a look at the slides.\n",
    "\n",
    "In this exercise, however, you'll be using a list partition instead of a range partition. For list partitions, you form partitions by checking whether the partition key is in a list of values or not.\n",
    "\n",
    "To do this, we partition by LIST instead of RANGE. When creating the partitions, you should check if the values are IN a list of values.\n",
    "\n",
    "We'll be using the following columns in this exercise:\n",
    "\n",
    "    film_id: the unique identifier of the film\n",
    "    title: the title of the film\n",
    "    release_year: the year it's released\n",
    "\n",
    "\"\"\"\n",
    "\n",
    "# Instructions\n",
    "\n",
    "\"\"\"\n",
    "\n",
    "    Create the table film_partitioned, partitioned on the field release_year.\n",
    "---\n",
    "\n",
    "    Create three partitions: one for each release year: 2017, 2018, and 2019. Call the partition for 2019 film_2019, etc.\n",
    "---\n",
    "\n",
    "    Occupy the new table, film_partitioned, with the three fields required from the film table.\n",
    "\n",
    "\"\"\"\n",
    "\n",
    "# solution\n",
    "\n",
    "-- Create a new table called film_partitioned\n",
    "CREATE TABLE film_partitioned (\n",
    "  film_id INT,\n",
    "  title TEXT NOT NULL,\n",
    "  release_year TEXT\n",
    ")\n",
    "PARTITION BY LIST (release_year);\n",
    "\n",
    "-- Create the partitions for 2019, 2018, and 2017\n",
    "CREATE TABLE film_2019\n",
    "\tPARTITION OF film_partitioned FOR VALUES IN ('2019');\n",
    "\n",
    "CREATE TABLE film_2018\n",
    "\tPARTITION OF film_partitioned FOR VALUES IN ('2018');\n",
    "\n",
    "CREATE TABLE film_2017\n",
    "\tPARTITION OF film_partitioned FOR VALUES IN ('2017');\n",
    "\n",
    "-- Insert the data into film_partitioned\n",
    "INSERT INTO film_partitioned\n",
    "SELECT film_id, title, release_year FROM film;\n",
    "\n",
    "-- View film_partitioned\n",
    "SELECT * FROM film_partitioned;\n",
    "\n",
    "#----------------------------------#\n",
    "\n",
    "# Conclusion\n",
    "\n",
    "\"\"\"\n",
    "Great! As you can see, the data is not changed in the partitioned table. However, you might notice PostgreSQL orders the partitioned table differently by default.\n",
    "\"\"\""
   ]
  },
  {
   "cell_type": "markdown",
   "metadata": {},
   "source": [
    "# Data integration do's and dont's\n",
    "\n",
    "You just learned a lot about data integration, let's check your understanding of the concepts.\n",
    "\n",
    "![DATA_INTEGRATION](/home/nero/Documents/Estudos/DataCamp/SQL/courses/database-design/data_integration.png)\n",
    "\n",
    "**Great work. Looks like you have a good grasp on what you should take into account when looking at and can expect from a good data integration solution.**"
   ]
  },
  {
   "cell_type": "markdown",
   "metadata": {},
   "source": [
    "# Analyzing a data integration plan\n",
    "\n",
    "You're a data analyst in a hospital that wants to make sure there is enough cough medicine should an epidemic break out. For this, you need to combine the historical health records with the upcoming appointments to see if you can detect a pattern similar to the last cold epidemic. Then, you need to make sure there is sufficient stock available or if the stock should be increased. To help tackle this problem, you created a data integration plan.\n",
    "\n",
    "Which risk is not clearly indicated on the data integration plan?\n",
    "\n",
    "![DATA_PLAN](/home/nero/Documents/Estudos/DataCamp/SQL/courses/database-design/DIex-Hospital_example.jpeg)\n",
    "\n",
    "### Possible Answers\n",
    "\n",
    "\n",
    "    It is unclear if you took data governance into account.\n",
    "    \n",
    "    \n",
    "    You didn't clearly show where your data originated from.\n",
    "    \n",
    "    \n",
    "    You should indicate that you plan to anonymize patient health records.{Answer}\n",
    "    \n",
    "    \n",
    "    If data is lost during ETL you will not find out.\n",
    "\n",
    "**Correct! When working with sensitive data it is important to think about permissions. By default you should have the same access rights before and after data integration. If part of the data is essential, it should be anonymized, in this case you can keep the illnesses but remove identifying information.**"
   ]
  },
  {
   "cell_type": "markdown",
   "metadata": {},
   "source": [
    "# SQL versus NoSQL\n",
    "\n",
    "Deciding when to use a SQL versus NoSQL DBMS depends on the kind of information you’re storing and the best way to store it. Both types store data, they just store data differently.\n",
    "\n",
    "When is it better to use a SQL DBMS?\n",
    "\n",
    "### Possible Answers\n",
    "\n",
    "\n",
    "    You are dealing with rapidly evolving features, functions, data types, and it’s difficult to predict how the application will grow over time.\n",
    "    \n",
    "    \n",
    "    You have a lot of data, many different data types, and your data needs will only grow over time.\n",
    "    \n",
    "    \n",
    "    You are concerned about data consistency and 100% data integrity is your top goal.{Answer}\n",
    "    \n",
    "    \n",
    "    Your data needs scale up, out, and down.\n",
    "\n",
    "**Perfect! The strength of SQL DBMSs lies in using integrity constraints to maintain data consistency across multiple tables.**"
   ]
  },
  {
   "cell_type": "markdown",
   "metadata": {},
   "source": [
    "# Choosing the right DBMS\n",
    "\n",
    "As you saw in the video, there are lots of different options when choosing a DBMS. The choice depends on the business need. In this exercise, you are given a list of cards describing different scenarios and it's your job to pick the DBMS type that fits the project best. Remember the different DBMS types:\n",
    "\n",
    "    SQL: RDBMS\n",
    "    NoSQL: key-value store, document store, columnar database, graph database\n",
    "![DBMS](/home/nero/Documents/Estudos/DataCamp/SQL/courses/database-design/DMBS.png)\n",
    "\n",
    "**Great work! As you can see there are many different DBMS types and you need to carefully consider the business needs before making your decision.**"
   ]
  }
 ],
 "metadata": {
  "kernelspec": {
   "display_name": "Python 3 (ipykernel)",
   "language": "python",
   "name": "python3"
  },
  "language_info": {
   "codemirror_mode": {
    "name": "ipython",
    "version": 3
   },
   "file_extension": ".py",
   "mimetype": "text/x-python",
   "name": "python",
   "nbconvert_exporter": "python",
   "pygments_lexer": "ipython3",
   "version": "3.11.6"
  }
 },
 "nbformat": 4,
 "nbformat_minor": 4
}
