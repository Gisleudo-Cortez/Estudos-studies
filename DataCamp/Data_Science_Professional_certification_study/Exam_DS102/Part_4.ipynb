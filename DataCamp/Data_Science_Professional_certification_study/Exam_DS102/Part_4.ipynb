{
 "cells": [
  {
   "cell_type": "markdown",
   "metadata": {},
   "source": [
    "## 4.1 Use common programming constructs to write repeatable production quality code for analysis."
   ]
  },
  {
   "cell_type": "markdown",
   "metadata": {},
   "source": [
    "- Define, write and execute functions in Python."
   ]
  },
  {
   "cell_type": "code",
   "execution_count": null,
   "metadata": {},
   "outputs": [
    {
     "data": {
      "text/plain": [
       "[0, 1, 1, 2, 3, 5, 8, 13, 21, 34, 55]"
      ]
     },
     "metadata": {},
     "output_type": "display_data"
    }
   ],
   "source": [
    "def fibonacci(n):\n",
    "  \"\"\"\n",
    "  Returns a Fibonacci sequence of n size.\n",
    "\n",
    "  Args:\n",
    "    n: The size of the Fibonacci sequence.\n",
    "\n",
    "  Returns:\n",
    "    A list of Fibonacci numbers of size n.\n",
    "  \"\"\"\n",
    "\n",
    "  if n <= 1:\n",
    "    return [n]\n",
    "\n",
    "  fib_sequence = [0, 1]\n",
    "  for i in range(2, n + 1):\n",
    "    fib_sequence.append(fib_sequence[i - 1] + fib_sequence[i - 2])\n",
    "\n",
    "  return fib_sequence\n",
    "\n",
    "fibonacci(10)"
   ]
  },
  {
   "cell_type": "markdown",
   "metadata": {},
   "source": [
    "* Use and write control flow statements in Python"
   ]
  },
  {
   "cell_type": "markdown",
   "metadata": {},
   "source": [
    "- - if statement:\n",
    "  The if statement is used to execute a block of code only if a certain condition is true."
   ]
  },
  {
   "cell_type": "code",
   "execution_count": null,
   "metadata": {},
   "outputs": [
    {
     "name": "stdout",
     "output_type": "stream",
     "text": [
      "x is greater than 5\n"
     ]
    }
   ],
   "source": [
    "x = 10\n",
    "\n",
    "if x > 5:\n",
    "    print(\"x is greater than 5\")\n",
    "else:\n",
    "    print(\"x is not greater than 5\")\n"
   ]
  },
  {
   "cell_type": "markdown",
   "metadata": {},
   "source": [
    "- - elif statement:\n",
    "The elif statement is used to add additional conditions to check when the initial if condition is not met."
   ]
  },
  {
   "cell_type": "code",
   "execution_count": null,
   "metadata": {},
   "outputs": [
    {
     "name": "stdout",
     "output_type": "stream",
     "text": [
      "x is greater than 5 but less than or equal to 15\n"
     ]
    }
   ],
   "source": [
    "x = 10\n",
    "\n",
    "if x > 15:\n",
    "    print(\"x is greater than 15\")\n",
    "elif x > 5:\n",
    "    print(\"x is greater than 5 but less than or equal to 15\")\n",
    "else:\n",
    "    print(\"x is 5 or less\")\n"
   ]
  },
  {
   "cell_type": "markdown",
   "metadata": {},
   "source": [
    "- - else statement:\n",
    "The else statement is used with if to specify a block of code that will be executed when the condition is false."
   ]
  },
  {
   "cell_type": "code",
   "execution_count": null,
   "metadata": {},
   "outputs": [
    {
     "name": "stdout",
     "output_type": "stream",
     "text": [
      "x is greater than 5\n"
     ]
    }
   ],
   "source": [
    "x = 10\n",
    "\n",
    "if x > 5:\n",
    "    print(\"x is greater than 5\")\n",
    "else:\n",
    "    print(\"x is not greater than 5\")\n"
   ]
  },
  {
   "cell_type": "markdown",
   "metadata": {},
   "source": [
    "- - while loop:\n",
    "The while loop is used to repeatedly execute a block of code as long as a certain condition is true."
   ]
  },
  {
   "cell_type": "code",
   "execution_count": null,
   "metadata": {},
   "outputs": [
    {
     "name": "stdout",
     "output_type": "stream",
     "text": [
      "Count is: 0\n",
      "Count is: 1\n",
      "Count is: 2\n",
      "Count is: 3\n",
      "Count is: 4\n"
     ]
    }
   ],
   "source": [
    "count = 0\n",
    "\n",
    "while count < 5:\n",
    "    print(\"Count is:\", count)\n",
    "    count += 1\n"
   ]
  },
  {
   "cell_type": "markdown",
   "metadata": {},
   "source": [
    "- - for loop:\n",
    "The for loop is used to iterate over a sequence (e.g., a list, tuple, or string) and execute a block of code for each item in the sequence."
   ]
  },
  {
   "cell_type": "code",
   "execution_count": null,
   "metadata": {},
   "outputs": [
    {
     "name": "stdout",
     "output_type": "stream",
     "text": [
      "I love apple\n",
      "I love banana\n",
      "I love orange\n"
     ]
    }
   ],
   "source": [
    "fruits = [\"apple\", \"banana\", \"orange\"]\n",
    "\n",
    "for fruit in fruits:\n",
    "    print(\"I love\", fruit)\n"
   ]
  },
  {
   "cell_type": "markdown",
   "metadata": {},
   "source": [
    "- - break statement:\n",
    "The break statement is used to exit the loop prematurely when a certain condition is met."
   ]
  },
  {
   "cell_type": "code",
   "execution_count": null,
   "metadata": {},
   "outputs": [
    {
     "name": "stdout",
     "output_type": "stream",
     "text": [
      "Count is: 0\n",
      "Count is: 1\n",
      "Count is: 2\n",
      "Count is: 3\n",
      "Count is: 4\n"
     ]
    }
   ],
   "source": [
    "count = 0\n",
    "\n",
    "while True:\n",
    "    print(\"Count is:\", count)\n",
    "    count += 1\n",
    "    if count >= 5:\n",
    "        break\n"
   ]
  },
  {
   "cell_type": "markdown",
   "metadata": {},
   "source": [
    "- - continue statement:\n",
    "The continue statement is used to skip the rest of the current iteration of a loop and move to the next iteration."
   ]
  },
  {
   "cell_type": "code",
   "execution_count": null,
   "metadata": {},
   "outputs": [
    {
     "name": "stdout",
     "output_type": "stream",
     "text": [
      "Number: 1\n",
      "Number: 2\n",
      "Number: 4\n",
      "Number: 5\n"
     ]
    }
   ],
   "source": [
    "for i in range(1, 6):\n",
    "    if i == 3:\n",
    "        continue\n",
    "    print(\"Number:\", i)\n"
   ]
  },
  {
   "cell_type": "markdown",
   "metadata": {},
   "source": [
    "* Use and write loops and iterations in Python."
   ]
  },
  {
   "cell_type": "code",
   "execution_count": null,
   "metadata": {},
   "outputs": [
    {
     "name": "stdout",
     "output_type": "stream",
     "text": [
      "Index: 0 Fruit: apple\n",
      "Index: 1 Fruit: banana\n",
      "Index: 2 Fruit: orange\n",
      "Fruit: apple Color: red\n",
      "Fruit: banana Color: yellow\n",
      "Fruit: orange Color: orange\n"
     ]
    }
   ],
   "source": [
    "# Enumerate\n",
    "fruits = [\"apple\", \"banana\", \"orange\"]\n",
    "\n",
    "for index, fruit in enumerate(fruits):\n",
    "    print(\"Index:\", index, \"Fruit:\", fruit)\n",
    "\n",
    "\n",
    "# Zip\n",
    "\n",
    "fruits = [\"apple\", \"banana\", \"orange\"]\n",
    "colors = [\"red\", \"yellow\", \"orange\"]\n",
    "\n",
    "for fruit, color in zip(fruits, colors):\n",
    "    print(\"Fruit:\", fruit, \"Color:\", color)\n"
   ]
  },
  {
   "cell_type": "markdown",
   "metadata": {},
   "source": [
    "## 4.2 Demonstrates best practices in production code including version control, testing, and package development."
   ]
  },
  {
   "cell_type": "markdown",
   "metadata": {},
   "source": [
    "* Describe the basic flow and structures of package development in Python."
   ]
  },
  {
   "cell_type": "markdown",
   "metadata": {},
   "source": [
    "Package development in Python involves organizing code into reusable modules and distributing them as packages. A package is a collection of Python modules and other related resources that are structured in a specific way to facilitate code organization, sharing, and distribution.\n",
    "\n",
    "1. **Creating a Package Structure:**\n",
    "   - Packages are directories that contain a special file named `__init__.py`. This file can be empty, but its presence is what turns a directory into a package.\n",
    "   - Packages can have sub-packages (subdirectories with their `__init__.py` files) and modules (Python files) within them.\n",
    "\n",
    "2. **Creating Modules:**\n",
    "   - Modules are individual Python files that contain classes, functions, or variables. They serve as building blocks of a package.\n",
    "   - It's essential to write modular and reusable code in each module to maintain code organization and facilitate package distribution.\n",
    "\n",
    "3. **Writing `__init__.py`:**\n",
    "   - The `__init__.py` file inside a package is executed when the package is imported.\n",
    "   - It can contain code that sets up the package's environment, defines what should be imported when the package is imported, or perform any other initialization tasks.\n",
    "\n",
    "4. **Using Relative Imports:**\n",
    "   - Inside the package, modules often need to import other modules from the same package.\n",
    "   - To do this, you use relative imports with dots (`.`) to specify the relative location of the module within the package.\n",
    "\n",
    "5. **Adding `setup.py` (for distribution):**\n",
    "   - If you plan to distribute your package to other users, you need to create a `setup.py` file.\n",
    "   - The `setup.py` file contains information about the package (e.g., name, version, description) and its dependencies.\n",
    "   - It also includes instructions on how to install the package using tools like `pip`.\n",
    "\n",
    "6. **Using Virtual Environments:**\n",
    "   - It's a good practice to create a virtual environment for your package development.\n",
    "   - A virtual environment isolates the package and its dependencies from the global Python environment, ensuring that your package works independently and avoids conflicts.\n",
    "\n",
    "7. **Testing:**\n",
    "   - To ensure the quality and correctness of your package, write unit tests and possibly integration tests.\n",
    "   - The `unittest` or `pytest` libraries are commonly used for writing and running tests in Python.\n",
    "\n",
    "8. **Documenting the Package:**\n",
    "   - Writing documentation is crucial for users and other developers to understand how to use your package.\n",
    "   - Python's standard `docstring` format is used to document modules, classes, functions, and methods.\n",
    "\n",
    "9. **Version Control:**\n",
    "   - Using a version control system like Git helps you track changes, collaborate with others, and manage the package's development history.\n",
    "\n",
    "10. **Publishing the Package:**\n",
    "   - Once your package is ready, you can publish it on the Python Package Index (PyPI) or other package repositories.\n",
    "   - Users can then install your package using `pip`, making it easily accessible to a broader audience.\n"
   ]
  },
  {
   "cell_type": "markdown",
   "metadata": {},
   "source": [
    "* Explain how to document code in packages, or modules in Python."
   ]
  },
  {
   "cell_type": "markdown",
   "metadata": {},
   "source": [
    "\n",
    "1. **Docstrings for Modules:**\n",
    "   - Place a docstring at the beginning of the module file, below the import statements (if any) and any module-level variables/constants.\n",
    "   - Use triple quotes (`'''` or `\"\"\"`) to define the docstring. Triple quotes allow multiline docstrings.\n",
    "\n",
    "Example:\n",
    "\n",
    "```python\n",
    "# my_module.py\n",
    "\n",
    "'''This is a module-level docstring for my_module.\n",
    "   You can add more details and explanations here.\n",
    "'''\n",
    "\n",
    "# Module-level variables/constants or import statements come here.\n",
    "\n",
    "def my_function():\n",
    "    '''This function does something useful.\n",
    "       Add more details and possibly parameters and return values description.\n",
    "    '''\n",
    "    # Function implementation comes here.\n",
    "```\n",
    "\n",
    "2. **Docstrings for Classes:**\n",
    "   - Describe the purpose and usage of the class, its attributes, and provide explanations for its methods.\n",
    "\n",
    "Example:\n",
    "\n",
    "```python\n",
    "class MyClass:\n",
    "    '''This is a class-level docstring for MyClass.\n",
    "       You can provide an overview of the class here.\n",
    "    '''\n",
    "\n",
    "    def __init__(self, arg1, arg2):\n",
    "        '''Constructor for MyClass.\n",
    "           Describe the parameters and their usage here.\n",
    "        '''\n",
    "        # Constructor implementation comes here.\n",
    "\n",
    "    def my_method(self, arg):\n",
    "        '''This method does something useful.\n",
    "           Explain the parameters, return values, and functionality.\n",
    "        '''\n",
    "        # Method implementation comes here.\n",
    "```\n",
    "\n",
    "3. **Docstrings for Functions and Methods:**\n",
    "   - Describe the purpose, parameters, return values, and any other relevant details.\n",
    "\n",
    "Example:\n",
    "\n",
    "```python\n",
    "def my_function(arg1, arg2):\n",
    "    '''This function does something useful.\n",
    "       Describe the parameters and their usage.\n",
    "       Explain the return value(s) and what the function accomplishes.\n",
    "    '''\n",
    "    # Function implementation comes here.\n",
    "\n",
    "class MyClass:\n",
    "    # Class definition here\n",
    "\n",
    "    def my_method(self, arg):\n",
    "        '''This method does something useful.\n",
    "           Describe the parameter(s) and their usage.\n",
    "           Explain the return value(s) and the purpose of the method.\n",
    "        '''\n",
    "        # Method implementation comes here.\n",
    "```\n",
    "\n",
    "4. **Accessing Docstrings:**\n",
    "   - To access the docstrings, you can use Python's built-in `help()` function or read the `__doc__` attribute of the respective object.\n",
    "\n",
    "Example:\n",
    "\n",
    "```python\n",
    "import my_module\n",
    "\n",
    "print(help(my_module))           # Print the module-level docstring.\n",
    "print(help(my_module.my_function))  # Print the function's docstring.\n",
    "print(help(my_module.MyClass))    # Print the class-level docstring.\n",
    "print(help(my_module.MyClass.my_method))  # Print the method's docstring.\n",
    "```"
   ]
  },
  {
   "cell_type": "markdown",
   "metadata": {},
   "source": [
    "* Explain the importance of the testing and write testing statements in Python."
   ]
  },
  {
   "cell_type": "markdown",
   "metadata": {},
   "source": [
    "Testing is a critical aspect of software development, including Python development. It involves systematically verifying that the code behaves as expected under various scenarios and edge cases. Proper testing has several important benefits:\n",
    "\n",
    "1. **Error Detection and Prevention:** Testing helps identify bugs, errors, or unexpected behavior in the code. By finding and fixing issues early in the development process, you can prevent more significant problems from occurring in the future.\n",
    "\n",
    "2. **Code Reliability and Stability:** A well-tested codebase is more reliable and stable. It gives users confidence that the software will work as intended and reduces the likelihood of unexpected crashes or failures.\n",
    "\n",
    "3. **Maintainability and Refactoring:** As the codebase evolves, tests serve as a safety net, ensuring that existing functionality remains intact after refactoring or modifications. Developers can refactor code with confidence, knowing that tests will catch regressions.\n",
    "\n",
    "4. **Documentation and Understanding:** Tests serve as living documentation for how code is supposed to work. They provide clear examples of how to use functions and classes and help new developers understand the codebase more easily.\n",
    "\n",
    "5. **Collaboration and Teamwork:** Tests facilitate collaboration within a development team. They enable team members to make changes independently, knowing that tests will verify the overall system's integrity.\n",
    "\n",
    "6. **Continuous Integration and Deployment:** Automated tests are crucial in continuous integration and deployment workflows. They help ensure that only reliable and well-tested code gets deployed to production environments.\n",
    "\n",
    "In Python, you can write tests using various testing frameworks. One popular choice is the built-in `unittest` module, which follows the xUnit style. Another widely used testing framework is `pytest`, known for its simplicity and powerful features. Here are examples of testing statements using both frameworks:\n",
    "\n",
    "1. **Using `unittest` Module:**\n",
    "\n",
    "```python\n",
    "# my_module.py\n",
    "\n",
    "def add(a, b):\n",
    "    return a + b\n",
    "\n",
    "# test_my_module.py\n",
    "\n",
    "import unittest\n",
    "import my_module\n",
    "\n",
    "class TestMyModule(unittest.TestCase):\n",
    "\n",
    "    def test_add(self):\n",
    "        result = my_module.add(2, 3)\n",
    "        self.assertEqual(result, 5)  # Test that the function returns the expected result.\n",
    "\n",
    "if __name__ == '__main__':\n",
    "    unittest.main()\n",
    "```\n",
    "\n",
    "2. **Using `pytest` Framework:**\n",
    "\n",
    "```python\n",
    "# my_module.py\n",
    "\n",
    "def multiply(a, b):\n",
    "    return a * b\n",
    "\n",
    "# test_my_module.py\n",
    "\n",
    "import my_module\n",
    "\n",
    "def test_multiply():\n",
    "    result = my_module.multiply(2, 3)\n",
    "    assert result == 6  # Test that the function returns the expected result.\n",
    "```\n",
    "\n",
    "To run the tests using `unittest`, execute `python -m unittest test_my_module.py` in the command line. To run the tests using `pytest`, simply run `pytest test_my_module.py`.\n",
    "\n",
    "Both examples define simple functions and test them to check whether they produce the expected output. In practice, tests would cover more scenarios, including edge cases, exceptions, and more complex interactions between functions or classes.\n",
    "\n",
    "By writing and maintaining tests alongside your code, you can ensure that your Python applications remain robust, reliable, and ready for continued development and deployment."
   ]
  },
  {
   "cell_type": "markdown",
   "metadata": {},
   "source": [
    "* Explain the importance of version control and describe key concepts of versioning"
   ]
  },
  {
   "cell_type": "markdown",
   "metadata": {},
   "source": [
    "# Version control:\n",
    "It is a system that tracks and manages changes to files over time, allowing developers to collaborate efficiently, revert to previous versions if needed, and maintain a well-documented history of the codebase. Here are some key reasons why version control is essential:\n",
    "\n",
    "1. **Collaboration and Teamwork:** Version control enables multiple developers to work on the same codebase simultaneously. It allows them to make changes independently and later merge their modifications, avoiding conflicts and ensuring smooth collaboration.\n",
    "\n",
    "2. **History and Audit Trail:** With version control, every change made to the codebase is tracked, including who made the change and when. This audit trail is invaluable for debugging, identifying the source of issues, and understanding the development history.\n",
    "\n",
    "3. **Code Reversion and Recovery:** If a change causes unforeseen issues or breaks functionality, version control allows you to revert to a previous, known working state. This capability provides a safety net for risky changes or experimentation.\n",
    "\n",
    "4. **Branching and Feature Development:** Version control systems support branching, which allows developers to work on new features or bug fixes in isolation without impacting the main codebase. This promotes a structured development workflow.\n",
    "\n",
    "5. **Continuous Integration and Deployment:** Version control is an integral part of continuous integration and deployment pipelines. Automated build and testing processes rely on version control to fetch the correct code versions.\n",
    "\n",
    "6. **Code Review and Quality Assurance:** Version control systems facilitate code review processes. Developers can create pull requests or merge requests to propose changes, and reviewers can inspect and provide feedback before integrating the changes."
   ]
  },
  {
   "cell_type": "markdown",
   "metadata": {},
   "source": [
    "# versioning:\n",
    "\n",
    "1. **Repository:** A repository is a central storage location where all the files and their version history are kept. It contains the entire history of the project and serves as a single source of truth.\n",
    "\n",
    "2. **Commit:** A commit is a snapshot of the codebase at a specific point in time. It represents a set of changes made to the files and is accompanied by a commit message that describes the changes.\n",
    "\n",
    "3. **Branch:** A branch is a separate line of development in the repository. Developers can create branches to work on new features or bug fixes independently from the main codebase.\n",
    "\n",
    "4. **Merge:** Merging is the process of combining the changes from one branch into another, typically to incorporate new features or bug fixes into the main codebase.\n",
    "\n",
    "5. **Pull Request (PR) / Merge Request (MR):** A pull request (in Git) or merge request (in other version control systems) is a request to merge changes from one branch into another. It serves as a discussion point and allows code review before merging.\n",
    "\n",
    "6. **Tag:** A tag is a named snapshot of a specific commit. Tags are often used to mark significant milestones or releases in the development process.\n",
    "\n",
    "7. **Remote:** A remote is a copy of the repository hosted on a server. Developers can push and pull changes between their local repository and the remote to synchronize code with the team.\n",
    "\n",
    "Popular version control systems like Git provide powerful and flexible tools to manage the development process effectively. Git, in particular, has become the de facto standard for version control due to its distributed nature, speed, and robust branching and merging capabilities."
   ]
  }
 ],
 "metadata": {
  "kernelspec": {
   "display_name": "estudos",
   "language": "python",
   "name": "python3"
  },
  "language_info": {
   "codemirror_mode": {
    "name": "ipython",
    "version": 3
   },
   "file_extension": ".py",
   "mimetype": "text/x-python",
   "name": "python",
   "nbconvert_exporter": "python",
   "pygments_lexer": "ipython3",
   "version": "3.11.3"
  },
  "orig_nbformat": 4
 },
 "nbformat": 4,
 "nbformat_minor": 2
}
