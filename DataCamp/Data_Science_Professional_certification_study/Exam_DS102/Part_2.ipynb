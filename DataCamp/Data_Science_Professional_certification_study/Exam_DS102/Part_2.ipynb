{
 "cells": [
  {
   "cell_type": "markdown",
   "metadata": {},
   "source": [
    "# Associate Only\n",
    "## Exam DS102: Data Management, Modeling, and Programming in R or Python"
   ]
  },
  {
   "cell_type": "markdown",
   "metadata": {},
   "source": [
    "# 2.1 Perform standard data import, joining and aggregation tasks"
   ]
  },
  {
   "cell_type": "markdown",
   "metadata": {},
   "source": [
    "- Import data from flat files into Python."
   ]
  },
  {
   "cell_type": "code",
   "execution_count": 23,
   "metadata": {},
   "outputs": [
    {
     "data": {
      "text/html": [
       "<div>\n",
       "<style scoped>\n",
       "    .dataframe tbody tr th:only-of-type {\n",
       "        vertical-align: middle;\n",
       "    }\n",
       "\n",
       "    .dataframe tbody tr th {\n",
       "        vertical-align: top;\n",
       "    }\n",
       "\n",
       "    .dataframe thead th {\n",
       "        text-align: right;\n",
       "    }\n",
       "</style>\n",
       "<table border=\"1\" class=\"dataframe\">\n",
       "  <thead>\n",
       "    <tr style=\"text-align: right;\">\n",
       "      <th></th>\n",
       "      <th>Store ID</th>\n",
       "      <th>Store Name</th>\n",
       "      <th>Sales</th>\n",
       "    </tr>\n",
       "  </thead>\n",
       "  <tbody>\n",
       "    <tr>\n",
       "      <th>0</th>\n",
       "      <td>1</td>\n",
       "      <td>Store 1</td>\n",
       "      <td>10000</td>\n",
       "    </tr>\n",
       "    <tr>\n",
       "      <th>1</th>\n",
       "      <td>2</td>\n",
       "      <td>Store 2</td>\n",
       "      <td>20000</td>\n",
       "    </tr>\n",
       "    <tr>\n",
       "      <th>2</th>\n",
       "      <td>3</td>\n",
       "      <td>Store 3</td>\n",
       "      <td>30000</td>\n",
       "    </tr>\n",
       "    <tr>\n",
       "      <th>3</th>\n",
       "      <td>4</td>\n",
       "      <td>Store 4</td>\n",
       "      <td>40000</td>\n",
       "    </tr>\n",
       "    <tr>\n",
       "      <th>4</th>\n",
       "      <td>5</td>\n",
       "      <td>Store 5</td>\n",
       "      <td>50000</td>\n",
       "    </tr>\n",
       "  </tbody>\n",
       "</table>\n",
       "</div>"
      ],
      "text/plain": [
       "   Store ID Store Name  Sales\n",
       "0         1    Store 1  10000\n",
       "1         2    Store 2  20000\n",
       "2         3    Store 3  30000\n",
       "3         4    Store 4  40000\n",
       "4         5    Store 5  50000"
      ]
     },
     "metadata": {},
     "output_type": "display_data"
    },
    {
     "name": "stdout",
     "output_type": "stream",
     "text": [
      "Store ID,Store Name,Sales\n",
      "1,Store 1,10000\n",
      "2,Store 2,20000\n",
      "3,Store 3,30000\n",
      "4,Store 4,40000\n",
      "5,Store 5,50000\n"
     ]
    }
   ],
   "source": [
    "# csv data using pandas\n",
    "import pandas as pd\n",
    "\n",
    "csv_path = '/home/nero/Documents/Estudos/DataCamp/Data_Science_Professional_certification_study/Exam_DS102/datasets/sample_csv.csv'\n",
    "\n",
    "csv_data = pd.read_csv(csv_path)\n",
    "\n",
    "display(csv_data.head())\n",
    "\n",
    "# import text\n",
    "\n",
    "with open(csv_path) as file:\n",
    "    text = file.read()\n",
    "    print(text)\n",
    "    file.close()"
   ]
  },
  {
   "cell_type": "markdown",
   "metadata": {},
   "source": [
    "- Import data from databases into  Python"
   ]
  },
  {
   "cell_type": "code",
   "execution_count": 24,
   "metadata": {},
   "outputs": [
    {
     "data": {
      "text/plain": [
       "'# sample code \\n\\nimport mysql.connector\\n\\n# Connect to the database.\\nconn = mysql.connector.connect(\\n    host=\"localhost\",\\n    user=\"root\",\\n    password=\"password\",\\n    database=\"mydatabase\",\\n)\\n\\n# Create a cursor object.\\ncursor = conn.cursor()\\n\\n# Execute a query to select all data from the `store_sales` table.\\ncursor.execute(\"SELECT * FROM store_sales\")\\n\\n# Fetch the results of the query.\\nresults = cursor.fetchall()\\n\\n# Close the cursor object.\\ncursor.close()\\n\\n# Close the connection to the database.\\nconn.close()\\n\\n# Print the results of the query.\\nfor row in results:\\n    print(row)\\n'"
      ]
     },
     "execution_count": 24,
     "metadata": {},
     "output_type": "execute_result"
    }
   ],
   "source": [
    "\"\"\"# sample code \n",
    "\n",
    "import mysql.connector\n",
    "\n",
    "# Connect to the database.\n",
    "conn = mysql.connector.connect(\n",
    "    host=\"localhost\",\n",
    "    user=\"root\",\n",
    "    password=\"password\",\n",
    "    database=\"mydatabase\",\n",
    ")\n",
    "\n",
    "# Create a cursor object.\n",
    "cursor = conn.cursor()\n",
    "\n",
    "# Execute a query to select all data from the `store_sales` table.\n",
    "cursor.execute(\"SELECT * FROM store_sales\")\n",
    "\n",
    "# Fetch the results of the query.\n",
    "results = cursor.fetchall()\n",
    "\n",
    "# Close the cursor object.\n",
    "cursor.close()\n",
    "\n",
    "# Close the connection to the database.\n",
    "conn.close()\n",
    "\n",
    "# Print the results of the query.\n",
    "for row in results:\n",
    "    print(row)\n",
    "\"\"\""
   ]
  },
  {
   "cell_type": "markdown",
   "metadata": {},
   "source": [
    "- Aggregate numeric, categorical variables and dates by groups using Python"
   ]
  },
  {
   "cell_type": "code",
   "execution_count": 25,
   "metadata": {},
   "outputs": [
    {
     "data": {
      "text/html": [
       "<div>\n",
       "<style scoped>\n",
       "    .dataframe tbody tr th:only-of-type {\n",
       "        vertical-align: middle;\n",
       "    }\n",
       "\n",
       "    .dataframe tbody tr th {\n",
       "        vertical-align: top;\n",
       "    }\n",
       "\n",
       "    .dataframe thead th {\n",
       "        text-align: right;\n",
       "    }\n",
       "</style>\n",
       "<table border=\"1\" class=\"dataframe\">\n",
       "  <thead>\n",
       "    <tr style=\"text-align: right;\">\n",
       "      <th></th>\n",
       "      <th>sepal length (cm)</th>\n",
       "      <th>sepal width (cm)</th>\n",
       "      <th>petal length (cm)</th>\n",
       "      <th>petal width (cm)</th>\n",
       "      <th>target</th>\n",
       "    </tr>\n",
       "  </thead>\n",
       "  <tbody>\n",
       "    <tr>\n",
       "      <th>0</th>\n",
       "      <td>5.1</td>\n",
       "      <td>3.5</td>\n",
       "      <td>1.4</td>\n",
       "      <td>0.2</td>\n",
       "      <td>setosa</td>\n",
       "    </tr>\n",
       "    <tr>\n",
       "      <th>1</th>\n",
       "      <td>4.9</td>\n",
       "      <td>3.0</td>\n",
       "      <td>1.4</td>\n",
       "      <td>0.2</td>\n",
       "      <td>setosa</td>\n",
       "    </tr>\n",
       "    <tr>\n",
       "      <th>2</th>\n",
       "      <td>4.7</td>\n",
       "      <td>3.2</td>\n",
       "      <td>1.3</td>\n",
       "      <td>0.2</td>\n",
       "      <td>setosa</td>\n",
       "    </tr>\n",
       "    <tr>\n",
       "      <th>3</th>\n",
       "      <td>4.6</td>\n",
       "      <td>3.1</td>\n",
       "      <td>1.5</td>\n",
       "      <td>0.2</td>\n",
       "      <td>setosa</td>\n",
       "    </tr>\n",
       "    <tr>\n",
       "      <th>4</th>\n",
       "      <td>5.0</td>\n",
       "      <td>3.6</td>\n",
       "      <td>1.4</td>\n",
       "      <td>0.2</td>\n",
       "      <td>setosa</td>\n",
       "    </tr>\n",
       "  </tbody>\n",
       "</table>\n",
       "</div>"
      ],
      "text/plain": [
       "   sepal length (cm)  sepal width (cm)  petal length (cm)  petal width (cm)  \\\n",
       "0                5.1               3.5                1.4               0.2   \n",
       "1                4.9               3.0                1.4               0.2   \n",
       "2                4.7               3.2                1.3               0.2   \n",
       "3                4.6               3.1                1.5               0.2   \n",
       "4                5.0               3.6                1.4               0.2   \n",
       "\n",
       "   target  \n",
       "0  setosa  \n",
       "1  setosa  \n",
       "2  setosa  \n",
       "3  setosa  \n",
       "4  setosa  "
      ]
     },
     "execution_count": 25,
     "metadata": {},
     "output_type": "execute_result"
    }
   ],
   "source": [
    "# load sample data \n",
    "from sklearn.datasets import  load_iris\n",
    "import pandas as pd\n",
    "\n",
    "data = load_iris(as_frame=True)\n",
    "iris = pd.concat([data.data, data.target], axis=1)\n",
    "\n",
    "map_names = {\n",
    "    0 : data.target_names[0],\n",
    "    1 : data.target_names[1],\n",
    "    2 : data.target_names[2]\n",
    "}\n",
    "\n",
    "iris['target'] = iris['target'].replace(map_names)\n",
    "\n",
    "iris.head()"
   ]
  },
  {
   "cell_type": "code",
   "execution_count": 26,
   "metadata": {},
   "outputs": [
    {
     "data": {
      "text/html": [
       "<div>\n",
       "<style scoped>\n",
       "    .dataframe tbody tr th:only-of-type {\n",
       "        vertical-align: middle;\n",
       "    }\n",
       "\n",
       "    .dataframe tbody tr th {\n",
       "        vertical-align: top;\n",
       "    }\n",
       "\n",
       "    .dataframe thead th {\n",
       "        text-align: right;\n",
       "    }\n",
       "</style>\n",
       "<table border=\"1\" class=\"dataframe\">\n",
       "  <thead>\n",
       "    <tr style=\"text-align: right;\">\n",
       "      <th></th>\n",
       "      <th>sepal length (cm)</th>\n",
       "      <th>sepal width (cm)</th>\n",
       "      <th>petal length (cm)</th>\n",
       "      <th>petal width (cm)</th>\n",
       "    </tr>\n",
       "    <tr>\n",
       "      <th>target</th>\n",
       "      <th></th>\n",
       "      <th></th>\n",
       "      <th></th>\n",
       "      <th></th>\n",
       "    </tr>\n",
       "  </thead>\n",
       "  <tbody>\n",
       "    <tr>\n",
       "      <th>setosa</th>\n",
       "      <td>5.006</td>\n",
       "      <td>3.428</td>\n",
       "      <td>1.462</td>\n",
       "      <td>0.246</td>\n",
       "    </tr>\n",
       "    <tr>\n",
       "      <th>versicolor</th>\n",
       "      <td>5.936</td>\n",
       "      <td>2.770</td>\n",
       "      <td>4.260</td>\n",
       "      <td>1.326</td>\n",
       "    </tr>\n",
       "    <tr>\n",
       "      <th>virginica</th>\n",
       "      <td>6.588</td>\n",
       "      <td>2.974</td>\n",
       "      <td>5.552</td>\n",
       "      <td>2.026</td>\n",
       "    </tr>\n",
       "  </tbody>\n",
       "</table>\n",
       "</div>"
      ],
      "text/plain": [
       "            sepal length (cm)  sepal width (cm)  petal length (cm)  \\\n",
       "target                                                               \n",
       "setosa                  5.006             3.428              1.462   \n",
       "versicolor              5.936             2.770              4.260   \n",
       "virginica               6.588             2.974              5.552   \n",
       "\n",
       "            petal width (cm)  \n",
       "target                        \n",
       "setosa                 0.246  \n",
       "versicolor             1.326  \n",
       "virginica              2.026  "
      ]
     },
     "metadata": {},
     "output_type": "display_data"
    },
    {
     "data": {
      "text/plain": [
       "target\n",
       "setosa        5.006\n",
       "versicolor    5.936\n",
       "virginica     6.588\n",
       "Name: sepal length (cm), dtype: float64"
      ]
     },
     "metadata": {},
     "output_type": "display_data"
    },
    {
     "data": {
      "text/plain": [
       "target\n",
       "setosa        50\n",
       "versicolor    50\n",
       "virginica     50\n",
       "dtype: int64"
      ]
     },
     "metadata": {},
     "output_type": "display_data"
    },
    {
     "data": {
      "text/plain": [
       "target\n",
       "virginica     2.026\n",
       "versicolor    1.326\n",
       "setosa        0.246\n",
       "Name: petal width (cm), dtype: float64"
      ]
     },
     "metadata": {},
     "output_type": "display_data"
    },
    {
     "data": {
      "text/html": [
       "<div>\n",
       "<style scoped>\n",
       "    .dataframe tbody tr th:only-of-type {\n",
       "        vertical-align: middle;\n",
       "    }\n",
       "\n",
       "    .dataframe tbody tr th {\n",
       "        vertical-align: top;\n",
       "    }\n",
       "\n",
       "    .dataframe thead th {\n",
       "        text-align: right;\n",
       "    }\n",
       "</style>\n",
       "<table border=\"1\" class=\"dataframe\">\n",
       "  <thead>\n",
       "    <tr style=\"text-align: right;\">\n",
       "      <th></th>\n",
       "      <th>mean</th>\n",
       "      <th>std</th>\n",
       "      <th>min</th>\n",
       "      <th>max</th>\n",
       "    </tr>\n",
       "    <tr>\n",
       "      <th>target</th>\n",
       "      <th></th>\n",
       "      <th></th>\n",
       "      <th></th>\n",
       "      <th></th>\n",
       "    </tr>\n",
       "  </thead>\n",
       "  <tbody>\n",
       "    <tr>\n",
       "      <th>setosa</th>\n",
       "      <td>5.006</td>\n",
       "      <td>0.352490</td>\n",
       "      <td>4.3</td>\n",
       "      <td>5.8</td>\n",
       "    </tr>\n",
       "    <tr>\n",
       "      <th>versicolor</th>\n",
       "      <td>5.936</td>\n",
       "      <td>0.516171</td>\n",
       "      <td>4.9</td>\n",
       "      <td>7.0</td>\n",
       "    </tr>\n",
       "    <tr>\n",
       "      <th>virginica</th>\n",
       "      <td>6.588</td>\n",
       "      <td>0.635880</td>\n",
       "      <td>4.9</td>\n",
       "      <td>7.9</td>\n",
       "    </tr>\n",
       "  </tbody>\n",
       "</table>\n",
       "</div>"
      ],
      "text/plain": [
       "             mean       std  min  max\n",
       "target                               \n",
       "setosa      5.006  0.352490  4.3  5.8\n",
       "versicolor  5.936  0.516171  4.9  7.0\n",
       "virginica   6.588  0.635880  4.9  7.9"
      ]
     },
     "metadata": {},
     "output_type": "display_data"
    },
    {
     "data": {
      "text/html": [
       "<div>\n",
       "<style scoped>\n",
       "    .dataframe tbody tr th:only-of-type {\n",
       "        vertical-align: middle;\n",
       "    }\n",
       "\n",
       "    .dataframe tbody tr th {\n",
       "        vertical-align: top;\n",
       "    }\n",
       "\n",
       "    .dataframe thead th {\n",
       "        text-align: right;\n",
       "    }\n",
       "</style>\n",
       "<table border=\"1\" class=\"dataframe\">\n",
       "  <thead>\n",
       "    <tr style=\"text-align: right;\">\n",
       "      <th></th>\n",
       "      <th>sepal length (cm)</th>\n",
       "      <th>petal width (cm)</th>\n",
       "    </tr>\n",
       "    <tr>\n",
       "      <th>target</th>\n",
       "      <th></th>\n",
       "      <th></th>\n",
       "    </tr>\n",
       "  </thead>\n",
       "  <tbody>\n",
       "    <tr>\n",
       "      <th>setosa</th>\n",
       "      <td>5.006</td>\n",
       "      <td>0.0714</td>\n",
       "    </tr>\n",
       "    <tr>\n",
       "      <th>versicolor</th>\n",
       "      <td>5.936</td>\n",
       "      <td>1.7966</td>\n",
       "    </tr>\n",
       "    <tr>\n",
       "      <th>virginica</th>\n",
       "      <td>6.588</td>\n",
       "      <td>4.1786</td>\n",
       "    </tr>\n",
       "  </tbody>\n",
       "</table>\n",
       "</div>"
      ],
      "text/plain": [
       "            sepal length (cm)  petal width (cm)\n",
       "target                                         \n",
       "setosa                  5.006            0.0714\n",
       "versicolor              5.936            1.7966\n",
       "virginica               6.588            4.1786"
      ]
     },
     "metadata": {},
     "output_type": "display_data"
    }
   ],
   "source": [
    "display(iris.groupby('target').agg('mean'))\n",
    "display(iris.groupby(\"target\")[\"sepal length (cm)\"].mean())\n",
    "display(iris.groupby(\"target\").size())\n",
    "display(iris.groupby(\"target\")[\"petal width (cm)\"].mean().sort_values(ascending=False))\n",
    "display(iris.groupby(\"target\")[\"sepal length (cm)\"].agg([\"mean\", \"std\", \"min\", \"max\"]))\n",
    "\n",
    "import numpy as np\n",
    "def square_and_mean(x):\n",
    "    return np.mean(x ** 2)\n",
    "\n",
    "display(iris.groupby(\"target\")[[\"sepal length (cm)\", \"petal width (cm)\"]].agg({\"sepal length (cm)\": \"mean\", \"petal width (cm)\": square_and_mean}))\n",
    "\n",
    "\n"
   ]
  },
  {
   "cell_type": "markdown",
   "metadata": {},
   "source": [
    "- Combine multiple tables by rows or columns using  Python."
   ]
  },
  {
   "cell_type": "code",
   "execution_count": 27,
   "metadata": {},
   "outputs": [
    {
     "data": {
      "text/html": [
       "<div>\n",
       "<style scoped>\n",
       "    .dataframe tbody tr th:only-of-type {\n",
       "        vertical-align: middle;\n",
       "    }\n",
       "\n",
       "    .dataframe tbody tr th {\n",
       "        vertical-align: top;\n",
       "    }\n",
       "\n",
       "    .dataframe thead th {\n",
       "        text-align: right;\n",
       "    }\n",
       "</style>\n",
       "<table border=\"1\" class=\"dataframe\">\n",
       "  <thead>\n",
       "    <tr style=\"text-align: right;\">\n",
       "      <th></th>\n",
       "      <th>id</th>\n",
       "      <th>name</th>\n",
       "      <th>id</th>\n",
       "      <th>name</th>\n",
       "    </tr>\n",
       "  </thead>\n",
       "  <tbody>\n",
       "    <tr>\n",
       "      <th>0</th>\n",
       "      <td>1</td>\n",
       "      <td>Alice</td>\n",
       "      <td>4</td>\n",
       "      <td>Dave</td>\n",
       "    </tr>\n",
       "    <tr>\n",
       "      <th>1</th>\n",
       "      <td>2</td>\n",
       "      <td>Bob</td>\n",
       "      <td>5</td>\n",
       "      <td>Eve</td>\n",
       "    </tr>\n",
       "    <tr>\n",
       "      <th>2</th>\n",
       "      <td>3</td>\n",
       "      <td>Carol</td>\n",
       "      <td>6</td>\n",
       "      <td>Frank</td>\n",
       "    </tr>\n",
       "  </tbody>\n",
       "</table>\n",
       "</div>"
      ],
      "text/plain": [
       "   id   name  id   name\n",
       "0   1  Alice   4   Dave\n",
       "1   2    Bob   5    Eve\n",
       "2   3  Carol   6  Frank"
      ]
     },
     "metadata": {},
     "output_type": "display_data"
    },
    {
     "data": {
      "text/html": [
       "<div>\n",
       "<style scoped>\n",
       "    .dataframe tbody tr th:only-of-type {\n",
       "        vertical-align: middle;\n",
       "    }\n",
       "\n",
       "    .dataframe tbody tr th {\n",
       "        vertical-align: top;\n",
       "    }\n",
       "\n",
       "    .dataframe thead th {\n",
       "        text-align: right;\n",
       "    }\n",
       "</style>\n",
       "<table border=\"1\" class=\"dataframe\">\n",
       "  <thead>\n",
       "    <tr style=\"text-align: right;\">\n",
       "      <th></th>\n",
       "      <th>id</th>\n",
       "      <th>name</th>\n",
       "    </tr>\n",
       "  </thead>\n",
       "  <tbody>\n",
       "    <tr>\n",
       "      <th>0</th>\n",
       "      <td>1</td>\n",
       "      <td>Alice</td>\n",
       "    </tr>\n",
       "    <tr>\n",
       "      <th>1</th>\n",
       "      <td>2</td>\n",
       "      <td>Bob</td>\n",
       "    </tr>\n",
       "    <tr>\n",
       "      <th>2</th>\n",
       "      <td>3</td>\n",
       "      <td>Carol</td>\n",
       "    </tr>\n",
       "    <tr>\n",
       "      <th>0</th>\n",
       "      <td>4</td>\n",
       "      <td>Dave</td>\n",
       "    </tr>\n",
       "    <tr>\n",
       "      <th>1</th>\n",
       "      <td>5</td>\n",
       "      <td>Eve</td>\n",
       "    </tr>\n",
       "    <tr>\n",
       "      <th>2</th>\n",
       "      <td>6</td>\n",
       "      <td>Frank</td>\n",
       "    </tr>\n",
       "  </tbody>\n",
       "</table>\n",
       "</div>"
      ],
      "text/plain": [
       "   id   name\n",
       "0   1  Alice\n",
       "1   2    Bob\n",
       "2   3  Carol\n",
       "0   4   Dave\n",
       "1   5    Eve\n",
       "2   6  Frank"
      ]
     },
     "metadata": {},
     "output_type": "display_data"
    },
    {
     "data": {
      "text/html": [
       "<div>\n",
       "<style scoped>\n",
       "    .dataframe tbody tr th:only-of-type {\n",
       "        vertical-align: middle;\n",
       "    }\n",
       "\n",
       "    .dataframe tbody tr th {\n",
       "        vertical-align: top;\n",
       "    }\n",
       "\n",
       "    .dataframe thead th {\n",
       "        text-align: right;\n",
       "    }\n",
       "</style>\n",
       "<table border=\"1\" class=\"dataframe\">\n",
       "  <thead>\n",
       "    <tr style=\"text-align: right;\">\n",
       "      <th></th>\n",
       "      <th>lkey</th>\n",
       "      <th>value_x</th>\n",
       "      <th>rkey</th>\n",
       "      <th>value_y</th>\n",
       "    </tr>\n",
       "  </thead>\n",
       "  <tbody>\n",
       "    <tr>\n",
       "      <th>0</th>\n",
       "      <td>foo</td>\n",
       "      <td>1</td>\n",
       "      <td>foo</td>\n",
       "      <td>5</td>\n",
       "    </tr>\n",
       "    <tr>\n",
       "      <th>1</th>\n",
       "      <td>foo</td>\n",
       "      <td>1</td>\n",
       "      <td>foo</td>\n",
       "      <td>8</td>\n",
       "    </tr>\n",
       "    <tr>\n",
       "      <th>2</th>\n",
       "      <td>foo</td>\n",
       "      <td>5</td>\n",
       "      <td>foo</td>\n",
       "      <td>5</td>\n",
       "    </tr>\n",
       "    <tr>\n",
       "      <th>3</th>\n",
       "      <td>foo</td>\n",
       "      <td>5</td>\n",
       "      <td>foo</td>\n",
       "      <td>8</td>\n",
       "    </tr>\n",
       "    <tr>\n",
       "      <th>4</th>\n",
       "      <td>bar</td>\n",
       "      <td>2</td>\n",
       "      <td>bar</td>\n",
       "      <td>6</td>\n",
       "    </tr>\n",
       "    <tr>\n",
       "      <th>5</th>\n",
       "      <td>baz</td>\n",
       "      <td>3</td>\n",
       "      <td>baz</td>\n",
       "      <td>7</td>\n",
       "    </tr>\n",
       "  </tbody>\n",
       "</table>\n",
       "</div>"
      ],
      "text/plain": [
       "  lkey  value_x rkey  value_y\n",
       "0  foo        1  foo        5\n",
       "1  foo        1  foo        8\n",
       "2  foo        5  foo        5\n",
       "3  foo        5  foo        8\n",
       "4  bar        2  bar        6\n",
       "5  baz        3  baz        7"
      ]
     },
     "execution_count": 27,
     "metadata": {},
     "output_type": "execute_result"
    }
   ],
   "source": [
    "# Combine two tables by rows\n",
    "df1 = pd.DataFrame({\"id\": [1, 2, 3], \"name\": [\"Alice\", \"Bob\", \"Carol\"]})\n",
    "df2 = pd.DataFrame({\"id\": [4, 5, 6], \"name\": [\"Dave\", \"Eve\", \"Frank\"]})\n",
    "\n",
    "display(pd.concat([df1, df2], axis=1))\n",
    "display(pd.concat([df1, df2], axis=0))\n",
    "\n",
    "# merged\n",
    "\n",
    "df1 = pd.DataFrame({'lkey': ['foo', 'bar', 'baz', 'foo'],\n",
    "                    'value': [1, 2, 3, 5]})\n",
    "df2 = pd.DataFrame({'rkey': ['foo', 'bar', 'baz', 'foo'],\n",
    "                    'value': [5, 6, 7, 8]})\n",
    "\n",
    "df1.merge(df2, left_on='lkey', right_on='rkey')\n"
   ]
  },
  {
   "cell_type": "markdown",
   "metadata": {},
   "source": [
    "-  Filter data based on different criteria using R or Python."
   ]
  },
  {
   "cell_type": "code",
   "execution_count": 28,
   "metadata": {},
   "outputs": [
    {
     "data": {
      "text/html": [
       "<div>\n",
       "<style scoped>\n",
       "    .dataframe tbody tr th:only-of-type {\n",
       "        vertical-align: middle;\n",
       "    }\n",
       "\n",
       "    .dataframe tbody tr th {\n",
       "        vertical-align: top;\n",
       "    }\n",
       "\n",
       "    .dataframe thead th {\n",
       "        text-align: right;\n",
       "    }\n",
       "</style>\n",
       "<table border=\"1\" class=\"dataframe\">\n",
       "  <thead>\n",
       "    <tr style=\"text-align: right;\">\n",
       "      <th></th>\n",
       "      <th>sepal length (cm)</th>\n",
       "      <th>sepal width (cm)</th>\n",
       "      <th>petal length (cm)</th>\n",
       "      <th>petal width (cm)</th>\n",
       "      <th>target</th>\n",
       "    </tr>\n",
       "  </thead>\n",
       "  <tbody>\n",
       "    <tr>\n",
       "      <th>102</th>\n",
       "      <td>7.1</td>\n",
       "      <td>3.0</td>\n",
       "      <td>5.9</td>\n",
       "      <td>2.1</td>\n",
       "      <td>virginica</td>\n",
       "    </tr>\n",
       "    <tr>\n",
       "      <th>105</th>\n",
       "      <td>7.6</td>\n",
       "      <td>3.0</td>\n",
       "      <td>6.6</td>\n",
       "      <td>2.1</td>\n",
       "      <td>virginica</td>\n",
       "    </tr>\n",
       "    <tr>\n",
       "      <th>107</th>\n",
       "      <td>7.3</td>\n",
       "      <td>2.9</td>\n",
       "      <td>6.3</td>\n",
       "      <td>1.8</td>\n",
       "      <td>virginica</td>\n",
       "    </tr>\n",
       "    <tr>\n",
       "      <th>109</th>\n",
       "      <td>7.2</td>\n",
       "      <td>3.6</td>\n",
       "      <td>6.1</td>\n",
       "      <td>2.5</td>\n",
       "      <td>virginica</td>\n",
       "    </tr>\n",
       "    <tr>\n",
       "      <th>117</th>\n",
       "      <td>7.7</td>\n",
       "      <td>3.8</td>\n",
       "      <td>6.7</td>\n",
       "      <td>2.2</td>\n",
       "      <td>virginica</td>\n",
       "    </tr>\n",
       "    <tr>\n",
       "      <th>118</th>\n",
       "      <td>7.7</td>\n",
       "      <td>2.6</td>\n",
       "      <td>6.9</td>\n",
       "      <td>2.3</td>\n",
       "      <td>virginica</td>\n",
       "    </tr>\n",
       "    <tr>\n",
       "      <th>122</th>\n",
       "      <td>7.7</td>\n",
       "      <td>2.8</td>\n",
       "      <td>6.7</td>\n",
       "      <td>2.0</td>\n",
       "      <td>virginica</td>\n",
       "    </tr>\n",
       "    <tr>\n",
       "      <th>125</th>\n",
       "      <td>7.2</td>\n",
       "      <td>3.2</td>\n",
       "      <td>6.0</td>\n",
       "      <td>1.8</td>\n",
       "      <td>virginica</td>\n",
       "    </tr>\n",
       "    <tr>\n",
       "      <th>129</th>\n",
       "      <td>7.2</td>\n",
       "      <td>3.0</td>\n",
       "      <td>5.8</td>\n",
       "      <td>1.6</td>\n",
       "      <td>virginica</td>\n",
       "    </tr>\n",
       "    <tr>\n",
       "      <th>130</th>\n",
       "      <td>7.4</td>\n",
       "      <td>2.8</td>\n",
       "      <td>6.1</td>\n",
       "      <td>1.9</td>\n",
       "      <td>virginica</td>\n",
       "    </tr>\n",
       "    <tr>\n",
       "      <th>131</th>\n",
       "      <td>7.9</td>\n",
       "      <td>3.8</td>\n",
       "      <td>6.4</td>\n",
       "      <td>2.0</td>\n",
       "      <td>virginica</td>\n",
       "    </tr>\n",
       "    <tr>\n",
       "      <th>135</th>\n",
       "      <td>7.7</td>\n",
       "      <td>3.0</td>\n",
       "      <td>6.1</td>\n",
       "      <td>2.3</td>\n",
       "      <td>virginica</td>\n",
       "    </tr>\n",
       "  </tbody>\n",
       "</table>\n",
       "</div>"
      ],
      "text/plain": [
       "     sepal length (cm)  sepal width (cm)  petal length (cm)  petal width (cm)  \\\n",
       "102                7.1               3.0                5.9               2.1   \n",
       "105                7.6               3.0                6.6               2.1   \n",
       "107                7.3               2.9                6.3               1.8   \n",
       "109                7.2               3.6                6.1               2.5   \n",
       "117                7.7               3.8                6.7               2.2   \n",
       "118                7.7               2.6                6.9               2.3   \n",
       "122                7.7               2.8                6.7               2.0   \n",
       "125                7.2               3.2                6.0               1.8   \n",
       "129                7.2               3.0                5.8               1.6   \n",
       "130                7.4               2.8                6.1               1.9   \n",
       "131                7.9               3.8                6.4               2.0   \n",
       "135                7.7               3.0                6.1               2.3   \n",
       "\n",
       "        target  \n",
       "102  virginica  \n",
       "105  virginica  \n",
       "107  virginica  \n",
       "109  virginica  \n",
       "117  virginica  \n",
       "118  virginica  \n",
       "122  virginica  \n",
       "125  virginica  \n",
       "129  virginica  \n",
       "130  virginica  \n",
       "131  virginica  \n",
       "135  virginica  "
      ]
     },
     "metadata": {},
     "output_type": "display_data"
    },
    {
     "data": {
      "text/plain": [
       "(array([102, 105, 107, 109, 117, 118, 122, 125, 129, 130, 131, 135]),)"
      ]
     },
     "metadata": {},
     "output_type": "display_data"
    },
    {
     "data": {
      "text/html": [
       "<div>\n",
       "<style scoped>\n",
       "    .dataframe tbody tr th:only-of-type {\n",
       "        vertical-align: middle;\n",
       "    }\n",
       "\n",
       "    .dataframe tbody tr th {\n",
       "        vertical-align: top;\n",
       "    }\n",
       "\n",
       "    .dataframe thead th {\n",
       "        text-align: right;\n",
       "    }\n",
       "</style>\n",
       "<table border=\"1\" class=\"dataframe\">\n",
       "  <thead>\n",
       "    <tr style=\"text-align: right;\">\n",
       "      <th></th>\n",
       "      <th>sepal length (cm)</th>\n",
       "      <th>sepal width (cm)</th>\n",
       "      <th>petal length (cm)</th>\n",
       "      <th>petal width (cm)</th>\n",
       "      <th>target</th>\n",
       "    </tr>\n",
       "  </thead>\n",
       "  <tbody>\n",
       "    <tr>\n",
       "      <th>109</th>\n",
       "      <td>7.2</td>\n",
       "      <td>3.6</td>\n",
       "      <td>6.1</td>\n",
       "      <td>2.5</td>\n",
       "      <td>virginica</td>\n",
       "    </tr>\n",
       "    <tr>\n",
       "      <th>118</th>\n",
       "      <td>7.7</td>\n",
       "      <td>2.6</td>\n",
       "      <td>6.9</td>\n",
       "      <td>2.3</td>\n",
       "      <td>virginica</td>\n",
       "    </tr>\n",
       "  </tbody>\n",
       "</table>\n",
       "</div>"
      ],
      "text/plain": [
       "     sepal length (cm)  sepal width (cm)  petal length (cm)  petal width (cm)  \\\n",
       "109                7.2               3.6                6.1               2.5   \n",
       "118                7.7               2.6                6.9               2.3   \n",
       "\n",
       "        target  \n",
       "109  virginica  \n",
       "118  virginica  "
      ]
     },
     "metadata": {},
     "output_type": "display_data"
    },
    {
     "data": {
      "text/plain": [
       "(array([109, 118]),)"
      ]
     },
     "metadata": {},
     "output_type": "display_data"
    }
   ],
   "source": [
    "# filter iris dataset based on the length of the sepal\n",
    "\n",
    "# using pandas .loc\n",
    "display(iris.loc[iris['sepal length (cm)'] > 7])\n",
    "\n",
    "# using numpy (Returns the index)\n",
    "display(np.where(iris['sepal length (cm)']>7))\n",
    "\n",
    "\n",
    "# filter iris dataset based on the area of the petal\n",
    "\n",
    "# using pandas\n",
    "display(iris.loc[iris['petal length (cm)'] * iris['petal width (cm)'] > 15])\n",
    "\n",
    "# using numpy (Returns the index)\n",
    "display(np.where(iris['petal length (cm)'] * iris['petal width (cm)'] > 15))"
   ]
  },
  {
   "cell_type": "markdown",
   "metadata": {},
   "source": [
    "# 2.2 Perform standard cleaning tasks to prepare data for analysis"
   ]
  },
  {
   "cell_type": "markdown",
   "metadata": {},
   "source": [
    "- Match strings in a dataset with specific patterns using R or Python."
   ]
  },
  {
   "cell_type": "code",
   "execution_count": 29,
   "metadata": {},
   "outputs": [
    {
     "data": {
      "text/html": [
       "<div>\n",
       "<style scoped>\n",
       "    .dataframe tbody tr th:only-of-type {\n",
       "        vertical-align: middle;\n",
       "    }\n",
       "\n",
       "    .dataframe tbody tr th {\n",
       "        vertical-align: top;\n",
       "    }\n",
       "\n",
       "    .dataframe thead th {\n",
       "        text-align: right;\n",
       "    }\n",
       "</style>\n",
       "<table border=\"1\" class=\"dataframe\">\n",
       "  <thead>\n",
       "    <tr style=\"text-align: right;\">\n",
       "      <th></th>\n",
       "      <th>id</th>\n",
       "      <th>author</th>\n",
       "      <th>status</th>\n",
       "    </tr>\n",
       "  </thead>\n",
       "  <tbody>\n",
       "    <tr>\n",
       "      <th>0</th>\n",
       "      <td>1</td>\n",
       "      <td>Donald J. Trump</td>\n",
       "      <td>I will be making a major statement from the @W...</td>\n",
       "    </tr>\n",
       "    <tr>\n",
       "      <th>3</th>\n",
       "      <td>4</td>\n",
       "      <td>Donald J. Trump</td>\n",
       "      <td>Great to see @RandPaul looking well and back o...</td>\n",
       "    </tr>\n",
       "    <tr>\n",
       "      <th>27</th>\n",
       "      <td>28</td>\n",
       "      <td>Donald J. Trump</td>\n",
       "      <td>I am leaving China for #APEC2017 in Vietnam. @...</td>\n",
       "    </tr>\n",
       "    <tr>\n",
       "      <th>35</th>\n",
       "      <td>36</td>\n",
       "      <td>Donald J. Trump</td>\n",
       "      <td>On behalf of @FLOTUS Melania and I, THANK YOU ...</td>\n",
       "    </tr>\n",
       "    <tr>\n",
       "      <th>45</th>\n",
       "      <td>46</td>\n",
       "      <td>Donald J. Trump</td>\n",
       "      <td>Franklin, such a great photo. \\n\\nHAPPY 99th B...</td>\n",
       "    </tr>\n",
       "    <tr>\n",
       "      <th>...</th>\n",
       "      <td>...</td>\n",
       "      <td>...</td>\n",
       "      <td>...</td>\n",
       "    </tr>\n",
       "    <tr>\n",
       "      <th>393</th>\n",
       "      <td>394</td>\n",
       "      <td>Justin Trudeau</td>\n",
       "      <td>Great chat with @ericschmidt, talking about ho...</td>\n",
       "    </tr>\n",
       "    <tr>\n",
       "      <th>394</th>\n",
       "      <td>395</td>\n",
       "      <td>Justin Trudeau</td>\n",
       "      <td>Bonne discussion avec @ericschmidt sur l’inves...</td>\n",
       "    </tr>\n",
       "    <tr>\n",
       "      <th>395</th>\n",
       "      <td>396</td>\n",
       "      <td>Justin Trudeau</td>\n",
       "      <td>RT @googlecanada: Watch tmw: @JustinTrudeau di...</td>\n",
       "    </tr>\n",
       "    <tr>\n",
       "      <th>398</th>\n",
       "      <td>399</td>\n",
       "      <td>Justin Trudeau</td>\n",
       "      <td>RT @VeteransENG_CA: #Day1 of 11 Days of Rememb...</td>\n",
       "    </tr>\n",
       "    <tr>\n",
       "      <th>399</th>\n",
       "      <td>400</td>\n",
       "      <td>Justin Trudeau</td>\n",
       "      <td>RT @VeteransFR_CA: #Jour1 des 11 jours pour se...</td>\n",
       "    </tr>\n",
       "  </tbody>\n",
       "</table>\n",
       "<p>144 rows × 3 columns</p>\n",
       "</div>"
      ],
      "text/plain": [
       "      id           author                                             status\n",
       "0      1  Donald J. Trump  I will be making a major statement from the @W...\n",
       "3      4  Donald J. Trump  Great to see @RandPaul looking well and back o...\n",
       "27    28  Donald J. Trump  I am leaving China for #APEC2017 in Vietnam. @...\n",
       "35    36  Donald J. Trump  On behalf of @FLOTUS Melania and I, THANK YOU ...\n",
       "45    46  Donald J. Trump  Franklin, such a great photo. \\n\\nHAPPY 99th B...\n",
       "..   ...              ...                                                ...\n",
       "393  394   Justin Trudeau  Great chat with @ericschmidt, talking about ho...\n",
       "394  395   Justin Trudeau  Bonne discussion avec @ericschmidt sur l’inves...\n",
       "395  396   Justin Trudeau  RT @googlecanada: Watch tmw: @JustinTrudeau di...\n",
       "398  399   Justin Trudeau  RT @VeteransENG_CA: #Day1 of 11 Days of Rememb...\n",
       "399  400   Justin Trudeau  RT @VeteransFR_CA: #Jour1 des 11 jours pour se...\n",
       "\n",
       "[144 rows x 3 columns]"
      ]
     },
     "metadata": {},
     "output_type": "display_data"
    },
    {
     "data": {
      "text/html": [
       "<div>\n",
       "<style scoped>\n",
       "    .dataframe tbody tr th:only-of-type {\n",
       "        vertical-align: middle;\n",
       "    }\n",
       "\n",
       "    .dataframe tbody tr th {\n",
       "        vertical-align: top;\n",
       "    }\n",
       "\n",
       "    .dataframe thead th {\n",
       "        text-align: right;\n",
       "    }\n",
       "</style>\n",
       "<table border=\"1\" class=\"dataframe\">\n",
       "  <thead>\n",
       "    <tr style=\"text-align: right;\">\n",
       "      <th></th>\n",
       "      <th></th>\n",
       "      <th>0</th>\n",
       "    </tr>\n",
       "    <tr>\n",
       "      <th></th>\n",
       "      <th>match</th>\n",
       "      <th></th>\n",
       "    </tr>\n",
       "  </thead>\n",
       "  <tbody>\n",
       "    <tr>\n",
       "      <th>0</th>\n",
       "      <th>0</th>\n",
       "      <td>@WhiteHouse</td>\n",
       "    </tr>\n",
       "    <tr>\n",
       "      <th>3</th>\n",
       "      <th>0</th>\n",
       "      <td>@RandPaul</td>\n",
       "    </tr>\n",
       "    <tr>\n",
       "      <th>27</th>\n",
       "      <th>0</th>\n",
       "      <td>@FLOTUS</td>\n",
       "    </tr>\n",
       "    <tr>\n",
       "      <th>35</th>\n",
       "      <th>0</th>\n",
       "      <td>@FLOTUS</td>\n",
       "    </tr>\n",
       "    <tr>\n",
       "      <th>45</th>\n",
       "      <th>0</th>\n",
       "      <td>@BillyGraham</td>\n",
       "    </tr>\n",
       "    <tr>\n",
       "      <th>...</th>\n",
       "      <th>...</th>\n",
       "      <td>...</td>\n",
       "    </tr>\n",
       "    <tr>\n",
       "      <th rowspan=\"3\" valign=\"top\">395</th>\n",
       "      <th>1</th>\n",
       "      <td>@JustinTrudeau</td>\n",
       "    </tr>\n",
       "    <tr>\n",
       "      <th>2</th>\n",
       "      <td>@ericschmidt</td>\n",
       "    </tr>\n",
       "    <tr>\n",
       "      <th>3</th>\n",
       "      <td>@nytimes</td>\n",
       "    </tr>\n",
       "    <tr>\n",
       "      <th>398</th>\n",
       "      <th>0</th>\n",
       "      <td>@VeteransENG_CA</td>\n",
       "    </tr>\n",
       "    <tr>\n",
       "      <th>399</th>\n",
       "      <th>0</th>\n",
       "      <td>@VeteransFR_CA</td>\n",
       "    </tr>\n",
       "  </tbody>\n",
       "</table>\n",
       "<p>185 rows × 1 columns</p>\n",
       "</div>"
      ],
      "text/plain": [
       "                         0\n",
       "    match                 \n",
       "0   0          @WhiteHouse\n",
       "3   0            @RandPaul\n",
       "27  0              @FLOTUS\n",
       "35  0              @FLOTUS\n",
       "45  0         @BillyGraham\n",
       "...                    ...\n",
       "395 1       @JustinTrudeau\n",
       "    2         @ericschmidt\n",
       "    3             @nytimes\n",
       "398 0      @VeteransENG_CA\n",
       "399 0       @VeteransFR_CA\n",
       "\n",
       "[185 rows x 1 columns]"
      ]
     },
     "metadata": {},
     "output_type": "display_data"
    },
    {
     "name": "stdout",
     "output_type": "stream",
     "text": [
      "[['@WhiteHouse'], ['@RandPaul'], ['@FLOTUS'], ['@FLOTUS'], ['@BillyGraham'], ['@EdWGillespie'], ['@EdWGillespie'], ['@AbeShinzo', '@realDonaldTrump'], ['@USForcesJapan'], ['@IvankaTrump'], ['@PacificCommand', '@USSArizona'], ['@PacificCommand'], ['@IngrahamAngle', '@FoxNews'], ['@TuckerCarlson'], ['@Broadcom'], ['@Astros'], ['@Cabinet'], ['@garyplayer'], ['@SenateMajLdr', '@SenateGOP'], ['@SenateMajLdr', '@SenateGOP'], ['@NYGovCuomo', '@NYCMayor'], ['@NYGovCuomo', '@NYCMayor'], ['@foxandfriends'], ['@foxandfriends'], ['@IvankaTrump'], ['@LuisRiveraMarin'], ['@foxandfriends'], ['@TheLeeGreenwood'], ['@FoxNews'], ['@FLGovScott'], ['@TheLeeGreenwood'], ['@Joy_Villa'], ['@SpeakerRyan', '@GOPLeader', '@SteveScalise'], ['@foxandfriends'], ['@seanhannity'], ['@PChowka'], ['@IvankaTrump'], ['@LouDobbs', '@FoxBusiness'], ['@GovAbbott', '@DanPatrick'], ['@LouDobbs', '@FoxBusiness'], ['@Reince'], ['@FoxNews'], ['@NavdeepSBains'], ['@NavdeepSBains'], ['@FP_Champagne'], ['@FP_Champagne'], ['@yuchengcomuseum', '@JustinTrudeau'], ['@cathmckenna'], ['@cathmckenna'], ['@jacindaardern'], ['@jacindaardern'], ['@APEC'], ['@SeamusORegan'], ['@RoyalCdnLegion'], ['@RoyalCdnLegion'], ['@CanadianForces'], ['@ForcesCanada'], ['@NationalDefence'], ['@DefenseCanada'], ['@BobRae48'], ['@BobRae48'], ['@sherylsandberg'], ['@sherylsandberg'], ['@TurnbullMalcolm'], ['@TurnbullMalcolm'], ['@AbeShinzo'], ['@AbeShinzo'], ['@EPN'], ['@EPN'], ['@MarcMillerVM'], ['@MarcMillerVM'], ['@SeamusORegan'], ['@SeamusORegan'], ['@VeteransENG_CA'], ['@VeteransFR_CA'], ['@RalphGoodale', '@rcmpgrcpolice'], ['@RalphGoodale', '@rcmpgrcpolice'], ['@jyduclos'], ['@jyduclos'], ['@VNXAllshares'], ['@JulieDzerowicz', '@OurCommons'], ['@DrRobbieO'], ['@SherryRomanado'], ['@SherryRomanado'], ['@AsiaPacificFdn', '@JustinTrudeau', '@Stewartbeck'], ['@KirstyDuncanMP', '@cathmckenna'], ['@KirstyDuncanMP', '@cathmck'], ['@FP_Champagne'], ['@cafreeland'], ['@cafreeland'], ['@janephilpott'], ['@SeamusORegan'], ['@liberal_party'], ['@parti_liberal'], ['@BlueJays'], ['@cathmckenna', '@StellaBowles'], ['@cathmckenna', '@StellaBowles'], ['@Carolyn_Bennett', '@ITK_CanadaInuit'], ['@Carolyn_Bennett', '@ITK_CanadaInuit'], ['@PattyHajdu'], ['@PattyHajdu'], ['@AbbyPoliceDept'], ['@SeamusORegan', '@RoyalCd'], ['@SeamusORegan', '@RoyalCdnLegio'], ['@AbbyPoliceDept'], ['@AbbyPoliceDept'], ['@GregAbbott_TX'], ['@GregAbbott_TX'], ['@Val_Plante'], ['@Val_Plante'], ['@gclacroix'], ['@gclacroix'], ['@CanadianPM'], ['@PMcanadien'], ['@HudonIsabelle'], ['@HudonIsabelle'], ['@DenisLemieuxLib'], ['@DenisLemieuxLib'], ['@Val_Plante'], ['@Val_Plante'], ['@Val_Plante'], ['@Val_Plante'], ['@SeamusORegan'], ['@SeamusORegan'], ['@HarjitSajjan', '@SevaFoodBank'], ['@AhmedDHussen', '@RefugeesChief'], ['@NANComms', '@JustinTrudeau', '@janephilpott', '@Carolyn_Bennett', '@gcfiddler', '@DGCAnnaBetty'], ['@CQualtro', '@amazonca'], ['@CQualtro'], ['@USAmbCanada'], ['@USAmbCanada'], ['@RajLiberal'], ['@RajLiberal'], ['@LindaJeffrey', '@JustinTrudeau'], ['@SeamusORegan', '@SeamusORegan'], ['@SeamusORegan', '@SeamusORegan'], ['@NavdeepSBains', '@googlecanada'], ['@NavdeepSBains', '@googlecanada'], ['@ericschmidt'], ['@ericschmidt'], ['@googlecanada', '@JustinTrudeau', '@ericschmidt', '@nytimes'], ['@VeteransENG_CA'], ['@VeteransFR_CA']]\n"
     ]
    }
   ],
   "source": [
    "# tweets path\n",
    "tweets = pd.read_csv(\"/home/nero/Documents/Estudos/DataCamp/Python/projects/Who's Tweeting? Trump or Trudeau?/datasets/tweets.csv\")\n",
    "\n",
    "import re\n",
    "# using pandas .str.contains (Returns True/False list)\n",
    "display(tweets.loc[tweets['status'].str.contains('@')])\n",
    "\n",
    "# using pandas .str.extract (Returns extracted regex found)\n",
    "pattern = r\"(@\\w+)\"\n",
    "display(tweets['status'].str.extractall(pattern))\n",
    "\n",
    "# Using only re \n",
    "mentions = []\n",
    "\n",
    "for t in tweets.status:\n",
    "    ment = re.findall(pattern, t)\n",
    "    if ment != []:\n",
    "        mentions.append(ment)\n",
    "\n",
    "print(mentions)\n"
   ]
  },
  {
   "cell_type": "markdown",
   "metadata": {},
   "source": [
    "- Convert values between data types in R or Python."
   ]
  },
  {
   "cell_type": "code",
   "execution_count": 30,
   "metadata": {},
   "outputs": [
    {
     "name": "stdout",
     "output_type": "stream",
     "text": [
      "<class 'numpy.int64'>\n",
      "<class 'str'>\n",
      "<class 'numpy.str_'>\n"
     ]
    }
   ],
   "source": [
    "# Using python built in methods\n",
    "print(type(tweets.id[0]))\n",
    "print(type(str(tweets.id[0])))\n",
    "\n",
    "# Using pandas\n",
    "\n",
    "print(type(tweets.id[0].astype(str)))"
   ]
  },
  {
   "cell_type": "markdown",
   "metadata": {},
   "source": [
    "- Clean categorical and text data by manipulating strings in R or Python"
   ]
  },
  {
   "cell_type": "code",
   "execution_count": 31,
   "metadata": {},
   "outputs": [
    {
     "data": {
      "text/plain": [
       "id         int64\n",
       "author    object\n",
       "status    object\n",
       "dtype: object"
      ]
     },
     "metadata": {},
     "output_type": "display_data"
    },
    {
     "data": {
      "text/plain": [
       "id                 int64\n",
       "author          category\n",
       "status            object\n",
       "status_clean      object\n",
       "dtype: object"
      ]
     },
     "metadata": {},
     "output_type": "display_data"
    }
   ],
   "source": [
    "# checking dtypes\n",
    "display(tweets.dtypes)\n",
    "\n",
    "# cleaning text data\n",
    "\n",
    "# to lowecase\n",
    "tweets['status_clean'] = tweets.status.str.lower()\n",
    "\n",
    "# removing punctuation, symbols and numbers \n",
    "tweets['status_clean'] = tweets.status_clean.str.replace(r\"[^\\w\\s]|\\d\", '', regex = True)\n",
    "\n",
    "# Changing author to categorical\n",
    "tweets['author'] = tweets.author.astype('category')\n",
    "\n",
    "# checking dtypes\n",
    "display(tweets.dtypes)"
   ]
  },
  {
   "cell_type": "markdown",
   "metadata": {},
   "source": [
    "- Clean date and time data in R or Python"
   ]
  },
  {
   "cell_type": "code",
   "execution_count": 32,
   "metadata": {},
   "outputs": [
    {
     "data": {
      "text/html": [
       "<div>\n",
       "<style scoped>\n",
       "    .dataframe tbody tr th:only-of-type {\n",
       "        vertical-align: middle;\n",
       "    }\n",
       "\n",
       "    .dataframe tbody tr th {\n",
       "        vertical-align: top;\n",
       "    }\n",
       "\n",
       "    .dataframe thead th {\n",
       "        text-align: right;\n",
       "    }\n",
       "</style>\n",
       "<table border=\"1\" class=\"dataframe\">\n",
       "  <thead>\n",
       "    <tr style=\"text-align: right;\">\n",
       "      <th></th>\n",
       "      <th>datetime_column</th>\n",
       "      <th>year</th>\n",
       "      <th>month</th>\n",
       "      <th>month_name</th>\n",
       "      <th>quarter</th>\n",
       "      <th>day</th>\n",
       "      <th>Holiday</th>\n",
       "      <th>day_name</th>\n",
       "      <th>day_of_week</th>\n",
       "      <th>hour</th>\n",
       "      <th>min</th>\n",
       "    </tr>\n",
       "  </thead>\n",
       "  <tbody>\n",
       "    <tr>\n",
       "      <th>0</th>\n",
       "      <td>2023-01-01 12:30:00</td>\n",
       "      <td>2023</td>\n",
       "      <td>1</td>\n",
       "      <td>January</td>\n",
       "      <td>1</td>\n",
       "      <td>1</td>\n",
       "      <td>0</td>\n",
       "      <td>Sunday</td>\n",
       "      <td>6</td>\n",
       "      <td>12</td>\n",
       "      <td>30</td>\n",
       "    </tr>\n",
       "    <tr>\n",
       "      <th>1</th>\n",
       "      <td>2023-01-02 12:30:00</td>\n",
       "      <td>2023</td>\n",
       "      <td>1</td>\n",
       "      <td>January</td>\n",
       "      <td>1</td>\n",
       "      <td>2</td>\n",
       "      <td>0</td>\n",
       "      <td>Monday</td>\n",
       "      <td>0</td>\n",
       "      <td>12</td>\n",
       "      <td>30</td>\n",
       "    </tr>\n",
       "    <tr>\n",
       "      <th>2</th>\n",
       "      <td>2023-01-03 12:30:00</td>\n",
       "      <td>2023</td>\n",
       "      <td>1</td>\n",
       "      <td>January</td>\n",
       "      <td>1</td>\n",
       "      <td>3</td>\n",
       "      <td>0</td>\n",
       "      <td>Tuesday</td>\n",
       "      <td>1</td>\n",
       "      <td>12</td>\n",
       "      <td>30</td>\n",
       "    </tr>\n",
       "    <tr>\n",
       "      <th>3</th>\n",
       "      <td>2023-01-04 12:30:00</td>\n",
       "      <td>2023</td>\n",
       "      <td>1</td>\n",
       "      <td>January</td>\n",
       "      <td>1</td>\n",
       "      <td>4</td>\n",
       "      <td>0</td>\n",
       "      <td>Wednesday</td>\n",
       "      <td>2</td>\n",
       "      <td>12</td>\n",
       "      <td>30</td>\n",
       "    </tr>\n",
       "    <tr>\n",
       "      <th>4</th>\n",
       "      <td>2023-01-05 12:30:00</td>\n",
       "      <td>2023</td>\n",
       "      <td>1</td>\n",
       "      <td>January</td>\n",
       "      <td>1</td>\n",
       "      <td>5</td>\n",
       "      <td>0</td>\n",
       "      <td>Thursday</td>\n",
       "      <td>3</td>\n",
       "      <td>12</td>\n",
       "      <td>30</td>\n",
       "    </tr>\n",
       "  </tbody>\n",
       "</table>\n",
       "</div>"
      ],
      "text/plain": [
       "      datetime_column  year  month month_name  quarter  day  Holiday  \\\n",
       "0 2023-01-01 12:30:00  2023      1    January        1    1        0   \n",
       "1 2023-01-02 12:30:00  2023      1    January        1    2        0   \n",
       "2 2023-01-03 12:30:00  2023      1    January        1    3        0   \n",
       "3 2023-01-04 12:30:00  2023      1    January        1    4        0   \n",
       "4 2023-01-05 12:30:00  2023      1    January        1    5        0   \n",
       "\n",
       "    day_name  day_of_week  hour  min  \n",
       "0     Sunday            6    12   30  \n",
       "1     Monday            0    12   30  \n",
       "2    Tuesday            1    12   30  \n",
       "3  Wednesday            2    12   30  \n",
       "4   Thursday            3    12   30  "
      ]
     },
     "execution_count": 32,
     "metadata": {},
     "output_type": "execute_result"
    }
   ],
   "source": [
    "from datetime import datetime, timedelta\n",
    "\n",
    "# Generate datetime range\n",
    "start_date = datetime(2023, 1, 1, hour=12, minute=30, second=0)\n",
    "end_date = start_date + timedelta(days=99)\n",
    "date_range = pd.date_range(start=start_date, end=end_date, freq='D')\n",
    "\n",
    "# Create a DataFrame with datetime objects\n",
    "date_time_df = pd.DataFrame({\n",
    "    'datetime_column': date_range,\n",
    "})\n",
    "\n",
    "import holidays\n",
    "\n",
    "holiday_list = holidays.UnitedStates()\n",
    "\n",
    "# Creating columns with specified dates\n",
    "date_time_df['year'] = date_time_df['datetime_column'].dt.year\n",
    "date_time_df['month'] = date_time_df['datetime_column'].dt.month\n",
    "date_time_df['month_name'] = date_time_df['datetime_column'].dt.month_name()\n",
    "date_time_df['quarter'] = date_time_df['datetime_column'].dt.quarter\n",
    "date_time_df['day'] = date_time_df['datetime_column'].dt.day\n",
    "date_time_df['Holiday'] = date_time_df.datetime_column.dt.date.isin(holiday_list).astype(int)\n",
    "date_time_df['day_name'] = date_time_df['datetime_column'].dt.day_name()\n",
    "date_time_df['day_of_week'] = date_time_df['datetime_column'].dt.weekday\n",
    "date_time_df['hour'] = date_time_df['datetime_column'].dt.hour\n",
    "date_time_df['min'] = date_time_df['datetime_column'].dt.minute\n",
    "\n",
    "\n",
    "date_time_df.head()"
   ]
  },
  {
   "cell_type": "markdown",
   "metadata": {},
   "source": [
    "## 2.3 Assess data quality and perform validation tasks"
   ]
  },
  {
   "cell_type": "markdown",
   "metadata": {},
   "source": [
    "- Identify and replace missing values using R or Python."
   ]
  },
  {
   "cell_type": "code",
   "execution_count": 33,
   "metadata": {},
   "outputs": [
    {
     "name": "stdout",
     "output_type": "stream",
     "text": [
      "Original mean\n",
      "A    49.468\n",
      "B    50.795\n",
      "C    49.792\n",
      "D    47.622\n",
      "E    49.958\n",
      "dtype: float64\n",
      "\n",
      "Count of missing values:\n"
     ]
    },
    {
     "data": {
      "text/plain": [
       "A    51\n",
       "B    51\n",
       "C    51\n",
       "D    51\n",
       "E    51\n",
       "dtype: int64"
      ]
     },
     "metadata": {},
     "output_type": "display_data"
    },
    {
     "name": "stdout",
     "output_type": "stream",
     "text": [
      "\n",
      "Inputed mean\n",
      "A    49.197050\n",
      "B    50.508000\n",
      "C    50.508000\n",
      "D    47.593256\n",
      "E    50.277134\n",
      "dtype: float64\n",
      "\n",
      "Count of missing values:\n"
     ]
    },
    {
     "data": {
      "text/plain": [
       "A    0\n",
       "B    0\n",
       "C    0\n",
       "D    0\n",
       "E    0\n",
       "dtype: int64"
      ]
     },
     "metadata": {},
     "output_type": "display_data"
    }
   ],
   "source": [
    "# missing df\n",
    "# Create a NumPy array with shape (1000,5)\n",
    "data = np.random.randint(0, 100, (1000, 5))\n",
    "\n",
    "# Create a Pandas DataFrame from the NumPy array\n",
    "df = pd.DataFrame(data, columns=['A','B','C','D','E'])\n",
    "\n",
    "print('Original mean')\n",
    "print(np.mean(df, axis=0))\n",
    "\n",
    "# Set some of the values to missing\n",
    "df.loc[500:550, 'A'] = np.nan\n",
    "df.loc[250:300, 'B'] = np.nan\n",
    "df.loc[500:550, 'C'] = np.nan\n",
    "df.loc[250:300, 'D'] = np.nan\n",
    "df.loc[500:550, 'E'] = np.nan\n",
    "\n",
    "# Check missing values\n",
    "print('\\nCount of missing values:')\n",
    "display(df.isna().sum())\n",
    "\n",
    "# Inputing using mean\n",
    "df['A'] = df['A'].fillna(np.nanmean(df.A))\n",
    "\n",
    "# Inputing using median\n",
    "df['B'] = df['B'].fillna(np.nanmedian(df.B))\n",
    "\n",
    "# Inputing using mode\n",
    "df['C'] = df['B'].fillna(df.C.mode())\n",
    "\n",
    "# Inputing using k-nearest\n",
    "from sklearn.impute import KNNImputer\n",
    "imputer = KNNImputer()\n",
    "imputer.fit(df['D'].values.reshape(-1,1))\n",
    "KNN_results = imputer.transform(df.D.values.reshape(-1,1))\n",
    "df['D'] = KNN_results\n",
    "\n",
    "# Inputing using bayesian methods\n",
    "from sklearn.experimental import enable_iterative_imputer\n",
    "from sklearn.impute import IterativeImputer #  default=BayesianRidge()\n",
    "imp_mean = IterativeImputer(random_state=0)\n",
    "bayesian_results = pd.DataFrame(imp_mean.fit_transform(df.E.values.reshape(-1,1)))\n",
    "df['E'] = bayesian_results\n",
    "\n",
    "print('\\nInputed mean')\n",
    "print(np.mean(df, axis=0))\n",
    "\n",
    "# Checking the missing values \n",
    "print('\\nCount of missing values:')\n",
    "display(df.isna().sum())"
   ]
  },
  {
   "cell_type": "markdown",
   "metadata": {},
   "source": [
    "- Perform different types of data validation tasks (e.g. consistency, constraints, range validation, uniqueness) using R or Python."
   ]
  },
  {
   "cell_type": "code",
   "execution_count": 34,
   "metadata": {},
   "outputs": [],
   "source": [
    "# data used for validation\n",
    "df = pd.DataFrame({\n",
    "    \"Name\": [\"John Doe\", \"Jane Doe\", \"John Smith\", \"Jane Smith\"],\n",
    "    \"Age\": [30, 25, 40, 35],\n",
    "    \"City\": [\"New York\", \"Los Angeles\", \"Chicago\", \"San Francisco\"],\n",
    "    \"State\": [\"NY\", \"CA\", \"IL\", \"CA\"],\n",
    "    \"Not_unique\" : [1,1,1,1]\n",
    "})"
   ]
  },
  {
   "cell_type": "markdown",
   "metadata": {},
   "source": [
    "-  Consistency\n",
    "\n",
    "This type of validation checks to see if the data is consistent within itself. For example, you could check to see if all of the values in a column are of the same data type, or if all of the values in a column fall within a certain range.\n"
   ]
  },
  {
   "cell_type": "code",
   "execution_count": 35,
   "metadata": {},
   "outputs": [
    {
     "data": {
      "text/plain": [
       "False"
      ]
     },
     "execution_count": 35,
     "metadata": {},
     "output_type": "execute_result"
    }
   ],
   "source": [
    "def check_consistency(data_values, expected_type):\n",
    "    \"\"\"Checks to see if all of the values in a column are of the same data type.\"\"\"\n",
    "    for v in data_values:\n",
    "        tp = type(v)\n",
    "        if tp != expected_type:\n",
    "            return False\n",
    "        else:\n",
    "            return True    \n",
    "\n",
    "check_consistency(df.Age, float)"
   ]
  },
  {
   "cell_type": "markdown",
   "metadata": {},
   "source": [
    "- Constraints\n",
    "\n",
    "This type of validation checks to see if the data meets certain constraints. For example, you could check to see if a value is greater than or equal to a certain threshold, or if a value is a valid email address."
   ]
  },
  {
   "cell_type": "code",
   "execution_count": 36,
   "metadata": {},
   "outputs": [
    {
     "data": {
      "text/plain": [
       "False"
      ]
     },
     "execution_count": 36,
     "metadata": {},
     "output_type": "execute_result"
    }
   ],
   "source": [
    "def check_constrain(data_values, constrain):\n",
    "    for v in data_values:\n",
    "        if v <= constrain :\n",
    "            return True\n",
    "        else:\n",
    "            return False\n",
    "\n",
    "check_constrain(df.Age, 5)"
   ]
  },
  {
   "cell_type": "markdown",
   "metadata": {},
   "source": [
    "- Range validation\n",
    "\n",
    "This type of validation checks to see if the data falls within a certain range. For example, you could check to see if a value is between 0 and 100, or if a value is between a certain minimum and maximum value."
   ]
  },
  {
   "cell_type": "code",
   "execution_count": 37,
   "metadata": {},
   "outputs": [
    {
     "data": {
      "text/plain": [
       "True"
      ]
     },
     "execution_count": 37,
     "metadata": {},
     "output_type": "execute_result"
    }
   ],
   "source": [
    "def check_range(data_values, dt_range):\n",
    "    for v in data_values:\n",
    "        if v <= max(dt_range) | v >= min(dt_range):\n",
    "            return True\n",
    "        else:\n",
    "            return False\n",
    "\n",
    "check_range(df.Age,[0,100])"
   ]
  },
  {
   "cell_type": "markdown",
   "metadata": {},
   "source": [
    "- Uniqueness\n",
    "\n",
    "This type of validation checks to see if the data is unique. For example, you could check to see if each value in a column is unique, or if each value in a column is unique within a certain group of values."
   ]
  },
  {
   "cell_type": "code",
   "execution_count": 38,
   "metadata": {},
   "outputs": [
    {
     "data": {
      "text/plain": [
       "False"
      ]
     },
     "execution_count": 38,
     "metadata": {},
     "output_type": "execute_result"
    }
   ],
   "source": [
    "df.Not_unique.is_unique"
   ]
  },
  {
   "cell_type": "code",
   "execution_count": 39,
   "metadata": {},
   "outputs": [
    {
     "data": {
      "text/plain": [
       "[dtype('O'), dtype('int64'), dtype('O'), dtype('O'), dtype('int64')]"
      ]
     },
     "execution_count": 39,
     "metadata": {},
     "output_type": "execute_result"
    }
   ],
   "source": [
    "list(df.dtypes)"
   ]
  },
  {
   "cell_type": "markdown",
   "metadata": {},
   "source": [
    "- Identify and validate data types in a data set using Python."
   ]
  },
  {
   "cell_type": "code",
   "execution_count": 40,
   "metadata": {},
   "outputs": [
    {
     "data": {
      "text/plain": [
       "False"
      ]
     },
     "execution_count": 40,
     "metadata": {},
     "output_type": "execute_result"
    }
   ],
   "source": [
    "def check_dtype(data_type, expected):\n",
    "    if data_type == expected:\n",
    "        return True\n",
    "    else:\n",
    "        return False\n",
    "\n",
    "dtype = ['O','int64','str', 'O', 'int64']\n",
    "\n",
    "check_dtype(dtype, list(df.dtypes))"
   ]
  },
  {
   "cell_type": "markdown",
   "metadata": {},
   "source": [
    "## 2.4 Collect data from non-standard formats by modifying existing code"
   ]
  },
  {
   "cell_type": "markdown",
   "metadata": {},
   "source": [
    "- Adapt provided code to import data from an API using Python."
   ]
  },
  {
   "cell_type": "code",
   "execution_count": 41,
   "metadata": {},
   "outputs": [
    {
     "name": "stdout",
     "output_type": "stream",
     "text": [
      "{'abertura': '20/06/1991', 'situacao': 'ATIVA', 'tipo': 'MATRIZ', 'nome': 'SECRETARIA DE ESTADO DE TRIBUTACAO', 'fantasia': 'SECRETARIA DE ESTADO DE TRIBUTACAO GAB SECRETARIO', 'porte': 'DEMAIS', 'natureza_juridica': '102-3 - Órgão Público do Poder Executivo Estadual ou do Distrito Federal', 'atividade_principal': [{'code': '84.11-6-00', 'text': 'Administração pública em geral'}], 'qsa': [{'nome': 'JOSE JACAUNA DE ASSUNCAO', 'qual': '05-Administrador'}], 'logradouro': 'LOC CENTRO ADMINISTRATIVO', 'numero': 'SN', 'municipio': 'NATAL', 'bairro': 'LAGOA NOVA', 'uf': 'RN', 'cep': '59.037-155', 'data_situacao': '27/02/1999', 'efr': 'RIO GRANDE DO NORTE', 'cnpj': '24.519.654/0001-94', 'ultima_atualizacao': '2023-07-09T23:59:59.000Z', 'status': 'OK', 'complemento': '', 'email': '', 'telefone': '', 'motivo_situacao': '', 'situacao_especial': '', 'data_situacao_especial': '', 'atividades_secundarias': [{'code': '00.00-0-00', 'text': 'Não informada'}], 'capital_social': '0.00', 'extra': {}, 'billing': {'free': True, 'database': True}}\n"
     ]
    }
   ],
   "source": [
    "import requests\n",
    "\n",
    "url = 'https://receitaws.com.br/v1/cnpj/' # format = https://receitaws.com.br/v1/cnpj/{cnpj}\n",
    "\n",
    "cnpj = '24519654000194'\n",
    "\n",
    "response = requests.get(url+cnpj)\n",
    "\n",
    "if response.status_code == 200:\n",
    "    data = response.json()\n",
    "    print(data)\n",
    "else:\n",
    "    print(response.status_code)"
   ]
  },
  {
   "cell_type": "markdown",
   "metadata": {},
   "source": [
    "-  Identify the structure of HTML and JSON data and parse them into a usable format for data processing and analysis using Python."
   ]
  },
  {
   "cell_type": "code",
   "execution_count": 42,
   "metadata": {},
   "outputs": [
    {
     "data": {
      "text/html": [
       "<div>\n",
       "<style scoped>\n",
       "    .dataframe tbody tr th:only-of-type {\n",
       "        vertical-align: middle;\n",
       "    }\n",
       "\n",
       "    .dataframe tbody tr th {\n",
       "        vertical-align: top;\n",
       "    }\n",
       "\n",
       "    .dataframe thead th {\n",
       "        text-align: right;\n",
       "    }\n",
       "</style>\n",
       "<table border=\"1\" class=\"dataframe\">\n",
       "  <thead>\n",
       "    <tr style=\"text-align: right;\">\n",
       "      <th></th>\n",
       "      <th>abertura</th>\n",
       "      <th>situacao</th>\n",
       "      <th>tipo</th>\n",
       "      <th>nome</th>\n",
       "      <th>fantasia</th>\n",
       "      <th>porte</th>\n",
       "      <th>natureza_juridica</th>\n",
       "      <th>atividade_principal</th>\n",
       "      <th>qsa</th>\n",
       "      <th>logradouro</th>\n",
       "      <th>...</th>\n",
       "      <th>complemento</th>\n",
       "      <th>email</th>\n",
       "      <th>telefone</th>\n",
       "      <th>motivo_situacao</th>\n",
       "      <th>situacao_especial</th>\n",
       "      <th>data_situacao_especial</th>\n",
       "      <th>atividades_secundarias</th>\n",
       "      <th>capital_social</th>\n",
       "      <th>extra</th>\n",
       "      <th>billing</th>\n",
       "    </tr>\n",
       "  </thead>\n",
       "  <tbody>\n",
       "    <tr>\n",
       "      <th>1</th>\n",
       "      <td>20/06/1991</td>\n",
       "      <td>ATIVA</td>\n",
       "      <td>MATRIZ</td>\n",
       "      <td>SECRETARIA DE ESTADO DE TRIBUTACAO</td>\n",
       "      <td>SECRETARIA DE ESTADO DE TRIBUTACAO GAB SECRETARIO</td>\n",
       "      <td>DEMAIS</td>\n",
       "      <td>102-3 - Órgão Público do Poder Executivo Estad...</td>\n",
       "      <td>[{'code': '84.11-6-00', 'text': 'Administração...</td>\n",
       "      <td>[{'nome': 'JOSE JACAUNA DE ASSUNCAO', 'qual': ...</td>\n",
       "      <td>LOC CENTRO ADMINISTRATIVO</td>\n",
       "      <td>...</td>\n",
       "      <td></td>\n",
       "      <td></td>\n",
       "      <td></td>\n",
       "      <td></td>\n",
       "      <td></td>\n",
       "      <td></td>\n",
       "      <td>[{'code': '00.00-0-00', 'text': 'Não informada'}]</td>\n",
       "      <td>0.00</td>\n",
       "      <td>{}</td>\n",
       "      <td>{'free': True, 'database': True}</td>\n",
       "    </tr>\n",
       "  </tbody>\n",
       "</table>\n",
       "<p>1 rows × 30 columns</p>\n",
       "</div>"
      ],
      "text/plain": [
       "0    abertura situacao    tipo                                nome  \\\n",
       "1  20/06/1991    ATIVA  MATRIZ  SECRETARIA DE ESTADO DE TRIBUTACAO   \n",
       "\n",
       "0                                           fantasia   porte  \\\n",
       "1  SECRETARIA DE ESTADO DE TRIBUTACAO GAB SECRETARIO  DEMAIS   \n",
       "\n",
       "0                                  natureza_juridica  \\\n",
       "1  102-3 - Órgão Público do Poder Executivo Estad...   \n",
       "\n",
       "0                                atividade_principal  \\\n",
       "1  [{'code': '84.11-6-00', 'text': 'Administração...   \n",
       "\n",
       "0                                                qsa  \\\n",
       "1  [{'nome': 'JOSE JACAUNA DE ASSUNCAO', 'qual': ...   \n",
       "\n",
       "0                 logradouro  ... complemento email telefone motivo_situacao  \\\n",
       "1  LOC CENTRO ADMINISTRATIVO  ...                                              \n",
       "\n",
       "0 situacao_especial data_situacao_especial  \\\n",
       "1                                            \n",
       "\n",
       "0                             atividades_secundarias capital_social extra  \\\n",
       "1  [{'code': '00.00-0-00', 'text': 'Não informada'}]           0.00    {}   \n",
       "\n",
       "0                           billing  \n",
       "1  {'free': True, 'database': True}  \n",
       "\n",
       "[1 rows x 30 columns]"
      ]
     },
     "execution_count": 42,
     "metadata": {},
     "output_type": "execute_result"
    }
   ],
   "source": [
    "# The data from this api is returned in a json format, an is parsed into json using the .json method of the response object\n",
    "# Passing this data to a pandas DF\n",
    "import pandas as pd\n",
    "\n",
    "n_data = {}\n",
    "for item in data:\n",
    "    n_data[item] = data[item]\n",
    "\n",
    "# treating n_data to work on a pandas df\n",
    "\n",
    "cols = list(n_data.keys())\n",
    "vals = list(n_data.items())\n",
    "\n",
    "res_df = pd.DataFrame(data=vals).T\n",
    "res_df.columns = res_df.iloc[0,:]\n",
    "res_df.drop(index=0)"
   ]
  }
 ],
 "metadata": {
  "kernelspec": {
   "display_name": "estudos",
   "language": "python",
   "name": "python3"
  },
  "language_info": {
   "codemirror_mode": {
    "name": "ipython",
    "version": 3
   },
   "file_extension": ".py",
   "mimetype": "text/x-python",
   "name": "python",
   "nbconvert_exporter": "python",
   "pygments_lexer": "ipython3",
   "version": "3.11.3"
  },
  "orig_nbformat": 4
 },
 "nbformat": 4,
 "nbformat_minor": 2
}
