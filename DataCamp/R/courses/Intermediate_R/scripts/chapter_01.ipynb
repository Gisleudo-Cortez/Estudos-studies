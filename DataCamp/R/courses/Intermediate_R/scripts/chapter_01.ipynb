{
 "cells": [
  {
   "cell_type": "code",
   "execution_count": 12,
   "metadata": {
    "vscode": {
     "languageId": "r"
    }
   },
   "outputs": [
    {
     "data": {
      "text/html": [
       "'\\nEquality\\n\\nThe most basic form of comparison is equality. Let\\'s briefly recap its syntax. The following statements all evaluate to TRUE (feel free to try them out in the console).\\n\\n3 == (2 + 1)\\nintermediate != r\\nTRUE != FALSE\\nRchitect != rchitect\\n\\nNotice from the last expression that R is case sensitive: R is not equal to r. Keep this in mind when solving the exercises in this chapter!\\n'"
      ],
      "text/latex": [
       "'\\textbackslash{}nEquality\\textbackslash{}n\\textbackslash{}nThe most basic form of comparison is equality. Let\\textbackslash{}'s briefly recap its syntax. The following statements all evaluate to TRUE (feel free to try them out in the console).\\textbackslash{}n\\textbackslash{}n3 == (2 + 1)\\textbackslash{}nintermediate != r\\textbackslash{}nTRUE != FALSE\\textbackslash{}nRchitect != rchitect\\textbackslash{}n\\textbackslash{}nNotice from the last expression that R is case sensitive: R is not equal to r. Keep this in mind when solving the exercises in this chapter!\\textbackslash{}n'"
      ],
      "text/markdown": [
       "'\\nEquality\\n\\nThe most basic form of comparison is equality. Let\\'s briefly recap its syntax. The following statements all evaluate to TRUE (feel free to try them out in the console).\\n\\n3 == (2 + 1)\\nintermediate != r\\nTRUE != FALSE\\nRchitect != rchitect\\n\\nNotice from the last expression that R is case sensitive: R is not equal to r. Keep this in mind when solving the exercises in this chapter!\\n'"
      ],
      "text/plain": [
       "[1] \"\\nEquality\\n\\nThe most basic form of comparison is equality. Let's briefly recap its syntax. The following statements all evaluate to TRUE (feel free to try them out in the console).\\n\\n3 == (2 + 1)\\nintermediate != r\\nTRUE != FALSE\\nRchitect != rchitect\\n\\nNotice from the last expression that R is case sensitive: R is not equal to r. Keep this in mind when solving the exercises in this chapter!\\n\""
      ]
     },
     "metadata": {},
     "output_type": "display_data"
    },
    {
     "data": {
      "text/html": [
       "<span style=white-space:pre-wrap>'\\n\\n    In the editor on the right, write R code to see if TRUE equals FALSE.\\n    Likewise, check if -6 * 14 is not equal to 17 - 101.\\n    Next up: comparison of character strings. Ask R whether the strings useR and user are equal.\\n    Finally, find out what happens if you compare logicals to numerics: are TRUE and 1 equal?\\n\\n'</span>"
      ],
      "text/latex": [
       "'\\textbackslash{}n\\textbackslash{}n    In the editor on the right, write R code to see if TRUE equals FALSE.\\textbackslash{}n    Likewise, check if -6 * 14 is not equal to 17 - 101.\\textbackslash{}n    Next up: comparison of character strings. Ask R whether the strings useR and user are equal.\\textbackslash{}n    Finally, find out what happens if you compare logicals to numerics: are TRUE and 1 equal?\\textbackslash{}n\\textbackslash{}n'"
      ],
      "text/markdown": [
       "<span style=white-space:pre-wrap>'\\n\\n    In the editor on the right, write R code to see if TRUE equals FALSE.\\n    Likewise, check if -6 * 14 is not equal to 17 - 101.\\n    Next up: comparison of character strings. Ask R whether the strings useR and user are equal.\\n    Finally, find out what happens if you compare logicals to numerics: are TRUE and 1 equal?\\n\\n'</span>"
      ],
      "text/plain": [
       "[1] \"\\n\\n    In the editor on the right, write R code to see if TRUE equals FALSE.\\n    Likewise, check if -6 * 14 is not equal to 17 - 101.\\n    Next up: comparison of character strings. Ask R whether the strings useR and user are equal.\\n    Finally, find out what happens if you compare logicals to numerics: are TRUE and 1 equal?\\n\\n\""
      ]
     },
     "metadata": {},
     "output_type": "display_data"
    },
    {
     "data": {
      "text/html": [
       "FALSE"
      ],
      "text/latex": [
       "FALSE"
      ],
      "text/markdown": [
       "FALSE"
      ],
      "text/plain": [
       "[1] FALSE"
      ]
     },
     "metadata": {},
     "output_type": "display_data"
    },
    {
     "data": {
      "text/html": [
       "FALSE"
      ],
      "text/latex": [
       "FALSE"
      ],
      "text/markdown": [
       "FALSE"
      ],
      "text/plain": [
       "[1] FALSE"
      ]
     },
     "metadata": {},
     "output_type": "display_data"
    },
    {
     "data": {
      "text/html": [
       "FALSE"
      ],
      "text/latex": [
       "FALSE"
      ],
      "text/markdown": [
       "FALSE"
      ],
      "text/plain": [
       "[1] FALSE"
      ]
     },
     "metadata": {},
     "output_type": "display_data"
    },
    {
     "data": {
      "text/html": [
       "TRUE"
      ],
      "text/latex": [
       "TRUE"
      ],
      "text/markdown": [
       "TRUE"
      ],
      "text/plain": [
       "[1] TRUE"
      ]
     },
     "metadata": {},
     "output_type": "display_data"
    },
    {
     "data": {
      "text/html": [
       "'\\nAwesome! Since TRUE coerces to 1 under the hood, TRUE == 1 evaluates to TRUE. Make sure not to mix up == (comparison) and = (assignment), == is what need to check the equality of R objects. \\n'"
      ],
      "text/latex": [
       "'\\textbackslash{}nAwesome! Since TRUE coerces to 1 under the hood, TRUE == 1 evaluates to TRUE. Make sure not to mix up == (comparison) and = (assignment), == is what need to check the equality of R objects. \\textbackslash{}n'"
      ],
      "text/markdown": [
       "'\\nAwesome! Since TRUE coerces to 1 under the hood, TRUE == 1 evaluates to TRUE. Make sure not to mix up == (comparison) and = (assignment), == is what need to check the equality of R objects. \\n'"
      ],
      "text/plain": [
       "[1] \"\\nAwesome! Since TRUE coerces to 1 under the hood, TRUE == 1 evaluates to TRUE. Make sure not to mix up == (comparison) and = (assignment), == is what need to check the equality of R objects. \\n\""
      ]
     },
     "metadata": {},
     "output_type": "display_data"
    }
   ],
   "source": [
    "# exercise 01\n",
    "\n",
    "\"\n",
    "Equality\n",
    "\n",
    "The most basic form of comparison is equality. Let's briefly recap its syntax. The following statements all evaluate to TRUE (feel free to try them out in the console).\n",
    "\n",
    "3 == (2 + 1)\n",
    "intermediate != r\n",
    "TRUE != FALSE\n",
    "Rchitect != rchitect\n",
    "\n",
    "Notice from the last expression that R is case sensitive: R is not equal to r. Keep this in mind when solving the exercises in this chapter!\n",
    "\"\n",
    "\n",
    "# Instructions\n",
    "\n",
    "\"\n",
    "\n",
    "    In the editor on the right, write R code to see if TRUE equals FALSE.\n",
    "    Likewise, check if -6 * 14 is not equal to 17 - 101.\n",
    "    Next up: comparison of character strings. Ask R whether the strings useR and user are equal.\n",
    "    Finally, find out what happens if you compare logicals to numerics: are TRUE and 1 equal?\n",
    "\n",
    "\"\n",
    "\n",
    "# solution\n",
    "\n",
    "# Comparison of logicals\n",
    "TRUE == FALSE\n",
    "\n",
    "# Comparison of numerics\n",
    "-6*14 != 17-101\n",
    "\n",
    "# Comparison of character strings\n",
    "\"useR\" == \"user\"\n",
    "\n",
    "# Compare a logical with a numeric\n",
    "TRUE == 1\n",
    "\n",
    "#----------------------------------#\n",
    "\n",
    "# Conclusion\n",
    "\n",
    "\"\n",
    "Awesome! Since TRUE coerces to 1 under the hood, TRUE == 1 evaluates to TRUE. Make sure not to mix up == (comparison) and = (assignment), == is what need to check the equality of R objects. \n",
    "\""
   ]
  },
  {
   "cell_type": "code",
   "execution_count": 13,
   "metadata": {
    "tags": [],
    "vscode": {
     "languageId": "r"
    }
   },
   "outputs": [
    {
     "data": {
      "text/html": [
       "'\\nGreater and less than\\n\\nApart from equality operators, Filip also introduced the less than and greater than operators: &lt; and &gt;. You can also add an equal sign to express less than or equal to or greater than or equal to, respectively. Have a look at the following R expressions, that all evaluate to FALSE:\\n\\n(1 + 2) &gt; 4\\ndog &lt; Cats\\nTRUE &lt;= FALSE\\n\\nRemember that for string comparison, R determines the greater than relationship based on alphabetical order. Also, keep in mind that TRUE is treated as 1 for arithmetic, and FALSE is treated as 0. Therefore, FALSE &lt; TRUE is TRUE.\\n'"
      ],
      "text/latex": [
       "'\\textbackslash{}nGreater and less than\\textbackslash{}n\\textbackslash{}nApart from equality operators, Filip also introduced the less than and greater than operators: < and >. You can also add an equal sign to express less than or equal to or greater than or equal to, respectively. Have a look at the following R expressions, that all evaluate to FALSE:\\textbackslash{}n\\textbackslash{}n(1 + 2) > 4\\textbackslash{}ndog < Cats\\textbackslash{}nTRUE <= FALSE\\textbackslash{}n\\textbackslash{}nRemember that for string comparison, R determines the greater than relationship based on alphabetical order. Also, keep in mind that TRUE is treated as 1 for arithmetic, and FALSE is treated as 0. Therefore, FALSE < TRUE is TRUE.\\textbackslash{}n'"
      ],
      "text/markdown": [
       "'\\nGreater and less than\\n\\nApart from equality operators, Filip also introduced the less than and greater than operators: &lt; and &gt;. You can also add an equal sign to express less than or equal to or greater than or equal to, respectively. Have a look at the following R expressions, that all evaluate to FALSE:\\n\\n(1 + 2) &gt; 4\\ndog &lt; Cats\\nTRUE &lt;= FALSE\\n\\nRemember that for string comparison, R determines the greater than relationship based on alphabetical order. Also, keep in mind that TRUE is treated as 1 for arithmetic, and FALSE is treated as 0. Therefore, FALSE &lt; TRUE is TRUE.\\n'"
      ],
      "text/plain": [
       "[1] \"\\nGreater and less than\\n\\nApart from equality operators, Filip also introduced the less than and greater than operators: < and >. You can also add an equal sign to express less than or equal to or greater than or equal to, respectively. Have a look at the following R expressions, that all evaluate to FALSE:\\n\\n(1 + 2) > 4\\ndog < Cats\\nTRUE <= FALSE\\n\\nRemember that for string comparison, R determines the greater than relationship based on alphabetical order. Also, keep in mind that TRUE is treated as 1 for arithmetic, and FALSE is treated as 0. Therefore, FALSE < TRUE is TRUE.\\n\""
      ]
     },
     "metadata": {},
     "output_type": "display_data"
    },
    {
     "data": {
      "text/html": [
       "<span style=white-space:pre-wrap>'\\nWrite R expressions to check whether:\\n\\n    -6 * 5 + 2 is greater than or equal to -10 + 1.\\n    raining is less than or equal to raining dogs.\\n    TRUE is greater than FALSE.\\n\\n'</span>"
      ],
      "text/latex": [
       "'\\textbackslash{}nWrite R expressions to check whether:\\textbackslash{}n\\textbackslash{}n    -6 * 5 + 2 is greater than or equal to -10 + 1.\\textbackslash{}n    raining is less than or equal to raining dogs.\\textbackslash{}n    TRUE is greater than FALSE.\\textbackslash{}n\\textbackslash{}n'"
      ],
      "text/markdown": [
       "<span style=white-space:pre-wrap>'\\nWrite R expressions to check whether:\\n\\n    -6 * 5 + 2 is greater than or equal to -10 + 1.\\n    raining is less than or equal to raining dogs.\\n    TRUE is greater than FALSE.\\n\\n'</span>"
      ],
      "text/plain": [
       "[1] \"\\nWrite R expressions to check whether:\\n\\n    -6 * 5 + 2 is greater than or equal to -10 + 1.\\n    raining is less than or equal to raining dogs.\\n    TRUE is greater than FALSE.\\n\\n\""
      ]
     },
     "metadata": {},
     "output_type": "display_data"
    },
    {
     "data": {
      "text/html": [
       "FALSE"
      ],
      "text/latex": [
       "FALSE"
      ],
      "text/markdown": [
       "FALSE"
      ],
      "text/plain": [
       "[1] FALSE"
      ]
     },
     "metadata": {},
     "output_type": "display_data"
    },
    {
     "data": {
      "text/html": [
       "TRUE"
      ],
      "text/latex": [
       "TRUE"
      ],
      "text/markdown": [
       "TRUE"
      ],
      "text/plain": [
       "[1] TRUE"
      ]
     },
     "metadata": {},
     "output_type": "display_data"
    },
    {
     "data": {
      "text/html": [
       "TRUE"
      ],
      "text/latex": [
       "TRUE"
      ],
      "text/markdown": [
       "TRUE"
      ],
      "text/plain": [
       "[1] TRUE"
      ]
     },
     "metadata": {},
     "output_type": "display_data"
    },
    {
     "data": {
      "text/html": [
       "'\\nGreat job! Make sure to have a look at the console output to see if R returns the results you expected. \\n'"
      ],
      "text/latex": [
       "'\\textbackslash{}nGreat job! Make sure to have a look at the console output to see if R returns the results you expected. \\textbackslash{}n'"
      ],
      "text/markdown": [
       "'\\nGreat job! Make sure to have a look at the console output to see if R returns the results you expected. \\n'"
      ],
      "text/plain": [
       "[1] \"\\nGreat job! Make sure to have a look at the console output to see if R returns the results you expected. \\n\""
      ]
     },
     "metadata": {},
     "output_type": "display_data"
    }
   ],
   "source": [
    "# exercise 02\n",
    "\n",
    "\"\n",
    "Greater and less than\n",
    "\n",
    "Apart from equality operators, Filip also introduced the less than and greater than operators: < and >. You can also add an equal sign to express less than or equal to or greater than or equal to, respectively. Have a look at the following R expressions, that all evaluate to FALSE:\n",
    "\n",
    "(1 + 2) > 4\n",
    "dog < Cats\n",
    "TRUE <= FALSE\n",
    "\n",
    "Remember that for string comparison, R determines the greater than relationship based on alphabetical order. Also, keep in mind that TRUE is treated as 1 for arithmetic, and FALSE is treated as 0. Therefore, FALSE < TRUE is TRUE.\n",
    "\"\n",
    "\n",
    "# Instructions\n",
    "\n",
    "\"\n",
    "Write R expressions to check whether:\n",
    "\n",
    "    -6 * 5 + 2 is greater than or equal to -10 + 1.\n",
    "    raining is less than or equal to raining dogs.\n",
    "    TRUE is greater than FALSE.\n",
    "\n",
    "\"\n",
    "\n",
    "# solution\n",
    "\n",
    "# Comparison of numerics\n",
    "-6*5+2 >= -10+1\n",
    "\n",
    "# Comparison of character strings\n",
    "\"raining\" <= \"raining dogs\"\n",
    "\n",
    "# Comparison of logicals\n",
    "TRUE > FALSE\n",
    "\n",
    "#----------------------------------#\n",
    "\n",
    "# Conclusion\n",
    "\n",
    "\"\n",
    "Great job! Make sure to have a look at the console output to see if R returns the results you expected. \n",
    "\""
   ]
  },
  {
   "cell_type": "code",
   "execution_count": 14,
   "metadata": {
    "tags": [],
    "vscode": {
     "languageId": "r"
    }
   },
   "outputs": [
    {
     "data": {
      "text/html": [
       "'\\nCompare vectors\\n\\nYou are already aware that R is very good with vectors. Without having to change anything about the syntax, R\\'s relational operators also work on vectors.\\n\\nLet\\'s go back to the example that was started in the video. You want to figure out whether your activity on social media platforms have paid off and decide to look at your results for LinkedIn and Facebook. The sample code in the editor initializes the vectors linkedin and facebook. Each of the vectors contains the number of profile views your LinkedIn and Facebook profiles had over the last seven days.\\n'"
      ],
      "text/latex": [
       "'\\textbackslash{}nCompare vectors\\textbackslash{}n\\textbackslash{}nYou are already aware that R is very good with vectors. Without having to change anything about the syntax, R\\textbackslash{}'s relational operators also work on vectors.\\textbackslash{}n\\textbackslash{}nLet\\textbackslash{}'s go back to the example that was started in the video. You want to figure out whether your activity on social media platforms have paid off and decide to look at your results for LinkedIn and Facebook. The sample code in the editor initializes the vectors linkedin and facebook. Each of the vectors contains the number of profile views your LinkedIn and Facebook profiles had over the last seven days.\\textbackslash{}n'"
      ],
      "text/markdown": [
       "'\\nCompare vectors\\n\\nYou are already aware that R is very good with vectors. Without having to change anything about the syntax, R\\'s relational operators also work on vectors.\\n\\nLet\\'s go back to the example that was started in the video. You want to figure out whether your activity on social media platforms have paid off and decide to look at your results for LinkedIn and Facebook. The sample code in the editor initializes the vectors linkedin and facebook. Each of the vectors contains the number of profile views your LinkedIn and Facebook profiles had over the last seven days.\\n'"
      ],
      "text/plain": [
       "[1] \"\\nCompare vectors\\n\\nYou are already aware that R is very good with vectors. Without having to change anything about the syntax, R's relational operators also work on vectors.\\n\\nLet's go back to the example that was started in the video. You want to figure out whether your activity on social media platforms have paid off and decide to look at your results for LinkedIn and Facebook. The sample code in the editor initializes the vectors linkedin and facebook. Each of the vectors contains the number of profile views your LinkedIn and Facebook profiles had over the last seven days.\\n\""
      ]
     },
     "metadata": {},
     "output_type": "display_data"
    },
    {
     "data": {
      "text/html": [
       "<span style=white-space:pre-wrap>'\\nUsing relational operators, find a logical answer, i.e. TRUE or FALSE, for the following questions:\\n\\n    On which days did the number of LinkedIn profile views exceed 15?\\n    When was your LinkedIn profile viewed only 5 times or fewer?\\n    When was your LinkedIn profile visited more often than your Facebook profile?\\n\\n\\n'</span>"
      ],
      "text/latex": [
       "'\\textbackslash{}nUsing relational operators, find a logical answer, i.e. TRUE or FALSE, for the following questions:\\textbackslash{}n\\textbackslash{}n    On which days did the number of LinkedIn profile views exceed 15?\\textbackslash{}n    When was your LinkedIn profile viewed only 5 times or fewer?\\textbackslash{}n    When was your LinkedIn profile visited more often than your Facebook profile?\\textbackslash{}n\\textbackslash{}n\\textbackslash{}n'"
      ],
      "text/markdown": [
       "<span style=white-space:pre-wrap>'\\nUsing relational operators, find a logical answer, i.e. TRUE or FALSE, for the following questions:\\n\\n    On which days did the number of LinkedIn profile views exceed 15?\\n    When was your LinkedIn profile viewed only 5 times or fewer?\\n    When was your LinkedIn profile visited more often than your Facebook profile?\\n\\n\\n'</span>"
      ],
      "text/plain": [
       "[1] \"\\nUsing relational operators, find a logical answer, i.e. TRUE or FALSE, for the following questions:\\n\\n    On which days did the number of LinkedIn profile views exceed 15?\\n    When was your LinkedIn profile viewed only 5 times or fewer?\\n    When was your LinkedIn profile visited more often than your Facebook profile?\\n\\n\\n\""
      ]
     },
     "metadata": {},
     "output_type": "display_data"
    },
    {
     "data": {
      "text/html": [
       "<style>\n",
       ".list-inline {list-style: none; margin:0; padding: 0}\n",
       ".list-inline>li {display: inline-block}\n",
       ".list-inline>li:not(:last-child)::after {content: \"\\00b7\"; padding: 0 .5ex}\n",
       "</style>\n",
       "<ol class=list-inline><li>TRUE</li><li>FALSE</li><li>FALSE</li><li>FALSE</li><li>FALSE</li><li>TRUE</li><li>FALSE</li></ol>\n"
      ],
      "text/latex": [
       "\\begin{enumerate*}\n",
       "\\item TRUE\n",
       "\\item FALSE\n",
       "\\item FALSE\n",
       "\\item FALSE\n",
       "\\item FALSE\n",
       "\\item TRUE\n",
       "\\item FALSE\n",
       "\\end{enumerate*}\n"
      ],
      "text/markdown": [
       "1. TRUE\n",
       "2. FALSE\n",
       "3. FALSE\n",
       "4. FALSE\n",
       "5. FALSE\n",
       "6. TRUE\n",
       "7. FALSE\n",
       "\n",
       "\n"
      ],
      "text/plain": [
       "[1]  TRUE FALSE FALSE FALSE FALSE  TRUE FALSE"
      ]
     },
     "metadata": {},
     "output_type": "display_data"
    },
    {
     "data": {
      "text/html": [
       "<style>\n",
       ".list-inline {list-style: none; margin:0; padding: 0}\n",
       ".list-inline>li {display: inline-block}\n",
       ".list-inline>li:not(:last-child)::after {content: \"\\00b7\"; padding: 0 .5ex}\n",
       "</style>\n",
       "<ol class=list-inline><li>FALSE</li><li>FALSE</li><li>FALSE</li><li>TRUE</li><li>TRUE</li><li>FALSE</li><li>FALSE</li></ol>\n"
      ],
      "text/latex": [
       "\\begin{enumerate*}\n",
       "\\item FALSE\n",
       "\\item FALSE\n",
       "\\item FALSE\n",
       "\\item TRUE\n",
       "\\item TRUE\n",
       "\\item FALSE\n",
       "\\item FALSE\n",
       "\\end{enumerate*}\n"
      ],
      "text/markdown": [
       "1. FALSE\n",
       "2. FALSE\n",
       "3. FALSE\n",
       "4. TRUE\n",
       "5. TRUE\n",
       "6. FALSE\n",
       "7. FALSE\n",
       "\n",
       "\n"
      ],
      "text/plain": [
       "[1] FALSE FALSE FALSE  TRUE  TRUE FALSE FALSE"
      ]
     },
     "metadata": {},
     "output_type": "display_data"
    },
    {
     "data": {
      "text/html": [
       "<style>\n",
       ".list-inline {list-style: none; margin:0; padding: 0}\n",
       ".list-inline>li {display: inline-block}\n",
       ".list-inline>li:not(:last-child)::after {content: \"\\00b7\"; padding: 0 .5ex}\n",
       "</style>\n",
       "<ol class=list-inline><li>FALSE</li><li>TRUE</li><li>TRUE</li><li>FALSE</li><li>FALSE</li><li>TRUE</li><li>FALSE</li></ol>\n"
      ],
      "text/latex": [
       "\\begin{enumerate*}\n",
       "\\item FALSE\n",
       "\\item TRUE\n",
       "\\item TRUE\n",
       "\\item FALSE\n",
       "\\item FALSE\n",
       "\\item TRUE\n",
       "\\item FALSE\n",
       "\\end{enumerate*}\n"
      ],
      "text/markdown": [
       "1. FALSE\n",
       "2. TRUE\n",
       "3. TRUE\n",
       "4. FALSE\n",
       "5. FALSE\n",
       "6. TRUE\n",
       "7. FALSE\n",
       "\n",
       "\n"
      ],
      "text/plain": [
       "[1] FALSE  TRUE  TRUE FALSE FALSE  TRUE FALSE"
      ]
     },
     "metadata": {},
     "output_type": "display_data"
    },
    {
     "data": {
      "text/html": [
       "'\\nWonderful! Have a look at the console output. Your LinkedIn profile was pretty popular on the sixth day, but less so on the fourth and fifth day. \\n'"
      ],
      "text/latex": [
       "'\\textbackslash{}nWonderful! Have a look at the console output. Your LinkedIn profile was pretty popular on the sixth day, but less so on the fourth and fifth day. \\textbackslash{}n'"
      ],
      "text/markdown": [
       "'\\nWonderful! Have a look at the console output. Your LinkedIn profile was pretty popular on the sixth day, but less so on the fourth and fifth day. \\n'"
      ],
      "text/plain": [
       "[1] \"\\nWonderful! Have a look at the console output. Your LinkedIn profile was pretty popular on the sixth day, but less so on the fourth and fifth day. \\n\""
      ]
     },
     "metadata": {},
     "output_type": "display_data"
    }
   ],
   "source": [
    "# exercise 03\n",
    "\n",
    "\"\n",
    "Compare vectors\n",
    "\n",
    "You are already aware that R is very good with vectors. Without having to change anything about the syntax, R's relational operators also work on vectors.\n",
    "\n",
    "Let's go back to the example that was started in the video. You want to figure out whether your activity on social media platforms have paid off and decide to look at your results for LinkedIn and Facebook. The sample code in the editor initializes the vectors linkedin and facebook. Each of the vectors contains the number of profile views your LinkedIn and Facebook profiles had over the last seven days.\n",
    "\"\n",
    "\n",
    "# Instructions\n",
    "\n",
    "\"\n",
    "Using relational operators, find a logical answer, i.e. TRUE or FALSE, for the following questions:\n",
    "\n",
    "    On which days did the number of LinkedIn profile views exceed 15?\n",
    "    When was your LinkedIn profile viewed only 5 times or fewer?\n",
    "    When was your LinkedIn profile visited more often than your Facebook profile?\n",
    "\n",
    "\n",
    "\"\n",
    "\n",
    "# solution\n",
    "\n",
    "# The linkedin and facebook vectors have already been created for you\n",
    "linkedin <- c(16, 9, 13, 5, 2, 17, 14)\n",
    "facebook <- c(17, 7, 5, 16, 8, 13, 14)\n",
    "\n",
    "# Popular days\n",
    "linkedin > 15\n",
    "\n",
    "# Quiet days\n",
    "linkedin <= 5\n",
    "\n",
    "# LinkedIn more popular than Facebook\n",
    "linkedin > facebook\n",
    "\n",
    "#----------------------------------#\n",
    "\n",
    "# Conclusion\n",
    "\n",
    "\"\n",
    "Wonderful! Have a look at the console output. Your LinkedIn profile was pretty popular on the sixth day, but less so on the fourth and fifth day. \n",
    "\""
   ]
  },
  {
   "cell_type": "code",
   "execution_count": 15,
   "metadata": {
    "tags": [],
    "vscode": {
     "languageId": "r"
    }
   },
   "outputs": [
    {
     "data": {
      "text/html": [
       "'\\nCompare matrices\\n\\nR\\'s ability to deal with different data structures for comparisons does not stop at vectors. Matrices and relational operators also work together seamlessly!\\n\\nInstead of in vectors (as in the previous exercise), the LinkedIn and Facebook data is now stored in a matrix called views. The first row contains the LinkedIn information; the second row the Facebook information. The original vectors facebook and linkedin are still available as well.\\n'"
      ],
      "text/latex": [
       "'\\textbackslash{}nCompare matrices\\textbackslash{}n\\textbackslash{}nR\\textbackslash{}'s ability to deal with different data structures for comparisons does not stop at vectors. Matrices and relational operators also work together seamlessly!\\textbackslash{}n\\textbackslash{}nInstead of in vectors (as in the previous exercise), the LinkedIn and Facebook data is now stored in a matrix called views. The first row contains the LinkedIn information; the second row the Facebook information. The original vectors facebook and linkedin are still available as well.\\textbackslash{}n'"
      ],
      "text/markdown": [
       "'\\nCompare matrices\\n\\nR\\'s ability to deal with different data structures for comparisons does not stop at vectors. Matrices and relational operators also work together seamlessly!\\n\\nInstead of in vectors (as in the previous exercise), the LinkedIn and Facebook data is now stored in a matrix called views. The first row contains the LinkedIn information; the second row the Facebook information. The original vectors facebook and linkedin are still available as well.\\n'"
      ],
      "text/plain": [
       "[1] \"\\nCompare matrices\\n\\nR's ability to deal with different data structures for comparisons does not stop at vectors. Matrices and relational operators also work together seamlessly!\\n\\nInstead of in vectors (as in the previous exercise), the LinkedIn and Facebook data is now stored in a matrix called views. The first row contains the LinkedIn information; the second row the Facebook information. The original vectors facebook and linkedin are still available as well.\\n\""
      ]
     },
     "metadata": {},
     "output_type": "display_data"
    },
    {
     "data": {
      "text/html": [
       "<span style=white-space:pre-wrap>'\\nUsing the relational operators you\\'ve learned so far, try to discover the following:\\n\\n    When were the views exactly equal to 13? Use the views matrix to return a logical matrix.\\n    For which days were the number of views less than or equal to 14? Again, have R return a logical matrix.\\n\\n'</span>"
      ],
      "text/latex": [
       "'\\textbackslash{}nUsing the relational operators you\\textbackslash{}'ve learned so far, try to discover the following:\\textbackslash{}n\\textbackslash{}n    When were the views exactly equal to 13? Use the views matrix to return a logical matrix.\\textbackslash{}n    For which days were the number of views less than or equal to 14? Again, have R return a logical matrix.\\textbackslash{}n\\textbackslash{}n'"
      ],
      "text/markdown": [
       "<span style=white-space:pre-wrap>'\\nUsing the relational operators you\\'ve learned so far, try to discover the following:\\n\\n    When were the views exactly equal to 13? Use the views matrix to return a logical matrix.\\n    For which days were the number of views less than or equal to 14? Again, have R return a logical matrix.\\n\\n'</span>"
      ],
      "text/plain": [
       "[1] \"\\nUsing the relational operators you've learned so far, try to discover the following:\\n\\n    When were the views exactly equal to 13? Use the views matrix to return a logical matrix.\\n    For which days were the number of views less than or equal to 14? Again, have R return a logical matrix.\\n\\n\""
      ]
     },
     "metadata": {},
     "output_type": "display_data"
    },
    {
     "data": {
      "text/html": [
       "<table class=\"dataframe\">\n",
       "<caption>A matrix: 2 × 7 of type lgl</caption>\n",
       "<tbody>\n",
       "\t<tr><td>FALSE</td><td>FALSE</td><td> TRUE</td><td>FALSE</td><td>FALSE</td><td>FALSE</td><td>FALSE</td></tr>\n",
       "\t<tr><td>FALSE</td><td>FALSE</td><td>FALSE</td><td>FALSE</td><td>FALSE</td><td> TRUE</td><td>FALSE</td></tr>\n",
       "</tbody>\n",
       "</table>\n"
      ],
      "text/latex": [
       "A matrix: 2 × 7 of type lgl\n",
       "\\begin{tabular}{lllllll}\n",
       "\t FALSE & FALSE &  TRUE & FALSE & FALSE & FALSE & FALSE\\\\\n",
       "\t FALSE & FALSE & FALSE & FALSE & FALSE &  TRUE & FALSE\\\\\n",
       "\\end{tabular}\n"
      ],
      "text/markdown": [
       "\n",
       "A matrix: 2 × 7 of type lgl\n",
       "\n",
       "| FALSE | FALSE |  TRUE | FALSE | FALSE | FALSE | FALSE |\n",
       "| FALSE | FALSE | FALSE | FALSE | FALSE |  TRUE | FALSE |\n",
       "\n"
      ],
      "text/plain": [
       "     [,1]  [,2]  [,3]  [,4]  [,5]  [,6]  [,7] \n",
       "[1,] FALSE FALSE  TRUE FALSE FALSE FALSE FALSE\n",
       "[2,] FALSE FALSE FALSE FALSE FALSE  TRUE FALSE"
      ]
     },
     "metadata": {},
     "output_type": "display_data"
    },
    {
     "data": {
      "text/html": [
       "<table class=\"dataframe\">\n",
       "<caption>A matrix: 2 × 7 of type lgl</caption>\n",
       "<tbody>\n",
       "\t<tr><td>FALSE</td><td>TRUE</td><td>TRUE</td><td> TRUE</td><td>TRUE</td><td>FALSE</td><td>TRUE</td></tr>\n",
       "\t<tr><td>FALSE</td><td>TRUE</td><td>TRUE</td><td>FALSE</td><td>TRUE</td><td> TRUE</td><td>TRUE</td></tr>\n",
       "</tbody>\n",
       "</table>\n"
      ],
      "text/latex": [
       "A matrix: 2 × 7 of type lgl\n",
       "\\begin{tabular}{lllllll}\n",
       "\t FALSE & TRUE & TRUE &  TRUE & TRUE & FALSE & TRUE\\\\\n",
       "\t FALSE & TRUE & TRUE & FALSE & TRUE &  TRUE & TRUE\\\\\n",
       "\\end{tabular}\n"
      ],
      "text/markdown": [
       "\n",
       "A matrix: 2 × 7 of type lgl\n",
       "\n",
       "| FALSE | TRUE | TRUE |  TRUE | TRUE | FALSE | TRUE |\n",
       "| FALSE | TRUE | TRUE | FALSE | TRUE |  TRUE | TRUE |\n",
       "\n"
      ],
      "text/plain": [
       "     [,1]  [,2] [,3] [,4]  [,5] [,6]  [,7]\n",
       "[1,] FALSE TRUE TRUE  TRUE TRUE FALSE TRUE\n",
       "[2,] FALSE TRUE TRUE FALSE TRUE  TRUE TRUE"
      ]
     },
     "metadata": {},
     "output_type": "display_data"
    },
    {
     "data": {
      "text/html": [
       "'\\nNice job! This exercise concludes the part on comparators. Now that you know how to query the relation between R objects, the next step will be to use the results to alter the behavior of your programs. Find out all about that in the next video! \\n'"
      ],
      "text/latex": [
       "'\\textbackslash{}nNice job! This exercise concludes the part on comparators. Now that you know how to query the relation between R objects, the next step will be to use the results to alter the behavior of your programs. Find out all about that in the next video! \\textbackslash{}n'"
      ],
      "text/markdown": [
       "'\\nNice job! This exercise concludes the part on comparators. Now that you know how to query the relation between R objects, the next step will be to use the results to alter the behavior of your programs. Find out all about that in the next video! \\n'"
      ],
      "text/plain": [
       "[1] \"\\nNice job! This exercise concludes the part on comparators. Now that you know how to query the relation between R objects, the next step will be to use the results to alter the behavior of your programs. Find out all about that in the next video! \\n\""
      ]
     },
     "metadata": {},
     "output_type": "display_data"
    }
   ],
   "source": [
    "# exercise 04\n",
    "\n",
    "\"\n",
    "Compare matrices\n",
    "\n",
    "R's ability to deal with different data structures for comparisons does not stop at vectors. Matrices and relational operators also work together seamlessly!\n",
    "\n",
    "Instead of in vectors (as in the previous exercise), the LinkedIn and Facebook data is now stored in a matrix called views. The first row contains the LinkedIn information; the second row the Facebook information. The original vectors facebook and linkedin are still available as well.\n",
    "\"\n",
    "\n",
    "# Instructions\n",
    "\n",
    "\"\n",
    "Using the relational operators you've learned so far, try to discover the following:\n",
    "\n",
    "    When were the views exactly equal to 13? Use the views matrix to return a logical matrix.\n",
    "    For which days were the number of views less than or equal to 14? Again, have R return a logical matrix.\n",
    "\n",
    "\"\n",
    "\n",
    "# solution\n",
    "\n",
    "# The social data has been created for you\n",
    "linkedin <- c(16, 9, 13, 5, 2, 17, 14)\n",
    "facebook <- c(17, 7, 5, 16, 8, 13, 14)\n",
    "views <- matrix(c(linkedin, facebook), nrow = 2, byrow = TRUE)\n",
    "\n",
    "# When does views equal 13?\n",
    "views == 13\n",
    "\n",
    "# When is views less than or equal to 14?\n",
    "views <= 14\n",
    "\n",
    "#----------------------------------#\n",
    "\n",
    "# Conclusion\n",
    "\n",
    "\"\n",
    "Nice job! This exercise concludes the part on comparators. Now that you know how to query the relation between R objects, the next step will be to use the results to alter the behavior of your programs. Find out all about that in the next video! \n",
    "\""
   ]
  },
  {
   "cell_type": "code",
   "execution_count": 16,
   "metadata": {
    "tags": [],
    "vscode": {
     "languageId": "r"
    }
   },
   "outputs": [
    {
     "data": {
      "text/html": [
       "'\\n&amp; and |\\n\\nBefore you work your way through the next exercises, have a look at the following R expressions. All of them will evaluate to TRUE:\\n\\nTRUE &amp; TRUE\\nFALSE | TRUE\\n5 &lt;= 5 &amp; 2 &lt; 3\\n3 &lt; 4 | 7 &lt; 6\\n\\nWatch out: 3 &lt; x &lt; 7 to check if x is between 3 and 7 will not work; you\\'ll need 3 &lt; x &amp; x &lt; 7 for that.\\n\\nIn this exercise, you\\'ll be working with the last variable. This variable equals the last value of the linkedin vector that you\\'ve worked with previously. The linkedin vector represents the number of LinkedIn views your profile had in the last seven days, remember? Both the variables linkedin and last have been pre-defined for you.\\n'"
      ],
      "text/latex": [
       "'\\textbackslash{}n\\& and \\textbar{}\\textbackslash{}n\\textbackslash{}nBefore you work your way through the next exercises, have a look at the following R expressions. All of them will evaluate to TRUE:\\textbackslash{}n\\textbackslash{}nTRUE \\& TRUE\\textbackslash{}nFALSE \\textbar{} TRUE\\textbackslash{}n5 <= 5 \\& 2 < 3\\textbackslash{}n3 < 4 \\textbar{} 7 < 6\\textbackslash{}n\\textbackslash{}nWatch out: 3 < x < 7 to check if x is between 3 and 7 will not work; you\\textbackslash{}'ll need 3 < x \\& x < 7 for that.\\textbackslash{}n\\textbackslash{}nIn this exercise, you\\textbackslash{}'ll be working with the last variable. This variable equals the last value of the linkedin vector that you\\textbackslash{}'ve worked with previously. The linkedin vector represents the number of LinkedIn views your profile had in the last seven days, remember? Both the variables linkedin and last have been pre-defined for you.\\textbackslash{}n'"
      ],
      "text/markdown": [
       "'\\n&amp; and |\\n\\nBefore you work your way through the next exercises, have a look at the following R expressions. All of them will evaluate to TRUE:\\n\\nTRUE &amp; TRUE\\nFALSE | TRUE\\n5 &lt;= 5 &amp; 2 &lt; 3\\n3 &lt; 4 | 7 &lt; 6\\n\\nWatch out: 3 &lt; x &lt; 7 to check if x is between 3 and 7 will not work; you\\'ll need 3 &lt; x &amp; x &lt; 7 for that.\\n\\nIn this exercise, you\\'ll be working with the last variable. This variable equals the last value of the linkedin vector that you\\'ve worked with previously. The linkedin vector represents the number of LinkedIn views your profile had in the last seven days, remember? Both the variables linkedin and last have been pre-defined for you.\\n'"
      ],
      "text/plain": [
       "[1] \"\\n& and |\\n\\nBefore you work your way through the next exercises, have a look at the following R expressions. All of them will evaluate to TRUE:\\n\\nTRUE & TRUE\\nFALSE | TRUE\\n5 <= 5 & 2 < 3\\n3 < 4 | 7 < 6\\n\\nWatch out: 3 < x < 7 to check if x is between 3 and 7 will not work; you'll need 3 < x & x < 7 for that.\\n\\nIn this exercise, you'll be working with the last variable. This variable equals the last value of the linkedin vector that you've worked with previously. The linkedin vector represents the number of LinkedIn views your profile had in the last seven days, remember? Both the variables linkedin and last have been pre-defined for you.\\n\""
      ]
     },
     "metadata": {},
     "output_type": "display_data"
    },
    {
     "data": {
      "text/html": [
       "<span style=white-space:pre-wrap>'\\nWrite R expressions to solve the following questions concerning the variable last:\\n\\n    Is last under 5 or above 10?\\n    Is last between 15 and 20, excluding 15 but including 20?\\n\\n'</span>"
      ],
      "text/latex": [
       "'\\textbackslash{}nWrite R expressions to solve the following questions concerning the variable last:\\textbackslash{}n\\textbackslash{}n    Is last under 5 or above 10?\\textbackslash{}n    Is last between 15 and 20, excluding 15 but including 20?\\textbackslash{}n\\textbackslash{}n'"
      ],
      "text/markdown": [
       "<span style=white-space:pre-wrap>'\\nWrite R expressions to solve the following questions concerning the variable last:\\n\\n    Is last under 5 or above 10?\\n    Is last between 15 and 20, excluding 15 but including 20?\\n\\n'</span>"
      ],
      "text/plain": [
       "[1] \"\\nWrite R expressions to solve the following questions concerning the variable last:\\n\\n    Is last under 5 or above 10?\\n    Is last between 15 and 20, excluding 15 but including 20?\\n\\n\""
      ]
     },
     "metadata": {},
     "output_type": "display_data"
    },
    {
     "data": {
      "text/html": [
       "TRUE"
      ],
      "text/latex": [
       "TRUE"
      ],
      "text/markdown": [
       "TRUE"
      ],
      "text/plain": [
       "[1] TRUE"
      ]
     },
     "metadata": {},
     "output_type": "display_data"
    },
    {
     "data": {
      "text/html": [
       "FALSE"
      ],
      "text/latex": [
       "FALSE"
      ],
      "text/markdown": [
       "FALSE"
      ],
      "text/plain": [
       "[1] FALSE"
      ]
     },
     "metadata": {},
     "output_type": "display_data"
    },
    {
     "data": {
      "text/html": [
       "'\\nGreat! Do the results of the different expressions make sense? \\n'"
      ],
      "text/latex": [
       "'\\textbackslash{}nGreat! Do the results of the different expressions make sense? \\textbackslash{}n'"
      ],
      "text/markdown": [
       "'\\nGreat! Do the results of the different expressions make sense? \\n'"
      ],
      "text/plain": [
       "[1] \"\\nGreat! Do the results of the different expressions make sense? \\n\""
      ]
     },
     "metadata": {},
     "output_type": "display_data"
    }
   ],
   "source": [
    "# exercise 05\n",
    "\n",
    "\"\n",
    "& and |\n",
    "\n",
    "Before you work your way through the next exercises, have a look at the following R expressions. All of them will evaluate to TRUE:\n",
    "\n",
    "TRUE & TRUE\n",
    "FALSE | TRUE\n",
    "5 <= 5 & 2 < 3\n",
    "3 < 4 | 7 < 6\n",
    "\n",
    "Watch out: 3 < x < 7 to check if x is between 3 and 7 will not work; you'll need 3 < x & x < 7 for that.\n",
    "\n",
    "In this exercise, you'll be working with the last variable. This variable equals the last value of the linkedin vector that you've worked with previously. The linkedin vector represents the number of LinkedIn views your profile had in the last seven days, remember? Both the variables linkedin and last have been pre-defined for you.\n",
    "\"\n",
    "\n",
    "# Instructions\n",
    "\n",
    "\"\n",
    "Write R expressions to solve the following questions concerning the variable last:\n",
    "\n",
    "    Is last under 5 or above 10?\n",
    "    Is last between 15 and 20, excluding 15 but including 20?\n",
    "\n",
    "\"\n",
    "\n",
    "# solution\n",
    "\n",
    "# The linkedin and last variable are already defined for you\n",
    "linkedin <- c(16, 9, 13, 5, 2, 17, 14)\n",
    "last <- tail(linkedin, 1)\n",
    "\n",
    "# Is last under 5 or above 10?\n",
    "last < 5 | last > 10\n",
    "\n",
    "# Is last between 15 (exclusive) and 20 (inclusive)?\n",
    "last > 15 & last <= 20\n",
    "\n",
    "#----------------------------------#\n",
    "\n",
    "# Conclusion\n",
    "\n",
    "\"\n",
    "Great! Do the results of the different expressions make sense? \n",
    "\""
   ]
  },
  {
   "cell_type": "code",
   "execution_count": 17,
   "metadata": {
    "tags": [],
    "vscode": {
     "languageId": "r"
    }
   },
   "outputs": [
    {
     "data": {
      "text/html": [
       "'\\n&amp; and | (2)\\n\\nLike relational operators, logical operators work perfectly fine with vectors and matrices.\\n\\nBoth the vectors linkedin and facebook are available again. Also a matrix - views - has been defined; its first and second row correspond to the linkedin and facebook vectors, respectively. Ready for some advanced queries to gain more insights into your social outreach?\\n'"
      ],
      "text/latex": [
       "'\\textbackslash{}n\\& and \\textbar{} (2)\\textbackslash{}n\\textbackslash{}nLike relational operators, logical operators work perfectly fine with vectors and matrices.\\textbackslash{}n\\textbackslash{}nBoth the vectors linkedin and facebook are available again. Also a matrix - views - has been defined; its first and second row correspond to the linkedin and facebook vectors, respectively. Ready for some advanced queries to gain more insights into your social outreach?\\textbackslash{}n'"
      ],
      "text/markdown": [
       "'\\n&amp; and | (2)\\n\\nLike relational operators, logical operators work perfectly fine with vectors and matrices.\\n\\nBoth the vectors linkedin and facebook are available again. Also a matrix - views - has been defined; its first and second row correspond to the linkedin and facebook vectors, respectively. Ready for some advanced queries to gain more insights into your social outreach?\\n'"
      ],
      "text/plain": [
       "[1] \"\\n& and | (2)\\n\\nLike relational operators, logical operators work perfectly fine with vectors and matrices.\\n\\nBoth the vectors linkedin and facebook are available again. Also a matrix - views - has been defined; its first and second row correspond to the linkedin and facebook vectors, respectively. Ready for some advanced queries to gain more insights into your social outreach?\\n\""
      ]
     },
     "metadata": {},
     "output_type": "display_data"
    },
    {
     "data": {
      "text/html": [
       "<span style=white-space:pre-wrap>'\\n\\n    When did LinkedIn views exceed 10 and did Facebook views fail to reach 10 for a particular day? Use the linkedin and facebook vectors.\\n    When were one or both of your LinkedIn and Facebook profiles visited at least 12 times?\\n    When is the views matrix equal to a number between 11 and 14, excluding 11 and including 14?\\n\\n'</span>"
      ],
      "text/latex": [
       "'\\textbackslash{}n\\textbackslash{}n    When did LinkedIn views exceed 10 and did Facebook views fail to reach 10 for a particular day? Use the linkedin and facebook vectors.\\textbackslash{}n    When were one or both of your LinkedIn and Facebook profiles visited at least 12 times?\\textbackslash{}n    When is the views matrix equal to a number between 11 and 14, excluding 11 and including 14?\\textbackslash{}n\\textbackslash{}n'"
      ],
      "text/markdown": [
       "<span style=white-space:pre-wrap>'\\n\\n    When did LinkedIn views exceed 10 and did Facebook views fail to reach 10 for a particular day? Use the linkedin and facebook vectors.\\n    When were one or both of your LinkedIn and Facebook profiles visited at least 12 times?\\n    When is the views matrix equal to a number between 11 and 14, excluding 11 and including 14?\\n\\n'</span>"
      ],
      "text/plain": [
       "[1] \"\\n\\n    When did LinkedIn views exceed 10 and did Facebook views fail to reach 10 for a particular day? Use the linkedin and facebook vectors.\\n    When were one or both of your LinkedIn and Facebook profiles visited at least 12 times?\\n    When is the views matrix equal to a number between 11 and 14, excluding 11 and including 14?\\n\\n\""
      ]
     },
     "metadata": {},
     "output_type": "display_data"
    },
    {
     "data": {
      "text/html": [
       "<style>\n",
       ".list-inline {list-style: none; margin:0; padding: 0}\n",
       ".list-inline>li {display: inline-block}\n",
       ".list-inline>li:not(:last-child)::after {content: \"\\00b7\"; padding: 0 .5ex}\n",
       "</style>\n",
       "<ol class=list-inline><li>FALSE</li><li>FALSE</li><li>TRUE</li><li>FALSE</li><li>FALSE</li><li>FALSE</li><li>FALSE</li></ol>\n"
      ],
      "text/latex": [
       "\\begin{enumerate*}\n",
       "\\item FALSE\n",
       "\\item FALSE\n",
       "\\item TRUE\n",
       "\\item FALSE\n",
       "\\item FALSE\n",
       "\\item FALSE\n",
       "\\item FALSE\n",
       "\\end{enumerate*}\n"
      ],
      "text/markdown": [
       "1. FALSE\n",
       "2. FALSE\n",
       "3. TRUE\n",
       "4. FALSE\n",
       "5. FALSE\n",
       "6. FALSE\n",
       "7. FALSE\n",
       "\n",
       "\n"
      ],
      "text/plain": [
       "[1] FALSE FALSE  TRUE FALSE FALSE FALSE FALSE"
      ]
     },
     "metadata": {},
     "output_type": "display_data"
    },
    {
     "data": {
      "text/html": [
       "<style>\n",
       ".list-inline {list-style: none; margin:0; padding: 0}\n",
       ".list-inline>li {display: inline-block}\n",
       ".list-inline>li:not(:last-child)::after {content: \"\\00b7\"; padding: 0 .5ex}\n",
       "</style>\n",
       "<ol class=list-inline><li>TRUE</li><li>FALSE</li><li>TRUE</li><li>TRUE</li><li>FALSE</li><li>TRUE</li><li>TRUE</li></ol>\n"
      ],
      "text/latex": [
       "\\begin{enumerate*}\n",
       "\\item TRUE\n",
       "\\item FALSE\n",
       "\\item TRUE\n",
       "\\item TRUE\n",
       "\\item FALSE\n",
       "\\item TRUE\n",
       "\\item TRUE\n",
       "\\end{enumerate*}\n"
      ],
      "text/markdown": [
       "1. TRUE\n",
       "2. FALSE\n",
       "3. TRUE\n",
       "4. TRUE\n",
       "5. FALSE\n",
       "6. TRUE\n",
       "7. TRUE\n",
       "\n",
       "\n"
      ],
      "text/plain": [
       "[1]  TRUE FALSE  TRUE  TRUE FALSE  TRUE  TRUE"
      ]
     },
     "metadata": {},
     "output_type": "display_data"
    },
    {
     "data": {
      "text/html": [
       "<table class=\"dataframe\">\n",
       "<caption>A matrix: 2 × 7 of type lgl</caption>\n",
       "<tbody>\n",
       "\t<tr><td>FALSE</td><td>FALSE</td><td> TRUE</td><td>FALSE</td><td>FALSE</td><td>FALSE</td><td>TRUE</td></tr>\n",
       "\t<tr><td>FALSE</td><td>FALSE</td><td>FALSE</td><td>FALSE</td><td>FALSE</td><td> TRUE</td><td>TRUE</td></tr>\n",
       "</tbody>\n",
       "</table>\n"
      ],
      "text/latex": [
       "A matrix: 2 × 7 of type lgl\n",
       "\\begin{tabular}{lllllll}\n",
       "\t FALSE & FALSE &  TRUE & FALSE & FALSE & FALSE & TRUE\\\\\n",
       "\t FALSE & FALSE & FALSE & FALSE & FALSE &  TRUE & TRUE\\\\\n",
       "\\end{tabular}\n"
      ],
      "text/markdown": [
       "\n",
       "A matrix: 2 × 7 of type lgl\n",
       "\n",
       "| FALSE | FALSE |  TRUE | FALSE | FALSE | FALSE | TRUE |\n",
       "| FALSE | FALSE | FALSE | FALSE | FALSE |  TRUE | TRUE |\n",
       "\n"
      ],
      "text/plain": [
       "     [,1]  [,2]  [,3]  [,4]  [,5]  [,6]  [,7]\n",
       "[1,] FALSE FALSE  TRUE FALSE FALSE FALSE TRUE\n",
       "[2,] FALSE FALSE FALSE FALSE FALSE  TRUE TRUE"
      ]
     },
     "metadata": {},
     "output_type": "display_data"
    },
    {
     "data": {
      "text/html": [
       "'\\nBravo! You\\'ll have noticed how easy it is to use logical operators to vectors and matrices. What do these results tell us? The third day of the recordings was the only day where your LinkedIn profile was visited more than 10 times, while your Facebook profile wasn\\'t. Can you draw similar conclusions for the other results? \\n'"
      ],
      "text/latex": [
       "'\\textbackslash{}nBravo! You\\textbackslash{}'ll have noticed how easy it is to use logical operators to vectors and matrices. What do these results tell us? The third day of the recordings was the only day where your LinkedIn profile was visited more than 10 times, while your Facebook profile wasn\\textbackslash{}'t. Can you draw similar conclusions for the other results? \\textbackslash{}n'"
      ],
      "text/markdown": [
       "'\\nBravo! You\\'ll have noticed how easy it is to use logical operators to vectors and matrices. What do these results tell us? The third day of the recordings was the only day where your LinkedIn profile was visited more than 10 times, while your Facebook profile wasn\\'t. Can you draw similar conclusions for the other results? \\n'"
      ],
      "text/plain": [
       "[1] \"\\nBravo! You'll have noticed how easy it is to use logical operators to vectors and matrices. What do these results tell us? The third day of the recordings was the only day where your LinkedIn profile was visited more than 10 times, while your Facebook profile wasn't. Can you draw similar conclusions for the other results? \\n\""
      ]
     },
     "metadata": {},
     "output_type": "display_data"
    }
   ],
   "source": [
    "# exercise 06\n",
    "\n",
    "\"\n",
    "& and | (2)\n",
    "\n",
    "Like relational operators, logical operators work perfectly fine with vectors and matrices.\n",
    "\n",
    "Both the vectors linkedin and facebook are available again. Also a matrix - views - has been defined; its first and second row correspond to the linkedin and facebook vectors, respectively. Ready for some advanced queries to gain more insights into your social outreach?\n",
    "\"\n",
    "\n",
    "# Instructions\n",
    "\n",
    "\"\n",
    "\n",
    "    When did LinkedIn views exceed 10 and did Facebook views fail to reach 10 for a particular day? Use the linkedin and facebook vectors.\n",
    "    When were one or both of your LinkedIn and Facebook profiles visited at least 12 times?\n",
    "    When is the views matrix equal to a number between 11 and 14, excluding 11 and including 14?\n",
    "\n",
    "\"\n",
    "\n",
    "# solution\n",
    "\n",
    "# The social data (linkedin, facebook, views) has been created for you\n",
    "\n",
    "# linkedin exceeds 10 but facebook below 10\n",
    "linkedin > 10 & facebook < 10\n",
    "\n",
    "# When were one or both visited at least 12 times?\n",
    "linkedin >= 12 | facebook >=12\n",
    "\n",
    "# When is views between 11 (exclusive) and 14 (inclusive)?\n",
    "views > 11 & views <=14\n",
    "\n",
    "#----------------------------------#\n",
    "\n",
    "# Conclusion\n",
    "\n",
    "\"\n",
    "Bravo! You'll have noticed how easy it is to use logical operators to vectors and matrices. What do these results tell us? The third day of the recordings was the only day where your LinkedIn profile was visited more than 10 times, while your Facebook profile wasn't. Can you draw similar conclusions for the other results? \n",
    "\""
   ]
  },
  {
   "cell_type": "markdown",
   "metadata": {},
   "source": [
    "### Reverse the result: !\n",
    "\n",
    "<br>\n",
    "On top of the & and | operators, you also learned about the ! operator, which negates a logical value. To refresh your memory, here are some R expressions that use !. They all evaluate to FALSE:\n",
    "\n",
    "!TRUE\n",
    "!(5 > 3)\n",
    "!!FALSE\n",
    "\n",
    "What would the following set of R expressions return?\n",
    "\n",
    "x <- 5\n",
    "y <- 7\n",
    "!(!(x < 4) & !!!(y > 12))\n",
    "\n",
    "</br>\n",
    "\n",
    "**Possible Answers**\n",
    "1. TRUE\n",
    "2. FALSE (**Answer**)\n",
    "3. Running this piece of code would throw an error."
   ]
  },
  {
   "cell_type": "code",
   "execution_count": 22,
   "metadata": {
    "vscode": {
     "languageId": "r"
    }
   },
   "outputs": [
    {
     "data": {
      "text/html": [
       "<table class=\"dataframe\">\n",
       "<caption>A data.frame: 6 × 8</caption>\n",
       "<thead>\n",
       "\t<tr><th></th><th scope=col>emp</th><th scope=col>day1</th><th scope=col>day2</th><th scope=col>day3</th><th scope=col>day4</th><th scope=col>day5</th><th scope=col>day6</th><th scope=col>day7</th></tr>\n",
       "\t<tr><th></th><th scope=col>&lt;chr&gt;</th><th scope=col>&lt;int&gt;</th><th scope=col>&lt;int&gt;</th><th scope=col>&lt;int&gt;</th><th scope=col>&lt;int&gt;</th><th scope=col>&lt;int&gt;</th><th scope=col>&lt;int&gt;</th><th scope=col>&lt;int&gt;</th></tr>\n",
       "</thead>\n",
       "<tbody>\n",
       "\t<tr><th scope=row>1</th><td>employee_1</td><td> 2</td><td> 3</td><td> 3</td><td> 6</td><td> 4</td><td> 2</td><td> 0</td></tr>\n",
       "\t<tr><th scope=row>2</th><td>employee_2</td><td>19</td><td>23</td><td>18</td><td>22</td><td>23</td><td>29</td><td>25</td></tr>\n",
       "\t<tr><th scope=row>3</th><td>employee_3</td><td>24</td><td>18</td><td>15</td><td>19</td><td>18</td><td>22</td><td>17</td></tr>\n",
       "\t<tr><th scope=row>4</th><td>employee_4</td><td>22</td><td>18</td><td>27</td><td>26</td><td>19</td><td>21</td><td>25</td></tr>\n",
       "\t<tr><th scope=row>5</th><td>employee_5</td><td>25</td><td>25</td><td>26</td><td>31</td><td>24</td><td>36</td><td>37</td></tr>\n",
       "\t<tr><th scope=row>6</th><td>employee_6</td><td>22</td><td>20</td><td>29</td><td>26</td><td>23</td><td>22</td><td>29</td></tr>\n",
       "</tbody>\n",
       "</table>\n"
      ],
      "text/latex": [
       "A data.frame: 6 × 8\n",
       "\\begin{tabular}{r|llllllll}\n",
       "  & emp & day1 & day2 & day3 & day4 & day5 & day6 & day7\\\\\n",
       "  & <chr> & <int> & <int> & <int> & <int> & <int> & <int> & <int>\\\\\n",
       "\\hline\n",
       "\t1 & employee\\_1 &  2 &  3 &  3 &  6 &  4 &  2 &  0\\\\\n",
       "\t2 & employee\\_2 & 19 & 23 & 18 & 22 & 23 & 29 & 25\\\\\n",
       "\t3 & employee\\_3 & 24 & 18 & 15 & 19 & 18 & 22 & 17\\\\\n",
       "\t4 & employee\\_4 & 22 & 18 & 27 & 26 & 19 & 21 & 25\\\\\n",
       "\t5 & employee\\_5 & 25 & 25 & 26 & 31 & 24 & 36 & 37\\\\\n",
       "\t6 & employee\\_6 & 22 & 20 & 29 & 26 & 23 & 22 & 29\\\\\n",
       "\\end{tabular}\n"
      ],
      "text/markdown": [
       "\n",
       "A data.frame: 6 × 8\n",
       "\n",
       "| <!--/--> | emp &lt;chr&gt; | day1 &lt;int&gt; | day2 &lt;int&gt; | day3 &lt;int&gt; | day4 &lt;int&gt; | day5 &lt;int&gt; | day6 &lt;int&gt; | day7 &lt;int&gt; |\n",
       "|---|---|---|---|---|---|---|---|---|\n",
       "| 1 | employee_1 |  2 |  3 |  3 |  6 |  4 |  2 |  0 |\n",
       "| 2 | employee_2 | 19 | 23 | 18 | 22 | 23 | 29 | 25 |\n",
       "| 3 | employee_3 | 24 | 18 | 15 | 19 | 18 | 22 | 17 |\n",
       "| 4 | employee_4 | 22 | 18 | 27 | 26 | 19 | 21 | 25 |\n",
       "| 5 | employee_5 | 25 | 25 | 26 | 31 | 24 | 36 | 37 |\n",
       "| 6 | employee_6 | 22 | 20 | 29 | 26 | 23 | 22 | 29 |\n",
       "\n"
      ],
      "text/plain": [
       "  emp        day1 day2 day3 day4 day5 day6 day7\n",
       "1 employee_1  2    3    3    6    4    2    0  \n",
       "2 employee_2 19   23   18   22   23   29   25  \n",
       "3 employee_3 24   18   15   19   18   22   17  \n",
       "4 employee_4 22   18   27   26   19   21   25  \n",
       "5 employee_5 25   25   26   31   24   36   37  \n",
       "6 employee_6 22   20   29   26   23   22   29  "
      ]
     },
     "metadata": {},
     "output_type": "display_data"
    }
   ],
   "source": [
    "li_df <- read.csv(\"/home/nero/Documents/Estudos/DataCamp/R/courses/Intermediate_R/datasets/erase.csv\", header=TRUE)\n",
    "head(li_df)"
   ]
  },
  {
   "cell_type": "code",
   "execution_count": 23,
   "metadata": {
    "tags": [],
    "vscode": {
     "languageId": "r"
    }
   },
   "outputs": [
    {
     "data": {
      "text/html": [
       "'\\nBlend it all together\\n\\nWith the things you\\'ve learned by now, you\\'re able to solve pretty cool problems.\\n\\nInstead of recording the number of views for your own LinkedIn profile, suppose you conducted a survey inside the company you\\'re working for. You\\'ve asked every employee with a LinkedIn profile how many visits their profile has had over the past seven days. You stored the results in a data frame called li_df. This data frame is available in the workspace; type li_df in the console to check it out.\\n'"
      ],
      "text/latex": [
       "'\\textbackslash{}nBlend it all together\\textbackslash{}n\\textbackslash{}nWith the things you\\textbackslash{}'ve learned by now, you\\textbackslash{}'re able to solve pretty cool problems.\\textbackslash{}n\\textbackslash{}nInstead of recording the number of views for your own LinkedIn profile, suppose you conducted a survey inside the company you\\textbackslash{}'re working for. You\\textbackslash{}'ve asked every employee with a LinkedIn profile how many visits their profile has had over the past seven days. You stored the results in a data frame called li\\_df. This data frame is available in the workspace; type li\\_df in the console to check it out.\\textbackslash{}n'"
      ],
      "text/markdown": [
       "'\\nBlend it all together\\n\\nWith the things you\\'ve learned by now, you\\'re able to solve pretty cool problems.\\n\\nInstead of recording the number of views for your own LinkedIn profile, suppose you conducted a survey inside the company you\\'re working for. You\\'ve asked every employee with a LinkedIn profile how many visits their profile has had over the past seven days. You stored the results in a data frame called li_df. This data frame is available in the workspace; type li_df in the console to check it out.\\n'"
      ],
      "text/plain": [
       "[1] \"\\nBlend it all together\\n\\nWith the things you've learned by now, you're able to solve pretty cool problems.\\n\\nInstead of recording the number of views for your own LinkedIn profile, suppose you conducted a survey inside the company you're working for. You've asked every employee with a LinkedIn profile how many visits their profile has had over the past seven days. You stored the results in a data frame called li_df. This data frame is available in the workspace; type li_df in the console to check it out.\\n\""
      ]
     },
     "metadata": {},
     "output_type": "display_data"
    },
    {
     "data": {
      "text/html": [
       "<span style=white-space:pre-wrap>'\\n\\n    Select the entire second column, named day2, from the li_df data frame as a vector and assign it to second.\\n    Use second to create a logical vector, that contains TRUE if the corresponding number of views is strictly greater than 25 or strictly lower than 5 and FALSE otherwise. Store this logical vector as extremes.\\n    Use sum() on the extremes vector to calculate the number of TRUEs in extremes (i.e. to calculate the number of employees that are either very popular or very low-profile). Simply print this number to the console.\\ndatadata\\n'</span>"
      ],
      "text/latex": [
       "'\\textbackslash{}n\\textbackslash{}n    Select the entire second column, named day2, from the li\\_df data frame as a vector and assign it to second.\\textbackslash{}n    Use second to create a logical vector, that contains TRUE if the corresponding number of views is strictly greater than 25 or strictly lower than 5 and FALSE otherwise. Store this logical vector as extremes.\\textbackslash{}n    Use sum() on the extremes vector to calculate the number of TRUEs in extremes (i.e. to calculate the number of employees that are either very popular or very low-profile). Simply print this number to the console.\\textbackslash{}ndatadata\\textbackslash{}n'"
      ],
      "text/markdown": [
       "<span style=white-space:pre-wrap>'\\n\\n    Select the entire second column, named day2, from the li_df data frame as a vector and assign it to second.\\n    Use second to create a logical vector, that contains TRUE if the corresponding number of views is strictly greater than 25 or strictly lower than 5 and FALSE otherwise. Store this logical vector as extremes.\\n    Use sum() on the extremes vector to calculate the number of TRUEs in extremes (i.e. to calculate the number of employees that are either very popular or very low-profile). Simply print this number to the console.\\ndatadata\\n'</span>"
      ],
      "text/plain": [
       "[1] \"\\n\\n    Select the entire second column, named day2, from the li_df data frame as a vector and assign it to second.\\n    Use second to create a logical vector, that contains TRUE if the corresponding number of views is strictly greater than 25 or strictly lower than 5 and FALSE otherwise. Store this logical vector as extremes.\\n    Use sum() on the extremes vector to calculate the number of TRUEs in extremes (i.e. to calculate the number of employees that are either very popular or very low-profile). Simply print this number to the console.\\ndatadata\\n\""
      ]
     },
     "metadata": {},
     "output_type": "display_data"
    },
    {
     "data": {
      "text/html": [
       "18"
      ],
      "text/latex": [
       "18"
      ],
      "text/markdown": [
       "18"
      ],
      "text/plain": [
       "[1] 18"
      ]
     },
     "metadata": {},
     "output_type": "display_data"
    },
    {
     "data": {
      "text/html": [
       "'\\nGreat! Head over to the next video and learn how relational and logical operators can be used to alter the flow of your R scripts. \\n'"
      ],
      "text/latex": [
       "'\\textbackslash{}nGreat! Head over to the next video and learn how relational and logical operators can be used to alter the flow of your R scripts. \\textbackslash{}n'"
      ],
      "text/markdown": [
       "'\\nGreat! Head over to the next video and learn how relational and logical operators can be used to alter the flow of your R scripts. \\n'"
      ],
      "text/plain": [
       "[1] \"\\nGreat! Head over to the next video and learn how relational and logical operators can be used to alter the flow of your R scripts. \\n\""
      ]
     },
     "metadata": {},
     "output_type": "display_data"
    }
   ],
   "source": [
    "# exercise 07\n",
    "\n",
    "\"\n",
    "Blend it all together\n",
    "\n",
    "With the things you've learned by now, you're able to solve pretty cool problems.\n",
    "\n",
    "Instead of recording the number of views for your own LinkedIn profile, suppose you conducted a survey inside the company you're working for. You've asked every employee with a LinkedIn profile how many visits their profile has had over the past seven days. You stored the results in a data frame called li_df. This data frame is available in the workspace; type li_df in the console to check it out.\n",
    "\"\n",
    "\n",
    "# Instructions\n",
    "\n",
    "\"\n",
    "\n",
    "    Select the entire second column, named day2, from the li_df data frame as a vector and assign it to second.\n",
    "    Use second to create a logical vector, that contains TRUE if the corresponding number of views is strictly greater than 25 or strictly lower than 5 and FALSE otherwise. Store this logical vector as extremes.\n",
    "    Use sum() on the extremes vector to calculate the number of TRUEs in extremes (i.e. to calculate the number of employees that are either very popular or very low-profile). Simply print this number to the console.\n",
    "datadata\n",
    "\"\n",
    "\n",
    "# solution\n",
    "\n",
    "# li_df is pre-loaded in your workspace\n",
    "\n",
    "# Select the second column, named day2, from li_df: second\n",
    "second <- li_df[,2]\n",
    "\n",
    "# Build a logical vector, TRUE if value in second is extreme: extremes\n",
    "extremes <- second > 25 | second < 5\n",
    "\n",
    "# Count the number of TRUEs in extremes\n",
    "sum(extremes)\n",
    "\n",
    "#----------------------------------#\n",
    "\n",
    "# Conclusion\n",
    "\n",
    "\"\n",
    "Great! Head over to the next video and learn how relational and logical operators can be used to alter the flow of your R scripts. \n",
    "\""
   ]
  },
  {
   "cell_type": "code",
   "execution_count": 24,
   "metadata": {
    "tags": [],
    "vscode": {
     "languageId": "r"
    }
   },
   "outputs": [
    {
     "data": {
      "text/html": [
       "<span style=white-space:pre-wrap>'\\nThe if statement\\n\\nBefore diving into some exercises on the if statement, have another look at its syntax:\\n\\nif (condition) {\\n  expr\\n}\\n\\nRemember your vectors with social profile views? Let\\'s look at it from another angle. The medium variable gives information about the social website; the num_views variable denotes the actual number of views that particular medium had on the last day of your recordings. Both variables have been pre-defined for you.\\n'</span>"
      ],
      "text/latex": [
       "'\\textbackslash{}nThe if statement\\textbackslash{}n\\textbackslash{}nBefore diving into some exercises on the if statement, have another look at its syntax:\\textbackslash{}n\\textbackslash{}nif (condition) \\{\\textbackslash{}n  expr\\textbackslash{}n\\}\\textbackslash{}n\\textbackslash{}nRemember your vectors with social profile views? Let\\textbackslash{}'s look at it from another angle. The medium variable gives information about the social website; the num\\_views variable denotes the actual number of views that particular medium had on the last day of your recordings. Both variables have been pre-defined for you.\\textbackslash{}n'"
      ],
      "text/markdown": [
       "<span style=white-space:pre-wrap>'\\nThe if statement\\n\\nBefore diving into some exercises on the if statement, have another look at its syntax:\\n\\nif (condition) {\\n  expr\\n}\\n\\nRemember your vectors with social profile views? Let\\'s look at it from another angle. The medium variable gives information about the social website; the num_views variable denotes the actual number of views that particular medium had on the last day of your recordings. Both variables have been pre-defined for you.\\n'</span>"
      ],
      "text/plain": [
       "[1] \"\\nThe if statement\\n\\nBefore diving into some exercises on the if statement, have another look at its syntax:\\n\\nif (condition) {\\n  expr\\n}\\n\\nRemember your vectors with social profile views? Let's look at it from another angle. The medium variable gives information about the social website; the num_views variable denotes the actual number of views that particular medium had on the last day of your recordings. Both variables have been pre-defined for you.\\n\""
      ]
     },
     "metadata": {},
     "output_type": "display_data"
    },
    {
     "data": {
      "text/html": [
       "<span style=white-space:pre-wrap>'\\n\\n    Examine the if statement that prints out Showing LinkedIn information if the medium variable equals LinkedIn.\\n    Code an if statement that prints You are popular! to the console if the num_views variable exceeds 15.\\n\\n'</span>"
      ],
      "text/latex": [
       "'\\textbackslash{}n\\textbackslash{}n    Examine the if statement that prints out Showing LinkedIn information if the medium variable equals LinkedIn.\\textbackslash{}n    Code an if statement that prints You are popular! to the console if the num\\_views variable exceeds 15.\\textbackslash{}n\\textbackslash{}n'"
      ],
      "text/markdown": [
       "<span style=white-space:pre-wrap>'\\n\\n    Examine the if statement that prints out Showing LinkedIn information if the medium variable equals LinkedIn.\\n    Code an if statement that prints You are popular! to the console if the num_views variable exceeds 15.\\n\\n'</span>"
      ],
      "text/plain": [
       "[1] \"\\n\\n    Examine the if statement that prints out Showing LinkedIn information if the medium variable equals LinkedIn.\\n    Code an if statement that prints You are popular! to the console if the num_views variable exceeds 15.\\n\\n\""
      ]
     },
     "metadata": {},
     "output_type": "display_data"
    },
    {
     "name": "stdout",
     "output_type": "stream",
     "text": [
      "[1] \"Showing LinkedIn information\"\n"
     ]
    },
    {
     "data": {
      "text/html": [
       "'\\nGreat! Try to see what happens if you change the medium and num_views variables and run your code again. Let\\'s further customize these if statements in the next exercise. \\n'"
      ],
      "text/latex": [
       "'\\textbackslash{}nGreat! Try to see what happens if you change the medium and num\\_views variables and run your code again. Let\\textbackslash{}'s further customize these if statements in the next exercise. \\textbackslash{}n'"
      ],
      "text/markdown": [
       "'\\nGreat! Try to see what happens if you change the medium and num_views variables and run your code again. Let\\'s further customize these if statements in the next exercise. \\n'"
      ],
      "text/plain": [
       "[1] \"\\nGreat! Try to see what happens if you change the medium and num_views variables and run your code again. Let's further customize these if statements in the next exercise. \\n\""
      ]
     },
     "metadata": {},
     "output_type": "display_data"
    }
   ],
   "source": [
    "# exercise 08\n",
    "\n",
    "\"\n",
    "The if statement\n",
    "\n",
    "Before diving into some exercises on the if statement, have another look at its syntax:\n",
    "\n",
    "if (condition) {\n",
    "  expr\n",
    "}\n",
    "\n",
    "Remember your vectors with social profile views? Let's look at it from another angle. The medium variable gives information about the social website; the num_views variable denotes the actual number of views that particular medium had on the last day of your recordings. Both variables have been pre-defined for you.\n",
    "\"\n",
    "\n",
    "# Instructions\n",
    "\n",
    "\"\n",
    "\n",
    "    Examine the if statement that prints out Showing LinkedIn information if the medium variable equals LinkedIn.\n",
    "    Code an if statement that prints You are popular! to the console if the num_views variable exceeds 15.\n",
    "\n",
    "\"\n",
    "\n",
    "# solution\n",
    "\n",
    "# Variables related to your last day of recordings\n",
    "medium <- \"LinkedIn\"\n",
    "num_views <- 14\n",
    "\n",
    "# Examine the if statement for medium\n",
    "if (medium == \"LinkedIn\") {\n",
    "  print(\"Showing LinkedIn information\")\n",
    "}\n",
    "\n",
    "# Write the if statement for num_views\n",
    "if(num_views > 15) {\n",
    "  print(\"You are popular!\")\n",
    "}\n",
    "\n",
    "#----------------------------------#\n",
    "\n",
    "# Conclusion\n",
    "\n",
    "\"\n",
    "Great! Try to see what happens if you change the medium and num_views variables and run your code again. Let's further customize these if statements in the next exercise. \n",
    "\""
   ]
  },
  {
   "cell_type": "code",
   "execution_count": 25,
   "metadata": {
    "tags": [],
    "vscode": {
     "languageId": "r"
    }
   },
   "outputs": [
    {
     "data": {
      "text/html": [
       "<span style=white-space:pre-wrap>'\\nAdd an else\\n\\nYou can only use an else statement in combination with an if statement. The else statement does not require a condition; its corresponding code is simply run if all of the preceding conditions in the control structure are FALSE. Here\\'s a recipe for its usage:\\n\\nif (condition) {\\n  expr1\\n} else {\\n  expr2\\n}\\n\\nIt\\'s important that the else keyword comes on the same line as the closing bracket of the if part!\\n\\nBoth if statements that you coded in the previous exercises are already available to use. It\\'s now up to you to extend them with the appropriate else statements!\\n'</span>"
      ],
      "text/latex": [
       "'\\textbackslash{}nAdd an else\\textbackslash{}n\\textbackslash{}nYou can only use an else statement in combination with an if statement. The else statement does not require a condition; its corresponding code is simply run if all of the preceding conditions in the control structure are FALSE. Here\\textbackslash{}'s a recipe for its usage:\\textbackslash{}n\\textbackslash{}nif (condition) \\{\\textbackslash{}n  expr1\\textbackslash{}n\\} else \\{\\textbackslash{}n  expr2\\textbackslash{}n\\}\\textbackslash{}n\\textbackslash{}nIt\\textbackslash{}'s important that the else keyword comes on the same line as the closing bracket of the if part!\\textbackslash{}n\\textbackslash{}nBoth if statements that you coded in the previous exercises are already available to use. It\\textbackslash{}'s now up to you to extend them with the appropriate else statements!\\textbackslash{}n'"
      ],
      "text/markdown": [
       "<span style=white-space:pre-wrap>'\\nAdd an else\\n\\nYou can only use an else statement in combination with an if statement. The else statement does not require a condition; its corresponding code is simply run if all of the preceding conditions in the control structure are FALSE. Here\\'s a recipe for its usage:\\n\\nif (condition) {\\n  expr1\\n} else {\\n  expr2\\n}\\n\\nIt\\'s important that the else keyword comes on the same line as the closing bracket of the if part!\\n\\nBoth if statements that you coded in the previous exercises are already available to use. It\\'s now up to you to extend them with the appropriate else statements!\\n'</span>"
      ],
      "text/plain": [
       "[1] \"\\nAdd an else\\n\\nYou can only use an else statement in combination with an if statement. The else statement does not require a condition; its corresponding code is simply run if all of the preceding conditions in the control structure are FALSE. Here's a recipe for its usage:\\n\\nif (condition) {\\n  expr1\\n} else {\\n  expr2\\n}\\n\\nIt's important that the else keyword comes on the same line as the closing bracket of the if part!\\n\\nBoth if statements that you coded in the previous exercises are already available to use. It's now up to you to extend them with the appropriate else statements!\\n\""
      ]
     },
     "metadata": {},
     "output_type": "display_data"
    },
    {
     "data": {
      "text/html": [
       "<span style=white-space:pre-wrap>'\\nAdd an else statement to both control structures, such that\\n\\n    Unknown medium gets printed out to the console when the if-condition on medium does not hold.\\n    R prints out Try to be more visible! when the if-condition on num_views is not met.\\n\\n'</span>"
      ],
      "text/latex": [
       "'\\textbackslash{}nAdd an else statement to both control structures, such that\\textbackslash{}n\\textbackslash{}n    Unknown medium gets printed out to the console when the if-condition on medium does not hold.\\textbackslash{}n    R prints out Try to be more visible! when the if-condition on num\\_views is not met.\\textbackslash{}n\\textbackslash{}n'"
      ],
      "text/markdown": [
       "<span style=white-space:pre-wrap>'\\nAdd an else statement to both control structures, such that\\n\\n    Unknown medium gets printed out to the console when the if-condition on medium does not hold.\\n    R prints out Try to be more visible! when the if-condition on num_views is not met.\\n\\n'</span>"
      ],
      "text/plain": [
       "[1] \"\\nAdd an else statement to both control structures, such that\\n\\n    Unknown medium gets printed out to the console when the if-condition on medium does not hold.\\n    R prints out Try to be more visible! when the if-condition on num_views is not met.\\n\\n\""
      ]
     },
     "metadata": {},
     "output_type": "display_data"
    },
    {
     "name": "stdout",
     "output_type": "stream",
     "text": [
      "[1] \"Showing LinkedIn information\"\n",
      "[1] \"Try to be more visible!\"\n"
     ]
    },
    {
     "data": {
      "text/html": [
       "'\\nGreat job! You also had Facebook information available, remember? Time to add some more statements to our control structures using else if! \\n'"
      ],
      "text/latex": [
       "'\\textbackslash{}nGreat job! You also had Facebook information available, remember? Time to add some more statements to our control structures using else if! \\textbackslash{}n'"
      ],
      "text/markdown": [
       "'\\nGreat job! You also had Facebook information available, remember? Time to add some more statements to our control structures using else if! \\n'"
      ],
      "text/plain": [
       "[1] \"\\nGreat job! You also had Facebook information available, remember? Time to add some more statements to our control structures using else if! \\n\""
      ]
     },
     "metadata": {},
     "output_type": "display_data"
    }
   ],
   "source": [
    "# exercise 09\n",
    "\n",
    "\"\n",
    "Add an else\n",
    "\n",
    "You can only use an else statement in combination with an if statement. The else statement does not require a condition; its corresponding code is simply run if all of the preceding conditions in the control structure are FALSE. Here's a recipe for its usage:\n",
    "\n",
    "if (condition) {\n",
    "  expr1\n",
    "} else {\n",
    "  expr2\n",
    "}\n",
    "\n",
    "It's important that the else keyword comes on the same line as the closing bracket of the if part!\n",
    "\n",
    "Both if statements that you coded in the previous exercises are already available to use. It's now up to you to extend them with the appropriate else statements!\n",
    "\"\n",
    "\n",
    "# Instructions\n",
    "\n",
    "\"\n",
    "Add an else statement to both control structures, such that\n",
    "\n",
    "    Unknown medium gets printed out to the console when the if-condition on medium does not hold.\n",
    "    R prints out Try to be more visible! when the if-condition on num_views is not met.\n",
    "\n",
    "\"\n",
    "\n",
    "# solution\n",
    "\n",
    "# Variables related to your last day of recordings\n",
    "medium <- \"LinkedIn\"\n",
    "num_views <- 14\n",
    "\n",
    "# Control structure for medium\n",
    "if (medium == \"LinkedIn\") {\n",
    "  print(\"Showing LinkedIn information\")\n",
    "} else {\n",
    "  print(\"Unknown medium\")\n",
    "}\n",
    "\n",
    "\n",
    "\n",
    "# Control structure for num_views\n",
    "if (num_views > 15) {\n",
    "  print(\"You're popular!\")\n",
    "} else {\n",
    "  print(\"Try to be more visible!\")\n",
    "}\n",
    "\n",
    "#----------------------------------#\n",
    "\n",
    "# Conclusion\n",
    "\n",
    "\"\n",
    "Great job! You also had Facebook information available, remember? Time to add some more statements to our control structures using else if! \n",
    "\""
   ]
  },
  {
   "cell_type": "code",
   "execution_count": 26,
   "metadata": {
    "tags": [],
    "vscode": {
     "languageId": "r"
    }
   },
   "outputs": [
    {
     "data": {
      "text/html": [
       "<span style=white-space:pre-wrap>'\\nCustomize further: else if\\n\\nThe else if statement allows you to further customize your control structure. You can add as many else if statements as you like. Keep in mind that R ignores the remainder of the control structure once a condition has been found that is TRUE and the corresponding expressions have been executed. Here\\'s an overview of the syntax to freshen your memory:\\n\\nif (condition1) {\\n  expr1\\n} else if (condition2) {\\n  expr2\\n} else if (condition3) {\\n  expr3\\n} else {\\n  expr4\\n}\\n\\nAgain, It\\'s important that the else if keywords comes on the same line as the closing bracket of the previous part of the control construct!\\n'</span>"
      ],
      "text/latex": [
       "'\\textbackslash{}nCustomize further: else if\\textbackslash{}n\\textbackslash{}nThe else if statement allows you to further customize your control structure. You can add as many else if statements as you like. Keep in mind that R ignores the remainder of the control structure once a condition has been found that is TRUE and the corresponding expressions have been executed. Here\\textbackslash{}'s an overview of the syntax to freshen your memory:\\textbackslash{}n\\textbackslash{}nif (condition1) \\{\\textbackslash{}n  expr1\\textbackslash{}n\\} else if (condition2) \\{\\textbackslash{}n  expr2\\textbackslash{}n\\} else if (condition3) \\{\\textbackslash{}n  expr3\\textbackslash{}n\\} else \\{\\textbackslash{}n  expr4\\textbackslash{}n\\}\\textbackslash{}n\\textbackslash{}nAgain, It\\textbackslash{}'s important that the else if keywords comes on the same line as the closing bracket of the previous part of the control construct!\\textbackslash{}n'"
      ],
      "text/markdown": [
       "<span style=white-space:pre-wrap>'\\nCustomize further: else if\\n\\nThe else if statement allows you to further customize your control structure. You can add as many else if statements as you like. Keep in mind that R ignores the remainder of the control structure once a condition has been found that is TRUE and the corresponding expressions have been executed. Here\\'s an overview of the syntax to freshen your memory:\\n\\nif (condition1) {\\n  expr1\\n} else if (condition2) {\\n  expr2\\n} else if (condition3) {\\n  expr3\\n} else {\\n  expr4\\n}\\n\\nAgain, It\\'s important that the else if keywords comes on the same line as the closing bracket of the previous part of the control construct!\\n'</span>"
      ],
      "text/plain": [
       "[1] \"\\nCustomize further: else if\\n\\nThe else if statement allows you to further customize your control structure. You can add as many else if statements as you like. Keep in mind that R ignores the remainder of the control structure once a condition has been found that is TRUE and the corresponding expressions have been executed. Here's an overview of the syntax to freshen your memory:\\n\\nif (condition1) {\\n  expr1\\n} else if (condition2) {\\n  expr2\\n} else if (condition3) {\\n  expr3\\n} else {\\n  expr4\\n}\\n\\nAgain, It's important that the else if keywords comes on the same line as the closing bracket of the previous part of the control construct!\\n\""
      ]
     },
     "metadata": {},
     "output_type": "display_data"
    },
    {
     "data": {
      "text/html": [
       "<span style=white-space:pre-wrap>'\\nAdd code to both control structures such that:\\n\\n    R prints out Showing Facebook information if medium is equal to Facebook. Remember that R is case sensitive!\\n    Your number of views is average is printed if num_views is between 15 (inclusive) and 10 (exclusive). Feel free to change the variables medium and num_views to see how the control structure respond. In both cases, the existing code should be extended in the else if statement. No existing code should be modified.\\n\\n'</span>"
      ],
      "text/latex": [
       "'\\textbackslash{}nAdd code to both control structures such that:\\textbackslash{}n\\textbackslash{}n    R prints out Showing Facebook information if medium is equal to Facebook. Remember that R is case sensitive!\\textbackslash{}n    Your number of views is average is printed if num\\_views is between 15 (inclusive) and 10 (exclusive). Feel free to change the variables medium and num\\_views to see how the control structure respond. In both cases, the existing code should be extended in the else if statement. No existing code should be modified.\\textbackslash{}n\\textbackslash{}n'"
      ],
      "text/markdown": [
       "<span style=white-space:pre-wrap>'\\nAdd code to both control structures such that:\\n\\n    R prints out Showing Facebook information if medium is equal to Facebook. Remember that R is case sensitive!\\n    Your number of views is average is printed if num_views is between 15 (inclusive) and 10 (exclusive). Feel free to change the variables medium and num_views to see how the control structure respond. In both cases, the existing code should be extended in the else if statement. No existing code should be modified.\\n\\n'</span>"
      ],
      "text/plain": [
       "[1] \"\\nAdd code to both control structures such that:\\n\\n    R prints out Showing Facebook information if medium is equal to Facebook. Remember that R is case sensitive!\\n    Your number of views is average is printed if num_views is between 15 (inclusive) and 10 (exclusive). Feel free to change the variables medium and num_views to see how the control structure respond. In both cases, the existing code should be extended in the else if statement. No existing code should be modified.\\n\\n\""
      ]
     },
     "metadata": {},
     "output_type": "display_data"
    },
    {
     "name": "stdout",
     "output_type": "stream",
     "text": [
      "[1] \"Showing LinkedIn information\"\n",
      "[1] \"Your number of views is average\"\n"
     ]
    },
    {
     "data": {
      "text/html": [
       "'\\nAwesome! Have another look at the second control structure. Because R abandons the control flow as soon as it finds a condition that is met, you can simplify the condition for the else if part in the second construct to num_views &gt; 10. \\n'"
      ],
      "text/latex": [
       "'\\textbackslash{}nAwesome! Have another look at the second control structure. Because R abandons the control flow as soon as it finds a condition that is met, you can simplify the condition for the else if part in the second construct to num\\_views > 10. \\textbackslash{}n'"
      ],
      "text/markdown": [
       "'\\nAwesome! Have another look at the second control structure. Because R abandons the control flow as soon as it finds a condition that is met, you can simplify the condition for the else if part in the second construct to num_views &gt; 10. \\n'"
      ],
      "text/plain": [
       "[1] \"\\nAwesome! Have another look at the second control structure. Because R abandons the control flow as soon as it finds a condition that is met, you can simplify the condition for the else if part in the second construct to num_views > 10. \\n\""
      ]
     },
     "metadata": {},
     "output_type": "display_data"
    }
   ],
   "source": [
    "# exercise 10\n",
    "\n",
    "\"\n",
    "Customize further: else if\n",
    "\n",
    "The else if statement allows you to further customize your control structure. You can add as many else if statements as you like. Keep in mind that R ignores the remainder of the control structure once a condition has been found that is TRUE and the corresponding expressions have been executed. Here's an overview of the syntax to freshen your memory:\n",
    "\n",
    "if (condition1) {\n",
    "  expr1\n",
    "} else if (condition2) {\n",
    "  expr2\n",
    "} else if (condition3) {\n",
    "  expr3\n",
    "} else {\n",
    "  expr4\n",
    "}\n",
    "\n",
    "Again, It's important that the else if keywords comes on the same line as the closing bracket of the previous part of the control construct!\n",
    "\"\n",
    "\n",
    "# Instructions\n",
    "\n",
    "\"\n",
    "Add code to both control structures such that:\n",
    "\n",
    "    R prints out Showing Facebook information if medium is equal to Facebook. Remember that R is case sensitive!\n",
    "    Your number of views is average is printed if num_views is between 15 (inclusive) and 10 (exclusive). Feel free to change the variables medium and num_views to see how the control structure respond. In both cases, the existing code should be extended in the else if statement. No existing code should be modified.\n",
    "\n",
    "\"\n",
    "\n",
    "# solution\n",
    "\n",
    "# Variables related to your last day of recordings\n",
    "medium <- \"LinkedIn\"\n",
    "num_views <- 14\n",
    "\n",
    "# Control structure for medium\n",
    "if (medium == \"LinkedIn\") {\n",
    "  print(\"Showing LinkedIn information\")\n",
    "} else if (medium == \"Facebook\") {\n",
    "  # Add code to print correct string when condition is TRUE\n",
    "  print(\"Showing Facebook information\")\n",
    "} else {\n",
    "  print(\"Unknown medium\")\n",
    "}\n",
    "\n",
    "# Control structure for num_views\n",
    "if (num_views > 15) {\n",
    "  print(\"You're popular!\")\n",
    "} else if (num_views <= 15 & num_views > 10) {\n",
    "  # Add code to print correct string when condition is TRUE\n",
    "  print(\"Your number of views is average\")\n",
    "} else {\n",
    "  print(\"Try to be more visible!\")\n",
    "}\n",
    "\n",
    "#----------------------------------#\n",
    "\n",
    "# Conclusion\n",
    "\n",
    "\"\n",
    "Awesome! Have another look at the second control structure. Because R abandons the control flow as soon as it finds a condition that is met, you can simplify the condition for the else if part in the second construct to num_views > 10. \n",
    "\""
   ]
  },
  {
   "cell_type": "code",
   "execution_count": 28,
   "metadata": {
    "vscode": {
     "languageId": "r"
    }
   },
   "outputs": [
    {
     "data": {
      "text/html": [
       "<span style=white-space:pre-wrap>'\\nElse if 2.0\\n\\nYou can do anything you want inside if-else constructs. You can even put in another set of conditional statements. Examine the following code chunk:\\n\\nif (number &lt; 10) {\\n  if (number &lt; 5) {\\n    result &lt;- extra small\\n  } else {\\n    result &lt;- small\\n  }\\n} else if (number &lt; 100) {\\n  result &lt;- medium\\n} else {\\n  result &lt;- large\\n}\\nprint(result)\\n\\nHave a look at the following statements:\\n\\n    If number is set to 6, small gets printed to the console.\\n    If number is set to 100, R prints out medium.\\n    If number is set to 4, extra small gets printed out to the console.\\n    If number is set to 2500, R will generate an error, as result will not be defined.\\n\\nSelect the option that lists all the true statements.\\n'</span>"
      ],
      "text/latex": [
       "'\\textbackslash{}nElse if 2.0\\textbackslash{}n\\textbackslash{}nYou can do anything you want inside if-else constructs. You can even put in another set of conditional statements. Examine the following code chunk:\\textbackslash{}n\\textbackslash{}nif (number < 10) \\{\\textbackslash{}n  if (number < 5) \\{\\textbackslash{}n    result <- extra small\\textbackslash{}n  \\} else \\{\\textbackslash{}n    result <- small\\textbackslash{}n  \\}\\textbackslash{}n\\} else if (number < 100) \\{\\textbackslash{}n  result <- medium\\textbackslash{}n\\} else \\{\\textbackslash{}n  result <- large\\textbackslash{}n\\}\\textbackslash{}nprint(result)\\textbackslash{}n\\textbackslash{}nHave a look at the following statements:\\textbackslash{}n\\textbackslash{}n    If number is set to 6, small gets printed to the console.\\textbackslash{}n    If number is set to 100, R prints out medium.\\textbackslash{}n    If number is set to 4, extra small gets printed out to the console.\\textbackslash{}n    If number is set to 2500, R will generate an error, as result will not be defined.\\textbackslash{}n\\textbackslash{}nSelect the option that lists all the true statements.\\textbackslash{}n'"
      ],
      "text/markdown": [
       "<span style=white-space:pre-wrap>'\\nElse if 2.0\\n\\nYou can do anything you want inside if-else constructs. You can even put in another set of conditional statements. Examine the following code chunk:\\n\\nif (number &lt; 10) {\\n  if (number &lt; 5) {\\n    result &lt;- extra small\\n  } else {\\n    result &lt;- small\\n  }\\n} else if (number &lt; 100) {\\n  result &lt;- medium\\n} else {\\n  result &lt;- large\\n}\\nprint(result)\\n\\nHave a look at the following statements:\\n\\n    If number is set to 6, small gets printed to the console.\\n    If number is set to 100, R prints out medium.\\n    If number is set to 4, extra small gets printed out to the console.\\n    If number is set to 2500, R will generate an error, as result will not be defined.\\n\\nSelect the option that lists all the true statements.\\n'</span>"
      ],
      "text/plain": [
       "[1] \"\\nElse if 2.0\\n\\nYou can do anything you want inside if-else constructs. You can even put in another set of conditional statements. Examine the following code chunk:\\n\\nif (number < 10) {\\n  if (number < 5) {\\n    result <- extra small\\n  } else {\\n    result <- small\\n  }\\n} else if (number < 100) {\\n  result <- medium\\n} else {\\n  result <- large\\n}\\nprint(result)\\n\\nHave a look at the following statements:\\n\\n    If number is set to 6, small gets printed to the console.\\n    If number is set to 100, R prints out medium.\\n    If number is set to 4, extra small gets printed out to the console.\\n    If number is set to 2500, R will generate an error, as result will not be defined.\\n\\nSelect the option that lists all the true statements.\\n\""
      ]
     },
     "metadata": {},
     "output_type": "display_data"
    },
    {
     "data": {
      "text/html": [
       "'\\n conditions 1 and 3\\n'"
      ],
      "text/latex": [
       "'\\textbackslash{}n conditions 1 and 3\\textbackslash{}n'"
      ],
      "text/markdown": [
       "'\\n conditions 1 and 3\\n'"
      ],
      "text/plain": [
       "[1] \"\\n conditions 1 and 3\\n\""
      ]
     },
     "metadata": {},
     "output_type": "display_data"
    },
    {
     "name": "stdout",
     "output_type": "stream",
     "text": [
      "[1] \"small\"\n",
      "[1] \"extra small\"\n"
     ]
    },
    {
     "data": {
      "text/html": [
       "'\\nWonderful! If you got this one right, the next exercise will be a piece of cake. \\n'"
      ],
      "text/latex": [
       "'\\textbackslash{}nWonderful! If you got this one right, the next exercise will be a piece of cake. \\textbackslash{}n'"
      ],
      "text/markdown": [
       "'\\nWonderful! If you got this one right, the next exercise will be a piece of cake. \\n'"
      ],
      "text/plain": [
       "[1] \"\\nWonderful! If you got this one right, the next exercise will be a piece of cake. \\n\""
      ]
     },
     "metadata": {},
     "output_type": "display_data"
    }
   ],
   "source": [
    "# exercise 11\n",
    "\n",
    "\"\n",
    "Else if 2.0\n",
    "\n",
    "You can do anything you want inside if-else constructs. You can even put in another set of conditional statements. Examine the following code chunk:\n",
    "\n",
    "if (number < 10) {\n",
    "  if (number < 5) {\n",
    "    result <- extra small\n",
    "  } else {\n",
    "    result <- small\n",
    "  }\n",
    "} else if (number < 100) {\n",
    "  result <- medium\n",
    "} else {\n",
    "  result <- large\n",
    "}\n",
    "print(result)\n",
    "\n",
    "Have a look at the following statements:\n",
    "\n",
    "    If number is set to 6, small gets printed to the console.\n",
    "    If number is set to 100, R prints out medium.\n",
    "    If number is set to 4, extra small gets printed out to the console.\n",
    "    If number is set to 2500, R will generate an error, as result will not be defined.\n",
    "\n",
    "Select the option that lists all the true statements.\n",
    "\"\n",
    "\n",
    "# Instructions\n",
    "\n",
    "\"\n",
    " conditions 1 and 3\n",
    "\"\n",
    "\n",
    "# solution\n",
    "number <- 6\n",
    "\n",
    "if (number < 10) {\n",
    "  if (number < 5) {\n",
    "    result <- \"extra small\"\n",
    "  } else {\n",
    "    result <- \"small\"\n",
    "  }\n",
    "} else if (number < 100) {\n",
    "  result <- \"medium\"\n",
    "} else {\n",
    "  result <- \"large\"\n",
    "}\n",
    "print(result)\n",
    "\n",
    "\n",
    "number <- 4\n",
    "\n",
    "if (number < 10) {\n",
    "  if (number < 5) {\n",
    "    result <- \"extra small\"\n",
    "  } else {\n",
    "    result <- \"small\"\n",
    "  }\n",
    "} else if (number < 100) {\n",
    "  result <- \"medium\"\n",
    "} else {\n",
    "  result <- \"large\"\n",
    "}\n",
    "print(result)\n",
    "\n",
    "\n",
    "#----------------------------------#\n",
    "\n",
    "# Conclusion\n",
    "\n",
    "\"\n",
    "Wonderful! If you got this one right, the next exercise will be a piece of cake. \n",
    "\""
   ]
  },
  {
   "cell_type": "code",
   "execution_count": 29,
   "metadata": {
    "vscode": {
     "languageId": "r"
    }
   },
   "outputs": [
    {
     "data": {
      "text/html": [
       "'\\nTake control!\\n\\nIn this exercise, you will combine everything that you\\'ve learned so far: relational operators, logical operators and control constructs. You\\'ll need it all!\\n\\nWe\\'ve pre-defined two values for you: li and fb, denoting the number of profile views your LinkedIn and Facebook profile had on the last day of recordings. Go through the instructions to create R code that generates a \\'social media score\\', sms, based on the values of li and fb.\\n'"
      ],
      "text/latex": [
       "'\\textbackslash{}nTake control!\\textbackslash{}n\\textbackslash{}nIn this exercise, you will combine everything that you\\textbackslash{}'ve learned so far: relational operators, logical operators and control constructs. You\\textbackslash{}'ll need it all!\\textbackslash{}n\\textbackslash{}nWe\\textbackslash{}'ve pre-defined two values for you: li and fb, denoting the number of profile views your LinkedIn and Facebook profile had on the last day of recordings. Go through the instructions to create R code that generates a \\textbackslash{}'social media score\\textbackslash{}', sms, based on the values of li and fb.\\textbackslash{}n'"
      ],
      "text/markdown": [
       "'\\nTake control!\\n\\nIn this exercise, you will combine everything that you\\'ve learned so far: relational operators, logical operators and control constructs. You\\'ll need it all!\\n\\nWe\\'ve pre-defined two values for you: li and fb, denoting the number of profile views your LinkedIn and Facebook profile had on the last day of recordings. Go through the instructions to create R code that generates a \\'social media score\\', sms, based on the values of li and fb.\\n'"
      ],
      "text/plain": [
       "[1] \"\\nTake control!\\n\\nIn this exercise, you will combine everything that you've learned so far: relational operators, logical operators and control constructs. You'll need it all!\\n\\nWe've pre-defined two values for you: li and fb, denoting the number of profile views your LinkedIn and Facebook profile had on the last day of recordings. Go through the instructions to create R code that generates a 'social media score', sms, based on the values of li and fb.\\n\""
      ]
     },
     "metadata": {},
     "output_type": "display_data"
    },
    {
     "data": {
      "text/html": [
       "<span style=white-space:pre-wrap>'\\nFinish the control-flow construct with the following behavior:\\n\\n    If both li and fb are 15 or higher, set sms equal to double the sum of li and fb.\\n    If both li and fb are strictly below 10, set sms equal to half the sum of li and fb.\\n    In all other cases, set sms equal to li + fb.\\n    Finally, print the resulting sms variable.\\n\\n'</span>"
      ],
      "text/latex": [
       "'\\textbackslash{}nFinish the control-flow construct with the following behavior:\\textbackslash{}n\\textbackslash{}n    If both li and fb are 15 or higher, set sms equal to double the sum of li and fb.\\textbackslash{}n    If both li and fb are strictly below 10, set sms equal to half the sum of li and fb.\\textbackslash{}n    In all other cases, set sms equal to li + fb.\\textbackslash{}n    Finally, print the resulting sms variable.\\textbackslash{}n\\textbackslash{}n'"
      ],
      "text/markdown": [
       "<span style=white-space:pre-wrap>'\\nFinish the control-flow construct with the following behavior:\\n\\n    If both li and fb are 15 or higher, set sms equal to double the sum of li and fb.\\n    If both li and fb are strictly below 10, set sms equal to half the sum of li and fb.\\n    In all other cases, set sms equal to li + fb.\\n    Finally, print the resulting sms variable.\\n\\n'</span>"
      ],
      "text/plain": [
       "[1] \"\\nFinish the control-flow construct with the following behavior:\\n\\n    If both li and fb are 15 or higher, set sms equal to double the sum of li and fb.\\n    If both li and fb are strictly below 10, set sms equal to half the sum of li and fb.\\n    In all other cases, set sms equal to li + fb.\\n    Finally, print the resulting sms variable.\\n\\n\""
      ]
     },
     "metadata": {},
     "output_type": "display_data"
    },
    {
     "data": {
      "text/html": [
       "24"
      ],
      "text/latex": [
       "24"
      ],
      "text/markdown": [
       "24"
      ],
      "text/plain": [
       "[1] 24"
      ]
     },
     "metadata": {},
     "output_type": "display_data"
    },
    {
     "data": {
      "text/html": [
       "'\\nBellissimo! Feel free to play around some more with your solution by changing the values of li and fb. \\n'"
      ],
      "text/latex": [
       "'\\textbackslash{}nBellissimo! Feel free to play around some more with your solution by changing the values of li and fb. \\textbackslash{}n'"
      ],
      "text/markdown": [
       "'\\nBellissimo! Feel free to play around some more with your solution by changing the values of li and fb. \\n'"
      ],
      "text/plain": [
       "[1] \"\\nBellissimo! Feel free to play around some more with your solution by changing the values of li and fb. \\n\""
      ]
     },
     "metadata": {},
     "output_type": "display_data"
    }
   ],
   "source": [
    "# exercise 12\n",
    "\n",
    "\"\n",
    "Take control!\n",
    "\n",
    "In this exercise, you will combine everything that you've learned so far: relational operators, logical operators and control constructs. You'll need it all!\n",
    "\n",
    "We've pre-defined two values for you: li and fb, denoting the number of profile views your LinkedIn and Facebook profile had on the last day of recordings. Go through the instructions to create R code that generates a 'social media score', sms, based on the values of li and fb.\n",
    "\"\n",
    "\n",
    "# Instructions\n",
    "\n",
    "\"\n",
    "Finish the control-flow construct with the following behavior:\n",
    "\n",
    "    If both li and fb are 15 or higher, set sms equal to double the sum of li and fb.\n",
    "    If both li and fb are strictly below 10, set sms equal to half the sum of li and fb.\n",
    "    In all other cases, set sms equal to li + fb.\n",
    "    Finally, print the resulting sms variable.\n",
    "\n",
    "\"\n",
    "\n",
    "# solution\n",
    "\n",
    "# Variables related to your last day of recordings\n",
    "li <- 15\n",
    "fb <- 9\n",
    "\n",
    "# Code the control-flow construct\n",
    "if (li > 15 & fb > 15) {\n",
    "  sms <- 2 * (li + fb)\n",
    "} else if (li < 10 & fb < 10) {\n",
    "  sms <- 0.5 * (li + fb)\n",
    "} else {\n",
    "  sms <- li + fb\n",
    "}\n",
    "\n",
    "# Print the resulting sms to the console\n",
    "sms\n",
    "\n",
    "#----------------------------------#\n",
    "\n",
    "# Conclusion\n",
    "\n",
    "\"\n",
    "Bellissimo! Feel free to play around some more with your solution by changing the values of li and fb. \n",
    "\""
   ]
  }
 ],
 "metadata": {
  "kernelspec": {
   "display_name": "R",
   "language": "R",
   "name": "ir"
  },
  "language_info": {
   "codemirror_mode": "r",
   "file_extension": ".r",
   "mimetype": "text/x-r-source",
   "name": "R",
   "pygments_lexer": "r",
   "version": "4.3.2"
  }
 },
 "nbformat": 4,
 "nbformat_minor": 4
}
