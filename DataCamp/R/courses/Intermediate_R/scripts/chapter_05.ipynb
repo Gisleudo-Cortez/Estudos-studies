{
 "cells": [
  {
   "cell_type": "code",
   "execution_count": 1,
   "metadata": {
    "vscode": {
     "languageId": "r"
    }
   },
   "outputs": [
    {
     "data": {
      "text/html": [
       "<span style=white-space:pre-wrap>'\\nMathematical utilities\\n\\nHave another look at some useful math functions that R features:\\n\\n    abs(): Calculate the absolute value.\\n    sum(): Calculate the sum of all the values in a data structure.\\n    mean(): Calculate the arithmetic mean.\\n    round(): Round the values to 0 decimal places by default. Try out ?round in the console for variations of round() and ways to change the number of digits to round to.\\n\\nAs a data scientist in training, you\\'ve estimated a regression model on the sales data for the past six months. After evaluating your model, you see that the training error of your model is quite regular, showing both positive and negative values. A vector errors containing the error values has been pre-defined for you.\\n'</span>"
      ],
      "text/latex": [
       "'\\textbackslash{}nMathematical utilities\\textbackslash{}n\\textbackslash{}nHave another look at some useful math functions that R features:\\textbackslash{}n\\textbackslash{}n    abs(): Calculate the absolute value.\\textbackslash{}n    sum(): Calculate the sum of all the values in a data structure.\\textbackslash{}n    mean(): Calculate the arithmetic mean.\\textbackslash{}n    round(): Round the values to 0 decimal places by default. Try out ?round in the console for variations of round() and ways to change the number of digits to round to.\\textbackslash{}n\\textbackslash{}nAs a data scientist in training, you\\textbackslash{}'ve estimated a regression model on the sales data for the past six months. After evaluating your model, you see that the training error of your model is quite regular, showing both positive and negative values. A vector errors containing the error values has been pre-defined for you.\\textbackslash{}n'"
      ],
      "text/markdown": [
       "<span style=white-space:pre-wrap>'\\nMathematical utilities\\n\\nHave another look at some useful math functions that R features:\\n\\n    abs(): Calculate the absolute value.\\n    sum(): Calculate the sum of all the values in a data structure.\\n    mean(): Calculate the arithmetic mean.\\n    round(): Round the values to 0 decimal places by default. Try out ?round in the console for variations of round() and ways to change the number of digits to round to.\\n\\nAs a data scientist in training, you\\'ve estimated a regression model on the sales data for the past six months. After evaluating your model, you see that the training error of your model is quite regular, showing both positive and negative values. A vector errors containing the error values has been pre-defined for you.\\n'</span>"
      ],
      "text/plain": [
       "[1] \"\\nMathematical utilities\\n\\nHave another look at some useful math functions that R features:\\n\\n    abs(): Calculate the absolute value.\\n    sum(): Calculate the sum of all the values in a data structure.\\n    mean(): Calculate the arithmetic mean.\\n    round(): Round the values to 0 decimal places by default. Try out ?round in the console for variations of round() and ways to change the number of digits to round to.\\n\\nAs a data scientist in training, you've estimated a regression model on the sales data for the past six months. After evaluating your model, you see that the training error of your model is quite regular, showing both positive and negative values. A vector errors containing the error values has been pre-defined for you.\\n\""
      ]
     },
     "metadata": {},
     "output_type": "display_data"
    },
    {
     "data": {
      "text/html": [
       "'\\nCalculate the sum of the absolute rounded values of the training errors. You can work in parts, or with a single one-liner. There\\'s no need to store the result in a variable, just have R print it.\\n'"
      ],
      "text/latex": [
       "'\\textbackslash{}nCalculate the sum of the absolute rounded values of the training errors. You can work in parts, or with a single one-liner. There\\textbackslash{}'s no need to store the result in a variable, just have R print it.\\textbackslash{}n'"
      ],
      "text/markdown": [
       "'\\nCalculate the sum of the absolute rounded values of the training errors. You can work in parts, or with a single one-liner. There\\'s no need to store the result in a variable, just have R print it.\\n'"
      ],
      "text/plain": [
       "[1] \"\\nCalculate the sum of the absolute rounded values of the training errors. You can work in parts, or with a single one-liner. There's no need to store the result in a variable, just have R print it.\\n\""
      ]
     },
     "metadata": {},
     "output_type": "display_data"
    },
    {
     "data": {
      "text/html": [
       "29"
      ],
      "text/latex": [
       "29"
      ],
      "text/markdown": [
       "29"
      ],
      "text/plain": [
       "[1] 29"
      ]
     },
     "metadata": {},
     "output_type": "display_data"
    },
    {
     "data": {
      "text/html": [
       "'\\nGreat! Head over to the next exercise. \\n'"
      ],
      "text/latex": [
       "'\\textbackslash{}nGreat! Head over to the next exercise. \\textbackslash{}n'"
      ],
      "text/markdown": [
       "'\\nGreat! Head over to the next exercise. \\n'"
      ],
      "text/plain": [
       "[1] \"\\nGreat! Head over to the next exercise. \\n\""
      ]
     },
     "metadata": {},
     "output_type": "display_data"
    }
   ],
   "source": [
    "# exercise 01\n",
    "\n",
    "\"\n",
    "Mathematical utilities\n",
    "\n",
    "Have another look at some useful math functions that R features:\n",
    "\n",
    "    abs(): Calculate the absolute value.\n",
    "    sum(): Calculate the sum of all the values in a data structure.\n",
    "    mean(): Calculate the arithmetic mean.\n",
    "    round(): Round the values to 0 decimal places by default. Try out ?round in the console for variations of round() and ways to change the number of digits to round to.\n",
    "\n",
    "As a data scientist in training, you've estimated a regression model on the sales data for the past six months. After evaluating your model, you see that the training error of your model is quite regular, showing both positive and negative values. A vector errors containing the error values has been pre-defined for you.\n",
    "\"\n",
    "\n",
    "# Instructions\n",
    "\n",
    "\"\n",
    "Calculate the sum of the absolute rounded values of the training errors. You can work in parts, or with a single one-liner. There's no need to store the result in a variable, just have R print it.\n",
    "\"\n",
    "\n",
    "# solution\n",
    "\n",
    "# The errors vector has already been defined for you\n",
    "errors <- c(1.9, -2.6, 4.0, -9.5, -3.4, 7.3)\n",
    "\n",
    "# Sum of absolute rounded values of errors\n",
    "sum(round(abs(errors)))\n",
    "\n",
    "#----------------------------------#\n",
    "\n",
    "# Conclusion\n",
    "\n",
    "\"\n",
    "Great! Head over to the next exercise. \n",
    "\""
   ]
  },
  {
   "cell_type": "code",
   "execution_count": 2,
   "metadata": {
    "tags": [],
    "vscode": {
     "languageId": "r"
    }
   },
   "outputs": [
    {
     "data": {
      "text/html": [
       "'\\nFind the error\\n\\nWe went ahead and pre-loaded some code for you, but there\\'s still an error. Can you trace it and fix it?\\n\\nIn times of despair, help with functions such as sum() and rev() are a single command away; simply execute the code ?sum and ?rev.\\n'"
      ],
      "text/latex": [
       "'\\textbackslash{}nFind the error\\textbackslash{}n\\textbackslash{}nWe went ahead and pre-loaded some code for you, but there\\textbackslash{}'s still an error. Can you trace it and fix it?\\textbackslash{}n\\textbackslash{}nIn times of despair, help with functions such as sum() and rev() are a single command away; simply execute the code ?sum and ?rev.\\textbackslash{}n'"
      ],
      "text/markdown": [
       "'\\nFind the error\\n\\nWe went ahead and pre-loaded some code for you, but there\\'s still an error. Can you trace it and fix it?\\n\\nIn times of despair, help with functions such as sum() and rev() are a single command away; simply execute the code ?sum and ?rev.\\n'"
      ],
      "text/plain": [
       "[1] \"\\nFind the error\\n\\nWe went ahead and pre-loaded some code for you, but there's still an error. Can you trace it and fix it?\\n\\nIn times of despair, help with functions such as sum() and rev() are a single command away; simply execute the code ?sum and ?rev.\\n\""
      ]
     },
     "metadata": {},
     "output_type": "display_data"
    },
    {
     "data": {
      "text/html": [
       "'\\nFix the error by including code on the last line. Remember: you want to call mean() only once!\\n'"
      ],
      "text/latex": [
       "'\\textbackslash{}nFix the error by including code on the last line. Remember: you want to call mean() only once!\\textbackslash{}n'"
      ],
      "text/markdown": [
       "'\\nFix the error by including code on the last line. Remember: you want to call mean() only once!\\n'"
      ],
      "text/plain": [
       "[1] \"\\nFix the error by including code on the last line. Remember: you want to call mean() only once!\\n\""
      ]
     },
     "metadata": {},
     "output_type": "display_data"
    },
    {
     "data": {
      "text/html": [
       "4.48"
      ],
      "text/latex": [
       "4.48"
      ],
      "text/markdown": [
       "4.48"
      ],
      "text/plain": [
       "[1] 4.48"
      ]
     },
     "metadata": {},
     "output_type": "display_data"
    },
    {
     "data": {
      "text/html": [
       "'\\nNice work! If you check out the documentation of mean(), you\\'ll see that only the first argument, x, should be a vector. If you also specify a second argument, R will match the arguments by position and expect a specification of the trim argument. Therefore, merging the two vectors is a must! \\n'"
      ],
      "text/latex": [
       "'\\textbackslash{}nNice work! If you check out the documentation of mean(), you\\textbackslash{}'ll see that only the first argument, x, should be a vector. If you also specify a second argument, R will match the arguments by position and expect a specification of the trim argument. Therefore, merging the two vectors is a must! \\textbackslash{}n'"
      ],
      "text/markdown": [
       "'\\nNice work! If you check out the documentation of mean(), you\\'ll see that only the first argument, x, should be a vector. If you also specify a second argument, R will match the arguments by position and expect a specification of the trim argument. Therefore, merging the two vectors is a must! \\n'"
      ],
      "text/plain": [
       "[1] \"\\nNice work! If you check out the documentation of mean(), you'll see that only the first argument, x, should be a vector. If you also specify a second argument, R will match the arguments by position and expect a specification of the trim argument. Therefore, merging the two vectors is a must! \\n\""
      ]
     },
     "metadata": {},
     "output_type": "display_data"
    }
   ],
   "source": [
    "# exercise 02\n",
    "\n",
    "\"\n",
    "Find the error\n",
    "\n",
    "We went ahead and pre-loaded some code for you, but there's still an error. Can you trace it and fix it?\n",
    "\n",
    "In times of despair, help with functions such as sum() and rev() are a single command away; simply execute the code ?sum and ?rev.\n",
    "\"\n",
    "\n",
    "# Instructions\n",
    "\n",
    "\"\n",
    "Fix the error by including code on the last line. Remember: you want to call mean() only once!\n",
    "\"\n",
    "\n",
    "# solution\n",
    "\n",
    "# Don't edit these two lines\n",
    "vec1 <- c(1.5, 2.5, 8.4, 3.7, 6.3)\n",
    "vec2 <- rev(vec1)\n",
    "\n",
    "# Fix the error\n",
    "mean(c(abs(vec1), abs(vec2)))\n",
    "\n",
    "#----------------------------------#\n",
    "\n",
    "# Conclusion\n",
    "\n",
    "\"\n",
    "Nice work! If you check out the documentation of mean(), you'll see that only the first argument, x, should be a vector. If you also specify a second argument, R will match the arguments by position and expect a specification of the trim argument. Therefore, merging the two vectors is a must! \n",
    "\""
   ]
  },
  {
   "cell_type": "code",
   "execution_count": 3,
   "metadata": {
    "tags": [],
    "vscode": {
     "languageId": "r"
    }
   },
   "outputs": [
    {
     "data": {
      "text/html": [
       "<span style=white-space:pre-wrap>'\\nData Utilities\\n\\nR features a bunch of functions to juggle around with data structures::\\n\\n    seq(): Generate sequences, by specifying the from, to, and by arguments.\\n    rep(): Replicate elements of vectors and lists.\\n    sort(): Sort a vector in ascending order. Works on numerics, but also on character strings and logicals.\\n    rev(): Reverse the elements in a data structures for which reversal is defined.\\n    str(): Display the structure of any R object.\\n    append(): Merge vectors or lists.\\n    is.*(): Check for the class of an R object.\\n    as.*(): Convert an R object from one class to another.\\n    unlist(): Flatten (possibly embedded) lists to produce a vector.\\n\\nRemember the social media profile views data? Your LinkedIn and Facebook view counts for the last seven days have been pre-defined as lists.\\n'</span>"
      ],
      "text/latex": [
       "'\\textbackslash{}nData Utilities\\textbackslash{}n\\textbackslash{}nR features a bunch of functions to juggle around with data structures::\\textbackslash{}n\\textbackslash{}n    seq(): Generate sequences, by specifying the from, to, and by arguments.\\textbackslash{}n    rep(): Replicate elements of vectors and lists.\\textbackslash{}n    sort(): Sort a vector in ascending order. Works on numerics, but also on character strings and logicals.\\textbackslash{}n    rev(): Reverse the elements in a data structures for which reversal is defined.\\textbackslash{}n    str(): Display the structure of any R object.\\textbackslash{}n    append(): Merge vectors or lists.\\textbackslash{}n    is.*(): Check for the class of an R object.\\textbackslash{}n    as.*(): Convert an R object from one class to another.\\textbackslash{}n    unlist(): Flatten (possibly embedded) lists to produce a vector.\\textbackslash{}n\\textbackslash{}nRemember the social media profile views data? Your LinkedIn and Facebook view counts for the last seven days have been pre-defined as lists.\\textbackslash{}n'"
      ],
      "text/markdown": [
       "<span style=white-space:pre-wrap>'\\nData Utilities\\n\\nR features a bunch of functions to juggle around with data structures::\\n\\n    seq(): Generate sequences, by specifying the from, to, and by arguments.\\n    rep(): Replicate elements of vectors and lists.\\n    sort(): Sort a vector in ascending order. Works on numerics, but also on character strings and logicals.\\n    rev(): Reverse the elements in a data structures for which reversal is defined.\\n    str(): Display the structure of any R object.\\n    append(): Merge vectors or lists.\\n    is.*(): Check for the class of an R object.\\n    as.*(): Convert an R object from one class to another.\\n    unlist(): Flatten (possibly embedded) lists to produce a vector.\\n\\nRemember the social media profile views data? Your LinkedIn and Facebook view counts for the last seven days have been pre-defined as lists.\\n'</span>"
      ],
      "text/plain": [
       "[1] \"\\nData Utilities\\n\\nR features a bunch of functions to juggle around with data structures::\\n\\n    seq(): Generate sequences, by specifying the from, to, and by arguments.\\n    rep(): Replicate elements of vectors and lists.\\n    sort(): Sort a vector in ascending order. Works on numerics, but also on character strings and logicals.\\n    rev(): Reverse the elements in a data structures for which reversal is defined.\\n    str(): Display the structure of any R object.\\n    append(): Merge vectors or lists.\\n    is.*(): Check for the class of an R object.\\n    as.*(): Convert an R object from one class to another.\\n    unlist(): Flatten (possibly embedded) lists to produce a vector.\\n\\nRemember the social media profile views data? Your LinkedIn and Facebook view counts for the last seven days have been pre-defined as lists.\\n\""
      ]
     },
     "metadata": {},
     "output_type": "display_data"
    },
    {
     "data": {
      "text/html": [
       "<span style=white-space:pre-wrap>'\\n\\n    Convert both linkedin and facebook lists to a vector, and store them as li_vec and fb_vec respectively.\\n    Next, append fb_vec to the li_vec (Facebook data comes last). Save the result as social_vec.\\n    Finally, sort social_vec from high to low. Print the resulting vector.\\n\\n'</span>"
      ],
      "text/latex": [
       "'\\textbackslash{}n\\textbackslash{}n    Convert both linkedin and facebook lists to a vector, and store them as li\\_vec and fb\\_vec respectively.\\textbackslash{}n    Next, append fb\\_vec to the li\\_vec (Facebook data comes last). Save the result as social\\_vec.\\textbackslash{}n    Finally, sort social\\_vec from high to low. Print the resulting vector.\\textbackslash{}n\\textbackslash{}n'"
      ],
      "text/markdown": [
       "<span style=white-space:pre-wrap>'\\n\\n    Convert both linkedin and facebook lists to a vector, and store them as li_vec and fb_vec respectively.\\n    Next, append fb_vec to the li_vec (Facebook data comes last). Save the result as social_vec.\\n    Finally, sort social_vec from high to low. Print the resulting vector.\\n\\n'</span>"
      ],
      "text/plain": [
       "[1] \"\\n\\n    Convert both linkedin and facebook lists to a vector, and store them as li_vec and fb_vec respectively.\\n    Next, append fb_vec to the li_vec (Facebook data comes last). Save the result as social_vec.\\n    Finally, sort social_vec from high to low. Print the resulting vector.\\n\\n\""
      ]
     },
     "metadata": {},
     "output_type": "display_data"
    },
    {
     "data": {
      "text/html": [
       "<style>\n",
       ".list-inline {list-style: none; margin:0; padding: 0}\n",
       ".list-inline>li {display: inline-block}\n",
       ".list-inline>li:not(:last-child)::after {content: \"\\00b7\"; padding: 0 .5ex}\n",
       "</style>\n",
       "<ol class=list-inline><li>17</li><li>17</li><li>16</li><li>16</li><li>14</li><li>14</li><li>13</li><li>13</li><li>9</li><li>8</li><li>7</li><li>5</li><li>5</li><li>2</li></ol>\n"
      ],
      "text/latex": [
       "\\begin{enumerate*}\n",
       "\\item 17\n",
       "\\item 17\n",
       "\\item 16\n",
       "\\item 16\n",
       "\\item 14\n",
       "\\item 14\n",
       "\\item 13\n",
       "\\item 13\n",
       "\\item 9\n",
       "\\item 8\n",
       "\\item 7\n",
       "\\item 5\n",
       "\\item 5\n",
       "\\item 2\n",
       "\\end{enumerate*}\n"
      ],
      "text/markdown": [
       "1. 17\n",
       "2. 17\n",
       "3. 16\n",
       "4. 16\n",
       "5. 14\n",
       "6. 14\n",
       "7. 13\n",
       "8. 13\n",
       "9. 9\n",
       "10. 8\n",
       "11. 7\n",
       "12. 5\n",
       "13. 5\n",
       "14. 2\n",
       "\n",
       "\n"
      ],
      "text/plain": [
       " [1] 17 17 16 16 14 14 13 13  9  8  7  5  5  2"
      ]
     },
     "metadata": {},
     "output_type": "display_data"
    },
    {
     "data": {
      "text/html": [
       "'\\nWonderful! These instructions required you to solve this challenge in a step-by-step approach. If you\\'re comfortable with the functions, you can combine some of these steps into powerful one-liners. \\n'"
      ],
      "text/latex": [
       "'\\textbackslash{}nWonderful! These instructions required you to solve this challenge in a step-by-step approach. If you\\textbackslash{}'re comfortable with the functions, you can combine some of these steps into powerful one-liners. \\textbackslash{}n'"
      ],
      "text/markdown": [
       "'\\nWonderful! These instructions required you to solve this challenge in a step-by-step approach. If you\\'re comfortable with the functions, you can combine some of these steps into powerful one-liners. \\n'"
      ],
      "text/plain": [
       "[1] \"\\nWonderful! These instructions required you to solve this challenge in a step-by-step approach. If you're comfortable with the functions, you can combine some of these steps into powerful one-liners. \\n\""
      ]
     },
     "metadata": {},
     "output_type": "display_data"
    }
   ],
   "source": [
    "# exercise 03\n",
    "\n",
    "\"\n",
    "Data Utilities\n",
    "\n",
    "R features a bunch of functions to juggle around with data structures::\n",
    "\n",
    "    seq(): Generate sequences, by specifying the from, to, and by arguments.\n",
    "    rep(): Replicate elements of vectors and lists.\n",
    "    sort(): Sort a vector in ascending order. Works on numerics, but also on character strings and logicals.\n",
    "    rev(): Reverse the elements in a data structures for which reversal is defined.\n",
    "    str(): Display the structure of any R object.\n",
    "    append(): Merge vectors or lists.\n",
    "    is.*(): Check for the class of an R object.\n",
    "    as.*(): Convert an R object from one class to another.\n",
    "    unlist(): Flatten (possibly embedded) lists to produce a vector.\n",
    "\n",
    "Remember the social media profile views data? Your LinkedIn and Facebook view counts for the last seven days have been pre-defined as lists.\n",
    "\"\n",
    "\n",
    "# Instructions\n",
    "\n",
    "\"\n",
    "\n",
    "    Convert both linkedin and facebook lists to a vector, and store them as li_vec and fb_vec respectively.\n",
    "    Next, append fb_vec to the li_vec (Facebook data comes last). Save the result as social_vec.\n",
    "    Finally, sort social_vec from high to low. Print the resulting vector.\n",
    "\n",
    "\"\n",
    "\n",
    "# solution\n",
    "\n",
    "# The linkedin and facebook lists have already been created for you\n",
    "linkedin <- list(16, 9, 13, 5, 2, 17, 14)\n",
    "facebook <- list(17, 7, 5, 16, 8, 13, 14)\n",
    "\n",
    "# Convert linkedin and facebook to a vector: li_vec and fb_vec\n",
    "li_vec <- unlist(linkedin)\n",
    "fb_vec <- unlist(facebook)\n",
    "\n",
    "# Append fb_vec to li_vec: social_vec\n",
    "social_vec <- append(li_vec, fb_vec)\n",
    "\n",
    "# Sort social_vec\n",
    "sort(social_vec, decreasing=TRUE)\n",
    "\n",
    "#----------------------------------#\n",
    "\n",
    "# Conclusion\n",
    "\n",
    "\"\n",
    "Wonderful! These instructions required you to solve this challenge in a step-by-step approach. If you're comfortable with the functions, you can combine some of these steps into powerful one-liners. \n",
    "\""
   ]
  },
  {
   "cell_type": "code",
   "execution_count": 4,
   "metadata": {
    "tags": [],
    "vscode": {
     "languageId": "r"
    }
   },
   "outputs": [
    {
     "data": {
      "text/html": [
       "'\\nFind the error (2)\\n\\nJust as before, let\\'s switch roles. It\\'s up to you to see what unforgivable mistakes we\\'ve made. Go fix them!\\n'"
      ],
      "text/latex": [
       "'\\textbackslash{}nFind the error (2)\\textbackslash{}n\\textbackslash{}nJust as before, let\\textbackslash{}'s switch roles. It\\textbackslash{}'s up to you to see what unforgivable mistakes we\\textbackslash{}'ve made. Go fix them!\\textbackslash{}n'"
      ],
      "text/markdown": [
       "'\\nFind the error (2)\\n\\nJust as before, let\\'s switch roles. It\\'s up to you to see what unforgivable mistakes we\\'ve made. Go fix them!\\n'"
      ],
      "text/plain": [
       "[1] \"\\nFind the error (2)\\n\\nJust as before, let's switch roles. It's up to you to see what unforgivable mistakes we've made. Go fix them!\\n\""
      ]
     },
     "metadata": {},
     "output_type": "display_data"
    },
    {
     "data": {
      "text/html": [
       "'\\nCorrect the expression. Make sure that your fix still uses the functions rep() and seq().\\n'"
      ],
      "text/latex": [
       "'\\textbackslash{}nCorrect the expression. Make sure that your fix still uses the functions rep() and seq().\\textbackslash{}n'"
      ],
      "text/markdown": [
       "'\\nCorrect the expression. Make sure that your fix still uses the functions rep() and seq().\\n'"
      ],
      "text/plain": [
       "[1] \"\\nCorrect the expression. Make sure that your fix still uses the functions rep() and seq().\\n\""
      ]
     },
     "metadata": {},
     "output_type": "display_data"
    },
    {
     "data": {
      "text/html": [
       "<style>\n",
       ".list-inline {list-style: none; margin:0; padding: 0}\n",
       ".list-inline>li {display: inline-block}\n",
       ".list-inline>li:not(:last-child)::after {content: \"\\00b7\"; padding: 0 .5ex}\n",
       "</style>\n",
       "<ol class=list-inline><li>1</li><li>3</li><li>5</li><li>7</li><li>1</li><li>3</li><li>5</li><li>7</li><li>1</li><li>3</li><li>5</li><li>7</li><li>1</li><li>3</li><li>5</li><li>7</li><li>1</li><li>3</li><li>5</li><li>7</li><li>1</li><li>3</li><li>5</li><li>7</li><li>1</li><li>3</li><li>5</li><li>7</li></ol>\n"
      ],
      "text/latex": [
       "\\begin{enumerate*}\n",
       "\\item 1\n",
       "\\item 3\n",
       "\\item 5\n",
       "\\item 7\n",
       "\\item 1\n",
       "\\item 3\n",
       "\\item 5\n",
       "\\item 7\n",
       "\\item 1\n",
       "\\item 3\n",
       "\\item 5\n",
       "\\item 7\n",
       "\\item 1\n",
       "\\item 3\n",
       "\\item 5\n",
       "\\item 7\n",
       "\\item 1\n",
       "\\item 3\n",
       "\\item 5\n",
       "\\item 7\n",
       "\\item 1\n",
       "\\item 3\n",
       "\\item 5\n",
       "\\item 7\n",
       "\\item 1\n",
       "\\item 3\n",
       "\\item 5\n",
       "\\item 7\n",
       "\\end{enumerate*}\n"
      ],
      "text/markdown": [
       "1. 1\n",
       "2. 3\n",
       "3. 5\n",
       "4. 7\n",
       "5. 1\n",
       "6. 3\n",
       "7. 5\n",
       "8. 7\n",
       "9. 1\n",
       "10. 3\n",
       "11. 5\n",
       "12. 7\n",
       "13. 1\n",
       "14. 3\n",
       "15. 5\n",
       "16. 7\n",
       "17. 1\n",
       "18. 3\n",
       "19. 5\n",
       "20. 7\n",
       "21. 1\n",
       "22. 3\n",
       "23. 5\n",
       "24. 7\n",
       "25. 1\n",
       "26. 3\n",
       "27. 5\n",
       "28. 7\n",
       "\n",
       "\n"
      ],
      "text/plain": [
       " [1] 1 3 5 7 1 3 5 7 1 3 5 7 1 3 5 7 1 3 5 7 1 3 5 7 1 3 5 7"
      ]
     },
     "metadata": {},
     "output_type": "display_data"
    },
    {
     "data": {
      "text/html": [
       "'\\nWonderful! Debugging code is also a big part of the daily routine of a data scientist, and you seem to be great at it! \\n'"
      ],
      "text/latex": [
       "'\\textbackslash{}nWonderful! Debugging code is also a big part of the daily routine of a data scientist, and you seem to be great at it! \\textbackslash{}n'"
      ],
      "text/markdown": [
       "'\\nWonderful! Debugging code is also a big part of the daily routine of a data scientist, and you seem to be great at it! \\n'"
      ],
      "text/plain": [
       "[1] \"\\nWonderful! Debugging code is also a big part of the daily routine of a data scientist, and you seem to be great at it! \\n\""
      ]
     },
     "metadata": {},
     "output_type": "display_data"
    }
   ],
   "source": [
    "# exercise 04\n",
    "\n",
    "\"\n",
    "Find the error (2)\n",
    "\n",
    "Just as before, let's switch roles. It's up to you to see what unforgivable mistakes we've made. Go fix them!\n",
    "\"\n",
    "\n",
    "# Instructions\n",
    "\n",
    "\"\n",
    "Correct the expression. Make sure that your fix still uses the functions rep() and seq().\n",
    "\"\n",
    "\n",
    "# solution\n",
    "\n",
    "# Fix me\n",
    "rep(seq(1, 7, by = 2), times = 7)\n",
    "\n",
    "#----------------------------------#\n",
    "\n",
    "# Conclusion\n",
    "\n",
    "\"\n",
    "Wonderful! Debugging code is also a big part of the daily routine of a data scientist, and you seem to be great at it! \n",
    "\""
   ]
  },
  {
   "cell_type": "code",
   "execution_count": 5,
   "metadata": {
    "tags": [],
    "vscode": {
     "languageId": "r"
    }
   },
   "outputs": [
    {
     "data": {
      "text/html": [
       "'\\nBeat Gauss using R\\n\\nThere is a popular story about young Gauss. As a pupil, he had a lazy teacher who wanted to keep the classroom busy by having them add up the numbers 1 to 100. Gauss came up with an answer almost instantaneously, 5050. On the spot, he had developed a formula for calculating the sum of an arithmetic series. There are more general formulas for calculating the sum of an arithmetic series with different starting values and increments. Instead of deriving such a formula, why not use R to calculate the sum of a sequence?\\n'"
      ],
      "text/latex": [
       "'\\textbackslash{}nBeat Gauss using R\\textbackslash{}n\\textbackslash{}nThere is a popular story about young Gauss. As a pupil, he had a lazy teacher who wanted to keep the classroom busy by having them add up the numbers 1 to 100. Gauss came up with an answer almost instantaneously, 5050. On the spot, he had developed a formula for calculating the sum of an arithmetic series. There are more general formulas for calculating the sum of an arithmetic series with different starting values and increments. Instead of deriving such a formula, why not use R to calculate the sum of a sequence?\\textbackslash{}n'"
      ],
      "text/markdown": [
       "'\\nBeat Gauss using R\\n\\nThere is a popular story about young Gauss. As a pupil, he had a lazy teacher who wanted to keep the classroom busy by having them add up the numbers 1 to 100. Gauss came up with an answer almost instantaneously, 5050. On the spot, he had developed a formula for calculating the sum of an arithmetic series. There are more general formulas for calculating the sum of an arithmetic series with different starting values and increments. Instead of deriving such a formula, why not use R to calculate the sum of a sequence?\\n'"
      ],
      "text/plain": [
       "[1] \"\\nBeat Gauss using R\\n\\nThere is a popular story about young Gauss. As a pupil, he had a lazy teacher who wanted to keep the classroom busy by having them add up the numbers 1 to 100. Gauss came up with an answer almost instantaneously, 5050. On the spot, he had developed a formula for calculating the sum of an arithmetic series. There are more general formulas for calculating the sum of an arithmetic series with different starting values and increments. Instead of deriving such a formula, why not use R to calculate the sum of a sequence?\\n\""
      ]
     },
     "metadata": {},
     "output_type": "display_data"
    },
    {
     "data": {
      "text/html": [
       "<span style=white-space:pre-wrap>'\\n\\n    Using the function seq(), create a sequence that ranges from 1 to 500 in increments of 3. Assign the resulting vector to a variable seq1.\\n    Again with the function seq(), create a sequence that ranges from 1200 to 900 in increments of -7. Assign it to a variable seq2.\\n    Calculate the total sum of the sequences, either by using the sum() function twice and adding the two results, or by first concatenating the sequences and then using the sum() function once. Print the result to the console.\\n\\n'</span>"
      ],
      "text/latex": [
       "'\\textbackslash{}n\\textbackslash{}n    Using the function seq(), create a sequence that ranges from 1 to 500 in increments of 3. Assign the resulting vector to a variable seq1.\\textbackslash{}n    Again with the function seq(), create a sequence that ranges from 1200 to 900 in increments of -7. Assign it to a variable seq2.\\textbackslash{}n    Calculate the total sum of the sequences, either by using the sum() function twice and adding the two results, or by first concatenating the sequences and then using the sum() function once. Print the result to the console.\\textbackslash{}n\\textbackslash{}n'"
      ],
      "text/markdown": [
       "<span style=white-space:pre-wrap>'\\n\\n    Using the function seq(), create a sequence that ranges from 1 to 500 in increments of 3. Assign the resulting vector to a variable seq1.\\n    Again with the function seq(), create a sequence that ranges from 1200 to 900 in increments of -7. Assign it to a variable seq2.\\n    Calculate the total sum of the sequences, either by using the sum() function twice and adding the two results, or by first concatenating the sequences and then using the sum() function once. Print the result to the console.\\n\\n'</span>"
      ],
      "text/plain": [
       "[1] \"\\n\\n    Using the function seq(), create a sequence that ranges from 1 to 500 in increments of 3. Assign the resulting vector to a variable seq1.\\n    Again with the function seq(), create a sequence that ranges from 1200 to 900 in increments of -7. Assign it to a variable seq2.\\n    Calculate the total sum of the sequences, either by using the sum() function twice and adding the two results, or by first concatenating the sequences and then using the sum() function once. Print the result to the console.\\n\\n\""
      ]
     },
     "metadata": {},
     "output_type": "display_data"
    },
    {
     "data": {
      "text/html": [
       "87029"
      ],
      "text/latex": [
       "87029"
      ],
      "text/markdown": [
       "87029"
      ],
      "text/plain": [
       "[1] 87029"
      ]
     },
     "metadata": {},
     "output_type": "display_data"
    },
    {
     "data": {
      "text/html": [
       "'\\nNice! Head over to the next video and learn more about regular expressions! \\n'"
      ],
      "text/latex": [
       "'\\textbackslash{}nNice! Head over to the next video and learn more about regular expressions! \\textbackslash{}n'"
      ],
      "text/markdown": [
       "'\\nNice! Head over to the next video and learn more about regular expressions! \\n'"
      ],
      "text/plain": [
       "[1] \"\\nNice! Head over to the next video and learn more about regular expressions! \\n\""
      ]
     },
     "metadata": {},
     "output_type": "display_data"
    }
   ],
   "source": [
    "# exercise 05\n",
    "\n",
    "\"\n",
    "Beat Gauss using R\n",
    "\n",
    "There is a popular story about young Gauss. As a pupil, he had a lazy teacher who wanted to keep the classroom busy by having them add up the numbers 1 to 100. Gauss came up with an answer almost instantaneously, 5050. On the spot, he had developed a formula for calculating the sum of an arithmetic series. There are more general formulas for calculating the sum of an arithmetic series with different starting values and increments. Instead of deriving such a formula, why not use R to calculate the sum of a sequence?\n",
    "\"\n",
    "\n",
    "# Instructions\n",
    "\n",
    "\"\n",
    "\n",
    "    Using the function seq(), create a sequence that ranges from 1 to 500 in increments of 3. Assign the resulting vector to a variable seq1.\n",
    "    Again with the function seq(), create a sequence that ranges from 1200 to 900 in increments of -7. Assign it to a variable seq2.\n",
    "    Calculate the total sum of the sequences, either by using the sum() function twice and adding the two results, or by first concatenating the sequences and then using the sum() function once. Print the result to the console.\n",
    "\n",
    "\"\n",
    "\n",
    "# solution\n",
    "\n",
    "# Create first sequence: seq1\n",
    "seq1 <- seq(1,500, by=3)\n",
    "\n",
    "# Create second sequence: seq2\n",
    "seq2 <- seq(1200, 900, by=-7)\n",
    "\n",
    "# Calculate total sum of the sequences\n",
    "sum(append(seq1,seq2))\n",
    "\n",
    "#----------------------------------#\n",
    "\n",
    "# Conclusion\n",
    "\n",
    "\"\n",
    "Nice! Head over to the next video and learn more about regular expressions! \n",
    "\""
   ]
  },
  {
   "cell_type": "code",
   "execution_count": 6,
   "metadata": {
    "tags": [],
    "vscode": {
     "languageId": "r"
    }
   },
   "outputs": [
    {
     "data": {
      "text/html": [
       "<span style=white-space:pre-wrap>'\\ngrepl &amp; grep\\n\\nIn their most basic form, regular expressions can be used to see whether a pattern exists inside a character string or a vector of character strings. For this purpose, you can use:\\n\\n    grepl(), which returns TRUE when a pattern is found in the corresponding character string.\\n    grep(), which returns a vector of indices of the character strings that contains the pattern.\\n\\nBoth functions need a pattern and an x argument, where pattern is the regular expression you want to match for, and the x argument is the character vector from which matches should be sought.\\n\\nIn this and the following exercises, you\\'ll be querying and manipulating a character vector of email addresses! The vector emails has been pre-defined so you can begin with the instructions straight away!\\n'</span>"
      ],
      "text/latex": [
       "'\\textbackslash{}ngrepl \\& grep\\textbackslash{}n\\textbackslash{}nIn their most basic form, regular expressions can be used to see whether a pattern exists inside a character string or a vector of character strings. For this purpose, you can use:\\textbackslash{}n\\textbackslash{}n    grepl(), which returns TRUE when a pattern is found in the corresponding character string.\\textbackslash{}n    grep(), which returns a vector of indices of the character strings that contains the pattern.\\textbackslash{}n\\textbackslash{}nBoth functions need a pattern and an x argument, where pattern is the regular expression you want to match for, and the x argument is the character vector from which matches should be sought.\\textbackslash{}n\\textbackslash{}nIn this and the following exercises, you\\textbackslash{}'ll be querying and manipulating a character vector of email addresses! The vector emails has been pre-defined so you can begin with the instructions straight away!\\textbackslash{}n'"
      ],
      "text/markdown": [
       "<span style=white-space:pre-wrap>'\\ngrepl &amp; grep\\n\\nIn their most basic form, regular expressions can be used to see whether a pattern exists inside a character string or a vector of character strings. For this purpose, you can use:\\n\\n    grepl(), which returns TRUE when a pattern is found in the corresponding character string.\\n    grep(), which returns a vector of indices of the character strings that contains the pattern.\\n\\nBoth functions need a pattern and an x argument, where pattern is the regular expression you want to match for, and the x argument is the character vector from which matches should be sought.\\n\\nIn this and the following exercises, you\\'ll be querying and manipulating a character vector of email addresses! The vector emails has been pre-defined so you can begin with the instructions straight away!\\n'</span>"
      ],
      "text/plain": [
       "[1] \"\\ngrepl & grep\\n\\nIn their most basic form, regular expressions can be used to see whether a pattern exists inside a character string or a vector of character strings. For this purpose, you can use:\\n\\n    grepl(), which returns TRUE when a pattern is found in the corresponding character string.\\n    grep(), which returns a vector of indices of the character strings that contains the pattern.\\n\\nBoth functions need a pattern and an x argument, where pattern is the regular expression you want to match for, and the x argument is the character vector from which matches should be sought.\\n\\nIn this and the following exercises, you'll be querying and manipulating a character vector of email addresses! The vector emails has been pre-defined so you can begin with the instructions straight away!\\n\""
      ]
     },
     "metadata": {},
     "output_type": "display_data"
    },
    {
     "data": {
      "text/html": [
       "<span style=white-space:pre-wrap>'\\n\\n    Use grepl() to generate a vector of logicals that indicates whether these email addresses contain edu. Print the result to the output.\\n    Do the same thing with grep(), but this time save the resulting indexes in a variable hits.\\n    Use the variable hits to select from the emails vector only the emails that contain edu.\\n\\n'</span>"
      ],
      "text/latex": [
       "'\\textbackslash{}n\\textbackslash{}n    Use grepl() to generate a vector of logicals that indicates whether these email addresses contain edu. Print the result to the output.\\textbackslash{}n    Do the same thing with grep(), but this time save the resulting indexes in a variable hits.\\textbackslash{}n    Use the variable hits to select from the emails vector only the emails that contain edu.\\textbackslash{}n\\textbackslash{}n'"
      ],
      "text/markdown": [
       "<span style=white-space:pre-wrap>'\\n\\n    Use grepl() to generate a vector of logicals that indicates whether these email addresses contain edu. Print the result to the output.\\n    Do the same thing with grep(), but this time save the resulting indexes in a variable hits.\\n    Use the variable hits to select from the emails vector only the emails that contain edu.\\n\\n'</span>"
      ],
      "text/plain": [
       "[1] \"\\n\\n    Use grepl() to generate a vector of logicals that indicates whether these email addresses contain edu. Print the result to the output.\\n    Do the same thing with grep(), but this time save the resulting indexes in a variable hits.\\n    Use the variable hits to select from the emails vector only the emails that contain edu.\\n\\n\""
      ]
     },
     "metadata": {},
     "output_type": "display_data"
    },
    {
     "data": {
      "text/html": [
       "<style>\n",
       ".list-inline {list-style: none; margin:0; padding: 0}\n",
       ".list-inline>li {display: inline-block}\n",
       ".list-inline>li:not(:last-child)::after {content: \"\\00b7\"; padding: 0 .5ex}\n",
       "</style>\n",
       "<ol class=list-inline><li>TRUE</li><li>TRUE</li><li>FALSE</li><li>TRUE</li><li>TRUE</li><li>FALSE</li></ol>\n"
      ],
      "text/latex": [
       "\\begin{enumerate*}\n",
       "\\item TRUE\n",
       "\\item TRUE\n",
       "\\item FALSE\n",
       "\\item TRUE\n",
       "\\item TRUE\n",
       "\\item FALSE\n",
       "\\end{enumerate*}\n"
      ],
      "text/markdown": [
       "1. TRUE\n",
       "2. TRUE\n",
       "3. FALSE\n",
       "4. TRUE\n",
       "5. TRUE\n",
       "6. FALSE\n",
       "\n",
       "\n"
      ],
      "text/plain": [
       "[1]  TRUE  TRUE FALSE  TRUE  TRUE FALSE"
      ]
     },
     "metadata": {},
     "output_type": "display_data"
    },
    {
     "data": {
      "text/html": [
       "<style>\n",
       ".list-inline {list-style: none; margin:0; padding: 0}\n",
       ".list-inline>li {display: inline-block}\n",
       ".list-inline>li:not(:last-child)::after {content: \"\\00b7\"; padding: 0 .5ex}\n",
       "</style>\n",
       "<ol class=list-inline><li>'john.doe@ivyleague.edu'</li><li>'education@world.gov'</li><li>'invalid.edu'</li><li>'quant@bigdatacollege.edu'</li></ol>\n"
      ],
      "text/latex": [
       "\\begin{enumerate*}\n",
       "\\item 'john.doe@ivyleague.edu'\n",
       "\\item 'education@world.gov'\n",
       "\\item 'invalid.edu'\n",
       "\\item 'quant@bigdatacollege.edu'\n",
       "\\end{enumerate*}\n"
      ],
      "text/markdown": [
       "1. 'john.doe@ivyleague.edu'\n",
       "2. 'education@world.gov'\n",
       "3. 'invalid.edu'\n",
       "4. 'quant@bigdatacollege.edu'\n",
       "\n",
       "\n"
      ],
      "text/plain": [
       "[1] \"john.doe@ivyleague.edu\"   \"education@world.gov\"     \n",
       "[3] \"invalid.edu\"              \"quant@bigdatacollege.edu\""
      ]
     },
     "metadata": {},
     "output_type": "display_data"
    },
    {
     "data": {
      "text/html": [
       "'\\nBellissimo! You can probably guess what we\\'re trying to achieve here: select all the emails that end with “.edu”. However, the strings education@world.gov and invalid.edu were also matched. Let\\'s see in the next exercise what you can do to improve our pattern and remove these false positives. \\n'"
      ],
      "text/latex": [
       "'\\textbackslash{}nBellissimo! You can probably guess what we\\textbackslash{}'re trying to achieve here: select all the emails that end with “.edu”. However, the strings education@world.gov and invalid.edu were also matched. Let\\textbackslash{}'s see in the next exercise what you can do to improve our pattern and remove these false positives. \\textbackslash{}n'"
      ],
      "text/markdown": [
       "'\\nBellissimo! You can probably guess what we\\'re trying to achieve here: select all the emails that end with “.edu”. However, the strings education@world.gov and invalid.edu were also matched. Let\\'s see in the next exercise what you can do to improve our pattern and remove these false positives. \\n'"
      ],
      "text/plain": [
       "[1] \"\\nBellissimo! You can probably guess what we're trying to achieve here: select all the emails that end with “.edu”. However, the strings education@world.gov and invalid.edu were also matched. Let's see in the next exercise what you can do to improve our pattern and remove these false positives. \\n\""
      ]
     },
     "metadata": {},
     "output_type": "display_data"
    }
   ],
   "source": [
    "# exercise 06\n",
    "\n",
    "\"\n",
    "grepl & grep\n",
    "\n",
    "In their most basic form, regular expressions can be used to see whether a pattern exists inside a character string or a vector of character strings. For this purpose, you can use:\n",
    "\n",
    "    grepl(), which returns TRUE when a pattern is found in the corresponding character string.\n",
    "    grep(), which returns a vector of indices of the character strings that contains the pattern.\n",
    "\n",
    "Both functions need a pattern and an x argument, where pattern is the regular expression you want to match for, and the x argument is the character vector from which matches should be sought.\n",
    "\n",
    "In this and the following exercises, you'll be querying and manipulating a character vector of email addresses! The vector emails has been pre-defined so you can begin with the instructions straight away!\n",
    "\"\n",
    "\n",
    "# Instructions\n",
    "\n",
    "\"\n",
    "\n",
    "    Use grepl() to generate a vector of logicals that indicates whether these email addresses contain edu. Print the result to the output.\n",
    "    Do the same thing with grep(), but this time save the resulting indexes in a variable hits.\n",
    "    Use the variable hits to select from the emails vector only the emails that contain edu.\n",
    "\n",
    "\"\n",
    "\n",
    "# solution\n",
    "\n",
    "# The emails vector has already been defined for you\n",
    "emails <- c(\"john.doe@ivyleague.edu\", \"education@world.gov\", \"dalai.lama@peace.org\",\n",
    "            \"invalid.edu\", \"quant@bigdatacollege.edu\", \"cookie.monster@sesame.tv\")\n",
    "\n",
    "# Use grepl() to match for \"edu\"\n",
    "grepl(\"edu\", emails)\n",
    "\n",
    "# Use grep() to match for \"edu\", save result to hits\n",
    "hits <- grep(\"edu\", emails)\n",
    "\n",
    "# Subset emails using hits\n",
    "emails[hits]\n",
    "\n",
    "#----------------------------------#\n",
    "\n",
    "# Conclusion\n",
    "\n",
    "\"\n",
    "Bellissimo! You can probably guess what we're trying to achieve here: select all the emails that end with “.edu”. However, the strings education@world.gov and invalid.edu were also matched. Let's see in the next exercise what you can do to improve our pattern and remove these false positives. \n",
    "\""
   ]
  },
  {
   "cell_type": "code",
   "execution_count": 7,
   "metadata": {
    "tags": [],
    "vscode": {
     "languageId": "r"
    }
   },
   "outputs": [
    {
     "data": {
      "text/html": [
       "<span style=white-space:pre-wrap>'\\ngrepl &amp; grep (2)\\n\\nYou can use the caret, ^, and the dollar sign, $ to match the content located in the start and end of a string, respectively. This could take us one step closer to a correct pattern for matching only the .edu email addresses from our list of emails. But there\\'s more that can be added to make the pattern more robust:\\n\\n    @, because a valid email must contain an at-sign.\\n    .*, which matches any character (.) zero or more times (*). Both the dot and the asterisk are metacharacters. You can use them to match any character between the at-sign and the .edu portion of an email address.\\n    \\\\.edu$, to match the .edu part of the email at the end of the string. The \\\\ part escapes the dot: it tells R that you want to use the . as an actual character.\\n\\n'</span>"
      ],
      "text/latex": [
       "'\\textbackslash{}ngrepl \\& grep (2)\\textbackslash{}n\\textbackslash{}nYou can use the caret, \\textasciicircum{}, and the dollar sign, \\$ to match the content located in the start and end of a string, respectively. This could take us one step closer to a correct pattern for matching only the .edu email addresses from our list of emails. But there\\textbackslash{}'s more that can be added to make the pattern more robust:\\textbackslash{}n\\textbackslash{}n    @, because a valid email must contain an at-sign.\\textbackslash{}n    .*, which matches any character (.) zero or more times (*). Both the dot and the asterisk are metacharacters. You can use them to match any character between the at-sign and the .edu portion of an email address.\\textbackslash{}n    \\textbackslash{}\\textbackslash{}.edu\\$, to match the .edu part of the email at the end of the string. The \\textbackslash{}\\textbackslash{} part escapes the dot: it tells R that you want to use the . as an actual character.\\textbackslash{}n\\textbackslash{}n'"
      ],
      "text/markdown": [
       "<span style=white-space:pre-wrap>'\\ngrepl &amp; grep (2)\\n\\nYou can use the caret, ^, and the dollar sign, $ to match the content located in the start and end of a string, respectively. This could take us one step closer to a correct pattern for matching only the .edu email addresses from our list of emails. But there\\'s more that can be added to make the pattern more robust:\\n\\n    @, because a valid email must contain an at-sign.\\n    .*, which matches any character (.) zero or more times (*). Both the dot and the asterisk are metacharacters. You can use them to match any character between the at-sign and the .edu portion of an email address.\\n    \\\\.edu$, to match the .edu part of the email at the end of the string. The \\\\ part escapes the dot: it tells R that you want to use the . as an actual character.\\n\\n'</span>"
      ],
      "text/plain": [
       "[1] \"\\ngrepl & grep (2)\\n\\nYou can use the caret, ^, and the dollar sign, $ to match the content located in the start and end of a string, respectively. This could take us one step closer to a correct pattern for matching only the .edu email addresses from our list of emails. But there's more that can be added to make the pattern more robust:\\n\\n    @, because a valid email must contain an at-sign.\\n    .*, which matches any character (.) zero or more times (*). Both the dot and the asterisk are metacharacters. You can use them to match any character between the at-sign and the .edu portion of an email address.\\n    \\\\.edu$, to match the .edu part of the email at the end of the string. The \\\\ part escapes the dot: it tells R that you want to use the . as an actual character.\\n\\n\""
      ]
     },
     "metadata": {},
     "output_type": "display_data"
    },
    {
     "data": {
      "text/html": [
       "<span style=white-space:pre-wrap>'\\n\\n    Use grepl() with the more advanced regular expression to return a logical vector. Simply print the result.\\n    Do a similar thing with grep() to create a vector of indices. Store the result in the variable hits.\\n    Use emails[hits] again to subset the emails vector.\\n\\n'</span>"
      ],
      "text/latex": [
       "'\\textbackslash{}n\\textbackslash{}n    Use grepl() with the more advanced regular expression to return a logical vector. Simply print the result.\\textbackslash{}n    Do a similar thing with grep() to create a vector of indices. Store the result in the variable hits.\\textbackslash{}n    Use emails{[}hits{]} again to subset the emails vector.\\textbackslash{}n\\textbackslash{}n'"
      ],
      "text/markdown": [
       "<span style=white-space:pre-wrap>'\\n\\n    Use grepl() with the more advanced regular expression to return a logical vector. Simply print the result.\\n    Do a similar thing with grep() to create a vector of indices. Store the result in the variable hits.\\n    Use emails[hits] again to subset the emails vector.\\n\\n'</span>"
      ],
      "text/plain": [
       "[1] \"\\n\\n    Use grepl() with the more advanced regular expression to return a logical vector. Simply print the result.\\n    Do a similar thing with grep() to create a vector of indices. Store the result in the variable hits.\\n    Use emails[hits] again to subset the emails vector.\\n\\n\""
      ]
     },
     "metadata": {},
     "output_type": "display_data"
    },
    {
     "data": {
      "text/html": [
       "<style>\n",
       ".list-inline {list-style: none; margin:0; padding: 0}\n",
       ".list-inline>li {display: inline-block}\n",
       ".list-inline>li:not(:last-child)::after {content: \"\\00b7\"; padding: 0 .5ex}\n",
       "</style>\n",
       "<ol class=list-inline><li>TRUE</li><li>FALSE</li><li>FALSE</li><li>FALSE</li><li>TRUE</li><li>FALSE</li></ol>\n"
      ],
      "text/latex": [
       "\\begin{enumerate*}\n",
       "\\item TRUE\n",
       "\\item FALSE\n",
       "\\item FALSE\n",
       "\\item FALSE\n",
       "\\item TRUE\n",
       "\\item FALSE\n",
       "\\end{enumerate*}\n"
      ],
      "text/markdown": [
       "1. TRUE\n",
       "2. FALSE\n",
       "3. FALSE\n",
       "4. FALSE\n",
       "5. TRUE\n",
       "6. FALSE\n",
       "\n",
       "\n"
      ],
      "text/plain": [
       "[1]  TRUE FALSE FALSE FALSE  TRUE FALSE"
      ]
     },
     "metadata": {},
     "output_type": "display_data"
    },
    {
     "data": {
      "text/html": [
       "<style>\n",
       ".list-inline {list-style: none; margin:0; padding: 0}\n",
       ".list-inline>li {display: inline-block}\n",
       ".list-inline>li:not(:last-child)::after {content: \"\\00b7\"; padding: 0 .5ex}\n",
       "</style>\n",
       "<ol class=list-inline><li>'john.doe@ivyleague.edu'</li><li>'quant@bigdatacollege.edu'</li></ol>\n"
      ],
      "text/latex": [
       "\\begin{enumerate*}\n",
       "\\item 'john.doe@ivyleague.edu'\n",
       "\\item 'quant@bigdatacollege.edu'\n",
       "\\end{enumerate*}\n"
      ],
      "text/markdown": [
       "1. 'john.doe@ivyleague.edu'\n",
       "2. 'quant@bigdatacollege.edu'\n",
       "\n",
       "\n"
      ],
      "text/plain": [
       "[1] \"john.doe@ivyleague.edu\"   \"quant@bigdatacollege.edu\""
      ]
     },
     "metadata": {},
     "output_type": "display_data"
    },
    {
     "data": {
      "text/html": [
       "'\\nGreat! A careful construction of our regular expression leads to more meaningful matches. However, even our robust email selector will often match some incorrect email addresses (for instance kiara@@fakemail.edu). Let\\'s not worry about this too much and continue with sub() and gsub() to actually edit the email addresses! \\n'"
      ],
      "text/latex": [
       "'\\textbackslash{}nGreat! A careful construction of our regular expression leads to more meaningful matches. However, even our robust email selector will often match some incorrect email addresses (for instance kiara@@fakemail.edu). Let\\textbackslash{}'s not worry about this too much and continue with sub() and gsub() to actually edit the email addresses! \\textbackslash{}n'"
      ],
      "text/markdown": [
       "'\\nGreat! A careful construction of our regular expression leads to more meaningful matches. However, even our robust email selector will often match some incorrect email addresses (for instance kiara@@fakemail.edu). Let\\'s not worry about this too much and continue with sub() and gsub() to actually edit the email addresses! \\n'"
      ],
      "text/plain": [
       "[1] \"\\nGreat! A careful construction of our regular expression leads to more meaningful matches. However, even our robust email selector will often match some incorrect email addresses (for instance kiara@@fakemail.edu). Let's not worry about this too much and continue with sub() and gsub() to actually edit the email addresses! \\n\""
      ]
     },
     "metadata": {},
     "output_type": "display_data"
    }
   ],
   "source": [
    "# exercise 07\n",
    "\n",
    "\"\n",
    "grepl & grep (2)\n",
    "\n",
    "You can use the caret, ^, and the dollar sign, $ to match the content located in the start and end of a string, respectively. This could take us one step closer to a correct pattern for matching only the .edu email addresses from our list of emails. But there's more that can be added to make the pattern more robust:\n",
    "\n",
    "    @, because a valid email must contain an at-sign.\n",
    "    .*, which matches any character (.) zero or more times (*). Both the dot and the asterisk are metacharacters. You can use them to match any character between the at-sign and the .edu portion of an email address.\n",
    "    \\\\.edu$, to match the .edu part of the email at the end of the string. The \\\\ part escapes the dot: it tells R that you want to use the . as an actual character.\n",
    "\n",
    "\"\n",
    "\n",
    "# Instructions\n",
    "\n",
    "\"\n",
    "\n",
    "    Use grepl() with the more advanced regular expression to return a logical vector. Simply print the result.\n",
    "    Do a similar thing with grep() to create a vector of indices. Store the result in the variable hits.\n",
    "    Use emails[hits] again to subset the emails vector.\n",
    "\n",
    "\"\n",
    "\n",
    "# solution\n",
    "\n",
    "# The emails vector has already been defined for you\n",
    "emails <- c(\"john.doe@ivyleague.edu\", \"education@world.gov\", \"dalai.lama@peace.org\",\n",
    "            \"invalid.edu\", \"quant@bigdatacollege.edu\", \"cookie.monster@sesame.tv\")\n",
    "\n",
    "# Use grepl() to match for .edu addresses more robustly\n",
    "grepl(\"@.*\\\\.edu$\", emails)\n",
    "\n",
    "# Use grep() to match for .edu addresses more robustly, save result to hits\n",
    "hits <- grep(\"@.*\\\\.edu$\", emails)\n",
    "\n",
    "# Subset emails using hits\n",
    "emails[hits]\n",
    "\n",
    "#----------------------------------#\n",
    "\n",
    "# Conclusion\n",
    "\n",
    "\"\n",
    "Great! A careful construction of our regular expression leads to more meaningful matches. However, even our robust email selector will often match some incorrect email addresses (for instance kiara@@fakemail.edu). Let's not worry about this too much and continue with sub() and gsub() to actually edit the email addresses! \n",
    "\""
   ]
  },
  {
   "cell_type": "code",
   "execution_count": 8,
   "metadata": {
    "tags": [],
    "vscode": {
     "languageId": "r"
    }
   },
   "outputs": [
    {
     "data": {
      "text/html": [
       "'\\nsub &amp; gsub\\n\\nWhile grep() and grepl() were used to simply check whether a regular expression could be matched with a character vector, sub() and gsub() take it one step further: you can specify a replacement argument. If inside the character vector x, the regular expression pattern is found, the matching element(s) will be replaced with replacement. sub() only replaces the first match, whereas gsub() replaces all matches.\\n\\nSuppose that emails vector you\\'ve been working with is an excerpt of DataCamp\\'s email database. Why not offer the owners of the .edu email addresses a new email address on the datacamp.edu domain? This could be quite a powerful marketing stunt: Online education is taking over traditional learning institutions! Convert your email and be a part of the new generation!\\n'"
      ],
      "text/latex": [
       "'\\textbackslash{}nsub \\& gsub\\textbackslash{}n\\textbackslash{}nWhile grep() and grepl() were used to simply check whether a regular expression could be matched with a character vector, sub() and gsub() take it one step further: you can specify a replacement argument. If inside the character vector x, the regular expression pattern is found, the matching element(s) will be replaced with replacement. sub() only replaces the first match, whereas gsub() replaces all matches.\\textbackslash{}n\\textbackslash{}nSuppose that emails vector you\\textbackslash{}'ve been working with is an excerpt of DataCamp\\textbackslash{}'s email database. Why not offer the owners of the .edu email addresses a new email address on the datacamp.edu domain? This could be quite a powerful marketing stunt: Online education is taking over traditional learning institutions! Convert your email and be a part of the new generation!\\textbackslash{}n'"
      ],
      "text/markdown": [
       "'\\nsub &amp; gsub\\n\\nWhile grep() and grepl() were used to simply check whether a regular expression could be matched with a character vector, sub() and gsub() take it one step further: you can specify a replacement argument. If inside the character vector x, the regular expression pattern is found, the matching element(s) will be replaced with replacement. sub() only replaces the first match, whereas gsub() replaces all matches.\\n\\nSuppose that emails vector you\\'ve been working with is an excerpt of DataCamp\\'s email database. Why not offer the owners of the .edu email addresses a new email address on the datacamp.edu domain? This could be quite a powerful marketing stunt: Online education is taking over traditional learning institutions! Convert your email and be a part of the new generation!\\n'"
      ],
      "text/plain": [
       "[1] \"\\nsub & gsub\\n\\nWhile grep() and grepl() were used to simply check whether a regular expression could be matched with a character vector, sub() and gsub() take it one step further: you can specify a replacement argument. If inside the character vector x, the regular expression pattern is found, the matching element(s) will be replaced with replacement. sub() only replaces the first match, whereas gsub() replaces all matches.\\n\\nSuppose that emails vector you've been working with is an excerpt of DataCamp's email database. Why not offer the owners of the .edu email addresses a new email address on the datacamp.edu domain? This could be quite a powerful marketing stunt: Online education is taking over traditional learning institutions! Convert your email and be a part of the new generation!\\n\""
      ]
     },
     "metadata": {},
     "output_type": "display_data"
    },
    {
     "data": {
      "text/html": [
       "'\\nWith the advanced regular expression @.*\\\\.edu$, use sub() to replace the match with @datacamp.edu. Since there will only be one match per character string, gsub() is not necessary here. Inspect the resulting output.\\n'"
      ],
      "text/latex": [
       "'\\textbackslash{}nWith the advanced regular expression @.*\\textbackslash{}\\textbackslash{}.edu\\$, use sub() to replace the match with @datacamp.edu. Since there will only be one match per character string, gsub() is not necessary here. Inspect the resulting output.\\textbackslash{}n'"
      ],
      "text/markdown": [
       "'\\nWith the advanced regular expression @.*\\\\.edu$, use sub() to replace the match with @datacamp.edu. Since there will only be one match per character string, gsub() is not necessary here. Inspect the resulting output.\\n'"
      ],
      "text/plain": [
       "[1] \"\\nWith the advanced regular expression @.*\\\\.edu$, use sub() to replace the match with @datacamp.edu. Since there will only be one match per character string, gsub() is not necessary here. Inspect the resulting output.\\n\""
      ]
     },
     "metadata": {},
     "output_type": "display_data"
    },
    {
     "data": {
      "text/html": [
       "<style>\n",
       ".list-inline {list-style: none; margin:0; padding: 0}\n",
       ".list-inline>li {display: inline-block}\n",
       ".list-inline>li:not(:last-child)::after {content: \"\\00b7\"; padding: 0 .5ex}\n",
       "</style>\n",
       "<ol class=list-inline><li>'john.doe@datacamp.edu'</li><li>'education@world.gov'</li><li>'global@peace.org'</li><li>'invalid.edu'</li><li>'quant@datacamp.edu'</li><li>'cookie.monster@sesame.tv'</li></ol>\n"
      ],
      "text/latex": [
       "\\begin{enumerate*}\n",
       "\\item 'john.doe@datacamp.edu'\n",
       "\\item 'education@world.gov'\n",
       "\\item 'global@peace.org'\n",
       "\\item 'invalid.edu'\n",
       "\\item 'quant@datacamp.edu'\n",
       "\\item 'cookie.monster@sesame.tv'\n",
       "\\end{enumerate*}\n"
      ],
      "text/markdown": [
       "1. 'john.doe@datacamp.edu'\n",
       "2. 'education@world.gov'\n",
       "3. 'global@peace.org'\n",
       "4. 'invalid.edu'\n",
       "5. 'quant@datacamp.edu'\n",
       "6. 'cookie.monster@sesame.tv'\n",
       "\n",
       "\n"
      ],
      "text/plain": [
       "[1] \"john.doe@datacamp.edu\"    \"education@world.gov\"     \n",
       "[3] \"global@peace.org\"         \"invalid.edu\"             \n",
       "[5] \"quant@datacamp.edu\"       \"cookie.monster@sesame.tv\""
      ]
     },
     "metadata": {},
     "output_type": "display_data"
    },
    {
     "data": {
      "text/html": [
       "'\\nAwesome! Notice how only the valid .edu addresses are changed while the other emails remain unchanged. To get a taste of other things you can accomplish with regex, head over to the next exercise. \\n'"
      ],
      "text/latex": [
       "'\\textbackslash{}nAwesome! Notice how only the valid .edu addresses are changed while the other emails remain unchanged. To get a taste of other things you can accomplish with regex, head over to the next exercise. \\textbackslash{}n'"
      ],
      "text/markdown": [
       "'\\nAwesome! Notice how only the valid .edu addresses are changed while the other emails remain unchanged. To get a taste of other things you can accomplish with regex, head over to the next exercise. \\n'"
      ],
      "text/plain": [
       "[1] \"\\nAwesome! Notice how only the valid .edu addresses are changed while the other emails remain unchanged. To get a taste of other things you can accomplish with regex, head over to the next exercise. \\n\""
      ]
     },
     "metadata": {},
     "output_type": "display_data"
    }
   ],
   "source": [
    "# exercise 08\n",
    "\n",
    "\"\n",
    "sub & gsub\n",
    "\n",
    "While grep() and grepl() were used to simply check whether a regular expression could be matched with a character vector, sub() and gsub() take it one step further: you can specify a replacement argument. If inside the character vector x, the regular expression pattern is found, the matching element(s) will be replaced with replacement. sub() only replaces the first match, whereas gsub() replaces all matches.\n",
    "\n",
    "Suppose that emails vector you've been working with is an excerpt of DataCamp's email database. Why not offer the owners of the .edu email addresses a new email address on the datacamp.edu domain? This could be quite a powerful marketing stunt: Online education is taking over traditional learning institutions! Convert your email and be a part of the new generation!\n",
    "\"\n",
    "\n",
    "# Instructions\n",
    "\n",
    "\"\n",
    "With the advanced regular expression @.*\\\\.edu$, use sub() to replace the match with @datacamp.edu. Since there will only be one match per character string, gsub() is not necessary here. Inspect the resulting output.\n",
    "\"\n",
    "\n",
    "# solution\n",
    "\n",
    "# The emails vector has already been defined for you\n",
    "emails <- c(\"john.doe@ivyleague.edu\", \"education@world.gov\", \"global@peace.org\",\n",
    "            \"invalid.edu\", \"quant@bigdatacollege.edu\", \"cookie.monster@sesame.tv\")\n",
    "\n",
    "# Use sub() to convert the email domains to datacamp.edu\n",
    "sub(\"@.*\\\\.edu$\", \"@datacamp.edu\", emails)\n",
    "\n",
    "#----------------------------------#\n",
    "\n",
    "# Conclusion\n",
    "\n",
    "\"\n",
    "Awesome! Notice how only the valid .edu addresses are changed while the other emails remain unchanged. To get a taste of other things you can accomplish with regex, head over to the next exercise. \n",
    "\""
   ]
  },
  {
   "cell_type": "markdown",
   "metadata": {},
   "source": [
    "# sub & gsub (2)\n",
    "\n",
    "Regular expressions are a typical concept that you'll learn by doing and by seeing other examples. Before you rack your brains over the regular expression in this exercise, have a look at the new things that will be used:\n",
    "\n",
    "    .*: A usual suspect! It can be read as \"any character that is matched zero or more times\".\n",
    "    \\\\s: Match a space. The \"s\" is normally a character, escaping it (\\\\) makes it a metacharacter.\n",
    "    [0-9]+: Match the numbers 0 to 9, at least once (+).\n",
    "    ([0-9]+): The parentheses are used to make parts of the matching string available to define the replacement. The \\\\1 in the replacement argument of sub() gets set to the string that is captured by the regular expression [0-9]+.\n",
    "\n",
    "awards <- c(\"Won 1 Oscar.\",\n",
    "  \"Won 1 Oscar. Another 9 wins & 24 nominations.\",\n",
    "  \"1 win and 2 nominations.\",\n",
    "  \"2 wins & 3 nominations.\",\n",
    "  \"Nominated for 2 Golden Globes. 1 more win & 2 nominations.\",\n",
    "  \"4 wins & 1 nomination.\")\n",
    "\n",
    "sub(\".*\\\\s([0-9]+)\\\\snomination.*$\", \"\\\\1\", awards)\n",
    "\n",
    "What does this code chunk return? awards is already defined in the workspace so you can start playing in the console straight away.\n",
    "\n",
    "### Answer\n",
    "\n",
    "(A vector of character strings containing \"Won 1 Oscar.\", \"24\", \"2\", \"3\", \"2\", \"1\".)\n",
    "\n",
    "**Great! Can you explain why all of this happened? The ([0-9]+) selects the entire number that comes before the word “nomination” in the string, and the entire match gets replaced by this number because of the \\\\1 that reference to the content inside the parentheses. The next video will get you up to speed with times and dates in R!**"
   ]
  },
  {
   "cell_type": "code",
   "execution_count": 9,
   "metadata": {
    "tags": [],
    "vscode": {
     "languageId": "r"
    }
   },
   "outputs": [
    {
     "data": {
      "text/html": [
       "'\\nRight here, right now\\n\\nIn R, dates are represented by Date objects, while times are represented by POSIXct objects. Under the hood, however, these dates and times are simple numerical values. Date objects store the number of days since the 1st of January in 1970. POSIXct objects on the other hand, store the number of seconds since the 1st of January in 1970.\\n\\nThe 1st of January in 1970 is the common origin for representing times and dates in a wide range of programming languages. There is no particular reason for this; it is a simple convention. Of course, it\\'s also possible to create dates and times before 1970; the corresponding numerical values are simply negative in this case.\\n'"
      ],
      "text/latex": [
       "'\\textbackslash{}nRight here, right now\\textbackslash{}n\\textbackslash{}nIn R, dates are represented by Date objects, while times are represented by POSIXct objects. Under the hood, however, these dates and times are simple numerical values. Date objects store the number of days since the 1st of January in 1970. POSIXct objects on the other hand, store the number of seconds since the 1st of January in 1970.\\textbackslash{}n\\textbackslash{}nThe 1st of January in 1970 is the common origin for representing times and dates in a wide range of programming languages. There is no particular reason for this; it is a simple convention. Of course, it\\textbackslash{}'s also possible to create dates and times before 1970; the corresponding numerical values are simply negative in this case.\\textbackslash{}n'"
      ],
      "text/markdown": [
       "'\\nRight here, right now\\n\\nIn R, dates are represented by Date objects, while times are represented by POSIXct objects. Under the hood, however, these dates and times are simple numerical values. Date objects store the number of days since the 1st of January in 1970. POSIXct objects on the other hand, store the number of seconds since the 1st of January in 1970.\\n\\nThe 1st of January in 1970 is the common origin for representing times and dates in a wide range of programming languages. There is no particular reason for this; it is a simple convention. Of course, it\\'s also possible to create dates and times before 1970; the corresponding numerical values are simply negative in this case.\\n'"
      ],
      "text/plain": [
       "[1] \"\\nRight here, right now\\n\\nIn R, dates are represented by Date objects, while times are represented by POSIXct objects. Under the hood, however, these dates and times are simple numerical values. Date objects store the number of days since the 1st of January in 1970. POSIXct objects on the other hand, store the number of seconds since the 1st of January in 1970.\\n\\nThe 1st of January in 1970 is the common origin for representing times and dates in a wide range of programming languages. There is no particular reason for this; it is a simple convention. Of course, it's also possible to create dates and times before 1970; the corresponding numerical values are simply negative in this case.\\n\""
      ]
     },
     "metadata": {},
     "output_type": "display_data"
    },
    {
     "data": {
      "text/html": [
       "<span style=white-space:pre-wrap>'\\n\\n    Ask R for the current date, and store the result in a variable today.\\n    To see what today looks like under the hood, call unclass() on it.\\n    Ask R for the current time, and store the result in a variable, now.\\n    To see the numerical value that corresponds to now, call unclass() on it.\\n\\n'</span>"
      ],
      "text/latex": [
       "'\\textbackslash{}n\\textbackslash{}n    Ask R for the current date, and store the result in a variable today.\\textbackslash{}n    To see what today looks like under the hood, call unclass() on it.\\textbackslash{}n    Ask R for the current time, and store the result in a variable, now.\\textbackslash{}n    To see the numerical value that corresponds to now, call unclass() on it.\\textbackslash{}n\\textbackslash{}n'"
      ],
      "text/markdown": [
       "<span style=white-space:pre-wrap>'\\n\\n    Ask R for the current date, and store the result in a variable today.\\n    To see what today looks like under the hood, call unclass() on it.\\n    Ask R for the current time, and store the result in a variable, now.\\n    To see the numerical value that corresponds to now, call unclass() on it.\\n\\n'</span>"
      ],
      "text/plain": [
       "[1] \"\\n\\n    Ask R for the current date, and store the result in a variable today.\\n    To see what today looks like under the hood, call unclass() on it.\\n    Ask R for the current time, and store the result in a variable, now.\\n    To see the numerical value that corresponds to now, call unclass() on it.\\n\\n\""
      ]
     },
     "metadata": {},
     "output_type": "display_data"
    },
    {
     "data": {
      "text/html": [
       "19705"
      ],
      "text/latex": [
       "19705"
      ],
      "text/markdown": [
       "19705"
      ],
      "text/plain": [
       "[1] 19705"
      ]
     },
     "metadata": {},
     "output_type": "display_data"
    },
    {
     "data": {
      "text/html": [
       "1702556606.08953"
      ],
      "text/latex": [
       "1702556606.08953"
      ],
      "text/markdown": [
       "1702556606.08953"
      ],
      "text/plain": [
       "[1] 1702556606"
      ]
     },
     "metadata": {},
     "output_type": "display_data"
    },
    {
     "data": {
      "text/html": [
       "'\\nGreat! Using R to get the current date and time is nice, but you should also know how to create dates and times from character strings. Find out how in the next exercises! \\n'"
      ],
      "text/latex": [
       "'\\textbackslash{}nGreat! Using R to get the current date and time is nice, but you should also know how to create dates and times from character strings. Find out how in the next exercises! \\textbackslash{}n'"
      ],
      "text/markdown": [
       "'\\nGreat! Using R to get the current date and time is nice, but you should also know how to create dates and times from character strings. Find out how in the next exercises! \\n'"
      ],
      "text/plain": [
       "[1] \"\\nGreat! Using R to get the current date and time is nice, but you should also know how to create dates and times from character strings. Find out how in the next exercises! \\n\""
      ]
     },
     "metadata": {},
     "output_type": "display_data"
    }
   ],
   "source": [
    "# exercise 09\n",
    "\n",
    "\"\n",
    "Right here, right now\n",
    "\n",
    "In R, dates are represented by Date objects, while times are represented by POSIXct objects. Under the hood, however, these dates and times are simple numerical values. Date objects store the number of days since the 1st of January in 1970. POSIXct objects on the other hand, store the number of seconds since the 1st of January in 1970.\n",
    "\n",
    "The 1st of January in 1970 is the common origin for representing times and dates in a wide range of programming languages. There is no particular reason for this; it is a simple convention. Of course, it's also possible to create dates and times before 1970; the corresponding numerical values are simply negative in this case.\n",
    "\"\n",
    "\n",
    "# Instructions\n",
    "\n",
    "\"\n",
    "\n",
    "    Ask R for the current date, and store the result in a variable today.\n",
    "    To see what today looks like under the hood, call unclass() on it.\n",
    "    Ask R for the current time, and store the result in a variable, now.\n",
    "    To see the numerical value that corresponds to now, call unclass() on it.\n",
    "\n",
    "\"\n",
    "\n",
    "# solution\n",
    "\n",
    "# Get the current date: today\n",
    "today <- Sys.Date()\n",
    "\n",
    "# See what today looks like under the hood\n",
    "unclass(today)\n",
    "\n",
    "# Get the current time: now\n",
    "now <- Sys.time()\n",
    "\n",
    "# See what now looks like under the hood\n",
    "unclass(now)\n",
    "\n",
    "#----------------------------------#\n",
    "\n",
    "# Conclusion\n",
    "\n",
    "\"\n",
    "Great! Using R to get the current date and time is nice, but you should also know how to create dates and times from character strings. Find out how in the next exercises! \n",
    "\""
   ]
  },
  {
   "cell_type": "code",
   "execution_count": 10,
   "metadata": {
    "tags": [],
    "vscode": {
     "languageId": "r"
    }
   },
   "outputs": [
    {
     "data": {
      "text/html": [
       "<span style=white-space:pre-wrap>'\\nCreate and format dates\\n\\nTo create a Date object from a simple character string in R, you can use the as.Date() function. The character string has to obey a format that can be defined using a set of symbols (the examples correspond to 13 January, 1982):\\n\\n    %Y: 4-digit year (1982)\\n    %y: 2-digit year (82)\\n    %m: 2-digit month (01)\\n    %d: 2-digit day of the month (13)\\n    %A: weekday (Wednesday)\\n    %a: abbreviated weekday (Wed)\\n    %B: month (January)\\n    %b: abbreviated month (Jan)\\n\\nThe following R commands will all create the same Date object for the 13th day in January of 1982:\\n\\nas.Date(1982-01-13)\\nas.Date(Jan-13-82, format = %b-%d-%y)\\nas.Date(13 January, 1982, format = %d %B, %Y)\\n\\nNotice that the first line here did not need a format argument, because by default R matches your character string to the formats %Y-%m-%d or %Y/%m/%d.\\n\\nIn addition to creating dates, you can also convert dates to character strings that use a different date notation. For this, you use the format() function. Try the following lines of code:\\n\\ntoday &lt;- Sys.Date()\\nformat(Sys.Date(), format = %d %B, %Y)\\nformat(Sys.Date(), format = Today is a %A!)\\n\\n'</span>"
      ],
      "text/latex": [
       "'\\textbackslash{}nCreate and format dates\\textbackslash{}n\\textbackslash{}nTo create a Date object from a simple character string in R, you can use the as.Date() function. The character string has to obey a format that can be defined using a set of symbols (the examples correspond to 13 January, 1982):\\textbackslash{}n\\textbackslash{}n    \\%Y: 4-digit year (1982)\\textbackslash{}n    \\%y: 2-digit year (82)\\textbackslash{}n    \\%m: 2-digit month (01)\\textbackslash{}n    \\%d: 2-digit day of the month (13)\\textbackslash{}n    \\%A: weekday (Wednesday)\\textbackslash{}n    \\%a: abbreviated weekday (Wed)\\textbackslash{}n    \\%B: month (January)\\textbackslash{}n    \\%b: abbreviated month (Jan)\\textbackslash{}n\\textbackslash{}nThe following R commands will all create the same Date object for the 13th day in January of 1982:\\textbackslash{}n\\textbackslash{}nas.Date(1982-01-13)\\textbackslash{}nas.Date(Jan-13-82, format = \\%b-\\%d-\\%y)\\textbackslash{}nas.Date(13 January, 1982, format = \\%d \\%B, \\%Y)\\textbackslash{}n\\textbackslash{}nNotice that the first line here did not need a format argument, because by default R matches your character string to the formats \\%Y-\\%m-\\%d or \\%Y/\\%m/\\%d.\\textbackslash{}n\\textbackslash{}nIn addition to creating dates, you can also convert dates to character strings that use a different date notation. For this, you use the format() function. Try the following lines of code:\\textbackslash{}n\\textbackslash{}ntoday <- Sys.Date()\\textbackslash{}nformat(Sys.Date(), format = \\%d \\%B, \\%Y)\\textbackslash{}nformat(Sys.Date(), format = Today is a \\%A!)\\textbackslash{}n\\textbackslash{}n'"
      ],
      "text/markdown": [
       "<span style=white-space:pre-wrap>'\\nCreate and format dates\\n\\nTo create a Date object from a simple character string in R, you can use the as.Date() function. The character string has to obey a format that can be defined using a set of symbols (the examples correspond to 13 January, 1982):\\n\\n    %Y: 4-digit year (1982)\\n    %y: 2-digit year (82)\\n    %m: 2-digit month (01)\\n    %d: 2-digit day of the month (13)\\n    %A: weekday (Wednesday)\\n    %a: abbreviated weekday (Wed)\\n    %B: month (January)\\n    %b: abbreviated month (Jan)\\n\\nThe following R commands will all create the same Date object for the 13th day in January of 1982:\\n\\nas.Date(1982-01-13)\\nas.Date(Jan-13-82, format = %b-%d-%y)\\nas.Date(13 January, 1982, format = %d %B, %Y)\\n\\nNotice that the first line here did not need a format argument, because by default R matches your character string to the formats %Y-%m-%d or %Y/%m/%d.\\n\\nIn addition to creating dates, you can also convert dates to character strings that use a different date notation. For this, you use the format() function. Try the following lines of code:\\n\\ntoday &lt;- Sys.Date()\\nformat(Sys.Date(), format = %d %B, %Y)\\nformat(Sys.Date(), format = Today is a %A!)\\n\\n'</span>"
      ],
      "text/plain": [
       "[1] \"\\nCreate and format dates\\n\\nTo create a Date object from a simple character string in R, you can use the as.Date() function. The character string has to obey a format that can be defined using a set of symbols (the examples correspond to 13 January, 1982):\\n\\n    %Y: 4-digit year (1982)\\n    %y: 2-digit year (82)\\n    %m: 2-digit month (01)\\n    %d: 2-digit day of the month (13)\\n    %A: weekday (Wednesday)\\n    %a: abbreviated weekday (Wed)\\n    %B: month (January)\\n    %b: abbreviated month (Jan)\\n\\nThe following R commands will all create the same Date object for the 13th day in January of 1982:\\n\\nas.Date(1982-01-13)\\nas.Date(Jan-13-82, format = %b-%d-%y)\\nas.Date(13 January, 1982, format = %d %B, %Y)\\n\\nNotice that the first line here did not need a format argument, because by default R matches your character string to the formats %Y-%m-%d or %Y/%m/%d.\\n\\nIn addition to creating dates, you can also convert dates to character strings that use a different date notation. For this, you use the format() function. Try the following lines of code:\\n\\ntoday <- Sys.Date()\\nformat(Sys.Date(), format = %d %B, %Y)\\nformat(Sys.Date(), format = Today is a %A!)\\n\\n\""
      ]
     },
     "metadata": {},
     "output_type": "display_data"
    },
    {
     "data": {
      "text/html": [
       "<span style=white-space:pre-wrap>'\\n\\n    Three character strings representing dates have been created for you. Convert them to dates using as.Date(), and assign them to date1, date2, and date3 respectively. The code for date1 is already included.\\n    Extract useful information from the dates as character strings using format(). From the first date, select the weekday. From the second date, select the day of the month. From the third date, you should select the abbreviated month and the 4-digit year, separated by a space.\\n\\n'</span>"
      ],
      "text/latex": [
       "'\\textbackslash{}n\\textbackslash{}n    Three character strings representing dates have been created for you. Convert them to dates using as.Date(), and assign them to date1, date2, and date3 respectively. The code for date1 is already included.\\textbackslash{}n    Extract useful information from the dates as character strings using format(). From the first date, select the weekday. From the second date, select the day of the month. From the third date, you should select the abbreviated month and the 4-digit year, separated by a space.\\textbackslash{}n\\textbackslash{}n'"
      ],
      "text/markdown": [
       "<span style=white-space:pre-wrap>'\\n\\n    Three character strings representing dates have been created for you. Convert them to dates using as.Date(), and assign them to date1, date2, and date3 respectively. The code for date1 is already included.\\n    Extract useful information from the dates as character strings using format(). From the first date, select the weekday. From the second date, select the day of the month. From the third date, you should select the abbreviated month and the 4-digit year, separated by a space.\\n\\n'</span>"
      ],
      "text/plain": [
       "[1] \"\\n\\n    Three character strings representing dates have been created for you. Convert them to dates using as.Date(), and assign them to date1, date2, and date3 respectively. The code for date1 is already included.\\n    Extract useful information from the dates as character strings using format(). From the first date, select the weekday. From the second date, select the day of the month. From the third date, you should select the abbreviated month and the 4-digit year, separated by a space.\\n\\n\""
      ]
     },
     "metadata": {},
     "output_type": "display_data"
    },
    {
     "data": {
      "text/html": [
       "NA"
      ],
      "text/latex": [
       "NA"
      ],
      "text/markdown": [
       "NA"
      ],
      "text/plain": [
       "[1] NA"
      ]
     },
     "metadata": {},
     "output_type": "display_data"
    },
    {
     "data": {
      "text/html": [
       "'15'"
      ],
      "text/latex": [
       "'15'"
      ],
      "text/markdown": [
       "'15'"
      ],
      "text/plain": [
       "[1] \"15\""
      ]
     },
     "metadata": {},
     "output_type": "display_data"
    },
    {
     "data": {
      "text/html": [
       "NA"
      ],
      "text/latex": [
       "NA"
      ],
      "text/markdown": [
       "NA"
      ],
      "text/plain": [
       "[1] NA"
      ]
     },
     "metadata": {},
     "output_type": "display_data"
    },
    {
     "data": {
      "text/html": [
       "'\\nYou\\'re a date magician! You can use POSIXct objects, i.e. Time objects in R, in a similar fashion. Give it a try in the next exercise. \\n'"
      ],
      "text/latex": [
       "'\\textbackslash{}nYou\\textbackslash{}'re a date magician! You can use POSIXct objects, i.e. Time objects in R, in a similar fashion. Give it a try in the next exercise. \\textbackslash{}n'"
      ],
      "text/markdown": [
       "'\\nYou\\'re a date magician! You can use POSIXct objects, i.e. Time objects in R, in a similar fashion. Give it a try in the next exercise. \\n'"
      ],
      "text/plain": [
       "[1] \"\\nYou're a date magician! You can use POSIXct objects, i.e. Time objects in R, in a similar fashion. Give it a try in the next exercise. \\n\""
      ]
     },
     "metadata": {},
     "output_type": "display_data"
    }
   ],
   "source": [
    "# exercise 10\n",
    "\n",
    "\"\n",
    "Create and format dates\n",
    "\n",
    "To create a Date object from a simple character string in R, you can use the as.Date() function. The character string has to obey a format that can be defined using a set of symbols (the examples correspond to 13 January, 1982):\n",
    "\n",
    "    %Y: 4-digit year (1982)\n",
    "    %y: 2-digit year (82)\n",
    "    %m: 2-digit month (01)\n",
    "    %d: 2-digit day of the month (13)\n",
    "    %A: weekday (Wednesday)\n",
    "    %a: abbreviated weekday (Wed)\n",
    "    %B: month (January)\n",
    "    %b: abbreviated month (Jan)\n",
    "\n",
    "The following R commands will all create the same Date object for the 13th day in January of 1982:\n",
    "\n",
    "as.Date(1982-01-13)\n",
    "as.Date(Jan-13-82, format = %b-%d-%y)\n",
    "as.Date(13 January, 1982, format = %d %B, %Y)\n",
    "\n",
    "Notice that the first line here did not need a format argument, because by default R matches your character string to the formats %Y-%m-%d or %Y/%m/%d.\n",
    "\n",
    "In addition to creating dates, you can also convert dates to character strings that use a different date notation. For this, you use the format() function. Try the following lines of code:\n",
    "\n",
    "today <- Sys.Date()\n",
    "format(Sys.Date(), format = %d %B, %Y)\n",
    "format(Sys.Date(), format = Today is a %A!)\n",
    "\n",
    "\"\n",
    "\n",
    "# Instructions\n",
    "\n",
    "\"\n",
    "\n",
    "    Three character strings representing dates have been created for you. Convert them to dates using as.Date(), and assign them to date1, date2, and date3 respectively. The code for date1 is already included.\n",
    "    Extract useful information from the dates as character strings using format(). From the first date, select the weekday. From the second date, select the day of the month. From the third date, you should select the abbreviated month and the 4-digit year, separated by a space.\n",
    "\n",
    "\"\n",
    "\n",
    "# solution\n",
    "\n",
    "# Definition of character strings representing dates\n",
    "str1 <- \"May 23, '96\"\n",
    "str2 <- \"2012-03-15\"\n",
    "str3 <- \"30/January/2006\"\n",
    "\n",
    "# Convert the strings to dates: date1, date2, date3\n",
    "date1 <- as.Date(str1, format = \"%b %d, '%y\")\n",
    "date2 <- as.Date(str2, format = \"%Y-%m-%d\")\n",
    "date3 <- as.Date(str3, format = \"%d/%B/%Y\")\n",
    "\n",
    "# Convert dates to formatted strings\n",
    "format(date1, \"%A\")\n",
    "format(date2, \"%d\")\n",
    "format(date3, \"%b %Y\")\n",
    "\n",
    "#----------------------------------#\n",
    "\n",
    "# Conclusion\n",
    "\n",
    "\"\n",
    "You're a date magician! You can use POSIXct objects, i.e. Time objects in R, in a similar fashion. Give it a try in the next exercise. \n",
    "\""
   ]
  },
  {
   "cell_type": "code",
   "execution_count": 11,
   "metadata": {
    "vscode": {
     "languageId": "r"
    }
   },
   "outputs": [
    {
     "data": {
      "text/html": [
       "<span style=white-space:pre-wrap>'\\nCreate and format times\\n\\nSimilar to working with dates, you can use as.POSIXct() to convert from a character string to a POSIXct object, and format() to convert from a POSIXct object to a character string. Again, you have a wide variety of symbols:\\n\\n    %H: hours as a decimal number (00-23)\\n    %I: hours as a decimal number (01-12)\\n    %M: minutes as a decimal number\\n    %S: seconds as a decimal number\\n    %T: shorthand notation for the typical format %H:%M:%S\\n    %p: AM/PM indicator\\n\\nFor a full list of conversion symbols, consult the strptime documentation in the console:\\n\\n?strptime\\n\\nAgain,as.POSIXct() uses a default format to match character strings. In this case, it\\'s %Y-%m-%d %H:%M:%S. In this exercise, abstraction is made of different time zones.\\n'</span>"
      ],
      "text/latex": [
       "'\\textbackslash{}nCreate and format times\\textbackslash{}n\\textbackslash{}nSimilar to working with dates, you can use as.POSIXct() to convert from a character string to a POSIXct object, and format() to convert from a POSIXct object to a character string. Again, you have a wide variety of symbols:\\textbackslash{}n\\textbackslash{}n    \\%H: hours as a decimal number (00-23)\\textbackslash{}n    \\%I: hours as a decimal number (01-12)\\textbackslash{}n    \\%M: minutes as a decimal number\\textbackslash{}n    \\%S: seconds as a decimal number\\textbackslash{}n    \\%T: shorthand notation for the typical format \\%H:\\%M:\\%S\\textbackslash{}n    \\%p: AM/PM indicator\\textbackslash{}n\\textbackslash{}nFor a full list of conversion symbols, consult the strptime documentation in the console:\\textbackslash{}n\\textbackslash{}n?strptime\\textbackslash{}n\\textbackslash{}nAgain,as.POSIXct() uses a default format to match character strings. In this case, it\\textbackslash{}'s \\%Y-\\%m-\\%d \\%H:\\%M:\\%S. In this exercise, abstraction is made of different time zones.\\textbackslash{}n'"
      ],
      "text/markdown": [
       "<span style=white-space:pre-wrap>'\\nCreate and format times\\n\\nSimilar to working with dates, you can use as.POSIXct() to convert from a character string to a POSIXct object, and format() to convert from a POSIXct object to a character string. Again, you have a wide variety of symbols:\\n\\n    %H: hours as a decimal number (00-23)\\n    %I: hours as a decimal number (01-12)\\n    %M: minutes as a decimal number\\n    %S: seconds as a decimal number\\n    %T: shorthand notation for the typical format %H:%M:%S\\n    %p: AM/PM indicator\\n\\nFor a full list of conversion symbols, consult the strptime documentation in the console:\\n\\n?strptime\\n\\nAgain,as.POSIXct() uses a default format to match character strings. In this case, it\\'s %Y-%m-%d %H:%M:%S. In this exercise, abstraction is made of different time zones.\\n'</span>"
      ],
      "text/plain": [
       "[1] \"\\nCreate and format times\\n\\nSimilar to working with dates, you can use as.POSIXct() to convert from a character string to a POSIXct object, and format() to convert from a POSIXct object to a character string. Again, you have a wide variety of symbols:\\n\\n    %H: hours as a decimal number (00-23)\\n    %I: hours as a decimal number (01-12)\\n    %M: minutes as a decimal number\\n    %S: seconds as a decimal number\\n    %T: shorthand notation for the typical format %H:%M:%S\\n    %p: AM/PM indicator\\n\\nFor a full list of conversion symbols, consult the strptime documentation in the console:\\n\\n?strptime\\n\\nAgain,as.POSIXct() uses a default format to match character strings. In this case, it's %Y-%m-%d %H:%M:%S. In this exercise, abstraction is made of different time zones.\\n\""
      ]
     },
     "metadata": {},
     "output_type": "display_data"
    },
    {
     "data": {
      "text/html": [
       "<span style=white-space:pre-wrap>'\\n\\n    Convert two strings that represent timestamps, str1 and str2, to POSIXct objects called time1 and time2.\\n    Using format(), create a string from time1 containing only the minutes.\\n    From time2, extract the hours and minutes as hours:minutes AM/PM. Refer to the assignment text above to find the correct conversion symbols!\\n\\n'</span>"
      ],
      "text/latex": [
       "'\\textbackslash{}n\\textbackslash{}n    Convert two strings that represent timestamps, str1 and str2, to POSIXct objects called time1 and time2.\\textbackslash{}n    Using format(), create a string from time1 containing only the minutes.\\textbackslash{}n    From time2, extract the hours and minutes as hours:minutes AM/PM. Refer to the assignment text above to find the correct conversion symbols!\\textbackslash{}n\\textbackslash{}n'"
      ],
      "text/markdown": [
       "<span style=white-space:pre-wrap>'\\n\\n    Convert two strings that represent timestamps, str1 and str2, to POSIXct objects called time1 and time2.\\n    Using format(), create a string from time1 containing only the minutes.\\n    From time2, extract the hours and minutes as hours:minutes AM/PM. Refer to the assignment text above to find the correct conversion symbols!\\n\\n'</span>"
      ],
      "text/plain": [
       "[1] \"\\n\\n    Convert two strings that represent timestamps, str1 and str2, to POSIXct objects called time1 and time2.\\n    Using format(), create a string from time1 containing only the minutes.\\n    From time2, extract the hours and minutes as hours:minutes AM/PM. Refer to the assignment text above to find the correct conversion symbols!\\n\\n\""
      ]
     },
     "metadata": {},
     "output_type": "display_data"
    },
    {
     "data": {
      "text/html": [
       "NA"
      ],
      "text/latex": [
       "NA"
      ],
      "text/markdown": [
       "NA"
      ],
      "text/plain": [
       "[1] NA"
      ]
     },
     "metadata": {},
     "output_type": "display_data"
    },
    {
     "data": {
      "text/html": [
       "'02:23 '"
      ],
      "text/latex": [
       "'02:23 '"
      ],
      "text/markdown": [
       "'02:23 '"
      ],
      "text/plain": [
       "[1] \"02:23 \""
      ]
     },
     "metadata": {},
     "output_type": "display_data"
    },
    {
     "data": {
      "text/html": [
       "'\\nGreat! \\n'"
      ],
      "text/latex": [
       "'\\textbackslash{}nGreat! \\textbackslash{}n'"
      ],
      "text/markdown": [
       "'\\nGreat! \\n'"
      ],
      "text/plain": [
       "[1] \"\\nGreat! \\n\""
      ]
     },
     "metadata": {},
     "output_type": "display_data"
    }
   ],
   "source": [
    "# exercise 11\n",
    "\n",
    "\"\n",
    "Create and format times\n",
    "\n",
    "Similar to working with dates, you can use as.POSIXct() to convert from a character string to a POSIXct object, and format() to convert from a POSIXct object to a character string. Again, you have a wide variety of symbols:\n",
    "\n",
    "    %H: hours as a decimal number (00-23)\n",
    "    %I: hours as a decimal number (01-12)\n",
    "    %M: minutes as a decimal number\n",
    "    %S: seconds as a decimal number\n",
    "    %T: shorthand notation for the typical format %H:%M:%S\n",
    "    %p: AM/PM indicator\n",
    "\n",
    "For a full list of conversion symbols, consult the strptime documentation in the console:\n",
    "\n",
    "?strptime\n",
    "\n",
    "Again,as.POSIXct() uses a default format to match character strings. In this case, it's %Y-%m-%d %H:%M:%S. In this exercise, abstraction is made of different time zones.\n",
    "\"\n",
    "\n",
    "# Instructions\n",
    "\n",
    "\"\n",
    "\n",
    "    Convert two strings that represent timestamps, str1 and str2, to POSIXct objects called time1 and time2.\n",
    "    Using format(), create a string from time1 containing only the minutes.\n",
    "    From time2, extract the hours and minutes as hours:minutes AM/PM. Refer to the assignment text above to find the correct conversion symbols!\n",
    "\n",
    "\"\n",
    "\n",
    "# solution\n",
    "\n",
    "# Definition of character strings representing times\n",
    "str1 <- \"May 23, '96 hours:23 minutes:01 seconds:45\"\n",
    "str2 <- \"2012-3-12 14:23:08\"\n",
    "\n",
    "# Convert the strings to POSIXct objects: time1, time2\n",
    "time1 <- as.POSIXct(str1, format = \"%B %d, '%y hours:%H minutes:%M seconds:%S\")\n",
    "time2 <- as.POSIXct(str2)\n",
    "\n",
    "# Convert times to formatted strings\n",
    "format(time1, \"%M\")\n",
    "format(time2, \"%I:%M %p\")\n",
    "\n",
    "#----------------------------------#\n",
    "\n",
    "# Conclusion\n",
    "\n",
    "\"\n",
    "Great! \n",
    "\""
   ]
  },
  {
   "cell_type": "code",
   "execution_count": 13,
   "metadata": {
    "vscode": {
     "languageId": "r"
    }
   },
   "outputs": [],
   "source": [
    "day1 <- as.Date(\"2023-11-26\")\n",
    "day2 <- as.Date(\"2023-11-28\")\n",
    "day3 <- as.Date(\"2023-12-03\")\n",
    "day4 <- as.Date(\"2023-12-09\")\n",
    "day5 <- as.Date(\"2023-12-14\")"
   ]
  },
  {
   "cell_type": "code",
   "execution_count": 14,
   "metadata": {
    "vscode": {
     "languageId": "r"
    }
   },
   "outputs": [
    {
     "data": {
      "text/html": [
       "'\\nCalculations with Dates\\n\\nBoth Date and POSIXct R objects are represented by simple numerical values under the hood. This makes calculation with time and date objects very straightforward: R performs the calculations using the underlying numerical values, and then converts the result back to human-readable time information again.\\n\\nYou can increment and decrement Date objects, or do actual calculations with them:\\n\\ntoday &lt;- Sys.Date()\\ntoday + 1\\ntoday - 1\\n\\nas.Date(2015-03-12) - as.Date(2015-02-27)\\n\\nTo control your eating habits, you decided to write down the dates of the last five days that you ate pizza. In the workspace, these dates are defined as five Date objects, day1 to day5. A vector pizza containing these 5 Date objects has been pre-defined for you.\\n'"
      ],
      "text/latex": [
       "'\\textbackslash{}nCalculations with Dates\\textbackslash{}n\\textbackslash{}nBoth Date and POSIXct R objects are represented by simple numerical values under the hood. This makes calculation with time and date objects very straightforward: R performs the calculations using the underlying numerical values, and then converts the result back to human-readable time information again.\\textbackslash{}n\\textbackslash{}nYou can increment and decrement Date objects, or do actual calculations with them:\\textbackslash{}n\\textbackslash{}ntoday <- Sys.Date()\\textbackslash{}ntoday + 1\\textbackslash{}ntoday - 1\\textbackslash{}n\\textbackslash{}nas.Date(2015-03-12) - as.Date(2015-02-27)\\textbackslash{}n\\textbackslash{}nTo control your eating habits, you decided to write down the dates of the last five days that you ate pizza. In the workspace, these dates are defined as five Date objects, day1 to day5. A vector pizza containing these 5 Date objects has been pre-defined for you.\\textbackslash{}n'"
      ],
      "text/markdown": [
       "'\\nCalculations with Dates\\n\\nBoth Date and POSIXct R objects are represented by simple numerical values under the hood. This makes calculation with time and date objects very straightforward: R performs the calculations using the underlying numerical values, and then converts the result back to human-readable time information again.\\n\\nYou can increment and decrement Date objects, or do actual calculations with them:\\n\\ntoday &lt;- Sys.Date()\\ntoday + 1\\ntoday - 1\\n\\nas.Date(2015-03-12) - as.Date(2015-02-27)\\n\\nTo control your eating habits, you decided to write down the dates of the last five days that you ate pizza. In the workspace, these dates are defined as five Date objects, day1 to day5. A vector pizza containing these 5 Date objects has been pre-defined for you.\\n'"
      ],
      "text/plain": [
       "[1] \"\\nCalculations with Dates\\n\\nBoth Date and POSIXct R objects are represented by simple numerical values under the hood. This makes calculation with time and date objects very straightforward: R performs the calculations using the underlying numerical values, and then converts the result back to human-readable time information again.\\n\\nYou can increment and decrement Date objects, or do actual calculations with them:\\n\\ntoday <- Sys.Date()\\ntoday + 1\\ntoday - 1\\n\\nas.Date(2015-03-12) - as.Date(2015-02-27)\\n\\nTo control your eating habits, you decided to write down the dates of the last five days that you ate pizza. In the workspace, these dates are defined as five Date objects, day1 to day5. A vector pizza containing these 5 Date objects has been pre-defined for you.\\n\""
      ]
     },
     "metadata": {},
     "output_type": "display_data"
    },
    {
     "data": {
      "text/html": [
       "<span style=white-space:pre-wrap>'\\n\\n    Calculate the number of days that passed between the last and the first day you ate pizza. Print the result.\\n    Use the function diff() on pizza to calculate the differences between consecutive pizza days. Store the result in a new variable day_diff.\\n    Calculate the average period between two consecutive pizza days. Print the result.\\n\\n'</span>"
      ],
      "text/latex": [
       "'\\textbackslash{}n\\textbackslash{}n    Calculate the number of days that passed between the last and the first day you ate pizza. Print the result.\\textbackslash{}n    Use the function diff() on pizza to calculate the differences between consecutive pizza days. Store the result in a new variable day\\_diff.\\textbackslash{}n    Calculate the average period between two consecutive pizza days. Print the result.\\textbackslash{}n\\textbackslash{}n'"
      ],
      "text/markdown": [
       "<span style=white-space:pre-wrap>'\\n\\n    Calculate the number of days that passed between the last and the first day you ate pizza. Print the result.\\n    Use the function diff() on pizza to calculate the differences between consecutive pizza days. Store the result in a new variable day_diff.\\n    Calculate the average period between two consecutive pizza days. Print the result.\\n\\n'</span>"
      ],
      "text/plain": [
       "[1] \"\\n\\n    Calculate the number of days that passed between the last and the first day you ate pizza. Print the result.\\n    Use the function diff() on pizza to calculate the differences between consecutive pizza days. Store the result in a new variable day_diff.\\n    Calculate the average period between two consecutive pizza days. Print the result.\\n\\n\""
      ]
     },
     "metadata": {},
     "output_type": "display_data"
    },
    {
     "data": {
      "text/plain": [
       "Time difference of 18 days"
      ]
     },
     "metadata": {},
     "output_type": "display_data"
    },
    {
     "data": {
      "text/plain": [
       "Time difference of 4.5 days"
      ]
     },
     "metadata": {},
     "output_type": "display_data"
    },
    {
     "data": {
      "text/html": [
       "'\\nGreat! Head over to the next exercise. \\n'"
      ],
      "text/latex": [
       "'\\textbackslash{}nGreat! Head over to the next exercise. \\textbackslash{}n'"
      ],
      "text/markdown": [
       "'\\nGreat! Head over to the next exercise. \\n'"
      ],
      "text/plain": [
       "[1] \"\\nGreat! Head over to the next exercise. \\n\""
      ]
     },
     "metadata": {},
     "output_type": "display_data"
    }
   ],
   "source": [
    "# exercise 12\n",
    "\n",
    "\"\n",
    "Calculations with Dates\n",
    "\n",
    "Both Date and POSIXct R objects are represented by simple numerical values under the hood. This makes calculation with time and date objects very straightforward: R performs the calculations using the underlying numerical values, and then converts the result back to human-readable time information again.\n",
    "\n",
    "You can increment and decrement Date objects, or do actual calculations with them:\n",
    "\n",
    "today <- Sys.Date()\n",
    "today + 1\n",
    "today - 1\n",
    "\n",
    "as.Date(2015-03-12) - as.Date(2015-02-27)\n",
    "\n",
    "To control your eating habits, you decided to write down the dates of the last five days that you ate pizza. In the workspace, these dates are defined as five Date objects, day1 to day5. A vector pizza containing these 5 Date objects has been pre-defined for you.\n",
    "\"\n",
    "\n",
    "# Instructions\n",
    "\n",
    "\"\n",
    "\n",
    "    Calculate the number of days that passed between the last and the first day you ate pizza. Print the result.\n",
    "    Use the function diff() on pizza to calculate the differences between consecutive pizza days. Store the result in a new variable day_diff.\n",
    "    Calculate the average period between two consecutive pizza days. Print the result.\n",
    "\n",
    "\"\n",
    "\n",
    "# solution\n",
    "\n",
    "# day1, day2, day3, day4 and day5 are already available in the workspace\n",
    "\n",
    "# Difference between last and first pizza day\n",
    "day5 - day1\n",
    "\n",
    "# Create vector pizza\n",
    "pizza <- c(day1, day2, day3, day4, day5)\n",
    "\n",
    "# Create differences between consecutive pizza days: day_diff\n",
    "day_diff <- diff(pizza)\n",
    "\n",
    "# Average period between two consecutive pizza days\n",
    "mean(day_diff)\n",
    "\n",
    "#----------------------------------#\n",
    "\n",
    "# Conclusion\n",
    "\n",
    "\"\n",
    "Great! Head over to the next exercise. \n",
    "\""
   ]
  },
  {
   "cell_type": "code",
   "execution_count": 16,
   "metadata": {
    "vscode": {
     "languageId": "r"
    }
   },
   "outputs": [],
   "source": [
    "\n",
    "login <- as.POSIXct(c(\"2023-11-30 10:18:04\", \"2023-12-05 09:14:18\",\n",
    "                             \"2023-12-05 12:21:51\", \"2023-12-05 12:37:24\",\n",
    "                             \"2023-12-07 21:37:55\"), tz = \"UTC\")\n",
    "\n",
    "logout <- as.POSIXct(c(\"2023-11-30 10:56:29\", \"2023-12-05 09:14:52\",\n",
    "                              \"2023-12-05 12:35:48\", \"2023-12-05 13:17:22\",\n",
    "                              \"2023-12-07 22:08:47\"), tz = \"UTC\")\n",
    "\n"
   ]
  },
  {
   "cell_type": "code",
   "execution_count": 17,
   "metadata": {
    "vscode": {
     "languageId": "r"
    }
   },
   "outputs": [
    {
     "data": {
      "text/html": [
       "<span style=white-space:pre-wrap>'\\nCalculations with Times\\n\\nCalculations using POSIXct objects are completely analogous to those using Date objects. Try to experiment with this code to increase or decrease POSIXct objects:\\n\\nnow &lt;- Sys.time()\\nnow + 3600          # add an hour\\nnow - 3600 * 24     # subtract a day\\n\\nAdding or subtracting time objects is also straightforward:\\n\\nbirth &lt;- as.POSIXct(1879-03-14 14:37:23)\\ndeath &lt;- as.POSIXct(1955-04-18 03:47:12)\\neinstein &lt;- death - birth\\neinstein\\n\\nYou\\'re developing a website that requires users to log in and out. You want to know what is the total and average amount of time a particular user spends on your website. This user has logged in 5 times and logged out 5 times as well. These times are gathered in the vectors login and logout, which are already defined in the workspace.\\n'</span>"
      ],
      "text/latex": [
       "'\\textbackslash{}nCalculations with Times\\textbackslash{}n\\textbackslash{}nCalculations using POSIXct objects are completely analogous to those using Date objects. Try to experiment with this code to increase or decrease POSIXct objects:\\textbackslash{}n\\textbackslash{}nnow <- Sys.time()\\textbackslash{}nnow + 3600          \\# add an hour\\textbackslash{}nnow - 3600 * 24     \\# subtract a day\\textbackslash{}n\\textbackslash{}nAdding or subtracting time objects is also straightforward:\\textbackslash{}n\\textbackslash{}nbirth <- as.POSIXct(1879-03-14 14:37:23)\\textbackslash{}ndeath <- as.POSIXct(1955-04-18 03:47:12)\\textbackslash{}neinstein <- death - birth\\textbackslash{}neinstein\\textbackslash{}n\\textbackslash{}nYou\\textbackslash{}'re developing a website that requires users to log in and out. You want to know what is the total and average amount of time a particular user spends on your website. This user has logged in 5 times and logged out 5 times as well. These times are gathered in the vectors login and logout, which are already defined in the workspace.\\textbackslash{}n'"
      ],
      "text/markdown": [
       "<span style=white-space:pre-wrap>'\\nCalculations with Times\\n\\nCalculations using POSIXct objects are completely analogous to those using Date objects. Try to experiment with this code to increase or decrease POSIXct objects:\\n\\nnow &lt;- Sys.time()\\nnow + 3600          # add an hour\\nnow - 3600 * 24     # subtract a day\\n\\nAdding or subtracting time objects is also straightforward:\\n\\nbirth &lt;- as.POSIXct(1879-03-14 14:37:23)\\ndeath &lt;- as.POSIXct(1955-04-18 03:47:12)\\neinstein &lt;- death - birth\\neinstein\\n\\nYou\\'re developing a website that requires users to log in and out. You want to know what is the total and average amount of time a particular user spends on your website. This user has logged in 5 times and logged out 5 times as well. These times are gathered in the vectors login and logout, which are already defined in the workspace.\\n'</span>"
      ],
      "text/plain": [
       "[1] \"\\nCalculations with Times\\n\\nCalculations using POSIXct objects are completely analogous to those using Date objects. Try to experiment with this code to increase or decrease POSIXct objects:\\n\\nnow <- Sys.time()\\nnow + 3600          # add an hour\\nnow - 3600 * 24     # subtract a day\\n\\nAdding or subtracting time objects is also straightforward:\\n\\nbirth <- as.POSIXct(1879-03-14 14:37:23)\\ndeath <- as.POSIXct(1955-04-18 03:47:12)\\neinstein <- death - birth\\neinstein\\n\\nYou're developing a website that requires users to log in and out. You want to know what is the total and average amount of time a particular user spends on your website. This user has logged in 5 times and logged out 5 times as well. These times are gathered in the vectors login and logout, which are already defined in the workspace.\\n\""
      ]
     },
     "metadata": {},
     "output_type": "display_data"
    },
    {
     "data": {
      "text/html": [
       "<span style=white-space:pre-wrap>'\\n\\n    Calculate the difference between the two vectors logout and login, i.e. the time the user was online in each independent session. Store the result in a variable time_online.\\n    Inspect the variable time_online by printing it.\\n    Calculate the total time that the user was online. Print the result.\\n    Calculate the average time the user was online. Print the result.\\n\\n'</span>"
      ],
      "text/latex": [
       "'\\textbackslash{}n\\textbackslash{}n    Calculate the difference between the two vectors logout and login, i.e. the time the user was online in each independent session. Store the result in a variable time\\_online.\\textbackslash{}n    Inspect the variable time\\_online by printing it.\\textbackslash{}n    Calculate the total time that the user was online. Print the result.\\textbackslash{}n    Calculate the average time the user was online. Print the result.\\textbackslash{}n\\textbackslash{}n'"
      ],
      "text/markdown": [
       "<span style=white-space:pre-wrap>'\\n\\n    Calculate the difference between the two vectors logout and login, i.e. the time the user was online in each independent session. Store the result in a variable time_online.\\n    Inspect the variable time_online by printing it.\\n    Calculate the total time that the user was online. Print the result.\\n    Calculate the average time the user was online. Print the result.\\n\\n'</span>"
      ],
      "text/plain": [
       "[1] \"\\n\\n    Calculate the difference between the two vectors logout and login, i.e. the time the user was online in each independent session. Store the result in a variable time_online.\\n    Inspect the variable time_online by printing it.\\n    Calculate the total time that the user was online. Print the result.\\n    Calculate the average time the user was online. Print the result.\\n\\n\""
      ]
     },
     "metadata": {},
     "output_type": "display_data"
    },
    {
     "data": {
      "text/plain": [
       "Time differences in secs\n",
       "[1] 2305   34  837 2398 1852"
      ]
     },
     "metadata": {},
     "output_type": "display_data"
    },
    {
     "data": {
      "text/plain": [
       "Time difference of 7426 secs"
      ]
     },
     "metadata": {},
     "output_type": "display_data"
    },
    {
     "data": {
      "text/plain": [
       "Time difference of 1485.2 secs"
      ]
     },
     "metadata": {},
     "output_type": "display_data"
    },
    {
     "data": {
      "text/html": [
       "'\\nGreat! Time to tackle the final exercise of this course! \\n'"
      ],
      "text/latex": [
       "'\\textbackslash{}nGreat! Time to tackle the final exercise of this course! \\textbackslash{}n'"
      ],
      "text/markdown": [
       "'\\nGreat! Time to tackle the final exercise of this course! \\n'"
      ],
      "text/plain": [
       "[1] \"\\nGreat! Time to tackle the final exercise of this course! \\n\""
      ]
     },
     "metadata": {},
     "output_type": "display_data"
    }
   ],
   "source": [
    "# exercise 13\n",
    "\n",
    "\"\n",
    "Calculations with Times\n",
    "\n",
    "Calculations using POSIXct objects are completely analogous to those using Date objects. Try to experiment with this code to increase or decrease POSIXct objects:\n",
    "\n",
    "now <- Sys.time()\n",
    "now + 3600          # add an hour\n",
    "now - 3600 * 24     # subtract a day\n",
    "\n",
    "Adding or subtracting time objects is also straightforward:\n",
    "\n",
    "birth <- as.POSIXct(1879-03-14 14:37:23)\n",
    "death <- as.POSIXct(1955-04-18 03:47:12)\n",
    "einstein <- death - birth\n",
    "einstein\n",
    "\n",
    "You're developing a website that requires users to log in and out. You want to know what is the total and average amount of time a particular user spends on your website. This user has logged in 5 times and logged out 5 times as well. These times are gathered in the vectors login and logout, which are already defined in the workspace.\n",
    "\"\n",
    "\n",
    "# Instructions\n",
    "\n",
    "\"\n",
    "\n",
    "    Calculate the difference between the two vectors logout and login, i.e. the time the user was online in each independent session. Store the result in a variable time_online.\n",
    "    Inspect the variable time_online by printing it.\n",
    "    Calculate the total time that the user was online. Print the result.\n",
    "    Calculate the average time the user was online. Print the result.\n",
    "\n",
    "\"\n",
    "\n",
    "# solution\n",
    "\n",
    "# login and logout are already defined in the workspace\n",
    "# Calculate the difference between login and logout: time_online\n",
    "time_online <- logout - login\n",
    "\n",
    "# Inspect the variable time_online\n",
    "time_online\n",
    "\n",
    "# Calculate the total time online\n",
    "sum(time_online)\n",
    "\n",
    "# Calculate the average time online\n",
    "mean(time_online)\n",
    "\n",
    "#----------------------------------#\n",
    "\n",
    "# Conclusion\n",
    "\n",
    "\"\n",
    "Great! Time to tackle the final exercise of this course! \n",
    "\""
   ]
  },
  {
   "cell_type": "code",
   "execution_count": 18,
   "metadata": {
    "vscode": {
     "languageId": "r"
    }
   },
   "outputs": [],
   "source": [
    "astro <- c(spring = \"20-Mar-2015\", summer = \"25-Jun-2015\", fall = \"23-Sep-2015\", winter = \"22-Dec-2015\")\n",
    "meteo <- c(spring = \"March 1, 15\", summer = \"June 1, 15\", fall = \"September 1, 15\", winter = \"December 1, 15\")"
   ]
  },
  {
   "cell_type": "code",
   "execution_count": 19,
   "metadata": {
    "vscode": {
     "languageId": "r"
    }
   },
   "outputs": [
    {
     "data": {
      "text/html": [
       "'\\nTime is of the essence\\n\\nThe dates when a season begins and ends can vary depending on who you ask. People in Australia will tell you that spring starts on September 1st. The Irish people in the Northern hemisphere will swear that spring starts on February 1st, with the celebration of St. Brigid\\'s Day. Then there\\'s also the difference between astronomical and meteorological seasons: while astronomers are used to equinoxes and solstices, meteorologists divide the year into 4 fixed seasons that are each three months long. (source: www.timeanddate.com)\\n\\nA vector astro, which contains character strings representing the dates on which the 4 astronomical seasons start, has been defined on your workspace. Similarly, a vector meteo has already been created for you, with the meteorological beginnings of a season.\\n'"
      ],
      "text/latex": [
       "'\\textbackslash{}nTime is of the essence\\textbackslash{}n\\textbackslash{}nThe dates when a season begins and ends can vary depending on who you ask. People in Australia will tell you that spring starts on September 1st. The Irish people in the Northern hemisphere will swear that spring starts on February 1st, with the celebration of St. Brigid\\textbackslash{}'s Day. Then there\\textbackslash{}'s also the difference between astronomical and meteorological seasons: while astronomers are used to equinoxes and solstices, meteorologists divide the year into 4 fixed seasons that are each three months long. (source: www.timeanddate.com)\\textbackslash{}n\\textbackslash{}nA vector astro, which contains character strings representing the dates on which the 4 astronomical seasons start, has been defined on your workspace. Similarly, a vector meteo has already been created for you, with the meteorological beginnings of a season.\\textbackslash{}n'"
      ],
      "text/markdown": [
       "'\\nTime is of the essence\\n\\nThe dates when a season begins and ends can vary depending on who you ask. People in Australia will tell you that spring starts on September 1st. The Irish people in the Northern hemisphere will swear that spring starts on February 1st, with the celebration of St. Brigid\\'s Day. Then there\\'s also the difference between astronomical and meteorological seasons: while astronomers are used to equinoxes and solstices, meteorologists divide the year into 4 fixed seasons that are each three months long. (source: www.timeanddate.com)\\n\\nA vector astro, which contains character strings representing the dates on which the 4 astronomical seasons start, has been defined on your workspace. Similarly, a vector meteo has already been created for you, with the meteorological beginnings of a season.\\n'"
      ],
      "text/plain": [
       "[1] \"\\nTime is of the essence\\n\\nThe dates when a season begins and ends can vary depending on who you ask. People in Australia will tell you that spring starts on September 1st. The Irish people in the Northern hemisphere will swear that spring starts on February 1st, with the celebration of St. Brigid's Day. Then there's also the difference between astronomical and meteorological seasons: while astronomers are used to equinoxes and solstices, meteorologists divide the year into 4 fixed seasons that are each three months long. (source: www.timeanddate.com)\\n\\nA vector astro, which contains character strings representing the dates on which the 4 astronomical seasons start, has been defined on your workspace. Similarly, a vector meteo has already been created for you, with the meteorological beginnings of a season.\\n\""
      ]
     },
     "metadata": {},
     "output_type": "display_data"
    },
    {
     "data": {
      "text/html": [
       "<span style=white-space:pre-wrap>'\\n\\n    Use as.Date() to convert the astro vector to a vector containing Date objects. You will need the %d, %b and %Y symbols to specify the format. Store the resulting vector as astro_dates.\\n    Use as.Date() to convert the meteo vector to a vector with Date objects. This time, you will need the %B, %d and %y symbols for the format argument. Store the resulting vector as meteo_dates.\\n    With a combination of max(), abs() and -, calculate the maximum absolute difference between the astronomical and the meteorological beginnings of a season, i.e. astro_dates and meteo_dates. Simply print this maximum difference to the console output.\\n\\n\\n'</span>"
      ],
      "text/latex": [
       "'\\textbackslash{}n\\textbackslash{}n    Use as.Date() to convert the astro vector to a vector containing Date objects. You will need the \\%d, \\%b and \\%Y symbols to specify the format. Store the resulting vector as astro\\_dates.\\textbackslash{}n    Use as.Date() to convert the meteo vector to a vector with Date objects. This time, you will need the \\%B, \\%d and \\%y symbols for the format argument. Store the resulting vector as meteo\\_dates.\\textbackslash{}n    With a combination of max(), abs() and -, calculate the maximum absolute difference between the astronomical and the meteorological beginnings of a season, i.e. astro\\_dates and meteo\\_dates. Simply print this maximum difference to the console output.\\textbackslash{}n\\textbackslash{}n\\textbackslash{}n'"
      ],
      "text/markdown": [
       "<span style=white-space:pre-wrap>'\\n\\n    Use as.Date() to convert the astro vector to a vector containing Date objects. You will need the %d, %b and %Y symbols to specify the format. Store the resulting vector as astro_dates.\\n    Use as.Date() to convert the meteo vector to a vector with Date objects. This time, you will need the %B, %d and %y symbols for the format argument. Store the resulting vector as meteo_dates.\\n    With a combination of max(), abs() and -, calculate the maximum absolute difference between the astronomical and the meteorological beginnings of a season, i.e. astro_dates and meteo_dates. Simply print this maximum difference to the console output.\\n\\n\\n'</span>"
      ],
      "text/plain": [
       "[1] \"\\n\\n    Use as.Date() to convert the astro vector to a vector containing Date objects. You will need the %d, %b and %Y symbols to specify the format. Store the resulting vector as astro_dates.\\n    Use as.Date() to convert the meteo vector to a vector with Date objects. This time, you will need the %B, %d and %y symbols for the format argument. Store the resulting vector as meteo_dates.\\n    With a combination of max(), abs() and -, calculate the maximum absolute difference between the astronomical and the meteorological beginnings of a season, i.e. astro_dates and meteo_dates. Simply print this maximum difference to the console output.\\n\\n\\n\""
      ]
     },
     "metadata": {},
     "output_type": "display_data"
    },
    {
     "data": {
      "text/plain": [
       "Time difference of NA days"
      ]
     },
     "metadata": {},
     "output_type": "display_data"
    },
    {
     "data": {
      "text/html": [
       "'\\nImpressive! Great job on finishing this course! \\n'"
      ],
      "text/latex": [
       "'\\textbackslash{}nImpressive! Great job on finishing this course! \\textbackslash{}n'"
      ],
      "text/markdown": [
       "'\\nImpressive! Great job on finishing this course! \\n'"
      ],
      "text/plain": [
       "[1] \"\\nImpressive! Great job on finishing this course! \\n\""
      ]
     },
     "metadata": {},
     "output_type": "display_data"
    }
   ],
   "source": [
    "# exercise 14\n",
    "\n",
    "\"\n",
    "Time is of the essence\n",
    "\n",
    "The dates when a season begins and ends can vary depending on who you ask. People in Australia will tell you that spring starts on September 1st. The Irish people in the Northern hemisphere will swear that spring starts on February 1st, with the celebration of St. Brigid's Day. Then there's also the difference between astronomical and meteorological seasons: while astronomers are used to equinoxes and solstices, meteorologists divide the year into 4 fixed seasons that are each three months long. (source: www.timeanddate.com)\n",
    "\n",
    "A vector astro, which contains character strings representing the dates on which the 4 astronomical seasons start, has been defined on your workspace. Similarly, a vector meteo has already been created for you, with the meteorological beginnings of a season.\n",
    "\"\n",
    "\n",
    "# Instructions\n",
    "\n",
    "\"\n",
    "\n",
    "    Use as.Date() to convert the astro vector to a vector containing Date objects. You will need the %d, %b and %Y symbols to specify the format. Store the resulting vector as astro_dates.\n",
    "    Use as.Date() to convert the meteo vector to a vector with Date objects. This time, you will need the %B, %d and %y symbols for the format argument. Store the resulting vector as meteo_dates.\n",
    "    With a combination of max(), abs() and -, calculate the maximum absolute difference between the astronomical and the meteorological beginnings of a season, i.e. astro_dates and meteo_dates. Simply print this maximum difference to the console output.\n",
    "\n",
    "\n",
    "\"\n",
    "\n",
    "# solution\n",
    "\n",
    "# Convert astro to vector of Date objects: astro_dates\n",
    "astro_dates <- as.Date(astro, format = \"%d-%b-%Y\")\n",
    "\n",
    "# Convert meteo to vector of Date objects: meteo_dates\n",
    "meteo_dates <- as.Date(meteo, format = \"%B %d, %y\")\n",
    "\n",
    "# Calculate the maximum absolute difference between astro_dates and meteo_dates\n",
    "max(abs(meteo_dates - astro_dates))\n",
    "\n",
    "\n",
    "#----------------------------------#\n",
    "\n",
    "# Conclusion\n",
    "\n",
    "\"\n",
    "Impressive! Great job on finishing this course! \n",
    "\""
   ]
  }
 ],
 "metadata": {
  "kernelspec": {
   "display_name": "R",
   "language": "R",
   "name": "ir"
  },
  "language_info": {
   "codemirror_mode": "r",
   "file_extension": ".r",
   "mimetype": "text/x-r-source",
   "name": "R",
   "pygments_lexer": "r",
   "version": "4.3.2"
  }
 },
 "nbformat": 4,
 "nbformat_minor": 4
}
