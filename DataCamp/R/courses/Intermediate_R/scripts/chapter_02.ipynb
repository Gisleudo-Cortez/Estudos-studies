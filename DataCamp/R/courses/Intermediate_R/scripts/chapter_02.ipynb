{
 "cells": [
  {
   "cell_type": "code",
   "execution_count": 3,
   "metadata": {
    "vscode": {
     "languageId": "r"
    }
   },
   "outputs": [
    {
     "data": {
      "text/html": [
       "<span style=white-space:pre-wrap>'\\nWrite a while loop\\n\\nLet\\'s get you started with building a while loop from the ground up. Have another look at its recipe:\\n\\nwhile (condition) {\\n  expr\\n}\\n\\nRemember that the condition part of this recipe should become FALSE at some point during the execution. Otherwise, the while loop will go on indefinitely.\\n\\nIf your session expires when you run your code, check the body of your while loop carefully.\\n\\nHave a look at the sample code provided; it initializes the speed variables and already provides a while loop template to get you started.\\n'</span>"
      ],
      "text/latex": [
       "'\\textbackslash{}nWrite a while loop\\textbackslash{}n\\textbackslash{}nLet\\textbackslash{}'s get you started with building a while loop from the ground up. Have another look at its recipe:\\textbackslash{}n\\textbackslash{}nwhile (condition) \\{\\textbackslash{}n  expr\\textbackslash{}n\\}\\textbackslash{}n\\textbackslash{}nRemember that the condition part of this recipe should become FALSE at some point during the execution. Otherwise, the while loop will go on indefinitely.\\textbackslash{}n\\textbackslash{}nIf your session expires when you run your code, check the body of your while loop carefully.\\textbackslash{}n\\textbackslash{}nHave a look at the sample code provided; it initializes the speed variables and already provides a while loop template to get you started.\\textbackslash{}n'"
      ],
      "text/markdown": [
       "<span style=white-space:pre-wrap>'\\nWrite a while loop\\n\\nLet\\'s get you started with building a while loop from the ground up. Have another look at its recipe:\\n\\nwhile (condition) {\\n  expr\\n}\\n\\nRemember that the condition part of this recipe should become FALSE at some point during the execution. Otherwise, the while loop will go on indefinitely.\\n\\nIf your session expires when you run your code, check the body of your while loop carefully.\\n\\nHave a look at the sample code provided; it initializes the speed variables and already provides a while loop template to get you started.\\n'</span>"
      ],
      "text/plain": [
       "[1] \"\\nWrite a while loop\\n\\nLet's get you started with building a while loop from the ground up. Have another look at its recipe:\\n\\nwhile (condition) {\\n  expr\\n}\\n\\nRemember that the condition part of this recipe should become FALSE at some point during the execution. Otherwise, the while loop will go on indefinitely.\\n\\nIf your session expires when you run your code, check the body of your while loop carefully.\\n\\nHave a look at the sample code provided; it initializes the speed variables and already provides a while loop template to get you started.\\n\""
      ]
     },
     "metadata": {},
     "output_type": "display_data"
    },
    {
     "data": {
      "text/html": [
       "<span style=white-space:pre-wrap>'\\nCode a while loop with the following characteristics:\\n\\n    The condition of the while loop should check if speed is higher than 30.\\n    Inside the body of the while loop, print out Slow down!.\\n    Inside the body of the while loop, decrease the speed by 7 units and assign this new value to speed again. This step is crucial; otherwise your while loop will never stop and your session will expire.\\n\\nIf your session expires when you run your code, check the body of your while loop carefully: it\\'s likely that you made a mistake.\\n'</span>"
      ],
      "text/latex": [
       "'\\textbackslash{}nCode a while loop with the following characteristics:\\textbackslash{}n\\textbackslash{}n    The condition of the while loop should check if speed is higher than 30.\\textbackslash{}n    Inside the body of the while loop, print out Slow down!.\\textbackslash{}n    Inside the body of the while loop, decrease the speed by 7 units and assign this new value to speed again. This step is crucial; otherwise your while loop will never stop and your session will expire.\\textbackslash{}n\\textbackslash{}nIf your session expires when you run your code, check the body of your while loop carefully: it\\textbackslash{}'s likely that you made a mistake.\\textbackslash{}n'"
      ],
      "text/markdown": [
       "<span style=white-space:pre-wrap>'\\nCode a while loop with the following characteristics:\\n\\n    The condition of the while loop should check if speed is higher than 30.\\n    Inside the body of the while loop, print out Slow down!.\\n    Inside the body of the while loop, decrease the speed by 7 units and assign this new value to speed again. This step is crucial; otherwise your while loop will never stop and your session will expire.\\n\\nIf your session expires when you run your code, check the body of your while loop carefully: it\\'s likely that you made a mistake.\\n'</span>"
      ],
      "text/plain": [
       "[1] \"\\nCode a while loop with the following characteristics:\\n\\n    The condition of the while loop should check if speed is higher than 30.\\n    Inside the body of the while loop, print out Slow down!.\\n    Inside the body of the while loop, decrease the speed by 7 units and assign this new value to speed again. This step is crucial; otherwise your while loop will never stop and your session will expire.\\n\\nIf your session expires when you run your code, check the body of your while loop carefully: it's likely that you made a mistake.\\n\""
      ]
     },
     "metadata": {},
     "output_type": "display_data"
    },
    {
     "name": "stdout",
     "output_type": "stream",
     "text": [
      "[1] \"Slow down! 64\"\n",
      "[1] \"Slow down! 57\"\n",
      "[1] \"Slow down! 50\"\n",
      "[1] \"Slow down! 43\"\n",
      "[1] \"Slow down! 36\"\n"
     ]
    },
    {
     "data": {
      "text/html": [
       "29"
      ],
      "text/latex": [
       "29"
      ],
      "text/markdown": [
       "29"
      ],
      "text/plain": [
       "[1] 29"
      ]
     },
     "metadata": {},
     "output_type": "display_data"
    },
    {
     "data": {
      "text/html": [
       "'\\nGreat job! Proceed to the next exercise. \\n'"
      ],
      "text/latex": [
       "'\\textbackslash{}nGreat job! Proceed to the next exercise. \\textbackslash{}n'"
      ],
      "text/markdown": [
       "'\\nGreat job! Proceed to the next exercise. \\n'"
      ],
      "text/plain": [
       "[1] \"\\nGreat job! Proceed to the next exercise. \\n\""
      ]
     },
     "metadata": {},
     "output_type": "display_data"
    }
   ],
   "source": [
    "# exercise 01\n",
    "\n",
    "\"\n",
    "Write a while loop\n",
    "\n",
    "Let's get you started with building a while loop from the ground up. Have another look at its recipe:\n",
    "\n",
    "while (condition) {\n",
    "  expr\n",
    "}\n",
    "\n",
    "Remember that the condition part of this recipe should become FALSE at some point during the execution. Otherwise, the while loop will go on indefinitely.\n",
    "\n",
    "If your session expires when you run your code, check the body of your while loop carefully.\n",
    "\n",
    "Have a look at the sample code provided; it initializes the speed variables and already provides a while loop template to get you started.\n",
    "\"\n",
    "\n",
    "# Instructions\n",
    "\n",
    "\"\n",
    "Code a while loop with the following characteristics:\n",
    "\n",
    "    The condition of the while loop should check if speed is higher than 30.\n",
    "    Inside the body of the while loop, print out Slow down!.\n",
    "    Inside the body of the while loop, decrease the speed by 7 units and assign this new value to speed again. This step is crucial; otherwise your while loop will never stop and your session will expire.\n",
    "\n",
    "If your session expires when you run your code, check the body of your while loop carefully: it's likely that you made a mistake.\n",
    "\"\n",
    "\n",
    "# solution\n",
    "\n",
    "# Initialize the speed variable\n",
    "speed <- 64\n",
    "\n",
    "# Code the while loop\n",
    "while (speed > 30) {\n",
    "  print(paste(\"Slow down!\", speed))\n",
    "  speed <- speed - 7\n",
    "}\n",
    "\n",
    "# Print out the speed variable\n",
    "speed\n",
    "\n",
    "#----------------------------------#\n",
    "\n",
    "# Conclusion\n",
    "\n",
    "\"\n",
    "Great job! Proceed to the next exercise. \n",
    "\""
   ]
  },
  {
   "cell_type": "code",
   "execution_count": 4,
   "metadata": {
    "tags": [],
    "vscode": {
     "languageId": "r"
    }
   },
   "outputs": [
    {
     "data": {
      "text/html": [
       "'\\nThrow in more conditionals\\n\\nIn the previous exercise, you simulated the interaction between a driver and a driver\\'s assistant: When the speed was too high, Slow down! got printed out to the console, resulting in a decrease of your speed by 7 units.\\n\\nThere are several ways in which you could make your driver\\'s assistant more advanced. For example, the assistant could give you different messages based on your speed or provide you with a current speed at a given moment.\\n\\nA while loop similar to the one you\\'ve coded in the previous exercise is already available for you to use. It prints out your current speed, but there\\'s no code that decreases the speed variable yet, which is pretty dangerous. Can you make the appropriate changes?\\n'"
      ],
      "text/latex": [
       "'\\textbackslash{}nThrow in more conditionals\\textbackslash{}n\\textbackslash{}nIn the previous exercise, you simulated the interaction between a driver and a driver\\textbackslash{}'s assistant: When the speed was too high, Slow down! got printed out to the console, resulting in a decrease of your speed by 7 units.\\textbackslash{}n\\textbackslash{}nThere are several ways in which you could make your driver\\textbackslash{}'s assistant more advanced. For example, the assistant could give you different messages based on your speed or provide you with a current speed at a given moment.\\textbackslash{}n\\textbackslash{}nA while loop similar to the one you\\textbackslash{}'ve coded in the previous exercise is already available for you to use. It prints out your current speed, but there\\textbackslash{}'s no code that decreases the speed variable yet, which is pretty dangerous. Can you make the appropriate changes?\\textbackslash{}n'"
      ],
      "text/markdown": [
       "'\\nThrow in more conditionals\\n\\nIn the previous exercise, you simulated the interaction between a driver and a driver\\'s assistant: When the speed was too high, Slow down! got printed out to the console, resulting in a decrease of your speed by 7 units.\\n\\nThere are several ways in which you could make your driver\\'s assistant more advanced. For example, the assistant could give you different messages based on your speed or provide you with a current speed at a given moment.\\n\\nA while loop similar to the one you\\'ve coded in the previous exercise is already available for you to use. It prints out your current speed, but there\\'s no code that decreases the speed variable yet, which is pretty dangerous. Can you make the appropriate changes?\\n'"
      ],
      "text/plain": [
       "[1] \"\\nThrow in more conditionals\\n\\nIn the previous exercise, you simulated the interaction between a driver and a driver's assistant: When the speed was too high, Slow down! got printed out to the console, resulting in a decrease of your speed by 7 units.\\n\\nThere are several ways in which you could make your driver's assistant more advanced. For example, the assistant could give you different messages based on your speed or provide you with a current speed at a given moment.\\n\\nA while loop similar to the one you've coded in the previous exercise is already available for you to use. It prints out your current speed, but there's no code that decreases the speed variable yet, which is pretty dangerous. Can you make the appropriate changes?\\n\""
      ]
     },
     "metadata": {},
     "output_type": "display_data"
    },
    {
     "data": {
      "text/html": [
       "<span style=white-space:pre-wrap>'\\n\\n    If the speed is greater than 48, have R print out Slow down big time!, and decrease the speed by 11.\\n    Otherwise, have R simply print out Slow down!, and decrease the speed by 6.\\n\\nIf the session keeps timing out and throwing an error, you are probably stuck in an infinite loop! Check the body of your while loop and make sure you are assigning new values to speed.\\n'</span>"
      ],
      "text/latex": [
       "'\\textbackslash{}n\\textbackslash{}n    If the speed is greater than 48, have R print out Slow down big time!, and decrease the speed by 11.\\textbackslash{}n    Otherwise, have R simply print out Slow down!, and decrease the speed by 6.\\textbackslash{}n\\textbackslash{}nIf the session keeps timing out and throwing an error, you are probably stuck in an infinite loop! Check the body of your while loop and make sure you are assigning new values to speed.\\textbackslash{}n'"
      ],
      "text/markdown": [
       "<span style=white-space:pre-wrap>'\\n\\n    If the speed is greater than 48, have R print out Slow down big time!, and decrease the speed by 11.\\n    Otherwise, have R simply print out Slow down!, and decrease the speed by 6.\\n\\nIf the session keeps timing out and throwing an error, you are probably stuck in an infinite loop! Check the body of your while loop and make sure you are assigning new values to speed.\\n'</span>"
      ],
      "text/plain": [
       "[1] \"\\n\\n    If the speed is greater than 48, have R print out Slow down big time!, and decrease the speed by 11.\\n    Otherwise, have R simply print out Slow down!, and decrease the speed by 6.\\n\\nIf the session keeps timing out and throwing an error, you are probably stuck in an infinite loop! Check the body of your while loop and make sure you are assigning new values to speed.\\n\""
      ]
     },
     "metadata": {},
     "output_type": "display_data"
    },
    {
     "name": "stdout",
     "output_type": "stream",
     "text": [
      "[1] \"Your speed is 64\"\n",
      "[1] \"Slow down big time!\"\n",
      "[1] \"Your speed is 53\"\n",
      "[1] \"Slow down big time!\"\n",
      "[1] \"Your speed is 42\"\n",
      "[1] \"Slow down!\"\n",
      "[1] \"Your speed is 36\"\n",
      "[1] \"Slow down!\"\n"
     ]
    },
    {
     "data": {
      "text/html": [
       "'\\nWonderful! To further improve our driver assistant model, head over to the next exercise! \\n'"
      ],
      "text/latex": [
       "'\\textbackslash{}nWonderful! To further improve our driver assistant model, head over to the next exercise! \\textbackslash{}n'"
      ],
      "text/markdown": [
       "'\\nWonderful! To further improve our driver assistant model, head over to the next exercise! \\n'"
      ],
      "text/plain": [
       "[1] \"\\nWonderful! To further improve our driver assistant model, head over to the next exercise! \\n\""
      ]
     },
     "metadata": {},
     "output_type": "display_data"
    }
   ],
   "source": [
    "# exercise 02\n",
    "\n",
    "\"\n",
    "Throw in more conditionals\n",
    "\n",
    "In the previous exercise, you simulated the interaction between a driver and a driver's assistant: When the speed was too high, Slow down! got printed out to the console, resulting in a decrease of your speed by 7 units.\n",
    "\n",
    "There are several ways in which you could make your driver's assistant more advanced. For example, the assistant could give you different messages based on your speed or provide you with a current speed at a given moment.\n",
    "\n",
    "A while loop similar to the one you've coded in the previous exercise is already available for you to use. It prints out your current speed, but there's no code that decreases the speed variable yet, which is pretty dangerous. Can you make the appropriate changes?\n",
    "\"\n",
    "\n",
    "# Instructions\n",
    "\n",
    "\"\n",
    "\n",
    "    If the speed is greater than 48, have R print out Slow down big time!, and decrease the speed by 11.\n",
    "    Otherwise, have R simply print out Slow down!, and decrease the speed by 6.\n",
    "\n",
    "If the session keeps timing out and throwing an error, you are probably stuck in an infinite loop! Check the body of your while loop and make sure you are assigning new values to speed.\n",
    "\"\n",
    "\n",
    "# solution\n",
    "\n",
    "# Initialize the speed variable\n",
    "speed <- 64\n",
    "\n",
    "# Extend/adapt the while loop\n",
    "while (speed > 30) {\n",
    "  print(paste(\"Your speed is\",speed))\n",
    "  if ( speed > 48 ) {\n",
    "    print(\"Slow down big time!\")\n",
    "    speed <- speed - 11\n",
    "  } else {\n",
    "    print(\"Slow down!\")\n",
    "    speed <- speed - 6\n",
    "  }\n",
    "}\n",
    "\n",
    "#----------------------------------#\n",
    "\n",
    "# Conclusion\n",
    "\n",
    "\"\n",
    "Wonderful! To further improve our driver assistant model, head over to the next exercise! \n",
    "\""
   ]
  },
  {
   "cell_type": "code",
   "execution_count": 5,
   "metadata": {
    "tags": [],
    "vscode": {
     "languageId": "r"
    }
   },
   "outputs": [
    {
     "data": {
      "text/html": [
       "'\\nStop the while loop: break\\n\\nThere are some very rare situations in which severe speeding is necessary: what if a hurricane is approaching and you have to get away as quickly as possible? You don\\'t want the driver\\'s assistant sending you speeding notifications in that scenario, right?\\n\\nThis seems like a great opportunity to include the break statement in the while loop you\\'ve been working on. Remember that the break statement is a control statement. When R encounters it, the while loop is abandoned completely.\\n'"
      ],
      "text/latex": [
       "'\\textbackslash{}nStop the while loop: break\\textbackslash{}n\\textbackslash{}nThere are some very rare situations in which severe speeding is necessary: what if a hurricane is approaching and you have to get away as quickly as possible? You don\\textbackslash{}'t want the driver\\textbackslash{}'s assistant sending you speeding notifications in that scenario, right?\\textbackslash{}n\\textbackslash{}nThis seems like a great opportunity to include the break statement in the while loop you\\textbackslash{}'ve been working on. Remember that the break statement is a control statement. When R encounters it, the while loop is abandoned completely.\\textbackslash{}n'"
      ],
      "text/markdown": [
       "'\\nStop the while loop: break\\n\\nThere are some very rare situations in which severe speeding is necessary: what if a hurricane is approaching and you have to get away as quickly as possible? You don\\'t want the driver\\'s assistant sending you speeding notifications in that scenario, right?\\n\\nThis seems like a great opportunity to include the break statement in the while loop you\\'ve been working on. Remember that the break statement is a control statement. When R encounters it, the while loop is abandoned completely.\\n'"
      ],
      "text/plain": [
       "[1] \"\\nStop the while loop: break\\n\\nThere are some very rare situations in which severe speeding is necessary: what if a hurricane is approaching and you have to get away as quickly as possible? You don't want the driver's assistant sending you speeding notifications in that scenario, right?\\n\\nThis seems like a great opportunity to include the break statement in the while loop you've been working on. Remember that the break statement is a control statement. When R encounters it, the while loop is abandoned completely.\\n\""
      ]
     },
     "metadata": {},
     "output_type": "display_data"
    },
    {
     "data": {
      "text/html": [
       "'\\nAdapt the while loop such that it is abandoned when the speed of the vehicle is greater than 80. This time, the speed variable has been initialized to 88; keep it that way.\\n'"
      ],
      "text/latex": [
       "'\\textbackslash{}nAdapt the while loop such that it is abandoned when the speed of the vehicle is greater than 80. This time, the speed variable has been initialized to 88; keep it that way.\\textbackslash{}n'"
      ],
      "text/markdown": [
       "'\\nAdapt the while loop such that it is abandoned when the speed of the vehicle is greater than 80. This time, the speed variable has been initialized to 88; keep it that way.\\n'"
      ],
      "text/plain": [
       "[1] \"\\nAdapt the while loop such that it is abandoned when the speed of the vehicle is greater than 80. This time, the speed variable has been initialized to 88; keep it that way.\\n\""
      ]
     },
     "metadata": {},
     "output_type": "display_data"
    },
    {
     "name": "stdout",
     "output_type": "stream",
     "text": [
      "[1] \"Your speed is 88\"\n"
     ]
    },
    {
     "data": {
      "text/html": [
       "'\\nWonderful! Now that you\\'ve correctly solved this exercise, feel free to play around with different values of speed to see how the while loop handles the different cases. \\n'"
      ],
      "text/latex": [
       "'\\textbackslash{}nWonderful! Now that you\\textbackslash{}'ve correctly solved this exercise, feel free to play around with different values of speed to see how the while loop handles the different cases. \\textbackslash{}n'"
      ],
      "text/markdown": [
       "'\\nWonderful! Now that you\\'ve correctly solved this exercise, feel free to play around with different values of speed to see how the while loop handles the different cases. \\n'"
      ],
      "text/plain": [
       "[1] \"\\nWonderful! Now that you've correctly solved this exercise, feel free to play around with different values of speed to see how the while loop handles the different cases. \\n\""
      ]
     },
     "metadata": {},
     "output_type": "display_data"
    }
   ],
   "source": [
    "# exercise 03\n",
    "\n",
    "\"\n",
    "Stop the while loop: break\n",
    "\n",
    "There are some very rare situations in which severe speeding is necessary: what if a hurricane is approaching and you have to get away as quickly as possible? You don't want the driver's assistant sending you speeding notifications in that scenario, right?\n",
    "\n",
    "This seems like a great opportunity to include the break statement in the while loop you've been working on. Remember that the break statement is a control statement. When R encounters it, the while loop is abandoned completely.\n",
    "\"\n",
    "\n",
    "# Instructions\n",
    "\n",
    "\"\n",
    "Adapt the while loop such that it is abandoned when the speed of the vehicle is greater than 80. This time, the speed variable has been initialized to 88; keep it that way.\n",
    "\"\n",
    "\n",
    "# solution\n",
    "\n",
    "# Initialize the speed variable\n",
    "speed <- 88\n",
    "\n",
    "while (speed > 30) {\n",
    "  print(paste(\"Your speed is\", speed))\n",
    "  \n",
    "  # Break the while loop when speed exceeds 80\n",
    "  if ( speed > 80 ) {\n",
    "    break\n",
    "  }\n",
    "  \n",
    "  if (speed > 48) {\n",
    "    print(\"Slow down big time!\")\n",
    "    speed <- speed - 11\n",
    "  } else {\n",
    "    print(\"Slow down!\")\n",
    "    speed <- speed - 6\n",
    "  }\n",
    "}\n",
    "\n",
    "#----------------------------------#\n",
    "\n",
    "# Conclusion\n",
    "\n",
    "\"\n",
    "Wonderful! Now that you've correctly solved this exercise, feel free to play around with different values of speed to see how the while loop handles the different cases. \n",
    "\""
   ]
  },
  {
   "cell_type": "code",
   "execution_count": 6,
   "metadata": {
    "tags": [],
    "vscode": {
     "languageId": "r"
    }
   },
   "outputs": [
    {
     "data": {
      "text/html": [
       "'\\nBuild a while loop from scratch\\n\\nThe previous exercises guided you through developing a pretty advanced while loop, containing a break statement and different messages and updates as determined by control flow constructs. If you manage to solve this comprehensive exercise using a while loop, you\\'re totally ready for the next topic: the for loop.\\n'"
      ],
      "text/latex": [
       "'\\textbackslash{}nBuild a while loop from scratch\\textbackslash{}n\\textbackslash{}nThe previous exercises guided you through developing a pretty advanced while loop, containing a break statement and different messages and updates as determined by control flow constructs. If you manage to solve this comprehensive exercise using a while loop, you\\textbackslash{}'re totally ready for the next topic: the for loop.\\textbackslash{}n'"
      ],
      "text/markdown": [
       "'\\nBuild a while loop from scratch\\n\\nThe previous exercises guided you through developing a pretty advanced while loop, containing a break statement and different messages and updates as determined by control flow constructs. If you manage to solve this comprehensive exercise using a while loop, you\\'re totally ready for the next topic: the for loop.\\n'"
      ],
      "text/plain": [
       "[1] \"\\nBuild a while loop from scratch\\n\\nThe previous exercises guided you through developing a pretty advanced while loop, containing a break statement and different messages and updates as determined by control flow constructs. If you manage to solve this comprehensive exercise using a while loop, you're totally ready for the next topic: the for loop.\\n\""
      ]
     },
     "metadata": {},
     "output_type": "display_data"
    },
    {
     "data": {
      "text/html": [
       "<span style=white-space:pre-wrap>'\\nFinish the while loop so that it:\\n\\n    prints out the triple of i, so 3 * i, at each run.\\n    is abandoned with a break if the triple of i is divisible by 8, but still prints out this triple before breaking.\\n\\n'</span>"
      ],
      "text/latex": [
       "'\\textbackslash{}nFinish the while loop so that it:\\textbackslash{}n\\textbackslash{}n    prints out the triple of i, so 3 * i, at each run.\\textbackslash{}n    is abandoned with a break if the triple of i is divisible by 8, but still prints out this triple before breaking.\\textbackslash{}n\\textbackslash{}n'"
      ],
      "text/markdown": [
       "<span style=white-space:pre-wrap>'\\nFinish the while loop so that it:\\n\\n    prints out the triple of i, so 3 * i, at each run.\\n    is abandoned with a break if the triple of i is divisible by 8, but still prints out this triple before breaking.\\n\\n'</span>"
      ],
      "text/plain": [
       "[1] \"\\nFinish the while loop so that it:\\n\\n    prints out the triple of i, so 3 * i, at each run.\\n    is abandoned with a break if the triple of i is divisible by 8, but still prints out this triple before breaking.\\n\\n\""
      ]
     },
     "metadata": {},
     "output_type": "display_data"
    },
    {
     "name": "stdout",
     "output_type": "stream",
     "text": [
      "[1] 3\n",
      "[1] 6\n",
      "[1] 9\n",
      "[1] 12\n",
      "[1] 15\n",
      "[1] 18\n",
      "[1] 21\n",
      "[1] 24\n"
     ]
    },
    {
     "data": {
      "text/html": [
       "'\\nGreat work! Head over to the next video! \\n'"
      ],
      "text/latex": [
       "'\\textbackslash{}nGreat work! Head over to the next video! \\textbackslash{}n'"
      ],
      "text/markdown": [
       "'\\nGreat work! Head over to the next video! \\n'"
      ],
      "text/plain": [
       "[1] \"\\nGreat work! Head over to the next video! \\n\""
      ]
     },
     "metadata": {},
     "output_type": "display_data"
    }
   ],
   "source": [
    "# exercise 04\n",
    "\n",
    "\"\n",
    "Build a while loop from scratch\n",
    "\n",
    "The previous exercises guided you through developing a pretty advanced while loop, containing a break statement and different messages and updates as determined by control flow constructs. If you manage to solve this comprehensive exercise using a while loop, you're totally ready for the next topic: the for loop.\n",
    "\"\n",
    "\n",
    "# Instructions\n",
    "\n",
    "\"\n",
    "Finish the while loop so that it:\n",
    "\n",
    "    prints out the triple of i, so 3 * i, at each run.\n",
    "    is abandoned with a break if the triple of i is divisible by 8, but still prints out this triple before breaking.\n",
    "\n",
    "\"\n",
    "\n",
    "# solution\n",
    "\n",
    "# Initialize i as 1 \n",
    "i <- 1\n",
    "\n",
    "# Code the while loop\n",
    "while (i <= 10) {\n",
    "  print(i * 3)\n",
    "  if (i %% 8 == 0) {\n",
    "    break\n",
    "  }\n",
    "  i <- i + 1\n",
    "}\n",
    "\n",
    "#----------------------------------#\n",
    "\n",
    "# Conclusion\n",
    "\n",
    "\"\n",
    "Great work! Head over to the next video! \n",
    "\""
   ]
  },
  {
   "cell_type": "code",
   "execution_count": 7,
   "metadata": {
    "tags": [],
    "vscode": {
     "languageId": "r"
    }
   },
   "outputs": [
    {
     "data": {
      "text/html": [
       "<span style=white-space:pre-wrap>'\\nLoop over a vector\\n\\nIn the previous video, Filip told you about two different strategies for using the for loop. To refresh your memory, consider the following loops that are equivalent in R:\\n\\nprimes &lt;- c(2, 3, 5, 7, 11, 13)\\n\\n# loop version 1\\nfor (p in primes) {\\n  print(p)\\n}\\n\\n# loop version 2\\nfor (i in 1:length(primes)) {\\n  print(primes[i])\\n}\\n\\nRemember our linkedin vector? It\\'s a vector that contains the number of views your LinkedIn profile had in the last seven days. The linkedin vector has been pre-defined so that you can fully focus on the instructions!\\n'</span>"
      ],
      "text/latex": [
       "'\\textbackslash{}nLoop over a vector\\textbackslash{}n\\textbackslash{}nIn the previous video, Filip told you about two different strategies for using the for loop. To refresh your memory, consider the following loops that are equivalent in R:\\textbackslash{}n\\textbackslash{}nprimes <- c(2, 3, 5, 7, 11, 13)\\textbackslash{}n\\textbackslash{}n\\# loop version 1\\textbackslash{}nfor (p in primes) \\{\\textbackslash{}n  print(p)\\textbackslash{}n\\}\\textbackslash{}n\\textbackslash{}n\\# loop version 2\\textbackslash{}nfor (i in 1:length(primes)) \\{\\textbackslash{}n  print(primes{[}i{]})\\textbackslash{}n\\}\\textbackslash{}n\\textbackslash{}nRemember our linkedin vector? It\\textbackslash{}'s a vector that contains the number of views your LinkedIn profile had in the last seven days. The linkedin vector has been pre-defined so that you can fully focus on the instructions!\\textbackslash{}n'"
      ],
      "text/markdown": [
       "<span style=white-space:pre-wrap>'\\nLoop over a vector\\n\\nIn the previous video, Filip told you about two different strategies for using the for loop. To refresh your memory, consider the following loops that are equivalent in R:\\n\\nprimes &lt;- c(2, 3, 5, 7, 11, 13)\\n\\n# loop version 1\\nfor (p in primes) {\\n  print(p)\\n}\\n\\n# loop version 2\\nfor (i in 1:length(primes)) {\\n  print(primes[i])\\n}\\n\\nRemember our linkedin vector? It\\'s a vector that contains the number of views your LinkedIn profile had in the last seven days. The linkedin vector has been pre-defined so that you can fully focus on the instructions!\\n'</span>"
      ],
      "text/plain": [
       "[1] \"\\nLoop over a vector\\n\\nIn the previous video, Filip told you about two different strategies for using the for loop. To refresh your memory, consider the following loops that are equivalent in R:\\n\\nprimes <- c(2, 3, 5, 7, 11, 13)\\n\\n# loop version 1\\nfor (p in primes) {\\n  print(p)\\n}\\n\\n# loop version 2\\nfor (i in 1:length(primes)) {\\n  print(primes[i])\\n}\\n\\nRemember our linkedin vector? It's a vector that contains the number of views your LinkedIn profile had in the last seven days. The linkedin vector has been pre-defined so that you can fully focus on the instructions!\\n\""
      ]
     },
     "metadata": {},
     "output_type": "display_data"
    },
    {
     "data": {
      "text/html": [
       "'\\nWrite a for loop that iterates over all the elements of linkedin and prints out every element separately. Do this in two ways: using the loop version 1 and the loop version 2 in the example code above.\\n'"
      ],
      "text/latex": [
       "'\\textbackslash{}nWrite a for loop that iterates over all the elements of linkedin and prints out every element separately. Do this in two ways: using the loop version 1 and the loop version 2 in the example code above.\\textbackslash{}n'"
      ],
      "text/markdown": [
       "'\\nWrite a for loop that iterates over all the elements of linkedin and prints out every element separately. Do this in two ways: using the loop version 1 and the loop version 2 in the example code above.\\n'"
      ],
      "text/plain": [
       "[1] \"\\nWrite a for loop that iterates over all the elements of linkedin and prints out every element separately. Do this in two ways: using the loop version 1 and the loop version 2 in the example code above.\\n\""
      ]
     },
     "metadata": {},
     "output_type": "display_data"
    },
    {
     "name": "stdout",
     "output_type": "stream",
     "text": [
      "[1] 16\n",
      "[1] 9\n",
      "[1] 13\n",
      "[1] 5\n",
      "[1] 2\n",
      "[1] 17\n",
      "[1] 14\n",
      "[1] 16\n",
      "[1] 9\n",
      "[1] 13\n",
      "[1] 5\n",
      "[1] 2\n",
      "[1] 17\n",
      "[1] 14\n"
     ]
    },
    {
     "data": {
      "text/html": [
       "'\\nPiece of cake! Go to the next exercise. \\n'"
      ],
      "text/latex": [
       "'\\textbackslash{}nPiece of cake! Go to the next exercise. \\textbackslash{}n'"
      ],
      "text/markdown": [
       "'\\nPiece of cake! Go to the next exercise. \\n'"
      ],
      "text/plain": [
       "[1] \"\\nPiece of cake! Go to the next exercise. \\n\""
      ]
     },
     "metadata": {},
     "output_type": "display_data"
    }
   ],
   "source": [
    "# exercise 05\n",
    "\n",
    "\"\n",
    "Loop over a vector\n",
    "\n",
    "In the previous video, Filip told you about two different strategies for using the for loop. To refresh your memory, consider the following loops that are equivalent in R:\n",
    "\n",
    "primes <- c(2, 3, 5, 7, 11, 13)\n",
    "\n",
    "# loop version 1\n",
    "for (p in primes) {\n",
    "  print(p)\n",
    "}\n",
    "\n",
    "# loop version 2\n",
    "for (i in 1:length(primes)) {\n",
    "  print(primes[i])\n",
    "}\n",
    "\n",
    "Remember our linkedin vector? It's a vector that contains the number of views your LinkedIn profile had in the last seven days. The linkedin vector has been pre-defined so that you can fully focus on the instructions!\n",
    "\"\n",
    "\n",
    "# Instructions\n",
    "\n",
    "\"\n",
    "Write a for loop that iterates over all the elements of linkedin and prints out every element separately. Do this in two ways: using the loop version 1 and the loop version 2 in the example code above.\n",
    "\"\n",
    "\n",
    "# solution\n",
    "\n",
    "# The linkedin vector has already been defined for you\n",
    "linkedin <- c(16, 9, 13, 5, 2, 17, 14)\n",
    "\n",
    "# Loop version 1\n",
    "\n",
    "for (i in linkedin){\n",
    "    print(i)\n",
    "}\n",
    "\n",
    "\n",
    "# Loop version 2\n",
    "\n",
    "for (i in 1:length(linkedin)){\n",
    "    print(linkedin[i])\n",
    "}\n",
    "\n",
    "#----------------------------------#\n",
    "\n",
    "# Conclusion\n",
    "\n",
    "\"\n",
    "Piece of cake! Go to the next exercise. \n",
    "\""
   ]
  },
  {
   "cell_type": "code",
   "execution_count": 8,
   "metadata": {
    "tags": [],
    "vscode": {
     "languageId": "r"
    }
   },
   "outputs": [
    {
     "data": {
      "text/html": [
       "<span style=white-space:pre-wrap>'\\nLoop over a list\\n\\nLooping over a list is just as easy and convenient as looping over a vector. There are again two different approaches here:\\n\\nprimes_list &lt;- list(2, 3, 5, 7, 11, 13)\\n\\n# loop version 1\\nfor (p in primes_list) {\\n  print(p)\\n}\\n\\n# loop version 2\\nfor (i in 1:length(primes_list)) {\\n  print(primes_list[[i]])\\n}\\n\\nNotice that you need double square brackets - [[ ]] - to select the list elements in loop version 2.\\n\\nSuppose you have a list of all sorts of information on New York City: its population size, the names of the boroughs, and whether it is the capital of the United States. We\\'ve already defined a list nyc containing this information (source: Wikipedia).\\n'</span>"
      ],
      "text/latex": [
       "'\\textbackslash{}nLoop over a list\\textbackslash{}n\\textbackslash{}nLooping over a list is just as easy and convenient as looping over a vector. There are again two different approaches here:\\textbackslash{}n\\textbackslash{}nprimes\\_list <- list(2, 3, 5, 7, 11, 13)\\textbackslash{}n\\textbackslash{}n\\# loop version 1\\textbackslash{}nfor (p in primes\\_list) \\{\\textbackslash{}n  print(p)\\textbackslash{}n\\}\\textbackslash{}n\\textbackslash{}n\\# loop version 2\\textbackslash{}nfor (i in 1:length(primes\\_list)) \\{\\textbackslash{}n  print(primes\\_list{[}{[}i{]}{]})\\textbackslash{}n\\}\\textbackslash{}n\\textbackslash{}nNotice that you need double square brackets - {[}{[} {]}{]} - to select the list elements in loop version 2.\\textbackslash{}n\\textbackslash{}nSuppose you have a list of all sorts of information on New York City: its population size, the names of the boroughs, and whether it is the capital of the United States. We\\textbackslash{}'ve already defined a list nyc containing this information (source: Wikipedia).\\textbackslash{}n'"
      ],
      "text/markdown": [
       "<span style=white-space:pre-wrap>'\\nLoop over a list\\n\\nLooping over a list is just as easy and convenient as looping over a vector. There are again two different approaches here:\\n\\nprimes_list &lt;- list(2, 3, 5, 7, 11, 13)\\n\\n# loop version 1\\nfor (p in primes_list) {\\n  print(p)\\n}\\n\\n# loop version 2\\nfor (i in 1:length(primes_list)) {\\n  print(primes_list[[i]])\\n}\\n\\nNotice that you need double square brackets - [[ ]] - to select the list elements in loop version 2.\\n\\nSuppose you have a list of all sorts of information on New York City: its population size, the names of the boroughs, and whether it is the capital of the United States. We\\'ve already defined a list nyc containing this information (source: Wikipedia).\\n'</span>"
      ],
      "text/plain": [
       "[1] \"\\nLoop over a list\\n\\nLooping over a list is just as easy and convenient as looping over a vector. There are again two different approaches here:\\n\\nprimes_list <- list(2, 3, 5, 7, 11, 13)\\n\\n# loop version 1\\nfor (p in primes_list) {\\n  print(p)\\n}\\n\\n# loop version 2\\nfor (i in 1:length(primes_list)) {\\n  print(primes_list[[i]])\\n}\\n\\nNotice that you need double square brackets - [[ ]] - to select the list elements in loop version 2.\\n\\nSuppose you have a list of all sorts of information on New York City: its population size, the names of the boroughs, and whether it is the capital of the United States. We've already defined a list nyc containing this information (source: Wikipedia).\\n\""
      ]
     },
     "metadata": {},
     "output_type": "display_data"
    },
    {
     "data": {
      "text/html": [
       "<span style=white-space:pre-wrap>'\\nAs in the previous exercise, loop over the nyc list in two different ways to print its elements:\\n\\n    Loop directly over the nyc list (loop version 1).\\n    Define a looping index and do subsetting using double brackets (loop version 2).\\n\\n'</span>"
      ],
      "text/latex": [
       "'\\textbackslash{}nAs in the previous exercise, loop over the nyc list in two different ways to print its elements:\\textbackslash{}n\\textbackslash{}n    Loop directly over the nyc list (loop version 1).\\textbackslash{}n    Define a looping index and do subsetting using double brackets (loop version 2).\\textbackslash{}n\\textbackslash{}n'"
      ],
      "text/markdown": [
       "<span style=white-space:pre-wrap>'\\nAs in the previous exercise, loop over the nyc list in two different ways to print its elements:\\n\\n    Loop directly over the nyc list (loop version 1).\\n    Define a looping index and do subsetting using double brackets (loop version 2).\\n\\n'</span>"
      ],
      "text/plain": [
       "[1] \"\\nAs in the previous exercise, loop over the nyc list in two different ways to print its elements:\\n\\n    Loop directly over the nyc list (loop version 1).\\n    Define a looping index and do subsetting using double brackets (loop version 2).\\n\\n\""
      ]
     },
     "metadata": {},
     "output_type": "display_data"
    },
    {
     "name": "stdout",
     "output_type": "stream",
     "text": [
      "[1] 8405837\n",
      "[1] \"Manhattan\"     \"Bronx\"         \"Brooklyn\"      \"Queens\"       \n",
      "[5] \"Staten Island\"\n",
      "[1] FALSE\n",
      "[1] 8405837\n",
      "[1] \"Manhattan\"     \"Bronx\"         \"Brooklyn\"      \"Queens\"       \n",
      "[5] \"Staten Island\"\n",
      "[1] FALSE\n"
     ]
    },
    {
     "data": {
      "text/html": [
       "'\\nGood job! Filip mentioned that for loops can also be used for matrices. Let\\'s put that to a test in the next exercise. \\n'"
      ],
      "text/latex": [
       "'\\textbackslash{}nGood job! Filip mentioned that for loops can also be used for matrices. Let\\textbackslash{}'s put that to a test in the next exercise. \\textbackslash{}n'"
      ],
      "text/markdown": [
       "'\\nGood job! Filip mentioned that for loops can also be used for matrices. Let\\'s put that to a test in the next exercise. \\n'"
      ],
      "text/plain": [
       "[1] \"\\nGood job! Filip mentioned that for loops can also be used for matrices. Let's put that to a test in the next exercise. \\n\""
      ]
     },
     "metadata": {},
     "output_type": "display_data"
    }
   ],
   "source": [
    "# exercise 06\n",
    "\n",
    "\"\n",
    "Loop over a list\n",
    "\n",
    "Looping over a list is just as easy and convenient as looping over a vector. There are again two different approaches here:\n",
    "\n",
    "primes_list <- list(2, 3, 5, 7, 11, 13)\n",
    "\n",
    "# loop version 1\n",
    "for (p in primes_list) {\n",
    "  print(p)\n",
    "}\n",
    "\n",
    "# loop version 2\n",
    "for (i in 1:length(primes_list)) {\n",
    "  print(primes_list[[i]])\n",
    "}\n",
    "\n",
    "Notice that you need double square brackets - [[ ]] - to select the list elements in loop version 2.\n",
    "\n",
    "Suppose you have a list of all sorts of information on New York City: its population size, the names of the boroughs, and whether it is the capital of the United States. We've already defined a list nyc containing this information (source: Wikipedia).\n",
    "\"\n",
    "\n",
    "# Instructions\n",
    "\n",
    "\"\n",
    "As in the previous exercise, loop over the nyc list in two different ways to print its elements:\n",
    "\n",
    "    Loop directly over the nyc list (loop version 1).\n",
    "    Define a looping index and do subsetting using double brackets (loop version 2).\n",
    "\n",
    "\"\n",
    "\n",
    "# solution\n",
    "\n",
    "# The nyc list is already specified\n",
    "nyc <- list(pop = 8405837, \n",
    "            boroughs = c(\"Manhattan\", \"Bronx\", \"Brooklyn\", \"Queens\", \"Staten Island\"), \n",
    "            capital = FALSE)\n",
    "\n",
    "# Loop version 1\n",
    "\n",
    "for (i in nyc){\n",
    "    print(i)\n",
    "}\n",
    "\n",
    "\n",
    "# Loop version 2\n",
    "\n",
    "for (i in 1:length(nyc)){\n",
    "    print(nyc[[i]])\n",
    "}\n",
    "\n",
    "#----------------------------------#\n",
    "\n",
    "# Conclusion\n",
    "\n",
    "\"\n",
    "Good job! Filip mentioned that for loops can also be used for matrices. Let's put that to a test in the next exercise. \n",
    "\""
   ]
  },
  {
   "cell_type": "code",
   "execution_count": 9,
   "metadata": {
    "vscode": {
     "languageId": "r"
    }
   },
   "outputs": [
    {
     "data": {
      "text/html": [
       "<table class=\"dataframe\">\n",
       "<caption>A matrix: 3 × 3 of type chr</caption>\n",
       "<tbody>\n",
       "\t<tr><td>O </td><td>NA</td><td>X</td></tr>\n",
       "\t<tr><td>NA</td><td>O </td><td>O</td></tr>\n",
       "\t<tr><td>X </td><td>NA</td><td>X</td></tr>\n",
       "</tbody>\n",
       "</table>\n"
      ],
      "text/latex": [
       "A matrix: 3 × 3 of type chr\n",
       "\\begin{tabular}{lll}\n",
       "\t O  & NA & X\\\\\n",
       "\t NA & O  & O\\\\\n",
       "\t X  & NA & X\\\\\n",
       "\\end{tabular}\n"
      ],
      "text/markdown": [
       "\n",
       "A matrix: 3 × 3 of type chr\n",
       "\n",
       "| O  | NA | X |\n",
       "| NA | O  | O |\n",
       "| X  | NA | X |\n",
       "\n"
      ],
      "text/plain": [
       "     [,1] [,2] [,3]\n",
       "[1,] O    NA   X   \n",
       "[2,] NA   O    O   \n",
       "[3,] X    NA   X   "
      ]
     },
     "metadata": {},
     "output_type": "display_data"
    }
   ],
   "source": [
    "tic <- c(\"O\", NA, \"X\", NA, \"O\", \"O\", \"X\", NA, \"X\")\n",
    "\n",
    "ttt <- matrix(tic, byrow=TRUE, nrow=3)\n",
    "\n",
    "ttt"
   ]
  },
  {
   "cell_type": "code",
   "execution_count": 10,
   "metadata": {
    "tags": [],
    "vscode": {
     "languageId": "r"
    }
   },
   "outputs": [
    {
     "data": {
      "text/html": [
       "<span style=white-space:pre-wrap>'\\nLoop over a matrix\\n\\nIn your workspace, there\\'s a matrix ttt, that represents the status of a tic-tac-toe game. It contains the values X, O and NA. Print out ttt to get a closer look. On row 1 and column 1, there\\'s O, while on row 3 and column 2 there\\'s NA.\\n\\nTo solve this exercise, you\\'ll need a for loop inside a for loop, often called a nested loop. Doing this in R is a breeze! Simply use the following recipe:\\n\\nfor (var1 in seq1) {\\n  for (var2 in seq2) {\\n    expr\\n  }\\n}\\n\\n'</span>"
      ],
      "text/latex": [
       "'\\textbackslash{}nLoop over a matrix\\textbackslash{}n\\textbackslash{}nIn your workspace, there\\textbackslash{}'s a matrix ttt, that represents the status of a tic-tac-toe game. It contains the values X, O and NA. Print out ttt to get a closer look. On row 1 and column 1, there\\textbackslash{}'s O, while on row 3 and column 2 there\\textbackslash{}'s NA.\\textbackslash{}n\\textbackslash{}nTo solve this exercise, you\\textbackslash{}'ll need a for loop inside a for loop, often called a nested loop. Doing this in R is a breeze! Simply use the following recipe:\\textbackslash{}n\\textbackslash{}nfor (var1 in seq1) \\{\\textbackslash{}n  for (var2 in seq2) \\{\\textbackslash{}n    expr\\textbackslash{}n  \\}\\textbackslash{}n\\}\\textbackslash{}n\\textbackslash{}n'"
      ],
      "text/markdown": [
       "<span style=white-space:pre-wrap>'\\nLoop over a matrix\\n\\nIn your workspace, there\\'s a matrix ttt, that represents the status of a tic-tac-toe game. It contains the values X, O and NA. Print out ttt to get a closer look. On row 1 and column 1, there\\'s O, while on row 3 and column 2 there\\'s NA.\\n\\nTo solve this exercise, you\\'ll need a for loop inside a for loop, often called a nested loop. Doing this in R is a breeze! Simply use the following recipe:\\n\\nfor (var1 in seq1) {\\n  for (var2 in seq2) {\\n    expr\\n  }\\n}\\n\\n'</span>"
      ],
      "text/plain": [
       "[1] \"\\nLoop over a matrix\\n\\nIn your workspace, there's a matrix ttt, that represents the status of a tic-tac-toe game. It contains the values X, O and NA. Print out ttt to get a closer look. On row 1 and column 1, there's O, while on row 3 and column 2 there's NA.\\n\\nTo solve this exercise, you'll need a for loop inside a for loop, often called a nested loop. Doing this in R is a breeze! Simply use the following recipe:\\n\\nfor (var1 in seq1) {\\n  for (var2 in seq2) {\\n    expr\\n  }\\n}\\n\\n\""
      ]
     },
     "metadata": {},
     "output_type": "display_data"
    },
    {
     "data": {
      "text/html": [
       "<span style=white-space:pre-wrap>'\\nFinish the nested for loops to go over the elements in ttt:\\n\\n    The outer loop should loop over the rows, with loop index i (use 1:nrow(ttt)).\\n    The inner loop should loop over the columns, with loop index j (use 1:ncol(ttt)).\\n    Inside the inner loop, make use of print() and paste() to print out information in the following format: On row i and column j the board contains x, where x is the value on that position.\\n\\n'</span>"
      ],
      "text/latex": [
       "'\\textbackslash{}nFinish the nested for loops to go over the elements in ttt:\\textbackslash{}n\\textbackslash{}n    The outer loop should loop over the rows, with loop index i (use 1:nrow(ttt)).\\textbackslash{}n    The inner loop should loop over the columns, with loop index j (use 1:ncol(ttt)).\\textbackslash{}n    Inside the inner loop, make use of print() and paste() to print out information in the following format: On row i and column j the board contains x, where x is the value on that position.\\textbackslash{}n\\textbackslash{}n'"
      ],
      "text/markdown": [
       "<span style=white-space:pre-wrap>'\\nFinish the nested for loops to go over the elements in ttt:\\n\\n    The outer loop should loop over the rows, with loop index i (use 1:nrow(ttt)).\\n    The inner loop should loop over the columns, with loop index j (use 1:ncol(ttt)).\\n    Inside the inner loop, make use of print() and paste() to print out information in the following format: On row i and column j the board contains x, where x is the value on that position.\\n\\n'</span>"
      ],
      "text/plain": [
       "[1] \"\\nFinish the nested for loops to go over the elements in ttt:\\n\\n    The outer loop should loop over the rows, with loop index i (use 1:nrow(ttt)).\\n    The inner loop should loop over the columns, with loop index j (use 1:ncol(ttt)).\\n    Inside the inner loop, make use of print() and paste() to print out information in the following format: On row i and column j the board contains x, where x is the value on that position.\\n\\n\""
      ]
     },
     "metadata": {},
     "output_type": "display_data"
    },
    {
     "name": "stdout",
     "output_type": "stream",
     "text": [
      "[1] \"On row 1 and column 1 the board contains O\"\n",
      "[1] \"On row 1 and column 2 the board contains NA\"\n",
      "[1] \"On row 1 and column 3 the board contains X\"\n",
      "[1] \"On row 2 and column 1 the board contains NA\"\n",
      "[1] \"On row 2 and column 2 the board contains O\"\n",
      "[1] \"On row 2 and column 3 the board contains O\"\n",
      "[1] \"On row 3 and column 1 the board contains X\"\n",
      "[1] \"On row 3 and column 2 the board contains NA\"\n",
      "[1] \"On row 3 and column 3 the board contains X\"\n"
     ]
    },
    {
     "data": {
      "text/html": [
       "'\\nAwesome! You\\'re sufficiently comfortable with basic for looping, so it\\'s time to step it up a notch! \\n'"
      ],
      "text/latex": [
       "'\\textbackslash{}nAwesome! You\\textbackslash{}'re sufficiently comfortable with basic for looping, so it\\textbackslash{}'s time to step it up a notch! \\textbackslash{}n'"
      ],
      "text/markdown": [
       "'\\nAwesome! You\\'re sufficiently comfortable with basic for looping, so it\\'s time to step it up a notch! \\n'"
      ],
      "text/plain": [
       "[1] \"\\nAwesome! You're sufficiently comfortable with basic for looping, so it's time to step it up a notch! \\n\""
      ]
     },
     "metadata": {},
     "output_type": "display_data"
    }
   ],
   "source": [
    "# exercise 07\n",
    "\n",
    "\"\n",
    "Loop over a matrix\n",
    "\n",
    "In your workspace, there's a matrix ttt, that represents the status of a tic-tac-toe game. It contains the values X, O and NA. Print out ttt to get a closer look. On row 1 and column 1, there's O, while on row 3 and column 2 there's NA.\n",
    "\n",
    "To solve this exercise, you'll need a for loop inside a for loop, often called a nested loop. Doing this in R is a breeze! Simply use the following recipe:\n",
    "\n",
    "for (var1 in seq1) {\n",
    "  for (var2 in seq2) {\n",
    "    expr\n",
    "  }\n",
    "}\n",
    "\n",
    "\"\n",
    "\n",
    "# Instructions\n",
    "\n",
    "\"\n",
    "Finish the nested for loops to go over the elements in ttt:\n",
    "\n",
    "    The outer loop should loop over the rows, with loop index i (use 1:nrow(ttt)).\n",
    "    The inner loop should loop over the columns, with loop index j (use 1:ncol(ttt)).\n",
    "    Inside the inner loop, make use of print() and paste() to print out information in the following format: On row i and column j the board contains x, where x is the value on that position.\n",
    "\n",
    "\"\n",
    "\n",
    "# solution\n",
    "\n",
    "# The tic-tac-toe matrix ttt has already been defined for you\n",
    "\n",
    "# define the double for loop\n",
    "for (i in 1:nrow(ttt)) {\n",
    "  for (j in 1:ncol(ttt)) {\n",
    "    print(paste(\"On row\", i ,\"and column\", j ,\"the board contains\", ttt[i,j]))\n",
    "  }\n",
    "}\n",
    "\n",
    "#----------------------------------#\n",
    "\n",
    "# Conclusion\n",
    "\n",
    "\"\n",
    "Awesome! You're sufficiently comfortable with basic for looping, so it's time to step it up a notch! \n",
    "\""
   ]
  },
  {
   "cell_type": "code",
   "execution_count": 11,
   "metadata": {
    "tags": [],
    "vscode": {
     "languageId": "r"
    }
   },
   "outputs": [
    {
     "data": {
      "text/html": [
       "'\\nMix it up with control flow\\n\\nLet\\'s return to the LinkedIn profile views data, stored in a vector linkedin. In the first exercise on for loops you already did a simple printout of each element in this vector. A little more in-depth interpretation of this data wouldn\\'t hurt, right? Time to throw in some conditionals! As with the while loop, you can use the if and else statements inside the for loop.\\n'"
      ],
      "text/latex": [
       "'\\textbackslash{}nMix it up with control flow\\textbackslash{}n\\textbackslash{}nLet\\textbackslash{}'s return to the LinkedIn profile views data, stored in a vector linkedin. In the first exercise on for loops you already did a simple printout of each element in this vector. A little more in-depth interpretation of this data wouldn\\textbackslash{}'t hurt, right? Time to throw in some conditionals! As with the while loop, you can use the if and else statements inside the for loop.\\textbackslash{}n'"
      ],
      "text/markdown": [
       "'\\nMix it up with control flow\\n\\nLet\\'s return to the LinkedIn profile views data, stored in a vector linkedin. In the first exercise on for loops you already did a simple printout of each element in this vector. A little more in-depth interpretation of this data wouldn\\'t hurt, right? Time to throw in some conditionals! As with the while loop, you can use the if and else statements inside the for loop.\\n'"
      ],
      "text/plain": [
       "[1] \"\\nMix it up with control flow\\n\\nLet's return to the LinkedIn profile views data, stored in a vector linkedin. In the first exercise on for loops you already did a simple printout of each element in this vector. A little more in-depth interpretation of this data wouldn't hurt, right? Time to throw in some conditionals! As with the while loop, you can use the if and else statements inside the for loop.\\n\""
      ]
     },
     "metadata": {},
     "output_type": "display_data"
    },
    {
     "data": {
      "text/html": [
       "<span style=white-space:pre-wrap>'\\nAdd code to the for loop that loops over the elements of the linkedin vector:\\n\\n    If the vector element\\'s value exceeds 10, print out You\\'re popular!.\\n    If the vector element\\'s value does not exceed 10, print out Be more visible!\\n\\n'</span>"
      ],
      "text/latex": [
       "'\\textbackslash{}nAdd code to the for loop that loops over the elements of the linkedin vector:\\textbackslash{}n\\textbackslash{}n    If the vector element\\textbackslash{}'s value exceeds 10, print out You\\textbackslash{}'re popular!.\\textbackslash{}n    If the vector element\\textbackslash{}'s value does not exceed 10, print out Be more visible!\\textbackslash{}n\\textbackslash{}n'"
      ],
      "text/markdown": [
       "<span style=white-space:pre-wrap>'\\nAdd code to the for loop that loops over the elements of the linkedin vector:\\n\\n    If the vector element\\'s value exceeds 10, print out You\\'re popular!.\\n    If the vector element\\'s value does not exceed 10, print out Be more visible!\\n\\n'</span>"
      ],
      "text/plain": [
       "[1] \"\\nAdd code to the for loop that loops over the elements of the linkedin vector:\\n\\n    If the vector element's value exceeds 10, print out You're popular!.\\n    If the vector element's value does not exceed 10, print out Be more visible!\\n\\n\""
      ]
     },
     "metadata": {},
     "output_type": "display_data"
    },
    {
     "name": "stdout",
     "output_type": "stream",
     "text": [
      "[1] \"You're popular!\"\n",
      "[1] 16\n",
      "[1] \"Be more visible!\"\n",
      "[1] 9\n",
      "[1] \"You're popular!\"\n",
      "[1] 13\n",
      "[1] \"Be more visible!\"\n",
      "[1] 5\n",
      "[1] \"Be more visible!\"\n",
      "[1] 2\n",
      "[1] \"You're popular!\"\n",
      "[1] 17\n",
      "[1] \"You're popular!\"\n",
      "[1] 14\n"
     ]
    },
    {
     "data": {
      "text/html": [
       "'\\nOutstanding! In the next exercise, you\\'ll customize this for loop even further with break and next statements. \\n'"
      ],
      "text/latex": [
       "'\\textbackslash{}nOutstanding! In the next exercise, you\\textbackslash{}'ll customize this for loop even further with break and next statements. \\textbackslash{}n'"
      ],
      "text/markdown": [
       "'\\nOutstanding! In the next exercise, you\\'ll customize this for loop even further with break and next statements. \\n'"
      ],
      "text/plain": [
       "[1] \"\\nOutstanding! In the next exercise, you'll customize this for loop even further with break and next statements. \\n\""
      ]
     },
     "metadata": {},
     "output_type": "display_data"
    }
   ],
   "source": [
    "# exercise 08\n",
    "\n",
    "\"\n",
    "Mix it up with control flow\n",
    "\n",
    "Let's return to the LinkedIn profile views data, stored in a vector linkedin. In the first exercise on for loops you already did a simple printout of each element in this vector. A little more in-depth interpretation of this data wouldn't hurt, right? Time to throw in some conditionals! As with the while loop, you can use the if and else statements inside the for loop.\n",
    "\"\n",
    "\n",
    "# Instructions\n",
    "\n",
    "\"\n",
    "Add code to the for loop that loops over the elements of the linkedin vector:\n",
    "\n",
    "    If the vector element's value exceeds 10, print out You're popular!.\n",
    "    If the vector element's value does not exceed 10, print out Be more visible!\n",
    "\n",
    "\"\n",
    "\n",
    "# solution\n",
    "\n",
    "# The linkedin vector has already been defined for you\n",
    "linkedin <- c(16, 9, 13, 5, 2, 17, 14)\n",
    "\n",
    "# Code the for loop with conditionals\n",
    "for (li in linkedin) {\n",
    "  if ( li > 10 ) {\n",
    "    print(\"You're popular!\")\n",
    "  } else {\n",
    "    print(\"Be more visible!\")\n",
    "  }\n",
    "  print(li)\n",
    "}\n",
    "\n",
    "#----------------------------------#\n",
    "\n",
    "# Conclusion\n",
    "\n",
    "\"\n",
    "Outstanding! In the next exercise, you'll customize this for loop even further with break and next statements. \n",
    "\""
   ]
  },
  {
   "cell_type": "code",
   "execution_count": 12,
   "metadata": {
    "tags": [],
    "vscode": {
     "languageId": "r"
    }
   },
   "outputs": [
    {
     "data": {
      "text/html": [
       "<span style=white-space:pre-wrap>'\\nNext, you break it\\n\\nA possible solution to the previous exercise has been provided for you. The code loops over the linkedin vector and prints out different messages depending on the values of li.\\n\\nIn this exercise, you will use the break and next statements:\\n\\n    The break statement abandons the active loop: the remaining code in the loop is skipped and the loop is not iterated over anymore.\\n    The next statement skips the remainder of the code in the loop, but continues the iteration.\\n\\n'</span>"
      ],
      "text/latex": [
       "'\\textbackslash{}nNext, you break it\\textbackslash{}n\\textbackslash{}nA possible solution to the previous exercise has been provided for you. The code loops over the linkedin vector and prints out different messages depending on the values of li.\\textbackslash{}n\\textbackslash{}nIn this exercise, you will use the break and next statements:\\textbackslash{}n\\textbackslash{}n    The break statement abandons the active loop: the remaining code in the loop is skipped and the loop is not iterated over anymore.\\textbackslash{}n    The next statement skips the remainder of the code in the loop, but continues the iteration.\\textbackslash{}n\\textbackslash{}n'"
      ],
      "text/markdown": [
       "<span style=white-space:pre-wrap>'\\nNext, you break it\\n\\nA possible solution to the previous exercise has been provided for you. The code loops over the linkedin vector and prints out different messages depending on the values of li.\\n\\nIn this exercise, you will use the break and next statements:\\n\\n    The break statement abandons the active loop: the remaining code in the loop is skipped and the loop is not iterated over anymore.\\n    The next statement skips the remainder of the code in the loop, but continues the iteration.\\n\\n'</span>"
      ],
      "text/plain": [
       "[1] \"\\nNext, you break it\\n\\nA possible solution to the previous exercise has been provided for you. The code loops over the linkedin vector and prints out different messages depending on the values of li.\\n\\nIn this exercise, you will use the break and next statements:\\n\\n    The break statement abandons the active loop: the remaining code in the loop is skipped and the loop is not iterated over anymore.\\n    The next statement skips the remainder of the code in the loop, but continues the iteration.\\n\\n\""
      ]
     },
     "metadata": {},
     "output_type": "display_data"
    },
    {
     "data": {
      "text/html": [
       "<span style=white-space:pre-wrap>'\\nExtend the for loop with two new, separate if tests as follows:\\n\\n    If the vector element\\'s value exceeds 16, print out This is ridiculous, I\\'m outta here! and have R abandon the for loop (break).\\n    If the value is lower than 5, print out This is too embarrassing! and fast-forward to the next iteration (next).\\n\\n'</span>"
      ],
      "text/latex": [
       "'\\textbackslash{}nExtend the for loop with two new, separate if tests as follows:\\textbackslash{}n\\textbackslash{}n    If the vector element\\textbackslash{}'s value exceeds 16, print out This is ridiculous, I\\textbackslash{}'m outta here! and have R abandon the for loop (break).\\textbackslash{}n    If the value is lower than 5, print out This is too embarrassing! and fast-forward to the next iteration (next).\\textbackslash{}n\\textbackslash{}n'"
      ],
      "text/markdown": [
       "<span style=white-space:pre-wrap>'\\nExtend the for loop with two new, separate if tests as follows:\\n\\n    If the vector element\\'s value exceeds 16, print out This is ridiculous, I\\'m outta here! and have R abandon the for loop (break).\\n    If the value is lower than 5, print out This is too embarrassing! and fast-forward to the next iteration (next).\\n\\n'</span>"
      ],
      "text/plain": [
       "[1] \"\\nExtend the for loop with two new, separate if tests as follows:\\n\\n    If the vector element's value exceeds 16, print out This is ridiculous, I'm outta here! and have R abandon the for loop (break).\\n    If the value is lower than 5, print out This is too embarrassing! and fast-forward to the next iteration (next).\\n\\n\""
      ]
     },
     "metadata": {},
     "output_type": "display_data"
    },
    {
     "name": "stdout",
     "output_type": "stream",
     "text": [
      "[1] \"You're popular!\"\n",
      "[1] 16\n",
      "[1] \"Be more visible!\"\n",
      "[1] 9\n",
      "[1] \"You're popular!\"\n",
      "[1] 13\n",
      "[1] \"Be more visible!\"\n",
      "[1] 5\n",
      "[1] \"Be more visible!\"\n",
      "[1] \"This is too embarrassing!\"\n",
      "[1] \"You're popular!\"\n",
      "[1] \"This is ridiculous, I'm outta here!\"\n"
     ]
    },
    {
     "data": {
      "text/html": [
       "'\\nGreat. for, break, next? We name it, you can do it! \\n'"
      ],
      "text/latex": [
       "'\\textbackslash{}nGreat. for, break, next? We name it, you can do it! \\textbackslash{}n'"
      ],
      "text/markdown": [
       "'\\nGreat. for, break, next? We name it, you can do it! \\n'"
      ],
      "text/plain": [
       "[1] \"\\nGreat. for, break, next? We name it, you can do it! \\n\""
      ]
     },
     "metadata": {},
     "output_type": "display_data"
    }
   ],
   "source": [
    "# exercise 09\n",
    "\n",
    "\"\n",
    "Next, you break it\n",
    "\n",
    "A possible solution to the previous exercise has been provided for you. The code loops over the linkedin vector and prints out different messages depending on the values of li.\n",
    "\n",
    "In this exercise, you will use the break and next statements:\n",
    "\n",
    "    The break statement abandons the active loop: the remaining code in the loop is skipped and the loop is not iterated over anymore.\n",
    "    The next statement skips the remainder of the code in the loop, but continues the iteration.\n",
    "\n",
    "\"\n",
    "\n",
    "# Instructions\n",
    "\n",
    "\"\n",
    "Extend the for loop with two new, separate if tests as follows:\n",
    "\n",
    "    If the vector element's value exceeds 16, print out This is ridiculous, I'm outta here! and have R abandon the for loop (break).\n",
    "    If the value is lower than 5, print out This is too embarrassing! and fast-forward to the next iteration (next).\n",
    "\n",
    "\"\n",
    "\n",
    "# solution\n",
    "\n",
    "# The linkedin vector has already been defined for you\n",
    "linkedin <- c(16, 9, 13, 5, 2, 17, 14)\n",
    "\n",
    "# Adapt/extend the for loop\n",
    "for (li in linkedin) {\n",
    "  if (li > 10) {\n",
    "    print(\"You're popular!\")\n",
    "  } else {\n",
    "    print(\"Be more visible!\")\n",
    "  }\n",
    "  \n",
    "  # Add if statement with break\n",
    "  if ( li > 16 ){\n",
    "    print( \"This is ridiculous, I'm outta here!\")\n",
    "    break\n",
    "  }\n",
    "  \n",
    "  # Add if statement with next\n",
    "  if (li < 5) {\n",
    "    print(\"This is too embarrassing!\")\n",
    "    next\n",
    "  }\n",
    "  \n",
    "  print(li)\n",
    "}\n",
    "\n",
    "#----------------------------------#\n",
    "\n",
    "# Conclusion\n",
    "\n",
    "\"\n",
    "Great. for, break, next? We name it, you can do it! \n",
    "\""
   ]
  },
  {
   "cell_type": "code",
   "execution_count": 13,
   "metadata": {
    "tags": [],
    "vscode": {
     "languageId": "r"
    }
   },
   "outputs": [
    {
     "data": {
      "text/html": [
       "'\\nBuild a for loop from scratch\\n\\nThis exercise will not introduce any new concepts on for loops.\\n\\nWe already went ahead and defined a variable rquote. This variable has been split up into a vector that contains separate letters and has been stored in a vector chars with the strsplit() function.\\n\\nCan you write code that counts the number of r\\'s that come before the first u in rquote?\\n'"
      ],
      "text/latex": [
       "'\\textbackslash{}nBuild a for loop from scratch\\textbackslash{}n\\textbackslash{}nThis exercise will not introduce any new concepts on for loops.\\textbackslash{}n\\textbackslash{}nWe already went ahead and defined a variable rquote. This variable has been split up into a vector that contains separate letters and has been stored in a vector chars with the strsplit() function.\\textbackslash{}n\\textbackslash{}nCan you write code that counts the number of r\\textbackslash{}'s that come before the first u in rquote?\\textbackslash{}n'"
      ],
      "text/markdown": [
       "'\\nBuild a for loop from scratch\\n\\nThis exercise will not introduce any new concepts on for loops.\\n\\nWe already went ahead and defined a variable rquote. This variable has been split up into a vector that contains separate letters and has been stored in a vector chars with the strsplit() function.\\n\\nCan you write code that counts the number of r\\'s that come before the first u in rquote?\\n'"
      ],
      "text/plain": [
       "[1] \"\\nBuild a for loop from scratch\\n\\nThis exercise will not introduce any new concepts on for loops.\\n\\nWe already went ahead and defined a variable rquote. This variable has been split up into a vector that contains separate letters and has been stored in a vector chars with the strsplit() function.\\n\\nCan you write code that counts the number of r's that come before the first u in rquote?\\n\""
      ]
     },
     "metadata": {},
     "output_type": "display_data"
    },
    {
     "data": {
      "text/html": [
       "<span style=white-space:pre-wrap>'\\n\\n    Initialize the variable rcount, as 0.\\n    Finish the for loop:\\n    if char equals r, increase the value of rcount by 1.\\n    if char equals u, leave the for loop entirely with a break.\\n    Finally, print out the variable rcount to the console to see if your code is correct.\\n\\n'</span>"
      ],
      "text/latex": [
       "'\\textbackslash{}n\\textbackslash{}n    Initialize the variable rcount, as 0.\\textbackslash{}n    Finish the for loop:\\textbackslash{}n    if char equals r, increase the value of rcount by 1.\\textbackslash{}n    if char equals u, leave the for loop entirely with a break.\\textbackslash{}n    Finally, print out the variable rcount to the console to see if your code is correct.\\textbackslash{}n\\textbackslash{}n'"
      ],
      "text/markdown": [
       "<span style=white-space:pre-wrap>'\\n\\n    Initialize the variable rcount, as 0.\\n    Finish the for loop:\\n    if char equals r, increase the value of rcount by 1.\\n    if char equals u, leave the for loop entirely with a break.\\n    Finally, print out the variable rcount to the console to see if your code is correct.\\n\\n'</span>"
      ],
      "text/plain": [
       "[1] \"\\n\\n    Initialize the variable rcount, as 0.\\n    Finish the for loop:\\n    if char equals r, increase the value of rcount by 1.\\n    if char equals u, leave the for loop entirely with a break.\\n    Finally, print out the variable rcount to the console to see if your code is correct.\\n\\n\""
      ]
     },
     "metadata": {},
     "output_type": "display_data"
    },
    {
     "data": {
      "text/html": [
       "5"
      ],
      "text/latex": [
       "5"
      ],
      "text/markdown": [
       "5"
      ],
      "text/plain": [
       "[1] 5"
      ]
     },
     "metadata": {},
     "output_type": "display_data"
    },
    {
     "data": {
      "text/html": [
       "'\\nFor-midable! This exercise concludes the chapter on while and for loops. \\n'"
      ],
      "text/latex": [
       "'\\textbackslash{}nFor-midable! This exercise concludes the chapter on while and for loops. \\textbackslash{}n'"
      ],
      "text/markdown": [
       "'\\nFor-midable! This exercise concludes the chapter on while and for loops. \\n'"
      ],
      "text/plain": [
       "[1] \"\\nFor-midable! This exercise concludes the chapter on while and for loops. \\n\""
      ]
     },
     "metadata": {},
     "output_type": "display_data"
    }
   ],
   "source": [
    "# exercise 10\n",
    "\n",
    "\"\n",
    "Build a for loop from scratch\n",
    "\n",
    "This exercise will not introduce any new concepts on for loops.\n",
    "\n",
    "We already went ahead and defined a variable rquote. This variable has been split up into a vector that contains separate letters and has been stored in a vector chars with the strsplit() function.\n",
    "\n",
    "Can you write code that counts the number of r's that come before the first u in rquote?\n",
    "\"\n",
    "\n",
    "# Instructions\n",
    "\n",
    "\"\n",
    "\n",
    "    Initialize the variable rcount, as 0.\n",
    "    Finish the for loop:\n",
    "    if char equals r, increase the value of rcount by 1.\n",
    "    if char equals u, leave the for loop entirely with a break.\n",
    "    Finally, print out the variable rcount to the console to see if your code is correct.\n",
    "\n",
    "\"\n",
    "\n",
    "# solution\n",
    "\n",
    "# Pre-defined variables\n",
    "rquote <- \"r's internals are irrefutably intriguing\"\n",
    "chars <- strsplit(rquote, split = \"\")[[1]]\n",
    "\n",
    "# Initialize rcount\n",
    "rcount <- 0\n",
    "\n",
    "# Finish the for loop\n",
    "for (char in chars) {\n",
    "  if (char == \"r\") { \n",
    "      rcount <- rcount + 1\n",
    "      } else if (char == \"u\") {\n",
    "    break\n",
    "}\n",
    "  \n",
    "} \n",
    "\n",
    "# Print out rcount\n",
    "rcount\n",
    "\n",
    "#----------------------------------#\n",
    "\n",
    "# Conclusion\n",
    "\n",
    "\"\n",
    "For-midable! This exercise concludes the chapter on while and for loops. \n",
    "\""
   ]
  }
 ],
 "metadata": {
  "kernelspec": {
   "display_name": "R",
   "language": "R",
   "name": "ir"
  },
  "language_info": {
   "codemirror_mode": "r",
   "file_extension": ".r",
   "mimetype": "text/x-r-source",
   "name": "R",
   "pygments_lexer": "r",
   "version": "4.3.2"
  }
 },
 "nbformat": 4,
 "nbformat_minor": 4
}
