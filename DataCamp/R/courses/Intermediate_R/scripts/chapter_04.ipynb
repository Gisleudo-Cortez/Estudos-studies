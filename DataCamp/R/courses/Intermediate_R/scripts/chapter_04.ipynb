{
 "cells": [
  {
   "cell_type": "code",
   "execution_count": 12,
   "metadata": {
    "vscode": {
     "languageId": "r"
    }
   },
   "outputs": [
    {
     "data": {
      "text/html": [
       "'\\nUse lapply with a built-in R function\\n\\nBefore you go about solving the exercises below, have a look at the documentation of the lapply() function. The Usage section shows the following expression:\\n\\nlapply(X, FUN, ...)\\n\\nTo put it generally, lapply takes a vector or list X, and applies the function FUN to each of its members. If FUN requires additional arguments, you pass them after you\\'ve specified X and FUN (...). The output of lapply() is a list, the same length as X, where each element is the result of applying FUN on the corresponding element of X.\\n\\nNow that you are truly brushing up on your data science skills, let\\'s revisit some of the most relevant figures in data science history. We\\'ve compiled a vector of famous mathematicians/statisticians and the year they were born. Up to you to extract some information!\\n'"
      ],
      "text/latex": [
       "'\\textbackslash{}nUse lapply with a built-in R function\\textbackslash{}n\\textbackslash{}nBefore you go about solving the exercises below, have a look at the documentation of the lapply() function. The Usage section shows the following expression:\\textbackslash{}n\\textbackslash{}nlapply(X, FUN, ...)\\textbackslash{}n\\textbackslash{}nTo put it generally, lapply takes a vector or list X, and applies the function FUN to each of its members. If FUN requires additional arguments, you pass them after you\\textbackslash{}'ve specified X and FUN (...). The output of lapply() is a list, the same length as X, where each element is the result of applying FUN on the corresponding element of X.\\textbackslash{}n\\textbackslash{}nNow that you are truly brushing up on your data science skills, let\\textbackslash{}'s revisit some of the most relevant figures in data science history. We\\textbackslash{}'ve compiled a vector of famous mathematicians/statisticians and the year they were born. Up to you to extract some information!\\textbackslash{}n'"
      ],
      "text/markdown": [
       "'\\nUse lapply with a built-in R function\\n\\nBefore you go about solving the exercises below, have a look at the documentation of the lapply() function. The Usage section shows the following expression:\\n\\nlapply(X, FUN, ...)\\n\\nTo put it generally, lapply takes a vector or list X, and applies the function FUN to each of its members. If FUN requires additional arguments, you pass them after you\\'ve specified X and FUN (...). The output of lapply() is a list, the same length as X, where each element is the result of applying FUN on the corresponding element of X.\\n\\nNow that you are truly brushing up on your data science skills, let\\'s revisit some of the most relevant figures in data science history. We\\'ve compiled a vector of famous mathematicians/statisticians and the year they were born. Up to you to extract some information!\\n'"
      ],
      "text/plain": [
       "[1] \"\\nUse lapply with a built-in R function\\n\\nBefore you go about solving the exercises below, have a look at the documentation of the lapply() function. The Usage section shows the following expression:\\n\\nlapply(X, FUN, ...)\\n\\nTo put it generally, lapply takes a vector or list X, and applies the function FUN to each of its members. If FUN requires additional arguments, you pass them after you've specified X and FUN (...). The output of lapply() is a list, the same length as X, where each element is the result of applying FUN on the corresponding element of X.\\n\\nNow that you are truly brushing up on your data science skills, let's revisit some of the most relevant figures in data science history. We've compiled a vector of famous mathematicians/statisticians and the year they were born. Up to you to extract some information!\\n\""
      ]
     },
     "metadata": {},
     "output_type": "display_data"
    },
    {
     "data": {
      "text/html": [
       "<span style=white-space:pre-wrap>'\\n\\n    Have a look at the strsplit() calls, that splits the strings in pioneers on the : sign. The result, split_math is a list of 4 character vectors: the first vector element represents the name, the second element the birth year.\\n    Use lapply() to convert the character vectors in split_math to lowercase letters: apply tolower() on each of the elements in split_math. Assign the result, which is a list, to a new variable split_low.\\n    Finally, inspect the contents of split_low with str().\\n\\n'</span>"
      ],
      "text/latex": [
       "'\\textbackslash{}n\\textbackslash{}n    Have a look at the strsplit() calls, that splits the strings in pioneers on the : sign. The result, split\\_math is a list of 4 character vectors: the first vector element represents the name, the second element the birth year.\\textbackslash{}n    Use lapply() to convert the character vectors in split\\_math to lowercase letters: apply tolower() on each of the elements in split\\_math. Assign the result, which is a list, to a new variable split\\_low.\\textbackslash{}n    Finally, inspect the contents of split\\_low with str().\\textbackslash{}n\\textbackslash{}n'"
      ],
      "text/markdown": [
       "<span style=white-space:pre-wrap>'\\n\\n    Have a look at the strsplit() calls, that splits the strings in pioneers on the : sign. The result, split_math is a list of 4 character vectors: the first vector element represents the name, the second element the birth year.\\n    Use lapply() to convert the character vectors in split_math to lowercase letters: apply tolower() on each of the elements in split_math. Assign the result, which is a list, to a new variable split_low.\\n    Finally, inspect the contents of split_low with str().\\n\\n'</span>"
      ],
      "text/plain": [
       "[1] \"\\n\\n    Have a look at the strsplit() calls, that splits the strings in pioneers on the : sign. The result, split_math is a list of 4 character vectors: the first vector element represents the name, the second element the birth year.\\n    Use lapply() to convert the character vectors in split_math to lowercase letters: apply tolower() on each of the elements in split_math. Assign the result, which is a list, to a new variable split_low.\\n    Finally, inspect the contents of split_low with str().\\n\\n\""
      ]
     },
     "metadata": {},
     "output_type": "display_data"
    },
    {
     "name": "stdout",
     "output_type": "stream",
     "text": [
      "List of 4\n",
      " $ : chr [1:2] \"gauss\" \"1777\"\n",
      " $ : chr [1:2] \"bayes\" \"1702\"\n",
      " $ : chr [1:2] \"pascal\" \"1623\"\n",
      " $ : chr [1:2] \"pearson\" \"1857\"\n"
     ]
    },
    {
     "data": {
      "text/html": [
       "'\\nGreat! Head over to the next exercise. \\n'"
      ],
      "text/latex": [
       "'\\textbackslash{}nGreat! Head over to the next exercise. \\textbackslash{}n'"
      ],
      "text/markdown": [
       "'\\nGreat! Head over to the next exercise. \\n'"
      ],
      "text/plain": [
       "[1] \"\\nGreat! Head over to the next exercise. \\n\""
      ]
     },
     "metadata": {},
     "output_type": "display_data"
    }
   ],
   "source": [
    "# exercise 01\n",
    "\n",
    "\"\n",
    "Use lapply with a built-in R function\n",
    "\n",
    "Before you go about solving the exercises below, have a look at the documentation of the lapply() function. The Usage section shows the following expression:\n",
    "\n",
    "lapply(X, FUN, ...)\n",
    "\n",
    "To put it generally, lapply takes a vector or list X, and applies the function FUN to each of its members. If FUN requires additional arguments, you pass them after you've specified X and FUN (...). The output of lapply() is a list, the same length as X, where each element is the result of applying FUN on the corresponding element of X.\n",
    "\n",
    "Now that you are truly brushing up on your data science skills, let's revisit some of the most relevant figures in data science history. We've compiled a vector of famous mathematicians/statisticians and the year they were born. Up to you to extract some information!\n",
    "\"\n",
    "\n",
    "# Instructions\n",
    "\n",
    "\"\n",
    "\n",
    "    Have a look at the strsplit() calls, that splits the strings in pioneers on the : sign. The result, split_math is a list of 4 character vectors: the first vector element represents the name, the second element the birth year.\n",
    "    Use lapply() to convert the character vectors in split_math to lowercase letters: apply tolower() on each of the elements in split_math. Assign the result, which is a list, to a new variable split_low.\n",
    "    Finally, inspect the contents of split_low with str().\n",
    "\n",
    "\"\n",
    "\n",
    "# solution\n",
    "\n",
    "# The vector pioneers has already been created for you\n",
    "pioneers <- c(\"GAUSS:1777\", \"BAYES:1702\", \"PASCAL:1623\", \"PEARSON:1857\")\n",
    "\n",
    "# Split names from birth year\n",
    "split_math <- strsplit(pioneers, split = \":\")\n",
    "\n",
    "# Convert to lowercase strings: split_low\n",
    "split_low <- lapply(split_math, tolower)\n",
    "\n",
    "# Take a look at the structure of split_low\n",
    "str(split_low)\n",
    "\n",
    "#----------------------------------#\n",
    "\n",
    "# Conclusion\n",
    "\n",
    "\"\n",
    "Great! Head over to the next exercise. \n",
    "\""
   ]
  },
  {
   "cell_type": "code",
   "execution_count": 13,
   "metadata": {
    "tags": [],
    "vscode": {
     "languageId": "r"
    }
   },
   "outputs": [
    {
     "data": {
      "text/html": [
       "'\\nUse lapply with your own function\\n\\nAs Filip explained in the instructional video, you can use lapply() on your own functions as well. You just need to code a new function and make sure it is available in the workspace. After that, you can use the function inside lapply() just as you did with base R functions.\\n\\nIn the previous exercise you already used lapply() once to convert the information about your favorite pioneering statisticians to a list of vectors composed of two character strings. Let\\'s write some code to select the names and the birth years separately.\\n\\nThe sample code already includes code that defined select_first(), that takes a vector as input and returns the first element of this vector.\\n'"
      ],
      "text/latex": [
       "'\\textbackslash{}nUse lapply with your own function\\textbackslash{}n\\textbackslash{}nAs Filip explained in the instructional video, you can use lapply() on your own functions as well. You just need to code a new function and make sure it is available in the workspace. After that, you can use the function inside lapply() just as you did with base R functions.\\textbackslash{}n\\textbackslash{}nIn the previous exercise you already used lapply() once to convert the information about your favorite pioneering statisticians to a list of vectors composed of two character strings. Let\\textbackslash{}'s write some code to select the names and the birth years separately.\\textbackslash{}n\\textbackslash{}nThe sample code already includes code that defined select\\_first(), that takes a vector as input and returns the first element of this vector.\\textbackslash{}n'"
      ],
      "text/markdown": [
       "'\\nUse lapply with your own function\\n\\nAs Filip explained in the instructional video, you can use lapply() on your own functions as well. You just need to code a new function and make sure it is available in the workspace. After that, you can use the function inside lapply() just as you did with base R functions.\\n\\nIn the previous exercise you already used lapply() once to convert the information about your favorite pioneering statisticians to a list of vectors composed of two character strings. Let\\'s write some code to select the names and the birth years separately.\\n\\nThe sample code already includes code that defined select_first(), that takes a vector as input and returns the first element of this vector.\\n'"
      ],
      "text/plain": [
       "[1] \"\\nUse lapply with your own function\\n\\nAs Filip explained in the instructional video, you can use lapply() on your own functions as well. You just need to code a new function and make sure it is available in the workspace. After that, you can use the function inside lapply() just as you did with base R functions.\\n\\nIn the previous exercise you already used lapply() once to convert the information about your favorite pioneering statisticians to a list of vectors composed of two character strings. Let's write some code to select the names and the birth years separately.\\n\\nThe sample code already includes code that defined select_first(), that takes a vector as input and returns the first element of this vector.\\n\""
      ]
     },
     "metadata": {},
     "output_type": "display_data"
    },
    {
     "data": {
      "text/html": [
       "<span style=white-space:pre-wrap>'\\n\\n    Apply select_first() over the elements of split_low with lapply() and assign the result to a new variable names.\\n    Next, write a function select_second() that does the exact same thing for the second element of an inputted vector.\\n    Finally, apply the select_second() function over split_low and assign the output to the variable years.\\n\\n'</span>"
      ],
      "text/latex": [
       "'\\textbackslash{}n\\textbackslash{}n    Apply select\\_first() over the elements of split\\_low with lapply() and assign the result to a new variable names.\\textbackslash{}n    Next, write a function select\\_second() that does the exact same thing for the second element of an inputted vector.\\textbackslash{}n    Finally, apply the select\\_second() function over split\\_low and assign the output to the variable years.\\textbackslash{}n\\textbackslash{}n'"
      ],
      "text/markdown": [
       "<span style=white-space:pre-wrap>'\\n\\n    Apply select_first() over the elements of split_low with lapply() and assign the result to a new variable names.\\n    Next, write a function select_second() that does the exact same thing for the second element of an inputted vector.\\n    Finally, apply the select_second() function over split_low and assign the output to the variable years.\\n\\n'</span>"
      ],
      "text/plain": [
       "[1] \"\\n\\n    Apply select_first() over the elements of split_low with lapply() and assign the result to a new variable names.\\n    Next, write a function select_second() that does the exact same thing for the second element of an inputted vector.\\n    Finally, apply the select_second() function over split_low and assign the output to the variable years.\\n\\n\""
      ]
     },
     "metadata": {},
     "output_type": "display_data"
    },
    {
     "data": {
      "text/html": [
       "'\\nNice one! Head over to the next exercise to learn about anonymous functions. \\n'"
      ],
      "text/latex": [
       "'\\textbackslash{}nNice one! Head over to the next exercise to learn about anonymous functions. \\textbackslash{}n'"
      ],
      "text/markdown": [
       "'\\nNice one! Head over to the next exercise to learn about anonymous functions. \\n'"
      ],
      "text/plain": [
       "[1] \"\\nNice one! Head over to the next exercise to learn about anonymous functions. \\n\""
      ]
     },
     "metadata": {},
     "output_type": "display_data"
    }
   ],
   "source": [
    "# exercise 02\n",
    "\n",
    "\"\n",
    "Use lapply with your own function\n",
    "\n",
    "As Filip explained in the instructional video, you can use lapply() on your own functions as well. You just need to code a new function and make sure it is available in the workspace. After that, you can use the function inside lapply() just as you did with base R functions.\n",
    "\n",
    "In the previous exercise you already used lapply() once to convert the information about your favorite pioneering statisticians to a list of vectors composed of two character strings. Let's write some code to select the names and the birth years separately.\n",
    "\n",
    "The sample code already includes code that defined select_first(), that takes a vector as input and returns the first element of this vector.\n",
    "\"\n",
    "\n",
    "# Instructions\n",
    "\n",
    "\"\n",
    "\n",
    "    Apply select_first() over the elements of split_low with lapply() and assign the result to a new variable names.\n",
    "    Next, write a function select_second() that does the exact same thing for the second element of an inputted vector.\n",
    "    Finally, apply the select_second() function over split_low and assign the output to the variable years.\n",
    "\n",
    "\"\n",
    "\n",
    "# solution\n",
    "\n",
    "# Code from previous exercise:\n",
    "pioneers <- c(\"GAUSS:1777\", \"BAYES:1702\", \"PASCAL:1623\", \"PEARSON:1857\")\n",
    "split <- strsplit(pioneers, split = \":\")\n",
    "split_low <- lapply(split, tolower)\n",
    "\n",
    "# Write function select_first()\n",
    "select_first <- function(x) {\n",
    "  x[1]\n",
    "}\n",
    "\n",
    "# Apply select_first() over split_low: names\n",
    "names <- lapply(split_low, select_first)\n",
    "\n",
    "# Write function select_second()\n",
    "select_second <- function(x){\n",
    "  x[2]\n",
    "}\n",
    "\n",
    "# Apply select_second() over split_low: years\n",
    "years <- lapply(split_low, select_second)\n",
    "\n",
    "#----------------------------------#\n",
    "\n",
    "# Conclusion\n",
    "\n",
    "\"\n",
    "Nice one! Head over to the next exercise to learn about anonymous functions. \n",
    "\""
   ]
  },
  {
   "cell_type": "code",
   "execution_count": 14,
   "metadata": {
    "tags": [],
    "vscode": {
     "languageId": "r"
    }
   },
   "outputs": [
    {
     "data": {
      "text/html": [
       "'\\nlapply and anonymous functions\\n\\nWriting your own functions and then using them inside lapply() is quite an accomplishment! But defining functions to use them only once is kind of overkill, isn\\'t it? That\\'s why you can use so-called anonymous functions in R.\\n\\nPreviously, you learned that functions in R are objects in their own right. This means that they aren\\'t automatically bound to a name. When you create a function, you can use the assignment operator to give the function a name. It\\'s perfectly possible, however, to not give the function a name. This is called an anonymous function:\\n\\n# Named function\\ntriple &lt;- function(x) { 3 * x }\\n\\n# Anonymous function with same implementation\\nfunction(x) { 3 * x }\\n\\n# Use anonymous function inside lapply()\\nlapply(list(1,2,3), function(x) { 3 * x })\\n\\nsplit_low is defined for you.\\n'"
      ],
      "text/latex": [
       "'\\textbackslash{}nlapply and anonymous functions\\textbackslash{}n\\textbackslash{}nWriting your own functions and then using them inside lapply() is quite an accomplishment! But defining functions to use them only once is kind of overkill, isn\\textbackslash{}'t it? That\\textbackslash{}'s why you can use so-called anonymous functions in R.\\textbackslash{}n\\textbackslash{}nPreviously, you learned that functions in R are objects in their own right. This means that they aren\\textbackslash{}'t automatically bound to a name. When you create a function, you can use the assignment operator to give the function a name. It\\textbackslash{}'s perfectly possible, however, to not give the function a name. This is called an anonymous function:\\textbackslash{}n\\textbackslash{}n\\# Named function\\textbackslash{}ntriple <- function(x) \\{ 3 * x \\}\\textbackslash{}n\\textbackslash{}n\\# Anonymous function with same implementation\\textbackslash{}nfunction(x) \\{ 3 * x \\}\\textbackslash{}n\\textbackslash{}n\\# Use anonymous function inside lapply()\\textbackslash{}nlapply(list(1,2,3), function(x) \\{ 3 * x \\})\\textbackslash{}n\\textbackslash{}nsplit\\_low is defined for you.\\textbackslash{}n'"
      ],
      "text/markdown": [
       "'\\nlapply and anonymous functions\\n\\nWriting your own functions and then using them inside lapply() is quite an accomplishment! But defining functions to use them only once is kind of overkill, isn\\'t it? That\\'s why you can use so-called anonymous functions in R.\\n\\nPreviously, you learned that functions in R are objects in their own right. This means that they aren\\'t automatically bound to a name. When you create a function, you can use the assignment operator to give the function a name. It\\'s perfectly possible, however, to not give the function a name. This is called an anonymous function:\\n\\n# Named function\\ntriple &lt;- function(x) { 3 * x }\\n\\n# Anonymous function with same implementation\\nfunction(x) { 3 * x }\\n\\n# Use anonymous function inside lapply()\\nlapply(list(1,2,3), function(x) { 3 * x })\\n\\nsplit_low is defined for you.\\n'"
      ],
      "text/plain": [
       "[1] \"\\nlapply and anonymous functions\\n\\nWriting your own functions and then using them inside lapply() is quite an accomplishment! But defining functions to use them only once is kind of overkill, isn't it? That's why you can use so-called anonymous functions in R.\\n\\nPreviously, you learned that functions in R are objects in their own right. This means that they aren't automatically bound to a name. When you create a function, you can use the assignment operator to give the function a name. It's perfectly possible, however, to not give the function a name. This is called an anonymous function:\\n\\n# Named function\\ntriple <- function(x) { 3 * x }\\n\\n# Anonymous function with same implementation\\nfunction(x) { 3 * x }\\n\\n# Use anonymous function inside lapply()\\nlapply(list(1,2,3), function(x) { 3 * x })\\n\\nsplit_low is defined for you.\\n\""
      ]
     },
     "metadata": {},
     "output_type": "display_data"
    },
    {
     "data": {
      "text/html": [
       "<span style=white-space:pre-wrap>'\\n\\n    Transform the first call of lapply() such that it uses an anonymous function that does the same thing.\\n    In a similar fashion, convert the second call of lapply to use an anonymous version of the select_second() function.\\n    Remove both the definitions of select_first() and select_second(), as they are no longer useful.\\n\\n'</span>"
      ],
      "text/latex": [
       "'\\textbackslash{}n\\textbackslash{}n    Transform the first call of lapply() such that it uses an anonymous function that does the same thing.\\textbackslash{}n    In a similar fashion, convert the second call of lapply to use an anonymous version of the select\\_second() function.\\textbackslash{}n    Remove both the definitions of select\\_first() and select\\_second(), as they are no longer useful.\\textbackslash{}n\\textbackslash{}n'"
      ],
      "text/markdown": [
       "<span style=white-space:pre-wrap>'\\n\\n    Transform the first call of lapply() such that it uses an anonymous function that does the same thing.\\n    In a similar fashion, convert the second call of lapply to use an anonymous version of the select_second() function.\\n    Remove both the definitions of select_first() and select_second(), as they are no longer useful.\\n\\n'</span>"
      ],
      "text/plain": [
       "[1] \"\\n\\n    Transform the first call of lapply() such that it uses an anonymous function that does the same thing.\\n    In a similar fashion, convert the second call of lapply to use an anonymous version of the select_second() function.\\n    Remove both the definitions of select_first() and select_second(), as they are no longer useful.\\n\\n\""
      ]
     },
     "metadata": {},
     "output_type": "display_data"
    },
    {
     "data": {
      "text/html": [
       "<ol>\n",
       "\t<li><style>\n",
       ".list-inline {list-style: none; margin:0; padding: 0}\n",
       ".list-inline>li {display: inline-block}\n",
       ".list-inline>li:not(:last-child)::after {content: \"\\00b7\"; padding: 0 .5ex}\n",
       "</style>\n",
       "<ol class=list-inline><li>'gauss'</li><li>'1777'</li></ol>\n",
       "</li>\n",
       "\t<li><style>\n",
       ".list-inline {list-style: none; margin:0; padding: 0}\n",
       ".list-inline>li {display: inline-block}\n",
       ".list-inline>li:not(:last-child)::after {content: \"\\00b7\"; padding: 0 .5ex}\n",
       "</style>\n",
       "<ol class=list-inline><li>'bayes'</li><li>'1702'</li></ol>\n",
       "</li>\n",
       "\t<li><style>\n",
       ".list-inline {list-style: none; margin:0; padding: 0}\n",
       ".list-inline>li {display: inline-block}\n",
       ".list-inline>li:not(:last-child)::after {content: \"\\00b7\"; padding: 0 .5ex}\n",
       "</style>\n",
       "<ol class=list-inline><li>'pascal'</li><li>'1623'</li></ol>\n",
       "</li>\n",
       "\t<li><style>\n",
       ".list-inline {list-style: none; margin:0; padding: 0}\n",
       ".list-inline>li {display: inline-block}\n",
       ".list-inline>li:not(:last-child)::after {content: \"\\00b7\"; padding: 0 .5ex}\n",
       "</style>\n",
       "<ol class=list-inline><li>'pearson'</li><li>'1857'</li></ol>\n",
       "</li>\n",
       "</ol>\n"
      ],
      "text/latex": [
       "\\begin{enumerate}\n",
       "\\item \\begin{enumerate*}\n",
       "\\item 'gauss'\n",
       "\\item '1777'\n",
       "\\end{enumerate*}\n",
       "\n",
       "\\item \\begin{enumerate*}\n",
       "\\item 'bayes'\n",
       "\\item '1702'\n",
       "\\end{enumerate*}\n",
       "\n",
       "\\item \\begin{enumerate*}\n",
       "\\item 'pascal'\n",
       "\\item '1623'\n",
       "\\end{enumerate*}\n",
       "\n",
       "\\item \\begin{enumerate*}\n",
       "\\item 'pearson'\n",
       "\\item '1857'\n",
       "\\end{enumerate*}\n",
       "\n",
       "\\end{enumerate}\n"
      ],
      "text/markdown": [
       "1. 1. 'gauss'\n",
       "2. '1777'\n",
       "\n",
       "\n",
       "\n",
       "2. 1. 'bayes'\n",
       "2. '1702'\n",
       "\n",
       "\n",
       "\n",
       "3. 1. 'pascal'\n",
       "2. '1623'\n",
       "\n",
       "\n",
       "\n",
       "4. 1. 'pearson'\n",
       "2. '1857'\n",
       "\n",
       "\n",
       "\n",
       "\n",
       "\n"
      ],
      "text/plain": [
       "[[1]]\n",
       "[1] \"gauss\" \"1777\" \n",
       "\n",
       "[[2]]\n",
       "[1] \"bayes\" \"1702\" \n",
       "\n",
       "[[3]]\n",
       "[1] \"pascal\" \"1623\"  \n",
       "\n",
       "[[4]]\n",
       "[1] \"pearson\" \"1857\"   \n"
      ]
     },
     "metadata": {},
     "output_type": "display_data"
    },
    {
     "data": {
      "text/html": [
       "'\\nGreat! Now, there\\'s another way to solve the issue of using the select_*() functions only once: you can make a more generic function that can be used in more places. Find out more about this in the next exercise. \\n'"
      ],
      "text/latex": [
       "'\\textbackslash{}nGreat! Now, there\\textbackslash{}'s another way to solve the issue of using the select\\_*() functions only once: you can make a more generic function that can be used in more places. Find out more about this in the next exercise. \\textbackslash{}n'"
      ],
      "text/markdown": [
       "'\\nGreat! Now, there\\'s another way to solve the issue of using the select_*() functions only once: you can make a more generic function that can be used in more places. Find out more about this in the next exercise. \\n'"
      ],
      "text/plain": [
       "[1] \"\\nGreat! Now, there's another way to solve the issue of using the select_*() functions only once: you can make a more generic function that can be used in more places. Find out more about this in the next exercise. \\n\""
      ]
     },
     "metadata": {},
     "output_type": "display_data"
    }
   ],
   "source": [
    "# exercise 03\n",
    "\n",
    "\"\n",
    "lapply and anonymous functions\n",
    "\n",
    "Writing your own functions and then using them inside lapply() is quite an accomplishment! But defining functions to use them only once is kind of overkill, isn't it? That's why you can use so-called anonymous functions in R.\n",
    "\n",
    "Previously, you learned that functions in R are objects in their own right. This means that they aren't automatically bound to a name. When you create a function, you can use the assignment operator to give the function a name. It's perfectly possible, however, to not give the function a name. This is called an anonymous function:\n",
    "\n",
    "# Named function\n",
    "triple <- function(x) { 3 * x }\n",
    "\n",
    "# Anonymous function with same implementation\n",
    "function(x) { 3 * x }\n",
    "\n",
    "# Use anonymous function inside lapply()\n",
    "lapply(list(1,2,3), function(x) { 3 * x })\n",
    "\n",
    "split_low is defined for you.\n",
    "\"\n",
    "\n",
    "# Instructions\n",
    "\n",
    "\"\n",
    "\n",
    "    Transform the first call of lapply() such that it uses an anonymous function that does the same thing.\n",
    "    In a similar fashion, convert the second call of lapply to use an anonymous version of the select_second() function.\n",
    "    Remove both the definitions of select_first() and select_second(), as they are no longer useful.\n",
    "\n",
    "\"\n",
    "\n",
    "# solution\n",
    "\n",
    "# split_low has been created for you\n",
    "split_low\n",
    "\n",
    "# Transform: use anonymous function inside lapply\n",
    "\n",
    "names <- lapply(split_low, function(x) {x[1]})\n",
    "\n",
    "# Transform: use anonymous function inside lapply\n",
    "\n",
    "years <- lapply(split_low, function(x) {x[2]})\n",
    "\n",
    "#----------------------------------#\n",
    "\n",
    "# Conclusion\n",
    "\n",
    "\"\n",
    "Great! Now, there's another way to solve the issue of using the select_*() functions only once: you can make a more generic function that can be used in more places. Find out more about this in the next exercise. \n",
    "\""
   ]
  },
  {
   "cell_type": "code",
   "execution_count": 15,
   "metadata": {
    "tags": [],
    "vscode": {
     "languageId": "r"
    }
   },
   "outputs": [
    {
     "data": {
      "text/html": [
       "<span style=white-space:pre-wrap>'\\nUse lapply with additional arguments\\n\\nIn the video, the triple() function was transformed to the multiply() function to allow for a more generic approach. lapply() provides a way to handle functions that require more than one argument, such as the multiply() function:\\n\\nmultiply &lt;- function(x, factor) {\\n  x * factor\\n}\\nlapply(list(1,2,3), multiply, factor = 3)\\n\\nOn the right we\\'ve included a generic version of the select functions that you\\'ve coded earlier: select_el(). It takes a vector as its first argument, and an index as its second argument. It returns the vector\\'s element at the specified index.\\n'</span>"
      ],
      "text/latex": [
       "'\\textbackslash{}nUse lapply with additional arguments\\textbackslash{}n\\textbackslash{}nIn the video, the triple() function was transformed to the multiply() function to allow for a more generic approach. lapply() provides a way to handle functions that require more than one argument, such as the multiply() function:\\textbackslash{}n\\textbackslash{}nmultiply <- function(x, factor) \\{\\textbackslash{}n  x * factor\\textbackslash{}n\\}\\textbackslash{}nlapply(list(1,2,3), multiply, factor = 3)\\textbackslash{}n\\textbackslash{}nOn the right we\\textbackslash{}'ve included a generic version of the select functions that you\\textbackslash{}'ve coded earlier: select\\_el(). It takes a vector as its first argument, and an index as its second argument. It returns the vector\\textbackslash{}'s element at the specified index.\\textbackslash{}n'"
      ],
      "text/markdown": [
       "<span style=white-space:pre-wrap>'\\nUse lapply with additional arguments\\n\\nIn the video, the triple() function was transformed to the multiply() function to allow for a more generic approach. lapply() provides a way to handle functions that require more than one argument, such as the multiply() function:\\n\\nmultiply &lt;- function(x, factor) {\\n  x * factor\\n}\\nlapply(list(1,2,3), multiply, factor = 3)\\n\\nOn the right we\\'ve included a generic version of the select functions that you\\'ve coded earlier: select_el(). It takes a vector as its first argument, and an index as its second argument. It returns the vector\\'s element at the specified index.\\n'</span>"
      ],
      "text/plain": [
       "[1] \"\\nUse lapply with additional arguments\\n\\nIn the video, the triple() function was transformed to the multiply() function to allow for a more generic approach. lapply() provides a way to handle functions that require more than one argument, such as the multiply() function:\\n\\nmultiply <- function(x, factor) {\\n  x * factor\\n}\\nlapply(list(1,2,3), multiply, factor = 3)\\n\\nOn the right we've included a generic version of the select functions that you've coded earlier: select_el(). It takes a vector as its first argument, and an index as its second argument. It returns the vector's element at the specified index.\\n\""
      ]
     },
     "metadata": {},
     "output_type": "display_data"
    },
    {
     "data": {
      "text/html": [
       "'\\nUse lapply() twice to call select_el() over all elements in split_low: once with the index equal to 1 and a second time with the index equal to 2. Assign the result to names and years, respectively.\\n'"
      ],
      "text/latex": [
       "'\\textbackslash{}nUse lapply() twice to call select\\_el() over all elements in split\\_low: once with the index equal to 1 and a second time with the index equal to 2. Assign the result to names and years, respectively.\\textbackslash{}n'"
      ],
      "text/markdown": [
       "'\\nUse lapply() twice to call select_el() over all elements in split_low: once with the index equal to 1 and a second time with the index equal to 2. Assign the result to names and years, respectively.\\n'"
      ],
      "text/plain": [
       "[1] \"\\nUse lapply() twice to call select_el() over all elements in split_low: once with the index equal to 1 and a second time with the index equal to 2. Assign the result to names and years, respectively.\\n\""
      ]
     },
     "metadata": {},
     "output_type": "display_data"
    },
    {
     "data": {
      "text/html": [
       "'\\nAwesome! Your lapply skills are growing by the minute! \\n'"
      ],
      "text/latex": [
       "'\\textbackslash{}nAwesome! Your lapply skills are growing by the minute! \\textbackslash{}n'"
      ],
      "text/markdown": [
       "'\\nAwesome! Your lapply skills are growing by the minute! \\n'"
      ],
      "text/plain": [
       "[1] \"\\nAwesome! Your lapply skills are growing by the minute! \\n\""
      ]
     },
     "metadata": {},
     "output_type": "display_data"
    }
   ],
   "source": [
    "# exercise 04\n",
    "\n",
    "\"\n",
    "Use lapply with additional arguments\n",
    "\n",
    "In the video, the triple() function was transformed to the multiply() function to allow for a more generic approach. lapply() provides a way to handle functions that require more than one argument, such as the multiply() function:\n",
    "\n",
    "multiply <- function(x, factor) {\n",
    "  x * factor\n",
    "}\n",
    "lapply(list(1,2,3), multiply, factor = 3)\n",
    "\n",
    "On the right we've included a generic version of the select functions that you've coded earlier: select_el(). It takes a vector as its first argument, and an index as its second argument. It returns the vector's element at the specified index.\n",
    "\"\n",
    "\n",
    "# Instructions\n",
    "\n",
    "\"\n",
    "Use lapply() twice to call select_el() over all elements in split_low: once with the index equal to 1 and a second time with the index equal to 2. Assign the result to names and years, respectively.\n",
    "\"\n",
    "\n",
    "# solution\n",
    "\n",
    "# Definition of split_low\n",
    "pioneers <- c(\"GAUSS:1777\", \"BAYES:1702\", \"PASCAL:1623\", \"PEARSON:1857\")\n",
    "split <- strsplit(pioneers, split = \":\")\n",
    "split_low <- lapply(split, tolower)\n",
    "\n",
    "# Generic select function\n",
    "select_el <- function(x, index) {\n",
    "  x[index]\n",
    "}\n",
    "\n",
    "# Use lapply() twice on split_low: names and years\n",
    "names <- lapply(split_low, select_el, index=1)\n",
    "years <- lapply(split_low, select_el, index=2)\n",
    "\n",
    "#----------------------------------#\n",
    "\n",
    "# Conclusion\n",
    "\n",
    "\"\n",
    "Awesome! Your lapply skills are growing by the minute! \n",
    "\""
   ]
  },
  {
   "cell_type": "markdown",
   "metadata": {},
   "source": [
    "# Apply functions that return NULL\n",
    "\n",
    "In all of the previous exercises, it was assumed that the functions that were applied over vectors and lists actually returned a meaningful result. For example, the tolower() function simply returns the strings with the characters in lowercase. This won't always be the case. Suppose you want to display the structure of every element of a list. You could use the str() function for this, which returns NULL:\n",
    "\n",
    "lapply(list(1, \"a\", TRUE), str)\n",
    "\n",
    "This call actually returns a list, the same size as the input list, containing all NULL values. On the other hand calling\n",
    "\n",
    "str(TRUE)\n",
    "\n",
    "on its own prints only the structure of the logical to the console, not NULL. That's because str() uses invisible() behind the scenes, which returns an invisible copy of the return value, NULL in this case. This prevents it from being printed when the result of str() is not assigned.\n",
    "\n",
    "What will the following code chunk return (split_low is already available in the workspace)? Try to reason about the result before simply executing it in the console!\n",
    "\n",
    "lapply(split_low, function(x) {\n",
    "  if (nchar(x[1]) > 5) {\n",
    "    return(NULL)\n",
    "  } else {\n",
    "    return(x[2])\n",
    "  }\n",
    "})\n",
    "\n",
    "### Answer\n",
    "\n",
    "list(\"1777\", \"1702\", NULL, NULL)\n",
    "\n",
    "**Wonderful! Feel free to experiment some more with your code in the console. Did you notice that lapply() always returns a list, no matter the input? This can be kind of annoying. In the next video tutorial you'll learn about sapply() to solve this.**"
   ]
  },
  {
   "cell_type": "code",
   "execution_count": 16,
   "metadata": {
    "vscode": {
     "languageId": "r"
    }
   },
   "outputs": [
    {
     "data": {
      "text/html": [
       "<ol>\n",
       "\t<li><style>\n",
       ".list-inline {list-style: none; margin:0; padding: 0}\n",
       ".list-inline>li {display: inline-block}\n",
       ".list-inline>li:not(:last-child)::after {content: \"\\00b7\"; padding: 0 .5ex}\n",
       "</style>\n",
       "<ol class=list-inline><li>3</li><li>7</li><li>9</li><li>6</li><li>-1</li></ol>\n",
       "</li>\n",
       "\t<li><style>\n",
       ".list-inline {list-style: none; margin:0; padding: 0}\n",
       ".list-inline>li {display: inline-block}\n",
       ".list-inline>li:not(:last-child)::after {content: \"\\00b7\"; padding: 0 .5ex}\n",
       "</style>\n",
       "<ol class=list-inline><li>6</li><li>9</li><li>12</li><li>13</li><li>5</li></ol>\n",
       "</li>\n",
       "\t<li><style>\n",
       ".list-inline {list-style: none; margin:0; padding: 0}\n",
       ".list-inline>li {display: inline-block}\n",
       ".list-inline>li:not(:last-child)::after {content: \"\\00b7\"; padding: 0 .5ex}\n",
       "</style>\n",
       "<ol class=list-inline><li>4</li><li>8</li><li>3</li><li>-1</li><li>-3</li></ol>\n",
       "</li>\n",
       "\t<li><style>\n",
       ".list-inline {list-style: none; margin:0; padding: 0}\n",
       ".list-inline>li {display: inline-block}\n",
       ".list-inline>li:not(:last-child)::after {content: \"\\00b7\"; padding: 0 .5ex}\n",
       "</style>\n",
       "<ol class=list-inline><li>1</li><li>4</li><li>7</li><li>2</li><li>-2</li></ol>\n",
       "</li>\n",
       "\t<li><style>\n",
       ".list-inline {list-style: none; margin:0; padding: 0}\n",
       ".list-inline>li {display: inline-block}\n",
       ".list-inline>li:not(:last-child)::after {content: \"\\00b7\"; padding: 0 .5ex}\n",
       "</style>\n",
       "<ol class=list-inline><li>5</li><li>7</li><li>9</li><li>4</li><li>2</li></ol>\n",
       "</li>\n",
       "\t<li><style>\n",
       ".list-inline {list-style: none; margin:0; padding: 0}\n",
       ".list-inline>li {display: inline-block}\n",
       ".list-inline>li:not(:last-child)::after {content: \"\\00b7\"; padding: 0 .5ex}\n",
       "</style>\n",
       "<ol class=list-inline><li>-3</li><li>5</li><li>8</li><li>9</li><li>4</li></ol>\n",
       "</li>\n",
       "\t<li><style>\n",
       ".list-inline {list-style: none; margin:0; padding: 0}\n",
       ".list-inline>li {display: inline-block}\n",
       ".list-inline>li:not(:last-child)::after {content: \"\\00b7\"; padding: 0 .5ex}\n",
       "</style>\n",
       "<ol class=list-inline><li>3</li><li>6</li><li>9</li><li>4</li><li>1</li></ol>\n",
       "</li>\n",
       "</ol>\n"
      ],
      "text/latex": [
       "\\begin{enumerate}\n",
       "\\item \\begin{enumerate*}\n",
       "\\item 3\n",
       "\\item 7\n",
       "\\item 9\n",
       "\\item 6\n",
       "\\item -1\n",
       "\\end{enumerate*}\n",
       "\n",
       "\\item \\begin{enumerate*}\n",
       "\\item 6\n",
       "\\item 9\n",
       "\\item 12\n",
       "\\item 13\n",
       "\\item 5\n",
       "\\end{enumerate*}\n",
       "\n",
       "\\item \\begin{enumerate*}\n",
       "\\item 4\n",
       "\\item 8\n",
       "\\item 3\n",
       "\\item -1\n",
       "\\item -3\n",
       "\\end{enumerate*}\n",
       "\n",
       "\\item \\begin{enumerate*}\n",
       "\\item 1\n",
       "\\item 4\n",
       "\\item 7\n",
       "\\item 2\n",
       "\\item -2\n",
       "\\end{enumerate*}\n",
       "\n",
       "\\item \\begin{enumerate*}\n",
       "\\item 5\n",
       "\\item 7\n",
       "\\item 9\n",
       "\\item 4\n",
       "\\item 2\n",
       "\\end{enumerate*}\n",
       "\n",
       "\\item \\begin{enumerate*}\n",
       "\\item -3\n",
       "\\item 5\n",
       "\\item 8\n",
       "\\item 9\n",
       "\\item 4\n",
       "\\end{enumerate*}\n",
       "\n",
       "\\item \\begin{enumerate*}\n",
       "\\item 3\n",
       "\\item 6\n",
       "\\item 9\n",
       "\\item 4\n",
       "\\item 1\n",
       "\\end{enumerate*}\n",
       "\n",
       "\\end{enumerate}\n"
      ],
      "text/markdown": [
       "1. 1. 3\n",
       "2. 7\n",
       "3. 9\n",
       "4. 6\n",
       "5. -1\n",
       "\n",
       "\n",
       "\n",
       "2. 1. 6\n",
       "2. 9\n",
       "3. 12\n",
       "4. 13\n",
       "5. 5\n",
       "\n",
       "\n",
       "\n",
       "3. 1. 4\n",
       "2. 8\n",
       "3. 3\n",
       "4. -1\n",
       "5. -3\n",
       "\n",
       "\n",
       "\n",
       "4. 1. 1\n",
       "2. 4\n",
       "3. 7\n",
       "4. 2\n",
       "5. -2\n",
       "\n",
       "\n",
       "\n",
       "5. 1. 5\n",
       "2. 7\n",
       "3. 9\n",
       "4. 4\n",
       "5. 2\n",
       "\n",
       "\n",
       "\n",
       "6. 1. -3\n",
       "2. 5\n",
       "3. 8\n",
       "4. 9\n",
       "5. 4\n",
       "\n",
       "\n",
       "\n",
       "7. 1. 3\n",
       "2. 6\n",
       "3. 9\n",
       "4. 4\n",
       "5. 1\n",
       "\n",
       "\n",
       "\n",
       "\n",
       "\n"
      ],
      "text/plain": [
       "[[1]]\n",
       "[1]  3  7  9  6 -1\n",
       "\n",
       "[[2]]\n",
       "[1]  6  9 12 13  5\n",
       "\n",
       "[[3]]\n",
       "[1]  4  8  3 -1 -3\n",
       "\n",
       "[[4]]\n",
       "[1]  1  4  7  2 -2\n",
       "\n",
       "[[5]]\n",
       "[1] 5 7 9 4 2\n",
       "\n",
       "[[6]]\n",
       "[1] -3  5  8  9  4\n",
       "\n",
       "[[7]]\n",
       "[1] 3 6 9 4 1\n"
      ]
     },
     "metadata": {},
     "output_type": "display_data"
    }
   ],
   "source": [
    "temp <- list(\n",
    "  c(3, 7, 9, 6, -1),\n",
    "  c(6, 9, 12, 13, 5),\n",
    "  c(4, 8, 3, -1, -3),\n",
    "  c(1, 4, 7, 2, -2),\n",
    "  c(5, 7, 9, 4, 2),\n",
    "  c(-3, 5, 8, 9, 4),\n",
    "  c(3, 6, 9, 4, 1)\n",
    ")\n",
    "\n",
    "temp"
   ]
  },
  {
   "cell_type": "code",
   "execution_count": 17,
   "metadata": {
    "tags": [],
    "vscode": {
     "languageId": "r"
    }
   },
   "outputs": [
    {
     "data": {
      "text/html": [
       "'\\nHow to use sapply\\n\\nYou can use sapply() similar to how you used lapply(). The first argument of sapply() is the list or vector X over which you want to apply a function, FUN. Potential additional arguments to this function are specified afterwards (...):\\n\\nsapply(X, FUN, ...)\\n\\nIn the next couple of exercises, you\\'ll be working with the variable temp, that contains temperature measurements for 7 days. temp is a list of length 7, where each element is a vector of length 5, representing 5 measurements on a given day. This variable has already been defined in the workspace: type str(temp) to see its structure.\\n'"
      ],
      "text/latex": [
       "'\\textbackslash{}nHow to use sapply\\textbackslash{}n\\textbackslash{}nYou can use sapply() similar to how you used lapply(). The first argument of sapply() is the list or vector X over which you want to apply a function, FUN. Potential additional arguments to this function are specified afterwards (...):\\textbackslash{}n\\textbackslash{}nsapply(X, FUN, ...)\\textbackslash{}n\\textbackslash{}nIn the next couple of exercises, you\\textbackslash{}'ll be working with the variable temp, that contains temperature measurements for 7 days. temp is a list of length 7, where each element is a vector of length 5, representing 5 measurements on a given day. This variable has already been defined in the workspace: type str(temp) to see its structure.\\textbackslash{}n'"
      ],
      "text/markdown": [
       "'\\nHow to use sapply\\n\\nYou can use sapply() similar to how you used lapply(). The first argument of sapply() is the list or vector X over which you want to apply a function, FUN. Potential additional arguments to this function are specified afterwards (...):\\n\\nsapply(X, FUN, ...)\\n\\nIn the next couple of exercises, you\\'ll be working with the variable temp, that contains temperature measurements for 7 days. temp is a list of length 7, where each element is a vector of length 5, representing 5 measurements on a given day. This variable has already been defined in the workspace: type str(temp) to see its structure.\\n'"
      ],
      "text/plain": [
       "[1] \"\\nHow to use sapply\\n\\nYou can use sapply() similar to how you used lapply(). The first argument of sapply() is the list or vector X over which you want to apply a function, FUN. Potential additional arguments to this function are specified afterwards (...):\\n\\nsapply(X, FUN, ...)\\n\\nIn the next couple of exercises, you'll be working with the variable temp, that contains temperature measurements for 7 days. temp is a list of length 7, where each element is a vector of length 5, representing 5 measurements on a given day. This variable has already been defined in the workspace: type str(temp) to see its structure.\\n\""
      ]
     },
     "metadata": {},
     "output_type": "display_data"
    },
    {
     "data": {
      "text/html": [
       "<span style=white-space:pre-wrap>'\\n\\n    Use lapply() to calculate the minimum (built-in function min()) of the temperature measurements for every day.\\n    Do the same thing but this time with sapply(). See how the output differs.\\n    Use lapply() to compute the the maximum (max()) temperature for each day.\\n    Again, use sapply() to solve the same question and see how lapply() and sapply() differ.\\n\\n\\n'</span>"
      ],
      "text/latex": [
       "'\\textbackslash{}n\\textbackslash{}n    Use lapply() to calculate the minimum (built-in function min()) of the temperature measurements for every day.\\textbackslash{}n    Do the same thing but this time with sapply(). See how the output differs.\\textbackslash{}n    Use lapply() to compute the the maximum (max()) temperature for each day.\\textbackslash{}n    Again, use sapply() to solve the same question and see how lapply() and sapply() differ.\\textbackslash{}n\\textbackslash{}n\\textbackslash{}n'"
      ],
      "text/markdown": [
       "<span style=white-space:pre-wrap>'\\n\\n    Use lapply() to calculate the minimum (built-in function min()) of the temperature measurements for every day.\\n    Do the same thing but this time with sapply(). See how the output differs.\\n    Use lapply() to compute the the maximum (max()) temperature for each day.\\n    Again, use sapply() to solve the same question and see how lapply() and sapply() differ.\\n\\n\\n'</span>"
      ],
      "text/plain": [
       "[1] \"\\n\\n    Use lapply() to calculate the minimum (built-in function min()) of the temperature measurements for every day.\\n    Do the same thing but this time with sapply(). See how the output differs.\\n    Use lapply() to compute the the maximum (max()) temperature for each day.\\n    Again, use sapply() to solve the same question and see how lapply() and sapply() differ.\\n\\n\\n\""
      ]
     },
     "metadata": {},
     "output_type": "display_data"
    },
    {
     "data": {
      "text/html": [
       "<ol>\n",
       "\t<li>-1</li>\n",
       "\t<li>5</li>\n",
       "\t<li>-3</li>\n",
       "\t<li>-2</li>\n",
       "\t<li>2</li>\n",
       "\t<li>-3</li>\n",
       "\t<li>1</li>\n",
       "</ol>\n"
      ],
      "text/latex": [
       "\\begin{enumerate}\n",
       "\\item -1\n",
       "\\item 5\n",
       "\\item -3\n",
       "\\item -2\n",
       "\\item 2\n",
       "\\item -3\n",
       "\\item 1\n",
       "\\end{enumerate}\n"
      ],
      "text/markdown": [
       "1. -1\n",
       "2. 5\n",
       "3. -3\n",
       "4. -2\n",
       "5. 2\n",
       "6. -3\n",
       "7. 1\n",
       "\n",
       "\n"
      ],
      "text/plain": [
       "[[1]]\n",
       "[1] -1\n",
       "\n",
       "[[2]]\n",
       "[1] 5\n",
       "\n",
       "[[3]]\n",
       "[1] -3\n",
       "\n",
       "[[4]]\n",
       "[1] -2\n",
       "\n",
       "[[5]]\n",
       "[1] 2\n",
       "\n",
       "[[6]]\n",
       "[1] -3\n",
       "\n",
       "[[7]]\n",
       "[1] 1\n"
      ]
     },
     "metadata": {},
     "output_type": "display_data"
    },
    {
     "data": {
      "text/html": [
       "<style>\n",
       ".list-inline {list-style: none; margin:0; padding: 0}\n",
       ".list-inline>li {display: inline-block}\n",
       ".list-inline>li:not(:last-child)::after {content: \"\\00b7\"; padding: 0 .5ex}\n",
       "</style>\n",
       "<ol class=list-inline><li>-1</li><li>5</li><li>-3</li><li>-2</li><li>2</li><li>-3</li><li>1</li></ol>\n"
      ],
      "text/latex": [
       "\\begin{enumerate*}\n",
       "\\item -1\n",
       "\\item 5\n",
       "\\item -3\n",
       "\\item -2\n",
       "\\item 2\n",
       "\\item -3\n",
       "\\item 1\n",
       "\\end{enumerate*}\n"
      ],
      "text/markdown": [
       "1. -1\n",
       "2. 5\n",
       "3. -3\n",
       "4. -2\n",
       "5. 2\n",
       "6. -3\n",
       "7. 1\n",
       "\n",
       "\n"
      ],
      "text/plain": [
       "[1] -1  5 -3 -2  2 -3  1"
      ]
     },
     "metadata": {},
     "output_type": "display_data"
    },
    {
     "data": {
      "text/html": [
       "<ol>\n",
       "\t<li>9</li>\n",
       "\t<li>13</li>\n",
       "\t<li>8</li>\n",
       "\t<li>7</li>\n",
       "\t<li>9</li>\n",
       "\t<li>9</li>\n",
       "\t<li>9</li>\n",
       "</ol>\n"
      ],
      "text/latex": [
       "\\begin{enumerate}\n",
       "\\item 9\n",
       "\\item 13\n",
       "\\item 8\n",
       "\\item 7\n",
       "\\item 9\n",
       "\\item 9\n",
       "\\item 9\n",
       "\\end{enumerate}\n"
      ],
      "text/markdown": [
       "1. 9\n",
       "2. 13\n",
       "3. 8\n",
       "4. 7\n",
       "5. 9\n",
       "6. 9\n",
       "7. 9\n",
       "\n",
       "\n"
      ],
      "text/plain": [
       "[[1]]\n",
       "[1] 9\n",
       "\n",
       "[[2]]\n",
       "[1] 13\n",
       "\n",
       "[[3]]\n",
       "[1] 8\n",
       "\n",
       "[[4]]\n",
       "[1] 7\n",
       "\n",
       "[[5]]\n",
       "[1] 9\n",
       "\n",
       "[[6]]\n",
       "[1] 9\n",
       "\n",
       "[[7]]\n",
       "[1] 9\n"
      ]
     },
     "metadata": {},
     "output_type": "display_data"
    },
    {
     "data": {
      "text/html": [
       "<style>\n",
       ".list-inline {list-style: none; margin:0; padding: 0}\n",
       ".list-inline>li {display: inline-block}\n",
       ".list-inline>li:not(:last-child)::after {content: \"\\00b7\"; padding: 0 .5ex}\n",
       "</style>\n",
       "<ol class=list-inline><li>9</li><li>13</li><li>8</li><li>7</li><li>9</li><li>9</li><li>9</li></ol>\n"
      ],
      "text/latex": [
       "\\begin{enumerate*}\n",
       "\\item 9\n",
       "\\item 13\n",
       "\\item 8\n",
       "\\item 7\n",
       "\\item 9\n",
       "\\item 9\n",
       "\\item 9\n",
       "\\end{enumerate*}\n"
      ],
      "text/markdown": [
       "1. 9\n",
       "2. 13\n",
       "3. 8\n",
       "4. 7\n",
       "5. 9\n",
       "6. 9\n",
       "7. 9\n",
       "\n",
       "\n"
      ],
      "text/plain": [
       "[1]  9 13  8  7  9  9  9"
      ]
     },
     "metadata": {},
     "output_type": "display_data"
    },
    {
     "data": {
      "text/html": [
       "'\\nNice! Can you tell the difference between the output of lapply() and sapply()? The former returns a list, while the latter returns a vector that is a simplified version of this list. Notice that this time, unlike in the cities example of the instructional video, the vector is not named. \\n'"
      ],
      "text/latex": [
       "'\\textbackslash{}nNice! Can you tell the difference between the output of lapply() and sapply()? The former returns a list, while the latter returns a vector that is a simplified version of this list. Notice that this time, unlike in the cities example of the instructional video, the vector is not named. \\textbackslash{}n'"
      ],
      "text/markdown": [
       "'\\nNice! Can you tell the difference between the output of lapply() and sapply()? The former returns a list, while the latter returns a vector that is a simplified version of this list. Notice that this time, unlike in the cities example of the instructional video, the vector is not named. \\n'"
      ],
      "text/plain": [
       "[1] \"\\nNice! Can you tell the difference between the output of lapply() and sapply()? The former returns a list, while the latter returns a vector that is a simplified version of this list. Notice that this time, unlike in the cities example of the instructional video, the vector is not named. \\n\""
      ]
     },
     "metadata": {},
     "output_type": "display_data"
    }
   ],
   "source": [
    "# exercise 05\n",
    "\n",
    "\"\n",
    "How to use sapply\n",
    "\n",
    "You can use sapply() similar to how you used lapply(). The first argument of sapply() is the list or vector X over which you want to apply a function, FUN. Potential additional arguments to this function are specified afterwards (...):\n",
    "\n",
    "sapply(X, FUN, ...)\n",
    "\n",
    "In the next couple of exercises, you'll be working with the variable temp, that contains temperature measurements for 7 days. temp is a list of length 7, where each element is a vector of length 5, representing 5 measurements on a given day. This variable has already been defined in the workspace: type str(temp) to see its structure.\n",
    "\"\n",
    "\n",
    "# Instructions\n",
    "\n",
    "\"\n",
    "\n",
    "    Use lapply() to calculate the minimum (built-in function min()) of the temperature measurements for every day.\n",
    "    Do the same thing but this time with sapply(). See how the output differs.\n",
    "    Use lapply() to compute the the maximum (max()) temperature for each day.\n",
    "    Again, use sapply() to solve the same question and see how lapply() and sapply() differ.\n",
    "\n",
    "\n",
    "\"\n",
    "\n",
    "# solution\n",
    "\n",
    "# temp has already been defined in the workspace\n",
    "\n",
    "# Use lapply() to find each day's minimum temperature\n",
    "lapply(temp, min)\n",
    "\n",
    "# Use sapply() to find each day's minimum temperature\n",
    "sapply(temp, min)\n",
    "\n",
    "# Use lapply() to find each day's maximum temperature\n",
    "lapply(temp, max)\n",
    "\n",
    "# Use sapply() to find each day's maximum temperature\n",
    "sapply(temp, max)\n",
    "\n",
    "#----------------------------------#\n",
    "\n",
    "# Conclusion\n",
    "\n",
    "\"\n",
    "Nice! Can you tell the difference between the output of lapply() and sapply()? The former returns a list, while the latter returns a vector that is a simplified version of this list. Notice that this time, unlike in the cities example of the instructional video, the vector is not named. \n",
    "\""
   ]
  },
  {
   "cell_type": "code",
   "execution_count": 18,
   "metadata": {
    "tags": [],
    "vscode": {
     "languageId": "r"
    }
   },
   "outputs": [
    {
     "data": {
      "text/html": [
       "'\\nsapply with your own function\\n\\nLike lapply(), sapply() allows you to use self-defined functions and apply them over a vector or a list:\\n\\nsapply(X, FUN, ...)\\n\\nHere, FUN can be one of R\\'s built-in functions, but it can also be a function you wrote. This self-written function can be defined before hand, or can be inserted directly as an anonymous function.\\n'"
      ],
      "text/latex": [
       "'\\textbackslash{}nsapply with your own function\\textbackslash{}n\\textbackslash{}nLike lapply(), sapply() allows you to use self-defined functions and apply them over a vector or a list:\\textbackslash{}n\\textbackslash{}nsapply(X, FUN, ...)\\textbackslash{}n\\textbackslash{}nHere, FUN can be one of R\\textbackslash{}'s built-in functions, but it can also be a function you wrote. This self-written function can be defined before hand, or can be inserted directly as an anonymous function.\\textbackslash{}n'"
      ],
      "text/markdown": [
       "'\\nsapply with your own function\\n\\nLike lapply(), sapply() allows you to use self-defined functions and apply them over a vector or a list:\\n\\nsapply(X, FUN, ...)\\n\\nHere, FUN can be one of R\\'s built-in functions, but it can also be a function you wrote. This self-written function can be defined before hand, or can be inserted directly as an anonymous function.\\n'"
      ],
      "text/plain": [
       "[1] \"\\nsapply with your own function\\n\\nLike lapply(), sapply() allows you to use self-defined functions and apply them over a vector or a list:\\n\\nsapply(X, FUN, ...)\\n\\nHere, FUN can be one of R's built-in functions, but it can also be a function you wrote. This self-written function can be defined before hand, or can be inserted directly as an anonymous function.\\n\""
      ]
     },
     "metadata": {},
     "output_type": "display_data"
    },
    {
     "data": {
      "text/html": [
       "<span style=white-space:pre-wrap>'\\n\\n    Finish the definition of extremes_avg(): it takes a vector of temperatures and calculates the average of the minimum and maximum temperatures of the vector.\\n    Next, use this function inside sapply() to apply it over the vectors inside temp.\\n    Use the same function over temp with lapply() and see how the outputs differ.\\n\\n'</span>"
      ],
      "text/latex": [
       "'\\textbackslash{}n\\textbackslash{}n    Finish the definition of extremes\\_avg(): it takes a vector of temperatures and calculates the average of the minimum and maximum temperatures of the vector.\\textbackslash{}n    Next, use this function inside sapply() to apply it over the vectors inside temp.\\textbackslash{}n    Use the same function over temp with lapply() and see how the outputs differ.\\textbackslash{}n\\textbackslash{}n'"
      ],
      "text/markdown": [
       "<span style=white-space:pre-wrap>'\\n\\n    Finish the definition of extremes_avg(): it takes a vector of temperatures and calculates the average of the minimum and maximum temperatures of the vector.\\n    Next, use this function inside sapply() to apply it over the vectors inside temp.\\n    Use the same function over temp with lapply() and see how the outputs differ.\\n\\n'</span>"
      ],
      "text/plain": [
       "[1] \"\\n\\n    Finish the definition of extremes_avg(): it takes a vector of temperatures and calculates the average of the minimum and maximum temperatures of the vector.\\n    Next, use this function inside sapply() to apply it over the vectors inside temp.\\n    Use the same function over temp with lapply() and see how the outputs differ.\\n\\n\""
      ]
     },
     "metadata": {},
     "output_type": "display_data"
    },
    {
     "data": {
      "text/html": [
       "<style>\n",
       ".list-inline {list-style: none; margin:0; padding: 0}\n",
       ".list-inline>li {display: inline-block}\n",
       ".list-inline>li:not(:last-child)::after {content: \"\\00b7\"; padding: 0 .5ex}\n",
       "</style>\n",
       "<ol class=list-inline><li>4</li><li>9</li><li>2.5</li><li>2.5</li><li>5.5</li><li>3</li><li>5</li></ol>\n"
      ],
      "text/latex": [
       "\\begin{enumerate*}\n",
       "\\item 4\n",
       "\\item 9\n",
       "\\item 2.5\n",
       "\\item 2.5\n",
       "\\item 5.5\n",
       "\\item 3\n",
       "\\item 5\n",
       "\\end{enumerate*}\n"
      ],
      "text/markdown": [
       "1. 4\n",
       "2. 9\n",
       "3. 2.5\n",
       "4. 2.5\n",
       "5. 5.5\n",
       "6. 3\n",
       "7. 5\n",
       "\n",
       "\n"
      ],
      "text/plain": [
       "[1] 4.0 9.0 2.5 2.5 5.5 3.0 5.0"
      ]
     },
     "metadata": {},
     "output_type": "display_data"
    },
    {
     "data": {
      "text/html": [
       "<ol>\n",
       "\t<li>4</li>\n",
       "\t<li>9</li>\n",
       "\t<li>2.5</li>\n",
       "\t<li>2.5</li>\n",
       "\t<li>5.5</li>\n",
       "\t<li>3</li>\n",
       "\t<li>5</li>\n",
       "</ol>\n"
      ],
      "text/latex": [
       "\\begin{enumerate}\n",
       "\\item 4\n",
       "\\item 9\n",
       "\\item 2.5\n",
       "\\item 2.5\n",
       "\\item 5.5\n",
       "\\item 3\n",
       "\\item 5\n",
       "\\end{enumerate}\n"
      ],
      "text/markdown": [
       "1. 4\n",
       "2. 9\n",
       "3. 2.5\n",
       "4. 2.5\n",
       "5. 5.5\n",
       "6. 3\n",
       "7. 5\n",
       "\n",
       "\n"
      ],
      "text/plain": [
       "[[1]]\n",
       "[1] 4\n",
       "\n",
       "[[2]]\n",
       "[1] 9\n",
       "\n",
       "[[3]]\n",
       "[1] 2.5\n",
       "\n",
       "[[4]]\n",
       "[1] 2.5\n",
       "\n",
       "[[5]]\n",
       "[1] 5.5\n",
       "\n",
       "[[6]]\n",
       "[1] 3\n",
       "\n",
       "[[7]]\n",
       "[1] 5\n"
      ]
     },
     "metadata": {},
     "output_type": "display_data"
    },
    {
     "data": {
      "text/html": [
       "'\\nGreat job! Of course, you could have solved this exercise using an anonymous function, but this would require you to use the code inside the definition of extremes_avg() twice. Duplicating code should be avoided as much as possible! \\n'"
      ],
      "text/latex": [
       "'\\textbackslash{}nGreat job! Of course, you could have solved this exercise using an anonymous function, but this would require you to use the code inside the definition of extremes\\_avg() twice. Duplicating code should be avoided as much as possible! \\textbackslash{}n'"
      ],
      "text/markdown": [
       "'\\nGreat job! Of course, you could have solved this exercise using an anonymous function, but this would require you to use the code inside the definition of extremes_avg() twice. Duplicating code should be avoided as much as possible! \\n'"
      ],
      "text/plain": [
       "[1] \"\\nGreat job! Of course, you could have solved this exercise using an anonymous function, but this would require you to use the code inside the definition of extremes_avg() twice. Duplicating code should be avoided as much as possible! \\n\""
      ]
     },
     "metadata": {},
     "output_type": "display_data"
    }
   ],
   "source": [
    "# exercise 06\n",
    "\n",
    "\"\n",
    "sapply with your own function\n",
    "\n",
    "Like lapply(), sapply() allows you to use self-defined functions and apply them over a vector or a list:\n",
    "\n",
    "sapply(X, FUN, ...)\n",
    "\n",
    "Here, FUN can be one of R's built-in functions, but it can also be a function you wrote. This self-written function can be defined before hand, or can be inserted directly as an anonymous function.\n",
    "\"\n",
    "\n",
    "# Instructions\n",
    "\n",
    "\"\n",
    "\n",
    "    Finish the definition of extremes_avg(): it takes a vector of temperatures and calculates the average of the minimum and maximum temperatures of the vector.\n",
    "    Next, use this function inside sapply() to apply it over the vectors inside temp.\n",
    "    Use the same function over temp with lapply() and see how the outputs differ.\n",
    "\n",
    "\"\n",
    "\n",
    "# solution\n",
    "\n",
    "# temp is already defined in the workspace\n",
    "\n",
    "# Finish function definition of extremes_avg\n",
    "extremes_avg <- function(x) {\n",
    "  ( min(x) + max(x) ) / 2\n",
    "}\n",
    "\n",
    "# Apply extremes_avg() over temp using sapply()\n",
    "sapply(temp, extremes_avg)\n",
    "\n",
    "# Apply extremes_avg() over temp using lapply()\n",
    "lapply(temp, extremes_avg)\n",
    "\n",
    "#----------------------------------#\n",
    "\n",
    "# Conclusion\n",
    "\n",
    "\"\n",
    "Great job! Of course, you could have solved this exercise using an anonymous function, but this would require you to use the code inside the definition of extremes_avg() twice. Duplicating code should be avoided as much as possible! \n",
    "\""
   ]
  },
  {
   "cell_type": "code",
   "execution_count": 19,
   "metadata": {
    "tags": [],
    "vscode": {
     "languageId": "r"
    }
   },
   "outputs": [
    {
     "data": {
      "text/html": [
       "'\\nsapply with function returning vector\\n\\nIn the previous exercises, you\\'ve seen how sapply() simplifies the list that lapply() would return by turning it into a vector. But what if the function you\\'re applying over a list or a vector returns a vector of length greater than 1? If you don\\'t remember from the video, don\\'t waste more time in the valley of ignorance and head over to the instructions!\\n'"
      ],
      "text/latex": [
       "'\\textbackslash{}nsapply with function returning vector\\textbackslash{}n\\textbackslash{}nIn the previous exercises, you\\textbackslash{}'ve seen how sapply() simplifies the list that lapply() would return by turning it into a vector. But what if the function you\\textbackslash{}'re applying over a list or a vector returns a vector of length greater than 1? If you don\\textbackslash{}'t remember from the video, don\\textbackslash{}'t waste more time in the valley of ignorance and head over to the instructions!\\textbackslash{}n'"
      ],
      "text/markdown": [
       "'\\nsapply with function returning vector\\n\\nIn the previous exercises, you\\'ve seen how sapply() simplifies the list that lapply() would return by turning it into a vector. But what if the function you\\'re applying over a list or a vector returns a vector of length greater than 1? If you don\\'t remember from the video, don\\'t waste more time in the valley of ignorance and head over to the instructions!\\n'"
      ],
      "text/plain": [
       "[1] \"\\nsapply with function returning vector\\n\\nIn the previous exercises, you've seen how sapply() simplifies the list that lapply() would return by turning it into a vector. But what if the function you're applying over a list or a vector returns a vector of length greater than 1? If you don't remember from the video, don't waste more time in the valley of ignorance and head over to the instructions!\\n\""
      ]
     },
     "metadata": {},
     "output_type": "display_data"
    },
    {
     "data": {
      "text/html": [
       "<span style=white-space:pre-wrap>'\\n\\n    Finish the definition of the extremes() function. It takes a vector of numerical values and returns a vector containing the minimum and maximum values of a given vector, with the names min and max, respectively.\\n    Apply this function over the vector temp using sapply().\\n    Finally, apply this function over the vector temp using lapply() as well.\\n\\n'</span>"
      ],
      "text/latex": [
       "'\\textbackslash{}n\\textbackslash{}n    Finish the definition of the extremes() function. It takes a vector of numerical values and returns a vector containing the minimum and maximum values of a given vector, with the names min and max, respectively.\\textbackslash{}n    Apply this function over the vector temp using sapply().\\textbackslash{}n    Finally, apply this function over the vector temp using lapply() as well.\\textbackslash{}n\\textbackslash{}n'"
      ],
      "text/markdown": [
       "<span style=white-space:pre-wrap>'\\n\\n    Finish the definition of the extremes() function. It takes a vector of numerical values and returns a vector containing the minimum and maximum values of a given vector, with the names min and max, respectively.\\n    Apply this function over the vector temp using sapply().\\n    Finally, apply this function over the vector temp using lapply() as well.\\n\\n'</span>"
      ],
      "text/plain": [
       "[1] \"\\n\\n    Finish the definition of the extremes() function. It takes a vector of numerical values and returns a vector containing the minimum and maximum values of a given vector, with the names min and max, respectively.\\n    Apply this function over the vector temp using sapply().\\n    Finally, apply this function over the vector temp using lapply() as well.\\n\\n\""
      ]
     },
     "metadata": {},
     "output_type": "display_data"
    },
    {
     "data": {
      "text/html": [
       "<table class=\"dataframe\">\n",
       "<caption>A matrix: 2 × 7 of type dbl</caption>\n",
       "<tbody>\n",
       "\t<tr><th scope=row>min</th><td>-1</td><td> 5</td><td>-3</td><td>-2</td><td>2</td><td>-3</td><td>1</td></tr>\n",
       "\t<tr><th scope=row>max</th><td> 9</td><td>13</td><td> 8</td><td> 7</td><td>9</td><td> 9</td><td>9</td></tr>\n",
       "</tbody>\n",
       "</table>\n"
      ],
      "text/latex": [
       "A matrix: 2 × 7 of type dbl\n",
       "\\begin{tabular}{r|lllllll}\n",
       "\tmin & -1 &  5 & -3 & -2 & 2 & -3 & 1\\\\\n",
       "\tmax &  9 & 13 &  8 &  7 & 9 &  9 & 9\\\\\n",
       "\\end{tabular}\n"
      ],
      "text/markdown": [
       "\n",
       "A matrix: 2 × 7 of type dbl\n",
       "\n",
       "| min | -1 |  5 | -3 | -2 | 2 | -3 | 1 |\n",
       "| max |  9 | 13 |  8 |  7 | 9 |  9 | 9 |\n",
       "\n"
      ],
      "text/plain": [
       "    [,1] [,2] [,3] [,4] [,5] [,6] [,7]\n",
       "min -1    5   -3   -2   2    -3   1   \n",
       "max  9   13    8    7   9     9   9   "
      ]
     },
     "metadata": {},
     "output_type": "display_data"
    },
    {
     "data": {
      "text/html": [
       "<ol>\n",
       "\t<li><style>\n",
       ".dl-inline {width: auto; margin:0; padding: 0}\n",
       ".dl-inline>dt, .dl-inline>dd {float: none; width: auto; display: inline-block}\n",
       ".dl-inline>dt::after {content: \":\\0020\"; padding-right: .5ex}\n",
       ".dl-inline>dt:not(:first-of-type) {padding-left: .5ex}\n",
       "</style><dl class=dl-inline><dt>min</dt><dd>-1</dd><dt>max</dt><dd>9</dd></dl>\n",
       "</li>\n",
       "\t<li><style>\n",
       ".dl-inline {width: auto; margin:0; padding: 0}\n",
       ".dl-inline>dt, .dl-inline>dd {float: none; width: auto; display: inline-block}\n",
       ".dl-inline>dt::after {content: \":\\0020\"; padding-right: .5ex}\n",
       ".dl-inline>dt:not(:first-of-type) {padding-left: .5ex}\n",
       "</style><dl class=dl-inline><dt>min</dt><dd>5</dd><dt>max</dt><dd>13</dd></dl>\n",
       "</li>\n",
       "\t<li><style>\n",
       ".dl-inline {width: auto; margin:0; padding: 0}\n",
       ".dl-inline>dt, .dl-inline>dd {float: none; width: auto; display: inline-block}\n",
       ".dl-inline>dt::after {content: \":\\0020\"; padding-right: .5ex}\n",
       ".dl-inline>dt:not(:first-of-type) {padding-left: .5ex}\n",
       "</style><dl class=dl-inline><dt>min</dt><dd>-3</dd><dt>max</dt><dd>8</dd></dl>\n",
       "</li>\n",
       "\t<li><style>\n",
       ".dl-inline {width: auto; margin:0; padding: 0}\n",
       ".dl-inline>dt, .dl-inline>dd {float: none; width: auto; display: inline-block}\n",
       ".dl-inline>dt::after {content: \":\\0020\"; padding-right: .5ex}\n",
       ".dl-inline>dt:not(:first-of-type) {padding-left: .5ex}\n",
       "</style><dl class=dl-inline><dt>min</dt><dd>-2</dd><dt>max</dt><dd>7</dd></dl>\n",
       "</li>\n",
       "\t<li><style>\n",
       ".dl-inline {width: auto; margin:0; padding: 0}\n",
       ".dl-inline>dt, .dl-inline>dd {float: none; width: auto; display: inline-block}\n",
       ".dl-inline>dt::after {content: \":\\0020\"; padding-right: .5ex}\n",
       ".dl-inline>dt:not(:first-of-type) {padding-left: .5ex}\n",
       "</style><dl class=dl-inline><dt>min</dt><dd>2</dd><dt>max</dt><dd>9</dd></dl>\n",
       "</li>\n",
       "\t<li><style>\n",
       ".dl-inline {width: auto; margin:0; padding: 0}\n",
       ".dl-inline>dt, .dl-inline>dd {float: none; width: auto; display: inline-block}\n",
       ".dl-inline>dt::after {content: \":\\0020\"; padding-right: .5ex}\n",
       ".dl-inline>dt:not(:first-of-type) {padding-left: .5ex}\n",
       "</style><dl class=dl-inline><dt>min</dt><dd>-3</dd><dt>max</dt><dd>9</dd></dl>\n",
       "</li>\n",
       "\t<li><style>\n",
       ".dl-inline {width: auto; margin:0; padding: 0}\n",
       ".dl-inline>dt, .dl-inline>dd {float: none; width: auto; display: inline-block}\n",
       ".dl-inline>dt::after {content: \":\\0020\"; padding-right: .5ex}\n",
       ".dl-inline>dt:not(:first-of-type) {padding-left: .5ex}\n",
       "</style><dl class=dl-inline><dt>min</dt><dd>1</dd><dt>max</dt><dd>9</dd></dl>\n",
       "</li>\n",
       "</ol>\n"
      ],
      "text/latex": [
       "\\begin{enumerate}\n",
       "\\item \\begin{description*}\n",
       "\\item[min] -1\n",
       "\\item[max] 9\n",
       "\\end{description*}\n",
       "\n",
       "\\item \\begin{description*}\n",
       "\\item[min] 5\n",
       "\\item[max] 13\n",
       "\\end{description*}\n",
       "\n",
       "\\item \\begin{description*}\n",
       "\\item[min] -3\n",
       "\\item[max] 8\n",
       "\\end{description*}\n",
       "\n",
       "\\item \\begin{description*}\n",
       "\\item[min] -2\n",
       "\\item[max] 7\n",
       "\\end{description*}\n",
       "\n",
       "\\item \\begin{description*}\n",
       "\\item[min] 2\n",
       "\\item[max] 9\n",
       "\\end{description*}\n",
       "\n",
       "\\item \\begin{description*}\n",
       "\\item[min] -3\n",
       "\\item[max] 9\n",
       "\\end{description*}\n",
       "\n",
       "\\item \\begin{description*}\n",
       "\\item[min] 1\n",
       "\\item[max] 9\n",
       "\\end{description*}\n",
       "\n",
       "\\end{enumerate}\n"
      ],
      "text/markdown": [
       "1. min\n",
       ":   -1max\n",
       ":   9\n",
       "\n",
       "\n",
       "2. min\n",
       ":   5max\n",
       ":   13\n",
       "\n",
       "\n",
       "3. min\n",
       ":   -3max\n",
       ":   8\n",
       "\n",
       "\n",
       "4. min\n",
       ":   -2max\n",
       ":   7\n",
       "\n",
       "\n",
       "5. min\n",
       ":   2max\n",
       ":   9\n",
       "\n",
       "\n",
       "6. min\n",
       ":   -3max\n",
       ":   9\n",
       "\n",
       "\n",
       "7. min\n",
       ":   1max\n",
       ":   9\n",
       "\n",
       "\n",
       "\n",
       "\n"
      ],
      "text/plain": [
       "[[1]]\n",
       "min max \n",
       " -1   9 \n",
       "\n",
       "[[2]]\n",
       "min max \n",
       "  5  13 \n",
       "\n",
       "[[3]]\n",
       "min max \n",
       " -3   8 \n",
       "\n",
       "[[4]]\n",
       "min max \n",
       " -2   7 \n",
       "\n",
       "[[5]]\n",
       "min max \n",
       "  2   9 \n",
       "\n",
       "[[6]]\n",
       "min max \n",
       " -3   9 \n",
       "\n",
       "[[7]]\n",
       "min max \n",
       "  1   9 \n"
      ]
     },
     "metadata": {},
     "output_type": "display_data"
    },
    {
     "data": {
      "text/html": [
       "'\\nWonderful! Have a final look at the console and see how sapply() did a great job at simplifying the rather uninformative \\'list of vectors\\' that lapply() returns. It actually returned a nicely formatted matrix! \\n'"
      ],
      "text/latex": [
       "'\\textbackslash{}nWonderful! Have a final look at the console and see how sapply() did a great job at simplifying the rather uninformative \\textbackslash{}'list of vectors\\textbackslash{}' that lapply() returns. It actually returned a nicely formatted matrix! \\textbackslash{}n'"
      ],
      "text/markdown": [
       "'\\nWonderful! Have a final look at the console and see how sapply() did a great job at simplifying the rather uninformative \\'list of vectors\\' that lapply() returns. It actually returned a nicely formatted matrix! \\n'"
      ],
      "text/plain": [
       "[1] \"\\nWonderful! Have a final look at the console and see how sapply() did a great job at simplifying the rather uninformative 'list of vectors' that lapply() returns. It actually returned a nicely formatted matrix! \\n\""
      ]
     },
     "metadata": {},
     "output_type": "display_data"
    }
   ],
   "source": [
    "# exercise 07\n",
    "\n",
    "\"\n",
    "sapply with function returning vector\n",
    "\n",
    "In the previous exercises, you've seen how sapply() simplifies the list that lapply() would return by turning it into a vector. But what if the function you're applying over a list or a vector returns a vector of length greater than 1? If you don't remember from the video, don't waste more time in the valley of ignorance and head over to the instructions!\n",
    "\"\n",
    "\n",
    "# Instructions\n",
    "\n",
    "\"\n",
    "\n",
    "    Finish the definition of the extremes() function. It takes a vector of numerical values and returns a vector containing the minimum and maximum values of a given vector, with the names min and max, respectively.\n",
    "    Apply this function over the vector temp using sapply().\n",
    "    Finally, apply this function over the vector temp using lapply() as well.\n",
    "\n",
    "\"\n",
    "\n",
    "# solution\n",
    "\n",
    "# temp is already available in the workspace\n",
    "\n",
    "# Create a function that returns min and max of a vector: extremes\n",
    "extremes <- function(x) {\n",
    "  c(min = min(x), max = max(x))\n",
    "}\n",
    "\n",
    "# Apply extremes() over temp with sapply()\n",
    "sapply(temp, extremes)\n",
    "\n",
    "# Apply extremes() over temp with lapply()\n",
    "lapply(temp, extremes)\n",
    "\n",
    "#----------------------------------#\n",
    "\n",
    "# Conclusion\n",
    "\n",
    "\"\n",
    "Wonderful! Have a final look at the console and see how sapply() did a great job at simplifying the rather uninformative 'list of vectors' that lapply() returns. It actually returned a nicely formatted matrix! \n",
    "\""
   ]
  },
  {
   "cell_type": "code",
   "execution_count": 21,
   "metadata": {
    "tags": [],
    "vscode": {
     "languageId": "r"
    }
   },
   "outputs": [
    {
     "data": {
      "text/html": [
       "'\\nsapply can\\'t simplify, now what?\\n\\nIt seems like we\\'ve hit the jackpot with sapply(). On all of the examples so far, sapply() was able to nicely simplify the rather bulky output of lapply(). But, as with life, there are things you can\\'t simplify. How does sapply() react?\\n\\nWe already created a function, below_zero(), that takes a vector of numerical values and returns a vector that only contains the values that are strictly below zero.\\n'"
      ],
      "text/latex": [
       "'\\textbackslash{}nsapply can\\textbackslash{}'t simplify, now what?\\textbackslash{}n\\textbackslash{}nIt seems like we\\textbackslash{}'ve hit the jackpot with sapply(). On all of the examples so far, sapply() was able to nicely simplify the rather bulky output of lapply(). But, as with life, there are things you can\\textbackslash{}'t simplify. How does sapply() react?\\textbackslash{}n\\textbackslash{}nWe already created a function, below\\_zero(), that takes a vector of numerical values and returns a vector that only contains the values that are strictly below zero.\\textbackslash{}n'"
      ],
      "text/markdown": [
       "'\\nsapply can\\'t simplify, now what?\\n\\nIt seems like we\\'ve hit the jackpot with sapply(). On all of the examples so far, sapply() was able to nicely simplify the rather bulky output of lapply(). But, as with life, there are things you can\\'t simplify. How does sapply() react?\\n\\nWe already created a function, below_zero(), that takes a vector of numerical values and returns a vector that only contains the values that are strictly below zero.\\n'"
      ],
      "text/plain": [
       "[1] \"\\nsapply can't simplify, now what?\\n\\nIt seems like we've hit the jackpot with sapply(). On all of the examples so far, sapply() was able to nicely simplify the rather bulky output of lapply(). But, as with life, there are things you can't simplify. How does sapply() react?\\n\\nWe already created a function, below_zero(), that takes a vector of numerical values and returns a vector that only contains the values that are strictly below zero.\\n\""
      ]
     },
     "metadata": {},
     "output_type": "display_data"
    },
    {
     "data": {
      "text/html": [
       "<span style=white-space:pre-wrap>'\\n\\n    Apply below_zero() over temp using sapply() and store the result in freezing_s.\\n    Apply below_zero() over temp using lapply(). Save the resulting list in a variable freezing_l.\\n    Compare freezing_s to freezing_l using the identical() function.\\n\\n'</span>"
      ],
      "text/latex": [
       "'\\textbackslash{}n\\textbackslash{}n    Apply below\\_zero() over temp using sapply() and store the result in freezing\\_s.\\textbackslash{}n    Apply below\\_zero() over temp using lapply(). Save the resulting list in a variable freezing\\_l.\\textbackslash{}n    Compare freezing\\_s to freezing\\_l using the identical() function.\\textbackslash{}n\\textbackslash{}n'"
      ],
      "text/markdown": [
       "<span style=white-space:pre-wrap>'\\n\\n    Apply below_zero() over temp using sapply() and store the result in freezing_s.\\n    Apply below_zero() over temp using lapply(). Save the resulting list in a variable freezing_l.\\n    Compare freezing_s to freezing_l using the identical() function.\\n\\n'</span>"
      ],
      "text/plain": [
       "[1] \"\\n\\n    Apply below_zero() over temp using sapply() and store the result in freezing_s.\\n    Apply below_zero() over temp using lapply(). Save the resulting list in a variable freezing_l.\\n    Compare freezing_s to freezing_l using the identical() function.\\n\\n\""
      ]
     },
     "metadata": {},
     "output_type": "display_data"
    },
    {
     "data": {
      "text/html": [
       "TRUE"
      ],
      "text/latex": [
       "TRUE"
      ],
      "text/markdown": [
       "TRUE"
      ],
      "text/plain": [
       "[1] TRUE"
      ]
     },
     "metadata": {},
     "output_type": "display_data"
    },
    {
     "data": {
      "text/html": [
       "<ol>\n",
       "\t<li>-1</li>\n",
       "\t<li></li>\n",
       "\t<li><style>\n",
       ".list-inline {list-style: none; margin:0; padding: 0}\n",
       ".list-inline>li {display: inline-block}\n",
       ".list-inline>li:not(:last-child)::after {content: \"\\00b7\"; padding: 0 .5ex}\n",
       "</style>\n",
       "<ol class=list-inline><li>-1</li><li>-3</li></ol>\n",
       "</li>\n",
       "\t<li>-2</li>\n",
       "\t<li></li>\n",
       "\t<li>-3</li>\n",
       "\t<li></li>\n",
       "</ol>\n"
      ],
      "text/latex": [
       "\\begin{enumerate}\n",
       "\\item -1\n",
       "\\item \n",
       "\\item \\begin{enumerate*}\n",
       "\\item -1\n",
       "\\item -3\n",
       "\\end{enumerate*}\n",
       "\n",
       "\\item -2\n",
       "\\item \n",
       "\\item -3\n",
       "\\item \n",
       "\\end{enumerate}\n"
      ],
      "text/markdown": [
       "1. -1\n",
       "2. \n",
       "3. 1. -1\n",
       "2. -3\n",
       "\n",
       "\n",
       "\n",
       "4. -2\n",
       "5. \n",
       "6. -3\n",
       "7. \n",
       "\n",
       "\n"
      ],
      "text/plain": [
       "[[1]]\n",
       "[1] -1\n",
       "\n",
       "[[2]]\n",
       "numeric(0)\n",
       "\n",
       "[[3]]\n",
       "[1] -1 -3\n",
       "\n",
       "[[4]]\n",
       "[1] -2\n",
       "\n",
       "[[5]]\n",
       "numeric(0)\n",
       "\n",
       "[[6]]\n",
       "[1] -3\n",
       "\n",
       "[[7]]\n",
       "numeric(0)\n"
      ]
     },
     "metadata": {},
     "output_type": "display_data"
    },
    {
     "data": {
      "text/html": [
       "<ol>\n",
       "\t<li>-1</li>\n",
       "\t<li></li>\n",
       "\t<li><style>\n",
       ".list-inline {list-style: none; margin:0; padding: 0}\n",
       ".list-inline>li {display: inline-block}\n",
       ".list-inline>li:not(:last-child)::after {content: \"\\00b7\"; padding: 0 .5ex}\n",
       "</style>\n",
       "<ol class=list-inline><li>-1</li><li>-3</li></ol>\n",
       "</li>\n",
       "\t<li>-2</li>\n",
       "\t<li></li>\n",
       "\t<li>-3</li>\n",
       "\t<li></li>\n",
       "</ol>\n"
      ],
      "text/latex": [
       "\\begin{enumerate}\n",
       "\\item -1\n",
       "\\item \n",
       "\\item \\begin{enumerate*}\n",
       "\\item -1\n",
       "\\item -3\n",
       "\\end{enumerate*}\n",
       "\n",
       "\\item -2\n",
       "\\item \n",
       "\\item -3\n",
       "\\item \n",
       "\\end{enumerate}\n"
      ],
      "text/markdown": [
       "1. -1\n",
       "2. \n",
       "3. 1. -1\n",
       "2. -3\n",
       "\n",
       "\n",
       "\n",
       "4. -2\n",
       "5. \n",
       "6. -3\n",
       "7. \n",
       "\n",
       "\n"
      ],
      "text/plain": [
       "[[1]]\n",
       "[1] -1\n",
       "\n",
       "[[2]]\n",
       "numeric(0)\n",
       "\n",
       "[[3]]\n",
       "[1] -1 -3\n",
       "\n",
       "[[4]]\n",
       "[1] -2\n",
       "\n",
       "[[5]]\n",
       "numeric(0)\n",
       "\n",
       "[[6]]\n",
       "[1] -3\n",
       "\n",
       "[[7]]\n",
       "numeric(0)\n"
      ]
     },
     "metadata": {},
     "output_type": "display_data"
    },
    {
     "data": {
      "text/html": [
       "'\\nNice one! Given that the length of the output of below_zero() changes for different input vectors, sapply() is not able to nicely convert the output of lapply() to a nicely formatted matrix. Instead, the output values of sapply() and lapply() are exactly the same, as shown by the TRUE output of identical(). \\n'"
      ],
      "text/latex": [
       "'\\textbackslash{}nNice one! Given that the length of the output of below\\_zero() changes for different input vectors, sapply() is not able to nicely convert the output of lapply() to a nicely formatted matrix. Instead, the output values of sapply() and lapply() are exactly the same, as shown by the TRUE output of identical(). \\textbackslash{}n'"
      ],
      "text/markdown": [
       "'\\nNice one! Given that the length of the output of below_zero() changes for different input vectors, sapply() is not able to nicely convert the output of lapply() to a nicely formatted matrix. Instead, the output values of sapply() and lapply() are exactly the same, as shown by the TRUE output of identical(). \\n'"
      ],
      "text/plain": [
       "[1] \"\\nNice one! Given that the length of the output of below_zero() changes for different input vectors, sapply() is not able to nicely convert the output of lapply() to a nicely formatted matrix. Instead, the output values of sapply() and lapply() are exactly the same, as shown by the TRUE output of identical(). \\n\""
      ]
     },
     "metadata": {},
     "output_type": "display_data"
    }
   ],
   "source": [
    "# exercise 08\n",
    "\n",
    "\"\n",
    "sapply can't simplify, now what?\n",
    "\n",
    "It seems like we've hit the jackpot with sapply(). On all of the examples so far, sapply() was able to nicely simplify the rather bulky output of lapply(). But, as with life, there are things you can't simplify. How does sapply() react?\n",
    "\n",
    "We already created a function, below_zero(), that takes a vector of numerical values and returns a vector that only contains the values that are strictly below zero.\n",
    "\"\n",
    "\n",
    "# Instructions\n",
    "\n",
    "\"\n",
    "\n",
    "    Apply below_zero() over temp using sapply() and store the result in freezing_s.\n",
    "    Apply below_zero() over temp using lapply(). Save the resulting list in a variable freezing_l.\n",
    "    Compare freezing_s to freezing_l using the identical() function.\n",
    "\n",
    "\"\n",
    "\n",
    "# solution\n",
    "\n",
    "# temp is already prepared for you in the workspace\n",
    "\n",
    "# Definition of below_zero()\n",
    "below_zero <- function(x) {\n",
    "  return(x[x < 0])\n",
    "}\n",
    "\n",
    "# Apply below_zero over temp using sapply(): freezing_s\n",
    "freezing_s <- sapply(temp, below_zero)\n",
    "\n",
    "# Apply below_zero over temp using lapply(): freezing_l\n",
    "freezing_l <- lapply(temp, below_zero)\n",
    "\n",
    "# Are freezing_s and freezing_l identical?\n",
    "identical(freezing_s, freezing_l)\n",
    "\n",
    "#----------------------------------#\n",
    "freezing_s\n",
    "freezing_l\n",
    "# Conclusion\n",
    "\n",
    "\"\n",
    "Nice one! Given that the length of the output of below_zero() changes for different input vectors, sapply() is not able to nicely convert the output of lapply() to a nicely formatted matrix. Instead, the output values of sapply() and lapply() are exactly the same, as shown by the TRUE output of identical(). \n",
    "\""
   ]
  },
  {
   "cell_type": "code",
   "execution_count": 23,
   "metadata": {
    "tags": [],
    "vscode": {
     "languageId": "r"
    }
   },
   "outputs": [
    {
     "data": {
      "text/html": [
       "'\\nsapply with functions that return NULL\\n\\nYou already have some apply tricks under your sleeve, but you\\'re surely hungry for some more, aren\\'t you? In this exercise, you\\'ll see how sapply() reacts when it is used to apply a function that returns NULL over a vector or a list.\\n\\nA function print_info(), that takes a vector and prints the average of this vector, has already been created for you. It uses the cat() function.\\n'"
      ],
      "text/latex": [
       "'\\textbackslash{}nsapply with functions that return NULL\\textbackslash{}n\\textbackslash{}nYou already have some apply tricks under your sleeve, but you\\textbackslash{}'re surely hungry for some more, aren\\textbackslash{}'t you? In this exercise, you\\textbackslash{}'ll see how sapply() reacts when it is used to apply a function that returns NULL over a vector or a list.\\textbackslash{}n\\textbackslash{}nA function print\\_info(), that takes a vector and prints the average of this vector, has already been created for you. It uses the cat() function.\\textbackslash{}n'"
      ],
      "text/markdown": [
       "'\\nsapply with functions that return NULL\\n\\nYou already have some apply tricks under your sleeve, but you\\'re surely hungry for some more, aren\\'t you? In this exercise, you\\'ll see how sapply() reacts when it is used to apply a function that returns NULL over a vector or a list.\\n\\nA function print_info(), that takes a vector and prints the average of this vector, has already been created for you. It uses the cat() function.\\n'"
      ],
      "text/plain": [
       "[1] \"\\nsapply with functions that return NULL\\n\\nYou already have some apply tricks under your sleeve, but you're surely hungry for some more, aren't you? In this exercise, you'll see how sapply() reacts when it is used to apply a function that returns NULL over a vector or a list.\\n\\nA function print_info(), that takes a vector and prints the average of this vector, has already been created for you. It uses the cat() function.\\n\""
      ]
     },
     "metadata": {},
     "output_type": "display_data"
    },
    {
     "data": {
      "text/html": [
       "<span style=white-space:pre-wrap>'\\n\\n    Apply print_info() over the contents of temp with sapply().\\n    Repeat this process with lapply(). Do you notice the difference?\\n\\n'</span>"
      ],
      "text/latex": [
       "'\\textbackslash{}n\\textbackslash{}n    Apply print\\_info() over the contents of temp with sapply().\\textbackslash{}n    Repeat this process with lapply(). Do you notice the difference?\\textbackslash{}n\\textbackslash{}n'"
      ],
      "text/markdown": [
       "<span style=white-space:pre-wrap>'\\n\\n    Apply print_info() over the contents of temp with sapply().\\n    Repeat this process with lapply(). Do you notice the difference?\\n\\n'</span>"
      ],
      "text/plain": [
       "[1] \"\\n\\n    Apply print_info() over the contents of temp with sapply().\\n    Repeat this process with lapply(). Do you notice the difference?\\n\\n\""
      ]
     },
     "metadata": {},
     "output_type": "display_data"
    },
    {
     "name": "stdout",
     "output_type": "stream",
     "text": [
      "The average temperature is 4.8 \n",
      "The average temperature is 9 \n",
      "The average temperature is 2.2 \n",
      "The average temperature is 2.4 \n",
      "The average temperature is 5.4 \n",
      "The average temperature is 4.6 \n",
      "The average temperature is 4.6 \n"
     ]
    },
    {
     "data": {
      "text/html": [
       "<ol>\n",
       "\t<li>NULL</li>\n",
       "\t<li>NULL</li>\n",
       "\t<li>NULL</li>\n",
       "\t<li>NULL</li>\n",
       "\t<li>NULL</li>\n",
       "\t<li>NULL</li>\n",
       "\t<li>NULL</li>\n",
       "</ol>\n"
      ],
      "text/latex": [
       "\\begin{enumerate}\n",
       "\\item NULL\n",
       "\\item NULL\n",
       "\\item NULL\n",
       "\\item NULL\n",
       "\\item NULL\n",
       "\\item NULL\n",
       "\\item NULL\n",
       "\\end{enumerate}\n"
      ],
      "text/markdown": [
       "1. NULL\n",
       "2. NULL\n",
       "3. NULL\n",
       "4. NULL\n",
       "5. NULL\n",
       "6. NULL\n",
       "7. NULL\n",
       "\n",
       "\n"
      ],
      "text/plain": [
       "[[1]]\n",
       "NULL\n",
       "\n",
       "[[2]]\n",
       "NULL\n",
       "\n",
       "[[3]]\n",
       "NULL\n",
       "\n",
       "[[4]]\n",
       "NULL\n",
       "\n",
       "[[5]]\n",
       "NULL\n",
       "\n",
       "[[6]]\n",
       "NULL\n",
       "\n",
       "[[7]]\n",
       "NULL\n"
      ]
     },
     "metadata": {},
     "output_type": "display_data"
    },
    {
     "name": "stdout",
     "output_type": "stream",
     "text": [
      "The average temperature is 4.8 \n",
      "The average temperature is 9 \n",
      "The average temperature is 2.2 \n",
      "The average temperature is 2.4 \n",
      "The average temperature is 5.4 \n",
      "The average temperature is 4.6 \n",
      "The average temperature is 4.6 \n"
     ]
    },
    {
     "data": {
      "text/html": [
       "<ol>\n",
       "\t<li>NULL</li>\n",
       "\t<li>NULL</li>\n",
       "\t<li>NULL</li>\n",
       "\t<li>NULL</li>\n",
       "\t<li>NULL</li>\n",
       "\t<li>NULL</li>\n",
       "\t<li>NULL</li>\n",
       "</ol>\n"
      ],
      "text/latex": [
       "\\begin{enumerate}\n",
       "\\item NULL\n",
       "\\item NULL\n",
       "\\item NULL\n",
       "\\item NULL\n",
       "\\item NULL\n",
       "\\item NULL\n",
       "\\item NULL\n",
       "\\end{enumerate}\n"
      ],
      "text/markdown": [
       "1. NULL\n",
       "2. NULL\n",
       "3. NULL\n",
       "4. NULL\n",
       "5. NULL\n",
       "6. NULL\n",
       "7. NULL\n",
       "\n",
       "\n"
      ],
      "text/plain": [
       "[[1]]\n",
       "NULL\n",
       "\n",
       "[[2]]\n",
       "NULL\n",
       "\n",
       "[[3]]\n",
       "NULL\n",
       "\n",
       "[[4]]\n",
       "NULL\n",
       "\n",
       "[[5]]\n",
       "NULL\n",
       "\n",
       "[[6]]\n",
       "NULL\n",
       "\n",
       "[[7]]\n",
       "NULL\n"
      ]
     },
     "metadata": {},
     "output_type": "display_data"
    },
    {
     "data": {
      "text/html": [
       "'\\nGreat! Notice here that, quite surprisingly, sapply() does not simplify the list of NULL\\'s. That\\'s because the \\'vector-version\\' of a list of NULL\\'s would simply be a NULL, which is no longer a vector with the same length as the input. Proceed to the next exercise. \\n'"
      ],
      "text/latex": [
       "'\\textbackslash{}nGreat! Notice here that, quite surprisingly, sapply() does not simplify the list of NULL\\textbackslash{}'s. That\\textbackslash{}'s because the \\textbackslash{}'vector-version\\textbackslash{}' of a list of NULL\\textbackslash{}'s would simply be a NULL, which is no longer a vector with the same length as the input. Proceed to the next exercise. \\textbackslash{}n'"
      ],
      "text/markdown": [
       "'\\nGreat! Notice here that, quite surprisingly, sapply() does not simplify the list of NULL\\'s. That\\'s because the \\'vector-version\\' of a list of NULL\\'s would simply be a NULL, which is no longer a vector with the same length as the input. Proceed to the next exercise. \\n'"
      ],
      "text/plain": [
       "[1] \"\\nGreat! Notice here that, quite surprisingly, sapply() does not simplify the list of NULL's. That's because the 'vector-version' of a list of NULL's would simply be a NULL, which is no longer a vector with the same length as the input. Proceed to the next exercise. \\n\""
      ]
     },
     "metadata": {},
     "output_type": "display_data"
    }
   ],
   "source": [
    "# exercise 09\n",
    "\n",
    "\"\n",
    "sapply with functions that return NULL\n",
    "\n",
    "You already have some apply tricks under your sleeve, but you're surely hungry for some more, aren't you? In this exercise, you'll see how sapply() reacts when it is used to apply a function that returns NULL over a vector or a list.\n",
    "\n",
    "A function print_info(), that takes a vector and prints the average of this vector, has already been created for you. It uses the cat() function.\n",
    "\"\n",
    "\n",
    "# Instructions\n",
    "\n",
    "\"\n",
    "\n",
    "    Apply print_info() over the contents of temp with sapply().\n",
    "    Repeat this process with lapply(). Do you notice the difference?\n",
    "\n",
    "\"\n",
    "\n",
    "# solution\n",
    "\n",
    "# temp is already available in the workspace\n",
    "\n",
    "# Definition of print_info()\n",
    "print_info <- function(x) {\n",
    "  cat(\"The average temperature is\", mean(x), \"\\n\")\n",
    "}\n",
    "\n",
    "# Apply print_info() over temp using sapply()\n",
    "sapply(temp, print_info)\n",
    "\n",
    "# Apply print_info() over temp using lapply()\n",
    "lapply(temp, print_info)\n",
    "\n",
    "#----------------------------------#\n",
    "\n",
    "# Conclusion\n",
    "\n",
    "\"\n",
    "Great! Notice here that, quite surprisingly, sapply() does not simplify the list of NULL's. That's because the 'vector-version' of a list of NULL's would simply be a NULL, which is no longer a vector with the same length as the input. Proceed to the next exercise. \n",
    "\""
   ]
  },
  {
   "cell_type": "markdown",
   "metadata": {},
   "source": [
    "# Reverse engineering sapply\n",
    "\n",
    "sapply(list(runif (10), runif (10)), \n",
    "       function(x) c(min = min(x), mean = mean(x), max = max(x)))\n",
    "\n",
    "Without going straight to the console to run the code, try to reason through which of the following statements are correct and why.\n",
    "\n",
    "(1) sapply() can't simplify the result that lapply() would return, and thus returns a list of vectors.\n",
    "(2) This code generates a matrix with 3 rows and 2 columns.\n",
    "(3) The function that is used inside sapply() is anonymous.\n",
    "(4) The resulting data structure does not contain any names.\n",
    "\n",
    "Select the option that lists all correct statements.\n",
    "\n",
    "### Answer\n",
    " 3 and 2\n",
    "\n",
    "**Great! This concludes the exercise set on sapply(). Head over to another video to learn all about vapply()!**"
   ]
  },
  {
   "cell_type": "code",
   "execution_count": 24,
   "metadata": {
    "tags": [],
    "vscode": {
     "languageId": "r"
    }
   },
   "outputs": [
    {
     "data": {
      "text/html": [
       "'\\nUse vapply\\n\\nBefore you get your hands dirty with the third and last apply function that you\\'ll learn about in this intermediate R course, let\\'s take a look at its syntax. The function is called vapply(), and it has the following syntax:\\n\\nvapply(X, FUN, FUN.VALUE, ..., USE.NAMES = TRUE)\\n\\nOver the elements inside X, the function FUN is applied. The FUN.VALUE argument expects a template for the return argument of this function FUN. USE.NAMES is TRUE by default; in this case vapply() tries to generate a named array, if possible.\\n\\nFor the next set of exercises, you\\'ll be working on the temp list again, that contains 7 numerical vectors of length 5. We also coded a function basics() that takes a vector, and returns a named vector of length 3, containing the minimum, mean and maximum value of the vector respectively.\\n'"
      ],
      "text/latex": [
       "'\\textbackslash{}nUse vapply\\textbackslash{}n\\textbackslash{}nBefore you get your hands dirty with the third and last apply function that you\\textbackslash{}'ll learn about in this intermediate R course, let\\textbackslash{}'s take a look at its syntax. The function is called vapply(), and it has the following syntax:\\textbackslash{}n\\textbackslash{}nvapply(X, FUN, FUN.VALUE, ..., USE.NAMES = TRUE)\\textbackslash{}n\\textbackslash{}nOver the elements inside X, the function FUN is applied. The FUN.VALUE argument expects a template for the return argument of this function FUN. USE.NAMES is TRUE by default; in this case vapply() tries to generate a named array, if possible.\\textbackslash{}n\\textbackslash{}nFor the next set of exercises, you\\textbackslash{}'ll be working on the temp list again, that contains 7 numerical vectors of length 5. We also coded a function basics() that takes a vector, and returns a named vector of length 3, containing the minimum, mean and maximum value of the vector respectively.\\textbackslash{}n'"
      ],
      "text/markdown": [
       "'\\nUse vapply\\n\\nBefore you get your hands dirty with the third and last apply function that you\\'ll learn about in this intermediate R course, let\\'s take a look at its syntax. The function is called vapply(), and it has the following syntax:\\n\\nvapply(X, FUN, FUN.VALUE, ..., USE.NAMES = TRUE)\\n\\nOver the elements inside X, the function FUN is applied. The FUN.VALUE argument expects a template for the return argument of this function FUN. USE.NAMES is TRUE by default; in this case vapply() tries to generate a named array, if possible.\\n\\nFor the next set of exercises, you\\'ll be working on the temp list again, that contains 7 numerical vectors of length 5. We also coded a function basics() that takes a vector, and returns a named vector of length 3, containing the minimum, mean and maximum value of the vector respectively.\\n'"
      ],
      "text/plain": [
       "[1] \"\\nUse vapply\\n\\nBefore you get your hands dirty with the third and last apply function that you'll learn about in this intermediate R course, let's take a look at its syntax. The function is called vapply(), and it has the following syntax:\\n\\nvapply(X, FUN, FUN.VALUE, ..., USE.NAMES = TRUE)\\n\\nOver the elements inside X, the function FUN is applied. The FUN.VALUE argument expects a template for the return argument of this function FUN. USE.NAMES is TRUE by default; in this case vapply() tries to generate a named array, if possible.\\n\\nFor the next set of exercises, you'll be working on the temp list again, that contains 7 numerical vectors of length 5. We also coded a function basics() that takes a vector, and returns a named vector of length 3, containing the minimum, mean and maximum value of the vector respectively.\\n\""
      ]
     },
     "metadata": {},
     "output_type": "display_data"
    },
    {
     "data": {
      "text/html": [
       "<span style=white-space:pre-wrap>'\\n\\n    Apply the function basics() over the list of temperatures, temp, using vapply(). This time, you can use numeric(3) to specify the FUN.VALUE argument.\\n\\n'</span>"
      ],
      "text/latex": [
       "'\\textbackslash{}n\\textbackslash{}n    Apply the function basics() over the list of temperatures, temp, using vapply(). This time, you can use numeric(3) to specify the FUN.VALUE argument.\\textbackslash{}n\\textbackslash{}n'"
      ],
      "text/markdown": [
       "<span style=white-space:pre-wrap>'\\n\\n    Apply the function basics() over the list of temperatures, temp, using vapply(). This time, you can use numeric(3) to specify the FUN.VALUE argument.\\n\\n'</span>"
      ],
      "text/plain": [
       "[1] \"\\n\\n    Apply the function basics() over the list of temperatures, temp, using vapply(). This time, you can use numeric(3) to specify the FUN.VALUE argument.\\n\\n\""
      ]
     },
     "metadata": {},
     "output_type": "display_data"
    },
    {
     "data": {
      "text/html": [
       "<table class=\"dataframe\">\n",
       "<caption>A matrix: 3 × 7 of type dbl</caption>\n",
       "<tbody>\n",
       "\t<tr><th scope=row>min</th><td>-1.0</td><td> 5</td><td>-3.0</td><td>-2.0</td><td>2.0</td><td>-3.0</td><td>1.0</td></tr>\n",
       "\t<tr><th scope=row>mean</th><td> 4.8</td><td> 9</td><td> 2.2</td><td> 2.4</td><td>5.4</td><td> 4.6</td><td>4.6</td></tr>\n",
       "\t<tr><th scope=row>max</th><td> 9.0</td><td>13</td><td> 8.0</td><td> 7.0</td><td>9.0</td><td> 9.0</td><td>9.0</td></tr>\n",
       "</tbody>\n",
       "</table>\n"
      ],
      "text/latex": [
       "A matrix: 3 × 7 of type dbl\n",
       "\\begin{tabular}{r|lllllll}\n",
       "\tmin & -1.0 &  5 & -3.0 & -2.0 & 2.0 & -3.0 & 1.0\\\\\n",
       "\tmean &  4.8 &  9 &  2.2 &  2.4 & 5.4 &  4.6 & 4.6\\\\\n",
       "\tmax &  9.0 & 13 &  8.0 &  7.0 & 9.0 &  9.0 & 9.0\\\\\n",
       "\\end{tabular}\n"
      ],
      "text/markdown": [
       "\n",
       "A matrix: 3 × 7 of type dbl\n",
       "\n",
       "| min | -1.0 |  5 | -3.0 | -2.0 | 2.0 | -3.0 | 1.0 |\n",
       "| mean |  4.8 |  9 |  2.2 |  2.4 | 5.4 |  4.6 | 4.6 |\n",
       "| max |  9.0 | 13 |  8.0 |  7.0 | 9.0 |  9.0 | 9.0 |\n",
       "\n"
      ],
      "text/plain": [
       "     [,1] [,2] [,3] [,4] [,5] [,6] [,7]\n",
       "min  -1.0  5   -3.0 -2.0 2.0  -3.0 1.0 \n",
       "mean  4.8  9    2.2  2.4 5.4   4.6 4.6 \n",
       "max   9.0 13    8.0  7.0 9.0   9.0 9.0 "
      ]
     },
     "metadata": {},
     "output_type": "display_data"
    },
    {
     "data": {
      "text/html": [
       "'\\nPerfect! Notice how, just as with sapply(), vapply() neatly transfers the names that you specify in the basics() function to the row names of the matrix that it returns. \\n'"
      ],
      "text/latex": [
       "'\\textbackslash{}nPerfect! Notice how, just as with sapply(), vapply() neatly transfers the names that you specify in the basics() function to the row names of the matrix that it returns. \\textbackslash{}n'"
      ],
      "text/markdown": [
       "'\\nPerfect! Notice how, just as with sapply(), vapply() neatly transfers the names that you specify in the basics() function to the row names of the matrix that it returns. \\n'"
      ],
      "text/plain": [
       "[1] \"\\nPerfect! Notice how, just as with sapply(), vapply() neatly transfers the names that you specify in the basics() function to the row names of the matrix that it returns. \\n\""
      ]
     },
     "metadata": {},
     "output_type": "display_data"
    }
   ],
   "source": [
    "# exercise 10\n",
    "\n",
    "\"\n",
    "Use vapply\n",
    "\n",
    "Before you get your hands dirty with the third and last apply function that you'll learn about in this intermediate R course, let's take a look at its syntax. The function is called vapply(), and it has the following syntax:\n",
    "\n",
    "vapply(X, FUN, FUN.VALUE, ..., USE.NAMES = TRUE)\n",
    "\n",
    "Over the elements inside X, the function FUN is applied. The FUN.VALUE argument expects a template for the return argument of this function FUN. USE.NAMES is TRUE by default; in this case vapply() tries to generate a named array, if possible.\n",
    "\n",
    "For the next set of exercises, you'll be working on the temp list again, that contains 7 numerical vectors of length 5. We also coded a function basics() that takes a vector, and returns a named vector of length 3, containing the minimum, mean and maximum value of the vector respectively.\n",
    "\"\n",
    "\n",
    "# Instructions\n",
    "\n",
    "\"\n",
    "\n",
    "    Apply the function basics() over the list of temperatures, temp, using vapply(). This time, you can use numeric(3) to specify the FUN.VALUE argument.\n",
    "\n",
    "\"\n",
    "\n",
    "# solution\n",
    "\n",
    "# temp is already available in the workspace\n",
    "\n",
    "# Definition of basics()\n",
    "basics <- function(x) {\n",
    "  c(min = min(x), mean = mean(x), max = max(x))\n",
    "}\n",
    "\n",
    "# Apply basics() over temp using vapply()\n",
    "vapply(temp, basics, numeric(3))\n",
    "\n",
    "#----------------------------------#\n",
    "\n",
    "# Conclusion\n",
    "\n",
    "\"\n",
    "Perfect! Notice how, just as with sapply(), vapply() neatly transfers the names that you specify in the basics() function to the row names of the matrix that it returns. \n",
    "\""
   ]
  },
  {
   "cell_type": "code",
   "execution_count": 25,
   "metadata": {
    "vscode": {
     "languageId": "r"
    }
   },
   "outputs": [
    {
     "data": {
      "text/html": [
       "'\\nUse vapply (2)\\n\\nSo far you\\'ve seen that vapply() mimics the behavior of sapply() if everything goes according to plan. But what if it doesn\\'t?\\n\\nIn the video, Filip showed you that there are cases where the structure of the output of the function you want to apply, FUN, does not correspond to the template you specify in FUN.VALUE. In that case, vapply() will throw an error that informs you about the misalignment between expected and actual output.\\n'"
      ],
      "text/latex": [
       "'\\textbackslash{}nUse vapply (2)\\textbackslash{}n\\textbackslash{}nSo far you\\textbackslash{}'ve seen that vapply() mimics the behavior of sapply() if everything goes according to plan. But what if it doesn\\textbackslash{}'t?\\textbackslash{}n\\textbackslash{}nIn the video, Filip showed you that there are cases where the structure of the output of the function you want to apply, FUN, does not correspond to the template you specify in FUN.VALUE. In that case, vapply() will throw an error that informs you about the misalignment between expected and actual output.\\textbackslash{}n'"
      ],
      "text/markdown": [
       "'\\nUse vapply (2)\\n\\nSo far you\\'ve seen that vapply() mimics the behavior of sapply() if everything goes according to plan. But what if it doesn\\'t?\\n\\nIn the video, Filip showed you that there are cases where the structure of the output of the function you want to apply, FUN, does not correspond to the template you specify in FUN.VALUE. In that case, vapply() will throw an error that informs you about the misalignment between expected and actual output.\\n'"
      ],
      "text/plain": [
       "[1] \"\\nUse vapply (2)\\n\\nSo far you've seen that vapply() mimics the behavior of sapply() if everything goes according to plan. But what if it doesn't?\\n\\nIn the video, Filip showed you that there are cases where the structure of the output of the function you want to apply, FUN, does not correspond to the template you specify in FUN.VALUE. In that case, vapply() will throw an error that informs you about the misalignment between expected and actual output.\\n\""
      ]
     },
     "metadata": {},
     "output_type": "display_data"
    },
    {
     "data": {
      "text/html": [
       "<span style=white-space:pre-wrap>'\\n\\n    Inspect the pre-loaded code and try to run it. If you haven\\'t changed anything, an error should pop up. That\\'s because vapply() still expects basics() to return a vector of length 3. The error message gives you an indication of what\\'s wrong.\\n    Try to fix the error by editing the vapply() command.\\n\\n'</span>"
      ],
      "text/latex": [
       "'\\textbackslash{}n\\textbackslash{}n    Inspect the pre-loaded code and try to run it. If you haven\\textbackslash{}'t changed anything, an error should pop up. That\\textbackslash{}'s because vapply() still expects basics() to return a vector of length 3. The error message gives you an indication of what\\textbackslash{}'s wrong.\\textbackslash{}n    Try to fix the error by editing the vapply() command.\\textbackslash{}n\\textbackslash{}n'"
      ],
      "text/markdown": [
       "<span style=white-space:pre-wrap>'\\n\\n    Inspect the pre-loaded code and try to run it. If you haven\\'t changed anything, an error should pop up. That\\'s because vapply() still expects basics() to return a vector of length 3. The error message gives you an indication of what\\'s wrong.\\n    Try to fix the error by editing the vapply() command.\\n\\n'</span>"
      ],
      "text/plain": [
       "[1] \"\\n\\n    Inspect the pre-loaded code and try to run it. If you haven't changed anything, an error should pop up. That's because vapply() still expects basics() to return a vector of length 3. The error message gives you an indication of what's wrong.\\n    Try to fix the error by editing the vapply() command.\\n\\n\""
      ]
     },
     "metadata": {},
     "output_type": "display_data"
    },
    {
     "data": {
      "text/html": [
       "<table class=\"dataframe\">\n",
       "<caption>A matrix: 4 × 7 of type dbl</caption>\n",
       "<tbody>\n",
       "\t<tr><th scope=row>min</th><td>-1.0</td><td> 5</td><td>-3.0</td><td>-2.0</td><td>2.0</td><td>-3.0</td><td>1.0</td></tr>\n",
       "\t<tr><th scope=row>mean</th><td> 4.8</td><td> 9</td><td> 2.2</td><td> 2.4</td><td>5.4</td><td> 4.6</td><td>4.6</td></tr>\n",
       "\t<tr><th scope=row>median</th><td> 6.0</td><td> 9</td><td> 3.0</td><td> 2.0</td><td>5.0</td><td> 5.0</td><td>4.0</td></tr>\n",
       "\t<tr><th scope=row>max</th><td> 9.0</td><td>13</td><td> 8.0</td><td> 7.0</td><td>9.0</td><td> 9.0</td><td>9.0</td></tr>\n",
       "</tbody>\n",
       "</table>\n"
      ],
      "text/latex": [
       "A matrix: 4 × 7 of type dbl\n",
       "\\begin{tabular}{r|lllllll}\n",
       "\tmin & -1.0 &  5 & -3.0 & -2.0 & 2.0 & -3.0 & 1.0\\\\\n",
       "\tmean &  4.8 &  9 &  2.2 &  2.4 & 5.4 &  4.6 & 4.6\\\\\n",
       "\tmedian &  6.0 &  9 &  3.0 &  2.0 & 5.0 &  5.0 & 4.0\\\\\n",
       "\tmax &  9.0 & 13 &  8.0 &  7.0 & 9.0 &  9.0 & 9.0\\\\\n",
       "\\end{tabular}\n"
      ],
      "text/markdown": [
       "\n",
       "A matrix: 4 × 7 of type dbl\n",
       "\n",
       "| min | -1.0 |  5 | -3.0 | -2.0 | 2.0 | -3.0 | 1.0 |\n",
       "| mean |  4.8 |  9 |  2.2 |  2.4 | 5.4 |  4.6 | 4.6 |\n",
       "| median |  6.0 |  9 |  3.0 |  2.0 | 5.0 |  5.0 | 4.0 |\n",
       "| max |  9.0 | 13 |  8.0 |  7.0 | 9.0 |  9.0 | 9.0 |\n",
       "\n"
      ],
      "text/plain": [
       "       [,1] [,2] [,3] [,4] [,5] [,6] [,7]\n",
       "min    -1.0  5   -3.0 -2.0 2.0  -3.0 1.0 \n",
       "mean    4.8  9    2.2  2.4 5.4   4.6 4.6 \n",
       "median  6.0  9    3.0  2.0 5.0   5.0 4.0 \n",
       "max     9.0 13    8.0  7.0 9.0   9.0 9.0 "
      ]
     },
     "metadata": {},
     "output_type": "display_data"
    },
    {
     "data": {
      "text/html": [
       "'\\nGreat job! Head over to the next exercise. \\n'"
      ],
      "text/latex": [
       "'\\textbackslash{}nGreat job! Head over to the next exercise. \\textbackslash{}n'"
      ],
      "text/markdown": [
       "'\\nGreat job! Head over to the next exercise. \\n'"
      ],
      "text/plain": [
       "[1] \"\\nGreat job! Head over to the next exercise. \\n\""
      ]
     },
     "metadata": {},
     "output_type": "display_data"
    }
   ],
   "source": [
    "# exercise 11\n",
    "\n",
    "\"\n",
    "Use vapply (2)\n",
    "\n",
    "So far you've seen that vapply() mimics the behavior of sapply() if everything goes according to plan. But what if it doesn't?\n",
    "\n",
    "In the video, Filip showed you that there are cases where the structure of the output of the function you want to apply, FUN, does not correspond to the template you specify in FUN.VALUE. In that case, vapply() will throw an error that informs you about the misalignment between expected and actual output.\n",
    "\"\n",
    "\n",
    "# Instructions\n",
    "\n",
    "\"\n",
    "\n",
    "    Inspect the pre-loaded code and try to run it. If you haven't changed anything, an error should pop up. That's because vapply() still expects basics() to return a vector of length 3. The error message gives you an indication of what's wrong.\n",
    "    Try to fix the error by editing the vapply() command.\n",
    "\n",
    "\"\n",
    "\n",
    "# solution\n",
    "\n",
    "# temp is already available in the workspace\n",
    "\n",
    "# Definition of the basics() function\n",
    "basics <- function(x) {\n",
    "  c(min = min(x), mean = mean(x), median = median(x), max = max(x))\n",
    "}\n",
    "\n",
    "# Fix the error:\n",
    "vapply(temp, basics, numeric(4))\n",
    "\n",
    "#----------------------------------#\n",
    "\n",
    "# Conclusion\n",
    "\n",
    "\"\n",
    "Great job! Head over to the next exercise. \n",
    "\""
   ]
  },
  {
   "cell_type": "code",
   "execution_count": 26,
   "metadata": {
    "vscode": {
     "languageId": "r"
    }
   },
   "outputs": [
    {
     "data": {
      "text/html": [
       "'\\nFrom sapply to vapply\\n\\nAs highlighted before, vapply() can be considered a more robust version of sapply(), because you explicitly restrict the output of the function you want to apply. Converting your sapply() expressions in your own R scripts to vapply() expressions is therefore a good practice (and also a breeze!).\\n'"
      ],
      "text/latex": [
       "'\\textbackslash{}nFrom sapply to vapply\\textbackslash{}n\\textbackslash{}nAs highlighted before, vapply() can be considered a more robust version of sapply(), because you explicitly restrict the output of the function you want to apply. Converting your sapply() expressions in your own R scripts to vapply() expressions is therefore a good practice (and also a breeze!).\\textbackslash{}n'"
      ],
      "text/markdown": [
       "'\\nFrom sapply to vapply\\n\\nAs highlighted before, vapply() can be considered a more robust version of sapply(), because you explicitly restrict the output of the function you want to apply. Converting your sapply() expressions in your own R scripts to vapply() expressions is therefore a good practice (and also a breeze!).\\n'"
      ],
      "text/plain": [
       "[1] \"\\nFrom sapply to vapply\\n\\nAs highlighted before, vapply() can be considered a more robust version of sapply(), because you explicitly restrict the output of the function you want to apply. Converting your sapply() expressions in your own R scripts to vapply() expressions is therefore a good practice (and also a breeze!).\\n\""
      ]
     },
     "metadata": {},
     "output_type": "display_data"
    },
    {
     "data": {
      "text/html": [
       "'\\nConvert all the sapply() expressions on the right to their vapply() counterparts. Their results should be exactly the same; you\\'re only adding robustness. You\\'ll need the templates numeric(1) and logical(1).\\n'"
      ],
      "text/latex": [
       "'\\textbackslash{}nConvert all the sapply() expressions on the right to their vapply() counterparts. Their results should be exactly the same; you\\textbackslash{}'re only adding robustness. You\\textbackslash{}'ll need the templates numeric(1) and logical(1).\\textbackslash{}n'"
      ],
      "text/markdown": [
       "'\\nConvert all the sapply() expressions on the right to their vapply() counterparts. Their results should be exactly the same; you\\'re only adding robustness. You\\'ll need the templates numeric(1) and logical(1).\\n'"
      ],
      "text/plain": [
       "[1] \"\\nConvert all the sapply() expressions on the right to their vapply() counterparts. Their results should be exactly the same; you're only adding robustness. You'll need the templates numeric(1) and logical(1).\\n\""
      ]
     },
     "metadata": {},
     "output_type": "display_data"
    },
    {
     "data": {
      "text/html": [
       "<style>\n",
       ".list-inline {list-style: none; margin:0; padding: 0}\n",
       ".list-inline>li {display: inline-block}\n",
       ".list-inline>li:not(:last-child)::after {content: \"\\00b7\"; padding: 0 .5ex}\n",
       "</style>\n",
       "<ol class=list-inline><li>9</li><li>13</li><li>8</li><li>7</li><li>9</li><li>9</li><li>9</li></ol>\n"
      ],
      "text/latex": [
       "\\begin{enumerate*}\n",
       "\\item 9\n",
       "\\item 13\n",
       "\\item 8\n",
       "\\item 7\n",
       "\\item 9\n",
       "\\item 9\n",
       "\\item 9\n",
       "\\end{enumerate*}\n"
      ],
      "text/markdown": [
       "1. 9\n",
       "2. 13\n",
       "3. 8\n",
       "4. 7\n",
       "5. 9\n",
       "6. 9\n",
       "7. 9\n",
       "\n",
       "\n"
      ],
      "text/plain": [
       "[1]  9 13  8  7  9  9  9"
      ]
     },
     "metadata": {},
     "output_type": "display_data"
    },
    {
     "data": {
      "text/html": [
       "<style>\n",
       ".list-inline {list-style: none; margin:0; padding: 0}\n",
       ".list-inline>li {display: inline-block}\n",
       ".list-inline>li:not(:last-child)::after {content: \"\\00b7\"; padding: 0 .5ex}\n",
       "</style>\n",
       "<ol class=list-inline><li>FALSE</li><li>TRUE</li><li>FALSE</li><li>FALSE</li><li>TRUE</li><li>FALSE</li><li>FALSE</li></ol>\n"
      ],
      "text/latex": [
       "\\begin{enumerate*}\n",
       "\\item FALSE\n",
       "\\item TRUE\n",
       "\\item FALSE\n",
       "\\item FALSE\n",
       "\\item TRUE\n",
       "\\item FALSE\n",
       "\\item FALSE\n",
       "\\end{enumerate*}\n"
      ],
      "text/markdown": [
       "1. FALSE\n",
       "2. TRUE\n",
       "3. FALSE\n",
       "4. FALSE\n",
       "5. TRUE\n",
       "6. FALSE\n",
       "7. FALSE\n",
       "\n",
       "\n"
      ],
      "text/plain": [
       "[1] FALSE  TRUE FALSE FALSE  TRUE FALSE FALSE"
      ]
     },
     "metadata": {},
     "output_type": "display_data"
    },
    {
     "data": {
      "text/html": [
       "'\\nGreat! You\\'ve got no more excuses to use sapply() in the future! \\n'"
      ],
      "text/latex": [
       "'\\textbackslash{}nGreat! You\\textbackslash{}'ve got no more excuses to use sapply() in the future! \\textbackslash{}n'"
      ],
      "text/markdown": [
       "'\\nGreat! You\\'ve got no more excuses to use sapply() in the future! \\n'"
      ],
      "text/plain": [
       "[1] \"\\nGreat! You've got no more excuses to use sapply() in the future! \\n\""
      ]
     },
     "metadata": {},
     "output_type": "display_data"
    }
   ],
   "source": [
    "# exercise 12\n",
    "\n",
    "\"\n",
    "From sapply to vapply\n",
    "\n",
    "As highlighted before, vapply() can be considered a more robust version of sapply(), because you explicitly restrict the output of the function you want to apply. Converting your sapply() expressions in your own R scripts to vapply() expressions is therefore a good practice (and also a breeze!).\n",
    "\"\n",
    "\n",
    "# Instructions\n",
    "\n",
    "\"\n",
    "Convert all the sapply() expressions on the right to their vapply() counterparts. Their results should be exactly the same; you're only adding robustness. You'll need the templates numeric(1) and logical(1).\n",
    "\"\n",
    "\n",
    "# solution\n",
    "\n",
    "# temp is already defined in the workspace\n",
    "\n",
    "# Convert to vapply() expression\n",
    "vapply(temp, max, numeric(1))\n",
    "\n",
    "# Convert to vapply() expression\n",
    "vapply(temp, function(x, y) { mean(x) > y }, y = 5, logical(1))\n",
    "\n",
    "#----------------------------------#\n",
    "\n",
    "# Conclusion\n",
    "\n",
    "\"\n",
    "Great! You've got no more excuses to use sapply() in the future! \n",
    "\""
   ]
  }
 ],
 "metadata": {
  "kernelspec": {
   "display_name": "R",
   "language": "R",
   "name": "ir"
  },
  "language_info": {
   "codemirror_mode": "r",
   "file_extension": ".r",
   "mimetype": "text/x-r-source",
   "name": "R",
   "pygments_lexer": "r",
   "version": "4.3.2"
  }
 },
 "nbformat": 4,
 "nbformat_minor": 4
}
