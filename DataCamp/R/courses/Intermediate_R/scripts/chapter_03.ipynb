{
 "cells": [
  {
   "cell_type": "code",
   "execution_count": 12,
   "metadata": {
    "vscode": {
     "languageId": "r"
    }
   },
   "outputs": [
    {
     "data": {
      "text/html": [
       "'\\nFunction documentation\\n\\nBefore even thinking of using an R function, you should clarify which arguments it expects. All the relevant details such as a description, usage, and arguments can be found in the documentation. To consult the documentation on the sample() function, for example, you can use one of following R commands:\\n\\nhelp(sample)\\n?sample\\n\\nIf you execute these commands, you\\'ll be redirected to www.rdocumentation.org.\\n\\nA quick hack to see the arguments of the sample() function is the args() function. Try it out in the console:\\n\\nargs(sample)\\n\\nIn the next exercises, you\\'ll be learning how to use the mean() function with increasing complexity. The first thing you\\'ll have to do is get acquainted with the mean() function.\\n'"
      ],
      "text/latex": [
       "'\\textbackslash{}nFunction documentation\\textbackslash{}n\\textbackslash{}nBefore even thinking of using an R function, you should clarify which arguments it expects. All the relevant details such as a description, usage, and arguments can be found in the documentation. To consult the documentation on the sample() function, for example, you can use one of following R commands:\\textbackslash{}n\\textbackslash{}nhelp(sample)\\textbackslash{}n?sample\\textbackslash{}n\\textbackslash{}nIf you execute these commands, you\\textbackslash{}'ll be redirected to www.rdocumentation.org.\\textbackslash{}n\\textbackslash{}nA quick hack to see the arguments of the sample() function is the args() function. Try it out in the console:\\textbackslash{}n\\textbackslash{}nargs(sample)\\textbackslash{}n\\textbackslash{}nIn the next exercises, you\\textbackslash{}'ll be learning how to use the mean() function with increasing complexity. The first thing you\\textbackslash{}'ll have to do is get acquainted with the mean() function.\\textbackslash{}n'"
      ],
      "text/markdown": [
       "'\\nFunction documentation\\n\\nBefore even thinking of using an R function, you should clarify which arguments it expects. All the relevant details such as a description, usage, and arguments can be found in the documentation. To consult the documentation on the sample() function, for example, you can use one of following R commands:\\n\\nhelp(sample)\\n?sample\\n\\nIf you execute these commands, you\\'ll be redirected to www.rdocumentation.org.\\n\\nA quick hack to see the arguments of the sample() function is the args() function. Try it out in the console:\\n\\nargs(sample)\\n\\nIn the next exercises, you\\'ll be learning how to use the mean() function with increasing complexity. The first thing you\\'ll have to do is get acquainted with the mean() function.\\n'"
      ],
      "text/plain": [
       "[1] \"\\nFunction documentation\\n\\nBefore even thinking of using an R function, you should clarify which arguments it expects. All the relevant details such as a description, usage, and arguments can be found in the documentation. To consult the documentation on the sample() function, for example, you can use one of following R commands:\\n\\nhelp(sample)\\n?sample\\n\\nIf you execute these commands, you'll be redirected to www.rdocumentation.org.\\n\\nA quick hack to see the arguments of the sample() function is the args() function. Try it out in the console:\\n\\nargs(sample)\\n\\nIn the next exercises, you'll be learning how to use the mean() function with increasing complexity. The first thing you'll have to do is get acquainted with the mean() function.\\n\""
      ]
     },
     "metadata": {},
     "output_type": "display_data"
    },
    {
     "data": {
      "text/html": [
       "<span style=white-space:pre-wrap>'\\n\\n    Consult the documentation on the mean() function: ?mean or help(mean).\\n    Inspect the arguments of the mean() function using the args() function.\\n\\n'</span>"
      ],
      "text/latex": [
       "'\\textbackslash{}n\\textbackslash{}n    Consult the documentation on the mean() function: ?mean or help(mean).\\textbackslash{}n    Inspect the arguments of the mean() function using the args() function.\\textbackslash{}n\\textbackslash{}n'"
      ],
      "text/markdown": [
       "<span style=white-space:pre-wrap>'\\n\\n    Consult the documentation on the mean() function: ?mean or help(mean).\\n    Inspect the arguments of the mean() function using the args() function.\\n\\n'</span>"
      ],
      "text/plain": [
       "[1] \"\\n\\n    Consult the documentation on the mean() function: ?mean or help(mean).\\n    Inspect the arguments of the mean() function using the args() function.\\n\\n\""
      ]
     },
     "metadata": {},
     "output_type": "display_data"
    },
    {
     "data": {
      "text/html": [
       "<pre class=language-r><code>function (x, ...) \n",
       "NULL</code></pre>"
      ],
      "text/latex": [
       "\\begin{minted}{r}\n",
       "function (x, ...) \n",
       "NULL\n",
       "\\end{minted}"
      ],
      "text/markdown": [
       "```r\n",
       "function (x, ...) \n",
       "NULL\n",
       "```"
      ],
      "text/plain": [
       "function (x, ...) \n",
       "NULL"
      ]
     },
     "metadata": {},
     "output_type": "display_data"
    },
    {
     "data": {
      "text/html": [
       "'\\nGreat! That wasn\\'t too hard, was it? Take a look at the documentation and head over to the next exercise. \\n'"
      ],
      "text/latex": [
       "'\\textbackslash{}nGreat! That wasn\\textbackslash{}'t too hard, was it? Take a look at the documentation and head over to the next exercise. \\textbackslash{}n'"
      ],
      "text/markdown": [
       "'\\nGreat! That wasn\\'t too hard, was it? Take a look at the documentation and head over to the next exercise. \\n'"
      ],
      "text/plain": [
       "[1] \"\\nGreat! That wasn't too hard, was it? Take a look at the documentation and head over to the next exercise. \\n\""
      ]
     },
     "metadata": {},
     "output_type": "display_data"
    },
    {
     "name": "stdout",
     "output_type": "stream",
     "text": [
      "mean                   package:base                    R Documentation\n",
      "\n",
      "_\bA_\br_\bi_\bt_\bh_\bm_\be_\bt_\bi_\bc _\bM_\be_\ba_\bn\n",
      "\n",
      "_\bD_\be_\bs_\bc_\br_\bi_\bp_\bt_\bi_\bo_\bn:\n",
      "\n",
      "     Generic function for the (trimmed) arithmetic mean.\n",
      "\n",
      "_\bU_\bs_\ba_\bg_\be:\n",
      "\n",
      "     mean(x, ...)\n",
      "     \n",
      "     ## Default S3 method:\n",
      "     mean(x, trim = 0, na.rm = FALSE, ...)\n",
      "     \n",
      "_\bA_\br_\bg_\bu_\bm_\be_\bn_\bt_\bs:\n",
      "\n",
      "       x: An R object.  Currently there are methods for numeric/logical\n",
      "          vectors and date, date-time and time interval objects.\n",
      "          Complex vectors are allowed for ‘trim = 0’, only.\n",
      "\n",
      "    trim: the fraction (0 to 0.5) of observations to be trimmed from\n",
      "          each end of ‘x’ before the mean is computed.  Values of trim\n",
      "          outside that range are taken as the nearest endpoint.\n",
      "\n",
      "   na.rm: a logical evaluating to ‘TRUE’ or ‘FALSE’ indicating whether\n",
      "          ‘NA’ values should be stripped before the computation\n",
      "          proceeds.\n",
      "\n",
      "     ...: further arguments passed to or from other methods.\n",
      "\n",
      "_\bV_\ba_\bl_\bu_\be:\n",
      "\n",
      "     If ‘trim’ is zero (the default), the arithmetic mean of the values\n",
      "     in ‘x’ is computed, as a numeric or complex vector of length one.\n",
      "     If ‘x’ is not logical (coerced to numeric), numeric (including\n",
      "     integer) or complex, ‘NA_real_’ is returned, with a warning.\n",
      "\n",
      "     If ‘trim’ is non-zero, a symmetrically trimmed mean is computed\n",
      "     with a fraction of ‘trim’ observations deleted from each end\n",
      "     before the mean is computed.\n",
      "\n",
      "_\bR_\be_\bf_\be_\br_\be_\bn_\bc_\be_\bs:\n",
      "\n",
      "     Becker, R. A., Chambers, J. M. and Wilks, A. R. (1988) _The New S\n",
      "     Language_.  Wadsworth & Brooks/Cole.\n",
      "\n",
      "_\bS_\be_\be _\bA_\bl_\bs_\bo:\n",
      "\n",
      "     ‘weighted.mean’, ‘mean.POSIXct’, ‘colMeans’ for row and column\n",
      "     means.\n",
      "\n",
      "_\bE_\bx_\ba_\bm_\bp_\bl_\be_\bs:\n",
      "\n",
      "     x <- c(0:10, 50)\n",
      "     xm <- mean(x)\n",
      "     c(xm, mean(x, trim = 0.10))\n",
      "     "
     ]
    }
   ],
   "source": [
    "# exercise 01\n",
    "\n",
    "\"\n",
    "Function documentation\n",
    "\n",
    "Before even thinking of using an R function, you should clarify which arguments it expects. All the relevant details such as a description, usage, and arguments can be found in the documentation. To consult the documentation on the sample() function, for example, you can use one of following R commands:\n",
    "\n",
    "help(sample)\n",
    "?sample\n",
    "\n",
    "If you execute these commands, you'll be redirected to www.rdocumentation.org.\n",
    "\n",
    "A quick hack to see the arguments of the sample() function is the args() function. Try it out in the console:\n",
    "\n",
    "args(sample)\n",
    "\n",
    "In the next exercises, you'll be learning how to use the mean() function with increasing complexity. The first thing you'll have to do is get acquainted with the mean() function.\n",
    "\"\n",
    "\n",
    "# Instructions\n",
    "\n",
    "\"\n",
    "\n",
    "    Consult the documentation on the mean() function: ?mean or help(mean).\n",
    "    Inspect the arguments of the mean() function using the args() function.\n",
    "\n",
    "\"\n",
    "\n",
    "# solution\n",
    "\n",
    "# Consult the documentation on the mean() function\n",
    "help(mean)\n",
    "\n",
    "# Inspect the arguments of the mean() function\n",
    "args(mean)\n",
    "\n",
    "#----------------------------------#\n",
    "\n",
    "# Conclusion\n",
    "\n",
    "\"\n",
    "Great! That wasn't too hard, was it? Take a look at the documentation and head over to the next exercise. \n",
    "\""
   ]
  },
  {
   "cell_type": "code",
   "execution_count": 13,
   "metadata": {
    "tags": [],
    "vscode": {
     "languageId": "r"
    }
   },
   "outputs": [
    {
     "data": {
      "text/html": [
       "<span style=white-space:pre-wrap>'\\nUse a function\\n\\nThe documentation on the mean() function gives us quite some information:\\n\\n    The mean() function computes the arithmetic mean.\\n    The most general method takes multiple arguments: x and ....\\n    The x argument should be a vector containing numeric, logical or time-related information.\\n\\nRemember that R can match arguments both by position and by name. Can you still remember the difference? You\\'ll find out in this exercise!\\n\\nOnce more, you\\'ll be working with the view counts of your social network profiles for the past 7 days. These are stored in the linkedin and facebook vectors and have already been created for you.\\n'</span>"
      ],
      "text/latex": [
       "'\\textbackslash{}nUse a function\\textbackslash{}n\\textbackslash{}nThe documentation on the mean() function gives us quite some information:\\textbackslash{}n\\textbackslash{}n    The mean() function computes the arithmetic mean.\\textbackslash{}n    The most general method takes multiple arguments: x and ....\\textbackslash{}n    The x argument should be a vector containing numeric, logical or time-related information.\\textbackslash{}n\\textbackslash{}nRemember that R can match arguments both by position and by name. Can you still remember the difference? You\\textbackslash{}'ll find out in this exercise!\\textbackslash{}n\\textbackslash{}nOnce more, you\\textbackslash{}'ll be working with the view counts of your social network profiles for the past 7 days. These are stored in the linkedin and facebook vectors and have already been created for you.\\textbackslash{}n'"
      ],
      "text/markdown": [
       "<span style=white-space:pre-wrap>'\\nUse a function\\n\\nThe documentation on the mean() function gives us quite some information:\\n\\n    The mean() function computes the arithmetic mean.\\n    The most general method takes multiple arguments: x and ....\\n    The x argument should be a vector containing numeric, logical or time-related information.\\n\\nRemember that R can match arguments both by position and by name. Can you still remember the difference? You\\'ll find out in this exercise!\\n\\nOnce more, you\\'ll be working with the view counts of your social network profiles for the past 7 days. These are stored in the linkedin and facebook vectors and have already been created for you.\\n'</span>"
      ],
      "text/plain": [
       "[1] \"\\nUse a function\\n\\nThe documentation on the mean() function gives us quite some information:\\n\\n    The mean() function computes the arithmetic mean.\\n    The most general method takes multiple arguments: x and ....\\n    The x argument should be a vector containing numeric, logical or time-related information.\\n\\nRemember that R can match arguments both by position and by name. Can you still remember the difference? You'll find out in this exercise!\\n\\nOnce more, you'll be working with the view counts of your social network profiles for the past 7 days. These are stored in the linkedin and facebook vectors and have already been created for you.\\n\""
      ]
     },
     "metadata": {},
     "output_type": "display_data"
    },
    {
     "data": {
      "text/html": [
       "<span style=white-space:pre-wrap>'\\n\\n    Calculate the average number of views for both linkedin and facebook and assign the result to avg_li and avg_fb, respectively. Experiment with different types of argument matching!\\n    Print out both avg_li and avg_fb.\\n\\n'</span>"
      ],
      "text/latex": [
       "'\\textbackslash{}n\\textbackslash{}n    Calculate the average number of views for both linkedin and facebook and assign the result to avg\\_li and avg\\_fb, respectively. Experiment with different types of argument matching!\\textbackslash{}n    Print out both avg\\_li and avg\\_fb.\\textbackslash{}n\\textbackslash{}n'"
      ],
      "text/markdown": [
       "<span style=white-space:pre-wrap>'\\n\\n    Calculate the average number of views for both linkedin and facebook and assign the result to avg_li and avg_fb, respectively. Experiment with different types of argument matching!\\n    Print out both avg_li and avg_fb.\\n\\n'</span>"
      ],
      "text/plain": [
       "[1] \"\\n\\n    Calculate the average number of views for both linkedin and facebook and assign the result to avg_li and avg_fb, respectively. Experiment with different types of argument matching!\\n    Print out both avg_li and avg_fb.\\n\\n\""
      ]
     },
     "metadata": {},
     "output_type": "display_data"
    },
    {
     "data": {
      "text/html": [
       "10.8571428571429"
      ],
      "text/latex": [
       "10.8571428571429"
      ],
      "text/markdown": [
       "10.8571428571429"
      ],
      "text/plain": [
       "[1] 10.85714"
      ]
     },
     "metadata": {},
     "output_type": "display_data"
    },
    {
     "data": {
      "text/html": [
       "11.4285714285714"
      ],
      "text/latex": [
       "11.4285714285714"
      ],
      "text/markdown": [
       "11.4285714285714"
      ],
      "text/plain": [
       "[1] 11.42857"
      ]
     },
     "metadata": {},
     "output_type": "display_data"
    },
    {
     "data": {
      "text/html": [
       "'\\nNice! I\\'m sure you\\'ve already called more advanced R functions in your history as a programmer. Now you also know what actually happens under the hood ;-) \\n'"
      ],
      "text/latex": [
       "'\\textbackslash{}nNice! I\\textbackslash{}'m sure you\\textbackslash{}'ve already called more advanced R functions in your history as a programmer. Now you also know what actually happens under the hood ;-) \\textbackslash{}n'"
      ],
      "text/markdown": [
       "'\\nNice! I\\'m sure you\\'ve already called more advanced R functions in your history as a programmer. Now you also know what actually happens under the hood ;-) \\n'"
      ],
      "text/plain": [
       "[1] \"\\nNice! I'm sure you've already called more advanced R functions in your history as a programmer. Now you also know what actually happens under the hood ;-) \\n\""
      ]
     },
     "metadata": {},
     "output_type": "display_data"
    }
   ],
   "source": [
    "# exercise 02\n",
    "\n",
    "\"\n",
    "Use a function\n",
    "\n",
    "The documentation on the mean() function gives us quite some information:\n",
    "\n",
    "    The mean() function computes the arithmetic mean.\n",
    "    The most general method takes multiple arguments: x and ....\n",
    "    The x argument should be a vector containing numeric, logical or time-related information.\n",
    "\n",
    "Remember that R can match arguments both by position and by name. Can you still remember the difference? You'll find out in this exercise!\n",
    "\n",
    "Once more, you'll be working with the view counts of your social network profiles for the past 7 days. These are stored in the linkedin and facebook vectors and have already been created for you.\n",
    "\"\n",
    "\n",
    "# Instructions\n",
    "\n",
    "\"\n",
    "\n",
    "    Calculate the average number of views for both linkedin and facebook and assign the result to avg_li and avg_fb, respectively. Experiment with different types of argument matching!\n",
    "    Print out both avg_li and avg_fb.\n",
    "\n",
    "\"\n",
    "\n",
    "# solution\n",
    "\n",
    "# The linkedin and facebook vectors have already been created for you\n",
    "linkedin <- c(16, 9, 13, 5, 2, 17, 14)\n",
    "facebook <- c(17, 7, 5, 16, 8, 13, 14)\n",
    "\n",
    "# Calculate average number of views\n",
    "avg_li <- mean(linkedin)\n",
    "avg_fb <- mean(facebook)\n",
    "\n",
    "\n",
    "# Inspect avg_li and avg_fb\n",
    "avg_li\n",
    "avg_fb\n",
    "\n",
    "#----------------------------------#\n",
    "\n",
    "# Conclusion\n",
    "\n",
    "\"\n",
    "Nice! I'm sure you've already called more advanced R functions in your history as a programmer. Now you also know what actually happens under the hood ;-) \n",
    "\""
   ]
  },
  {
   "cell_type": "code",
   "execution_count": 14,
   "metadata": {
    "tags": [],
    "vscode": {
     "languageId": "r"
    }
   },
   "outputs": [
    {
     "data": {
      "text/html": [
       "'\\nUse a function (2)\\n\\nCheck the documentation on the mean() function again:\\n\\n?mean\\n\\nThe Usage section of the documentation includes two versions of the mean() function. The first usage,\\n\\nmean(x, ...)\\n\\nis the most general usage of the mean function. The \\'Default S3 method\\', however, is:\\n\\nmean(x, trim = 0, na.rm = FALSE, ...)\\n\\nThe ... is called the ellipsis. It is a way for R to pass arguments along without the function having to name them explicitly. The ellipsis will be treated in more detail in future courses.\\n\\nFor the remainder of this exercise, just work with the second usage of the mean function. Notice that both trim and na.rm have default values. This makes them optional arguments.\\n'"
      ],
      "text/latex": [
       "'\\textbackslash{}nUse a function (2)\\textbackslash{}n\\textbackslash{}nCheck the documentation on the mean() function again:\\textbackslash{}n\\textbackslash{}n?mean\\textbackslash{}n\\textbackslash{}nThe Usage section of the documentation includes two versions of the mean() function. The first usage,\\textbackslash{}n\\textbackslash{}nmean(x, ...)\\textbackslash{}n\\textbackslash{}nis the most general usage of the mean function. The \\textbackslash{}'Default S3 method\\textbackslash{}', however, is:\\textbackslash{}n\\textbackslash{}nmean(x, trim = 0, na.rm = FALSE, ...)\\textbackslash{}n\\textbackslash{}nThe ... is called the ellipsis. It is a way for R to pass arguments along without the function having to name them explicitly. The ellipsis will be treated in more detail in future courses.\\textbackslash{}n\\textbackslash{}nFor the remainder of this exercise, just work with the second usage of the mean function. Notice that both trim and na.rm have default values. This makes them optional arguments.\\textbackslash{}n'"
      ],
      "text/markdown": [
       "'\\nUse a function (2)\\n\\nCheck the documentation on the mean() function again:\\n\\n?mean\\n\\nThe Usage section of the documentation includes two versions of the mean() function. The first usage,\\n\\nmean(x, ...)\\n\\nis the most general usage of the mean function. The \\'Default S3 method\\', however, is:\\n\\nmean(x, trim = 0, na.rm = FALSE, ...)\\n\\nThe ... is called the ellipsis. It is a way for R to pass arguments along without the function having to name them explicitly. The ellipsis will be treated in more detail in future courses.\\n\\nFor the remainder of this exercise, just work with the second usage of the mean function. Notice that both trim and na.rm have default values. This makes them optional arguments.\\n'"
      ],
      "text/plain": [
       "[1] \"\\nUse a function (2)\\n\\nCheck the documentation on the mean() function again:\\n\\n?mean\\n\\nThe Usage section of the documentation includes two versions of the mean() function. The first usage,\\n\\nmean(x, ...)\\n\\nis the most general usage of the mean function. The 'Default S3 method', however, is:\\n\\nmean(x, trim = 0, na.rm = FALSE, ...)\\n\\nThe ... is called the ellipsis. It is a way for R to pass arguments along without the function having to name them explicitly. The ellipsis will be treated in more detail in future courses.\\n\\nFor the remainder of this exercise, just work with the second usage of the mean function. Notice that both trim and na.rm have default values. This makes them optional arguments.\\n\""
      ]
     },
     "metadata": {},
     "output_type": "display_data"
    },
    {
     "data": {
      "text/html": [
       "<span style=white-space:pre-wrap>'\\n\\n    Calculate the mean of the element-wise sum of linkedin and facebook and store the result in a variable avg_sum.\\n    Calculate the mean once more, but this time set the trim argument equal to 0.2 and assign the result to avg_sum_trimmed.\\n    Print out both avg_sum and avg_sum_trimmed; can you spot the difference?\\n\\n'</span>"
      ],
      "text/latex": [
       "'\\textbackslash{}n\\textbackslash{}n    Calculate the mean of the element-wise sum of linkedin and facebook and store the result in a variable avg\\_sum.\\textbackslash{}n    Calculate the mean once more, but this time set the trim argument equal to 0.2 and assign the result to avg\\_sum\\_trimmed.\\textbackslash{}n    Print out both avg\\_sum and avg\\_sum\\_trimmed; can you spot the difference?\\textbackslash{}n\\textbackslash{}n'"
      ],
      "text/markdown": [
       "<span style=white-space:pre-wrap>'\\n\\n    Calculate the mean of the element-wise sum of linkedin and facebook and store the result in a variable avg_sum.\\n    Calculate the mean once more, but this time set the trim argument equal to 0.2 and assign the result to avg_sum_trimmed.\\n    Print out both avg_sum and avg_sum_trimmed; can you spot the difference?\\n\\n'</span>"
      ],
      "text/plain": [
       "[1] \"\\n\\n    Calculate the mean of the element-wise sum of linkedin and facebook and store the result in a variable avg_sum.\\n    Calculate the mean once more, but this time set the trim argument equal to 0.2 and assign the result to avg_sum_trimmed.\\n    Print out both avg_sum and avg_sum_trimmed; can you spot the difference?\\n\\n\""
      ]
     },
     "metadata": {},
     "output_type": "display_data"
    },
    {
     "data": {
      "text/html": [
       "22.2857142857143"
      ],
      "text/latex": [
       "22.2857142857143"
      ],
      "text/markdown": [
       "22.2857142857143"
      ],
      "text/plain": [
       "[1] 22.28571"
      ]
     },
     "metadata": {},
     "output_type": "display_data"
    },
    {
     "data": {
      "text/html": [
       "22.6"
      ],
      "text/latex": [
       "22.6"
      ],
      "text/markdown": [
       "22.6"
      ],
      "text/plain": [
       "[1] 22.6"
      ]
     },
     "metadata": {},
     "output_type": "display_data"
    },
    {
     "data": {
      "text/html": [
       "'\\nNice! When the trim argument is not zero, it chops off a fraction (equal to trim) of the vector you pass as argument x. \\n'"
      ],
      "text/latex": [
       "'\\textbackslash{}nNice! When the trim argument is not zero, it chops off a fraction (equal to trim) of the vector you pass as argument x. \\textbackslash{}n'"
      ],
      "text/markdown": [
       "'\\nNice! When the trim argument is not zero, it chops off a fraction (equal to trim) of the vector you pass as argument x. \\n'"
      ],
      "text/plain": [
       "[1] \"\\nNice! When the trim argument is not zero, it chops off a fraction (equal to trim) of the vector you pass as argument x. \\n\""
      ]
     },
     "metadata": {},
     "output_type": "display_data"
    }
   ],
   "source": [
    "# exercise 03\n",
    "\n",
    "\"\n",
    "Use a function (2)\n",
    "\n",
    "Check the documentation on the mean() function again:\n",
    "\n",
    "?mean\n",
    "\n",
    "The Usage section of the documentation includes two versions of the mean() function. The first usage,\n",
    "\n",
    "mean(x, ...)\n",
    "\n",
    "is the most general usage of the mean function. The 'Default S3 method', however, is:\n",
    "\n",
    "mean(x, trim = 0, na.rm = FALSE, ...)\n",
    "\n",
    "The ... is called the ellipsis. It is a way for R to pass arguments along without the function having to name them explicitly. The ellipsis will be treated in more detail in future courses.\n",
    "\n",
    "For the remainder of this exercise, just work with the second usage of the mean function. Notice that both trim and na.rm have default values. This makes them optional arguments.\n",
    "\"\n",
    "\n",
    "# Instructions\n",
    "\n",
    "\"\n",
    "\n",
    "    Calculate the mean of the element-wise sum of linkedin and facebook and store the result in a variable avg_sum.\n",
    "    Calculate the mean once more, but this time set the trim argument equal to 0.2 and assign the result to avg_sum_trimmed.\n",
    "    Print out both avg_sum and avg_sum_trimmed; can you spot the difference?\n",
    "\n",
    "\"\n",
    "\n",
    "# solution\n",
    "\n",
    "# The linkedin and facebook vectors have already been created for you\n",
    "linkedin <- c(16, 9, 13, 5, 2, 17, 14)\n",
    "facebook <- c(17, 7, 5, 16, 8, 13, 14)\n",
    "\n",
    "# Calculate the mean of the sum\n",
    "avg_sum <- mean(linkedin + facebook)\n",
    "\n",
    "# Calculate the trimmed mean of the sum\n",
    "avg_sum_trimmed <- mean(linkedin + facebook, trim = 0.2)\n",
    "\n",
    "# Inspect both new variables\n",
    "avg_sum\n",
    "avg_sum_trimmed\n",
    "\n",
    "#----------------------------------#\n",
    "\n",
    "# Conclusion\n",
    "\n",
    "\"\n",
    "Nice! When the trim argument is not zero, it chops off a fraction (equal to trim) of the vector you pass as argument x. \n",
    "\""
   ]
  },
  {
   "cell_type": "code",
   "execution_count": 15,
   "metadata": {
    "tags": [],
    "vscode": {
     "languageId": "r"
    }
   },
   "outputs": [
    {
     "data": {
      "text/html": [
       "'\\nUse a function (3)\\n\\nIn the video, Filip guided you through the example of specifying arguments of the sd() function. The sd() function has an optional argument, na.rm that specified whether or not to remove missing values from the input vector before calculating the standard deviation.\\n\\nIf you\\'ve had a good look at the documentation, you\\'ll know by now that the mean() function also has this argument, na.rm, and it does the exact same thing. By default, it is set to FALSE, as the Usage of the default S3 method shows:\\n\\nmean(x, trim = 0, na.rm = FALSE, ...)\\n\\nLet\\'s see what happens if your vectors linkedin and facebook contain missing values (NA).\\n'"
      ],
      "text/latex": [
       "'\\textbackslash{}nUse a function (3)\\textbackslash{}n\\textbackslash{}nIn the video, Filip guided you through the example of specifying arguments of the sd() function. The sd() function has an optional argument, na.rm that specified whether or not to remove missing values from the input vector before calculating the standard deviation.\\textbackslash{}n\\textbackslash{}nIf you\\textbackslash{}'ve had a good look at the documentation, you\\textbackslash{}'ll know by now that the mean() function also has this argument, na.rm, and it does the exact same thing. By default, it is set to FALSE, as the Usage of the default S3 method shows:\\textbackslash{}n\\textbackslash{}nmean(x, trim = 0, na.rm = FALSE, ...)\\textbackslash{}n\\textbackslash{}nLet\\textbackslash{}'s see what happens if your vectors linkedin and facebook contain missing values (NA).\\textbackslash{}n'"
      ],
      "text/markdown": [
       "'\\nUse a function (3)\\n\\nIn the video, Filip guided you through the example of specifying arguments of the sd() function. The sd() function has an optional argument, na.rm that specified whether or not to remove missing values from the input vector before calculating the standard deviation.\\n\\nIf you\\'ve had a good look at the documentation, you\\'ll know by now that the mean() function also has this argument, na.rm, and it does the exact same thing. By default, it is set to FALSE, as the Usage of the default S3 method shows:\\n\\nmean(x, trim = 0, na.rm = FALSE, ...)\\n\\nLet\\'s see what happens if your vectors linkedin and facebook contain missing values (NA).\\n'"
      ],
      "text/plain": [
       "[1] \"\\nUse a function (3)\\n\\nIn the video, Filip guided you through the example of specifying arguments of the sd() function. The sd() function has an optional argument, na.rm that specified whether or not to remove missing values from the input vector before calculating the standard deviation.\\n\\nIf you've had a good look at the documentation, you'll know by now that the mean() function also has this argument, na.rm, and it does the exact same thing. By default, it is set to FALSE, as the Usage of the default S3 method shows:\\n\\nmean(x, trim = 0, na.rm = FALSE, ...)\\n\\nLet's see what happens if your vectors linkedin and facebook contain missing values (NA).\\n\""
      ]
     },
     "metadata": {},
     "output_type": "display_data"
    },
    {
     "data": {
      "text/html": [
       "<span style=white-space:pre-wrap>'\\n\\n    Calculate the average number of LinkedIn profile views, without specifying any optional arguments. Simply print the result to the console.\\n    Calculate the average number of LinkedIn profile views, but this time tell R to strip missing values from the input vector.\\n\\n'</span>"
      ],
      "text/latex": [
       "'\\textbackslash{}n\\textbackslash{}n    Calculate the average number of LinkedIn profile views, without specifying any optional arguments. Simply print the result to the console.\\textbackslash{}n    Calculate the average number of LinkedIn profile views, but this time tell R to strip missing values from the input vector.\\textbackslash{}n\\textbackslash{}n'"
      ],
      "text/markdown": [
       "<span style=white-space:pre-wrap>'\\n\\n    Calculate the average number of LinkedIn profile views, without specifying any optional arguments. Simply print the result to the console.\\n    Calculate the average number of LinkedIn profile views, but this time tell R to strip missing values from the input vector.\\n\\n'</span>"
      ],
      "text/plain": [
       "[1] \"\\n\\n    Calculate the average number of LinkedIn profile views, without specifying any optional arguments. Simply print the result to the console.\\n    Calculate the average number of LinkedIn profile views, but this time tell R to strip missing values from the input vector.\\n\\n\""
      ]
     },
     "metadata": {},
     "output_type": "display_data"
    },
    {
     "data": {
      "text/html": [
       "&lt;NA&gt;"
      ],
      "text/latex": [
       "<NA>"
      ],
      "text/markdown": [
       "&lt;NA&gt;"
      ],
      "text/plain": [
       "[1] NA"
      ]
     },
     "metadata": {},
     "output_type": "display_data"
    },
    {
     "data": {
      "text/html": [
       "12.3333333333333"
      ],
      "text/latex": [
       "12.3333333333333"
      ],
      "text/markdown": [
       "12.3333333333333"
      ],
      "text/plain": [
       "[1] 12.33333"
      ]
     },
     "metadata": {},
     "output_type": "display_data"
    },
    {
     "data": {
      "text/html": [
       "'\\nAwesome! Up to the next exercise! \\n'"
      ],
      "text/latex": [
       "'\\textbackslash{}nAwesome! Up to the next exercise! \\textbackslash{}n'"
      ],
      "text/markdown": [
       "'\\nAwesome! Up to the next exercise! \\n'"
      ],
      "text/plain": [
       "[1] \"\\nAwesome! Up to the next exercise! \\n\""
      ]
     },
     "metadata": {},
     "output_type": "display_data"
    }
   ],
   "source": [
    "# exercise 04\n",
    "\n",
    "\"\n",
    "Use a function (3)\n",
    "\n",
    "In the video, Filip guided you through the example of specifying arguments of the sd() function. The sd() function has an optional argument, na.rm that specified whether or not to remove missing values from the input vector before calculating the standard deviation.\n",
    "\n",
    "If you've had a good look at the documentation, you'll know by now that the mean() function also has this argument, na.rm, and it does the exact same thing. By default, it is set to FALSE, as the Usage of the default S3 method shows:\n",
    "\n",
    "mean(x, trim = 0, na.rm = FALSE, ...)\n",
    "\n",
    "Let's see what happens if your vectors linkedin and facebook contain missing values (NA).\n",
    "\"\n",
    "\n",
    "# Instructions\n",
    "\n",
    "\"\n",
    "\n",
    "    Calculate the average number of LinkedIn profile views, without specifying any optional arguments. Simply print the result to the console.\n",
    "    Calculate the average number of LinkedIn profile views, but this time tell R to strip missing values from the input vector.\n",
    "\n",
    "\"\n",
    "\n",
    "# solution\n",
    "\n",
    "# The linkedin and facebook vectors have already been created for you\n",
    "linkedin <- c(16, 9, 13, 5, NA, 17, 14)\n",
    "facebook <- c(17, NA, 5, 16, 8, 13, 14)\n",
    "\n",
    "# Basic average of linkedin\n",
    "mean(linkedin)\n",
    "\n",
    "# Advanced average of linkedin\n",
    "mean(linkedin, na.rm=TRUE)\n",
    "\n",
    "#----------------------------------#\n",
    "\n",
    "# Conclusion\n",
    "\n",
    "\"\n",
    "Awesome! Up to the next exercise! \n",
    "\""
   ]
  },
  {
   "cell_type": "code",
   "execution_count": 16,
   "metadata": {
    "tags": [],
    "vscode": {
     "languageId": "r"
    }
   },
   "outputs": [
    {
     "data": {
      "text/html": [
       "'\\nFunctions inside functions\\n\\nYou already know that R functions return objects that you can then use somewhere else. This makes it easy to use functions inside functions, as you\\'ve seen before:\\n\\nspeed &lt;- 31\\nprint(paste(Your speed is, speed))\\n\\nNotice that both the print() and paste() functions use the ellipsis - ... - as an argument. Can you figure out how they\\'re used?\\n'"
      ],
      "text/latex": [
       "'\\textbackslash{}nFunctions inside functions\\textbackslash{}n\\textbackslash{}nYou already know that R functions return objects that you can then use somewhere else. This makes it easy to use functions inside functions, as you\\textbackslash{}'ve seen before:\\textbackslash{}n\\textbackslash{}nspeed <- 31\\textbackslash{}nprint(paste(Your speed is, speed))\\textbackslash{}n\\textbackslash{}nNotice that both the print() and paste() functions use the ellipsis - ... - as an argument. Can you figure out how they\\textbackslash{}'re used?\\textbackslash{}n'"
      ],
      "text/markdown": [
       "'\\nFunctions inside functions\\n\\nYou already know that R functions return objects that you can then use somewhere else. This makes it easy to use functions inside functions, as you\\'ve seen before:\\n\\nspeed &lt;- 31\\nprint(paste(Your speed is, speed))\\n\\nNotice that both the print() and paste() functions use the ellipsis - ... - as an argument. Can you figure out how they\\'re used?\\n'"
      ],
      "text/plain": [
       "[1] \"\\nFunctions inside functions\\n\\nYou already know that R functions return objects that you can then use somewhere else. This makes it easy to use functions inside functions, as you've seen before:\\n\\nspeed <- 31\\nprint(paste(Your speed is, speed))\\n\\nNotice that both the print() and paste() functions use the ellipsis - ... - as an argument. Can you figure out how they're used?\\n\""
      ]
     },
     "metadata": {},
     "output_type": "display_data"
    },
    {
     "data": {
      "text/html": [
       "'\\nUse abs() on linkedin - facebook to get the absolute differences between the daily LinkedIn and Facebook profile views. Place the call to abs() inside mean() to calculate the Mean Absolute Deviation. In the mean() call, make sure to specify na.rm to treat missing values correctly!\\n'"
      ],
      "text/latex": [
       "'\\textbackslash{}nUse abs() on linkedin - facebook to get the absolute differences between the daily LinkedIn and Facebook profile views. Place the call to abs() inside mean() to calculate the Mean Absolute Deviation. In the mean() call, make sure to specify na.rm to treat missing values correctly!\\textbackslash{}n'"
      ],
      "text/markdown": [
       "'\\nUse abs() on linkedin - facebook to get the absolute differences between the daily LinkedIn and Facebook profile views. Place the call to abs() inside mean() to calculate the Mean Absolute Deviation. In the mean() call, make sure to specify na.rm to treat missing values correctly!\\n'"
      ],
      "text/plain": [
       "[1] \"\\nUse abs() on linkedin - facebook to get the absolute differences between the daily LinkedIn and Facebook profile views. Place the call to abs() inside mean() to calculate the Mean Absolute Deviation. In the mean() call, make sure to specify na.rm to treat missing values correctly!\\n\""
      ]
     },
     "metadata": {},
     "output_type": "display_data"
    },
    {
     "data": {
      "text/html": [
       "4.8"
      ],
      "text/latex": [
       "4.8"
      ],
      "text/markdown": [
       "4.8"
      ],
      "text/plain": [
       "[1] 4.8"
      ]
     },
     "metadata": {},
     "output_type": "display_data"
    },
    {
     "data": {
      "text/html": [
       "'\\nExcellent! Proceed to the next exercise. \\n'"
      ],
      "text/latex": [
       "'\\textbackslash{}nExcellent! Proceed to the next exercise. \\textbackslash{}n'"
      ],
      "text/markdown": [
       "'\\nExcellent! Proceed to the next exercise. \\n'"
      ],
      "text/plain": [
       "[1] \"\\nExcellent! Proceed to the next exercise. \\n\""
      ]
     },
     "metadata": {},
     "output_type": "display_data"
    }
   ],
   "source": [
    "# exercise 05\n",
    "\n",
    "\"\n",
    "Functions inside functions\n",
    "\n",
    "You already know that R functions return objects that you can then use somewhere else. This makes it easy to use functions inside functions, as you've seen before:\n",
    "\n",
    "speed <- 31\n",
    "print(paste(Your speed is, speed))\n",
    "\n",
    "Notice that both the print() and paste() functions use the ellipsis - ... - as an argument. Can you figure out how they're used?\n",
    "\"\n",
    "\n",
    "# Instructions\n",
    "\n",
    "\"\n",
    "Use abs() on linkedin - facebook to get the absolute differences between the daily LinkedIn and Facebook profile views. Place the call to abs() inside mean() to calculate the Mean Absolute Deviation. In the mean() call, make sure to specify na.rm to treat missing values correctly!\n",
    "\"\n",
    "\n",
    "# solution\n",
    "\n",
    "# The linkedin and facebook vectors have already been created for you\n",
    "linkedin <- c(16, 9, 13, 5, NA, 17, 14)\n",
    "facebook <- c(17, NA, 5, 16, 8, 13, 14)\n",
    "\n",
    "# Calculate the mean absolute deviation\n",
    "mean(abs(linkedin - facebook), na.rm=TRUE)\n",
    "\n",
    "#----------------------------------#\n",
    "\n",
    "# Conclusion\n",
    "\n",
    "\"\n",
    "Excellent! Proceed to the next exercise. \n",
    "\""
   ]
  },
  {
   "cell_type": "markdown",
   "metadata": {},
   "source": [
    "# Required, or optional?\n",
    "\n",
    "By now, you will probably have a good understanding of the difference between required and optional arguments. Let's refresh this difference by having one last look at the mean() function:\n",
    "\n",
    "mean(x, trim = 0, na.rm = FALSE, ...)\n",
    "\n",
    "x is required; if you do not specify it, R will throw an error. trim and na.rm are optional arguments: they have a default value which is used if the arguments are not explicitly specified.\n",
    "\n",
    "Which of the following statements about the read.table() function are true?\n",
    "\n",
    "1.    header, sep and quote are all optional arguments.\n",
    "2.    row.names and fileEncoding don't have default values.\n",
    "3.    read.table(\"myfile.txt\", \"-\", TRUE) will throw an error.\n",
    "4.    read.table(\"myfile.txt\", sep = \"-\", header = TRUE) will throw an error.\n",
    "\n",
    "### Answer\n",
    " 1 and 3\n",
    "\n",
    "**Great! Using functions that are already available in R is pretty straightforward, but how about writing your own functions to supercharge your R programs? The next video will tell you how.**"
   ]
  },
  {
   "cell_type": "code",
   "execution_count": 18,
   "metadata": {
    "tags": [],
    "vscode": {
     "languageId": "r"
    }
   },
   "outputs": [
    {
     "data": {
      "text/html": [
       "<span style=white-space:pre-wrap>'\\nWrite your own function\\n\\nWow, things are getting serious… you\\'re about to write your own function! Before you have a go at it, have a look at the following function template:\\n\\nmy_fun &lt;- function(arg1, arg2) {\\n  body\\n}\\n\\nNotice that this recipe uses the assignment operator (&lt;-) just as if you were assigning a vector to a variable for example. This is not a coincidence. Creating a function in R basically is the assignment of a function object to a variable! In the recipe above, you\\'re creating a new R variable my_fun, that becomes available in the workspace as soon as you execute the definition. From then on, you can use the my_fun as a function.\\n'</span>"
      ],
      "text/latex": [
       "'\\textbackslash{}nWrite your own function\\textbackslash{}n\\textbackslash{}nWow, things are getting serious… you\\textbackslash{}'re about to write your own function! Before you have a go at it, have a look at the following function template:\\textbackslash{}n\\textbackslash{}nmy\\_fun <- function(arg1, arg2) \\{\\textbackslash{}n  body\\textbackslash{}n\\}\\textbackslash{}n\\textbackslash{}nNotice that this recipe uses the assignment operator (<-) just as if you were assigning a vector to a variable for example. This is not a coincidence. Creating a function in R basically is the assignment of a function object to a variable! In the recipe above, you\\textbackslash{}'re creating a new R variable my\\_fun, that becomes available in the workspace as soon as you execute the definition. From then on, you can use the my\\_fun as a function.\\textbackslash{}n'"
      ],
      "text/markdown": [
       "<span style=white-space:pre-wrap>'\\nWrite your own function\\n\\nWow, things are getting serious… you\\'re about to write your own function! Before you have a go at it, have a look at the following function template:\\n\\nmy_fun &lt;- function(arg1, arg2) {\\n  body\\n}\\n\\nNotice that this recipe uses the assignment operator (&lt;-) just as if you were assigning a vector to a variable for example. This is not a coincidence. Creating a function in R basically is the assignment of a function object to a variable! In the recipe above, you\\'re creating a new R variable my_fun, that becomes available in the workspace as soon as you execute the definition. From then on, you can use the my_fun as a function.\\n'</span>"
      ],
      "text/plain": [
       "[1] \"\\nWrite your own function\\n\\nWow, things are getting serious… you're about to write your own function! Before you have a go at it, have a look at the following function template:\\n\\nmy_fun <- function(arg1, arg2) {\\n  body\\n}\\n\\nNotice that this recipe uses the assignment operator (<-) just as if you were assigning a vector to a variable for example. This is not a coincidence. Creating a function in R basically is the assignment of a function object to a variable! In the recipe above, you're creating a new R variable my_fun, that becomes available in the workspace as soon as you execute the definition. From then on, you can use the my_fun as a function.\\n\""
      ]
     },
     "metadata": {},
     "output_type": "display_data"
    },
    {
     "data": {
      "text/html": [
       "<span style=white-space:pre-wrap>'\\n\\n    Create a function pow_two(): it takes one argument and returns that number squared (that number times itself).\\n    Call this newly defined function with 12 as input.\\n    Next, create a function sum_abs(), that takes two arguments and returns the sum of the absolute values of both arguments.\\n    Finally, call the function sum_abs() with arguments -2 and 3 afterwards.\\n\\n'</span>"
      ],
      "text/latex": [
       "'\\textbackslash{}n\\textbackslash{}n    Create a function pow\\_two(): it takes one argument and returns that number squared (that number times itself).\\textbackslash{}n    Call this newly defined function with 12 as input.\\textbackslash{}n    Next, create a function sum\\_abs(), that takes two arguments and returns the sum of the absolute values of both arguments.\\textbackslash{}n    Finally, call the function sum\\_abs() with arguments -2 and 3 afterwards.\\textbackslash{}n\\textbackslash{}n'"
      ],
      "text/markdown": [
       "<span style=white-space:pre-wrap>'\\n\\n    Create a function pow_two(): it takes one argument and returns that number squared (that number times itself).\\n    Call this newly defined function with 12 as input.\\n    Next, create a function sum_abs(), that takes two arguments and returns the sum of the absolute values of both arguments.\\n    Finally, call the function sum_abs() with arguments -2 and 3 afterwards.\\n\\n'</span>"
      ],
      "text/plain": [
       "[1] \"\\n\\n    Create a function pow_two(): it takes one argument and returns that number squared (that number times itself).\\n    Call this newly defined function with 12 as input.\\n    Next, create a function sum_abs(), that takes two arguments and returns the sum of the absolute values of both arguments.\\n    Finally, call the function sum_abs() with arguments -2 and 3 afterwards.\\n\\n\""
      ]
     },
     "metadata": {},
     "output_type": "display_data"
    },
    {
     "data": {
      "text/html": [
       "144"
      ],
      "text/latex": [
       "144"
      ],
      "text/markdown": [
       "144"
      ],
      "text/plain": [
       "[1] 144"
      ]
     },
     "metadata": {},
     "output_type": "display_data"
    },
    {
     "data": {
      "text/html": [
       "5"
      ],
      "text/latex": [
       "5"
      ],
      "text/markdown": [
       "5"
      ],
      "text/plain": [
       "[1] 5"
      ]
     },
     "metadata": {},
     "output_type": "display_data"
    },
    {
     "data": {
      "text/html": [
       "'\\nGreat! Step it up a notch in the next exercise! \\n'"
      ],
      "text/latex": [
       "'\\textbackslash{}nGreat! Step it up a notch in the next exercise! \\textbackslash{}n'"
      ],
      "text/markdown": [
       "'\\nGreat! Step it up a notch in the next exercise! \\n'"
      ],
      "text/plain": [
       "[1] \"\\nGreat! Step it up a notch in the next exercise! \\n\""
      ]
     },
     "metadata": {},
     "output_type": "display_data"
    }
   ],
   "source": [
    "# exercise 06\n",
    "\n",
    "\"\n",
    "Write your own function\n",
    "\n",
    "Wow, things are getting serious… you're about to write your own function! Before you have a go at it, have a look at the following function template:\n",
    "\n",
    "my_fun <- function(arg1, arg2) {\n",
    "  body\n",
    "}\n",
    "\n",
    "Notice that this recipe uses the assignment operator (<-) just as if you were assigning a vector to a variable for example. This is not a coincidence. Creating a function in R basically is the assignment of a function object to a variable! In the recipe above, you're creating a new R variable my_fun, that becomes available in the workspace as soon as you execute the definition. From then on, you can use the my_fun as a function.\n",
    "\"\n",
    "\n",
    "# Instructions\n",
    "\n",
    "\"\n",
    "\n",
    "    Create a function pow_two(): it takes one argument and returns that number squared (that number times itself).\n",
    "    Call this newly defined function with 12 as input.\n",
    "    Next, create a function sum_abs(), that takes two arguments and returns the sum of the absolute values of both arguments.\n",
    "    Finally, call the function sum_abs() with arguments -2 and 3 afterwards.\n",
    "\n",
    "\"\n",
    "\n",
    "# solution\n",
    "\n",
    "# Create a function pow_two()\n",
    "pow_two <- function(arg) {\n",
    "    arg ** 2\n",
    "}\n",
    "\n",
    "\n",
    "# Use the function\n",
    "pow_two(12)\n",
    "\n",
    "# Create a function sum_abs()\n",
    "\n",
    "sum_abs <- function(a, b){\n",
    "    abs(a) + abs(b)\n",
    "}\n",
    "\n",
    "# Use the function\n",
    "sum_abs(-2,3)\n",
    "\n",
    "#----------------------------------#\n",
    "\n",
    "# Conclusion\n",
    "\n",
    "\"\n",
    "Great! Step it up a notch in the next exercise! \n",
    "\""
   ]
  },
  {
   "cell_type": "code",
   "execution_count": 19,
   "metadata": {
    "tags": [],
    "vscode": {
     "languageId": "r"
    }
   },
   "outputs": [
    {
     "data": {
      "text/html": [
       "<span style=white-space:pre-wrap>'\\nWrite your own function (2)\\n\\nThere are situations in which your function does not require an input. Let\\'s say you want to write a function that gives us the random outcome of throwing a fair die:\\n\\nthrow_die &lt;- function() {\\n  number &lt;- sample(1:6, size = 1)\\n  number\\n}\\n\\nthrow_die()\\n\\nUp to you to code a function that doesn\\'t take any arguments!\\n'</span>"
      ],
      "text/latex": [
       "'\\textbackslash{}nWrite your own function (2)\\textbackslash{}n\\textbackslash{}nThere are situations in which your function does not require an input. Let\\textbackslash{}'s say you want to write a function that gives us the random outcome of throwing a fair die:\\textbackslash{}n\\textbackslash{}nthrow\\_die <- function() \\{\\textbackslash{}n  number <- sample(1:6, size = 1)\\textbackslash{}n  number\\textbackslash{}n\\}\\textbackslash{}n\\textbackslash{}nthrow\\_die()\\textbackslash{}n\\textbackslash{}nUp to you to code a function that doesn\\textbackslash{}'t take any arguments!\\textbackslash{}n'"
      ],
      "text/markdown": [
       "<span style=white-space:pre-wrap>'\\nWrite your own function (2)\\n\\nThere are situations in which your function does not require an input. Let\\'s say you want to write a function that gives us the random outcome of throwing a fair die:\\n\\nthrow_die &lt;- function() {\\n  number &lt;- sample(1:6, size = 1)\\n  number\\n}\\n\\nthrow_die()\\n\\nUp to you to code a function that doesn\\'t take any arguments!\\n'</span>"
      ],
      "text/plain": [
       "[1] \"\\nWrite your own function (2)\\n\\nThere are situations in which your function does not require an input. Let's say you want to write a function that gives us the random outcome of throwing a fair die:\\n\\nthrow_die <- function() {\\n  number <- sample(1:6, size = 1)\\n  number\\n}\\n\\nthrow_die()\\n\\nUp to you to code a function that doesn't take any arguments!\\n\""
      ]
     },
     "metadata": {},
     "output_type": "display_data"
    },
    {
     "data": {
      "text/html": [
       "<span style=white-space:pre-wrap>'\\n\\n    Define a function, hello(). It prints out Hi there! and returns TRUE. It has no arguments.\\n    Call the function hello(), without specifying arguments of course.\\n\\n'</span>"
      ],
      "text/latex": [
       "'\\textbackslash{}n\\textbackslash{}n    Define a function, hello(). It prints out Hi there! and returns TRUE. It has no arguments.\\textbackslash{}n    Call the function hello(), without specifying arguments of course.\\textbackslash{}n\\textbackslash{}n'"
      ],
      "text/markdown": [
       "<span style=white-space:pre-wrap>'\\n\\n    Define a function, hello(). It prints out Hi there! and returns TRUE. It has no arguments.\\n    Call the function hello(), without specifying arguments of course.\\n\\n'</span>"
      ],
      "text/plain": [
       "[1] \"\\n\\n    Define a function, hello(). It prints out Hi there! and returns TRUE. It has no arguments.\\n    Call the function hello(), without specifying arguments of course.\\n\\n\""
      ]
     },
     "metadata": {},
     "output_type": "display_data"
    },
    {
     "name": "stdout",
     "output_type": "stream",
     "text": [
      "[1] \"Hi there!\"\n"
     ]
    },
    {
     "data": {
      "text/html": [
       "TRUE"
      ],
      "text/latex": [
       "TRUE"
      ],
      "text/markdown": [
       "TRUE"
      ],
      "text/plain": [
       "[1] TRUE"
      ]
     },
     "metadata": {},
     "output_type": "display_data"
    },
    {
     "data": {
      "text/html": [
       "'\\nTruly impressive! Head over to the next exercise. \\n'"
      ],
      "text/latex": [
       "'\\textbackslash{}nTruly impressive! Head over to the next exercise. \\textbackslash{}n'"
      ],
      "text/markdown": [
       "'\\nTruly impressive! Head over to the next exercise. \\n'"
      ],
      "text/plain": [
       "[1] \"\\nTruly impressive! Head over to the next exercise. \\n\""
      ]
     },
     "metadata": {},
     "output_type": "display_data"
    }
   ],
   "source": [
    "# exercise 07\n",
    "\n",
    "\"\n",
    "Write your own function (2)\n",
    "\n",
    "There are situations in which your function does not require an input. Let's say you want to write a function that gives us the random outcome of throwing a fair die:\n",
    "\n",
    "throw_die <- function() {\n",
    "  number <- sample(1:6, size = 1)\n",
    "  number\n",
    "}\n",
    "\n",
    "throw_die()\n",
    "\n",
    "Up to you to code a function that doesn't take any arguments!\n",
    "\"\n",
    "\n",
    "# Instructions\n",
    "\n",
    "\"\n",
    "\n",
    "    Define a function, hello(). It prints out Hi there! and returns TRUE. It has no arguments.\n",
    "    Call the function hello(), without specifying arguments of course.\n",
    "\n",
    "\"\n",
    "\n",
    "# solution\n",
    "\n",
    "# Define the function hello()\n",
    "hello <- function(){\n",
    "    print(\"Hi there!\")\n",
    "    return (TRUE)\n",
    "}\n",
    "\n",
    "\n",
    "\n",
    "\n",
    "# Call the function hello()\n",
    "hello()\n",
    "\n",
    "#----------------------------------#\n",
    "\n",
    "# Conclusion\n",
    "\n",
    "\"\n",
    "Truly impressive! Head over to the next exercise. \n",
    "\""
   ]
  },
  {
   "cell_type": "code",
   "execution_count": 20,
   "metadata": {
    "tags": [],
    "vscode": {
     "languageId": "r"
    }
   },
   "outputs": [
    {
     "data": {
      "text/html": [
       "<span style=white-space:pre-wrap>'\\nWrite your own function (3)\\n\\nDo you still remember the difference between an argument with and without default values? The usage section in the sd() documentation shows the following information:\\n\\nsd(x, na.rm = FALSE)\\n\\nThis tells us that x has to be defined for the sd() function to be called correctly, however, na.rm already has a default value. Not specifying this argument won\\'t cause an error.\\n\\nYou can define default argument values in your own R functions as well. You can use the following recipe to do so:\\n\\nmy_fun &lt;- function(arg1, arg2 = val2) {\\n  body\\n}\\n\\nThe editor on the right already includes an extended version of the pow_two() function from before. Can you finish it?\\n'</span>"
      ],
      "text/latex": [
       "'\\textbackslash{}nWrite your own function (3)\\textbackslash{}n\\textbackslash{}nDo you still remember the difference between an argument with and without default values? The usage section in the sd() documentation shows the following information:\\textbackslash{}n\\textbackslash{}nsd(x, na.rm = FALSE)\\textbackslash{}n\\textbackslash{}nThis tells us that x has to be defined for the sd() function to be called correctly, however, na.rm already has a default value. Not specifying this argument won\\textbackslash{}'t cause an error.\\textbackslash{}n\\textbackslash{}nYou can define default argument values in your own R functions as well. You can use the following recipe to do so:\\textbackslash{}n\\textbackslash{}nmy\\_fun <- function(arg1, arg2 = val2) \\{\\textbackslash{}n  body\\textbackslash{}n\\}\\textbackslash{}n\\textbackslash{}nThe editor on the right already includes an extended version of the pow\\_two() function from before. Can you finish it?\\textbackslash{}n'"
      ],
      "text/markdown": [
       "<span style=white-space:pre-wrap>'\\nWrite your own function (3)\\n\\nDo you still remember the difference between an argument with and without default values? The usage section in the sd() documentation shows the following information:\\n\\nsd(x, na.rm = FALSE)\\n\\nThis tells us that x has to be defined for the sd() function to be called correctly, however, na.rm already has a default value. Not specifying this argument won\\'t cause an error.\\n\\nYou can define default argument values in your own R functions as well. You can use the following recipe to do so:\\n\\nmy_fun &lt;- function(arg1, arg2 = val2) {\\n  body\\n}\\n\\nThe editor on the right already includes an extended version of the pow_two() function from before. Can you finish it?\\n'</span>"
      ],
      "text/plain": [
       "[1] \"\\nWrite your own function (3)\\n\\nDo you still remember the difference between an argument with and without default values? The usage section in the sd() documentation shows the following information:\\n\\nsd(x, na.rm = FALSE)\\n\\nThis tells us that x has to be defined for the sd() function to be called correctly, however, na.rm already has a default value. Not specifying this argument won't cause an error.\\n\\nYou can define default argument values in your own R functions as well. You can use the following recipe to do so:\\n\\nmy_fun <- function(arg1, arg2 = val2) {\\n  body\\n}\\n\\nThe editor on the right already includes an extended version of the pow_two() function from before. Can you finish it?\\n\""
      ]
     },
     "metadata": {},
     "output_type": "display_data"
    },
    {
     "data": {
      "text/html": [
       "<span style=white-space:pre-wrap>'\\n\\n    Add an optional argument, named print_info, that is TRUE by default.\\n    Wrap an if construct around the print() function: this function should only be executed if print_info is TRUE.\\n    Feel free to experiment with the pow_two() function you\\'ve just coded.\\n\\n'</span>"
      ],
      "text/latex": [
       "'\\textbackslash{}n\\textbackslash{}n    Add an optional argument, named print\\_info, that is TRUE by default.\\textbackslash{}n    Wrap an if construct around the print() function: this function should only be executed if print\\_info is TRUE.\\textbackslash{}n    Feel free to experiment with the pow\\_two() function you\\textbackslash{}'ve just coded.\\textbackslash{}n\\textbackslash{}n'"
      ],
      "text/markdown": [
       "<span style=white-space:pre-wrap>'\\n\\n    Add an optional argument, named print_info, that is TRUE by default.\\n    Wrap an if construct around the print() function: this function should only be executed if print_info is TRUE.\\n    Feel free to experiment with the pow_two() function you\\'ve just coded.\\n\\n'</span>"
      ],
      "text/plain": [
       "[1] \"\\n\\n    Add an optional argument, named print_info, that is TRUE by default.\\n    Wrap an if construct around the print() function: this function should only be executed if print_info is TRUE.\\n    Feel free to experiment with the pow_two() function you've just coded.\\n\\n\""
      ]
     },
     "metadata": {},
     "output_type": "display_data"
    },
    {
     "data": {
      "text/html": [
       "'\\nWonderful! Have you tried calling this pow_two() function? Try pow_two(5), pow_two(5, TRUE) and pow_two(5, FALSE). Which ones give different results? \\n'"
      ],
      "text/latex": [
       "'\\textbackslash{}nWonderful! Have you tried calling this pow\\_two() function? Try pow\\_two(5), pow\\_two(5, TRUE) and pow\\_two(5, FALSE). Which ones give different results? \\textbackslash{}n'"
      ],
      "text/markdown": [
       "'\\nWonderful! Have you tried calling this pow_two() function? Try pow_two(5), pow_two(5, TRUE) and pow_two(5, FALSE). Which ones give different results? \\n'"
      ],
      "text/plain": [
       "[1] \"\\nWonderful! Have you tried calling this pow_two() function? Try pow_two(5), pow_two(5, TRUE) and pow_two(5, FALSE). Which ones give different results? \\n\""
      ]
     },
     "metadata": {},
     "output_type": "display_data"
    }
   ],
   "source": [
    "# exercise 08\n",
    "\n",
    "\"\n",
    "Write your own function (3)\n",
    "\n",
    "Do you still remember the difference between an argument with and without default values? The usage section in the sd() documentation shows the following information:\n",
    "\n",
    "sd(x, na.rm = FALSE)\n",
    "\n",
    "This tells us that x has to be defined for the sd() function to be called correctly, however, na.rm already has a default value. Not specifying this argument won't cause an error.\n",
    "\n",
    "You can define default argument values in your own R functions as well. You can use the following recipe to do so:\n",
    "\n",
    "my_fun <- function(arg1, arg2 = val2) {\n",
    "  body\n",
    "}\n",
    "\n",
    "The editor on the right already includes an extended version of the pow_two() function from before. Can you finish it?\n",
    "\"\n",
    "\n",
    "# Instructions\n",
    "\n",
    "\"\n",
    "\n",
    "    Add an optional argument, named print_info, that is TRUE by default.\n",
    "    Wrap an if construct around the print() function: this function should only be executed if print_info is TRUE.\n",
    "    Feel free to experiment with the pow_two() function you've just coded.\n",
    "\n",
    "\"\n",
    "\n",
    "# solution\n",
    "\n",
    "# Finish the pow_two() function\n",
    "pow_two <- function(x, print_info=TRUE) {\n",
    "  y <- x ^ 2\n",
    "  if (print_info){\n",
    "    print(paste(x, \"to the power two equals\", y))\n",
    "    }\n",
    "  return(y)\n",
    "}\n",
    "\n",
    "#----------------------------------#\n",
    "\n",
    "# Conclusion\n",
    "\n",
    "\"\n",
    "Wonderful! Have you tried calling this pow_two() function? Try pow_two(5), pow_two(5, TRUE) and pow_two(5, FALSE). Which ones give different results? \n",
    "\""
   ]
  },
  {
   "cell_type": "markdown",
   "metadata": {},
   "source": [
    "# Function scoping\n",
    "\n",
    "An issue that Filip did not discuss in the video is function scoping. It implies that variables that are defined inside a function are not accessible outside that function. Try running the following code and see if you understand the results:\n",
    "\n",
    "pow_two <- function(x) {\n",
    "  y <- x ^ 2\n",
    "  return(y)\n",
    "}\n",
    "pow_two(4)\n",
    "y\n",
    "x\n",
    "\n",
    "y was defined inside the pow_two() function and therefore it is not accessible outside of that function. This is also true for the function's arguments of course - x in this case.\n",
    "\n",
    "Which statement is correct about the following chunk of code? The function two_dice() is already available in the workspace.\n",
    "\n",
    "two_dice <- function() {\n",
    "  possibilities <- 1:6\n",
    "  dice1 <- sample(possibilities, size = 1)\n",
    "  dice2 <- sample(possibilities, size = 1)\n",
    "  dice1 + dice2\n",
    "}\n",
    "\n",
    "### Answer\n",
    "Whatever way of calling the two_dice() fuction, R won't have access tp dice1 and dice2 outside the function\n",
    "\n",
    "**Great! If you're familiar with other programming languages, you might wonder whether R passes arguments by value or by reference. Find out in the next exercise!**"
   ]
  },
  {
   "cell_type": "markdown",
   "metadata": {},
   "source": [
    "# R passes arguments by value\n",
    "\n",
    "The title gives it away already: R passes arguments by value. What does this mean? Simply put, it means that an R function cannot change the variable that you input to that function. Let's look at a simple example (try it in the console):\n",
    "\n",
    "triple <- function(x) {\n",
    "  x <- 3*x\n",
    "  x\n",
    "}\n",
    "a <- 5\n",
    "triple(a)\n",
    "a\n",
    "\n",
    "Inside the triple() function, the argument x gets overwritten with its value times three. Afterwards this new x is returned. If you call this function with a variable a set equal to 5, you obtain 15. But did the value of a change? If R were to pass a to triple() by reference, the override of the x inside the function would ripple through to the variable a, outside the function. However, R passes by value, so the R objects you pass to a function can never change unless you do an explicit assignment. a remains equal to 5, even after calling triple(a).\n",
    "\n",
    "Can you tell which one of the following statements is false about the following piece of code?\n",
    "\n",
    "increment <- function(x, inc = 1) {\n",
    "  x <- x + inc\n",
    "  x\n",
    "}\n",
    "count <- 5\n",
    "a <- increment(count, 2)\n",
    "b <- increment(count)\n",
    "count <- increment(count, 2)\n",
    "\n",
    "### Answer\n",
    "In the end, count willl equal 10 (False)\n",
    "\n",
    "**Well done! Given that R passes arguments by value and not by reference, the value of count is not changed after the first two calls of increment(). Only in the final expression, where count is re-assigned explicitly, does the value of count change.**"
   ]
  },
  {
   "cell_type": "code",
   "execution_count": 22,
   "metadata": {
    "tags": [],
    "vscode": {
     "languageId": "r"
    }
   },
   "outputs": [
    {
     "data": {
      "text/html": [
       "'\\nR you functional?\\n\\nNow that you\\'ve acquired some skills in defining functions with different types of arguments and return values, you should try to create more advanced functions. As you\\'ve noticed in the previous exercises, it\\'s perfectly possible to add control-flow constructs, loops and even other functions to your function body.\\n\\nRemember our social media example? The vectors linkedin and facebook are already defined in the workspace so you can get your hands dirty straight away. As a first step, you will be writing a function that can interpret a single value of this vector. In the next exercise, you will write another function that can handle an entire vector at once.\\n'"
      ],
      "text/latex": [
       "'\\textbackslash{}nR you functional?\\textbackslash{}n\\textbackslash{}nNow that you\\textbackslash{}'ve acquired some skills in defining functions with different types of arguments and return values, you should try to create more advanced functions. As you\\textbackslash{}'ve noticed in the previous exercises, it\\textbackslash{}'s perfectly possible to add control-flow constructs, loops and even other functions to your function body.\\textbackslash{}n\\textbackslash{}nRemember our social media example? The vectors linkedin and facebook are already defined in the workspace so you can get your hands dirty straight away. As a first step, you will be writing a function that can interpret a single value of this vector. In the next exercise, you will write another function that can handle an entire vector at once.\\textbackslash{}n'"
      ],
      "text/markdown": [
       "'\\nR you functional?\\n\\nNow that you\\'ve acquired some skills in defining functions with different types of arguments and return values, you should try to create more advanced functions. As you\\'ve noticed in the previous exercises, it\\'s perfectly possible to add control-flow constructs, loops and even other functions to your function body.\\n\\nRemember our social media example? The vectors linkedin and facebook are already defined in the workspace so you can get your hands dirty straight away. As a first step, you will be writing a function that can interpret a single value of this vector. In the next exercise, you will write another function that can handle an entire vector at once.\\n'"
      ],
      "text/plain": [
       "[1] \"\\nR you functional?\\n\\nNow that you've acquired some skills in defining functions with different types of arguments and return values, you should try to create more advanced functions. As you've noticed in the previous exercises, it's perfectly possible to add control-flow constructs, loops and even other functions to your function body.\\n\\nRemember our social media example? The vectors linkedin and facebook are already defined in the workspace so you can get your hands dirty straight away. As a first step, you will be writing a function that can interpret a single value of this vector. In the next exercise, you will write another function that can handle an entire vector at once.\\n\""
      ]
     },
     "metadata": {},
     "output_type": "display_data"
    },
    {
     "data": {
      "text/html": [
       "<span style=white-space:pre-wrap>'\\n\\n    Finish the function definition for interpret(), that interprets the number of profile views on a single day:\\n    The function takes one argument, num_views.\\n    If num_views is greater than 15, the function prints out You\\'re popular! to the console and returns num_views.\\n    Else, the function prints out Try to be more visible! and returns 0.\\n    Finally, call the interpret() function twice: on the first value of the linkedin vector and on the second element of the facebook vector.\\n\\n\\n'</span>"
      ],
      "text/latex": [
       "'\\textbackslash{}n\\textbackslash{}n    Finish the function definition for interpret(), that interprets the number of profile views on a single day:\\textbackslash{}n    The function takes one argument, num\\_views.\\textbackslash{}n    If num\\_views is greater than 15, the function prints out You\\textbackslash{}'re popular! to the console and returns num\\_views.\\textbackslash{}n    Else, the function prints out Try to be more visible! and returns 0.\\textbackslash{}n    Finally, call the interpret() function twice: on the first value of the linkedin vector and on the second element of the facebook vector.\\textbackslash{}n\\textbackslash{}n\\textbackslash{}n'"
      ],
      "text/markdown": [
       "<span style=white-space:pre-wrap>'\\n\\n    Finish the function definition for interpret(), that interprets the number of profile views on a single day:\\n    The function takes one argument, num_views.\\n    If num_views is greater than 15, the function prints out You\\'re popular! to the console and returns num_views.\\n    Else, the function prints out Try to be more visible! and returns 0.\\n    Finally, call the interpret() function twice: on the first value of the linkedin vector and on the second element of the facebook vector.\\n\\n\\n'</span>"
      ],
      "text/plain": [
       "[1] \"\\n\\n    Finish the function definition for interpret(), that interprets the number of profile views on a single day:\\n    The function takes one argument, num_views.\\n    If num_views is greater than 15, the function prints out You're popular! to the console and returns num_views.\\n    Else, the function prints out Try to be more visible! and returns 0.\\n    Finally, call the interpret() function twice: on the first value of the linkedin vector and on the second element of the facebook vector.\\n\\n\\n\""
      ]
     },
     "metadata": {},
     "output_type": "display_data"
    },
    {
     "name": "stdout",
     "output_type": "stream",
     "text": [
      "[1] \"You're popular!\"\n"
     ]
    },
    {
     "data": {
      "text/html": [
       "16"
      ],
      "text/latex": [
       "16"
      ],
      "text/markdown": [
       "16"
      ],
      "text/plain": [
       "[1] 16"
      ]
     },
     "metadata": {},
     "output_type": "display_data"
    },
    {
     "name": "stdout",
     "output_type": "stream",
     "text": [
      "[1] \"Try to be more visible!\"\n"
     ]
    },
    {
     "data": {
      "text/html": [
       "0"
      ],
      "text/latex": [
       "0"
      ],
      "text/markdown": [
       "0"
      ],
      "text/plain": [
       "[1] 0"
      ]
     },
     "metadata": {},
     "output_type": "display_data"
    },
    {
     "data": {
      "text/html": [
       "'\\nFunkadelic! The annoying thing here is that interpret() only takes one argument. Proceed to the next exercise to implement something more useful. \\n'"
      ],
      "text/latex": [
       "'\\textbackslash{}nFunkadelic! The annoying thing here is that interpret() only takes one argument. Proceed to the next exercise to implement something more useful. \\textbackslash{}n'"
      ],
      "text/markdown": [
       "'\\nFunkadelic! The annoying thing here is that interpret() only takes one argument. Proceed to the next exercise to implement something more useful. \\n'"
      ],
      "text/plain": [
       "[1] \"\\nFunkadelic! The annoying thing here is that interpret() only takes one argument. Proceed to the next exercise to implement something more useful. \\n\""
      ]
     },
     "metadata": {},
     "output_type": "display_data"
    }
   ],
   "source": [
    "# exercise 09\n",
    "\n",
    "\"\n",
    "R you functional?\n",
    "\n",
    "Now that you've acquired some skills in defining functions with different types of arguments and return values, you should try to create more advanced functions. As you've noticed in the previous exercises, it's perfectly possible to add control-flow constructs, loops and even other functions to your function body.\n",
    "\n",
    "Remember our social media example? The vectors linkedin and facebook are already defined in the workspace so you can get your hands dirty straight away. As a first step, you will be writing a function that can interpret a single value of this vector. In the next exercise, you will write another function that can handle an entire vector at once.\n",
    "\"\n",
    "\n",
    "# Instructions\n",
    "\n",
    "\"\n",
    "\n",
    "    Finish the function definition for interpret(), that interprets the number of profile views on a single day:\n",
    "    The function takes one argument, num_views.\n",
    "    If num_views is greater than 15, the function prints out You're popular! to the console and returns num_views.\n",
    "    Else, the function prints out Try to be more visible! and returns 0.\n",
    "    Finally, call the interpret() function twice: on the first value of the linkedin vector and on the second element of the facebook vector.\n",
    "\n",
    "\n",
    "\"\n",
    "\n",
    "# solution\n",
    "linkedin <- c(16,9,13,5,2,17,14)\n",
    "facebook <- c(17,7,5,16,8,13,14)\n",
    "# The linkedin and facebook vectors have already been created for you\n",
    "\n",
    "# Define the interpret function\n",
    "interpret <- function(num_views) {\n",
    "  if (num_views > 15) {\n",
    "      print(\"You're popular!\")\n",
    "      return (num_views)\n",
    "\n",
    "  } else {\n",
    "    print(\"Try to be more visible!\")\n",
    "    return (0)\n",
    "\n",
    "  }\n",
    "}\n",
    "\n",
    "# Call the interpret function twice\n",
    "interpret(linkedin[1])\n",
    "interpret(facebook[2])\n",
    "\n",
    "#----------------------------------#\n",
    "\n",
    "# Conclusion\n",
    "\n",
    "\"\n",
    "Funkadelic! The annoying thing here is that interpret() only takes one argument. Proceed to the next exercise to implement something more useful. \n",
    "\""
   ]
  },
  {
   "cell_type": "code",
   "execution_count": 23,
   "metadata": {
    "tags": [],
    "vscode": {
     "languageId": "r"
    }
   },
   "outputs": [
    {
     "data": {
      "text/html": [
       "'\\nR you functional? (2)\\n\\nA possible implementation of the interpret() function has been provided for you. In this exercise you\\'ll be writing another function that will use the interpret() function to interpret all the data from your daily profile views inside a vector. Furthermore, your function will return the sum of views on popular days, if asked for. A for loop is ideal for iterating over all the vector elements. The ability to return the sum of views on popular days is something you can code through a function argument with a default value.\\n'"
      ],
      "text/latex": [
       "'\\textbackslash{}nR you functional? (2)\\textbackslash{}n\\textbackslash{}nA possible implementation of the interpret() function has been provided for you. In this exercise you\\textbackslash{}'ll be writing another function that will use the interpret() function to interpret all the data from your daily profile views inside a vector. Furthermore, your function will return the sum of views on popular days, if asked for. A for loop is ideal for iterating over all the vector elements. The ability to return the sum of views on popular days is something you can code through a function argument with a default value.\\textbackslash{}n'"
      ],
      "text/markdown": [
       "'\\nR you functional? (2)\\n\\nA possible implementation of the interpret() function has been provided for you. In this exercise you\\'ll be writing another function that will use the interpret() function to interpret all the data from your daily profile views inside a vector. Furthermore, your function will return the sum of views on popular days, if asked for. A for loop is ideal for iterating over all the vector elements. The ability to return the sum of views on popular days is something you can code through a function argument with a default value.\\n'"
      ],
      "text/plain": [
       "[1] \"\\nR you functional? (2)\\n\\nA possible implementation of the interpret() function has been provided for you. In this exercise you'll be writing another function that will use the interpret() function to interpret all the data from your daily profile views inside a vector. Furthermore, your function will return the sum of views on popular days, if asked for. A for loop is ideal for iterating over all the vector elements. The ability to return the sum of views on popular days is something you can code through a function argument with a default value.\\n\""
      ]
     },
     "metadata": {},
     "output_type": "display_data"
    },
    {
     "data": {
      "text/html": [
       "<span style=white-space:pre-wrap>'\\nFinish the template for the interpret_all() function:\\n\\n    Make return_sum an optional argument, that is TRUE by default.\\n    Inside the for loop, iterate over all views: on every iteration, add the result of interpret(v) to count. Remember that interpret(v) returns v for popular days, and 0 otherwise. At the same time, interpret(v) will also do some printouts.\\n    Finish the if construct:\\n    If return_sum is TRUE, return count.\\n    Else, return NULL.\\n\\nCall this newly defined function on both linkedin and facebook.\\n'</span>"
      ],
      "text/latex": [
       "'\\textbackslash{}nFinish the template for the interpret\\_all() function:\\textbackslash{}n\\textbackslash{}n    Make return\\_sum an optional argument, that is TRUE by default.\\textbackslash{}n    Inside the for loop, iterate over all views: on every iteration, add the result of interpret(v) to count. Remember that interpret(v) returns v for popular days, and 0 otherwise. At the same time, interpret(v) will also do some printouts.\\textbackslash{}n    Finish the if construct:\\textbackslash{}n    If return\\_sum is TRUE, return count.\\textbackslash{}n    Else, return NULL.\\textbackslash{}n\\textbackslash{}nCall this newly defined function on both linkedin and facebook.\\textbackslash{}n'"
      ],
      "text/markdown": [
       "<span style=white-space:pre-wrap>'\\nFinish the template for the interpret_all() function:\\n\\n    Make return_sum an optional argument, that is TRUE by default.\\n    Inside the for loop, iterate over all views: on every iteration, add the result of interpret(v) to count. Remember that interpret(v) returns v for popular days, and 0 otherwise. At the same time, interpret(v) will also do some printouts.\\n    Finish the if construct:\\n    If return_sum is TRUE, return count.\\n    Else, return NULL.\\n\\nCall this newly defined function on both linkedin and facebook.\\n'</span>"
      ],
      "text/plain": [
       "[1] \"\\nFinish the template for the interpret_all() function:\\n\\n    Make return_sum an optional argument, that is TRUE by default.\\n    Inside the for loop, iterate over all views: on every iteration, add the result of interpret(v) to count. Remember that interpret(v) returns v for popular days, and 0 otherwise. At the same time, interpret(v) will also do some printouts.\\n    Finish the if construct:\\n    If return_sum is TRUE, return count.\\n    Else, return NULL.\\n\\nCall this newly defined function on both linkedin and facebook.\\n\""
      ]
     },
     "metadata": {},
     "output_type": "display_data"
    },
    {
     "name": "stdout",
     "output_type": "stream",
     "text": [
      "[1] \"You're popular!\"\n",
      "[1] \"Try to be more visible!\"\n",
      "[1] \"Try to be more visible!\"\n",
      "[1] \"Try to be more visible!\"\n",
      "[1] \"Try to be more visible!\"\n",
      "[1] \"You're popular!\"\n",
      "[1] \"Try to be more visible!\"\n"
     ]
    },
    {
     "data": {
      "text/html": [
       "33"
      ],
      "text/latex": [
       "33"
      ],
      "text/markdown": [
       "33"
      ],
      "text/plain": [
       "[1] 33"
      ]
     },
     "metadata": {},
     "output_type": "display_data"
    },
    {
     "name": "stdout",
     "output_type": "stream",
     "text": [
      "[1] \"You're popular!\"\n",
      "[1] \"Try to be more visible!\"\n",
      "[1] \"Try to be more visible!\"\n",
      "[1] \"You're popular!\"\n",
      "[1] \"Try to be more visible!\"\n",
      "[1] \"Try to be more visible!\"\n",
      "[1] \"Try to be more visible!\"\n"
     ]
    },
    {
     "data": {
      "text/html": [
       "33"
      ],
      "text/latex": [
       "33"
      ],
      "text/markdown": [
       "33"
      ],
      "text/plain": [
       "[1] 33"
      ]
     },
     "metadata": {},
     "output_type": "display_data"
    },
    {
     "data": {
      "text/html": [
       "'\\nPerfect! Have a look at the results; it appears that the sum of views on popular days are the same for Facebook and LinkedIn, what a coincidence! Your different social profiles must be fairly balanced ;-) Head over to the next video! \\n'"
      ],
      "text/latex": [
       "'\\textbackslash{}nPerfect! Have a look at the results; it appears that the sum of views on popular days are the same for Facebook and LinkedIn, what a coincidence! Your different social profiles must be fairly balanced ;-) Head over to the next video! \\textbackslash{}n'"
      ],
      "text/markdown": [
       "'\\nPerfect! Have a look at the results; it appears that the sum of views on popular days are the same for Facebook and LinkedIn, what a coincidence! Your different social profiles must be fairly balanced ;-) Head over to the next video! \\n'"
      ],
      "text/plain": [
       "[1] \"\\nPerfect! Have a look at the results; it appears that the sum of views on popular days are the same for Facebook and LinkedIn, what a coincidence! Your different social profiles must be fairly balanced ;-) Head over to the next video! \\n\""
      ]
     },
     "metadata": {},
     "output_type": "display_data"
    }
   ],
   "source": [
    "# exercise 10\n",
    "\n",
    "\"\n",
    "R you functional? (2)\n",
    "\n",
    "A possible implementation of the interpret() function has been provided for you. In this exercise you'll be writing another function that will use the interpret() function to interpret all the data from your daily profile views inside a vector. Furthermore, your function will return the sum of views on popular days, if asked for. A for loop is ideal for iterating over all the vector elements. The ability to return the sum of views on popular days is something you can code through a function argument with a default value.\n",
    "\"\n",
    "\n",
    "# Instructions\n",
    "\n",
    "\"\n",
    "Finish the template for the interpret_all() function:\n",
    "\n",
    "    Make return_sum an optional argument, that is TRUE by default.\n",
    "    Inside the for loop, iterate over all views: on every iteration, add the result of interpret(v) to count. Remember that interpret(v) returns v for popular days, and 0 otherwise. At the same time, interpret(v) will also do some printouts.\n",
    "    Finish the if construct:\n",
    "    If return_sum is TRUE, return count.\n",
    "    Else, return NULL.\n",
    "\n",
    "Call this newly defined function on both linkedin and facebook.\n",
    "\"\n",
    "\n",
    "# solution\n",
    "\n",
    "# The linkedin and facebook vectors have already been created for you\n",
    "linkedin <- c(16, 9, 13, 5, 2, 17, 14)\n",
    "facebook <- c(17, 7, 5, 16, 8, 13, 14)\n",
    "\n",
    "# The interpret() can be used inside interpret_all()\n",
    "interpret <- function(num_views) {\n",
    "  if (num_views > 15) {\n",
    "    print(\"You're popular!\")\n",
    "    return(num_views)\n",
    "  } else {\n",
    "    print(\"Try to be more visible!\")\n",
    "    return(0)\n",
    "  }\n",
    "}\n",
    "\n",
    "# Define the interpret_all() function\n",
    "# views: vector with data to interpret\n",
    "# return_sum: return total number of views on popular days?\n",
    "interpret_all <- function(views, return_sum=TRUE) {\n",
    "  count <- 0\n",
    "\n",
    "  for (v in views) {\n",
    "    count <- count + interpret(v)\n",
    "  }\n",
    "\n",
    "  if (return_sum) {\n",
    "    return(count)\n",
    "  } else {\n",
    "    return(NULL)\n",
    "  }\n",
    "}\n",
    "\n",
    "# Call the interpret_all() function on both linkedin and facebook\n",
    "interpret_all(linkedin) \n",
    "interpret_all(facebook) \n",
    "\n",
    "#----------------------------------#\n",
    "\n",
    "# Conclusion\n",
    "\n",
    "\"\n",
    "Perfect! Have a look at the results; it appears that the sum of views on popular days are the same for Facebook and LinkedIn, what a coincidence! Your different social profiles must be fairly balanced ;-) Head over to the next video! \n",
    "\""
   ]
  },
  {
   "cell_type": "code",
   "execution_count": 25,
   "metadata": {
    "vscode": {
     "languageId": "r"
    }
   },
   "outputs": [
    {
     "data": {
      "text/html": [
       "<span style=white-space:pre-wrap>'\\nLoad an R Package\\n\\nThere are basically two extremely important functions when it comes down to R packages:\\n\\n    install.packages(), which as you can expect, installs a given package.\\n    library() which loads packages, i.e. attaches them to the search list on your R workspace.\\n\\nTo install packages, you need administrator privileges. This means that install.packages() will thus not work in the DataCamp interface. However, almost all CRAN packages are installed on our servers. You can load them with library().\\n\\nIn this exercise, you\\'ll be learning how to load the ggplot2 package, a powerful package for data visualization. You\\'ll use it to create a plot of two variables of the mtcars data frame. The data has already been prepared for you in the workspace.\\n\\nBefore starting, execute the following commands in the console:\\n\\n    search(), to look at the currently attached packages and\\n    qplot(mtcars$wt, mtcars$hp), to build a plot of two variables of the mtcars data frame.\\n\\nAn error should occur, because you haven\\'t loaded the ggplot2 package yet!\\n'</span>"
      ],
      "text/latex": [
       "'\\textbackslash{}nLoad an R Package\\textbackslash{}n\\textbackslash{}nThere are basically two extremely important functions when it comes down to R packages:\\textbackslash{}n\\textbackslash{}n    install.packages(), which as you can expect, installs a given package.\\textbackslash{}n    library() which loads packages, i.e. attaches them to the search list on your R workspace.\\textbackslash{}n\\textbackslash{}nTo install packages, you need administrator privileges. This means that install.packages() will thus not work in the DataCamp interface. However, almost all CRAN packages are installed on our servers. You can load them with library().\\textbackslash{}n\\textbackslash{}nIn this exercise, you\\textbackslash{}'ll be learning how to load the ggplot2 package, a powerful package for data visualization. You\\textbackslash{}'ll use it to create a plot of two variables of the mtcars data frame. The data has already been prepared for you in the workspace.\\textbackslash{}n\\textbackslash{}nBefore starting, execute the following commands in the console:\\textbackslash{}n\\textbackslash{}n    search(), to look at the currently attached packages and\\textbackslash{}n    qplot(mtcars\\$wt, mtcars\\$hp), to build a plot of two variables of the mtcars data frame.\\textbackslash{}n\\textbackslash{}nAn error should occur, because you haven\\textbackslash{}'t loaded the ggplot2 package yet!\\textbackslash{}n'"
      ],
      "text/markdown": [
       "<span style=white-space:pre-wrap>'\\nLoad an R Package\\n\\nThere are basically two extremely important functions when it comes down to R packages:\\n\\n    install.packages(), which as you can expect, installs a given package.\\n    library() which loads packages, i.e. attaches them to the search list on your R workspace.\\n\\nTo install packages, you need administrator privileges. This means that install.packages() will thus not work in the DataCamp interface. However, almost all CRAN packages are installed on our servers. You can load them with library().\\n\\nIn this exercise, you\\'ll be learning how to load the ggplot2 package, a powerful package for data visualization. You\\'ll use it to create a plot of two variables of the mtcars data frame. The data has already been prepared for you in the workspace.\\n\\nBefore starting, execute the following commands in the console:\\n\\n    search(), to look at the currently attached packages and\\n    qplot(mtcars$wt, mtcars$hp), to build a plot of two variables of the mtcars data frame.\\n\\nAn error should occur, because you haven\\'t loaded the ggplot2 package yet!\\n'</span>"
      ],
      "text/plain": [
       "[1] \"\\nLoad an R Package\\n\\nThere are basically two extremely important functions when it comes down to R packages:\\n\\n    install.packages(), which as you can expect, installs a given package.\\n    library() which loads packages, i.e. attaches them to the search list on your R workspace.\\n\\nTo install packages, you need administrator privileges. This means that install.packages() will thus not work in the DataCamp interface. However, almost all CRAN packages are installed on our servers. You can load them with library().\\n\\nIn this exercise, you'll be learning how to load the ggplot2 package, a powerful package for data visualization. You'll use it to create a plot of two variables of the mtcars data frame. The data has already been prepared for you in the workspace.\\n\\nBefore starting, execute the following commands in the console:\\n\\n    search(), to look at the currently attached packages and\\n    qplot(mtcars$wt, mtcars$hp), to build a plot of two variables of the mtcars data frame.\\n\\nAn error should occur, because you haven't loaded the ggplot2 package yet!\\n\""
      ]
     },
     "metadata": {},
     "output_type": "display_data"
    },
    {
     "data": {
      "text/html": [
       "<span style=white-space:pre-wrap>'\\n\\n    To fix the error you saw in the console, load the ggplot2 package. Make sure you are loading (and not installing) the package!\\n    Now, retry calling the qplot() function with the same arguments.\\n    Finally, check out the currently attached packages again.\\n\\n'</span>"
      ],
      "text/latex": [
       "'\\textbackslash{}n\\textbackslash{}n    To fix the error you saw in the console, load the ggplot2 package. Make sure you are loading (and not installing) the package!\\textbackslash{}n    Now, retry calling the qplot() function with the same arguments.\\textbackslash{}n    Finally, check out the currently attached packages again.\\textbackslash{}n\\textbackslash{}n'"
      ],
      "text/markdown": [
       "<span style=white-space:pre-wrap>'\\n\\n    To fix the error you saw in the console, load the ggplot2 package. Make sure you are loading (and not installing) the package!\\n    Now, retry calling the qplot() function with the same arguments.\\n    Finally, check out the currently attached packages again.\\n\\n'</span>"
      ],
      "text/plain": [
       "[1] \"\\n\\n    To fix the error you saw in the console, load the ggplot2 package. Make sure you are loading (and not installing) the package!\\n    Now, retry calling the qplot() function with the same arguments.\\n    Finally, check out the currently attached packages again.\\n\\n\""
      ]
     },
     "metadata": {},
     "output_type": "display_data"
    },
    {
     "name": "stderr",
     "output_type": "stream",
     "text": [
      "Warning message:\n",
      "“\u001b[1m\u001b[22m`qplot()` was deprecated in ggplot2 3.4.0.”\n"
     ]
    },
    {
     "data": {
      "text/html": [
       "<style>\n",
       ".list-inline {list-style: none; margin:0; padding: 0}\n",
       ".list-inline>li {display: inline-block}\n",
       ".list-inline>li:not(:last-child)::after {content: \"\\00b7\"; padding: 0 .5ex}\n",
       "</style>\n",
       "<ol class=list-inline><li>'.GlobalEnv'</li><li>'package:ggplot2'</li><li>'jupyter:irkernel'</li><li>'package:stats'</li><li>'package:graphics'</li><li>'package:grDevices'</li><li>'package:utils'</li><li>'package:datasets'</li><li>'package:methods'</li><li>'Autoloads'</li><li>'package:base'</li></ol>\n"
      ],
      "text/latex": [
       "\\begin{enumerate*}\n",
       "\\item '.GlobalEnv'\n",
       "\\item 'package:ggplot2'\n",
       "\\item 'jupyter:irkernel'\n",
       "\\item 'package:stats'\n",
       "\\item 'package:graphics'\n",
       "\\item 'package:grDevices'\n",
       "\\item 'package:utils'\n",
       "\\item 'package:datasets'\n",
       "\\item 'package:methods'\n",
       "\\item 'Autoloads'\n",
       "\\item 'package:base'\n",
       "\\end{enumerate*}\n"
      ],
      "text/markdown": [
       "1. '.GlobalEnv'\n",
       "2. 'package:ggplot2'\n",
       "3. 'jupyter:irkernel'\n",
       "4. 'package:stats'\n",
       "5. 'package:graphics'\n",
       "6. 'package:grDevices'\n",
       "7. 'package:utils'\n",
       "8. 'package:datasets'\n",
       "9. 'package:methods'\n",
       "10. 'Autoloads'\n",
       "11. 'package:base'\n",
       "\n",
       "\n"
      ],
      "text/plain": [
       " [1] \".GlobalEnv\"        \"package:ggplot2\"   \"jupyter:irkernel\" \n",
       " [4] \"package:stats\"     \"package:graphics\"  \"package:grDevices\"\n",
       " [7] \"package:utils\"     \"package:datasets\"  \"package:methods\"  \n",
       "[10] \"Autoloads\"         \"package:base\"     "
      ]
     },
     "metadata": {},
     "output_type": "display_data"
    },
    {
     "data": {
      "text/html": [
       "'\\nAwesome! Notice how search() and library() are closely interconnected functions. Head over to the next exercise. \\n'"
      ],
      "text/latex": [
       "'\\textbackslash{}nAwesome! Notice how search() and library() are closely interconnected functions. Head over to the next exercise. \\textbackslash{}n'"
      ],
      "text/markdown": [
       "'\\nAwesome! Notice how search() and library() are closely interconnected functions. Head over to the next exercise. \\n'"
      ],
      "text/plain": [
       "[1] \"\\nAwesome! Notice how search() and library() are closely interconnected functions. Head over to the next exercise. \\n\""
      ]
     },
     "metadata": {},
     "output_type": "display_data"
    },
    {
     "data": {
      "image/png": "[encoded data removed]",
      "text/plain": [
       "plot without title"
      ]
     },
     "metadata": {
      "image/png": {
       "height": 420,
       "width": 420
      }
     },
     "output_type": "display_data"
    }
   ],
   "source": [
    "# exercise 11\n",
    "\n",
    "\"\n",
    "Load an R Package\n",
    "\n",
    "There are basically two extremely important functions when it comes down to R packages:\n",
    "\n",
    "    install.packages(), which as you can expect, installs a given package.\n",
    "    library() which loads packages, i.e. attaches them to the search list on your R workspace.\n",
    "\n",
    "To install packages, you need administrator privileges. This means that install.packages() will thus not work in the DataCamp interface. However, almost all CRAN packages are installed on our servers. You can load them with library().\n",
    "\n",
    "In this exercise, you'll be learning how to load the ggplot2 package, a powerful package for data visualization. You'll use it to create a plot of two variables of the mtcars data frame. The data has already been prepared for you in the workspace.\n",
    "\n",
    "Before starting, execute the following commands in the console:\n",
    "\n",
    "    search(), to look at the currently attached packages and\n",
    "    qplot(mtcars$wt, mtcars$hp), to build a plot of two variables of the mtcars data frame.\n",
    "\n",
    "An error should occur, because you haven't loaded the ggplot2 package yet!\n",
    "\"\n",
    "\n",
    "# Instructions\n",
    "\n",
    "\"\n",
    "\n",
    "    To fix the error you saw in the console, load the ggplot2 package. Make sure you are loading (and not installing) the package!\n",
    "    Now, retry calling the qplot() function with the same arguments.\n",
    "    Finally, check out the currently attached packages again.\n",
    "\n",
    "\"\n",
    "\n",
    "# solution\n",
    "#install.packages('ggplot2')\n",
    "\n",
    "# Load the ggplot2 package\n",
    "library(\"ggplot2\")\n",
    "\n",
    "# Retry the qplot() function\n",
    "qplot(mtcars$wt, mtcars$hp)\n",
    "\n",
    "# Check out the currently attached packages again\n",
    "search()\n",
    "\n",
    "#----------------------------------#\n",
    "\n",
    "# Conclusion\n",
    "\n",
    "\"\n",
    "Awesome! Notice how search() and library() are closely interconnected functions. Head over to the next exercise. \n",
    "\""
   ]
  },
  {
   "cell_type": "markdown",
   "metadata": {},
   "source": [
    "# Different ways to load a package\n",
    "\n",
    "The library() and require() functions are not very picky when it comes down to argument types: both library(rjson) and library(\"rjson\") work perfectly fine for loading a package.\n",
    "\n",
    "Have a look at some more code chunks that (attempt to) load one or more packages:\n",
    "\n",
    "* Chunk 1\n",
    "library(data.table)\n",
    "require(rjson)\n",
    "\n",
    "* Chunk 2\n",
    "library(\"data.table\")\n",
    "require(rjson)\n",
    "\n",
    "* Chunk 3\n",
    "library(data.table)\n",
    "require(rjson, character.only = TRUE)\n",
    "\n",
    "* Chunk 4\n",
    "library(c(\"data.table\", \"rjson\"))\n",
    "\n",
    "Select the option that lists all of the chunks that do not generate an error. The console is yours to experiment in.\n",
    "\n",
    "### Answer\n",
    "\n",
    "Chunks 1 and 2\n",
    "\n",
    "**Great! Indeed, only chunk 1 and chunk 2 are correct. Can you figure out why the last two aren't valid? This exercise concludes the chapter on functions. Well done!**"
   ]
  }
 ],
 "metadata": {
  "kernelspec": {
   "display_name": "R",
   "language": "R",
   "name": "ir"
  },
  "language_info": {
   "codemirror_mode": "r",
   "file_extension": ".r",
   "mimetype": "text/x-r-source",
   "name": "R",
   "pygments_lexer": "r",
   "version": "4.3.2"
  }
 },
 "nbformat": 4,
 "nbformat_minor": 4
}
