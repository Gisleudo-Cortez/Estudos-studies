{
 "cells": [
  {
   "cell_type": "code",
   "execution_count": 12,
   "metadata": {
    "vscode": {
     "languageId": "r"
    }
   },
   "outputs": [
    {
     "data": {
      "text/html": [
       "<span style=white-space:pre-wrap>'\\nWhat\\'s a matrix?\\n\\nIn R, a matrix is a collection of elements of the same data type (numeric, character, or logical) arranged into a fixed number of rows and columns. Since you are only working with rows and columns, a matrix is called two-dimensional.\\n\\nYou can construct a matrix in R with the matrix() function. Consider the following example:\\n\\nmatrix(1:9, byrow = TRUE, nrow = 3)\\n\\nIn the matrix() function:\\n\\n    The first argument is the collection of elements that R will arrange into the rows and columns of the matrix. Here, we use 1:9 which is a shortcut for c(1, 2, 3, 4, 5, 6, 7, 8, 9).\\n    The argument byrow indicates that the matrix is filled by the rows. If we want the matrix to be filled by the columns, we just place byrow = FALSE.\\n    The third argument nrow indicates that the matrix should have three rows.\\n\\n'</span>"
      ],
      "text/latex": [
       "'\\textbackslash{}nWhat\\textbackslash{}'s a matrix?\\textbackslash{}n\\textbackslash{}nIn R, a matrix is a collection of elements of the same data type (numeric, character, or logical) arranged into a fixed number of rows and columns. Since you are only working with rows and columns, a matrix is called two-dimensional.\\textbackslash{}n\\textbackslash{}nYou can construct a matrix in R with the matrix() function. Consider the following example:\\textbackslash{}n\\textbackslash{}nmatrix(1:9, byrow = TRUE, nrow = 3)\\textbackslash{}n\\textbackslash{}nIn the matrix() function:\\textbackslash{}n\\textbackslash{}n    The first argument is the collection of elements that R will arrange into the rows and columns of the matrix. Here, we use 1:9 which is a shortcut for c(1, 2, 3, 4, 5, 6, 7, 8, 9).\\textbackslash{}n    The argument byrow indicates that the matrix is filled by the rows. If we want the matrix to be filled by the columns, we just place byrow = FALSE.\\textbackslash{}n    The third argument nrow indicates that the matrix should have three rows.\\textbackslash{}n\\textbackslash{}n'"
      ],
      "text/markdown": [
       "<span style=white-space:pre-wrap>'\\nWhat\\'s a matrix?\\n\\nIn R, a matrix is a collection of elements of the same data type (numeric, character, or logical) arranged into a fixed number of rows and columns. Since you are only working with rows and columns, a matrix is called two-dimensional.\\n\\nYou can construct a matrix in R with the matrix() function. Consider the following example:\\n\\nmatrix(1:9, byrow = TRUE, nrow = 3)\\n\\nIn the matrix() function:\\n\\n    The first argument is the collection of elements that R will arrange into the rows and columns of the matrix. Here, we use 1:9 which is a shortcut for c(1, 2, 3, 4, 5, 6, 7, 8, 9).\\n    The argument byrow indicates that the matrix is filled by the rows. If we want the matrix to be filled by the columns, we just place byrow = FALSE.\\n    The third argument nrow indicates that the matrix should have three rows.\\n\\n'</span>"
      ],
      "text/plain": [
       "[1] \"\\nWhat's a matrix?\\n\\nIn R, a matrix is a collection of elements of the same data type (numeric, character, or logical) arranged into a fixed number of rows and columns. Since you are only working with rows and columns, a matrix is called two-dimensional.\\n\\nYou can construct a matrix in R with the matrix() function. Consider the following example:\\n\\nmatrix(1:9, byrow = TRUE, nrow = 3)\\n\\nIn the matrix() function:\\n\\n    The first argument is the collection of elements that R will arrange into the rows and columns of the matrix. Here, we use 1:9 which is a shortcut for c(1, 2, 3, 4, 5, 6, 7, 8, 9).\\n    The argument byrow indicates that the matrix is filled by the rows. If we want the matrix to be filled by the columns, we just place byrow = FALSE.\\n    The third argument nrow indicates that the matrix should have three rows.\\n\\n\""
      ]
     },
     "metadata": {},
     "output_type": "display_data"
    },
    {
     "data": {
      "text/html": [
       "'\\nConstruct a matrix with 3 rows containing the numbers 1 up to 9, filled row-wise.\\n'"
      ],
      "text/latex": [
       "'\\textbackslash{}nConstruct a matrix with 3 rows containing the numbers 1 up to 9, filled row-wise.\\textbackslash{}n'"
      ],
      "text/markdown": [
       "'\\nConstruct a matrix with 3 rows containing the numbers 1 up to 9, filled row-wise.\\n'"
      ],
      "text/plain": [
       "[1] \"\\nConstruct a matrix with 3 rows containing the numbers 1 up to 9, filled row-wise.\\n\""
      ]
     },
     "metadata": {},
     "output_type": "display_data"
    },
    {
     "data": {
      "text/html": [
       "<table class=\"dataframe\">\n",
       "<caption>A matrix: 3 × 3 of type int</caption>\n",
       "<tbody>\n",
       "\t<tr><td>1</td><td>2</td><td>3</td></tr>\n",
       "\t<tr><td>4</td><td>5</td><td>6</td></tr>\n",
       "\t<tr><td>7</td><td>8</td><td>9</td></tr>\n",
       "</tbody>\n",
       "</table>\n"
      ],
      "text/latex": [
       "A matrix: 3 × 3 of type int\n",
       "\\begin{tabular}{lll}\n",
       "\t 1 & 2 & 3\\\\\n",
       "\t 4 & 5 & 6\\\\\n",
       "\t 7 & 8 & 9\\\\\n",
       "\\end{tabular}\n"
      ],
      "text/markdown": [
       "\n",
       "A matrix: 3 × 3 of type int\n",
       "\n",
       "| 1 | 2 | 3 |\n",
       "| 4 | 5 | 6 |\n",
       "| 7 | 8 | 9 |\n",
       "\n"
      ],
      "text/plain": [
       "     [,1] [,2] [,3]\n",
       "[1,] 1    2    3   \n",
       "[2,] 4    5    6   \n",
       "[3,] 7    8    9   "
      ]
     },
     "metadata": {},
     "output_type": "display_data"
    },
    {
     "data": {
      "text/html": [
       "'\\nGreat! Continue to the next exercise. \\n'"
      ],
      "text/latex": [
       "'\\textbackslash{}nGreat! Continue to the next exercise. \\textbackslash{}n'"
      ],
      "text/markdown": [
       "'\\nGreat! Continue to the next exercise. \\n'"
      ],
      "text/plain": [
       "[1] \"\\nGreat! Continue to the next exercise. \\n\""
      ]
     },
     "metadata": {},
     "output_type": "display_data"
    }
   ],
   "source": [
    "# exercise 01\n",
    "\n",
    "\"\n",
    "What's a matrix?\n",
    "\n",
    "In R, a matrix is a collection of elements of the same data type (numeric, character, or logical) arranged into a fixed number of rows and columns. Since you are only working with rows and columns, a matrix is called two-dimensional.\n",
    "\n",
    "You can construct a matrix in R with the matrix() function. Consider the following example:\n",
    "\n",
    "matrix(1:9, byrow = TRUE, nrow = 3)\n",
    "\n",
    "In the matrix() function:\n",
    "\n",
    "    The first argument is the collection of elements that R will arrange into the rows and columns of the matrix. Here, we use 1:9 which is a shortcut for c(1, 2, 3, 4, 5, 6, 7, 8, 9).\n",
    "    The argument byrow indicates that the matrix is filled by the rows. If we want the matrix to be filled by the columns, we just place byrow = FALSE.\n",
    "    The third argument nrow indicates that the matrix should have three rows.\n",
    "\n",
    "\"\n",
    "\n",
    "# Instructions\n",
    "\n",
    "\"\n",
    "Construct a matrix with 3 rows containing the numbers 1 up to 9, filled row-wise.\n",
    "\"\n",
    "\n",
    "# solution\n",
    "\n",
    "# Construct a matrix with 3 rows that contain the numbers 1 up to 9\n",
    "matrix(1:9, byrow = TRUE, nrow = 3)\n",
    "\n",
    "#----------------------------------#\n",
    "\n",
    "# Conclusion\n",
    "\n",
    "\"\n",
    "Great! Continue to the next exercise. \n",
    "\""
   ]
  },
  {
   "cell_type": "code",
   "execution_count": 14,
   "metadata": {
    "tags": [],
    "vscode": {
     "languageId": "r"
    }
   },
   "outputs": [
    {
     "data": {
      "text/html": [
       "'\\nAnalyze matrices, you shall\\n\\nIt is now time to get your hands dirty. In the following exercises you will analyze the box office numbers of the Star Wars franchise. May the force be with you!\\n\\nIn the editor, three vectors are defined. Each one represents the box office numbers from the first three Star Wars movies. The first element of each vector indicates the US box office revenue, the second element refers to the Non-US box office (source: Wikipedia).\\n\\nIn this exercise, you\\'ll combine all these figures into a single vector. Next, you\\'ll build a matrix from this vector.\\n'"
      ],
      "text/latex": [
       "'\\textbackslash{}nAnalyze matrices, you shall\\textbackslash{}n\\textbackslash{}nIt is now time to get your hands dirty. In the following exercises you will analyze the box office numbers of the Star Wars franchise. May the force be with you!\\textbackslash{}n\\textbackslash{}nIn the editor, three vectors are defined. Each one represents the box office numbers from the first three Star Wars movies. The first element of each vector indicates the US box office revenue, the second element refers to the Non-US box office (source: Wikipedia).\\textbackslash{}n\\textbackslash{}nIn this exercise, you\\textbackslash{}'ll combine all these figures into a single vector. Next, you\\textbackslash{}'ll build a matrix from this vector.\\textbackslash{}n'"
      ],
      "text/markdown": [
       "'\\nAnalyze matrices, you shall\\n\\nIt is now time to get your hands dirty. In the following exercises you will analyze the box office numbers of the Star Wars franchise. May the force be with you!\\n\\nIn the editor, three vectors are defined. Each one represents the box office numbers from the first three Star Wars movies. The first element of each vector indicates the US box office revenue, the second element refers to the Non-US box office (source: Wikipedia).\\n\\nIn this exercise, you\\'ll combine all these figures into a single vector. Next, you\\'ll build a matrix from this vector.\\n'"
      ],
      "text/plain": [
       "[1] \"\\nAnalyze matrices, you shall\\n\\nIt is now time to get your hands dirty. In the following exercises you will analyze the box office numbers of the Star Wars franchise. May the force be with you!\\n\\nIn the editor, three vectors are defined. Each one represents the box office numbers from the first three Star Wars movies. The first element of each vector indicates the US box office revenue, the second element refers to the Non-US box office (source: Wikipedia).\\n\\nIn this exercise, you'll combine all these figures into a single vector. Next, you'll build a matrix from this vector.\\n\""
      ]
     },
     "metadata": {},
     "output_type": "display_data"
    },
    {
     "data": {
      "text/html": [
       "<span style=white-space:pre-wrap>'\\n\\n    Use c(new_hope, empire_strikes, return_jedi) to combine the three vectors into one vector. Call this vector box_office.\\n    Construct a matrix with 3 rows, where each row represents a movie. Use the matrix() function to do this. The first argument is the vector box_office, containing all box office figures. Next, you\\'ll have to specify nrow = 3 and byrow = TRUE. Name the resulting matrix star_wars_matrix.\\n\\n'</span>"
      ],
      "text/latex": [
       "'\\textbackslash{}n\\textbackslash{}n    Use c(new\\_hope, empire\\_strikes, return\\_jedi) to combine the three vectors into one vector. Call this vector box\\_office.\\textbackslash{}n    Construct a matrix with 3 rows, where each row represents a movie. Use the matrix() function to do this. The first argument is the vector box\\_office, containing all box office figures. Next, you\\textbackslash{}'ll have to specify nrow = 3 and byrow = TRUE. Name the resulting matrix star\\_wars\\_matrix.\\textbackslash{}n\\textbackslash{}n'"
      ],
      "text/markdown": [
       "<span style=white-space:pre-wrap>'\\n\\n    Use c(new_hope, empire_strikes, return_jedi) to combine the three vectors into one vector. Call this vector box_office.\\n    Construct a matrix with 3 rows, where each row represents a movie. Use the matrix() function to do this. The first argument is the vector box_office, containing all box office figures. Next, you\\'ll have to specify nrow = 3 and byrow = TRUE. Name the resulting matrix star_wars_matrix.\\n\\n'</span>"
      ],
      "text/plain": [
       "[1] \"\\n\\n    Use c(new_hope, empire_strikes, return_jedi) to combine the three vectors into one vector. Call this vector box_office.\\n    Construct a matrix with 3 rows, where each row represents a movie. Use the matrix() function to do this. The first argument is the vector box_office, containing all box office figures. Next, you'll have to specify nrow = 3 and byrow = TRUE. Name the resulting matrix star_wars_matrix.\\n\\n\""
      ]
     },
     "metadata": {},
     "output_type": "display_data"
    },
    {
     "data": {
      "text/html": [
       "<table class=\"dataframe\">\n",
       "<caption>A matrix: 3 × 2 of type dbl</caption>\n",
       "<tbody>\n",
       "\t<tr><td>460.998</td><td>314.4</td></tr>\n",
       "\t<tr><td>290.475</td><td>247.9</td></tr>\n",
       "\t<tr><td>309.306</td><td>165.8</td></tr>\n",
       "</tbody>\n",
       "</table>\n"
      ],
      "text/latex": [
       "A matrix: 3 × 2 of type dbl\n",
       "\\begin{tabular}{ll}\n",
       "\t 460.998 & 314.4\\\\\n",
       "\t 290.475 & 247.9\\\\\n",
       "\t 309.306 & 165.8\\\\\n",
       "\\end{tabular}\n"
      ],
      "text/markdown": [
       "\n",
       "A matrix: 3 × 2 of type dbl\n",
       "\n",
       "| 460.998 | 314.4 |\n",
       "| 290.475 | 247.9 |\n",
       "| 309.306 | 165.8 |\n",
       "\n"
      ],
      "text/plain": [
       "     [,1]    [,2] \n",
       "[1,] 460.998 314.4\n",
       "[2,] 290.475 247.9\n",
       "[3,] 309.306 165.8"
      ]
     },
     "metadata": {},
     "output_type": "display_data"
    },
    {
     "data": {
      "text/html": [
       "'\\nThe force is actually with you! Continue to the next exercise. \\n'"
      ],
      "text/latex": [
       "'\\textbackslash{}nThe force is actually with you! Continue to the next exercise. \\textbackslash{}n'"
      ],
      "text/markdown": [
       "'\\nThe force is actually with you! Continue to the next exercise. \\n'"
      ],
      "text/plain": [
       "[1] \"\\nThe force is actually with you! Continue to the next exercise. \\n\""
      ]
     },
     "metadata": {},
     "output_type": "display_data"
    }
   ],
   "source": [
    "# exercise 02\n",
    "\n",
    "\"\n",
    "Analyze matrices, you shall\n",
    "\n",
    "It is now time to get your hands dirty. In the following exercises you will analyze the box office numbers of the Star Wars franchise. May the force be with you!\n",
    "\n",
    "In the editor, three vectors are defined. Each one represents the box office numbers from the first three Star Wars movies. The first element of each vector indicates the US box office revenue, the second element refers to the Non-US box office (source: Wikipedia).\n",
    "\n",
    "In this exercise, you'll combine all these figures into a single vector. Next, you'll build a matrix from this vector.\n",
    "\"\n",
    "\n",
    "# Instructions\n",
    "\n",
    "\"\n",
    "\n",
    "    Use c(new_hope, empire_strikes, return_jedi) to combine the three vectors into one vector. Call this vector box_office.\n",
    "    Construct a matrix with 3 rows, where each row represents a movie. Use the matrix() function to do this. The first argument is the vector box_office, containing all box office figures. Next, you'll have to specify nrow = 3 and byrow = TRUE. Name the resulting matrix star_wars_matrix.\n",
    "\n",
    "\"\n",
    "\n",
    "# solution\n",
    "\n",
    "# Box office Star Wars (in millions!)\n",
    "new_hope <- c(460.998, 314.4)\n",
    "empire_strikes <- c(290.475, 247.900)\n",
    "return_jedi <- c(309.306, 165.8)\n",
    "\n",
    "# Create box_office\n",
    "box_office <- c(new_hope, empire_strikes, return_jedi)\n",
    "\n",
    "# Construct star_wars_matrix\n",
    "star_wars_matrix <- matrix(box_office, byrow=TRUE, nrow=3)\n",
    "\n",
    "#----------------------------------#\n",
    "star_wars_matrix\n",
    "# Conclusion\n",
    "\n",
    "\"\n",
    "The force is actually with you! Continue to the next exercise. \n",
    "\""
   ]
  },
  {
   "cell_type": "code",
   "execution_count": 15,
   "metadata": {
    "tags": [],
    "vscode": {
     "languageId": "r"
    }
   },
   "outputs": [
    {
     "data": {
      "text/html": [
       "'\\nNaming a matrix\\n\\nTo help you remember what is stored in star_wars_matrix, you would like to add the names of the movies for the rows. Not only does this help you to read the data, but it is also useful to select certain elements from the matrix.\\n\\nSimilar to vectors, you can add names for the rows and the columns of a matrix\\n\\nrownames(my_matrix) &lt;- row_names_vector\\ncolnames(my_matrix) &lt;- col_names_vector\\n\\nWe went ahead and prepared two vectors for you: region, and titles. You will need these vectors to name the columns and rows of star_wars_matrix, respectively.\\n'"
      ],
      "text/latex": [
       "'\\textbackslash{}nNaming a matrix\\textbackslash{}n\\textbackslash{}nTo help you remember what is stored in star\\_wars\\_matrix, you would like to add the names of the movies for the rows. Not only does this help you to read the data, but it is also useful to select certain elements from the matrix.\\textbackslash{}n\\textbackslash{}nSimilar to vectors, you can add names for the rows and the columns of a matrix\\textbackslash{}n\\textbackslash{}nrownames(my\\_matrix) <- row\\_names\\_vector\\textbackslash{}ncolnames(my\\_matrix) <- col\\_names\\_vector\\textbackslash{}n\\textbackslash{}nWe went ahead and prepared two vectors for you: region, and titles. You will need these vectors to name the columns and rows of star\\_wars\\_matrix, respectively.\\textbackslash{}n'"
      ],
      "text/markdown": [
       "'\\nNaming a matrix\\n\\nTo help you remember what is stored in star_wars_matrix, you would like to add the names of the movies for the rows. Not only does this help you to read the data, but it is also useful to select certain elements from the matrix.\\n\\nSimilar to vectors, you can add names for the rows and the columns of a matrix\\n\\nrownames(my_matrix) &lt;- row_names_vector\\ncolnames(my_matrix) &lt;- col_names_vector\\n\\nWe went ahead and prepared two vectors for you: region, and titles. You will need these vectors to name the columns and rows of star_wars_matrix, respectively.\\n'"
      ],
      "text/plain": [
       "[1] \"\\nNaming a matrix\\n\\nTo help you remember what is stored in star_wars_matrix, you would like to add the names of the movies for the rows. Not only does this help you to read the data, but it is also useful to select certain elements from the matrix.\\n\\nSimilar to vectors, you can add names for the rows and the columns of a matrix\\n\\nrownames(my_matrix) <- row_names_vector\\ncolnames(my_matrix) <- col_names_vector\\n\\nWe went ahead and prepared two vectors for you: region, and titles. You will need these vectors to name the columns and rows of star_wars_matrix, respectively.\\n\""
      ]
     },
     "metadata": {},
     "output_type": "display_data"
    },
    {
     "data": {
      "text/html": [
       "<span style=white-space:pre-wrap>'\\n\\n    Use colnames() to name the columns of star_wars_matrix with the region vector.\\n    Use rownames() to name the rows of star_wars_matrix with the titles vector.\\n    Print out star_wars_matrix to see the result of your work.\\n\\n'</span>"
      ],
      "text/latex": [
       "'\\textbackslash{}n\\textbackslash{}n    Use colnames() to name the columns of star\\_wars\\_matrix with the region vector.\\textbackslash{}n    Use rownames() to name the rows of star\\_wars\\_matrix with the titles vector.\\textbackslash{}n    Print out star\\_wars\\_matrix to see the result of your work.\\textbackslash{}n\\textbackslash{}n'"
      ],
      "text/markdown": [
       "<span style=white-space:pre-wrap>'\\n\\n    Use colnames() to name the columns of star_wars_matrix with the region vector.\\n    Use rownames() to name the rows of star_wars_matrix with the titles vector.\\n    Print out star_wars_matrix to see the result of your work.\\n\\n'</span>"
      ],
      "text/plain": [
       "[1] \"\\n\\n    Use colnames() to name the columns of star_wars_matrix with the region vector.\\n    Use rownames() to name the rows of star_wars_matrix with the titles vector.\\n    Print out star_wars_matrix to see the result of your work.\\n\\n\""
      ]
     },
     "metadata": {},
     "output_type": "display_data"
    },
    {
     "data": {
      "text/html": [
       "<table class=\"dataframe\">\n",
       "<caption>A matrix: 3 × 2 of type dbl</caption>\n",
       "<thead>\n",
       "\t<tr><th></th><th scope=col>US</th><th scope=col>non-US</th></tr>\n",
       "</thead>\n",
       "<tbody>\n",
       "\t<tr><th scope=row>A New Hope</th><td>460.998</td><td>314.4</td></tr>\n",
       "\t<tr><th scope=row>The Empire Strikes Back</th><td>290.475</td><td>247.9</td></tr>\n",
       "\t<tr><th scope=row>Return of the Jedi</th><td>309.306</td><td>165.8</td></tr>\n",
       "</tbody>\n",
       "</table>\n"
      ],
      "text/latex": [
       "A matrix: 3 × 2 of type dbl\n",
       "\\begin{tabular}{r|ll}\n",
       "  & US & non-US\\\\\n",
       "\\hline\n",
       "\tA New Hope & 460.998 & 314.4\\\\\n",
       "\tThe Empire Strikes Back & 290.475 & 247.9\\\\\n",
       "\tReturn of the Jedi & 309.306 & 165.8\\\\\n",
       "\\end{tabular}\n"
      ],
      "text/markdown": [
       "\n",
       "A matrix: 3 × 2 of type dbl\n",
       "\n",
       "| <!--/--> | US | non-US |\n",
       "|---|---|---|\n",
       "| A New Hope | 460.998 | 314.4 |\n",
       "| The Empire Strikes Back | 290.475 | 247.9 |\n",
       "| Return of the Jedi | 309.306 | 165.8 |\n",
       "\n"
      ],
      "text/plain": [
       "                        US      non-US\n",
       "A New Hope              460.998 314.4 \n",
       "The Empire Strikes Back 290.475 247.9 \n",
       "Return of the Jedi      309.306 165.8 "
      ]
     },
     "metadata": {},
     "output_type": "display_data"
    },
    {
     "data": {
      "text/html": [
       "'\\nGreat! You\\'re on the way of becoming an R jedi! Continue to the next exercise. \\n'"
      ],
      "text/latex": [
       "'\\textbackslash{}nGreat! You\\textbackslash{}'re on the way of becoming an R jedi! Continue to the next exercise. \\textbackslash{}n'"
      ],
      "text/markdown": [
       "'\\nGreat! You\\'re on the way of becoming an R jedi! Continue to the next exercise. \\n'"
      ],
      "text/plain": [
       "[1] \"\\nGreat! You're on the way of becoming an R jedi! Continue to the next exercise. \\n\""
      ]
     },
     "metadata": {},
     "output_type": "display_data"
    }
   ],
   "source": [
    "# exercise 03\n",
    "\n",
    "\"\n",
    "Naming a matrix\n",
    "\n",
    "To help you remember what is stored in star_wars_matrix, you would like to add the names of the movies for the rows. Not only does this help you to read the data, but it is also useful to select certain elements from the matrix.\n",
    "\n",
    "Similar to vectors, you can add names for the rows and the columns of a matrix\n",
    "\n",
    "rownames(my_matrix) <- row_names_vector\n",
    "colnames(my_matrix) <- col_names_vector\n",
    "\n",
    "We went ahead and prepared two vectors for you: region, and titles. You will need these vectors to name the columns and rows of star_wars_matrix, respectively.\n",
    "\"\n",
    "\n",
    "# Instructions\n",
    "\n",
    "\"\n",
    "\n",
    "    Use colnames() to name the columns of star_wars_matrix with the region vector.\n",
    "    Use rownames() to name the rows of star_wars_matrix with the titles vector.\n",
    "    Print out star_wars_matrix to see the result of your work.\n",
    "\n",
    "\"\n",
    "\n",
    "# solution\n",
    "\n",
    "# Box office Star Wars (in millions!)\n",
    "new_hope <- c(460.998, 314.4)\n",
    "empire_strikes <- c(290.475, 247.900)\n",
    "return_jedi <- c(309.306, 165.8)\n",
    "\n",
    "# Construct matrix\n",
    "star_wars_matrix <- matrix(c(new_hope, empire_strikes, return_jedi), nrow = 3, byrow = TRUE)\n",
    "\n",
    "# Vectors region and titles, used for naming\n",
    "region <- c(\"US\", \"non-US\")\n",
    "titles <- c(\"A New Hope\", \"The Empire Strikes Back\", \"Return of the Jedi\")\n",
    "\n",
    "# Name the columns with region\n",
    "colnames(star_wars_matrix) <- region\n",
    "\n",
    "# Name the rows with titles\n",
    "rownames(star_wars_matrix) <- titles\n",
    "\n",
    "# Print out star_wars_matrix\n",
    "star_wars_matrix\n",
    "\n",
    "#----------------------------------#\n",
    "\n",
    "# Conclusion\n",
    "\n",
    "\"\n",
    "Great! You're on the way of becoming an R jedi! Continue to the next exercise. \n",
    "\""
   ]
  },
  {
   "cell_type": "code",
   "execution_count": 16,
   "metadata": {
    "tags": [],
    "vscode": {
     "languageId": "r"
    }
   },
   "outputs": [
    {
     "data": {
      "text/html": [
       "'\\nCalculating the worldwide box office\\n\\nThe single most important thing for a movie in order to become an instant legend in Tinseltown is its worldwide box office figures.\\n\\nTo calculate the total box office revenue for the three Star Wars movies, you have to take the sum of the US revenue column and the non-US revenue column.\\n\\nIn R, the function rowSums() conveniently calculates the totals for each row of a matrix. This function creates a new vector:\\n\\nrowSums(my_matrix)\\n\\n'"
      ],
      "text/latex": [
       "'\\textbackslash{}nCalculating the worldwide box office\\textbackslash{}n\\textbackslash{}nThe single most important thing for a movie in order to become an instant legend in Tinseltown is its worldwide box office figures.\\textbackslash{}n\\textbackslash{}nTo calculate the total box office revenue for the three Star Wars movies, you have to take the sum of the US revenue column and the non-US revenue column.\\textbackslash{}n\\textbackslash{}nIn R, the function rowSums() conveniently calculates the totals for each row of a matrix. This function creates a new vector:\\textbackslash{}n\\textbackslash{}nrowSums(my\\_matrix)\\textbackslash{}n\\textbackslash{}n'"
      ],
      "text/markdown": [
       "'\\nCalculating the worldwide box office\\n\\nThe single most important thing for a movie in order to become an instant legend in Tinseltown is its worldwide box office figures.\\n\\nTo calculate the total box office revenue for the three Star Wars movies, you have to take the sum of the US revenue column and the non-US revenue column.\\n\\nIn R, the function rowSums() conveniently calculates the totals for each row of a matrix. This function creates a new vector:\\n\\nrowSums(my_matrix)\\n\\n'"
      ],
      "text/plain": [
       "[1] \"\\nCalculating the worldwide box office\\n\\nThe single most important thing for a movie in order to become an instant legend in Tinseltown is its worldwide box office figures.\\n\\nTo calculate the total box office revenue for the three Star Wars movies, you have to take the sum of the US revenue column and the non-US revenue column.\\n\\nIn R, the function rowSums() conveniently calculates the totals for each row of a matrix. This function creates a new vector:\\n\\nrowSums(my_matrix)\\n\\n\""
      ]
     },
     "metadata": {},
     "output_type": "display_data"
    },
    {
     "data": {
      "text/html": [
       "'\\nCalculate the worldwide box office figures for the three movies and put these in the vector named worldwide_vector.\\n'"
      ],
      "text/latex": [
       "'\\textbackslash{}nCalculate the worldwide box office figures for the three movies and put these in the vector named worldwide\\_vector.\\textbackslash{}n'"
      ],
      "text/markdown": [
       "'\\nCalculate the worldwide box office figures for the three movies and put these in the vector named worldwide_vector.\\n'"
      ],
      "text/plain": [
       "[1] \"\\nCalculate the worldwide box office figures for the three movies and put these in the vector named worldwide_vector.\\n\""
      ]
     },
     "metadata": {},
     "output_type": "display_data"
    },
    {
     "data": {
      "text/html": [
       "'\\nWell done! Continue to the next exercise. \\n'"
      ],
      "text/latex": [
       "'\\textbackslash{}nWell done! Continue to the next exercise. \\textbackslash{}n'"
      ],
      "text/markdown": [
       "'\\nWell done! Continue to the next exercise. \\n'"
      ],
      "text/plain": [
       "[1] \"\\nWell done! Continue to the next exercise. \\n\""
      ]
     },
     "metadata": {},
     "output_type": "display_data"
    }
   ],
   "source": [
    "# exercise 04\n",
    "\n",
    "\"\n",
    "Calculating the worldwide box office\n",
    "\n",
    "The single most important thing for a movie in order to become an instant legend in Tinseltown is its worldwide box office figures.\n",
    "\n",
    "To calculate the total box office revenue for the three Star Wars movies, you have to take the sum of the US revenue column and the non-US revenue column.\n",
    "\n",
    "In R, the function rowSums() conveniently calculates the totals for each row of a matrix. This function creates a new vector:\n",
    "\n",
    "rowSums(my_matrix)\n",
    "\n",
    "\"\n",
    "\n",
    "# Instructions\n",
    "\n",
    "\"\n",
    "Calculate the worldwide box office figures for the three movies and put these in the vector named worldwide_vector.\n",
    "\"\n",
    "\n",
    "# solution\n",
    "\n",
    "# Construct star_wars_matrix\n",
    "box_office <- c(460.998, 314.4, 290.475, 247.900, 309.306, 165.8)\n",
    "region <- c(\"US\", \"non-US\")\n",
    "titles <- c(\"A New Hope\", \n",
    "                 \"The Empire Strikes Back\", \n",
    "                 \"Return of the Jedi\")\n",
    "               \n",
    "star_wars_matrix <- matrix(box_office, \n",
    "                      nrow = 3, byrow = TRUE,\n",
    "                      dimnames = list(titles, region))\n",
    "\n",
    "# Calculate worldwide box office figures\n",
    "worldwide_vector <- rowSums(star_wars_matrix)\n",
    "\n",
    "#----------------------------------#\n",
    "\n",
    "# Conclusion\n",
    "\n",
    "\"\n",
    "Well done! Continue to the next exercise. \n",
    "\""
   ]
  },
  {
   "cell_type": "code",
   "execution_count": 17,
   "metadata": {
    "tags": [],
    "vscode": {
     "languageId": "r"
    }
   },
   "outputs": [
    {
     "data": {
      "text/html": [
       "'\\nAdding a column for the Worldwide box office\\n\\nIn the previous exercise you calculated the vector that contained the worldwide box office receipt for each of the three Star Wars movies. However, this vector is not yet part of star_wars_matrix.\\n\\nYou can add a column or multiple columns to a matrix with the cbind() function, which merges matrices and/or vectors together by column. For example:\\n\\nbig_matrix &lt;- cbind(matrix1, matrix2, vector1 ...)\\n\\n'"
      ],
      "text/latex": [
       "'\\textbackslash{}nAdding a column for the Worldwide box office\\textbackslash{}n\\textbackslash{}nIn the previous exercise you calculated the vector that contained the worldwide box office receipt for each of the three Star Wars movies. However, this vector is not yet part of star\\_wars\\_matrix.\\textbackslash{}n\\textbackslash{}nYou can add a column or multiple columns to a matrix with the cbind() function, which merges matrices and/or vectors together by column. For example:\\textbackslash{}n\\textbackslash{}nbig\\_matrix <- cbind(matrix1, matrix2, vector1 ...)\\textbackslash{}n\\textbackslash{}n'"
      ],
      "text/markdown": [
       "'\\nAdding a column for the Worldwide box office\\n\\nIn the previous exercise you calculated the vector that contained the worldwide box office receipt for each of the three Star Wars movies. However, this vector is not yet part of star_wars_matrix.\\n\\nYou can add a column or multiple columns to a matrix with the cbind() function, which merges matrices and/or vectors together by column. For example:\\n\\nbig_matrix &lt;- cbind(matrix1, matrix2, vector1 ...)\\n\\n'"
      ],
      "text/plain": [
       "[1] \"\\nAdding a column for the Worldwide box office\\n\\nIn the previous exercise you calculated the vector that contained the worldwide box office receipt for each of the three Star Wars movies. However, this vector is not yet part of star_wars_matrix.\\n\\nYou can add a column or multiple columns to a matrix with the cbind() function, which merges matrices and/or vectors together by column. For example:\\n\\nbig_matrix <- cbind(matrix1, matrix2, vector1 ...)\\n\\n\""
      ]
     },
     "metadata": {},
     "output_type": "display_data"
    },
    {
     "data": {
      "text/html": [
       "'\\nAdd worldwide_vector as a new column to the star_wars_matrix and assign the result to all_wars_matrix. Use the cbind() function.\\n'"
      ],
      "text/latex": [
       "'\\textbackslash{}nAdd worldwide\\_vector as a new column to the star\\_wars\\_matrix and assign the result to all\\_wars\\_matrix. Use the cbind() function.\\textbackslash{}n'"
      ],
      "text/markdown": [
       "'\\nAdd worldwide_vector as a new column to the star_wars_matrix and assign the result to all_wars_matrix. Use the cbind() function.\\n'"
      ],
      "text/plain": [
       "[1] \"\\nAdd worldwide_vector as a new column to the star_wars_matrix and assign the result to all_wars_matrix. Use the cbind() function.\\n\""
      ]
     },
     "metadata": {},
     "output_type": "display_data"
    },
    {
     "data": {
      "text/html": [
       "<table class=\"dataframe\">\n",
       "<caption>A matrix: 3 × 3 of type dbl</caption>\n",
       "<thead>\n",
       "\t<tr><th></th><th scope=col>US</th><th scope=col>non-US</th><th scope=col>worldwide_vector</th></tr>\n",
       "</thead>\n",
       "<tbody>\n",
       "\t<tr><th scope=row>A New Hope</th><td>460.998</td><td>314.4</td><td>775.398</td></tr>\n",
       "\t<tr><th scope=row>The Empire Strikes Back</th><td>290.475</td><td>247.9</td><td>538.375</td></tr>\n",
       "\t<tr><th scope=row>Return of the Jedi</th><td>309.306</td><td>165.8</td><td>475.106</td></tr>\n",
       "</tbody>\n",
       "</table>\n"
      ],
      "text/latex": [
       "A matrix: 3 × 3 of type dbl\n",
       "\\begin{tabular}{r|lll}\n",
       "  & US & non-US & worldwide\\_vector\\\\\n",
       "\\hline\n",
       "\tA New Hope & 460.998 & 314.4 & 775.398\\\\\n",
       "\tThe Empire Strikes Back & 290.475 & 247.9 & 538.375\\\\\n",
       "\tReturn of the Jedi & 309.306 & 165.8 & 475.106\\\\\n",
       "\\end{tabular}\n"
      ],
      "text/markdown": [
       "\n",
       "A matrix: 3 × 3 of type dbl\n",
       "\n",
       "| <!--/--> | US | non-US | worldwide_vector |\n",
       "|---|---|---|---|\n",
       "| A New Hope | 460.998 | 314.4 | 775.398 |\n",
       "| The Empire Strikes Back | 290.475 | 247.9 | 538.375 |\n",
       "| Return of the Jedi | 309.306 | 165.8 | 475.106 |\n",
       "\n"
      ],
      "text/plain": [
       "                        US      non-US worldwide_vector\n",
       "A New Hope              460.998 314.4  775.398         \n",
       "The Empire Strikes Back 290.475 247.9  538.375         \n",
       "Return of the Jedi      309.306 165.8  475.106         "
      ]
     },
     "metadata": {},
     "output_type": "display_data"
    },
    {
     "data": {
      "text/html": [
       "'\\nNice job! After adding column to a matrix, the logical next step is adding rows. Learn how in the next exercise. \\n'"
      ],
      "text/latex": [
       "'\\textbackslash{}nNice job! After adding column to a matrix, the logical next step is adding rows. Learn how in the next exercise. \\textbackslash{}n'"
      ],
      "text/markdown": [
       "'\\nNice job! After adding column to a matrix, the logical next step is adding rows. Learn how in the next exercise. \\n'"
      ],
      "text/plain": [
       "[1] \"\\nNice job! After adding column to a matrix, the logical next step is adding rows. Learn how in the next exercise. \\n\""
      ]
     },
     "metadata": {},
     "output_type": "display_data"
    }
   ],
   "source": [
    "# exercise 05\n",
    "\n",
    "\"\n",
    "Adding a column for the Worldwide box office\n",
    "\n",
    "In the previous exercise you calculated the vector that contained the worldwide box office receipt for each of the three Star Wars movies. However, this vector is not yet part of star_wars_matrix.\n",
    "\n",
    "You can add a column or multiple columns to a matrix with the cbind() function, which merges matrices and/or vectors together by column. For example:\n",
    "\n",
    "big_matrix <- cbind(matrix1, matrix2, vector1 ...)\n",
    "\n",
    "\"\n",
    "\n",
    "# Instructions\n",
    "\n",
    "\"\n",
    "Add worldwide_vector as a new column to the star_wars_matrix and assign the result to all_wars_matrix. Use the cbind() function.\n",
    "\"\n",
    "\n",
    "# solution\n",
    "\n",
    "# Construct star_wars_matrix\n",
    "box_office <- c(460.998, 314.4, 290.475, 247.900, 309.306, 165.8)\n",
    "region <- c(\"US\", \"non-US\")\n",
    "titles <- c(\"A New Hope\", \n",
    "            \"The Empire Strikes Back\", \n",
    "            \"Return of the Jedi\")\n",
    "               \n",
    "star_wars_matrix <- matrix(box_office, \n",
    "                      nrow = 3, byrow = TRUE,\n",
    "                      dimnames = list(titles, region))\n",
    "\n",
    "# The worldwide box office figures\n",
    "worldwide_vector <- rowSums(star_wars_matrix)\n",
    "\n",
    "# Bind the new variable worldwide_vector as a column to star_wars_matrix\n",
    "all_wars_matrix <- cbind(star_wars_matrix, worldwide_vector)\n",
    "\n",
    "#----------------------------------#\n",
    "all_wars_matrix\n",
    "# Conclusion\n",
    "\n",
    "\"\n",
    "Nice job! After adding column to a matrix, the logical next step is adding rows. Learn how in the next exercise. \n",
    "\""
   ]
  },
  {
   "cell_type": "code",
   "execution_count": 18,
   "metadata": {
    "vscode": {
     "languageId": "r"
    }
   },
   "outputs": [
    {
     "data": {
      "text/html": [
       "<table class=\"dataframe\">\n",
       "<caption>A matrix: 3 × 2 of type dbl</caption>\n",
       "<thead>\n",
       "\t<tr><th></th><th scope=col>US</th><th scope=col>non-US</th></tr>\n",
       "</thead>\n",
       "<tbody>\n",
       "\t<tr><th scope=row>The Phantom Menace</th><td>474.5</td><td>552.5</td></tr>\n",
       "\t<tr><th scope=row>Attack of the Clones</th><td>310.7</td><td>338.7</td></tr>\n",
       "\t<tr><th scope=row>Revenge of the Sith</th><td>380.3</td><td>468.5</td></tr>\n",
       "</tbody>\n",
       "</table>\n"
      ],
      "text/latex": [
       "A matrix: 3 × 2 of type dbl\n",
       "\\begin{tabular}{r|ll}\n",
       "  & US & non-US\\\\\n",
       "\\hline\n",
       "\tThe Phantom Menace & 474.5 & 552.5\\\\\n",
       "\tAttack of the Clones & 310.7 & 338.7\\\\\n",
       "\tRevenge of the Sith & 380.3 & 468.5\\\\\n",
       "\\end{tabular}\n"
      ],
      "text/markdown": [
       "\n",
       "A matrix: 3 × 2 of type dbl\n",
       "\n",
       "| <!--/--> | US | non-US |\n",
       "|---|---|---|\n",
       "| The Phantom Menace | 474.5 | 552.5 |\n",
       "| Attack of the Clones | 310.7 | 338.7 |\n",
       "| Revenge of the Sith | 380.3 | 468.5 |\n",
       "\n"
      ],
      "text/plain": [
       "                     US    non-US\n",
       "The Phantom Menace   474.5 552.5 \n",
       "Attack of the Clones 310.7 338.7 \n",
       "Revenge of the Sith  380.3 468.5 "
      ]
     },
     "metadata": {},
     "output_type": "display_data"
    }
   ],
   "source": [
    "data <- c(474.5, 552.5, 310.7, 338.7, 380.3, 468.5)\n",
    "titles <- c(\"The Phantom Menace\", \"Attack of the Clones\", \"Revenge of the Sith\")\n",
    "star_wars_matrix2 <- matrix(data, nrow=3, byrow=TRUE, dimnames=list(titles, region))\n",
    "star_wars_matrix2"
   ]
  },
  {
   "cell_type": "code",
   "execution_count": 19,
   "metadata": {
    "tags": [],
    "vscode": {
     "languageId": "r"
    }
   },
   "outputs": [
    {
     "data": {
      "text/html": [
       "<span style=white-space:pre-wrap>'\\nAdding a row\\n\\nJust like every action has a reaction, every cbind() has an rbind(). (We admit, we are pretty bad with metaphors.)\\n\\nYour R workspace, where all variables you defined \\'live\\' (check out what a workspace is), has already been initialized and contains two matrices:\\n\\n    star_wars_matrix that we have used all along, with data on the original trilogy,\\n    star_wars_matrix2, with similar data for the prequels trilogy.\\n\\nExplore these matrices in the console if you want to have a closer look. If you want to check out the contents of the workspace, you can type ls() in the console.\\n'</span>"
      ],
      "text/latex": [
       "'\\textbackslash{}nAdding a row\\textbackslash{}n\\textbackslash{}nJust like every action has a reaction, every cbind() has an rbind(). (We admit, we are pretty bad with metaphors.)\\textbackslash{}n\\textbackslash{}nYour R workspace, where all variables you defined \\textbackslash{}'live\\textbackslash{}' (check out what a workspace is), has already been initialized and contains two matrices:\\textbackslash{}n\\textbackslash{}n    star\\_wars\\_matrix that we have used all along, with data on the original trilogy,\\textbackslash{}n    star\\_wars\\_matrix2, with similar data for the prequels trilogy.\\textbackslash{}n\\textbackslash{}nExplore these matrices in the console if you want to have a closer look. If you want to check out the contents of the workspace, you can type ls() in the console.\\textbackslash{}n'"
      ],
      "text/markdown": [
       "<span style=white-space:pre-wrap>'\\nAdding a row\\n\\nJust like every action has a reaction, every cbind() has an rbind(). (We admit, we are pretty bad with metaphors.)\\n\\nYour R workspace, where all variables you defined \\'live\\' (check out what a workspace is), has already been initialized and contains two matrices:\\n\\n    star_wars_matrix that we have used all along, with data on the original trilogy,\\n    star_wars_matrix2, with similar data for the prequels trilogy.\\n\\nExplore these matrices in the console if you want to have a closer look. If you want to check out the contents of the workspace, you can type ls() in the console.\\n'</span>"
      ],
      "text/plain": [
       "[1] \"\\nAdding a row\\n\\nJust like every action has a reaction, every cbind() has an rbind(). (We admit, we are pretty bad with metaphors.)\\n\\nYour R workspace, where all variables you defined 'live' (check out what a workspace is), has already been initialized and contains two matrices:\\n\\n    star_wars_matrix that we have used all along, with data on the original trilogy,\\n    star_wars_matrix2, with similar data for the prequels trilogy.\\n\\nExplore these matrices in the console if you want to have a closer look. If you want to check out the contents of the workspace, you can type ls() in the console.\\n\""
      ]
     },
     "metadata": {},
     "output_type": "display_data"
    },
    {
     "data": {
      "text/html": [
       "'\\nUse rbind() to paste together star_wars_matrix and star_wars_matrix2, in this order. Assign the resulting matrix to all_wars_matrix.\\n'"
      ],
      "text/latex": [
       "'\\textbackslash{}nUse rbind() to paste together star\\_wars\\_matrix and star\\_wars\\_matrix2, in this order. Assign the resulting matrix to all\\_wars\\_matrix.\\textbackslash{}n'"
      ],
      "text/markdown": [
       "'\\nUse rbind() to paste together star_wars_matrix and star_wars_matrix2, in this order. Assign the resulting matrix to all_wars_matrix.\\n'"
      ],
      "text/plain": [
       "[1] \"\\nUse rbind() to paste together star_wars_matrix and star_wars_matrix2, in this order. Assign the resulting matrix to all_wars_matrix.\\n\""
      ]
     },
     "metadata": {},
     "output_type": "display_data"
    },
    {
     "data": {
      "text/html": [
       "<table class=\"dataframe\">\n",
       "<caption>A matrix: 3 × 2 of type dbl</caption>\n",
       "<thead>\n",
       "\t<tr><th></th><th scope=col>US</th><th scope=col>non-US</th></tr>\n",
       "</thead>\n",
       "<tbody>\n",
       "\t<tr><th scope=row>A New Hope</th><td>460.998</td><td>314.4</td></tr>\n",
       "\t<tr><th scope=row>The Empire Strikes Back</th><td>290.475</td><td>247.9</td></tr>\n",
       "\t<tr><th scope=row>Return of the Jedi</th><td>309.306</td><td>165.8</td></tr>\n",
       "</tbody>\n",
       "</table>\n"
      ],
      "text/latex": [
       "A matrix: 3 × 2 of type dbl\n",
       "\\begin{tabular}{r|ll}\n",
       "  & US & non-US\\\\\n",
       "\\hline\n",
       "\tA New Hope & 460.998 & 314.4\\\\\n",
       "\tThe Empire Strikes Back & 290.475 & 247.9\\\\\n",
       "\tReturn of the Jedi & 309.306 & 165.8\\\\\n",
       "\\end{tabular}\n"
      ],
      "text/markdown": [
       "\n",
       "A matrix: 3 × 2 of type dbl\n",
       "\n",
       "| <!--/--> | US | non-US |\n",
       "|---|---|---|\n",
       "| A New Hope | 460.998 | 314.4 |\n",
       "| The Empire Strikes Back | 290.475 | 247.9 |\n",
       "| Return of the Jedi | 309.306 | 165.8 |\n",
       "\n"
      ],
      "text/plain": [
       "                        US      non-US\n",
       "A New Hope              460.998 314.4 \n",
       "The Empire Strikes Back 290.475 247.9 \n",
       "Return of the Jedi      309.306 165.8 "
      ]
     },
     "metadata": {},
     "output_type": "display_data"
    },
    {
     "data": {
      "text/html": [
       "<table class=\"dataframe\">\n",
       "<caption>A matrix: 3 × 2 of type dbl</caption>\n",
       "<thead>\n",
       "\t<tr><th></th><th scope=col>US</th><th scope=col>non-US</th></tr>\n",
       "</thead>\n",
       "<tbody>\n",
       "\t<tr><th scope=row>The Phantom Menace</th><td>474.5</td><td>552.5</td></tr>\n",
       "\t<tr><th scope=row>Attack of the Clones</th><td>310.7</td><td>338.7</td></tr>\n",
       "\t<tr><th scope=row>Revenge of the Sith</th><td>380.3</td><td>468.5</td></tr>\n",
       "</tbody>\n",
       "</table>\n"
      ],
      "text/latex": [
       "A matrix: 3 × 2 of type dbl\n",
       "\\begin{tabular}{r|ll}\n",
       "  & US & non-US\\\\\n",
       "\\hline\n",
       "\tThe Phantom Menace & 474.5 & 552.5\\\\\n",
       "\tAttack of the Clones & 310.7 & 338.7\\\\\n",
       "\tRevenge of the Sith & 380.3 & 468.5\\\\\n",
       "\\end{tabular}\n"
      ],
      "text/markdown": [
       "\n",
       "A matrix: 3 × 2 of type dbl\n",
       "\n",
       "| <!--/--> | US | non-US |\n",
       "|---|---|---|\n",
       "| The Phantom Menace | 474.5 | 552.5 |\n",
       "| Attack of the Clones | 310.7 | 338.7 |\n",
       "| Revenge of the Sith | 380.3 | 468.5 |\n",
       "\n"
      ],
      "text/plain": [
       "                     US    non-US\n",
       "The Phantom Menace   474.5 552.5 \n",
       "Attack of the Clones 310.7 338.7 \n",
       "Revenge of the Sith  380.3 468.5 "
      ]
     },
     "metadata": {},
     "output_type": "display_data"
    },
    {
     "data": {
      "text/html": [
       "<table class=\"dataframe\">\n",
       "<caption>A matrix: 6 × 2 of type dbl</caption>\n",
       "<thead>\n",
       "\t<tr><th></th><th scope=col>US</th><th scope=col>non-US</th></tr>\n",
       "</thead>\n",
       "<tbody>\n",
       "\t<tr><th scope=row>A New Hope</th><td>460.998</td><td>314.4</td></tr>\n",
       "\t<tr><th scope=row>The Empire Strikes Back</th><td>290.475</td><td>247.9</td></tr>\n",
       "\t<tr><th scope=row>Return of the Jedi</th><td>309.306</td><td>165.8</td></tr>\n",
       "\t<tr><th scope=row>The Phantom Menace</th><td>474.500</td><td>552.5</td></tr>\n",
       "\t<tr><th scope=row>Attack of the Clones</th><td>310.700</td><td>338.7</td></tr>\n",
       "\t<tr><th scope=row>Revenge of the Sith</th><td>380.300</td><td>468.5</td></tr>\n",
       "</tbody>\n",
       "</table>\n"
      ],
      "text/latex": [
       "A matrix: 6 × 2 of type dbl\n",
       "\\begin{tabular}{r|ll}\n",
       "  & US & non-US\\\\\n",
       "\\hline\n",
       "\tA New Hope & 460.998 & 314.4\\\\\n",
       "\tThe Empire Strikes Back & 290.475 & 247.9\\\\\n",
       "\tReturn of the Jedi & 309.306 & 165.8\\\\\n",
       "\tThe Phantom Menace & 474.500 & 552.5\\\\\n",
       "\tAttack of the Clones & 310.700 & 338.7\\\\\n",
       "\tRevenge of the Sith & 380.300 & 468.5\\\\\n",
       "\\end{tabular}\n"
      ],
      "text/markdown": [
       "\n",
       "A matrix: 6 × 2 of type dbl\n",
       "\n",
       "| <!--/--> | US | non-US |\n",
       "|---|---|---|\n",
       "| A New Hope | 460.998 | 314.4 |\n",
       "| The Empire Strikes Back | 290.475 | 247.9 |\n",
       "| Return of the Jedi | 309.306 | 165.8 |\n",
       "| The Phantom Menace | 474.500 | 552.5 |\n",
       "| Attack of the Clones | 310.700 | 338.7 |\n",
       "| Revenge of the Sith | 380.300 | 468.5 |\n",
       "\n"
      ],
      "text/plain": [
       "                        US      non-US\n",
       "A New Hope              460.998 314.4 \n",
       "The Empire Strikes Back 290.475 247.9 \n",
       "Return of the Jedi      309.306 165.8 \n",
       "The Phantom Menace      474.500 552.5 \n",
       "Attack of the Clones    310.700 338.7 \n",
       "Revenge of the Sith     380.300 468.5 "
      ]
     },
     "metadata": {},
     "output_type": "display_data"
    },
    {
     "data": {
      "text/html": [
       "'\\nWonderful! Continue with the next exercise and see how you can combine the results of the rbind() function with the colSums() function! \\n'"
      ],
      "text/latex": [
       "'\\textbackslash{}nWonderful! Continue with the next exercise and see how you can combine the results of the rbind() function with the colSums() function! \\textbackslash{}n'"
      ],
      "text/markdown": [
       "'\\nWonderful! Continue with the next exercise and see how you can combine the results of the rbind() function with the colSums() function! \\n'"
      ],
      "text/plain": [
       "[1] \"\\nWonderful! Continue with the next exercise and see how you can combine the results of the rbind() function with the colSums() function! \\n\""
      ]
     },
     "metadata": {},
     "output_type": "display_data"
    }
   ],
   "source": [
    "# exercise 06\n",
    "\n",
    "\"\n",
    "Adding a row\n",
    "\n",
    "Just like every action has a reaction, every cbind() has an rbind(). (We admit, we are pretty bad with metaphors.)\n",
    "\n",
    "Your R workspace, where all variables you defined 'live' (check out what a workspace is), has already been initialized and contains two matrices:\n",
    "\n",
    "    star_wars_matrix that we have used all along, with data on the original trilogy,\n",
    "    star_wars_matrix2, with similar data for the prequels trilogy.\n",
    "\n",
    "Explore these matrices in the console if you want to have a closer look. If you want to check out the contents of the workspace, you can type ls() in the console.\n",
    "\"\n",
    "\n",
    "# Instructions\n",
    "\n",
    "\"\n",
    "Use rbind() to paste together star_wars_matrix and star_wars_matrix2, in this order. Assign the resulting matrix to all_wars_matrix.\n",
    "\"\n",
    "\n",
    "# solution\n",
    "\n",
    "# star_wars_matrix and star_wars_matrix2 are available in your workspace\n",
    "star_wars_matrix  \n",
    "star_wars_matrix2 \n",
    "\n",
    "# Combine both Star Wars trilogies in one matrix\n",
    "all_wars_matrix <- rbind(star_wars_matrix, star_wars_matrix2)\n",
    "\n",
    "#----------------------------------#\n",
    "all_wars_matrix\n",
    "# Conclusion\n",
    "\n",
    "\"\n",
    "Wonderful! Continue with the next exercise and see how you can combine the results of the rbind() function with the colSums() function! \n",
    "\""
   ]
  },
  {
   "cell_type": "code",
   "execution_count": 20,
   "metadata": {
    "tags": [],
    "vscode": {
     "languageId": "r"
    }
   },
   "outputs": [
    {
     "data": {
      "text/html": [
       "'\\nThe total box office revenue for the entire saga\\n\\nJust like cbind() has rbind(), colSums() has rowSums(). Your R workspace already contains the all_wars_matrix that you constructed in the previous exercise; type all_wars_matrix to have another look. Let\\'s now calculate the total box office revenue for the entire saga.\\n'"
      ],
      "text/latex": [
       "'\\textbackslash{}nThe total box office revenue for the entire saga\\textbackslash{}n\\textbackslash{}nJust like cbind() has rbind(), colSums() has rowSums(). Your R workspace already contains the all\\_wars\\_matrix that you constructed in the previous exercise; type all\\_wars\\_matrix to have another look. Let\\textbackslash{}'s now calculate the total box office revenue for the entire saga.\\textbackslash{}n'"
      ],
      "text/markdown": [
       "'\\nThe total box office revenue for the entire saga\\n\\nJust like cbind() has rbind(), colSums() has rowSums(). Your R workspace already contains the all_wars_matrix that you constructed in the previous exercise; type all_wars_matrix to have another look. Let\\'s now calculate the total box office revenue for the entire saga.\\n'"
      ],
      "text/plain": [
       "[1] \"\\nThe total box office revenue for the entire saga\\n\\nJust like cbind() has rbind(), colSums() has rowSums(). Your R workspace already contains the all_wars_matrix that you constructed in the previous exercise; type all_wars_matrix to have another look. Let's now calculate the total box office revenue for the entire saga.\\n\""
      ]
     },
     "metadata": {},
     "output_type": "display_data"
    },
    {
     "data": {
      "text/html": [
       "<span style=white-space:pre-wrap>'\\n\\n    Calculate the total revenue for the US and the non-US region and assign total_revenue_vector. You can use the colSums() function.\\n    Print out total_revenue_vector to have a look at the results.\\n\\n'</span>"
      ],
      "text/latex": [
       "'\\textbackslash{}n\\textbackslash{}n    Calculate the total revenue for the US and the non-US region and assign total\\_revenue\\_vector. You can use the colSums() function.\\textbackslash{}n    Print out total\\_revenue\\_vector to have a look at the results.\\textbackslash{}n\\textbackslash{}n'"
      ],
      "text/markdown": [
       "<span style=white-space:pre-wrap>'\\n\\n    Calculate the total revenue for the US and the non-US region and assign total_revenue_vector. You can use the colSums() function.\\n    Print out total_revenue_vector to have a look at the results.\\n\\n'</span>"
      ],
      "text/plain": [
       "[1] \"\\n\\n    Calculate the total revenue for the US and the non-US region and assign total_revenue_vector. You can use the colSums() function.\\n    Print out total_revenue_vector to have a look at the results.\\n\\n\""
      ]
     },
     "metadata": {},
     "output_type": "display_data"
    },
    {
     "data": {
      "text/html": [
       "<table class=\"dataframe\">\n",
       "<caption>A matrix: 6 × 2 of type dbl</caption>\n",
       "<thead>\n",
       "\t<tr><th></th><th scope=col>US</th><th scope=col>non-US</th></tr>\n",
       "</thead>\n",
       "<tbody>\n",
       "\t<tr><th scope=row>A New Hope</th><td>460.998</td><td>314.4</td></tr>\n",
       "\t<tr><th scope=row>The Empire Strikes Back</th><td>290.475</td><td>247.9</td></tr>\n",
       "\t<tr><th scope=row>Return of the Jedi</th><td>309.306</td><td>165.8</td></tr>\n",
       "\t<tr><th scope=row>The Phantom Menace</th><td>474.500</td><td>552.5</td></tr>\n",
       "\t<tr><th scope=row>Attack of the Clones</th><td>310.700</td><td>338.7</td></tr>\n",
       "\t<tr><th scope=row>Revenge of the Sith</th><td>380.300</td><td>468.5</td></tr>\n",
       "</tbody>\n",
       "</table>\n"
      ],
      "text/latex": [
       "A matrix: 6 × 2 of type dbl\n",
       "\\begin{tabular}{r|ll}\n",
       "  & US & non-US\\\\\n",
       "\\hline\n",
       "\tA New Hope & 460.998 & 314.4\\\\\n",
       "\tThe Empire Strikes Back & 290.475 & 247.9\\\\\n",
       "\tReturn of the Jedi & 309.306 & 165.8\\\\\n",
       "\tThe Phantom Menace & 474.500 & 552.5\\\\\n",
       "\tAttack of the Clones & 310.700 & 338.7\\\\\n",
       "\tRevenge of the Sith & 380.300 & 468.5\\\\\n",
       "\\end{tabular}\n"
      ],
      "text/markdown": [
       "\n",
       "A matrix: 6 × 2 of type dbl\n",
       "\n",
       "| <!--/--> | US | non-US |\n",
       "|---|---|---|\n",
       "| A New Hope | 460.998 | 314.4 |\n",
       "| The Empire Strikes Back | 290.475 | 247.9 |\n",
       "| Return of the Jedi | 309.306 | 165.8 |\n",
       "| The Phantom Menace | 474.500 | 552.5 |\n",
       "| Attack of the Clones | 310.700 | 338.7 |\n",
       "| Revenge of the Sith | 380.300 | 468.5 |\n",
       "\n"
      ],
      "text/plain": [
       "                        US      non-US\n",
       "A New Hope              460.998 314.4 \n",
       "The Empire Strikes Back 290.475 247.9 \n",
       "Return of the Jedi      309.306 165.8 \n",
       "The Phantom Menace      474.500 552.5 \n",
       "Attack of the Clones    310.700 338.7 \n",
       "Revenge of the Sith     380.300 468.5 "
      ]
     },
     "metadata": {},
     "output_type": "display_data"
    },
    {
     "data": {
      "text/html": [
       "<style>\n",
       ".dl-inline {width: auto; margin:0; padding: 0}\n",
       ".dl-inline>dt, .dl-inline>dd {float: none; width: auto; display: inline-block}\n",
       ".dl-inline>dt::after {content: \":\\0020\"; padding-right: .5ex}\n",
       ".dl-inline>dt:not(:first-of-type) {padding-left: .5ex}\n",
       "</style><dl class=dl-inline><dt>US</dt><dd>2226.279</dd><dt>non-US</dt><dd>2087.8</dd></dl>\n"
      ],
      "text/latex": [
       "\\begin{description*}\n",
       "\\item[US] 2226.279\n",
       "\\item[non-US] 2087.8\n",
       "\\end{description*}\n"
      ],
      "text/markdown": [
       "US\n",
       ":   2226.279non-US\n",
       ":   2087.8\n",
       "\n"
      ],
      "text/plain": [
       "      US   non-US \n",
       "2226.279 2087.800 "
      ]
     },
     "metadata": {},
     "output_type": "display_data"
    },
    {
     "data": {
      "text/html": [
       "'\\nBellissimo! Head over to the next exercise to learn matrix subsetting. \\n'"
      ],
      "text/latex": [
       "'\\textbackslash{}nBellissimo! Head over to the next exercise to learn matrix subsetting. \\textbackslash{}n'"
      ],
      "text/markdown": [
       "'\\nBellissimo! Head over to the next exercise to learn matrix subsetting. \\n'"
      ],
      "text/plain": [
       "[1] \"\\nBellissimo! Head over to the next exercise to learn matrix subsetting. \\n\""
      ]
     },
     "metadata": {},
     "output_type": "display_data"
    }
   ],
   "source": [
    "# exercise 07\n",
    "\n",
    "\"\n",
    "The total box office revenue for the entire saga\n",
    "\n",
    "Just like cbind() has rbind(), colSums() has rowSums(). Your R workspace already contains the all_wars_matrix that you constructed in the previous exercise; type all_wars_matrix to have another look. Let's now calculate the total box office revenue for the entire saga.\n",
    "\"\n",
    "\n",
    "# Instructions\n",
    "\n",
    "\"\n",
    "\n",
    "    Calculate the total revenue for the US and the non-US region and assign total_revenue_vector. You can use the colSums() function.\n",
    "    Print out total_revenue_vector to have a look at the results.\n",
    "\n",
    "\"\n",
    "\n",
    "# solution\n",
    "\n",
    "# all_wars_matrix is available in your workspace\n",
    "all_wars_matrix\n",
    "\n",
    "# Total revenue for US and non-US\n",
    "total_revenue_vector <- colSums(all_wars_matrix)\n",
    "  \n",
    "# Print out total_revenue_vector\n",
    "total_revenue_vector\n",
    "\n",
    "#----------------------------------#\n",
    "\n",
    "# Conclusion\n",
    "\n",
    "\"\n",
    "Bellissimo! Head over to the next exercise to learn matrix subsetting. \n",
    "\""
   ]
  },
  {
   "cell_type": "code",
   "execution_count": 21,
   "metadata": {
    "tags": [],
    "vscode": {
     "languageId": "r"
    }
   },
   "outputs": [
    {
     "data": {
      "text/html": [
       "<span style=white-space:pre-wrap>'\\nSelection of matrix elements\\n\\nSimilar to vectors, you can use the square brackets [ ] to select one or multiple elements from a matrix. Whereas vectors have one dimension, matrices have two dimensions. You should therefore use a comma to separate the rows you want to select from the columns. For example:\\n\\n    my_matrix[1,2] selects the element at the first row and second column.\\n    my_matrix[1:3,2:4] results in a matrix with the data on the rows 1, 2, 3 and columns 2, 3, 4.\\n\\nIf you want to select all elements of a row or a column, no number is needed before or after the comma, respectively:\\n\\n    my_matrix[,1] selects all elements of the first column.\\n    my_matrix[1,] selects all elements of the first row.\\n\\nBack to Star Wars with this newly acquired knowledge! As in the previous exercise, all_wars_matrix is already available in your workspace.\\n'</span>"
      ],
      "text/latex": [
       "'\\textbackslash{}nSelection of matrix elements\\textbackslash{}n\\textbackslash{}nSimilar to vectors, you can use the square brackets {[} {]} to select one or multiple elements from a matrix. Whereas vectors have one dimension, matrices have two dimensions. You should therefore use a comma to separate the rows you want to select from the columns. For example:\\textbackslash{}n\\textbackslash{}n    my\\_matrix{[}1,2{]} selects the element at the first row and second column.\\textbackslash{}n    my\\_matrix{[}1:3,2:4{]} results in a matrix with the data on the rows 1, 2, 3 and columns 2, 3, 4.\\textbackslash{}n\\textbackslash{}nIf you want to select all elements of a row or a column, no number is needed before or after the comma, respectively:\\textbackslash{}n\\textbackslash{}n    my\\_matrix{[},1{]} selects all elements of the first column.\\textbackslash{}n    my\\_matrix{[}1,{]} selects all elements of the first row.\\textbackslash{}n\\textbackslash{}nBack to Star Wars with this newly acquired knowledge! As in the previous exercise, all\\_wars\\_matrix is already available in your workspace.\\textbackslash{}n'"
      ],
      "text/markdown": [
       "<span style=white-space:pre-wrap>'\\nSelection of matrix elements\\n\\nSimilar to vectors, you can use the square brackets [ ] to select one or multiple elements from a matrix. Whereas vectors have one dimension, matrices have two dimensions. You should therefore use a comma to separate the rows you want to select from the columns. For example:\\n\\n    my_matrix[1,2] selects the element at the first row and second column.\\n    my_matrix[1:3,2:4] results in a matrix with the data on the rows 1, 2, 3 and columns 2, 3, 4.\\n\\nIf you want to select all elements of a row or a column, no number is needed before or after the comma, respectively:\\n\\n    my_matrix[,1] selects all elements of the first column.\\n    my_matrix[1,] selects all elements of the first row.\\n\\nBack to Star Wars with this newly acquired knowledge! As in the previous exercise, all_wars_matrix is already available in your workspace.\\n'</span>"
      ],
      "text/plain": [
       "[1] \"\\nSelection of matrix elements\\n\\nSimilar to vectors, you can use the square brackets [ ] to select one or multiple elements from a matrix. Whereas vectors have one dimension, matrices have two dimensions. You should therefore use a comma to separate the rows you want to select from the columns. For example:\\n\\n    my_matrix[1,2] selects the element at the first row and second column.\\n    my_matrix[1:3,2:4] results in a matrix with the data on the rows 1, 2, 3 and columns 2, 3, 4.\\n\\nIf you want to select all elements of a row or a column, no number is needed before or after the comma, respectively:\\n\\n    my_matrix[,1] selects all elements of the first column.\\n    my_matrix[1,] selects all elements of the first row.\\n\\nBack to Star Wars with this newly acquired knowledge! As in the previous exercise, all_wars_matrix is already available in your workspace.\\n\""
      ]
     },
     "metadata": {},
     "output_type": "display_data"
    },
    {
     "data": {
      "text/html": [
       "<span style=white-space:pre-wrap>'\\n\\n    Select the non-US revenue for all movies (the entire second column of all_wars_matrix), store the result as non_us_all.\\n    Use mean() on non_us_all to calculate the average non-US revenue for all movies. Simply print out the result.\\n    This time, select the non-US revenue for the first two movies in all_wars_matrix. Store the result as non_us_some.\\n    Use mean() again to print out the average of the values in non_us_some.\\n\\n'</span>"
      ],
      "text/latex": [
       "'\\textbackslash{}n\\textbackslash{}n    Select the non-US revenue for all movies (the entire second column of all\\_wars\\_matrix), store the result as non\\_us\\_all.\\textbackslash{}n    Use mean() on non\\_us\\_all to calculate the average non-US revenue for all movies. Simply print out the result.\\textbackslash{}n    This time, select the non-US revenue for the first two movies in all\\_wars\\_matrix. Store the result as non\\_us\\_some.\\textbackslash{}n    Use mean() again to print out the average of the values in non\\_us\\_some.\\textbackslash{}n\\textbackslash{}n'"
      ],
      "text/markdown": [
       "<span style=white-space:pre-wrap>'\\n\\n    Select the non-US revenue for all movies (the entire second column of all_wars_matrix), store the result as non_us_all.\\n    Use mean() on non_us_all to calculate the average non-US revenue for all movies. Simply print out the result.\\n    This time, select the non-US revenue for the first two movies in all_wars_matrix. Store the result as non_us_some.\\n    Use mean() again to print out the average of the values in non_us_some.\\n\\n'</span>"
      ],
      "text/plain": [
       "[1] \"\\n\\n    Select the non-US revenue for all movies (the entire second column of all_wars_matrix), store the result as non_us_all.\\n    Use mean() on non_us_all to calculate the average non-US revenue for all movies. Simply print out the result.\\n    This time, select the non-US revenue for the first two movies in all_wars_matrix. Store the result as non_us_some.\\n    Use mean() again to print out the average of the values in non_us_some.\\n\\n\""
      ]
     },
     "metadata": {},
     "output_type": "display_data"
    },
    {
     "data": {
      "text/html": [
       "<table class=\"dataframe\">\n",
       "<caption>A matrix: 6 × 2 of type dbl</caption>\n",
       "<thead>\n",
       "\t<tr><th></th><th scope=col>US</th><th scope=col>non-US</th></tr>\n",
       "</thead>\n",
       "<tbody>\n",
       "\t<tr><th scope=row>A New Hope</th><td>460.998</td><td>314.4</td></tr>\n",
       "\t<tr><th scope=row>The Empire Strikes Back</th><td>290.475</td><td>247.9</td></tr>\n",
       "\t<tr><th scope=row>Return of the Jedi</th><td>309.306</td><td>165.8</td></tr>\n",
       "\t<tr><th scope=row>The Phantom Menace</th><td>474.500</td><td>552.5</td></tr>\n",
       "\t<tr><th scope=row>Attack of the Clones</th><td>310.700</td><td>338.7</td></tr>\n",
       "\t<tr><th scope=row>Revenge of the Sith</th><td>380.300</td><td>468.5</td></tr>\n",
       "</tbody>\n",
       "</table>\n"
      ],
      "text/latex": [
       "A matrix: 6 × 2 of type dbl\n",
       "\\begin{tabular}{r|ll}\n",
       "  & US & non-US\\\\\n",
       "\\hline\n",
       "\tA New Hope & 460.998 & 314.4\\\\\n",
       "\tThe Empire Strikes Back & 290.475 & 247.9\\\\\n",
       "\tReturn of the Jedi & 309.306 & 165.8\\\\\n",
       "\tThe Phantom Menace & 474.500 & 552.5\\\\\n",
       "\tAttack of the Clones & 310.700 & 338.7\\\\\n",
       "\tRevenge of the Sith & 380.300 & 468.5\\\\\n",
       "\\end{tabular}\n"
      ],
      "text/markdown": [
       "\n",
       "A matrix: 6 × 2 of type dbl\n",
       "\n",
       "| <!--/--> | US | non-US |\n",
       "|---|---|---|\n",
       "| A New Hope | 460.998 | 314.4 |\n",
       "| The Empire Strikes Back | 290.475 | 247.9 |\n",
       "| Return of the Jedi | 309.306 | 165.8 |\n",
       "| The Phantom Menace | 474.500 | 552.5 |\n",
       "| Attack of the Clones | 310.700 | 338.7 |\n",
       "| Revenge of the Sith | 380.300 | 468.5 |\n",
       "\n"
      ],
      "text/plain": [
       "                        US      non-US\n",
       "A New Hope              460.998 314.4 \n",
       "The Empire Strikes Back 290.475 247.9 \n",
       "Return of the Jedi      309.306 165.8 \n",
       "The Phantom Menace      474.500 552.5 \n",
       "Attack of the Clones    310.700 338.7 \n",
       "Revenge of the Sith     380.300 468.5 "
      ]
     },
     "metadata": {},
     "output_type": "display_data"
    },
    {
     "data": {
      "text/html": [
       "347.966666666667"
      ],
      "text/latex": [
       "347.966666666667"
      ],
      "text/markdown": [
       "347.966666666667"
      ],
      "text/plain": [
       "[1] 347.9667"
      ]
     },
     "metadata": {},
     "output_type": "display_data"
    },
    {
     "data": {
      "text/html": [
       "281.15"
      ],
      "text/latex": [
       "281.15"
      ],
      "text/markdown": [
       "281.15"
      ],
      "text/plain": [
       "[1] 281.15"
      ]
     },
     "metadata": {},
     "output_type": "display_data"
    },
    {
     "data": {
      "text/html": [
       "'\\nNice one! Continue to the next exercise. \\n'"
      ],
      "text/latex": [
       "'\\textbackslash{}nNice one! Continue to the next exercise. \\textbackslash{}n'"
      ],
      "text/markdown": [
       "'\\nNice one! Continue to the next exercise. \\n'"
      ],
      "text/plain": [
       "[1] \"\\nNice one! Continue to the next exercise. \\n\""
      ]
     },
     "metadata": {},
     "output_type": "display_data"
    }
   ],
   "source": [
    "# exercise 08\n",
    "\n",
    "\"\n",
    "Selection of matrix elements\n",
    "\n",
    "Similar to vectors, you can use the square brackets [ ] to select one or multiple elements from a matrix. Whereas vectors have one dimension, matrices have two dimensions. You should therefore use a comma to separate the rows you want to select from the columns. For example:\n",
    "\n",
    "    my_matrix[1,2] selects the element at the first row and second column.\n",
    "    my_matrix[1:3,2:4] results in a matrix with the data on the rows 1, 2, 3 and columns 2, 3, 4.\n",
    "\n",
    "If you want to select all elements of a row or a column, no number is needed before or after the comma, respectively:\n",
    "\n",
    "    my_matrix[,1] selects all elements of the first column.\n",
    "    my_matrix[1,] selects all elements of the first row.\n",
    "\n",
    "Back to Star Wars with this newly acquired knowledge! As in the previous exercise, all_wars_matrix is already available in your workspace.\n",
    "\"\n",
    "\n",
    "# Instructions\n",
    "\n",
    "\"\n",
    "\n",
    "    Select the non-US revenue for all movies (the entire second column of all_wars_matrix), store the result as non_us_all.\n",
    "    Use mean() on non_us_all to calculate the average non-US revenue for all movies. Simply print out the result.\n",
    "    This time, select the non-US revenue for the first two movies in all_wars_matrix. Store the result as non_us_some.\n",
    "    Use mean() again to print out the average of the values in non_us_some.\n",
    "\n",
    "\"\n",
    "\n",
    "# solution\n",
    "\n",
    "# all_wars_matrix is available in your workspace\n",
    "all_wars_matrix\n",
    "\n",
    "# Select the non-US revenue for all movies\n",
    "non_us_all <- all_wars_matrix[,2]\n",
    "  \n",
    "# Average non-US revenue\n",
    "mean(non_us_all)\n",
    "  \n",
    "# Select the non-US revenue for first two movies\n",
    "non_us_some <- all_wars_matrix[1:2, 2]\n",
    "  \n",
    "# Average non-US revenue for first two movies\n",
    "mean(non_us_some)\n",
    "\n",
    "#----------------------------------#\n",
    "\n",
    "# Conclusion\n",
    "\n",
    "\"\n",
    "Nice one! Continue to the next exercise. \n",
    "\""
   ]
  },
  {
   "cell_type": "code",
   "execution_count": 22,
   "metadata": {
    "tags": [],
    "vscode": {
     "languageId": "r"
    }
   },
   "outputs": [
    {
     "data": {
      "text/html": [
       "'\\nA little arithmetic with matrices\\n\\nSimilar to what you have learned with vectors, the standard operators like +, -, /, *, etc. work in an element-wise way on matrices in R.\\n\\nFor example, 2 * my_matrix multiplies each element of my_matrix by two.\\n\\nAs a newly-hired data analyst for Lucasfilm, it is your job to find out how many visitors went to each movie for each geographical area. You already have the total revenue figures in all_wars_matrix. Assume that the price of a ticket was 5 dollars. Simply dividing the box office numbers by this ticket price gives you the number of visitors.\\n'"
      ],
      "text/latex": [
       "'\\textbackslash{}nA little arithmetic with matrices\\textbackslash{}n\\textbackslash{}nSimilar to what you have learned with vectors, the standard operators like +, -, /, *, etc. work in an element-wise way on matrices in R.\\textbackslash{}n\\textbackslash{}nFor example, 2 * my\\_matrix multiplies each element of my\\_matrix by two.\\textbackslash{}n\\textbackslash{}nAs a newly-hired data analyst for Lucasfilm, it is your job to find out how many visitors went to each movie for each geographical area. You already have the total revenue figures in all\\_wars\\_matrix. Assume that the price of a ticket was 5 dollars. Simply dividing the box office numbers by this ticket price gives you the number of visitors.\\textbackslash{}n'"
      ],
      "text/markdown": [
       "'\\nA little arithmetic with matrices\\n\\nSimilar to what you have learned with vectors, the standard operators like +, -, /, *, etc. work in an element-wise way on matrices in R.\\n\\nFor example, 2 * my_matrix multiplies each element of my_matrix by two.\\n\\nAs a newly-hired data analyst for Lucasfilm, it is your job to find out how many visitors went to each movie for each geographical area. You already have the total revenue figures in all_wars_matrix. Assume that the price of a ticket was 5 dollars. Simply dividing the box office numbers by this ticket price gives you the number of visitors.\\n'"
      ],
      "text/plain": [
       "[1] \"\\nA little arithmetic with matrices\\n\\nSimilar to what you have learned with vectors, the standard operators like +, -, /, *, etc. work in an element-wise way on matrices in R.\\n\\nFor example, 2 * my_matrix multiplies each element of my_matrix by two.\\n\\nAs a newly-hired data analyst for Lucasfilm, it is your job to find out how many visitors went to each movie for each geographical area. You already have the total revenue figures in all_wars_matrix. Assume that the price of a ticket was 5 dollars. Simply dividing the box office numbers by this ticket price gives you the number of visitors.\\n\""
      ]
     },
     "metadata": {},
     "output_type": "display_data"
    },
    {
     "data": {
      "text/html": [
       "<span style=white-space:pre-wrap>'\\n\\n    Divide all_wars_matrix by 5, giving you the number of visitors in millions. Assign the resulting matrix to visitors.\\n    Print out visitors so you can have a look.\\n\\n'</span>"
      ],
      "text/latex": [
       "'\\textbackslash{}n\\textbackslash{}n    Divide all\\_wars\\_matrix by 5, giving you the number of visitors in millions. Assign the resulting matrix to visitors.\\textbackslash{}n    Print out visitors so you can have a look.\\textbackslash{}n\\textbackslash{}n'"
      ],
      "text/markdown": [
       "<span style=white-space:pre-wrap>'\\n\\n    Divide all_wars_matrix by 5, giving you the number of visitors in millions. Assign the resulting matrix to visitors.\\n    Print out visitors so you can have a look.\\n\\n'</span>"
      ],
      "text/plain": [
       "[1] \"\\n\\n    Divide all_wars_matrix by 5, giving you the number of visitors in millions. Assign the resulting matrix to visitors.\\n    Print out visitors so you can have a look.\\n\\n\""
      ]
     },
     "metadata": {},
     "output_type": "display_data"
    },
    {
     "data": {
      "text/html": [
       "<table class=\"dataframe\">\n",
       "<caption>A matrix: 6 × 2 of type dbl</caption>\n",
       "<thead>\n",
       "\t<tr><th></th><th scope=col>US</th><th scope=col>non-US</th></tr>\n",
       "</thead>\n",
       "<tbody>\n",
       "\t<tr><th scope=row>A New Hope</th><td>460.998</td><td>314.4</td></tr>\n",
       "\t<tr><th scope=row>The Empire Strikes Back</th><td>290.475</td><td>247.9</td></tr>\n",
       "\t<tr><th scope=row>Return of the Jedi</th><td>309.306</td><td>165.8</td></tr>\n",
       "\t<tr><th scope=row>The Phantom Menace</th><td>474.500</td><td>552.5</td></tr>\n",
       "\t<tr><th scope=row>Attack of the Clones</th><td>310.700</td><td>338.7</td></tr>\n",
       "\t<tr><th scope=row>Revenge of the Sith</th><td>380.300</td><td>468.5</td></tr>\n",
       "</tbody>\n",
       "</table>\n"
      ],
      "text/latex": [
       "A matrix: 6 × 2 of type dbl\n",
       "\\begin{tabular}{r|ll}\n",
       "  & US & non-US\\\\\n",
       "\\hline\n",
       "\tA New Hope & 460.998 & 314.4\\\\\n",
       "\tThe Empire Strikes Back & 290.475 & 247.9\\\\\n",
       "\tReturn of the Jedi & 309.306 & 165.8\\\\\n",
       "\tThe Phantom Menace & 474.500 & 552.5\\\\\n",
       "\tAttack of the Clones & 310.700 & 338.7\\\\\n",
       "\tRevenge of the Sith & 380.300 & 468.5\\\\\n",
       "\\end{tabular}\n"
      ],
      "text/markdown": [
       "\n",
       "A matrix: 6 × 2 of type dbl\n",
       "\n",
       "| <!--/--> | US | non-US |\n",
       "|---|---|---|\n",
       "| A New Hope | 460.998 | 314.4 |\n",
       "| The Empire Strikes Back | 290.475 | 247.9 |\n",
       "| Return of the Jedi | 309.306 | 165.8 |\n",
       "| The Phantom Menace | 474.500 | 552.5 |\n",
       "| Attack of the Clones | 310.700 | 338.7 |\n",
       "| Revenge of the Sith | 380.300 | 468.5 |\n",
       "\n"
      ],
      "text/plain": [
       "                        US      non-US\n",
       "A New Hope              460.998 314.4 \n",
       "The Empire Strikes Back 290.475 247.9 \n",
       "Return of the Jedi      309.306 165.8 \n",
       "The Phantom Menace      474.500 552.5 \n",
       "Attack of the Clones    310.700 338.7 \n",
       "Revenge of the Sith     380.300 468.5 "
      ]
     },
     "metadata": {},
     "output_type": "display_data"
    },
    {
     "data": {
      "text/html": [
       "<table class=\"dataframe\">\n",
       "<caption>A matrix: 6 × 2 of type dbl</caption>\n",
       "<thead>\n",
       "\t<tr><th></th><th scope=col>US</th><th scope=col>non-US</th></tr>\n",
       "</thead>\n",
       "<tbody>\n",
       "\t<tr><th scope=row>A New Hope</th><td>92.1996</td><td> 62.88</td></tr>\n",
       "\t<tr><th scope=row>The Empire Strikes Back</th><td>58.0950</td><td> 49.58</td></tr>\n",
       "\t<tr><th scope=row>Return of the Jedi</th><td>61.8612</td><td> 33.16</td></tr>\n",
       "\t<tr><th scope=row>The Phantom Menace</th><td>94.9000</td><td>110.50</td></tr>\n",
       "\t<tr><th scope=row>Attack of the Clones</th><td>62.1400</td><td> 67.74</td></tr>\n",
       "\t<tr><th scope=row>Revenge of the Sith</th><td>76.0600</td><td> 93.70</td></tr>\n",
       "</tbody>\n",
       "</table>\n"
      ],
      "text/latex": [
       "A matrix: 6 × 2 of type dbl\n",
       "\\begin{tabular}{r|ll}\n",
       "  & US & non-US\\\\\n",
       "\\hline\n",
       "\tA New Hope & 92.1996 &  62.88\\\\\n",
       "\tThe Empire Strikes Back & 58.0950 &  49.58\\\\\n",
       "\tReturn of the Jedi & 61.8612 &  33.16\\\\\n",
       "\tThe Phantom Menace & 94.9000 & 110.50\\\\\n",
       "\tAttack of the Clones & 62.1400 &  67.74\\\\\n",
       "\tRevenge of the Sith & 76.0600 &  93.70\\\\\n",
       "\\end{tabular}\n"
      ],
      "text/markdown": [
       "\n",
       "A matrix: 6 × 2 of type dbl\n",
       "\n",
       "| <!--/--> | US | non-US |\n",
       "|---|---|---|\n",
       "| A New Hope | 92.1996 |  62.88 |\n",
       "| The Empire Strikes Back | 58.0950 |  49.58 |\n",
       "| Return of the Jedi | 61.8612 |  33.16 |\n",
       "| The Phantom Menace | 94.9000 | 110.50 |\n",
       "| Attack of the Clones | 62.1400 |  67.74 |\n",
       "| Revenge of the Sith | 76.0600 |  93.70 |\n",
       "\n"
      ],
      "text/plain": [
       "                        US      non-US\n",
       "A New Hope              92.1996  62.88\n",
       "The Empire Strikes Back 58.0950  49.58\n",
       "Return of the Jedi      61.8612  33.16\n",
       "The Phantom Menace      94.9000 110.50\n",
       "Attack of the Clones    62.1400  67.74\n",
       "Revenge of the Sith     76.0600  93.70"
      ]
     },
     "metadata": {},
     "output_type": "display_data"
    },
    {
     "data": {
      "text/html": [
       "'\\nGreat! What do these results tell you? A staggering 92 million people went to see A New Hope in US theaters! Continue to the next exercise. \\n'"
      ],
      "text/latex": [
       "'\\textbackslash{}nGreat! What do these results tell you? A staggering 92 million people went to see A New Hope in US theaters! Continue to the next exercise. \\textbackslash{}n'"
      ],
      "text/markdown": [
       "'\\nGreat! What do these results tell you? A staggering 92 million people went to see A New Hope in US theaters! Continue to the next exercise. \\n'"
      ],
      "text/plain": [
       "[1] \"\\nGreat! What do these results tell you? A staggering 92 million people went to see A New Hope in US theaters! Continue to the next exercise. \\n\""
      ]
     },
     "metadata": {},
     "output_type": "display_data"
    }
   ],
   "source": [
    "# exercise 09\n",
    "\n",
    "\"\n",
    "A little arithmetic with matrices\n",
    "\n",
    "Similar to what you have learned with vectors, the standard operators like +, -, /, *, etc. work in an element-wise way on matrices in R.\n",
    "\n",
    "For example, 2 * my_matrix multiplies each element of my_matrix by two.\n",
    "\n",
    "As a newly-hired data analyst for Lucasfilm, it is your job to find out how many visitors went to each movie for each geographical area. You already have the total revenue figures in all_wars_matrix. Assume that the price of a ticket was 5 dollars. Simply dividing the box office numbers by this ticket price gives you the number of visitors.\n",
    "\"\n",
    "\n",
    "# Instructions\n",
    "\n",
    "\"\n",
    "\n",
    "    Divide all_wars_matrix by 5, giving you the number of visitors in millions. Assign the resulting matrix to visitors.\n",
    "    Print out visitors so you can have a look.\n",
    "\n",
    "\"\n",
    "\n",
    "# solution\n",
    "\n",
    "# all_wars_matrix is available in your workspace\n",
    "all_wars_matrix\n",
    "\n",
    "# Estimate the visitors\n",
    "visitors <- all_wars_matrix /5\n",
    "  \n",
    "# Print the estimate to the console\n",
    "visitors\n",
    "\n",
    "#----------------------------------#\n",
    "\n",
    "# Conclusion\n",
    "\n",
    "\"\n",
    "Great! What do these results tell you? A staggering 92 million people went to see A New Hope in US theaters! Continue to the next exercise. \n",
    "\""
   ]
  },
  {
   "cell_type": "code",
   "execution_count": 23,
   "metadata": {
    "vscode": {
     "languageId": "r"
    }
   },
   "outputs": [
    {
     "data": {
      "text/html": [
       "<table class=\"dataframe\">\n",
       "<caption>A matrix: 6 × 2 of type dbl</caption>\n",
       "<thead>\n",
       "\t<tr><th></th><th scope=col>US</th><th scope=col>non-US</th></tr>\n",
       "</thead>\n",
       "<tbody>\n",
       "\t<tr><th scope=row>A New Hope</th><td>5.0</td><td>5.0</td></tr>\n",
       "\t<tr><th scope=row>The Empire Strickes Back</th><td>6.0</td><td>6.0</td></tr>\n",
       "\t<tr><th scope=row>Return of the Jedi</th><td>7.0</td><td>7.0</td></tr>\n",
       "\t<tr><th scope=row>The Phantom Menace</th><td>4.0</td><td>4.0</td></tr>\n",
       "\t<tr><th scope=row>Attack of the Clones</th><td>4.5</td><td>4.5</td></tr>\n",
       "\t<tr><th scope=row>Revenge of the Sith</th><td>4.9</td><td>4.9</td></tr>\n",
       "</tbody>\n",
       "</table>\n"
      ],
      "text/latex": [
       "A matrix: 6 × 2 of type dbl\n",
       "\\begin{tabular}{r|ll}\n",
       "  & US & non-US\\\\\n",
       "\\hline\n",
       "\tA New Hope & 5.0 & 5.0\\\\\n",
       "\tThe Empire Strickes Back & 6.0 & 6.0\\\\\n",
       "\tReturn of the Jedi & 7.0 & 7.0\\\\\n",
       "\tThe Phantom Menace & 4.0 & 4.0\\\\\n",
       "\tAttack of the Clones & 4.5 & 4.5\\\\\n",
       "\tRevenge of the Sith & 4.9 & 4.9\\\\\n",
       "\\end{tabular}\n"
      ],
      "text/markdown": [
       "\n",
       "A matrix: 6 × 2 of type dbl\n",
       "\n",
       "| <!--/--> | US | non-US |\n",
       "|---|---|---|\n",
       "| A New Hope | 5.0 | 5.0 |\n",
       "| The Empire Strickes Back | 6.0 | 6.0 |\n",
       "| Return of the Jedi | 7.0 | 7.0 |\n",
       "| The Phantom Menace | 4.0 | 4.0 |\n",
       "| Attack of the Clones | 4.5 | 4.5 |\n",
       "| Revenge of the Sith | 4.9 | 4.9 |\n",
       "\n"
      ],
      "text/plain": [
       "                         US  non-US\n",
       "A New Hope               5.0 5.0   \n",
       "The Empire Strickes Back 6.0 6.0   \n",
       "Return of the Jedi       7.0 7.0   \n",
       "The Phantom Menace       4.0 4.0   \n",
       "Attack of the Clones     4.5 4.5   \n",
       "Revenge of the Sith      4.9 4.9   "
      ]
     },
     "metadata": {},
     "output_type": "display_data"
    }
   ],
   "source": [
    "titles <- c(\"A New Hope\", \"The Empire Strickes Back\", \"Return of the Jedi\", \"The Phantom Menace\", \"Attack of the Clones\", \"Revenge of the Sith\")\n",
    "data <- c(5.0, 5.0, 6.0, 6.0, 7.0, 7.0, 4.0, 4.0, 4.5, 4.5, 4.9, 4.9)\n",
    "ticket_prices_matrix <- star_wars_matrix2 <- matrix(data, nrow=6, byrow=TRUE, dimnames=list(titles, region))\n",
    "ticket_prices_matrix"
   ]
  },
  {
   "cell_type": "code",
   "execution_count": 24,
   "metadata": {
    "tags": [],
    "vscode": {
     "languageId": "r"
    }
   },
   "outputs": [
    {
     "data": {
      "text/html": [
       "'\\nA little arithmetic with matrices (2)\\n\\nJust like 2 * my_matrix multiplied every element of my_matrix by two, my_matrix1 * my_matrix2 creates a matrix where each element is the product of the corresponding elements in my_matrix1 and my_matrix2.\\n\\nAfter looking at the result of the previous exercise, big boss Lucas points out that the ticket prices went up over time. He asks to redo the analysis based on the prices you can find in ticket_prices_matrix (source: imagination).\\n\\nThose who are familiar with matrices should note that this is not the standard matrix multiplication for which you should use %*% in R.\\n'"
      ],
      "text/latex": [
       "'\\textbackslash{}nA little arithmetic with matrices (2)\\textbackslash{}n\\textbackslash{}nJust like 2 * my\\_matrix multiplied every element of my\\_matrix by two, my\\_matrix1 * my\\_matrix2 creates a matrix where each element is the product of the corresponding elements in my\\_matrix1 and my\\_matrix2.\\textbackslash{}n\\textbackslash{}nAfter looking at the result of the previous exercise, big boss Lucas points out that the ticket prices went up over time. He asks to redo the analysis based on the prices you can find in ticket\\_prices\\_matrix (source: imagination).\\textbackslash{}n\\textbackslash{}nThose who are familiar with matrices should note that this is not the standard matrix multiplication for which you should use \\%*\\% in R.\\textbackslash{}n'"
      ],
      "text/markdown": [
       "'\\nA little arithmetic with matrices (2)\\n\\nJust like 2 * my_matrix multiplied every element of my_matrix by two, my_matrix1 * my_matrix2 creates a matrix where each element is the product of the corresponding elements in my_matrix1 and my_matrix2.\\n\\nAfter looking at the result of the previous exercise, big boss Lucas points out that the ticket prices went up over time. He asks to redo the analysis based on the prices you can find in ticket_prices_matrix (source: imagination).\\n\\nThose who are familiar with matrices should note that this is not the standard matrix multiplication for which you should use %*% in R.\\n'"
      ],
      "text/plain": [
       "[1] \"\\nA little arithmetic with matrices (2)\\n\\nJust like 2 * my_matrix multiplied every element of my_matrix by two, my_matrix1 * my_matrix2 creates a matrix where each element is the product of the corresponding elements in my_matrix1 and my_matrix2.\\n\\nAfter looking at the result of the previous exercise, big boss Lucas points out that the ticket prices went up over time. He asks to redo the analysis based on the prices you can find in ticket_prices_matrix (source: imagination).\\n\\nThose who are familiar with matrices should note that this is not the standard matrix multiplication for which you should use %*% in R.\\n\""
      ]
     },
     "metadata": {},
     "output_type": "display_data"
    },
    {
     "data": {
      "text/html": [
       "<span style=white-space:pre-wrap>'\\n\\n    Divide all_wars_matrix by ticket_prices_matrix to get the estimated number of US and non-US visitors for the six movies. Assign the result to visitors.\\n    From the visitors matrix, select the entire first column, representing the number of visitors in the US. Store this selection as us_visitors.\\n    Calculate the average number of US visitors; print out the result.\\n\\n\\n'</span>"
      ],
      "text/latex": [
       "'\\textbackslash{}n\\textbackslash{}n    Divide all\\_wars\\_matrix by ticket\\_prices\\_matrix to get the estimated number of US and non-US visitors for the six movies. Assign the result to visitors.\\textbackslash{}n    From the visitors matrix, select the entire first column, representing the number of visitors in the US. Store this selection as us\\_visitors.\\textbackslash{}n    Calculate the average number of US visitors; print out the result.\\textbackslash{}n\\textbackslash{}n\\textbackslash{}n'"
      ],
      "text/markdown": [
       "<span style=white-space:pre-wrap>'\\n\\n    Divide all_wars_matrix by ticket_prices_matrix to get the estimated number of US and non-US visitors for the six movies. Assign the result to visitors.\\n    From the visitors matrix, select the entire first column, representing the number of visitors in the US. Store this selection as us_visitors.\\n    Calculate the average number of US visitors; print out the result.\\n\\n\\n'</span>"
      ],
      "text/plain": [
       "[1] \"\\n\\n    Divide all_wars_matrix by ticket_prices_matrix to get the estimated number of US and non-US visitors for the six movies. Assign the result to visitors.\\n    From the visitors matrix, select the entire first column, representing the number of visitors in the US. Store this selection as us_visitors.\\n    Calculate the average number of US visitors; print out the result.\\n\\n\\n\""
      ]
     },
     "metadata": {},
     "output_type": "display_data"
    },
    {
     "data": {
      "text/html": [
       "<table class=\"dataframe\">\n",
       "<caption>A matrix: 6 × 2 of type dbl</caption>\n",
       "<thead>\n",
       "\t<tr><th></th><th scope=col>US</th><th scope=col>non-US</th></tr>\n",
       "</thead>\n",
       "<tbody>\n",
       "\t<tr><th scope=row>A New Hope</th><td>460.998</td><td>314.4</td></tr>\n",
       "\t<tr><th scope=row>The Empire Strikes Back</th><td>290.475</td><td>247.9</td></tr>\n",
       "\t<tr><th scope=row>Return of the Jedi</th><td>309.306</td><td>165.8</td></tr>\n",
       "\t<tr><th scope=row>The Phantom Menace</th><td>474.500</td><td>552.5</td></tr>\n",
       "\t<tr><th scope=row>Attack of the Clones</th><td>310.700</td><td>338.7</td></tr>\n",
       "\t<tr><th scope=row>Revenge of the Sith</th><td>380.300</td><td>468.5</td></tr>\n",
       "</tbody>\n",
       "</table>\n"
      ],
      "text/latex": [
       "A matrix: 6 × 2 of type dbl\n",
       "\\begin{tabular}{r|ll}\n",
       "  & US & non-US\\\\\n",
       "\\hline\n",
       "\tA New Hope & 460.998 & 314.4\\\\\n",
       "\tThe Empire Strikes Back & 290.475 & 247.9\\\\\n",
       "\tReturn of the Jedi & 309.306 & 165.8\\\\\n",
       "\tThe Phantom Menace & 474.500 & 552.5\\\\\n",
       "\tAttack of the Clones & 310.700 & 338.7\\\\\n",
       "\tRevenge of the Sith & 380.300 & 468.5\\\\\n",
       "\\end{tabular}\n"
      ],
      "text/markdown": [
       "\n",
       "A matrix: 6 × 2 of type dbl\n",
       "\n",
       "| <!--/--> | US | non-US |\n",
       "|---|---|---|\n",
       "| A New Hope | 460.998 | 314.4 |\n",
       "| The Empire Strikes Back | 290.475 | 247.9 |\n",
       "| Return of the Jedi | 309.306 | 165.8 |\n",
       "| The Phantom Menace | 474.500 | 552.5 |\n",
       "| Attack of the Clones | 310.700 | 338.7 |\n",
       "| Revenge of the Sith | 380.300 | 468.5 |\n",
       "\n"
      ],
      "text/plain": [
       "                        US      non-US\n",
       "A New Hope              460.998 314.4 \n",
       "The Empire Strikes Back 290.475 247.9 \n",
       "Return of the Jedi      309.306 165.8 \n",
       "The Phantom Menace      474.500 552.5 \n",
       "Attack of the Clones    310.700 338.7 \n",
       "Revenge of the Sith     380.300 468.5 "
      ]
     },
     "metadata": {},
     "output_type": "display_data"
    },
    {
     "data": {
      "text/html": [
       "<table class=\"dataframe\">\n",
       "<caption>A matrix: 6 × 2 of type dbl</caption>\n",
       "<thead>\n",
       "\t<tr><th></th><th scope=col>US</th><th scope=col>non-US</th></tr>\n",
       "</thead>\n",
       "<tbody>\n",
       "\t<tr><th scope=row>A New Hope</th><td>5.0</td><td>5.0</td></tr>\n",
       "\t<tr><th scope=row>The Empire Strickes Back</th><td>6.0</td><td>6.0</td></tr>\n",
       "\t<tr><th scope=row>Return of the Jedi</th><td>7.0</td><td>7.0</td></tr>\n",
       "\t<tr><th scope=row>The Phantom Menace</th><td>4.0</td><td>4.0</td></tr>\n",
       "\t<tr><th scope=row>Attack of the Clones</th><td>4.5</td><td>4.5</td></tr>\n",
       "\t<tr><th scope=row>Revenge of the Sith</th><td>4.9</td><td>4.9</td></tr>\n",
       "</tbody>\n",
       "</table>\n"
      ],
      "text/latex": [
       "A matrix: 6 × 2 of type dbl\n",
       "\\begin{tabular}{r|ll}\n",
       "  & US & non-US\\\\\n",
       "\\hline\n",
       "\tA New Hope & 5.0 & 5.0\\\\\n",
       "\tThe Empire Strickes Back & 6.0 & 6.0\\\\\n",
       "\tReturn of the Jedi & 7.0 & 7.0\\\\\n",
       "\tThe Phantom Menace & 4.0 & 4.0\\\\\n",
       "\tAttack of the Clones & 4.5 & 4.5\\\\\n",
       "\tRevenge of the Sith & 4.9 & 4.9\\\\\n",
       "\\end{tabular}\n"
      ],
      "text/markdown": [
       "\n",
       "A matrix: 6 × 2 of type dbl\n",
       "\n",
       "| <!--/--> | US | non-US |\n",
       "|---|---|---|\n",
       "| A New Hope | 5.0 | 5.0 |\n",
       "| The Empire Strickes Back | 6.0 | 6.0 |\n",
       "| Return of the Jedi | 7.0 | 7.0 |\n",
       "| The Phantom Menace | 4.0 | 4.0 |\n",
       "| Attack of the Clones | 4.5 | 4.5 |\n",
       "| Revenge of the Sith | 4.9 | 4.9 |\n",
       "\n"
      ],
      "text/plain": [
       "                         US  non-US\n",
       "A New Hope               5.0 5.0   \n",
       "The Empire Strickes Back 6.0 6.0   \n",
       "Return of the Jedi       7.0 7.0   \n",
       "The Phantom Menace       4.0 4.0   \n",
       "Attack of the Clones     4.5 4.5   \n",
       "Revenge of the Sith      4.9 4.9   "
      ]
     },
     "metadata": {},
     "output_type": "display_data"
    },
    {
     "data": {
      "text/html": [
       "75.0133934618292"
      ],
      "text/latex": [
       "75.0133934618292"
      ],
      "text/markdown": [
       "75.0133934618292"
      ],
      "text/plain": [
       "[1] 75.01339"
      ]
     },
     "metadata": {},
     "output_type": "display_data"
    },
    {
     "data": {
      "text/html": [
       "'\\nIt\\'s a fact: the R force is with you! This exercise concludes the chapter on matrices. Next stop on your journey through the R language: factors. \\n'"
      ],
      "text/latex": [
       "'\\textbackslash{}nIt\\textbackslash{}'s a fact: the R force is with you! This exercise concludes the chapter on matrices. Next stop on your journey through the R language: factors. \\textbackslash{}n'"
      ],
      "text/markdown": [
       "'\\nIt\\'s a fact: the R force is with you! This exercise concludes the chapter on matrices. Next stop on your journey through the R language: factors. \\n'"
      ],
      "text/plain": [
       "[1] \"\\nIt's a fact: the R force is with you! This exercise concludes the chapter on matrices. Next stop on your journey through the R language: factors. \\n\""
      ]
     },
     "metadata": {},
     "output_type": "display_data"
    }
   ],
   "source": [
    "# exercise 10\n",
    "\n",
    "\"\n",
    "A little arithmetic with matrices (2)\n",
    "\n",
    "Just like 2 * my_matrix multiplied every element of my_matrix by two, my_matrix1 * my_matrix2 creates a matrix where each element is the product of the corresponding elements in my_matrix1 and my_matrix2.\n",
    "\n",
    "After looking at the result of the previous exercise, big boss Lucas points out that the ticket prices went up over time. He asks to redo the analysis based on the prices you can find in ticket_prices_matrix (source: imagination).\n",
    "\n",
    "Those who are familiar with matrices should note that this is not the standard matrix multiplication for which you should use %*% in R.\n",
    "\"\n",
    "\n",
    "# Instructions\n",
    "\n",
    "\"\n",
    "\n",
    "    Divide all_wars_matrix by ticket_prices_matrix to get the estimated number of US and non-US visitors for the six movies. Assign the result to visitors.\n",
    "    From the visitors matrix, select the entire first column, representing the number of visitors in the US. Store this selection as us_visitors.\n",
    "    Calculate the average number of US visitors; print out the result.\n",
    "\n",
    "\n",
    "\"\n",
    "\n",
    "# solution\n",
    "\n",
    "# all_wars_matrix and ticket_prices_matrix are available in your workspace\n",
    "all_wars_matrix\n",
    "ticket_prices_matrix\n",
    "\n",
    "# Estimated number of visitors\n",
    "visitors <- all_wars_matrix / ticket_prices_matrix\n",
    "\n",
    "# US visitors\n",
    "us_visitors <- visitors[,1]\n",
    "\n",
    "# Average number of US visitors\n",
    "mean(us_visitors)\n",
    "\n",
    "#----------------------------------#\n",
    "\n",
    "# Conclusion\n",
    "\n",
    "\"\n",
    "It's a fact: the R force is with you! This exercise concludes the chapter on matrices. Next stop on your journey through the R language: factors. \n",
    "\""
   ]
  }
 ],
 "metadata": {
  "kernelspec": {
   "display_name": "R",
   "language": "R",
   "name": "ir"
  },
  "language_info": {
   "codemirror_mode": "r",
   "file_extension": ".r",
   "mimetype": "text/x-r-source",
   "name": "R",
   "pygments_lexer": "r",
   "version": "4.3.2"
  }
 },
 "nbformat": 4,
 "nbformat_minor": 4
}
