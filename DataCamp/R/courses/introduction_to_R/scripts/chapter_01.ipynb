{
 "cells": [
  {
   "cell_type": "code",
   "execution_count": 2,
   "metadata": {
    "vscode": {
     "languageId": "r"
    }
   },
   "outputs": [
    {
     "data": {
      "text/html": [
       "'How it works\\n\\nIn the editor on the right you should type R code to solve the exercises. When you hit the \\'Submit Answer\\' button, every line of code is interpreted and executed by R and you get a message whether or not your code was correct. The output of your R code is shown in the console in the lower right corner.\\n\\nR makes use of the # sign to add comments, so that you and others can understand what the R code is about. Just like Twitter! Comments are not run as R code, so they will not influence your result. For example, Calculate 3 + 4 in the editor on the right is a comment.\\n\\nYou can also execute R commands straight in the console. This is a good way to experiment with R code, as your submission is not checked for correctness.\\n'"
      ],
      "text/latex": [
       "'How it works\\textbackslash{}n\\textbackslash{}nIn the editor on the right you should type R code to solve the exercises. When you hit the \\textbackslash{}'Submit Answer\\textbackslash{}' button, every line of code is interpreted and executed by R and you get a message whether or not your code was correct. The output of your R code is shown in the console in the lower right corner.\\textbackslash{}n\\textbackslash{}nR makes use of the \\# sign to add comments, so that you and others can understand what the R code is about. Just like Twitter! Comments are not run as R code, so they will not influence your result. For example, Calculate 3 + 4 in the editor on the right is a comment.\\textbackslash{}n\\textbackslash{}nYou can also execute R commands straight in the console. This is a good way to experiment with R code, as your submission is not checked for correctness.\\textbackslash{}n'"
      ],
      "text/markdown": [
       "'How it works\\n\\nIn the editor on the right you should type R code to solve the exercises. When you hit the \\'Submit Answer\\' button, every line of code is interpreted and executed by R and you get a message whether or not your code was correct. The output of your R code is shown in the console in the lower right corner.\\n\\nR makes use of the # sign to add comments, so that you and others can understand what the R code is about. Just like Twitter! Comments are not run as R code, so they will not influence your result. For example, Calculate 3 + 4 in the editor on the right is a comment.\\n\\nYou can also execute R commands straight in the console. This is a good way to experiment with R code, as your submission is not checked for correctness.\\n'"
      ],
      "text/plain": [
       "[1] \"How it works\\n\\nIn the editor on the right you should type R code to solve the exercises. When you hit the 'Submit Answer' button, every line of code is interpreted and executed by R and you get a message whether or not your code was correct. The output of your R code is shown in the console in the lower right corner.\\n\\nR makes use of the # sign to add comments, so that you and others can understand what the R code is about. Just like Twitter! Comments are not run as R code, so they will not influence your result. For example, Calculate 3 + 4 in the editor on the right is a comment.\\n\\nYou can also execute R commands straight in the console. This is a good way to experiment with R code, as your submission is not checked for correctness.\\n\""
      ]
     },
     "metadata": {},
     "output_type": "display_data"
    },
    {
     "data": {
      "text/html": [
       "<span style=white-space:pre-wrap>'    In the editor on the right there is already some sample code. Can you see which lines are actual R code and which are comments?\\n    Add a line of code that calculates the sum of 6 and 12, and hit the \\'Submit Answer\\' button.\\n'</span>"
      ],
      "text/latex": [
       "'    In the editor on the right there is already some sample code. Can you see which lines are actual R code and which are comments?\\textbackslash{}n    Add a line of code that calculates the sum of 6 and 12, and hit the \\textbackslash{}'Submit Answer\\textbackslash{}' button.\\textbackslash{}n'"
      ],
      "text/markdown": [
       "<span style=white-space:pre-wrap>'    In the editor on the right there is already some sample code. Can you see which lines are actual R code and which are comments?\\n    Add a line of code that calculates the sum of 6 and 12, and hit the \\'Submit Answer\\' button.\\n'</span>"
      ],
      "text/plain": [
       "[1] \"    In the editor on the right there is already some sample code. Can you see which lines are actual R code and which are comments?\\n    Add a line of code that calculates the sum of 6 and 12, and hit the 'Submit Answer' button.\\n\""
      ]
     },
     "metadata": {},
     "output_type": "display_data"
    },
    {
     "data": {
      "text/html": [
       "7"
      ],
      "text/latex": [
       "7"
      ],
      "text/markdown": [
       "7"
      ],
      "text/plain": [
       "[1] 7"
      ]
     },
     "metadata": {},
     "output_type": "display_data"
    },
    {
     "data": {
      "text/html": [
       "18"
      ],
      "text/latex": [
       "18"
      ],
      "text/markdown": [
       "18"
      ],
      "text/plain": [
       "[1] 18"
      ]
     },
     "metadata": {},
     "output_type": "display_data"
    },
    {
     "data": {
      "text/html": [
       "'Awesome! See how the console shows the result of the R code you submitted? Now that you\\'re familiar with the interface, let\\'s get down to R business! '"
      ],
      "text/latex": [
       "'Awesome! See how the console shows the result of the R code you submitted? Now that you\\textbackslash{}'re familiar with the interface, let\\textbackslash{}'s get down to R business! '"
      ],
      "text/markdown": [
       "'Awesome! See how the console shows the result of the R code you submitted? Now that you\\'re familiar with the interface, let\\'s get down to R business! '"
      ],
      "text/plain": [
       "[1] \"Awesome! See how the console shows the result of the R code you submitted? Now that you're familiar with the interface, let's get down to R business! \""
      ]
     },
     "metadata": {},
     "output_type": "display_data"
    }
   ],
   "source": [
    "# Exercise 01\n",
    "\n",
    "\"How it works\n",
    "\n",
    "In the editor on the right you should type R code to solve the exercises. When you hit the 'Submit Answer' button, every line of code is interpreted and executed by R and you get a message whether or not your code was correct. The output of your R code is shown in the console in the lower right corner.\n",
    "\n",
    "R makes use of the # sign to add comments, so that you and others can understand what the R code is about. Just like Twitter! Comments are not run as R code, so they will not influence your result. For example, Calculate 3 + 4 in the editor on the right is a comment.\n",
    "\n",
    "You can also execute R commands straight in the console. This is a good way to experiment with R code, as your submission is not checked for correctness.\n",
    "\"\n",
    "# Instructions \n",
    "\n",
    "\n",
    "\"    In the editor on the right there is already some sample code. Can you see which lines are actual R code and which are comments?\n",
    "    Add a line of code that calculates the sum of 6 and 12, and hit the 'Submit Answer' button.\n",
    "\"\n",
    "\n",
    "# Solution\n",
    "\n",
    "# Calculate 3 + 4\n",
    "3 + 4\n",
    "\n",
    "# Calculate 6 + 12\n",
    "6 + 12\n",
    "\n",
    "#---------------------------#\n",
    "\n",
    "# Conclusion\n",
    "\"Awesome! See how the console shows the result of the R code you submitted? Now that you're familiar with the interface, let's get down to R business! \""
   ]
  },
  {
   "cell_type": "code",
   "execution_count": 3,
   "metadata": {
    "tags": [],
    "vscode": {
     "languageId": "r"
    }
   },
   "outputs": [
    {
     "data": {
      "text/html": [
       "<span style=white-space:pre-wrap>'\\nArithmetic with R\\n\\nIn its most basic form, R can be used as a simple calculator. Consider the following arithmetic operators:\\n\\n    Addition: +\\n    Subtraction: -\\n    Multiplication: *\\n    Division: /\\n    Exponentiation: ^\\n    Modulo: %%\\n\\nThe last two might need some explaining:\\n\\n    The ^ operator raises the number to its left to the power of the number to its right: for example 3^2 is 9.\\n    The modulo returns the remainder of the division of the number to the left by the number on its right, for example 5 modulo 3 or 5 %% 3 is 2.\\n\\nWith this knowledge, follow the instructions to complete the exercise.\\n'</span>"
      ],
      "text/latex": [
       "'\\textbackslash{}nArithmetic with R\\textbackslash{}n\\textbackslash{}nIn its most basic form, R can be used as a simple calculator. Consider the following arithmetic operators:\\textbackslash{}n\\textbackslash{}n    Addition: +\\textbackslash{}n    Subtraction: -\\textbackslash{}n    Multiplication: *\\textbackslash{}n    Division: /\\textbackslash{}n    Exponentiation: \\textasciicircum{}\\textbackslash{}n    Modulo: \\%\\%\\textbackslash{}n\\textbackslash{}nThe last two might need some explaining:\\textbackslash{}n\\textbackslash{}n    The \\textasciicircum{} operator raises the number to its left to the power of the number to its right: for example 3\\textasciicircum{}2 is 9.\\textbackslash{}n    The modulo returns the remainder of the division of the number to the left by the number on its right, for example 5 modulo 3 or 5 \\%\\% 3 is 2.\\textbackslash{}n\\textbackslash{}nWith this knowledge, follow the instructions to complete the exercise.\\textbackslash{}n'"
      ],
      "text/markdown": [
       "<span style=white-space:pre-wrap>'\\nArithmetic with R\\n\\nIn its most basic form, R can be used as a simple calculator. Consider the following arithmetic operators:\\n\\n    Addition: +\\n    Subtraction: -\\n    Multiplication: *\\n    Division: /\\n    Exponentiation: ^\\n    Modulo: %%\\n\\nThe last two might need some explaining:\\n\\n    The ^ operator raises the number to its left to the power of the number to its right: for example 3^2 is 9.\\n    The modulo returns the remainder of the division of the number to the left by the number on its right, for example 5 modulo 3 or 5 %% 3 is 2.\\n\\nWith this knowledge, follow the instructions to complete the exercise.\\n'</span>"
      ],
      "text/plain": [
       "[1] \"\\nArithmetic with R\\n\\nIn its most basic form, R can be used as a simple calculator. Consider the following arithmetic operators:\\n\\n    Addition: +\\n    Subtraction: -\\n    Multiplication: *\\n    Division: /\\n    Exponentiation: ^\\n    Modulo: %%\\n\\nThe last two might need some explaining:\\n\\n    The ^ operator raises the number to its left to the power of the number to its right: for example 3^2 is 9.\\n    The modulo returns the remainder of the division of the number to the left by the number on its right, for example 5 modulo 3 or 5 %% 3 is 2.\\n\\nWith this knowledge, follow the instructions to complete the exercise.\\n\""
      ]
     },
     "metadata": {},
     "output_type": "display_data"
    },
    {
     "data": {
      "text/html": [
       "<span style=white-space:pre-wrap>'\\n\\n    Type 2^5 in the editor to calculate 2 to the power 5.\\n    Type 28 %% 6 to calculate 28 modulo 6.\\n    Submit the answer and have a look at the R output in the console.\\n    Note how the # symbol is used to add comments on the R code.\\n\\n'</span>"
      ],
      "text/latex": [
       "'\\textbackslash{}n\\textbackslash{}n    Type 2\\textasciicircum{}5 in the editor to calculate 2 to the power 5.\\textbackslash{}n    Type 28 \\%\\% 6 to calculate 28 modulo 6.\\textbackslash{}n    Submit the answer and have a look at the R output in the console.\\textbackslash{}n    Note how the \\# symbol is used to add comments on the R code.\\textbackslash{}n\\textbackslash{}n'"
      ],
      "text/markdown": [
       "<span style=white-space:pre-wrap>'\\n\\n    Type 2^5 in the editor to calculate 2 to the power 5.\\n    Type 28 %% 6 to calculate 28 modulo 6.\\n    Submit the answer and have a look at the R output in the console.\\n    Note how the # symbol is used to add comments on the R code.\\n\\n'</span>"
      ],
      "text/plain": [
       "[1] \"\\n\\n    Type 2^5 in the editor to calculate 2 to the power 5.\\n    Type 28 %% 6 to calculate 28 modulo 6.\\n    Submit the answer and have a look at the R output in the console.\\n    Note how the # symbol is used to add comments on the R code.\\n\\n\""
      ]
     },
     "metadata": {},
     "output_type": "display_data"
    },
    {
     "data": {
      "text/html": [
       "10"
      ],
      "text/latex": [
       "10"
      ],
      "text/markdown": [
       "10"
      ],
      "text/plain": [
       "[1] 10"
      ]
     },
     "metadata": {},
     "output_type": "display_data"
    },
    {
     "data": {
      "text/html": [
       "0"
      ],
      "text/latex": [
       "0"
      ],
      "text/markdown": [
       "0"
      ],
      "text/plain": [
       "[1] 0"
      ]
     },
     "metadata": {},
     "output_type": "display_data"
    },
    {
     "data": {
      "text/html": [
       "15"
      ],
      "text/latex": [
       "15"
      ],
      "text/markdown": [
       "15"
      ],
      "text/plain": [
       "[1] 15"
      ]
     },
     "metadata": {},
     "output_type": "display_data"
    },
    {
     "data": {
      "text/html": [
       "5"
      ],
      "text/latex": [
       "5"
      ],
      "text/markdown": [
       "5"
      ],
      "text/plain": [
       "[1] 5"
      ]
     },
     "metadata": {},
     "output_type": "display_data"
    },
    {
     "data": {
      "text/html": [
       "32"
      ],
      "text/latex": [
       "32"
      ],
      "text/markdown": [
       "32"
      ],
      "text/plain": [
       "[1] 32"
      ]
     },
     "metadata": {},
     "output_type": "display_data"
    },
    {
     "data": {
      "text/html": [
       "4"
      ],
      "text/latex": [
       "4"
      ],
      "text/markdown": [
       "4"
      ],
      "text/plain": [
       "[1] 4"
      ]
     },
     "metadata": {},
     "output_type": "display_data"
    },
    {
     "data": {
      "text/html": [
       "'\\nGreat! Head over to the next exercise. \\n'"
      ],
      "text/latex": [
       "'\\textbackslash{}nGreat! Head over to the next exercise. \\textbackslash{}n'"
      ],
      "text/markdown": [
       "'\\nGreat! Head over to the next exercise. \\n'"
      ],
      "text/plain": [
       "[1] \"\\nGreat! Head over to the next exercise. \\n\""
      ]
     },
     "metadata": {},
     "output_type": "display_data"
    }
   ],
   "source": [
    "# exercise 02\n",
    "\n",
    "\"\n",
    "Arithmetic with R\n",
    "\n",
    "In its most basic form, R can be used as a simple calculator. Consider the following arithmetic operators:\n",
    "\n",
    "    Addition: +\n",
    "    Subtraction: -\n",
    "    Multiplication: *\n",
    "    Division: /\n",
    "    Exponentiation: ^\n",
    "    Modulo: %%\n",
    "\n",
    "The last two might need some explaining:\n",
    "\n",
    "    The ^ operator raises the number to its left to the power of the number to its right: for example 3^2 is 9.\n",
    "    The modulo returns the remainder of the division of the number to the left by the number on its right, for example 5 modulo 3 or 5 %% 3 is 2.\n",
    "\n",
    "With this knowledge, follow the instructions to complete the exercise.\n",
    "\"\n",
    "\n",
    "# Instructions\n",
    "\n",
    "\"\n",
    "\n",
    "    Type 2^5 in the editor to calculate 2 to the power 5.\n",
    "    Type 28 %% 6 to calculate 28 modulo 6.\n",
    "    Submit the answer and have a look at the R output in the console.\n",
    "    Note how the # symbol is used to add comments on the R code.\n",
    "\n",
    "\"\n",
    "\n",
    "# solution\n",
    "\n",
    "# An addition\n",
    "5 + 5 \n",
    "\n",
    "# A subtraction\n",
    "5 - 5 \n",
    "\n",
    "# A multiplication\n",
    "3 * 5\n",
    "\n",
    " # A division\n",
    "(5 + 5) / 2 \n",
    "\n",
    "# Exponentiation\n",
    "2^5\n",
    "\n",
    "# Modulo\n",
    "28 %% 6\n",
    "\n",
    "#----------------------------------#\n",
    "\n",
    "# Conclusion\n",
    "\n",
    "\"\n",
    "Great! Head over to the next exercise. \n",
    "\""
   ]
  },
  {
   "cell_type": "code",
   "execution_count": 4,
   "metadata": {
    "tags": [],
    "vscode": {
     "languageId": "r"
    }
   },
   "outputs": [
    {
     "data": {
      "text/html": [
       "'\\nVariable assignment\\n\\nA basic concept in (statistical) programming is called a variable.\\n\\nA variable allows you to store a value (e.g. 4) or an object (e.g. a function description) in R. You can then later use this variable\\'s name to easily access the value or the object that is stored within this variable.\\n\\nYou can assign a value 4 to a variable my_var with the command\\n\\nmy_var &lt;- 4\\n\\n'"
      ],
      "text/latex": [
       "'\\textbackslash{}nVariable assignment\\textbackslash{}n\\textbackslash{}nA basic concept in (statistical) programming is called a variable.\\textbackslash{}n\\textbackslash{}nA variable allows you to store a value (e.g. 4) or an object (e.g. a function description) in R. You can then later use this variable\\textbackslash{}'s name to easily access the value or the object that is stored within this variable.\\textbackslash{}n\\textbackslash{}nYou can assign a value 4 to a variable my\\_var with the command\\textbackslash{}n\\textbackslash{}nmy\\_var <- 4\\textbackslash{}n\\textbackslash{}n'"
      ],
      "text/markdown": [
       "'\\nVariable assignment\\n\\nA basic concept in (statistical) programming is called a variable.\\n\\nA variable allows you to store a value (e.g. 4) or an object (e.g. a function description) in R. You can then later use this variable\\'s name to easily access the value or the object that is stored within this variable.\\n\\nYou can assign a value 4 to a variable my_var with the command\\n\\nmy_var &lt;- 4\\n\\n'"
      ],
      "text/plain": [
       "[1] \"\\nVariable assignment\\n\\nA basic concept in (statistical) programming is called a variable.\\n\\nA variable allows you to store a value (e.g. 4) or an object (e.g. a function description) in R. You can then later use this variable's name to easily access the value or the object that is stored within this variable.\\n\\nYou can assign a value 4 to a variable my_var with the command\\n\\nmy_var <- 4\\n\\n\""
      ]
     },
     "metadata": {},
     "output_type": "display_data"
    },
    {
     "data": {
      "text/html": [
       "'\\nOver to you: complete the code in the editor such that it assigns the value 42 to the variable x in the editor. Submit the answer. Notice that when you ask R to print x, the value 42 appears.\\n'"
      ],
      "text/latex": [
       "'\\textbackslash{}nOver to you: complete the code in the editor such that it assigns the value 42 to the variable x in the editor. Submit the answer. Notice that when you ask R to print x, the value 42 appears.\\textbackslash{}n'"
      ],
      "text/markdown": [
       "'\\nOver to you: complete the code in the editor such that it assigns the value 42 to the variable x in the editor. Submit the answer. Notice that when you ask R to print x, the value 42 appears.\\n'"
      ],
      "text/plain": [
       "[1] \"\\nOver to you: complete the code in the editor such that it assigns the value 42 to the variable x in the editor. Submit the answer. Notice that when you ask R to print x, the value 42 appears.\\n\""
      ]
     },
     "metadata": {},
     "output_type": "display_data"
    },
    {
     "data": {
      "text/html": [
       "42"
      ],
      "text/latex": [
       "42"
      ],
      "text/markdown": [
       "42"
      ],
      "text/plain": [
       "[1] 42"
      ]
     },
     "metadata": {},
     "output_type": "display_data"
    },
    {
     "data": {
      "text/html": [
       "'\\nGood job! Have you noticed that R does not print the value of a variable to the console when you did the assignment? x &lt;- 42 did not generate any output, because R assumes that you will be needing this variable in the future. Otherwise you wouldn\\'t have stored the value in a variable in the first place, right? Proceed to the next exercise! \\n'"
      ],
      "text/latex": [
       "'\\textbackslash{}nGood job! Have you noticed that R does not print the value of a variable to the console when you did the assignment? x <- 42 did not generate any output, because R assumes that you will be needing this variable in the future. Otherwise you wouldn\\textbackslash{}'t have stored the value in a variable in the first place, right? Proceed to the next exercise! \\textbackslash{}n'"
      ],
      "text/markdown": [
       "'\\nGood job! Have you noticed that R does not print the value of a variable to the console when you did the assignment? x &lt;- 42 did not generate any output, because R assumes that you will be needing this variable in the future. Otherwise you wouldn\\'t have stored the value in a variable in the first place, right? Proceed to the next exercise! \\n'"
      ],
      "text/plain": [
       "[1] \"\\nGood job! Have you noticed that R does not print the value of a variable to the console when you did the assignment? x <- 42 did not generate any output, because R assumes that you will be needing this variable in the future. Otherwise you wouldn't have stored the value in a variable in the first place, right? Proceed to the next exercise! \\n\""
      ]
     },
     "metadata": {},
     "output_type": "display_data"
    }
   ],
   "source": [
    "# exercise 03\n",
    "\n",
    "\"\n",
    "Variable assignment\n",
    "\n",
    "A basic concept in (statistical) programming is called a variable.\n",
    "\n",
    "A variable allows you to store a value (e.g. 4) or an object (e.g. a function description) in R. You can then later use this variable's name to easily access the value or the object that is stored within this variable.\n",
    "\n",
    "You can assign a value 4 to a variable my_var with the command\n",
    "\n",
    "my_var <- 4\n",
    "\n",
    "\"\n",
    "\n",
    "# Instructions\n",
    "\n",
    "\"\n",
    "Over to you: complete the code in the editor such that it assigns the value 42 to the variable x in the editor. Submit the answer. Notice that when you ask R to print x, the value 42 appears.\n",
    "\"\n",
    "\n",
    "# solution\n",
    "\n",
    "# Assign the value 42 to x\n",
    "x <- 42\n",
    "\n",
    "# Print out the value of the variable x\n",
    "x\n",
    "\n",
    "#----------------------------------#\n",
    "\n",
    "# Conclusion\n",
    "\n",
    "\"\n",
    "Good job! Have you noticed that R does not print the value of a variable to the console when you did the assignment? x <- 42 did not generate any output, because R assumes that you will be needing this variable in the future. Otherwise you wouldn't have stored the value in a variable in the first place, right? Proceed to the next exercise! \n",
    "\""
   ]
  },
  {
   "cell_type": "code",
   "execution_count": 5,
   "metadata": {
    "tags": [],
    "vscode": {
     "languageId": "r"
    }
   },
   "outputs": [
    {
     "data": {
      "text/html": [
       "'\\nVariable assignment (2)\\n\\nSuppose you have a fruit basket with five apples. As a data analyst in training, you want to store the number of apples in a variable with the name my_apples.\\n'"
      ],
      "text/latex": [
       "'\\textbackslash{}nVariable assignment (2)\\textbackslash{}n\\textbackslash{}nSuppose you have a fruit basket with five apples. As a data analyst in training, you want to store the number of apples in a variable with the name my\\_apples.\\textbackslash{}n'"
      ],
      "text/markdown": [
       "'\\nVariable assignment (2)\\n\\nSuppose you have a fruit basket with five apples. As a data analyst in training, you want to store the number of apples in a variable with the name my_apples.\\n'"
      ],
      "text/plain": [
       "[1] \"\\nVariable assignment (2)\\n\\nSuppose you have a fruit basket with five apples. As a data analyst in training, you want to store the number of apples in a variable with the name my_apples.\\n\""
      ]
     },
     "metadata": {},
     "output_type": "display_data"
    },
    {
     "data": {
      "text/html": [
       "<span style=white-space:pre-wrap>'\\n\\n    Type the following code in the editor: my_apples &lt;- 5. This will assign the value 5 to my_apples.\\n    Type: my_apples below the second comment. This will print out the value of my_apples.\\n    Submit your answer, and look at the output: you see that the number 5 is printed. So R now links the variable my_apples to the value 5.\\n\\n'</span>"
      ],
      "text/latex": [
       "'\\textbackslash{}n\\textbackslash{}n    Type the following code in the editor: my\\_apples <- 5. This will assign the value 5 to my\\_apples.\\textbackslash{}n    Type: my\\_apples below the second comment. This will print out the value of my\\_apples.\\textbackslash{}n    Submit your answer, and look at the output: you see that the number 5 is printed. So R now links the variable my\\_apples to the value 5.\\textbackslash{}n\\textbackslash{}n'"
      ],
      "text/markdown": [
       "<span style=white-space:pre-wrap>'\\n\\n    Type the following code in the editor: my_apples &lt;- 5. This will assign the value 5 to my_apples.\\n    Type: my_apples below the second comment. This will print out the value of my_apples.\\n    Submit your answer, and look at the output: you see that the number 5 is printed. So R now links the variable my_apples to the value 5.\\n\\n'</span>"
      ],
      "text/plain": [
       "[1] \"\\n\\n    Type the following code in the editor: my_apples <- 5. This will assign the value 5 to my_apples.\\n    Type: my_apples below the second comment. This will print out the value of my_apples.\\n    Submit your answer, and look at the output: you see that the number 5 is printed. So R now links the variable my_apples to the value 5.\\n\\n\""
      ]
     },
     "metadata": {},
     "output_type": "display_data"
    },
    {
     "data": {
      "text/html": [
       "5"
      ],
      "text/latex": [
       "5"
      ],
      "text/markdown": [
       "5"
      ],
      "text/plain": [
       "[1] 5"
      ]
     },
     "metadata": {},
     "output_type": "display_data"
    },
    {
     "data": {
      "text/html": [
       "'\\nGreat! Continue to the next exercise! \\n'"
      ],
      "text/latex": [
       "'\\textbackslash{}nGreat! Continue to the next exercise! \\textbackslash{}n'"
      ],
      "text/markdown": [
       "'\\nGreat! Continue to the next exercise! \\n'"
      ],
      "text/plain": [
       "[1] \"\\nGreat! Continue to the next exercise! \\n\""
      ]
     },
     "metadata": {},
     "output_type": "display_data"
    }
   ],
   "source": [
    "# exercise 04\n",
    "\n",
    "\"\n",
    "Variable assignment (2)\n",
    "\n",
    "Suppose you have a fruit basket with five apples. As a data analyst in training, you want to store the number of apples in a variable with the name my_apples.\n",
    "\"\n",
    "\n",
    "# Instructions\n",
    "\n",
    "\"\n",
    "\n",
    "    Type the following code in the editor: my_apples <- 5. This will assign the value 5 to my_apples.\n",
    "    Type: my_apples below the second comment. This will print out the value of my_apples.\n",
    "    Submit your answer, and look at the output: you see that the number 5 is printed. So R now links the variable my_apples to the value 5.\n",
    "\n",
    "\"\n",
    "\n",
    "# solution\n",
    "\n",
    "# Assign the value 5 to the variable my_apples\n",
    "my_apples <- 5\n",
    "\n",
    "# Print out the value of the variable my_apples\n",
    "my_apples\n",
    "\n",
    "#----------------------------------#\n",
    "\n",
    "# Conclusion\n",
    "\n",
    "\"\n",
    "Great! Continue to the next exercise! \n",
    "\""
   ]
  },
  {
   "cell_type": "code",
   "execution_count": 6,
   "metadata": {
    "tags": [],
    "vscode": {
     "languageId": "r"
    }
   },
   "outputs": [
    {
     "data": {
      "text/html": [
       "'\\nVariable assignment (3)\\n\\nEvery tasty fruit basket needs oranges, so you decide to add six oranges. As a data analyst, your reflex is to immediately create the variable my_oranges and assign the value 6 to it. Next, you want to calculate how many pieces of fruit you have in total. Since you have given meaningful names to these values, you can now code this in a clear way:\\n\\nmy_apples + my_oranges\\n\\n'"
      ],
      "text/latex": [
       "'\\textbackslash{}nVariable assignment (3)\\textbackslash{}n\\textbackslash{}nEvery tasty fruit basket needs oranges, so you decide to add six oranges. As a data analyst, your reflex is to immediately create the variable my\\_oranges and assign the value 6 to it. Next, you want to calculate how many pieces of fruit you have in total. Since you have given meaningful names to these values, you can now code this in a clear way:\\textbackslash{}n\\textbackslash{}nmy\\_apples + my\\_oranges\\textbackslash{}n\\textbackslash{}n'"
      ],
      "text/markdown": [
       "'\\nVariable assignment (3)\\n\\nEvery tasty fruit basket needs oranges, so you decide to add six oranges. As a data analyst, your reflex is to immediately create the variable my_oranges and assign the value 6 to it. Next, you want to calculate how many pieces of fruit you have in total. Since you have given meaningful names to these values, you can now code this in a clear way:\\n\\nmy_apples + my_oranges\\n\\n'"
      ],
      "text/plain": [
       "[1] \"\\nVariable assignment (3)\\n\\nEvery tasty fruit basket needs oranges, so you decide to add six oranges. As a data analyst, your reflex is to immediately create the variable my_oranges and assign the value 6 to it. Next, you want to calculate how many pieces of fruit you have in total. Since you have given meaningful names to these values, you can now code this in a clear way:\\n\\nmy_apples + my_oranges\\n\\n\""
      ]
     },
     "metadata": {},
     "output_type": "display_data"
    },
    {
     "data": {
      "text/html": [
       "<span style=white-space:pre-wrap>'\\n\\n    Assign to my_oranges the value 6.\\n    Add the variables my_apples and my_oranges and have R simply print the result.\\n    Assign the result of adding my_apples and my_oranges to a new variable my_fruit.\\n\\n'</span>"
      ],
      "text/latex": [
       "'\\textbackslash{}n\\textbackslash{}n    Assign to my\\_oranges the value 6.\\textbackslash{}n    Add the variables my\\_apples and my\\_oranges and have R simply print the result.\\textbackslash{}n    Assign the result of adding my\\_apples and my\\_oranges to a new variable my\\_fruit.\\textbackslash{}n\\textbackslash{}n'"
      ],
      "text/markdown": [
       "<span style=white-space:pre-wrap>'\\n\\n    Assign to my_oranges the value 6.\\n    Add the variables my_apples and my_oranges and have R simply print the result.\\n    Assign the result of adding my_apples and my_oranges to a new variable my_fruit.\\n\\n'</span>"
      ],
      "text/plain": [
       "[1] \"\\n\\n    Assign to my_oranges the value 6.\\n    Add the variables my_apples and my_oranges and have R simply print the result.\\n    Assign the result of adding my_apples and my_oranges to a new variable my_fruit.\\n\\n\""
      ]
     },
     "metadata": {},
     "output_type": "display_data"
    },
    {
     "data": {
      "text/html": [
       "11"
      ],
      "text/latex": [
       "11"
      ],
      "text/markdown": [
       "11"
      ],
      "text/plain": [
       "[1] 11"
      ]
     },
     "metadata": {},
     "output_type": "display_data"
    },
    {
     "data": {
      "text/html": [
       "'\\nNice one! The great advantage of doing calculations with variables is reusability. If you just change my_apples to equal 12 instead of 5 and rerun the script, my_fruit will automatically update as well. Continue to the next exercise. \\n'"
      ],
      "text/latex": [
       "'\\textbackslash{}nNice one! The great advantage of doing calculations with variables is reusability. If you just change my\\_apples to equal 12 instead of 5 and rerun the script, my\\_fruit will automatically update as well. Continue to the next exercise. \\textbackslash{}n'"
      ],
      "text/markdown": [
       "'\\nNice one! The great advantage of doing calculations with variables is reusability. If you just change my_apples to equal 12 instead of 5 and rerun the script, my_fruit will automatically update as well. Continue to the next exercise. \\n'"
      ],
      "text/plain": [
       "[1] \"\\nNice one! The great advantage of doing calculations with variables is reusability. If you just change my_apples to equal 12 instead of 5 and rerun the script, my_fruit will automatically update as well. Continue to the next exercise. \\n\""
      ]
     },
     "metadata": {},
     "output_type": "display_data"
    }
   ],
   "source": [
    "# exercise 05\n",
    "\n",
    "\"\n",
    "Variable assignment (3)\n",
    "\n",
    "Every tasty fruit basket needs oranges, so you decide to add six oranges. As a data analyst, your reflex is to immediately create the variable my_oranges and assign the value 6 to it. Next, you want to calculate how many pieces of fruit you have in total. Since you have given meaningful names to these values, you can now code this in a clear way:\n",
    "\n",
    "my_apples + my_oranges\n",
    "\n",
    "\"\n",
    "\n",
    "# Instructions\n",
    "\n",
    "\"\n",
    "\n",
    "    Assign to my_oranges the value 6.\n",
    "    Add the variables my_apples and my_oranges and have R simply print the result.\n",
    "    Assign the result of adding my_apples and my_oranges to a new variable my_fruit.\n",
    "\n",
    "\"\n",
    "\n",
    "# solution\n",
    "\n",
    "# Assign a value to the variables my_apples and my_oranges\n",
    "my_apples <- 5\n",
    "my_oranges <- 6\n",
    "\n",
    "# Add these two variables together\n",
    "my_apples + my_oranges\n",
    "\n",
    "# Create the variable my_fruit\n",
    "my_fruit <- my_apples + my_oranges\n",
    "\n",
    "#----------------------------------#\n",
    "\n",
    "# Conclusion\n",
    "\n",
    "\"\n",
    "Nice one! The great advantage of doing calculations with variables is reusability. If you just change my_apples to equal 12 instead of 5 and rerun the script, my_fruit will automatically update as well. Continue to the next exercise. \n",
    "\""
   ]
  },
  {
   "cell_type": "code",
   "execution_count": 7,
   "metadata": {
    "tags": [],
    "vscode": {
     "languageId": "r"
    }
   },
   "outputs": [
    {
     "data": {
      "text/html": [
       "'\\nApples and oranges\\n\\nCommon knowledge tells you not to add apples and oranges. But hey, that is what you just did, no :-)? The my_apples and my_oranges variables both contained a number in the previous exercise. The + operator works with numeric variables in R. If you really tried to add apples and oranges, and assigned a text value to the variable my_oranges (see the editor), you would be trying to assign the addition of a numeric and a character variable to the variable my_fruit. This is not possible.\\n'"
      ],
      "text/latex": [
       "'\\textbackslash{}nApples and oranges\\textbackslash{}n\\textbackslash{}nCommon knowledge tells you not to add apples and oranges. But hey, that is what you just did, no :-)? The my\\_apples and my\\_oranges variables both contained a number in the previous exercise. The + operator works with numeric variables in R. If you really tried to add apples and oranges, and assigned a text value to the variable my\\_oranges (see the editor), you would be trying to assign the addition of a numeric and a character variable to the variable my\\_fruit. This is not possible.\\textbackslash{}n'"
      ],
      "text/markdown": [
       "'\\nApples and oranges\\n\\nCommon knowledge tells you not to add apples and oranges. But hey, that is what you just did, no :-)? The my_apples and my_oranges variables both contained a number in the previous exercise. The + operator works with numeric variables in R. If you really tried to add apples and oranges, and assigned a text value to the variable my_oranges (see the editor), you would be trying to assign the addition of a numeric and a character variable to the variable my_fruit. This is not possible.\\n'"
      ],
      "text/plain": [
       "[1] \"\\nApples and oranges\\n\\nCommon knowledge tells you not to add apples and oranges. But hey, that is what you just did, no :-)? The my_apples and my_oranges variables both contained a number in the previous exercise. The + operator works with numeric variables in R. If you really tried to add apples and oranges, and assigned a text value to the variable my_oranges (see the editor), you would be trying to assign the addition of a numeric and a character variable to the variable my_fruit. This is not possible.\\n\""
      ]
     },
     "metadata": {},
     "output_type": "display_data"
    },
    {
     "data": {
      "text/html": [
       "<span style=white-space:pre-wrap>'\\n\\n    Submit the answer and read the error message. Make sure to understand why this did not work.\\n    Adjust the code so that R knows you have 6 oranges and thus a fruit basket with 11 pieces of fruit.\\n\\n'</span>"
      ],
      "text/latex": [
       "'\\textbackslash{}n\\textbackslash{}n    Submit the answer and read the error message. Make sure to understand why this did not work.\\textbackslash{}n    Adjust the code so that R knows you have 6 oranges and thus a fruit basket with 11 pieces of fruit.\\textbackslash{}n\\textbackslash{}n'"
      ],
      "text/markdown": [
       "<span style=white-space:pre-wrap>'\\n\\n    Submit the answer and read the error message. Make sure to understand why this did not work.\\n    Adjust the code so that R knows you have 6 oranges and thus a fruit basket with 11 pieces of fruit.\\n\\n'</span>"
      ],
      "text/plain": [
       "[1] \"\\n\\n    Submit the answer and read the error message. Make sure to understand why this did not work.\\n    Adjust the code so that R knows you have 6 oranges and thus a fruit basket with 11 pieces of fruit.\\n\\n\""
      ]
     },
     "metadata": {},
     "output_type": "display_data"
    },
    {
     "data": {
      "text/html": [
       "11"
      ],
      "text/latex": [
       "11"
      ],
      "text/markdown": [
       "11"
      ],
      "text/plain": [
       "[1] 11"
      ]
     },
     "metadata": {},
     "output_type": "display_data"
    },
    {
     "data": {
      "text/html": [
       "'\\nAwesome, keep up the good work! Continue to the next exercise. \\n'"
      ],
      "text/latex": [
       "'\\textbackslash{}nAwesome, keep up the good work! Continue to the next exercise. \\textbackslash{}n'"
      ],
      "text/markdown": [
       "'\\nAwesome, keep up the good work! Continue to the next exercise. \\n'"
      ],
      "text/plain": [
       "[1] \"\\nAwesome, keep up the good work! Continue to the next exercise. \\n\""
      ]
     },
     "metadata": {},
     "output_type": "display_data"
    }
   ],
   "source": [
    "# exercise 06\n",
    "\n",
    "\"\n",
    "Apples and oranges\n",
    "\n",
    "Common knowledge tells you not to add apples and oranges. But hey, that is what you just did, no :-)? The my_apples and my_oranges variables both contained a number in the previous exercise. The + operator works with numeric variables in R. If you really tried to add apples and oranges, and assigned a text value to the variable my_oranges (see the editor), you would be trying to assign the addition of a numeric and a character variable to the variable my_fruit. This is not possible.\n",
    "\"\n",
    "\n",
    "# Instructions\n",
    "\n",
    "\"\n",
    "\n",
    "    Submit the answer and read the error message. Make sure to understand why this did not work.\n",
    "    Adjust the code so that R knows you have 6 oranges and thus a fruit basket with 11 pieces of fruit.\n",
    "\n",
    "\"\n",
    "\n",
    "# solution\n",
    "\n",
    "# Assign a value to the variable my_apples\n",
    "my_apples <- 5 \n",
    "\n",
    "# Fix the assignment of my_oranges\n",
    "my_oranges <- 6\n",
    "\n",
    "# Create the variable my_fruit and print it out\n",
    "my_fruit <- my_apples + my_oranges \n",
    "my_fruit\n",
    "\n",
    "#----------------------------------#\n",
    "\n",
    "# Conclusion\n",
    "\n",
    "\"\n",
    "Awesome, keep up the good work! Continue to the next exercise. \n",
    "\""
   ]
  },
  {
   "cell_type": "code",
   "execution_count": 8,
   "metadata": {
    "tags": [],
    "vscode": {
     "languageId": "r"
    }
   },
   "outputs": [
    {
     "data": {
      "text/html": [
       "<span style=white-space:pre-wrap>'\\nBasic data types in R\\n\\nR works with numerous data types. Some of the most basic types to get started are:\\n\\n    Decimal values like 4.5 are called numerics.\\n    Whole numbers like 4 are called integers. Integers are also numerics.\\n    Boolean values (TRUE or FALSE) are called logical.\\n    Text (or string) values are called characters.\\n\\nNote how the quotation marks in the editor indicate that some text is a string.\\n'</span>"
      ],
      "text/latex": [
       "'\\textbackslash{}nBasic data types in R\\textbackslash{}n\\textbackslash{}nR works with numerous data types. Some of the most basic types to get started are:\\textbackslash{}n\\textbackslash{}n    Decimal values like 4.5 are called numerics.\\textbackslash{}n    Whole numbers like 4 are called integers. Integers are also numerics.\\textbackslash{}n    Boolean values (TRUE or FALSE) are called logical.\\textbackslash{}n    Text (or string) values are called characters.\\textbackslash{}n\\textbackslash{}nNote how the quotation marks in the editor indicate that some text is a string.\\textbackslash{}n'"
      ],
      "text/markdown": [
       "<span style=white-space:pre-wrap>'\\nBasic data types in R\\n\\nR works with numerous data types. Some of the most basic types to get started are:\\n\\n    Decimal values like 4.5 are called numerics.\\n    Whole numbers like 4 are called integers. Integers are also numerics.\\n    Boolean values (TRUE or FALSE) are called logical.\\n    Text (or string) values are called characters.\\n\\nNote how the quotation marks in the editor indicate that some text is a string.\\n'</span>"
      ],
      "text/plain": [
       "[1] \"\\nBasic data types in R\\n\\nR works with numerous data types. Some of the most basic types to get started are:\\n\\n    Decimal values like 4.5 are called numerics.\\n    Whole numbers like 4 are called integers. Integers are also numerics.\\n    Boolean values (TRUE or FALSE) are called logical.\\n    Text (or string) values are called characters.\\n\\nNote how the quotation marks in the editor indicate that some text is a string.\\n\""
      ]
     },
     "metadata": {},
     "output_type": "display_data"
    },
    {
     "data": {
      "text/html": [
       "<span style=white-space:pre-wrap>'\\nChange the value of the:\\n\\n    my_numeric variable to 42.\\n    my_character variable to universe. Note that the quotation marks indicate that universe is a character.\\n    my_logical variable to FALSE.\\n\\nNote that R is case sensitive!\\n'</span>"
      ],
      "text/latex": [
       "'\\textbackslash{}nChange the value of the:\\textbackslash{}n\\textbackslash{}n    my\\_numeric variable to 42.\\textbackslash{}n    my\\_character variable to universe. Note that the quotation marks indicate that universe is a character.\\textbackslash{}n    my\\_logical variable to FALSE.\\textbackslash{}n\\textbackslash{}nNote that R is case sensitive!\\textbackslash{}n'"
      ],
      "text/markdown": [
       "<span style=white-space:pre-wrap>'\\nChange the value of the:\\n\\n    my_numeric variable to 42.\\n    my_character variable to universe. Note that the quotation marks indicate that universe is a character.\\n    my_logical variable to FALSE.\\n\\nNote that R is case sensitive!\\n'</span>"
      ],
      "text/plain": [
       "[1] \"\\nChange the value of the:\\n\\n    my_numeric variable to 42.\\n    my_character variable to universe. Note that the quotation marks indicate that universe is a character.\\n    my_logical variable to FALSE.\\n\\nNote that R is case sensitive!\\n\""
      ]
     },
     "metadata": {},
     "output_type": "display_data"
    },
    {
     "data": {
      "text/html": [
       "'\\nGreat work! Continue to the next exercise. \\n'"
      ],
      "text/latex": [
       "'\\textbackslash{}nGreat work! Continue to the next exercise. \\textbackslash{}n'"
      ],
      "text/markdown": [
       "'\\nGreat work! Continue to the next exercise. \\n'"
      ],
      "text/plain": [
       "[1] \"\\nGreat work! Continue to the next exercise. \\n\""
      ]
     },
     "metadata": {},
     "output_type": "display_data"
    }
   ],
   "source": [
    "# exercise 07\n",
    "\n",
    "\"\n",
    "Basic data types in R\n",
    "\n",
    "R works with numerous data types. Some of the most basic types to get started are:\n",
    "\n",
    "    Decimal values like 4.5 are called numerics.\n",
    "    Whole numbers like 4 are called integers. Integers are also numerics.\n",
    "    Boolean values (TRUE or FALSE) are called logical.\n",
    "    Text (or string) values are called characters.\n",
    "\n",
    "Note how the quotation marks in the editor indicate that some text is a string.\n",
    "\"\n",
    "\n",
    "# Instructions\n",
    "\n",
    "\"\n",
    "Change the value of the:\n",
    "\n",
    "    my_numeric variable to 42.\n",
    "    my_character variable to universe. Note that the quotation marks indicate that universe is a character.\n",
    "    my_logical variable to FALSE.\n",
    "\n",
    "Note that R is case sensitive!\n",
    "\"\n",
    "\n",
    "# solution\n",
    "\n",
    "# Change my_numeric to be 42\n",
    "my_numeric <- 42\n",
    "\n",
    "# Change my_character to be \"universe\"\n",
    "my_character <- \"universe\"\n",
    "\n",
    "# Change my_logical to be FALSE\n",
    "my_logical <- FALSE\n",
    "\n",
    "#----------------------------------#\n",
    "\n",
    "# Conclusion\n",
    "\n",
    "\"\n",
    "Great work! Continue to the next exercise. \n",
    "\""
   ]
  },
  {
   "cell_type": "code",
   "execution_count": 9,
   "metadata": {
    "tags": [],
    "vscode": {
     "languageId": "r"
    }
   },
   "outputs": [
    {
     "data": {
      "text/html": [
       "'\\nWhat\\'s that data type?\\n\\nDo you remember that when you added 5 + six, you got an error due to a mismatch in data types? You can avoid such embarrassing situations by checking the data type of a variable beforehand. You can do this with the class() function, as the code in the editor shows.\\n'"
      ],
      "text/latex": [
       "'\\textbackslash{}nWhat\\textbackslash{}'s that data type?\\textbackslash{}n\\textbackslash{}nDo you remember that when you added 5 + six, you got an error due to a mismatch in data types? You can avoid such embarrassing situations by checking the data type of a variable beforehand. You can do this with the class() function, as the code in the editor shows.\\textbackslash{}n'"
      ],
      "text/markdown": [
       "'\\nWhat\\'s that data type?\\n\\nDo you remember that when you added 5 + six, you got an error due to a mismatch in data types? You can avoid such embarrassing situations by checking the data type of a variable beforehand. You can do this with the class() function, as the code in the editor shows.\\n'"
      ],
      "text/plain": [
       "[1] \"\\nWhat's that data type?\\n\\nDo you remember that when you added 5 + six, you got an error due to a mismatch in data types? You can avoid such embarrassing situations by checking the data type of a variable beforehand. You can do this with the class() function, as the code in the editor shows.\\n\""
      ]
     },
     "metadata": {},
     "output_type": "display_data"
    },
    {
     "data": {
      "text/html": [
       "'\\nComplete the code in the editor and also print out the classes of my_character and my_logical.\\n'"
      ],
      "text/latex": [
       "'\\textbackslash{}nComplete the code in the editor and also print out the classes of my\\_character and my\\_logical.\\textbackslash{}n'"
      ],
      "text/markdown": [
       "'\\nComplete the code in the editor and also print out the classes of my_character and my_logical.\\n'"
      ],
      "text/plain": [
       "[1] \"\\nComplete the code in the editor and also print out the classes of my_character and my_logical.\\n\""
      ]
     },
     "metadata": {},
     "output_type": "display_data"
    },
    {
     "data": {
      "text/html": [
       "'numeric'"
      ],
      "text/latex": [
       "'numeric'"
      ],
      "text/markdown": [
       "'numeric'"
      ],
      "text/plain": [
       "[1] \"numeric\""
      ]
     },
     "metadata": {},
     "output_type": "display_data"
    },
    {
     "data": {
      "text/html": [
       "'character'"
      ],
      "text/latex": [
       "'character'"
      ],
      "text/markdown": [
       "'character'"
      ],
      "text/plain": [
       "[1] \"character\""
      ]
     },
     "metadata": {},
     "output_type": "display_data"
    },
    {
     "data": {
      "text/html": [
       "'logical'"
      ],
      "text/latex": [
       "'logical'"
      ],
      "text/markdown": [
       "'logical'"
      ],
      "text/plain": [
       "[1] \"logical\""
      ]
     },
     "metadata": {},
     "output_type": "display_data"
    },
    {
     "data": {
      "text/html": [
       "'\\nCongratulations! This was the last exercise for this chapter. Head over to the next chapter to get immersed in the world of vectors! \\n'"
      ],
      "text/latex": [
       "'\\textbackslash{}nCongratulations! This was the last exercise for this chapter. Head over to the next chapter to get immersed in the world of vectors! \\textbackslash{}n'"
      ],
      "text/markdown": [
       "'\\nCongratulations! This was the last exercise for this chapter. Head over to the next chapter to get immersed in the world of vectors! \\n'"
      ],
      "text/plain": [
       "[1] \"\\nCongratulations! This was the last exercise for this chapter. Head over to the next chapter to get immersed in the world of vectors! \\n\""
      ]
     },
     "metadata": {},
     "output_type": "display_data"
    }
   ],
   "source": [
    "# exercise 08\n",
    "\n",
    "\"\n",
    "What's that data type?\n",
    "\n",
    "Do you remember that when you added 5 + six, you got an error due to a mismatch in data types? You can avoid such embarrassing situations by checking the data type of a variable beforehand. You can do this with the class() function, as the code in the editor shows.\n",
    "\"\n",
    "\n",
    "# Instructions\n",
    "\n",
    "\"\n",
    "Complete the code in the editor and also print out the classes of my_character and my_logical.\n",
    "\"\n",
    "\n",
    "# solution\n",
    "\n",
    "# Declare variables of different types\n",
    "my_numeric <- 42\n",
    "my_character <- \"universe\"\n",
    "my_logical <- FALSE \n",
    "\n",
    "# Check class of my_numeric\n",
    "class(my_numeric)\n",
    "\n",
    "# Check class of my_character\n",
    "class(my_character)\n",
    "\n",
    "# Check class of my_logical\n",
    "class(my_logical)\n",
    "\n",
    "#----------------------------------#\n",
    "\n",
    "# Conclusion\n",
    "\n",
    "\"\n",
    "Congratulations! This was the last exercise for this chapter. Head over to the next chapter to get immersed in the world of vectors! \n",
    "\""
   ]
  }
 ],
 "metadata": {
  "kernelspec": {
   "display_name": "R",
   "language": "R",
   "name": "ir"
  },
  "language_info": {
   "codemirror_mode": "r",
   "file_extension": ".r",
   "mimetype": "text/x-r-source",
   "name": "R",
   "pygments_lexer": "r",
   "version": "4.3.2"
  }
 },
 "nbformat": 4,
 "nbformat_minor": 4
}
