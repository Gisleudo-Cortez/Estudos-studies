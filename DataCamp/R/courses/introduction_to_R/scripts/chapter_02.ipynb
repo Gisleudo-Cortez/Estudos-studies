{
 "cells": [
  {
   "cell_type": "code",
   "execution_count": 2,
   "metadata": {
    "vscode": {
     "languageId": "r"
    }
   },
   "outputs": [
    {
     "data": {
      "text/html": [
       "'\\nCreate a vector\\n\\nFeeling lucky? You better, because this chapter takes you on a trip to the City of Sins, also known as Statisticians Paradise!\\n\\nThanks to R and your new data-analytical skills, you will learn how to uplift your performance at the tables and fire off your career as a professional gambler. This chapter will show how you can easily keep track of your betting progress and how you can do some simple analyses on past actions. Next stop, Vegas Baby… VEGAS!!\\n'"
      ],
      "text/latex": [
       "'\\textbackslash{}nCreate a vector\\textbackslash{}n\\textbackslash{}nFeeling lucky? You better, because this chapter takes you on a trip to the City of Sins, also known as Statisticians Paradise!\\textbackslash{}n\\textbackslash{}nThanks to R and your new data-analytical skills, you will learn how to uplift your performance at the tables and fire off your career as a professional gambler. This chapter will show how you can easily keep track of your betting progress and how you can do some simple analyses on past actions. Next stop, Vegas Baby… VEGAS!!\\textbackslash{}n'"
      ],
      "text/markdown": [
       "'\\nCreate a vector\\n\\nFeeling lucky? You better, because this chapter takes you on a trip to the City of Sins, also known as Statisticians Paradise!\\n\\nThanks to R and your new data-analytical skills, you will learn how to uplift your performance at the tables and fire off your career as a professional gambler. This chapter will show how you can easily keep track of your betting progress and how you can do some simple analyses on past actions. Next stop, Vegas Baby… VEGAS!!\\n'"
      ],
      "text/plain": [
       "[1] \"\\nCreate a vector\\n\\nFeeling lucky? You better, because this chapter takes you on a trip to the City of Sins, also known as Statisticians Paradise!\\n\\nThanks to R and your new data-analytical skills, you will learn how to uplift your performance at the tables and fire off your career as a professional gambler. This chapter will show how you can easily keep track of your betting progress and how you can do some simple analyses on past actions. Next stop, Vegas Baby… VEGAS!!\\n\""
      ]
     },
     "metadata": {},
     "output_type": "display_data"
    },
    {
     "data": {
      "text/html": [
       "<span style=white-space:pre-wrap>'\\n\\n    Do you still remember what you have learned in the first chapter? Assign the value Go! to the variable vegas. Remember: R is case sensitive!\\n\\n'</span>"
      ],
      "text/latex": [
       "'\\textbackslash{}n\\textbackslash{}n    Do you still remember what you have learned in the first chapter? Assign the value Go! to the variable vegas. Remember: R is case sensitive!\\textbackslash{}n\\textbackslash{}n'"
      ],
      "text/markdown": [
       "<span style=white-space:pre-wrap>'\\n\\n    Do you still remember what you have learned in the first chapter? Assign the value Go! to the variable vegas. Remember: R is case sensitive!\\n\\n'</span>"
      ],
      "text/plain": [
       "[1] \"\\n\\n    Do you still remember what you have learned in the first chapter? Assign the value Go! to the variable vegas. Remember: R is case sensitive!\\n\\n\""
      ]
     },
     "metadata": {},
     "output_type": "display_data"
    },
    {
     "data": {
      "text/html": [
       "'\\nGreat! Head over to the next exercise. \\n'"
      ],
      "text/latex": [
       "'\\textbackslash{}nGreat! Head over to the next exercise. \\textbackslash{}n'"
      ],
      "text/markdown": [
       "'\\nGreat! Head over to the next exercise. \\n'"
      ],
      "text/plain": [
       "[1] \"\\nGreat! Head over to the next exercise. \\n\""
      ]
     },
     "metadata": {},
     "output_type": "display_data"
    }
   ],
   "source": [
    "# exercise 01\n",
    "\n",
    "\"\n",
    "Create a vector\n",
    "\n",
    "Feeling lucky? You better, because this chapter takes you on a trip to the City of Sins, also known as Statisticians Paradise!\n",
    "\n",
    "Thanks to R and your new data-analytical skills, you will learn how to uplift your performance at the tables and fire off your career as a professional gambler. This chapter will show how you can easily keep track of your betting progress and how you can do some simple analyses on past actions. Next stop, Vegas Baby… VEGAS!!\n",
    "\"\n",
    "\n",
    "# Instructions\n",
    "\n",
    "\"\n",
    "\n",
    "    Do you still remember what you have learned in the first chapter? Assign the value Go! to the variable vegas. Remember: R is case sensitive!\n",
    "\n",
    "\"\n",
    "\n",
    "# solution\n",
    "\n",
    "# Define the variable vegas\n",
    "vegas <- \"Go!\"\n",
    "\n",
    "#----------------------------------#\n",
    "\n",
    "# Conclusion\n",
    "\n",
    "\"\n",
    "Great! Head over to the next exercise. \n",
    "\""
   ]
  },
  {
   "cell_type": "code",
   "execution_count": 3,
   "metadata": {
    "tags": [],
    "vscode": {
     "languageId": "r"
    }
   },
   "outputs": [
    {
     "data": {
      "text/html": [
       "'\\nCreate a vector (2)\\n\\nLet us focus first!\\n\\nOn your way from rags to riches, you will make extensive use of vectors. Vectors are one-dimension arrays that can hold numeric data, character data, or logical data. In other words, a vector is a simple tool to store data. For example, you can store your daily gains and losses in the casinos.\\n\\nIn R, you create a vector with the combine function c(). You place the vector elements separated by a comma between the parentheses. For example:\\n\\nnumeric_vector &lt;- c(1, 2, 3)\\ncharacter_vector &lt;- c(a, b, c)\\n\\nOnce you have created these vectors in R, you can use them to do calculations.\\n'"
      ],
      "text/latex": [
       "'\\textbackslash{}nCreate a vector (2)\\textbackslash{}n\\textbackslash{}nLet us focus first!\\textbackslash{}n\\textbackslash{}nOn your way from rags to riches, you will make extensive use of vectors. Vectors are one-dimension arrays that can hold numeric data, character data, or logical data. In other words, a vector is a simple tool to store data. For example, you can store your daily gains and losses in the casinos.\\textbackslash{}n\\textbackslash{}nIn R, you create a vector with the combine function c(). You place the vector elements separated by a comma between the parentheses. For example:\\textbackslash{}n\\textbackslash{}nnumeric\\_vector <- c(1, 2, 3)\\textbackslash{}ncharacter\\_vector <- c(a, b, c)\\textbackslash{}n\\textbackslash{}nOnce you have created these vectors in R, you can use them to do calculations.\\textbackslash{}n'"
      ],
      "text/markdown": [
       "'\\nCreate a vector (2)\\n\\nLet us focus first!\\n\\nOn your way from rags to riches, you will make extensive use of vectors. Vectors are one-dimension arrays that can hold numeric data, character data, or logical data. In other words, a vector is a simple tool to store data. For example, you can store your daily gains and losses in the casinos.\\n\\nIn R, you create a vector with the combine function c(). You place the vector elements separated by a comma between the parentheses. For example:\\n\\nnumeric_vector &lt;- c(1, 2, 3)\\ncharacter_vector &lt;- c(a, b, c)\\n\\nOnce you have created these vectors in R, you can use them to do calculations.\\n'"
      ],
      "text/plain": [
       "[1] \"\\nCreate a vector (2)\\n\\nLet us focus first!\\n\\nOn your way from rags to riches, you will make extensive use of vectors. Vectors are one-dimension arrays that can hold numeric data, character data, or logical data. In other words, a vector is a simple tool to store data. For example, you can store your daily gains and losses in the casinos.\\n\\nIn R, you create a vector with the combine function c(). You place the vector elements separated by a comma between the parentheses. For example:\\n\\nnumeric_vector <- c(1, 2, 3)\\ncharacter_vector <- c(a, b, c)\\n\\nOnce you have created these vectors in R, you can use them to do calculations.\\n\""
      ]
     },
     "metadata": {},
     "output_type": "display_data"
    },
    {
     "data": {
      "text/html": [
       "'\\nComplete the code such that boolean_vector contains the three elements: TRUE, FALSE and TRUE (in that order).\\n'"
      ],
      "text/latex": [
       "'\\textbackslash{}nComplete the code such that boolean\\_vector contains the three elements: TRUE, FALSE and TRUE (in that order).\\textbackslash{}n'"
      ],
      "text/markdown": [
       "'\\nComplete the code such that boolean_vector contains the three elements: TRUE, FALSE and TRUE (in that order).\\n'"
      ],
      "text/plain": [
       "[1] \"\\nComplete the code such that boolean_vector contains the three elements: TRUE, FALSE and TRUE (in that order).\\n\""
      ]
     },
     "metadata": {},
     "output_type": "display_data"
    },
    {
     "data": {
      "text/html": [
       "'\\nPerfect! Notice that adding a space behind the commas in the c() function improves the readability of your code. Let\\'s practice some more with vector creation in the next exercise. \\n'"
      ],
      "text/latex": [
       "'\\textbackslash{}nPerfect! Notice that adding a space behind the commas in the c() function improves the readability of your code. Let\\textbackslash{}'s practice some more with vector creation in the next exercise. \\textbackslash{}n'"
      ],
      "text/markdown": [
       "'\\nPerfect! Notice that adding a space behind the commas in the c() function improves the readability of your code. Let\\'s practice some more with vector creation in the next exercise. \\n'"
      ],
      "text/plain": [
       "[1] \"\\nPerfect! Notice that adding a space behind the commas in the c() function improves the readability of your code. Let's practice some more with vector creation in the next exercise. \\n\""
      ]
     },
     "metadata": {},
     "output_type": "display_data"
    }
   ],
   "source": [
    "# exercise 02\n",
    "\n",
    "\"\n",
    "Create a vector (2)\n",
    "\n",
    "Let us focus first!\n",
    "\n",
    "On your way from rags to riches, you will make extensive use of vectors. Vectors are one-dimension arrays that can hold numeric data, character data, or logical data. In other words, a vector is a simple tool to store data. For example, you can store your daily gains and losses in the casinos.\n",
    "\n",
    "In R, you create a vector with the combine function c(). You place the vector elements separated by a comma between the parentheses. For example:\n",
    "\n",
    "numeric_vector <- c(1, 2, 3)\n",
    "character_vector <- c(a, b, c)\n",
    "\n",
    "Once you have created these vectors in R, you can use them to do calculations.\n",
    "\"\n",
    "\n",
    "# Instructions\n",
    "\n",
    "\"\n",
    "Complete the code such that boolean_vector contains the three elements: TRUE, FALSE and TRUE (in that order).\n",
    "\"\n",
    "\n",
    "# solution\n",
    "\n",
    "numeric_vector <- c(1, 10, 49)\n",
    "character_vector <- c(\"a\", \"b\", \"c\")\n",
    "\n",
    "# Complete the code for boolean_vector\n",
    "boolean_vector <- c(TRUE, FALSE, TRUE)\n",
    "\n",
    "#----------------------------------#\n",
    "\n",
    "# Conclusion\n",
    "\n",
    "\"\n",
    "Perfect! Notice that adding a space behind the commas in the c() function improves the readability of your code. Let's practice some more with vector creation in the next exercise. \n",
    "\""
   ]
  },
  {
   "cell_type": "code",
   "execution_count": 4,
   "metadata": {
    "tags": [],
    "vscode": {
     "languageId": "r"
    }
   },
   "outputs": [
    {
     "data": {
      "text/html": [
       "<span style=white-space:pre-wrap>'\\nCreate a vector (3)\\n\\nAfter one week in Las Vegas and still zero Ferraris in your garage, you decide that it is time to start using your data analytical superpowers.\\n\\nBefore doing a first analysis, you decide to first collect all the winnings and losses for the last week:\\n\\nFor poker_vector:\\n\\n    On Monday you won $140\\n    Tuesday you lost $50\\n    Wednesday you won $20\\n    Thursday you lost $120\\n    Friday you won $240\\n\\nFor roulette_vector:\\n\\n    On Monday you lost $24\\n    Tuesday you lost $50\\n    Wednesday you won $100\\n    Thursday you lost $350\\n    Friday you won $10\\n\\nYou only played poker and roulette, since there was a delegation of mediums that occupied the craps tables. To be able to use this data in R, you decide to create the variables poker_vector and roulette_vector.\\n'</span>"
      ],
      "text/latex": [
       "'\\textbackslash{}nCreate a vector (3)\\textbackslash{}n\\textbackslash{}nAfter one week in Las Vegas and still zero Ferraris in your garage, you decide that it is time to start using your data analytical superpowers.\\textbackslash{}n\\textbackslash{}nBefore doing a first analysis, you decide to first collect all the winnings and losses for the last week:\\textbackslash{}n\\textbackslash{}nFor poker\\_vector:\\textbackslash{}n\\textbackslash{}n    On Monday you won \\$140\\textbackslash{}n    Tuesday you lost \\$50\\textbackslash{}n    Wednesday you won \\$20\\textbackslash{}n    Thursday you lost \\$120\\textbackslash{}n    Friday you won \\$240\\textbackslash{}n\\textbackslash{}nFor roulette\\_vector:\\textbackslash{}n\\textbackslash{}n    On Monday you lost \\$24\\textbackslash{}n    Tuesday you lost \\$50\\textbackslash{}n    Wednesday you won \\$100\\textbackslash{}n    Thursday you lost \\$350\\textbackslash{}n    Friday you won \\$10\\textbackslash{}n\\textbackslash{}nYou only played poker and roulette, since there was a delegation of mediums that occupied the craps tables. To be able to use this data in R, you decide to create the variables poker\\_vector and roulette\\_vector.\\textbackslash{}n'"
      ],
      "text/markdown": [
       "<span style=white-space:pre-wrap>'\\nCreate a vector (3)\\n\\nAfter one week in Las Vegas and still zero Ferraris in your garage, you decide that it is time to start using your data analytical superpowers.\\n\\nBefore doing a first analysis, you decide to first collect all the winnings and losses for the last week:\\n\\nFor poker_vector:\\n\\n    On Monday you won $140\\n    Tuesday you lost $50\\n    Wednesday you won $20\\n    Thursday you lost $120\\n    Friday you won $240\\n\\nFor roulette_vector:\\n\\n    On Monday you lost $24\\n    Tuesday you lost $50\\n    Wednesday you won $100\\n    Thursday you lost $350\\n    Friday you won $10\\n\\nYou only played poker and roulette, since there was a delegation of mediums that occupied the craps tables. To be able to use this data in R, you decide to create the variables poker_vector and roulette_vector.\\n'</span>"
      ],
      "text/plain": [
       "[1] \"\\nCreate a vector (3)\\n\\nAfter one week in Las Vegas and still zero Ferraris in your garage, you decide that it is time to start using your data analytical superpowers.\\n\\nBefore doing a first analysis, you decide to first collect all the winnings and losses for the last week:\\n\\nFor poker_vector:\\n\\n    On Monday you won $140\\n    Tuesday you lost $50\\n    Wednesday you won $20\\n    Thursday you lost $120\\n    Friday you won $240\\n\\nFor roulette_vector:\\n\\n    On Monday you lost $24\\n    Tuesday you lost $50\\n    Wednesday you won $100\\n    Thursday you lost $350\\n    Friday you won $10\\n\\nYou only played poker and roulette, since there was a delegation of mediums that occupied the craps tables. To be able to use this data in R, you decide to create the variables poker_vector and roulette_vector.\\n\""
      ]
     },
     "metadata": {},
     "output_type": "display_data"
    },
    {
     "data": {
      "text/html": [
       "'\\nAssign the winnings/losses for roulette to the variable roulette_vector. You lost $24, then lost $50, won $100, lost $350, and won $10.\\n'"
      ],
      "text/latex": [
       "'\\textbackslash{}nAssign the winnings/losses for roulette to the variable roulette\\_vector. You lost \\$24, then lost \\$50, won \\$100, lost \\$350, and won \\$10.\\textbackslash{}n'"
      ],
      "text/markdown": [
       "'\\nAssign the winnings/losses for roulette to the variable roulette_vector. You lost $24, then lost $50, won $100, lost $350, and won $10.\\n'"
      ],
      "text/plain": [
       "[1] \"\\nAssign the winnings/losses for roulette to the variable roulette_vector. You lost $24, then lost $50, won $100, lost $350, and won $10.\\n\""
      ]
     },
     "metadata": {},
     "output_type": "display_data"
    },
    {
     "data": {
      "text/html": [
       "'\\nVery good! To check out the contents of your vectors, remember that you can always simply type the variable in the console and hit Enter. Proceed to the next exercise! \\n'"
      ],
      "text/latex": [
       "'\\textbackslash{}nVery good! To check out the contents of your vectors, remember that you can always simply type the variable in the console and hit Enter. Proceed to the next exercise! \\textbackslash{}n'"
      ],
      "text/markdown": [
       "'\\nVery good! To check out the contents of your vectors, remember that you can always simply type the variable in the console and hit Enter. Proceed to the next exercise! \\n'"
      ],
      "text/plain": [
       "[1] \"\\nVery good! To check out the contents of your vectors, remember that you can always simply type the variable in the console and hit Enter. Proceed to the next exercise! \\n\""
      ]
     },
     "metadata": {},
     "output_type": "display_data"
    }
   ],
   "source": [
    "# exercise 03\n",
    "\n",
    "\"\n",
    "Create a vector (3)\n",
    "\n",
    "After one week in Las Vegas and still zero Ferraris in your garage, you decide that it is time to start using your data analytical superpowers.\n",
    "\n",
    "Before doing a first analysis, you decide to first collect all the winnings and losses for the last week:\n",
    "\n",
    "For poker_vector:\n",
    "\n",
    "    On Monday you won $140\n",
    "    Tuesday you lost $50\n",
    "    Wednesday you won $20\n",
    "    Thursday you lost $120\n",
    "    Friday you won $240\n",
    "\n",
    "For roulette_vector:\n",
    "\n",
    "    On Monday you lost $24\n",
    "    Tuesday you lost $50\n",
    "    Wednesday you won $100\n",
    "    Thursday you lost $350\n",
    "    Friday you won $10\n",
    "\n",
    "You only played poker and roulette, since there was a delegation of mediums that occupied the craps tables. To be able to use this data in R, you decide to create the variables poker_vector and roulette_vector.\n",
    "\"\n",
    "\n",
    "# Instructions\n",
    "\n",
    "\"\n",
    "Assign the winnings/losses for roulette to the variable roulette_vector. You lost $24, then lost $50, won $100, lost $350, and won $10.\n",
    "\"\n",
    "\n",
    "# solution\n",
    "\n",
    "# Poker winnings from Monday to Friday\n",
    "poker_vector <- c(140, -50, 20, -120, 240)\n",
    "\n",
    "# Roulette winnings from Monday to Friday\n",
    "roulette_vector <-  c(-24, -50, 100, -350, 10)\n",
    "\n",
    "#----------------------------------#\n",
    "\n",
    "# Conclusion\n",
    "\n",
    "\"\n",
    "Very good! To check out the contents of your vectors, remember that you can always simply type the variable in the console and hit Enter. Proceed to the next exercise! \n",
    "\""
   ]
  },
  {
   "cell_type": "code",
   "execution_count": 13,
   "metadata": {
    "tags": [],
    "vscode": {
     "languageId": "r"
    }
   },
   "outputs": [
    {
     "data": {
      "text/html": [
       "<span style=white-space:pre-wrap>'\\nNaming a vector\\n\\nAs a data analyst, it is important to have a clear view on the data that you are using. Understanding what each element refers to is therefore essential.\\n\\nIn the previous exercise, we created a vector with your winnings over the week. Each vector element refers to a day of the week but it is hard to tell which element belongs to which day. It would be nice if you could show that in the vector itself.\\n\\nYou can give a name to the elements of a vector with the names() function. Have a look at this example:\\n\\nsome_vector &lt;- c(John Doe, poker player)\\nnames(some_vector) &lt;- c(Name, Profession)\\n\\nThis code first creates a vector some_vector and then gives the two elements a name. The first element is assigned the name Name, while the second element is labeled Profession. Printing the contents to the console yields following output:\\n\\n          Name     Profession \\n    John Doe poker player \\n\\n'</span>"
      ],
      "text/latex": [
       "'\\textbackslash{}nNaming a vector\\textbackslash{}n\\textbackslash{}nAs a data analyst, it is important to have a clear view on the data that you are using. Understanding what each element refers to is therefore essential.\\textbackslash{}n\\textbackslash{}nIn the previous exercise, we created a vector with your winnings over the week. Each vector element refers to a day of the week but it is hard to tell which element belongs to which day. It would be nice if you could show that in the vector itself.\\textbackslash{}n\\textbackslash{}nYou can give a name to the elements of a vector with the names() function. Have a look at this example:\\textbackslash{}n\\textbackslash{}nsome\\_vector <- c(John Doe, poker player)\\textbackslash{}nnames(some\\_vector) <- c(Name, Profession)\\textbackslash{}n\\textbackslash{}nThis code first creates a vector some\\_vector and then gives the two elements a name. The first element is assigned the name Name, while the second element is labeled Profession. Printing the contents to the console yields following output:\\textbackslash{}n\\textbackslash{}n          Name     Profession \\textbackslash{}n    John Doe poker player \\textbackslash{}n\\textbackslash{}n'"
      ],
      "text/markdown": [
       "<span style=white-space:pre-wrap>'\\nNaming a vector\\n\\nAs a data analyst, it is important to have a clear view on the data that you are using. Understanding what each element refers to is therefore essential.\\n\\nIn the previous exercise, we created a vector with your winnings over the week. Each vector element refers to a day of the week but it is hard to tell which element belongs to which day. It would be nice if you could show that in the vector itself.\\n\\nYou can give a name to the elements of a vector with the names() function. Have a look at this example:\\n\\nsome_vector &lt;- c(John Doe, poker player)\\nnames(some_vector) &lt;- c(Name, Profession)\\n\\nThis code first creates a vector some_vector and then gives the two elements a name. The first element is assigned the name Name, while the second element is labeled Profession. Printing the contents to the console yields following output:\\n\\n          Name     Profession \\n    John Doe poker player \\n\\n'</span>"
      ],
      "text/plain": [
       "[1] \"\\nNaming a vector\\n\\nAs a data analyst, it is important to have a clear view on the data that you are using. Understanding what each element refers to is therefore essential.\\n\\nIn the previous exercise, we created a vector with your winnings over the week. Each vector element refers to a day of the week but it is hard to tell which element belongs to which day. It would be nice if you could show that in the vector itself.\\n\\nYou can give a name to the elements of a vector with the names() function. Have a look at this example:\\n\\nsome_vector <- c(John Doe, poker player)\\nnames(some_vector) <- c(Name, Profession)\\n\\nThis code first creates a vector some_vector and then gives the two elements a name. The first element is assigned the name Name, while the second element is labeled Profession. Printing the contents to the console yields following output:\\n\\n          Name     Profession \\n    John Doe poker player \\n\\n\""
      ]
     },
     "metadata": {},
     "output_type": "display_data"
    },
    {
     "data": {
      "text/html": [
       "<span style=white-space:pre-wrap>'\\n\\n    The code in the editor names the elements in poker_vector with the days of the week. Add code to do the same thing for roulette_vector.\\n\\n'</span>"
      ],
      "text/latex": [
       "'\\textbackslash{}n\\textbackslash{}n    The code in the editor names the elements in poker\\_vector with the days of the week. Add code to do the same thing for roulette\\_vector.\\textbackslash{}n\\textbackslash{}n'"
      ],
      "text/markdown": [
       "<span style=white-space:pre-wrap>'\\n\\n    The code in the editor names the elements in poker_vector with the days of the week. Add code to do the same thing for roulette_vector.\\n\\n'</span>"
      ],
      "text/plain": [
       "[1] \"\\n\\n    The code in the editor names the elements in poker_vector with the days of the week. Add code to do the same thing for roulette_vector.\\n\\n\""
      ]
     },
     "metadata": {},
     "output_type": "display_data"
    },
    {
     "data": {
      "text/html": [
       "'\\nWell done! Continue to the next exercise. \\n'"
      ],
      "text/latex": [
       "'\\textbackslash{}nWell done! Continue to the next exercise. \\textbackslash{}n'"
      ],
      "text/markdown": [
       "'\\nWell done! Continue to the next exercise. \\n'"
      ],
      "text/plain": [
       "[1] \"\\nWell done! Continue to the next exercise. \\n\""
      ]
     },
     "metadata": {},
     "output_type": "display_data"
    }
   ],
   "source": [
    "# exercise 04\n",
    "\n",
    "\"\n",
    "Naming a vector\n",
    "\n",
    "As a data analyst, it is important to have a clear view on the data that you are using. Understanding what each element refers to is therefore essential.\n",
    "\n",
    "In the previous exercise, we created a vector with your winnings over the week. Each vector element refers to a day of the week but it is hard to tell which element belongs to which day. It would be nice if you could show that in the vector itself.\n",
    "\n",
    "You can give a name to the elements of a vector with the names() function. Have a look at this example:\n",
    "\n",
    "some_vector <- c(John Doe, poker player)\n",
    "names(some_vector) <- c(Name, Profession)\n",
    "\n",
    "This code first creates a vector some_vector and then gives the two elements a name. The first element is assigned the name Name, while the second element is labeled Profession. Printing the contents to the console yields following output:\n",
    "\n",
    "          Name     Profession \n",
    "    John Doe poker player \n",
    "\n",
    "\"\n",
    "\n",
    "# Instructions\n",
    "\n",
    "\"\n",
    "\n",
    "    The code in the editor names the elements in poker_vector with the days of the week. Add code to do the same thing for roulette_vector.\n",
    "\n",
    "\"\n",
    "\n",
    "# solution\n",
    "\n",
    "# Poker winnings from Monday to Friday\n",
    "poker_vector <- c(140, -50, 20, -120, 240)\n",
    "\n",
    "# Roulette winnings from Monday to Friday\n",
    "roulette_vector <- c(-24, -50, 100, -350, 10)\n",
    "\n",
    "# Assign days as names of poker_vector\n",
    "names(poker_vector) <- c(\"Monday\", \"Tuesday\", \"Wednesday\", \"Thursday\", \"Friday\")\n",
    "\n",
    "# Assign days as names of roulette_vector\n",
    "\n",
    "names(roulette_vector) <- c(\"Monday\", \"Tuesday\", \"Wednesday\", \"Thursday\", \"Friday\")\n",
    "\n",
    "#----------------------------------#\n",
    "\n",
    "# Conclusion\n",
    "\n",
    "\"\n",
    "Well done! Continue to the next exercise. \n",
    "\""
   ]
  },
  {
   "cell_type": "code",
   "execution_count": 14,
   "metadata": {
    "tags": [],
    "vscode": {
     "languageId": "r"
    }
   },
   "outputs": [
    {
     "data": {
      "text/html": [
       "'\\nNaming a vector (2)\\n\\nIf you want to become a good statistician, you have to become lazy. (If you are already lazy, chances are high you are one of those exceptional, natural-born statistical talents.)\\n\\nIn the previous exercises you probably experienced that it is boring and frustrating to type and retype information such as the days of the week. However, when you look at it from a higher perspective, there is a more efficient way to do this, namely, to assign the days of the week vector to a variable!\\n\\nJust like you did with your poker and roulette returns, you can also create a variable that contains the days of the week. This way you can use and re-use it.\\n'"
      ],
      "text/latex": [
       "'\\textbackslash{}nNaming a vector (2)\\textbackslash{}n\\textbackslash{}nIf you want to become a good statistician, you have to become lazy. (If you are already lazy, chances are high you are one of those exceptional, natural-born statistical talents.)\\textbackslash{}n\\textbackslash{}nIn the previous exercises you probably experienced that it is boring and frustrating to type and retype information such as the days of the week. However, when you look at it from a higher perspective, there is a more efficient way to do this, namely, to assign the days of the week vector to a variable!\\textbackslash{}n\\textbackslash{}nJust like you did with your poker and roulette returns, you can also create a variable that contains the days of the week. This way you can use and re-use it.\\textbackslash{}n'"
      ],
      "text/markdown": [
       "'\\nNaming a vector (2)\\n\\nIf you want to become a good statistician, you have to become lazy. (If you are already lazy, chances are high you are one of those exceptional, natural-born statistical talents.)\\n\\nIn the previous exercises you probably experienced that it is boring and frustrating to type and retype information such as the days of the week. However, when you look at it from a higher perspective, there is a more efficient way to do this, namely, to assign the days of the week vector to a variable!\\n\\nJust like you did with your poker and roulette returns, you can also create a variable that contains the days of the week. This way you can use and re-use it.\\n'"
      ],
      "text/plain": [
       "[1] \"\\nNaming a vector (2)\\n\\nIf you want to become a good statistician, you have to become lazy. (If you are already lazy, chances are high you are one of those exceptional, natural-born statistical talents.)\\n\\nIn the previous exercises you probably experienced that it is boring and frustrating to type and retype information such as the days of the week. However, when you look at it from a higher perspective, there is a more efficient way to do this, namely, to assign the days of the week vector to a variable!\\n\\nJust like you did with your poker and roulette returns, you can also create a variable that contains the days of the week. This way you can use and re-use it.\\n\""
      ]
     },
     "metadata": {},
     "output_type": "display_data"
    },
    {
     "data": {
      "text/html": [
       "<span style=white-space:pre-wrap>'\\n\\n    A variable days_vector that contains the days of the week has already been created for you.\\n    Use days_vector to set the names of poker_vector and roulette_vector.\\n\\n'</span>"
      ],
      "text/latex": [
       "'\\textbackslash{}n\\textbackslash{}n    A variable days\\_vector that contains the days of the week has already been created for you.\\textbackslash{}n    Use days\\_vector to set the names of poker\\_vector and roulette\\_vector.\\textbackslash{}n\\textbackslash{}n'"
      ],
      "text/markdown": [
       "<span style=white-space:pre-wrap>'\\n\\n    A variable days_vector that contains the days of the week has already been created for you.\\n    Use days_vector to set the names of poker_vector and roulette_vector.\\n\\n'</span>"
      ],
      "text/plain": [
       "[1] \"\\n\\n    A variable days_vector that contains the days of the week has already been created for you.\\n    Use days_vector to set the names of poker_vector and roulette_vector.\\n\\n\""
      ]
     },
     "metadata": {},
     "output_type": "display_data"
    },
    {
     "data": {
      "text/html": [
       "'\\nNice one! A word of advice: try to avoid code duplication at all times. Continue to the next exercise and learn how to do arithmetic with vectors! \\n'"
      ],
      "text/latex": [
       "'\\textbackslash{}nNice one! A word of advice: try to avoid code duplication at all times. Continue to the next exercise and learn how to do arithmetic with vectors! \\textbackslash{}n'"
      ],
      "text/markdown": [
       "'\\nNice one! A word of advice: try to avoid code duplication at all times. Continue to the next exercise and learn how to do arithmetic with vectors! \\n'"
      ],
      "text/plain": [
       "[1] \"\\nNice one! A word of advice: try to avoid code duplication at all times. Continue to the next exercise and learn how to do arithmetic with vectors! \\n\""
      ]
     },
     "metadata": {},
     "output_type": "display_data"
    }
   ],
   "source": [
    "# exercise 05\n",
    "\n",
    "\"\n",
    "Naming a vector (2)\n",
    "\n",
    "If you want to become a good statistician, you have to become lazy. (If you are already lazy, chances are high you are one of those exceptional, natural-born statistical talents.)\n",
    "\n",
    "In the previous exercises you probably experienced that it is boring and frustrating to type and retype information such as the days of the week. However, when you look at it from a higher perspective, there is a more efficient way to do this, namely, to assign the days of the week vector to a variable!\n",
    "\n",
    "Just like you did with your poker and roulette returns, you can also create a variable that contains the days of the week. This way you can use and re-use it.\n",
    "\"\n",
    "\n",
    "# Instructions\n",
    "\n",
    "\"\n",
    "\n",
    "    A variable days_vector that contains the days of the week has already been created for you.\n",
    "    Use days_vector to set the names of poker_vector and roulette_vector.\n",
    "\n",
    "\"\n",
    "\n",
    "# solution\n",
    "\n",
    "# Poker winnings from Monday to Friday\n",
    "poker_vector <- c(140, -50, 20, -120, 240)\n",
    "\n",
    "# Roulette winnings from Monday to Friday\n",
    "roulette_vector <- c(-24, -50, 100, -350, 10)\n",
    "\n",
    "# The variable days_vector\n",
    "days_vector <- c(\"Monday\", \"Tuesday\", \"Wednesday\", \"Thursday\", \"Friday\")\n",
    " \n",
    "# Assign the names of the day to roulette_vector and poker_vector\n",
    "names(poker_vector) <-   days_vector\n",
    "names(roulette_vector) <- days_vector\n",
    "\n",
    "#----------------------------------#\n",
    "\n",
    "# Conclusion\n",
    "\n",
    "\"\n",
    "Nice one! A word of advice: try to avoid code duplication at all times. Continue to the next exercise and learn how to do arithmetic with vectors! \n",
    "\""
   ]
  },
  {
   "cell_type": "code",
   "execution_count": 16,
   "metadata": {
    "tags": [],
    "vscode": {
     "languageId": "r"
    }
   },
   "outputs": [
    {
     "data": {
      "text/html": [
       "<span style=white-space:pre-wrap>'\\nCalculating total winnings\\n\\nNow that you have the poker and roulette winnings nicely as named vectors, you can start doing some data analytical magic.\\n\\nYou want to find out the following type of information:\\n\\n    How much has been your overall profit or loss per day of the week?\\n    Have you lost money over the week in total?\\n    Are you winning/losing money on poker or on roulette?\\n\\nTo get the answers, you have to do arithmetic calculations on vectors.\\n\\nIt is important to know that if you sum two vectors in R, it takes the element-wise sum. For example, the following three statements are completely equivalent:\\n\\nc(1, 2, 3) + c(4, 5, 6)\\nc(1 + 4, 2 + 5, 3 + 6)\\nc(5, 7, 9)\\n\\nYou can also do the calculations with variables that represent vectors:\\n\\na &lt;- c(1, 2, 3) \\nb &lt;- c(4, 5, 6)\\nc &lt;- a + b\\n\\n'</span>"
      ],
      "text/latex": [
       "'\\textbackslash{}nCalculating total winnings\\textbackslash{}n\\textbackslash{}nNow that you have the poker and roulette winnings nicely as named vectors, you can start doing some data analytical magic.\\textbackslash{}n\\textbackslash{}nYou want to find out the following type of information:\\textbackslash{}n\\textbackslash{}n    How much has been your overall profit or loss per day of the week?\\textbackslash{}n    Have you lost money over the week in total?\\textbackslash{}n    Are you winning/losing money on poker or on roulette?\\textbackslash{}n\\textbackslash{}nTo get the answers, you have to do arithmetic calculations on vectors.\\textbackslash{}n\\textbackslash{}nIt is important to know that if you sum two vectors in R, it takes the element-wise sum. For example, the following three statements are completely equivalent:\\textbackslash{}n\\textbackslash{}nc(1, 2, 3) + c(4, 5, 6)\\textbackslash{}nc(1 + 4, 2 + 5, 3 + 6)\\textbackslash{}nc(5, 7, 9)\\textbackslash{}n\\textbackslash{}nYou can also do the calculations with variables that represent vectors:\\textbackslash{}n\\textbackslash{}na <- c(1, 2, 3) \\textbackslash{}nb <- c(4, 5, 6)\\textbackslash{}nc <- a + b\\textbackslash{}n\\textbackslash{}n'"
      ],
      "text/markdown": [
       "<span style=white-space:pre-wrap>'\\nCalculating total winnings\\n\\nNow that you have the poker and roulette winnings nicely as named vectors, you can start doing some data analytical magic.\\n\\nYou want to find out the following type of information:\\n\\n    How much has been your overall profit or loss per day of the week?\\n    Have you lost money over the week in total?\\n    Are you winning/losing money on poker or on roulette?\\n\\nTo get the answers, you have to do arithmetic calculations on vectors.\\n\\nIt is important to know that if you sum two vectors in R, it takes the element-wise sum. For example, the following three statements are completely equivalent:\\n\\nc(1, 2, 3) + c(4, 5, 6)\\nc(1 + 4, 2 + 5, 3 + 6)\\nc(5, 7, 9)\\n\\nYou can also do the calculations with variables that represent vectors:\\n\\na &lt;- c(1, 2, 3) \\nb &lt;- c(4, 5, 6)\\nc &lt;- a + b\\n\\n'</span>"
      ],
      "text/plain": [
       "[1] \"\\nCalculating total winnings\\n\\nNow that you have the poker and roulette winnings nicely as named vectors, you can start doing some data analytical magic.\\n\\nYou want to find out the following type of information:\\n\\n    How much has been your overall profit or loss per day of the week?\\n    Have you lost money over the week in total?\\n    Are you winning/losing money on poker or on roulette?\\n\\nTo get the answers, you have to do arithmetic calculations on vectors.\\n\\nIt is important to know that if you sum two vectors in R, it takes the element-wise sum. For example, the following three statements are completely equivalent:\\n\\nc(1, 2, 3) + c(4, 5, 6)\\nc(1 + 4, 2 + 5, 3 + 6)\\nc(5, 7, 9)\\n\\nYou can also do the calculations with variables that represent vectors:\\n\\na <- c(1, 2, 3) \\nb <- c(4, 5, 6)\\nc <- a + b\\n\\n\""
      ]
     },
     "metadata": {},
     "output_type": "display_data"
    },
    {
     "data": {
      "text/html": [
       "<span style=white-space:pre-wrap>'\\n\\n    Take the sum of the variables A_vector and B_vector and assign it to total_vector.\\n    Inspect the result by printing out total_vector.\\n\\n'</span>"
      ],
      "text/latex": [
       "'\\textbackslash{}n\\textbackslash{}n    Take the sum of the variables A\\_vector and B\\_vector and assign it to total\\_vector.\\textbackslash{}n    Inspect the result by printing out total\\_vector.\\textbackslash{}n\\textbackslash{}n'"
      ],
      "text/markdown": [
       "<span style=white-space:pre-wrap>'\\n\\n    Take the sum of the variables A_vector and B_vector and assign it to total_vector.\\n    Inspect the result by printing out total_vector.\\n\\n'</span>"
      ],
      "text/plain": [
       "[1] \"\\n\\n    Take the sum of the variables A_vector and B_vector and assign it to total_vector.\\n    Inspect the result by printing out total_vector.\\n\\n\""
      ]
     },
     "metadata": {},
     "output_type": "display_data"
    },
    {
     "data": {
      "text/html": [
       "<style>\n",
       ".list-inline {list-style: none; margin:0; padding: 0}\n",
       ".list-inline>li {display: inline-block}\n",
       ".list-inline>li:not(:last-child)::after {content: \"\\00b7\"; padding: 0 .5ex}\n",
       "</style>\n",
       "<ol class=list-inline><li>5</li><li>7</li><li>9</li></ol>\n"
      ],
      "text/latex": [
       "\\begin{enumerate*}\n",
       "\\item 5\n",
       "\\item 7\n",
       "\\item 9\n",
       "\\end{enumerate*}\n"
      ],
      "text/markdown": [
       "1. 5\n",
       "2. 7\n",
       "3. 9\n",
       "\n",
       "\n"
      ],
      "text/plain": [
       "[1] 5 7 9"
      ]
     },
     "metadata": {},
     "output_type": "display_data"
    },
    {
     "data": {
      "text/html": [
       "'\\nGood job! Continue to the next exercise. \\n'"
      ],
      "text/latex": [
       "'\\textbackslash{}nGood job! Continue to the next exercise. \\textbackslash{}n'"
      ],
      "text/markdown": [
       "'\\nGood job! Continue to the next exercise. \\n'"
      ],
      "text/plain": [
       "[1] \"\\nGood job! Continue to the next exercise. \\n\""
      ]
     },
     "metadata": {},
     "output_type": "display_data"
    }
   ],
   "source": [
    "# exercise 06\n",
    "\n",
    "\"\n",
    "Calculating total winnings\n",
    "\n",
    "Now that you have the poker and roulette winnings nicely as named vectors, you can start doing some data analytical magic.\n",
    "\n",
    "You want to find out the following type of information:\n",
    "\n",
    "    How much has been your overall profit or loss per day of the week?\n",
    "    Have you lost money over the week in total?\n",
    "    Are you winning/losing money on poker or on roulette?\n",
    "\n",
    "To get the answers, you have to do arithmetic calculations on vectors.\n",
    "\n",
    "It is important to know that if you sum two vectors in R, it takes the element-wise sum. For example, the following three statements are completely equivalent:\n",
    "\n",
    "c(1, 2, 3) + c(4, 5, 6)\n",
    "c(1 + 4, 2 + 5, 3 + 6)\n",
    "c(5, 7, 9)\n",
    "\n",
    "You can also do the calculations with variables that represent vectors:\n",
    "\n",
    "a <- c(1, 2, 3) \n",
    "b <- c(4, 5, 6)\n",
    "c <- a + b\n",
    "\n",
    "\"\n",
    "\n",
    "# Instructions\n",
    "\n",
    "\"\n",
    "\n",
    "    Take the sum of the variables A_vector and B_vector and assign it to total_vector.\n",
    "    Inspect the result by printing out total_vector.\n",
    "\n",
    "\"\n",
    "\n",
    "# solution\n",
    "\n",
    "A_vector <- c(1, 2, 3)\n",
    "B_vector <- c(4, 5, 6)\n",
    "\n",
    "# Take the sum of A_vector and B_vector\n",
    "total_vector <- A_vector + B_vector\n",
    "  \n",
    "# Print out total_vector\n",
    "total_vector\n",
    "\n",
    "#----------------------------------#\n",
    "\n",
    "# Conclusion\n",
    "\n",
    "\"\n",
    "Good job! Continue to the next exercise. \n",
    "\""
   ]
  },
  {
   "cell_type": "code",
   "execution_count": 17,
   "metadata": {
    "tags": [],
    "vscode": {
     "languageId": "r"
    }
   },
   "outputs": [
    {
     "data": {
      "text/html": [
       "'\\nCalculating total winnings (2)\\n\\nNow you understand how R does arithmetic with vectors, it is time to get those Ferraris in your garage! First, you need to understand what the overall profit or loss per day of the week was. The total daily profit is the sum of the profit/loss you realized on poker per day, and the profit/loss you realized on roulette per day.\\n\\nIn R, this is just the sum of roulette_vector and poker_vector.\\n'"
      ],
      "text/latex": [
       "'\\textbackslash{}nCalculating total winnings (2)\\textbackslash{}n\\textbackslash{}nNow you understand how R does arithmetic with vectors, it is time to get those Ferraris in your garage! First, you need to understand what the overall profit or loss per day of the week was. The total daily profit is the sum of the profit/loss you realized on poker per day, and the profit/loss you realized on roulette per day.\\textbackslash{}n\\textbackslash{}nIn R, this is just the sum of roulette\\_vector and poker\\_vector.\\textbackslash{}n'"
      ],
      "text/markdown": [
       "'\\nCalculating total winnings (2)\\n\\nNow you understand how R does arithmetic with vectors, it is time to get those Ferraris in your garage! First, you need to understand what the overall profit or loss per day of the week was. The total daily profit is the sum of the profit/loss you realized on poker per day, and the profit/loss you realized on roulette per day.\\n\\nIn R, this is just the sum of roulette_vector and poker_vector.\\n'"
      ],
      "text/plain": [
       "[1] \"\\nCalculating total winnings (2)\\n\\nNow you understand how R does arithmetic with vectors, it is time to get those Ferraris in your garage! First, you need to understand what the overall profit or loss per day of the week was. The total daily profit is the sum of the profit/loss you realized on poker per day, and the profit/loss you realized on roulette per day.\\n\\nIn R, this is just the sum of roulette_vector and poker_vector.\\n\""
      ]
     },
     "metadata": {},
     "output_type": "display_data"
    },
    {
     "data": {
      "text/html": [
       "'\\nAssign to the variable total_daily how much you won or lost on each day in total (poker and roulette combined).\\n'"
      ],
      "text/latex": [
       "'\\textbackslash{}nAssign to the variable total\\_daily how much you won or lost on each day in total (poker and roulette combined).\\textbackslash{}n'"
      ],
      "text/markdown": [
       "'\\nAssign to the variable total_daily how much you won or lost on each day in total (poker and roulette combined).\\n'"
      ],
      "text/plain": [
       "[1] \"\\nAssign to the variable total_daily how much you won or lost on each day in total (poker and roulette combined).\\n\""
      ]
     },
     "metadata": {},
     "output_type": "display_data"
    },
    {
     "data": {
      "text/html": [
       "'\\nGreat! Continue to the next exercise. \\n'"
      ],
      "text/latex": [
       "'\\textbackslash{}nGreat! Continue to the next exercise. \\textbackslash{}n'"
      ],
      "text/markdown": [
       "'\\nGreat! Continue to the next exercise. \\n'"
      ],
      "text/plain": [
       "[1] \"\\nGreat! Continue to the next exercise. \\n\""
      ]
     },
     "metadata": {},
     "output_type": "display_data"
    }
   ],
   "source": [
    "# exercise 07\n",
    "\n",
    "\"\n",
    "Calculating total winnings (2)\n",
    "\n",
    "Now you understand how R does arithmetic with vectors, it is time to get those Ferraris in your garage! First, you need to understand what the overall profit or loss per day of the week was. The total daily profit is the sum of the profit/loss you realized on poker per day, and the profit/loss you realized on roulette per day.\n",
    "\n",
    "In R, this is just the sum of roulette_vector and poker_vector.\n",
    "\"\n",
    "\n",
    "# Instructions\n",
    "\n",
    "\"\n",
    "Assign to the variable total_daily how much you won or lost on each day in total (poker and roulette combined).\n",
    "\"\n",
    "\n",
    "# solution\n",
    "\n",
    "# Poker and roulette winnings from Monday to Friday:\n",
    "poker_vector <- c(140, -50, 20, -120, 240)\n",
    "roulette_vector <- c(-24, -50, 100, -350, 10)\n",
    "days_vector <- c(\"Monday\", \"Tuesday\", \"Wednesday\", \"Thursday\", \"Friday\")\n",
    "names(poker_vector) <- days_vector\n",
    "names(roulette_vector) <- days_vector\n",
    "\n",
    "# Assign to total_daily how much you won/lost on each day\n",
    "total_daily <- roulette_vector + poker_vector\n",
    "\n",
    "#----------------------------------#\n",
    "\n",
    "# Conclusion\n",
    "\n",
    "\"\n",
    "Great! Continue to the next exercise. \n",
    "\""
   ]
  },
  {
   "cell_type": "code",
   "execution_count": 18,
   "metadata": {
    "tags": [],
    "vscode": {
     "languageId": "r"
    }
   },
   "outputs": [
    {
     "data": {
      "text/html": [
       "'\\nCalculating total winnings (3)\\n\\nBased on the previous analysis, it looks like you had a mix of good and bad days. This is not what your ego expected, and you wonder if there may be a very tiny chance you have lost money over the week in total?\\n\\nA function that helps you to answer this question is sum(). It calculates the sum of all elements of a vector. For example, to calculate the total amount of money you have lost/won with poker you do:\\n\\ntotal_poker &lt;- sum(poker_vector)\\n\\n'"
      ],
      "text/latex": [
       "'\\textbackslash{}nCalculating total winnings (3)\\textbackslash{}n\\textbackslash{}nBased on the previous analysis, it looks like you had a mix of good and bad days. This is not what your ego expected, and you wonder if there may be a very tiny chance you have lost money over the week in total?\\textbackslash{}n\\textbackslash{}nA function that helps you to answer this question is sum(). It calculates the sum of all elements of a vector. For example, to calculate the total amount of money you have lost/won with poker you do:\\textbackslash{}n\\textbackslash{}ntotal\\_poker <- sum(poker\\_vector)\\textbackslash{}n\\textbackslash{}n'"
      ],
      "text/markdown": [
       "'\\nCalculating total winnings (3)\\n\\nBased on the previous analysis, it looks like you had a mix of good and bad days. This is not what your ego expected, and you wonder if there may be a very tiny chance you have lost money over the week in total?\\n\\nA function that helps you to answer this question is sum(). It calculates the sum of all elements of a vector. For example, to calculate the total amount of money you have lost/won with poker you do:\\n\\ntotal_poker &lt;- sum(poker_vector)\\n\\n'"
      ],
      "text/plain": [
       "[1] \"\\nCalculating total winnings (3)\\n\\nBased on the previous analysis, it looks like you had a mix of good and bad days. This is not what your ego expected, and you wonder if there may be a very tiny chance you have lost money over the week in total?\\n\\nA function that helps you to answer this question is sum(). It calculates the sum of all elements of a vector. For example, to calculate the total amount of money you have lost/won with poker you do:\\n\\ntotal_poker <- sum(poker_vector)\\n\\n\""
      ]
     },
     "metadata": {},
     "output_type": "display_data"
    },
    {
     "data": {
      "text/html": [
       "<span style=white-space:pre-wrap>'\\n\\n    Calculate the total amount of money that you have won/lost with roulette and assign to the variable total_roulette.\\n    Now that you have the totals for roulette and poker, you can easily calculate total_week (which is the sum of all gains and losses of the week).\\n    Print out total_week.\\n\\n'</span>"
      ],
      "text/latex": [
       "'\\textbackslash{}n\\textbackslash{}n    Calculate the total amount of money that you have won/lost with roulette and assign to the variable total\\_roulette.\\textbackslash{}n    Now that you have the totals for roulette and poker, you can easily calculate total\\_week (which is the sum of all gains and losses of the week).\\textbackslash{}n    Print out total\\_week.\\textbackslash{}n\\textbackslash{}n'"
      ],
      "text/markdown": [
       "<span style=white-space:pre-wrap>'\\n\\n    Calculate the total amount of money that you have won/lost with roulette and assign to the variable total_roulette.\\n    Now that you have the totals for roulette and poker, you can easily calculate total_week (which is the sum of all gains and losses of the week).\\n    Print out total_week.\\n\\n'</span>"
      ],
      "text/plain": [
       "[1] \"\\n\\n    Calculate the total amount of money that you have won/lost with roulette and assign to the variable total_roulette.\\n    Now that you have the totals for roulette and poker, you can easily calculate total_week (which is the sum of all gains and losses of the week).\\n    Print out total_week.\\n\\n\""
      ]
     },
     "metadata": {},
     "output_type": "display_data"
    },
    {
     "data": {
      "text/html": [
       "-84"
      ],
      "text/latex": [
       "-84"
      ],
      "text/markdown": [
       "-84"
      ],
      "text/plain": [
       "[1] -84"
      ]
     },
     "metadata": {},
     "output_type": "display_data"
    },
    {
     "data": {
      "text/html": [
       "'\\nWell done. This is pretty bad news… \\n'"
      ],
      "text/latex": [
       "'\\textbackslash{}nWell done. This is pretty bad news… \\textbackslash{}n'"
      ],
      "text/markdown": [
       "'\\nWell done. This is pretty bad news… \\n'"
      ],
      "text/plain": [
       "[1] \"\\nWell done. This is pretty bad news… \\n\""
      ]
     },
     "metadata": {},
     "output_type": "display_data"
    }
   ],
   "source": [
    "# exercise 08\n",
    "\n",
    "\"\n",
    "Calculating total winnings (3)\n",
    "\n",
    "Based on the previous analysis, it looks like you had a mix of good and bad days. This is not what your ego expected, and you wonder if there may be a very tiny chance you have lost money over the week in total?\n",
    "\n",
    "A function that helps you to answer this question is sum(). It calculates the sum of all elements of a vector. For example, to calculate the total amount of money you have lost/won with poker you do:\n",
    "\n",
    "total_poker <- sum(poker_vector)\n",
    "\n",
    "\"\n",
    "\n",
    "# Instructions\n",
    "\n",
    "\"\n",
    "\n",
    "    Calculate the total amount of money that you have won/lost with roulette and assign to the variable total_roulette.\n",
    "    Now that you have the totals for roulette and poker, you can easily calculate total_week (which is the sum of all gains and losses of the week).\n",
    "    Print out total_week.\n",
    "\n",
    "\"\n",
    "\n",
    "# solution\n",
    "\n",
    "# Poker and roulette winnings from Monday to Friday:\n",
    "poker_vector <- c(140, -50, 20, -120, 240)\n",
    "roulette_vector <- c(-24, -50, 100, -350, 10)\n",
    "days_vector <- c(\"Monday\", \"Tuesday\", \"Wednesday\", \"Thursday\", \"Friday\")\n",
    "names(poker_vector) <- days_vector\n",
    "names(roulette_vector) <- days_vector\n",
    "\n",
    "# Total winnings with poker\n",
    "total_poker <- sum(poker_vector)\n",
    "\n",
    "# Total winnings with roulette\n",
    "total_roulette <-  sum(roulette_vector)\n",
    "\n",
    "# Total winnings overall\n",
    "total_week <- total_poker + total_roulette\n",
    "\n",
    "# Print out total_week\n",
    "total_week\n",
    "\n",
    "#----------------------------------#\n",
    "\n",
    "# Conclusion\n",
    "\n",
    "\"\n",
    "Well done. This is pretty bad news… \n",
    "\""
   ]
  },
  {
   "cell_type": "code",
   "execution_count": 19,
   "metadata": {
    "tags": [],
    "vscode": {
     "languageId": "r"
    }
   },
   "outputs": [
    {
     "data": {
      "text/html": [
       "'\\nComparing total winnings\\n\\nOops, it seems like you are losing money. Time to rethink and adapt your strategy! This will require some deeper analysis…\\n\\nAfter a short brainstorm in your hotel\\'s jacuzzi, you realize that a possible explanation might be that your skills in roulette are not as well developed as your skills in poker. So maybe your total gains in poker are higher (or &gt; ) than in roulette.\\n'"
      ],
      "text/latex": [
       "'\\textbackslash{}nComparing total winnings\\textbackslash{}n\\textbackslash{}nOops, it seems like you are losing money. Time to rethink and adapt your strategy! This will require some deeper analysis…\\textbackslash{}n\\textbackslash{}nAfter a short brainstorm in your hotel\\textbackslash{}'s jacuzzi, you realize that a possible explanation might be that your skills in roulette are not as well developed as your skills in poker. So maybe your total gains in poker are higher (or > ) than in roulette.\\textbackslash{}n'"
      ],
      "text/markdown": [
       "'\\nComparing total winnings\\n\\nOops, it seems like you are losing money. Time to rethink and adapt your strategy! This will require some deeper analysis…\\n\\nAfter a short brainstorm in your hotel\\'s jacuzzi, you realize that a possible explanation might be that your skills in roulette are not as well developed as your skills in poker. So maybe your total gains in poker are higher (or &gt; ) than in roulette.\\n'"
      ],
      "text/plain": [
       "[1] \"\\nComparing total winnings\\n\\nOops, it seems like you are losing money. Time to rethink and adapt your strategy! This will require some deeper analysis…\\n\\nAfter a short brainstorm in your hotel's jacuzzi, you realize that a possible explanation might be that your skills in roulette are not as well developed as your skills in poker. So maybe your total gains in poker are higher (or > ) than in roulette.\\n\""
      ]
     },
     "metadata": {},
     "output_type": "display_data"
    },
    {
     "data": {
      "text/html": [
       "<span style=white-space:pre-wrap>'\\n\\n    Calculate total_poker and total_roulette as in the previous exercise. Use the sum() function twice.\\n    Check if your total gains in poker are higher than for roulette by using a comparison. Simply print out the result of this comparison. What do you conclude, should you focus on roulette or on poker?\\n\\n'</span>"
      ],
      "text/latex": [
       "'\\textbackslash{}n\\textbackslash{}n    Calculate total\\_poker and total\\_roulette as in the previous exercise. Use the sum() function twice.\\textbackslash{}n    Check if your total gains in poker are higher than for roulette by using a comparison. Simply print out the result of this comparison. What do you conclude, should you focus on roulette or on poker?\\textbackslash{}n\\textbackslash{}n'"
      ],
      "text/markdown": [
       "<span style=white-space:pre-wrap>'\\n\\n    Calculate total_poker and total_roulette as in the previous exercise. Use the sum() function twice.\\n    Check if your total gains in poker are higher than for roulette by using a comparison. Simply print out the result of this comparison. What do you conclude, should you focus on roulette or on poker?\\n\\n'</span>"
      ],
      "text/plain": [
       "[1] \"\\n\\n    Calculate total_poker and total_roulette as in the previous exercise. Use the sum() function twice.\\n    Check if your total gains in poker are higher than for roulette by using a comparison. Simply print out the result of this comparison. What do you conclude, should you focus on roulette or on poker?\\n\\n\""
      ]
     },
     "metadata": {},
     "output_type": "display_data"
    },
    {
     "data": {
      "text/html": [
       "TRUE"
      ],
      "text/latex": [
       "TRUE"
      ],
      "text/markdown": [
       "TRUE"
      ],
      "text/plain": [
       "[1] TRUE"
      ]
     },
     "metadata": {},
     "output_type": "display_data"
    },
    {
     "data": {
      "text/html": [
       "'\\nGood job! Continue to the next exercise. \\n'"
      ],
      "text/latex": [
       "'\\textbackslash{}nGood job! Continue to the next exercise. \\textbackslash{}n'"
      ],
      "text/markdown": [
       "'\\nGood job! Continue to the next exercise. \\n'"
      ],
      "text/plain": [
       "[1] \"\\nGood job! Continue to the next exercise. \\n\""
      ]
     },
     "metadata": {},
     "output_type": "display_data"
    }
   ],
   "source": [
    "# exercise 09\n",
    "\n",
    "\"\n",
    "Comparing total winnings\n",
    "\n",
    "Oops, it seems like you are losing money. Time to rethink and adapt your strategy! This will require some deeper analysis…\n",
    "\n",
    "After a short brainstorm in your hotel's jacuzzi, you realize that a possible explanation might be that your skills in roulette are not as well developed as your skills in poker. So maybe your total gains in poker are higher (or > ) than in roulette.\n",
    "\"\n",
    "\n",
    "# Instructions\n",
    "\n",
    "\"\n",
    "\n",
    "    Calculate total_poker and total_roulette as in the previous exercise. Use the sum() function twice.\n",
    "    Check if your total gains in poker are higher than for roulette by using a comparison. Simply print out the result of this comparison. What do you conclude, should you focus on roulette or on poker?\n",
    "\n",
    "\"\n",
    "\n",
    "# solution\n",
    "\n",
    "# Poker and roulette winnings from Monday to Friday:\n",
    "poker_vector <- c(140, -50, 20, -120, 240)\n",
    "roulette_vector <- c(-24, -50, 100, -350, 10)\n",
    "days_vector <- c(\"Monday\", \"Tuesday\", \"Wednesday\", \"Thursday\", \"Friday\")\n",
    "names(poker_vector) <- days_vector\n",
    "names(roulette_vector) <- days_vector\n",
    "\n",
    "# Calculate total gains for poker and roulette\n",
    "total_poker <- sum(poker_vector)\n",
    "total_roulette <- sum(roulette_vector)\n",
    "\n",
    "# Check if you realized higher total gains in poker than in roulette\n",
    "total_poker > total_roulette\n",
    "\n",
    "#----------------------------------#\n",
    "\n",
    "# Conclusion\n",
    "\n",
    "\"\n",
    "Good job! Continue to the next exercise. \n",
    "\""
   ]
  },
  {
   "cell_type": "code",
   "execution_count": 20,
   "metadata": {
    "tags": [],
    "vscode": {
     "languageId": "r"
    }
   },
   "outputs": [
    {
     "data": {
      "text/html": [
       "'\\nVector selection: the good times\\n\\nYour hunch seemed to be right. It appears that the poker game is more your cup of tea than roulette.\\n\\nAnother possible route for investigation is your performance at the beginning of the working week compared to the end of it. You did have a couple of Margarita cocktails at the end of the week…\\n\\nTo answer that question, you only want to focus on a selection of the total_vector. In other words, our goal is to select specific elements of the vector. To select elements of a vector (and later matrices, data frames, …), you can use square brackets. Between the square brackets, you indicate what elements to select. For example, to select the first element of the vector, you type poker_vector[1]. To select the second element of the vector, you type poker_vector[2], etc. Notice that the first element in a vector has index 1, not 0 as in many other programming languages.\\n'"
      ],
      "text/latex": [
       "'\\textbackslash{}nVector selection: the good times\\textbackslash{}n\\textbackslash{}nYour hunch seemed to be right. It appears that the poker game is more your cup of tea than roulette.\\textbackslash{}n\\textbackslash{}nAnother possible route for investigation is your performance at the beginning of the working week compared to the end of it. You did have a couple of Margarita cocktails at the end of the week…\\textbackslash{}n\\textbackslash{}nTo answer that question, you only want to focus on a selection of the total\\_vector. In other words, our goal is to select specific elements of the vector. To select elements of a vector (and later matrices, data frames, …), you can use square brackets. Between the square brackets, you indicate what elements to select. For example, to select the first element of the vector, you type poker\\_vector{[}1{]}. To select the second element of the vector, you type poker\\_vector{[}2{]}, etc. Notice that the first element in a vector has index 1, not 0 as in many other programming languages.\\textbackslash{}n'"
      ],
      "text/markdown": [
       "'\\nVector selection: the good times\\n\\nYour hunch seemed to be right. It appears that the poker game is more your cup of tea than roulette.\\n\\nAnother possible route for investigation is your performance at the beginning of the working week compared to the end of it. You did have a couple of Margarita cocktails at the end of the week…\\n\\nTo answer that question, you only want to focus on a selection of the total_vector. In other words, our goal is to select specific elements of the vector. To select elements of a vector (and later matrices, data frames, …), you can use square brackets. Between the square brackets, you indicate what elements to select. For example, to select the first element of the vector, you type poker_vector[1]. To select the second element of the vector, you type poker_vector[2], etc. Notice that the first element in a vector has index 1, not 0 as in many other programming languages.\\n'"
      ],
      "text/plain": [
       "[1] \"\\nVector selection: the good times\\n\\nYour hunch seemed to be right. It appears that the poker game is more your cup of tea than roulette.\\n\\nAnother possible route for investigation is your performance at the beginning of the working week compared to the end of it. You did have a couple of Margarita cocktails at the end of the week…\\n\\nTo answer that question, you only want to focus on a selection of the total_vector. In other words, our goal is to select specific elements of the vector. To select elements of a vector (and later matrices, data frames, …), you can use square brackets. Between the square brackets, you indicate what elements to select. For example, to select the first element of the vector, you type poker_vector[1]. To select the second element of the vector, you type poker_vector[2], etc. Notice that the first element in a vector has index 1, not 0 as in many other programming languages.\\n\""
      ]
     },
     "metadata": {},
     "output_type": "display_data"
    },
    {
     "data": {
      "text/html": [
       "'\\nAssign the poker results of Wednesday to the variable poker_wednesday.\\n'"
      ],
      "text/latex": [
       "'\\textbackslash{}nAssign the poker results of Wednesday to the variable poker\\_wednesday.\\textbackslash{}n'"
      ],
      "text/markdown": [
       "'\\nAssign the poker results of Wednesday to the variable poker_wednesday.\\n'"
      ],
      "text/plain": [
       "[1] \"\\nAssign the poker results of Wednesday to the variable poker_wednesday.\\n\""
      ]
     },
     "metadata": {},
     "output_type": "display_data"
    },
    {
     "data": {
      "text/html": [
       "'\\nGreat! R also makes it possible to select multiple elements from a vector at once. Learn how in the next exercise! \\n'"
      ],
      "text/latex": [
       "'\\textbackslash{}nGreat! R also makes it possible to select multiple elements from a vector at once. Learn how in the next exercise! \\textbackslash{}n'"
      ],
      "text/markdown": [
       "'\\nGreat! R also makes it possible to select multiple elements from a vector at once. Learn how in the next exercise! \\n'"
      ],
      "text/plain": [
       "[1] \"\\nGreat! R also makes it possible to select multiple elements from a vector at once. Learn how in the next exercise! \\n\""
      ]
     },
     "metadata": {},
     "output_type": "display_data"
    }
   ],
   "source": [
    "# exercise 10\n",
    "\n",
    "\"\n",
    "Vector selection: the good times\n",
    "\n",
    "Your hunch seemed to be right. It appears that the poker game is more your cup of tea than roulette.\n",
    "\n",
    "Another possible route for investigation is your performance at the beginning of the working week compared to the end of it. You did have a couple of Margarita cocktails at the end of the week…\n",
    "\n",
    "To answer that question, you only want to focus on a selection of the total_vector. In other words, our goal is to select specific elements of the vector. To select elements of a vector (and later matrices, data frames, …), you can use square brackets. Between the square brackets, you indicate what elements to select. For example, to select the first element of the vector, you type poker_vector[1]. To select the second element of the vector, you type poker_vector[2], etc. Notice that the first element in a vector has index 1, not 0 as in many other programming languages.\n",
    "\"\n",
    "\n",
    "# Instructions\n",
    "\n",
    "\"\n",
    "Assign the poker results of Wednesday to the variable poker_wednesday.\n",
    "\"\n",
    "\n",
    "# solution\n",
    "\n",
    "# Poker and roulette winnings from Monday to Friday:\n",
    "poker_vector <- c(140, -50, 20, -120, 240)\n",
    "roulette_vector <- c(-24, -50, 100, -350, 10)\n",
    "days_vector <- c(\"Monday\", \"Tuesday\", \"Wednesday\", \"Thursday\", \"Friday\")\n",
    "names(poker_vector) <- days_vector\n",
    "names(roulette_vector) <- days_vector\n",
    "\n",
    "# Define a new variable based on a selection\n",
    "poker_wednesday <- poker_vector[3]\n",
    "\n",
    "#----------------------------------#\n",
    "\n",
    "# Conclusion\n",
    "\n",
    "\"\n",
    "Great! R also makes it possible to select multiple elements from a vector at once. Learn how in the next exercise! \n",
    "\""
   ]
  },
  {
   "cell_type": "code",
   "execution_count": 22,
   "metadata": {
    "vscode": {
     "languageId": "r"
    }
   },
   "outputs": [
    {
     "data": {
      "text/html": [
       "'\\nVector selection: the good times (2)\\n\\nHow about analyzing your midweek results?\\n\\nTo select multiple elements from a vector, you can add square brackets at the end of it. You can indicate between the brackets what elements should be selected. For example: suppose you want to select the first and the fifth day of the week: use the vector c(1, 5) between the square brackets. For example, the code below selects the first and fifth element of poker_vector:\\n\\npoker_vector[c(1, 5)]\\n\\n'"
      ],
      "text/latex": [
       "'\\textbackslash{}nVector selection: the good times (2)\\textbackslash{}n\\textbackslash{}nHow about analyzing your midweek results?\\textbackslash{}n\\textbackslash{}nTo select multiple elements from a vector, you can add square brackets at the end of it. You can indicate between the brackets what elements should be selected. For example: suppose you want to select the first and the fifth day of the week: use the vector c(1, 5) between the square brackets. For example, the code below selects the first and fifth element of poker\\_vector:\\textbackslash{}n\\textbackslash{}npoker\\_vector{[}c(1, 5){]}\\textbackslash{}n\\textbackslash{}n'"
      ],
      "text/markdown": [
       "'\\nVector selection: the good times (2)\\n\\nHow about analyzing your midweek results?\\n\\nTo select multiple elements from a vector, you can add square brackets at the end of it. You can indicate between the brackets what elements should be selected. For example: suppose you want to select the first and the fifth day of the week: use the vector c(1, 5) between the square brackets. For example, the code below selects the first and fifth element of poker_vector:\\n\\npoker_vector[c(1, 5)]\\n\\n'"
      ],
      "text/plain": [
       "[1] \"\\nVector selection: the good times (2)\\n\\nHow about analyzing your midweek results?\\n\\nTo select multiple elements from a vector, you can add square brackets at the end of it. You can indicate between the brackets what elements should be selected. For example: suppose you want to select the first and the fifth day of the week: use the vector c(1, 5) between the square brackets. For example, the code below selects the first and fifth element of poker_vector:\\n\\npoker_vector[c(1, 5)]\\n\\n\""
      ]
     },
     "metadata": {},
     "output_type": "display_data"
    },
    {
     "data": {
      "text/html": [
       "'\\nAssign the poker results of Tuesday, Wednesday and Thursday to the variable poker_midweek.\\n'"
      ],
      "text/latex": [
       "'\\textbackslash{}nAssign the poker results of Tuesday, Wednesday and Thursday to the variable poker\\_midweek.\\textbackslash{}n'"
      ],
      "text/markdown": [
       "'\\nAssign the poker results of Tuesday, Wednesday and Thursday to the variable poker_midweek.\\n'"
      ],
      "text/plain": [
       "[1] \"\\nAssign the poker results of Tuesday, Wednesday and Thursday to the variable poker_midweek.\\n\""
      ]
     },
     "metadata": {},
     "output_type": "display_data"
    },
    {
     "data": {
      "text/html": [
       "'\\nWell done! Continue to the next exercise to specialize in vector selection some more! \\n'"
      ],
      "text/latex": [
       "'\\textbackslash{}nWell done! Continue to the next exercise to specialize in vector selection some more! \\textbackslash{}n'"
      ],
      "text/markdown": [
       "'\\nWell done! Continue to the next exercise to specialize in vector selection some more! \\n'"
      ],
      "text/plain": [
       "[1] \"\\nWell done! Continue to the next exercise to specialize in vector selection some more! \\n\""
      ]
     },
     "metadata": {},
     "output_type": "display_data"
    }
   ],
   "source": [
    "# exercise 11\n",
    "\n",
    "\"\n",
    "Vector selection: the good times (2)\n",
    "\n",
    "How about analyzing your midweek results?\n",
    "\n",
    "To select multiple elements from a vector, you can add square brackets at the end of it. You can indicate between the brackets what elements should be selected. For example: suppose you want to select the first and the fifth day of the week: use the vector c(1, 5) between the square brackets. For example, the code below selects the first and fifth element of poker_vector:\n",
    "\n",
    "poker_vector[c(1, 5)]\n",
    "\n",
    "\"\n",
    "\n",
    "# Instructions\n",
    "\n",
    "\"\n",
    "Assign the poker results of Tuesday, Wednesday and Thursday to the variable poker_midweek.\n",
    "\"\n",
    "\n",
    "# solution\n",
    "\n",
    "# Poker and roulette winnings from Monday to Friday:\n",
    "poker_vector <- c(140, -50, 20, -120, 240)\n",
    "roulette_vector <- c(-24, -50, 100, -350, 10)\n",
    "days_vector <- c(\"Monday\", \"Tuesday\", \"Wednesday\", \"Thursday\", \"Friday\")\n",
    "names(poker_vector) <- days_vector\n",
    "names(roulette_vector) <- days_vector\n",
    "\n",
    "# Define a new variable based on a selection\n",
    "poker_midweek <- poker_vector[c(2,3,4)]\n",
    "\n",
    "#----------------------------------#\n",
    "\n",
    "# Conclusion\n",
    "\n",
    "\"\n",
    "Well done! Continue to the next exercise to specialize in vector selection some more! \n",
    "\""
   ]
  },
  {
   "cell_type": "code",
   "execution_count": 23,
   "metadata": {
    "vscode": {
     "languageId": "r"
    }
   },
   "outputs": [
    {
     "data": {
      "text/html": [
       "'\\nVector selection: the good times (3)\\n\\nSelecting multiple elements of poker_vector with c(2, 3, 4) is not very convenient. Many statisticians are lazy people by nature, so they created an easier way to do this: c(2, 3, 4) can be abbreviated to2:4, which generates a vector with all natural numbers from 2 up to 4.\\n\\nSo, another way to find the mid-week results is poker_vector[2:4]. Notice how the vector 2:4 is placed between the square brackets to select element 2 up to 4.\\n'"
      ],
      "text/latex": [
       "'\\textbackslash{}nVector selection: the good times (3)\\textbackslash{}n\\textbackslash{}nSelecting multiple elements of poker\\_vector with c(2, 3, 4) is not very convenient. Many statisticians are lazy people by nature, so they created an easier way to do this: c(2, 3, 4) can be abbreviated to2:4, which generates a vector with all natural numbers from 2 up to 4.\\textbackslash{}n\\textbackslash{}nSo, another way to find the mid-week results is poker\\_vector{[}2:4{]}. Notice how the vector 2:4 is placed between the square brackets to select element 2 up to 4.\\textbackslash{}n'"
      ],
      "text/markdown": [
       "'\\nVector selection: the good times (3)\\n\\nSelecting multiple elements of poker_vector with c(2, 3, 4) is not very convenient. Many statisticians are lazy people by nature, so they created an easier way to do this: c(2, 3, 4) can be abbreviated to2:4, which generates a vector with all natural numbers from 2 up to 4.\\n\\nSo, another way to find the mid-week results is poker_vector[2:4]. Notice how the vector 2:4 is placed between the square brackets to select element 2 up to 4.\\n'"
      ],
      "text/plain": [
       "[1] \"\\nVector selection: the good times (3)\\n\\nSelecting multiple elements of poker_vector with c(2, 3, 4) is not very convenient. Many statisticians are lazy people by nature, so they created an easier way to do this: c(2, 3, 4) can be abbreviated to2:4, which generates a vector with all natural numbers from 2 up to 4.\\n\\nSo, another way to find the mid-week results is poker_vector[2:4]. Notice how the vector 2:4 is placed between the square brackets to select element 2 up to 4.\\n\""
      ]
     },
     "metadata": {},
     "output_type": "display_data"
    },
    {
     "data": {
      "text/html": [
       "'\\nAssign to roulette_selection_vector the roulette results from Tuesday up to Friday; make use of : if it makes things easier for you.\\n'"
      ],
      "text/latex": [
       "'\\textbackslash{}nAssign to roulette\\_selection\\_vector the roulette results from Tuesday up to Friday; make use of : if it makes things easier for you.\\textbackslash{}n'"
      ],
      "text/markdown": [
       "'\\nAssign to roulette_selection_vector the roulette results from Tuesday up to Friday; make use of : if it makes things easier for you.\\n'"
      ],
      "text/plain": [
       "[1] \"\\nAssign to roulette_selection_vector the roulette results from Tuesday up to Friday; make use of : if it makes things easier for you.\\n\""
      ]
     },
     "metadata": {},
     "output_type": "display_data"
    },
    {
     "data": {
      "text/html": [
       "'\\nAwesome! The colon operator is extremely useful and very often used in R programming, so remember it well. Proceed to the next exercise. \\n'"
      ],
      "text/latex": [
       "'\\textbackslash{}nAwesome! The colon operator is extremely useful and very often used in R programming, so remember it well. Proceed to the next exercise. \\textbackslash{}n'"
      ],
      "text/markdown": [
       "'\\nAwesome! The colon operator is extremely useful and very often used in R programming, so remember it well. Proceed to the next exercise. \\n'"
      ],
      "text/plain": [
       "[1] \"\\nAwesome! The colon operator is extremely useful and very often used in R programming, so remember it well. Proceed to the next exercise. \\n\""
      ]
     },
     "metadata": {},
     "output_type": "display_data"
    }
   ],
   "source": [
    "# exercise 12\n",
    "\n",
    "\"\n",
    "Vector selection: the good times (3)\n",
    "\n",
    "Selecting multiple elements of poker_vector with c(2, 3, 4) is not very convenient. Many statisticians are lazy people by nature, so they created an easier way to do this: c(2, 3, 4) can be abbreviated to2:4, which generates a vector with all natural numbers from 2 up to 4.\n",
    "\n",
    "So, another way to find the mid-week results is poker_vector[2:4]. Notice how the vector 2:4 is placed between the square brackets to select element 2 up to 4.\n",
    "\"\n",
    "\n",
    "# Instructions\n",
    "\n",
    "\"\n",
    "Assign to roulette_selection_vector the roulette results from Tuesday up to Friday; make use of : if it makes things easier for you.\n",
    "\"\n",
    "\n",
    "# solution\n",
    "\n",
    "# Poker and roulette winnings from Monday to Friday:\n",
    "poker_vector <- c(140, -50, 20, -120, 240)\n",
    "roulette_vector <- c(-24, -50, 100, -350, 10)\n",
    "days_vector <- c(\"Monday\", \"Tuesday\", \"Wednesday\", \"Thursday\", \"Friday\")\n",
    "names(poker_vector) <- days_vector\n",
    "names(roulette_vector) <- days_vector\n",
    "\n",
    "# Define a new variable based on a selection\n",
    "roulette_selection_vector <- roulette_vector[2:5]\n",
    "\n",
    "#----------------------------------#\n",
    "\n",
    "# Conclusion\n",
    "\n",
    "\"\n",
    "Awesome! The colon operator is extremely useful and very often used in R programming, so remember it well. Proceed to the next exercise. \n",
    "\""
   ]
  },
  {
   "cell_type": "code",
   "execution_count": 24,
   "metadata": {
    "vscode": {
     "languageId": "r"
    }
   },
   "outputs": [
    {
     "data": {
      "text/html": [
       "'\\nVector selection: the good times (4)\\n\\nAnother way to tackle the previous exercise is by using the names of the vector elements (Monday, Tuesday, …) instead of their numeric positions. For example,\\n\\npoker_vector[Monday]\\n\\nwill select the first element of poker_vector since Monday is the name of that first element.\\n\\nJust like you did in the previous exercise with numerics, you can also use the element names to select multiple elements, for example:\\n\\npoker_vector[c(Monday,Tuesday)]\\n\\n'"
      ],
      "text/latex": [
       "'\\textbackslash{}nVector selection: the good times (4)\\textbackslash{}n\\textbackslash{}nAnother way to tackle the previous exercise is by using the names of the vector elements (Monday, Tuesday, …) instead of their numeric positions. For example,\\textbackslash{}n\\textbackslash{}npoker\\_vector{[}Monday{]}\\textbackslash{}n\\textbackslash{}nwill select the first element of poker\\_vector since Monday is the name of that first element.\\textbackslash{}n\\textbackslash{}nJust like you did in the previous exercise with numerics, you can also use the element names to select multiple elements, for example:\\textbackslash{}n\\textbackslash{}npoker\\_vector{[}c(Monday,Tuesday){]}\\textbackslash{}n\\textbackslash{}n'"
      ],
      "text/markdown": [
       "'\\nVector selection: the good times (4)\\n\\nAnother way to tackle the previous exercise is by using the names of the vector elements (Monday, Tuesday, …) instead of their numeric positions. For example,\\n\\npoker_vector[Monday]\\n\\nwill select the first element of poker_vector since Monday is the name of that first element.\\n\\nJust like you did in the previous exercise with numerics, you can also use the element names to select multiple elements, for example:\\n\\npoker_vector[c(Monday,Tuesday)]\\n\\n'"
      ],
      "text/plain": [
       "[1] \"\\nVector selection: the good times (4)\\n\\nAnother way to tackle the previous exercise is by using the names of the vector elements (Monday, Tuesday, …) instead of their numeric positions. For example,\\n\\npoker_vector[Monday]\\n\\nwill select the first element of poker_vector since Monday is the name of that first element.\\n\\nJust like you did in the previous exercise with numerics, you can also use the element names to select multiple elements, for example:\\n\\npoker_vector[c(Monday,Tuesday)]\\n\\n\""
      ]
     },
     "metadata": {},
     "output_type": "display_data"
    },
    {
     "data": {
      "text/html": [
       "<span style=white-space:pre-wrap>'\\n\\n    Select the first three elements in poker_vector by using their names: Monday, Tuesday and Wednesday. Assign the result of the selection to poker_start.\\n    Calculate the average of the values in poker_start with the mean() function. Simply print out the result so you can inspect it.\\n\\n\\n'</span>"
      ],
      "text/latex": [
       "'\\textbackslash{}n\\textbackslash{}n    Select the first three elements in poker\\_vector by using their names: Monday, Tuesday and Wednesday. Assign the result of the selection to poker\\_start.\\textbackslash{}n    Calculate the average of the values in poker\\_start with the mean() function. Simply print out the result so you can inspect it.\\textbackslash{}n\\textbackslash{}n\\textbackslash{}n'"
      ],
      "text/markdown": [
       "<span style=white-space:pre-wrap>'\\n\\n    Select the first three elements in poker_vector by using their names: Monday, Tuesday and Wednesday. Assign the result of the selection to poker_start.\\n    Calculate the average of the values in poker_start with the mean() function. Simply print out the result so you can inspect it.\\n\\n\\n'</span>"
      ],
      "text/plain": [
       "[1] \"\\n\\n    Select the first three elements in poker_vector by using their names: Monday, Tuesday and Wednesday. Assign the result of the selection to poker_start.\\n    Calculate the average of the values in poker_start with the mean() function. Simply print out the result so you can inspect it.\\n\\n\\n\""
      ]
     },
     "metadata": {},
     "output_type": "display_data"
    },
    {
     "data": {
      "text/html": [
       "36.6666666666667"
      ],
      "text/latex": [
       "36.6666666666667"
      ],
      "text/markdown": [
       "36.6666666666667"
      ],
      "text/plain": [
       "[1] 36.66667"
      ]
     },
     "metadata": {},
     "output_type": "display_data"
    },
    {
     "data": {
      "text/html": [
       "'\\nGood job! Apart from subsetting vectors by index or by name, you can also subset vectors by comparison. The next exercises will show you how! \\n'"
      ],
      "text/latex": [
       "'\\textbackslash{}nGood job! Apart from subsetting vectors by index or by name, you can also subset vectors by comparison. The next exercises will show you how! \\textbackslash{}n'"
      ],
      "text/markdown": [
       "'\\nGood job! Apart from subsetting vectors by index or by name, you can also subset vectors by comparison. The next exercises will show you how! \\n'"
      ],
      "text/plain": [
       "[1] \"\\nGood job! Apart from subsetting vectors by index or by name, you can also subset vectors by comparison. The next exercises will show you how! \\n\""
      ]
     },
     "metadata": {},
     "output_type": "display_data"
    }
   ],
   "source": [
    "# exercise 13\n",
    "\n",
    "\"\n",
    "Vector selection: the good times (4)\n",
    "\n",
    "Another way to tackle the previous exercise is by using the names of the vector elements (Monday, Tuesday, …) instead of their numeric positions. For example,\n",
    "\n",
    "poker_vector[Monday]\n",
    "\n",
    "will select the first element of poker_vector since Monday is the name of that first element.\n",
    "\n",
    "Just like you did in the previous exercise with numerics, you can also use the element names to select multiple elements, for example:\n",
    "\n",
    "poker_vector[c(Monday,Tuesday)]\n",
    "\n",
    "\"\n",
    "\n",
    "# Instructions\n",
    "\n",
    "\"\n",
    "\n",
    "    Select the first three elements in poker_vector by using their names: Monday, Tuesday and Wednesday. Assign the result of the selection to poker_start.\n",
    "    Calculate the average of the values in poker_start with the mean() function. Simply print out the result so you can inspect it.\n",
    "\n",
    "\n",
    "\"\n",
    "\n",
    "# solution\n",
    "\n",
    "# Poker and roulette winnings from Monday to Friday:\n",
    "poker_vector <- c(140, -50, 20, -120, 240)\n",
    "roulette_vector <- c(-24, -50, 100, -350, 10)\n",
    "days_vector <- c(\"Monday\", \"Tuesday\", \"Wednesday\", \"Thursday\", \"Friday\")\n",
    "names(poker_vector) <- days_vector\n",
    "names(roulette_vector) <- days_vector\n",
    "\n",
    "# Select poker results for Monday, Tuesday and Wednesday\n",
    "poker_start <- poker_vector[c(\"Monday\", \"Tuesday\", \"Wednesday\")]\n",
    "  \n",
    "# Calculate the average of the elements in poker_start\n",
    "mean(poker_start)\n",
    "\n",
    "#----------------------------------#\n",
    "\n",
    "# Conclusion\n",
    "\n",
    "\"\n",
    "Good job! Apart from subsetting vectors by index or by name, you can also subset vectors by comparison. The next exercises will show you how! \n",
    "\""
   ]
  },
  {
   "cell_type": "code",
   "execution_count": 25,
   "metadata": {
    "vscode": {
     "languageId": "r"
    }
   },
   "outputs": [
    {
     "data": {
      "text/html": [
       "<span style=white-space:pre-wrap>'\\nSelection by comparison - Step 1\\n\\nBy making use of comparison operators, we can approach the previous question in a more proactive way.\\n\\nThe (logical) comparison operators known to R are:\\n\\n    &lt; for less than\\n    &gt; for greater than\\n    &lt;= for less than or equal to\\n    &gt;= for greater than or equal to\\n    == for equal to each other\\n    != not equal to each other\\n\\nAs seen in the previous chapter, stating 6 &gt; 5 returns TRUE. The nice thing about R is that you can use these comparison operators also on vectors. For example:\\n\\nc(4, 5, 6) &gt; 5\\n[1] FALSE FALSE TRUE\\n\\nThis command tests for every element of the vector if the condition stated by the comparison operator is TRUE or FALSE.\\n'</span>"
      ],
      "text/latex": [
       "'\\textbackslash{}nSelection by comparison - Step 1\\textbackslash{}n\\textbackslash{}nBy making use of comparison operators, we can approach the previous question in a more proactive way.\\textbackslash{}n\\textbackslash{}nThe (logical) comparison operators known to R are:\\textbackslash{}n\\textbackslash{}n    < for less than\\textbackslash{}n    > for greater than\\textbackslash{}n    <= for less than or equal to\\textbackslash{}n    >= for greater than or equal to\\textbackslash{}n    == for equal to each other\\textbackslash{}n    != not equal to each other\\textbackslash{}n\\textbackslash{}nAs seen in the previous chapter, stating 6 > 5 returns TRUE. The nice thing about R is that you can use these comparison operators also on vectors. For example:\\textbackslash{}n\\textbackslash{}nc(4, 5, 6) > 5\\textbackslash{}n{[}1{]} FALSE FALSE TRUE\\textbackslash{}n\\textbackslash{}nThis command tests for every element of the vector if the condition stated by the comparison operator is TRUE or FALSE.\\textbackslash{}n'"
      ],
      "text/markdown": [
       "<span style=white-space:pre-wrap>'\\nSelection by comparison - Step 1\\n\\nBy making use of comparison operators, we can approach the previous question in a more proactive way.\\n\\nThe (logical) comparison operators known to R are:\\n\\n    &lt; for less than\\n    &gt; for greater than\\n    &lt;= for less than or equal to\\n    &gt;= for greater than or equal to\\n    == for equal to each other\\n    != not equal to each other\\n\\nAs seen in the previous chapter, stating 6 &gt; 5 returns TRUE. The nice thing about R is that you can use these comparison operators also on vectors. For example:\\n\\nc(4, 5, 6) &gt; 5\\n[1] FALSE FALSE TRUE\\n\\nThis command tests for every element of the vector if the condition stated by the comparison operator is TRUE or FALSE.\\n'</span>"
      ],
      "text/plain": [
       "[1] \"\\nSelection by comparison - Step 1\\n\\nBy making use of comparison operators, we can approach the previous question in a more proactive way.\\n\\nThe (logical) comparison operators known to R are:\\n\\n    < for less than\\n    > for greater than\\n    <= for less than or equal to\\n    >= for greater than or equal to\\n    == for equal to each other\\n    != not equal to each other\\n\\nAs seen in the previous chapter, stating 6 > 5 returns TRUE. The nice thing about R is that you can use these comparison operators also on vectors. For example:\\n\\nc(4, 5, 6) > 5\\n[1] FALSE FALSE TRUE\\n\\nThis command tests for every element of the vector if the condition stated by the comparison operator is TRUE or FALSE.\\n\""
      ]
     },
     "metadata": {},
     "output_type": "display_data"
    },
    {
     "data": {
      "text/html": [
       "<span style=white-space:pre-wrap>'\\n\\n    Check which elements in poker_vector are positive (i.e. &gt; 0) and assign this to selection_vector.\\n    Print out selection_vector so you can inspect it. The printout tells you whether you won (TRUE) or lost (FALSE) any money for each day.\\n\\n'</span>"
      ],
      "text/latex": [
       "'\\textbackslash{}n\\textbackslash{}n    Check which elements in poker\\_vector are positive (i.e. > 0) and assign this to selection\\_vector.\\textbackslash{}n    Print out selection\\_vector so you can inspect it. The printout tells you whether you won (TRUE) or lost (FALSE) any money for each day.\\textbackslash{}n\\textbackslash{}n'"
      ],
      "text/markdown": [
       "<span style=white-space:pre-wrap>'\\n\\n    Check which elements in poker_vector are positive (i.e. &gt; 0) and assign this to selection_vector.\\n    Print out selection_vector so you can inspect it. The printout tells you whether you won (TRUE) or lost (FALSE) any money for each day.\\n\\n'</span>"
      ],
      "text/plain": [
       "[1] \"\\n\\n    Check which elements in poker_vector are positive (i.e. > 0) and assign this to selection_vector.\\n    Print out selection_vector so you can inspect it. The printout tells you whether you won (TRUE) or lost (FALSE) any money for each day.\\n\\n\""
      ]
     },
     "metadata": {},
     "output_type": "display_data"
    },
    {
     "data": {
      "text/html": [
       "<style>\n",
       ".dl-inline {width: auto; margin:0; padding: 0}\n",
       ".dl-inline>dt, .dl-inline>dd {float: none; width: auto; display: inline-block}\n",
       ".dl-inline>dt::after {content: \":\\0020\"; padding-right: .5ex}\n",
       ".dl-inline>dt:not(:first-of-type) {padding-left: .5ex}\n",
       "</style><dl class=dl-inline><dt>Monday</dt><dd>TRUE</dd><dt>Tuesday</dt><dd>FALSE</dd><dt>Wednesday</dt><dd>TRUE</dd><dt>Thursday</dt><dd>FALSE</dd><dt>Friday</dt><dd>TRUE</dd></dl>\n"
      ],
      "text/latex": [
       "\\begin{description*}\n",
       "\\item[Monday] TRUE\n",
       "\\item[Tuesday] FALSE\n",
       "\\item[Wednesday] TRUE\n",
       "\\item[Thursday] FALSE\n",
       "\\item[Friday] TRUE\n",
       "\\end{description*}\n"
      ],
      "text/markdown": [
       "Monday\n",
       ":   TRUETuesday\n",
       ":   FALSEWednesday\n",
       ":   TRUEThursday\n",
       ":   FALSEFriday\n",
       ":   TRUE\n",
       "\n"
      ],
      "text/plain": [
       "   Monday   Tuesday Wednesday  Thursday    Friday \n",
       "     TRUE     FALSE      TRUE     FALSE      TRUE "
      ]
     },
     "metadata": {},
     "output_type": "display_data"
    },
    {
     "data": {
      "text/html": [
       "'\\nGreat! \\n'"
      ],
      "text/latex": [
       "'\\textbackslash{}nGreat! \\textbackslash{}n'"
      ],
      "text/markdown": [
       "'\\nGreat! \\n'"
      ],
      "text/plain": [
       "[1] \"\\nGreat! \\n\""
      ]
     },
     "metadata": {},
     "output_type": "display_data"
    }
   ],
   "source": [
    "# exercise 14\n",
    "\n",
    "\"\n",
    "Selection by comparison - Step 1\n",
    "\n",
    "By making use of comparison operators, we can approach the previous question in a more proactive way.\n",
    "\n",
    "The (logical) comparison operators known to R are:\n",
    "\n",
    "    < for less than\n",
    "    > for greater than\n",
    "    <= for less than or equal to\n",
    "    >= for greater than or equal to\n",
    "    == for equal to each other\n",
    "    != not equal to each other\n",
    "\n",
    "As seen in the previous chapter, stating 6 > 5 returns TRUE. The nice thing about R is that you can use these comparison operators also on vectors. For example:\n",
    "\n",
    "c(4, 5, 6) > 5\n",
    "[1] FALSE FALSE TRUE\n",
    "\n",
    "This command tests for every element of the vector if the condition stated by the comparison operator is TRUE or FALSE.\n",
    "\"\n",
    "\n",
    "# Instructions\n",
    "\n",
    "\"\n",
    "\n",
    "    Check which elements in poker_vector are positive (i.e. > 0) and assign this to selection_vector.\n",
    "    Print out selection_vector so you can inspect it. The printout tells you whether you won (TRUE) or lost (FALSE) any money for each day.\n",
    "\n",
    "\"\n",
    "\n",
    "# solution\n",
    "\n",
    "# Poker and roulette winnings from Monday to Friday:\n",
    "poker_vector <- c(140, -50, 20, -120, 240)\n",
    "roulette_vector <- c(-24, -50, 100, -350, 10)\n",
    "days_vector <- c(\"Monday\", \"Tuesday\", \"Wednesday\", \"Thursday\", \"Friday\")\n",
    "names(poker_vector) <- days_vector\n",
    "names(roulette_vector) <- days_vector\n",
    "\n",
    "# Which days did you make money on poker?\n",
    "selection_vector <- poker_vector > 0\n",
    "  \n",
    "# Print out selection_vector\n",
    "selection_vector\n",
    "\n",
    "#----------------------------------#\n",
    "\n",
    "# Conclusion\n",
    "\n",
    "\"\n",
    "Great! \n",
    "\""
   ]
  },
  {
   "cell_type": "code",
   "execution_count": 26,
   "metadata": {
    "vscode": {
     "languageId": "r"
    }
   },
   "outputs": [
    {
     "data": {
      "text/html": [
       "'\\nSelection by comparison - Step 2\\n\\nWorking with comparisons will make your data analytical life easier. Instead of selecting a subset of days to investigate yourself (like before), you can simply ask R to return only those days where you realized a positive return for poker.\\n\\nIn the previous exercises you used selection_vector &lt;- poker_vector &gt; 0 to find the days on which you had a positive poker return. Now, you would like to know not only the days on which you won, but also how much you won on those days.\\n\\nYou can select the desired elements, by putting selection_vector between the square brackets that follow poker_vector:\\n\\npoker_vector[selection_vector]\\n\\nR knows what to do when you pass a logical vector in square brackets: it will only select the elements that correspond to TRUE in selection_vector.\\n'"
      ],
      "text/latex": [
       "'\\textbackslash{}nSelection by comparison - Step 2\\textbackslash{}n\\textbackslash{}nWorking with comparisons will make your data analytical life easier. Instead of selecting a subset of days to investigate yourself (like before), you can simply ask R to return only those days where you realized a positive return for poker.\\textbackslash{}n\\textbackslash{}nIn the previous exercises you used selection\\_vector <- poker\\_vector > 0 to find the days on which you had a positive poker return. Now, you would like to know not only the days on which you won, but also how much you won on those days.\\textbackslash{}n\\textbackslash{}nYou can select the desired elements, by putting selection\\_vector between the square brackets that follow poker\\_vector:\\textbackslash{}n\\textbackslash{}npoker\\_vector{[}selection\\_vector{]}\\textbackslash{}n\\textbackslash{}nR knows what to do when you pass a logical vector in square brackets: it will only select the elements that correspond to TRUE in selection\\_vector.\\textbackslash{}n'"
      ],
      "text/markdown": [
       "'\\nSelection by comparison - Step 2\\n\\nWorking with comparisons will make your data analytical life easier. Instead of selecting a subset of days to investigate yourself (like before), you can simply ask R to return only those days where you realized a positive return for poker.\\n\\nIn the previous exercises you used selection_vector &lt;- poker_vector &gt; 0 to find the days on which you had a positive poker return. Now, you would like to know not only the days on which you won, but also how much you won on those days.\\n\\nYou can select the desired elements, by putting selection_vector between the square brackets that follow poker_vector:\\n\\npoker_vector[selection_vector]\\n\\nR knows what to do when you pass a logical vector in square brackets: it will only select the elements that correspond to TRUE in selection_vector.\\n'"
      ],
      "text/plain": [
       "[1] \"\\nSelection by comparison - Step 2\\n\\nWorking with comparisons will make your data analytical life easier. Instead of selecting a subset of days to investigate yourself (like before), you can simply ask R to return only those days where you realized a positive return for poker.\\n\\nIn the previous exercises you used selection_vector <- poker_vector > 0 to find the days on which you had a positive poker return. Now, you would like to know not only the days on which you won, but also how much you won on those days.\\n\\nYou can select the desired elements, by putting selection_vector between the square brackets that follow poker_vector:\\n\\npoker_vector[selection_vector]\\n\\nR knows what to do when you pass a logical vector in square brackets: it will only select the elements that correspond to TRUE in selection_vector.\\n\""
      ]
     },
     "metadata": {},
     "output_type": "display_data"
    },
    {
     "data": {
      "text/html": [
       "'\\nUse selection_vector in square brackets to assign the amounts that you won on the profitable days to the variable poker_winning_days.\\n'"
      ],
      "text/latex": [
       "'\\textbackslash{}nUse selection\\_vector in square brackets to assign the amounts that you won on the profitable days to the variable poker\\_winning\\_days.\\textbackslash{}n'"
      ],
      "text/markdown": [
       "'\\nUse selection_vector in square brackets to assign the amounts that you won on the profitable days to the variable poker_winning_days.\\n'"
      ],
      "text/plain": [
       "[1] \"\\nUse selection_vector in square brackets to assign the amounts that you won on the profitable days to the variable poker_winning_days.\\n\""
      ]
     },
     "metadata": {},
     "output_type": "display_data"
    },
    {
     "data": {
      "text/html": [
       "<style>\n",
       ".dl-inline {width: auto; margin:0; padding: 0}\n",
       ".dl-inline>dt, .dl-inline>dd {float: none; width: auto; display: inline-block}\n",
       ".dl-inline>dt::after {content: \":\\0020\"; padding-right: .5ex}\n",
       ".dl-inline>dt:not(:first-of-type) {padding-left: .5ex}\n",
       "</style><dl class=dl-inline><dt>Monday</dt><dd>140</dd><dt>Wednesday</dt><dd>20</dd><dt>Friday</dt><dd>240</dd></dl>\n"
      ],
      "text/latex": [
       "\\begin{description*}\n",
       "\\item[Monday] 140\n",
       "\\item[Wednesday] 20\n",
       "\\item[Friday] 240\n",
       "\\end{description*}\n"
      ],
      "text/markdown": [
       "Monday\n",
       ":   140Wednesday\n",
       ":   20Friday\n",
       ":   240\n",
       "\n"
      ],
      "text/plain": [
       "   Monday Wednesday    Friday \n",
       "      140        20       240 "
      ]
     },
     "metadata": {},
     "output_type": "display_data"
    },
    {
     "data": {
      "text/html": [
       "'\\nGood job! Continue to the next exercise. \\n'"
      ],
      "text/latex": [
       "'\\textbackslash{}nGood job! Continue to the next exercise. \\textbackslash{}n'"
      ],
      "text/markdown": [
       "'\\nGood job! Continue to the next exercise. \\n'"
      ],
      "text/plain": [
       "[1] \"\\nGood job! Continue to the next exercise. \\n\""
      ]
     },
     "metadata": {},
     "output_type": "display_data"
    }
   ],
   "source": [
    "# exercise 15\n",
    "\n",
    "\"\n",
    "Selection by comparison - Step 2\n",
    "\n",
    "Working with comparisons will make your data analytical life easier. Instead of selecting a subset of days to investigate yourself (like before), you can simply ask R to return only those days where you realized a positive return for poker.\n",
    "\n",
    "In the previous exercises you used selection_vector <- poker_vector > 0 to find the days on which you had a positive poker return. Now, you would like to know not only the days on which you won, but also how much you won on those days.\n",
    "\n",
    "You can select the desired elements, by putting selection_vector between the square brackets that follow poker_vector:\n",
    "\n",
    "poker_vector[selection_vector]\n",
    "\n",
    "R knows what to do when you pass a logical vector in square brackets: it will only select the elements that correspond to TRUE in selection_vector.\n",
    "\"\n",
    "\n",
    "# Instructions\n",
    "\n",
    "\"\n",
    "Use selection_vector in square brackets to assign the amounts that you won on the profitable days to the variable poker_winning_days.\n",
    "\"\n",
    "\n",
    "# solution\n",
    "\n",
    "# Poker and roulette winnings from Monday to Friday:\n",
    "poker_vector <- c(140, -50, 20, -120, 240)\n",
    "roulette_vector <- c(-24, -50, 100, -350, 10)\n",
    "days_vector <- c(\"Monday\", \"Tuesday\", \"Wednesday\", \"Thursday\", \"Friday\")\n",
    "names(poker_vector) <- days_vector\n",
    "names(roulette_vector) <- days_vector\n",
    "\n",
    "# Which days did you make money on poker?\n",
    "selection_vector <- poker_vector > 0\n",
    "\n",
    "# Select from poker_vector these days\n",
    "poker_winning_days <- poker_vector[selection_vector]\n",
    "\n",
    "#----------------------------------#\n",
    "poker_winning_days\n",
    "# Conclusion\n",
    "\n",
    "\"\n",
    "Good job! Continue to the next exercise. \n",
    "\""
   ]
  },
  {
   "cell_type": "code",
   "execution_count": 27,
   "metadata": {
    "vscode": {
     "languageId": "r"
    }
   },
   "outputs": [
    {
     "data": {
      "text/html": [
       "'\\nAdvanced selection\\n\\nJust like you did for poker, you also want to know those days where you realized a positive return for roulette.\\n'"
      ],
      "text/latex": [
       "'\\textbackslash{}nAdvanced selection\\textbackslash{}n\\textbackslash{}nJust like you did for poker, you also want to know those days where you realized a positive return for roulette.\\textbackslash{}n'"
      ],
      "text/markdown": [
       "'\\nAdvanced selection\\n\\nJust like you did for poker, you also want to know those days where you realized a positive return for roulette.\\n'"
      ],
      "text/plain": [
       "[1] \"\\nAdvanced selection\\n\\nJust like you did for poker, you also want to know those days where you realized a positive return for roulette.\\n\""
      ]
     },
     "metadata": {},
     "output_type": "display_data"
    },
    {
     "data": {
      "text/html": [
       "<span style=white-space:pre-wrap>'\\n\\n    Create the variable selection_vector, this time to see if you made profit with roulette for different days.\\n    Assign the amounts that you made on the days that you ended positively for roulette to the variable roulette_winning_days. This vector thus contains the positive winnings of roulette_vector.\\n\\n'</span>"
      ],
      "text/latex": [
       "'\\textbackslash{}n\\textbackslash{}n    Create the variable selection\\_vector, this time to see if you made profit with roulette for different days.\\textbackslash{}n    Assign the amounts that you made on the days that you ended positively for roulette to the variable roulette\\_winning\\_days. This vector thus contains the positive winnings of roulette\\_vector.\\textbackslash{}n\\textbackslash{}n'"
      ],
      "text/markdown": [
       "<span style=white-space:pre-wrap>'\\n\\n    Create the variable selection_vector, this time to see if you made profit with roulette for different days.\\n    Assign the amounts that you made on the days that you ended positively for roulette to the variable roulette_winning_days. This vector thus contains the positive winnings of roulette_vector.\\n\\n'</span>"
      ],
      "text/plain": [
       "[1] \"\\n\\n    Create the variable selection_vector, this time to see if you made profit with roulette for different days.\\n    Assign the amounts that you made on the days that you ended positively for roulette to the variable roulette_winning_days. This vector thus contains the positive winnings of roulette_vector.\\n\\n\""
      ]
     },
     "metadata": {},
     "output_type": "display_data"
    },
    {
     "data": {
      "text/html": [
       "'\\nGreat! This exercise concludes the chapter on vectors. The next chapter will introduce you to the two-dimensional version of vectors: matrices. \\n'"
      ],
      "text/latex": [
       "'\\textbackslash{}nGreat! This exercise concludes the chapter on vectors. The next chapter will introduce you to the two-dimensional version of vectors: matrices. \\textbackslash{}n'"
      ],
      "text/markdown": [
       "'\\nGreat! This exercise concludes the chapter on vectors. The next chapter will introduce you to the two-dimensional version of vectors: matrices. \\n'"
      ],
      "text/plain": [
       "[1] \"\\nGreat! This exercise concludes the chapter on vectors. The next chapter will introduce you to the two-dimensional version of vectors: matrices. \\n\""
      ]
     },
     "metadata": {},
     "output_type": "display_data"
    }
   ],
   "source": [
    "# exercise 16\n",
    "\n",
    "\"\n",
    "Advanced selection\n",
    "\n",
    "Just like you did for poker, you also want to know those days where you realized a positive return for roulette.\n",
    "\"\n",
    "\n",
    "# Instructions\n",
    "\n",
    "\"\n",
    "\n",
    "    Create the variable selection_vector, this time to see if you made profit with roulette for different days.\n",
    "    Assign the amounts that you made on the days that you ended positively for roulette to the variable roulette_winning_days. This vector thus contains the positive winnings of roulette_vector.\n",
    "\n",
    "\"\n",
    "\n",
    "# solution\n",
    "\n",
    "# Poker and roulette winnings from Monday to Friday:\n",
    "poker_vector <- c(140, -50, 20, -120, 240)\n",
    "roulette_vector <- c(-24, -50, 100, -350, 10)\n",
    "days_vector <- c(\"Monday\", \"Tuesday\", \"Wednesday\", \"Thursday\", \"Friday\")\n",
    "names(poker_vector) <- days_vector\n",
    "names(roulette_vector) <- days_vector\n",
    "\n",
    "# Which days did you make money on roulette?\n",
    "selection_vector <- roulette_vector > 0\n",
    "\n",
    "# Select from roulette_vector these days\n",
    "roulette_winning_days <- roulette_vector[selection_vector]\n",
    "\n",
    "#----------------------------------#\n",
    "\n",
    "# Conclusion\n",
    "\n",
    "\"\n",
    "Great! This exercise concludes the chapter on vectors. The next chapter will introduce you to the two-dimensional version of vectors: matrices. \n",
    "\""
   ]
  }
 ],
 "metadata": {
  "kernelspec": {
   "display_name": "R",
   "language": "R",
   "name": "ir"
  },
  "language_info": {
   "codemirror_mode": "r",
   "file_extension": ".r",
   "mimetype": "text/x-r-source",
   "name": "R",
   "pygments_lexer": "r",
   "version": "4.3.2"
  }
 },
 "nbformat": 4,
 "nbformat_minor": 4
}
