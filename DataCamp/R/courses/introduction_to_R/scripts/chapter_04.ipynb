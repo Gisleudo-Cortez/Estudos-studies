{
 "cells": [
  {
   "cell_type": "code",
   "execution_count": 14,
   "metadata": {
    "vscode": {
     "languageId": "r"
    }
   },
   "outputs": [
    {
     "data": {
      "text/html": [
       "'\\nWhat\\'s a factor and why would you use it?\\n\\nIn this chapter you dive into the wonderful world of factors.\\n\\nThe term factor refers to a statistical data type used to store categorical variables. The difference between a categorical variable and a continuous variable is that a categorical variable can belong to a limited number of categories. A continuous variable, on the other hand, can correspond to an infinite number of values.\\n\\nIt is important that R knows whether it is dealing with a continuous or a categorical variable, as the statistical models you will develop in the future treat both types differently. (You will see later why this is the case.)\\n\\nA good example of a categorical variable is sex. In many circumstances you can limit the sex categories to Male or Female. (Sometimes you may need different categories. For example, you may need to consider chromosomal variation, hermaphroditic animals, or different cultural norms, but you will always have a finite number of categories.)\\n'"
      ],
      "text/latex": [
       "'\\textbackslash{}nWhat\\textbackslash{}'s a factor and why would you use it?\\textbackslash{}n\\textbackslash{}nIn this chapter you dive into the wonderful world of factors.\\textbackslash{}n\\textbackslash{}nThe term factor refers to a statistical data type used to store categorical variables. The difference between a categorical variable and a continuous variable is that a categorical variable can belong to a limited number of categories. A continuous variable, on the other hand, can correspond to an infinite number of values.\\textbackslash{}n\\textbackslash{}nIt is important that R knows whether it is dealing with a continuous or a categorical variable, as the statistical models you will develop in the future treat both types differently. (You will see later why this is the case.)\\textbackslash{}n\\textbackslash{}nA good example of a categorical variable is sex. In many circumstances you can limit the sex categories to Male or Female. (Sometimes you may need different categories. For example, you may need to consider chromosomal variation, hermaphroditic animals, or different cultural norms, but you will always have a finite number of categories.)\\textbackslash{}n'"
      ],
      "text/markdown": [
       "'\\nWhat\\'s a factor and why would you use it?\\n\\nIn this chapter you dive into the wonderful world of factors.\\n\\nThe term factor refers to a statistical data type used to store categorical variables. The difference between a categorical variable and a continuous variable is that a categorical variable can belong to a limited number of categories. A continuous variable, on the other hand, can correspond to an infinite number of values.\\n\\nIt is important that R knows whether it is dealing with a continuous or a categorical variable, as the statistical models you will develop in the future treat both types differently. (You will see later why this is the case.)\\n\\nA good example of a categorical variable is sex. In many circumstances you can limit the sex categories to Male or Female. (Sometimes you may need different categories. For example, you may need to consider chromosomal variation, hermaphroditic animals, or different cultural norms, but you will always have a finite number of categories.)\\n'"
      ],
      "text/plain": [
       "[1] \"\\nWhat's a factor and why would you use it?\\n\\nIn this chapter you dive into the wonderful world of factors.\\n\\nThe term factor refers to a statistical data type used to store categorical variables. The difference between a categorical variable and a continuous variable is that a categorical variable can belong to a limited number of categories. A continuous variable, on the other hand, can correspond to an infinite number of values.\\n\\nIt is important that R knows whether it is dealing with a continuous or a categorical variable, as the statistical models you will develop in the future treat both types differently. (You will see later why this is the case.)\\n\\nA good example of a categorical variable is sex. In many circumstances you can limit the sex categories to Male or Female. (Sometimes you may need different categories. For example, you may need to consider chromosomal variation, hermaphroditic animals, or different cultural norms, but you will always have a finite number of categories.)\\n\""
      ]
     },
     "metadata": {},
     "output_type": "display_data"
    },
    {
     "data": {
      "text/html": [
       "'\\nAssign to variable theory the value factors.\\n'"
      ],
      "text/latex": [
       "'\\textbackslash{}nAssign to variable theory the value factors.\\textbackslash{}n'"
      ],
      "text/markdown": [
       "'\\nAssign to variable theory the value factors.\\n'"
      ],
      "text/plain": [
       "[1] \"\\nAssign to variable theory the value factors.\\n\""
      ]
     },
     "metadata": {},
     "output_type": "display_data"
    },
    {
     "data": {
      "text/html": [
       "'\\nGood job! Ready to start? Continue to the next exercise! \\n'"
      ],
      "text/latex": [
       "'\\textbackslash{}nGood job! Ready to start? Continue to the next exercise! \\textbackslash{}n'"
      ],
      "text/markdown": [
       "'\\nGood job! Ready to start? Continue to the next exercise! \\n'"
      ],
      "text/plain": [
       "[1] \"\\nGood job! Ready to start? Continue to the next exercise! \\n\""
      ]
     },
     "metadata": {},
     "output_type": "display_data"
    }
   ],
   "source": [
    "# exercise 01\n",
    "\n",
    "\"\n",
    "What's a factor and why would you use it?\n",
    "\n",
    "In this chapter you dive into the wonderful world of factors.\n",
    "\n",
    "The term factor refers to a statistical data type used to store categorical variables. The difference between a categorical variable and a continuous variable is that a categorical variable can belong to a limited number of categories. A continuous variable, on the other hand, can correspond to an infinite number of values.\n",
    "\n",
    "It is important that R knows whether it is dealing with a continuous or a categorical variable, as the statistical models you will develop in the future treat both types differently. (You will see later why this is the case.)\n",
    "\n",
    "A good example of a categorical variable is sex. In many circumstances you can limit the sex categories to Male or Female. (Sometimes you may need different categories. For example, you may need to consider chromosomal variation, hermaphroditic animals, or different cultural norms, but you will always have a finite number of categories.)\n",
    "\"\n",
    "\n",
    "# Instructions\n",
    "\n",
    "\"\n",
    "Assign to variable theory the value factors.\n",
    "\"\n",
    "\n",
    "# solution\n",
    "\n",
    "# Assign to the variable theory what this chapter is about!\n",
    "\n",
    "theory <- \"factors\"\n",
    "\n",
    "#----------------------------------#\n",
    "\n",
    "# Conclusion\n",
    "\n",
    "\"\n",
    "Good job! Ready to start? Continue to the next exercise! \n",
    "\""
   ]
  },
  {
   "cell_type": "code",
   "execution_count": 15,
   "metadata": {
    "tags": [],
    "vscode": {
     "languageId": "r"
    }
   },
   "outputs": [
    {
     "data": {
      "text/html": [
       "'\\nWhat\\'s a factor and why would you use it? (2)\\n\\nTo create factors in R, you make use of the function factor(). First thing that you have to do is create a vector that contains all the observations that belong to a limited number of categories. For example, sex_vector contains the sex of 5 different individuals:\\n\\nsex_vector &lt;- c(Male,Female,Female,Male,Male)\\n\\nIt is clear that there are two categories, or in R-terms \\'factor levels\\', at work here: Male and Female.\\n\\nThe function factor() will encode the vector as a factor:\\n\\nfactor_sex_vector &lt;- factor(sex_vector)\\n\\n'"
      ],
      "text/latex": [
       "'\\textbackslash{}nWhat\\textbackslash{}'s a factor and why would you use it? (2)\\textbackslash{}n\\textbackslash{}nTo create factors in R, you make use of the function factor(). First thing that you have to do is create a vector that contains all the observations that belong to a limited number of categories. For example, sex\\_vector contains the sex of 5 different individuals:\\textbackslash{}n\\textbackslash{}nsex\\_vector <- c(Male,Female,Female,Male,Male)\\textbackslash{}n\\textbackslash{}nIt is clear that there are two categories, or in R-terms \\textbackslash{}'factor levels\\textbackslash{}', at work here: Male and Female.\\textbackslash{}n\\textbackslash{}nThe function factor() will encode the vector as a factor:\\textbackslash{}n\\textbackslash{}nfactor\\_sex\\_vector <- factor(sex\\_vector)\\textbackslash{}n\\textbackslash{}n'"
      ],
      "text/markdown": [
       "'\\nWhat\\'s a factor and why would you use it? (2)\\n\\nTo create factors in R, you make use of the function factor(). First thing that you have to do is create a vector that contains all the observations that belong to a limited number of categories. For example, sex_vector contains the sex of 5 different individuals:\\n\\nsex_vector &lt;- c(Male,Female,Female,Male,Male)\\n\\nIt is clear that there are two categories, or in R-terms \\'factor levels\\', at work here: Male and Female.\\n\\nThe function factor() will encode the vector as a factor:\\n\\nfactor_sex_vector &lt;- factor(sex_vector)\\n\\n'"
      ],
      "text/plain": [
       "[1] \"\\nWhat's a factor and why would you use it? (2)\\n\\nTo create factors in R, you make use of the function factor(). First thing that you have to do is create a vector that contains all the observations that belong to a limited number of categories. For example, sex_vector contains the sex of 5 different individuals:\\n\\nsex_vector <- c(Male,Female,Female,Male,Male)\\n\\nIt is clear that there are two categories, or in R-terms 'factor levels', at work here: Male and Female.\\n\\nThe function factor() will encode the vector as a factor:\\n\\nfactor_sex_vector <- factor(sex_vector)\\n\\n\""
      ]
     },
     "metadata": {},
     "output_type": "display_data"
    },
    {
     "data": {
      "text/html": [
       "<span style=white-space:pre-wrap>'\\n\\n    Convert the character vector sex_vector to a factor with factor() and assign the result to factor_sex_vector\\n    Print out factor_sex_vector and assert that R prints out the factor levels below the actual values.\\n\\n'</span>"
      ],
      "text/latex": [
       "'\\textbackslash{}n\\textbackslash{}n    Convert the character vector sex\\_vector to a factor with factor() and assign the result to factor\\_sex\\_vector\\textbackslash{}n    Print out factor\\_sex\\_vector and assert that R prints out the factor levels below the actual values.\\textbackslash{}n\\textbackslash{}n'"
      ],
      "text/markdown": [
       "<span style=white-space:pre-wrap>'\\n\\n    Convert the character vector sex_vector to a factor with factor() and assign the result to factor_sex_vector\\n    Print out factor_sex_vector and assert that R prints out the factor levels below the actual values.\\n\\n'</span>"
      ],
      "text/plain": [
       "[1] \"\\n\\n    Convert the character vector sex_vector to a factor with factor() and assign the result to factor_sex_vector\\n    Print out factor_sex_vector and assert that R prints out the factor levels below the actual values.\\n\\n\""
      ]
     },
     "metadata": {},
     "output_type": "display_data"
    },
    {
     "data": {
      "text/html": [
       "<style>\n",
       ".list-inline {list-style: none; margin:0; padding: 0}\n",
       ".list-inline>li {display: inline-block}\n",
       ".list-inline>li:not(:last-child)::after {content: \"\\00b7\"; padding: 0 .5ex}\n",
       "</style>\n",
       "<ol class=list-inline><li>Male</li><li>Female</li><li>Female</li><li>Male</li><li>Male</li></ol>\n",
       "\n",
       "<details>\n",
       "\t<summary style=display:list-item;cursor:pointer>\n",
       "\t\t<strong>Levels</strong>:\n",
       "\t</summary>\n",
       "\t<style>\n",
       "\t.list-inline {list-style: none; margin:0; padding: 0}\n",
       "\t.list-inline>li {display: inline-block}\n",
       "\t.list-inline>li:not(:last-child)::after {content: \"\\00b7\"; padding: 0 .5ex}\n",
       "\t</style>\n",
       "\t<ol class=list-inline><li>'Female'</li><li>'Male'</li></ol>\n",
       "</details>"
      ],
      "text/latex": [
       "\\begin{enumerate*}\n",
       "\\item Male\n",
       "\\item Female\n",
       "\\item Female\n",
       "\\item Male\n",
       "\\item Male\n",
       "\\end{enumerate*}\n",
       "\n",
       "\\emph{Levels}: \\begin{enumerate*}\n",
       "\\item 'Female'\n",
       "\\item 'Male'\n",
       "\\end{enumerate*}\n"
      ],
      "text/markdown": [
       "1. Male\n",
       "2. Female\n",
       "3. Female\n",
       "4. Male\n",
       "5. Male\n",
       "\n",
       "\n",
       "\n",
       "**Levels**: 1. 'Female'\n",
       "2. 'Male'\n",
       "\n",
       "\n"
      ],
      "text/plain": [
       "[1] Male   Female Female Male   Male  \n",
       "Levels: Female Male"
      ]
     },
     "metadata": {},
     "output_type": "display_data"
    },
    {
     "data": {
      "text/html": [
       "'\\nGreat! If you want to find out more about the factor() function, do not hesitate to type ?factor in the console. This will open up a help page. Continue to the next exercise. \\n'"
      ],
      "text/latex": [
       "'\\textbackslash{}nGreat! If you want to find out more about the factor() function, do not hesitate to type ?factor in the console. This will open up a help page. Continue to the next exercise. \\textbackslash{}n'"
      ],
      "text/markdown": [
       "'\\nGreat! If you want to find out more about the factor() function, do not hesitate to type ?factor in the console. This will open up a help page. Continue to the next exercise. \\n'"
      ],
      "text/plain": [
       "[1] \"\\nGreat! If you want to find out more about the factor() function, do not hesitate to type ?factor in the console. This will open up a help page. Continue to the next exercise. \\n\""
      ]
     },
     "metadata": {},
     "output_type": "display_data"
    }
   ],
   "source": [
    "# exercise 02\n",
    "\n",
    "\"\n",
    "What's a factor and why would you use it? (2)\n",
    "\n",
    "To create factors in R, you make use of the function factor(). First thing that you have to do is create a vector that contains all the observations that belong to a limited number of categories. For example, sex_vector contains the sex of 5 different individuals:\n",
    "\n",
    "sex_vector <- c(Male,Female,Female,Male,Male)\n",
    "\n",
    "It is clear that there are two categories, or in R-terms 'factor levels', at work here: Male and Female.\n",
    "\n",
    "The function factor() will encode the vector as a factor:\n",
    "\n",
    "factor_sex_vector <- factor(sex_vector)\n",
    "\n",
    "\"\n",
    "\n",
    "# Instructions\n",
    "\n",
    "\"\n",
    "\n",
    "    Convert the character vector sex_vector to a factor with factor() and assign the result to factor_sex_vector\n",
    "    Print out factor_sex_vector and assert that R prints out the factor levels below the actual values.\n",
    "\n",
    "\"\n",
    "\n",
    "# solution\n",
    "\n",
    "# Sex vector\n",
    "sex_vector <- c(Male, Female, Female, Male, Male)\n",
    "\n",
    "# Convert sex_vector to a factor\n",
    "factor_sex_vector <- factor(sex_vector)\n",
    "\n",
    "# Print out factor_sex_vector\n",
    "factor_sex_vector\n",
    "\n",
    "#----------------------------------#\n",
    "\n",
    "# Conclusion\n",
    "\n",
    "\"\n",
    "Great! If you want to find out more about the factor() function, do not hesitate to type ?factor in the console. This will open up a help page. Continue to the next exercise. \n",
    "\""
   ]
  },
  {
   "cell_type": "code",
   "execution_count": 16,
   "metadata": {
    "tags": [],
    "vscode": {
     "languageId": "r"
    }
   },
   "outputs": [
    {
     "data": {
      "text/html": [
       "'\\nWhat\\'s a factor and why would you use it? (3)\\n\\nThere are two types of categorical variables: a nominal categorical variable and an ordinal categorical variable.\\n\\nA nominal variable is a categorical variable without an implied order. This means that it is impossible to say that \\'one is worth more than the other\\'. For example, think of the categorical variable animals_vector with the categories Elephant, Giraffe, Donkey and Horse. Here, it is impossible to say that one stands above or below the other. (Note that some of you might disagree ;-) ).\\n\\nIn contrast, ordinal variables do have a natural ordering. Consider for example the categorical variable temperature_vector with the categories: Low, Medium and High. Here it is obvious that Medium stands above Low, and High stands above Medium.\\n'"
      ],
      "text/latex": [
       "'\\textbackslash{}nWhat\\textbackslash{}'s a factor and why would you use it? (3)\\textbackslash{}n\\textbackslash{}nThere are two types of categorical variables: a nominal categorical variable and an ordinal categorical variable.\\textbackslash{}n\\textbackslash{}nA nominal variable is a categorical variable without an implied order. This means that it is impossible to say that \\textbackslash{}'one is worth more than the other\\textbackslash{}'. For example, think of the categorical variable animals\\_vector with the categories Elephant, Giraffe, Donkey and Horse. Here, it is impossible to say that one stands above or below the other. (Note that some of you might disagree ;-) ).\\textbackslash{}n\\textbackslash{}nIn contrast, ordinal variables do have a natural ordering. Consider for example the categorical variable temperature\\_vector with the categories: Low, Medium and High. Here it is obvious that Medium stands above Low, and High stands above Medium.\\textbackslash{}n'"
      ],
      "text/markdown": [
       "'\\nWhat\\'s a factor and why would you use it? (3)\\n\\nThere are two types of categorical variables: a nominal categorical variable and an ordinal categorical variable.\\n\\nA nominal variable is a categorical variable without an implied order. This means that it is impossible to say that \\'one is worth more than the other\\'. For example, think of the categorical variable animals_vector with the categories Elephant, Giraffe, Donkey and Horse. Here, it is impossible to say that one stands above or below the other. (Note that some of you might disagree ;-) ).\\n\\nIn contrast, ordinal variables do have a natural ordering. Consider for example the categorical variable temperature_vector with the categories: Low, Medium and High. Here it is obvious that Medium stands above Low, and High stands above Medium.\\n'"
      ],
      "text/plain": [
       "[1] \"\\nWhat's a factor and why would you use it? (3)\\n\\nThere are two types of categorical variables: a nominal categorical variable and an ordinal categorical variable.\\n\\nA nominal variable is a categorical variable without an implied order. This means that it is impossible to say that 'one is worth more than the other'. For example, think of the categorical variable animals_vector with the categories Elephant, Giraffe, Donkey and Horse. Here, it is impossible to say that one stands above or below the other. (Note that some of you might disagree ;-) ).\\n\\nIn contrast, ordinal variables do have a natural ordering. Consider for example the categorical variable temperature_vector with the categories: Low, Medium and High. Here it is obvious that Medium stands above Low, and High stands above Medium.\\n\""
      ]
     },
     "metadata": {},
     "output_type": "display_data"
    },
    {
     "data": {
      "text/html": [
       "'\\nSubmit the answer to check how R constructs and prints nominal and ordinal variables. Do not worry if you do not understand all the code just yet, we will get to that.\\n'"
      ],
      "text/latex": [
       "'\\textbackslash{}nSubmit the answer to check how R constructs and prints nominal and ordinal variables. Do not worry if you do not understand all the code just yet, we will get to that.\\textbackslash{}n'"
      ],
      "text/markdown": [
       "'\\nSubmit the answer to check how R constructs and prints nominal and ordinal variables. Do not worry if you do not understand all the code just yet, we will get to that.\\n'"
      ],
      "text/plain": [
       "[1] \"\\nSubmit the answer to check how R constructs and prints nominal and ordinal variables. Do not worry if you do not understand all the code just yet, we will get to that.\\n\""
      ]
     },
     "metadata": {},
     "output_type": "display_data"
    },
    {
     "data": {
      "text/html": [
       "<style>\n",
       ".list-inline {list-style: none; margin:0; padding: 0}\n",
       ".list-inline>li {display: inline-block}\n",
       ".list-inline>li:not(:last-child)::after {content: \"\\00b7\"; padding: 0 .5ex}\n",
       "</style>\n",
       "<ol class=list-inline><li>Elephant</li><li>Giraffe</li><li>Donkey</li><li>Horse</li></ol>\n",
       "\n",
       "<details>\n",
       "\t<summary style=display:list-item;cursor:pointer>\n",
       "\t\t<strong>Levels</strong>:\n",
       "\t</summary>\n",
       "\t<style>\n",
       "\t.list-inline {list-style: none; margin:0; padding: 0}\n",
       "\t.list-inline>li {display: inline-block}\n",
       "\t.list-inline>li:not(:last-child)::after {content: \"\\00b7\"; padding: 0 .5ex}\n",
       "\t</style>\n",
       "\t<ol class=list-inline><li>'Donkey'</li><li>'Elephant'</li><li>'Giraffe'</li><li>'Horse'</li></ol>\n",
       "</details>"
      ],
      "text/latex": [
       "\\begin{enumerate*}\n",
       "\\item Elephant\n",
       "\\item Giraffe\n",
       "\\item Donkey\n",
       "\\item Horse\n",
       "\\end{enumerate*}\n",
       "\n",
       "\\emph{Levels}: \\begin{enumerate*}\n",
       "\\item 'Donkey'\n",
       "\\item 'Elephant'\n",
       "\\item 'Giraffe'\n",
       "\\item 'Horse'\n",
       "\\end{enumerate*}\n"
      ],
      "text/markdown": [
       "1. Elephant\n",
       "2. Giraffe\n",
       "3. Donkey\n",
       "4. Horse\n",
       "\n",
       "\n",
       "\n",
       "**Levels**: 1. 'Donkey'\n",
       "2. 'Elephant'\n",
       "3. 'Giraffe'\n",
       "4. 'Horse'\n",
       "\n",
       "\n"
      ],
      "text/plain": [
       "[1] Elephant Giraffe  Donkey   Horse   \n",
       "Levels: Donkey Elephant Giraffe Horse"
      ]
     },
     "metadata": {},
     "output_type": "display_data"
    },
    {
     "data": {
      "text/html": [
       "<style>\n",
       ".list-inline {list-style: none; margin:0; padding: 0}\n",
       ".list-inline>li {display: inline-block}\n",
       ".list-inline>li:not(:last-child)::after {content: \"\\00b7\"; padding: 0 .5ex}\n",
       "</style>\n",
       "<ol class=list-inline><li>High</li><li>Low</li><li>High</li><li>Low</li><li>Medium</li></ol>\n",
       "\n",
       "<details>\n",
       "\t<summary style=display:list-item;cursor:pointer>\n",
       "\t\t<strong>Levels</strong>:\n",
       "\t</summary>\n",
       "\t<style>\n",
       "\t.list-inline {list-style: none; margin:0; padding: 0}\n",
       "\t.list-inline>li {display: inline-block}\n",
       "\t.list-inline>li:not(:last-child)::after {content: \"\\00b7\"; padding: 0 .5ex}\n",
       "\t</style>\n",
       "\t<ol class=list-inline><li>'Low'</li><li>'Medium'</li><li>'High'</li></ol>\n",
       "</details>"
      ],
      "text/latex": [
       "\\begin{enumerate*}\n",
       "\\item High\n",
       "\\item Low\n",
       "\\item High\n",
       "\\item Low\n",
       "\\item Medium\n",
       "\\end{enumerate*}\n",
       "\n",
       "\\emph{Levels}: \\begin{enumerate*}\n",
       "\\item 'Low'\n",
       "\\item 'Medium'\n",
       "\\item 'High'\n",
       "\\end{enumerate*}\n"
      ],
      "text/markdown": [
       "1. High\n",
       "2. Low\n",
       "3. High\n",
       "4. Low\n",
       "5. Medium\n",
       "\n",
       "\n",
       "\n",
       "**Levels**: 1. 'Low'\n",
       "2. 'Medium'\n",
       "3. 'High'\n",
       "\n",
       "\n"
      ],
      "text/plain": [
       "[1] High   Low    High   Low    Medium\n",
       "Levels: Low < Medium < High"
      ]
     },
     "metadata": {},
     "output_type": "display_data"
    },
    {
     "data": {
      "text/html": [
       "'\\nCan you already tell what\\'s happening in this exercise? Awesome! Continue to the next exercise and get into the details of factor levels. \\n'"
      ],
      "text/latex": [
       "'\\textbackslash{}nCan you already tell what\\textbackslash{}'s happening in this exercise? Awesome! Continue to the next exercise and get into the details of factor levels. \\textbackslash{}n'"
      ],
      "text/markdown": [
       "'\\nCan you already tell what\\'s happening in this exercise? Awesome! Continue to the next exercise and get into the details of factor levels. \\n'"
      ],
      "text/plain": [
       "[1] \"\\nCan you already tell what's happening in this exercise? Awesome! Continue to the next exercise and get into the details of factor levels. \\n\""
      ]
     },
     "metadata": {},
     "output_type": "display_data"
    }
   ],
   "source": [
    "# exercise 03\n",
    "\n",
    "\"\n",
    "What's a factor and why would you use it? (3)\n",
    "\n",
    "There are two types of categorical variables: a nominal categorical variable and an ordinal categorical variable.\n",
    "\n",
    "A nominal variable is a categorical variable without an implied order. This means that it is impossible to say that 'one is worth more than the other'. For example, think of the categorical variable animals_vector with the categories Elephant, Giraffe, Donkey and Horse. Here, it is impossible to say that one stands above or below the other. (Note that some of you might disagree ;-) ).\n",
    "\n",
    "In contrast, ordinal variables do have a natural ordering. Consider for example the categorical variable temperature_vector with the categories: Low, Medium and High. Here it is obvious that Medium stands above Low, and High stands above Medium.\n",
    "\"\n",
    "\n",
    "# Instructions\n",
    "\n",
    "\"\n",
    "Submit the answer to check how R constructs and prints nominal and ordinal variables. Do not worry if you do not understand all the code just yet, we will get to that.\n",
    "\"\n",
    "\n",
    "# solution\n",
    "\n",
    "# Animals\n",
    "animals_vector <- c(\"Elephant\", \"Giraffe\", \"Donkey\", \"Horse\")\n",
    "factor_animals_vector <- factor(animals_vector)\n",
    "factor_animals_vector\n",
    "\n",
    "# Temperature\n",
    "temperature_vector <- c(\"High\", \"Low\", \"High\",\"Low\", medium)\n",
    "factor_temperature_vector <- factor(temperature_vector, order = TRUE, levels = c(\"Low\", medium, \"High\"))\n",
    "factor_temperature_vector\n",
    "\n",
    "#----------------------------------#\n",
    "\n",
    "# Conclusion\n",
    "\n",
    "\"\n",
    "Can you already tell what's happening in this exercise? Awesome! Continue to the next exercise and get into the details of factor levels. \n",
    "\""
   ]
  },
  {
   "cell_type": "code",
   "execution_count": 17,
   "metadata": {
    "tags": [],
    "vscode": {
     "languageId": "r"
    }
   },
   "outputs": [
    {
     "data": {
      "text/html": [
       "'\\nFactor levels\\n\\nWhen you first get a dataset, you will often notice that it contains factors with specific factor levels. However, sometimes you will want to change the names of these levels for clarity or other reasons. R allows you to do this with the function levels():\\n\\nlevels(factor_vector) &lt;- c(name1, name2,...)\\n\\nA good illustration is the raw data that is provided to you by a survey. A common question for every questionnaire is the sex of the respondent. Here, for simplicity, just two categories were recorded, M and F. (You usually need more categories for survey data; either way, you use a factor to store the categorical data.)\\n\\nsurvey_vector &lt;- c(M, F, F, M, M)\\n\\nRecording the sex with the abbreviations M and F can be convenient if you are collecting data with pen and paper, but it can introduce confusion when analyzing the data. At that point, you will often want to change the factor levels to Male and Female instead of M and F for clarity.\\n\\nWatch out: the order with which you assign the levels is important. If you type levels(factor_survey_vector), you\\'ll see that it outputs [1] F M. If you don\\'t specify the levels of the factor when creating the vector, R will automatically assign them alphabetically. To correctly map F to Female and M to Male, the levels should be set to c(Female, Male), in this order.\\n'"
      ],
      "text/latex": [
       "'\\textbackslash{}nFactor levels\\textbackslash{}n\\textbackslash{}nWhen you first get a dataset, you will often notice that it contains factors with specific factor levels. However, sometimes you will want to change the names of these levels for clarity or other reasons. R allows you to do this with the function levels():\\textbackslash{}n\\textbackslash{}nlevels(factor\\_vector) <- c(name1, name2,...)\\textbackslash{}n\\textbackslash{}nA good illustration is the raw data that is provided to you by a survey. A common question for every questionnaire is the sex of the respondent. Here, for simplicity, just two categories were recorded, M and F. (You usually need more categories for survey data; either way, you use a factor to store the categorical data.)\\textbackslash{}n\\textbackslash{}nsurvey\\_vector <- c(M, F, F, M, M)\\textbackslash{}n\\textbackslash{}nRecording the sex with the abbreviations M and F can be convenient if you are collecting data with pen and paper, but it can introduce confusion when analyzing the data. At that point, you will often want to change the factor levels to Male and Female instead of M and F for clarity.\\textbackslash{}n\\textbackslash{}nWatch out: the order with which you assign the levels is important. If you type levels(factor\\_survey\\_vector), you\\textbackslash{}'ll see that it outputs {[}1{]} F M. If you don\\textbackslash{}'t specify the levels of the factor when creating the vector, R will automatically assign them alphabetically. To correctly map F to Female and M to Male, the levels should be set to c(Female, Male), in this order.\\textbackslash{}n'"
      ],
      "text/markdown": [
       "'\\nFactor levels\\n\\nWhen you first get a dataset, you will often notice that it contains factors with specific factor levels. However, sometimes you will want to change the names of these levels for clarity or other reasons. R allows you to do this with the function levels():\\n\\nlevels(factor_vector) &lt;- c(name1, name2,...)\\n\\nA good illustration is the raw data that is provided to you by a survey. A common question for every questionnaire is the sex of the respondent. Here, for simplicity, just two categories were recorded, M and F. (You usually need more categories for survey data; either way, you use a factor to store the categorical data.)\\n\\nsurvey_vector &lt;- c(M, F, F, M, M)\\n\\nRecording the sex with the abbreviations M and F can be convenient if you are collecting data with pen and paper, but it can introduce confusion when analyzing the data. At that point, you will often want to change the factor levels to Male and Female instead of M and F for clarity.\\n\\nWatch out: the order with which you assign the levels is important. If you type levels(factor_survey_vector), you\\'ll see that it outputs [1] F M. If you don\\'t specify the levels of the factor when creating the vector, R will automatically assign them alphabetically. To correctly map F to Female and M to Male, the levels should be set to c(Female, Male), in this order.\\n'"
      ],
      "text/plain": [
       "[1] \"\\nFactor levels\\n\\nWhen you first get a dataset, you will often notice that it contains factors with specific factor levels. However, sometimes you will want to change the names of these levels for clarity or other reasons. R allows you to do this with the function levels():\\n\\nlevels(factor_vector) <- c(name1, name2,...)\\n\\nA good illustration is the raw data that is provided to you by a survey. A common question for every questionnaire is the sex of the respondent. Here, for simplicity, just two categories were recorded, M and F. (You usually need more categories for survey data; either way, you use a factor to store the categorical data.)\\n\\nsurvey_vector <- c(M, F, F, M, M)\\n\\nRecording the sex with the abbreviations M and F can be convenient if you are collecting data with pen and paper, but it can introduce confusion when analyzing the data. At that point, you will often want to change the factor levels to Male and Female instead of M and F for clarity.\\n\\nWatch out: the order with which you assign the levels is important. If you type levels(factor_survey_vector), you'll see that it outputs [1] F M. If you don't specify the levels of the factor when creating the vector, R will automatically assign them alphabetically. To correctly map F to Female and M to Male, the levels should be set to c(Female, Male), in this order.\\n\""
      ]
     },
     "metadata": {},
     "output_type": "display_data"
    },
    {
     "data": {
      "text/html": [
       "<span style=white-space:pre-wrap>'\\n\\n    Check out the code that builds a factor vector from survey_vector. You should use factor_survey_vector in the next instruction.\\n    Change the factor levels of factor_survey_vector to c(Female, Male). Mind the order of the vector elements here.\\n\\n'</span>"
      ],
      "text/latex": [
       "'\\textbackslash{}n\\textbackslash{}n    Check out the code that builds a factor vector from survey\\_vector. You should use factor\\_survey\\_vector in the next instruction.\\textbackslash{}n    Change the factor levels of factor\\_survey\\_vector to c(Female, Male). Mind the order of the vector elements here.\\textbackslash{}n\\textbackslash{}n'"
      ],
      "text/markdown": [
       "<span style=white-space:pre-wrap>'\\n\\n    Check out the code that builds a factor vector from survey_vector. You should use factor_survey_vector in the next instruction.\\n    Change the factor levels of factor_survey_vector to c(Female, Male). Mind the order of the vector elements here.\\n\\n'</span>"
      ],
      "text/plain": [
       "[1] \"\\n\\n    Check out the code that builds a factor vector from survey_vector. You should use factor_survey_vector in the next instruction.\\n    Change the factor levels of factor_survey_vector to c(Female, Male). Mind the order of the vector elements here.\\n\\n\""
      ]
     },
     "metadata": {},
     "output_type": "display_data"
    },
    {
     "data": {
      "text/html": [
       "<style>\n",
       ".list-inline {list-style: none; margin:0; padding: 0}\n",
       ".list-inline>li {display: inline-block}\n",
       ".list-inline>li:not(:last-child)::after {content: \"\\00b7\"; padding: 0 .5ex}\n",
       "</style>\n",
       "<ol class=list-inline><li>Male</li><li>Female</li><li>Female</li><li>Male</li><li>Male</li></ol>\n",
       "\n",
       "<details>\n",
       "\t<summary style=display:list-item;cursor:pointer>\n",
       "\t\t<strong>Levels</strong>:\n",
       "\t</summary>\n",
       "\t<style>\n",
       "\t.list-inline {list-style: none; margin:0; padding: 0}\n",
       "\t.list-inline>li {display: inline-block}\n",
       "\t.list-inline>li:not(:last-child)::after {content: \"\\00b7\"; padding: 0 .5ex}\n",
       "\t</style>\n",
       "\t<ol class=list-inline><li>'Female'</li><li>'Male'</li></ol>\n",
       "</details>"
      ],
      "text/latex": [
       "\\begin{enumerate*}\n",
       "\\item Male\n",
       "\\item Female\n",
       "\\item Female\n",
       "\\item Male\n",
       "\\item Male\n",
       "\\end{enumerate*}\n",
       "\n",
       "\\emph{Levels}: \\begin{enumerate*}\n",
       "\\item 'Female'\n",
       "\\item 'Male'\n",
       "\\end{enumerate*}\n"
      ],
      "text/markdown": [
       "1. Male\n",
       "2. Female\n",
       "3. Female\n",
       "4. Male\n",
       "5. Male\n",
       "\n",
       "\n",
       "\n",
       "**Levels**: 1. 'Female'\n",
       "2. 'Male'\n",
       "\n",
       "\n"
      ],
      "text/plain": [
       "[1] Male   Female Female Male   Male  \n",
       "Levels: Female Male"
      ]
     },
     "metadata": {},
     "output_type": "display_data"
    },
    {
     "data": {
      "text/html": [
       "'\\nWonderful! Proceed to the next exercise. \\n'"
      ],
      "text/latex": [
       "'\\textbackslash{}nWonderful! Proceed to the next exercise. \\textbackslash{}n'"
      ],
      "text/markdown": [
       "'\\nWonderful! Proceed to the next exercise. \\n'"
      ],
      "text/plain": [
       "[1] \"\\nWonderful! Proceed to the next exercise. \\n\""
      ]
     },
     "metadata": {},
     "output_type": "display_data"
    }
   ],
   "source": [
    "# exercise 04\n",
    "\n",
    "\"\n",
    "Factor levels\n",
    "\n",
    "When you first get a dataset, you will often notice that it contains factors with specific factor levels. However, sometimes you will want to change the names of these levels for clarity or other reasons. R allows you to do this with the function levels():\n",
    "\n",
    "levels(factor_vector) <- c(name1, name2,...)\n",
    "\n",
    "A good illustration is the raw data that is provided to you by a survey. A common question for every questionnaire is the sex of the respondent. Here, for simplicity, just two categories were recorded, M and F. (You usually need more categories for survey data; either way, you use a factor to store the categorical data.)\n",
    "\n",
    "survey_vector <- c(M, F, F, M, M)\n",
    "\n",
    "Recording the sex with the abbreviations M and F can be convenient if you are collecting data with pen and paper, but it can introduce confusion when analyzing the data. At that point, you will often want to change the factor levels to Male and Female instead of M and F for clarity.\n",
    "\n",
    "Watch out: the order with which you assign the levels is important. If you type levels(factor_survey_vector), you'll see that it outputs [1] F M. If you don't specify the levels of the factor when creating the vector, R will automatically assign them alphabetically. To correctly map F to Female and M to Male, the levels should be set to c(Female, Male), in this order.\n",
    "\"\n",
    "\n",
    "# Instructions\n",
    "\n",
    "\"\n",
    "\n",
    "    Check out the code that builds a factor vector from survey_vector. You should use factor_survey_vector in the next instruction.\n",
    "    Change the factor levels of factor_survey_vector to c(Female, Male). Mind the order of the vector elements here.\n",
    "\n",
    "\"\n",
    "\n",
    "# solution\n",
    "\n",
    "# Code to build factor_survey_vector\n",
    "survey_vector <- c(\"M\", \"F\", \"F\", \"M\", \"M\")\n",
    "factor_survey_vector <- factor(survey_vector)\n",
    "\n",
    "# Specify the levels of factor_survey_vector\n",
    "levels(factor_survey_vector) <- c(Female,Male)\n",
    "\n",
    "factor_survey_vector\n",
    "\n",
    "#----------------------------------#\n",
    "\n",
    "# Conclusion\n",
    "\n",
    "\"\n",
    "Wonderful! Proceed to the next exercise. \n",
    "\""
   ]
  },
  {
   "cell_type": "code",
   "execution_count": 19,
   "metadata": {
    "tags": [],
    "vscode": {
     "languageId": "r"
    }
   },
   "outputs": [
    {
     "data": {
      "text/html": [
       "'\\nSummarizing a factor\\n\\nAfter finishing this course, one of your favorite functions in R will be summary(). This will give you a quick overview of the contents of a variable:\\n\\nsummary(my_var)\\n\\nGoing back to our survey, you would like to know how many Male responses you have in your study, and how many Female responses. The summary() function gives you the answer to this question.\\n'"
      ],
      "text/latex": [
       "'\\textbackslash{}nSummarizing a factor\\textbackslash{}n\\textbackslash{}nAfter finishing this course, one of your favorite functions in R will be summary(). This will give you a quick overview of the contents of a variable:\\textbackslash{}n\\textbackslash{}nsummary(my\\_var)\\textbackslash{}n\\textbackslash{}nGoing back to our survey, you would like to know how many Male responses you have in your study, and how many Female responses. The summary() function gives you the answer to this question.\\textbackslash{}n'"
      ],
      "text/markdown": [
       "'\\nSummarizing a factor\\n\\nAfter finishing this course, one of your favorite functions in R will be summary(). This will give you a quick overview of the contents of a variable:\\n\\nsummary(my_var)\\n\\nGoing back to our survey, you would like to know how many Male responses you have in your study, and how many Female responses. The summary() function gives you the answer to this question.\\n'"
      ],
      "text/plain": [
       "[1] \"\\nSummarizing a factor\\n\\nAfter finishing this course, one of your favorite functions in R will be summary(). This will give you a quick overview of the contents of a variable:\\n\\nsummary(my_var)\\n\\nGoing back to our survey, you would like to know how many Male responses you have in your study, and how many Female responses. The summary() function gives you the answer to this question.\\n\""
      ]
     },
     "metadata": {},
     "output_type": "display_data"
    },
    {
     "data": {
      "text/html": [
       "'\\nAsk a summary() of the survey_vector and factor_survey_vector. Interpret the results of both vectors. Are they both equally useful in this case?\\n'"
      ],
      "text/latex": [
       "'\\textbackslash{}nAsk a summary() of the survey\\_vector and factor\\_survey\\_vector. Interpret the results of both vectors. Are they both equally useful in this case?\\textbackslash{}n'"
      ],
      "text/markdown": [
       "'\\nAsk a summary() of the survey_vector and factor_survey_vector. Interpret the results of both vectors. Are they both equally useful in this case?\\n'"
      ],
      "text/plain": [
       "[1] \"\\nAsk a summary() of the survey_vector and factor_survey_vector. Interpret the results of both vectors. Are they both equally useful in this case?\\n\""
      ]
     },
     "metadata": {},
     "output_type": "display_data"
    },
    {
     "data": {
      "text/html": [
       "<style>\n",
       ".list-inline {list-style: none; margin:0; padding: 0}\n",
       ".list-inline>li {display: inline-block}\n",
       ".list-inline>li:not(:last-child)::after {content: \"\\00b7\"; padding: 0 .5ex}\n",
       "</style>\n",
       "<ol class=list-inline><li>Male</li><li>Female</li><li>Female</li><li>Male</li><li>Male</li></ol>\n",
       "\n",
       "<details>\n",
       "\t<summary style=display:list-item;cursor:pointer>\n",
       "\t\t<strong>Levels</strong>:\n",
       "\t</summary>\n",
       "\t<style>\n",
       "\t.list-inline {list-style: none; margin:0; padding: 0}\n",
       "\t.list-inline>li {display: inline-block}\n",
       "\t.list-inline>li:not(:last-child)::after {content: \"\\00b7\"; padding: 0 .5ex}\n",
       "\t</style>\n",
       "\t<ol class=list-inline><li>'Female'</li><li>'Male'</li></ol>\n",
       "</details>"
      ],
      "text/latex": [
       "\\begin{enumerate*}\n",
       "\\item Male\n",
       "\\item Female\n",
       "\\item Female\n",
       "\\item Male\n",
       "\\item Male\n",
       "\\end{enumerate*}\n",
       "\n",
       "\\emph{Levels}: \\begin{enumerate*}\n",
       "\\item 'Female'\n",
       "\\item 'Male'\n",
       "\\end{enumerate*}\n"
      ],
      "text/markdown": [
       "1. Male\n",
       "2. Female\n",
       "3. Female\n",
       "4. Male\n",
       "5. Male\n",
       "\n",
       "\n",
       "\n",
       "**Levels**: 1. 'Female'\n",
       "2. 'Male'\n",
       "\n",
       "\n"
      ],
      "text/plain": [
       "[1] Male   Female Female Male   Male  \n",
       "Levels: Female Male"
      ]
     },
     "metadata": {},
     "output_type": "display_data"
    },
    {
     "data": {
      "text/plain": [
       "   Length     Class      Mode \n",
       "        5 character character "
      ]
     },
     "metadata": {},
     "output_type": "display_data"
    },
    {
     "data": {
      "text/html": [
       "<style>\n",
       ".dl-inline {width: auto; margin:0; padding: 0}\n",
       ".dl-inline>dt, .dl-inline>dd {float: none; width: auto; display: inline-block}\n",
       ".dl-inline>dt::after {content: \":\\0020\"; padding-right: .5ex}\n",
       ".dl-inline>dt:not(:first-of-type) {padding-left: .5ex}\n",
       "</style><dl class=dl-inline><dt>Female</dt><dd>2</dd><dt>Male</dt><dd>3</dd></dl>\n"
      ],
      "text/latex": [
       "\\begin{description*}\n",
       "\\item[Female] 2\n",
       "\\item[Male] 3\n",
       "\\end{description*}\n"
      ],
      "text/markdown": [
       "Female\n",
       ":   2Male\n",
       ":   3\n",
       "\n"
      ],
      "text/plain": [
       "Female   Male \n",
       "     2      3 "
      ]
     },
     "metadata": {},
     "output_type": "display_data"
    },
    {
     "data": {
      "text/html": [
       "'\\nNice! Have a look at the output. The fact that you identified Male and Female as factor levels in factor_survey_vector enables R to show the number of elements for each category. \\n'"
      ],
      "text/latex": [
       "'\\textbackslash{}nNice! Have a look at the output. The fact that you identified Male and Female as factor levels in factor\\_survey\\_vector enables R to show the number of elements for each category. \\textbackslash{}n'"
      ],
      "text/markdown": [
       "'\\nNice! Have a look at the output. The fact that you identified Male and Female as factor levels in factor_survey_vector enables R to show the number of elements for each category. \\n'"
      ],
      "text/plain": [
       "[1] \"\\nNice! Have a look at the output. The fact that you identified Male and Female as factor levels in factor_survey_vector enables R to show the number of elements for each category. \\n\""
      ]
     },
     "metadata": {},
     "output_type": "display_data"
    }
   ],
   "source": [
    "# exercise 05\n",
    "\n",
    "\"\n",
    "Summarizing a factor\n",
    "\n",
    "After finishing this course, one of your favorite functions in R will be summary(). This will give you a quick overview of the contents of a variable:\n",
    "\n",
    "summary(my_var)\n",
    "\n",
    "Going back to our survey, you would like to know how many Male responses you have in your study, and how many Female responses. The summary() function gives you the answer to this question.\n",
    "\"\n",
    "\n",
    "# Instructions\n",
    "\n",
    "\"\n",
    "Ask a summary() of the survey_vector and factor_survey_vector. Interpret the results of both vectors. Are they both equally useful in this case?\n",
    "\"\n",
    "\n",
    "# solution\n",
    "\n",
    "# Build factor_survey_vector with clean levels\n",
    "survey_vector <- c(\"M\", \"F\", \"F\", \"M\", \"M\")\n",
    "factor_survey_vector <- factor(survey_vector)\n",
    "levels(factor_survey_vector) <- c(Female, Male)\n",
    "factor_survey_vector\n",
    "\n",
    "# Generate summary for survey_vector\n",
    "summary(survey_vector)\n",
    "\n",
    "# Generate summary for factor_survey_vector\n",
    "summary(factor_survey_vector)\n",
    "\n",
    "#----------------------------------#\n",
    "\n",
    "# Conclusion\n",
    "\n",
    "\"\n",
    "Nice! Have a look at the output. The fact that you identified Male and Female as factor levels in factor_survey_vector enables R to show the number of elements for each category. \n",
    "\""
   ]
  },
  {
   "cell_type": "code",
   "execution_count": 20,
   "metadata": {
    "tags": [],
    "vscode": {
     "languageId": "r"
    }
   },
   "outputs": [
    {
     "data": {
      "text/html": [
       "'\\nBattle of the sexes\\n\\nYou might wonder what happens when you try to compare elements of a factor. In factor_survey_vector you have a factor with two levels: Male and Female. But how does R value these relative to each other?\\n'"
      ],
      "text/latex": [
       "'\\textbackslash{}nBattle of the sexes\\textbackslash{}n\\textbackslash{}nYou might wonder what happens when you try to compare elements of a factor. In factor\\_survey\\_vector you have a factor with two levels: Male and Female. But how does R value these relative to each other?\\textbackslash{}n'"
      ],
      "text/markdown": [
       "'\\nBattle of the sexes\\n\\nYou might wonder what happens when you try to compare elements of a factor. In factor_survey_vector you have a factor with two levels: Male and Female. But how does R value these relative to each other?\\n'"
      ],
      "text/plain": [
       "[1] \"\\nBattle of the sexes\\n\\nYou might wonder what happens when you try to compare elements of a factor. In factor_survey_vector you have a factor with two levels: Male and Female. But how does R value these relative to each other?\\n\""
      ]
     },
     "metadata": {},
     "output_type": "display_data"
    },
    {
     "data": {
      "text/html": [
       "'\\nRead the code in the editor and submit the answer to test if male is greater than (&gt;) female.\\n'"
      ],
      "text/latex": [
       "'\\textbackslash{}nRead the code in the editor and submit the answer to test if male is greater than (>) female.\\textbackslash{}n'"
      ],
      "text/markdown": [
       "'\\nRead the code in the editor and submit the answer to test if male is greater than (&gt;) female.\\n'"
      ],
      "text/plain": [
       "[1] \"\\nRead the code in the editor and submit the answer to test if male is greater than (>) female.\\n\""
      ]
     },
     "metadata": {},
     "output_type": "display_data"
    },
    {
     "name": "stderr",
     "output_type": "stream",
     "text": [
      "Warning message in Ops.factor(male, female):\n",
      "“‘>’ not meaningful for factors”\n"
     ]
    },
    {
     "data": {
      "text/html": [
       "&lt;NA&gt;"
      ],
      "text/latex": [
       "<NA>"
      ],
      "text/markdown": [
       "&lt;NA&gt;"
      ],
      "text/plain": [
       "[1] NA"
      ]
     },
     "metadata": {},
     "output_type": "display_data"
    },
    {
     "data": {
      "text/html": [
       "'\\nHow interesting! By default, R returns NA when you try to compare values in a factor, since the idea doesn\\'t make sense. Next you\\'ll learn about ordered factors, where more meaningful comparisons are possible. \\n'"
      ],
      "text/latex": [
       "'\\textbackslash{}nHow interesting! By default, R returns NA when you try to compare values in a factor, since the idea doesn\\textbackslash{}'t make sense. Next you\\textbackslash{}'ll learn about ordered factors, where more meaningful comparisons are possible. \\textbackslash{}n'"
      ],
      "text/markdown": [
       "'\\nHow interesting! By default, R returns NA when you try to compare values in a factor, since the idea doesn\\'t make sense. Next you\\'ll learn about ordered factors, where more meaningful comparisons are possible. \\n'"
      ],
      "text/plain": [
       "[1] \"\\nHow interesting! By default, R returns NA when you try to compare values in a factor, since the idea doesn't make sense. Next you'll learn about ordered factors, where more meaningful comparisons are possible. \\n\""
      ]
     },
     "metadata": {},
     "output_type": "display_data"
    }
   ],
   "source": [
    "# exercise 06\n",
    "\n",
    "\"\n",
    "Battle of the sexes\n",
    "\n",
    "You might wonder what happens when you try to compare elements of a factor. In factor_survey_vector you have a factor with two levels: Male and Female. But how does R value these relative to each other?\n",
    "\"\n",
    "\n",
    "# Instructions\n",
    "\n",
    "\"\n",
    "Read the code in the editor and submit the answer to test if male is greater than (>) female.\n",
    "\"\n",
    "\n",
    "# solution\n",
    "\n",
    "# Build factor_survey_vector with clean levels\n",
    "survey_vector <- c(\"M\", \"F\", \"F\", \"M\", \"M\")\n",
    "factor_survey_vector <- factor(survey_vector)\n",
    "levels(factor_survey_vector) <- c(Female, Male)\n",
    "\n",
    "# Male\n",
    "male <- factor_survey_vector[1]\n",
    "\n",
    "# Female\n",
    "female <- factor_survey_vector[2]\n",
    "\n",
    "# Battle of the sexes: Male 'larger' than female?\n",
    "male > female\n",
    "\n",
    "#----------------------------------#\n",
    "\n",
    "# Conclusion\n",
    "\n",
    "\"\n",
    "How interesting! By default, R returns NA when you try to compare values in a factor, since the idea doesn't make sense. Next you'll learn about ordered factors, where more meaningful comparisons are possible. \n",
    "\""
   ]
  },
  {
   "cell_type": "code",
   "execution_count": 21,
   "metadata": {
    "tags": [],
    "vscode": {
     "languageId": "r"
    }
   },
   "outputs": [
    {
     "data": {
      "text/html": [
       "'\\nOrdered factors\\n\\nSince Male and Female are unordered (or nominal) factor levels, R returns a warning message, telling you that the greater than operator is not meaningful. As seen before, R attaches an equal value to the levels for such factors.\\n\\nBut this is not always the case! Sometimes you will also deal with factors that do have a natural ordering between its categories. If this is the case, we have to make sure that we pass this information to R…\\n\\nLet us say that you are leading a research team of five data analysts and that you want to evaluate their performance. To do this, you track their speed, evaluate each analyst as slow, medium or fast, and save the results in speed_vector.\\n'"
      ],
      "text/latex": [
       "'\\textbackslash{}nOrdered factors\\textbackslash{}n\\textbackslash{}nSince Male and Female are unordered (or nominal) factor levels, R returns a warning message, telling you that the greater than operator is not meaningful. As seen before, R attaches an equal value to the levels for such factors.\\textbackslash{}n\\textbackslash{}nBut this is not always the case! Sometimes you will also deal with factors that do have a natural ordering between its categories. If this is the case, we have to make sure that we pass this information to R…\\textbackslash{}n\\textbackslash{}nLet us say that you are leading a research team of five data analysts and that you want to evaluate their performance. To do this, you track their speed, evaluate each analyst as slow, medium or fast, and save the results in speed\\_vector.\\textbackslash{}n'"
      ],
      "text/markdown": [
       "'\\nOrdered factors\\n\\nSince Male and Female are unordered (or nominal) factor levels, R returns a warning message, telling you that the greater than operator is not meaningful. As seen before, R attaches an equal value to the levels for such factors.\\n\\nBut this is not always the case! Sometimes you will also deal with factors that do have a natural ordering between its categories. If this is the case, we have to make sure that we pass this information to R…\\n\\nLet us say that you are leading a research team of five data analysts and that you want to evaluate their performance. To do this, you track their speed, evaluate each analyst as slow, medium or fast, and save the results in speed_vector.\\n'"
      ],
      "text/plain": [
       "[1] \"\\nOrdered factors\\n\\nSince Male and Female are unordered (or nominal) factor levels, R returns a warning message, telling you that the greater than operator is not meaningful. As seen before, R attaches an equal value to the levels for such factors.\\n\\nBut this is not always the case! Sometimes you will also deal with factors that do have a natural ordering between its categories. If this is the case, we have to make sure that we pass this information to R…\\n\\nLet us say that you are leading a research team of five data analysts and that you want to evaluate their performance. To do this, you track their speed, evaluate each analyst as slow, medium or fast, and save the results in speed_vector.\\n\""
      ]
     },
     "metadata": {},
     "output_type": "display_data"
    },
    {
     "data": {
      "text/html": [
       "<span style=white-space:pre-wrap>'\\nAs a first step, assign speed_vector a vector with 5 entries, one for each analyst. Each entry should be either slow, medium, or fast. Use the list below:\\n\\n    Analyst 1 is medium,\\n    Analyst 2 is slow,\\n    Analyst 3 is slow,\\n    Analyst 4 is medium and\\n    Analyst 5 is fast.\\n\\nNo need to specify these are factors yet.\\n'</span>"
      ],
      "text/latex": [
       "'\\textbackslash{}nAs a first step, assign speed\\_vector a vector with 5 entries, one for each analyst. Each entry should be either slow, medium, or fast. Use the list below:\\textbackslash{}n\\textbackslash{}n    Analyst 1 is medium,\\textbackslash{}n    Analyst 2 is slow,\\textbackslash{}n    Analyst 3 is slow,\\textbackslash{}n    Analyst 4 is medium and\\textbackslash{}n    Analyst 5 is fast.\\textbackslash{}n\\textbackslash{}nNo need to specify these are factors yet.\\textbackslash{}n'"
      ],
      "text/markdown": [
       "<span style=white-space:pre-wrap>'\\nAs a first step, assign speed_vector a vector with 5 entries, one for each analyst. Each entry should be either slow, medium, or fast. Use the list below:\\n\\n    Analyst 1 is medium,\\n    Analyst 2 is slow,\\n    Analyst 3 is slow,\\n    Analyst 4 is medium and\\n    Analyst 5 is fast.\\n\\nNo need to specify these are factors yet.\\n'</span>"
      ],
      "text/plain": [
       "[1] \"\\nAs a first step, assign speed_vector a vector with 5 entries, one for each analyst. Each entry should be either slow, medium, or fast. Use the list below:\\n\\n    Analyst 1 is medium,\\n    Analyst 2 is slow,\\n    Analyst 3 is slow,\\n    Analyst 4 is medium and\\n    Analyst 5 is fast.\\n\\nNo need to specify these are factors yet.\\n\""
      ]
     },
     "metadata": {},
     "output_type": "display_data"
    },
    {
     "data": {
      "text/html": [
       "'\\nA job well done! Continue to the next exercise. \\n'"
      ],
      "text/latex": [
       "'\\textbackslash{}nA job well done! Continue to the next exercise. \\textbackslash{}n'"
      ],
      "text/markdown": [
       "'\\nA job well done! Continue to the next exercise. \\n'"
      ],
      "text/plain": [
       "[1] \"\\nA job well done! Continue to the next exercise. \\n\""
      ]
     },
     "metadata": {},
     "output_type": "display_data"
    }
   ],
   "source": [
    "# exercise 07\n",
    "\n",
    "\"\n",
    "Ordered factors\n",
    "\n",
    "Since Male and Female are unordered (or nominal) factor levels, R returns a warning message, telling you that the greater than operator is not meaningful. As seen before, R attaches an equal value to the levels for such factors.\n",
    "\n",
    "But this is not always the case! Sometimes you will also deal with factors that do have a natural ordering between its categories. If this is the case, we have to make sure that we pass this information to R…\n",
    "\n",
    "Let us say that you are leading a research team of five data analysts and that you want to evaluate their performance. To do this, you track their speed, evaluate each analyst as slow, medium or fast, and save the results in speed_vector.\n",
    "\"\n",
    "\n",
    "# Instructions\n",
    "\n",
    "\"\n",
    "As a first step, assign speed_vector a vector with 5 entries, one for each analyst. Each entry should be either slow, medium, or fast. Use the list below:\n",
    "\n",
    "    Analyst 1 is medium,\n",
    "    Analyst 2 is slow,\n",
    "    Analyst 3 is slow,\n",
    "    Analyst 4 is medium and\n",
    "    Analyst 5 is fast.\n",
    "\n",
    "No need to specify these are factors yet.\n",
    "\"\n",
    "\n",
    "# solution\n",
    "\n",
    "# Create speed_vector\n",
    "speed_vector <- c(\"medium\", \"slow\", \"slow\", \"medium\", \"fast\")\n",
    "\n",
    "#----------------------------------#\n",
    "\n",
    "# Conclusion\n",
    "\n",
    "\"\n",
    "A job well done! Continue to the next exercise. \n",
    "\""
   ]
  },
  {
   "cell_type": "code",
   "execution_count": 22,
   "metadata": {
    "tags": [],
    "vscode": {
     "languageId": "r"
    }
   },
   "outputs": [
    {
     "data": {
      "text/html": [
       "<span style=white-space:pre-wrap>'\\nOrdered factors (2)\\n\\nspeed_vector should be converted to an ordinal factor since its categories have a natural ordering. By default, the function factor() transforms speed_vector into an unordered factor. To create an ordered factor, you have to add two additional arguments: ordered and levels.\\n\\nfactor(some_vector,\\n       ordered = TRUE,\\n       levels = c(lev1, lev2 ...))\\n\\nBy setting the argument ordered to TRUE in the function factor(), you indicate that the factor is ordered. With the argument levels you give the values of the factor in the correct order.\\n'</span>"
      ],
      "text/latex": [
       "'\\textbackslash{}nOrdered factors (2)\\textbackslash{}n\\textbackslash{}nspeed\\_vector should be converted to an ordinal factor since its categories have a natural ordering. By default, the function factor() transforms speed\\_vector into an unordered factor. To create an ordered factor, you have to add two additional arguments: ordered and levels.\\textbackslash{}n\\textbackslash{}nfactor(some\\_vector,\\textbackslash{}n       ordered = TRUE,\\textbackslash{}n       levels = c(lev1, lev2 ...))\\textbackslash{}n\\textbackslash{}nBy setting the argument ordered to TRUE in the function factor(), you indicate that the factor is ordered. With the argument levels you give the values of the factor in the correct order.\\textbackslash{}n'"
      ],
      "text/markdown": [
       "<span style=white-space:pre-wrap>'\\nOrdered factors (2)\\n\\nspeed_vector should be converted to an ordinal factor since its categories have a natural ordering. By default, the function factor() transforms speed_vector into an unordered factor. To create an ordered factor, you have to add two additional arguments: ordered and levels.\\n\\nfactor(some_vector,\\n       ordered = TRUE,\\n       levels = c(lev1, lev2 ...))\\n\\nBy setting the argument ordered to TRUE in the function factor(), you indicate that the factor is ordered. With the argument levels you give the values of the factor in the correct order.\\n'</span>"
      ],
      "text/plain": [
       "[1] \"\\nOrdered factors (2)\\n\\nspeed_vector should be converted to an ordinal factor since its categories have a natural ordering. By default, the function factor() transforms speed_vector into an unordered factor. To create an ordered factor, you have to add two additional arguments: ordered and levels.\\n\\nfactor(some_vector,\\n       ordered = TRUE,\\n       levels = c(lev1, lev2 ...))\\n\\nBy setting the argument ordered to TRUE in the function factor(), you indicate that the factor is ordered. With the argument levels you give the values of the factor in the correct order.\\n\""
      ]
     },
     "metadata": {},
     "output_type": "display_data"
    },
    {
     "data": {
      "text/html": [
       "'\\nFrom speed_vector, create an ordered factor vector: factor_speed_vector. Set ordered to TRUE, and set levels to c(slow, medium,fast).\\n'"
      ],
      "text/latex": [
       "'\\textbackslash{}nFrom speed\\_vector, create an ordered factor vector: factor\\_speed\\_vector. Set ordered to TRUE, and set levels to c(slow, medium,fast).\\textbackslash{}n'"
      ],
      "text/markdown": [
       "'\\nFrom speed_vector, create an ordered factor vector: factor_speed_vector. Set ordered to TRUE, and set levels to c(slow, medium,fast).\\n'"
      ],
      "text/plain": [
       "[1] \"\\nFrom speed_vector, create an ordered factor vector: factor_speed_vector. Set ordered to TRUE, and set levels to c(slow, medium,fast).\\n\""
      ]
     },
     "metadata": {},
     "output_type": "display_data"
    },
    {
     "data": {
      "text/html": [
       "<style>\n",
       ".list-inline {list-style: none; margin:0; padding: 0}\n",
       ".list-inline>li {display: inline-block}\n",
       ".list-inline>li:not(:last-child)::after {content: \"\\00b7\"; padding: 0 .5ex}\n",
       "</style>\n",
       "<ol class=list-inline><li>medium</li><li>slow</li><li>slow</li><li>medium</li><li>fast</li></ol>\n",
       "\n",
       "<details>\n",
       "\t<summary style=display:list-item;cursor:pointer>\n",
       "\t\t<strong>Levels</strong>:\n",
       "\t</summary>\n",
       "\t<style>\n",
       "\t.list-inline {list-style: none; margin:0; padding: 0}\n",
       "\t.list-inline>li {display: inline-block}\n",
       "\t.list-inline>li:not(:last-child)::after {content: \"\\00b7\"; padding: 0 .5ex}\n",
       "\t</style>\n",
       "\t<ol class=list-inline><li>'slow'</li><li>'medium'</li><li>'fast'</li></ol>\n",
       "</details>"
      ],
      "text/latex": [
       "\\begin{enumerate*}\n",
       "\\item medium\n",
       "\\item slow\n",
       "\\item slow\n",
       "\\item medium\n",
       "\\item fast\n",
       "\\end{enumerate*}\n",
       "\n",
       "\\emph{Levels}: \\begin{enumerate*}\n",
       "\\item 'slow'\n",
       "\\item 'medium'\n",
       "\\item 'fast'\n",
       "\\end{enumerate*}\n"
      ],
      "text/markdown": [
       "1. medium\n",
       "2. slow\n",
       "3. slow\n",
       "4. medium\n",
       "5. fast\n",
       "\n",
       "\n",
       "\n",
       "**Levels**: 1. 'slow'\n",
       "2. 'medium'\n",
       "3. 'fast'\n",
       "\n",
       "\n"
      ],
      "text/plain": [
       "[1] medium slow   slow   medium fast  \n",
       "Levels: slow < medium < fast"
      ]
     },
     "metadata": {},
     "output_type": "display_data"
    },
    {
     "data": {
      "text/html": [
       "<style>\n",
       ".dl-inline {width: auto; margin:0; padding: 0}\n",
       ".dl-inline>dt, .dl-inline>dd {float: none; width: auto; display: inline-block}\n",
       ".dl-inline>dt::after {content: \":\\0020\"; padding-right: .5ex}\n",
       ".dl-inline>dt:not(:first-of-type) {padding-left: .5ex}\n",
       "</style><dl class=dl-inline><dt>slow</dt><dd>2</dd><dt>medium</dt><dd>2</dd><dt>fast</dt><dd>1</dd></dl>\n"
      ],
      "text/latex": [
       "\\begin{description*}\n",
       "\\item[slow] 2\n",
       "\\item[medium] 2\n",
       "\\item[fast] 1\n",
       "\\end{description*}\n"
      ],
      "text/markdown": [
       "slow\n",
       ":   2medium\n",
       ":   2fast\n",
       ":   1\n",
       "\n"
      ],
      "text/plain": [
       "  slow medium   fast \n",
       "     2      2      1 "
      ]
     },
     "metadata": {},
     "output_type": "display_data"
    },
    {
     "data": {
      "text/html": [
       "'\\nGreat! Have a look at the console. It is now indicated that the Levels indeed have an order associated, with the &lt; sign. Continue to the next exercise. \\n'"
      ],
      "text/latex": [
       "'\\textbackslash{}nGreat! Have a look at the console. It is now indicated that the Levels indeed have an order associated, with the < sign. Continue to the next exercise. \\textbackslash{}n'"
      ],
      "text/markdown": [
       "'\\nGreat! Have a look at the console. It is now indicated that the Levels indeed have an order associated, with the &lt; sign. Continue to the next exercise. \\n'"
      ],
      "text/plain": [
       "[1] \"\\nGreat! Have a look at the console. It is now indicated that the Levels indeed have an order associated, with the < sign. Continue to the next exercise. \\n\""
      ]
     },
     "metadata": {},
     "output_type": "display_data"
    }
   ],
   "source": [
    "# exercise 08\n",
    "\n",
    "\"\n",
    "Ordered factors (2)\n",
    "\n",
    "speed_vector should be converted to an ordinal factor since its categories have a natural ordering. By default, the function factor() transforms speed_vector into an unordered factor. To create an ordered factor, you have to add two additional arguments: ordered and levels.\n",
    "\n",
    "factor(some_vector,\n",
    "       ordered = TRUE,\n",
    "       levels = c(lev1, lev2 ...))\n",
    "\n",
    "By setting the argument ordered to TRUE in the function factor(), you indicate that the factor is ordered. With the argument levels you give the values of the factor in the correct order.\n",
    "\"\n",
    "\n",
    "# Instructions\n",
    "\n",
    "\"\n",
    "From speed_vector, create an ordered factor vector: factor_speed_vector. Set ordered to TRUE, and set levels to c(slow, medium,fast).\n",
    "\"\n",
    "\n",
    "# solution\n",
    "\n",
    "# Create speed_vector\n",
    "speed_vector <- c(\"medium\", \"slow\", \"slow\", \"medium\", \"fast\")\n",
    "\n",
    "# Convert speed_vector to ordered factor vector\n",
    "factor_speed_vector <- factor(speed_vector, \n",
    "ordered=TRUE, \n",
    "levels=c(\"slow\",\"medium\",\"fast\"))\n",
    "\n",
    "# Print factor_speed_vector\n",
    "factor_speed_vector\n",
    "summary(factor_speed_vector)\n",
    "\n",
    "#----------------------------------#\n",
    "\n",
    "# Conclusion\n",
    "\n",
    "\"\n",
    "Great! Have a look at the console. It is now indicated that the Levels indeed have an order associated, with the < sign. Continue to the next exercise. \n",
    "\""
   ]
  },
  {
   "cell_type": "code",
   "execution_count": 23,
   "metadata": {
    "tags": [],
    "vscode": {
     "languageId": "r"
    }
   },
   "outputs": [
    {
     "data": {
      "text/html": [
       "'\\nComparing ordered factors\\n\\nHaving a bad day at work, \\'data analyst number two\\' enters your office and starts complaining that \\'data analyst number five\\' is slowing down the entire project. Since you know that \\'data analyst number two\\' has the reputation of being a smarty-pants, you first decide to check if his statement is true.\\n\\nThe fact that factor_speed_vector is now ordered enables us to compare different elements (the data analysts in this case). You can simply do this by using the well-known operators.\\n'"
      ],
      "text/latex": [
       "'\\textbackslash{}nComparing ordered factors\\textbackslash{}n\\textbackslash{}nHaving a bad day at work, \\textbackslash{}'data analyst number two\\textbackslash{}' enters your office and starts complaining that \\textbackslash{}'data analyst number five\\textbackslash{}' is slowing down the entire project. Since you know that \\textbackslash{}'data analyst number two\\textbackslash{}' has the reputation of being a smarty-pants, you first decide to check if his statement is true.\\textbackslash{}n\\textbackslash{}nThe fact that factor\\_speed\\_vector is now ordered enables us to compare different elements (the data analysts in this case). You can simply do this by using the well-known operators.\\textbackslash{}n'"
      ],
      "text/markdown": [
       "'\\nComparing ordered factors\\n\\nHaving a bad day at work, \\'data analyst number two\\' enters your office and starts complaining that \\'data analyst number five\\' is slowing down the entire project. Since you know that \\'data analyst number two\\' has the reputation of being a smarty-pants, you first decide to check if his statement is true.\\n\\nThe fact that factor_speed_vector is now ordered enables us to compare different elements (the data analysts in this case). You can simply do this by using the well-known operators.\\n'"
      ],
      "text/plain": [
       "[1] \"\\nComparing ordered factors\\n\\nHaving a bad day at work, 'data analyst number two' enters your office and starts complaining that 'data analyst number five' is slowing down the entire project. Since you know that 'data analyst number two' has the reputation of being a smarty-pants, you first decide to check if his statement is true.\\n\\nThe fact that factor_speed_vector is now ordered enables us to compare different elements (the data analysts in this case). You can simply do this by using the well-known operators.\\n\""
      ]
     },
     "metadata": {},
     "output_type": "display_data"
    },
    {
     "data": {
      "text/html": [
       "<span style=white-space:pre-wrap>'\\n\\n    Use [2] to select from factor_speed_vector the factor value for the second data analyst. Store it as da2.\\n    Use [5] to select the factor_speed_vector factor value for the fifth data analyst. Store it as da5.\\n    Check if da2 is greater than da5; simply print out the result. Remember that you can use the &gt; operator to check whether one element is larger than the other.\\n\\n'</span>"
      ],
      "text/latex": [
       "'\\textbackslash{}n\\textbackslash{}n    Use {[}2{]} to select from factor\\_speed\\_vector the factor value for the second data analyst. Store it as da2.\\textbackslash{}n    Use {[}5{]} to select the factor\\_speed\\_vector factor value for the fifth data analyst. Store it as da5.\\textbackslash{}n    Check if da2 is greater than da5; simply print out the result. Remember that you can use the > operator to check whether one element is larger than the other.\\textbackslash{}n\\textbackslash{}n'"
      ],
      "text/markdown": [
       "<span style=white-space:pre-wrap>'\\n\\n    Use [2] to select from factor_speed_vector the factor value for the second data analyst. Store it as da2.\\n    Use [5] to select the factor_speed_vector factor value for the fifth data analyst. Store it as da5.\\n    Check if da2 is greater than da5; simply print out the result. Remember that you can use the &gt; operator to check whether one element is larger than the other.\\n\\n'</span>"
      ],
      "text/plain": [
       "[1] \"\\n\\n    Use [2] to select from factor_speed_vector the factor value for the second data analyst. Store it as da2.\\n    Use [5] to select the factor_speed_vector factor value for the fifth data analyst. Store it as da5.\\n    Check if da2 is greater than da5; simply print out the result. Remember that you can use the > operator to check whether one element is larger than the other.\\n\\n\""
      ]
     },
     "metadata": {},
     "output_type": "display_data"
    },
    {
     "data": {
      "text/html": [
       "FALSE"
      ],
      "text/latex": [
       "FALSE"
      ],
      "text/markdown": [
       "FALSE"
      ],
      "text/plain": [
       "[1] FALSE"
      ]
     },
     "metadata": {},
     "output_type": "display_data"
    },
    {
     "data": {
      "text/html": [
       "'\\nBellissimo! What does the result tell you? Data analyst two is complaining about the data analyst five while in fact they are the one slowing everything down! This concludes the chapter on factors. With a solid basis in vectors, matrices and factors, you\\'re ready to dive into the wonderful world of data frames, a very important data structure in R! \\n'"
      ],
      "text/latex": [
       "'\\textbackslash{}nBellissimo! What does the result tell you? Data analyst two is complaining about the data analyst five while in fact they are the one slowing everything down! This concludes the chapter on factors. With a solid basis in vectors, matrices and factors, you\\textbackslash{}'re ready to dive into the wonderful world of data frames, a very important data structure in R! \\textbackslash{}n'"
      ],
      "text/markdown": [
       "'\\nBellissimo! What does the result tell you? Data analyst two is complaining about the data analyst five while in fact they are the one slowing everything down! This concludes the chapter on factors. With a solid basis in vectors, matrices and factors, you\\'re ready to dive into the wonderful world of data frames, a very important data structure in R! \\n'"
      ],
      "text/plain": [
       "[1] \"\\nBellissimo! What does the result tell you? Data analyst two is complaining about the data analyst five while in fact they are the one slowing everything down! This concludes the chapter on factors. With a solid basis in vectors, matrices and factors, you're ready to dive into the wonderful world of data frames, a very important data structure in R! \\n\""
      ]
     },
     "metadata": {},
     "output_type": "display_data"
    }
   ],
   "source": [
    "# exercise 09\n",
    "\n",
    "\"\n",
    "Comparing ordered factors\n",
    "\n",
    "Having a bad day at work, 'data analyst number two' enters your office and starts complaining that 'data analyst number five' is slowing down the entire project. Since you know that 'data analyst number two' has the reputation of being a smarty-pants, you first decide to check if his statement is true.\n",
    "\n",
    "The fact that factor_speed_vector is now ordered enables us to compare different elements (the data analysts in this case). You can simply do this by using the well-known operators.\n",
    "\"\n",
    "\n",
    "# Instructions\n",
    "\n",
    "\"\n",
    "\n",
    "    Use [2] to select from factor_speed_vector the factor value for the second data analyst. Store it as da2.\n",
    "    Use [5] to select the factor_speed_vector factor value for the fifth data analyst. Store it as da5.\n",
    "    Check if da2 is greater than da5; simply print out the result. Remember that you can use the > operator to check whether one element is larger than the other.\n",
    "\n",
    "\"\n",
    "\n",
    "# solution\n",
    "\n",
    "# Create factor_speed_vector\n",
    "speed_vector <- c(\"medium\", \"slow\", \"slow\", \"medium\", \"fast\")\n",
    "factor_speed_vector <- factor(speed_vector, ordered = TRUE, levels = c(\"slow\", \"medium\", \"fast\"))\n",
    "\n",
    "# Factor value for second data analyst\n",
    "da2 <- factor_speed_vector[2]\n",
    "\n",
    "# Factor value for fifth data analyst\n",
    "da5 <- factor_speed_vector[5]\n",
    "\n",
    "# Is data analyst 2 faster than data analyst 5?\n",
    "da2 > da5\n",
    "\n",
    "#----------------------------------#\n",
    "\n",
    "# Conclusion\n",
    "\n",
    "\"\n",
    "Bellissimo! What does the result tell you? Data analyst two is complaining about the data analyst five while in fact they are the one slowing everything down! This concludes the chapter on factors. With a solid basis in vectors, matrices and factors, you're ready to dive into the wonderful world of data frames, a very important data structure in R! \n",
    "\""
   ]
  }
 ],
 "metadata": {
  "kernelspec": {
   "display_name": "R",
   "language": "R",
   "name": "ir"
  },
  "language_info": {
   "codemirror_mode": "r",
   "file_extension": ".r",
   "mimetype": "text/x-r-source",
   "name": "R",
   "pygments_lexer": "r",
   "version": "4.3.2"
  }
 },
 "nbformat": 4,
 "nbformat_minor": 4
}
