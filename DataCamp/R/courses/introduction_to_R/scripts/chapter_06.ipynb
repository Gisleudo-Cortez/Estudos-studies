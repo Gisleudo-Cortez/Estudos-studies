{
 "cells": [
  {
   "cell_type": "code",
   "execution_count": 1,
   "metadata": {
    "vscode": {
     "languageId": "r"
    }
   },
   "outputs": [
    {
     "data": {
      "text/html": [
       "<span style=white-space:pre-wrap>'\\nLists, why would you need them?\\n\\nCongratulations! At this point in the course you are already familiar with:\\n\\n    Vectors (one dimensional array): can hold numeric, character or logical values. The elements in a vector all have the same data type.\\n    Matrices (two dimensional array): can hold numeric, character or logical values. The elements in a matrix all have the same data type.\\n    Data frames (two-dimensional objects): can hold numeric, character or logical values. Within a column all elements have the same data type, but different columns can be of different data type.\\n\\nPretty sweet for an R newbie, right? ;-)\\n'</span>"
      ],
      "text/latex": [
       "'\\textbackslash{}nLists, why would you need them?\\textbackslash{}n\\textbackslash{}nCongratulations! At this point in the course you are already familiar with:\\textbackslash{}n\\textbackslash{}n    Vectors (one dimensional array): can hold numeric, character or logical values. The elements in a vector all have the same data type.\\textbackslash{}n    Matrices (two dimensional array): can hold numeric, character or logical values. The elements in a matrix all have the same data type.\\textbackslash{}n    Data frames (two-dimensional objects): can hold numeric, character or logical values. Within a column all elements have the same data type, but different columns can be of different data type.\\textbackslash{}n\\textbackslash{}nPretty sweet for an R newbie, right? ;-)\\textbackslash{}n'"
      ],
      "text/markdown": [
       "<span style=white-space:pre-wrap>'\\nLists, why would you need them?\\n\\nCongratulations! At this point in the course you are already familiar with:\\n\\n    Vectors (one dimensional array): can hold numeric, character or logical values. The elements in a vector all have the same data type.\\n    Matrices (two dimensional array): can hold numeric, character or logical values. The elements in a matrix all have the same data type.\\n    Data frames (two-dimensional objects): can hold numeric, character or logical values. Within a column all elements have the same data type, but different columns can be of different data type.\\n\\nPretty sweet for an R newbie, right? ;-)\\n'</span>"
      ],
      "text/plain": [
       "[1] \"\\nLists, why would you need them?\\n\\nCongratulations! At this point in the course you are already familiar with:\\n\\n    Vectors (one dimensional array): can hold numeric, character or logical values. The elements in a vector all have the same data type.\\n    Matrices (two dimensional array): can hold numeric, character or logical values. The elements in a matrix all have the same data type.\\n    Data frames (two-dimensional objects): can hold numeric, character or logical values. Within a column all elements have the same data type, but different columns can be of different data type.\\n\\nPretty sweet for an R newbie, right? ;-)\\n\""
      ]
     },
     "metadata": {},
     "output_type": "display_data"
    },
    {
     "data": {
      "text/html": [
       "'\\nSubmit the answer to start learning everything about lists!\\n'"
      ],
      "text/latex": [
       "'\\textbackslash{}nSubmit the answer to start learning everything about lists!\\textbackslash{}n'"
      ],
      "text/markdown": [
       "'\\nSubmit the answer to start learning everything about lists!\\n'"
      ],
      "text/plain": [
       "[1] \"\\nSubmit the answer to start learning everything about lists!\\n\""
      ]
     },
     "metadata": {},
     "output_type": "display_data"
    },
    {
     "data": {
      "text/html": [
       "'\\nReady, set, go! Continue to the next exercise. \\n'"
      ],
      "text/latex": [
       "'\\textbackslash{}nReady, set, go! Continue to the next exercise. \\textbackslash{}n'"
      ],
      "text/markdown": [
       "'\\nReady, set, go! Continue to the next exercise. \\n'"
      ],
      "text/plain": [
       "[1] \"\\nReady, set, go! Continue to the next exercise. \\n\""
      ]
     },
     "metadata": {},
     "output_type": "display_data"
    }
   ],
   "source": [
    "# exercise 01\n",
    "\n",
    "\"\n",
    "Lists, why would you need them?\n",
    "\n",
    "Congratulations! At this point in the course you are already familiar with:\n",
    "\n",
    "    Vectors (one dimensional array): can hold numeric, character or logical values. The elements in a vector all have the same data type.\n",
    "    Matrices (two dimensional array): can hold numeric, character or logical values. The elements in a matrix all have the same data type.\n",
    "    Data frames (two-dimensional objects): can hold numeric, character or logical values. Within a column all elements have the same data type, but different columns can be of different data type.\n",
    "\n",
    "Pretty sweet for an R newbie, right? ;-)\n",
    "\"\n",
    "\n",
    "# Instructions\n",
    "\n",
    "\"\n",
    "Submit the answer to start learning everything about lists!\n",
    "\"\n",
    "\n",
    "# solution\n",
    "\n",
    "\n",
    "\n",
    "#----------------------------------#\n",
    "\n",
    "# Conclusion\n",
    "\n",
    "\"\n",
    "Ready, set, go! Continue to the next exercise. \n",
    "\""
   ]
  },
  {
   "cell_type": "code",
   "execution_count": 2,
   "metadata": {
    "tags": [],
    "vscode": {
     "languageId": "r"
    }
   },
   "outputs": [
    {
     "data": {
      "text/html": [
       "'\\nLists, why would you need them? (2)\\n\\nA list in R is similar to your to-do list at work or school: the different items on that list most likely differ in length, characteristic, and type of activity that has to be done.\\n\\nA list in R allows you to gather a variety of objects under one name (that is, the name of the list) in an ordered way. These objects can be matrices, vectors, data frames, even other lists, etc. It is not even required that these objects are related to each other in any way.\\n\\nYou could say that a list is some kind super data type: you can store practically any piece of information in it!\\n'"
      ],
      "text/latex": [
       "'\\textbackslash{}nLists, why would you need them? (2)\\textbackslash{}n\\textbackslash{}nA list in R is similar to your to-do list at work or school: the different items on that list most likely differ in length, characteristic, and type of activity that has to be done.\\textbackslash{}n\\textbackslash{}nA list in R allows you to gather a variety of objects under one name (that is, the name of the list) in an ordered way. These objects can be matrices, vectors, data frames, even other lists, etc. It is not even required that these objects are related to each other in any way.\\textbackslash{}n\\textbackslash{}nYou could say that a list is some kind super data type: you can store practically any piece of information in it!\\textbackslash{}n'"
      ],
      "text/markdown": [
       "'\\nLists, why would you need them? (2)\\n\\nA list in R is similar to your to-do list at work or school: the different items on that list most likely differ in length, characteristic, and type of activity that has to be done.\\n\\nA list in R allows you to gather a variety of objects under one name (that is, the name of the list) in an ordered way. These objects can be matrices, vectors, data frames, even other lists, etc. It is not even required that these objects are related to each other in any way.\\n\\nYou could say that a list is some kind super data type: you can store practically any piece of information in it!\\n'"
      ],
      "text/plain": [
       "[1] \"\\nLists, why would you need them? (2)\\n\\nA list in R is similar to your to-do list at work or school: the different items on that list most likely differ in length, characteristic, and type of activity that has to be done.\\n\\nA list in R allows you to gather a variety of objects under one name (that is, the name of the list) in an ordered way. These objects can be matrices, vectors, data frames, even other lists, etc. It is not even required that these objects are related to each other in any way.\\n\\nYou could say that a list is some kind super data type: you can store practically any piece of information in it!\\n\""
      ]
     },
     "metadata": {},
     "output_type": "display_data"
    },
    {
     "data": {
      "text/html": [
       "'\\nJust submit the answer to start the first exercise on lists.\\n'"
      ],
      "text/latex": [
       "'\\textbackslash{}nJust submit the answer to start the first exercise on lists.\\textbackslash{}n'"
      ],
      "text/markdown": [
       "'\\nJust submit the answer to start the first exercise on lists.\\n'"
      ],
      "text/plain": [
       "[1] \"\\nJust submit the answer to start the first exercise on lists.\\n\""
      ]
     },
     "metadata": {},
     "output_type": "display_data"
    },
    {
     "data": {
      "text/html": [
       "'\\nCool. Let\\'s get our hands dirty! \\n'"
      ],
      "text/latex": [
       "'\\textbackslash{}nCool. Let\\textbackslash{}'s get our hands dirty! \\textbackslash{}n'"
      ],
      "text/markdown": [
       "'\\nCool. Let\\'s get our hands dirty! \\n'"
      ],
      "text/plain": [
       "[1] \"\\nCool. Let's get our hands dirty! \\n\""
      ]
     },
     "metadata": {},
     "output_type": "display_data"
    }
   ],
   "source": [
    "# exercise 02\n",
    "\n",
    "\"\n",
    "Lists, why would you need them? (2)\n",
    "\n",
    "A list in R is similar to your to-do list at work or school: the different items on that list most likely differ in length, characteristic, and type of activity that has to be done.\n",
    "\n",
    "A list in R allows you to gather a variety of objects under one name (that is, the name of the list) in an ordered way. These objects can be matrices, vectors, data frames, even other lists, etc. It is not even required that these objects are related to each other in any way.\n",
    "\n",
    "You could say that a list is some kind super data type: you can store practically any piece of information in it!\n",
    "\"\n",
    "\n",
    "# Instructions\n",
    "\n",
    "\"\n",
    "Just submit the answer to start the first exercise on lists.\n",
    "\"\n",
    "\n",
    "# solution\n",
    "\n",
    "\n",
    "\n",
    "#----------------------------------#\n",
    "\n",
    "# Conclusion\n",
    "\n",
    "\"\n",
    "Cool. Let's get our hands dirty! \n",
    "\""
   ]
  },
  {
   "cell_type": "code",
   "execution_count": 3,
   "metadata": {
    "tags": [],
    "vscode": {
     "languageId": "r"
    }
   },
   "outputs": [
    {
     "data": {
      "text/html": [
       "'\\nCreating a list\\n\\nLet us create our first list! To construct a list you use the function list():\\n\\nmy_list &lt;- list(comp1, comp2 ...)\\n\\nThe arguments to the list function are the list components. Remember, these components can be matrices, vectors, other lists, …\\n'"
      ],
      "text/latex": [
       "'\\textbackslash{}nCreating a list\\textbackslash{}n\\textbackslash{}nLet us create our first list! To construct a list you use the function list():\\textbackslash{}n\\textbackslash{}nmy\\_list <- list(comp1, comp2 ...)\\textbackslash{}n\\textbackslash{}nThe arguments to the list function are the list components. Remember, these components can be matrices, vectors, other lists, …\\textbackslash{}n'"
      ],
      "text/markdown": [
       "'\\nCreating a list\\n\\nLet us create our first list! To construct a list you use the function list():\\n\\nmy_list &lt;- list(comp1, comp2 ...)\\n\\nThe arguments to the list function are the list components. Remember, these components can be matrices, vectors, other lists, …\\n'"
      ],
      "text/plain": [
       "[1] \"\\nCreating a list\\n\\nLet us create our first list! To construct a list you use the function list():\\n\\nmy_list <- list(comp1, comp2 ...)\\n\\nThe arguments to the list function are the list components. Remember, these components can be matrices, vectors, other lists, …\\n\""
      ]
     },
     "metadata": {},
     "output_type": "display_data"
    },
    {
     "data": {
      "text/html": [
       "'\\nConstruct a list, named my_list, that contains the variables my_vector, my_matrix and my_df as list components.\\n'"
      ],
      "text/latex": [
       "'\\textbackslash{}nConstruct a list, named my\\_list, that contains the variables my\\_vector, my\\_matrix and my\\_df as list components.\\textbackslash{}n'"
      ],
      "text/markdown": [
       "'\\nConstruct a list, named my_list, that contains the variables my_vector, my_matrix and my_df as list components.\\n'"
      ],
      "text/plain": [
       "[1] \"\\nConstruct a list, named my_list, that contains the variables my_vector, my_matrix and my_df as list components.\\n\""
      ]
     },
     "metadata": {},
     "output_type": "display_data"
    },
    {
     "data": {
      "text/html": [
       "'\\nWonderful! Head over to the next exercise. \\n'"
      ],
      "text/latex": [
       "'\\textbackslash{}nWonderful! Head over to the next exercise. \\textbackslash{}n'"
      ],
      "text/markdown": [
       "'\\nWonderful! Head over to the next exercise. \\n'"
      ],
      "text/plain": [
       "[1] \"\\nWonderful! Head over to the next exercise. \\n\""
      ]
     },
     "metadata": {},
     "output_type": "display_data"
    }
   ],
   "source": [
    "# exercise 03\n",
    "\n",
    "\"\n",
    "Creating a list\n",
    "\n",
    "Let us create our first list! To construct a list you use the function list():\n",
    "\n",
    "my_list <- list(comp1, comp2 ...)\n",
    "\n",
    "The arguments to the list function are the list components. Remember, these components can be matrices, vectors, other lists, …\n",
    "\"\n",
    "\n",
    "# Instructions\n",
    "\n",
    "\"\n",
    "Construct a list, named my_list, that contains the variables my_vector, my_matrix and my_df as list components.\n",
    "\"\n",
    "\n",
    "# solution\n",
    "\n",
    "# Vector with numerics from 1 up to 10\n",
    "my_vector <- 1:10 \n",
    "\n",
    "# Matrix with numerics from 1 up to 9\n",
    "my_matrix <- matrix(1:9, ncol = 3)\n",
    "\n",
    "# First 10 elements of the built-in data frame mtcars\n",
    "my_df <- mtcars[1:10,]\n",
    "\n",
    "# Construct list with these different elements:\n",
    "my_list <-list(my_vector, my_matrix, my_df)\n",
    "\n",
    "#----------------------------------#\n",
    "\n",
    "# Conclusion\n",
    "\n",
    "\"\n",
    "Wonderful! Head over to the next exercise. \n",
    "\""
   ]
  },
  {
   "cell_type": "code",
   "execution_count": 5,
   "metadata": {
    "tags": [],
    "vscode": {
     "languageId": "r"
    }
   },
   "outputs": [
    {
     "data": {
      "text/html": [
       "<span style=white-space:pre-wrap>'\\nCreating a named list\\n\\nWell done, you\\'re on a roll!\\n\\nJust like on your to-do list, you want to avoid not knowing or remembering what the components of your list stand for. That is why you should give names to them:\\n\\nmy_list &lt;- list(name1 = your_comp1, \\n                name2 = your_comp2)\\n\\nThis creates a list with components that are named name1, name2, and so on. If you want to name your lists after you\\'ve created them, you can use the names() function as you did with vectors. The following commands are fully equivalent to the assignment above:\\n\\nmy_list &lt;- list(your_comp1, your_comp2)\\nnames(my_list) &lt;- c(name1, name2)\\n\\n'</span>"
      ],
      "text/latex": [
       "'\\textbackslash{}nCreating a named list\\textbackslash{}n\\textbackslash{}nWell done, you\\textbackslash{}'re on a roll!\\textbackslash{}n\\textbackslash{}nJust like on your to-do list, you want to avoid not knowing or remembering what the components of your list stand for. That is why you should give names to them:\\textbackslash{}n\\textbackslash{}nmy\\_list <- list(name1 = your\\_comp1, \\textbackslash{}n                name2 = your\\_comp2)\\textbackslash{}n\\textbackslash{}nThis creates a list with components that are named name1, name2, and so on. If you want to name your lists after you\\textbackslash{}'ve created them, you can use the names() function as you did with vectors. The following commands are fully equivalent to the assignment above:\\textbackslash{}n\\textbackslash{}nmy\\_list <- list(your\\_comp1, your\\_comp2)\\textbackslash{}nnames(my\\_list) <- c(name1, name2)\\textbackslash{}n\\textbackslash{}n'"
      ],
      "text/markdown": [
       "<span style=white-space:pre-wrap>'\\nCreating a named list\\n\\nWell done, you\\'re on a roll!\\n\\nJust like on your to-do list, you want to avoid not knowing or remembering what the components of your list stand for. That is why you should give names to them:\\n\\nmy_list &lt;- list(name1 = your_comp1, \\n                name2 = your_comp2)\\n\\nThis creates a list with components that are named name1, name2, and so on. If you want to name your lists after you\\'ve created them, you can use the names() function as you did with vectors. The following commands are fully equivalent to the assignment above:\\n\\nmy_list &lt;- list(your_comp1, your_comp2)\\nnames(my_list) &lt;- c(name1, name2)\\n\\n'</span>"
      ],
      "text/plain": [
       "[1] \"\\nCreating a named list\\n\\nWell done, you're on a roll!\\n\\nJust like on your to-do list, you want to avoid not knowing or remembering what the components of your list stand for. That is why you should give names to them:\\n\\nmy_list <- list(name1 = your_comp1, \\n                name2 = your_comp2)\\n\\nThis creates a list with components that are named name1, name2, and so on. If you want to name your lists after you've created them, you can use the names() function as you did with vectors. The following commands are fully equivalent to the assignment above:\\n\\nmy_list <- list(your_comp1, your_comp2)\\nnames(my_list) <- c(name1, name2)\\n\\n\""
      ]
     },
     "metadata": {},
     "output_type": "display_data"
    },
    {
     "data": {
      "text/html": [
       "<span style=white-space:pre-wrap>'\\n\\n    Change the code of the previous exercise (see editor) by adding names to the components. Use for my_vector the name vec, for my_matrix the name mat and for my_df the name df.\\n    Print out my_list so you can inspect the output.\\n\\n'</span>"
      ],
      "text/latex": [
       "'\\textbackslash{}n\\textbackslash{}n    Change the code of the previous exercise (see editor) by adding names to the components. Use for my\\_vector the name vec, for my\\_matrix the name mat and for my\\_df the name df.\\textbackslash{}n    Print out my\\_list so you can inspect the output.\\textbackslash{}n\\textbackslash{}n'"
      ],
      "text/markdown": [
       "<span style=white-space:pre-wrap>'\\n\\n    Change the code of the previous exercise (see editor) by adding names to the components. Use for my_vector the name vec, for my_matrix the name mat and for my_df the name df.\\n    Print out my_list so you can inspect the output.\\n\\n'</span>"
      ],
      "text/plain": [
       "[1] \"\\n\\n    Change the code of the previous exercise (see editor) by adding names to the components. Use for my_vector the name vec, for my_matrix the name mat and for my_df the name df.\\n    Print out my_list so you can inspect the output.\\n\\n\""
      ]
     },
     "metadata": {},
     "output_type": "display_data"
    },
    {
     "data": {
      "text/html": [
       "<dl>\n",
       "\t<dt>$vec</dt>\n",
       "\t\t<dd><style>\n",
       ".list-inline {list-style: none; margin:0; padding: 0}\n",
       ".list-inline>li {display: inline-block}\n",
       ".list-inline>li:not(:last-child)::after {content: \"\\00b7\"; padding: 0 .5ex}\n",
       "</style>\n",
       "<ol class=list-inline><li>1</li><li>2</li><li>3</li><li>4</li><li>5</li><li>6</li><li>7</li><li>8</li><li>9</li><li>10</li></ol>\n",
       "</dd>\n",
       "\t<dt>$mat</dt>\n",
       "\t\t<dd><table class=\"dataframe\">\n",
       "<caption>A matrix: 3 × 3 of type int</caption>\n",
       "<tbody>\n",
       "\t<tr><td>1</td><td>4</td><td>7</td></tr>\n",
       "\t<tr><td>2</td><td>5</td><td>8</td></tr>\n",
       "\t<tr><td>3</td><td>6</td><td>9</td></tr>\n",
       "</tbody>\n",
       "</table>\n",
       "</dd>\n",
       "\t<dt>$df</dt>\n",
       "\t\t<dd><table class=\"dataframe\">\n",
       "<caption>A data.frame: 10 × 11</caption>\n",
       "<thead>\n",
       "\t<tr><th></th><th scope=col>mpg</th><th scope=col>cyl</th><th scope=col>disp</th><th scope=col>hp</th><th scope=col>drat</th><th scope=col>wt</th><th scope=col>qsec</th><th scope=col>vs</th><th scope=col>am</th><th scope=col>gear</th><th scope=col>carb</th></tr>\n",
       "\t<tr><th></th><th scope=col>&lt;dbl&gt;</th><th scope=col>&lt;dbl&gt;</th><th scope=col>&lt;dbl&gt;</th><th scope=col>&lt;dbl&gt;</th><th scope=col>&lt;dbl&gt;</th><th scope=col>&lt;dbl&gt;</th><th scope=col>&lt;dbl&gt;</th><th scope=col>&lt;dbl&gt;</th><th scope=col>&lt;dbl&gt;</th><th scope=col>&lt;dbl&gt;</th><th scope=col>&lt;dbl&gt;</th></tr>\n",
       "</thead>\n",
       "<tbody>\n",
       "\t<tr><th scope=row>Mazda RX4</th><td>21.0</td><td>6</td><td>160.0</td><td>110</td><td>3.90</td><td>2.620</td><td>16.46</td><td>0</td><td>1</td><td>4</td><td>4</td></tr>\n",
       "\t<tr><th scope=row>Mazda RX4 Wag</th><td>21.0</td><td>6</td><td>160.0</td><td>110</td><td>3.90</td><td>2.875</td><td>17.02</td><td>0</td><td>1</td><td>4</td><td>4</td></tr>\n",
       "\t<tr><th scope=row>Datsun 710</th><td>22.8</td><td>4</td><td>108.0</td><td> 93</td><td>3.85</td><td>2.320</td><td>18.61</td><td>1</td><td>1</td><td>4</td><td>1</td></tr>\n",
       "\t<tr><th scope=row>Hornet 4 Drive</th><td>21.4</td><td>6</td><td>258.0</td><td>110</td><td>3.08</td><td>3.215</td><td>19.44</td><td>1</td><td>0</td><td>3</td><td>1</td></tr>\n",
       "\t<tr><th scope=row>Hornet Sportabout</th><td>18.7</td><td>8</td><td>360.0</td><td>175</td><td>3.15</td><td>3.440</td><td>17.02</td><td>0</td><td>0</td><td>3</td><td>2</td></tr>\n",
       "\t<tr><th scope=row>Valiant</th><td>18.1</td><td>6</td><td>225.0</td><td>105</td><td>2.76</td><td>3.460</td><td>20.22</td><td>1</td><td>0</td><td>3</td><td>1</td></tr>\n",
       "\t<tr><th scope=row>Duster 360</th><td>14.3</td><td>8</td><td>360.0</td><td>245</td><td>3.21</td><td>3.570</td><td>15.84</td><td>0</td><td>0</td><td>3</td><td>4</td></tr>\n",
       "\t<tr><th scope=row>Merc 240D</th><td>24.4</td><td>4</td><td>146.7</td><td> 62</td><td>3.69</td><td>3.190</td><td>20.00</td><td>1</td><td>0</td><td>4</td><td>2</td></tr>\n",
       "\t<tr><th scope=row>Merc 230</th><td>22.8</td><td>4</td><td>140.8</td><td> 95</td><td>3.92</td><td>3.150</td><td>22.90</td><td>1</td><td>0</td><td>4</td><td>2</td></tr>\n",
       "\t<tr><th scope=row>Merc 280</th><td>19.2</td><td>6</td><td>167.6</td><td>123</td><td>3.92</td><td>3.440</td><td>18.30</td><td>1</td><td>0</td><td>4</td><td>4</td></tr>\n",
       "</tbody>\n",
       "</table>\n",
       "</dd>\n",
       "</dl>\n"
      ],
      "text/latex": [
       "\\begin{description}\n",
       "\\item[\\$vec] \\begin{enumerate*}\n",
       "\\item 1\n",
       "\\item 2\n",
       "\\item 3\n",
       "\\item 4\n",
       "\\item 5\n",
       "\\item 6\n",
       "\\item 7\n",
       "\\item 8\n",
       "\\item 9\n",
       "\\item 10\n",
       "\\end{enumerate*}\n",
       "\n",
       "\\item[\\$mat] A matrix: 3 × 3 of type int\n",
       "\\begin{tabular}{lll}\n",
       "\t 1 & 4 & 7\\\\\n",
       "\t 2 & 5 & 8\\\\\n",
       "\t 3 & 6 & 9\\\\\n",
       "\\end{tabular}\n",
       "\n",
       "\\item[\\$df] A data.frame: 10 × 11\n",
       "\\begin{tabular}{r|lllllllllll}\n",
       "  & mpg & cyl & disp & hp & drat & wt & qsec & vs & am & gear & carb\\\\\n",
       "  & <dbl> & <dbl> & <dbl> & <dbl> & <dbl> & <dbl> & <dbl> & <dbl> & <dbl> & <dbl> & <dbl>\\\\\n",
       "\\hline\n",
       "\tMazda RX4 & 21.0 & 6 & 160.0 & 110 & 3.90 & 2.620 & 16.46 & 0 & 1 & 4 & 4\\\\\n",
       "\tMazda RX4 Wag & 21.0 & 6 & 160.0 & 110 & 3.90 & 2.875 & 17.02 & 0 & 1 & 4 & 4\\\\\n",
       "\tDatsun 710 & 22.8 & 4 & 108.0 &  93 & 3.85 & 2.320 & 18.61 & 1 & 1 & 4 & 1\\\\\n",
       "\tHornet 4 Drive & 21.4 & 6 & 258.0 & 110 & 3.08 & 3.215 & 19.44 & 1 & 0 & 3 & 1\\\\\n",
       "\tHornet Sportabout & 18.7 & 8 & 360.0 & 175 & 3.15 & 3.440 & 17.02 & 0 & 0 & 3 & 2\\\\\n",
       "\tValiant & 18.1 & 6 & 225.0 & 105 & 2.76 & 3.460 & 20.22 & 1 & 0 & 3 & 1\\\\\n",
       "\tDuster 360 & 14.3 & 8 & 360.0 & 245 & 3.21 & 3.570 & 15.84 & 0 & 0 & 3 & 4\\\\\n",
       "\tMerc 240D & 24.4 & 4 & 146.7 &  62 & 3.69 & 3.190 & 20.00 & 1 & 0 & 4 & 2\\\\\n",
       "\tMerc 230 & 22.8 & 4 & 140.8 &  95 & 3.92 & 3.150 & 22.90 & 1 & 0 & 4 & 2\\\\\n",
       "\tMerc 280 & 19.2 & 6 & 167.6 & 123 & 3.92 & 3.440 & 18.30 & 1 & 0 & 4 & 4\\\\\n",
       "\\end{tabular}\n",
       "\n",
       "\\end{description}\n"
      ],
      "text/markdown": [
       "$vec\n",
       ":   1. 1\n",
       "2. 2\n",
       "3. 3\n",
       "4. 4\n",
       "5. 5\n",
       "6. 6\n",
       "7. 7\n",
       "8. 8\n",
       "9. 9\n",
       "10. 10\n",
       "\n",
       "\n",
       "\n",
       "$mat\n",
       ":   \n",
       "A matrix: 3 × 3 of type int\n",
       "\n",
       "| 1 | 4 | 7 |\n",
       "| 2 | 5 | 8 |\n",
       "| 3 | 6 | 9 |\n",
       "\n",
       "\n",
       "$df\n",
       ":   \n",
       "A data.frame: 10 × 11\n",
       "\n",
       "| <!--/--> | mpg &lt;dbl&gt; | cyl &lt;dbl&gt; | disp &lt;dbl&gt; | hp &lt;dbl&gt; | drat &lt;dbl&gt; | wt &lt;dbl&gt; | qsec &lt;dbl&gt; | vs &lt;dbl&gt; | am &lt;dbl&gt; | gear &lt;dbl&gt; | carb &lt;dbl&gt; |\n",
       "|---|---|---|---|---|---|---|---|---|---|---|---|\n",
       "| Mazda RX4 | 21.0 | 6 | 160.0 | 110 | 3.90 | 2.620 | 16.46 | 0 | 1 | 4 | 4 |\n",
       "| Mazda RX4 Wag | 21.0 | 6 | 160.0 | 110 | 3.90 | 2.875 | 17.02 | 0 | 1 | 4 | 4 |\n",
       "| Datsun 710 | 22.8 | 4 | 108.0 |  93 | 3.85 | 2.320 | 18.61 | 1 | 1 | 4 | 1 |\n",
       "| Hornet 4 Drive | 21.4 | 6 | 258.0 | 110 | 3.08 | 3.215 | 19.44 | 1 | 0 | 3 | 1 |\n",
       "| Hornet Sportabout | 18.7 | 8 | 360.0 | 175 | 3.15 | 3.440 | 17.02 | 0 | 0 | 3 | 2 |\n",
       "| Valiant | 18.1 | 6 | 225.0 | 105 | 2.76 | 3.460 | 20.22 | 1 | 0 | 3 | 1 |\n",
       "| Duster 360 | 14.3 | 8 | 360.0 | 245 | 3.21 | 3.570 | 15.84 | 0 | 0 | 3 | 4 |\n",
       "| Merc 240D | 24.4 | 4 | 146.7 |  62 | 3.69 | 3.190 | 20.00 | 1 | 0 | 4 | 2 |\n",
       "| Merc 230 | 22.8 | 4 | 140.8 |  95 | 3.92 | 3.150 | 22.90 | 1 | 0 | 4 | 2 |\n",
       "| Merc 280 | 19.2 | 6 | 167.6 | 123 | 3.92 | 3.440 | 18.30 | 1 | 0 | 4 | 4 |\n",
       "\n",
       "\n",
       "\n",
       "\n"
      ],
      "text/plain": [
       "$vec\n",
       " [1]  1  2  3  4  5  6  7  8  9 10\n",
       "\n",
       "$mat\n",
       "     [,1] [,2] [,3]\n",
       "[1,]    1    4    7\n",
       "[2,]    2    5    8\n",
       "[3,]    3    6    9\n",
       "\n",
       "$df\n",
       "                   mpg cyl  disp  hp drat    wt  qsec vs am gear carb\n",
       "Mazda RX4         21.0   6 160.0 110 3.90 2.620 16.46  0  1    4    4\n",
       "Mazda RX4 Wag     21.0   6 160.0 110 3.90 2.875 17.02  0  1    4    4\n",
       "Datsun 710        22.8   4 108.0  93 3.85 2.320 18.61  1  1    4    1\n",
       "Hornet 4 Drive    21.4   6 258.0 110 3.08 3.215 19.44  1  0    3    1\n",
       "Hornet Sportabout 18.7   8 360.0 175 3.15 3.440 17.02  0  0    3    2\n",
       "Valiant           18.1   6 225.0 105 2.76 3.460 20.22  1  0    3    1\n",
       "Duster 360        14.3   8 360.0 245 3.21 3.570 15.84  0  0    3    4\n",
       "Merc 240D         24.4   4 146.7  62 3.69 3.190 20.00  1  0    4    2\n",
       "Merc 230          22.8   4 140.8  95 3.92 3.150 22.90  1  0    4    2\n",
       "Merc 280          19.2   6 167.6 123 3.92 3.440 18.30  1  0    4    4\n"
      ]
     },
     "metadata": {},
     "output_type": "display_data"
    },
    {
     "data": {
      "text/html": [
       "'\\nGreat! Not only do you know how to construct lists now, you can also name them; a skill that will prove most useful in practice. Continue to the next exercise. \\n'"
      ],
      "text/latex": [
       "'\\textbackslash{}nGreat! Not only do you know how to construct lists now, you can also name them; a skill that will prove most useful in practice. Continue to the next exercise. \\textbackslash{}n'"
      ],
      "text/markdown": [
       "'\\nGreat! Not only do you know how to construct lists now, you can also name them; a skill that will prove most useful in practice. Continue to the next exercise. \\n'"
      ],
      "text/plain": [
       "[1] \"\\nGreat! Not only do you know how to construct lists now, you can also name them; a skill that will prove most useful in practice. Continue to the next exercise. \\n\""
      ]
     },
     "metadata": {},
     "output_type": "display_data"
    }
   ],
   "source": [
    "# exercise 04\n",
    "\n",
    "\"\n",
    "Creating a named list\n",
    "\n",
    "Well done, you're on a roll!\n",
    "\n",
    "Just like on your to-do list, you want to avoid not knowing or remembering what the components of your list stand for. That is why you should give names to them:\n",
    "\n",
    "my_list <- list(name1 = your_comp1, \n",
    "                name2 = your_comp2)\n",
    "\n",
    "This creates a list with components that are named name1, name2, and so on. If you want to name your lists after you've created them, you can use the names() function as you did with vectors. The following commands are fully equivalent to the assignment above:\n",
    "\n",
    "my_list <- list(your_comp1, your_comp2)\n",
    "names(my_list) <- c(name1, name2)\n",
    "\n",
    "\"\n",
    "\n",
    "# Instructions\n",
    "\n",
    "\"\n",
    "\n",
    "    Change the code of the previous exercise (see editor) by adding names to the components. Use for my_vector the name vec, for my_matrix the name mat and for my_df the name df.\n",
    "    Print out my_list so you can inspect the output.\n",
    "\n",
    "\"\n",
    "\n",
    "# solution\n",
    "\n",
    "# Vector with numerics from 1 up to 10\n",
    "my_vector <- 1:10 \n",
    "\n",
    "# Matrix with numerics from 1 up to 9\n",
    "my_matrix <- matrix(1:9, ncol = 3)\n",
    "\n",
    "# First 10 elements of the built-in data frame mtcars\n",
    "my_df <- mtcars[1:10,]\n",
    "\n",
    "# Adapt list() call to give the components names\n",
    "my_list <- list(vec = my_vector,mat = my_matrix,df = my_df)\n",
    "\n",
    "# Print out my_list\n",
    "my_list\n",
    "\n",
    "#----------------------------------#\n",
    "\n",
    "# Conclusion\n",
    "\n",
    "\"\n",
    "Great! Not only do you know how to construct lists now, you can also name them; a skill that will prove most useful in practice. Continue to the next exercise. \n",
    "\""
   ]
  },
  {
   "cell_type": "code",
   "execution_count": 6,
   "metadata": {
    "vscode": {
     "languageId": "r"
    }
   },
   "outputs": [
    {
     "data": {
      "text/html": [
       "'The Shining'"
      ],
      "text/latex": [
       "'The Shining'"
      ],
      "text/markdown": [
       "'The Shining'"
      ],
      "text/plain": [
       "[1] \"The Shining\""
      ]
     },
     "metadata": {},
     "output_type": "display_data"
    },
    {
     "data": {
      "text/html": [
       "<style>\n",
       ".list-inline {list-style: none; margin:0; padding: 0}\n",
       ".list-inline>li {display: inline-block}\n",
       ".list-inline>li:not(:last-child)::after {content: \"\\00b7\"; padding: 0 .5ex}\n",
       "</style>\n",
       "<ol class=list-inline><li>'Jack Nicholson'</li><li>'Shelley Duvall'</li><li>'Danny Lloyd'</li><li>'Scatman Crothers'</li><li>'Barry Nelson'</li></ol>\n"
      ],
      "text/latex": [
       "\\begin{enumerate*}\n",
       "\\item 'Jack Nicholson'\n",
       "\\item 'Shelley Duvall'\n",
       "\\item 'Danny Lloyd'\n",
       "\\item 'Scatman Crothers'\n",
       "\\item 'Barry Nelson'\n",
       "\\end{enumerate*}\n"
      ],
      "text/markdown": [
       "1. 'Jack Nicholson'\n",
       "2. 'Shelley Duvall'\n",
       "3. 'Danny Lloyd'\n",
       "4. 'Scatman Crothers'\n",
       "5. 'Barry Nelson'\n",
       "\n",
       "\n"
      ],
      "text/plain": [
       "[1] \"Jack Nicholson\"   \"Shelley Duvall\"   \"Danny Lloyd\"      \"Scatman Crothers\"\n",
       "[5] \"Barry Nelson\"    "
      ]
     },
     "metadata": {},
     "output_type": "display_data"
    },
    {
     "data": {
      "text/html": [
       "<table class=\"dataframe\">\n",
       "<caption>A data.frame: 3 × 3</caption>\n",
       "<thead>\n",
       "\t<tr><th scope=col>scores</th><th scope=col>sources</th><th scope=col>comments</th></tr>\n",
       "\t<tr><th scope=col>&lt;dbl&gt;</th><th scope=col>&lt;chr&gt;</th><th scope=col>&lt;chr&gt;</th></tr>\n",
       "</thead>\n",
       "<tbody>\n",
       "\t<tr><td>4.5</td><td>IMDb1</td><td>Best Horror Film I Have Ever Seen                    </td></tr>\n",
       "\t<tr><td>4.0</td><td>IMDb2</td><td>A truly brilliant and scary film from Stanley Kubrick</td></tr>\n",
       "\t<tr><td>5.0</td><td>IMDb3</td><td>A masterpiece of psychological horror                </td></tr>\n",
       "</tbody>\n",
       "</table>\n"
      ],
      "text/latex": [
       "A data.frame: 3 × 3\n",
       "\\begin{tabular}{lll}\n",
       " scores & sources & comments\\\\\n",
       " <dbl> & <chr> & <chr>\\\\\n",
       "\\hline\n",
       "\t 4.5 & IMDb1 & Best Horror Film I Have Ever Seen                    \\\\\n",
       "\t 4.0 & IMDb2 & A truly brilliant and scary film from Stanley Kubrick\\\\\n",
       "\t 5.0 & IMDb3 & A masterpiece of psychological horror                \\\\\n",
       "\\end{tabular}\n"
      ],
      "text/markdown": [
       "\n",
       "A data.frame: 3 × 3\n",
       "\n",
       "| scores &lt;dbl&gt; | sources &lt;chr&gt; | comments &lt;chr&gt; |\n",
       "|---|---|---|\n",
       "| 4.5 | IMDb1 | Best Horror Film I Have Ever Seen                     |\n",
       "| 4.0 | IMDb2 | A truly brilliant and scary film from Stanley Kubrick |\n",
       "| 5.0 | IMDb3 | A masterpiece of psychological horror                 |\n",
       "\n"
      ],
      "text/plain": [
       "  scores sources comments                                             \n",
       "1 4.5    IMDb1   Best Horror Film I Have Ever Seen                    \n",
       "2 4.0    IMDb2   A truly brilliant and scary film from Stanley Kubrick\n",
       "3 5.0    IMDb3   A masterpiece of psychological horror                "
      ]
     },
     "metadata": {},
     "output_type": "display_data"
    }
   ],
   "source": [
    "mov <- \"The Shining\"\n",
    "act <- c(\"Jack Nicholson\", \"Shelley Duvall\", \"Danny Lloyd\", \"Scatman Crothers\", \"Barry Nelson\" )\n",
    "scores <- c(4.5, 4.0, 5.0)\n",
    "sources <- c(\"IMDb1\", \"IMDb2\", \"IMDb3\")\n",
    "comments <- c(\"Best Horror Film I Have Ever Seen\", \"A truly brilliant and scary film from Stanley Kubrick\", \"A masterpiece of psychological horror\")\n",
    "rev <- data.frame(scores, sources, comments)\n",
    "\n",
    "mov\n",
    "act\n",
    "rev"
   ]
  },
  {
   "cell_type": "code",
   "execution_count": 7,
   "metadata": {
    "tags": [],
    "vscode": {
     "languageId": "r"
    }
   },
   "outputs": [
    {
     "data": {
      "text/html": [
       "'\\nCreating a named list (2)\\n\\nBeing a huge movie fan (remember your job at LucasFilms), you decide to start storing information on good movies with the help of lists.\\n\\nStart by creating a list for the movie The Shining. We have already created the variables mov, act and rev in your R workspace. Feel free to check them out in the console.\\n'"
      ],
      "text/latex": [
       "'\\textbackslash{}nCreating a named list (2)\\textbackslash{}n\\textbackslash{}nBeing a huge movie fan (remember your job at LucasFilms), you decide to start storing information on good movies with the help of lists.\\textbackslash{}n\\textbackslash{}nStart by creating a list for the movie The Shining. We have already created the variables mov, act and rev in your R workspace. Feel free to check them out in the console.\\textbackslash{}n'"
      ],
      "text/markdown": [
       "'\\nCreating a named list (2)\\n\\nBeing a huge movie fan (remember your job at LucasFilms), you decide to start storing information on good movies with the help of lists.\\n\\nStart by creating a list for the movie The Shining. We have already created the variables mov, act and rev in your R workspace. Feel free to check them out in the console.\\n'"
      ],
      "text/plain": [
       "[1] \"\\nCreating a named list (2)\\n\\nBeing a huge movie fan (remember your job at LucasFilms), you decide to start storing information on good movies with the help of lists.\\n\\nStart by creating a list for the movie The Shining. We have already created the variables mov, act and rev in your R workspace. Feel free to check them out in the console.\\n\""
      ]
     },
     "metadata": {},
     "output_type": "display_data"
    },
    {
     "data": {
      "text/html": [
       "<span style=white-space:pre-wrap>'\\nComplete the code in the editor to create shining_list; it contains three elements:\\n\\n    moviename: a character string with the movie title (stored in mov)\\n    actors: a vector with the main actors\\' names (stored in act)\\n    reviews: a data frame that contains some reviews (stored in rev)\\n\\nDo not forget to name the list components accordingly (names are moviename, actors and reviews).\\n'</span>"
      ],
      "text/latex": [
       "'\\textbackslash{}nComplete the code in the editor to create shining\\_list; it contains three elements:\\textbackslash{}n\\textbackslash{}n    moviename: a character string with the movie title (stored in mov)\\textbackslash{}n    actors: a vector with the main actors\\textbackslash{}' names (stored in act)\\textbackslash{}n    reviews: a data frame that contains some reviews (stored in rev)\\textbackslash{}n\\textbackslash{}nDo not forget to name the list components accordingly (names are moviename, actors and reviews).\\textbackslash{}n'"
      ],
      "text/markdown": [
       "<span style=white-space:pre-wrap>'\\nComplete the code in the editor to create shining_list; it contains three elements:\\n\\n    moviename: a character string with the movie title (stored in mov)\\n    actors: a vector with the main actors\\' names (stored in act)\\n    reviews: a data frame that contains some reviews (stored in rev)\\n\\nDo not forget to name the list components accordingly (names are moviename, actors and reviews).\\n'</span>"
      ],
      "text/plain": [
       "[1] \"\\nComplete the code in the editor to create shining_list; it contains three elements:\\n\\n    moviename: a character string with the movie title (stored in mov)\\n    actors: a vector with the main actors' names (stored in act)\\n    reviews: a data frame that contains some reviews (stored in rev)\\n\\nDo not forget to name the list components accordingly (names are moviename, actors and reviews).\\n\""
      ]
     },
     "metadata": {},
     "output_type": "display_data"
    },
    {
     "data": {
      "text/html": [
       "'\\nWonderful! You now know how to construct and name lists. As in the previous chapters, let\\'s look at how to select elements for lists. Head over to the next exercise. \\n'"
      ],
      "text/latex": [
       "'\\textbackslash{}nWonderful! You now know how to construct and name lists. As in the previous chapters, let\\textbackslash{}'s look at how to select elements for lists. Head over to the next exercise. \\textbackslash{}n'"
      ],
      "text/markdown": [
       "'\\nWonderful! You now know how to construct and name lists. As in the previous chapters, let\\'s look at how to select elements for lists. Head over to the next exercise. \\n'"
      ],
      "text/plain": [
       "[1] \"\\nWonderful! You now know how to construct and name lists. As in the previous chapters, let's look at how to select elements for lists. Head over to the next exercise. \\n\""
      ]
     },
     "metadata": {},
     "output_type": "display_data"
    }
   ],
   "source": [
    "# exercise 05\n",
    "\n",
    "\"\n",
    "Creating a named list (2)\n",
    "\n",
    "Being a huge movie fan (remember your job at LucasFilms), you decide to start storing information on good movies with the help of lists.\n",
    "\n",
    "Start by creating a list for the movie The Shining. We have already created the variables mov, act and rev in your R workspace. Feel free to check them out in the console.\n",
    "\"\n",
    "\n",
    "# Instructions\n",
    "\n",
    "\"\n",
    "Complete the code in the editor to create shining_list; it contains three elements:\n",
    "\n",
    "    moviename: a character string with the movie title (stored in mov)\n",
    "    actors: a vector with the main actors' names (stored in act)\n",
    "    reviews: a data frame that contains some reviews (stored in rev)\n",
    "\n",
    "Do not forget to name the list components accordingly (names are moviename, actors and reviews).\n",
    "\"\n",
    "\n",
    "# solution\n",
    "\n",
    "# The variables mov, act and rev are available\n",
    "\n",
    "# Finish the code to build shining_list\n",
    "shining_list <- list(moviename = mov, actors = act, reviews = rev)\n",
    "\n",
    "#----------------------------------#\n",
    "\n",
    "# Conclusion\n",
    "\n",
    "\"\n",
    "Wonderful! You now know how to construct and name lists. As in the previous chapters, let's look at how to select elements for lists. Head over to the next exercise. \n",
    "\""
   ]
  },
  {
   "cell_type": "code",
   "execution_count": 10,
   "metadata": {
    "tags": [],
    "vscode": {
     "languageId": "r"
    }
   },
   "outputs": [
    {
     "data": {
      "text/html": [
       "'\\nSelecting elements from a list\\n\\nYour list will often be built out of numerous elements and components. Therefore, getting a single element, multiple elements, or a component out of it is not always straightforward.\\n\\nOne way to select a component is using the numbered position of that component. For example, to grab the first component of shining_list you type\\n\\nshining_list[[1]]\\n\\nA quick way to check this out is typing it in the console. Important to remember: to select elements from vectors, you use single square brackets: [ ]. Don\\'t mix them up!\\n\\nYou can also refer to the names of the components, with [[ ]] or with the $ sign. Both will select the data frame representing the reviews:\\n\\nshining_list[[reviews]]\\nshining_list$reviews\\n\\nBesides selecting components, you often need to select specific elements out of these components. For example, with shining_list[[2]][1] you select from the second component, actors (shining_list[[2]]), the first element ([1]). When you type this in the console, you will see the answer is Jack Nicholson.\\n'"
      ],
      "text/latex": [
       "'\\textbackslash{}nSelecting elements from a list\\textbackslash{}n\\textbackslash{}nYour list will often be built out of numerous elements and components. Therefore, getting a single element, multiple elements, or a component out of it is not always straightforward.\\textbackslash{}n\\textbackslash{}nOne way to select a component is using the numbered position of that component. For example, to grab the first component of shining\\_list you type\\textbackslash{}n\\textbackslash{}nshining\\_list{[}{[}1{]}{]}\\textbackslash{}n\\textbackslash{}nA quick way to check this out is typing it in the console. Important to remember: to select elements from vectors, you use single square brackets: {[} {]}. Don\\textbackslash{}'t mix them up!\\textbackslash{}n\\textbackslash{}nYou can also refer to the names of the components, with {[}{[} {]}{]} or with the \\$ sign. Both will select the data frame representing the reviews:\\textbackslash{}n\\textbackslash{}nshining\\_list{[}{[}reviews{]}{]}\\textbackslash{}nshining\\_list\\$reviews\\textbackslash{}n\\textbackslash{}nBesides selecting components, you often need to select specific elements out of these components. For example, with shining\\_list{[}{[}2{]}{]}{[}1{]} you select from the second component, actors (shining\\_list{[}{[}2{]}{]}), the first element ({[}1{]}). When you type this in the console, you will see the answer is Jack Nicholson.\\textbackslash{}n'"
      ],
      "text/markdown": [
       "'\\nSelecting elements from a list\\n\\nYour list will often be built out of numerous elements and components. Therefore, getting a single element, multiple elements, or a component out of it is not always straightforward.\\n\\nOne way to select a component is using the numbered position of that component. For example, to grab the first component of shining_list you type\\n\\nshining_list[[1]]\\n\\nA quick way to check this out is typing it in the console. Important to remember: to select elements from vectors, you use single square brackets: [ ]. Don\\'t mix them up!\\n\\nYou can also refer to the names of the components, with [[ ]] or with the $ sign. Both will select the data frame representing the reviews:\\n\\nshining_list[[reviews]]\\nshining_list$reviews\\n\\nBesides selecting components, you often need to select specific elements out of these components. For example, with shining_list[[2]][1] you select from the second component, actors (shining_list[[2]]), the first element ([1]). When you type this in the console, you will see the answer is Jack Nicholson.\\n'"
      ],
      "text/plain": [
       "[1] \"\\nSelecting elements from a list\\n\\nYour list will often be built out of numerous elements and components. Therefore, getting a single element, multiple elements, or a component out of it is not always straightforward.\\n\\nOne way to select a component is using the numbered position of that component. For example, to grab the first component of shining_list you type\\n\\nshining_list[[1]]\\n\\nA quick way to check this out is typing it in the console. Important to remember: to select elements from vectors, you use single square brackets: [ ]. Don't mix them up!\\n\\nYou can also refer to the names of the components, with [[ ]] or with the $ sign. Both will select the data frame representing the reviews:\\n\\nshining_list[[reviews]]\\nshining_list$reviews\\n\\nBesides selecting components, you often need to select specific elements out of these components. For example, with shining_list[[2]][1] you select from the second component, actors (shining_list[[2]]), the first element ([1]). When you type this in the console, you will see the answer is Jack Nicholson.\\n\""
      ]
     },
     "metadata": {},
     "output_type": "display_data"
    },
    {
     "data": {
      "text/html": [
       "<span style=white-space:pre-wrap>'\\n\\n    Select from shining_list the vector representing the actors. Simply print out this vector.\\n    Select from shining_list the second element in the vector representing the actors. Do a printout like before.\\n\\n'</span>"
      ],
      "text/latex": [
       "'\\textbackslash{}n\\textbackslash{}n    Select from shining\\_list the vector representing the actors. Simply print out this vector.\\textbackslash{}n    Select from shining\\_list the second element in the vector representing the actors. Do a printout like before.\\textbackslash{}n\\textbackslash{}n'"
      ],
      "text/markdown": [
       "<span style=white-space:pre-wrap>'\\n\\n    Select from shining_list the vector representing the actors. Simply print out this vector.\\n    Select from shining_list the second element in the vector representing the actors. Do a printout like before.\\n\\n'</span>"
      ],
      "text/plain": [
       "[1] \"\\n\\n    Select from shining_list the vector representing the actors. Simply print out this vector.\\n    Select from shining_list the second element in the vector representing the actors. Do a printout like before.\\n\\n\""
      ]
     },
     "metadata": {},
     "output_type": "display_data"
    },
    {
     "data": {
      "text/html": [
       "<style>\n",
       ".list-inline {list-style: none; margin:0; padding: 0}\n",
       ".list-inline>li {display: inline-block}\n",
       ".list-inline>li:not(:last-child)::after {content: \"\\00b7\"; padding: 0 .5ex}\n",
       "</style>\n",
       "<ol class=list-inline><li>'Jack Nicholson'</li><li>'Shelley Duvall'</li><li>'Danny Lloyd'</li><li>'Scatman Crothers'</li><li>'Barry Nelson'</li></ol>\n"
      ],
      "text/latex": [
       "\\begin{enumerate*}\n",
       "\\item 'Jack Nicholson'\n",
       "\\item 'Shelley Duvall'\n",
       "\\item 'Danny Lloyd'\n",
       "\\item 'Scatman Crothers'\n",
       "\\item 'Barry Nelson'\n",
       "\\end{enumerate*}\n"
      ],
      "text/markdown": [
       "1. 'Jack Nicholson'\n",
       "2. 'Shelley Duvall'\n",
       "3. 'Danny Lloyd'\n",
       "4. 'Scatman Crothers'\n",
       "5. 'Barry Nelson'\n",
       "\n",
       "\n"
      ],
      "text/plain": [
       "[1] \"Jack Nicholson\"   \"Shelley Duvall\"   \"Danny Lloyd\"      \"Scatman Crothers\"\n",
       "[5] \"Barry Nelson\"    "
      ]
     },
     "metadata": {},
     "output_type": "display_data"
    },
    {
     "data": {
      "text/html": [
       "'Shelley Duvall'"
      ],
      "text/latex": [
       "'Shelley Duvall'"
      ],
      "text/markdown": [
       "'Shelley Duvall'"
      ],
      "text/plain": [
       "[1] \"Shelley Duvall\""
      ]
     },
     "metadata": {},
     "output_type": "display_data"
    },
    {
     "data": {
      "text/html": [
       "'Shelley Duvall'"
      ],
      "text/latex": [
       "'Shelley Duvall'"
      ],
      "text/markdown": [
       "'Shelley Duvall'"
      ],
      "text/plain": [
       "[1] \"Shelley Duvall\""
      ]
     },
     "metadata": {},
     "output_type": "display_data"
    },
    {
     "data": {
      "text/html": [
       "'\\nGreat! Selecting elements from lists is rather easy isn\\'t it? Continue to the next exercise. \\n'"
      ],
      "text/latex": [
       "'\\textbackslash{}nGreat! Selecting elements from lists is rather easy isn\\textbackslash{}'t it? Continue to the next exercise. \\textbackslash{}n'"
      ],
      "text/markdown": [
       "'\\nGreat! Selecting elements from lists is rather easy isn\\'t it? Continue to the next exercise. \\n'"
      ],
      "text/plain": [
       "[1] \"\\nGreat! Selecting elements from lists is rather easy isn't it? Continue to the next exercise. \\n\""
      ]
     },
     "metadata": {},
     "output_type": "display_data"
    }
   ],
   "source": [
    "# exercise 06\n",
    "\n",
    "\"\n",
    "Selecting elements from a list\n",
    "\n",
    "Your list will often be built out of numerous elements and components. Therefore, getting a single element, multiple elements, or a component out of it is not always straightforward.\n",
    "\n",
    "One way to select a component is using the numbered position of that component. For example, to grab the first component of shining_list you type\n",
    "\n",
    "shining_list[[1]]\n",
    "\n",
    "A quick way to check this out is typing it in the console. Important to remember: to select elements from vectors, you use single square brackets: [ ]. Don't mix them up!\n",
    "\n",
    "You can also refer to the names of the components, with [[ ]] or with the $ sign. Both will select the data frame representing the reviews:\n",
    "\n",
    "shining_list[[reviews]]\n",
    "shining_list$reviews\n",
    "\n",
    "Besides selecting components, you often need to select specific elements out of these components. For example, with shining_list[[2]][1] you select from the second component, actors (shining_list[[2]]), the first element ([1]). When you type this in the console, you will see the answer is Jack Nicholson.\n",
    "\"\n",
    "\n",
    "# Instructions\n",
    "\n",
    "\"\n",
    "\n",
    "    Select from shining_list the vector representing the actors. Simply print out this vector.\n",
    "    Select from shining_list the second element in the vector representing the actors. Do a printout like before.\n",
    "\n",
    "\"\n",
    "\n",
    "# solution\n",
    "\n",
    "# shining_list is already pre-loaded in the workspace\n",
    "\n",
    "# Print out the vector representing the actors\n",
    "shining_list[[2]]\n",
    "\n",
    "# Print the second element of the vector representing the actors\n",
    "shining_list[[2]][2]\n",
    "shining_list$actors[2]\n",
    "#----------------------------------#\n",
    "\n",
    "# Conclusion\n",
    "\n",
    "\"\n",
    "Great! Selecting elements from lists is rather easy isn't it? Continue to the next exercise. \n",
    "\""
   ]
  },
  {
   "cell_type": "code",
   "execution_count": 11,
   "metadata": {
    "vscode": {
     "languageId": "r"
    }
   },
   "outputs": [],
   "source": [
    "movie_title <- \"The Departed\"\n",
    "movie_actors <- c(\"Leonardo DiCaprio\", \"Matt Damon\", \"Jack Nicholson\", \"Mark Wahlberg\", \"Vera Farmiga\", \"Martin Sheen\")"
   ]
  },
  {
   "cell_type": "code",
   "execution_count": 12,
   "metadata": {
    "tags": [],
    "vscode": {
     "languageId": "r"
    }
   },
   "outputs": [
    {
     "data": {
      "text/html": [
       "'\\nCreating a new list for another movie\\n\\nYou found reviews of another, more recent, Jack Nicholson movie: The Departed!\\nScores \\tComments\\n4.6 \\tI would watch it again\\n5 \\tAmazing!\\n4.8 \\tI liked it\\n5 \\tOne of the best movies\\n4.2 \\tFascinating plot\\n\\nIt would be useful to collect together all the pieces of information about the movie, like the title, actors, and reviews into a single variable. Since these pieces of data are different shapes, it is natural to combine them in a list variable.\\n\\nmovie_title, containing the title of the movie, and movie_actors, containing the names of some of the actors in the movie, are available in your workspace.\\n'"
      ],
      "text/latex": [
       "'\\textbackslash{}nCreating a new list for another movie\\textbackslash{}n\\textbackslash{}nYou found reviews of another, more recent, Jack Nicholson movie: The Departed!\\textbackslash{}nScores \\textbackslash{}tComments\\textbackslash{}n4.6 \\textbackslash{}tI would watch it again\\textbackslash{}n5 \\textbackslash{}tAmazing!\\textbackslash{}n4.8 \\textbackslash{}tI liked it\\textbackslash{}n5 \\textbackslash{}tOne of the best movies\\textbackslash{}n4.2 \\textbackslash{}tFascinating plot\\textbackslash{}n\\textbackslash{}nIt would be useful to collect together all the pieces of information about the movie, like the title, actors, and reviews into a single variable. Since these pieces of data are different shapes, it is natural to combine them in a list variable.\\textbackslash{}n\\textbackslash{}nmovie\\_title, containing the title of the movie, and movie\\_actors, containing the names of some of the actors in the movie, are available in your workspace.\\textbackslash{}n'"
      ],
      "text/markdown": [
       "'\\nCreating a new list for another movie\\n\\nYou found reviews of another, more recent, Jack Nicholson movie: The Departed!\\nScores \\tComments\\n4.6 \\tI would watch it again\\n5 \\tAmazing!\\n4.8 \\tI liked it\\n5 \\tOne of the best movies\\n4.2 \\tFascinating plot\\n\\nIt would be useful to collect together all the pieces of information about the movie, like the title, actors, and reviews into a single variable. Since these pieces of data are different shapes, it is natural to combine them in a list variable.\\n\\nmovie_title, containing the title of the movie, and movie_actors, containing the names of some of the actors in the movie, are available in your workspace.\\n'"
      ],
      "text/plain": [
       "[1] \"\\nCreating a new list for another movie\\n\\nYou found reviews of another, more recent, Jack Nicholson movie: The Departed!\\nScores \\tComments\\n4.6 \\tI would watch it again\\n5 \\tAmazing!\\n4.8 \\tI liked it\\n5 \\tOne of the best movies\\n4.2 \\tFascinating plot\\n\\nIt would be useful to collect together all the pieces of information about the movie, like the title, actors, and reviews into a single variable. Since these pieces of data are different shapes, it is natural to combine them in a list variable.\\n\\nmovie_title, containing the title of the movie, and movie_actors, containing the names of some of the actors in the movie, are available in your workspace.\\n\""
      ]
     },
     "metadata": {},
     "output_type": "display_data"
    },
    {
     "data": {
      "text/html": [
       "<span style=white-space:pre-wrap>'\\n\\n    Create two vectors, called scores and comments, that contain the information from the reviews shown in the table.\\n    Find the average of the scores vector and save it as avg_review.\\n    Combine the scores and comments vectors into a data frame called reviews_df.\\n    Create a list, called departed_list, that contains the movie_title, movie_actors, reviews data frame as reviews_df, and the average review score as avg_review, and print it out.\\n\\n'</span>"
      ],
      "text/latex": [
       "'\\textbackslash{}n\\textbackslash{}n    Create two vectors, called scores and comments, that contain the information from the reviews shown in the table.\\textbackslash{}n    Find the average of the scores vector and save it as avg\\_review.\\textbackslash{}n    Combine the scores and comments vectors into a data frame called reviews\\_df.\\textbackslash{}n    Create a list, called departed\\_list, that contains the movie\\_title, movie\\_actors, reviews data frame as reviews\\_df, and the average review score as avg\\_review, and print it out.\\textbackslash{}n\\textbackslash{}n'"
      ],
      "text/markdown": [
       "<span style=white-space:pre-wrap>'\\n\\n    Create two vectors, called scores and comments, that contain the information from the reviews shown in the table.\\n    Find the average of the scores vector and save it as avg_review.\\n    Combine the scores and comments vectors into a data frame called reviews_df.\\n    Create a list, called departed_list, that contains the movie_title, movie_actors, reviews data frame as reviews_df, and the average review score as avg_review, and print it out.\\n\\n'</span>"
      ],
      "text/plain": [
       "[1] \"\\n\\n    Create two vectors, called scores and comments, that contain the information from the reviews shown in the table.\\n    Find the average of the scores vector and save it as avg_review.\\n    Combine the scores and comments vectors into a data frame called reviews_df.\\n    Create a list, called departed_list, that contains the movie_title, movie_actors, reviews data frame as reviews_df, and the average review score as avg_review, and print it out.\\n\\n\""
      ]
     },
     "metadata": {},
     "output_type": "display_data"
    },
    {
     "data": {
      "text/html": [
       "<ol>\n",
       "\t<li>'The Departed'</li>\n",
       "\t<li><style>\n",
       ".list-inline {list-style: none; margin:0; padding: 0}\n",
       ".list-inline>li {display: inline-block}\n",
       ".list-inline>li:not(:last-child)::after {content: \"\\00b7\"; padding: 0 .5ex}\n",
       "</style>\n",
       "<ol class=list-inline><li>'Leonardo DiCaprio'</li><li>'Matt Damon'</li><li>'Jack Nicholson'</li><li>'Mark Wahlberg'</li><li>'Vera Farmiga'</li><li>'Martin Sheen'</li></ol>\n",
       "</li>\n",
       "\t<li><table class=\"dataframe\">\n",
       "<caption>A data.frame: 5 × 2</caption>\n",
       "<thead>\n",
       "\t<tr><th scope=col>scores</th><th scope=col>comments</th></tr>\n",
       "\t<tr><th scope=col>&lt;dbl&gt;</th><th scope=col>&lt;chr&gt;</th></tr>\n",
       "</thead>\n",
       "<tbody>\n",
       "\t<tr><td>4.6</td><td>I would watch it again</td></tr>\n",
       "\t<tr><td>5.0</td><td>Amazing!              </td></tr>\n",
       "\t<tr><td>4.8</td><td>I liked it            </td></tr>\n",
       "\t<tr><td>5.0</td><td>One of the best movies</td></tr>\n",
       "\t<tr><td>4.2</td><td>Fascinating plot      </td></tr>\n",
       "</tbody>\n",
       "</table>\n",
       "</li>\n",
       "\t<li>4.72</li>\n",
       "</ol>\n"
      ],
      "text/latex": [
       "\\begin{enumerate}\n",
       "\\item 'The Departed'\n",
       "\\item \\begin{enumerate*}\n",
       "\\item 'Leonardo DiCaprio'\n",
       "\\item 'Matt Damon'\n",
       "\\item 'Jack Nicholson'\n",
       "\\item 'Mark Wahlberg'\n",
       "\\item 'Vera Farmiga'\n",
       "\\item 'Martin Sheen'\n",
       "\\end{enumerate*}\n",
       "\n",
       "\\item A data.frame: 5 × 2\n",
       "\\begin{tabular}{ll}\n",
       " scores & comments\\\\\n",
       " <dbl> & <chr>\\\\\n",
       "\\hline\n",
       "\t 4.6 & I would watch it again\\\\\n",
       "\t 5.0 & Amazing!              \\\\\n",
       "\t 4.8 & I liked it            \\\\\n",
       "\t 5.0 & One of the best movies\\\\\n",
       "\t 4.2 & Fascinating plot      \\\\\n",
       "\\end{tabular}\n",
       "\n",
       "\\item 4.72\n",
       "\\end{enumerate}\n"
      ],
      "text/markdown": [
       "1. 'The Departed'\n",
       "2. 1. 'Leonardo DiCaprio'\n",
       "2. 'Matt Damon'\n",
       "3. 'Jack Nicholson'\n",
       "4. 'Mark Wahlberg'\n",
       "5. 'Vera Farmiga'\n",
       "6. 'Martin Sheen'\n",
       "\n",
       "\n",
       "\n",
       "3. \n",
       "A data.frame: 5 × 2\n",
       "\n",
       "| scores &lt;dbl&gt; | comments &lt;chr&gt; |\n",
       "|---|---|\n",
       "| 4.6 | I would watch it again |\n",
       "| 5.0 | Amazing!               |\n",
       "| 4.8 | I liked it             |\n",
       "| 5.0 | One of the best movies |\n",
       "| 4.2 | Fascinating plot       |\n",
       "\n",
       "\n",
       "4. 4.72\n",
       "\n",
       "\n"
      ],
      "text/plain": [
       "[[1]]\n",
       "[1] \"The Departed\"\n",
       "\n",
       "[[2]]\n",
       "[1] \"Leonardo DiCaprio\" \"Matt Damon\"        \"Jack Nicholson\"   \n",
       "[4] \"Mark Wahlberg\"     \"Vera Farmiga\"      \"Martin Sheen\"     \n",
       "\n",
       "[[3]]\n",
       "  scores               comments\n",
       "1    4.6 I would watch it again\n",
       "2    5.0               Amazing!\n",
       "3    4.8             I liked it\n",
       "4    5.0 One of the best movies\n",
       "5    4.2       Fascinating plot\n",
       "\n",
       "[[4]]\n",
       "[1] 4.72\n"
      ]
     },
     "metadata": {},
     "output_type": "display_data"
    },
    {
     "data": {
      "text/html": [
       "'\\nGood work! You successfully created another list of movie information, and combined different components into a single list. Congratulations on finishing the course! \\n'"
      ],
      "text/latex": [
       "'\\textbackslash{}nGood work! You successfully created another list of movie information, and combined different components into a single list. Congratulations on finishing the course! \\textbackslash{}n'"
      ],
      "text/markdown": [
       "'\\nGood work! You successfully created another list of movie information, and combined different components into a single list. Congratulations on finishing the course! \\n'"
      ],
      "text/plain": [
       "[1] \"\\nGood work! You successfully created another list of movie information, and combined different components into a single list. Congratulations on finishing the course! \\n\""
      ]
     },
     "metadata": {},
     "output_type": "display_data"
    }
   ],
   "source": [
    "# exercise 07\n",
    "\n",
    "\"\n",
    "Creating a new list for another movie\n",
    "\n",
    "You found reviews of another, more recent, Jack Nicholson movie: The Departed!\n",
    "Scores \tComments\n",
    "4.6 \tI would watch it again\n",
    "5 \tAmazing!\n",
    "4.8 \tI liked it\n",
    "5 \tOne of the best movies\n",
    "4.2 \tFascinating plot\n",
    "\n",
    "It would be useful to collect together all the pieces of information about the movie, like the title, actors, and reviews into a single variable. Since these pieces of data are different shapes, it is natural to combine them in a list variable.\n",
    "\n",
    "movie_title, containing the title of the movie, and movie_actors, containing the names of some of the actors in the movie, are available in your workspace.\n",
    "\"\n",
    "\n",
    "# Instructions\n",
    "\n",
    "\"\n",
    "\n",
    "    Create two vectors, called scores and comments, that contain the information from the reviews shown in the table.\n",
    "    Find the average of the scores vector and save it as avg_review.\n",
    "    Combine the scores and comments vectors into a data frame called reviews_df.\n",
    "    Create a list, called departed_list, that contains the movie_title, movie_actors, reviews data frame as reviews_df, and the average review score as avg_review, and print it out.\n",
    "\n",
    "\"\n",
    "\n",
    "# solution\n",
    "\n",
    "# Use the table from the exercise to define the comments and scores vectors\n",
    "scores <- c(4.6, 5, 4.8, 5, 4.2)\n",
    "comments <- c(\"I would watch it again\", \"Amazing!\", \"I liked it\", \"One of the best movies\", \"Fascinating plot\" )\n",
    "\n",
    "# Save the average of the scores vector as avg_review\n",
    "avg_review <- mean(scores)\n",
    "\n",
    "# Combine scores and comments into the reviews_df data frame\n",
    "reviews_df <- data.frame(scores, comments)\n",
    "\n",
    "# Create and print out a list, called departed_list\n",
    "departed_list <- list(movie_title, movie_actors, reviews_df, avg_review)\n",
    "departed_list\n",
    "\n",
    "\n",
    "#----------------------------------#\n",
    "\n",
    "# Conclusion\n",
    "\n",
    "\"\n",
    "Good work! You successfully created another list of movie information, and combined different components into a single list. Congratulations on finishing the course! \n",
    "\""
   ]
  }
 ],
 "metadata": {
  "kernelspec": {
   "display_name": "R",
   "language": "R",
   "name": "ir"
  },
  "language_info": {
   "codemirror_mode": "r",
   "file_extension": ".r",
   "mimetype": "text/x-r-source",
   "name": "R",
   "pygments_lexer": "r",
   "version": "4.3.2"
  }
 },
 "nbformat": 4,
 "nbformat_minor": 4
}
