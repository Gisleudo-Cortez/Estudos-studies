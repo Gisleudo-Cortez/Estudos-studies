{
 "cells": [
  {
   "cell_type": "code",
   "execution_count": 1,
   "metadata": {
    "vscode": {
     "languageId": "r"
    }
   },
   "outputs": [
    {
     "data": {
      "text/html": [
       "'\\n\\n'"
      ],
      "text/latex": [
       "'\\textbackslash{}n\\textbackslash{}n'"
      ],
      "text/markdown": [
       "'\\n\\n'"
      ],
      "text/plain": [
       "[1] \"\\n\\n\""
      ]
     },
     "metadata": {},
     "output_type": "display_data"
    },
    {
     "data": {
      "text/html": [
       "'\\n\\n'"
      ],
      "text/latex": [
       "'\\textbackslash{}n\\textbackslash{}n'"
      ],
      "text/markdown": [
       "'\\n\\n'"
      ],
      "text/plain": [
       "[1] \"\\n\\n\""
      ]
     },
     "metadata": {},
     "output_type": "display_data"
    },
    {
     "data": {
      "text/html": [
       "'\\n\\n'"
      ],
      "text/latex": [
       "'\\textbackslash{}n\\textbackslash{}n'"
      ],
      "text/markdown": [
       "'\\n\\n'"
      ],
      "text/plain": [
       "[1] \"\\n\\n\""
      ]
     },
     "metadata": {},
     "output_type": "display_data"
    }
   ],
   "source": [
    "# exercise 01\n",
    "\n",
    "\"\n",
    "\n",
    "\"\n",
    "\n",
    "# Instructions\n",
    "\n",
    "\"\n",
    "\n",
    "\"\n",
    "\n",
    "# solution\n",
    "\n",
    "\n",
    "\n",
    "#----------------------------------#\n",
    "\n",
    "# Conclusion\n",
    "\n",
    "\"\n",
    "\n",
    "\""
   ]
  },
  {
   "cell_type": "code",
   "execution_count": 2,
   "metadata": {
    "tags": [],
    "vscode": {
     "languageId": "r"
    }
   },
   "outputs": [
    {
     "data": {
      "text/html": [
       "'\\n\\n'"
      ],
      "text/latex": [
       "'\\textbackslash{}n\\textbackslash{}n'"
      ],
      "text/markdown": [
       "'\\n\\n'"
      ],
      "text/plain": [
       "[1] \"\\n\\n\""
      ]
     },
     "metadata": {},
     "output_type": "display_data"
    },
    {
     "data": {
      "text/html": [
       "'\\n\\n'"
      ],
      "text/latex": [
       "'\\textbackslash{}n\\textbackslash{}n'"
      ],
      "text/markdown": [
       "'\\n\\n'"
      ],
      "text/plain": [
       "[1] \"\\n\\n\""
      ]
     },
     "metadata": {},
     "output_type": "display_data"
    },
    {
     "data": {
      "text/html": [
       "'\\n\\n'"
      ],
      "text/latex": [
       "'\\textbackslash{}n\\textbackslash{}n'"
      ],
      "text/markdown": [
       "'\\n\\n'"
      ],
      "text/plain": [
       "[1] \"\\n\\n\""
      ]
     },
     "metadata": {},
     "output_type": "display_data"
    }
   ],
   "source": [
    "# exercise 02\n",
    "\n",
    "\"\n",
    "\n",
    "\"\n",
    "\n",
    "# Instructions\n",
    "\n",
    "\"\n",
    "\n",
    "\"\n",
    "\n",
    "# solution\n",
    "\n",
    "\n",
    "\n",
    "#----------------------------------#\n",
    "\n",
    "# Conclusion\n",
    "\n",
    "\"\n",
    "\n",
    "\""
   ]
  },
  {
   "cell_type": "code",
   "execution_count": 3,
   "metadata": {
    "tags": [],
    "vscode": {
     "languageId": "r"
    }
   },
   "outputs": [
    {
     "data": {
      "text/html": [
       "'\\n\\n'"
      ],
      "text/latex": [
       "'\\textbackslash{}n\\textbackslash{}n'"
      ],
      "text/markdown": [
       "'\\n\\n'"
      ],
      "text/plain": [
       "[1] \"\\n\\n\""
      ]
     },
     "metadata": {},
     "output_type": "display_data"
    },
    {
     "data": {
      "text/html": [
       "'\\n\\n'"
      ],
      "text/latex": [
       "'\\textbackslash{}n\\textbackslash{}n'"
      ],
      "text/markdown": [
       "'\\n\\n'"
      ],
      "text/plain": [
       "[1] \"\\n\\n\""
      ]
     },
     "metadata": {},
     "output_type": "display_data"
    },
    {
     "data": {
      "text/html": [
       "'\\n\\n'"
      ],
      "text/latex": [
       "'\\textbackslash{}n\\textbackslash{}n'"
      ],
      "text/markdown": [
       "'\\n\\n'"
      ],
      "text/plain": [
       "[1] \"\\n\\n\""
      ]
     },
     "metadata": {},
     "output_type": "display_data"
    }
   ],
   "source": [
    "# exercise 03\n",
    "\n",
    "\"\n",
    "\n",
    "\"\n",
    "\n",
    "# Instructions\n",
    "\n",
    "\"\n",
    "\n",
    "\"\n",
    "\n",
    "# solution\n",
    "\n",
    "\n",
    "\n",
    "#----------------------------------#\n",
    "\n",
    "# Conclusion\n",
    "\n",
    "\"\n",
    "\n",
    "\""
   ]
  },
  {
   "cell_type": "code",
   "execution_count": 4,
   "metadata": {
    "tags": [],
    "vscode": {
     "languageId": "r"
    }
   },
   "outputs": [
    {
     "data": {
      "text/html": [
       "'\\n\\n'"
      ],
      "text/latex": [
       "'\\textbackslash{}n\\textbackslash{}n'"
      ],
      "text/markdown": [
       "'\\n\\n'"
      ],
      "text/plain": [
       "[1] \"\\n\\n\""
      ]
     },
     "metadata": {},
     "output_type": "display_data"
    },
    {
     "data": {
      "text/html": [
       "'\\n\\n'"
      ],
      "text/latex": [
       "'\\textbackslash{}n\\textbackslash{}n'"
      ],
      "text/markdown": [
       "'\\n\\n'"
      ],
      "text/plain": [
       "[1] \"\\n\\n\""
      ]
     },
     "metadata": {},
     "output_type": "display_data"
    },
    {
     "data": {
      "text/html": [
       "'\\n\\n'"
      ],
      "text/latex": [
       "'\\textbackslash{}n\\textbackslash{}n'"
      ],
      "text/markdown": [
       "'\\n\\n'"
      ],
      "text/plain": [
       "[1] \"\\n\\n\""
      ]
     },
     "metadata": {},
     "output_type": "display_data"
    }
   ],
   "source": [
    "# exercise 04\n",
    "\n",
    "\"\n",
    "\n",
    "\"\n",
    "\n",
    "# Instructions\n",
    "\n",
    "\"\n",
    "\n",
    "\"\n",
    "\n",
    "# solution\n",
    "\n",
    "\n",
    "\n",
    "#----------------------------------#\n",
    "\n",
    "# Conclusion\n",
    "\n",
    "\"\n",
    "\n",
    "\""
   ]
  },
  {
   "cell_type": "code",
   "execution_count": 5,
   "metadata": {
    "tags": [],
    "vscode": {
     "languageId": "r"
    }
   },
   "outputs": [
    {
     "data": {
      "text/html": [
       "'\\n\\n'"
      ],
      "text/latex": [
       "'\\textbackslash{}n\\textbackslash{}n'"
      ],
      "text/markdown": [
       "'\\n\\n'"
      ],
      "text/plain": [
       "[1] \"\\n\\n\""
      ]
     },
     "metadata": {},
     "output_type": "display_data"
    },
    {
     "data": {
      "text/html": [
       "'\\n\\n'"
      ],
      "text/latex": [
       "'\\textbackslash{}n\\textbackslash{}n'"
      ],
      "text/markdown": [
       "'\\n\\n'"
      ],
      "text/plain": [
       "[1] \"\\n\\n\""
      ]
     },
     "metadata": {},
     "output_type": "display_data"
    },
    {
     "data": {
      "text/html": [
       "'\\n\\n'"
      ],
      "text/latex": [
       "'\\textbackslash{}n\\textbackslash{}n'"
      ],
      "text/markdown": [
       "'\\n\\n'"
      ],
      "text/plain": [
       "[1] \"\\n\\n\""
      ]
     },
     "metadata": {},
     "output_type": "display_data"
    }
   ],
   "source": [
    "# exercise 05\n",
    "\n",
    "\"\n",
    "\n",
    "\"\n",
    "\n",
    "# Instructions\n",
    "\n",
    "\"\n",
    "\n",
    "\"\n",
    "\n",
    "# solution\n",
    "\n",
    "\n",
    "\n",
    "#----------------------------------#\n",
    "\n",
    "# Conclusion\n",
    "\n",
    "\"\n",
    "\n",
    "\""
   ]
  },
  {
   "cell_type": "code",
   "execution_count": 6,
   "metadata": {
    "tags": [],
    "vscode": {
     "languageId": "r"
    }
   },
   "outputs": [
    {
     "data": {
      "text/html": [
       "'\\n\\n'"
      ],
      "text/latex": [
       "'\\textbackslash{}n\\textbackslash{}n'"
      ],
      "text/markdown": [
       "'\\n\\n'"
      ],
      "text/plain": [
       "[1] \"\\n\\n\""
      ]
     },
     "metadata": {},
     "output_type": "display_data"
    },
    {
     "data": {
      "text/html": [
       "'\\n\\n'"
      ],
      "text/latex": [
       "'\\textbackslash{}n\\textbackslash{}n'"
      ],
      "text/markdown": [
       "'\\n\\n'"
      ],
      "text/plain": [
       "[1] \"\\n\\n\""
      ]
     },
     "metadata": {},
     "output_type": "display_data"
    },
    {
     "data": {
      "text/html": [
       "'\\n\\n'"
      ],
      "text/latex": [
       "'\\textbackslash{}n\\textbackslash{}n'"
      ],
      "text/markdown": [
       "'\\n\\n'"
      ],
      "text/plain": [
       "[1] \"\\n\\n\""
      ]
     },
     "metadata": {},
     "output_type": "display_data"
    }
   ],
   "source": [
    "# exercise 06\n",
    "\n",
    "\"\n",
    "\n",
    "\"\n",
    "\n",
    "# Instructions\n",
    "\n",
    "\"\n",
    "\n",
    "\"\n",
    "\n",
    "# solution\n",
    "\n",
    "\n",
    "\n",
    "#----------------------------------#\n",
    "\n",
    "# Conclusion\n",
    "\n",
    "\"\n",
    "\n",
    "\""
   ]
  },
  {
   "cell_type": "code",
   "execution_count": 7,
   "metadata": {
    "tags": [],
    "vscode": {
     "languageId": "r"
    }
   },
   "outputs": [
    {
     "data": {
      "text/html": [
       "'\\n\\n'"
      ],
      "text/latex": [
       "'\\textbackslash{}n\\textbackslash{}n'"
      ],
      "text/markdown": [
       "'\\n\\n'"
      ],
      "text/plain": [
       "[1] \"\\n\\n\""
      ]
     },
     "metadata": {},
     "output_type": "display_data"
    },
    {
     "data": {
      "text/html": [
       "'\\n\\n'"
      ],
      "text/latex": [
       "'\\textbackslash{}n\\textbackslash{}n'"
      ],
      "text/markdown": [
       "'\\n\\n'"
      ],
      "text/plain": [
       "[1] \"\\n\\n\""
      ]
     },
     "metadata": {},
     "output_type": "display_data"
    },
    {
     "data": {
      "text/html": [
       "'\\n\\n'"
      ],
      "text/latex": [
       "'\\textbackslash{}n\\textbackslash{}n'"
      ],
      "text/markdown": [
       "'\\n\\n'"
      ],
      "text/plain": [
       "[1] \"\\n\\n\""
      ]
     },
     "metadata": {},
     "output_type": "display_data"
    }
   ],
   "source": [
    "# exercise 07\n",
    "\n",
    "\"\n",
    "\n",
    "\"\n",
    "\n",
    "# Instructions\n",
    "\n",
    "\"\n",
    "\n",
    "\"\n",
    "\n",
    "# solution\n",
    "\n",
    "\n",
    "\n",
    "#----------------------------------#\n",
    "\n",
    "# Conclusion\n",
    "\n",
    "\"\n",
    "\n",
    "\""
   ]
  },
  {
   "cell_type": "code",
   "execution_count": 8,
   "metadata": {
    "tags": [],
    "vscode": {
     "languageId": "r"
    }
   },
   "outputs": [
    {
     "data": {
      "text/html": [
       "'\\n\\n'"
      ],
      "text/latex": [
       "'\\textbackslash{}n\\textbackslash{}n'"
      ],
      "text/markdown": [
       "'\\n\\n'"
      ],
      "text/plain": [
       "[1] \"\\n\\n\""
      ]
     },
     "metadata": {},
     "output_type": "display_data"
    },
    {
     "data": {
      "text/html": [
       "'\\n\\n'"
      ],
      "text/latex": [
       "'\\textbackslash{}n\\textbackslash{}n'"
      ],
      "text/markdown": [
       "'\\n\\n'"
      ],
      "text/plain": [
       "[1] \"\\n\\n\""
      ]
     },
     "metadata": {},
     "output_type": "display_data"
    },
    {
     "data": {
      "text/html": [
       "'\\n\\n'"
      ],
      "text/latex": [
       "'\\textbackslash{}n\\textbackslash{}n'"
      ],
      "text/markdown": [
       "'\\n\\n'"
      ],
      "text/plain": [
       "[1] \"\\n\\n\""
      ]
     },
     "metadata": {},
     "output_type": "display_data"
    }
   ],
   "source": [
    "# exercise 08\n",
    "\n",
    "\"\n",
    "\n",
    "\"\n",
    "\n",
    "# Instructions\n",
    "\n",
    "\"\n",
    "\n",
    "\"\n",
    "\n",
    "# solution\n",
    "\n",
    "\n",
    "\n",
    "#----------------------------------#\n",
    "\n",
    "# Conclusion\n",
    "\n",
    "\"\n",
    "\n",
    "\""
   ]
  },
  {
   "cell_type": "code",
   "execution_count": 9,
   "metadata": {
    "tags": [],
    "vscode": {
     "languageId": "r"
    }
   },
   "outputs": [
    {
     "data": {
      "text/html": [
       "'\\n\\n'"
      ],
      "text/latex": [
       "'\\textbackslash{}n\\textbackslash{}n'"
      ],
      "text/markdown": [
       "'\\n\\n'"
      ],
      "text/plain": [
       "[1] \"\\n\\n\""
      ]
     },
     "metadata": {},
     "output_type": "display_data"
    },
    {
     "data": {
      "text/html": [
       "'\\n\\n'"
      ],
      "text/latex": [
       "'\\textbackslash{}n\\textbackslash{}n'"
      ],
      "text/markdown": [
       "'\\n\\n'"
      ],
      "text/plain": [
       "[1] \"\\n\\n\""
      ]
     },
     "metadata": {},
     "output_type": "display_data"
    },
    {
     "data": {
      "text/html": [
       "'\\n\\n'"
      ],
      "text/latex": [
       "'\\textbackslash{}n\\textbackslash{}n'"
      ],
      "text/markdown": [
       "'\\n\\n'"
      ],
      "text/plain": [
       "[1] \"\\n\\n\""
      ]
     },
     "metadata": {},
     "output_type": "display_data"
    }
   ],
   "source": [
    "# exercise 09\n",
    "\n",
    "\"\n",
    "\n",
    "\"\n",
    "\n",
    "# Instructions\n",
    "\n",
    "\"\n",
    "\n",
    "\"\n",
    "\n",
    "# solution\n",
    "\n",
    "\n",
    "\n",
    "#----------------------------------#\n",
    "\n",
    "# Conclusion\n",
    "\n",
    "\"\n",
    "\n",
    "\""
   ]
  },
  {
   "cell_type": "code",
   "execution_count": 10,
   "metadata": {
    "tags": [],
    "vscode": {
     "languageId": "r"
    }
   },
   "outputs": [
    {
     "data": {
      "text/html": [
       "'\\n\\n'"
      ],
      "text/latex": [
       "'\\textbackslash{}n\\textbackslash{}n'"
      ],
      "text/markdown": [
       "'\\n\\n'"
      ],
      "text/plain": [
       "[1] \"\\n\\n\""
      ]
     },
     "metadata": {},
     "output_type": "display_data"
    },
    {
     "data": {
      "text/html": [
       "'\\n\\n'"
      ],
      "text/latex": [
       "'\\textbackslash{}n\\textbackslash{}n'"
      ],
      "text/markdown": [
       "'\\n\\n'"
      ],
      "text/plain": [
       "[1] \"\\n\\n\""
      ]
     },
     "metadata": {},
     "output_type": "display_data"
    },
    {
     "data": {
      "text/html": [
       "'\\n\\n'"
      ],
      "text/latex": [
       "'\\textbackslash{}n\\textbackslash{}n'"
      ],
      "text/markdown": [
       "'\\n\\n'"
      ],
      "text/plain": [
       "[1] \"\\n\\n\""
      ]
     },
     "metadata": {},
     "output_type": "display_data"
    }
   ],
   "source": [
    "# exercise 10\n",
    "\n",
    "\"\n",
    "\n",
    "\"\n",
    "\n",
    "# Instructions\n",
    "\n",
    "\"\n",
    "\n",
    "\"\n",
    "\n",
    "# solution\n",
    "\n",
    "\n",
    "\n",
    "#----------------------------------#\n",
    "\n",
    "# Conclusion\n",
    "\n",
    "\"\n",
    "\n",
    "\""
   ]
  },
  {
   "cell_type": "code",
   "execution_count": 11,
   "metadata": {
    "vscode": {
     "languageId": "r"
    }
   },
   "outputs": [
    {
     "data": {
      "text/html": [
       "'\\n\\n'"
      ],
      "text/latex": [
       "'\\textbackslash{}n\\textbackslash{}n'"
      ],
      "text/markdown": [
       "'\\n\\n'"
      ],
      "text/plain": [
       "[1] \"\\n\\n\""
      ]
     },
     "metadata": {},
     "output_type": "display_data"
    },
    {
     "data": {
      "text/html": [
       "'\\n\\n'"
      ],
      "text/latex": [
       "'\\textbackslash{}n\\textbackslash{}n'"
      ],
      "text/markdown": [
       "'\\n\\n'"
      ],
      "text/plain": [
       "[1] \"\\n\\n\""
      ]
     },
     "metadata": {},
     "output_type": "display_data"
    },
    {
     "data": {
      "text/html": [
       "'\\n\\n'"
      ],
      "text/latex": [
       "'\\textbackslash{}n\\textbackslash{}n'"
      ],
      "text/markdown": [
       "'\\n\\n'"
      ],
      "text/plain": [
       "[1] \"\\n\\n\""
      ]
     },
     "metadata": {},
     "output_type": "display_data"
    }
   ],
   "source": [
    "# exercise 11\n",
    "\n",
    "\"\n",
    "\n",
    "\"\n",
    "\n",
    "# Instructions\n",
    "\n",
    "\"\n",
    "\n",
    "\"\n",
    "\n",
    "# solution\n",
    "\n",
    "\n",
    "\n",
    "#----------------------------------#\n",
    "\n",
    "# Conclusion\n",
    "\n",
    "\"\n",
    "\n",
    "\""
   ]
  }
 ],
 "metadata": {
  "kernelspec": {
   "display_name": "R",
   "language": "R",
   "name": "ir"
  },
  "language_info": {
   "codemirror_mode": "r",
   "file_extension": ".r",
   "mimetype": "text/x-r-source",
   "name": "R",
   "pygments_lexer": "r",
   "version": "4.3.2"
  }
 },
 "nbformat": 4,
 "nbformat_minor": 4
}
